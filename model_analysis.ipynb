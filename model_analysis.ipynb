{
 "cells": [
  {
   "cell_type": "code",
   "execution_count": 312,
   "id": "artistic-bargain",
   "metadata": {},
   "outputs": [
    {
     "name": "stdout",
     "output_type": "stream",
     "text": [
      "Importing argparse\n",
      "Importing keras model (from json)\n",
      "Importing numpy\n",
      "-- [INFO] -- \u001b[0;38;5;163m/eos/user/s/srosenzw/miniconda3/envs/work/lib/python3.8/runpy.py\u001b[0;38;5;30m -- Parsing command line arguments.\n"
     ]
    }
   ],
   "source": [
    "%run model_analysis.py"
   ]
  },
  {
   "cell_type": "code",
   "execution_count": 313,
   "id": "cordless-farming",
   "metadata": {},
   "outputs": [],
   "source": [
    "from pandas import DataFrame"
   ]
  },
  {
   "cell_type": "code",
   "execution_count": 314,
   "id": "later-strength",
   "metadata": {},
   "outputs": [],
   "source": [
    "from consistent_plots import hist\n",
    "import matplotlib.pyplot as plt"
   ]
  },
  {
   "cell_type": "code",
   "execution_count": 315,
   "id": "simple-stamp",
   "metadata": {},
   "outputs": [],
   "source": [
    "nevents = len(np.concatenate((f['test'], f['train'], f['val'])))\n",
    "ntest = len(f['test'])"
   ]
  },
  {
   "cell_type": "code",
   "execution_count": 316,
   "id": "harmful-publisher",
   "metadata": {},
   "outputs": [],
   "source": [
    "evt_label = np.repeat(np.arange(0,ntest),15)\n",
    "data = np.hstack((f['X_test'], f['y_test'][:,np.newaxis], scores[:,1][:,np.newaxis]))\n",
    "cols = ['b1 pt', 'b1 eta', 'b1 phi', 'b2 pt', 'b2 eta', 'b2 phi', 'Delta R', 'target', 'score']"
   ]
  },
  {
   "cell_type": "code",
   "execution_count": 317,
   "id": "unusual-recovery",
   "metadata": {},
   "outputs": [],
   "source": [
    "data_dict = {}\n",
    "for i in range(data.shape[1]):\n",
    "    data_dict[cols[i]] = data[:,i]\n",
    "data_dict['label'] = f['test_pair_label']\n",
    "data_dict['event'] = evt_label"
   ]
  },
  {
   "cell_type": "code",
   "execution_count": 318,
   "id": "bearing-audio",
   "metadata": {},
   "outputs": [
    {
     "data": {
      "text/html": [
       "<div>\n",
       "<style scoped>\n",
       "    .dataframe tbody tr th:only-of-type {\n",
       "        vertical-align: middle;\n",
       "    }\n",
       "\n",
       "    .dataframe tbody tr th {\n",
       "        vertical-align: top;\n",
       "    }\n",
       "\n",
       "    .dataframe thead th {\n",
       "        text-align: right;\n",
       "    }\n",
       "</style>\n",
       "<table border=\"1\" class=\"dataframe\">\n",
       "  <thead>\n",
       "    <tr style=\"text-align: right;\">\n",
       "      <th></th>\n",
       "      <th>b1 pt</th>\n",
       "      <th>b1 eta</th>\n",
       "      <th>b1 phi</th>\n",
       "      <th>b2 pt</th>\n",
       "      <th>b2 eta</th>\n",
       "      <th>b2 phi</th>\n",
       "      <th>Delta R</th>\n",
       "      <th>target</th>\n",
       "      <th>score</th>\n",
       "      <th>label</th>\n",
       "      <th>event</th>\n",
       "    </tr>\n",
       "  </thead>\n",
       "  <tbody>\n",
       "    <tr>\n",
       "      <th>0</th>\n",
       "      <td>139.3750</td>\n",
       "      <td>-0.169098</td>\n",
       "      <td>0.863037</td>\n",
       "      <td>71.1250</td>\n",
       "      <td>0.633789</td>\n",
       "      <td>1.867676</td>\n",
       "      <td>1.286051</td>\n",
       "      <td>1.0</td>\n",
       "      <td>0.986</td>\n",
       "      <td>HX</td>\n",
       "      <td>0</td>\n",
       "    </tr>\n",
       "    <tr>\n",
       "      <th>1</th>\n",
       "      <td>90.1875</td>\n",
       "      <td>1.835449</td>\n",
       "      <td>-1.035645</td>\n",
       "      <td>39.4375</td>\n",
       "      <td>0.373291</td>\n",
       "      <td>-1.527344</td>\n",
       "      <td>1.542619</td>\n",
       "      <td>1.0</td>\n",
       "      <td>0.933</td>\n",
       "      <td>HY1</td>\n",
       "      <td>0</td>\n",
       "    </tr>\n",
       "    <tr>\n",
       "      <th>2</th>\n",
       "      <td>110.0000</td>\n",
       "      <td>-0.409363</td>\n",
       "      <td>-1.858887</td>\n",
       "      <td>79.2500</td>\n",
       "      <td>0.166534</td>\n",
       "      <td>3.075684</td>\n",
       "      <td>1.466431</td>\n",
       "      <td>1.0</td>\n",
       "      <td>0.954</td>\n",
       "      <td>HY2</td>\n",
       "      <td>0</td>\n",
       "    </tr>\n",
       "    <tr>\n",
       "      <th>3</th>\n",
       "      <td>139.3750</td>\n",
       "      <td>-0.169098</td>\n",
       "      <td>0.863037</td>\n",
       "      <td>90.1875</td>\n",
       "      <td>1.835449</td>\n",
       "      <td>-1.035645</td>\n",
       "      <td>2.761014</td>\n",
       "      <td>0.0</td>\n",
       "      <td>0.001</td>\n",
       "      <td>X b1, Y1 b1</td>\n",
       "      <td>0</td>\n",
       "    </tr>\n",
       "    <tr>\n",
       "      <th>4</th>\n",
       "      <td>139.3750</td>\n",
       "      <td>-0.169098</td>\n",
       "      <td>0.863037</td>\n",
       "      <td>39.4375</td>\n",
       "      <td>0.373291</td>\n",
       "      <td>-1.527344</td>\n",
       "      <td>2.451144</td>\n",
       "      <td>0.0</td>\n",
       "      <td>0.778</td>\n",
       "      <td>X b1, Y1 b2</td>\n",
       "      <td>0</td>\n",
       "    </tr>\n",
       "  </tbody>\n",
       "</table>\n",
       "</div>"
      ],
      "text/plain": [
       "      b1 pt    b1 eta    b1 phi    b2 pt    b2 eta    b2 phi   Delta R  \\\n",
       "0  139.3750 -0.169098  0.863037  71.1250  0.633789  1.867676  1.286051   \n",
       "1   90.1875  1.835449 -1.035645  39.4375  0.373291 -1.527344  1.542619   \n",
       "2  110.0000 -0.409363 -1.858887  79.2500  0.166534  3.075684  1.466431   \n",
       "3  139.3750 -0.169098  0.863037  90.1875  1.835449 -1.035645  2.761014   \n",
       "4  139.3750 -0.169098  0.863037  39.4375  0.373291 -1.527344  2.451144   \n",
       "\n",
       "   target  score        label  event  \n",
       "0     1.0  0.986           HX      0  \n",
       "1     1.0  0.933          HY1      0  \n",
       "2     1.0  0.954          HY2      0  \n",
       "3     0.0  0.001  X b1, Y1 b1      0  \n",
       "4     0.0  0.778  X b1, Y1 b2      0  "
      ]
     },
     "execution_count": 318,
     "metadata": {},
     "output_type": "execute_result"
    }
   ],
   "source": [
    "test_df = DataFrame(data_dict)\n",
    "test_df.head()"
   ]
  },
  {
   "cell_type": "code",
   "execution_count": 321,
   "id": "coral-school",
   "metadata": {},
   "outputs": [
    {
     "data": {
      "text/html": [
       "<div>\n",
       "<style scoped>\n",
       "    .dataframe tbody tr th:only-of-type {\n",
       "        vertical-align: middle;\n",
       "    }\n",
       "\n",
       "    .dataframe tbody tr th {\n",
       "        vertical-align: top;\n",
       "    }\n",
       "\n",
       "    .dataframe thead th {\n",
       "        text-align: right;\n",
       "    }\n",
       "</style>\n",
       "<table border=\"1\" class=\"dataframe\">\n",
       "  <thead>\n",
       "    <tr style=\"text-align: right;\">\n",
       "      <th></th>\n",
       "      <th>b1 pt</th>\n",
       "      <th>b1 eta</th>\n",
       "      <th>b1 phi</th>\n",
       "      <th>b2 pt</th>\n",
       "      <th>b2 eta</th>\n",
       "      <th>b2 phi</th>\n",
       "      <th>Delta R</th>\n",
       "      <th>target</th>\n",
       "      <th>score</th>\n",
       "      <th>label</th>\n",
       "      <th>event</th>\n",
       "    </tr>\n",
       "  </thead>\n",
       "  <tbody>\n",
       "    <tr>\n",
       "      <th>0</th>\n",
       "      <td>NaN</td>\n",
       "      <td>NaN</td>\n",
       "      <td>NaN</td>\n",
       "      <td>NaN</td>\n",
       "      <td>NaN</td>\n",
       "      <td>NaN</td>\n",
       "      <td>NaN</td>\n",
       "      <td>NaN</td>\n",
       "      <td>NaN</td>\n",
       "      <td>NaN</td>\n",
       "      <td>NaN</td>\n",
       "    </tr>\n",
       "    <tr>\n",
       "      <th>1</th>\n",
       "      <td>NaN</td>\n",
       "      <td>NaN</td>\n",
       "      <td>NaN</td>\n",
       "      <td>NaN</td>\n",
       "      <td>NaN</td>\n",
       "      <td>NaN</td>\n",
       "      <td>NaN</td>\n",
       "      <td>NaN</td>\n",
       "      <td>NaN</td>\n",
       "      <td>NaN</td>\n",
       "      <td>NaN</td>\n",
       "    </tr>\n",
       "    <tr>\n",
       "      <th>2</th>\n",
       "      <td>NaN</td>\n",
       "      <td>NaN</td>\n",
       "      <td>NaN</td>\n",
       "      <td>NaN</td>\n",
       "      <td>NaN</td>\n",
       "      <td>NaN</td>\n",
       "      <td>NaN</td>\n",
       "      <td>NaN</td>\n",
       "      <td>NaN</td>\n",
       "      <td>NaN</td>\n",
       "      <td>NaN</td>\n",
       "    </tr>\n",
       "    <tr>\n",
       "      <th>3</th>\n",
       "      <td>NaN</td>\n",
       "      <td>NaN</td>\n",
       "      <td>NaN</td>\n",
       "      <td>NaN</td>\n",
       "      <td>NaN</td>\n",
       "      <td>NaN</td>\n",
       "      <td>NaN</td>\n",
       "      <td>NaN</td>\n",
       "      <td>NaN</td>\n",
       "      <td>NaN</td>\n",
       "      <td>NaN</td>\n",
       "    </tr>\n",
       "    <tr>\n",
       "      <th>4</th>\n",
       "      <td>NaN</td>\n",
       "      <td>NaN</td>\n",
       "      <td>NaN</td>\n",
       "      <td>NaN</td>\n",
       "      <td>NaN</td>\n",
       "      <td>NaN</td>\n",
       "      <td>NaN</td>\n",
       "      <td>NaN</td>\n",
       "      <td>NaN</td>\n",
       "      <td>NaN</td>\n",
       "      <td>NaN</td>\n",
       "    </tr>\n",
       "    <tr>\n",
       "      <th>...</th>\n",
       "      <td>...</td>\n",
       "      <td>...</td>\n",
       "      <td>...</td>\n",
       "      <td>...</td>\n",
       "      <td>...</td>\n",
       "      <td>...</td>\n",
       "      <td>...</td>\n",
       "      <td>...</td>\n",
       "      <td>...</td>\n",
       "      <td>...</td>\n",
       "      <td>...</td>\n",
       "    </tr>\n",
       "    <tr>\n",
       "      <th>75580</th>\n",
       "      <td>NaN</td>\n",
       "      <td>NaN</td>\n",
       "      <td>NaN</td>\n",
       "      <td>NaN</td>\n",
       "      <td>NaN</td>\n",
       "      <td>NaN</td>\n",
       "      <td>NaN</td>\n",
       "      <td>NaN</td>\n",
       "      <td>NaN</td>\n",
       "      <td>NaN</td>\n",
       "      <td>NaN</td>\n",
       "    </tr>\n",
       "    <tr>\n",
       "      <th>75581</th>\n",
       "      <td>44.0</td>\n",
       "      <td>-2.124512</td>\n",
       "      <td>1.889893</td>\n",
       "      <td>120.3125</td>\n",
       "      <td>-0.005495</td>\n",
       "      <td>1.334473</td>\n",
       "      <td>2.190599</td>\n",
       "      <td>0.0</td>\n",
       "      <td>0.0</td>\n",
       "      <td>Y1 b1, Y2 b1</td>\n",
       "      <td>5038.0</td>\n",
       "    </tr>\n",
       "    <tr>\n",
       "      <th>75582</th>\n",
       "      <td>NaN</td>\n",
       "      <td>NaN</td>\n",
       "      <td>NaN</td>\n",
       "      <td>NaN</td>\n",
       "      <td>NaN</td>\n",
       "      <td>NaN</td>\n",
       "      <td>NaN</td>\n",
       "      <td>NaN</td>\n",
       "      <td>NaN</td>\n",
       "      <td>NaN</td>\n",
       "      <td>NaN</td>\n",
       "    </tr>\n",
       "    <tr>\n",
       "      <th>75583</th>\n",
       "      <td>NaN</td>\n",
       "      <td>NaN</td>\n",
       "      <td>NaN</td>\n",
       "      <td>NaN</td>\n",
       "      <td>NaN</td>\n",
       "      <td>NaN</td>\n",
       "      <td>NaN</td>\n",
       "      <td>NaN</td>\n",
       "      <td>NaN</td>\n",
       "      <td>NaN</td>\n",
       "      <td>NaN</td>\n",
       "    </tr>\n",
       "    <tr>\n",
       "      <th>75584</th>\n",
       "      <td>NaN</td>\n",
       "      <td>NaN</td>\n",
       "      <td>NaN</td>\n",
       "      <td>NaN</td>\n",
       "      <td>NaN</td>\n",
       "      <td>NaN</td>\n",
       "      <td>NaN</td>\n",
       "      <td>NaN</td>\n",
       "      <td>NaN</td>\n",
       "      <td>NaN</td>\n",
       "      <td>NaN</td>\n",
       "    </tr>\n",
       "  </tbody>\n",
       "</table>\n",
       "<p>75585 rows × 11 columns</p>\n",
       "</div>"
      ],
      "text/plain": [
       "       b1 pt    b1 eta    b1 phi     b2 pt    b2 eta    b2 phi   Delta R  \\\n",
       "0        NaN       NaN       NaN       NaN       NaN       NaN       NaN   \n",
       "1        NaN       NaN       NaN       NaN       NaN       NaN       NaN   \n",
       "2        NaN       NaN       NaN       NaN       NaN       NaN       NaN   \n",
       "3        NaN       NaN       NaN       NaN       NaN       NaN       NaN   \n",
       "4        NaN       NaN       NaN       NaN       NaN       NaN       NaN   \n",
       "...      ...       ...       ...       ...       ...       ...       ...   \n",
       "75580    NaN       NaN       NaN       NaN       NaN       NaN       NaN   \n",
       "75581   44.0 -2.124512  1.889893  120.3125 -0.005495  1.334473  2.190599   \n",
       "75582    NaN       NaN       NaN       NaN       NaN       NaN       NaN   \n",
       "75583    NaN       NaN       NaN       NaN       NaN       NaN       NaN   \n",
       "75584    NaN       NaN       NaN       NaN       NaN       NaN       NaN   \n",
       "\n",
       "       target  score         label   event  \n",
       "0         NaN    NaN           NaN     NaN  \n",
       "1         NaN    NaN           NaN     NaN  \n",
       "2         NaN    NaN           NaN     NaN  \n",
       "3         NaN    NaN           NaN     NaN  \n",
       "4         NaN    NaN           NaN     NaN  \n",
       "...       ...    ...           ...     ...  \n",
       "75580     NaN    NaN           NaN     NaN  \n",
       "75581     0.0    0.0  Y1 b1, Y2 b1  5038.0  \n",
       "75582     NaN    NaN           NaN     NaN  \n",
       "75583     NaN    NaN           NaN     NaN  \n",
       "75584     NaN    NaN           NaN     NaN  \n",
       "\n",
       "[75585 rows x 11 columns]"
      ]
     },
     "execution_count": 321,
     "metadata": {},
     "output_type": "execute_result"
    }
   ],
   "source": [
    "test_df.where(test_df['score'] == 0)"
   ]
  },
  {
   "cell_type": "code",
   "execution_count": 319,
   "id": "joint-involvement",
   "metadata": {},
   "outputs": [],
   "source": [
    "sorted_pairs = np.argsort(events[0])[::-1]\n",
    "sorted_scores = np.sort(events[0])[::-1]\n",
    "\n",
    "for i,evt_scores in enumerate(events):\n",
    "    if i == 0: continue\n",
    "    sp = np.argsort(evt_scores)[::-1]\n",
    "    sorted_pairs = np.vstack((sorted_pairs, sp))\n",
    "    sorted_scores = np.vstack((sorted_scores, np.sort(evt_scores)[::-1]))"
   ]
  },
  {
   "cell_type": "code",
   "execution_count": 320,
   "id": "enabling-victim",
   "metadata": {},
   "outputs": [],
   "source": [
    "pair_names = ['HX',\n",
    " 'HY1',\n",
    " 'HY2',\n",
    " 'X b1, Y1 b1',\n",
    " 'X b1, Y1 b2',\n",
    " 'X b1, Y2 b1',\n",
    " 'X b1, Y2 b2',\n",
    " 'X b2, Y1 b1',\n",
    " 'X b2, Y1 b2',\n",
    " 'X b2, Y2 b1',\n",
    " 'X b2, Y2 b2',\n",
    " 'Y1 b1, Y2 b1',\n",
    " 'Y1 b1, Y2 b2',\n",
    " 'Y1 b2, Y2 b1',\n",
    " 'Y1 b2, Y2 b2']"
   ]
  },
  {
   "cell_type": "code",
   "execution_count": 265,
   "id": "accredited-commander",
   "metadata": {},
   "outputs": [],
   "source": [
    "from matplotlib.ticker import MultipleLocator, FixedLocator\n",
    "from PIL import Image\n",
    "from matplotlib.offsetbox import OffsetImage, AnnotationBbox"
   ]
  },
  {
   "cell_type": "code",
   "execution_count": 311,
   "id": "white-planning",
   "metadata": {},
   "outputs": [
    {
     "data": {
      "image/png": "[encoded data removed]",
      "text/plain": [
       "<Figure size 1080x432 with 1 Axes>"
      ]
     },
     "metadata": {
      "needs_background": "light"
     },
     "output_type": "display_data"
    }
   ],
   "source": [
    "fig, ax = plt.subplots(figsize=(15,6))\n",
    "fig.subplots_adjust(right=0.5)\n",
    "n, bins, _ = plt.hist([sorted_pairs[:,i] for i in range(3)], stacked=True, bins=np.arange(16), rwidth=0.4, align='left')\n",
    "ax.xaxis.set_major_locator(FixedLocator(np.arange(15)))\n",
    "ax.set_xticklabels(pair_names, rotation=45, ha='right')\n",
    "image = Image.open('CascadeDecay.png')\n",
    "im = OffsetImage(image, zoom=0.40)\n",
    "ab = AnnotationBbox(im, (1.6,0.5), xycoords=ax.transAxes, boxcoords=\"offset points\",  pad=0.3,  arrowprops=dict(arrowstyle=\"->\"))\n",
    "ax.add_artist(ab)\n",
    "plt.show()"
   ]
  },
  {
   "cell_type": "code",
   "execution_count": 85,
   "id": "delayed-wedding",
   "metadata": {},
   "outputs": [],
   "source": [
    "pair_breakdown = [sorted_pairs[:,i]]"
   ]
  },
  {
   "cell_type": "code",
   "execution_count": 100,
   "id": "neural-aquarium",
   "metadata": {},
   "outputs": [
    {
     "data": {
      "text/plain": [
       "[1241, 1551, 610, 67, 124, 224, 326, 20, 52, 51, 95, 128, 369, 61, 120]"
      ]
     },
     "execution_count": 100,
     "metadata": {},
     "output_type": "execute_result"
    }
   ],
   "source": [
    "max_pair = [np.sum(pair_breakdown[0] == i) for i in range(15)]\n",
    "max_pair"
   ]
  },
  {
   "cell_type": "code",
   "execution_count": 103,
   "id": "sharing-senior",
   "metadata": {},
   "outputs": [],
   "source": [
    "not_HX = pair_breakdown[0] != 0\n",
    "not_HY1 = pair_breakdown[0] != 1\n",
    "not_HY2 = pair_breakdown[0] != 2\n",
    "\n",
    "non_Higgs_max = not_HX & not_HY1 & not_HY2"
   ]
  },
  {
   "cell_type": "code",
   "execution_count": 132,
   "id": "incident-respondent",
   "metadata": {},
   "outputs": [
    {
     "data": {
      "text/plain": [
       "array(['Higgs', 'Higgs', 'Higgs', ..., 'Non-Higgs', 'Non-Higgs',\n",
       "       'Non-Higgs'], dtype='<U32')"
      ]
     },
     "execution_count": 132,
     "metadata": {},
     "output_type": "execute_result"
    }
   ],
   "source": [
    "f['test_label'][np.repeat(non_Higgs_max,15)]"
   ]
  },
  {
   "cell_type": "code",
   "execution_count": 118,
   "id": "expected-stewart",
   "metadata": {},
   "outputs": [],
   "source": [
    "test_evts_nHmax = f['test']"
   ]
  },
  {
   "cell_type": "code",
   "execution_count": 115,
   "id": "developmental-kansas",
   "metadata": {},
   "outputs": [
    {
     "data": {
      "text/plain": [
       "(5039,)"
      ]
     },
     "execution_count": 115,
     "metadata": {},
     "output_type": "execute_result"
    }
   ],
   "source": [
    "f['test'].shape"
   ]
  },
  {
   "cell_type": "code",
   "execution_count": 116,
   "id": "wrong-snowboard",
   "metadata": {},
   "outputs": [],
   "source": [
    "X_test_flat = f['X_test'].reshape(5039, 15*7)"
   ]
  },
  {
   "cell_type": "code",
   "execution_count": 122,
   "id": "handed-aircraft",
   "metadata": {},
   "outputs": [
    {
     "data": {
      "text/plain": [
       "(5039, 105)"
      ]
     },
     "execution_count": 122,
     "metadata": {},
     "output_type": "execute_result"
    }
   ],
   "source": [
    "X_test_flat.shape"
   ]
  },
  {
   "cell_type": "code",
   "execution_count": 123,
   "id": "sapphire-bidder",
   "metadata": {},
   "outputs": [],
   "source": [
    "events_with_nonHiggs_as_max = X_test_flat[non_Higgs_max]"
   ]
  },
  {
   "cell_type": "code",
   "execution_count": 126,
   "id": "spoken-maldives",
   "metadata": {},
   "outputs": [],
   "source": [
    "ntest_nonHiggsMax = events_with_nonHiggs_as_max.shape[0]"
   ]
  },
  {
   "cell_type": "code",
   "execution_count": 128,
   "id": "insured-robinson",
   "metadata": {},
   "outputs": [],
   "source": [
    "events_with_nonHiggs_as_max =  events_with_nonHiggs_as_max.reshape(ntest_nonHiggsMax*15, 7)"
   ]
  },
  {
   "cell_type": "code",
   "execution_count": 129,
   "id": "automated-greek",
   "metadata": {},
   "outputs": [
    {
     "data": {
      "text/plain": [
       "(24555, 7)"
      ]
     },
     "execution_count": 129,
     "metadata": {},
     "output_type": "execute_result"
    }
   ],
   "source": [
    "events_with_nonHiggs_as_max.shape"
   ]
  },
  {
   "cell_type": "code",
   "execution_count": 99,
   "id": "sexual-northeast",
   "metadata": {},
   "outputs": [
    {
     "data": {
      "image/png": "[encoded data removed]",
      "text/plain": [
       "<Figure size 720x720 with 1 Axes>"
      ]
     },
     "metadata": {},
     "output_type": "display_data"
    }
   ],
   "source": [
    "# Pie chart, where the slices will be ordered and plotted counter-clockwise:\n",
    "\n",
    "fig1, ax1 = plt.subplots(figsize=(10,10))\n",
    "ax1.pie(max_pair, labels=np.arange(0,15,1), autopct='%1.1f%%',\n",
    "        shadow=False, startangle=0)\n",
    "ax1.axis('equal')  # Equal aspect ratio ensures that pie is drawn as a circle.\n",
    "\n",
    "plt.show()"
   ]
  },
  {
   "cell_type": "code",
   "execution_count": 82,
   "id": "changed-glory",
   "metadata": {},
   "outputs": [
    {
     "data": {
      "image/png": "[encoded data removed]",
      "text/plain": [
       "<Figure size 432x288 with 1 Axes>"
      ]
     },
     "metadata": {
      "needs_background": "light"
     },
     "output_type": "display_data"
    }
   ],
   "source": [
    "fig, ax = plt.subplots()\n",
    "n, bins, patches = hist(ax, sorted_scores[:,0])"
   ]
  },
  {
   "cell_type": "code",
   "execution_count": null,
   "id": "trying-optics",
   "metadata": {},
   "outputs": [],
   "source": []
  }
 ],
 "metadata": {
  "kernelspec": {
   "display_name": "Python 3",
   "language": "python",
   "name": "python3"
  },
  "language_info": {
   "codemirror_mode": {
    "name": "ipython",
    "version": 3
   },
   "file_extension": ".py",
   "mimetype": "text/x-python",
   "name": "python",
   "nbconvert_exporter": "python",
   "pygments_lexer": "ipython3",
   "version": "3.8.8"
  }
 },
 "nbformat": 4,
 "nbformat_minor": 5
}

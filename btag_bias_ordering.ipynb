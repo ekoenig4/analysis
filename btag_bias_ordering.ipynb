{
 "cells": [
  {
   "cell_type": "code",
   "execution_count": 1,
   "id": "6f6a44da-b17c-4086-a88f-09367ff59a5b",
   "metadata": {},
   "outputs": [],
   "source": [
    "%load_ext autoreload\n",
    "import uproot as ut\n",
    "import awkward as ak\n",
    "import matplotlib.pyplot as plt\n",
    "import numpy as np\n",
    "import re\n",
    "import sympy as sp\n",
    "import math\n",
    "import vector\n",
    "\n",
    "from tqdm import tqdm\n",
    "\n",
    "from utils import *\n",
    "%autoreload 2"
   ]
  },
  {
   "cell_type": "code",
   "execution_count": 6,
   "id": "44a56a5e-263e-4b04-aa9a-cea9b33316a3",
   "metadata": {},
   "outputs": [
    {
     "name": "stdout",
     "output_type": "stream",
     "text": [
      "=== File Info ===\n",
      "File: NanoAOD/NMSSM_XYH_YToHH_6b_MX_700_MY_400_accstudies_500k_Jul2021.root\n",
      "Total Events:    484003.0\n",
      "Selected Events: 104823\n",
      "--- all preselection ---\n",
      "Event Efficiency:   1.0\n",
      "--- all baseline ---\n",
      "Event Efficiency:   1.0\n"
     ]
    }
   ],
   "source": [
    "filename = \"NanoAOD/NMSSM_XYH_YToHH_6b_MX_700_MY_400_accstudies_500k_Jul2021.root\"\n",
    "branches = Branches(filename)\n",
    "print(branches)\n",
    "preselection = Selection(branches,cuts={\"njetcut\":6},tag=\"preselection\")\n",
    "print(preselection)\n",
    "baseline = Selection(branches,include=preselection,tag=\"baseline\")\n",
    "print(baseline)\n",
    "branches.calc_jet_dr(baseline.jets_selected)"
   ]
  },
  {
   "cell_type": "code",
   "execution_count": 7,
   "id": "71975c76-a21c-4910-846b-21de0fd5edf4",
   "metadata": {},
   "outputs": [
    {
     "name": "stdout",
     "output_type": "stream",
     "text": [
      "--- all preselection ---\n",
      "Event Efficiency:   1.0\n"
     ]
    },
    {
     "ename": "AttributeError",
     "evalue": "'Selection' object has no attribute 'nsixb_selected'",
     "output_type": "error",
     "traceback": [
      "\u001b[0;31m---------------------------------------------------------------------------\u001b[0m",
      "\u001b[0;31mAttributeError\u001b[0m                            Traceback (most recent call last)",
      "\u001b[0;32m<ipython-input-7-22aa683d91f0>\u001b[0m in \u001b[0;36m<module>\u001b[0;34m\u001b[0m\n\u001b[0;32m----> 1\u001b[0;31m \u001b[0mnjet_study\u001b[0m\u001b[0;34m(\u001b[0m\u001b[0mpreselection\u001b[0m\u001b[0;34m,\u001b[0m\u001b[0mdensity\u001b[0m\u001b[0;34m=\u001b[0m\u001b[0;36m1\u001b[0m\u001b[0;34m)\u001b[0m\u001b[0;34m\u001b[0m\u001b[0;34m\u001b[0m\u001b[0m\n\u001b[0m",
      "\u001b[0;32m/blue/avery/ekoenig/6BAnalysis/analysis/utils/studyUtils.py\u001b[0m in \u001b[0;36mnjet_study\u001b[0;34m(selection, plot, saveas, density, **kwargs)\u001b[0m\n\u001b[1;32m    566\u001b[0m     \u001b[0mmask\u001b[0m \u001b[0;34m=\u001b[0m \u001b[0mselection\u001b[0m\u001b[0;34m.\u001b[0m\u001b[0mmask\u001b[0m\u001b[0;34m\u001b[0m\u001b[0;34m\u001b[0m\u001b[0m\n\u001b[1;32m    567\u001b[0m     \u001b[0mnjets\u001b[0m \u001b[0;34m=\u001b[0m \u001b[0mgetattr\u001b[0m\u001b[0;34m(\u001b[0m\u001b[0mselection\u001b[0m\u001b[0;34m,\u001b[0m\u001b[0;34mf\"njets_{subset}\"\u001b[0m\u001b[0;34m)\u001b[0m\u001b[0;34m[\u001b[0m\u001b[0mmask\u001b[0m\u001b[0;34m]\u001b[0m\u001b[0;34m\u001b[0m\u001b[0;34m\u001b[0m\u001b[0m\n\u001b[0;32m--> 568\u001b[0;31m     \u001b[0mnsixb\u001b[0m \u001b[0;34m=\u001b[0m \u001b[0mgetattr\u001b[0m\u001b[0;34m(\u001b[0m\u001b[0mselection\u001b[0m\u001b[0;34m,\u001b[0m\u001b[0;34mf\"nsixb_{subset}\"\u001b[0m\u001b[0;34m)\u001b[0m\u001b[0;34m[\u001b[0m\u001b[0mmask\u001b[0m\u001b[0;34m]\u001b[0m\u001b[0;34m\u001b[0m\u001b[0;34m\u001b[0m\u001b[0m\n\u001b[0m\u001b[1;32m    569\u001b[0m     \u001b[0mnbkgs\u001b[0m \u001b[0;34m=\u001b[0m \u001b[0mgetattr\u001b[0m\u001b[0;34m(\u001b[0m\u001b[0mselection\u001b[0m\u001b[0;34m,\u001b[0m\u001b[0;34mf\"nbkgs_{subset}\"\u001b[0m\u001b[0;34m)\u001b[0m\u001b[0;34m[\u001b[0m\u001b[0mmask\u001b[0m\u001b[0;34m]\u001b[0m\u001b[0;34m\u001b[0m\u001b[0;34m\u001b[0m\u001b[0m\n\u001b[1;32m    570\u001b[0m \u001b[0;34m\u001b[0m\u001b[0m\n",
      "\u001b[0;31mAttributeError\u001b[0m: 'Selection' object has no attribute 'nsixb_selected'"
     ]
    },
    {
     "data": {
      "image/png": "[encoded data removed]",
      "text/plain": [
       "<Figure size 1152x360 with 3 Axes>"
      ]
     },
     "metadata": {
      "needs_background": "light"
     },
     "output_type": "display_data"
    }
   ],
   "source": [
    "njet_study(preselection,density=1)"
   ]
  },
  {
   "cell_type": "markdown",
   "id": "a14b1de5-3af7-4ba3-8e63-9c9bd3044313",
   "metadata": {},
   "source": [
    "# Signal Jet Selection"
   ]
  },
  {
   "cell_type": "code",
   "execution_count": 4,
   "id": "0807647c-c20a-48cc-8578-ff4969856f5c",
   "metadata": {},
   "outputs": [],
   "source": [
    "ordered = btag_bias_pt_ordering(branches,baseline)"
   ]
  },
  {
   "cell_type": "code",
   "execution_count": 5,
   "id": "3b83fa8b-35ea-4c17-b04d-d4d55f2286f2",
   "metadata": {},
   "outputs": [],
   "source": [
    "signal_baseline = signal_ordered(branches,baseline)\n",
    "signal_order = signal_ordered(branches,ordered)"
   ]
  },
  {
   "cell_type": "code",
   "execution_count": 6,
   "id": "6de8f662-d35c-479e-847c-e281b54638a6",
   "metadata": {},
   "outputs": [],
   "source": [
    "jet6_baseline = signal_baseline.selected_njets(6)\n",
    "jet6_order = signal_order.selected_njets(6)"
   ]
  },
  {
   "cell_type": "code",
   "execution_count": 8,
   "id": "97ca481e-813a-4357-9902-e58fa07f2358",
   "metadata": {},
   "outputs": [
    {
     "name": "stdout",
     "output_type": "stream",
     "text": [
      "--- 6 signal selection ---\n",
      "Event Efficiency:   0.63\n",
      "Selected Purity(6): 0.72\n",
      "Passed Jet S/T:     0.78\n",
      "--- (all btag bias pt ordered & 6 signal selection) ---\n",
      "Event Efficiency:   0.63\n",
      "Selected Purity(6): 0.77\n",
      "Passed Jet S/T:     0.78\n",
      "--- (all btag bias pt ordered & 7 signal selection) ---\n",
      "Event Efficiency:   0.63\n",
      "Selected Purity(6): 0.91\n",
      "Passed Jet S/T:     0.78\n"
     ]
    }
   ],
   "source": [
    "print(jet6_baseline)\n",
    "print(jet6_order)\n",
    "print(signal_order.selected_njets(7))"
   ]
  },
  {
   "cell_type": "code",
   "execution_count": null,
   "id": "e526b4db-37a0-463a-a242-7f8eaef68f14",
   "metadata": {},
   "outputs": [],
   "source": []
  }
 ],
 "metadata": {
  "kernelspec": {
   "display_name": "Python 3",
   "language": "python",
   "name": "python3"
  },
  "language_info": {
   "codemirror_mode": {
    "name": "ipython",
    "version": 3
   },
   "file_extension": ".py",
   "mimetype": "text/x-python",
   "name": "python",
   "nbconvert_exporter": "python",
   "pygments_lexer": "ipython3",
   "version": "3.8.8"
  }
 },
 "nbformat": 4,
 "nbformat_minor": 5
}

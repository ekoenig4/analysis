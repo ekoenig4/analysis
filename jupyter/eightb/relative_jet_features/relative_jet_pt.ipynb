{
 "cells": [
  {
   "cell_type": "code",
   "execution_count": 1,
   "id": "9bfa3b5a",
   "metadata": {},
   "outputs": [],
   "source": [
    "%load_ext autoreload\n",
    "%autoreload 2\n",
    "\n",
    "import os\n",
    "os.environ['KMP_WARNINGS'] = 'off'\n",
    "import sys\n",
    "import git\n",
    "\n",
    "import uproot as ut\n",
    "import awkward as ak\n",
    "import numpy as np\n",
    "import math\n",
    "import vector\n",
    "import sympy as sp\n",
    "\n",
    "import re\n",
    "from tqdm import tqdm\n",
    "import timeit\n",
    "import re\n",
    "\n",
    "sys.path.append( git.Repo('.', search_parent_directories=True).working_tree_dir )\n",
    "from utils import *"
   ]
  },
  {
   "cell_type": "code",
   "execution_count": 2,
   "id": "6edca911",
   "metadata": {},
   "outputs": [],
   "source": [
    "%load_ext line_profiler\n",
    "%load_ext memory_profiler"
   ]
  },
  {
   "cell_type": "code",
   "execution_count": 3,
   "id": "00fa50f3",
   "metadata": {},
   "outputs": [
    {
     "name": "stderr",
     "output_type": "stream",
     "text": [
      "100%|██████████| 1/1 [00:01<00:00,  1.25s/it]\n",
      "100%|██████████| 1/1 [00:01<00:00,  1.08s/it]\n",
      "100%|██████████| 1/1 [00:01<00:00,  1.08s/it]\n",
      "100%|██████████| 16/16 [00:09<00:00,  1.66it/s]\n",
      "100%|██████████| 1/1 [00:01<00:00,  1.35s/it]\n"
     ]
    }
   ],
   "source": [
    "module = fc.eightb.preselection.ranked_quadh\n",
    "signal = ObjIter([Tree(fn, use_gen=False) for fn in module.signal_list[::3]])\n",
    "bkg = ObjIter([Tree(module.QCD_B_List, use_gen=False), Tree(module.TTJets, use_gen=False)])"
   ]
  },
  {
   "cell_type": "code",
   "execution_count": 4,
   "id": "4ef9d42f",
   "metadata": {},
   "outputs": [
    {
     "data": {
      "text/plain": [
       "[None, None, None, None, None]"
      ]
     },
     "execution_count": 4,
     "metadata": {},
     "output_type": "execute_result"
    }
   ],
   "source": [
    "(signal+bkg).apply(lambda t : build_collection(t, 'H\\dY\\d_b\\d', 'jet', ptordered=True))"
   ]
  },
  {
   "cell_type": "code",
   "execution_count": 6,
   "id": "64db2768",
   "metadata": {},
   "outputs": [
    {
     "data": {
      "text/plain": [
       "[None, None, None, None, None]"
      ]
     },
     "execution_count": 6,
     "metadata": {},
     "output_type": "execute_result"
    }
   ],
   "source": [
    "def get_features(t):\n",
    "  jet_ht=ak.sum(t.jet_ptRegressed,axis=-1)\n",
    "  X_et=np.sqrt(t.X_pt**2 + t.X_m**2)\n",
    "  t.extend(\n",
    "    jet_ht=jet_ht,\n",
    "    X_et=X_et,\n",
    "    jet_relht=jet_ht/X_et,\n",
    "    X_e=np.sqrt(t.X_pt**2*(1+np.sinh(t.X_eta)**2) + t.X_m**2),\n",
    "  )\n",
    "(signal+bkg).apply(get_features)"
   ]
  },
  {
   "cell_type": "code",
   "execution_count": 7,
   "id": "27c698f2",
   "metadata": {},
   "outputs": [
    {
     "name": "stderr",
     "output_type": "stream",
     "text": [
      "100%|██████████| 1/1 [00:04<00:00,  4.57s/it]\n"
     ]
    },
    {
     "data": {
      "image/png": "[encoded data removed]",
      "text/plain": [
       "<Figure size 480x400 with 1 Axes>"
      ]
     },
     "metadata": {
      "needs_background": "light"
     },
     "output_type": "display_data"
    }
   ],
   "source": [
    "varinfo.X_e = dict(bins=(0,2000,30))\n",
    "varinfo.X_et = dict(bins=(0,2000,30))\n",
    "varinfo.jet_ht=dict(bins=(0,2000,30))\n",
    "study.quick(\n",
    "    signal + bkg,\n",
    "    varlist=['jet_relht'],\n",
    "    efficiency=True,\n",
    ")"
   ]
  },
  {
   "cell_type": "code",
   "execution_count": 7,
   "id": "5ba4d9cb",
   "metadata": {},
   "outputs": [],
   "source": [
    "# study.quick2d(\n",
    "#     signal + bkg,\n",
    "#     varlist=['X_e','jet_ht'],\n",
    "#     efficiency=True,\n",
    "#     contour=True,\n",
    "#     exe=[plot_histo2d_x_corr],\n",
    "# )"
   ]
  },
  {
   "cell_type": "code",
   "execution_count": 8,
   "id": "a437c83d",
   "metadata": {},
   "outputs": [],
   "source": [
    "# study.quick(\n",
    "#     signal+bkg, efficiency=True,\n",
    "#     varlist=[lambda t : t.jet_ptRegressed[:,i]/t.jet_ht for i in range(8)],\n",
    "#     binlist=[(0,0.1,50)]*8,\n",
    "#     cumulative=-1,correlation=True,\n",
    "# )\n",
    "# study.quick(\n",
    "#     signal+bkg, efficiency=True,\n",
    "#     varlist=[lambda t : t.jet_ptRegressed[:,i]/t.X_et for i in range(8)],\n",
    "#     cumulative=-1,correlation=True,\n",
    "#     binlist=[(0,0.1,50)]*8,\n",
    "\n",
    "# )\n",
    "# study.quick(\n",
    "#     signal+bkg, efficiency=True,\n",
    "#     varlist=[lambda t : t.jet_ptRegressed[:,i]/t.X_e for i in range(8)],\n",
    "#     cumulative=-1,correlation=True,\n",
    "#     binlist=[(0,0.1,50)]*8,\n",
    "\n",
    "# )"
   ]
  },
  {
   "cell_type": "code",
   "execution_count": 9,
   "id": "7268464f",
   "metadata": {},
   "outputs": [],
   "source": [
    "f = signal[0].X_pt[:100]\n",
    "g = signal[0].X_et[:100]\n",
    "h = signal[0].X_m[:100]"
   ]
  },
  {
   "cell_type": "code",
   "execution_count": 16,
   "id": "5ed0d95e",
   "metadata": {},
   "outputs": [],
   "source": [
    "def dcorr2(f, g):\n",
    "    fi, fj, fk = ak.unzip(ak.combinations(f, 3, axis=0))\n",
    "    gi, gj, gk = ak.unzip(ak.combinations(g, 3, axis=0))\n",
    "\n",
    "    df = np.abs(fi-fj)\n",
    "    dfp= np.abs(fi-fk)\n",
    "    dg = np.abs(gi-gj)\n",
    "    dgp= np.abs(gi-gk)\n",
    "\n",
    "    fg_dcov2 = ak.mean(df*dg) + ak.mean(df)*ak.mean(dg) - 2*ak.mean(df*dgp)\n",
    "    ff_dcov2 = ak.mean(df*df) + ak.mean(df)**2 - 2*ak.mean(df*dfp)\n",
    "    gg_dcov2 = ak.mean(dg*dg) + ak.mean(dg)**2 - 2*ak.mean(dg*dgp)\n",
    "\n",
    "    print(fg_dcov2, ff_dcov2, gg_dcov2)\n",
    "    \n",
    "    return fg_dcov2/np.sqrt(ff_dcov2*gg_dcov2)"
   ]
  },
  {
   "cell_type": "code",
   "execution_count": 19,
   "id": "2548d51b",
   "metadata": {},
   "outputs": [
    {
     "name": "stdout",
     "output_type": "stream",
     "text": [
      "3398.895325748337 2553.9436265492404 5954.708029639616\n"
     ]
    },
    {
     "data": {
      "text/plain": [
       "0.8715692523186583"
      ]
     },
     "execution_count": 19,
     "metadata": {},
     "output_type": "execute_result"
    }
   ],
   "source": [
    "dcorr2(f, g)"
   ]
  },
  {
   "cell_type": "code",
   "execution_count": 36,
   "id": "72dde229",
   "metadata": {},
   "outputs": [
    {
     "name": "stdout",
     "output_type": "stream",
     "text": [
      "16335.811866763921 2197.9544202139077 5031827.855035394\n"
     ]
    },
    {
     "data": {
      "text/plain": [
       "0.15533470417331663"
      ]
     },
     "execution_count": 36,
     "metadata": {},
     "output_type": "execute_result"
    }
   ],
   "source": [
    "f = 100*(2*np.random.rand(100)-1)\n",
    "g = 100*(2*np.random.rand(100)-1)\n",
    "\n",
    "dcorr2(f, f**2)"
   ]
  },
  {
   "cell_type": "code",
   "execution_count": 32,
   "id": "b29734d7",
   "metadata": {},
   "outputs": [
    {
     "data": {
      "text/plain": [
       "0.053363166772431206"
      ]
     },
     "execution_count": 32,
     "metadata": {},
     "output_type": "execute_result"
    }
   ],
   "source": [
    "ak.corr(f, g)"
   ]
  }
 ],
 "metadata": {
  "interpreter": {
   "hash": "99d8ad6568882febb6ca5d1c2307614594cf6684ed0ce2b9f63bf31341fdb3d5"
  },
  "kernelspec": {
   "display_name": "Python 3.9.0 ('py-env')",
   "language": "python",
   "name": "python3"
  },
  "language_info": {
   "codemirror_mode": {
    "name": "ipython",
    "version": 3
   },
   "file_extension": ".py",
   "mimetype": "text/x-python",
   "name": "python",
   "nbconvert_exporter": "python",
   "pygments_lexer": "ipython3",
   "version": "3.9.0"
  }
 },
 "nbformat": 4,
 "nbformat_minor": 5
}

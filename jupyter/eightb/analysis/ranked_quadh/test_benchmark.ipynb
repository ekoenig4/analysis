{
 "cells": [
  {
   "cell_type": "code",
   "execution_count": 1,
   "id": "9bfa3b5a",
   "metadata": {},
   "outputs": [],
   "source": [
    "%load_ext autoreload\n",
    "%autoreload 2\n",
    "\n",
    "import os\n",
    "os.environ['KMP_WARNINGS'] = 'off'\n",
    "import sys\n",
    "import git\n",
    "\n",
    "import uproot as ut\n",
    "import awkward as ak\n",
    "import numpy as np\n",
    "import math\n",
    "import vector\n",
    "import sympy as sp\n",
    "\n",
    "import re\n",
    "from tqdm import tqdm\n",
    "import timeit\n",
    "import re\n",
    "\n",
    "sys.path.append( git.Repo('.', search_parent_directories=True).working_tree_dir )\n",
    "from utils import *"
   ]
  },
  {
   "cell_type": "code",
   "execution_count": 2,
   "id": "6edca911",
   "metadata": {},
   "outputs": [],
   "source": [
    "%load_ext line_profiler\n",
    "%load_ext memory_profiler"
   ]
  },
  {
   "cell_type": "code",
   "execution_count": 3,
   "id": "e992d5bf",
   "metadata": {},
   "outputs": [],
   "source": [
    "varinfo.clear()"
   ]
  },
  {
   "cell_type": "code",
   "execution_count": 4,
   "id": "35308158",
   "metadata": {},
   "outputs": [],
   "source": [
    "module = fc.eightb.preselection.t8btag_minmass\n",
    "dout = \"ranked_quadh\""
   ]
  },
  {
   "cell_type": "code",
   "execution_count": 5,
   "id": "c5968aac",
   "metadata": {},
   "outputs": [
    {
     "name": "stderr",
     "output_type": "stream",
     "text": [
      "100%|██████████| 1/1 [00:01<00:00,  1.25s/it]\n",
      "100%|██████████| 1/1 [00:01<00:00,  1.11s/it]\n",
      "100%|██████████| 1/1 [00:00<00:00,  1.16it/s]\n",
      "100%|██████████| 1/1 [00:01<00:00,  1.28s/it]\n",
      "100%|██████████| 1/1 [00:01<00:00,  1.06s/it]\n",
      "100%|██████████| 1/1 [00:00<00:00,  1.15it/s]\n",
      "100%|██████████| 1/1 [00:01<00:00,  1.02s/it]\n",
      "100%|██████████| 1/1 [00:01<00:00,  1.03s/it]\n",
      "100%|██████████| 16/16 [00:10<00:00,  1.50it/s]\n",
      "100%|██████████| 1/1 [00:00<00:00,  1.08it/s]\n",
      "100%|██████████| 4/4 [00:02<00:00,  1.56it/s]\n"
     ]
    }
   ],
   "source": [
    "# signal = ObjIter([])\n",
    "signal = ObjIter([ Tree(f) for f in module.full_signal_list ])\n",
    "\n",
    "# bkg = ObjIter([])\n",
    "bkg = ObjIter([ Tree(module.Run2_UL18.QCD_B_List), Tree(module.Run2_UL18.TTJets)])\n",
    "\n",
    "data = ObjIter([ Tree(module.Run2_UL18.JetHT_Data_UL_List) ])"
   ]
  },
  {
   "cell_type": "code",
   "execution_count": 6,
   "id": "6110c2da",
   "metadata": {},
   "outputs": [],
   "source": [
    "# bkg.reweight(2.3)\n",
    "# bkg.set_systematics(0.2)"
   ]
  },
  {
   "cell_type": "code",
   "execution_count": 7,
   "id": "d483a15c",
   "metadata": {},
   "outputs": [
    {
     "data": {
      "text/plain": [
       "[None, None, None, None, None, None, None, None, None, None, None]"
      ]
     },
     "execution_count": 7,
     "metadata": {},
     "output_type": "execute_result"
    }
   ],
   "source": [
    "def n_presel_jets(t):\n",
    "    t.extend(n_presel_jet=t.n_jet)\n",
    "(signal+bkg+data).apply(n_presel_jets)"
   ]
  },
  {
   "cell_type": "code",
   "execution_count": 8,
   "id": "89c17ccd",
   "metadata": {},
   "outputs": [],
   "source": [
    "# (signal+bkg).apply(lambda t : build_collection(t, 'H\\dY\\d_b\\d', 'jet', ordered='pt'), report=True)\n",
    "t8btag = CollectionFilter('jet', filter=lambda t: ak_rank(-t.jet_btag, axis=-1) < 8)\n",
    "signal = signal.apply(t8btag)\n",
    "bkg = bkg.apply(t8btag)\n",
    "data = data.apply(t8btag)"
   ]
  },
  {
   "cell_type": "code",
   "execution_count": 9,
   "id": "eda716dd",
   "metadata": {},
   "outputs": [],
   "source": [
    "path = f\"/uscms_data/d3/ekoenig/8BAnalysis/studies/weaver-multiH/weaver/models/quadh_ranker/20221115_ranger_lr0.0047_batch512_m7m10m12/\"\n"
   ]
  },
  {
   "cell_type": "code",
   "execution_count": 11,
   "id": "61b2aea4",
   "metadata": {},
   "outputs": [
    {
     "name": "stderr",
     "output_type": "stream",
     "text": [
      "100%|██████████| 11/11 [00:32<00:00,  2.96s/it]\n"
     ]
    },
    {
     "data": {
      "text/plain": [
       "[None, None, None, None, None, None, None, None, None, None, None]"
      ]
     },
     "execution_count": 11,
     "metadata": {},
     "output_type": "execute_result"
    }
   ],
   "source": [
    "(signal+bkg+data).apply(lambda t : eightb.load_quadh(t, path), report=True)\n",
    "# (signal).apply(lambda t : eightb.load_quadh(t, path), report=True)\n"
   ]
  },
  {
   "cell_type": "code",
   "execution_count": 12,
   "id": "95eec874",
   "metadata": {},
   "outputs": [],
   "source": [
    "# event_filter = FilterSequence(\n",
    "#     eightb.selected_jet_ptregressed(),\n",
    "#     eightb.selected_jet_btagwp()\n",
    "# )\n",
    "\n",
    "# signal = signal.apply(event_filter)\n",
    "# bkg = bkg.apply(event_filter)\n",
    "# data = data.apply(event_filter)"
   ]
  },
  {
   "cell_type": "code",
   "execution_count": 13,
   "id": "349a4e9d",
   "metadata": {},
   "outputs": [
    {
     "data": {
      "text/plain": [
       "[None, None, None, None, None, None, None, None]"
      ]
     },
     "execution_count": 13,
     "metadata": {},
     "output_type": "execute_result"
    }
   ],
   "source": [
    "def nfound_higgs(t):\n",
    "    nhiggs = ak.sum(t.higgs_signalId>-1,axis=-1)\n",
    "    t.extend(nfound_paired_h=nhiggs)\n",
    "signal.apply(nfound_higgs)"
   ]
  },
  {
   "cell_type": "code",
   "execution_count": 14,
   "id": "f52954b4",
   "metadata": {},
   "outputs": [
    {
     "name": "stderr",
     "output_type": "stream",
     "text": [
      "100%|██████████| 11/11 [00:27<00:00,  2.49s/it]\n"
     ]
    },
    {
     "data": {
      "text/plain": [
       "[None, None, None, None, None, None, None, None, None, None, None]"
      ]
     },
     "execution_count": 14,
     "metadata": {},
     "output_type": "execute_result"
    }
   ],
   "source": [
    "(signal+bkg+data).apply(lambda t : eightb.pair_y_from_higgs(t, operator=eightb.y_min_mass_asym), report=True)"
   ]
  },
  {
   "cell_type": "code",
   "execution_count": 15,
   "id": "b73c4b1d",
   "metadata": {},
   "outputs": [
    {
     "name": "stderr",
     "output_type": "stream",
     "text": [
      "100%|██████████| 11/11 [00:21<00:00,  1.99s/it]\n"
     ]
    },
    {
     "data": {
      "text/plain": [
       "[None, None, None, None, None, None, None, None, None, None, None]"
      ]
     },
     "execution_count": 15,
     "metadata": {},
     "output_type": "execute_result"
    }
   ],
   "source": [
    "def build_bdt_features(t):\n",
    "    jet_ht = ak.sum(t.jet_ptRegressed,axis=-1)\n",
    "\n",
    "    j1_phi, j2_phi = ak.unzip(ak.combinations(t.jet_phi, n=2, axis=-1))\n",
    "    jet_dphi = calc_dphi(j1_phi, j2_phi)\n",
    "\n",
    "    j1_eta, j2_eta = ak.unzip(ak.combinations(t.jet_eta, n=2, axis=-1))\n",
    "    jet_deta = calc_deta(j1_eta, j2_eta)\n",
    "\n",
    "    min_jet_deta = ak.min( np.abs(jet_deta), axis=-1)\n",
    "    max_jet_deta = ak.max( np.abs(jet_deta), axis=-1)\n",
    "\n",
    "    jet_dr = np.sqrt( jet_deta**2 + jet_dphi**2 )\n",
    "\n",
    "    min_jet_dr = ak.min(jet_dr, axis=-1)\n",
    "    max_jet_dr = ak.max(jet_dr, axis=-1)\n",
    "\n",
    "    h1_phi, h2_phi = ak.unzip(ak.combinations(t.higgs_phi, n=2, axis=-1))\n",
    "    higgs_dphi = np.abs(calc_dphi(h1_phi, h2_phi))\n",
    "\n",
    "    h1_eta, h2_eta = ak.unzip(ak.combinations(t.higgs_eta, n=2, axis=-1))\n",
    "    higgs_deta = np.abs(calc_deta(h1_eta, h2_eta))\n",
    "\n",
    "    higgs_comb_id = ak.combinations( np.arange(4), n=2, axis=0).tolist()\n",
    "\n",
    "    t.extend(\n",
    "        jet_ht=jet_ht,\n",
    "        min_jet_deta=min_jet_deta,\n",
    "        max_jet_deta=max_jet_deta,\n",
    "        min_jet_dr=min_jet_dr,\n",
    "        max_jet_dr=max_jet_dr,\n",
    "        **{\n",
    "            f'h{i+1}{j+1}_dphi':higgs_dphi[:,k]\n",
    "            for k, (i,j) in enumerate(higgs_comb_id)\n",
    "        },\n",
    "        **{\n",
    "            f'h{i+1}{j+1}_deta':higgs_deta[:,k]\n",
    "            for k, (i,j) in enumerate(higgs_comb_id)\n",
    "        },\n",
    "        **{\n",
    "            f'h{i+1}_{var}':t[f'higgs_{var}'][:,i]\n",
    "            for i in range(4)\n",
    "            for var in ('pt','dr')\n",
    "        },\n",
    "    )\n",
    "(signal+bkg+data).apply(build_bdt_features, report=True)"
   ]
  },
  {
   "cell_type": "code",
   "execution_count": 16,
   "id": "50070bcb",
   "metadata": {},
   "outputs": [
    {
     "name": "stdout",
     "output_type": "stream",
     "text": [
      "Writing //store/user/ekoenig/8BAnalysis/NTuples/2018/preselection/t8btag_minmass/NMSSM_XYY_YToHH_8b/NMSSM_XYY_YToHH_8b_MX_700_MY_300/ranked_quadh_ntuple.root\n"
     ]
    },
    {
     "name": "stderr",
     "output_type": "stream",
     "text": [
      "[65.11MB/65.11MB][100%][==================================================][65.11MB/s]  \n"
     ]
    },
    {
     "name": "stdout",
     "output_type": "stream",
     "text": [
      "Writing //store/user/ekoenig/8BAnalysis/NTuples/2018/preselection/t8btag_minmass/NMSSM_XYY_YToHH_8b/NMSSM_XYY_YToHH_8b_MX_800_MY_300/ranked_quadh_ntuple.root\n"
     ]
    },
    {
     "name": "stderr",
     "output_type": "stream",
     "text": [
      "[75.88MB/75.88MB][100%][==================================================][75.88MB/s]  \n"
     ]
    },
    {
     "name": "stdout",
     "output_type": "stream",
     "text": [
      "Writing //store/user/ekoenig/8BAnalysis/NTuples/2018/preselection/t8btag_minmass/NMSSM_XYY_YToHH_8b/NMSSM_XYY_YToHH_8b_MX_800_MY_350/ranked_quadh_ntuple.root\n"
     ]
    },
    {
     "name": "stderr",
     "output_type": "stream",
     "text": [
      "[77.65MB/77.65MB][100%][==================================================][77.65MB/s]  \n"
     ]
    },
    {
     "name": "stdout",
     "output_type": "stream",
     "text": [
      "Writing //store/user/ekoenig/8BAnalysis/NTuples/2018/preselection/t8btag_minmass/NMSSM_XYY_YToHH_8b/NMSSM_XYY_YToHH_8b_MX_900_MY_300/ranked_quadh_ntuple.root\n"
     ]
    },
    {
     "name": "stderr",
     "output_type": "stream",
     "text": [
      "[79.62MB/79.62MB][100%][==================================================][79.62MB/s]  \n"
     ]
    },
    {
     "name": "stdout",
     "output_type": "stream",
     "text": [
      "Writing //store/user/ekoenig/8BAnalysis/NTuples/2018/preselection/t8btag_minmass/NMSSM_XYY_YToHH_8b/NMSSM_XYY_YToHH_8b_MX_900_MY_400/ranked_quadh_ntuple.root\n"
     ]
    },
    {
     "name": "stderr",
     "output_type": "stream",
     "text": [
      "[85.74MB/85.74MB][100%][==================================================][42.87MB/s]  \n"
     ]
    },
    {
     "name": "stdout",
     "output_type": "stream",
     "text": [
      "Writing //store/user/ekoenig/8BAnalysis/NTuples/2018/preselection/t8btag_minmass/NMSSM_XYY_YToHH_8b/NMSSM_XYY_YToHH_8b_MX_1000_MY_300/ranked_quadh_ntuple.root\n"
     ]
    },
    {
     "name": "stderr",
     "output_type": "stream",
     "text": [
      "[81.48MB/81.48MB][100%][==================================================][81.48MB/s]  \n"
     ]
    },
    {
     "name": "stdout",
     "output_type": "stream",
     "text": [
      "Writing //store/user/ekoenig/8BAnalysis/NTuples/2018/preselection/t8btag_minmass/NMSSM_XYY_YToHH_8b/NMSSM_XYY_YToHH_8b_MX_1000_MY_450/ranked_quadh_ntuple.root\n"
     ]
    },
    {
     "name": "stderr",
     "output_type": "stream",
     "text": [
      "[91.67MB/91.67MB][100%][==================================================][91.67MB/s]  \n"
     ]
    },
    {
     "name": "stdout",
     "output_type": "stream",
     "text": [
      "Writing //store/user/ekoenig/8BAnalysis/NTuples/2018/preselection/t8btag_minmass/NMSSM_XYY_YToHH_8b/NMSSM_XYY_YToHH_8b_MX_1200_MY_500/ranked_quadh_ntuple.root\n"
     ]
    },
    {
     "name": "stderr",
     "output_type": "stream",
     "text": [
      "[99.44MB/99.44MB][100%][==================================================][99.44MB/s]  \n"
     ]
    },
    {
     "name": "stdout",
     "output_type": "stream",
     "text": [
      "Writing //store/user/ekoenig/8BAnalysis/NTuples/2018/preselection/t8btag_minmass/Run2_UL/RunIISummer20UL18NanoAODv9/QCD/QCD_bEnriched_HT100to200_TuneCP5_13TeV-madgraph-pythia8/ranked_quadh_ntuple.root\n"
     ]
    },
    {
     "name": "stderr",
     "output_type": "stream",
     "text": [
      "[270.2kB/270.2kB][100%][==================================================][270.2kB/s]  \n"
     ]
    },
    {
     "name": "stdout",
     "output_type": "stream",
     "text": [
      "Writing //store/user/ekoenig/8BAnalysis/NTuples/2018/preselection/t8btag_minmass/Run2_UL/RunIISummer20UL18NanoAODv9/QCD/QCD_bEnriched_HT200to300_TuneCP5_13TeV-madgraph-pythia8/ranked_quadh_ntuple.root\n"
     ]
    },
    {
     "name": "stderr",
     "output_type": "stream",
     "text": [
      "[315.5kB/315.5kB][100%][==================================================][315.5kB/s]  \n"
     ]
    },
    {
     "name": "stdout",
     "output_type": "stream",
     "text": [
      "Writing //store/user/ekoenig/8BAnalysis/NTuples/2018/preselection/t8btag_minmass/Run2_UL/RunIISummer20UL18NanoAODv9/QCD/QCD_bEnriched_HT300to500_TuneCP5_13TeV-madgraph-pythia8/ranked_quadh_ntuple.root\n"
     ]
    },
    {
     "name": "stderr",
     "output_type": "stream",
     "text": [
      "[1.754MB/1.754MB][100%][==================================================][1.754MB/s]  \n"
     ]
    },
    {
     "name": "stdout",
     "output_type": "stream",
     "text": [
      "Writing //store/user/ekoenig/8BAnalysis/NTuples/2018/preselection/t8btag_minmass/Run2_UL/RunIISummer20UL18NanoAODv9/QCD/QCD_bEnriched_HT500to700_TuneCP5_13TeV-madgraph-pythia8/ranked_quadh_ntuple.root\n"
     ]
    },
    {
     "name": "stderr",
     "output_type": "stream",
     "text": [
      "[12.14MB/12.14MB][100%][==================================================][12.14MB/s]  \n"
     ]
    },
    {
     "name": "stdout",
     "output_type": "stream",
     "text": [
      "Writing //store/user/ekoenig/8BAnalysis/NTuples/2018/preselection/t8btag_minmass/Run2_UL/RunIISummer20UL18NanoAODv9/QCD/QCD_bEnriched_HT700to1000_TuneCP5_13TeV-madgraph-pythia8/ranked_quadh_ntuple.root\n"
     ]
    },
    {
     "name": "stderr",
     "output_type": "stream",
     "text": [
      "[6.738MB/6.738MB][100%][==================================================][6.738MB/s]  \n"
     ]
    },
    {
     "name": "stdout",
     "output_type": "stream",
     "text": [
      "Writing //store/user/ekoenig/8BAnalysis/NTuples/2018/preselection/t8btag_minmass/Run2_UL/RunIISummer20UL18NanoAODv9/QCD/QCD_bEnriched_HT1000to1500_TuneCP5_13TeV-madgraph-pythia8/ranked_quadh_ntuple.root\n"
     ]
    },
    {
     "name": "stderr",
     "output_type": "stream",
     "text": [
      "[10.13MB/10.13MB][100%][==================================================][10.13MB/s]  \n"
     ]
    },
    {
     "name": "stdout",
     "output_type": "stream",
     "text": [
      "Writing //store/user/ekoenig/8BAnalysis/NTuples/2018/preselection/t8btag_minmass/Run2_UL/RunIISummer20UL18NanoAODv9/QCD/QCD_bEnriched_HT1500to2000_TuneCP5_13TeV-madgraph-pythia8/ranked_quadh_ntuple.root\n"
     ]
    },
    {
     "name": "stderr",
     "output_type": "stream",
     "text": [
      "[17.32MB/17.32MB][100%][==================================================][17.32MB/s]  \n"
     ]
    },
    {
     "name": "stdout",
     "output_type": "stream",
     "text": [
      "Writing //store/user/ekoenig/8BAnalysis/NTuples/2018/preselection/t8btag_minmass/Run2_UL/RunIISummer20UL18NanoAODv9/QCD/QCD_bEnriched_HT2000toInf_TuneCP5_13TeV-madgraph-pythia8/ranked_quadh_ntuple.root\n"
     ]
    },
    {
     "name": "stderr",
     "output_type": "stream",
     "text": [
      "[18.68MB/18.68MB][100%][==================================================][18.68MB/s]  \n"
     ]
    },
    {
     "name": "stdout",
     "output_type": "stream",
     "text": [
      "Writing //store/user/ekoenig/8BAnalysis/NTuples/2018/preselection/t8btag_minmass/Run2_UL/RunIISummer20UL18NanoAODv9/QCD/QCD_HT100to200_BGenFilter_TuneCP5_13TeV-madgraph-pythia8/ranked_quadh_ntuple.root\n"
     ]
    },
    {
     "name": "stderr",
     "output_type": "stream",
     "text": [
      "[272.1kB/272.1kB][100%][==================================================][272.1kB/s]  \n"
     ]
    },
    {
     "name": "stdout",
     "output_type": "stream",
     "text": [
      "Writing //store/user/ekoenig/8BAnalysis/NTuples/2018/preselection/t8btag_minmass/Run2_UL/RunIISummer20UL18NanoAODv9/QCD/QCD_HT200to300_BGenFilter_TuneCP5_13TeV-madgraph-pythia8/ranked_quadh_ntuple.root\n"
     ]
    },
    {
     "name": "stderr",
     "output_type": "stream",
     "text": [
      "[286.7kB/286.7kB][100%][==================================================][286.7kB/s]  \n"
     ]
    },
    {
     "name": "stdout",
     "output_type": "stream",
     "text": [
      "Writing //store/user/ekoenig/8BAnalysis/NTuples/2018/preselection/t8btag_minmass/Run2_UL/RunIISummer20UL18NanoAODv9/QCD/QCD_HT300to500_BGenFilter_TuneCP5_13TeV-madgraph-pythia8/ranked_quadh_ntuple.root\n"
     ]
    },
    {
     "name": "stderr",
     "output_type": "stream",
     "text": [
      "[1.274MB/1.274MB][100%][==================================================][1.274MB/s]  \n"
     ]
    },
    {
     "name": "stdout",
     "output_type": "stream",
     "text": [
      "Writing //store/user/ekoenig/8BAnalysis/NTuples/2018/preselection/t8btag_minmass/Run2_UL/RunIISummer20UL18NanoAODv9/QCD/QCD_HT500to700_BGenFilter_TuneCP5_13TeV-madgraph-pythia8/ranked_quadh_ntuple.root\n"
     ]
    },
    {
     "name": "stderr",
     "output_type": "stream",
     "text": [
      "[6.563MB/6.563MB][100%][==================================================][6.563MB/s]  \n"
     ]
    },
    {
     "name": "stdout",
     "output_type": "stream",
     "text": [
      "Writing //store/user/ekoenig/8BAnalysis/NTuples/2018/preselection/t8btag_minmass/Run2_UL/RunIISummer20UL18NanoAODv9/QCD/QCD_HT700to1000_BGenFilter_TuneCP5_13TeV-madgraph-pythia8/ranked_quadh_ntuple.root\n"
     ]
    },
    {
     "name": "stderr",
     "output_type": "stream",
     "text": [
      "[11.19MB/11.19MB][100%][==================================================][11.19MB/s]  \n"
     ]
    },
    {
     "name": "stdout",
     "output_type": "stream",
     "text": [
      "Writing //store/user/ekoenig/8BAnalysis/NTuples/2018/preselection/t8btag_minmass/Run2_UL/RunIISummer20UL18NanoAODv9/QCD/QCD_HT1000to1500_BGenFilter_TuneCP5_13TeV-madgraph-pythia8/ranked_quadh_ntuple.root\n"
     ]
    },
    {
     "name": "stderr",
     "output_type": "stream",
     "text": [
      "[8.523MB/8.523MB][100%][==================================================][8.523MB/s]  \n"
     ]
    },
    {
     "name": "stdout",
     "output_type": "stream",
     "text": [
      "Writing //store/user/ekoenig/8BAnalysis/NTuples/2018/preselection/t8btag_minmass/Run2_UL/RunIISummer20UL18NanoAODv9/QCD/QCD_HT1500to2000_BGenFilter_TuneCP5_13TeV-madgraph-pythia8/ranked_quadh_ntuple.root\n"
     ]
    },
    {
     "name": "stderr",
     "output_type": "stream",
     "text": [
      "[11.55MB/11.55MB][100%][==================================================][11.55MB/s]  \n"
     ]
    },
    {
     "name": "stdout",
     "output_type": "stream",
     "text": [
      "Writing //store/user/ekoenig/8BAnalysis/NTuples/2018/preselection/t8btag_minmass/Run2_UL/RunIISummer20UL18NanoAODv9/QCD/QCD_HT2000toInf_BGenFilter_TuneCP5_13TeV-madgraph-pythia8/ranked_quadh_ntuple.root\n"
     ]
    },
    {
     "name": "stderr",
     "output_type": "stream",
     "text": [
      "[13.85MB/13.85MB][100%][==================================================][13.85MB/s]  \n"
     ]
    },
    {
     "name": "stdout",
     "output_type": "stream",
     "text": [
      "Writing //store/user/ekoenig/8BAnalysis/NTuples/2018/preselection/t8btag_minmass/Run2_UL/RunIISummer20UL18NanoAODv9/TTJets/TTJets_TuneCP5_13TeV-amcatnloFXFX-pythia8/ranked_quadh_ntuple_0.root\n"
     ]
    },
    {
     "name": "stderr",
     "output_type": "stream",
     "text": [
      "[327.9MB/327.9MB][100%][==================================================][81.97MB/s]  \n"
     ]
    },
    {
     "name": "stdout",
     "output_type": "stream",
     "text": [
      "Writing //store/user/ekoenig/8BAnalysis/NTuples/2018/preselection/t8btag_minmass/Run2_UL/RunIISummer20UL18NanoAODv9/JetHT_Data/JetHT_Run2018A/ranked_quadh_ntuple.root\n"
     ]
    },
    {
     "name": "stderr",
     "output_type": "stream",
     "text": [
      "[705.7MB/705.7MB][100%][==================================================][88.22MB/s]  \n"
     ]
    },
    {
     "name": "stdout",
     "output_type": "stream",
     "text": [
      "Writing //store/user/ekoenig/8BAnalysis/NTuples/2018/preselection/t8btag_minmass/Run2_UL/RunIISummer20UL18NanoAODv9/JetHT_Data/JetHT_Run2018B/ranked_quadh_ntuple.root\n"
     ]
    },
    {
     "name": "stderr",
     "output_type": "stream",
     "text": [
      "[317.7MB/317.7MB][100%][==================================================][79.42MB/s]  \n"
     ]
    },
    {
     "name": "stdout",
     "output_type": "stream",
     "text": [
      "Writing //store/user/ekoenig/8BAnalysis/NTuples/2018/preselection/t8btag_minmass/Run2_UL/RunIISummer20UL18NanoAODv9/JetHT_Data/JetHT_Run2018C/ranked_quadh_ntuple.root\n"
     ]
    },
    {
     "name": "stderr",
     "output_type": "stream",
     "text": [
      "[277.7MB/277.7MB][100%][==================================================][92.57MB/s]  \n"
     ]
    },
    {
     "name": "stdout",
     "output_type": "stream",
     "text": [
      "Writing //store/user/ekoenig/8BAnalysis/NTuples/2018/preselection/t8btag_minmass/Run2_UL/RunIISummer20UL18NanoAODv9/JetHT_Data/JetHT_Run2018D/ranked_quadh_ntuple.root\n"
     ]
    },
    {
     "name": "stderr",
     "output_type": "stream",
     "text": [
      "[1.141GB/1.141GB][100%][==================================================][89.89MB/s]  \n"
     ]
    },
    {
     "data": {
      "text/plain": [
       "[None, None, None, None, None, None, None, None, None, None, None]"
      ]
     },
     "execution_count": 16,
     "metadata": {},
     "output_type": "execute_result"
    }
   ],
   "source": [
    "(signal+bkg+data).write(\n",
    "    f\"{dout}_{{base}}\"\n",
    ")"
   ]
  },
  {
   "cell_type": "code",
   "execution_count": null,
   "id": "28859bf3",
   "metadata": {},
   "outputs": [],
   "source": []
  },
  {
   "cell_type": "code",
   "execution_count": null,
   "id": "606607a4",
   "metadata": {},
   "outputs": [],
   "source": []
  }
 ],
 "metadata": {
  "interpreter": {
   "hash": "99d8ad6568882febb6ca5d1c2307614594cf6684ed0ce2b9f63bf31341fdb3d5"
  },
  "kernelspec": {
   "display_name": "Python 3.9.0 ('py-env')",
   "language": "python",
   "name": "python3"
  },
  "language_info": {
   "codemirror_mode": {
    "name": "ipython",
    "version": 3
   },
   "file_extension": ".py",
   "mimetype": "text/x-python",
   "name": "python",
   "nbconvert_exporter": "python",
   "pygments_lexer": "ipython3",
   "version": "3.9.15"
  }
 },
 "nbformat": 4,
 "nbformat_minor": 5
}

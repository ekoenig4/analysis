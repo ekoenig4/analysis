{
 "cells": [
  {
   "cell_type": "code",
   "execution_count": 1,
   "id": "9bfa3b5a",
   "metadata": {},
   "outputs": [],
   "source": [
    "%load_ext autoreload\n",
    "%autoreload 2\n",
    "\n",
    "import os\n",
    "os.environ['KMP_WARNINGS'] = 'off'\n",
    "import sys\n",
    "import git\n",
    "\n",
    "import uproot as ut\n",
    "import awkward as ak\n",
    "import numpy as np\n",
    "import math\n",
    "import vector\n",
    "import sympy as sp\n",
    "\n",
    "import re\n",
    "from tqdm import tqdm\n",
    "import timeit\n",
    "import re\n",
    "\n",
    "sys.path.append( git.Repo('.', search_parent_directories=True).working_tree_dir )\n",
    "from utils import *\n"
   ]
  },
  {
   "cell_type": "code",
   "execution_count": 2,
   "id": "6edca911",
   "metadata": {},
   "outputs": [],
   "source": [
    "%load_ext line_profiler\n",
    "%load_ext memory_profiler"
   ]
  },
  {
   "cell_type": "code",
   "execution_count": 3,
   "id": "c48168fe",
   "metadata": {},
   "outputs": [
    {
     "name": "stdout",
     "output_type": "stream",
     "text": [
      "Welcome to JupyROOT 6.24/06\n"
     ]
    }
   ],
   "source": [
    "from utils.root_tools import tset"
   ]
  },
  {
   "cell_type": "code",
   "execution_count": 6,
   "id": "13398170",
   "metadata": {},
   "outputs": [],
   "source": [
    "import ROOT \n",
    "tf = ROOT.TFile(\"/uscms_data/d3/ekoenig/8BAnalysis/analysis/CMSSW_10_6_28/src/MultiHiggs/analysis/MultiHAnalysis/btageff_8b_2018.root\")"
   ]
  },
  {
   "cell_type": "code",
   "execution_count": 14,
   "id": "54c5f0f3",
   "metadata": {},
   "outputs": [
    {
     "data": {
      "text/plain": [
       "['loose_n_jet',\n",
       " 'loose_ht_jet',\n",
       " 'loose_jet_btag',\n",
       " 'loose_jet_pt',\n",
       " 'loose_jet_eta',\n",
       " 'loose_jet_pt_eta',\n",
       " 'loose_hf0_n_jet',\n",
       " 'loose_hf0_ht_jet',\n",
       " 'loose_hf0_jet_btag',\n",
       " 'loose_hf0_jet_pt',\n",
       " 'loose_hf0_jet_eta',\n",
       " 'loose_hf0_jet_pt_eta',\n",
       " 'loose_hf4_n_jet',\n",
       " 'loose_hf4_ht_jet',\n",
       " 'loose_hf4_jet_btag',\n",
       " 'loose_hf4_jet_pt',\n",
       " 'loose_hf4_jet_eta',\n",
       " 'loose_hf4_jet_pt_eta',\n",
       " 'loose_hf5_n_jet',\n",
       " 'loose_hf5_ht_jet',\n",
       " 'loose_hf5_jet_btag',\n",
       " 'loose_hf5_jet_pt',\n",
       " 'loose_hf5_jet_eta',\n",
       " 'loose_hf5_jet_pt_eta',\n",
       " 'medium_n_jet',\n",
       " 'medium_ht_jet',\n",
       " 'medium_jet_btag',\n",
       " 'medium_jet_pt',\n",
       " 'medium_jet_eta',\n",
       " 'medium_jet_pt_eta',\n",
       " 'medium_hf0_n_jet',\n",
       " 'medium_hf0_ht_jet',\n",
       " 'medium_hf0_jet_btag',\n",
       " 'medium_hf0_jet_pt',\n",
       " 'medium_hf0_jet_eta',\n",
       " 'medium_hf0_jet_pt_eta',\n",
       " 'medium_hf4_n_jet',\n",
       " 'medium_hf4_ht_jet',\n",
       " 'medium_hf4_jet_btag',\n",
       " 'medium_hf4_jet_pt',\n",
       " 'medium_hf4_jet_eta',\n",
       " 'medium_hf4_jet_pt_eta',\n",
       " 'medium_hf5_n_jet',\n",
       " 'medium_hf5_ht_jet',\n",
       " 'medium_hf5_jet_btag',\n",
       " 'medium_hf5_jet_pt',\n",
       " 'medium_hf5_jet_eta',\n",
       " 'medium_hf5_jet_pt_eta',\n",
       " 'tight_n_jet',\n",
       " 'tight_ht_jet',\n",
       " 'tight_jet_btag',\n",
       " 'tight_jet_pt',\n",
       " 'tight_jet_eta',\n",
       " 'tight_jet_pt_eta',\n",
       " 'tight_hf0_n_jet',\n",
       " 'tight_hf0_ht_jet',\n",
       " 'tight_hf0_jet_btag',\n",
       " 'tight_hf0_jet_pt',\n",
       " 'tight_hf0_jet_eta',\n",
       " 'tight_hf0_jet_pt_eta',\n",
       " 'tight_hf4_n_jet',\n",
       " 'tight_hf4_ht_jet',\n",
       " 'tight_hf4_jet_btag',\n",
       " 'tight_hf4_jet_pt',\n",
       " 'tight_hf4_jet_eta',\n",
       " 'tight_hf4_jet_pt_eta',\n",
       " 'tight_hf5_n_jet',\n",
       " 'tight_hf5_ht_jet',\n",
       " 'tight_hf5_jet_btag',\n",
       " 'tight_hf5_jet_pt',\n",
       " 'tight_hf5_jet_eta',\n",
       " 'tight_hf5_jet_pt_eta',\n",
       " 'total_n_jet',\n",
       " 'total_ht_jet',\n",
       " 'total_jet_btag',\n",
       " 'total_jet_pt',\n",
       " 'total_jet_eta',\n",
       " 'total_jet_pt_eta',\n",
       " 'total_hf0_n_jet',\n",
       " 'total_hf0_ht_jet',\n",
       " 'total_hf0_jet_btag',\n",
       " 'total_hf0_jet_pt',\n",
       " 'total_hf0_jet_eta',\n",
       " 'total_hf0_jet_pt_eta',\n",
       " 'total_hf4_n_jet',\n",
       " 'total_hf4_ht_jet',\n",
       " 'total_hf4_jet_btag',\n",
       " 'total_hf4_jet_pt',\n",
       " 'total_hf4_jet_eta',\n",
       " 'total_hf4_jet_pt_eta',\n",
       " 'total_hf5_n_jet',\n",
       " 'total_hf5_ht_jet',\n",
       " 'total_hf5_jet_btag',\n",
       " 'total_hf5_jet_pt',\n",
       " 'total_hf5_jet_eta',\n",
       " 'total_hf5_jet_pt_eta']"
      ]
     },
     "execution_count": 14,
     "metadata": {},
     "output_type": "execute_result"
    }
   ],
   "source": [
    "list(map(lambda k : k.GetName(), tf.Get(\"qcd\").GetListOfKeys()))"
   ]
  },
  {
   "cell_type": "code",
   "execution_count": 69,
   "id": "239b7dfb",
   "metadata": {},
   "outputs": [],
   "source": [
    "qcd = tf.Get(\"qcd\")\n",
    "ttbar = tf.Get(\"ttbar\")\n",
    "effi = tf.Get(\"eff\")"
   ]
  },
  {
   "cell_type": "code",
   "execution_count": 92,
   "id": "72954518",
   "metadata": {},
   "outputs": [
    {
     "data": {
      "image/png": "[encoded data removed]",
      "text/plain": [
       "<IPython.core.display.Image object>"
      ]
     },
     "metadata": {},
     "output_type": "display_data"
    }
   ],
   "source": [
    "canvas = tset(\n",
    "    ROOT.TCanvas(\"\",\"\",500,500),\n",
    "    LeftMargin=0.15,\n",
    "    Logy=True,\n",
    ")\n",
    "\n",
    "total = tset(\n",
    "    qcd.Get(\"total_hf0_jet_pt\"),\n",
    "    LineColor=ROOT.kBlack,\n",
    "    MarkerStyle=1,\n",
    ")\n",
    "total.Draw()\n",
    "\n",
    "for i, wp in enumerate(wplabels[1:][::-1]):\n",
    "        \n",
    "    tset(\n",
    "        qcd.Get(f\"{wp}_hf0_jet_pt\"),\n",
    "        LineColor=ROOT.kGreen+2,\n",
    "        LineStyle=i+1,\n",
    "        # MarkerStyle=1,\n",
    "    ).Draw(\"hist same\")\n",
    "\n",
    "ROOT.gPad.Draw()"
   ]
  },
  {
   "cell_type": "code",
   "execution_count": 84,
   "id": "2719b3af",
   "metadata": {},
   "outputs": [
    {
     "name": "stderr",
     "output_type": "stream",
     "text": [
      "Warning in <TEfficiency::GetEfficiencyErrorLow>: frequentist confidence intervals for weights are only supported by the normal approximation\n",
      "Info in <TEfficiency::GetEfficiencyErrorLow>: setting statistic option to kFNormal\n",
      "Warning in <TEfficiency::GetEfficiencyErrorLow>: frequentist confidence intervals for weights are only supported by the normal approximation\n",
      "Info in <TEfficiency::GetEfficiencyErrorLow>: setting statistic option to kFNormal\n",
      "Warning in <TEfficiency::GetEfficiencyErrorLow>: frequentist confidence intervals for weights are only supported by the normal approximation\n",
      "Info in <TEfficiency::GetEfficiencyErrorLow>: setting statistic option to kFNormal\n"
     ]
    },
    {
     "data": {
      "image/png": "[encoded data removed]",
      "text/plain": [
       "<IPython.core.display.Image object>"
      ]
     },
     "metadata": {},
     "output_type": "display_data"
    }
   ],
   "source": [
    "canvas = tset(\n",
    "    ROOT.TCanvas(\"\",\"\",500,500),\n",
    "    LeftMargin=0.15,\n",
    ")\n",
    "\n",
    "h = tset(\n",
    "    effi.Get(f\"loose_hf0_jet_pt\"),\n",
    "    LineColor=ROOT.kGreen+2,\n",
    "    LineStyle=3,\n",
    "    # MarkerStyle=1,\n",
    ")\n",
    "\n",
    "h.Draw(\"ACP\")\n",
    "\n",
    "canvas.Update()\n",
    "tset(h.GetPaintedGraph(),Maximum=1, Minimum=0.5e-3)\n",
    "\n",
    "tset(\n",
    "    effi.Get(f\"medium_hf0_jet_pt\"),\n",
    "    LineColor=ROOT.kGreen+2,\n",
    "    LineStyle=2,\n",
    "    # MarkerStyle=1,\n",
    ").Draw(\"CP same\")\n",
    "\n",
    "tset(\n",
    "    effi.Get(f\"tight_hf0_jet_pt\"),\n",
    "    LineColor=ROOT.kGreen+2,\n",
    "    LineStyle=1,\n",
    "    # MarkerStyle=1,\n",
    ").Draw(\"CP same\")\n",
    "        \n",
    "\n",
    "ROOT.gPad.Draw()"
   ]
  },
  {
   "cell_type": "code",
   "execution_count": 91,
   "id": "8d0bc70f",
   "metadata": {},
   "outputs": [
    {
     "data": {
      "image/png": "[encoded data removed]",
      "text/plain": [
       "<IPython.core.display.Image object>"
      ]
     },
     "metadata": {},
     "output_type": "display_data"
    }
   ],
   "source": [
    "canvas = tset(\n",
    "    ROOT.TCanvas(\"\",\"\",500,500),\n",
    "    LeftMargin=0.15,\n",
    "    Logy=True,\n",
    ")\n",
    "\n",
    "total = tset(\n",
    "    ttbar.Get(\"total_hf4_jet_pt\"),\n",
    "    LineColor=ROOT.kBlack,\n",
    "    MarkerStyle=1,\n",
    ")\n",
    "total.Draw(\"P\")\n",
    "\n",
    "for i, wp in enumerate(wplabels[1:][::-1]):\n",
    "        \n",
    "    tset(\n",
    "        ttbar.Get(f\"{wp}_hf4_jet_pt\"),\n",
    "        LineColor=ROOT.kRed,\n",
    "        LineStyle=i+1,\n",
    "        # MarkerStyle=1,\n",
    "    ).Draw(\"hist same\")\n",
    "\n",
    "ROOT.gPad.Draw()"
   ]
  },
  {
   "cell_type": "code",
   "execution_count": 85,
   "id": "02f3d7fc",
   "metadata": {},
   "outputs": [
    {
     "name": "stderr",
     "output_type": "stream",
     "text": [
      "Warning in <TEfficiency::GetEfficiencyErrorLow>: frequentist confidence intervals for weights are only supported by the normal approximation\n",
      "Info in <TEfficiency::GetEfficiencyErrorLow>: setting statistic option to kFNormal\n",
      "Warning in <TEfficiency::GetEfficiencyErrorLow>: frequentist confidence intervals for weights are only supported by the normal approximation\n",
      "Info in <TEfficiency::GetEfficiencyErrorLow>: setting statistic option to kFNormal\n",
      "Warning in <TEfficiency::GetEfficiencyErrorLow>: frequentist confidence intervals for weights are only supported by the normal approximation\n",
      "Info in <TEfficiency::GetEfficiencyErrorLow>: setting statistic option to kFNormal\n"
     ]
    },
    {
     "data": {
      "image/png": "[encoded data removed]",
      "text/plain": [
       "<IPython.core.display.Image object>"
      ]
     },
     "metadata": {},
     "output_type": "display_data"
    }
   ],
   "source": [
    "canvas = tset(\n",
    "    ROOT.TCanvas(\"\",\"\",500,500),\n",
    "    LeftMargin=0.15,\n",
    ")\n",
    "\n",
    "h = tset(\n",
    "    effi.Get(f\"loose_hf4_jet_pt\"),\n",
    "    LineColor=ROOT.kRed,\n",
    "    LineStyle=3,\n",
    "    # MarkerStyle=1,\n",
    ")\n",
    "\n",
    "h.Draw(\"ACP\")\n",
    "\n",
    "canvas.Update()\n",
    "tset(h.GetPaintedGraph(),Maximum=1, Minimum=0.5e-3)\n",
    "\n",
    "tset(\n",
    "    effi.Get(f\"medium_hf4_jet_pt\"),\n",
    "    LineColor=ROOT.kRed,\n",
    "    LineStyle=2,\n",
    "    # MarkerStyle=1,\n",
    ").Draw(\"CP same\")\n",
    "\n",
    "tset(\n",
    "    effi.Get(f\"tight_hf4_jet_pt\"),\n",
    "    LineColor=ROOT.kRed,\n",
    "    LineStyle=1,\n",
    "    # MarkerStyle=1,\n",
    ").Draw(\"CP same\")\n",
    "        \n",
    "\n",
    "ROOT.gPad.Draw()"
   ]
  },
  {
   "cell_type": "code",
   "execution_count": 90,
   "id": "adc6de10",
   "metadata": {},
   "outputs": [
    {
     "data": {
      "image/png": "[encoded data removed]",
      "text/plain": [
       "<IPython.core.display.Image object>"
      ]
     },
     "metadata": {},
     "output_type": "display_data"
    }
   ],
   "source": [
    "canvas = tset(\n",
    "    ROOT.TCanvas(\"\",\"\",500,500),\n",
    "    LeftMargin=0.15,\n",
    "    Logy=True,\n",
    ")\n",
    "\n",
    "total = tset(\n",
    "    ttbar.Get(\"total_hf5_jet_pt\"),\n",
    "    LineColor=ROOT.kBlack,\n",
    "    MarkerStyle=1,\n",
    ")\n",
    "total.Draw()\n",
    "\n",
    "for i, wp in enumerate(wplabels[1:][::-1]):\n",
    "        \n",
    "    tset(\n",
    "        ttbar.Get(f\"{wp}_hf5_jet_pt\"),\n",
    "        LineColor=ROOT.kBlue,\n",
    "        LineStyle=i+1,\n",
    "        # MarkerStyle=1,\n",
    "    ).Draw(\"hist same\")\n",
    "\n",
    "ROOT.gPad.Draw()"
   ]
  },
  {
   "cell_type": "code",
   "execution_count": 86,
   "id": "dff08e1e",
   "metadata": {},
   "outputs": [
    {
     "name": "stderr",
     "output_type": "stream",
     "text": [
      "Warning in <TEfficiency::GetEfficiencyErrorLow>: frequentist confidence intervals for weights are only supported by the normal approximation\n",
      "Info in <TEfficiency::GetEfficiencyErrorLow>: setting statistic option to kFNormal\n",
      "Warning in <TEfficiency::GetEfficiencyErrorLow>: frequentist confidence intervals for weights are only supported by the normal approximation\n",
      "Info in <TEfficiency::GetEfficiencyErrorLow>: setting statistic option to kFNormal\n",
      "Warning in <TEfficiency::GetEfficiencyErrorLow>: frequentist confidence intervals for weights are only supported by the normal approximation\n",
      "Info in <TEfficiency::GetEfficiencyErrorLow>: setting statistic option to kFNormal\n"
     ]
    },
    {
     "data": {
      "image/png": "[encoded data removed]",
      "text/plain": [
       "<IPython.core.display.Image object>"
      ]
     },
     "metadata": {},
     "output_type": "display_data"
    }
   ],
   "source": [
    "canvas = tset(\n",
    "    ROOT.TCanvas(\"\",\"\",500,500),\n",
    "    LeftMargin=0.15,\n",
    ")\n",
    "\n",
    "h = tset(\n",
    "    effi.Get(f\"loose_hf5_jet_pt\"),\n",
    "    LineColor=ROOT.kBlue,\n",
    "    LineStyle=3,\n",
    "    # MarkerStyle=1,\n",
    ")\n",
    "\n",
    "h.Draw(\"ACP\")\n",
    "\n",
    "canvas.Update()\n",
    "tset(h.GetPaintedGraph(),Maximum=1, Minimum=0.5e-3)\n",
    "\n",
    "tset(\n",
    "    effi.Get(f\"medium_hf5_jet_pt\"),\n",
    "    LineColor=ROOT.kBlue,\n",
    "    LineStyle=2,\n",
    "    # MarkerStyle=1,\n",
    ").Draw(\"CP same\")\n",
    "\n",
    "tset(\n",
    "    effi.Get(f\"tight_hf5_jet_pt\"),\n",
    "    LineColor=ROOT.kBlue,\n",
    "    LineStyle=1,\n",
    "    # MarkerStyle=1,\n",
    ").Draw(\"CP same\")\n",
    "        \n",
    "\n",
    "ROOT.gPad.Draw()"
   ]
  },
  {
   "cell_type": "code",
   "execution_count": null,
   "id": "0a3468b0",
   "metadata": {},
   "outputs": [],
   "source": []
  }
 ],
 "metadata": {
  "interpreter": {
   "hash": "99d8ad6568882febb6ca5d1c2307614594cf6684ed0ce2b9f63bf31341fdb3d5"
  },
  "kernelspec": {
   "display_name": "Python 3.9.0 ('py-env')",
   "language": "python",
   "name": "python3"
  },
  "language_info": {
   "codemirror_mode": {
    "name": "ipython",
    "version": 3
   },
   "file_extension": ".py",
   "mimetype": "text/x-python",
   "name": "python",
   "nbconvert_exporter": "python",
   "pygments_lexer": "ipython3",
   "version": "3.9.15"
  }
 },
 "nbformat": 4,
 "nbformat_minor": 5
}

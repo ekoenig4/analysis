{
 "cells": [
  {
   "cell_type": "code",
   "execution_count": 1,
   "id": "9bfa3b5a",
   "metadata": {},
   "outputs": [],
   "source": [
    "%load_ext autoreload\n",
    "%autoreload 2\n",
    "\n",
    "import os\n",
    "os.environ['KMP_WARNINGS'] = 'off'\n",
    "import sys\n",
    "import git\n",
    "\n",
    "import uproot as ut\n",
    "import awkward as ak\n",
    "import numpy as np\n",
    "import math\n",
    "import vector\n",
    "import sympy as sp\n",
    "\n",
    "import re\n",
    "from tqdm import tqdm\n",
    "import timeit\n",
    "import re\n",
    "\n",
    "sys.path.append( git.Repo('.', search_parent_directories=True).working_tree_dir )\n",
    "from utils import *"
   ]
  },
  {
   "cell_type": "code",
   "execution_count": 2,
   "id": "6edca911",
   "metadata": {},
   "outputs": [],
   "source": [
    "%load_ext line_profiler\n",
    "%load_ext memory_profiler"
   ]
  },
  {
   "cell_type": "code",
   "execution_count": 3,
   "id": "e992d5bf",
   "metadata": {},
   "outputs": [],
   "source": [
    "varinfo.clear()"
   ]
  },
  {
   "cell_type": "code",
   "execution_count": 4,
   "id": "35308158",
   "metadata": {},
   "outputs": [],
   "source": [
    "module = fc.eightb.preselection.t8btag_minmass\n",
    "dout = \"yy_quadh\""
   ]
  },
  {
   "cell_type": "code",
   "execution_count": 5,
   "id": "c5968aac",
   "metadata": {},
   "outputs": [
    {
     "name": "stderr",
     "output_type": "stream",
     "text": [
      "100%|██████████| 8/8 [00:38<00:00,  4.84s/it]\n"
     ]
    }
   ],
   "source": [
    "altfile='yy_quadh_bkg10_soft025_md_{base}'\n",
    "# signal = ObjIter([])\n",
    "# signal = ObjIter([ Tree(f, report=False) for f in tqdm(module.signal_list) ])\n",
    "signal = ObjIter([ Tree(f, report=False, altfile=altfile) for f in tqdm(module.full_signal_list) ])\n",
    "\n",
    "bkg = ObjIter([])\n",
    "# bkg = ObjIter([ Tree(module.Run2_UL18.QCD_B_List, altfile=altfile), Tree(module.Run2_UL18.TTJets, altfile=altfile)])\n",
    "\n",
    "data = ObjIter([])\n",
    "# data = ObjIter([ Tree(module.Run2_UL18.JetHT_Data_UL_List) ])"
   ]
  },
  {
   "cell_type": "code",
   "execution_count": 21,
   "id": "76951760",
   "metadata": {},
   "outputs": [],
   "source": [
    "h4m = np.stack([ getattr(signal, f'{res}_m').apply(lambda m:m[:10000]).cat.to_numpy() for res in eightb.higgslist ], axis=1)\n",
    "from scipy import optimize\n",
    "def calc_dm(center, h4m=h4m):\n",
    "        n = len(center)\n",
    "        dm = np.sqrt( np.sum( ( (h4m[:,:n]-center)/center )**2, axis=-1 ) )\n",
    "        return dm\n",
    "\n",
    "def _find_best_(center):\n",
    "    dm = calc_dm(center)\n",
    "    mask = dm < 0.25\n",
    "    return 1-np.mean(mask)\n",
    "    # mu = ak.mean(dm[dm < 100])\n",
    "    # return mu\n",
    "\n",
    "r0 = (125,125,125,125)\n",
    "center = optimize.fmin(_find_best_, r0,)\n",
    "print(np.round(center, 2))\n",
    "\n",
    "def set_higgs_rm(t, center=center):\n",
    "    higgs_rm = {\n",
    "            f'{res}_rm':t[f'{res}_m']/r\n",
    "            for res,r in zip(eightb.higgslist,center)\n",
    "        }\n",
    "    t.extend(\n",
    "        **higgs_rm,\n",
    "        y1_h_rm = np.sqrt( (higgs_rm['H1Y1_rm']-1)**2 + (higgs_rm['H2Y1_rm']-1)**2),\n",
    "        y2_h_rm = np.sqrt( (higgs_rm['H1Y2_rm']-1)**2 + (higgs_rm['H2Y2_rm']-1)**2)\n",
    "    )\n",
    "        "
   ]
  }
 ],
 "metadata": {
  "interpreter": {
   "hash": "99d8ad6568882febb6ca5d1c2307614594cf6684ed0ce2b9f63bf31341fdb3d5"
  },
  "kernelspec": {
   "display_name": "Python 3.9.0 ('py-env')",
   "language": "python",
   "name": "python3"
  },
  "language_info": {
   "codemirror_mode": {
    "name": "ipython",
    "version": 3
   },
   "file_extension": ".py",
   "mimetype": "text/x-python",
   "name": "python",
   "nbconvert_exporter": "python",
   "pygments_lexer": "ipython3",
   "version": "3.9.15"
  }
 },
 "nbformat": 4,
 "nbformat_minor": 5
}

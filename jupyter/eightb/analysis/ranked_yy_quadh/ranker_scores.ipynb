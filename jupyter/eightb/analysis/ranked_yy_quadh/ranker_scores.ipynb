{
 "cells": [
  {
   "cell_type": "code",
   "execution_count": 1,
   "id": "9bfa3b5a",
   "metadata": {},
   "outputs": [],
   "source": [
    "%load_ext autoreload\n",
    "%autoreload 2\n",
    "\n",
    "import os\n",
    "os.environ['KMP_WARNINGS'] = 'off'\n",
    "import sys\n",
    "import git\n",
    "\n",
    "import uproot as ut\n",
    "import awkward as ak\n",
    "import numpy as np\n",
    "import math\n",
    "import vector\n",
    "import sympy as sp\n",
    "\n",
    "import re\n",
    "from tqdm import tqdm\n",
    "import timeit\n",
    "import re\n",
    "\n",
    "sys.path.append( git.Repo('.', search_parent_directories=True).working_tree_dir )\n",
    "from utils import *"
   ]
  },
  {
   "cell_type": "code",
   "execution_count": 2,
   "id": "6edca911",
   "metadata": {},
   "outputs": [],
   "source": [
    "%load_ext line_profiler\n",
    "%load_ext memory_profiler"
   ]
  },
  {
   "cell_type": "code",
   "execution_count": 3,
   "id": "e992d5bf",
   "metadata": {},
   "outputs": [],
   "source": [
    "varinfo.clear()"
   ]
  },
  {
   "cell_type": "code",
   "execution_count": 4,
   "id": "35308158",
   "metadata": {},
   "outputs": [],
   "source": [
    "module = fc.eightb.preselection.t8btag_minmass\n",
    "dout = \"yy_quadh\"\n",
    "reslist = ['h1y1']"
   ]
  },
  {
   "cell_type": "code",
   "execution_count": 5,
   "id": "c5968aac",
   "metadata": {},
   "outputs": [
    {
     "name": "stderr",
     "output_type": "stream",
     "text": [
      "100%|██████████| 3/3 [00:08<00:00,  2.91s/it]\n",
      "100%|██████████| 16/16 [00:13<00:00,  1.16it/s]\n",
      "100%|██████████| 1/1 [00:01<00:00,  1.30s/it]\n"
     ]
    }
   ],
   "source": [
    "altfile='yy_quadh_bkg10_soft025_md_{base}'\n",
    "# signal = ObjIter([])\n",
    "signal = ObjIter([ Tree(f, report=False) for f in tqdm(module.signal_list) ])\n",
    "# signal = ObjIter([ Tree(f, report=False) for f in tqdm(module.full_signal_list) ])\n",
    "\n",
    "# bkg = ObjIter([])\n",
    "bkg = ObjIter([ Tree(module.Run2_UL18.QCD_B_List), Tree(module.Run2_UL18.TTJets)])\n",
    "\n",
    "data = ObjIter([])\n",
    "# data = ObjIter([ Tree(module.Run2_UL18.JetHT_Data_UL_List) ])"
   ]
  },
  {
   "cell_type": "code",
   "execution_count": 6,
   "id": "f2a3257a",
   "metadata": {},
   "outputs": [
    {
     "data": {
      "text/plain": [
       "[None, None, None, None, None]"
      ]
     },
     "execution_count": 6,
     "metadata": {},
     "output_type": "execute_result"
    }
   ],
   "source": [
    "def load_reco_ranks(t, model=eightb.models.yy_quadh_bkg10_soft025_md):\n",
    "    ranker = eightb.load_weaver_output(t, model=model.path, fields=['scores','mass_rank','nres_rank']+[f'{res}_m' for res in reslist])\n",
    "    rename = dict(\n",
    "        scores='reco_rank'\n",
    "    ).get\n",
    "\n",
    "    t.extend(\n",
    "        **{\n",
    "            rename(key,key):ak.from_regular(array)\n",
    "            for key,array in ranker.items()\n",
    "        }\n",
    "    )\n",
    "\n",
    "(signal+bkg).apply(load_reco_ranks)"
   ]
  },
  {
   "cell_type": "code",
   "execution_count": 7,
   "id": "40140b8f",
   "metadata": {},
   "outputs": [],
   "source": [
    "\n",
    "t8btag = CollectionFilter('jet', filter=lambda t: ak_rank(-t.jet_btag, axis=-1) < 8)\n",
    "\n",
    "signal = signal.apply(t8btag)\n",
    "bkg = bkg.apply(t8btag)\n",
    "data = data.apply(t8btag)"
   ]
  },
  {
   "cell_type": "code",
   "execution_count": 8,
   "id": "1ef09c83",
   "metadata": {},
   "outputs": [],
   "source": [
    "event_filter = FilterSequence(\n",
    "    eightb.selected_jet_pt(),\n",
    "    eightb.selected_jet_btagwp()\n",
    ")\n",
    "\n",
    "signal = signal.apply(event_filter)\n",
    "bkg = bkg.apply(event_filter)\n",
    "data = data.apply(event_filter)"
   ]
  },
  {
   "cell_type": "code",
   "execution_count": 9,
   "id": "5f07edfa",
   "metadata": {},
   "outputs": [],
   "source": [
    "eightb = EventFilter('eightb', filter=lambda t:t.nfound_select==8)\n",
    "eightb_signal = signal.apply(eightb)"
   ]
  },
  {
   "cell_type": "code",
   "execution_count": 10,
   "id": "5fcf9645",
   "metadata": {},
   "outputs": [],
   "source": [
    "class sample_rank(ObjTransform):\n",
    "    def __call__(self, rank):\n",
    "        sample = ak.from_regular(np.random.randint(315, size=(len(rank), self.n)))\n",
    "        return rank[sample]"
   ]
  },
  {
   "cell_type": "markdown",
   "id": "9dccd5a2",
   "metadata": {},
   "source": [
    "# $$ \\text{mass rank} = 1 - \\exp(-\\frac{1}{2}\\sum_{i=1}^4(\\frac{m_i-125}{25})^2)$$ "
   ]
  },
  {
   "cell_type": "code",
   "execution_count": 11,
   "id": "28624b2b",
   "metadata": {},
   "outputs": [
    {
     "name": "stderr",
     "output_type": "stream",
     "text": [
      "100%|██████████| 3/3 [00:05<00:00,  1.72s/it]\n",
      "100%|██████████| 2/2 [00:03<00:00,  1.67s/it]\n"
     ]
    }
   ],
   "source": [
    "study.quick( \n",
    "    signal + bkg,\n",
    "    legend=True,\n",
    "    transforms=sample_rank(n=10),\n",
    "    varlist=['reco_rank','mass_rank','nres_rank'],\n",
    "    binlist=[(-0.05,1.05,10)]*3,\n",
    "    efficiency=True,\n",
    "    dim=-1,\n",
    "    saveas=f'{dout}/ranker/t8btag_rank'\n",
    ")\n",
    "study.quick( \n",
    "    signal + bkg,\n",
    "    legend=True, h_label_stat='mean',\n",
    "    transforms=sample_rank(n=10),\n",
    "    varlist=[lambda t : (t.reco_rank - t.mass_rank)**2,lambda t : (t.reco_rank - t.nres_rank)**2],\n",
    "    xlabels=['(reco_rank - mass_rank)^2','(reco_rank - nres_rank)^2'],\n",
    "    binlist=[(-0.05,1.05,10)]*3,\n",
    "    efficiency=True,\n",
    "    dim=-1,\n",
    "    saveas=f'{dout}/ranker/t8btag_rank_chi2'\n",
    ")"
   ]
  },
  {
   "cell_type": "code",
   "execution_count": 12,
   "id": "9203d534",
   "metadata": {},
   "outputs": [
    {
     "name": "stderr",
     "output_type": "stream",
     "text": [
      "100%|██████████| 3/3 [00:00<00:00,  5.64it/s]\n",
      "100%|██████████| 2/2 [00:00<00:00,  2.02it/s]\n"
     ]
    }
   ],
   "source": [
    "study.quick( \n",
    "    eightb_signal + bkg,\n",
    "    legend=True,\n",
    "    transforms=sample_rank(n=10),\n",
    "    varlist=['reco_rank','mass_rank','nres_rank'],\n",
    "    binlist=[(-0.05,1.05,10)]*3,\n",
    "    efficiency=True,\n",
    "    dim=-1,\n",
    "    saveas=f'{dout}/ranker/eightb_rank'\n",
    ")\n",
    "study.quick( \n",
    "    eightb_signal + bkg,\n",
    "    legend=True, h_label_stat='mean',\n",
    "    transforms=sample_rank(n=10),\n",
    "    varlist=[lambda t : (t.reco_rank - t.mass_rank)**2,lambda t : (t.reco_rank - t.nres_rank)**2],\n",
    "    xlabels=['(reco_rank - mass_rank)^2','(reco_rank - nres_rank)^2'],\n",
    "    binlist=[(-0.05,1.05,10)]*3,\n",
    "    efficiency=True,\n",
    "    dim=-1,\n",
    "    saveas=f'{dout}/ranker/eightb_rank_chi2'\n",
    ")"
   ]
  },
  {
   "cell_type": "code",
   "execution_count": 13,
   "id": "b38aecce",
   "metadata": {},
   "outputs": [
    {
     "name": "stderr",
     "output_type": "stream",
     "text": [
      "100%|██████████| 3/3 [00:01<00:00,  1.68it/s]\n",
      "100%|██████████| 2/2 [00:02<00:00,  1.21s/it]\n"
     ]
    }
   ],
   "source": [
    "study.quick( \n",
    "    signal + bkg,\n",
    "    legend=True, h_label_stat='mean',\n",
    "    varlist=[lambda t : (t.reco_rank)[ ak.argmax(t.reco_rank,axis=-1,keepdims=True) ],lambda t : (t.mass_rank)[ ak.argmax(t.reco_rank,axis=-1,keepdims=True) ],lambda t : (t.nres_rank)[ ak.argmax(t.reco_rank,axis=-1,keepdims=True) ]],\n",
    "    xlabels=['max reco_rank','max reco mass_rank','max reco nres_rank'],\n",
    "    binlist=[(-0.05,1.05,10)]*3,\n",
    "    efficiency=True,\n",
    "    dim=-1,\n",
    "    saveas=f'{dout}/ranker/t8btag_max_rank'\n",
    ")\n",
    "study.quick( \n",
    "    signal + bkg,\n",
    "    legend=True, h_label_stat='mean',\n",
    "    varlist=[lambda t : (t.reco_rank - t.mass_rank)[ ak.argmax(t.reco_rank,axis=-1,keepdims=True) ]**2,lambda t : (t.reco_rank - t.nres_rank)[ ak.argmax(t.reco_rank,axis=-1,keepdims=True) ]**2],\n",
    "    xlabels=['(max reco_rank - mass_rank)^2','(max reco_rank - nres_rank)^2'],\n",
    "    binlist=[(-0.05,1.05,10)]*3,\n",
    "    efficiency=True,\n",
    "    dim=-1,\n",
    "    saveas=f'{dout}/ranker/t8btag_max_rank_chi2'\n",
    ")"
   ]
  },
  {
   "cell_type": "code",
   "execution_count": 14,
   "id": "e46b5bf7",
   "metadata": {},
   "outputs": [
    {
     "name": "stderr",
     "output_type": "stream",
     "text": [
      "100%|██████████| 3/3 [00:00<00:00,  4.72it/s]\n",
      "100%|██████████| 2/2 [00:00<00:00,  2.75it/s]\n"
     ]
    }
   ],
   "source": [
    "study.quick( \n",
    "    eightb_signal + bkg,\n",
    "    legend=True, h_label_stat='mean',\n",
    "    varlist=[lambda t : (t.reco_rank)[ ak.argmax(t.reco_rank,axis=-1,keepdims=True) ],lambda t : (t.mass_rank)[ ak.argmax(t.reco_rank,axis=-1,keepdims=True) ],lambda t : (t.nres_rank)[ ak.argmax(t.reco_rank,axis=-1,keepdims=True) ]],\n",
    "    xlabels=['max reco_rank','max reco mass_rank','max reco nres_rank'],\n",
    "    binlist=[(-0.05,1.05,10)]*3,\n",
    "    efficiency=True,\n",
    "    dim=-1,\n",
    "    saveas=f'{dout}/ranker/eightb_max_rank'\n",
    ")\n",
    "study.quick( \n",
    "    eightb_signal + bkg,\n",
    "    legend=True, h_label_stat='mean',\n",
    "    varlist=[lambda t : (t.reco_rank - t.mass_rank)[ ak.argmax(t.reco_rank,axis=-1,keepdims=True) ]**2,lambda t : (t.reco_rank - t.nres_rank)[ ak.argmax(t.reco_rank,axis=-1,keepdims=True) ]**2],\n",
    "    xlabels=['(max reco_rank - mass_rank)^2','(max reco_rank - nres_rank)^2'],\n",
    "    binlist=[(-0.05,1.05,10)]*3,\n",
    "    efficiency=True,\n",
    "    dim=-1,\n",
    "    saveas=f'{dout}/ranker/eightb_max_rank_chi2'\n",
    ")"
   ]
  },
  {
   "cell_type": "code",
   "execution_count": 20,
   "id": "29cf108d",
   "metadata": {},
   "outputs": [
    {
     "data": {
      "text/plain": [
       "[None, None, None, None, None, None, None, None]"
      ]
     },
     "execution_count": 20,
     "metadata": {},
     "output_type": "execute_result"
    }
   ],
   "source": [
    "def ordered_reco(t):\n",
    "\n",
    "    order = ak.argsort(t.reco_rank,axis=-1,ascending=False)\n",
    "    reco_ord = dict(\n",
    "        reco_ord_rank=t.reco_rank[order],\n",
    "        **{\n",
    "            f'reco_ord_{res.lower()}_m': t[f'{res.lower()}_m'][order]\n",
    "            for res in reslist\n",
    "        }\n",
    "    )\n",
    "\n",
    "    t.extend(\n",
    "        **reco_ord\n",
    "    )\n",
    "(eightb_signal+signal+bkg).apply(ordered_reco)"
   ]
  },
  {
   "cell_type": "code",
   "execution_count": 27,
   "id": "ae9d36a5",
   "metadata": {},
   "outputs": [],
   "source": [
    "recos=np.linspace(0,314,4).astype(int)"
   ]
  },
  {
   "cell_type": "code",
   "execution_count": 28,
   "id": "03091fed",
   "metadata": {},
   "outputs": [
    {
     "name": "stderr",
     "output_type": "stream",
     "text": [
      "100%|██████████| 8/8 [00:01<00:00,  5.42it/s]\n"
     ]
    }
   ],
   "source": [
    "study.quick( \n",
    "    signal+bkg,\n",
    "    legend=True,\n",
    "    efficiency=True,\n",
    "    varlist=[ f'reco_ord_h1y1_m[:,{i}]' for i in recos] + [ f'reco_ord_rank[:,{i}]' for i in recos],\n",
    "    binlist=[(0,500,30)]*len(recos)+[(-0.05,1.05,30)]*len(recos),\n",
    "    ylim=(0,0.4), grid=True,\n",
    "    dim=(-1,4),\n",
    "    saveas=f'{dout}/ranker/t8btag_rank_ord_h1y1'\n",
    ")"
   ]
  },
  {
   "cell_type": "code",
   "execution_count": 30,
   "id": "f64d95de",
   "metadata": {},
   "outputs": [
    {
     "name": "stderr",
     "output_type": "stream",
     "text": [
      "100%|██████████| 8/8 [00:01<00:00,  7.03it/s]\n"
     ]
    }
   ],
   "source": [
    "study.quick( \n",
    "    eightb_signal+bkg,\n",
    "    legend=True,\n",
    "    efficiency=True,\n",
    "    varlist=[ f'reco_ord_h1y1_m[:,{i}]' for i in recos] + [ f'reco_ord_rank[:,{i}]' for i in recos],\n",
    "    binlist=[(0,500,30)]*len(recos)+[(-0.05,1.05,30)]*len(recos),\n",
    "    ylim=(0,0.4), grid=True,\n",
    "    dim=(-1,4),\n",
    "    saveas=f'{dout}/ranker/eightb_rank_ord_h1y1'\n",
    ")"
   ]
  },
  {
   "cell_type": "code",
   "execution_count": 37,
   "id": "f42d108c",
   "metadata": {},
   "outputs": [
    {
     "name": "stderr",
     "output_type": "stream",
     "text": [
      "100%|██████████| 9/9 [00:11<00:00,  1.23s/it]\n"
     ]
    }
   ],
   "source": [
    "study.pairplot(\n",
    "    signal+bkg,\n",
    "    legend=True,\n",
    "    varlist=['reco_ord_h1y1_m[:,0]','reco_ord_rank[:,0]','reco_ord_rank[:,314]'],\n",
    "    binlist=[(0,500,30),(-0.05,1.05,30),(-0.05,1.05,30)],\n",
    "    scatter=dict(fraction=5000, alpha=0.1),\n",
    "    saveas=f'{dout}/ranker/t8btag_pairplot'\n",
    ")"
   ]
  },
  {
   "cell_type": "code",
   "execution_count": 39,
   "id": "3452933d",
   "metadata": {},
   "outputs": [
    {
     "name": "stderr",
     "output_type": "stream",
     "text": [
      "100%|██████████| 9/9 [00:09<00:00,  1.08s/it]\n"
     ]
    }
   ],
   "source": [
    "study.pairplot(\n",
    "    eightb_signal+bkg,\n",
    "    legend=True,\n",
    "    varlist=['reco_ord_h1y1_m[:,0]','reco_ord_rank[:,0]','reco_ord_rank[:,314]'],\n",
    "    binlist=[(0,500,30),(-0.05,1.05,30),(-0.05,1.05,30)],\n",
    "    scatter=dict(fraction=5000, alpha=0.1),\n",
    "    saveas=f'{dout}/ranker/eightb_pairplot'\n",
    ")"
   ]
  },
  {
   "cell_type": "code",
   "execution_count": 44,
   "id": "243f4af4",
   "metadata": {},
   "outputs": [
    {
     "name": "stderr",
     "output_type": "stream",
     "text": [
      "100%|██████████| 315/315 [09:15<00:00,  1.76s/it]\n"
     ]
    }
   ],
   "source": [
    "recos=np.linspace(0,314,315).astype(int)\n",
    "\n",
    "for i in tqdm(recos):\n",
    "    study.quick( \n",
    "        eightb_signal + bkg,\n",
    "        legend=True, h_label_stat='mean',\n",
    "        varlist=[f'reco_ord_h1y1_m[:,{i}]', f'reco_ord_rank[:,{i}]'],\n",
    "        grid=True,\n",
    "        binlist=[(0,500,30), (-0.05,1.05,30)],\n",
    "        efficiency=True,\n",
    "        ylim=(0,0.7),\n",
    "        saveas=f'yy_quadh/gif/eightb_reco_ord_{i:03}',\n",
    "        report=False,\n",
    "    )\n",
    "# # plt.show()"
   ]
  },
  {
   "cell_type": "code",
   "execution_count": null,
   "id": "0a584118",
   "metadata": {},
   "outputs": [],
   "source": []
  }
 ],
 "metadata": {
  "interpreter": {
   "hash": "99d8ad6568882febb6ca5d1c2307614594cf6684ed0ce2b9f63bf31341fdb3d5"
  },
  "kernelspec": {
   "display_name": "Python 3.9.0 ('py-env')",
   "language": "python",
   "name": "python3"
  },
  "language_info": {
   "codemirror_mode": {
    "name": "ipython",
    "version": 3
   },
   "file_extension": ".py",
   "mimetype": "text/x-python",
   "name": "python",
   "nbconvert_exporter": "python",
   "pygments_lexer": "ipython3",
   "version": "3.9.15"
  }
 },
 "nbformat": 4,
 "nbformat_minor": 5
}

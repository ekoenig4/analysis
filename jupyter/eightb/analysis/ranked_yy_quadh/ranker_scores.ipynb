{
 "cells": [
  {
   "cell_type": "code",
   "execution_count": 1,
   "id": "9bfa3b5a",
   "metadata": {},
   "outputs": [],
   "source": [
    "%load_ext autoreload\n",
    "%autoreload 2\n",
    "\n",
    "import os\n",
    "os.environ['KMP_WARNINGS'] = 'off'\n",
    "import sys\n",
    "import git\n",
    "\n",
    "import uproot as ut\n",
    "import awkward as ak\n",
    "import numpy as np\n",
    "import math\n",
    "import vector\n",
    "import sympy as sp\n",
    "\n",
    "import re\n",
    "from tqdm import tqdm\n",
    "import timeit\n",
    "import re\n",
    "\n",
    "sys.path.append( git.Repo('.', search_parent_directories=True).working_tree_dir )\n",
    "from utils import *"
   ]
  },
  {
   "cell_type": "code",
   "execution_count": 2,
   "id": "6edca911",
   "metadata": {},
   "outputs": [],
   "source": [
    "%load_ext line_profiler\n",
    "%load_ext memory_profiler"
   ]
  },
  {
   "cell_type": "code",
   "execution_count": 3,
   "id": "e992d5bf",
   "metadata": {},
   "outputs": [],
   "source": [
    "varinfo.clear()"
   ]
  },
  {
   "cell_type": "code",
   "execution_count": 4,
   "id": "35308158",
   "metadata": {},
   "outputs": [],
   "source": [
    "module = fc.eightb.preselection.t8btag_minmass\n",
    "dout = \"yy_quadh\"\n",
    "reslist = ['y1','h1y1']"
   ]
  },
  {
   "cell_type": "code",
   "execution_count": 5,
   "id": "c5968aac",
   "metadata": {},
   "outputs": [
    {
     "name": "stderr",
     "output_type": "stream",
     "text": [
      "100%|██████████| 3/3 [00:05<00:00,  1.75s/it]\n",
      "100%|██████████| 16/16 [00:06<00:00,  2.36it/s]\n",
      "100%|██████████| 1/1 [00:00<00:00,  1.18it/s]\n"
     ]
    }
   ],
   "source": [
    "altfile='yy_quadh_bkg10_soft025_md_{base}'\n",
    "# signal = ObjIter([])\n",
    "signal = ObjIter([ Tree(f, report=False) for f in tqdm(module.signal_list) ])\n",
    "# signal = ObjIter([ Tree(f, report=False) for f in tqdm(module.full_signal_list) ])\n",
    "\n",
    "# bkg = ObjIter([])\n",
    "bkg = ObjIter([ Tree(module.Run2_UL18.QCD_B_List), Tree(module.Run2_UL18.TTJets)])\n",
    "\n",
    "data = ObjIter([])\n",
    "# data = ObjIter([ Tree(module.Run2_UL18.JetHT_Data_UL_List) ])"
   ]
  },
  {
   "cell_type": "code",
   "execution_count": 6,
   "id": "f2a3257a",
   "metadata": {},
   "outputs": [
    {
     "data": {
      "text/plain": [
       "[None, None, None, None, None]"
      ]
     },
     "execution_count": 6,
     "metadata": {},
     "output_type": "execute_result"
    }
   ],
   "source": [
    "def load_reco_ranks(t, model=eightb.models.yy_quadh_bkg10_allsig):\n",
    "    ranker = eightb.load_weaver_output(t, model=model.path, fields=['scores','mass_rank','nres_rank']+[f'{res}_m' for res in reslist])\n",
    "    rename = dict(\n",
    "        scores='reco_rank'\n",
    "    ).get\n",
    "\n",
    "    t.extend(\n",
    "        **{\n",
    "            rename(key,key):ak.from_regular(array)\n",
    "            for key,array in ranker.items()\n",
    "        }\n",
    "    )\n",
    "\n",
    "(signal+bkg).apply(load_reco_ranks)"
   ]
  },
  {
   "cell_type": "code",
   "execution_count": 7,
   "id": "1ef09c83",
   "metadata": {},
   "outputs": [],
   "source": [
    "event_filter = FilterSequence(\n",
    "    eightb.selected_jet_pt(),\n",
    "    eightb.selected_jet_btagwp()\n",
    ")\n",
    "\n",
    "signal = signal.apply(event_filter)\n",
    "bkg = bkg.apply(event_filter)\n",
    "data = data.apply(event_filter)"
   ]
  },
  {
   "cell_type": "code",
   "execution_count": 8,
   "id": "5f07edfa",
   "metadata": {},
   "outputs": [],
   "source": [
    "eightb_filter = EventFilter('eightb', filter=lambda t:t.nfound_select==8)\n",
    "eightb_signal = signal.apply(eightb_filter)"
   ]
  },
  {
   "cell_type": "code",
   "execution_count": 9,
   "id": "5fcf9645",
   "metadata": {},
   "outputs": [],
   "source": [
    "class sample_rank(ObjTransform):\n",
    "    def __call__(self, rank):\n",
    "        sample = ak.from_regular(np.random.randint(315, size=(len(rank), self.n)))\n",
    "        return rank[sample]"
   ]
  },
  {
   "cell_type": "markdown",
   "id": "9dccd5a2",
   "metadata": {},
   "source": [
    "# $$ \\text{mass rank} = 1 - \\exp(-\\frac{1}{2}\\sum_{i=1}^4(\\frac{m_i-125}{25})^2)$$ "
   ]
  },
  {
   "cell_type": "code",
   "execution_count": 10,
   "id": "28624b2b",
   "metadata": {},
   "outputs": [
    {
     "name": "stderr",
     "output_type": "stream",
     "text": [
      "100%|██████████| 3/3 [00:03<00:00,  1.13s/it]\n",
      "100%|██████████| 2/2 [00:03<00:00,  1.62s/it]\n"
     ]
    }
   ],
   "source": [
    "study.quick( \n",
    "    signal + bkg,\n",
    "    legend=True,\n",
    "    transforms=sample_rank(n=10),\n",
    "    varlist=['reco_rank','mass_rank','nres_rank'],\n",
    "    binlist=[(-0.05,1.05,10)]*3,\n",
    "    efficiency=True,\n",
    "    dim=-1,\n",
    "    saveas=f'{dout}/ranker/t8btag_rank'\n",
    ")\n",
    "study.quick( \n",
    "    signal + bkg,\n",
    "    legend=True, h_label_stat='mean',\n",
    "    transforms=sample_rank(n=10),\n",
    "    varlist=[lambda t : (t.reco_rank - t.mass_rank)**2,lambda t : (t.reco_rank - t.nres_rank)**2],\n",
    "    xlabels=['(reco_rank - mass_rank)^2','(reco_rank - nres_rank)^2'],\n",
    "    binlist=[(-0.05,1.05,10)]*3,\n",
    "    efficiency=True,\n",
    "    dim=-1,\n",
    "    saveas=f'{dout}/ranker/t8btag_rank_chi2'\n",
    ")"
   ]
  },
  {
   "cell_type": "code",
   "execution_count": 11,
   "id": "9203d534",
   "metadata": {},
   "outputs": [
    {
     "name": "stderr",
     "output_type": "stream",
     "text": [
      "100%|██████████| 3/3 [00:00<00:00,  9.68it/s]\n",
      "100%|██████████| 2/2 [00:00<00:00,  3.52it/s]\n"
     ]
    }
   ],
   "source": [
    "study.quick( \n",
    "    eightb_signal + bkg,\n",
    "    legend=True,\n",
    "    transforms=sample_rank(n=10),\n",
    "    varlist=['reco_rank','mass_rank','nres_rank'],\n",
    "    binlist=[(-0.05,1.05,10)]*3,\n",
    "    efficiency=True,\n",
    "    dim=-1,\n",
    "    saveas=f'{dout}/ranker/eightb_rank'\n",
    ")\n",
    "study.quick( \n",
    "    eightb_signal + bkg,\n",
    "    legend=True, h_label_stat='mean',\n",
    "    transforms=sample_rank(n=10),\n",
    "    varlist=[lambda t : (t.reco_rank - t.mass_rank)**2,lambda t : (t.reco_rank - t.nres_rank)**2],\n",
    "    xlabels=['(reco_rank - mass_rank)^2','(reco_rank - nres_rank)^2'],\n",
    "    binlist=[(-0.05,1.05,10)]*3,\n",
    "    efficiency=True,\n",
    "    dim=-1,\n",
    "    saveas=f'{dout}/ranker/eightb_rank_chi2'\n",
    ")"
   ]
  },
  {
   "cell_type": "code",
   "execution_count": 12,
   "id": "b38aecce",
   "metadata": {},
   "outputs": [
    {
     "name": "stderr",
     "output_type": "stream",
     "text": [
      "100%|██████████| 3/3 [00:02<00:00,  1.22it/s]\n",
      "100%|██████████| 2/2 [00:02<00:00,  1.50s/it]\n"
     ]
    }
   ],
   "source": [
    "study.quick( \n",
    "    signal + bkg,\n",
    "    legend=True, h_label_stat='mean',\n",
    "    varlist=[lambda t : (t.reco_rank)[ ak.argmax(t.reco_rank,axis=-1,keepdims=True) ],lambda t : (t.mass_rank)[ ak.argmax(t.reco_rank,axis=-1,keepdims=True) ],lambda t : (t.nres_rank)[ ak.argmax(t.reco_rank,axis=-1,keepdims=True) ]],\n",
    "    xlabels=['max reco_rank','max reco mass_rank','max reco nres_rank'],\n",
    "    binlist=[(-0.05,1.05,10)]*3,\n",
    "    efficiency=True,\n",
    "    dim=-1,\n",
    "    saveas=f'{dout}/ranker/t8btag_max_rank'\n",
    ")\n",
    "study.quick( \n",
    "    signal + bkg,\n",
    "    legend=True, h_label_stat='mean',\n",
    "    varlist=[lambda t : (t.reco_rank - t.mass_rank)[ ak.argmax(t.reco_rank,axis=-1,keepdims=True) ]**2,lambda t : (t.reco_rank - t.nres_rank)[ ak.argmax(t.reco_rank,axis=-1,keepdims=True) ]**2],\n",
    "    xlabels=['(max reco_rank - mass_rank)^2','(max reco_rank - nres_rank)^2'],\n",
    "    binlist=[(-0.05,1.05,10)]*3,\n",
    "    efficiency=True,\n",
    "    dim=-1,\n",
    "    saveas=f'{dout}/ranker/t8btag_max_rank_chi2'\n",
    ")"
   ]
  },
  {
   "cell_type": "code",
   "execution_count": 13,
   "id": "e46b5bf7",
   "metadata": {},
   "outputs": [
    {
     "name": "stderr",
     "output_type": "stream",
     "text": [
      "100%|██████████| 3/3 [00:00<00:00,  7.45it/s]\n",
      "100%|██████████| 2/2 [00:00<00:00,  3.95it/s]\n"
     ]
    }
   ],
   "source": [
    "study.quick( \n",
    "    eightb_signal + bkg,\n",
    "    legend=True, h_label_stat='mean',\n",
    "    varlist=[lambda t : (t.reco_rank)[ ak.argmax(t.reco_rank,axis=-1,keepdims=True) ],lambda t : (t.mass_rank)[ ak.argmax(t.reco_rank,axis=-1,keepdims=True) ],lambda t : (t.nres_rank)[ ak.argmax(t.reco_rank,axis=-1,keepdims=True) ]],\n",
    "    xlabels=['max reco_rank','max reco mass_rank','max reco nres_rank'],\n",
    "    binlist=[(-0.05,1.05,10)]*3,\n",
    "    efficiency=True,\n",
    "    dim=-1,\n",
    "    saveas=f'{dout}/ranker/eightb_max_rank'\n",
    ")\n",
    "study.quick( \n",
    "    eightb_signal + bkg,\n",
    "    legend=True, h_label_stat='mean',\n",
    "    varlist=[lambda t : (t.reco_rank - t.mass_rank)[ ak.argmax(t.reco_rank,axis=-1,keepdims=True) ]**2,lambda t : (t.reco_rank - t.nres_rank)[ ak.argmax(t.reco_rank,axis=-1,keepdims=True) ]**2],\n",
    "    xlabels=['(max reco_rank - mass_rank)^2','(max reco_rank - nres_rank)^2'],\n",
    "    binlist=[(-0.05,1.05,10)]*3,\n",
    "    efficiency=True,\n",
    "    dim=-1,\n",
    "    saveas=f'{dout}/ranker/eightb_max_rank_chi2'\n",
    ")"
   ]
  },
  {
   "cell_type": "code",
   "execution_count": 15,
   "id": "ccd6028d",
   "metadata": {},
   "outputs": [
    {
     "ename": "NameError",
     "evalue": "name 'recos' is not defined",
     "output_type": "error",
     "traceback": [
      "\u001b[0;31m---------------------------------------------------------------------------\u001b[0m",
      "\u001b[0;31mNameError\u001b[0m                                 Traceback (most recent call last)",
      "Cell \u001b[0;32mIn [15], line 5\u001b[0m\n\u001b[1;32m      1\u001b[0m study\u001b[38;5;241m.\u001b[39mquick( \n\u001b[1;32m      2\u001b[0m     signal\u001b[38;5;241m+\u001b[39mbkg,\n\u001b[1;32m      3\u001b[0m     legend\u001b[38;5;241m=\u001b[39m\u001b[38;5;28;01mTrue\u001b[39;00m,\n\u001b[1;32m      4\u001b[0m     efficiency\u001b[38;5;241m=\u001b[39m\u001b[38;5;28;01mTrue\u001b[39;00m,\n\u001b[0;32m----> 5\u001b[0m     varlist\u001b[38;5;241m=\u001b[39m[ \u001b[38;5;124mf\u001b[39m\u001b[38;5;124m'\u001b[39m\u001b[38;5;124my1_m[:,\u001b[39m\u001b[38;5;132;01m{\u001b[39;00mi\u001b[38;5;132;01m}\u001b[39;00m\u001b[38;5;124m]\u001b[39m\u001b[38;5;124m'\u001b[39m \u001b[38;5;28;01mfor\u001b[39;00m i \u001b[38;5;129;01min\u001b[39;00m \u001b[43mrecos\u001b[49m],\n\u001b[1;32m      6\u001b[0m     binlist\u001b[38;5;241m=\u001b[39m[(\u001b[38;5;241m0\u001b[39m,\u001b[38;5;241m1000\u001b[39m,\u001b[38;5;241m30\u001b[39m)]\u001b[38;5;241m*\u001b[39m\u001b[38;5;28mlen\u001b[39m(recos),\n\u001b[1;32m      7\u001b[0m     ylim\u001b[38;5;241m=\u001b[39m(\u001b[38;5;241m0\u001b[39m,\u001b[38;5;241m0.4\u001b[39m), grid\u001b[38;5;241m=\u001b[39m\u001b[38;5;28;01mTrue\u001b[39;00m,\n\u001b[1;32m      8\u001b[0m     dim\u001b[38;5;241m=\u001b[39m(\u001b[38;5;241m-\u001b[39m\u001b[38;5;241m1\u001b[39m,\u001b[38;5;241m4\u001b[39m),\n\u001b[1;32m      9\u001b[0m     saveas\u001b[38;5;241m=\u001b[39m\u001b[38;5;124mf\u001b[39m\u001b[38;5;124m'\u001b[39m\u001b[38;5;132;01m{\u001b[39;00mdout\u001b[38;5;132;01m}\u001b[39;00m\u001b[38;5;124m/ranker/t8btag_rank_ord_h1y1\u001b[39m\u001b[38;5;124m'\u001b[39m\n\u001b[1;32m     10\u001b[0m )\n",
      "\u001b[0;31mNameError\u001b[0m: name 'recos' is not defined"
     ]
    }
   ],
   "source": [
    "study.quick( \n",
    "    signal+bkg,\n",
    "    legend=True,\n",
    "    efficiency=True,\n",
    "    varlist=[ f'y1_m[:,{i}]' for i in recos],\n",
    "    binlist=[(0,1000,30)]*len(recos),\n",
    "    ylim=(0,0.4), grid=True,\n",
    "    dim=(-1,4),\n",
    "    # saveas=f'{dout}/ranker/t8btag_rank_ord_h1y1'\n",
    ")"
   ]
  },
  {
   "cell_type": "code",
   "execution_count": 14,
   "id": "29cf108d",
   "metadata": {},
   "outputs": [
    {
     "ename": "MemoryError",
     "evalue": "std::bad_alloc",
     "output_type": "error",
     "traceback": [
      "\u001b[0;31m---------------------------------------------------------------------------\u001b[0m",
      "\u001b[0;31mMemoryError\u001b[0m                               Traceback (most recent call last)",
      "Cell \u001b[0;32mIn [14], line 15\u001b[0m\n\u001b[1;32m      4\u001b[0m     reco_ord \u001b[38;5;241m=\u001b[39m \u001b[38;5;28mdict\u001b[39m(\n\u001b[1;32m      5\u001b[0m         reco_ord_rank\u001b[38;5;241m=\u001b[39mt\u001b[38;5;241m.\u001b[39mreco_rank[order],\n\u001b[1;32m      6\u001b[0m         \u001b[38;5;241m*\u001b[39m\u001b[38;5;241m*\u001b[39m{\n\u001b[0;32m   (...)\u001b[0m\n\u001b[1;32m      9\u001b[0m         }\n\u001b[1;32m     10\u001b[0m     )\n\u001b[1;32m     12\u001b[0m     t\u001b[38;5;241m.\u001b[39mextend(\n\u001b[1;32m     13\u001b[0m         \u001b[38;5;241m*\u001b[39m\u001b[38;5;241m*\u001b[39mreco_ord\n\u001b[1;32m     14\u001b[0m     )\n\u001b[0;32m---> 15\u001b[0m \u001b[43m(\u001b[49m\u001b[43meightb_signal\u001b[49m\u001b[38;5;241;43m+\u001b[39;49m\u001b[43msignal\u001b[49m\u001b[38;5;241;43m+\u001b[39;49m\u001b[43mbkg\u001b[49m\u001b[43m)\u001b[49m\u001b[38;5;241;43m.\u001b[39;49m\u001b[43mapply\u001b[49m\u001b[43m(\u001b[49m\u001b[43mordered_reco\u001b[49m\u001b[43m)\u001b[49m\n",
      "File \u001b[0;32m/uscms_data/d3/ekoenig/8BAnalysis/studies/eightbStudies/utils/classUtils/ObjIter.py:149\u001b[0m, in \u001b[0;36mObjIter.apply\u001b[0;34m(self, obj_function, report, parallel)\u001b[0m\n\u001b[1;32m    <a href='file:///uscms_data/d3/ekoenig/8BAnalysis/studies/eightbStudies/utils/classUtils/ObjIter.py?line=145'>146</a>\u001b[0m     \u001b[39mreturn\u001b[39;00m \u001b[39mself\u001b[39m\u001b[39m.\u001b[39m_parallel_apply(obj_function, jobs\u001b[39m=\u001b[39mparallel)\n\u001b[1;32m    <a href='file:///uscms_data/d3/ekoenig/8BAnalysis/studies/eightbStudies/utils/classUtils/ObjIter.py?line=147'>148</a>\u001b[0m it \u001b[39m=\u001b[39m tqdm(\u001b[39mself\u001b[39m) \u001b[39mif\u001b[39;00m report \u001b[39melse\u001b[39;00m \u001b[39mself\u001b[39m\n\u001b[0;32m--> <a href='file:///uscms_data/d3/ekoenig/8BAnalysis/studies/eightbStudies/utils/classUtils/ObjIter.py?line=148'>149</a>\u001b[0m out \u001b[39m=\u001b[39m ObjIter([ obj_function(obj) \u001b[39mfor\u001b[39;00m obj \u001b[39min\u001b[39;00m it ])\n\u001b[1;32m    <a href='file:///uscms_data/d3/ekoenig/8BAnalysis/studies/eightbStudies/utils/classUtils/ObjIter.py?line=150'>151</a>\u001b[0m \u001b[39mreturn\u001b[39;00m out\n",
      "File \u001b[0;32m/uscms_data/d3/ekoenig/8BAnalysis/studies/eightbStudies/utils/classUtils/ObjIter.py:149\u001b[0m, in \u001b[0;36m<listcomp>\u001b[0;34m(.0)\u001b[0m\n\u001b[1;32m    <a href='file:///uscms_data/d3/ekoenig/8BAnalysis/studies/eightbStudies/utils/classUtils/ObjIter.py?line=145'>146</a>\u001b[0m     \u001b[39mreturn\u001b[39;00m \u001b[39mself\u001b[39m\u001b[39m.\u001b[39m_parallel_apply(obj_function, jobs\u001b[39m=\u001b[39mparallel)\n\u001b[1;32m    <a href='file:///uscms_data/d3/ekoenig/8BAnalysis/studies/eightbStudies/utils/classUtils/ObjIter.py?line=147'>148</a>\u001b[0m it \u001b[39m=\u001b[39m tqdm(\u001b[39mself\u001b[39m) \u001b[39mif\u001b[39;00m report \u001b[39melse\u001b[39;00m \u001b[39mself\u001b[39m\n\u001b[0;32m--> <a href='file:///uscms_data/d3/ekoenig/8BAnalysis/studies/eightbStudies/utils/classUtils/ObjIter.py?line=148'>149</a>\u001b[0m out \u001b[39m=\u001b[39m ObjIter([ obj_function(obj) \u001b[39mfor\u001b[39;00m obj \u001b[39min\u001b[39;00m it ])\n\u001b[1;32m    <a href='file:///uscms_data/d3/ekoenig/8BAnalysis/studies/eightbStudies/utils/classUtils/ObjIter.py?line=150'>151</a>\u001b[0m \u001b[39mreturn\u001b[39;00m out\n",
      "Cell \u001b[0;32mIn [14], line 6\u001b[0m, in \u001b[0;36mordered_reco\u001b[0;34m(t)\u001b[0m\n\u001b[1;32m      1\u001b[0m \u001b[38;5;28;01mdef\u001b[39;00m \u001b[38;5;21mordered_reco\u001b[39m(t):\n\u001b[1;32m      3\u001b[0m     order \u001b[38;5;241m=\u001b[39m ak\u001b[38;5;241m.\u001b[39margsort(t\u001b[38;5;241m.\u001b[39mreco_rank,axis\u001b[38;5;241m=\u001b[39m\u001b[38;5;241m-\u001b[39m\u001b[38;5;241m1\u001b[39m,ascending\u001b[38;5;241m=\u001b[39m\u001b[38;5;28;01mFalse\u001b[39;00m)\n\u001b[1;32m      4\u001b[0m     reco_ord \u001b[38;5;241m=\u001b[39m \u001b[38;5;28mdict\u001b[39m(\n\u001b[1;32m      5\u001b[0m         reco_ord_rank\u001b[38;5;241m=\u001b[39mt\u001b[38;5;241m.\u001b[39mreco_rank[order],\n\u001b[0;32m----> 6\u001b[0m         \u001b[38;5;241m*\u001b[39m\u001b[38;5;241m*\u001b[39m{\n\u001b[1;32m      7\u001b[0m             \u001b[38;5;124mf\u001b[39m\u001b[38;5;124m'\u001b[39m\u001b[38;5;124mreco_ord_\u001b[39m\u001b[38;5;132;01m{\u001b[39;00mres\u001b[38;5;241m.\u001b[39mlower()\u001b[38;5;132;01m}\u001b[39;00m\u001b[38;5;124m_m\u001b[39m\u001b[38;5;124m'\u001b[39m: t[\u001b[38;5;124mf\u001b[39m\u001b[38;5;124m'\u001b[39m\u001b[38;5;132;01m{\u001b[39;00mres\u001b[38;5;241m.\u001b[39mlower()\u001b[38;5;132;01m}\u001b[39;00m\u001b[38;5;124m_m\u001b[39m\u001b[38;5;124m'\u001b[39m][order]\n\u001b[1;32m      8\u001b[0m             \u001b[38;5;28;01mfor\u001b[39;00m res \u001b[38;5;129;01min\u001b[39;00m reslist\n\u001b[1;32m      9\u001b[0m         }\n\u001b[1;32m     10\u001b[0m     )\n\u001b[1;32m     12\u001b[0m     t\u001b[38;5;241m.\u001b[39mextend(\n\u001b[1;32m     13\u001b[0m         \u001b[38;5;241m*\u001b[39m\u001b[38;5;241m*\u001b[39mreco_ord\n\u001b[1;32m     14\u001b[0m     )\n",
      "Cell \u001b[0;32mIn [14], line 7\u001b[0m, in \u001b[0;36m<dictcomp>\u001b[0;34m(.0)\u001b[0m\n\u001b[1;32m      1\u001b[0m \u001b[38;5;28;01mdef\u001b[39;00m \u001b[38;5;21mordered_reco\u001b[39m(t):\n\u001b[1;32m      3\u001b[0m     order \u001b[38;5;241m=\u001b[39m ak\u001b[38;5;241m.\u001b[39margsort(t\u001b[38;5;241m.\u001b[39mreco_rank,axis\u001b[38;5;241m=\u001b[39m\u001b[38;5;241m-\u001b[39m\u001b[38;5;241m1\u001b[39m,ascending\u001b[38;5;241m=\u001b[39m\u001b[38;5;28;01mFalse\u001b[39;00m)\n\u001b[1;32m      4\u001b[0m     reco_ord \u001b[38;5;241m=\u001b[39m \u001b[38;5;28mdict\u001b[39m(\n\u001b[1;32m      5\u001b[0m         reco_ord_rank\u001b[38;5;241m=\u001b[39mt\u001b[38;5;241m.\u001b[39mreco_rank[order],\n\u001b[1;32m      6\u001b[0m         \u001b[38;5;241m*\u001b[39m\u001b[38;5;241m*\u001b[39m{\n\u001b[0;32m----> 7\u001b[0m             \u001b[38;5;124mf\u001b[39m\u001b[38;5;124m'\u001b[39m\u001b[38;5;124mreco_ord_\u001b[39m\u001b[38;5;132;01m{\u001b[39;00mres\u001b[38;5;241m.\u001b[39mlower()\u001b[38;5;132;01m}\u001b[39;00m\u001b[38;5;124m_m\u001b[39m\u001b[38;5;124m'\u001b[39m: \u001b[43mt\u001b[49m\u001b[43m[\u001b[49m\u001b[38;5;124;43mf\u001b[39;49m\u001b[38;5;124;43m'\u001b[39;49m\u001b[38;5;132;43;01m{\u001b[39;49;00m\u001b[43mres\u001b[49m\u001b[38;5;241;43m.\u001b[39;49m\u001b[43mlower\u001b[49m\u001b[43m(\u001b[49m\u001b[43m)\u001b[49m\u001b[38;5;132;43;01m}\u001b[39;49;00m\u001b[38;5;124;43m_m\u001b[39;49m\u001b[38;5;124;43m'\u001b[39;49m\u001b[43m]\u001b[49m\u001b[43m[\u001b[49m\u001b[43morder\u001b[49m\u001b[43m]\u001b[49m\n\u001b[1;32m      8\u001b[0m             \u001b[38;5;28;01mfor\u001b[39;00m res \u001b[38;5;129;01min\u001b[39;00m reslist\n\u001b[1;32m      9\u001b[0m         }\n\u001b[1;32m     10\u001b[0m     )\n\u001b[1;32m     12\u001b[0m     t\u001b[38;5;241m.\u001b[39mextend(\n\u001b[1;32m     13\u001b[0m         \u001b[38;5;241m*\u001b[39m\u001b[38;5;241m*\u001b[39mreco_ord\n\u001b[1;32m     14\u001b[0m     )\n",
      "File \u001b[0;32m/uscms_data/d3/ekoenig/mambaforge/envs/py-env/lib/python3.9/site-packages/awkward/highlevel.py:991\u001b[0m, in \u001b[0;36mArray.__getitem__\u001b[0;34m(self, where)\u001b[0m\n\u001b[1;32m    <a href='file:///uscms_data/d3/ekoenig/mambaforge/envs/py-env/lib/python3.9/site-packages/awkward/highlevel.py?line=578'>579</a>\u001b[0m \u001b[39m\"\"\"\u001b[39;00m\n\u001b[1;32m    <a href='file:///uscms_data/d3/ekoenig/mambaforge/envs/py-env/lib/python3.9/site-packages/awkward/highlevel.py?line=579'>580</a>\u001b[0m \u001b[39mArgs:\u001b[39;00m\n\u001b[1;32m    <a href='file:///uscms_data/d3/ekoenig/mambaforge/envs/py-env/lib/python3.9/site-packages/awkward/highlevel.py?line=580'>581</a>\u001b[0m \u001b[39m    where (many types supported; see below): Index of positions to\u001b[39;00m\n\u001b[0;32m   (...)\u001b[0m\n\u001b[1;32m    <a href='file:///uscms_data/d3/ekoenig/mambaforge/envs/py-env/lib/python3.9/site-packages/awkward/highlevel.py?line=987'>988</a>\u001b[0m \u001b[39mhave the same dimension as the array being indexed.\u001b[39;00m\n\u001b[1;32m    <a href='file:///uscms_data/d3/ekoenig/mambaforge/envs/py-env/lib/python3.9/site-packages/awkward/highlevel.py?line=988'>989</a>\u001b[0m \u001b[39m\"\"\"\u001b[39;00m\n\u001b[1;32m    <a href='file:///uscms_data/d3/ekoenig/mambaforge/envs/py-env/lib/python3.9/site-packages/awkward/highlevel.py?line=989'>990</a>\u001b[0m \u001b[39mif\u001b[39;00m \u001b[39mnot\u001b[39;00m \u001b[39mhasattr\u001b[39m(\u001b[39mself\u001b[39m, \u001b[39m\"\u001b[39m\u001b[39m_tracers\u001b[39m\u001b[39m\"\u001b[39m):\n\u001b[0;32m--> <a href='file:///uscms_data/d3/ekoenig/mambaforge/envs/py-env/lib/python3.9/site-packages/awkward/highlevel.py?line=990'>991</a>\u001b[0m     tmp \u001b[39m=\u001b[39m ak\u001b[39m.\u001b[39m_util\u001b[39m.\u001b[39mwrap(\u001b[39mself\u001b[39;49m\u001b[39m.\u001b[39;49mlayout[where], \u001b[39mself\u001b[39m\u001b[39m.\u001b[39m_behavior)\n\u001b[1;32m    <a href='file:///uscms_data/d3/ekoenig/mambaforge/envs/py-env/lib/python3.9/site-packages/awkward/highlevel.py?line=991'>992</a>\u001b[0m \u001b[39melse\u001b[39;00m:\n\u001b[1;32m    <a href='file:///uscms_data/d3/ekoenig/mambaforge/envs/py-env/lib/python3.9/site-packages/awkward/highlevel.py?line=992'>993</a>\u001b[0m     tmp \u001b[39m=\u001b[39m ak\u001b[39m.\u001b[39m_connect\u001b[39m.\u001b[39m_jax\u001b[39m.\u001b[39mjax_utils\u001b[39m.\u001b[39m_jaxtracers_getitem(\u001b[39mself\u001b[39m, where)\n",
      "File \u001b[0;32m/uscms_data/d3/ekoenig/mambaforge/envs/py-env/lib/python3.9/site-packages/awkward/partition.py:353\u001b[0m, in \u001b[0;36mPartitionedArray.__getitem__\u001b[0;34m(self, where)\u001b[0m\n\u001b[1;32m    <a href='file:///uscms_data/d3/ekoenig/mambaforge/envs/py-env/lib/python3.9/site-packages/awkward/partition.py?line=350'>351</a>\u001b[0m outoffsets \u001b[39m=\u001b[39m [\u001b[39m0\u001b[39m]\n\u001b[1;32m    <a href='file:///uscms_data/d3/ekoenig/mambaforge/envs/py-env/lib/python3.9/site-packages/awkward/partition.py?line=351'>352</a>\u001b[0m \u001b[39mfor\u001b[39;00m i, inpart \u001b[39min\u001b[39;00m \u001b[39menumerate\u001b[39m(inparts):\n\u001b[0;32m--> <a href='file:///uscms_data/d3/ekoenig/mambaforge/envs/py-env/lib/python3.9/site-packages/awkward/partition.py?line=352'>353</a>\u001b[0m     outparts\u001b[39m.\u001b[39mappend(inpart[(headparts[i],) \u001b[39m+\u001b[39;49m tail])\n\u001b[1;32m    <a href='file:///uscms_data/d3/ekoenig/mambaforge/envs/py-env/lib/python3.9/site-packages/awkward/partition.py?line=353'>354</a>\u001b[0m     outoffsets\u001b[39m.\u001b[39mappend(outoffsets[\u001b[39m-\u001b[39m\u001b[39m1\u001b[39m] \u001b[39m+\u001b[39m \u001b[39mlen\u001b[39m(outparts[\u001b[39m-\u001b[39m\u001b[39m1\u001b[39m]))\n\u001b[1;32m    <a href='file:///uscms_data/d3/ekoenig/mambaforge/envs/py-env/lib/python3.9/site-packages/awkward/partition.py?line=354'>355</a>\u001b[0m \u001b[39mreturn\u001b[39;00m IrregularlyPartitionedArray(outparts, outoffsets[\u001b[39m1\u001b[39m:])\n",
      "\u001b[0;31mMemoryError\u001b[0m: std::bad_alloc"
     ]
    }
   ],
   "source": [
    "def ordered_reco(t):\n",
    "\n",
    "    order = ak.argsort(t.reco_rank,axis=-1,ascending=False)\n",
    "    reco_ord = dict(\n",
    "        reco_ord_rank=t.reco_rank[order],\n",
    "        **{\n",
    "            f'reco_ord_{res.lower()}_m': t[f'{res.lower()}_m'][order]\n",
    "            for res in reslist\n",
    "        }\n",
    "    )\n",
    "\n",
    "    t.extend(\n",
    "        **reco_ord\n",
    "    )\n",
    "(eightb_signal+signal+bkg).apply(ordered_reco)"
   ]
  },
  {
   "cell_type": "code",
   "execution_count": 27,
   "id": "ae9d36a5",
   "metadata": {},
   "outputs": [],
   "source": [
    "recos=np.linspace(0,314,4).astype(int)"
   ]
  },
  {
   "cell_type": "code",
   "execution_count": 28,
   "id": "03091fed",
   "metadata": {},
   "outputs": [
    {
     "name": "stderr",
     "output_type": "stream",
     "text": [
      "100%|██████████| 8/8 [00:01<00:00,  5.42it/s]\n"
     ]
    }
   ],
   "source": [
    "study.quick( \n",
    "    signal+bkg,\n",
    "    legend=True,\n",
    "    efficiency=True,\n",
    "    varlist=[ f'reco_ord_h1y1_m[:,{i}]' for i in recos] + [ f'reco_ord_rank[:,{i}]' for i in recos],\n",
    "    binlist=[(0,500,30)]*len(recos)+[(-0.05,1.05,30)]*len(recos),\n",
    "    ylim=(0,0.4), grid=True,\n",
    "    dim=(-1,4),\n",
    "    saveas=f'{dout}/ranker/t8btag_rank_ord_h1y1'\n",
    ")"
   ]
  },
  {
   "cell_type": "code",
   "execution_count": 30,
   "id": "f64d95de",
   "metadata": {},
   "outputs": [
    {
     "name": "stderr",
     "output_type": "stream",
     "text": [
      "100%|██████████| 8/8 [00:01<00:00,  7.03it/s]\n"
     ]
    }
   ],
   "source": [
    "study.quick( \n",
    "    eightb_signal+bkg,\n",
    "    legend=True,\n",
    "    efficiency=True,\n",
    "    varlist=[ f'reco_ord_h1y1_m[:,{i}]' for i in recos] + [ f'reco_ord_rank[:,{i}]' for i in recos],\n",
    "    binlist=[(0,500,30)]*len(recos)+[(-0.05,1.05,30)]*len(recos),\n",
    "    ylim=(0,0.4), grid=True,\n",
    "    dim=(-1,4),\n",
    "    saveas=f'{dout}/ranker/eightb_rank_ord_h1y1'\n",
    ")"
   ]
  },
  {
   "cell_type": "code",
   "execution_count": 37,
   "id": "f42d108c",
   "metadata": {},
   "outputs": [
    {
     "name": "stderr",
     "output_type": "stream",
     "text": [
      "100%|██████████| 9/9 [00:11<00:00,  1.23s/it]\n"
     ]
    }
   ],
   "source": [
    "study.pairplot(\n",
    "    signal+bkg,\n",
    "    legend=True,\n",
    "    varlist=['reco_ord_h1y1_m[:,0]','reco_ord_rank[:,0]','reco_ord_rank[:,314]'],\n",
    "    binlist=[(0,500,30),(-0.05,1.05,30),(-0.05,1.05,30)],\n",
    "    scatter=dict(fraction=5000, alpha=0.1),\n",
    "    saveas=f'{dout}/ranker/t8btag_pairplot'\n",
    ")"
   ]
  },
  {
   "cell_type": "code",
   "execution_count": 39,
   "id": "3452933d",
   "metadata": {},
   "outputs": [
    {
     "name": "stderr",
     "output_type": "stream",
     "text": [
      "100%|██████████| 9/9 [00:09<00:00,  1.08s/it]\n"
     ]
    }
   ],
   "source": [
    "study.pairplot(\n",
    "    eightb_signal+bkg,\n",
    "    legend=True,\n",
    "    varlist=['reco_ord_h1y1_m[:,0]','reco_ord_rank[:,0]','reco_ord_rank[:,314]'],\n",
    "    binlist=[(0,500,30),(-0.05,1.05,30),(-0.05,1.05,30)],\n",
    "    scatter=dict(fraction=5000, alpha=0.1),\n",
    "    saveas=f'{dout}/ranker/eightb_pairplot'\n",
    ")"
   ]
  },
  {
   "cell_type": "code",
   "execution_count": 44,
   "id": "243f4af4",
   "metadata": {},
   "outputs": [
    {
     "name": "stderr",
     "output_type": "stream",
     "text": [
      "100%|██████████| 315/315 [09:15<00:00,  1.76s/it]\n"
     ]
    }
   ],
   "source": [
    "recos=np.linspace(0,314,315).astype(int)\n",
    "\n",
    "for i in tqdm(recos):\n",
    "    study.quick( \n",
    "        eightb_signal + bkg,\n",
    "        legend=True, h_label_stat='mean',\n",
    "        varlist=[f'reco_ord_h1y1_m[:,{i}]', f'reco_ord_rank[:,{i}]'],\n",
    "        grid=True,\n",
    "        binlist=[(0,500,30), (-0.05,1.05,30)],\n",
    "        efficiency=True,\n",
    "        ylim=(0,0.7),\n",
    "        saveas=f'yy_quadh/gif/eightb_reco_ord_{i:03}',\n",
    "        report=False,\n",
    "    )\n",
    "# # plt.show()"
   ]
  },
  {
   "cell_type": "code",
   "execution_count": null,
   "id": "0a584118",
   "metadata": {},
   "outputs": [],
   "source": []
  }
 ],
 "metadata": {
  "interpreter": {
   "hash": "99d8ad6568882febb6ca5d1c2307614594cf6684ed0ce2b9f63bf31341fdb3d5"
  },
  "kernelspec": {
   "display_name": "Python 3.9.0 ('py-env')",
   "language": "python",
   "name": "python3"
  },
  "language_info": {
   "codemirror_mode": {
    "name": "ipython",
    "version": 3
   },
   "file_extension": ".py",
   "mimetype": "text/x-python",
   "name": "python",
   "nbconvert_exporter": "python",
   "pygments_lexer": "ipython3",
   "version": "3.9.15"
  }
 },
 "nbformat": 4,
 "nbformat_minor": 5
}

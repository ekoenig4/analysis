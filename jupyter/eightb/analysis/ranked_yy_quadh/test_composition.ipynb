{
 "cells": [
  {
   "cell_type": "code",
   "execution_count": 1,
   "id": "9bfa3b5a",
   "metadata": {},
   "outputs": [],
   "source": [
    "%load_ext autoreload\n",
    "%autoreload 2\n",
    "\n",
    "import os\n",
    "os.environ['KMP_WARNINGS'] = 'off'\n",
    "import sys\n",
    "import git\n",
    "\n",
    "import uproot as ut\n",
    "import awkward as ak\n",
    "import numpy as np\n",
    "import math\n",
    "import vector\n",
    "import sympy as sp\n",
    "\n",
    "import re\n",
    "from tqdm import tqdm\n",
    "import timeit\n",
    "import re\n",
    "\n",
    "sys.path.append( git.Repo('.', search_parent_directories=True).working_tree_dir )\n",
    "from utils import *\n"
   ]
  },
  {
   "cell_type": "code",
   "execution_count": 2,
   "id": "6edca911",
   "metadata": {},
   "outputs": [],
   "source": [
    "%load_ext line_profiler\n",
    "%load_ext memory_profiler"
   ]
  },
  {
   "cell_type": "code",
   "execution_count": 3,
   "id": "e992d5bf",
   "metadata": {},
   "outputs": [],
   "source": [
    "varinfo.clear()"
   ]
  },
  {
   "cell_type": "code",
   "execution_count": 4,
   "id": "35308158",
   "metadata": {},
   "outputs": [],
   "source": [
    "module = fc.eightb.preselection.t8btag_minmass\n",
    "dout = \"yy_quadh\""
   ]
  },
  {
   "cell_type": "code",
   "execution_count": 37,
   "id": "c5968aac",
   "metadata": {},
   "outputs": [
    {
     "name": "stderr",
     "output_type": "stream",
     "text": [
      "100%|██████████| 8/8 [01:51<00:00, 13.96s/it]\n",
      "100%|██████████| 8/8 [00:32<00:00,  4.05s/it]\n",
      "100%|██████████| 8/8 [00:32<00:00,  4.03s/it]\n",
      "100%|██████████| 1/1 [00:04<00:00,  4.99s/it]\n"
     ]
    }
   ],
   "source": [
    "altfile=\"yy_quadh_bkg10_soft025_md_allsig_{base}\"\n",
    "# signal = ObjIter([])\n",
    "# signal = ObjIter([ Tree(f, report=False, altfile=altfile) for f in tqdm(module.signal_list) ])\n",
    "signal = ObjIter([ Tree(f, report=False, altfile=altfile) for f in tqdm(module.full_signal_list) ])\n",
    "\n",
    "# bkg = ObjIter([])\n",
    "# bkg = ObjIter([ Tree(module.Run2_UL18.QCD_B_List, altfile=altfile), Tree(module.Run2_UL18.TTJets, altfile=altfile)])\n",
    "bkg = ObjIter([ Tree(module.Run2_UL18.QCD_bEn_List, altfile=altfile),Tree(module.Run2_UL18.QCD_bGf_List, altfile=altfile), Tree(module.Run2_UL18.TTJets, altfile=altfile)])\n",
    "\n",
    "data = ObjIter([])\n",
    "# data = ObjIter([ Tree(module.Run2_UL18.JetHT_Data_UL_List) ])"
   ]
  },
  {
   "cell_type": "code",
   "execution_count": 38,
   "id": "bb3870fd",
   "metadata": {},
   "outputs": [],
   "source": [
    "analysis = Analysis.__subclasses__()[4](\n",
    "    signal=signal, bkg=bkg, data=data,\n",
    "    sr_r=0.5, cr_r=1.0,\n",
    "    # use_signal=[0,-2,-1]\n",
    ")"
   ]
  },
  {
   "cell_type": "code",
   "execution_count": 39,
   "id": "27b27ca9",
   "metadata": {},
   "outputs": [
    {
     "name": "stdout",
     "output_type": "stream",
     "text": [
      "[\u001b[32mrunning\u001b[0m] reweight_bkg\n",
      "[\u001b[32mrunning\u001b[0m] jet_kin_cuts\n",
      "[\u001b[37mskipping\u001b[0m] plot_cutflow\n",
      "[\u001b[37mskipping\u001b[0m] plot_ranker\n",
      "[\u001b[37mskipping\u001b[0m] plot_t8btag_signal\n",
      "[\u001b[37mskipping\u001b[0m] plot_eightb_signal\n",
      "[\u001b[37mskipping\u001b[0m] plot_assigned_jet_kin\n",
      "[\u001b[37mskipping\u001b[0m] plot_assigned_higgs_kin\n",
      "[\u001b[37mskipping\u001b[0m] plot_assigned_y_kin\n",
      "[\u001b[37mskipping\u001b[0m] plot_x_kin\n",
      "[\u001b[37mskipping\u001b[0m] plot_res_m\n",
      "[\u001b[32mrunning\u001b[0m] build_higgs_dm\n",
      "Optimization terminated successfully.\n",
      "         Current function value: 0.892312\n",
      "         Iterations: 57\n",
      "         Function evaluations: 149\n",
      "[128.24 122.99 120.7  118.22]\n",
      "[\u001b[37mskipping\u001b[0m] plot_assigned_higgs_m\n",
      "[\u001b[37mskipping\u001b[0m] plot_y_higgs_m\n",
      "[\u001b[37mskipping\u001b[0m] plot_abcd_variables\n",
      "[\u001b[32mrunning\u001b[0m] build_abcd\n",
      "[\u001b[37mskipping\u001b[0m] plot_abcd_composition\n",
      "[\u001b[37mskipping\u001b[0m] plot_abcd_regions\n",
      "[\u001b[37mskipping\u001b[0m] var_correlations\n",
      "[\u001b[37mskipping\u001b[0m] plot_vr_datamc\n",
      "[\u001b[37mskipping\u001b[0m] train_vr_bdt\n",
      "[\u001b[37mskipping\u001b[0m] train_ar_bdt\n",
      "[\u001b[37mskipping\u001b[0m] calc_limits\n",
      "[\u001b[37mskipping\u001b[0m] calc_brazil\n"
     ]
    }
   ],
   "source": [
    "analysis.run(runlist=['build_abcd'])"
   ]
  },
  {
   "cell_type": "code",
   "execution_count": 40,
   "id": "ed2a6dcc",
   "metadata": {},
   "outputs": [],
   "source": [
    "signal = analysis.signal\n",
    "bkg = analysis.bkg\n",
    "data = analysis.data"
   ]
  },
  {
   "cell_type": "code",
   "execution_count": 46,
   "id": "c87b5a0b",
   "metadata": {},
   "outputs": [
    {
     "data": {
      "text/plain": [
       "(45, 3, 2)"
      ]
     },
     "execution_count": 46,
     "metadata": {},
     "output_type": "execute_result"
    }
   ],
   "source": [
    "combinations(6, [2,[2,2]]).shape"
   ]
  },
  {
   "cell_type": "code",
   "execution_count": 41,
   "id": "0ef4f17b",
   "metadata": {},
   "outputs": [
    {
     "name": "stderr",
     "output_type": "stream",
     "text": [
      "100%|██████████| 1/1 [00:06<00:00,  6.70s/it]\n"
     ]
    },
    {
     "data": {
      "image/png": "[encoded data removed]",
      "text/plain": [
       "<Figure size 480x400 with 1 Axes>"
      ]
     },
     "metadata": {},
     "output_type": "display_data"
    }
   ],
   "source": [
    "study.quick(\n",
    "    bkg,\n",
    "    masks=analysis.ar_bdt.a,\n",
    "    varlist=[lambda t : ak.ones_like(t.X_pt)],\n",
    "    xlabels=[\"\"],\n",
    "    ylabel=\"Composition\",\n",
    "    binlist=[np.array([0,2])],\n",
    "    efficiency=True,\n",
    "    h_label_stat=lambda h : f'{h.histo[-1]:0.2%}',\n",
    "    legend=True,\n",
    "    # saveas=f'{self.dout}/{key}/composition_{region}'\n",
    ")"
   ]
  },
  {
   "cell_type": "code",
   "execution_count": null,
   "id": "91ba1a7b",
   "metadata": {},
   "outputs": [],
   "source": []
  }
 ],
 "metadata": {
  "interpreter": {
   "hash": "99d8ad6568882febb6ca5d1c2307614594cf6684ed0ce2b9f63bf31341fdb3d5"
  },
  "kernelspec": {
   "display_name": "Python 3.9.0 ('py-env')",
   "language": "python",
   "name": "python3"
  },
  "language_info": {
   "codemirror_mode": {
    "name": "ipython",
    "version": 3
   },
   "file_extension": ".py",
   "mimetype": "text/x-python",
   "name": "python",
   "nbconvert_exporter": "python",
   "pygments_lexer": "ipython3",
   "version": "3.9.15"
  }
 },
 "nbformat": 4,
 "nbformat_minor": 5
}

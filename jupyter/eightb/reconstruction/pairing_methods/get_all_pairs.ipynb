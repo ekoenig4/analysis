{
 "cells": [
  {
   "cell_type": "code",
   "execution_count": 1,
   "metadata": {},
   "outputs": [],
   "source": [
    "%load_ext autoreload\n",
    "%autoreload 2\n",
    "\n",
    "import os\n",
    "import sys\n",
    "import git\n",
    "\n",
    "import uproot as ut\n",
    "import awkward as ak\n",
    "import numpy as np\n",
    "import math\n",
    "import vector\n",
    "import sympy as sp\n",
    "\n",
    "import re\n",
    "from tqdm import tqdm\n",
    "import timeit\n",
    "import re\n",
    "\n",
    "sys.path.append( git.Repo('.', search_parent_directories=True).working_tree_dir )\n",
    "from utils import *"
   ]
  },
  {
   "cell_type": "code",
   "execution_count": 2,
   "metadata": {},
   "outputs": [],
   "source": [
    "quadh_index = eightb.get_quadH_pairings()"
   ]
  },
  {
   "cell_type": "code",
   "execution_count": 3,
   "metadata": {},
   "outputs": [],
   "source": [
    "to_cc = lambda array : '{'+','.join(map(str,array))+'}'\n",
    "jets = list(range(8))\n",
    "all_pairs = [ (j0,j1) for j0 in jets for j1 in jets[j0+1:] ]\n",
    "# print(',\\n'.join(map(to_cc,all_pairs)))\n",
    "# print(',\\n'.join(map(to_cc,quadh_index)))"
   ]
  },
  {
   "cell_type": "code",
   "execution_count": 4,
   "metadata": {},
   "outputs": [],
   "source": [
    "signal_tree = Tree(fc.eightb.preselection.NMSSM_XYY_YToHH_8b_MX_1000_MY_450)"
   ]
  },
  {
   "cell_type": "code",
   "execution_count": 13,
   "metadata": {},
   "outputs": [],
   "source": [
    "def get_remaining_pairs(pair,all_pairs):\n",
    "    return list(filter(lambda h : not any(j in h for j in pair),all_pairs))"
   ]
  },
  {
   "cell_type": "code",
   "execution_count": 25,
   "metadata": {},
   "outputs": [],
   "source": [
    "jets = list(range(4))\n",
    "all_pairs = [ (j0,j1) for j0 in jets for j1 in jets[j0+1:] ]\n",
    "quad_h = []\n",
    "for i,h0 in enumerate(all_pairs):\n",
    "    second_pairs = get_remaining_pairs(h0,all_pairs[i+1:])\n",
    "    for j,h1 in enumerate(second_pairs):\n",
    "        third_pairs = get_remaining_pairs(h1,second_pairs[j+1:])\n",
    "        for k,h2 in enumerate(third_pairs):\n",
    "            fourth_pairs = get_remaining_pairs(h2,third_pairs[k+1:])\n",
    "            for h3 in fourth_pairs:\n",
    "                pair = [ all_pairs.index(h) for h in (h0,h1,h2,h3) ] if False else [ j for h in (h0,h1,h2,h3) for j in h ]\n",
    "                quad_h.append(pair)"
   ]
  },
  {
   "cell_type": "code",
   "execution_count": 45,
   "metadata": {},
   "outputs": [
    {
     "data": {
      "text/plain": [
       "[(0, 1), (2, 3)]"
      ]
     },
     "execution_count": 45,
     "metadata": {},
     "output_type": "execute_result"
    }
   ],
   "source": [
    "jets = list(range(6))\n",
    "j0 = jets[0]\n",
    "triH_combs = [ [j0,j1] for j1 in jets[1:] ]\n",
    "triH_combs = [ comb+[j2] for comb in triH_combs for j2 in jets if j2 not in comb]\n",
    "triH_combs = [ comb+[j3] for comb in triH_combs for j3 in jets if j3 not in comb and j3>comb[-1]]\n",
    "triH_combs = [ comb+[j4] for comb in triH_combs for j4 in jets if j4 not in comb and j4>comb[-2]]\n",
    "triH_combs = [ comb+[j5] for comb in triH_combs for j5 in jets if j5 not in comb and j5>comb[-1]]"
   ]
  },
  {
   "cell_type": "code",
   "execution_count": null,
   "metadata": {},
   "outputs": [],
   "source": []
  }
 ],
 "metadata": {
  "interpreter": {
   "hash": "b6b1afae4871be850bc5856e04911167d2a27de500099f683f3fac6532a69ef8"
  },
  "kernelspec": {
   "display_name": "Python 3.8.12 64-bit ('torch-gpu': conda)",
   "language": "python",
   "name": "python3"
  },
  "language_info": {
   "codemirror_mode": {
    "name": "ipython",
    "version": 3
   },
   "file_extension": ".py",
   "mimetype": "text/x-python",
   "name": "python",
   "nbconvert_exporter": "python",
   "pygments_lexer": "ipython3",
   "version": "3.8.12"
  },
  "orig_nbformat": 4
 },
 "nbformat": 4,
 "nbformat_minor": 2
}

{
 "cells": [
  {
   "cell_type": "code",
   "execution_count": 1,
   "id": "9bfa3b5a",
   "metadata": {},
   "outputs": [],
   "source": [
    "%load_ext autoreload\n",
    "%autoreload 2\n",
    "\n",
    "import os\n",
    "os.environ['KMP_WARNINGS'] = 'off'\n",
    "import sys\n",
    "import git\n",
    "\n",
    "import uproot as ut\n",
    "import awkward as ak\n",
    "import numpy as np\n",
    "import math\n",
    "import vector\n",
    "import sympy as sp\n",
    "\n",
    "import re\n",
    "from tqdm import tqdm\n",
    "import timeit\n",
    "import re\n",
    "\n",
    "sys.path.append( git.Repo('.', search_parent_directories=True).working_tree_dir )\n",
    "from utils import *"
   ]
  },
  {
   "cell_type": "code",
   "execution_count": 2,
   "id": "6edca911",
   "metadata": {},
   "outputs": [],
   "source": [
    "%load_ext line_profiler\n",
    "%load_ext memory_profiler"
   ]
  },
  {
   "cell_type": "code",
   "execution_count": 3,
   "id": "35308158",
   "metadata": {},
   "outputs": [],
   "source": [
    "training = fc.eightb.training.training_5M.NMSSM_XYY_YToHH_8b_MX_1000_MY_450"
   ]
  },
  {
   "cell_type": "code",
   "execution_count": 4,
   "id": "2fdc77ed",
   "metadata": {},
   "outputs": [],
   "source": [
    "def get_train(path):\n",
    "    return path.replace('ntuple.root','reweighted_ntuple_0.root')"
   ]
  },
  {
   "cell_type": "code",
   "execution_count": 5,
   "id": "01b85721",
   "metadata": {},
   "outputs": [
    {
     "name": "stderr",
     "output_type": "stream",
     "text": [
      "100%|██████████| 1/1 [00:03<00:00,  3.03s/it]\n"
     ]
    }
   ],
   "source": [
    "training = Tree( get_train(training) )"
   ]
  },
  {
   "cell_type": "code",
   "execution_count": 6,
   "id": "a0fa6077",
   "metadata": {},
   "outputs": [],
   "source": [
    "trees = ObjIter([training])"
   ]
  },
  {
   "cell_type": "code",
   "execution_count": 7,
   "id": "d01d0657",
   "metadata": {},
   "outputs": [
    {
     "data": {
      "text/plain": [
       "[None]"
      ]
     },
     "execution_count": 7,
     "metadata": {},
     "output_type": "execute_result"
    }
   ],
   "source": [
    "trees.apply(lambda t: build_collection(t, 'H\\dY\\d_b\\d', 'jet', ordered='pt'))"
   ]
  },
  {
   "cell_type": "code",
   "execution_count": 8,
   "id": "a46a7e85",
   "metadata": {},
   "outputs": [],
   "source": [
    "jet_p4 = build_p4(training, 'jet', use_regressed=True)"
   ]
  },
  {
   "cell_type": "code",
   "execution_count": 39,
   "id": "90f27b6b",
   "metadata": {},
   "outputs": [],
   "source": [
    "j1, j2 = ak.unzip(ak.combinations(jet_p4, n=2))"
   ]
  },
  {
   "cell_type": "code",
   "execution_count": 40,
   "id": "0a918eed",
   "metadata": {},
   "outputs": [],
   "source": [
    "hm = (j1 + j2).m/125"
   ]
  },
  {
   "cell_type": "code",
   "execution_count": 41,
   "id": "18967877",
   "metadata": {},
   "outputs": [],
   "source": [
    "m = hm[0]"
   ]
  },
  {
   "cell_type": "code",
   "execution_count": 42,
   "id": "d26064c6",
   "metadata": {},
   "outputs": [],
   "source": [
    "i1, i2 = ak.unzip(ak.combinations(np.arange(8),2,axis=0))"
   ]
  },
  {
   "cell_type": "code",
   "execution_count": 78,
   "id": "47bf8576",
   "metadata": {},
   "outputs": [],
   "source": [
    "def get_m(i, j):\n",
    "    if i > j: i, j = j, i\n",
    "\n",
    "    return m[(i1 == i) & (i2 == j)][0]"
   ]
  },
  {
   "cell_type": "code",
   "execution_count": 72,
   "id": "92c3e75f",
   "metadata": {},
   "outputs": [],
   "source": [
    "def distance(p0, p1):\n",
    "    return np.sqrt( np.sum( (p0-p1)**2 ) )"
   ]
  },
  {
   "cell_type": "code",
   "execution_count": 74,
   "id": "f4bd1f40",
   "metadata": {},
   "outputs": [],
   "source": [
    "j0 = np.zeros(8,)"
   ]
  },
  {
   "cell_type": "code",
   "execution_count": 79,
   "id": "c7184dfe",
   "metadata": {},
   "outputs": [],
   "source": [
    "j1 = np.zeros(8,)\n",
    "j1[0] = get_m(0, 1)"
   ]
  },
  {
   "cell_type": "code",
   "execution_count": 80,
   "id": "905b10e8",
   "metadata": {},
   "outputs": [
    {
     "data": {
      "text/plain": [
       "9.34167766571045"
      ]
     },
     "execution_count": 80,
     "metadata": {},
     "output_type": "execute_result"
    }
   ],
   "source": [
    "distance(j0,j1)"
   ]
  },
  {
   "cell_type": "code",
   "execution_count": 81,
   "id": "852a6d44",
   "metadata": {},
   "outputs": [],
   "source": []
  },
  {
   "cell_type": "code",
   "execution_count": 93,
   "id": "a1fb871a",
   "metadata": {},
   "outputs": [],
   "source": [
    "from scipy.optimize import fmin"
   ]
  },
  {
   "cell_type": "code",
   "execution_count": 97,
   "id": "5cc038b2",
   "metadata": {},
   "outputs": [
    {
     "data": {
      "text/plain": [
       "81.93596233229641"
      ]
     },
     "execution_count": 97,
     "metadata": {},
     "output_type": "execute_result"
    }
   ],
   "source": [
    "def pairwise(p, *args):\n",
    "    ndim = p.shape[0]\n",
    "    loss = 0\n",
    "    for pi, di in args:\n",
    "        loss += (distance(p, pi[:ndim]) - di)**2\n",
    "    return loss\n",
    "\n",
    "\n",
    "pairwise(j2[:2], (j0, get_m(2, 0)), (j1, get_m(2, 1)))"
   ]
  },
  {
   "cell_type": "code",
   "execution_count": 107,
   "id": "46295b8e",
   "metadata": {},
   "outputs": [
    {
     "name": "stdout",
     "output_type": "stream",
     "text": [
      "Optimization terminated successfully.\n",
      "         Current function value: 0.000000\n",
      "         Iterations: 31\n",
      "         Function evaluations: 62\n",
      "Optimization terminated successfully.\n",
      "         Current function value: 0.000000\n",
      "         Iterations: 78\n",
      "         Function evaluations: 151\n"
     ]
    }
   ],
   "source": [
    "j0 = np.zeros(8,)\n",
    "\n",
    "j1 = np.zeros(8,)\n",
    "j1[:1] = fmin(pairwise, j1[:1], args=((j0, get_m(1, 0)),))\n",
    "\n",
    "j2 = np.zeros(8,)\n",
    "j2[:2] = fmin(pairwise, j2[:2], args=((j0, get_m(2, 0)), (j1, get_m(2, 1))))"
   ]
  },
  {
   "cell_type": "code",
   "execution_count": 111,
   "id": "e2f1d746",
   "metadata": {},
   "outputs": [
    {
     "name": "stdout",
     "output_type": "stream",
     "text": [
      "Optimization terminated successfully.\n",
      "         Current function value: 1.149184\n",
      "         Iterations: 64\n",
      "         Function evaluations: 117\n"
     ]
    }
   ],
   "source": [
    "j3= np.zeros(8,)\n",
    "j3[:3] = fmin(pairwise, j2[:3], args=((j0, get_m(3, 0)), (j1, get_m(3, 1)), (j2, get_m(3, 2))))"
   ]
  },
  {
   "cell_type": "code",
   "execution_count": 144,
   "id": "495a7b95",
   "metadata": {},
   "outputs": [],
   "source": [
    "js = [np.zeros(8,)]\n",
    "i = 0"
   ]
  },
  {
   "cell_type": "code",
   "execution_count": 160,
   "id": "45e23d7a",
   "metadata": {},
   "outputs": [
    {
     "ename": "ValueError",
     "evalue": "in NumpyArray attempting to get 0, index out of range\n\n(https://github.com/scikit-hep/awkward-1.0/blob/1.8.0/src/libawkward/array/NumpyArray.cpp#L1217)",
     "output_type": "error",
     "traceback": [
      "\u001b[0;31m---------------------------------------------------------------------------\u001b[0m",
      "\u001b[0;31mValueError\u001b[0m                                Traceback (most recent call last)",
      "\u001b[1;32m/uscms_data/d3/ekoenig/8BAnalysis/studies/sixbStudies/jupyter/eightb/weaver/distance_embedding.ipynb Cell 24'\u001b[0m in \u001b[0;36m<cell line: 4>\u001b[0;34m()\u001b[0m\n\u001b[1;32m      <a href='vscode-notebook-cell://ssh-remote%2Bfnal/uscms_data/d3/ekoenig/8BAnalysis/studies/sixbStudies/jupyter/eightb/weaver/distance_embedding.ipynb#ch0000027vscode-remote?line=0'>1</a>\u001b[0m i \u001b[39m+\u001b[39m\u001b[39m=\u001b[39m \u001b[39m1\u001b[39m\n\u001b[1;32m      <a href='vscode-notebook-cell://ssh-remote%2Bfnal/uscms_data/d3/ekoenig/8BAnalysis/studies/sixbStudies/jupyter/eightb/weaver/distance_embedding.ipynb#ch0000027vscode-remote?line=1'>2</a>\u001b[0m ji \u001b[39m=\u001b[39m np\u001b[39m.\u001b[39mzeros(\u001b[39m8\u001b[39m,)\n\u001b[0;32m----> <a href='vscode-notebook-cell://ssh-remote%2Bfnal/uscms_data/d3/ekoenig/8BAnalysis/studies/sixbStudies/jupyter/eightb/weaver/distance_embedding.ipynb#ch0000027vscode-remote?line=3'>4</a>\u001b[0m ds \u001b[39m=\u001b[39m \u001b[39mtuple\u001b[39m([ (p, get_m(i, j)) \u001b[39mfor\u001b[39;00m j,p \u001b[39min\u001b[39;00m \u001b[39menumerate\u001b[39m(js) ])\n\u001b[1;32m      <a href='vscode-notebook-cell://ssh-remote%2Bfnal/uscms_data/d3/ekoenig/8BAnalysis/studies/sixbStudies/jupyter/eightb/weaver/distance_embedding.ipynb#ch0000027vscode-remote?line=4'>5</a>\u001b[0m ji[:i] \u001b[39m=\u001b[39m fmin(pairwise, ji[:i], args\u001b[39m=\u001b[39mds)\n\u001b[1;32m      <a href='vscode-notebook-cell://ssh-remote%2Bfnal/uscms_data/d3/ekoenig/8BAnalysis/studies/sixbStudies/jupyter/eightb/weaver/distance_embedding.ipynb#ch0000027vscode-remote?line=5'>6</a>\u001b[0m js\u001b[39m.\u001b[39mappend(ji)\n",
      "\u001b[1;32m/uscms_data/d3/ekoenig/8BAnalysis/studies/sixbStudies/jupyter/eightb/weaver/distance_embedding.ipynb Cell 24'\u001b[0m in \u001b[0;36m<listcomp>\u001b[0;34m(.0)\u001b[0m\n\u001b[1;32m      <a href='vscode-notebook-cell://ssh-remote%2Bfnal/uscms_data/d3/ekoenig/8BAnalysis/studies/sixbStudies/jupyter/eightb/weaver/distance_embedding.ipynb#ch0000027vscode-remote?line=0'>1</a>\u001b[0m i \u001b[39m+\u001b[39m\u001b[39m=\u001b[39m \u001b[39m1\u001b[39m\n\u001b[1;32m      <a href='vscode-notebook-cell://ssh-remote%2Bfnal/uscms_data/d3/ekoenig/8BAnalysis/studies/sixbStudies/jupyter/eightb/weaver/distance_embedding.ipynb#ch0000027vscode-remote?line=1'>2</a>\u001b[0m ji \u001b[39m=\u001b[39m np\u001b[39m.\u001b[39mzeros(\u001b[39m8\u001b[39m,)\n\u001b[0;32m----> <a href='vscode-notebook-cell://ssh-remote%2Bfnal/uscms_data/d3/ekoenig/8BAnalysis/studies/sixbStudies/jupyter/eightb/weaver/distance_embedding.ipynb#ch0000027vscode-remote?line=3'>4</a>\u001b[0m ds \u001b[39m=\u001b[39m \u001b[39mtuple\u001b[39m([ (p, get_m(i, j)) \u001b[39mfor\u001b[39;00m j,p \u001b[39min\u001b[39;00m \u001b[39menumerate\u001b[39m(js) ])\n\u001b[1;32m      <a href='vscode-notebook-cell://ssh-remote%2Bfnal/uscms_data/d3/ekoenig/8BAnalysis/studies/sixbStudies/jupyter/eightb/weaver/distance_embedding.ipynb#ch0000027vscode-remote?line=4'>5</a>\u001b[0m ji[:i] \u001b[39m=\u001b[39m fmin(pairwise, ji[:i], args\u001b[39m=\u001b[39mds)\n\u001b[1;32m      <a href='vscode-notebook-cell://ssh-remote%2Bfnal/uscms_data/d3/ekoenig/8BAnalysis/studies/sixbStudies/jupyter/eightb/weaver/distance_embedding.ipynb#ch0000027vscode-remote?line=5'>6</a>\u001b[0m js\u001b[39m.\u001b[39mappend(ji)\n",
      "\u001b[1;32m/uscms_data/d3/ekoenig/8BAnalysis/studies/sixbStudies/jupyter/eightb/weaver/distance_embedding.ipynb Cell 13'\u001b[0m in \u001b[0;36mget_m\u001b[0;34m(i, j)\u001b[0m\n\u001b[1;32m      <a href='vscode-notebook-cell://ssh-remote%2Bfnal/uscms_data/d3/ekoenig/8BAnalysis/studies/sixbStudies/jupyter/eightb/weaver/distance_embedding.ipynb#ch0000026vscode-remote?line=0'>1</a>\u001b[0m \u001b[39mdef\u001b[39;00m \u001b[39mget_m\u001b[39m(i, j):\n\u001b[1;32m      <a href='vscode-notebook-cell://ssh-remote%2Bfnal/uscms_data/d3/ekoenig/8BAnalysis/studies/sixbStudies/jupyter/eightb/weaver/distance_embedding.ipynb#ch0000026vscode-remote?line=1'>2</a>\u001b[0m     \u001b[39mif\u001b[39;00m i \u001b[39m>\u001b[39m j: i, j \u001b[39m=\u001b[39m j, i\n\u001b[0;32m----> <a href='vscode-notebook-cell://ssh-remote%2Bfnal/uscms_data/d3/ekoenig/8BAnalysis/studies/sixbStudies/jupyter/eightb/weaver/distance_embedding.ipynb#ch0000026vscode-remote?line=3'>4</a>\u001b[0m     \u001b[39mreturn\u001b[39;00m m[(i1 \u001b[39m==\u001b[39;49m i) \u001b[39m&\u001b[39;49m (i2 \u001b[39m==\u001b[39;49m j)][\u001b[39m0\u001b[39;49m]\n",
      "File \u001b[0;32m/uscms_data/d3/ekoenig/mambaforge/envs/py-env/lib/python3.9/site-packages/awkward/highlevel.py:991\u001b[0m, in \u001b[0;36mArray.__getitem__\u001b[0;34m(self, where)\u001b[0m\n\u001b[1;32m    <a href='file:///uscms_data/d3/ekoenig/mambaforge/envs/py-env/lib/python3.9/site-packages/awkward/highlevel.py?line=578'>579</a>\u001b[0m \u001b[39m\"\"\"\u001b[39;00m\n\u001b[1;32m    <a href='file:///uscms_data/d3/ekoenig/mambaforge/envs/py-env/lib/python3.9/site-packages/awkward/highlevel.py?line=579'>580</a>\u001b[0m \u001b[39mArgs:\u001b[39;00m\n\u001b[1;32m    <a href='file:///uscms_data/d3/ekoenig/mambaforge/envs/py-env/lib/python3.9/site-packages/awkward/highlevel.py?line=580'>581</a>\u001b[0m \u001b[39m    where (many types supported; see below): Index of positions to\u001b[39;00m\n\u001b[0;32m   (...)\u001b[0m\n\u001b[1;32m    <a href='file:///uscms_data/d3/ekoenig/mambaforge/envs/py-env/lib/python3.9/site-packages/awkward/highlevel.py?line=987'>988</a>\u001b[0m \u001b[39mhave the same dimension as the array being indexed.\u001b[39;00m\n\u001b[1;32m    <a href='file:///uscms_data/d3/ekoenig/mambaforge/envs/py-env/lib/python3.9/site-packages/awkward/highlevel.py?line=988'>989</a>\u001b[0m \u001b[39m\"\"\"\u001b[39;00m\n\u001b[1;32m    <a href='file:///uscms_data/d3/ekoenig/mambaforge/envs/py-env/lib/python3.9/site-packages/awkward/highlevel.py?line=989'>990</a>\u001b[0m \u001b[39mif\u001b[39;00m \u001b[39mnot\u001b[39;00m \u001b[39mhasattr\u001b[39m(\u001b[39mself\u001b[39m, \u001b[39m\"\u001b[39m\u001b[39m_tracers\u001b[39m\u001b[39m\"\u001b[39m):\n\u001b[0;32m--> <a href='file:///uscms_data/d3/ekoenig/mambaforge/envs/py-env/lib/python3.9/site-packages/awkward/highlevel.py?line=990'>991</a>\u001b[0m     tmp \u001b[39m=\u001b[39m ak\u001b[39m.\u001b[39m_util\u001b[39m.\u001b[39mwrap(\u001b[39mself\u001b[39;49m\u001b[39m.\u001b[39;49mlayout[where], \u001b[39mself\u001b[39m\u001b[39m.\u001b[39m_behavior)\n\u001b[1;32m    <a href='file:///uscms_data/d3/ekoenig/mambaforge/envs/py-env/lib/python3.9/site-packages/awkward/highlevel.py?line=991'>992</a>\u001b[0m \u001b[39melse\u001b[39;00m:\n\u001b[1;32m    <a href='file:///uscms_data/d3/ekoenig/mambaforge/envs/py-env/lib/python3.9/site-packages/awkward/highlevel.py?line=992'>993</a>\u001b[0m     tmp \u001b[39m=\u001b[39m ak\u001b[39m.\u001b[39m_connect\u001b[39m.\u001b[39m_jax\u001b[39m.\u001b[39mjax_utils\u001b[39m.\u001b[39m_jaxtracers_getitem(\u001b[39mself\u001b[39m, where)\n",
      "\u001b[0;31mValueError\u001b[0m: in NumpyArray attempting to get 0, index out of range\n\n(https://github.com/scikit-hep/awkward-1.0/blob/1.8.0/src/libawkward/array/NumpyArray.cpp#L1217)"
     ]
    }
   ],
   "source": [
    "i += 1\n",
    "ji = np.zeros(8,)\n",
    "\n",
    "ds = tuple([ (p, get_m(i, j)) for j,p in enumerate(js) ])\n",
    "ji[:i] = fmin(pairwise, ji[:i], args=ds)\n",
    "js.append(ji)"
   ]
  },
  {
   "cell_type": "code",
   "execution_count": 161,
   "id": "4a21d061",
   "metadata": {},
   "outputs": [
    {
     "data": {
      "text/plain": [
       "array([ 5.7330928 ,  1.14583616, -0.64531705, -0.15591816, -1.25910414,\n",
       "       -0.4198025 , -1.47007206,  0.        ])"
      ]
     },
     "execution_count": 161,
     "metadata": {},
     "output_type": "execute_result"
    }
   ],
   "source": [
    "js[-1][:i]"
   ]
  },
  {
   "cell_type": "code",
   "execution_count": 159,
   "id": "7cf63ac0",
   "metadata": {},
   "outputs": [
    {
     "data": {
      "text/plain": [
       "[array([0., 0., 0., 0., 0., 0., 0., 0.]),\n",
       " array([9.3416875, 0.       , 0.       , 0.       , 0.       , 0.       ,\n",
       "        0.       , 0.       ]),\n",
       " array([6.68497543, 3.11106914, 0.        , 0.        , 0.        ,\n",
       "        0.        , 0.        , 0.        ]),\n",
       " array([ 7.44496256e+00,  9.40241147e-02, -3.65616760e-05,  0.00000000e+00,\n",
       "         0.00000000e+00,  0.00000000e+00,  0.00000000e+00,  0.00000000e+00]),\n",
       " array([ 6.99741132e+00,  1.74649745e+00, -1.28574411e-03, -1.54579176e-03,\n",
       "         0.00000000e+00,  0.00000000e+00,  0.00000000e+00,  0.00000000e+00]),\n",
       " array([ 5.65115625,  0.69097385, -0.34132619, -1.68968632, -0.63316113,\n",
       "         0.        ,  0.        ,  0.        ]),\n",
       " array([ 6.08635282,  0.68130567, -0.57411256, -1.55869327, -1.33187088,\n",
       "        -0.30082523,  0.        ,  0.        ]),\n",
       " array([ 5.7330928 ,  1.14583616, -0.64531705, -0.15591816, -1.25910414,\n",
       "        -0.4198025 , -1.47007206,  0.        ])]"
      ]
     },
     "execution_count": 159,
     "metadata": {},
     "output_type": "execute_result"
    }
   ],
   "source": [
    "js"
   ]
  }
 ],
 "metadata": {
  "interpreter": {
   "hash": "99d8ad6568882febb6ca5d1c2307614594cf6684ed0ce2b9f63bf31341fdb3d5"
  },
  "kernelspec": {
   "display_name": "Python 3.9.0 ('py-env')",
   "language": "python",
   "name": "python3"
  },
  "language_info": {
   "codemirror_mode": {
    "name": "ipython",
    "version": 3
   },
   "file_extension": ".py",
   "mimetype": "text/x-python",
   "name": "python",
   "nbconvert_exporter": "python",
   "pygments_lexer": "ipython3",
   "version": "3.9.13"
  }
 },
 "nbformat": 4,
 "nbformat_minor": 5
}

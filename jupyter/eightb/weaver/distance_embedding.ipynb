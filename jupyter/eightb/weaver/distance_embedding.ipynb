{
 "cells": [
  {
   "cell_type": "code",
   "execution_count": 1,
   "id": "9bfa3b5a",
   "metadata": {},
   "outputs": [],
   "source": [
    "%load_ext autoreload\n",
    "%autoreload 2\n",
    "\n",
    "import os\n",
    "os.environ['KMP_WARNINGS'] = 'off'\n",
    "import sys\n",
    "import git\n",
    "\n",
    "import uproot as ut\n",
    "import awkward as ak\n",
    "import numpy as np\n",
    "import math\n",
    "import vector\n",
    "import sympy as sp\n",
    "\n",
    "import re\n",
    "from tqdm import tqdm\n",
    "import timeit\n",
    "import re\n",
    "\n",
    "sys.path.append( git.Repo('.', search_parent_directories=True).working_tree_dir )\n",
    "from utils import *"
   ]
  },
  {
   "cell_type": "code",
   "execution_count": 2,
   "id": "6edca911",
   "metadata": {},
   "outputs": [],
   "source": [
    "%load_ext line_profiler\n",
    "%load_ext memory_profiler"
   ]
  },
  {
   "cell_type": "code",
   "execution_count": 3,
   "id": "35308158",
   "metadata": {},
   "outputs": [],
   "source": [
    "training = fc.eightb.training.training_5M.NMSSM_XYY_YToHH_8b_MX_1000_MY_450"
   ]
  },
  {
   "cell_type": "code",
   "execution_count": 4,
   "id": "2fdc77ed",
   "metadata": {},
   "outputs": [],
   "source": [
    "def get_train(path):\n",
    "    return path.replace('ntuple.root','reweighted_ntuple_0.root')"
   ]
  },
  {
   "cell_type": "code",
   "execution_count": 5,
   "id": "01b85721",
   "metadata": {},
   "outputs": [
    {
     "name": "stderr",
     "output_type": "stream",
     "text": [
      "100%|██████████| 1/1 [00:02<00:00,  2.93s/it]\n"
     ]
    }
   ],
   "source": [
    "training = Tree( get_train(training) )"
   ]
  },
  {
   "cell_type": "code",
   "execution_count": 6,
   "id": "a0fa6077",
   "metadata": {},
   "outputs": [],
   "source": [
    "trees = ObjIter([training])"
   ]
  },
  {
   "cell_type": "code",
   "execution_count": 7,
   "id": "d01d0657",
   "metadata": {},
   "outputs": [],
   "source": [
    "# (signal+bkg).apply(lambda t : build_collection(t, 'H\\dY\\d_b\\d', 'jet', ordered='pt'), report=True)\n",
    "\n",
    "t8btag = CollectionFilter('jet', filter=lambda t: ak_rank(-t.jet_btag, axis=-1) < 8)\n",
    "trees = trees.apply(t8btag)"
   ]
  },
  {
   "cell_type": "code",
   "execution_count": 8,
   "id": "a46a7e85",
   "metadata": {},
   "outputs": [],
   "source": [
    "jet_p4 = build_p4(trees[0], 'jet', use_regressed=True)"
   ]
  },
  {
   "cell_type": "code",
   "execution_count": 33,
   "id": "9c770589",
   "metadata": {},
   "outputs": [
    {
     "data": {
      "text/plain": [
       "<MomentumArray4D [[{pt: 1.05e+03, ... m: 8.71}]] type='603144 * var * Momentum4D...'>"
      ]
     },
     "execution_count": 33,
     "metadata": {},
     "output_type": "execute_result"
    }
   ],
   "source": [
    "jet_p4[:,:4]"
   ]
  },
  {
   "cell_type": "code",
   "execution_count": 189,
   "id": "6b8ece33",
   "metadata": {},
   "outputs": [],
   "source": [
    "n = 8"
   ]
  },
  {
   "cell_type": "code",
   "execution_count": 190,
   "id": "90f27b6b",
   "metadata": {},
   "outputs": [],
   "source": [
    "j1, j2 = ak.unzip(ak.combinations(jet_p4[:,:n], n=2))"
   ]
  },
  {
   "cell_type": "code",
   "execution_count": 191,
   "id": "0a918eed",
   "metadata": {},
   "outputs": [],
   "source": [
    "hm = (j1 + j2).m/125"
   ]
  },
  {
   "cell_type": "code",
   "execution_count": 201,
   "id": "b539c30b",
   "metadata": {},
   "outputs": [
    {
     "data": {
      "text/plain": [
       "<Array [[9.34, 7.37, 6.69, ... 0.525, 0.386]] type='603144 * var * float32'>"
      ]
     },
     "execution_count": 201,
     "metadata": {},
     "output_type": "execute_result"
    }
   ],
   "source": []
  },
  {
   "cell_type": "code",
   "execution_count": 192,
   "id": "d26064c6",
   "metadata": {},
   "outputs": [],
   "source": [
    "i1, i2 = ak.unzip(ak.combinations(np.arange(n),2,axis=0))"
   ]
  },
  {
   "cell_type": "code",
   "execution_count": 193,
   "id": "1f861429",
   "metadata": {},
   "outputs": [],
   "source": [
    "M = np.zeros((n,n))\n",
    "\n",
    "for i, j, m in zip(i1, i2, hm[0]):\n",
    "    M[i,j] = m \n",
    "    M[j,i] = m"
   ]
  },
  {
   "cell_type": "code",
   "execution_count": 194,
   "id": "4bebd5ba",
   "metadata": {},
   "outputs": [
    {
     "data": {
      "text/plain": [
       "(8, 8)"
      ]
     },
     "execution_count": 194,
     "metadata": {},
     "output_type": "execute_result"
    }
   ],
   "source": [
    "M.shape"
   ]
  },
  {
   "cell_type": "code",
   "execution_count": 195,
   "id": "cfebff44",
   "metadata": {},
   "outputs": [],
   "source": [
    "from sklearn.manifold import MDS \n",
    "\n",
    "\n",
    "mds = MDS(n_components=n, dissimilarity='precomputed')"
   ]
  },
  {
   "cell_type": "code",
   "execution_count": null,
   "id": "5aa6aaea",
   "metadata": {},
   "outputs": [],
   "source": []
  },
  {
   "cell_type": "code",
   "execution_count": 196,
   "id": "a9ec5320",
   "metadata": {},
   "outputs": [],
   "source": [
    "X = mds.fit_transform(M)"
   ]
  },
  {
   "cell_type": "code",
   "execution_count": 197,
   "id": "43a6e475",
   "metadata": {},
   "outputs": [],
   "source": [
    "x1, x2 = ak.unzip(ak.combinations(X, n=2, axis=0))\n",
    "y = ak.sum( (x1-x2)**2,axis=-1 )"
   ]
  },
  {
   "cell_type": "code",
   "execution_count": 200,
   "id": "fe68e317",
   "metadata": {},
   "outputs": [
    {
     "data": {
      "text/plain": [
       "(<Array [66.4, 44.2, 46.4, ... 0.24, 1.15, 1.32] type='28 * float64'>,\n",
       " <Array [9.34, 7.37, 6.69, ... 1.26, 1.36] type='28 * float32'>)"
      ]
     },
     "execution_count": 200,
     "metadata": {},
     "output_type": "execute_result"
    }
   ],
   "source": [
    "y, hm[0]"
   ]
  },
  {
   "cell_type": "code",
   "execution_count": 177,
   "id": "015d0253",
   "metadata": {},
   "outputs": [
    {
     "data": {
      "text/plain": [
       "(87.63769699430819, 9.34167766571045)"
      ]
     },
     "execution_count": 177,
     "metadata": {},
     "output_type": "execute_result"
    }
   ],
   "source": [
    "np.sum((X[0]-X[1])**2), M[0,1]"
   ]
  },
  {
   "cell_type": "code",
   "execution_count": null,
   "id": "6a44edea",
   "metadata": {},
   "outputs": [],
   "source": []
  }
 ],
 "metadata": {
  "interpreter": {
   "hash": "99d8ad6568882febb6ca5d1c2307614594cf6684ed0ce2b9f63bf31341fdb3d5"
  },
  "kernelspec": {
   "display_name": "Python 3.9.0 ('py-env')",
   "language": "python",
   "name": "python3"
  },
  "language_info": {
   "codemirror_mode": {
    "name": "ipython",
    "version": 3
   },
   "file_extension": ".py",
   "mimetype": "text/x-python",
   "name": "python",
   "nbconvert_exporter": "python",
   "pygments_lexer": "ipython3",
   "version": "3.9.13"
  }
 },
 "nbformat": 4,
 "nbformat_minor": 5
}

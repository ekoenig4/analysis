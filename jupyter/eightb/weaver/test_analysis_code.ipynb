{
 "cells": [
  {
   "cell_type": "code",
   "execution_count": 1,
   "id": "ef215b25",
   "metadata": {},
   "outputs": [],
   "source": [
    "%load_ext autoreload\n",
    "%autoreload 2\n",
    "\n",
    "import os\n",
    "import sys\n",
    "import git\n",
    "\n",
    "import uproot as ut\n",
    "import awkward as ak\n",
    "import numpy as np\n",
    "import math\n",
    "import vector\n",
    "import sympy as sp\n",
    "\n",
    "import re\n",
    "from tqdm import tqdm\n",
    "import timeit\n",
    "\n",
    "sys.path.append( git.Repo('.', search_parent_directories=True).working_tree_dir )\n",
    "from utils import *\n",
    "\n",
    "import utils.torchUtils as gnn\n",
    "\n",
    "plt.style.use('science')\n"
   ]
  },
  {
   "cell_type": "code",
   "execution_count": 2,
   "id": "0d860973",
   "metadata": {},
   "outputs": [],
   "source": [
    "filepath=\"/uscms_data/d3/ekoenig/8BAnalysis/analysis/CMSSW_10_6_28/src/sixB/analysis/sixBanalysis/NMSSM_XYY_YToHH_8b_MX_1000_MY_450.root\"\n",
    "\n",
    "signal = Tree(filepath)"
   ]
  },
  {
   "cell_type": "code",
   "execution_count": 3,
   "id": "880df7f6",
   "metadata": {},
   "outputs": [],
   "source": [
    "treeiter = ObjIter([signal])"
   ]
  },
  {
   "cell_type": "code",
   "execution_count": 4,
   "id": "9e58eeaa",
   "metadata": {},
   "outputs": [],
   "source": [
    "import awkward0 as ak0\n",
    "\n",
    "gnn_path = \"/uscms_data/d3/ekoenig/8BAnalysis/studies/weaver-benchmark/x_yy_4h_8b/models/graph_dijet/output\"\n",
    "\n",
    "def load_model_output(path):\n",
    "    output = ak0.load(path)\n",
    "    scores = ak.from_awkward0(output['scores'][:,:,1])\n",
    "    min_score, max_score = ak.min(scores, axis=-1), ak.max(scores, axis=-1)\n",
    "    return (scores - min_score)/(max_score - min_score)\n",
    "\n",
    "def load_regex_output(regex):\n",
    "    path = glob.glob(regex)[0]\n",
    "    return load_model_output(path)"
   ]
  },
  {
   "cell_type": "code",
   "execution_count": 5,
   "id": "e398f087",
   "metadata": {},
   "outputs": [],
   "source": [
    "import glob \n",
    "\n",
    "gnn_score = load_model_output(f\"{gnn_path}/NMSSM_XYY_YToHH_8b_MX_1000_MY_450.awkd\")\n",
    "signal.extend(dijet_gnn_score=gnn_score)\n"
   ]
  },
  {
   "cell_type": "code",
   "execution_count": 6,
   "id": "295dd5a0",
   "metadata": {},
   "outputs": [],
   "source": [
    "varinfo.dijet_score = dict(bins=np.linspace(0,1,30), xlabel='DiJet Score')\n",
    "varinfo.dijet_dr    = dict(bins=np.linspace(0,6,30), xlabel='DiJet Jet dR')"
   ]
  },
  {
   "cell_type": "code",
   "execution_count": 7,
   "id": "f987c64a",
   "metadata": {},
   "outputs": [
    {
     "name": "stderr",
     "output_type": "stream",
     "text": [
      "OMP: Info #276: omp_set_nested routine deprecated, please use omp_set_max_active_levels instead.\n"
     ]
    },
    {
     "data": {
      "image/png": "[encoded data removed]",
      "text/plain": [
       "<Figure size 480x400 with 1 Axes>"
      ]
     },
     "metadata": {
      "needs_background": "light"
     },
     "output_type": "display_data"
    },
    {
     "data": {
      "image/png": "[encoded data removed]",
      "text/plain": [
       "<Figure size 480x400 with 1 Axes>"
      ]
     },
     "metadata": {
      "needs_background": "light"
     },
     "output_type": "display_data"
    }
   ],
   "source": [
    "study.overlay(\n",
    "    treeiter,\n",
    "    varlist=['dijet_score','dijet_gnn_score'],\n",
    ")\n",
    "\n",
    "study.quick(\n",
    "    treeiter,\n",
    "    varlist=[lambda t:t.dijet_gnn_score-t.dijet_score]\n",
    ")"
   ]
  },
  {
   "cell_type": "code",
   "execution_count": 8,
   "id": "f3028699",
   "metadata": {},
   "outputs": [],
   "source": [
    "c_score = signal.dijet_score\n",
    "p_score = signal.dijet_gnn_score"
   ]
  },
  {
   "cell_type": "code",
   "execution_count": 21,
   "id": "34c57d7d",
   "metadata": {},
   "outputs": [],
   "source": [
    "accuracy = np.log(np.abs(p_score-c_score))"
   ]
  },
  {
   "cell_type": "code",
   "execution_count": 48,
   "id": "9dcfeb4a",
   "metadata": {},
   "outputs": [
    {
     "data": {
      "text/plain": [
       "(<Figure size 468x468 with 1 Axes>, <AxesSubplot:ylabel='Events'>)"
      ]
     },
     "execution_count": 48,
     "metadata": {},
     "output_type": "execute_result"
    },
    {
     "data": {
      "image/png": "[encoded data removed]",
      "text/plain": [
       "<Figure size 468x468 with 1 Axes>"
      ]
     },
     "metadata": {
      "needs_background": "light"
     },
     "output_type": "display_data"
    }
   ],
   "source": [
    "n_bad = ak.sum(accuracy>-4,axis=-1)\n",
    "hist_multi([n_bad], log=True)"
   ]
  },
  {
   "cell_type": "code",
   "execution_count": 49,
   "id": "7bf9f35a",
   "metadata": {},
   "outputs": [
    {
     "data": {
      "text/plain": [
       "0.2320997074907796"
      ]
     },
     "execution_count": 49,
     "metadata": {},
     "output_type": "execute_result"
    }
   ],
   "source": [
    "ak.mean(n_bad>0)*100"
   ]
  },
  {
   "cell_type": "code",
   "execution_count": 27,
   "id": "4b6aa9a0",
   "metadata": {},
   "outputs": [
    {
     "data": {
      "text/plain": [
       "14687"
      ]
     },
     "execution_count": 27,
     "metadata": {},
     "output_type": "execute_result"
    }
   ],
   "source": [
    "ak.argmax(n_bad)"
   ]
  },
  {
   "cell_type": "code",
   "execution_count": 16,
   "id": "19201bb3",
   "metadata": {},
   "outputs": [
    {
     "data": {
      "text/plain": [
       "14991"
      ]
     },
     "execution_count": 16,
     "metadata": {},
     "output_type": "execute_result"
    }
   ],
   "source": [
    "ak.argmax(accuracy)"
   ]
  },
  {
   "cell_type": "code",
   "execution_count": 76,
   "id": "2daed86d",
   "metadata": {},
   "outputs": [
    {
     "data": {
      "text/plain": [
       "<Record {Run: 1, LumiSec: 2, Event: 2} type='{\"Run\": uint32, \"LumiSec\": uint32, ...'>"
      ]
     },
     "execution_count": 76,
     "metadata": {},
     "output_type": "execute_result"
    }
   ],
   "source": [
    "event = signal[0]\n",
    "event[[\"Run\",\"LumiSec\",\"Event\"]]"
   ]
  },
  {
   "cell_type": "code",
   "execution_count": 82,
   "id": "a79c944e",
   "metadata": {},
   "outputs": [
    {
     "data": {
      "text/plain": [
       "([1.0, 0.9999570846557617, 0.5630844831466675, 1.0],\n",
       " [1.0, 1.0, 9.353425411973149e-06, 0.9778082370758057])"
      ]
     },
     "execution_count": 82,
     "metadata": {},
     "output_type": "execute_result"
    }
   ],
   "source": [
    "event.higgs_score.to_list(), event.cpp_higgs_score.to_list()"
   ]
  },
  {
   "cell_type": "code",
   "execution_count": 95,
   "id": "fb20886d",
   "metadata": {},
   "outputs": [
    {
     "data": {
      "text/plain": [
       "(<Array [1, 1, 1, ... 7.63e-08, 3.39e-08] type='45 * float32'>,\n",
       " <Array [0, 1, 1, 7, 0, 2, ... 4, 2, 5, 0, 6, 3] type='45 * int32'>,\n",
       " <Array [8, 2, 6, 8, 5, 4, ... 5, 9, 9, 9, 8, 9] type='45 * int32'>,\n",
       " <Array [-1, -1, 1, -1, 0, ... -1, -1, -1, -1] type='45 * int32'>)"
      ]
     },
     "execution_count": 95,
     "metadata": {},
     "output_type": "execute_result"
    }
   ],
   "source": [
    "order = ak.argsort(-event.dijet_score)\n",
    "\n",
    "event.dijet_score[order], event.dijet_j1Idx[order], event.dijet_j2Idx[order], event.dijet_signalId[order]"
   ]
  },
  {
   "cell_type": "code",
   "execution_count": 94,
   "id": "e5253b03",
   "metadata": {},
   "outputs": [
    {
     "data": {
      "text/plain": [
       "(<Array [1, 1, 9.35e-06, 0.978] type='4 * float32'>,\n",
       " <Array [1, 0, 3, 6] type='4 * int32'>,\n",
       " <Array [2, 8, 4, 7] type='4 * int32'>,\n",
       " <Array [-1, -1, -1, -1] type='4 * int32'>)"
      ]
     },
     "execution_count": 94,
     "metadata": {},
     "output_type": "execute_result"
    }
   ],
   "source": [
    "event.cpp_higgs_score, event.cpp_higgs_j1Idx, event.cpp_higgs_j2Idx, event.cpp_higgs_signalId"
   ]
  },
  {
   "cell_type": "code",
   "execution_count": 90,
   "id": "cb619ae1",
   "metadata": {},
   "outputs": [
    {
     "data": {
      "text/plain": [
       "[1.0,\n",
       " 1.0,\n",
       " 1.0,\n",
       " 0.9999945163726807,\n",
       " 0.999969482421875,\n",
       " 0.9999570846557617,\n",
       " 0.9999479055404663,\n",
       " 0.9876136779785156,\n",
       " 0.9778082370758057,\n",
       " 0.8913600444793701,\n",
       " 0.8559563159942627,\n",
       " 0.5630844831466675,\n",
       " 0.5,\n",
       " 0.3316943347454071,\n",
       " 0.13140927255153656,\n",
       " 0.0002147224295185879,\n",
       " 9.353425411973149e-06,\n",
       " 8.631129276182037e-06,\n",
       " 6.641438176302472e-06,\n",
       " 4.860582976107253e-06,\n",
       " 3.673659875857993e-06,\n",
       " 3.507999963403563e-06,\n",
       " 2.909744807766401e-06,\n",
       " 2.74323019766598e-06,\n",
       " 1.9976232579210773e-06,\n",
       " 1.7895998780659284e-06,\n",
       " 1.765551701282675e-06,\n",
       " 1.6943124592216918e-06,\n",
       " 1.5075291912580724e-06,\n",
       " 1.1263023225183133e-06,\n",
       " 1.0302112514182227e-06,\n",
       " 1.020541049001622e-06,\n",
       " 6.255460220927489e-07,\n",
       " 6.11354323609703e-07,\n",
       " 5.119820798427099e-07,\n",
       " 4.525181225289998e-07,\n",
       " 2.561919529853185e-07,\n",
       " 2.386321114045131e-07,\n",
       " 2.2528557508394442e-07,\n",
       " 2.1121459781170415e-07,\n",
       " 1.4723742935984774e-07,\n",
       " 1.2546855998607498e-07,\n",
       " 8.833374209871181e-08,\n",
       " 7.632787912825734e-08,\n",
       " 3.3873913451998305e-08]"
      ]
     },
     "execution_count": 90,
     "metadata": {},
     "output_type": "execute_result"
    }
   ],
   "source": [
    "event.dijet_score[order].to_list()"
   ]
  },
  {
   "cell_type": "code",
   "execution_count": 10,
   "id": "00b8885b",
   "metadata": {},
   "outputs": [],
   "source": [
    "build_collection(signal, 'H\\dY\\d', 'higgs', ptordered=True)"
   ]
  },
  {
   "cell_type": "code",
   "execution_count": 53,
   "id": "594abaa2",
   "metadata": {},
   "outputs": [],
   "source": [
    "select_higgs(signal, field='gnn_score', tag='gnn', nhiggs=4)\n",
    "select_higgs(signal, field='score', tag='cpp', nhiggs=4)\n"
   ]
  },
  {
   "cell_type": "code",
   "execution_count": 75,
   "id": "dd535274",
   "metadata": {},
   "outputs": [
    {
     "data": {
      "image/png": "[encoded data removed]",
      "text/plain": [
       "<Figure size 480x400 with 2 Axes>"
      ]
     },
     "metadata": {
      "needs_background": "light"
     },
     "output_type": "display_data"
    }
   ],
   "source": [
    "study.overlay(\n",
    "  [signal],h_color=None,label=['c++','cpp score','gnn score'], legend=True,\n",
    "  varlist=['nfound_paired_h',lambda t:ak.sum(t.cpp_higgs_signalId>-1,axis=-1),lambda t:ak.sum(t.gnn_higgs_signalId>-1,axis=-1)],\n",
    "  cumulative=-1,log=True,\n",
    "  ratio=True, r_ylim=(0.9,1.1)\n",
    ")"
   ]
  },
  {
   "cell_type": "code",
   "execution_count": 70,
   "id": "22df61ee",
   "metadata": {},
   "outputs": [
    {
     "data": {
      "text/plain": [
       "(<Figure size 468x468 with 1 Axes>, <AxesSubplot:ylabel='CDF Above'>)"
      ]
     },
     "execution_count": 70,
     "metadata": {},
     "output_type": "execute_result"
    },
    {
     "data": {
      "image/png": "[encoded data removed]",
      "text/plain": [
       "<Figure size 468x468 with 1 Axes>"
      ]
     },
     "metadata": {
      "needs_background": "light"
     },
     "output_type": "display_data"
    },
    {
     "data": {
      "image/png": "[encoded data removed]",
      "text/plain": [
       "<Figure size 468x468 with 1 Axes>"
      ]
     },
     "metadata": {
      "needs_background": "light"
     },
     "output_type": "display_data"
    }
   ],
   "source": [
    "j1Idx_diff = signal.cpp_higgs_j1Idx - signal.gnn_higgs_j1Idx\n",
    "j1Idx_diff = ak.where(j1Idx_diff == 0, 0, 1)\n",
    "j2Idx_diff = signal.cpp_higgs_j2Idx - signal.gnn_higgs_j2Idx\n",
    "j2Idx_diff = ak.where(j2Idx_diff == 0, 0, 1)\n",
    "dijet_diff = j1Idx_diff & j2Idx_diff\n",
    "n_dijets_bad = ak.sum(dijet_diff, axis=-1)\n",
    "\n",
    "hist_multi([n_dijets_bad], density=True, log=True, bins=np.array([0,1,5]))\n",
    "hist_multi([n_dijets_bad], cumulative=-1, log=True)\n"
   ]
  }
 ],
 "metadata": {
  "interpreter": {
   "hash": "0dc50badf6bcf34ee37feb4ddab24eb1b71716d96fc6cae89d10c22f5e3462c0"
  },
  "kernelspec": {
   "display_name": "Python 3.8.10 64-bit ('base': conda)",
   "name": "python3"
  },
  "language_info": {
   "codemirror_mode": {
    "name": "ipython",
    "version": 3
   },
   "file_extension": ".py",
   "mimetype": "text/x-python",
   "name": "python",
   "nbconvert_exporter": "python",
   "pygments_lexer": "ipython3",
   "version": "3.8.12"
  }
 },
 "nbformat": 4,
 "nbformat_minor": 5
}

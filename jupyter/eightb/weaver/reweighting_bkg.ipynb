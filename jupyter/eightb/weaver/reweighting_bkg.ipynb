{
 "cells": [
  {
   "cell_type": "code",
   "execution_count": 1,
   "id": "9bfa3b5a",
   "metadata": {},
   "outputs": [],
   "source": [
    "%load_ext autoreload\n",
    "%autoreload 2\n",
    "\n",
    "import os\n",
    "os.environ['KMP_WARNINGS'] = 'off'\n",
    "import sys\n",
    "import git\n",
    "\n",
    "import uproot as ut\n",
    "import awkward as ak\n",
    "import numpy as np\n",
    "import math\n",
    "import vector\n",
    "import sympy as sp\n",
    "\n",
    "import re\n",
    "from tqdm import tqdm\n",
    "import timeit\n",
    "import re\n",
    "\n",
    "sys.path.append( git.Repo('.', search_parent_directories=True).working_tree_dir )\n",
    "from utils import *"
   ]
  },
  {
   "cell_type": "code",
   "execution_count": 2,
   "id": "6edca911",
   "metadata": {},
   "outputs": [],
   "source": [
    "%load_ext line_profiler\n",
    "%load_ext memory_profiler"
   ]
  },
  {
   "cell_type": "code",
   "execution_count": 3,
   "id": "35308158",
   "metadata": {},
   "outputs": [],
   "source": [
    "training = fc.eightb.training.training_5M\n",
    "module = fc.eightb.preselection.t8btag_minmass"
   ]
  },
  {
   "cell_type": "code",
   "execution_count": 4,
   "id": "a46a7e85",
   "metadata": {},
   "outputs": [
    {
     "name": "stderr",
     "output_type": "stream",
     "text": [
      "100%|██████████| 3/3 [00:51<00:00, 17.14s/it]\n"
     ]
    }
   ],
   "source": [
    "def get_files(f): return f.replace(\"ntuple.root\",\"fully_res_ntuple_*.root\")\n",
    "signal = ObjIter( Tree(get_files(f),  report=False) for f in tqdm(training.signal_list))"
   ]
  },
  {
   "cell_type": "code",
   "execution_count": 5,
   "id": "91076073",
   "metadata": {},
   "outputs": [],
   "source": [
    "def get_ttbar(ttbar):\n",
    "    return ttbar[0].replace(\"ntuple_0\",\"ntuple_{6,7}\")"
   ]
  },
  {
   "cell_type": "code",
   "execution_count": 7,
   "id": "096e860c",
   "metadata": {},
   "outputs": [
    {
     "name": "stderr",
     "output_type": "stream",
     "text": [
      " 50%|█████     | 8/16 [00:05<00:04,  1.63it/s]"
     ]
    },
    {
     "name": "stdout",
     "output_type": "stream",
     "text": [
      "[WARNING] skipping None, was not found.\n"
     ]
    },
    {
     "name": "stderr",
     "output_type": "stream",
     "text": [
      "100%|██████████| 16/16 [00:11<00:00,  1.40it/s]\n",
      "100%|██████████| 2/2 [00:02<00:00,  1.11s/it]\n"
     ]
    }
   ],
   "source": [
    "bkg = ObjIter( [Tree(module.Run2_Au18.QCD_B_List, altfile='training_{base}'), Tree(get_ttbar(module.Run2_UL18.TTJets), altfile='training_{base}')] )\n"
   ]
  },
  {
   "cell_type": "code",
   "execution_count": null,
   "id": "715cac39",
   "metadata": {},
   "outputs": [],
   "source": []
  }
 ],
 "metadata": {
  "interpreter": {
   "hash": "99d8ad6568882febb6ca5d1c2307614594cf6684ed0ce2b9f63bf31341fdb3d5"
  },
  "kernelspec": {
   "display_name": "Python 3.9.0 ('py-env')",
   "language": "python",
   "name": "python3"
  },
  "language_info": {
   "codemirror_mode": {
    "name": "ipython",
    "version": 3
   },
   "file_extension": ".py",
   "mimetype": "text/x-python",
   "name": "python",
   "nbconvert_exporter": "python",
   "pygments_lexer": "ipython3",
   "version": "3.9.15"
  }
 },
 "nbformat": 4,
 "nbformat_minor": 5
}

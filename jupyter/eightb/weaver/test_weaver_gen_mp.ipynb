{
 "cells": [
  {
   "cell_type": "code",
   "execution_count": 1,
   "id": "9bfa3b5a",
   "metadata": {},
   "outputs": [],
   "source": [
    "%load_ext autoreload\n",
    "%autoreload 2\n",
    "\n",
    "import os\n",
    "os.environ['KMP_WARNINGS'] = 'off'\n",
    "import sys\n",
    "import git\n",
    "\n",
    "import uproot as ut\n",
    "import awkward as ak\n",
    "import numpy as np\n",
    "import math\n",
    "import vector\n",
    "import sympy as sp\n",
    "\n",
    "import re\n",
    "from tqdm import tqdm\n",
    "import timeit\n",
    "import re\n",
    "\n",
    "sys.path.append( git.Repo('.', search_parent_directories=True).working_tree_dir )\n",
    "from utils import *"
   ]
  },
  {
   "cell_type": "code",
   "execution_count": 2,
   "id": "6edca911",
   "metadata": {},
   "outputs": [],
   "source": [
    "%load_ext line_profiler\n",
    "%load_ext memory_profiler"
   ]
  },
  {
   "cell_type": "code",
   "execution_count": 3,
   "id": "e992d5bf",
   "metadata": {},
   "outputs": [],
   "source": [
    "varinfo.clear()"
   ]
  },
  {
   "cell_type": "code",
   "execution_count": 4,
   "id": "35308158",
   "metadata": {},
   "outputs": [],
   "source": [
    "module = fc.eightb.preselection.t8btag_minmass\n",
    "dout = \"compare_trainings_bkg\""
   ]
  },
  {
   "cell_type": "code",
   "execution_count": 54,
   "id": "c5968aac",
   "metadata": {},
   "outputs": [
    {
     "name": "stderr",
     "output_type": "stream",
     "text": [
      "100%|██████████| 1/1 [00:02<00:00,  2.57s/it]\n"
     ]
    }
   ],
   "source": [
    "# signal = ObjIter([])\n",
    "# signal = ObjIter([ Tree(f, report=False) for f in tqdm(module.signal_list) ])\n",
    "signal = ObjIter([ Tree(f, report=False) for f in tqdm([module.NMSSM_XYY_YToHH_8b_MX_1000_MY_450]) ])\n",
    "\n",
    "bkg = ObjIter([])\n",
    "# bkg = ObjIter([ Tree(module.Run2_UL18.QCD_B_List), Tree(module.Run2_UL18.TTJets)])\n",
    "\n",
    "data = ObjIter([])\n",
    "# data = ObjIter([ Tree(module.Run2_UL18.JetHT_Data_UL_List) ])"
   ]
  },
  {
   "cell_type": "code",
   "execution_count": 55,
   "id": "6110c2da",
   "metadata": {},
   "outputs": [],
   "source": [
    "# bkg.reweight(2.3)\n",
    "# bkg.set_systematics(0.2)"
   ]
  },
  {
   "cell_type": "code",
   "execution_count": 56,
   "id": "d483a15c",
   "metadata": {},
   "outputs": [
    {
     "data": {
      "text/plain": [
       "[None]"
      ]
     },
     "execution_count": 56,
     "metadata": {},
     "output_type": "execute_result"
    }
   ],
   "source": [
    "def n_presel_jets(t):\n",
    "    t.extend(n_presel_jet=t.n_jet)\n",
    "(signal+bkg+data).apply(n_presel_jets)"
   ]
  },
  {
   "cell_type": "code",
   "execution_count": 57,
   "id": "89c17ccd",
   "metadata": {},
   "outputs": [],
   "source": [
    "# (signal+bkg).apply(lambda t : build_collection(t, 'H\\dY\\d_b\\d', 'jet', ordered='pt'), report=True)\n",
    "t8btag = CollectionFilter('jet', filter=lambda t: ak_rank(-t.jet_btag, axis=-1) < 8)\n",
    "signal = signal.apply(t8btag)\n",
    "bkg = bkg.apply(t8btag)\n",
    "data = data.apply(t8btag)"
   ]
  },
  {
   "cell_type": "code",
   "execution_count": 47,
   "id": "5481e90f",
   "metadata": {},
   "outputs": [],
   "source": [
    "signal = signal.apply(EventFilter('fully res', filter=lambda t : t.nfound_select==8))"
   ]
  },
  {
   "cell_type": "code",
   "execution_count": 58,
   "id": "eda716dd",
   "metadata": {},
   "outputs": [],
   "source": [
    "path = '/uscms_data/d3/ekoenig/8BAnalysis/studies/weaver-multiH/weaver/models'\n",
    "networks = dict(\n",
    "    # mp='/uscms_data/d3/ekoenig/8BAnalysis/studies/weaver-multiH/weaver/models/quadh_ranker_mp/20221124_ranger_lr0.0047_batch512_m7m10m12/',\n",
    "    # mpbkg00='/uscms_data/d3/ekoenig/8BAnalysis/studies/weaver-multiH/weaver/models/quadh_ranker_mp/20221209_b72001172c5d04183ed7bb294252320b_ranger_lr0.0047_batch1024_m7m10m12_withbkg/',\n",
    "    # mpbkg005='/uscms_data/d3/ekoenig/8BAnalysis/studies/weaver-multiH/weaver/models/quadh_ranker_mp/20221212_293790a7fbfb752ded05771058bf5a25_ranger_lr0.0047_batch1024_m7m10m12_withbkg/',\n",
    "    # mpbkg01='/uscms_data/d3/ekoenig/8BAnalysis/studies/weaver-multiH/weaver/models/quadh_ranker_mp/20221209_be9efb5b61eb1c42aeb209728eec84d7_ranger_lr0.0047_batch1024_m7m10m12_withbkg/',\n",
    "    \n",
    "    # mpbkg01_hard25=f'{path}/quadh_ranker_mp/20221214_d595a9703289900d701416bb7274ab71_ranger_lr0.0047_batch1024_m7m10m12_withbkg/',\n",
    "    # mpbkg01_hard50=f'{path}/quadh_ranker_mp/20221214_13676d884fa50cdaffb748fc057f180a_ranger_lr0.0047_batch1024_m7m10m12_withbkg/',\n",
    "\n",
    "    # mpbkg01_hard25=f'{path}/quadh_ranker_mp/20221215_d595a9703289900d701416bb7274ab71_ranger_lr0.0047_batch1024_m7m10m12_withbkg/',\n",
    "    # mpbkg01_hard50=f'{path}/quadh_ranker_mp/20221215_13676d884fa50cdaffb748fc057f180a_ranger_lr0.0047_batch1024_m7m10m12_withbkg/',\n",
    "    # mpbkg01_hard50_unweighted=f'{path}/quadh_ranker_mp/20221216_dbe056a55e82ce1d89e004942c741bb3_ranger_lr0.0047_batch1024_m7m10m12_unweighted_withbkg/',\n",
    "    mpbkg01_hard50_new=f'{path}/quadh_ranker_mp/20221218_dbe056a55e82ce1d89e004942c741bb3_ranger_lr0.0047_batch1024_m7m10m12_withbkg/',\n",
    "    # mpbkg01_soft50=f'{path}/quadh_ranker_mp/20221216_3670efc07d75e8ee127d257f9fcf66fb_ranger_lr0.0047_batch1024_m7m10m12_withbkg/',\n",
    "\n",
    "    # mpbkg01_exp=f'{path}/quadh_ranker_mp/20221214_2f889467cb0f6c7a9269c92e93c25c1d_ranger_lr0.0047_batch1024_m7m10m12_withbkg/',\n",
    "    # mpbkg05_exp=f'{path}/quadh_ranker_mp/20221214_34452fc51690ae1d20a150a10c0bafa7_ranger_lr0.0047_batch1024_m7m10m12_withbkg/',\n",
    ")"
   ]
  },
  {
   "cell_type": "code",
   "execution_count": 59,
   "id": "7f02607d",
   "metadata": {},
   "outputs": [],
   "source": [
    "def nfound_higgs(t):\n",
    "    nhiggs = ak.sum(t.higgs_signalId>-1,axis=-1)\n",
    "    t.extend(nfound_paired_h=nhiggs)\n",
    "\n",
    "class Networks:\n",
    "    def __init__(self, signal, bkg, data, quadh_path=None):\n",
    "        self.signal = signal.copy()\n",
    "        self.bkg = bkg.copy()\n",
    "        self.data = data.copy()\n",
    "\n",
    "        self.quadh_path = quadh_path\n",
    "\n",
    "        (self.signal+self.bkg+self.data).apply(lambda t : eightb.load_quadh(t, quadh_path), report=True)\n",
    "        self.signal.apply(nfound_higgs)\n",
    "\n",
    "        event_filter = FilterSequence(\n",
    "            eightb.selected_jet_pt(),\n",
    "            eightb.selected_jet_btagwp()\n",
    "        )\n",
    "\n",
    "        # self.signal = self.signal.apply(event_filter)\n",
    "        # self.bkg = self.bkg.apply(event_filter)\n",
    "        # self.data = self.data.apply(event_filter)"
   ]
  },
  {
   "cell_type": "code",
   "execution_count": 60,
   "id": "61b2aea4",
   "metadata": {},
   "outputs": [
    {
     "name": "stderr",
     "output_type": "stream",
     "text": [
      "100%|██████████| 1/1 [00:00<00:00,  1.12it/s]\n"
     ]
    }
   ],
   "source": [
    "models = {\n",
    "    key : Networks(signal, bkg, data, path)\n",
    "    for key, path in networks.items()\n",
    "}"
   ]
  },
  {
   "cell_type": "code",
   "execution_count": 61,
   "id": "f01cc6c7",
   "metadata": {},
   "outputs": [],
   "source": [
    "model = models['mpbkg01_hard50_new']"
   ]
  },
  {
   "cell_type": "code",
   "execution_count": 62,
   "id": "93a025a0",
   "metadata": {},
   "outputs": [],
   "source": [
    "t = model.signal[0]"
   ]
  },
  {
   "cell_type": "code",
   "execution_count": 64,
   "id": "83148c83",
   "metadata": {},
   "outputs": [
    {
     "name": "stderr",
     "output_type": "stream",
     "text": [
      "100%|██████████| 1/1 [00:00<00:00, 36.53it/s]\n"
     ]
    },
    {
     "data": {
      "image/png": "[encoded data removed]",
      "text/plain": [
       "<Figure size 480x400 with 1 Axes>"
      ]
     },
     "metadata": {},
     "output_type": "display_data"
    }
   ],
   "source": [
    "study.quick(\n",
    "    model.signal,\n",
    "    # masks=lambda t : t.nfound_select==8,\n",
    "    varlist=['nfound_paired_h'],\n",
    "    efficiency=True,\n",
    ")"
   ]
  },
  {
   "cell_type": "code",
   "execution_count": null,
   "id": "619e8f44",
   "metadata": {},
   "outputs": [],
   "source": []
  }
 ],
 "metadata": {
  "interpreter": {
   "hash": "99d8ad6568882febb6ca5d1c2307614594cf6684ed0ce2b9f63bf31341fdb3d5"
  },
  "kernelspec": {
   "display_name": "Python 3.9.13 ('py-env')",
   "language": "python",
   "name": "python3"
  },
  "language_info": {
   "codemirror_mode": {
    "name": "ipython",
    "version": 3
   },
   "file_extension": ".py",
   "mimetype": "text/x-python",
   "name": "python",
   "nbconvert_exporter": "python",
   "pygments_lexer": "ipython3",
   "version": "3.9.15"
  }
 },
 "nbformat": 4,
 "nbformat_minor": 5
}

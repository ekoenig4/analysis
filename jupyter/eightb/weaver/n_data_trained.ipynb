{
 "cells": [
  {
   "cell_type": "code",
   "execution_count": 8,
   "id": "9bfa3b5a",
   "metadata": {},
   "outputs": [],
   "source": [
    "%load_ext autoreload\n",
    "%autoreload 2\n",
    "\n",
    "import os\n",
    "os.environ['KMP_WARNINGS'] = 'off'\n",
    "import sys\n",
    "import git\n",
    "\n",
    "import uproot as ut\n",
    "import awkward as ak\n",
    "import numpy as np\n",
    "import math\n",
    "import vector\n",
    "import sympy as sp\n",
    "\n",
    "import re\n",
    "from tqdm import tqdm\n",
    "import timeit\n",
    "import re\n",
    "\n",
    "sys.path.append( git.Repo('.', search_parent_directories=True).working_tree_dir )\n",
    "from utils import *"
   ]
  },
  {
   "cell_type": "code",
   "execution_count": 9,
   "id": "6edca911",
   "metadata": {},
   "outputs": [],
   "source": [
    "%load_ext line_profiler\n",
    "%load_ext memory_profiler"
   ]
  },
  {
   "cell_type": "code",
   "execution_count": 10,
   "id": "9f6d2545",
   "metadata": {},
   "outputs": [
    {
     "name": "stderr",
     "output_type": "stream",
     "text": [
      "100%|██████████| 3/3 [01:53<00:00, 37.90s/it]\n"
     ]
    }
   ],
   "source": [
    "module = fc.eightb.training.training_5M\n",
    "\n",
    "def get_files(f):\n",
    "    return f.replace(\"ntuple.root\",\"ntuple*.root\")\n",
    "\n",
    "signal = ObjIter([ Tree( get_files(f), report=False) for f in tqdm(module.signal_list)])"
   ]
  },
  {
   "cell_type": "code",
   "execution_count": 11,
   "id": "d9b06e8d",
   "metadata": {},
   "outputs": [],
   "source": [
    "yields = signal.apply(lambda t : t.nfound_presel == 8)"
   ]
  },
  {
   "cell_type": "code",
   "execution_count": 12,
   "id": "d9d19b15",
   "metadata": {},
   "outputs": [
    {
     "data": {
      "text/plain": [
       "[2152140, 3012638, 3276837]"
      ]
     },
     "execution_count": 12,
     "metadata": {},
     "output_type": "execute_result"
    }
   ],
   "source": [
    "yields.apply(len)"
   ]
  },
  {
   "cell_type": "code",
   "execution_count": 13,
   "id": "a7fc38a2",
   "metadata": {},
   "outputs": [
    {
     "data": {
      "text/plain": [
       "[231968, 485898, 666539]"
      ]
     },
     "execution_count": 13,
     "metadata": {},
     "output_type": "execute_result"
    }
   ],
   "source": [
    "yields.apply(np.sum)"
   ]
  },
  {
   "cell_type": "code",
   "execution_count": 14,
   "id": "48849c6f",
   "metadata": {},
   "outputs": [
    {
     "data": {
      "text/plain": [
       "[0.10778480953841293, 0.16128655351223745, 0.20340926326210307]"
      ]
     },
     "execution_count": 14,
     "metadata": {},
     "output_type": "execute_result"
    }
   ],
   "source": [
    "yields.apply(np.mean)"
   ]
  },
  {
   "cell_type": "code",
   "execution_count": 15,
   "id": "bed76564",
   "metadata": {},
   "outputs": [
    {
     "data": {
      "text/plain": [
       "1384405"
      ]
     },
     "execution_count": 15,
     "metadata": {},
     "output_type": "execute_result"
    }
   ],
   "source": [
    "total_yield = yields.apply(np.sum).npy.sum()\n",
    "total_yield"
   ]
  },
  {
   "cell_type": "code",
   "execution_count": 18,
   "id": "324d8a25",
   "metadata": {},
   "outputs": [
    {
     "data": {
      "text/plain": [
       "[0.21669959296593122, 0.361165988276552]"
      ]
     },
     "execution_count": 18,
     "metadata": {},
     "output_type": "execute_result"
    }
   ],
   "source": [
    "rates = [300000/total_yield, 500000/total_yield]\n",
    "rates"
   ]
  },
  {
   "cell_type": "code",
   "execution_count": 69,
   "id": "f6a01030",
   "metadata": {},
   "outputs": [],
   "source": [
    "nrate = [300, 500]"
   ]
  },
  {
   "cell_type": "code",
   "execution_count": 71,
   "id": "9bde43d1",
   "metadata": {},
   "outputs": [],
   "source": [
    "def random_sample(t, rates=rates):\n",
    "    if '_random' not in t.fields:\n",
    "        t.extend(_random = ak.from_numpy(np.random.random( len(t.Run) )))\n",
    "    t.extend(\n",
    "        **{\n",
    "            f\"mask_{nrate[i]}k\":t._random < rate  \n",
    "            for i, rate in enumerate(rates)\n",
    "        }\n",
    "    )"
   ]
  },
  {
   "cell_type": "code",
   "execution_count": 72,
   "id": "0ac241ba",
   "metadata": {},
   "outputs": [
    {
     "data": {
      "text/plain": [
       "[None, None, None]"
      ]
     },
     "execution_count": 72,
     "metadata": {},
     "output_type": "execute_result"
    }
   ],
   "source": [
    "signal.apply(random_sample)"
   ]
  },
  {
   "cell_type": "code",
   "execution_count": 74,
   "id": "46e61831",
   "metadata": {},
   "outputs": [
    {
     "name": "stderr",
     "output_type": "stream",
     "text": [
      "100%|██████████| 1/1 [00:10<00:00, 10.62s/it]\n"
     ]
    },
    {
     "data": {
      "image/png": "[encoded data removed]",
      "text/plain": [
       "<Figure size 480x400 with 1 Axes>"
      ]
     },
     "metadata": {},
     "output_type": "display_data"
    }
   ],
   "source": [
    "study.quick_region( \n",
    "    signal, signal,\n",
    "    legend=True, h_color=None, h_label_stat=\"{stats.nevents:0.3e}\",\n",
    "    lumi=None, scale=lambda t:1/t.scale,\n",
    "    efficiency=True,\n",
    "    masks = [lambda t : (t.nfound_presel==8)&(t.mask_300k)]*3 + [lambda t : (t.nfound_presel==8)&(t.mask_500k)]*3,\n",
    "    varlist=['X_pt']\n",
    ")"
   ]
  },
  {
   "cell_type": "code",
   "execution_count": 75,
   "id": "be5e7730",
   "metadata": {},
   "outputs": [
    {
     "name": "stdout",
     "output_type": "stream",
     "text": [
      "Writing //store/user/ekoenig/8BAnalysis/NTuples/2018/training/training_5M/NMSSM_XYY_YToHH_8b/NMSSM_XYY_YToHH_8b_MX_700_MY_300/sampled_ntuple_0.root\n"
     ]
    },
    {
     "name": "stderr",
     "output_type": "stream",
     "text": [
      "[579.5MB/579.5MB][100%][==================================================][96.59MB/s]  \n"
     ]
    },
    {
     "name": "stdout",
     "output_type": "stream",
     "text": [
      "Writing //store/user/ekoenig/8BAnalysis/NTuples/2018/training/training_5M/NMSSM_XYY_YToHH_8b/NMSSM_XYY_YToHH_8b_MX_700_MY_300/sampled_ntuple_1.root\n"
     ]
    },
    {
     "name": "stderr",
     "output_type": "stream",
     "text": [
      "[580.2MB/580.2MB][100%][==================================================][82.89MB/s]  \n"
     ]
    },
    {
     "name": "stdout",
     "output_type": "stream",
     "text": [
      "Writing //store/user/ekoenig/8BAnalysis/NTuples/2018/training/training_5M/NMSSM_XYY_YToHH_8b/NMSSM_XYY_YToHH_8b_MX_700_MY_300/sampled_ntuple_2.root\n"
     ]
    },
    {
     "name": "stderr",
     "output_type": "stream",
     "text": [
      "[579.4MB/579.4MB][100%][==================================================][115.9MB/s]  \n"
     ]
    },
    {
     "name": "stdout",
     "output_type": "stream",
     "text": [
      "Writing //store/user/ekoenig/8BAnalysis/NTuples/2018/training/training_5M/NMSSM_XYY_YToHH_8b/NMSSM_XYY_YToHH_8b_MX_700_MY_300/sampled_ntuple_3.root\n"
     ]
    },
    {
     "name": "stderr",
     "output_type": "stream",
     "text": [
      "[578.8MB/578.8MB][100%][==================================================][82.69MB/s]  \n"
     ]
    },
    {
     "name": "stdout",
     "output_type": "stream",
     "text": [
      "Writing //store/user/ekoenig/8BAnalysis/NTuples/2018/training/training_5M/NMSSM_XYY_YToHH_8b/NMSSM_XYY_YToHH_8b_MX_700_MY_300/sampled_ntuple_4.root\n"
     ]
    },
    {
     "name": "stderr",
     "output_type": "stream",
     "text": [
      "[581.3MB/581.3MB][100%][==================================================][116.3MB/s]  \n"
     ]
    },
    {
     "name": "stdout",
     "output_type": "stream",
     "text": [
      "Writing //store/user/ekoenig/8BAnalysis/NTuples/2018/training/training_5M/NMSSM_XYY_YToHH_8b/NMSSM_XYY_YToHH_8b_MX_1000_MY_450/sampled_ntuple_0.root\n"
     ]
    },
    {
     "name": "stderr",
     "output_type": "stream",
     "text": [
      "[823.8MB/823.8MB][100%][==================================================][103MB/s]    \n"
     ]
    },
    {
     "name": "stdout",
     "output_type": "stream",
     "text": [
      "Writing //store/user/ekoenig/8BAnalysis/NTuples/2018/training/training_5M/NMSSM_XYY_YToHH_8b/NMSSM_XYY_YToHH_8b_MX_1000_MY_450/sampled_ntuple_1.root\n"
     ]
    },
    {
     "name": "stderr",
     "output_type": "stream",
     "text": [
      "[822MB/822MB][100%][==================================================][102.7MB/s]  \n"
     ]
    },
    {
     "name": "stdout",
     "output_type": "stream",
     "text": [
      "Writing //store/user/ekoenig/8BAnalysis/NTuples/2018/training/training_5M/NMSSM_XYY_YToHH_8b/NMSSM_XYY_YToHH_8b_MX_1000_MY_450/sampled_ntuple_2.root\n"
     ]
    },
    {
     "name": "stderr",
     "output_type": "stream",
     "text": [
      "[823.5MB/823.5MB][100%][==================================================][91.51MB/s]  \n"
     ]
    },
    {
     "name": "stdout",
     "output_type": "stream",
     "text": [
      "Writing //store/user/ekoenig/8BAnalysis/NTuples/2018/training/training_5M/NMSSM_XYY_YToHH_8b/NMSSM_XYY_YToHH_8b_MX_1000_MY_450/sampled_ntuple_3.root\n"
     ]
    },
    {
     "name": "stderr",
     "output_type": "stream",
     "text": [
      "[823.1MB/823.1MB][100%][==================================================][102.9MB/s]  \n"
     ]
    },
    {
     "name": "stdout",
     "output_type": "stream",
     "text": [
      "Writing //store/user/ekoenig/8BAnalysis/NTuples/2018/training/training_5M/NMSSM_XYY_YToHH_8b/NMSSM_XYY_YToHH_8b_MX_1000_MY_450/sampled_ntuple_4.root\n"
     ]
    },
    {
     "name": "stderr",
     "output_type": "stream",
     "text": [
      "[822.9MB/822.9MB][100%][==================================================][91.43MB/s]  \n"
     ]
    },
    {
     "name": "stdout",
     "output_type": "stream",
     "text": [
      "Writing //store/user/ekoenig/8BAnalysis/NTuples/2018/training/training_5M/NMSSM_XYY_YToHH_8b/NMSSM_XYY_YToHH_8b_MX_1200_MY_500/sampled_ntuple_0.root\n"
     ]
    },
    {
     "name": "stderr",
     "output_type": "stream",
     "text": [
      "[900.9MB/900.9MB][100%][==================================================][100.1MB/s]  \n"
     ]
    },
    {
     "name": "stdout",
     "output_type": "stream",
     "text": [
      "Writing //store/user/ekoenig/8BAnalysis/NTuples/2018/training/training_5M/NMSSM_XYY_YToHH_8b/NMSSM_XYY_YToHH_8b_MX_1200_MY_500/sampled_ntuple_1.root\n"
     ]
    },
    {
     "name": "stderr",
     "output_type": "stream",
     "text": [
      "[900.7MB/900.7MB][100%][==================================================][100.1MB/s]  \n"
     ]
    },
    {
     "name": "stdout",
     "output_type": "stream",
     "text": [
      "Writing //store/user/ekoenig/8BAnalysis/NTuples/2018/training/training_5M/NMSSM_XYY_YToHH_8b/NMSSM_XYY_YToHH_8b_MX_1200_MY_500/sampled_ntuple_2.root\n"
     ]
    },
    {
     "name": "stderr",
     "output_type": "stream",
     "text": [
      "[899.5MB/899.5MB][100%][==================================================][99.94MB/s]  \n"
     ]
    },
    {
     "name": "stdout",
     "output_type": "stream",
     "text": [
      "Writing //store/user/ekoenig/8BAnalysis/NTuples/2018/training/training_5M/NMSSM_XYY_YToHH_8b/NMSSM_XYY_YToHH_8b_MX_1200_MY_500/sampled_ntuple_3.root\n"
     ]
    },
    {
     "name": "stderr",
     "output_type": "stream",
     "text": [
      "[899.5MB/899.5MB][100%][==================================================][99.95MB/s]  \n"
     ]
    },
    {
     "name": "stdout",
     "output_type": "stream",
     "text": [
      "Writing //store/user/ekoenig/8BAnalysis/NTuples/2018/training/training_5M/NMSSM_XYY_YToHH_8b/NMSSM_XYY_YToHH_8b_MX_1200_MY_500/sampled_ntuple_4.root\n"
     ]
    },
    {
     "name": "stderr",
     "output_type": "stream",
     "text": [
      "[900.6MB/900.6MB][100%][==================================================][112.6MB/s]  \n"
     ]
    },
    {
     "data": {
      "text/plain": [
       "[None, None, None]"
      ]
     },
     "execution_count": 75,
     "metadata": {},
     "output_type": "execute_result"
    }
   ],
   "source": [
    "signal.write(\n",
    "    'sampled_{base}'\n",
    ")"
   ]
  },
  {
   "cell_type": "code",
   "execution_count": null,
   "id": "459c6412",
   "metadata": {},
   "outputs": [],
   "source": []
  }
 ],
 "metadata": {
  "interpreter": {
   "hash": "99d8ad6568882febb6ca5d1c2307614594cf6684ed0ce2b9f63bf31341fdb3d5"
  },
  "kernelspec": {
   "display_name": "Python 3.9.0 ('py-env')",
   "language": "python",
   "name": "python3"
  },
  "language_info": {
   "codemirror_mode": {
    "name": "ipython",
    "version": 3
   },
   "file_extension": ".py",
   "mimetype": "text/x-python",
   "name": "python",
   "nbconvert_exporter": "python",
   "pygments_lexer": "ipython3",
   "version": "3.9.15"
  }
 },
 "nbformat": 4,
 "nbformat_minor": 5
}

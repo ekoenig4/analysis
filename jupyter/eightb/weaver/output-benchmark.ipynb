{
 "cells": [
  {
   "cell_type": "code",
   "execution_count": 1,
   "id": "ef215b25",
   "metadata": {},
   "outputs": [],
   "source": [
    "%load_ext autoreload\n",
    "%autoreload 2\n",
    "\n",
    "import os\n",
    "import sys\n",
    "import git\n",
    "\n",
    "import uproot as ut\n",
    "import awkward as ak\n",
    "import numpy as np\n",
    "import math\n",
    "import vector\n",
    "import sympy as sp\n",
    "\n",
    "import re\n",
    "from tqdm import tqdm\n",
    "import timeit\n",
    "\n",
    "sys.path.append( git.Repo('.', search_parent_directories=True).working_tree_dir )\n",
    "from utils import *\n",
    "\n",
    "import utils.torchUtils as gnn\n",
    "\n",
    "plt.style.use('science')\n"
   ]
  },
  {
   "cell_type": "code",
   "execution_count": 32,
   "id": "0d860973",
   "metadata": {},
   "outputs": [],
   "source": [
    "signal = ObjIter([Tree(fc.eightb.preselection.NMSSM_XYY_YToHH_8b_MX_1000_MY_450),Tree(fc.eightb.preselection.NMSSM_XYY_YToHH_8b_MX_700_MY_300)])\n",
    "qcd = ObjIter([Tree(fc.eightb.preselection.QCD_B_List)])"
   ]
  },
  {
   "cell_type": "code",
   "execution_count": 33,
   "id": "9e58eeaa",
   "metadata": {},
   "outputs": [],
   "source": [
    "import awkward0 as ak0\n",
    "\n",
    "# mlp_path = \"/uscms_data/d3/ekoenig/8BAnalysis/studies/weaver-benchmark/x_yy_4h_8b/models/mlp_dijet/output\"\n",
    "gnn_path = \"/uscms_data/d3/ekoenig/8BAnalysis/studies/weaver-benchmark/x_yy_4h_8b/models/rank_graph_dijet_relp4v2/output\"\n",
    "# gnn_kin_path = \"/uscms_data/d3/ekoenig/8BAnalysis/studies/weaver-benchmark/x_yy_4h_8b/models/graph_dijet_kin/output\"\n",
    "\n",
    "def load_model_output(path):\n",
    "    output = ak0.load(path)\n",
    "    scores = ak.from_awkward0(output['scores'])\n",
    "    scores = np.asarray(scores).reshape(-1,105)\n",
    "    return ak.from_numpy(scores)\n",
    "\n",
    "def load_regex_output(regex):\n",
    "    print(glob.glob(regex))\n",
    "    path = glob.glob(regex)[0]\n",
    "    return load_model_output(path)"
   ]
  },
  {
   "cell_type": "code",
   "execution_count": 34,
   "id": "e398f087",
   "metadata": {},
   "outputs": [
    {
     "name": "stdout",
     "output_type": "stream",
     "text": [
      "['/uscms_data/d3/ekoenig/8BAnalysis/studies/weaver-benchmark/x_yy_4h_8b/models/rank_graph_dijet_relp4v2/output/NMSSM_XYY_YToHH_8b_MX_1000_MY_450_accstudies.awkd']\n",
      "['/uscms_data/d3/ekoenig/8BAnalysis/studies/weaver-benchmark/x_yy_4h_8b/models/rank_graph_dijet_relp4v2/output/NMSSM_XYY_YToHH_8b_MX_700_MY_300_accstudies.awkd']\n"
     ]
    },
    {
     "data": {
      "text/plain": [
       "[None, None]"
      ]
     },
     "execution_count": 34,
     "metadata": {},
     "output_type": "execute_result"
    }
   ],
   "source": [
    "import glob \n",
    "\n",
    "def load_signal_output(tree):\n",
    "    mass = tree.sample\n",
    "    gnn_score = load_regex_output(f\"{gnn_path}/*{mass}*\")\n",
    "    tree.extend(gnn_score=gnn_score)\n",
    "signal.apply(load_signal_output)"
   ]
  },
  {
   "cell_type": "code",
   "execution_count": 35,
   "id": "3c2cbb86",
   "metadata": {},
   "outputs": [
    {
     "name": "stdout",
     "output_type": "stream",
     "text": [
      "['/uscms_data/d3/ekoenig/8BAnalysis/studies/weaver-benchmark/x_yy_4h_8b/models/rank_graph_dijet_relp4v2/output/QCD_bEnriched_HT100to200_TuneCP5_13TeV-madgraph-pythia8.awkd']\n",
      "['/uscms_data/d3/ekoenig/8BAnalysis/studies/weaver-benchmark/x_yy_4h_8b/models/rank_graph_dijet_relp4v2/output/QCD_bEnriched_HT200to300_TuneCP5_13TeV-madgraph-pythia8.awkd']\n",
      "['/uscms_data/d3/ekoenig/8BAnalysis/studies/weaver-benchmark/x_yy_4h_8b/models/rank_graph_dijet_relp4v2/output/QCD_bEnriched_HT300to500_TuneCP5_13TeV-madgraph-pythia8.awkd']\n",
      "['/uscms_data/d3/ekoenig/8BAnalysis/studies/weaver-benchmark/x_yy_4h_8b/models/rank_graph_dijet_relp4v2/output/QCD_bEnriched_HT500to700_TuneCP5_13TeV-madgraph-pythia8.awkd']\n",
      "['/uscms_data/d3/ekoenig/8BAnalysis/studies/weaver-benchmark/x_yy_4h_8b/models/rank_graph_dijet_relp4v2/output/QCD_bEnriched_HT700to1000_TuneCP5_13TeV-madgraph-pythia8.awkd']\n",
      "['/uscms_data/d3/ekoenig/8BAnalysis/studies/weaver-benchmark/x_yy_4h_8b/models/rank_graph_dijet_relp4v2/output/QCD_bEnriched_HT1000to1500_TuneCP5_13TeV-madgraph-pythia8.awkd']\n",
      "['/uscms_data/d3/ekoenig/8BAnalysis/studies/weaver-benchmark/x_yy_4h_8b/models/rank_graph_dijet_relp4v2/output/QCD_bEnriched_HT1500to2000_TuneCP5_13TeV-madgraph-pythia8.awkd']\n",
      "['/uscms_data/d3/ekoenig/8BAnalysis/studies/weaver-benchmark/x_yy_4h_8b/models/rank_graph_dijet_relp4v2/output/QCD_bEnriched_HT2000toInf_TuneCP5_13TeV-madgraph-pythia8.awkd']\n",
      "['/uscms_data/d3/ekoenig/8BAnalysis/studies/weaver-benchmark/x_yy_4h_8b/models/rank_graph_dijet_relp4v2/output/QCD_HT200to300_BGenFilter_TuneCP5_13TeV-madgraph-pythia8.awkd']\n",
      "['/uscms_data/d3/ekoenig/8BAnalysis/studies/weaver-benchmark/x_yy_4h_8b/models/rank_graph_dijet_relp4v2/output/QCD_HT300to500_BGenFilter_TuneCP5_13TeV-madgraph-pythia8.awkd']\n",
      "['/uscms_data/d3/ekoenig/8BAnalysis/studies/weaver-benchmark/x_yy_4h_8b/models/rank_graph_dijet_relp4v2/output/QCD_HT500to700_BGenFilter_TuneCP5_13TeV-madgraph-pythia8.awkd']\n",
      "['/uscms_data/d3/ekoenig/8BAnalysis/studies/weaver-benchmark/x_yy_4h_8b/models/rank_graph_dijet_relp4v2/output/QCD_HT700to1000_BGenFilter_TuneCP5_13TeV-madgraph-pythia8.awkd']\n",
      "['/uscms_data/d3/ekoenig/8BAnalysis/studies/weaver-benchmark/x_yy_4h_8b/models/rank_graph_dijet_relp4v2/output/QCD_HT1000to1500_BGenFilter_TuneCP5_13TeV-madgraph-pythia8.awkd']\n",
      "['/uscms_data/d3/ekoenig/8BAnalysis/studies/weaver-benchmark/x_yy_4h_8b/models/rank_graph_dijet_relp4v2/output/QCD_HT1500to2000_BGenFilter_TuneCP5_13TeV-madgraph-pythia8.awkd']\n",
      "['/uscms_data/d3/ekoenig/8BAnalysis/studies/weaver-benchmark/x_yy_4h_8b/models/rank_graph_dijet_relp4v2/output/QCD_HT2000toInf_BGenFilter_TuneCP5_13TeV-madgraph-pythia8.awkd']\n"
     ]
    },
    {
     "data": {
      "text/plain": [
       "[None]"
      ]
     },
     "execution_count": 35,
     "metadata": {},
     "output_type": "execute_result"
    }
   ],
   "source": [
    "def load_bkg_output(tree):\n",
    "    gnn_scores = [] \n",
    "    for f in tree.filelist:\n",
    "        gnn_scores.append( load_regex_output(f'{gnn_path}/{f.sample}*') )\n",
    "    gnn_scores = ak.concatenate(gnn_scores)\n",
    "    tree.extend(gnn_score=gnn_scores)\n",
    "qcd.apply(load_bkg_output)"
   ]
  },
  {
   "cell_type": "code",
   "execution_count": 36,
   "id": "195705bd",
   "metadata": {},
   "outputs": [
    {
     "name": "stderr",
     "output_type": "stream",
     "text": [
      "100%|██████████| 1/1 [00:00<00:00,  3.55it/s]\n"
     ]
    },
    {
     "data": {
      "image/png": "[encoded data removed]",
      "text/plain": [
       "<Figure size 480x400 with 2 Axes>"
      ]
     },
     "metadata": {
      "needs_background": "light"
     },
     "output_type": "display_data"
    }
   ],
   "source": [
    "class varmax(ObjTransform):\n",
    "  def init(self):\n",
    "    self.xlabel = f'max {self.var}'\n",
    "  def __call__(self, tree):\n",
    "    return ak.max(tree[self.var], axis=-1)\n",
    "\n",
    "study.quick(\n",
    "  signal+qcd, efficiency=True,\n",
    "  varlist=[varmax(var='gnn_score')],\n",
    "\n",
    "  cumulative=1,\n",
    "  correlation=True,\n",
    ")"
   ]
  },
  {
   "cell_type": "code",
   "execution_count": null,
   "id": "376047af",
   "metadata": {},
   "outputs": [],
   "source": []
  }
 ],
 "metadata": {
  "interpreter": {
   "hash": "b6b1afae4871be850bc5856e04911167d2a27de500099f683f3fac6532a69ef8"
  },
  "kernelspec": {
   "display_name": "Python 3.8.12",
   "language": "python",
   "name": "python3"
  },
  "language_info": {
   "codemirror_mode": {
    "name": "ipython",
    "version": 3
   },
   "file_extension": ".py",
   "mimetype": "text/x-python",
   "name": "python",
   "nbconvert_exporter": "python",
   "pygments_lexer": "ipython3",
   "version": "3.8.12"
  }
 },
 "nbformat": 4,
 "nbformat_minor": 5
}

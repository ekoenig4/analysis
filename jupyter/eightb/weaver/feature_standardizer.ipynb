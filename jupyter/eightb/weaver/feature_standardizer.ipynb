{
 "cells": [
  {
   "cell_type": "code",
   "execution_count": 1,
   "id": "ef215b25",
   "metadata": {},
   "outputs": [],
   "source": [
    "%load_ext autoreload\n",
    "%autoreload 2\n",
    "\n",
    "import os\n",
    "import sys\n",
    "import git\n",
    "\n",
    "import uproot as ut\n",
    "import awkward as ak\n",
    "import numpy as np\n",
    "import math\n",
    "import vector\n",
    "import sympy as sp\n",
    "\n",
    "import re\n",
    "from tqdm import tqdm\n",
    "import timeit\n",
    "\n",
    "sys.path.append( git.Repo('.', search_parent_directories=True).working_tree_dir )\n",
    "from utils import *\n",
    "\n",
    "import utils.torchUtils as gnn\n",
    "\n",
    "plt.style.use('science')\n"
   ]
  },
  {
   "cell_type": "code",
   "execution_count": 2,
   "id": "0d860973",
   "metadata": {},
   "outputs": [],
   "source": [
    "tree = Tree(fc.eightb.training.NMSSM_XYY_YToHH_8b_MX_1000_MY_450)"
   ]
  },
  {
   "cell_type": "code",
   "execution_count": 3,
   "id": "89def0e1",
   "metadata": {},
   "outputs": [],
   "source": [
    "jet_features = [\"jet_ptRegressed\",\n",
    "                \"jet_mRegressed\",\n",
    "                \"jet_eta\",\n",
    "                \"jet_phi\",\n",
    "                \"jet_btag\"]\n",
    "\n",
    "dijet_features = [\"dijet_pt\",\n",
    "                \"dijet_m\",\n",
    "                \"dijet_eta\",\n",
    "                \"dijet_phi\",\n",
    "                \"dijet_dr\"]"
   ]
  },
  {
   "cell_type": "code",
   "execution_count": 4,
   "id": "d1d450aa",
   "metadata": {},
   "outputs": [],
   "source": [
    "def yaml_format(*args):\n",
    "    args = ', '.join([ str(a) for a in args])\n",
    "    print(f'- [{args}]')"
   ]
  },
  {
   "cell_type": "code",
   "execution_count": 5,
   "id": "6a586183",
   "metadata": {},
   "outputs": [
    {
     "name": "stdout",
     "output_type": "stream",
     "text": [
      "- [jet_ptRegressed, 106.49119379258669, 0.011093439550358231]\n",
      "- [jet_mRegressed, 13.855390869556084, 0.07546417054219454]\n",
      "- [jet_eta, -0.004646810494229789, 0.9490873091813689]\n",
      "- [jet_phi, 0.0012206136861011064, 0.5503047186164244]\n",
      "- [jet_btag, 0.5560504488014454, 2.3603781279497356]\n"
     ]
    },
    {
     "data": {
      "text/plain": [
       "[None, None, None, None, None]"
      ]
     },
     "execution_count": 5,
     "metadata": {},
     "output_type": "execute_result"
    }
   ],
   "source": [
    "[ yaml_format(f, ak.mean(tree[f]),1/ak.std(tree[f])) for f in jet_features ]"
   ]
  },
  {
   "cell_type": "code",
   "execution_count": 14,
   "id": "0d8f1e42",
   "metadata": {},
   "outputs": [
    {
     "name": "stdout",
     "output_type": "stream",
     "text": [
      "- [jet_ptRegressed, 0, 3693.0356]\n",
      "- [jet_mRegressed, 0, 338.35437]\n",
      "- [jet_eta, 0, 2.4995117]\n",
      "- [jet_phi, 0, 3.1415837]\n",
      "- [jet_btag, 0, 0.9995117]\n"
     ]
    },
    {
     "data": {
      "text/plain": [
       "[None, None, None, None, None]"
      ]
     },
     "execution_count": 14,
     "metadata": {},
     "output_type": "execute_result"
    }
   ],
   "source": [
    "[ yaml_format(f, 0, ak.max(np.abs(tree[f]))) for f in jet_features ]"
   ]
  },
  {
   "cell_type": "code",
   "execution_count": 10,
   "id": "48334a27",
   "metadata": {},
   "outputs": [
    {
     "name": "stdout",
     "output_type": "stream",
     "text": [
      "- [dijet_pt, 149.8609226372421, 0.009102197117762117]\n",
      "- [dijet_m, 186.06887703117806, 0.007105258302755634]\n",
      "- [dijet_eta, -0.0066939666656760785, 0.7784110377705377]\n",
      "- [dijet_phi, -0.0006699702615941042, 0.5504368021912591]\n",
      "- [dijet_dr, 2.140659578875161, 1.1508677128601401]\n"
     ]
    },
    {
     "data": {
      "text/plain": [
       "[None, None, None, None, None]"
      ]
     },
     "execution_count": 10,
     "metadata": {},
     "output_type": "execute_result"
    }
   ],
   "source": [
    "[ yaml_format(f,ak.mean(tree[f]),1/ak.std(tree[f])) for f in dijet_features ]"
   ]
  },
  {
   "cell_type": "code",
   "execution_count": 16,
   "id": "506292e0",
   "metadata": {},
   "outputs": [
    {
     "name": "stdout",
     "output_type": "stream",
     "text": [
      "- [dijet_pt, 0, 0.00026392446399364105]\n",
      "- [dijet_m, 0, 0.00023999677504333536]\n",
      "- [dijet_eta, 0, 0.1060922914790035]\n",
      "- [dijet_phi, 0, 0.3183102155222888]\n",
      "- [dijet_dr, 0, 0.1730893684693315]\n"
     ]
    },
    {
     "data": {
      "text/plain": [
       "[None, None, None, None, None]"
      ]
     },
     "execution_count": 16,
     "metadata": {},
     "output_type": "execute_result"
    }
   ],
   "source": [
    "[ yaml_format(f, 0, 1/ak.max(np.abs(tree[f]))) for f in dijet_features ]"
   ]
  },
  {
   "cell_type": "code",
   "execution_count": 26,
   "id": "4c859b6d",
   "metadata": {},
   "outputs": [],
   "source": [
    "n_tru = ak.sum(tree.dijet_signalId>-1)\n",
    "n_fak = ak.sum(tree.dijet_signalId==-1)"
   ]
  },
  {
   "cell_type": "code",
   "execution_count": 30,
   "id": "46fc334f",
   "metadata": {},
   "outputs": [],
   "source": [
    "class_weights = np.array([n_tru,n_fak])"
   ]
  },
  {
   "cell_type": "code",
   "execution_count": 33,
   "id": "9e58eeaa",
   "metadata": {},
   "outputs": [
    {
     "data": {
      "text/plain": [
       "array([13.30827379,  1.        ])"
      ]
     },
     "execution_count": 33,
     "metadata": {},
     "output_type": "execute_result"
    }
   ],
   "source": [
    "class_weights.max()/class_weights"
   ]
  }
 ],
 "metadata": {
  "interpreter": {
   "hash": "0dc50badf6bcf34ee37feb4ddab24eb1b71716d96fc6cae89d10c22f5e3462c0"
  },
  "kernelspec": {
   "display_name": "Python 3.8.10 64-bit ('base': conda)",
   "name": "python3"
  },
  "language_info": {
   "codemirror_mode": {
    "name": "ipython",
    "version": 3
   },
   "file_extension": ".py",
   "mimetype": "text/x-python",
   "name": "python",
   "nbconvert_exporter": "python",
   "pygments_lexer": "ipython3",
   "version": "3.8.12"
  }
 },
 "nbformat": 4,
 "nbformat_minor": 5
}

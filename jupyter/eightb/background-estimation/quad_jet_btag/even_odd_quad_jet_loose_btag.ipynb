{
 "cells": [
  {
   "cell_type": "code",
   "execution_count": null,
   "id": "9bfa3b5a",
   "metadata": {},
   "outputs": [],
   "source": [
    "%load_ext autoreload\n",
    "%autoreload 2\n",
    "\n",
    "import os\n",
    "os.environ['KMP_WARNINGS'] = 'off'\n",
    "import sys\n",
    "import git\n",
    "\n",
    "import uproot as ut\n",
    "import awkward as ak\n",
    "import numpy as np\n",
    "import math\n",
    "import vector\n",
    "import sympy as sp\n",
    "\n",
    "import re\n",
    "from tqdm import tqdm\n",
    "import timeit\n",
    "import re\n",
    "\n",
    "sys.path.append( git.Repo('.', search_parent_directories=True).working_tree_dir )\n",
    "from utils import *"
   ]
  },
  {
   "cell_type": "code",
   "execution_count": null,
   "id": "6edca911",
   "metadata": {},
   "outputs": [],
   "source": [
    "%load_ext line_profiler\n",
    "%load_ext memory_profiler"
   ]
  },
  {
   "cell_type": "code",
   "execution_count": null,
   "id": "00fa50f3",
   "metadata": {},
   "outputs": [],
   "source": [
    "module = fc.eightb.preselection.ranked_quadh\n",
    "signal = ObjIter([Tree(fn, use_gen=False) for fn in module.signal_list[::3]])\n",
    "bkg = ObjIter([Tree(module.QCD_B_List, use_gen=False), Tree(module.TTJets, use_gen=False)])"
   ]
  },
  {
   "cell_type": "code",
   "execution_count": null,
   "id": "8d50a7a6",
   "metadata": {},
   "outputs": [],
   "source": [
    "study.quick(\n",
    "    signal+bkg, legend=True,\n",
    "    varlist=['n_loose_btag','n_medium_btag','n_tight_btag'],\n",
    "    dim=(-1,3),\n",
    "    efficiency=True\n",
    ")\n",
    "\n",
    "study.quick(\n",
    "    signal+bkg, legend=True,\n",
    "    varlist=['n_loose_btag','n_medium_btag','n_tight_btag'],\n",
    "    dim=(-1,3),\n",
    "    cumulative=-1, correlation=True, c_legend_frameon=True,\n",
    ")"
   ]
  },
  {
   "cell_type": "code",
   "execution_count": null,
   "id": "4ef9d42f",
   "metadata": {},
   "outputs": [],
   "source": [
    "(signal+bkg).apply(lambda t : build_collection(t, 'H\\dY\\d_b\\d', 'jet', ptordered=True))\n",
    "(signal+bkg).apply(lambda t : build_collection(t, 'H\\dY\\d', 'higgs', ptordered=True))"
   ]
  },
  {
   "cell_type": "code",
   "execution_count": null,
   "id": "64db2768",
   "metadata": {},
   "outputs": [],
   "source": [
    "def get_features(t):\n",
    "  def get_j_features(t, i):\n",
    "    label = {0:'even',1:'odd'}\n",
    "    btagmulti = {f'{label.get(i)}_{wplabels[wp+1]}_btag':ak.sum(t.jet_btag[:,i::2]>jet_btagWP[wp+1], axis=-1) for wp in range(3)}\n",
    "    btagmulti.update(\n",
    "      **{f'{label.get(i)}_btagavg':ak.mean(t.jet_btag[:,i::2], axis=-1)}\n",
    "    )\n",
    "    return btagmulti\n",
    "\n",
    "\n",
    "  t.extend(\n",
    "    **get_j_features(t, 0),\n",
    "    **get_j_features(t, 1),\n",
    "  )\n",
    "\n",
    "(signal+bkg).apply(get_features)"
   ]
  },
  {
   "cell_type": "code",
   "execution_count": null,
   "id": "cd903f70",
   "metadata": {},
   "outputs": [],
   "source": [
    "study.quick(\n",
    "    signal + bkg,\n",
    "    varlist=[f'{y}_{var}' for y in ('even','odd') for var in ('loose_btag','medium_btag','tight_btag')],\n",
    "    binlist=[np.arange(6)]*6,\n",
    "    efficiency=True,\n",
    ")"
   ]
  },
  {
   "cell_type": "code",
   "execution_count": null,
   "id": "103cd9eb",
   "metadata": {},
   "outputs": [],
   "source": [
    "%load helpers.py"
   ]
  },
  {
   "cell_type": "code",
   "execution_count": null,
   "id": "0d3a8e53",
   "metadata": {},
   "outputs": [],
   "source": [
    "LL_z_r = grid_region_search('even_loose_btag', 'odd_loose_btag')"
   ]
  },
  {
   "cell_type": "code",
   "execution_count": null,
   "id": "0f0ad133",
   "metadata": {},
   "outputs": [],
   "source": [
    "is_sr = (RR[:,0,1] == 3) & (RR[:,1,1] == 3) & (RR[:,0,2] == 5) & (RR[:,1,2] == 5)\n",
    "has_sr = (RR[:,0,2] > 3) & (RR[:,1,2] > 3)\n",
    "\n",
    "eo_sr = sort_regions(RR, LL_z_r, is_sr)[:1]\n",
    "eo_vr = sort_regions(RR, LL_z_r, ~has_sr)[:6]\n",
    "regions = np.concatenate([eo_sr, eo_vr])\n",
    "for x_r, y_r in regions:\n",
    "    abcd_region = draw_abcd(x_r=x_r, y_r=y_r)\n",
    "    study.quick2d(\n",
    "    signal+bkg,\n",
    "    xvarlist=['even_loose_btag'],\n",
    "    yvarlist=['odd_loose_btag'],\n",
    "    binlist=[np.arange(6)]*6,\n",
    "    exe=abcd_region,\n",
    "    # interp=True,\n",
    "    )\n",
    "    print(x_r, y_r)\n",
    "    region_score(**abcd_region.store[0])\n",
    "    plt.show()"
   ]
  },
  {
   "cell_type": "code",
   "execution_count": null,
   "id": "f54e24df",
   "metadata": {},
   "outputs": [],
   "source": [
    "train_and_evaluate(\n",
    "    features=['X_m','X_pt','X_eta','X_phi'],\n",
    "    x_v='even_loose_btag', y_v='odd_loose_btag',\n",
    "    x_r=eo_sr[0][0], y_r=eo_sr[0][1]\n",
    ")"
   ]
  },
  {
   "cell_type": "code",
   "execution_count": null,
   "id": "f54e24df",
   "metadata": {},
   "outputs": [],
   "source": [
    "train_and_evaluate(\n",
    "    features=['X_m','X_pt','X_eta','X_phi'],\n",
    "    x_v='even_loose_btag', y_v='odd_loose_btag',\n",
    "    x_r=eo_vr[0][0], y_r=eo_vr[0][1]\n",
    ")"
   ]
  },
  {
   "cell_type": "code",
   "execution_count": null,
   "id": "f888edab",
   "metadata": {},
   "outputs": [],
   "source": []
  }
 ],
 "metadata": {
  "interpreter": {
   "hash": "99d8ad6568882febb6ca5d1c2307614594cf6684ed0ce2b9f63bf31341fdb3d5"
  },
  "kernelspec": {
   "display_name": "Python 3.9.0 ('py-env')",
   "language": "python",
   "name": "python3"
  },
  "language_info": {
   "codemirror_mode": {
    "name": "ipython",
    "version": 3
   },
   "file_extension": ".py",
   "mimetype": "text/x-python",
   "name": "python",
   "nbconvert_exporter": "python",
   "pygments_lexer": "ipython3",
   "version": "3.9.0"
  }
 },
 "nbformat": 4,
 "nbformat_minor": 5
}

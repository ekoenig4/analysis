{
 "cells": [
  {
   "cell_type": "code",
   "execution_count": 1,
   "id": "9bfa3b5a",
   "metadata": {},
   "outputs": [],
   "source": [
    "%load_ext autoreload\n",
    "%autoreload 2\n",
    "\n",
    "import os\n",
    "os.environ['KMP_WARNINGS'] = 'off'\n",
    "import sys\n",
    "import git\n",
    "\n",
    "import uproot as ut\n",
    "import awkward as ak\n",
    "import numpy as np\n",
    "import math\n",
    "import vector\n",
    "import sympy as sp\n",
    "\n",
    "import re\n",
    "from tqdm import tqdm\n",
    "import timeit\n",
    "import re\n",
    "\n",
    "sys.path.append( git.Repo('.', search_parent_directories=True).working_tree_dir )\n",
    "from utils import *"
   ]
  },
  {
   "cell_type": "code",
   "execution_count": 2,
   "id": "6edca911",
   "metadata": {},
   "outputs": [],
   "source": [
    "%load_ext line_profiler\n",
    "%load_ext memory_profiler"
   ]
  },
  {
   "cell_type": "code",
   "execution_count": 3,
   "id": "1ee3db54",
   "metadata": {},
   "outputs": [
    {
     "name": "stderr",
     "output_type": "stream",
     "text": [
      "100%|██████████| 1/1 [00:00<00:00,  1.15it/s]\n",
      "100%|██████████| 1/1 [00:00<00:00,  1.47it/s]\n",
      "100%|██████████| 1/1 [00:00<00:00,  1.19it/s]\n"
     ]
    }
   ],
   "source": [
    "siglist = [ (700,300,), (1000,450), (1200,500) ]\n",
    "module = fc.eightb.preselection.ranked_quadh\n",
    "get_fn = lambda module, mx, my: getattr(module, f\"NMSSM_XYY_YToHH_8b_MX_{mx}_MY_{my}\")\n",
    "signal = ObjIter([ Tree(get_fn(module, mx, my), use_gen=False) for mx, my in siglist])"
   ]
  },
  {
   "cell_type": "code",
   "execution_count": 4,
   "id": "0dddc1e8",
   "metadata": {},
   "outputs": [],
   "source": [
    "# bkg = ObjIter([ Tree(module.QCD_B_List, use_gen=False),Tree(module.TTJets, use_gen=False) ])\n",
    "bkg = ObjIter([])\n"
   ]
  },
  {
   "cell_type": "code",
   "execution_count": 5,
   "id": "ccbb777c",
   "metadata": {},
   "outputs": [
    {
     "name": "stderr",
     "output_type": "stream",
     "text": [
      "100%|██████████| 3/3 [00:04<00:00,  1.49s/it]\n"
     ]
    }
   ],
   "source": [
    "modules = dict(\n",
    "  jhranker=\"/uscms_data/d3/ekoenig/8BAnalysis/studies/weaver-benchmark/weaver/models/jet_quadh_ranker/20220824-172231_ranger_lr0.0047_batch512_m10/\",\n",
    ")\n",
    "\n",
    "signals = [ signal ] + [ signal.copy() for i in range(len(modules)-1) ]\n",
    "bkgs = [ bkg ] + [ bkg.copy() for i in range(len(modules)-1) ]\n",
    "\n",
    "for model, signal, bkg in zip(modules.values(), signals, bkgs):\n",
    "  (signal+bkg).apply(lambda t : eightb.load_jet_quadh(t, model), report=True)"
   ]
  },
  {
   "cell_type": "code",
   "execution_count": 6,
   "id": "616caf59",
   "metadata": {},
   "outputs": [],
   "source": [
    "use_bkg = any((any(bkg) for bkg in bkgs))\n",
    "h_linestyle = [':','--','-'] if len(modules) == 3 else [':','-']\n",
    "def compare_modules(var, bkg=use_bkg, figax=None, **kwargs):\n",
    "  n = len(signals[0])+1 if bkg else len(signals[0])\n",
    "  if figax is None:\n",
    "    figax = study.get_figax(n, dim=(-1,n))\n",
    "  fig, axs = figax\n",
    "  \n",
    "  label = list(modules.keys())\n",
    "\n",
    "  for i, samples in enumerate(zip(*signals)):\n",
    "    study.quick(\n",
    "      list(samples), legend=True,\n",
    "      label=label,\n",
    "      h_linestyle=h_linestyle,\n",
    "      varlist=[var],\n",
    "      text=(0.0,1.0, samples[0].sample),\n",
    "      text_style=dict(ha='left',va='bottom'),\n",
    "      figax=(fig,axs.flat[i]),\n",
    "      **kwargs,\n",
    "    )\n",
    "\n",
    "  if not bkg: return\n",
    "\n",
    "  study.quick_region(\n",
    "    *bkgs, legend=True,\n",
    "    h_color=['grey']*3,\n",
    "    label=label,\n",
    "    h_linestyle=h_linestyle,\n",
    "    varlist=[var],\n",
    "    text=(0.0,1.0,'MC-Bkg'),\n",
    "    text_style=dict(ha='left',va='bottom'),\n",
    "    figax=(fig,axs.flat[-1]),\n",
    "    **kwargs,\n",
    "  )\n",
    "def compare_samples(var, bkg=use_bkg, figax=None, efficiency=True, **kwargs):\n",
    "  if figax is None:\n",
    "    figax = study.get_figax(len(modules), dim=(-1,len(modules)))\n",
    "  fig, axs = figax\n",
    "\n",
    "  samples = signals\n",
    "\n",
    "  if bkg:\n",
    "    samples = [ sample+bkg for sample, bkg in zip(samples, bkgs)]\n",
    "  label=list(modules.keys())\n",
    "\n",
    "  for i, sample in enumerate(samples):\n",
    "    ax = axs.flat[i] if len(modules) > 1 else axs\n",
    "    study.quick(\n",
    "      sample, legend=True, stacked=True,\n",
    "      varlist=[var],\n",
    "      # h_linestyle=[h_linestyle[i]]*sample.is_signal.npy.sum(),\n",
    "      text=(0.0,1.0, label[i]),\n",
    "      text_style=dict(ha='left',va='bottom'),\n",
    "      efficiency=efficiency,\n",
    "      figax=(fig,axs),\n",
    "      **kwargs,\n",
    "    )"
   ]
  },
  {
   "cell_type": "code",
   "execution_count": 7,
   "id": "019b048f",
   "metadata": {},
   "outputs": [],
   "source": [
    "dout = \"comparing_rankers\""
   ]
  },
  {
   "cell_type": "code",
   "execution_count": 8,
   "id": "1b0723aa",
   "metadata": {},
   "outputs": [
    {
     "name": "stderr",
     "output_type": "stream",
     "text": [
      "100%|██████████| 1/1 [00:02<00:00,  2.45s/it]\n"
     ]
    },
    {
     "data": {
      "image/png": "[encoded data removed]",
      "text/plain": [
       "<Figure size 480x400 with 1 Axes>"
      ]
     },
     "metadata": {
      "needs_background": "light"
     },
     "output_type": "display_data"
    }
   ],
   "source": [
    "compare_samples(lambda t: ak.sum(t.jet_signalId>-1,axis=-1)/t.nfound_select, h_label_stat='mean')"
   ]
  },
  {
   "cell_type": "code",
   "execution_count": 9,
   "id": "cc868ce2",
   "metadata": {},
   "outputs": [
    {
     "name": "stderr",
     "output_type": "stream",
     "text": [
      "100%|██████████| 1/1 [00:01<00:00,  1.77s/it]\n"
     ]
    },
    {
     "data": {
      "image/png": "[encoded data removed]",
      "text/plain": [
       "<Figure size 480x400 with 1 Axes>"
      ]
     },
     "metadata": {
      "needs_background": "light"
     },
     "output_type": "display_data"
    }
   ],
   "source": [
    "compare_samples(lambda t: ak.sum(t.dijet_signalId>-1,axis=-1), h_label_stat='mean')"
   ]
  },
  {
   "cell_type": "code",
   "execution_count": 10,
   "id": "4827a450",
   "metadata": {},
   "outputs": [
    {
     "data": {
      "text/plain": [
       "[None, None, None]"
      ]
     },
     "execution_count": 10,
     "metadata": {},
     "output_type": "execute_result"
    }
   ],
   "source": [
    "(signal+bkg).apply(lambda t : t.extend(\n",
    "  btagavg = ak.mean(t.jet_btag,axis=-1)\n",
    "))"
   ]
  },
  {
   "cell_type": "code",
   "execution_count": 15,
   "id": "1ab68c24",
   "metadata": {},
   "outputs": [
    {
     "data": {
      "text/plain": [
       "[0.27372985578999115, 0.2870940731991272, 0.27868811203215943]"
      ]
     },
     "execution_count": 15,
     "metadata": {},
     "output_type": "execute_result"
    }
   ],
   "source": [
    "signal.apply(lambda t : ak.corr(t.jet_btag, t.jet_score))"
   ]
  }
 ],
 "metadata": {
  "interpreter": {
   "hash": "99d8ad6568882febb6ca5d1c2307614594cf6684ed0ce2b9f63bf31341fdb3d5"
  },
  "kernelspec": {
   "display_name": "Python 3.9.0 ('py-env')",
   "language": "python",
   "name": "python3"
  },
  "language_info": {
   "codemirror_mode": {
    "name": "ipython",
    "version": 3
   },
   "file_extension": ".py",
   "mimetype": "text/x-python",
   "name": "python",
   "nbconvert_exporter": "python",
   "pygments_lexer": "ipython3",
   "version": "3.9.0"
  }
 },
 "nbformat": 4,
 "nbformat_minor": 5
}

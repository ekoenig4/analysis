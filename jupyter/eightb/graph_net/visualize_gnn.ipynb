{
 "cells": [
  {
   "cell_type": "code",
   "execution_count": 1,
   "id": "ef215b25",
   "metadata": {},
   "outputs": [],
   "source": [
    "%load_ext autoreload\n",
    "%autoreload 2\n",
    "\n",
    "import os\n",
    "import sys\n",
    "import git\n",
    "\n",
    "import uproot as ut\n",
    "import awkward as ak\n",
    "import numpy as np\n",
    "import math\n",
    "import vector\n",
    "import sympy as sp\n",
    "\n",
    "import re\n",
    "from tqdm import tqdm\n",
    "import timeit\n",
    "import torch\n",
    "\n",
    "sys.path.append( git.Repo('.', search_parent_directories=True).working_tree_dir )\n",
    "from utils import *\n",
    "\n",
    "import utils.torchUtils as gnn"
   ]
  },
  {
   "cell_type": "code",
   "execution_count": 2,
   "id": "fc9912d2",
   "metadata": {},
   "outputs": [],
   "source": [
    "template = gnn.Dataset(\"data/template\",make_template=True, scale='standardize', transform=gnn.to_uptri_graph())"
   ]
  },
  {
   "cell_type": "code",
   "execution_count": 3,
   "id": "eb391fa6",
   "metadata": {},
   "outputs": [],
   "source": [
    "model = gnn.GoldenGCN.load_from_checkpoint(\"models/golden_classifier/lightning_logs/version_0/checkpoints/epoch=20-step=7580.ckpt\",dataset=template).to(device=gnn.config.device)"
   ]
  },
  {
   "cell_type": "code",
   "execution_count": 5,
   "id": "7679a380",
   "metadata": {},
   "outputs": [],
   "source": [
    "dataset = gnn.Dataset('data/MX_1200_MY_500-training',transform=template.transform)"
   ]
  },
  {
   "cell_type": "code",
   "execution_count": 6,
   "id": "f3ecf7ac",
   "metadata": {},
   "outputs": [],
   "source": []
  },
  {
   "cell_type": "code",
   "execution_count": 18,
   "id": "c18b4e2f",
   "metadata": {},
   "outputs": [
    {
     "data": {
      "text/plain": [
       "'vis_golden_gcn.png'"
      ]
     },
     "execution_count": 18,
     "metadata": {},
     "output_type": "execute_result"
    }
   ],
   "source": [
    "from torchviz import make_dot\n",
    "\n",
    "batch = dataset[0]\n",
    "yhat = model(batch)\n",
    "make_dot(yhat, params=dict(list(model.named_parameters()))).render('vis_golden_gcn',format='png')"
   ]
  },
  {
   "cell_type": "code",
   "execution_count": null,
   "id": "81238f8a",
   "metadata": {},
   "outputs": [],
   "source": []
  }
 ],
 "metadata": {
  "interpreter": {
   "hash": "0dc50badf6bcf34ee37feb4ddab24eb1b71716d96fc6cae89d10c22f5e3462c0"
  },
  "kernelspec": {
   "display_name": "Python 3.8.10 64-bit ('base': conda)",
   "name": "python3"
  },
  "language_info": {
   "codemirror_mode": {
    "name": "ipython",
    "version": 3
   },
   "file_extension": ".py",
   "mimetype": "text/x-python",
   "name": "python",
   "nbconvert_exporter": "python",
   "pygments_lexer": "ipython3",
   "version": "3.8.12"
  }
 },
 "nbformat": 4,
 "nbformat_minor": 5
}

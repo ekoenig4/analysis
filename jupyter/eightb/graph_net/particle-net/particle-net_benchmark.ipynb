{
 "cells": [
  {
   "cell_type": "code",
   "execution_count": 1,
   "id": "9bfa3b5a",
   "metadata": {},
   "outputs": [],
   "source": [
    "%load_ext autoreload\n",
    "%autoreload 2\n",
    "\n",
    "import os\n",
    "import sys\n",
    "import git\n",
    "\n",
    "import uproot as ut\n",
    "import awkward as ak\n",
    "import numpy as np\n",
    "import math\n",
    "import vector\n",
    "import sympy as sp\n",
    "\n",
    "import re\n",
    "from tqdm import tqdm\n",
    "import timeit\n",
    "import re\n",
    "\n",
    "sys.path.append( git.Repo('.', search_parent_directories=True).working_tree_dir )\n",
    "from utils import *"
   ]
  },
  {
   "cell_type": "code",
   "execution_count": 2,
   "id": "6edca911",
   "metadata": {},
   "outputs": [],
   "source": [
    "%load_ext line_profiler\n",
    "%load_ext memory_profiler"
   ]
  },
  {
   "cell_type": "code",
   "execution_count": 3,
   "id": "bda6a611",
   "metadata": {},
   "outputs": [],
   "source": [
    "import torch\n",
    "from torch_geometric.data import Data, DataLoader\n",
    "import torch.nn.functional as F\n",
    "from torch_geometric.nn import dense_diff_pool\n",
    "from torch import Tensor\n",
    "from typing import Tuple\n",
    "\n",
    "from torch_geometric.utils import to_networkx, negative_sampling\n",
    "import networkx as nx"
   ]
  },
  {
   "cell_type": "code",
   "execution_count": 4,
   "id": "33400175",
   "metadata": {},
   "outputs": [],
   "source": [
    "import utils.torchUtils as gnn\n",
    "from utils.torchUtils.cpp_geometric import layers"
   ]
  },
  {
   "cell_type": "code",
   "execution_count": 5,
   "id": "0c440a73",
   "metadata": {},
   "outputs": [],
   "source": [
    "dout='simple_pair'"
   ]
  },
  {
   "cell_type": "code",
   "execution_count": 6,
   "id": "e2eae819",
   "metadata": {},
   "outputs": [],
   "source": [
    "gnn.config.set_gpu(False)"
   ]
  },
  {
   "cell_type": "code",
   "execution_count": 7,
   "id": "19e7118f",
   "metadata": {},
   "outputs": [],
   "source": [
    "from torch_scatter import scatter_max, scatter_min\n",
    "from torch_geometric.data import Batch\n",
    "from torch.utils.data import Sampler\n"
   ]
  },
  {
   "cell_type": "code",
   "execution_count": 8,
   "id": "019afdef",
   "metadata": {},
   "outputs": [],
   "source": [
    "from utils.torchUtils.gnn import sample_pair\n",
    "from utils.torchUtils import BaseTransform"
   ]
  },
  {
   "cell_type": "code",
   "execution_count": 9,
   "id": "5d23e20d",
   "metadata": {},
   "outputs": [],
   "source": [
    "class GroupQuadH(BaseTransform):\n",
    "    quadH = eightb.get_quadH_pairings()\n",
    "    def transform(self, data : Data)->Data:\n",
    "        dijets = torch.where(data.edge_index[0] < data.edge_index[1])[0]\n",
    "        quadH_index = dijets[self.quadH]\n",
    "        quadH_y = data.edge_y[quadH_index].sum(dim=-1)\n",
    "        quadH_mask = torch.zeros((105,data.num_edges))\n",
    "        for mask,index in zip(quadH_mask, quadH_index):\n",
    "            mask[index] = 1\n",
    "        quadH_mask = quadH_mask == 1\n",
    "\n",
    "        # data.quadH_index = data.edge_index[:,quadH_index]\n",
    "        data.quadH_mask = quadH_mask.T\n",
    "        data.quadH_y = quadH_y\n",
    "        return data\n",
    "\n",
    "class SampleQuadH(BaseTransform):\n",
    "    def transform(self, data : Data)->Data:\n",
    "        n_quadH = data.quadH_y\n",
    "        n_quadH_idx = [ torch.where(n_quadH==n)[0] for n in range(5) ]\n",
    "        quadH_idx = torch.cat([ quadH_idx[torch.randperm(quadH_idx.shape[0])[:1]] for quadH_idx in n_quadH_idx ])\n",
    "\n",
    "        data.sampled_quad_mask = data.quadH_mask.T[quadH_idx].T\n",
    "        data.sampled_quad_y = data.quadH_y[quadH_idx]\n",
    "        return data"
   ]
  },
  {
   "cell_type": "code",
   "execution_count": 10,
   "id": "a75e471d",
   "metadata": {},
   "outputs": [],
   "source": [
    "subset = 'top8btag_signal'"
   ]
  },
  {
   "cell_type": "code",
   "execution_count": 11,
   "id": "33ffe9f7",
   "metadata": {},
   "outputs": [],
   "source": [
    "import utils.torchUtils as gnn \n",
    "\n",
    "transform = None\n",
    "transform = gnn.Transform(gnn.min_edge_neighbor(), GroupQuadH())\n",
    "template = gnn.Dataset('../data/template',make_template=True, transform=transform)\n",
    "\n",
    "def load_training(fn=f'../data/{subset}/MX_1000_MY_450-training', template=None):\n",
    "    transform = template.transform + SampleQuadH()\n",
    "    dataset = gnn.Dataset(fn,transform=transform)[:18000]\n",
    "    training, validation = gnn.train_test_split(dataset, 0.2)\n",
    "    # training, validation = dataset[1800:], dataset[:1800]\n",
    "\n",
    "    batch_size = 25\n",
    "    trainloader = DataLoader(training,  batch_size=batch_size, num_workers=gnn.config.ncpu)\n",
    "    validloader = DataLoader(validation, batch_size=batch_size, num_workers=gnn.config.ncpu)\n",
    "    return trainloader, validloader\n",
    "\n",
    "def load_testing(fn=f'../data/{subset}/MX_1000_MY_450-testing', template=None):\n",
    "    transform = template.transform + SampleQuadH()\n",
    "    sample = gnn.Dataset(fn, transform=transform)[:1000]\n",
    "    # sample = [ data for data in sample if data.edge_y.sum() > 0 ]\n",
    "    batch_size = 25\n",
    "    testloader = DataLoader(sample, batch_size=batch_size, num_workers=gnn.config.ncpu)\n",
    "    return testloader\n",
    "testloader = load_testing(template=template)\n",
    "trainloader, validloader  = load_training(template=template)"
   ]
  },
  {
   "cell_type": "code",
   "execution_count": 12,
   "id": "efe42a6d",
   "metadata": {},
   "outputs": [],
   "source": [
    "data = next(data for data in validloader.dataset)"
   ]
  },
  {
   "cell_type": "code",
   "execution_count": 13,
   "id": "6854e233",
   "metadata": {},
   "outputs": [
    {
     "data": {
      "text/plain": [
       "(<Figure size 384x360 with 1 Axes>, <AxesSubplot:>)"
      ]
     },
     "execution_count": 13,
     "metadata": {},
     "output_type": "execute_result"
    },
    {
     "data": {
      "image/png": "[encoded data removed]",
      "text/plain": [
       "<Figure size 384x360 with 1 Axes>"
      ]
     },
     "metadata": {},
     "output_type": "display_data"
    }
   ],
   "source": [
    "gnn.draw_data(data, data.quadH_mask[:,3])"
   ]
  },
  {
   "cell_type": "code",
   "execution_count": 28,
   "id": "85e56613",
   "metadata": {},
   "outputs": [],
   "source": [
    "class AbstractSequence(torch.nn.Module):\n",
    "    def __init__(self, *modules):\n",
    "        self.modules = modules\n",
    "\n",
    "class ECModule(torch.nn.Module):\n",
    "    def __init__(self, n_in_node, n_in_edge, n_out):\n",
    "        super().__init__()\n",
    "        self.conv = layers.GCNConvMask(n_in_node=n_in_node, n_in_edge=n_in_edge, n_out=n_out)\n",
    "        self.norm = layers.BatchNorm(n_out)\n",
    "        self.relu = torch.nn.ReLU()\n",
    "    def forward(self, x, edge_index, edge_attr, edge_mask=None, batch=None) -> Tensor:\n",
    "        x = self.conv(x, edge_index[:,edge_mask], edge_attr[edge_mask])\n",
    "        x = self.norm(x, batch)\n",
    "        x = self.relu(x)\n",
    "        return x\n",
    "\n",
    "\n",
    "class PNConv(torch.nn.Module):\n",
    "    def __init__(self, n_in_node=None, n_in_edge=None, k=4, C=[32], undirected=False):\n",
    "        super().__init__()\n",
    "        self.undirected = undirected\n",
    "        self.k = k\n",
    "\n",
    "        C = [n_in_node] + C\n",
    "        self.modules = [\n",
    "            ECModule(n_in, n_in_edge, n_out)\n",
    "            for n_in, n_out in zip(C[:-1],C[1:])\n",
    "        ]\n",
    "    def forward(self, x, edge_index, edge_attr, edge_mask=None, batch=None):\n",
    "        if edge_mask is None:\n",
    "            x_i, x_j = x[edge_index]\n",
    "            edge_d = ((x_i - x_j)**2).mean(dim=-1)\n",
    "            edge_mask = gnn.k_min_neighbors(edge_d, edge_index, self.k, undirected=self.undirected)\n",
    "\n",
    "        for module in self.modules:\n",
    "            x = module(x, edge_index, edge_attr, edge_mask, batch)\n",
    "\n",
    "        return x\n"
   ]
  },
  {
   "cell_type": "code",
   "execution_count": 36,
   "metadata": {},
   "outputs": [],
   "source": [
    "from utils.torchUtils.classifier.quadH_classifier import QuadHClassifier, PairPredictor, QuadPredictor\n",
    "\n",
    "class GoldenPN(QuadHClassifier):\n",
    "    def __init__(self, **kwargs):\n",
    "        super().__init__(**kwargs)\n",
    "\n",
    "        self.conv_1 = PNConv(self.n_in_node+4, self.n_in_edge, k=4, C=[32])\n",
    "        self.conv_2 = PNConv(32, self.n_in_edge, k=4, C=[64])\n",
    "        \n",
    "        self.pair_module = PairPredictor(64, self.n_in_edge, 96)\n",
    "        self.pair_norm = layers.BatchNorm(96)\n",
    "        self.pair_relu = torch.nn.ReLU()\n",
    "\n",
    "        self.quad_module = QuadPredictor(aggr=\"cat\")\n",
    "        self.readout = torch.nn.Sequential(\n",
    "            torch.nn.Linear(4*96, 128),\n",
    "            torch.nn.ReLU(),\n",
    "            torch.nn.Linear(128, 1),\n",
    "            torch.nn.Sigmoid()\n",
    "        )\n",
    "\n",
    "    def forward(self, data : Data):\n",
    "        data = data.to(self.device)\n",
    "        x, edge_index, edge_attr, quad_mask = data.x, data.edge_index, data.edge_attr, data.quad_mask\n",
    "        edge_mask, quad_mask = data.edge_mask, data.quad_mask\n",
    "\n",
    "        batch = data.get('batch',None)\n",
    "        x = self.conv_1(x, edge_index, edge_attr, edge_mask, batch)\n",
    "        x = self.conv_2(x, edge_index, edge_attr, None, batch)\n",
    "        \n",
    "        if batch is not None: batch = batch[ edge_index[:,quad_mask] ][0]\n",
    "        x = self.pair_module(x, edge_index[:,quad_mask], edge_attr[quad_mask])\n",
    "        x = self.pair_norm(x, batch)\n",
    "        x = self.pair_relu(x)\n",
    "\n",
    "        x = self.quad_module(x)\n",
    "\n",
    "        x = self.readout(x)\n",
    "        return x\n"
   ]
  },
  {
   "cell_type": "code",
   "execution_count": 37,
   "id": "4008ced1",
   "metadata": {},
   "outputs": [],
   "source": [
    "for batch in validloader: break"
   ]
  },
  {
   "cell_type": "code",
   "execution_count": 38,
   "id": "a1ffc6b6",
   "metadata": {},
   "outputs": [],
   "source": [
    "# loss='mismatched_bjet_loss'\n",
    "loss='std_loss'\n",
    "# model = gnn.modelMap['golden_quadh'](dataset=template, loss=loss,  )\n",
    "model = GoldenPN(dataset=template, loss=loss,  )\n"
   ]
  },
  {
   "cell_type": "code",
   "execution_count": 39,
   "id": "5cced444",
   "metadata": {},
   "outputs": [
    {
     "data": {
      "text/plain": [
       "tensor([0.4847, 0.4840, 0.4737, 0.4431, 0.4581, 0.5006, 0.5035, 0.4738, 0.5166,\n",
       "        0.4561, 0.4469, 0.4371, 0.4756, 0.4597, 0.5058, 0.4574, 0.4958, 0.4814,\n",
       "        0.4778, 0.4883, 0.4883, 0.4894, 0.4443, 0.4912, 0.4803, 0.4811, 0.4667,\n",
       "        0.4725, 0.4699, 0.5057, 0.4955, 0.4918, 0.4329, 0.4830, 0.4650, 0.4509,\n",
       "        0.4974, 0.4837, 0.5208, 0.4382, 0.4712, 0.4201, 0.4655, 0.4563, 0.5175,\n",
       "        0.4847, 0.5187, 0.4429, 0.5014, 0.4912, 0.4491, 0.3887, 0.4864, 0.4796,\n",
       "        0.5051, 0.4864, 0.4686, 0.4840, 0.5001, 0.4776, 0.4600, 0.5290, 0.4288,\n",
       "        0.4745, 0.4874, 0.4783, 0.4913, 0.5063, 0.4622, 0.4658, 0.5035, 0.4528,\n",
       "        0.4365, 0.5034, 0.4718, 0.5148, 0.3855, 0.4942, 0.4870, 0.4925, 0.4807,\n",
       "        0.5077, 0.5015, 0.5172, 0.4793, 0.4366, 0.5152, 0.4951, 0.4585, 0.4778,\n",
       "        0.5220, 0.4888, 0.4970, 0.4828, 0.4592, 0.4753, 0.4787, 0.4598, 0.4811,\n",
       "        0.4888], grad_fn=<CatBackward>)"
      ]
     },
     "execution_count": 39,
     "metadata": {},
     "output_type": "execute_result"
    }
   ],
   "source": [
    "torch.cat([ model.eval_batch(batch, quad_mask) for quad_mask in batch.sampled_quad_mask.T ])"
   ]
  },
  {
   "cell_type": "code",
   "execution_count": 40,
   "id": "aa8c98b5",
   "metadata": {},
   "outputs": [
    {
     "name": "stderr",
     "output_type": "stream",
     "text": [
      "GPU available: True, used: False\n",
      "TPU available: False, using: 0 TPU cores\n",
      "IPU available: False, using: 0 IPUs\n",
      "\n",
      "  | Name        | Type          | Params\n",
      "----------------------------------------------\n",
      "0 | conv_1      | PNConv        | 0     \n",
      "1 | conv_2      | PNConv        | 0     \n",
      "2 | pair_module | PairPredictor | 12.9 K\n",
      "3 | pair_norm   | BatchNorm     | 192   \n",
      "4 | pair_relu   | ReLU          | 0     \n",
      "5 | quad_module | QuadPredictor | 0     \n",
      "6 | readout     | Sequential    | 49.4 K\n",
      "----------------------------------------------\n",
      "62.5 K    Trainable params\n",
      "0         Non-trainable params\n",
      "62.5 K    Total params\n",
      "0.250     Total estimated model params size (MB)\n"
     ]
    },
    {
     "name": "stdout",
     "output_type": "stream",
     "text": [
      "Epoch 9: 100%|██████████| 257/257 [00:41<00:00,  6.26it/s, loss=0.559, v_num=3]\n"
     ]
    }
   ],
   "source": [
    "from pytorch_lightning import Trainer\n",
    "\n",
    "trainer = Trainer(max_epochs=10, gpus=1*gnn.config.ngpu)\n",
    "trainer.fit(model, trainloader, validloader)"
   ]
  },
  {
   "cell_type": "code",
   "execution_count": 41,
   "id": "e39729a4",
   "metadata": {},
   "outputs": [
    {
     "name": "stdout",
     "output_type": "stream",
     "text": [
      "Testing:  98%|█████████▊| 39/40 [00:04<00:00, 13.66it/s]--------------------------------------------------------------------------------\n",
      "DATALOADER:0 TEST RESULTS\n",
      "{'auroc/test': 0.49186667799949646, 'loss/test': 0.5675080418586731}\n",
      "--------------------------------------------------------------------------------\n",
      "Testing: 100%|██████████| 40/40 [00:04<00:00,  8.54it/s]\n"
     ]
    },
    {
     "data": {
      "text/plain": [
       "[{'loss/test': 0.5675080418586731, 'auroc/test': 0.49186667799949646}]"
      ]
     },
     "execution_count": 41,
     "metadata": {},
     "output_type": "execute_result"
    }
   ],
   "source": [
    "trainer.test(model, testloader)"
   ]
  },
  {
   "cell_type": "code",
   "execution_count": 42,
   "id": "e7ec31e0",
   "metadata": {},
   "outputs": [],
   "source": [
    "def predict_data(model, data):\n",
    "    quadH_o = torch.cat([model.eval_batch(data,quad_mask) for quad_mask in data.quadH_mask.T])\n",
    "    data.quadH_o = quadH_o\n",
    "    return data"
   ]
  },
  {
   "cell_type": "code",
   "execution_count": 43,
   "id": "bf45e05a",
   "metadata": {},
   "outputs": [
    {
     "data": {
      "text/plain": [
       "tensor(0.5714)"
      ]
     },
     "execution_count": 43,
     "metadata": {},
     "output_type": "execute_result"
    }
   ],
   "source": [
    "(data.quadH_y==0).sum()/105"
   ]
  },
  {
   "cell_type": "code",
   "execution_count": 44,
   "id": "ce8f4308",
   "metadata": {},
   "outputs": [],
   "source": [
    "subset = [ predict_data(model,data) for data in trainloader.dataset[:200] ] "
   ]
  },
  {
   "cell_type": "code",
   "execution_count": 45,
   "id": "a62c8f02",
   "metadata": {},
   "outputs": [],
   "source": [
    "n_higgs = [ data.quadH_y[data.quadH_o.argmax()] for data in subset ]"
   ]
  },
  {
   "cell_type": "code",
   "execution_count": 46,
   "id": "82034a4b",
   "metadata": {},
   "outputs": [
    {
     "data": {
      "text/plain": [
       "(<Figure size 384x360 with 1 Axes>, <AxesSubplot:ylabel='PDF'>)"
      ]
     },
     "execution_count": 46,
     "metadata": {},
     "output_type": "execute_result"
    },
    {
     "data": {
      "image/png": "[encoded data removed]",
      "text/plain": [
       "<Figure size 384x360 with 1 Axes>"
      ]
     },
     "metadata": {
      "needs_background": "light"
     },
     "output_type": "display_data"
    }
   ],
   "source": [
    "hist_multi([n_higgs], density=True)"
   ]
  },
  {
   "cell_type": "code",
   "execution_count": null,
   "id": "7ed41bdb",
   "metadata": {},
   "outputs": [],
   "source": []
  }
 ],
 "metadata": {
  "interpreter": {
   "hash": "0dc50badf6bcf34ee37feb4ddab24eb1b71716d96fc6cae89d10c22f5e3462c0"
  },
  "kernelspec": {
   "display_name": "Python 3.8.10 64-bit ('base': conda)",
   "name": "python3"
  },
  "language_info": {
   "codemirror_mode": {
    "name": "ipython",
    "version": 3
   },
   "file_extension": ".py",
   "mimetype": "text/x-python",
   "name": "python",
   "nbconvert_exporter": "python",
   "pygments_lexer": "ipython3",
   "version": "3.8.12"
  }
 },
 "nbformat": 4,
 "nbformat_minor": 5
}

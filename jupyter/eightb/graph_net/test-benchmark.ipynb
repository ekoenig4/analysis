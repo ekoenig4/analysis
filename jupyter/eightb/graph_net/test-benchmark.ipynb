{
 "cells": [
  {
   "cell_type": "code",
   "execution_count": 1,
   "id": "ef215b25",
   "metadata": {},
   "outputs": [],
   "source": [
    "%load_ext autoreload\n",
    "%autoreload 2\n",
    "\n",
    "import os\n",
    "import sys\n",
    "import git\n",
    "\n",
    "import uproot as ut\n",
    "import awkward as ak\n",
    "import numpy as np\n",
    "import math\n",
    "import vector\n",
    "import sympy as sp\n",
    "\n",
    "import re\n",
    "from tqdm import tqdm\n",
    "import timeit\n",
    "\n",
    "sys.path.append( git.Repo('.', search_parent_directories=True).working_tree_dir )\n",
    "from utils import *\n",
    "\n",
    "import utils.torchUtils as gnn"
   ]
  },
  {
   "cell_type": "code",
   "execution_count": 2,
   "id": "74b369c8",
   "metadata": {},
   "outputs": [],
   "source": [
    "template = gnn.Dataset(\"data/template\", make_template=True)"
   ]
  },
  {
   "cell_type": "code",
   "execution_count": 8,
   "id": "7cadd135",
   "metadata": {},
   "outputs": [],
   "source": [
    "mu,sig = template.edge_scaler.means[0], template.edge_scaler.stds[0]"
   ]
  },
  {
   "cell_type": "code",
   "execution_count": 23,
   "id": "eddfde0e",
   "metadata": {},
   "outputs": [
    {
     "data": {
      "text/plain": [
       "(-0.2653620026067926, 0.216749028061441)"
      ]
     },
     "execution_count": 23,
     "metadata": {},
     "output_type": "execute_result"
    }
   ],
   "source": [
    "(117-mu)/sig,30/sig"
   ]
  },
  {
   "cell_type": "code",
   "execution_count": 15,
   "id": "3e5a96cb",
   "metadata": {},
   "outputs": [],
   "source": [
    "signal = Tree(fc.eightb.training.signal_list)"
   ]
  },
  {
   "cell_type": "code",
   "execution_count": 19,
   "id": "8142fe4f",
   "metadata": {},
   "outputs": [],
   "source": [
    "signal.color = None"
   ]
  },
  {
   "cell_type": "code",
   "execution_count": 17,
   "id": "e4889a5d",
   "metadata": {},
   "outputs": [],
   "source": [
    "build_all_dijets(signal)"
   ]
  },
  {
   "cell_type": "code",
   "execution_count": 27,
   "id": "59670530",
   "metadata": {},
   "outputs": [],
   "source": [
    "%load_ext line_profiler\n",
    "%load_ext memory_profiler"
   ]
  },
  {
   "cell_type": "code",
   "execution_count": 33,
   "id": "efabc82c",
   "metadata": {},
   "outputs": [],
   "source": [
    "varinfo.clear()"
   ]
  },
  {
   "cell_type": "code",
   "execution_count": 36,
   "id": "d171fdba",
   "metadata": {},
   "outputs": [
    {
     "name": "stdout",
     "output_type": "stream",
     "text": [
      "peak memory: 4310.91 MiB, increment: 259.11 MiB\n"
     ]
    },
    {
     "data": {
      "image/png": "[encoded data removed]",
      "text/plain": [
       "<Figure size 480x400 with 1 Axes>"
      ]
     },
     "metadata": {
      "needs_background": "light"
     },
     "output_type": "display_data"
    }
   ],
   "source": [
    "%%memit\n",
    "study.quick(\n",
    "    [signal, signal, signal],\n",
    "    transforms=lambda m : (m-mu)/sig,\n",
    "    masks=[lambda t : t.dijet_signalId > -1, lambda t : t.dijet_signalId == -1, None],\n",
    "    varlist=['dijet_m'],\n",
    "    # h_label_stat='mean_stdv', legend=True,\n",
    "    density=True,\n",
    ")"
   ]
  },
  {
   "cell_type": "code",
   "execution_count": 30,
   "id": "5f121283",
   "metadata": {},
   "outputs": [
    {
     "data": {
      "text/plain": [
       "(-0.2653620026067926, 0.28899870408192135)"
      ]
     },
     "execution_count": 30,
     "metadata": {},
     "output_type": "execute_result"
    }
   ],
   "source": [
    "(117-mu)/sig, 40/sig"
   ]
  }
 ],
 "metadata": {
  "interpreter": {
   "hash": "0dc50badf6bcf34ee37feb4ddab24eb1b71716d96fc6cae89d10c22f5e3462c0"
  },
  "kernelspec": {
   "display_name": "Python 3.8.10 64-bit ('base': conda)",
   "name": "python3"
  },
  "language_info": {
   "codemirror_mode": {
    "name": "ipython",
    "version": 3
   },
   "file_extension": ".py",
   "mimetype": "text/x-python",
   "name": "python",
   "nbconvert_exporter": "python",
   "pygments_lexer": "ipython3",
   "version": "3.8.12"
  }
 },
 "nbformat": 4,
 "nbformat_minor": 5
}

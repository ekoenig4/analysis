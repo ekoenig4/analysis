{
 "cells": [
  {
   "cell_type": "code",
   "execution_count": 1,
   "id": "ef215b25",
   "metadata": {},
   "outputs": [],
   "source": [
    "%load_ext autoreload\n",
    "%autoreload 2\n",
    "\n",
    "import os\n",
    "import sys\n",
    "import git\n",
    "\n",
    "import uproot as ut\n",
    "import awkward as ak\n",
    "import numpy as np\n",
    "import math\n",
    "import vector\n",
    "import sympy as sp\n",
    "\n",
    "import re\n",
    "from tqdm import tqdm\n",
    "import timeit\n",
    "\n",
    "sys.path.append( git.Repo('.', search_parent_directories=True).working_tree_dir )\n",
    "from utils import *\n",
    "\n",
    "import utils.torchUtils as gnn"
   ]
  },
  {
   "cell_type": "code",
   "execution_count": 2,
   "id": "6502cfc9",
   "metadata": {},
   "outputs": [],
   "source": [
    "template = gnn.Dataset('data/template',make_template=True, transform=gnn.Transform(gnn.to_uptri_graph()))"
   ]
  },
  {
   "cell_type": "code",
   "execution_count": 3,
   "id": "c8cf317c",
   "metadata": {},
   "outputs": [
    {
     "data": {
      "text/plain": [
       "451169"
      ]
     },
     "execution_count": 3,
     "metadata": {},
     "output_type": "execute_result"
    }
   ],
   "source": [
    "dataset = gnn.concat_dataset([f'data/{mass}-training' for mass in eightb.mass_list],transform=template.transform)\n",
    "len(dataset)"
   ]
  },
  {
   "cell_type": "code",
   "execution_count": 4,
   "id": "af08af1d",
   "metadata": {},
   "outputs": [
    {
     "data": {
      "text/plain": [
       "492279"
      ]
     },
     "execution_count": 4,
     "metadata": {},
     "output_type": "execute_result"
    }
   ],
   "source": [
    "testing = gnn.concat_dataset([f'data/{mass}-testing' for mass in eightb.mass_list],transform=template.transform)\n",
    "len(testing)"
   ]
  },
  {
   "cell_type": "code",
   "execution_count": 5,
   "id": "52c6c0a3",
   "metadata": {},
   "outputs": [],
   "source": [
    "from torch_geometric.loader import DataLoader\n",
    "from torch.utils.data import RandomSampler\n",
    "\n",
    "training,validation = gnn.train_test_split(dataset,0.2)\n",
    "\n",
    "trainloader = DataLoader(training,batch_size=100,shuffle=True,num_workers=16)\n",
    "validloader = DataLoader(validation,batch_size=100,num_workers=16)\n",
    "\n",
    "testsample,_ = gnn.train_test_split(testing,0.9)\n",
    "testloader = DataLoader(testsample,batch_size=100,num_workers=16)"
   ]
  },
  {
   "cell_type": "code",
   "execution_count": 7,
   "id": "bf08b047",
   "metadata": {},
   "outputs": [],
   "source": [
    "model = gnn.GoldenGCN(template,loss=gnn.losses.std_loss_plus_top4edges)\n",
    "# model = gnn.GoldenGCN.load_from_checkpoint(\"models/golden_classifier/lightning_logs/version_3/checkpoints/epoch=9-step=39389.ckpt\",dataset=template)\n"
   ]
  },
  {
   "cell_type": "code",
   "execution_count": 8,
   "id": "cded321f",
   "metadata": {},
   "outputs": [
    {
     "name": "stderr",
     "output_type": "stream",
     "text": [
      "GPU available: True, used: True\n",
      "TPU available: False, using: 0 TPU cores\n",
      "IPU available: False, using: 0 IPUs\n"
     ]
    }
   ],
   "source": [
    "import pytorch_lightning as pl\n",
    "from pytorch_lightning.callbacks.early_stopping import EarlyStopping\n",
    "from pytorch_lightning.callbacks import ModelCheckpoint\n",
    "\n",
    "trainer = pl.Trainer(max_epochs=1, gpus=1 if gnn.useGPU else 0,\n",
    "                     default_root_dir=\"models/golden_classifier\")"
   ]
  },
  {
   "cell_type": "code",
   "execution_count": 9,
   "id": "0db31cfe",
   "metadata": {},
   "outputs": [
    {
     "name": "stderr",
     "output_type": "stream",
     "text": [
      "LOCAL_RANK: 0 - CUDA_VISIBLE_DEVICES: [0]\n",
      "\n",
      "  | Name        | Type          | Params\n",
      "----------------------------------------------\n",
      "0 | conv1       | GCNConvMSG    | 480   \n",
      "1 | relu1       | GCNRelu       | 0     \n",
      "2 | conv2       | GCNConvMSG    | 20.6 K\n",
      "3 | relu2       | GCNRelu       | 0     \n",
      "4 | node_linear | NodeLinear    | 258   \n",
      "5 | edge_linear | EdgeLinear    | 770   \n",
      "6 | log_softmax | GCNLogSoftmax | 0     \n",
      "----------------------------------------------\n",
      "22.1 K    Trainable params\n",
      "0         Non-trainable params\n",
      "22.1 K    Total params\n",
      "0.088     Total estimated model params size (MB)\n"
     ]
    },
    {
     "name": "stdout",
     "output_type": "stream",
     "text": [
      "Epoch 0: 100%|██████████| 4513/4513 [01:34<00:00, 47.75it/s, loss=4.73, v_num=17]\n"
     ]
    }
   ],
   "source": [
    "trainer.fit(model, trainloader, validloader)"
   ]
  },
  {
   "cell_type": "code",
   "execution_count": 10,
   "id": "d0d213c6",
   "metadata": {},
   "outputs": [
    {
     "name": "stderr",
     "output_type": "stream",
     "text": [
      "LOCAL_RANK: 0 - CUDA_VISIBLE_DEVICES: [0]\n"
     ]
    },
    {
     "name": "stdout",
     "output_type": "stream",
     "text": [
      "Testing:  99%|█████████▉| 487/493 [00:08<00:00, 84.23it/s]--------------------------------------------------------------------------------\n",
      "DATALOADER:0 TEST RESULTS\n",
      "{'test_acc': 0.9153816103935242, 'test_loss': 4.721710681915283}\n",
      "--------------------------------------------------------------------------------\n",
      "Testing: 100%|██████████| 493/493 [00:09<00:00, 54.54it/s]\n"
     ]
    }
   ],
   "source": [
    "test_results = trainer.test(model,testloader)"
   ]
  },
  {
   "cell_type": "code",
   "execution_count": 11,
   "id": "6de65d01",
   "metadata": {},
   "outputs": [],
   "source": [
    "node_metrics,edge_metrics = gnn.get_model_roc(model,testloader)"
   ]
  },
  {
   "cell_type": "code",
   "execution_count": 12,
   "id": "c40e8875",
   "metadata": {},
   "outputs": [
    {
     "name": "stdout",
     "output_type": "stream",
     "text": [
      "[[0.2        0.87271352 0.54744375]\n",
      " [0.1        0.70350459 0.65373915]\n",
      " [0.05       0.55539951 0.7977547 ]]\n",
      "[[0.2        0.69851297 0.28706416]\n",
      " [0.1        0.48819306 0.32311869]\n",
      " [0.05       0.3260775  0.34925622]]\n"
     ]
    }
   ],
   "source": [
    "print(node_metrics.get_wps())\n",
    "print(edge_metrics.get_wps())"
   ]
  },
  {
   "cell_type": "code",
   "execution_count": 13,
   "id": "871e6c9f",
   "metadata": {},
   "outputs": [
    {
     "data": {
      "text/plain": [
       "(<Figure size 384x360 with 1 Axes>, <AxesSubplot:ylabel='Fraction of Events'>)"
      ]
     },
     "execution_count": 13,
     "metadata": {},
     "output_type": "execute_result"
    },
    {
     "data": {
      "image/png": "[encoded data removed]",
      "text/plain": [
       "<Figure size 384x360 with 1 Axes>"
      ]
     },
     "metadata": {
      "needs_background": "light"
     },
     "output_type": "display_data"
    },
    {
     "data": {
      "image/png": "[encoded data removed]",
      "text/plain": [
       "<Figure size 384x360 with 1 Axes>"
      ]
     },
     "metadata": {
      "needs_background": "light"
     },
     "output_type": "display_data"
    }
   ],
   "source": [
    "hist_multi([node_metrics.pred[node_metrics.true==0],node_metrics.pred[node_metrics.true==1]],density=0)\n",
    "hist_multi([edge_metrics.pred[edge_metrics.true==0],edge_metrics.pred[edge_metrics.true==1]],density=1)"
   ]
  },
  {
   "cell_type": "code",
   "execution_count": 14,
   "id": "92020c3d",
   "metadata": {},
   "outputs": [
    {
     "data": {
      "image/png": "[encoded data removed]",
      "text/plain": [
       "<Figure size 1152x360 with 2 Axes>"
      ]
     },
     "metadata": {
      "needs_background": "light"
     },
     "output_type": "display_data"
    }
   ],
   "source": [
    "fig,ax = gnn.plot_graph_auroc(node_metrics,edge_metrics)"
   ]
  },
  {
   "cell_type": "code",
   "execution_count": null,
   "id": "d81b18da",
   "metadata": {},
   "outputs": [],
   "source": []
  },
  {
   "cell_type": "code",
   "execution_count": null,
   "id": "76884880",
   "metadata": {},
   "outputs": [],
   "source": []
  }
 ],
 "metadata": {
  "interpreter": {
   "hash": "0dc50badf6bcf34ee37feb4ddab24eb1b71716d96fc6cae89d10c22f5e3462c0"
  },
  "kernelspec": {
   "display_name": "Python 3.8.10 64-bit ('base': conda)",
   "name": "python3"
  },
  "language_info": {
   "codemirror_mode": {
    "name": "ipython",
    "version": 3
   },
   "file_extension": ".py",
   "mimetype": "text/x-python",
   "name": "python",
   "nbconvert_exporter": "python",
   "pygments_lexer": "ipython3",
   "version": "3.8.12"
  }
 },
 "nbformat": 4,
 "nbformat_minor": 5
}

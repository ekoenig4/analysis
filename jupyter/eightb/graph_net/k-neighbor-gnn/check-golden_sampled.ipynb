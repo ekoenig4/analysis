{
 "cells": [
  {
   "cell_type": "code",
   "execution_count": 1,
   "id": "ef215b25",
   "metadata": {},
   "outputs": [],
   "source": [
    "%load_ext autoreload\n",
    "%autoreload 2\n",
    "\n",
    "import os\n",
    "import sys\n",
    "import git\n",
    "\n",
    "import uproot as ut\n",
    "import awkward as ak\n",
    "import numpy as np\n",
    "import math\n",
    "import vector\n",
    "import sympy as sp\n",
    "\n",
    "import re\n",
    "from tqdm import tqdm\n",
    "import timeit\n",
    "import torch\n",
    "\n",
    "sys.path.append( git.Repo('.', search_parent_directories=True).working_tree_dir )\n",
    "from utils import *\n",
    "\n",
    "import utils.torchUtils as gnn"
   ]
  },
  {
   "cell_type": "code",
   "execution_count": 2,
   "id": "407842cc",
   "metadata": {},
   "outputs": [],
   "source": [
    "bkgtrees = ObjIter([Tree(fc.eightb.preselection.QCD_B_List)])"
   ]
  },
  {
   "cell_type": "code",
   "execution_count": 3,
   "id": "c18b4e2f",
   "metadata": {},
   "outputs": [],
   "source": [
    "# signaltrees = ObjIter([Tree(fc.eightb.preselection.signal_list[i]) for i in (0,4,7)])\n",
    "signaltrees = ObjIter([Tree(fc.eightb.preselection.signal_list[i]) for i in (0,4,7)])"
   ]
  },
  {
   "cell_type": "code",
   "execution_count": 4,
   "id": "4b68d621",
   "metadata": {},
   "outputs": [],
   "source": [
    "for tree in signaltrees: tree.color=None"
   ]
  },
  {
   "cell_type": "code",
   "execution_count": 5,
   "id": "e58e374c",
   "metadata": {},
   "outputs": [],
   "source": [
    "gnn.config.set_gpu(False)"
   ]
  },
  {
   "cell_type": "code",
   "execution_count": 6,
   "id": "46c412c0",
   "metadata": {},
   "outputs": [],
   "source": [
    "model_paths = [\n",
    "    # \"/uscms_data/d3/ekoenig/8BAnalysis/studies/sixbStudies/jupyter/eightb/graph_net/models/golden_knn/lightning_logs/version_0/checkpoints/epoch=10-step=3970.ckpt\"\n",
    "    \"/uscms_data/d3/ekoenig/8BAnalysis/studies/sixbStudies/jupyter/eightb/graph_net/models/golden_knn/lightning_logs/version_1/checkpoints/epoch=11-step=4331.ckpt\"\n",
    "]\n"
   ]
  },
  {
   "cell_type": "code",
   "execution_count": 7,
   "id": "eb391fa6",
   "metadata": {},
   "outputs": [],
   "source": [
    "model = gnn.modelMap['golden_knn'].load_from_checkpoint(model_paths[-1]).to(device=gnn.config.device)"
   ]
  },
  {
   "cell_type": "code",
   "execution_count": 8,
   "id": "3cfe3365",
   "metadata": {},
   "outputs": [],
   "source": [
    "from torch_geometric.data import Data\n",
    "\n",
    "class Predict(gnn.BaseTransform):\n",
    "    def __init__(self, model):\n",
    "        super().__init__()\n",
    "        self.model = model\n",
    "    def _predict_center_(self, data, center):\n",
    "        center_mask = (data.edge_index == center).any(dim=0)\n",
    "        edge_mask = data.edge_mask\n",
    "        data.edge_mask = edge_mask & center_mask\n",
    "        _, edge_o = self.model.predict(data)\n",
    "        data.edge_mask = edge_mask\n",
    "        edge_o = edge_o[center_mask]\n",
    "        edges  = data.edge_index[:,center_mask]\n",
    "        max_edge = torch.argmax(edge_o)\n",
    "        score = edge_o[max_edge]\n",
    "        edge = edges[:,max_edge]\n",
    "        return torch.cat([score[None], edge])\n",
    "    def __call__(self, data : Data) -> Data:\n",
    "        out = torch.stack([ self._predict_center_(data, center) for center in range(data.num_nodes) ])\n",
    "        score, pair_index = out[:,0], out[:,1:].long().T\n",
    "        data.score = score\n",
    "        data.pair_index = pair_index \n",
    "        return data"
   ]
  },
  {
   "cell_type": "code",
   "execution_count": 9,
   "id": "fc9912d2",
   "metadata": {},
   "outputs": [],
   "source": [
    "transform = gnn.Transform()\n",
    "transform.append(gnn.min_edge_neighbor(n_neighbor=model.hparams['n_neighbor'], undirected=True))\n",
    "template = gnn.Dataset(\"../data/template\",make_template=True, transform=transform)"
   ]
  },
  {
   "cell_type": "code",
   "execution_count": 10,
   "id": "e1ea9831",
   "metadata": {},
   "outputs": [],
   "source": [
    "def get_tree_graph(tree, ver='testing', path='../data'):\n",
    "    sample = tree.sample\n",
    "    dataset = gnn.Dataset(f'{path}/{sample}-{ver}', transform=template.transform+Predict(model))\n",
    "    loader = gnn.DataLoader(dataset, batch_size=50, num_workers=gnn.config.ncpu)\n",
    "    tree.graphs = loader\n",
    "\n",
    "def get_qcd_graph(tree, path='../data'):\n",
    "    get_name = lambda f : f.fname.split('/')[-2]\n",
    "    dataset = gnn.concat_dataset([f'{path}/{sample}' for sample in map(get_name, tree.filelist)],transform=template.transform+Predict(model))\n",
    "    loader = gnn.DataLoader(dataset, batch_size=50, num_workers=gnn.config.ncpu)\n",
    "    tree.graphs = loader"
   ]
  },
  {
   "cell_type": "code",
   "execution_count": 11,
   "id": "b4b48bef",
   "metadata": {},
   "outputs": [
    {
     "data": {
      "text/plain": [
       "[None]"
      ]
     },
     "execution_count": 11,
     "metadata": {},
     "output_type": "execute_result"
    }
   ],
   "source": [
    "signaltrees.apply(get_tree_graph)\n",
    "bkgtrees.apply(get_qcd_graph)"
   ]
  },
  {
   "cell_type": "code",
   "execution_count": 12,
   "id": "f375cee5",
   "metadata": {},
   "outputs": [],
   "source": [
    "dataset = signaltrees[0].graphs"
   ]
  },
  {
   "cell_type": "code",
   "execution_count": 13,
   "id": "4a9db50e",
   "metadata": {},
   "outputs": [],
   "source": [
    "data = dataset.dataset[0]\n",
    "for batch in dataset: break"
   ]
  },
  {
   "cell_type": "code",
   "execution_count": 19,
   "id": "dac06325",
   "metadata": {},
   "outputs": [],
   "source": [
    "_, data_o = model.predict(data)\n",
    "_,batch_o = model.predict(batch)"
   ]
  },
  {
   "cell_type": "code",
   "execution_count": 22,
   "id": "6b662525",
   "metadata": {},
   "outputs": [
    {
     "data": {
      "text/plain": [
       "tensor([-3.0734e-08,  0.0000e+00,  0.0000e+00,  0.0000e+00, -3.8743e-07,\n",
       "         0.0000e+00, -1.0710e-08,  1.2506e-12, -2.3647e-11, -1.0914e-11,\n",
       "         0.0000e+00,  3.0292e-27,  0.0000e+00,  0.0000e+00, -2.4937e-18,\n",
       "         0.0000e+00,  0.0000e+00,  8.7350e-22,  5.6921e-19,  1.8431e-18,\n",
       "         0.0000e+00,  0.0000e+00, -4.1723e-07, -1.8190e-11,  0.0000e+00,\n",
       "        -1.2790e-13,  0.0000e+00,  0.0000e+00,  0.0000e+00, -2.0373e-10,\n",
       "         0.0000e+00,  0.0000e+00, -1.8190e-11, -1.5179e-18, -1.2434e-13,\n",
       "        -6.9118e-19, -1.0516e-12, -7.4940e-16,  0.0000e+00,  0.0000e+00,\n",
       "        -3.8743e-07, -2.4937e-18,  0.0000e+00, -1.2434e-13, -8.6427e-07,\n",
       "         0.0000e+00,  0.0000e+00,  0.0000e+00,  0.0000e+00,  0.0000e+00,\n",
       "         0.0000e+00,  0.0000e+00, -1.2790e-13, -6.9118e-19,  0.0000e+00,\n",
       "         1.2705e-21,  5.3291e-15,  7.3184e-19,  0.0000e+00,  0.0000e+00,\n",
       "        -1.0710e-08,  0.0000e+00,  0.0000e+00, -1.0516e-12,  0.0000e+00,\n",
       "         5.3291e-15,  0.0000e+00,  0.0000e+00,  0.0000e+00,  0.0000e+00,\n",
       "         1.2506e-12,  8.7350e-22,  0.0000e+00, -7.4940e-16,  0.0000e+00,\n",
       "         7.3184e-19,  0.0000e+00,  7.5495e-15, -1.7053e-13,  0.0000e+00,\n",
       "        -2.3647e-11,  5.6921e-19,  0.0000e+00,  0.0000e+00,  0.0000e+00,\n",
       "         0.0000e+00,  0.0000e+00, -1.7053e-13,  0.0000e+00,  0.0000e+00,\n",
       "        -1.0914e-11,  1.8431e-18, -2.0373e-10,  0.0000e+00,  0.0000e+00,\n",
       "         0.0000e+00,  0.0000e+00,  0.0000e+00,  0.0000e+00,  0.0000e+00])"
      ]
     },
     "execution_count": 22,
     "metadata": {},
     "output_type": "execute_result"
    }
   ],
   "source": [
    "data_o - batch_o[:100]"
   ]
  },
  {
   "cell_type": "code",
   "execution_count": 14,
   "id": "b983a2ee",
   "metadata": {},
   "outputs": [],
   "source": [
    "def predict_dataset(dataset):\n",
    "    score, pair_index = [], []\n",
    "    for i,batch in enumerate(dataset):\n",
    "        n_nodes = batch.ptr[1:]-batch.ptr[:-1]\n",
    "        offset = torch.repeat_interleave(batch.ptr[:-1], n_nodes)\n",
    "        score.append(batch.score)\n",
    "        pair_index.append(batch.pair_index - offset)\n",
    "    score = torch.cat(score).cpu().numpy()\n",
    "    pair_index = torch.cat(pair_index, dim=-1).T.cpu().numpy()\n",
    "    return score, pair_index\n",
    "\n",
    "def predict_tree(tree):\n",
    "    score, pairs = predict_dataset(tree.graphs)\n",
    "    n_jet = tree.n_jet\n",
    "    score = ak.unflatten(score, n_jet)\n",
    "    pairs = ak.unflatten(pairs, n_jet)\n",
    "    tree.extend(edge_score=score, edge_pair=pairs)"
   ]
  },
  {
   "cell_type": "code",
   "execution_count": 15,
   "id": "1cdf1e3b",
   "metadata": {},
   "outputs": [],
   "source": [
    "predict_tree(signaltrees[0])"
   ]
  },
  {
   "cell_type": "code",
   "execution_count": 16,
   "id": "d3334235",
   "metadata": {},
   "outputs": [],
   "source": [
    "tree = signaltrees[0]"
   ]
  },
  {
   "cell_type": "code",
   "execution_count": 17,
   "metadata": {},
   "outputs": [],
   "source": [
    "build_all_dijets(tree, tree.edge_pair)"
   ]
  },
  {
   "cell_type": "code",
   "execution_count": 18,
   "id": "08c3dcb5",
   "metadata": {},
   "outputs": [],
   "source": [
    "def std_edge_score(tree):\n",
    "    max_edges = ak.max(tree.edge_score, axis=-1)\n",
    "    min_edges = ak.min(tree.edge_score, axis=-1)\n",
    "    tree.extend(std_edge_score=(tree.edge_score - min_edges)/(max_edges - min_edges))\n",
    "std_edge_score(tree)"
   ]
  },
  {
   "cell_type": "code",
   "execution_count": 20,
   "id": "89f3975b",
   "metadata": {},
   "outputs": [
    {
     "data": {
      "image/png": "[encoded data removed]",
      "text/plain": [
       "<Figure size 960x400 with 2 Axes>"
      ]
     },
     "metadata": {
      "needs_background": "light"
     },
     "output_type": "display_data"
    }
   ],
   "source": [
    "study.quick(\n",
    "    [tree, tree],\n",
    "    masks=[lambda t: (t.nfound_presel==8)&(t.dijet_signalId>-1), lambda t:(t.nfound_presel==8)&(t.dijet_signalId==-1)],\n",
    "    varlist=['std_edge_score','edge_score'], density=True,\n",
    ")"
   ]
  },
  {
   "cell_type": "code",
   "execution_count": null,
   "id": "f55454c3",
   "metadata": {},
   "outputs": [],
   "source": []
  },
  {
   "cell_type": "code",
   "execution_count": null,
   "id": "16dd8bcb",
   "metadata": {},
   "outputs": [],
   "source": []
  }
 ],
 "metadata": {
  "interpreter": {
   "hash": "0dc50badf6bcf34ee37feb4ddab24eb1b71716d96fc6cae89d10c22f5e3462c0"
  },
  "kernelspec": {
   "display_name": "Python 3.8.10 64-bit ('base': conda)",
   "name": "python3"
  },
  "language_info": {
   "codemirror_mode": {
    "name": "ipython",
    "version": 3
   },
   "file_extension": ".py",
   "mimetype": "text/x-python",
   "name": "python",
   "nbconvert_exporter": "python",
   "pygments_lexer": "ipython3",
   "version": "3.8.12"
  }
 },
 "nbformat": 4,
 "nbformat_minor": 5
}

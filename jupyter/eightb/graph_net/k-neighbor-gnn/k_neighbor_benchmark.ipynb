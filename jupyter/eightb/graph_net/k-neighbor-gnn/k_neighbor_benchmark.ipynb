{
 "cells": [
  {
   "cell_type": "code",
   "execution_count": 1,
   "id": "9bfa3b5a",
   "metadata": {},
   "outputs": [],
   "source": [
    "%load_ext autoreload\n",
    "%autoreload 2\n",
    "\n",
    "import os\n",
    "import sys\n",
    "import git\n",
    "\n",
    "import uproot as ut\n",
    "import awkward as ak\n",
    "import numpy as np\n",
    "import math\n",
    "import vector\n",
    "import sympy as sp\n",
    "\n",
    "import re\n",
    "from tqdm import tqdm\n",
    "import timeit\n",
    "import re\n",
    "\n",
    "sys.path.append( git.Repo('.', search_parent_directories=True).working_tree_dir )\n",
    "from utils import *"
   ]
  },
  {
   "cell_type": "code",
   "execution_count": 2,
   "id": "6edca911",
   "metadata": {},
   "outputs": [],
   "source": [
    "%load_ext line_profiler\n",
    "%load_ext memory_profiler"
   ]
  },
  {
   "cell_type": "code",
   "execution_count": 3,
   "id": "bda6a611",
   "metadata": {},
   "outputs": [],
   "source": [
    "import torch\n",
    "from torch_geometric.data import Data, DataLoader\n",
    "import torch.nn.functional as F\n",
    "from torch_geometric.nn import dense_diff_pool\n",
    "from torch import Tensor\n",
    "from typing import Tuple\n",
    "\n",
    "from torch_geometric.utils import to_networkx, negative_sampling\n",
    "import networkx as nx"
   ]
  },
  {
   "cell_type": "code",
   "execution_count": 4,
   "id": "33400175",
   "metadata": {},
   "outputs": [],
   "source": [
    "import utils.torchUtils as gnn\n",
    "from utils.torchUtils.cpp_geometric import layers"
   ]
  },
  {
   "cell_type": "code",
   "execution_count": 5,
   "id": "0c440a73",
   "metadata": {},
   "outputs": [],
   "source": [
    "dout='knn'"
   ]
  },
  {
   "cell_type": "code",
   "execution_count": 6,
   "id": "e2eae819",
   "metadata": {},
   "outputs": [],
   "source": [
    "# gnn.config.set_gpu(False)"
   ]
  },
  {
   "cell_type": "code",
   "execution_count": 7,
   "id": "19e7118f",
   "metadata": {},
   "outputs": [],
   "source": [
    "from torch_scatter import scatter_max\n",
    "from torch_geometric.data import Batch\n",
    "\n",
    "\n",
    "# class Sampled(gnn.BaseTransform):\n",
    "#     def __call__(self, data : Data) -> Data:\n",
    "#         num_nodes = data.num_nodes \n",
    "#         centers = [ sample_center(data, i) for i in range(num_nodes) ]\n",
    "#         batch = Batch.from_data_list(\n",
    "#             [\n",
    "#                 gnn.mask_graph(data, center)\n",
    "#                 for center in centers\n",
    "#             ]\n",
    "#         )\n",
    "#         return batch"
   ]
  },
  {
   "cell_type": "code",
   "execution_count": 8,
   "id": "33ffe9f7",
   "metadata": {},
   "outputs": [],
   "source": [
    "import utils.torchUtils as gnn \n",
    "\n",
    "# min_edge = gnn.min_edge_neighbor(n_neighbor=2, function=lambda f:f**2)\n",
    "min_edge = gnn.min_edge_neighbor(n_neighbor=4, undirected=True)\n",
    "transform = None\n",
    "transform = gnn.Transform(min_edge)\n",
    "template = gnn.Dataset('../data/template',make_template=True, transform=transform)\n",
    "\n",
    "def load_training(fn='../data/MX_1200_MY_500-training', template=None):\n",
    "    transform = template.transform + gnn.RandomSample()\n",
    "    dataset = gnn.Dataset(fn,transform=transform)[:9000]\n",
    "    training, validation = gnn.train_test_split(dataset, 0.2)\n",
    "\n",
    "    batch_size = 100\n",
    "    trainloader = DataLoader(training, batch_size=batch_size, num_workers=gnn.config.ncpu)\n",
    "    validloader = DataLoader(validation, batch_size=batch_size, num_workers=gnn.config.ncpu)\n",
    "    return trainloader, validloader\n",
    "\n",
    "def load_testing(fn='../data/MX_1200_MY_500-testing', template=None):\n",
    "    transform = template.transform + gnn.RandomSample()\n",
    "    sample = gnn.Dataset(fn, transform=transform)[:1000]\n",
    "    batch_size = 100\n",
    "    testloader = DataLoader(sample, batch_size=batch_size, num_workers=gnn.config.ncpu)\n",
    "    return testloader\n",
    "\n",
    "trainloader, validloader  = load_training(template=template)\n",
    "testloader = load_testing(template=template)"
   ]
  },
  {
   "cell_type": "code",
   "execution_count": 9,
   "id": "4a6e3398",
   "metadata": {},
   "outputs": [],
   "source": [
    "model = gnn.modelMap['golden_knn'](dataset=template, loss='auroc_loss')\n",
    "\n",
    "# model = gnn.modelMap['golden_knn'].load_from_checkpoint(model_paths[0]).to(device=gnn.config.device)"
   ]
  },
  {
   "cell_type": "code",
   "execution_count": 10,
   "id": "c1348797",
   "metadata": {},
   "outputs": [],
   "source": [
    "for batch in trainloader: break"
   ]
  },
  {
   "cell_type": "code",
   "execution_count": 11,
   "id": "252dba48",
   "metadata": {},
   "outputs": [],
   "source": [
    "_, edge_o = model(batch)"
   ]
  },
  {
   "cell_type": "code",
   "execution_count": 12,
   "id": "8cb1975d",
   "metadata": {},
   "outputs": [
    {
     "name": "stderr",
     "output_type": "stream",
     "text": [
      "GPU available: False, used: False\n",
      "TPU available: False, using: 0 TPU cores\n",
      "IPU available: False, using: 0 IPUs\n",
      "2022-05-02 12:45:10.884723: W tensorflow/stream_executor/platform/default/dso_loader.cc:64] Could not load dynamic library 'libcudart.so.11.0'; dlerror: libcudart.so.11.0: cannot open shared object file: No such file or directory\n",
      "2022-05-02 12:45:10.884771: I tensorflow/stream_executor/cuda/cudart_stub.cc:29] Ignore above cudart dlerror if you do not have a GPU set up on your machine.\n",
      "\n",
      "   | Name         | Type            | Params\n",
      "--------------------------------------------------\n",
      "0  | embed_1      | GCNLinear       | 768   \n",
      "1  | conv_1       | GCNConvMask     | 12.4 K\n",
      "2  | norm_1       | GCNBatchNorm    | 256   \n",
      "3  | relu_1       | GCNRelu         | 0     \n",
      "4  | embed_2      | GCNLinear       | 16.6 K\n",
      "5  | conv_2       | GCNConvMask     | 49.3 K\n",
      "6  | norm_2       | GCNBatchNorm    | 512   \n",
      "7  | relu_2       | GCNRelu         | 0     \n",
      "8  | node_readout | Sequential      | 15.6 K\n",
      "9  | edge_readout | Sequential      | 15.6 K\n",
      "10 | undirected   | UndirectedEdges | 0     \n",
      "11 | log_softmax  | GCNLogSoftmax   | 0     \n",
      "--------------------------------------------------\n",
      "110 K     Trainable params\n",
      "0         Non-trainable params\n",
      "110 K     Total params\n",
      "0.444     Total estimated model params size (MB)\n"
     ]
    },
    {
     "name": "stdout",
     "output_type": "stream",
     "text": [
      "Epoch 9: 100%|██████████| 90/90 [00:10<00:00,  8.21it/s, loss=4.97, v_num=105]\n"
     ]
    }
   ],
   "source": [
    "from pytorch_lightning import Trainer\n",
    "\n",
    "trainer = Trainer(max_epochs=10, gpus=1*gnn.config.useGPU)\n",
    "trainer.fit(model, trainloader, validloader)"
   ]
  },
  {
   "cell_type": "code",
   "execution_count": 13,
   "id": "d75485db",
   "metadata": {},
   "outputs": [
    {
     "name": "stdout",
     "output_type": "stream",
     "text": [
      "Testing:  80%|████████  | 8/10 [00:00<00:00, 12.81it/s]--------------------------------------------------------------------------------\n",
      "DATALOADER:0 TEST RESULTS\n",
      "{'edge_acc/test': 0.7785916328430176,\n",
      " 'edge_auroc/test': 0.9048237800598145,\n",
      " 'loss/test': 4.992600440979004,\n",
      " 'node_acc/test': 0.6169172525405884,\n",
      " 'node_auroc/test': 0.4419599175453186,\n",
      " 'top_acc/test': 0.6952334642410278}\n",
      "--------------------------------------------------------------------------------\n",
      "Testing: 100%|██████████| 10/10 [00:01<00:00,  9.31it/s]\n"
     ]
    }
   ],
   "source": [
    "test = trainer.test(model, testloader)"
   ]
  },
  {
   "cell_type": "code",
   "execution_count": 14,
   "id": "5db0bb9b",
   "metadata": {},
   "outputs": [],
   "source": [
    "def draw_predict(model, data, edge_mask=None):\n",
    "    if edge_mask is not None:\n",
    "        data = gnn.mask_graph(data, edge_mask)\n",
    "    _, edge_o = model.predict(data)\n",
    "\n",
    "    edges = torch.arange(edge_o.shape[0])\n",
    "    argorder = torch.argsort(-edge_o)\n",
    "    order = torch.argmax(1*(edges[:,None] == argorder),axis=-1)\n",
    "\n",
    "    gnn.draw_data(data, width=edge_o, edge_labels=order, undirected=0)\n"
   ]
  },
  {
   "cell_type": "code",
   "execution_count": 29,
   "id": "b4445282",
   "metadata": {},
   "outputs": [
    {
     "data": {
      "image/png": "[encoded data removed]",
      "text/plain": [
       "<Figure size 384x360 with 1 Axes>"
      ]
     },
     "metadata": {},
     "output_type": "display_data"
    }
   ],
   "source": [
    "data = next( data for data in testloader.dataset if data.y.sum() == 8 and data.num_nodes == 10 )\n",
    "draw_predict(model, data)"
   ]
  },
  {
   "cell_type": "code",
   "execution_count": null,
   "id": "a9b23392",
   "metadata": {},
   "outputs": [],
   "source": [
    "\n"
   ]
  }
 ],
 "metadata": {
  "interpreter": {
   "hash": "0dc50badf6bcf34ee37feb4ddab24eb1b71716d96fc6cae89d10c22f5e3462c0"
  },
  "kernelspec": {
   "display_name": "Python 3.8.10 64-bit ('base': conda)",
   "name": "python3"
  },
  "language_info": {
   "codemirror_mode": {
    "name": "ipython",
    "version": 3
   },
   "file_extension": ".py",
   "mimetype": "text/x-python",
   "name": "python",
   "nbconvert_exporter": "python",
   "pygments_lexer": "ipython3",
   "version": "3.8.12"
  }
 },
 "nbformat": 4,
 "nbformat_minor": 5
}

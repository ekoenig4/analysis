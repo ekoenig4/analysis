{
 "cells": [
  {
   "cell_type": "code",
   "execution_count": 1,
   "id": "9bfa3b5a",
   "metadata": {},
   "outputs": [],
   "source": [
    "%load_ext autoreload\n",
    "%autoreload 2\n",
    "\n",
    "import os\n",
    "import sys\n",
    "import git\n",
    "\n",
    "import uproot as ut\n",
    "import awkward as ak\n",
    "import numpy as np\n",
    "import math\n",
    "import vector\n",
    "import sympy as sp\n",
    "\n",
    "import re\n",
    "from tqdm import tqdm\n",
    "import timeit\n",
    "import re\n",
    "\n",
    "sys.path.append( git.Repo('.', search_parent_directories=True).working_tree_dir )\n",
    "from utils import *"
   ]
  },
  {
   "cell_type": "code",
   "execution_count": 2,
   "id": "6edca911",
   "metadata": {},
   "outputs": [],
   "source": [
    "%load_ext line_profiler\n",
    "%load_ext memory_profiler"
   ]
  },
  {
   "cell_type": "code",
   "execution_count": 3,
   "id": "bda6a611",
   "metadata": {},
   "outputs": [],
   "source": [
    "import torch\n",
    "from torch_geometric.data import Data, DataLoader\n",
    "import torch.nn.functional as F\n",
    "from torch_geometric.nn import dense_diff_pool\n",
    "from torch import Tensor\n",
    "from typing import Tuple\n",
    "\n",
    "from torch_geometric.utils import to_networkx, negative_sampling\n",
    "import networkx as nx"
   ]
  },
  {
   "cell_type": "code",
   "execution_count": 4,
   "id": "33400175",
   "metadata": {},
   "outputs": [],
   "source": [
    "import utils.torchUtils as gnn\n",
    "from utils.torchUtils.cpp_geometric import layers"
   ]
  },
  {
   "cell_type": "code",
   "execution_count": 5,
   "id": "0c440a73",
   "metadata": {},
   "outputs": [],
   "source": [
    "dout='simple_pair'"
   ]
  },
  {
   "cell_type": "code",
   "execution_count": 6,
   "id": "e2eae819",
   "metadata": {},
   "outputs": [],
   "source": [
    "gnn.config.set_gpu(0)"
   ]
  },
  {
   "cell_type": "code",
   "execution_count": 7,
   "id": "19e7118f",
   "metadata": {},
   "outputs": [],
   "source": [
    "from torch_scatter import scatter_max, scatter_min\n",
    "from torch_geometric.data import Batch\n",
    "from torch.utils.data import Sampler\n"
   ]
  },
  {
   "cell_type": "code",
   "execution_count": 8,
   "id": "019afdef",
   "metadata": {},
   "outputs": [],
   "source": [
    "from utils.torchUtils.gnn import sample_pair\n",
    "from utils.torchUtils import BaseTransform"
   ]
  },
  {
   "cell_type": "code",
   "execution_count": 9,
   "id": "5d23e20d",
   "metadata": {},
   "outputs": [],
   "source": [
    "class GroupQuadH(BaseTransform):\n",
    "    quadH = eightb.get_quadH_pairings()\n",
    "    def transform(self, data : Data)->Data:\n",
    "        dijets = torch.where(data.edge_index[0] < data.edge_index[1])[0]\n",
    "        quadH_index = dijets[self.quadH]\n",
    "        quadH_y = data.edge_y[quadH_index].sum(dim=-1)\n",
    "        quadH_mask = torch.zeros((105,data.num_edges))\n",
    "        for mask,index in zip(quadH_mask, quadH_index):\n",
    "            mask[index] = 1\n",
    "        quadH_mask = quadH_mask == 1\n",
    "\n",
    "        # data.quadH_index = data.edge_index[:,quadH_index]\n",
    "        data.quadH_mask = quadH_mask.T\n",
    "        data.quadH_y = quadH_y\n",
    "        return data\n",
    "\n",
    "class SampleQuadH(BaseTransform):\n",
    "    def transform(self, data : Data)->Data:\n",
    "        n_quadH = data.quadH_y\n",
    "        n_quadH_idx = [ torch.where(n_quadH==n)[0] for n in range(5) ]\n",
    "        quadH_idx = torch.cat([ quadH_idx[torch.randperm(quadH_idx.shape[0])[:1]] for quadH_idx in n_quadH_idx ])\n",
    "\n",
    "        data.sampled_quad_mask = data.quadH_mask.T[quadH_idx].T\n",
    "        data.sampled_quad_y = data.quadH_y[quadH_idx]\n",
    "        return data"
   ]
  },
  {
   "cell_type": "code",
   "execution_count": 10,
   "id": "a75e471d",
   "metadata": {},
   "outputs": [],
   "source": [
    "subset = 'top8btag_signal'"
   ]
  },
  {
   "cell_type": "code",
   "execution_count": 11,
   "id": "33ffe9f7",
   "metadata": {},
   "outputs": [],
   "source": [
    "import utils.torchUtils as gnn \n",
    "\n",
    "transform = None\n",
    "transform = gnn.Transform(gnn.min_edge_neighbor(), GroupQuadH())\n",
    "template = gnn.Dataset('../data/template',make_template=True, transform=transform)\n",
    "\n",
    "def load_training(fn=f'../data/{subset}/MX_1000_MY_450-training', template=None):\n",
    "    transform = template.transform + SampleQuadH()\n",
    "    dataset = gnn.Dataset(fn,transform=transform)[:18000]\n",
    "    training, validation = gnn.train_test_split(dataset, 0.2)\n",
    "    # training, validation = dataset[1800:], dataset[:1800]\n",
    "\n",
    "    batch_size = 25\n",
    "    trainloader = DataLoader(training,  batch_size=batch_size, num_workers=gnn.config.ncpu)\n",
    "    validloader = DataLoader(validation, batch_size=batch_size, num_workers=gnn.config.ncpu)\n",
    "    return trainloader, validloader\n",
    "\n",
    "def load_testing(fn=f'../data/{subset}/MX_1000_MY_450-testing', template=None):\n",
    "    transform = template.transform + SampleQuadH()\n",
    "    sample = gnn.Dataset(fn, transform=transform)[:1000]\n",
    "    # sample = [ data for data in sample if data.edge_y.sum() > 0 ]\n",
    "    batch_size = 25\n",
    "    testloader = DataLoader(sample, batch_size=batch_size, num_workers=gnn.config.ncpu)\n",
    "    return testloader\n",
    "testloader = load_testing(template=template)\n",
    "trainloader, validloader  = load_training(template=template)"
   ]
  },
  {
   "cell_type": "code",
   "execution_count": 12,
   "id": "efe42a6d",
   "metadata": {},
   "outputs": [],
   "source": [
    "data = next(data for data in validloader.dataset)"
   ]
  },
  {
   "cell_type": "code",
   "execution_count": 13,
   "id": "6854e233",
   "metadata": {},
   "outputs": [
    {
     "data": {
      "text/plain": [
       "(<Figure size 384x360 with 1 Axes>, <AxesSubplot:>)"
      ]
     },
     "execution_count": 13,
     "metadata": {},
     "output_type": "execute_result"
    },
    {
     "data": {
      "image/png": "[encoded data removed]",
      "text/plain": [
       "<Figure size 384x360 with 1 Axes>"
      ]
     },
     "metadata": {},
     "output_type": "display_data"
    }
   ],
   "source": [
    "gnn.draw_data(data, data.quadH_mask[:,3])"
   ]
  },
  {
   "cell_type": "code",
   "execution_count": 14,
   "id": "090fc1f0",
   "metadata": {},
   "outputs": [
    {
     "data": {
      "text/plain": [
       "Data(x=[8, 5], edge_index=[2, 64], edge_attr=[64, 5], y=[8], edge_y=[64], node_id=[8], edge_id=[64], edge_d=[64], edge_mask=[64], quadH_mask=[64, 105], quadH_y=[105], sampled_quad_mask=[64, 4], sampled_quad_y=[4])"
      ]
     },
     "execution_count": 14,
     "metadata": {},
     "output_type": "execute_result"
    }
   ],
   "source": [
    "data"
   ]
  },
  {
   "cell_type": "code",
   "execution_count": 15,
   "id": "4008ced1",
   "metadata": {},
   "outputs": [],
   "source": [
    "for batch in validloader: break"
   ]
  },
  {
   "cell_type": "code",
   "execution_count": 42,
   "id": "a1ffc6b6",
   "metadata": {},
   "outputs": [],
   "source": [
    "# loss='mismatched_bjet_loss'\n",
    "loss='std_loss'\n",
    "model = gnn.modelMap['golden_quadh'](dataset=template, loss=loss,  )"
   ]
  },
  {
   "cell_type": "code",
   "execution_count": 43,
   "id": "5cced444",
   "metadata": {},
   "outputs": [
    {
     "data": {
      "text/plain": [
       "tensor([0.5591, 0.5556, 0.5478, 0.5651, 0.5613, 0.5398, 0.5538, 0.5540, 0.5515,\n",
       "        0.5517, 0.5451, 0.5513, 0.5614, 0.5634, 0.5453, 0.5549, 0.5508, 0.5727,\n",
       "        0.5665, 0.5620, 0.5376, 0.5498, 0.5420, 0.5572, 0.5395, 0.5611, 0.5411,\n",
       "        0.5503, 0.5674, 0.5430, 0.5620, 0.5576, 0.5494, 0.5590, 0.5431, 0.5697,\n",
       "        0.5655, 0.5513, 0.5774, 0.5465, 0.5551, 0.5651, 0.5676, 0.5455, 0.5436,\n",
       "        0.5477, 0.5378, 0.5360, 0.5567, 0.5468, 0.5370, 0.5602, 0.5409, 0.5496,\n",
       "        0.5495, 0.5484, 0.5498, 0.5449, 0.5511, 0.5288, 0.5564, 0.5666, 0.5551,\n",
       "        0.5669, 0.5607, 0.5532, 0.5619, 0.5576, 0.5446, 0.5550, 0.5451, 0.5508,\n",
       "        0.5470, 0.5433, 0.5455, 0.5621, 0.5467, 0.5384, 0.5501, 0.5545, 0.5588,\n",
       "        0.5578, 0.5463, 0.5497, 0.5479, 0.5569, 0.5712, 0.5519, 0.5583, 0.5522,\n",
       "        0.5693, 0.5622, 0.5553, 0.5679, 0.5534, 0.5535, 0.5550, 0.5572, 0.5468,\n",
       "        0.5440], grad_fn=<CatBackward>)"
      ]
     },
     "execution_count": 43,
     "metadata": {},
     "output_type": "execute_result"
    }
   ],
   "source": [
    "torch.cat([ model.eval_batch(batch, quad_mask) for quad_mask in batch.sampled_quad_mask.T ])"
   ]
  },
  {
   "cell_type": "code",
   "execution_count": 44,
   "id": "aa8c98b5",
   "metadata": {},
   "outputs": [
    {
     "name": "stderr",
     "output_type": "stream",
     "text": [
      "GPU available: True, used: False\n",
      "TPU available: False, using: 0 TPU cores\n",
      "IPU available: False, using: 0 IPUs\n",
      "\n",
      "  | Name        | Type          | Params\n",
      "----------------------------------------------\n",
      "0 | gnn_module  | GCNConvMask   | 512   \n",
      "1 | gnn_norm    | BatchNorm     | 64    \n",
      "2 | gnn_relu    | ReLU          | 0     \n",
      "3 | pair_module | PairPredictor | 4.5 K \n",
      "4 | pair_norm   | BatchNorm     | 128   \n",
      "5 | pair_relu   | ReLU          | 0     \n",
      "6 | quad_module | QuadPredictor | 0     \n",
      "7 | readout     | Sequential    | 27.8 K\n",
      "----------------------------------------------\n",
      "33.0 K    Trainable params\n",
      "0         Non-trainable params\n",
      "33.0 K    Total params\n",
      "0.132     Total estimated model params size (MB)\n"
     ]
    },
    {
     "name": "stdout",
     "output_type": "stream",
     "text": [
      "Epoch 9: 100%|██████████| 257/257 [00:27<00:00,  9.23it/s, loss=3.56, v_num=10]\n"
     ]
    }
   ],
   "source": [
    "from pytorch_lightning import Trainer\n",
    "\n",
    "trainer = Trainer(max_epochs=10, gpus=1*gnn.config.ngpu)\n",
    "trainer.fit(model, trainloader, validloader)"
   ]
  },
  {
   "cell_type": "code",
   "execution_count": 45,
   "id": "e39729a4",
   "metadata": {},
   "outputs": [
    {
     "name": "stdout",
     "output_type": "stream",
     "text": [
      "Testing: 100%|██████████| 40/40 [00:03<00:00, 16.77it/s]--------------------------------------------------------------------------------\n",
      "DATALOADER:0 TEST RESULTS\n",
      "{'auroc/test': 0.5112666487693787, 'loss/test': 3.5686275959014893}\n",
      "--------------------------------------------------------------------------------\n",
      "Testing: 100%|██████████| 40/40 [00:03<00:00, 10.28it/s]\n"
     ]
    },
    {
     "data": {
      "text/plain": [
       "[{'loss/test': 3.5686275959014893, 'auroc/test': 0.5112666487693787}]"
      ]
     },
     "execution_count": 45,
     "metadata": {},
     "output_type": "execute_result"
    }
   ],
   "source": [
    "trainer.test(model, testloader)"
   ]
  },
  {
   "cell_type": "code",
   "execution_count": 46,
   "id": "e7ec31e0",
   "metadata": {},
   "outputs": [],
   "source": [
    "def predict_data(model, data):\n",
    "    quadH_o = torch.cat([model.eval_batch(data,quad_mask) for quad_mask in data.quadH_mask.T])\n",
    "    data.quadH_o = quadH_o\n",
    "    return data"
   ]
  },
  {
   "cell_type": "code",
   "execution_count": 47,
   "id": "bf45e05a",
   "metadata": {},
   "outputs": [
    {
     "data": {
      "text/plain": [
       "tensor(0.5714)"
      ]
     },
     "execution_count": 47,
     "metadata": {},
     "output_type": "execute_result"
    }
   ],
   "source": [
    "(data.quadH_y==0).sum()/105"
   ]
  },
  {
   "cell_type": "code",
   "execution_count": 48,
   "id": "ce8f4308",
   "metadata": {},
   "outputs": [],
   "source": [
    "subset = [ predict_data(model,data) for data in trainloader.dataset[:200] ] "
   ]
  },
  {
   "cell_type": "code",
   "execution_count": 49,
   "id": "a62c8f02",
   "metadata": {},
   "outputs": [],
   "source": [
    "n_higgs = [ data.quadH_y[data.quadH_o.argmax()] for data in subset ]"
   ]
  },
  {
   "cell_type": "code",
   "execution_count": 50,
   "id": "82034a4b",
   "metadata": {},
   "outputs": [
    {
     "data": {
      "text/plain": [
       "(<Figure size 384x360 with 1 Axes>, <AxesSubplot:ylabel='PDF'>)"
      ]
     },
     "execution_count": 50,
     "metadata": {},
     "output_type": "execute_result"
    },
    {
     "data": {
      "image/png": "[encoded data removed]",
      "text/plain": [
       "<Figure size 384x360 with 1 Axes>"
      ]
     },
     "metadata": {
      "needs_background": "light"
     },
     "output_type": "display_data"
    }
   ],
   "source": [
    "hist_multi([n_higgs], density=True)"
   ]
  }
 ],
 "metadata": {
  "interpreter": {
   "hash": "0dc50badf6bcf34ee37feb4ddab24eb1b71716d96fc6cae89d10c22f5e3462c0"
  },
  "kernelspec": {
   "display_name": "Python 3.8.10 64-bit ('base': conda)",
   "name": "python3"
  },
  "language_info": {
   "codemirror_mode": {
    "name": "ipython",
    "version": 3
   },
   "file_extension": ".py",
   "mimetype": "text/x-python",
   "name": "python",
   "nbconvert_exporter": "python",
   "pygments_lexer": "ipython3",
   "version": "3.8.12"
  }
 },
 "nbformat": 4,
 "nbformat_minor": 5
}

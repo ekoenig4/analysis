{
 "cells": [
  {
   "cell_type": "code",
   "execution_count": 1,
   "id": "ef215b25",
   "metadata": {},
   "outputs": [],
   "source": [
    "%load_ext autoreload\n",
    "%autoreload 2\n",
    "\n",
    "import os\n",
    "import sys\n",
    "import git\n",
    "\n",
    "import uproot as ut\n",
    "import awkward as ak\n",
    "import numpy as np\n",
    "import math\n",
    "import vector\n",
    "import sympy as sp\n",
    "\n",
    "import re\n",
    "from tqdm import tqdm\n",
    "import timeit\n",
    "\n",
    "sys.path.append( git.Repo('.', search_parent_directories=True).working_tree_dir )\n",
    "from utils import *\n",
    "\n",
    "import utils.torchUtils as gnn"
   ]
  },
  {
   "cell_type": "code",
   "execution_count": 41,
   "id": "a11a05a2",
   "metadata": {},
   "outputs": [],
   "source": [
    "import torch\n",
    "from torch import Tensor\n",
    "\n",
    "from torch_geometric.data import Data\n",
    "from torch_geometric.transforms import BaseTransform\n",
    "from torch_geometric.utils import to_networkx\n",
    "import networkx as nx\n",
    "\n",
    "from torch_geometric.typing import Adj, PairTensor\n",
    "from typing import Callable, Optional, Union, Tuple\n",
    "from torch.nn import Linear, Module\n",
    "from torch.nn.functional import softmax, relu, sigmoid, log_softmax, nll_loss"
   ]
  },
  {
   "cell_type": "code",
   "execution_count": 31,
   "id": "780f73e4",
   "metadata": {},
   "outputs": [],
   "source": [
    "class ClusterY(BaseTransform):\n",
    "    def __call__(self, data : Data) -> Data:\n",
    "        data.cluster_y = (data.node_id + 3) // 4\n",
    "        return data"
   ]
  },
  {
   "cell_type": "code",
   "execution_count": 32,
   "id": "d35b5b4a",
   "metadata": {},
   "outputs": [],
   "source": [
    "from torch_geometric.loader import DataLoader\n",
    "\n",
    "def load_dataset(fn='data/MX_1200_MY_500-training', template=None):\n",
    "    dataset = gnn.Dataset(fn,transform=template.transform)\n",
    "    training, testing = gnn.train_test_split(dataset[:3000], 0.33)\n",
    "    training, validation = gnn.train_test_split(training, 0.5)\n",
    "\n",
    "    trainloader = DataLoader(training, batch_size=50, shuffle=True, num_workers=8)\n",
    "    validloader = DataLoader(validation, batch_size=50, shuffle=True, num_workers=8)\n",
    "    testloader = DataLoader(testing, batch_size=50, shuffle=True, num_workers=8)\n",
    "\n",
    "    return trainloader, validloader, testloader\n",
    "\n",
    "template = gnn.Dataset('data/template',make_template=True, transform=ClusterY())\n",
    "trainloader, validloader, testloader = load_dataset(template=template)"
   ]
  },
  {
   "cell_type": "code",
   "execution_count": 236,
   "id": "61b98dad",
   "metadata": {},
   "outputs": [],
   "source": [
    "dataset = gnn.concat_dataset([f'data/{mass}-training' for mass in eightb.mass_list],transform=template.transform)"
   ]
  },
  {
   "cell_type": "code",
   "execution_count": 238,
   "id": "5d0cab0c",
   "metadata": {},
   "outputs": [],
   "source": [
    "loader = DataLoader(dataset, batch_size=100, num_workers=8)"
   ]
  },
  {
   "cell_type": "code",
   "execution_count": 239,
   "id": "b5621467",
   "metadata": {},
   "outputs": [],
   "source": [
    "cluster_sums = torch.stack([torch.Tensor([ (data.cluster_y == i).sum() for i in range(3) ]) for data in loader]).sum(dim=0)\n",
    "cluster_weights = cluster_sums.max()/cluster_sums"
   ]
  },
  {
   "cell_type": "code",
   "execution_count": 240,
   "id": "1b9173fd",
   "metadata": {},
   "outputs": [
    {
     "data": {
      "text/plain": [
       "tensor([1.2777, 1.0000, 1.0724])"
      ]
     },
     "execution_count": 240,
     "metadata": {},
     "output_type": "execute_result"
    }
   ],
   "source": [
    "cluster_weights"
   ]
  },
  {
   "cell_type": "code",
   "execution_count": 227,
   "id": "bc73b557",
   "metadata": {},
   "outputs": [],
   "source": [
    "from utils.torchUtils.LightningModel import LightningModel\n",
    "from utils.torchUtils.cpp_geometric import layers\n",
    "\n",
    "class GCNModel(torch.nn.Module):\n",
    "    def __init__(self, n_in_node, n_in_edge, nn_conv1_out=64, nn_conv2_out=256, nn_linear_out=128, n_classes=5, **kwargs):\n",
    "        super().__init__(**kwargs)\n",
    "        self.conv1 = layers.GCNConvMSG(n_in_node=n_in_node, n_in_edge=n_in_edge, n_out=nn_conv1_out)\n",
    "        self.relu1 = layers.GCNRelu()\n",
    "        self.conv2 = layers.GCNConvMSG(n_in_node=nn_conv1_out, n_in_edge=nn_conv1_out, n_out=nn_conv2_out)\n",
    "        self.relu2 = layers.GCNRelu()\n",
    "\n",
    "        self.linear1 = layers.GCNLinear(nn_conv2_out, nn_conv2_out, nn_linear_out)\n",
    "        self.relu3 = layers.GCNRelu()\n",
    "\n",
    "        self.linear_o = layers.GCNLinear(nn_linear_out, nn_linear_out, n_classes)\n",
    "\n",
    "        self.log_softmax = layers.GCNLogSoftmax()\n",
    "\n",
    "    def forward(self, data : Data) -> Tensor:\n",
    "        x, edge_index, edge_attr = data.x, data.edge_index, data.edge_attr\n",
    "\n",
    "        x, edge_attr = self.conv1(x, edge_index, edge_attr)\n",
    "        x, edge_attr = self.relu1(x, edge_index, edge_attr)\n",
    "\n",
    "        x, edge_attr = self.conv2(x, edge_index, edge_attr)\n",
    "        x, edge_attr = self.relu2(x, edge_index, edge_attr)\n",
    "\n",
    "        x, edge_attr = self.linear1(x, edge_index, edge_attr)\n",
    "        x, edge_attr = self.relu3(x, edge_index, edge_attr)\n",
    "\n",
    "        node_o, edge_o = self.linear_o(x, edge_index, edge_attr)\n",
    "        node_o, edge_o = self.log_softmax(node_o, edge_index, edge_o)\n",
    "        return node_o, edge_o\n",
    "\n",
    "class GoldenCluster(LightningModel):\n",
    "    def __init__(self, nn_conv1_out=64, nn_conv2_out=256, nn_linear_out=128, n_classes=5, **kwargs):\n",
    "        super().__init__(**kwargs)\n",
    "        self.conv1 = layers.GCNConvMSG(n_in_node=self.n_in_node, n_in_edge=self.n_in_edge, n_out=nn_conv1_out)\n",
    "        self.relu1 = layers.GCNRelu()\n",
    "        self.conv2 = layers.GCNConvMSG(n_in_node=nn_conv1_out, n_in_edge=nn_conv1_out, n_out=nn_conv2_out)\n",
    "        self.relu2 = layers.GCNRelu()\n",
    "\n",
    "        self.linear1 = layers.GCNLinear(nn_conv2_out, nn_conv2_out, nn_linear_out)\n",
    "        self.relu3 = layers.GCNRelu()\n",
    "\n",
    "        self.linear_o = layers.GCNLinear(nn_linear_out, nn_linear_out, 2)\n",
    "        self.cluster_linear = torch.nn.Linear(nn_linear_out, 3)\n",
    "\n",
    "    def forward(self, data : Data) -> Tensor:\n",
    "        x, edge_index, edge_attr = data.x, data.edge_index, data.edge_attr\n",
    "\n",
    "        x, edge_attr = self.conv1(x, edge_index, edge_attr)\n",
    "        x, edge_attr = self.relu1(x, edge_index, edge_attr)\n",
    "\n",
    "        x, edge_attr = self.conv2(x, edge_index, edge_attr)\n",
    "        x, edge_attr = self.relu2(x, edge_index, edge_attr)\n",
    "\n",
    "        x, edge_attr = self.linear1(x, edge_index, edge_attr)\n",
    "        x, edge_attr = self.relu3(x, edge_index, edge_attr)\n",
    "\n",
    "        (node_o, edge_o), cluster_o = self.linear_o(x, edge_index, edge_attr), self.cluster_linear(x)\n",
    "        node_o, edge_o, cluster_o = log_softmax(node_o, dim=-1), \\\n",
    "                                    log_softmax(edge_o, dim=-1), \\\n",
    "                                    log_softmax(cluster_o, dim=-1)\n",
    "        return node_o, edge_o, cluster_o\n",
    "\n",
    "    def shared_step(self, batch, batch_idx, tag=None):\n",
    "        node_o, edge_o, cluster_o = self(batch)\n",
    "        loss = gnn.node_losses.std_loss(self, node_o, batch) \\\n",
    "            +  gnn.edge_losses.std_loss(self, edge_o, batch) \\\n",
    "            +  self.type_weights[0]*nll_loss(cluster_o, batch.cluster_y, cluster_weights)\n",
    "\n",
    "        return dict(loss=loss)\n",
    "        "
   ]
  },
  {
   "cell_type": "code",
   "execution_count": 228,
   "id": "df4fcf37",
   "metadata": {},
   "outputs": [],
   "source": [
    "model = GoldenCluster(dataset=template)"
   ]
  },
  {
   "cell_type": "code",
   "execution_count": 229,
   "id": "d3451f36",
   "metadata": {},
   "outputs": [],
   "source": [
    "node_o, edge_o, cluster_o = model(data)"
   ]
  },
  {
   "cell_type": "code",
   "execution_count": 231,
   "id": "a1696304",
   "metadata": {},
   "outputs": [
    {
     "name": "stderr",
     "output_type": "stream",
     "text": [
      "GPU available: False, used: False\n",
      "TPU available: False, using: 0 TPU cores\n",
      "IPU available: False, using: 0 IPUs\n",
      "\n",
      "  | Name           | Type       | Params\n",
      "----------------------------------------------\n",
      "0 | conv1          | GCNConvMSG | 960   \n",
      "1 | relu1          | GCNRelu    | 0     \n",
      "2 | conv2          | GCNConvMSG | 49.4 K\n",
      "3 | relu2          | GCNRelu    | 0     \n",
      "4 | linear1        | GCNLinear  | 65.8 K\n",
      "5 | relu3          | GCNRelu    | 0     \n",
      "6 | linear_o       | GCNLinear  | 516   \n",
      "7 | cluster_linear | Linear     | 387   \n",
      "----------------------------------------------\n",
      "117 K     Trainable params\n",
      "0         Non-trainable params\n",
      "117 K     Total params\n",
      "0.468     Total estimated model params size (MB)\n"
     ]
    },
    {
     "name": "stdout",
     "output_type": "stream",
     "text": [
      "Epoch 9: 100%|██████████| 42/42 [00:06<00:00,  6.30it/s, loss=10.6, v_num=100]\n"
     ]
    }
   ],
   "source": [
    "from pytorch_lightning import Trainer\n",
    "\n",
    "trainer = Trainer(gpus=0, max_epochs=10)\n",
    "trainer.fit(model, trainloader, validloader)"
   ]
  },
  {
   "cell_type": "code",
   "execution_count": 232,
   "id": "4e89f982",
   "metadata": {},
   "outputs": [],
   "source": [
    "node_o, edge_o, cluster_o = model(data)"
   ]
  },
  {
   "cell_type": "code",
   "execution_count": 233,
   "id": "2efcf9bb",
   "metadata": {},
   "outputs": [
    {
     "data": {
      "text/plain": [
       "(tensor([0, 2, 1, 2, 1, 1, 2, 1, 2, 0]),\n",
       " tensor([0, 1, 1, 2, 2, 0, 1, 2, 0, 0]))"
      ]
     },
     "execution_count": 233,
     "metadata": {},
     "output_type": "execute_result"
    }
   ],
   "source": [
    "data.cluster_y, torch.exp(cluster_o).argmax(dim=-1)"
   ]
  },
  {
   "cell_type": "code",
   "execution_count": 223,
   "id": "bfc89999",
   "metadata": {},
   "outputs": [
    {
     "data": {
      "text/plain": [
       "tensor([[-0.3415, -1.3685, -3.3569],\n",
       "        [-5.2739, -0.8987, -0.5314],\n",
       "        [-4.4501, -0.5781, -0.8501],\n",
       "        [-1.5686, -1.5274, -0.5542],\n",
       "        [-3.4550, -0.6125, -0.8523],\n",
       "        [-0.1841, -2.6553, -2.3239],\n",
       "        [-2.8781, -0.6898, -0.8162],\n",
       "        [-2.3770, -0.8621, -0.7238],\n",
       "        [-1.7689, -1.0770, -0.7157],\n",
       "        [-0.0876, -3.2841, -3.0714]], grad_fn=<LogSoftmaxBackward>)"
      ]
     },
     "execution_count": 223,
     "metadata": {},
     "output_type": "execute_result"
    }
   ],
   "source": [
    "cluster_o"
   ]
  }
 ],
 "metadata": {
  "interpreter": {
   "hash": "0dc50badf6bcf34ee37feb4ddab24eb1b71716d96fc6cae89d10c22f5e3462c0"
  },
  "kernelspec": {
   "display_name": "Python 3.8.10 64-bit ('base': conda)",
   "name": "python3"
  },
  "language_info": {
   "codemirror_mode": {
    "name": "ipython",
    "version": 3
   },
   "file_extension": ".py",
   "mimetype": "text/x-python",
   "name": "python",
   "nbconvert_exporter": "python",
   "pygments_lexer": "ipython3",
   "version": "3.8.12"
  }
 },
 "nbformat": 4,
 "nbformat_minor": 5
}

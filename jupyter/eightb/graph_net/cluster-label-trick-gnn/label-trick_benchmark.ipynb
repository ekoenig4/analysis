{
 "cells": [
  {
   "cell_type": "code",
   "execution_count": 1,
   "id": "9bfa3b5a",
   "metadata": {},
   "outputs": [],
   "source": [
    "%load_ext autoreload\n",
    "%autoreload 2\n",
    "\n",
    "import os\n",
    "import sys\n",
    "import git\n",
    "\n",
    "import uproot as ut\n",
    "import awkward as ak\n",
    "import numpy as np\n",
    "import math\n",
    "import vector\n",
    "import sympy as sp\n",
    "\n",
    "import re\n",
    "from tqdm import tqdm\n",
    "import timeit\n",
    "import re\n",
    "\n",
    "sys.path.append( git.Repo('.', search_parent_directories=True).working_tree_dir )\n",
    "from utils import *"
   ]
  },
  {
   "cell_type": "code",
   "execution_count": 2,
   "id": "6edca911",
   "metadata": {},
   "outputs": [],
   "source": [
    "%load_ext line_profiler\n",
    "%load_ext memory_profiler"
   ]
  },
  {
   "cell_type": "code",
   "execution_count": 3,
   "id": "bda6a611",
   "metadata": {},
   "outputs": [],
   "source": [
    "import torch\n",
    "from torch_geometric.data import Data, DataLoader\n",
    "import torch.nn.functional as F\n",
    "from torch_geometric.nn import dense_diff_pool\n",
    "from torch import Tensor\n",
    "from typing import Tuple\n",
    "\n",
    "from torch_geometric.utils import to_networkx, negative_sampling\n",
    "import networkx as nx"
   ]
  },
  {
   "cell_type": "code",
   "execution_count": 4,
   "id": "33400175",
   "metadata": {},
   "outputs": [],
   "source": [
    "import utils.torchUtils as gnn\n",
    "from utils.torchUtils.cpp_geometric import layers"
   ]
  },
  {
   "cell_type": "code",
   "execution_count": 5,
   "id": "0c440a73",
   "metadata": {},
   "outputs": [],
   "source": [
    "dout='label-trick'"
   ]
  },
  {
   "cell_type": "code",
   "execution_count": 6,
   "id": "e2eae819",
   "metadata": {},
   "outputs": [],
   "source": [
    "# gnn.config.set_gpu(False)"
   ]
  },
  {
   "cell_type": "code",
   "execution_count": 7,
   "id": "19e7118f",
   "metadata": {},
   "outputs": [],
   "source": [
    "from torch_scatter import scatter_max\n",
    "from torch_geometric.data import Batch\n"
   ]
  },
  {
   "cell_type": "code",
   "execution_count": 8,
   "id": "019afdef",
   "metadata": {},
   "outputs": [],
   "source": [
    "from utils.torchUtils.gnn import sample_pair\n",
    "from utils.torchUtils import BaseTransform"
   ]
  },
  {
   "cell_type": "code",
   "execution_count": 9,
   "id": "2ba6d5f7",
   "metadata": {},
   "outputs": [],
   "source": [
    "class SampleCluster(BaseTransform):\n",
    "    def __init__(self, n_pairs=5):\n",
    "        super().__init__(n_pairs=n_pairs)\n",
    "        self.n_pairs = n_pairs\n",
    "    def __call__(self, data : Data) -> Data:\n",
    "        arange = torch.arange(data.num_nodes)\n",
    "        center = arange[torch.randint(data.num_nodes,(1,))]\n",
    "\n",
    "        clusters = torch.combinations(arange, 4).T\n",
    "        cluster_id = (data.node_id[clusters]+3)//4\n",
    "        from_X = torch.all(cluster_id > 0,dim=0)\n",
    "        from_Y = torch.all(cluster_id[0] == cluster_id[1:],dim=0)\n",
    "        cluster_y = from_X & from_Y\n",
    "        def _get_connected_clusters(cluster_idx):\n",
    "            cluster_idx = clusters[:,cluster_idx]\n",
    "            cluster_mask = (cluster_idx == center).any(dim=0)\n",
    "            cluster_idx = cluster_idx[:, cluster_mask]\n",
    "            return cluster_idx\n",
    "\n",
    "        neg_clusters = torch.where(~cluster_y)[0]\n",
    "        neg_clusters = _get_connected_clusters(neg_clusters)\n",
    "        neg_clusters = neg_clusters[:, torch.randperm(neg_clusters.shape[1])[:self.n_pairs]]\n",
    "\n",
    "        pos_clusters = neg_clusters[:,0]\n",
    "        if cluster_y.sum() > 0:\n",
    "            pos_clusters = torch.where(cluster_y)[0]\n",
    "            pos_clusters = _get_connected_clusters(pos_clusters)\n",
    "            if pos_clusters.shape[1] == 0:\n",
    "                pos_clusters = torch.where(cluster_y)[0]\n",
    "                pos_clusters = pos_clusters[torch.randint(pos_clusters.shape[0], (1,))]\n",
    "                pos_clusters = clusters[:, pos_clusters]\n",
    "\n",
    "        data.pos_index = pos_clusters.T.reshape(1, 4, -1)\n",
    "        data.neg_index = neg_clusters.T.reshape(self.n_pairs, 4, -1)        \n",
    "        return data"
   ]
  },
  {
   "cell_type": "code",
   "execution_count": 10,
   "id": "33ffe9f7",
   "metadata": {},
   "outputs": [],
   "source": [
    "import utils.torchUtils as gnn \n",
    "\n",
    "# min_edge = gnn.min_edge_neighbor(n_neighbor=2, function=lambda f:f**2)\n",
    "min_edge = gnn.min_edge_neighbor(n_neighbor=8, undirected=True)\n",
    "# min_edge = gnn.min_edge_neighbor(n_neighbor=8, undirected=True, features=2, function=None)\n",
    "# transform = gnn.Transform(gnn.SamplePair(n_pos=1, n_neg=5), min_edge)\n",
    "# transform = gnn.Transform(SampleCenter(), min_edge)\n",
    "transform = gnn.Transform(min_edge,SampleCluster())\n",
    "template = gnn.Dataset('../data/template',make_template=True, transform=transform)\n",
    "\n",
    "def load_training(fn='../data/MX_1000_MY_450-training', template=None):\n",
    "    transform = template.transform\n",
    "    dataset = gnn.Dataset(fn,transform=transform)[:9000]\n",
    "    training, validation = gnn.train_test_split(dataset, 0.2)\n",
    "    # training, validation = dataset[1800:], dataset[:1800]\n",
    "\n",
    "    batch_size = 100\n",
    "    trainloader = DataLoader(training, batch_size=batch_size, num_workers=gnn.config.ncpu)\n",
    "    validloader = DataLoader(validation, batch_size=batch_size, num_workers=gnn.config.ncpu)\n",
    "    return trainloader, validloader\n",
    "\n",
    "def load_testing(fn='../data/MX_1000_MY_450-testing', template=None):\n",
    "    transform = template.transform\n",
    "    sample = gnn.Dataset(fn, transform=transform)[:1000]\n",
    "    # sample = [ data for data in sample if data.edge_y.sum() > 0 ]\n",
    "    batch_size = 100\n",
    "    testloader = DataLoader(sample, batch_size=batch_size, num_workers=gnn.config.ncpu)\n",
    "    return testloader\n",
    "testloader = load_testing(template=template)\n",
    "trainloader, validloader  = load_training(template=template)"
   ]
  },
  {
   "cell_type": "code",
   "execution_count": 11,
   "id": "a3e3c53f",
   "metadata": {},
   "outputs": [],
   "source": [
    "data = next( data for data in testloader.dataset if data.y.sum() == 8 and data.num_nodes == 10)"
   ]
  },
  {
   "cell_type": "code",
   "execution_count": 12,
   "id": "9bfbe1cb",
   "metadata": {},
   "outputs": [
    {
     "data": {
      "text/plain": [
       "(<Figure size 384x360 with 1 Axes>, <AxesSubplot:>)"
      ]
     },
     "execution_count": 12,
     "metadata": {},
     "output_type": "execute_result"
    },
    {
     "data": {
      "image/png": "[encoded data removed]",
      "text/plain": [
       "<Figure size 384x360 with 1 Axes>"
      ]
     },
     "metadata": {},
     "output_type": "display_data"
    }
   ],
   "source": [
    "gnn.draw_data(data, data.edge_mask)"
   ]
  },
  {
   "cell_type": "code",
   "execution_count": 13,
   "id": "d95496f6",
   "metadata": {},
   "outputs": [],
   "source": [
    "for batch in trainloader: break\n"
   ]
  },
  {
   "cell_type": "code",
   "execution_count": 14,
   "id": "a1ffc6b6",
   "metadata": {},
   "outputs": [],
   "source": [
    "# loss='mismatched_bjet_loss'\n",
    "loss='std_loss'\n",
    "model = gnn.modelMap['golden_cluster'](dataset=template, loss=loss)"
   ]
  },
  {
   "cell_type": "code",
   "execution_count": 15,
   "id": "aa8c98b5",
   "metadata": {},
   "outputs": [
    {
     "name": "stderr",
     "output_type": "stream",
     "text": [
      "GPU available: True, used: True\n",
      "TPU available: False, using: 0 TPU cores\n",
      "IPU available: False, using: 0 IPUs\n",
      "LOCAL_RANK: 0 - CUDA_VISIBLE_DEVICES: [0]\n",
      "\n",
      "   | Name      | Type             | Params\n",
      "------------------------------------------------\n",
      "0  | embed_1   | GCNLinear        | 832   \n",
      "1  | conv_1    | GCNConvMask      | 12.4 K\n",
      "2  | norm_1    | GCNBatchNorm     | 256   \n",
      "3  | relu_1    | GCNRelu          | 0     \n",
      "4  | embed_2   | GCNLinear        | 16.6 K\n",
      "5  | conv_2    | GCNConvMask      | 49.3 K\n",
      "6  | norm_2    | GCNBatchNorm     | 512   \n",
      "7  | relu_2    | GCNRelu          | 0     \n",
      "8  | cluster_1 | ClusterPredictor | 49.2 K\n",
      "9  | relu_3    | ReLU             | 0     \n",
      "10 | readout   | Sequential       | 3.2 K \n",
      "------------------------------------------------\n",
      "132 K     Trainable params\n",
      "0         Non-trainable params\n",
      "132 K     Total params\n",
      "0.529     Total estimated model params size (MB)\n"
     ]
    },
    {
     "name": "stdout",
     "output_type": "stream",
     "text": [
      "Epoch 4: 100%|██████████| 90/90 [00:11<00:00,  7.85it/s, loss=1.85, v_num=1]\n"
     ]
    }
   ],
   "source": [
    "from pytorch_lightning import Trainer\n",
    "\n",
    "trainer = Trainer(max_epochs=5, gpus=1*gnn.config.ngpu)\n",
    "trainer.fit(model, trainloader, validloader)"
   ]
  },
  {
   "cell_type": "code",
   "execution_count": 16,
   "id": "e39729a4",
   "metadata": {},
   "outputs": [
    {
     "name": "stderr",
     "output_type": "stream",
     "text": [
      "LOCAL_RANK: 0 - CUDA_VISIBLE_DEVICES: [0]\n"
     ]
    },
    {
     "name": "stdout",
     "output_type": "stream",
     "text": [
      "Testing:  94%|█████████▍| 17/18 [00:02<00:00, 13.80it/s]--------------------------------------------------------------------------------\n",
      "DATALOADER:0 TEST RESULTS\n",
      "{'hits/test': 0.38777777552604675,\n",
      " 'loss/test': 1.84702730178833,\n",
      " 'maxhits/test': 0.38777777552604675}\n",
      "--------------------------------------------------------------------------------\n",
      "Testing: 100%|██████████| 18/18 [00:02<00:00,  6.13it/s]\n"
     ]
    },
    {
     "data": {
      "text/plain": [
       "[{'loss/test': 1.84702730178833,\n",
       "  'hits/test': 0.38777777552604675,\n",
       "  'maxhits/test': 0.38777777552604675}]"
      ]
     },
     "execution_count": 16,
     "metadata": {},
     "output_type": "execute_result"
    }
   ],
   "source": [
    "trainer.test(model, validloader)"
   ]
  },
  {
   "cell_type": "code",
   "execution_count": 17,
   "id": "ccd9fea4",
   "metadata": {},
   "outputs": [],
   "source": [
    "class predict_data(gnn.BaseTransform):\n",
    "    def __init__(self, model=model):\n",
    "        super().__init__()\n",
    "        self.model = model\n",
    "    def __call__(self, data : Data) -> Data:\n",
    "        arange = torch.arange(data.num_nodes)\n",
    "        clusters = torch.combinations(arange, 4)\n",
    "        def predict_cluster(data, cluster):\n",
    "            data = gnn.sample_cluster(data, cluster).to(self.model.device)\n",
    "            return self.model.predict(data)\n",
    "        cluster_o = torch.Tensor([predict_cluster(data, cluster) for cluster in clusters])\n",
    "        min_o, max_o = cluster_o.min(), cluster_o.max()\n",
    "        data.cluster_o = (cluster_o-min_o)/(max_o+min_o)\n",
    "        data.rank_o = data.cluster_o.argsort(descending=True).argsort()\n",
    "        cluster_id = (data.node_id[clusters.T]+3)//4\n",
    "        from_X = torch.all(cluster_id > 0,dim=0)\n",
    "        from_Y = torch.all(cluster_id[0] == cluster_id[1:],dim=0)\n",
    "        data.cluster_y = 1*(from_X & from_Y)\n",
    "        return data"
   ]
  },
  {
   "cell_type": "code",
   "execution_count": 18,
   "id": "2e0c9514",
   "metadata": {},
   "outputs": [],
   "source": [
    "def load_testing(fn='../data/MX_1000_MY_450-testing', template=None):\n",
    "    transform = template.transform + predict_data() + gnn.to_uptri_graph()\n",
    "    sample = gnn.Dataset(fn, transform=transform)[:1000]\n",
    "    batch_size = 100\n",
    "    testloader = DataLoader(sample, batch_size=batch_size, num_workers=gnn.config.ncpu)\n",
    "    return testloader\n",
    "testloader = load_testing(template=template)"
   ]
  },
  {
   "cell_type": "code",
   "execution_count": 27,
   "id": "84413952",
   "metadata": {},
   "outputs": [],
   "source": [
    "dataiter = iter( data for data in testloader.dataset if data.y.sum() == 8 and data.num_nodes == 10)"
   ]
  },
  {
   "cell_type": "code",
   "execution_count": 28,
   "id": "866807e1",
   "metadata": {},
   "outputs": [],
   "source": [
    "data = next(dataiter)"
   ]
  },
  {
   "cell_type": "code",
   "execution_count": 29,
   "id": "a5b428d0",
   "metadata": {},
   "outputs": [
    {
     "data": {
      "text/plain": [
       "Data(x=[10, 6], edge_index=[2, 45], edge_attr=[45, 5], y=[10], edge_y=[45], node_id=[10], edge_id=[45], edge_d=[45], edge_mask=[45], pos_index=[1, 4, 1], neg_index=[5, 4, 1], labeled=[1], cluster_index=[4, 1], cluster_y=[210], cluster_o=[210], rank_o=[210])"
      ]
     },
     "execution_count": 29,
     "metadata": {},
     "output_type": "execute_result"
    }
   ],
   "source": [
    "data"
   ]
  },
  {
   "cell_type": "code",
   "execution_count": 35,
   "id": "9ebc9a09",
   "metadata": {},
   "outputs": [
    {
     "data": {
      "text/plain": [
       "(<Figure size 720x360 with 2 Axes>, <AxesSubplot:ylabel='Events'>)"
      ]
     },
     "execution_count": 35,
     "metadata": {},
     "output_type": "execute_result"
    },
    {
     "data": {
      "image/png": "[encoded data removed]",
      "text/plain": [
       "<Figure size 720x360 with 2 Axes>"
      ]
     },
     "metadata": {
      "needs_background": "light"
     },
     "output_type": "display_data"
    }
   ],
   "source": [
    "fig,ax=plt.subplots(ncols=2, figsize=(10,5))\n",
    "hist_multi([data.cluster_o[data.cluster_y == 0], data.cluster_o[data.cluster_y==1]], bins=np.linspace(0,1,10),figax=(fig,ax[0]))\n",
    "hist_multi([data.rank_o[data.cluster_y == 0], data.rank_o[data.cluster_y==1]], errors=None, figax=(fig,ax[1]))"
   ]
  },
  {
   "cell_type": "code",
   "execution_count": 23,
   "id": "351e2f5b",
   "metadata": {},
   "outputs": [],
   "source": [
    "# colmap = {True:[0,0,0], False:[1,0,0]}\n",
    "# edge_color = torch.Tensor([ colmap[int(y)] for y in data.edge_mask ])\n",
    "\n",
    "# gnn.draw_data(data, edge_labels=data.rank_o, edge_mask=data.rank_o<15, edge_color=edge_color)"
   ]
  },
  {
   "cell_type": "code",
   "execution_count": null,
   "id": "17008e0b",
   "metadata": {},
   "outputs": [],
   "source": []
  },
  {
   "cell_type": "code",
   "execution_count": null,
   "id": "673a9da3",
   "metadata": {},
   "outputs": [],
   "source": []
  }
 ],
 "metadata": {
  "interpreter": {
   "hash": "0dc50badf6bcf34ee37feb4ddab24eb1b71716d96fc6cae89d10c22f5e3462c0"
  },
  "kernelspec": {
   "display_name": "Python 3.8.10 64-bit ('base': conda)",
   "name": "python3"
  },
  "language_info": {
   "codemirror_mode": {
    "name": "ipython",
    "version": 3
   },
   "file_extension": ".py",
   "mimetype": "text/x-python",
   "name": "python",
   "nbconvert_exporter": "python",
   "pygments_lexer": "ipython3",
   "version": "3.8.12"
  }
 },
 "nbformat": 4,
 "nbformat_minor": 5
}

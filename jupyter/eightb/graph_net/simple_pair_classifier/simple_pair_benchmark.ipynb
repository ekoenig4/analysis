{
 "cells": [
  {
   "cell_type": "code",
   "execution_count": 1,
   "id": "9bfa3b5a",
   "metadata": {},
   "outputs": [],
   "source": [
    "%load_ext autoreload\n",
    "%autoreload 2\n",
    "\n",
    "import os\n",
    "import sys\n",
    "import git\n",
    "\n",
    "import uproot as ut\n",
    "import awkward as ak\n",
    "import numpy as np\n",
    "import math\n",
    "import vector\n",
    "import sympy as sp\n",
    "\n",
    "import re\n",
    "from tqdm import tqdm\n",
    "import timeit\n",
    "import re\n",
    "\n",
    "sys.path.append( git.Repo('.', search_parent_directories=True).working_tree_dir )\n",
    "from utils import *"
   ]
  },
  {
   "cell_type": "code",
   "execution_count": 2,
   "id": "6edca911",
   "metadata": {},
   "outputs": [],
   "source": [
    "%load_ext line_profiler\n",
    "%load_ext memory_profiler"
   ]
  },
  {
   "cell_type": "code",
   "execution_count": 3,
   "id": "bda6a611",
   "metadata": {},
   "outputs": [],
   "source": [
    "import torch\n",
    "from torch_geometric.data import Data, DataLoader\n",
    "import torch.nn.functional as F\n",
    "from torch_geometric.nn import dense_diff_pool\n",
    "from torch import Tensor\n",
    "from typing import Tuple\n",
    "\n",
    "from torch_geometric.utils import to_networkx, negative_sampling\n",
    "import networkx as nx"
   ]
  },
  {
   "cell_type": "code",
   "execution_count": 4,
   "id": "33400175",
   "metadata": {},
   "outputs": [],
   "source": [
    "import utils.torchUtils as gnn\n",
    "from utils.torchUtils.cpp_geometric import layers"
   ]
  },
  {
   "cell_type": "code",
   "execution_count": 5,
   "id": "0c440a73",
   "metadata": {},
   "outputs": [],
   "source": [
    "dout='simple_pair'"
   ]
  },
  {
   "cell_type": "code",
   "execution_count": 6,
   "id": "e2eae819",
   "metadata": {},
   "outputs": [],
   "source": [
    "gnn.config.set_gpu(0)"
   ]
  },
  {
   "cell_type": "code",
   "execution_count": 7,
   "id": "19e7118f",
   "metadata": {},
   "outputs": [],
   "source": [
    "from torch_scatter import scatter_max\n",
    "from torch_geometric.data import Batch\n",
    "from torch.utils.data import Sampler\n"
   ]
  },
  {
   "cell_type": "code",
   "execution_count": 8,
   "id": "019afdef",
   "metadata": {},
   "outputs": [],
   "source": [
    "from utils.torchUtils.gnn import sample_pair\n",
    "from utils.torchUtils import BaseTransform"
   ]
  },
  {
   "cell_type": "code",
   "execution_count": 9,
   "id": "1c39a9b2",
   "metadata": {},
   "outputs": [],
   "source": [
    "subset='top8btag'"
   ]
  },
  {
   "cell_type": "code",
   "execution_count": 10,
   "id": "33ffe9f7",
   "metadata": {},
   "outputs": [],
   "source": [
    "import utils.torchUtils as gnn \n",
    "\n",
    "transform = None\n",
    "transform = gnn.Transform(gnn.SimplePair())\n",
    "template = gnn.Dataset(f'../data/template',make_template=True, transform=transform)\n",
    "\n",
    "sampler = None\n",
    "sampler = gnn.Require8B\n",
    "\n",
    "def load_training(fn=f'../data/{subset}/MX_1000_MY_450-training', template=None):\n",
    "    transform = template.transform\n",
    "    dataset = gnn.Dataset(fn,transform=transform)[:18000]\n",
    "    training, validation = gnn.train_test_split(dataset, 0.2)\n",
    "    # training, validation = dataset[1800:], dataset[:1800]\n",
    "\n",
    "    batch_size = 100\n",
    "    trainloader = DataLoader(training, batch_size=batch_size, num_workers=gnn.config.ncpu)\n",
    "    validloader = DataLoader(validation, batch_size=batch_size, num_workers=gnn.config.ncpu)\n",
    "    return trainloader, validloader\n",
    "\n",
    "def load_testing(fn=f'../data/{subset}/MX_1000_MY_450-testing', template=None):\n",
    "    transform = template.transform\n",
    "    sample = gnn.Dataset(fn, transform=transform)[:1000]\n",
    "    # sample = [ data for data in sample if data.edge_y.sum() > 0 ]\n",
    "    batch_size = 100\n",
    "    testloader = DataLoader(sample, batch_size=batch_size, num_workers=gnn.config.ncpu)\n",
    "    return testloader\n",
    "testloader = load_testing(template=template)\n",
    "trainloader, validloader  = load_training(template=template)"
   ]
  },
  {
   "cell_type": "code",
   "execution_count": 11,
   "id": "efe42a6d",
   "metadata": {},
   "outputs": [],
   "source": [
    "data = next(data for data in validloader.dataset)"
   ]
  },
  {
   "cell_type": "code",
   "execution_count": 12,
   "id": "e09ee474",
   "metadata": {},
   "outputs": [
    {
     "data": {
      "text/plain": [
       "Data(x=[8, 5], edge_index=[2, 64], edge_attr=[64, 5], y=[8], edge_y=[64], node_id=[8], edge_id=[64], pos_mask_index=[1, 64], neg_mask_index=[8, 64])"
      ]
     },
     "execution_count": 12,
     "metadata": {},
     "output_type": "execute_result"
    }
   ],
   "source": [
    "data"
   ]
  },
  {
   "cell_type": "code",
   "execution_count": 13,
   "id": "9bfbe1cb",
   "metadata": {},
   "outputs": [
    {
     "data": {
      "text/plain": [
       "(<Figure size 384x360 with 1 Axes>, <AxesSubplot:>)"
      ]
     },
     "execution_count": 13,
     "metadata": {},
     "output_type": "execute_result"
    },
    {
     "data": {
      "image/png": "[encoded data removed]",
      "text/plain": [
       "<Figure size 384x360 with 1 Axes>"
      ]
     },
     "metadata": {},
     "output_type": "display_data"
    }
   ],
   "source": [
    "gnn.draw_data(data, data.neg_mask_index[3]==1,)"
   ]
  },
  {
   "cell_type": "code",
   "execution_count": 14,
   "id": "a1ffc6b6",
   "metadata": {},
   "outputs": [],
   "source": [
    "# loss='mismatched_bjet_loss'\n",
    "loss='std_loss'\n",
    "model = gnn.modelMap['simple_pair'](dataset=template, loss=loss,  nn_embed_1=32, nn_embed_2=64, nn_out_1=32, nn_out_2=16)"
   ]
  },
  {
   "cell_type": "code",
   "execution_count": 15,
   "id": "fbbd2b63",
   "metadata": {},
   "outputs": [],
   "source": [
    "for batch in trainloader: batch"
   ]
  },
  {
   "cell_type": "code",
   "execution_count": 16,
   "id": "aa8c98b5",
   "metadata": {},
   "outputs": [
    {
     "name": "stderr",
     "output_type": "stream",
     "text": [
      "GPU available: False, used: False\n",
      "TPU available: False, using: 0 TPU cores\n",
      "IPU available: False, using: 0 IPUs\n",
      "2022-05-31 11:18:02.367752: W tensorflow/stream_executor/platform/default/dso_loader.cc:64] Could not load dynamic library 'libcudart.so.11.0'; dlerror: libcudart.so.11.0: cannot open shared object file: No such file or directory\n",
      "2022-05-31 11:18:02.367803: I tensorflow/stream_executor/cuda/cudart_stub.cc:29] Ignore above cudart dlerror if you do not have a GPU set up on your machine.\n",
      "\n",
      "  | Name       | Type             | Params\n",
      "------------------------------------------------\n",
      "0 | f_loss     | CrossEntropyLoss | 0     \n",
      "1 | node_embed | Linear           | 768   \n",
      "2 | edge_embed | Linear           | 768   \n",
      "3 | pair_1     | PairPredictor    | 98.6 K\n",
      "4 | readout    | Sequential       | 41.3 K\n",
      "------------------------------------------------\n",
      "141 K     Trainable params\n",
      "0         Non-trainable params\n",
      "141 K     Total params\n",
      "0.566     Total estimated model params size (MB)\n"
     ]
    },
    {
     "name": "stdout",
     "output_type": "stream",
     "text": [
      "Epoch 7:  73%|███████▎  | 132/180 [00:23<00:08,  5.56it/s, loss=0.901, v_num=20]"
     ]
    }
   ],
   "source": [
    "from pytorch_lightning import Trainer\n",
    "\n",
    "trainer = Trainer(max_epochs=10, gpus=1*gnn.config.ngpu)\n",
    "trainer.fit(model, trainloader, validloader)"
   ]
  },
  {
   "cell_type": "code",
   "execution_count": null,
   "id": "e39729a4",
   "metadata": {},
   "outputs": [
    {
     "name": "stdout",
     "output_type": "stream",
     "text": [
      "Testing: 100%|██████████| 4/4 [00:01<00:00,  4.26it/s]--------------------------------------------------------------------------------\n",
      "DATALOADER:0 TEST RESULTS\n",
      "{'auroc/test': 0.765625, 'hitk1/test': 0.25, 'loss/test': 1.1645050048828125}\n",
      "--------------------------------------------------------------------------------\n",
      "Testing: 100%|██████████| 4/4 [00:01<00:00,  3.43it/s]\n"
     ]
    }
   ],
   "source": [
    "trainer.test(model, validloader);"
   ]
  },
  {
   "cell_type": "code",
   "execution_count": null,
   "id": "106e7cde",
   "metadata": {},
   "outputs": [],
   "source": [
    "def select_quadH(data):\n",
    "    quadH_index = eightb.get_quadH_pairings()\n",
    "    dijets = torch.combinations(torch.arange(data.num_nodes), 2)\n",
    "    best_index = quadH_index[data.rank_o[quadH_index].sum(dim=-1).argmin()]\n",
    "    return dijets[best_index].T\n"
   ]
  },
  {
   "cell_type": "code",
   "execution_count": null,
   "id": "6097862f",
   "metadata": {},
   "outputs": [],
   "source": [
    "def select_dijets(data):\n",
    "    dijets = torch.combinations(torch.arange(data.num_nodes), 2)\n",
    "    rank_o = data.rank_o\n",
    "    selection = torch.LongTensor().reshape(2,0)\n",
    "    for _ in range(4):\n",
    "        top_dijet = dijets[rank_o.argmin()]\n",
    "        selection = torch.cat([selection,top_dijet.reshape(2,1)],dim=-1)\n",
    "        mask = (dijets.unsqueeze(2) != top_dijet).all(dim=-1).all(dim=-1)\n",
    "        rank_o = rank_o[mask]\n",
    "        dijets = dijets[mask]\n",
    "    return selection"
   ]
  },
  {
   "cell_type": "code",
   "execution_count": null,
   "id": "ccd9fea4",
   "metadata": {},
   "outputs": [],
   "source": [
    "class predict_data(gnn.BaseTransform):\n",
    "    def __init__(self, model=model):\n",
    "        super().__init__()\n",
    "        self.model = model.to('cpu')\n",
    "    def transform(self, data : Data) -> Data:\n",
    "        data.pair_mask = data.edge_index[0] < data.edge_index[1]\n",
    "        edge_o = self.model.predict(data)\n",
    "        min_o, max_o = edge_o.min(), edge_o.max()\n",
    "        data.edge_o = (edge_o-min_o)/(max_o+min_o)\n",
    "        data.rank_o = data.edge_o.argsort(descending=True).argsort()\n",
    "\n",
    "        # data.best_index = select_dijets(data)\n",
    "        data.best_index = select_quadH(data)\n",
    "\n",
    "        best_y = (data.node_id[data.best_index]+1)//2\n",
    "        data.best_y = 1*(best_y[0] == best_y[1])\n",
    "        return data"
   ]
  },
  {
   "cell_type": "code",
   "execution_count": null,
   "id": "cbd3c7ae",
   "metadata": {},
   "outputs": [],
   "source": [
    "gnn.config.set_gpu(0)"
   ]
  },
  {
   "cell_type": "code",
   "execution_count": null,
   "id": "2e0c9514",
   "metadata": {},
   "outputs": [],
   "source": [
    "def load_testing(fn=f'../data/{subset}/MX_1000_MY_450-testing', template=None):\n",
    "    transform = template.transform + predict_data() + gnn.to_uptri_graph()\n",
    "    sample = gnn.Dataset(fn, transform=transform)[:5000]\n",
    "    batch_size = 1\n",
    "    testloader = DataLoader(sample, batch_size=batch_size, num_workers=gnn.config.ncpu)\n",
    "    return testloader\n",
    "testloader = load_testing(template=template)"
   ]
  },
  {
   "cell_type": "code",
   "execution_count": null,
   "id": "cc35260b",
   "metadata": {},
   "outputs": [],
   "source": [
    "subset = [ data for data in testloader.dataset if testloader.sampler(data) ]"
   ]
  },
  {
   "cell_type": "code",
   "execution_count": null,
   "id": "17008e0b",
   "metadata": {},
   "outputs": [],
   "source": [
    "data = subset[0]"
   ]
  },
  {
   "cell_type": "code",
   "execution_count": null,
   "id": "673a9da3",
   "metadata": {},
   "outputs": [],
   "source": [
    "n_best = torch.LongTensor([ data.best_y.sum() for data in subset ])"
   ]
  },
  {
   "cell_type": "code",
   "execution_count": null,
   "id": "8c90294b",
   "metadata": {},
   "outputs": [
    {
     "data": {
      "text/plain": [
       "(<Figure size 384x360 with 1 Axes>, <AxesSubplot:ylabel='PDF'>)"
      ]
     },
     "execution_count": 67,
     "metadata": {},
     "output_type": "execute_result"
    },
    {
     "data": {
      "image/png": "[encoded data removed]",
      "text/plain": [
       "<Figure size 384x360 with 1 Axes>"
      ]
     },
     "metadata": {
      "needs_background": "light"
     },
     "output_type": "display_data"
    }
   ],
   "source": [
    "hist_multi([n_best], density=True)"
   ]
  },
  {
   "cell_type": "code",
   "execution_count": null,
   "id": "81de37f1",
   "metadata": {},
   "outputs": [
    {
     "data": {
      "text/plain": [
       "(<Figure size 384x360 with 1 Axes>, <AxesSubplot:ylabel='PDF'>)"
      ]
     },
     "execution_count": 46,
     "metadata": {},
     "output_type": "execute_result"
    },
    {
     "data": {
      "image/png": "[encoded data removed]",
      "text/plain": [
       "<Figure size 384x360 with 1 Axes>"
      ]
     },
     "metadata": {
      "needs_background": "light"
     },
     "output_type": "display_data"
    }
   ],
   "source": [
    "hist_multi([n_best], density=True)"
   ]
  },
  {
   "cell_type": "code",
   "execution_count": null,
   "id": "ce8f4308",
   "metadata": {},
   "outputs": [],
   "source": []
  }
 ],
 "metadata": {
  "interpreter": {
   "hash": "0dc50badf6bcf34ee37feb4ddab24eb1b71716d96fc6cae89d10c22f5e3462c0"
  },
  "kernelspec": {
   "display_name": "Python 3.8.10 64-bit ('base': conda)",
   "name": "python3"
  },
  "language_info": {
   "codemirror_mode": {
    "name": "ipython",
    "version": 3
   },
   "file_extension": ".py",
   "mimetype": "text/x-python",
   "name": "python",
   "nbconvert_exporter": "python",
   "pygments_lexer": "ipython3",
   "version": "3.8.12"
  }
 },
 "nbformat": 4,
 "nbformat_minor": 5
}

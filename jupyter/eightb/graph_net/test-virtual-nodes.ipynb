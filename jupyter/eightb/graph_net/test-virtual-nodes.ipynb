{
 "cells": [
  {
   "cell_type": "code",
   "execution_count": 1,
   "id": "ef215b25",
   "metadata": {},
   "outputs": [],
   "source": [
    "%load_ext autoreload\n",
    "%autoreload 2\n",
    "\n",
    "import os\n",
    "import sys\n",
    "import git\n",
    "\n",
    "import uproot as ut\n",
    "import awkward as ak\n",
    "import numpy as np\n",
    "import math\n",
    "import vector\n",
    "import sympy as sp\n",
    "\n",
    "import re\n",
    "from tqdm import tqdm\n",
    "import timeit\n",
    "\n",
    "sys.path.append( git.Repo('.', search_parent_directories=True).working_tree_dir )\n",
    "from utils import *\n",
    "\n",
    "import utils.torchUtils as gnn"
   ]
  },
  {
   "cell_type": "code",
   "execution_count": 2,
   "id": "490b020e",
   "metadata": {},
   "outputs": [],
   "source": [
    "from torch_geometric import transforms"
   ]
  },
  {
   "cell_type": "code",
   "execution_count": 52,
   "id": "a11a05a2",
   "metadata": {},
   "outputs": [],
   "source": [
    "import torch\n",
    "from torch import Tensor\n",
    "\n",
    "from torch_geometric.data import Data\n",
    "from torch_geometric.transforms import BaseTransform"
   ]
  },
  {
   "cell_type": "code",
   "execution_count": 99,
   "id": "c77b4d86",
   "metadata": {},
   "outputs": [],
   "source": [
    "class MotherNode(BaseTransform):\n",
    "    def __init__(self, level, y=-1, pairs=[], connects=-1):\n",
    "        self.level = level\n",
    "        self.y = y\n",
    "        self.y1, self.y2 = pairs\n",
    "        self.connects = connects\n",
    "        \n",
    "    def __call__(self, data: Data) -> Data:\n",
    "        num_nodes, (row, col) = data.num_nodes, data.edge_index\n",
    "        edge_type = data.get('edge_type', torch.zeros_like(row))\n",
    "        node_type = data.get('node_type', torch.zeros(num_nodes))\n",
    "\n",
    "        connected_nodes = node_type == self.connects\n",
    "        arange = torch.arange(num_nodes, device=row.device)[connected_nodes]\n",
    "        num_connected = len(arange)\n",
    "        \n",
    "        full = row.new_full((num_connected, ), num_nodes)\n",
    "        row = torch.cat([row, arange, full], dim=0)\n",
    "        col = torch.cat([col, full, arange], dim=0)\n",
    "        edge_index = torch.stack([row, col], dim=0)\n",
    "\n",
    "        new_type = edge_type.new_full((num_connected, ), self.level)\n",
    "        edge_type = torch.cat([edge_type, new_type, new_type], dim=0)\n",
    "        \n",
    "        new_type = node_type.new_full((1, ), self.level)\n",
    "        node_type = torch.cat([node_type, new_type], dim=0)\n",
    "\n",
    "        for key, value in data.items():\n",
    "            if key == 'edge_index' or key == 'edge_type':\n",
    "                continue\n",
    "\n",
    "            if isinstance(value, Tensor):\n",
    "                dim = data.__cat_dim__(key, value)\n",
    "                size = list(value.size())\n",
    "\n",
    "                fill_value = None\n",
    "                if data.is_edge_attr(key):\n",
    "                    size[dim] = 2 * num_connected\n",
    "                    fill_value = 0.\n",
    "                elif data.is_node_attr(key):\n",
    "                    size[dim] = 1\n",
    "                    fill_value = 0.\n",
    "                elif key == 'y':\n",
    "                    size[dim] = 1\n",
    "                    fill_value = self.y\n",
    "\n",
    "                if fill_value is not None:\n",
    "                    new_value = value.new_full(size, fill_value)\n",
    "                    data[key] = torch.cat([value, new_value], dim=dim)\n",
    "        \n",
    "\n",
    "        decays = (((data.y[row] == self.y) & (data.y[col] == self.y1)) | ((data.y[row] == self.y1) & (data.y[col] == self.y)) |\n",
    "                  ((data.y[row] == self.y) & (data.y[col] == self.y2)) | ((data.y[row] == self.y2) & (data.y[col] == self.y)))\n",
    "        data.edge_y = torch.where(decays, 1, data.edge_y)\n",
    "        data.edge_index = edge_index\n",
    "        data.edge_type = edge_type\n",
    "        data.node_type = node_type\n",
    "        if 'num_nodes' in data:\n",
    "            data.num_nodes = data.num_nodes + 1\n",
    "\n",
    "        return data\n"
   ]
  },
  {
   "cell_type": "code",
   "execution_count": 233,
   "id": "81c46617",
   "metadata": {},
   "outputs": [],
   "source": [
    "class XYY_YToHH_8b(BaseTransform):\n",
    "    def __init__(self):\n",
    "        self.feynman = gnn.Transform(\n",
    "            MotherNode(1, y=9, pairs=[1,2], connects=0),\n",
    "            MotherNode(1, y=10, pairs=[3,4], connects=0),\n",
    "            MotherNode(1, y=11, pairs=[5,6], connects=0),\n",
    "            MotherNode(1, y=12, pairs=[7,8], connects=0),\n",
    "\n",
    "            # MotherNode(2, y=13, pairs=[9,10], connects=1),\n",
    "            # MotherNode(2, y=14, pairs=[11,12], connects=1),\n",
    "\n",
    "            # MotherNode(3, y=15, pairs=[13,14], connects=2),\n",
    "        )\n",
    "    \n",
    "    def __call__(self, data : Data) -> Data:\n",
    "        return self.feynman(data)"
   ]
  },
  {
   "cell_type": "code",
   "execution_count": 234,
   "id": "136aee2b",
   "metadata": {},
   "outputs": [],
   "source": [
    "class SimplifyTruth(BaseTransform):\n",
    "    def __call__(self, data : Data) -> Data:\n",
    "        data.y = 1*(data.y > 0)\n",
    "        data.edge_y = 1*(data.edge_y > 0)\n",
    "        return data"
   ]
  },
  {
   "cell_type": "code",
   "execution_count": 235,
   "id": "8c3f6f8b",
   "metadata": {},
   "outputs": [],
   "source": [
    "template = gnn.Dataset('data/template',make_template=True,scale='raw', transform=gnn.Transform(XYY_YToHH_8b(),SimplifyTruth()))"
   ]
  },
  {
   "cell_type": "code",
   "execution_count": 236,
   "id": "886752fc",
   "metadata": {},
   "outputs": [],
   "source": [
    "dataset = gnn.Dataset('data/MX_700_MY_300-training',transform=template.transform)"
   ]
  },
  {
   "cell_type": "code",
   "execution_count": 237,
   "id": "42b80d02",
   "metadata": {},
   "outputs": [
    {
     "name": "stdout",
     "output_type": "stream",
     "text": [
      "449\n",
      "444\n"
     ]
    }
   ],
   "source": [
    "\n",
    "from torch_geometric.loader import DataLoader\n",
    "\n",
    "training,validation = gnn.train_test_split(dataset,0.99)\n",
    "print(len(training))\n",
    "\n",
    "validation, _ = gnn.train_test_split(validation, 0.99)\n",
    "print(len(validation))\n",
    "trainloader = DataLoader(training,batch_size=100,shuffle=True,num_workers=16)\n",
    "validloader = DataLoader(validation,batch_size=100,shuffle=True,num_workers=16)\n"
   ]
  },
  {
   "cell_type": "code",
   "execution_count": 238,
   "id": "c32b12ed",
   "metadata": {},
   "outputs": [],
   "source": [
    "model = gnn.GoldenGCN(template)"
   ]
  },
  {
   "cell_type": "code",
   "execution_count": null,
   "id": "8e5cb3c3",
   "metadata": {},
   "outputs": [],
   "source": [
    "import pytorch_lightning as pl\n",
    "from pytorch_lightning.callbacks.early_stopping import EarlyStopping\n",
    "from pytorch_lightning.callbacks import ModelCheckpoint\n",
    "\n",
    "trainer = pl.Trainer(\n",
    "    max_epochs=10,\n",
    "    gpus=1 if gnn.config.useGPU else 0,\n",
    "    # callbacks=[EarlyStopping(monitor=\"val_loss\")],\n",
    ")"
   ]
  },
  {
   "cell_type": "code",
   "execution_count": null,
   "id": "f3d1e621",
   "metadata": {},
   "outputs": [
    {
     "name": "stderr",
     "output_type": "stream",
     "text": [
      "\n",
      "  | Name         | Type          | Params\n",
      "-----------------------------------------------\n",
      "0 | conv1        | GCNConvMSG    | 480   \n",
      "1 | relu1        | GCNRelu       | 0     \n",
      "2 | conv2        | GCNConvMSG    | 20.6 K\n",
      "3 | relu2        | GCNRelu       | 0     \n",
      "4 | node_linear1 | NodeLinear    | 8.3 K \n",
      "5 | edge_linear1 | EdgeLinear    | 24.6 K\n",
      "6 | relu3        | GCNRelu       | 0     \n",
      "7 | node_linear2 | NodeLinear    | 130   \n",
      "8 | edge_linear2 | EdgeLinear    | 130   \n",
      "9 | log_softmax  | GCNLogSoftmax | 0     \n",
      "-----------------------------------------------\n",
      "54.2 K    Trainable params\n",
      "0         Non-trainable params\n",
      "54.2 K    Total params\n",
      "0.217     Total estimated model params size (MB)\n"
     ]
    },
    {
     "name": "stdout",
     "output_type": "stream",
     "text": [
      "Epoch 9: 100%|██████████| 10/10 [00:05<00:00,  1.74it/s, loss=32.1, v_num=1]   \n"
     ]
    }
   ],
   "source": [
    "fit = trainer.fit(model, trainloader, validloader)"
   ]
  },
  {
   "cell_type": "code",
   "execution_count": 207,
   "id": "e9373ebd",
   "metadata": {},
   "outputs": [],
   "source": [
    "graph = dataset[3]"
   ]
  },
  {
   "cell_type": "code",
   "execution_count": 208,
   "id": "4c57731e",
   "metadata": {},
   "outputs": [],
   "source": [
    "node_o, edge_o = model.predict(graph)"
   ]
  },
  {
   "cell_type": "code",
   "execution_count": 224,
   "id": "adcd5aac",
   "metadata": {},
   "outputs": [],
   "source": [
    "h_nodes = torch.where(graph.node_type == 1)[0]\n",
    "y_nodes = torch.where(graph.node_type == 2)[0]"
   ]
  },
  {
   "cell_type": "code",
   "execution_count": 231,
   "id": "6591304a",
   "metadata": {},
   "outputs": [],
   "source": [
    "h1_edge_mask = (graph.edge_index == h_nodes[0]).sum(axis=0) == 1"
   ]
  },
  {
   "cell_type": "code",
   "execution_count": 232,
   "id": "0bfad2ef",
   "metadata": {},
   "outputs": [
    {
     "data": {
      "text/plain": [
       "tensor([0.4153, 1.0000, 1.0000, 1.0000, 1.0000, 1.0000, 1.0000, 1.0000, 1.0000,\n",
       "        1.0000, 0.0000, 0.9884, 1.0000, 1.0000, 1.0000, 1.0000, 1.0000, 1.0000,\n",
       "        1.0000, 1.0000, 0.5932, 1.0000, 0.5932, 1.0000])"
      ]
     },
     "execution_count": 232,
     "metadata": {},
     "output_type": "execute_result"
    }
   ],
   "source": [
    "edge_o[h1_edge_mask]"
   ]
  },
  {
   "cell_type": "code",
   "execution_count": 194,
   "id": "bf786092",
   "metadata": {},
   "outputs": [
    {
     "data": {
      "text/plain": [
       "tensor([False, False, False, False, False, False, False, False, False, False,\n",
       "        False, False, False, False, False, False, False, False, False, False,\n",
       "        False, False, False, False, False, False, False, False, False, False,\n",
       "        False, False, False, False, False, False, False, False, False, False,\n",
       "        False, False, False, False, False, False, False, False, False, False,\n",
       "        False, False, False, False, False, False, False, False, False, False,\n",
       "        False, False, False, False, False, False, False, False, False, False,\n",
       "        False, False, False, False, False, False, False, False, False, False,\n",
       "        False, False, False, False, False, False, False, False, False, False,\n",
       "        False, False, False, False, False, False, False, False, False, False,\n",
       "         True,  True,  True,  True,  True,  True,  True,  True,  True,  True,\n",
       "         True,  True,  True,  True,  True,  True,  True,  True,  True,  True,\n",
       "        False, False, False, False, False, False, False, False, False, False,\n",
       "        False, False, False, False, False, False, False, False, False, False,\n",
       "        False, False, False, False, False, False, False, False, False, False,\n",
       "        False, False, False, False, False, False, False, False, False, False,\n",
       "        False, False, False, False, False, False, False, False, False, False,\n",
       "        False, False, False, False, False, False, False, False, False, False,\n",
       "         True, False, False, False,  True, False, False, False,  True, False,\n",
       "        False, False,  True, False, False, False, False, False, False, False])"
      ]
     },
     "execution_count": 194,
     "metadata": {},
     "output_type": "execute_result"
    }
   ],
   "source": [
    "graph"
   ]
  },
  {
   "cell_type": "code",
   "execution_count": 175,
   "id": "9ef5d515",
   "metadata": {},
   "outputs": [
    {
     "data": {
      "text/plain": [
       "tensor([1, 1, 1, 1, 1, 0, 1, 1, 1, 1, 1, 1, 1, 1, 1])"
      ]
     },
     "execution_count": 175,
     "metadata": {},
     "output_type": "execute_result"
    }
   ],
   "source": [
    "dataset[0].y"
   ]
  }
 ],
 "metadata": {
  "interpreter": {
   "hash": "0dc50badf6bcf34ee37feb4ddab24eb1b71716d96fc6cae89d10c22f5e3462c0"
  },
  "kernelspec": {
   "display_name": "Python 3.8.10 64-bit ('base': conda)",
   "name": "python3"
  },
  "language_info": {
   "codemirror_mode": {
    "name": "ipython",
    "version": 3
   },
   "file_extension": ".py",
   "mimetype": "text/x-python",
   "name": "python",
   "nbconvert_exporter": "python",
   "pygments_lexer": "ipython3",
   "version": "3.8.12"
  }
 },
 "nbformat": 4,
 "nbformat_minor": 5
}

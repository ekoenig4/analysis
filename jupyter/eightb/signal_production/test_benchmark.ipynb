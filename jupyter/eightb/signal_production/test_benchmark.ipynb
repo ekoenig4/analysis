{
 "cells": [
  {
   "cell_type": "code",
   "execution_count": 1,
   "id": "9bfa3b5a",
   "metadata": {},
   "outputs": [],
   "source": [
    "%load_ext autoreload\n",
    "%autoreload 2\n",
    "\n",
    "import os\n",
    "os.environ['KMP_WARNINGS'] = 'off'\n",
    "import sys\n",
    "import git\n",
    "\n",
    "import uproot as ut\n",
    "import awkward as ak\n",
    "import numpy as np\n",
    "import math\n",
    "import vector\n",
    "import sympy as sp\n",
    "\n",
    "import re\n",
    "from tqdm import tqdm\n",
    "import timeit\n",
    "import re\n",
    "\n",
    "sys.path.append( git.Repo('.', search_parent_directories=True).working_tree_dir )\n",
    "from utils import *"
   ]
  },
  {
   "cell_type": "code",
   "execution_count": 2,
   "id": "6edca911",
   "metadata": {},
   "outputs": [],
   "source": [
    "%load_ext line_profiler\n",
    "%load_ext memory_profiler"
   ]
  },
  {
   "cell_type": "code",
   "execution_count": 3,
   "id": "35308158",
   "metadata": {},
   "outputs": [],
   "source": [
    "module = fc.eightb.preselection.t8btag_minmass"
   ]
  },
  {
   "cell_type": "code",
   "execution_count": 4,
   "id": "15b89899",
   "metadata": {},
   "outputs": [
    {
     "name": "stderr",
     "output_type": "stream",
     "text": [
      "100%|██████████| 1/1 [00:01<00:00,  1.56s/it]\n",
      "100%|██████████| 1/1 [00:01<00:00,  1.62s/it]\n",
      "100%|██████████| 1/1 [00:01<00:00,  1.57s/it]\n",
      "100%|██████████| 1/1 [00:01<00:00,  1.75s/it]\n",
      "100%|██████████| 1/1 [00:01<00:00,  1.51s/it]\n",
      "100%|██████████| 1/1 [00:01<00:00,  1.47s/it]\n",
      "100%|██████████| 1/1 [00:01<00:00,  1.50s/it]\n",
      "100%|██████████| 1/1 [00:01<00:00,  1.48s/it]\n"
     ]
    }
   ],
   "source": [
    "signal = ObjIter([Tree(f) for f in module.full_signal_list])"
   ]
  },
  {
   "cell_type": "code",
   "execution_count": 9,
   "id": "360c98ff",
   "metadata": {},
   "outputs": [],
   "source": [
    "def get_mass(t):\n",
    "    return t.sample.split('_')[1::2]\n",
    "\n",
    "mass_points = signal.apply(get_mass).npy.astype(int)"
   ]
  },
  {
   "cell_type": "code",
   "execution_count": 32,
   "id": "17ec3b85",
   "metadata": {},
   "outputs": [],
   "source": [
    "wp_points = np.array([\n",
    "    [700,300],\n",
    "    [1000,450],\n",
    "    [1200,500]\n",
    "])"
   ]
  },
  {
   "cell_type": "code",
   "execution_count": 43,
   "id": "0a6796cf",
   "metadata": {},
   "outputs": [
    {
     "data": {
      "image/png": "[encoded data removed]",
      "text/plain": [
       "<Figure size 432x288 with 1 Axes>"
      ]
     },
     "metadata": {
      "needs_background": "light"
     },
     "output_type": "display_data"
    }
   ],
   "source": [
    "fig, ax = plt.subplots()\n",
    "\n",
    "graph_array(mass_points[:,0], mass_points[:,1], g_linestyle='None', figax='same', g_color='blue', g_label='Available Points')\n",
    "graph_array(wp_points[:,0], wp_points[:,1], g_linestyle='None', figax='same', g_color='red', g_label='Currently Investigating')\n",
    "\n",
    "X = np.linspace(500, 14000, 100)\n",
    "Xhi = 1400*np.ones_like(X)\n",
    "\n",
    "Ylo = 2*125*np.ones_like(X)\n",
    "Yhi = X/2\n",
    "\n",
    "\n",
    "graph_array(X, Ylo, figax='same', g_color='black')\n",
    "graph_array(X, Yhi, figax='same', g_color='black')\n",
    "# graph_array(Xhi, Yhi, figax='same', g_color='black')\n",
    "\n",
    "ax.set(xlim=(0,1500), ylim=(0,800), xlabel='$M_{X}$ [GeV]', ylabel='$M_{Y}$ [GeV]')\n",
    "ax.legend()\n",
    "\n",
    "fig.suptitle(\"Privately Produced X$\\\\rightarrow$ YY$\\\\rightarrow$4H$\\\\rightarrow$8b\")\n",
    "\n",
    "study.save_fig(fig, saveas='mass_points')"
   ]
  },
  {
   "cell_type": "code",
   "execution_count": null,
   "id": "a3791b58",
   "metadata": {},
   "outputs": [],
   "source": []
  }
 ],
 "metadata": {
  "interpreter": {
   "hash": "99d8ad6568882febb6ca5d1c2307614594cf6684ed0ce2b9f63bf31341fdb3d5"
  },
  "kernelspec": {
   "display_name": "Python 3.9.0 ('py-env')",
   "language": "python",
   "name": "python3"
  },
  "language_info": {
   "codemirror_mode": {
    "name": "ipython",
    "version": 3
   },
   "file_extension": ".py",
   "mimetype": "text/x-python",
   "name": "python",
   "nbconvert_exporter": "python",
   "pygments_lexer": "ipython3",
   "version": "3.9.13"
  }
 },
 "nbformat": 4,
 "nbformat_minor": 5
}

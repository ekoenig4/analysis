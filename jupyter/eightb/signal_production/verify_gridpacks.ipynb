{
 "cells": [
  {
   "cell_type": "code",
   "execution_count": 1,
   "id": "9bfa3b5a",
   "metadata": {},
   "outputs": [],
   "source": [
    "%load_ext autoreload\n",
    "%autoreload 2\n",
    "\n",
    "import os\n",
    "os.environ['KMP_WARNINGS'] = 'off'\n",
    "import sys\n",
    "import git\n",
    "\n",
    "import uproot as ut\n",
    "import awkward as ak\n",
    "import numpy as np\n",
    "import math\n",
    "import vector\n",
    "import sympy as sp\n",
    "\n",
    "import re\n",
    "from tqdm import tqdm\n",
    "import timeit\n",
    "import re\n",
    "\n",
    "sys.path.append( git.Repo('.', search_parent_directories=True).working_tree_dir )\n",
    "from utils import *"
   ]
  },
  {
   "cell_type": "code",
   "execution_count": 2,
   "id": "8f311749",
   "metadata": {},
   "outputs": [],
   "source": [
    "testfile = '/uscms_data/d3/ekoenig/8BAnalysis/gridpack_generation/validation/CMSSW_10_6_30_patch1/src/GENKinematics/GenKinematics/output.root'"
   ]
  },
  {
   "cell_type": "code",
   "execution_count": 3,
   "id": "658a1568",
   "metadata": {},
   "outputs": [
    {
     "name": "stderr",
     "output_type": "stream",
     "text": [
      "100%|██████████| 1/1 [00:00<00:00,  5.39it/s]\n"
     ]
    }
   ],
   "source": [
    "trees = ObjIter([Tree(testfile, treename='tree', normalization=None)])"
   ]
  },
  {
   "cell_type": "code",
   "execution_count": 4,
   "id": "1ba9cc24",
   "metadata": {},
   "outputs": [
    {
     "data": {
      "text/plain": [
       "['genParticles_charge',\n",
       " 'genParticles_daughters',\n",
       " 'genParticles_e',\n",
       " 'genParticles_eta',\n",
       " 'genParticles_fromHardProcess',\n",
       " 'genParticles_fromHardProcessBeforeFSR',\n",
       " 'genParticles_fromHardProcessDecayed',\n",
       " 'genParticles_fromHardProcessFinalState',\n",
       " 'genParticles_isDecayedLeptonHadron',\n",
       " 'genParticles_isDirectHadronDecayProduct',\n",
       " 'genParticles_isDirectHardProcessTauDecayProduct',\n",
       " 'genParticles_isDirectHardProcessTauDecayProductFinalState',\n",
       " 'genParticles_isDirectPromptTauDecayProduct',\n",
       " 'genParticles_isDirectPromptTauDecayProductFinalState',\n",
       " 'genParticles_isDirectTauDecayProduct',\n",
       " 'genParticles_isFirstCopy',\n",
       " 'genParticles_isHardProcess',\n",
       " 'genParticles_isHardProcessTauDecayProduct',\n",
       " 'genParticles_isLastCopy',\n",
       " 'genParticles_isLastCopyBeforeFSR',\n",
       " 'genParticles_isPrompt',\n",
       " 'genParticles_isPromptDecayed',\n",
       " 'genParticles_isPromptFinalState',\n",
       " 'genParticles_isPromptTauDecayProduct',\n",
       " 'genParticles_isTauDecayProduct',\n",
       " 'genParticles_mothers',\n",
       " 'genParticles_pdgId',\n",
       " 'genParticles_phi',\n",
       " 'genParticles_pt',\n",
       " 'genParticles_status']"
      ]
     },
     "execution_count": 4,
     "metadata": {},
     "output_type": "execute_result"
    }
   ],
   "source": [
    "list(filter(lambda f : 'genParticles' in f,sorted(trees[0].fields)))"
   ]
  },
  {
   "cell_type": "code",
   "execution_count": 9,
   "id": "a0e7dfd4",
   "metadata": {},
   "outputs": [],
   "source": [
    "tree = trees[0][:10]"
   ]
  },
  {
   "cell_type": "code",
   "execution_count": 10,
   "id": "333ad225",
   "metadata": {},
   "outputs": [],
   "source": [
    "X_fc_mask = (tree.genParticles_pdgId == 45) & (tree.genParticles_isLastCopy)\n",
    "Y_fc_mask = (tree.genParticles_pdgId == 35) & (tree.genParticles_isLastCopy)\n",
    "H_fc_mask = (tree.genParticles_pdgId == 25) & (tree.genParticles_isLastCopy)\n",
    "b_fc_mask = ( abs(tree.genParticles_pdgId) == 5) & (tree.genParticles_isLastCopy)"
   ]
  },
  {
   "cell_type": "code",
   "execution_count": 12,
   "id": "480de6bc",
   "metadata": {},
   "outputs": [],
   "source": [
    "tree.genParticles_mothers"
   ]
  }
 ],
 "metadata": {
  "kernelspec": {
   "display_name": "Python 3.9.15 ('py-env')",
   "language": "python",
   "name": "python3"
  },
  "language_info": {
   "codemirror_mode": {
    "name": "ipython",
    "version": 3
   },
   "file_extension": ".py",
   "mimetype": "text/x-python",
   "name": "python",
   "nbconvert_exporter": "python",
   "pygments_lexer": "ipython3",
   "version": "3.9.15"
  },
  "vscode": {
   "interpreter": {
    "hash": "99d8ad6568882febb6ca5d1c2307614594cf6684ed0ce2b9f63bf31341fdb3d5"
   }
  }
 },
 "nbformat": 4,
 "nbformat_minor": 5
}

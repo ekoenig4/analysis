{
 "cells": [
  {
   "cell_type": "code",
   "execution_count": 1,
   "id": "9bfa3b5a",
   "metadata": {},
   "outputs": [],
   "source": [
    "%load_ext autoreload\n",
    "%autoreload 2\n",
    "\n",
    "import os\n",
    "import sys\n",
    "import git\n",
    "\n",
    "import uproot as ut\n",
    "import awkward as ak\n",
    "import numpy as np\n",
    "import math\n",
    "import vector\n",
    "import sympy as sp\n",
    "\n",
    "import re\n",
    "from tqdm import tqdm\n",
    "import timeit\n",
    "import re\n",
    "\n",
    "sys.path.append( git.Repo('.', search_parent_directories=True).working_tree_dir )\n",
    "from utils import *"
   ]
  },
  {
   "cell_type": "code",
   "execution_count": 2,
   "id": "6edca911",
   "metadata": {},
   "outputs": [],
   "source": [
    "%load_ext line_profiler\n",
    "%load_ext memory_profiler"
   ]
  },
  {
   "cell_type": "code",
   "execution_count": 3,
   "id": "583f5801",
   "metadata": {},
   "outputs": [],
   "source": [
    "tree = Tree(fc.eightb.preselection.NMSSM_XYY_YToHH_8b_MX_1000_MY_450)"
   ]
  },
  {
   "cell_type": "code",
   "execution_count": 139,
   "id": "5593f837",
   "metadata": {},
   "outputs": [],
   "source": [
    "tree = EventFilter('all eightb',nfound_select=8).filter(tree)"
   ]
  },
  {
   "cell_type": "code",
   "execution_count": 4,
   "id": "910e861d",
   "metadata": {},
   "outputs": [],
   "source": [
    "varinfo.clear()"
   ]
  },
  {
   "cell_type": "code",
   "execution_count": 5,
   "id": "529fdb36",
   "metadata": {},
   "outputs": [],
   "source": [
    "build_collection(tree, r'H\\dY\\d','higgs', True)"
   ]
  },
  {
   "cell_type": "code",
   "execution_count": 6,
   "id": "bc8b4b24",
   "metadata": {},
   "outputs": [],
   "source": [
    "pair_index = combinations(4, [2,2]).T"
   ]
  },
  {
   "cell_type": "code",
   "execution_count": 7,
   "id": "7349b322",
   "metadata": {},
   "outputs": [],
   "source": [
    "higgs = get_collection(tree,'higgs',False)"
   ]
  },
  {
   "cell_type": "code",
   "execution_count": 8,
   "id": "f84a3ea1",
   "metadata": {},
   "outputs": [],
   "source": [
    "higgs_signalId = (higgs.b1_genHflag>-1) & (higgs.b1_genHflag == higgs.b2_genHflag)\n",
    "higgs_signalId = ak.where(higgs_signalId, higgs.b1_genHflag, -1)\n",
    "higgs = join_fields(higgs, signalId=higgs_signalId)"
   ]
  },
  {
   "cell_type": "code",
   "execution_count": 9,
   "id": "e5512669",
   "metadata": {},
   "outputs": [],
   "source": [
    "combs = [ higgs[:,pair_index[:,i]] for i in range(2) ]"
   ]
  },
  {
   "cell_type": "code",
   "execution_count": 10,
   "id": "c5b1f31d",
   "metadata": {},
   "outputs": [],
   "source": [
    "comb_p4 = [ build_p4(y[:,0])+build_p4(y[:,1]) for y in combs ]"
   ]
  },
  {
   "cell_type": "code",
   "execution_count": 16,
   "id": "6671e5a2",
   "metadata": {},
   "outputs": [],
   "source": [
    "dphi = calc_dphi(comb_p4[0].phi, comb_p4[1].phi)\n",
    "deta = calc_deta(comb_p4[0].eta, comb_p4[1].eta)\n",
    "dr = np.sqrt( deta**2 + dphi**2 )\n",
    "asym = np.abs(comb_p4[0].m - comb_p4[1].m)/(comb_p4[0].m+comb_p4[1].m)"
   ]
  },
  {
   "cell_type": "code",
   "execution_count": 12,
   "id": "f60fb1bc",
   "metadata": {},
   "outputs": [],
   "source": [
    "combs_signalId = [ (y.signalId[:,0]>-1) & ((y.signalId[:,0]+2)//2 == (y.signalId[:,1]+2)//2) for y in combs ]\n",
    "combs_signalId = [ ak.where(signalId, (y.signalId[:,0]+2)//2 - 1, -1) for signalId, y in zip(combs_signalId, combs)]"
   ]
  },
  {
   "cell_type": "code",
   "execution_count": 13,
   "id": "d424a97d",
   "metadata": {},
   "outputs": [],
   "source": [
    "n_true = ak.from_regular(1*(combs_signalId[0]>-1)+1*(combs_signalId[1]>-1))"
   ]
  },
  {
   "cell_type": "code",
   "execution_count": 17,
   "id": "91ec57b2",
   "metadata": {},
   "outputs": [],
   "source": [
    "max_dphi = ak.from_regular(ak.argmax(dphi, axis=-1, keepdims=True))\n",
    "max_dr = ak.from_regular(ak.argmax(dr, axis=-1, keepdims=True))\n",
    "min_asym = ak.from_regular(ak.argmin(asym, axis=-1, keepdims=True))"
   ]
  },
  {
   "cell_type": "code",
   "execution_count": 19,
   "id": "0e00514a",
   "metadata": {},
   "outputs": [
    {
     "data": {
      "text/plain": [
       "(<Figure size 468x468 with 2 Axes>, <AxesSubplot:ylabel='Events'>)"
      ]
     },
     "execution_count": 19,
     "metadata": {},
     "output_type": "execute_result"
    },
    {
     "data": {
      "image/png": "[encoded data removed]",
      "text/plain": [
       "<Figure size 468x468 with 2 Axes>"
      ]
     },
     "metadata": {
      "needs_background": "light"
     },
     "output_type": "display_data"
    }
   ],
   "source": [
    "hist_multi([n_true[max_dphi],n_true[min_asym],n_true[max_dr]], ratio=True)"
   ]
  },
  {
   "cell_type": "code",
   "execution_count": null,
   "id": "5836d56b",
   "metadata": {},
   "outputs": [],
   "source": []
  }
 ],
 "metadata": {
  "interpreter": {
   "hash": "0dc50badf6bcf34ee37feb4ddab24eb1b71716d96fc6cae89d10c22f5e3462c0"
  },
  "kernelspec": {
   "display_name": "Python 3.8.10 64-bit ('base': conda)",
   "name": "python3"
  },
  "language_info": {
   "codemirror_mode": {
    "name": "ipython",
    "version": 3
   },
   "file_extension": ".py",
   "mimetype": "text/x-python",
   "name": "python",
   "nbconvert_exporter": "python",
   "pygments_lexer": "ipython3",
   "version": "3.8.12"
  }
 },
 "nbformat": 4,
 "nbformat_minor": 5
}

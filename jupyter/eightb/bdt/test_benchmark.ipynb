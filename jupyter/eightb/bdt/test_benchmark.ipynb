{
 "cells": [
  {
   "cell_type": "code",
   "execution_count": 1,
   "id": "9bfa3b5a",
   "metadata": {},
   "outputs": [
    {
     "name": "stderr",
     "output_type": "stream",
     "text": [
      "/uscms_data/d3/ekoenig/miniforge3/lib/python3.9/site-packages/tqdm/auto.py:22: TqdmWarning: IProgress not found. Please update jupyter and ipywidgets. See https://ipywidgets.readthedocs.io/en/stable/user_install.html\n",
      "  from .autonotebook import tqdm as notebook_tqdm\n"
     ]
    }
   ],
   "source": [
    "%load_ext autoreload\n",
    "%autoreload 2\n",
    "\n",
    "import os\n",
    "os.environ['KMP_WARNINGS'] = 'off'\n",
    "import sys\n",
    "import git\n",
    "\n",
    "import uproot as ut\n",
    "import awkward as ak\n",
    "import numpy as np\n",
    "import math\n",
    "import vector\n",
    "import sympy as sp\n",
    "\n",
    "import re\n",
    "from tqdm import tqdm\n",
    "import timeit\n",
    "import re\n",
    "\n",
    "sys.path.append( git.Repo('.', search_parent_directories=True).working_tree_dir )\n",
    "from utils import *"
   ]
  },
  {
   "cell_type": "code",
   "execution_count": 2,
   "id": "6edca911",
   "metadata": {},
   "outputs": [],
   "source": [
    "%load_ext line_profiler\n",
    "%load_ext memory_profiler"
   ]
  },
  {
   "cell_type": "code",
   "execution_count": 12,
   "id": "8ab29452",
   "metadata": {},
   "outputs": [],
   "source": [
    "data = ObjIter([Tree(fc.eightb.preselection.QCD_B_List)])"
   ]
  },
  {
   "cell_type": "code",
   "execution_count": 13,
   "id": "9b25f08d",
   "metadata": {},
   "outputs": [
    {
     "data": {
      "text/plain": [
       "[None]"
      ]
     },
     "execution_count": 13,
     "metadata": {},
     "output_type": "execute_result"
    }
   ],
   "source": [
    "def preprocess(tree):\n",
    "  h_dm = ak_stack([ np.abs(tree[f'{h}_m']-125) for h in eightb.higgslist])\n",
    "  h_max_dm = ak.max(h_dm, axis=-1)\n",
    "\n",
    "  btags = ak_stack([ tree[f'{b}_btag'] for b in eightb.quarklist ])\n",
    "  n_medium_btag = ak.sum( btags>jet_btagWP[2], axis=-1)\n",
    "  tree.extend(h_max_dm=h_max_dm,n_medium_btag=n_medium_btag)\n",
    "data.apply(preprocess)"
   ]
  },
  {
   "cell_type": "code",
   "execution_count": 29,
   "id": "1d51e011",
   "metadata": {},
   "outputs": [],
   "source": [
    "feature_names = ['X_m','X_pt','X_eta','X_phi']\n",
    "rs = {\"a\":lambda t : (t.n_medium_btag >= 4) & (t.h_max_dm < 20),\n",
    "    \"b\":lambda t : (t.n_medium_btag <  4) & (t.h_max_dm < 20),\n",
    "    \"c\":lambda t : (t.n_medium_btag >= 4) & (t.h_max_dm > 20),\n",
    "    \"d\":lambda t : (t.n_medium_btag <  4) & (t.h_max_dm > 20),}"
   ]
  },
  {
   "cell_type": "code",
   "execution_count": 30,
   "id": "7f0024b7",
   "metadata": {},
   "outputs": [],
   "source": [
    "X = \n",
    "W = data['scale'].cat"
   ]
  },
  {
   "cell_type": "code",
   "execution_count": 31,
   "id": "a0c59513",
   "metadata": {},
   "outputs": [],
   "source": [
    "R = { r:data.apply(r_).cat for r,r_ in rs.items() }"
   ]
  },
  {
   "cell_type": "code",
   "execution_count": 36,
   "id": "5619c0b8",
   "metadata": {},
   "outputs": [],
   "source": [
    "get_r = lambda r: (X[R[r]], W[R[r]])"
   ]
  },
  {
   "cell_type": "code",
   "execution_count": 38,
   "id": "9754bcc4",
   "metadata": {},
   "outputs": [],
   "source": [
    "x_a, w_a = get_r('a')\n",
    "x_b, w_b = get_r('b')\n",
    "x_c, w_c = get_r('c')\n",
    "x_d, w_d = get_r('d')\n"
   ]
  },
  {
   "cell_type": "code",
   "execution_count": 56,
   "id": "59526ace",
   "metadata": {},
   "outputs": [],
   "source": [
    "from hep_ml import reweight\n",
    "\n",
    "class BDT:\n",
    "  def __init__(self, n_estimators=50, learning_rate=0.1, max_depth=2, min_samples_leaf=100, gb_args={'subsample':0.4}, n_folds=2):\n",
    "    np.random.seed(1234) #Fix any random seed using numpy arrays\n",
    "\n",
    "    reweighter_base = reweight.GBReweighter(\n",
    "        n_estimators=n_estimators, \n",
    "        learning_rate=learning_rate, \n",
    "        max_depth=max_depth, \n",
    "        min_samples_leaf=min_samples_leaf,\n",
    "        gb_args=gb_args)\n",
    "\n",
    "    self.reweighter = reweight.FoldingReweighter(reweighter_base, random_state=1234, n_folds=n_folds, verbose=False)\n",
    "  \n",
    "  def train(self, targ_x, targ_w, estm_x, estm_w):\n",
    "    self.k_factor = ak.sum(targ_w)/ak.sum(estm_w)\n",
    "    self.reweighter.fit(targ_x, estm_x, targ_w, self.k_factor*estm_w)\n",
    "\n",
    "  def eval(self, x, w):\n",
    "    return self.reweighter.predict_weights(x,self.k_factor*w,lambda x: np.mean(x, axis=0))\n"
   ]
  },
  {
   "cell_type": "code",
   "execution_count": 57,
   "id": "f14d430e",
   "metadata": {},
   "outputs": [],
   "source": [
    "bdt = BDT()"
   ]
  },
  {
   "cell_type": "code",
   "execution_count": 58,
   "id": "8f33e94f",
   "metadata": {},
   "outputs": [],
   "source": [
    "bdt.train(x_c, w_c, x_d, w_d)"
   ]
  },
  {
   "cell_type": "code",
   "execution_count": 59,
   "id": "c59f8853",
   "metadata": {},
   "outputs": [
    {
     "data": {
      "text/plain": [
       "array([5.73919499e-03, 8.20138240e-04, 5.47960359e-04, ...,\n",
       "       2.36548541e-07, 8.20368434e-08, 7.35037132e-08])"
      ]
     },
     "execution_count": 59,
     "metadata": {},
     "output_type": "execute_result"
    }
   ],
   "source": [
    "bdt.eval(x_d, w_d)"
   ]
  },
  {
   "cell_type": "code",
   "execution_count": 78,
   "id": "33781755",
   "metadata": {},
   "outputs": [],
   "source": [
    "def tree_bdt(tree):\n",
    "  x = ak_stack([ tree[feature] for feature in feature_names ])\n",
    "  w = tree['scale']\n",
    "  k_w = bdt.eval(x, w)\n",
    "  return k_w/w\n",
    "\n",
    "def tree_k_factor(tree):\n",
    "  w = tree['scale']\n",
    "  k_w = bdt.k_factor*w\n",
    "  return k_w/w"
   ]
  },
  {
   "cell_type": "code",
   "execution_count": 81,
   "id": "318186dd",
   "metadata": {},
   "outputs": [
    {
     "name": "stderr",
     "output_type": "stream",
     "text": [
      "100%|██████████| 2/2 [00:00<00:00,  5.07it/s]\n"
     ]
    },
    {
     "data": {
      "image/png": "[encoded data removed]",
      "text/plain": [
       "<Figure size 960x400 with 2 Axes>"
      ]
     },
     "metadata": {
      "needs_background": "light"
     },
     "output_type": "display_data"
    }
   ],
   "source": [
    "study.quick(\n",
    "  data+data+data, h_color=None, label=['target','k factor','bdt'], legend=True,\n",
    "  scale=[None, tree_k_factor, tree_bdt],\n",
    "  masks=[R['a'], R['b'], R['b']],\n",
    "\n",
    "  varlist=['X_m','X_pt']\n",
    ")"
   ]
  }
 ],
 "metadata": {
  "interpreter": {
   "hash": "ccf27ce045abf7037cf87b0dec14c0df6afa83e68308463df923fd2d6aeee0ca"
  },
  "kernelspec": {
   "display_name": "Python 3.9.13 ('base')",
   "language": "python",
   "name": "python3"
  },
  "language_info": {
   "codemirror_mode": {
    "name": "ipython",
    "version": 3
   },
   "file_extension": ".py",
   "mimetype": "text/x-python",
   "name": "python",
   "nbconvert_exporter": "python",
   "pygments_lexer": "ipython3",
   "version": "3.9.13"
  }
 },
 "nbformat": 4,
 "nbformat_minor": 5
}

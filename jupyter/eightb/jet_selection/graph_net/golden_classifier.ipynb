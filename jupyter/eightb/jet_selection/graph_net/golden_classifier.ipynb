{
 "cells": [
  {
   "cell_type": "code",
   "execution_count": 1,
   "id": "ef215b25",
   "metadata": {},
   "outputs": [],
   "source": [
    "import torch \n",
    "\n",
    "x = torch.Tensor([[0.1513, 0.1034, 0.4494, 0.4344, 0.9990],\n",
    "         [0.0842, 0.0815, 0.4713, 0.3194, 0.9291],\n",
    "         [0.0667, 0.0745, 0.5992, 0.8489, 1.0000],\n",
    "         [0.0373, 0.0551, 0.5486, 0.1089, 0.9995],\n",
    "         [0.0328, 0.0556, 0.4983, 0.7707, 0.6503],\n",
    "         [0.0277, 0.0343, 0.3750, 0.9698, 0.9985],\n",
    "         [0.0103, 0.0219, 0.6110, 0.9342, 0.4759],\n",
    "         [0.0082, 0.0188, 0.6338, 0.7912, 0.0130],\n",
    "         [0.0124, 0.0147, 0.3801, 0.3667, 0.7325],\n",
    "         [0.0136, 0.0143, 0.3729, 0.8628, 0.0335]])\n",
    "edge_index = torch.Tensor([[0, 0, 0, 0, 0, 0, 0, 0, 0, 1, 1, 1, 1, 1, 1, 1, 1, 2, 2, 2, 2, 2, 2, 2,\n",
    "          3, 3, 3, 3, 3, 3, 4, 4, 4, 4, 4, 5, 5, 5, 5, 6, 6, 6, 7, 7, 8],\n",
    "         [1, 2, 3, 4, 5, 6, 7, 8, 9, 2, 3, 4, 5, 6, 7, 8, 9, 3, 4, 5, 6, 7, 8, 9,\n",
    "          4, 5, 6, 7, 8, 9, 5, 6, 7, 8, 9, 6, 7, 8, 9, 7, 8, 9, 8, 9, 9]]).long()\n",
    "edge_attr = torch.Tensor([[0.0714],\n",
    "         [0.2848],\n",
    "         [0.2153],\n",
    "         [0.2049],\n",
    "         [0.2847],\n",
    "         [0.3346],\n",
    "         [0.2759],\n",
    "         [0.0777],\n",
    "         [0.2644],\n",
    "         [0.3049],\n",
    "         [0.1452],\n",
    "         [0.2689],\n",
    "         [0.2270],\n",
    "         [0.2649],\n",
    "         [0.3204],\n",
    "         [0.0919],\n",
    "         [0.2868],\n",
    "         [0.1617],\n",
    "         [0.1074],\n",
    "         [0.2269],\n",
    "         [0.0519],\n",
    "         [0.0477],\n",
    "         [0.3550],\n",
    "         [0.2174],\n",
    "         [0.2063],\n",
    "         [0.1859],\n",
    "         [0.1197],\n",
    "         [0.2054],\n",
    "         [0.2226],\n",
    "         [0.2231],\n",
    "         [0.1672],\n",
    "         [0.1453],\n",
    "         [0.1306],\n",
    "         [0.2651],\n",
    "         [0.1322],\n",
    "         [0.2276],\n",
    "         [0.2701],\n",
    "         [0.2355],\n",
    "         [0.0635],\n",
    "         [0.0876],\n",
    "         [0.3390],\n",
    "         [0.2325],\n",
    "         [0.3502],\n",
    "         [0.2540],\n",
    "         [0.2943]])"
   ]
  },
  {
   "cell_type": "code",
   "execution_count": 2,
   "id": "61deba59",
   "metadata": {},
   "outputs": [
    {
     "data": {
      "text/plain": [
       "(torch.Size([10, 5]), torch.Size([2, 45]), torch.Size([45, 1]))"
      ]
     },
     "execution_count": 2,
     "metadata": {},
     "output_type": "execute_result"
    }
   ],
   "source": [
    "x.shape,edge_index.shape,edge_attr.shape"
   ]
  },
  {
   "cell_type": "code",
   "execution_count": 3,
   "id": "880d2da3",
   "metadata": {},
   "outputs": [],
   "source": [
    "def debug_init(layer,fill=1.):\n",
    "    layer.weight.data.fill_(fill)\n",
    "    layer.bias.data.fill_(fill)"
   ]
  },
  {
   "cell_type": "code",
   "execution_count": 4,
   "id": "2a3ce6bb",
   "metadata": {},
   "outputs": [],
   "source": [
    "import torch\n",
    "import torch_geometric as pyg\n",
    "\n",
    "from torch_geometric.nn import MessagePassing\n",
    "\n",
    "class GCNConv(pyg.nn.MessagePassing):\n",
    "    def __init__(self,n,m, debug=False):\n",
    "        super(GCNConv,self).__init__(aggr='add')\n",
    "        self.linear = torch.nn.Linear(n,m)\n",
    "        torch.nn.init.xavier_uniform_(self.linear.weight)\n",
    "        \n",
    "        if debug: debug_init(self.linear)\n",
    "        \n",
    "    def forward(self, x, edge_index, edge_attr):\n",
    "        x = self.linear(x)\n",
    "        \n",
    "        row, col = edge_index\n",
    "\n",
    "        #edge_weight = torch.ones((edge_index.size(1), ), device=edge_index.device)\n",
    "        deg = pyg.utils.degree(row, x.size(0), dtype = x.dtype) + 1\n",
    "        deg_inv_sqrt = deg.pow(-0.5)\n",
    "        deg_inv_sqrt[deg_inv_sqrt == float('inf')] = 0\n",
    "        \n",
    "        norm = deg_inv_sqrt[row] * deg_inv_sqrt[col]\n",
    "        # return self.propagate(edge_index,x=x,edge_attr=edge_attr,norm=norm) + torch.nn.functional.relu(x)*1./deg.view(-1,1)\n",
    "        self.messages = []\n",
    "        return self.propagate(edge_index,x=x,edge_attr=edge_attr,norm=norm)\n",
    "    \n",
    "    def message(self,x_j, edge_attr, norm):\n",
    "        # return norm.view(-1,1)*torch.nn.functional.relu(x_j+edge_attr)\n",
    "        msg = torch.nn.functional.relu(x_j+edge_attr)\n",
    "        self.messages.append((x_j,edge_attr,msg))\n",
    "        return msg\n",
    "    \n",
    "    def update(self,aggr_out):\n",
    "        return aggr_out"
   ]
  },
  {
   "cell_type": "code",
   "execution_count": null,
   "id": "67fc23a7",
   "metadata": {},
   "outputs": [
    {
     "data": {
      "text/plain": [
       "tensor([[0.5000],\n",
       "        [0.5000],\n",
       "        [0.5248],\n",
       "        [0.5075],\n",
       "        [0.5049],\n",
       "        [0.5248],\n",
       "        [0.5372],\n",
       "        [0.5226],\n",
       "        [0.5000],\n",
       "        [0.5197]], grad_fn=<SigmoidBackward>)"
      ]
     },
     "execution_count": 288,
     "metadata": {},
     "output_type": "execute_result"
    }
   ],
   "source": [
    "layer = GCNConv(5,2)"
   ]
  },
  {
   "cell_type": "code",
   "execution_count": 244,
   "id": "fc90e60f",
   "metadata": {},
   "outputs": [],
   "source": [
    "def debug_compare(true,test):\n",
    "    return ((true-test)**2).sum()"
   ]
  },
  {
   "cell_type": "code",
   "execution_count": 245,
   "id": "1e94e8a1",
   "metadata": {},
   "outputs": [],
   "source": [
    "def linear(input,weights,biases):\n",
    "    return torch.Tensor([ [(array*weight).sum()+bias for weight,bias in zip(weights,biases) ] for array in input ])"
   ]
  },
  {
   "cell_type": "code",
   "execution_count": 246,
   "id": "efbf4a2e",
   "metadata": {},
   "outputs": [
    {
     "data": {
      "text/plain": [
       "torch.Size([2, 5])"
      ]
     },
     "execution_count": 246,
     "metadata": {},
     "output_type": "execute_result"
    }
   ],
   "source": [
    "layer.linear.weight.shape"
   ]
  },
  {
   "cell_type": "code",
   "execution_count": 247,
   "id": "35112480",
   "metadata": {},
   "outputs": [
    {
     "data": {
      "text/plain": [
       "tensor(2.8422e-14, grad_fn=<SumBackward0>)"
      ]
     },
     "execution_count": 247,
     "metadata": {},
     "output_type": "execute_result"
    }
   ],
   "source": [
    "true_x = layer.linear(x)\n",
    "new_x = linear(x,layer.linear.weight,layer.linear.bias)\n",
    "debug_compare(true_x,new_x)"
   ]
  },
  {
   "cell_type": "code",
   "execution_count": 248,
   "id": "7a43c88e",
   "metadata": {},
   "outputs": [
    {
     "data": {
      "text/plain": [
       "tensor([[1.3548, 1.2315],\n",
       "        [1.3040, 1.1821],\n",
       "        [1.5334, 1.5598],\n",
       "        [1.3603, 1.1869],\n",
       "        [1.1914, 1.2713],\n",
       "        [1.4196, 1.5970],\n",
       "        [1.1299, 1.2935],\n",
       "        [0.7515, 0.8999],\n",
       "        [1.0887, 1.1138],\n",
       "        [0.6342, 0.8730]])"
      ]
     },
     "execution_count": 248,
     "metadata": {},
     "output_type": "execute_result"
    }
   ],
   "source": [
    "new_x"
   ]
  },
  {
   "cell_type": "code",
   "execution_count": 230,
   "id": "428952e6",
   "metadata": {},
   "outputs": [
    {
     "data": {
      "text/plain": [
       "tensor([[0.1513, 0.1034, 0.4494, 0.4344, 0.9990],\n",
       "        [0.0842, 0.0815, 0.4713, 0.3194, 0.9291],\n",
       "        [0.0667, 0.0745, 0.5992, 0.8489, 1.0000],\n",
       "        [0.0373, 0.0551, 0.5486, 0.1089, 0.9995],\n",
       "        [0.0328, 0.0556, 0.4983, 0.7707, 0.6503],\n",
       "        [0.0277, 0.0343, 0.3750, 0.9698, 0.9985],\n",
       "        [0.0103, 0.0219, 0.6110, 0.9342, 0.4759],\n",
       "        [0.0082, 0.0188, 0.6338, 0.7912, 0.0130],\n",
       "        [0.0124, 0.0147, 0.3801, 0.3667, 0.7325],\n",
       "        [0.0136, 0.0143, 0.3729, 0.8628, 0.0335]])"
      ]
     },
     "execution_count": 230,
     "metadata": {},
     "output_type": "execute_result"
    }
   ],
   "source": [
    "x"
   ]
  },
  {
   "cell_type": "code",
   "execution_count": 233,
   "id": "de7b0882",
   "metadata": {},
   "outputs": [
    {
     "ename": "NameError",
     "evalue": "name 'weights' is not defined",
     "output_type": "error",
     "traceback": [
      "\u001b[0;31m---------------------------------------------------------------------------\u001b[0m",
      "\u001b[0;31mNameError\u001b[0m                                 Traceback (most recent call last)",
      "Input \u001b[0;32mIn [233]\u001b[0m, in \u001b[0;36m<module>\u001b[0;34m\u001b[0m\n\u001b[1;32m      1\u001b[0m i \u001b[39m=\u001b[39m \u001b[39m0\u001b[39m\n\u001b[0;32m----> 2\u001b[0m x[i],weights[\u001b[39m0\u001b[39m]\n",
      "\u001b[0;31mNameError\u001b[0m: name 'weights' is not defined"
     ]
    }
   ],
   "source": [
    "i = 0\n",
    "x[i],"
   ]
  },
  {
   "cell_type": "code",
   "execution_count": 180,
   "id": "c3f9be8c",
   "metadata": {},
   "outputs": [],
   "source": [
    "def relu(input):\n",
    "    return torch.Tensor([ [  el if el > 0 else 0 for el in array ] for array in input ])"
   ]
  },
  {
   "cell_type": "code",
   "execution_count": 181,
   "id": "5ca42703",
   "metadata": {},
   "outputs": [],
   "source": [
    "def message(x,edge_index,edge_attr):\n",
    "    row,_ = edge_index\n",
    "    \n",
    "    return relu(x[row]+edge_attr)"
   ]
  },
  {
   "cell_type": "code",
   "execution_count": 182,
   "id": "c314c368",
   "metadata": {},
   "outputs": [
    {
     "data": {
      "text/plain": [
       "tensor(1.2649e-12, grad_fn=<SumBackward0>)"
      ]
     },
     "execution_count": 182,
     "metadata": {},
     "output_type": "execute_result"
    }
   ],
   "source": [
    "true_msg = layer.messages[0][2]\n",
    "new_msg = message(new_x,edge_index,edge_attr)\n",
    "debug_compare(true_msg,new_msg)"
   ]
  },
  {
   "cell_type": "code",
   "execution_count": 252,
   "id": "80b0b34d",
   "metadata": {},
   "outputs": [
    {
     "data": {
      "text/plain": [
       "torch.Size([45, 2])"
      ]
     },
     "execution_count": 252,
     "metadata": {},
     "output_type": "execute_result"
    }
   ],
   "source": [
    "layer.messages[0][2].shape"
   ]
  },
  {
   "cell_type": "code",
   "execution_count": 183,
   "id": "1e2e69e9",
   "metadata": {},
   "outputs": [],
   "source": [
    "def scatter_add(x,edge_index,msg):\n",
    "    out = torch.zeros((x.shape))\n",
    "    _,col = edge_index\n",
    "    for e,u in enumerate(col):\n",
    "        out[u] += msg[e]\n",
    "    return out"
   ]
  },
  {
   "cell_type": "code",
   "execution_count": 184,
   "id": "d3369735",
   "metadata": {},
   "outputs": [],
   "source": [
    "def scatter_max(x,edge_index,msg):\n",
    "    n_features = x.shape[1]\n",
    "    out = torch.zeros((x.shape))\n",
    "    _,col = edge_index\n",
    "    for e,u in enumerate(col):\n",
    "        for i in range(n_features):\n",
    "            out[u,i] = max(out[u,i],msg[e,i])\n",
    "    return out"
   ]
  },
  {
   "cell_type": "code",
   "execution_count": 185,
   "id": "bda96467",
   "metadata": {},
   "outputs": [
    {
     "data": {
      "text/plain": [
       "tensor(4.0379e-12, grad_fn=<SumBackward0>)"
      ]
     },
     "execution_count": 185,
     "metadata": {},
     "output_type": "execute_result"
    }
   ],
   "source": [
    "new_out = scatter_add(new_x,edge_index,new_msg)\n",
    "# new_out = scatter_max(new_x,edge_index,new_msg)\n",
    "debug_compare(true_out,new_out)"
   ]
  },
  {
   "cell_type": "code",
   "execution_count": 191,
   "id": "212d8406",
   "metadata": {},
   "outputs": [],
   "source": [
    "def full_layer(x,edge_index,edge_attr):\n",
    "    x = linear(x,layer.linear.weight,layer.linear.bias)\n",
    "    msg = message(x,edge_index,edge_attr)\n",
    "    out = scatter_add(x,edge_index,msg)\n",
    "    return out"
   ]
  },
  {
   "cell_type": "code",
   "execution_count": 192,
   "id": "8e151bae",
   "metadata": {},
   "outputs": [
    {
     "data": {
      "text/plain": [
       "100000"
      ]
     },
     "execution_count": 192,
     "metadata": {},
     "output_type": "execute_result"
    }
   ],
   "source": [
    "import sys,git\n",
    "sys.path.append( git.Repo('.', search_parent_directories=True).working_tree_dir )\n",
    "from utils import *\n",
    "\n",
    "import utils.torchUtils as gnn\n",
    "\n",
    "def to_input(graph):\n",
    "    return graph.x,graph.edge_index,graph.edge_attr\n",
    "\n",
    "dataset = gnn.Dataset('data/signal-training',transform=gnn.to_uptri_graph)\n",
    "len(dataset)"
   ]
  },
  {
   "cell_type": "code",
   "execution_count": 214,
   "id": "48c464b9",
   "metadata": {},
   "outputs": [],
   "source": [
    "from torch_geometric.loader import DataLoader\n",
    "\n",
    "training,validation = gnn.train_test_split(dataset,0.2)\n",
    "\n",
    "trainloader = DataLoader(training[:1000],batch_size=10,shuffle=True,num_workers=4)"
   ]
  },
  {
   "cell_type": "code",
   "execution_count": 215,
   "id": "8ebf3489",
   "metadata": {},
   "outputs": [],
   "source": [
    "def compare_models(graph):\n",
    "    x,edge_index,edge_attr = to_input(graph)\n",
    "    true_out = layer(x,edge_index,edge_attr)\n",
    "    new_out = full_layer(x,edge_index,edge_attr)\n",
    "\n",
    "    with torch.no_grad():\n",
    "        return float(debug_compare(true_out,new_out))\n"
   ]
  },
  {
   "cell_type": "code",
   "execution_count": 216,
   "id": "925e79c3",
   "metadata": {},
   "outputs": [],
   "source": [
    "comparison = [ compare_models(train) for train in trainloader ]"
   ]
  },
  {
   "cell_type": "code",
   "execution_count": 217,
   "id": "5d245ae5",
   "metadata": {},
   "outputs": [
    {
     "data": {
      "image/png": "[encoded data removed]",
      "text/plain": [
       "<Figure size 384x360 with 1 Axes>"
      ]
     },
     "metadata": {
      "needs_background": "light"
     },
     "output_type": "display_data"
    }
   ],
   "source": [
    "import matplotlib.pyplot as plt\n",
    "import numpy \n",
    "\n",
    "plt.hist(comparison)\n",
    "plt.show()"
   ]
  },
  {
   "cell_type": "code",
   "execution_count": null,
   "id": "e3469e22",
   "metadata": {},
   "outputs": [],
   "source": []
  }
 ],
 "metadata": {
  "interpreter": {
   "hash": "0dc50badf6bcf34ee37feb4ddab24eb1b71716d96fc6cae89d10c22f5e3462c0"
  },
  "kernelspec": {
   "display_name": "Python 3.8.10 64-bit ('base': conda)",
   "name": "python3"
  },
  "language_info": {
   "codemirror_mode": {
    "name": "ipython",
    "version": 3
   },
   "file_extension": ".py",
   "mimetype": "text/x-python",
   "name": "python",
   "nbconvert_exporter": "python",
   "pygments_lexer": "ipython3",
   "version": "3.8.12"
  }
 },
 "nbformat": 4,
 "nbformat_minor": 5
}

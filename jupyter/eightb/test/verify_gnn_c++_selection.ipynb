{
 "cells": [
  {
   "cell_type": "code",
   "execution_count": 1,
   "id": "9bfa3b5a",
   "metadata": {},
   "outputs": [],
   "source": [
    "%load_ext autoreload\n",
    "%autoreload 2\n",
    "\n",
    "import os\n",
    "import sys\n",
    "import git\n",
    "\n",
    "import uproot as ut\n",
    "import awkward as ak\n",
    "import numpy as np\n",
    "import math\n",
    "import vector\n",
    "import sympy as sp\n",
    "\n",
    "import re\n",
    "from tqdm import tqdm\n",
    "import timeit\n",
    "import re\n",
    "\n",
    "sys.path.append( git.Repo('.', search_parent_directories=True).working_tree_dir )\n",
    "from utils import *"
   ]
  },
  {
   "cell_type": "code",
   "execution_count": 2,
   "id": "459eb533",
   "metadata": {},
   "outputs": [],
   "source": [
    "testtree = Tree(\"/uscms_data/d3/ekoenig/8BAnalysis/analysis/CMSSW_10_2_18/src/sixB/analysis/sixBanalysis/NMSSM_XYY_YToHH_8b_MX_1200_MY_500_accstudies.root\")\n",
    "\n",
    "# testtree = Tree(fc.eightb.preselection.NMSSM_XYY_YToHH_8b_MX_1200_MY_500)"
   ]
  },
  {
   "cell_type": "code",
   "execution_count": 3,
   "id": "251df81a",
   "metadata": {},
   "outputs": [],
   "source": [
    "testtree.extend(**build_collection(testtree,'H\\dY\\d','higgs',ptordered=True))"
   ]
  },
  {
   "cell_type": "code",
   "execution_count": 4,
   "id": "1287f598",
   "metadata": {},
   "outputs": [
    {
     "data": {
      "text/plain": [
       "(<Figure size 864x360 with 2 Axes>,\n",
       " array([<AxesSubplot:xlabel='DiJet Mass', ylabel='Events'>,\n",
       "        <AxesSubplot:xlabel='higgs_score', ylabel='Events'>], dtype=object))"
      ]
     },
     "execution_count": 4,
     "metadata": {},
     "output_type": "execute_result"
    },
    {
     "data": {
      "image/png": "[encoded data removed]",
      "text/plain": [
       "<Figure size 864x360 with 2 Axes>"
      ]
     },
     "metadata": {
      "needs_background": "light"
     },
     "output_type": "display_data"
    }
   ],
   "source": [
    "study.quick(\n",
    "    [testtree],\n",
    "    varlist=['higgs_m','higgs_score']\n",
    ")"
   ]
  },
  {
   "cell_type": "code",
   "execution_count": 5,
   "id": "9af77004",
   "metadata": {},
   "outputs": [],
   "source": [
    "build_all_dijets(testtree)"
   ]
  },
  {
   "cell_type": "code",
   "execution_count": 6,
   "id": "21d3925d",
   "metadata": {},
   "outputs": [],
   "source": [
    "import utils.torchUtils as gnn"
   ]
  },
  {
   "cell_type": "code",
   "execution_count": 7,
   "id": "6bf27efc",
   "metadata": {},
   "outputs": [],
   "source": [
    "template = gnn.Dataset(\"/uscms_data/d3/ekoenig/8BAnalysis/studies/sixbStudies/jupyter/eightb/pairing_methods/graph_net/data/template\",\n",
    "                       make_template=True,)"
   ]
  },
  {
   "cell_type": "code",
   "execution_count": 8,
   "id": "c18b4e2f",
   "metadata": {},
   "outputs": [],
   "source": [
    "model = gnn.GoldenGCN.load_from_checkpoint(\n",
    "    \"/uscms_data/d3/ekoenig/8BAnalysis/studies/sixbStudies/jupyter/eightb/pairing_methods/graph_net/models/golden_classifier/lightning_logs/version_2/checkpoints/epoch=24-step=9024.ckpt\",\n",
    "    dataset=template)"
   ]
  },
  {
   "cell_type": "code",
   "execution_count": 9,
   "id": "855a7da9",
   "metadata": {},
   "outputs": [],
   "source": [
    "def get_tree_graph(tree, ver='testing', path='/uscms_data/d3/ekoenig/8BAnalysis/studies/sixbStudies/jupyter/eightb/pairing_methods/graph_net/data/'):\n",
    "    sample = tree.sample\n",
    "    print(sample)\n",
    "    dataset = gnn.Dataset(f'{path}/{sample}-{ver}', transform=template.transform)\n",
    "    loader = gnn.DataLoader(dataset, batch_size=100, num_workers=gnn.config.ncpu)\n",
    "    tree.graphs = loader"
   ]
  },
  {
   "cell_type": "code",
   "execution_count": 10,
   "id": "7a0f842c",
   "metadata": {},
   "outputs": [
    {
     "name": "stdout",
     "output_type": "stream",
     "text": [
      "MX_1200_MY_500\n"
     ]
    }
   ],
   "source": [
    "get_tree_graph(testtree)"
   ]
  },
  {
   "cell_type": "code",
   "execution_count": 13,
   "id": "8dff2901",
   "metadata": {},
   "outputs": [],
   "source": [
    "import torch \n",
    "def predict_tree(tree):\n",
    "    node_scores, edge_itoj_scores, edge_jtoi_scores = [],[],[]\n",
    "    for graph in tree.graphs:\n",
    "        node_score, edge_score = model.predict(graph.to(gnn.config.device))\n",
    "        node_scores.append(node_score)\n",
    "        \n",
    "        node_i, node_j = graph.edge_index\n",
    "        i_to_j = node_i < node_j\n",
    "        j_to_i = node_j < node_i\n",
    "        edge_itoj_scores.append(edge_score[i_to_j])\n",
    "        edge_jtoi_scores.append(edge_score[j_to_i])\n",
    "        \n",
    "    node_scores = torch.cat(node_scores).cpu().numpy()\n",
    "    edge_itoj_scores = torch.cat(edge_itoj_scores).cpu().numpy()\n",
    "    edge_jtoi_scores = torch.cat(edge_jtoi_scores).cpu().numpy()\n",
    "    \n",
    "    node_scores = ak.unflatten(node_scores,ak.num(tree.jet_pt))\n",
    "    edge_itoj_scores = ak.unflatten(edge_itoj_scores,ak.num(tree.dijet_pt))\n",
    "    edge_jtoi_scores = ak.unflatten(edge_jtoi_scores,ak.num(tree.dijet_pt))\n",
    "    \n",
    "    tree.extend(\n",
    "        jet_score = node_scores,\n",
    "        dijet_itoj_score = edge_itoj_scores,\n",
    "        dijet_jtoi_score = edge_jtoi_scores,\n",
    "    )"
   ]
  },
  {
   "cell_type": "code",
   "execution_count": 15,
   "id": "a8af83d9",
   "metadata": {},
   "outputs": [],
   "source": [
    "predict_tree(testtree)"
   ]
  },
  {
   "cell_type": "code",
   "execution_count": 16,
   "id": "2a18c334",
   "metadata": {},
   "outputs": [
    {
     "data": {
      "text/plain": [
       "{'bjet_m': <Array [[26.4, 20, 14.7, ... 9.28, 11.9, 6.25]] type='68041 * var * float32'>,\n",
       " 'bjet_genHflag': <Array [[0, 2, 0, 1, 3, ... 2, 3, 1, 3, -1]] type='68041 * var * int32'>,\n",
       " 'bjet_btag': <Array [[1, 0.999, 0.993, ... 0.00462, 0.0085]] type='68041 * var * float32'>,\n",
       " 'bjet_ptRegressed': <Array [[327, 294, 114, ... 68.8, 59.3, 31.4]] type='68041 * var * float32'>,\n",
       " 'bjet_score': <Array [[0.994, 0.996, ... 0.107, 0.0698]] type='68041 * var * float32'>,\n",
       " 'bjet_pt': <Array [[318, 286, 104, ... 55.4, 55.2, 29.1]] type='68041 * var * float32'>,\n",
       " 'bjet_mRegressed': <Array [[26.5, 20.9, 16.3, ... 12.1, 6.33]] type='68041 * var * float32'>,\n",
       " 'bjet_phi': <Array [[0.857, -2.64, ... 2.46, -0.0664]] type='68041 * var * float32'>,\n",
       " 'bjet_eta': <Array [[0.0711, -0.892, ... 0.496, -0.892]] type='68041 * var * float32'>}"
      ]
     },
     "execution_count": 16,
     "metadata": {},
     "output_type": "execute_result"
    }
   ],
   "source": [
    "build_collection(testtree,'H\\dY\\d_b\\d','bjet',ptordered=True)"
   ]
  },
  {
   "cell_type": "code",
   "execution_count": 17,
   "id": "9aed1834",
   "metadata": {},
   "outputs": [],
   "source": [
    "bjets = get_collection(testtree,'bjet',False)\n",
    "jets = get_collection(testtree,'jet',False)"
   ]
  },
  {
   "cell_type": "code",
   "execution_count": 18,
   "id": "996d45ad",
   "metadata": {},
   "outputs": [],
   "source": [
    "selected_jets = jets[ak.any(jets.pt[:,:,None] == bjets.pt[:,None],axis=-1)]"
   ]
  },
  {
   "cell_type": "code",
   "execution_count": 19,
   "id": "a05e9669",
   "metadata": {},
   "outputs": [
    {
     "data": {
      "text/plain": [
       "(<Figure size 1152x360 with 3 Axes>, <AxesSubplot:ylabel='Events'>)"
      ]
     },
     "execution_count": 19,
     "metadata": {},
     "output_type": "execute_result"
    },
    {
     "data": {
      "image/png": "[encoded data removed]",
      "text/plain": [
       "<Figure size 1152x360 with 3 Axes>"
      ]
     },
     "metadata": {
      "needs_background": "light"
     },
     "output_type": "display_data"
    },
    {
     "data": {
      "image/png": "[encoded data removed]",
      "text/plain": [
       "<Figure size 1152x360 with 3 Axes>"
      ]
     },
     "metadata": {
      "needs_background": "light"
     },
     "output_type": "display_data"
    },
    {
     "data": {
      "image/png": "[encoded data removed]",
      "text/plain": [
       "<Figure size 1152x360 with 3 Axes>"
      ]
     },
     "metadata": {
      "needs_background": "light"
     },
     "output_type": "display_data"
    }
   ],
   "source": [
    "\n",
    "fig,axs = plt.subplots(ncols=2, figsize=(16,5))\n",
    "hist_multi([selected_jets.pt,bjets.pt], ratio=True, figax=(fig,axs[0]))\n",
    "hist_multi([selected_jets.pt-bjets.pt], figax=(fig,axs[1]))\n",
    "\n",
    "fig,axs = plt.subplots(ncols=2, figsize=(16,5))\n",
    "hist_multi([selected_jets.btag,bjets.btag], ratio=True, figax=(fig,axs[0]))\n",
    "hist_multi([selected_jets.btag-bjets.btag], figax=(fig,axs[1]))\n",
    "\n",
    "fig,axs = plt.subplots(ncols=2, figsize=(16,5))\n",
    "hist_multi([selected_jets.score,bjets.score], ratio=True, figax=(fig,axs[0]))\n",
    "hist_multi([selected_jets.score-bjets.score], figax=(fig,axs[1]))"
   ]
  },
  {
   "cell_type": "code",
   "execution_count": 24,
   "id": "fe9ab7a5",
   "metadata": {},
   "outputs": [],
   "source": [
    "higgs = get_collection(testtree,'higgs',False)\n",
    "dijets = get_collection(testtree,'dijet',False)"
   ]
  },
  {
   "cell_type": "code",
   "execution_count": 30,
   "id": "2ed488be",
   "metadata": {},
   "outputs": [
    {
     "data": {
      "text/plain": [
       "<Array [[-1, 0, -1, -1, ... -1, -1, -1, -1]] type='68041 * var * ?int64'>"
      ]
     },
     "execution_count": 30,
     "metadata": {},
     "output_type": "execute_result"
    }
   ],
   "source": [
    "dijets.signalId"
   ]
  },
  {
   "cell_type": "code",
   "execution_count": 76,
   "id": "bd109359",
   "metadata": {},
   "outputs": [],
   "source": [
    "h1b1_mask = jets.pt == higgs.b1_pt[:,0] \n",
    "h1b2_mask = jets.pt == higgs.b2_pt[:,0]"
   ]
  },
  {
   "cell_type": "code",
   "execution_count": 77,
   "id": "45397720",
   "metadata": {},
   "outputs": [],
   "source": [
    "jet_ids = ak.local_index(jets.pt,axis=-1)"
   ]
  },
  {
   "cell_type": "code",
   "execution_count": 84,
   "id": "b9a1750f",
   "metadata": {},
   "outputs": [],
   "source": [
    "h1b_ids = ak.concatenate([jet_ids[h1b1_mask],jet_ids[h1b2_mask]],axis=-1)"
   ]
  },
  {
   "cell_type": "code",
   "execution_count": 92,
   "id": "ec3ccc96",
   "metadata": {},
   "outputs": [],
   "source": [
    "h1_mask = (dijets.j1Idx == h1b_ids[:,0]) & (dijets.j2Idx == h1b_ids[:,1])"
   ]
  },
  {
   "cell_type": "code",
   "execution_count": 105,
   "metadata": {},
   "outputs": [
    {
     "data": {
      "text/plain": [
       "(<Figure size 384x360 with 2 Axes>, <AxesSubplot:ylabel='Events'>)"
      ]
     },
     "execution_count": 105,
     "metadata": {},
     "output_type": "execute_result"
    },
    {
     "data": {
      "image/png": "[encoded data removed]",
      "text/plain": [
       "<Figure size 384x360 with 2 Axes>"
      ]
     },
     "metadata": {
      "needs_background": "light"
     },
     "output_type": "display_data"
    }
   ],
   "source": [
    "hist_multi([dijets[h1_mask].itoj_score,higgs.score[:,0]],ratio=True)"
   ]
  },
  {
   "cell_type": "code",
   "execution_count": 28,
   "id": "8bdd1b67",
   "metadata": {},
   "outputs": [],
   "source": [
    "selected_higgs = dijets[ak.any(dijets.pt[:,:,None] == higgs.pt[:,None],axis=-1)]"
   ]
  },
  {
   "cell_type": "code",
   "execution_count": 29,
   "id": "c30cc052",
   "metadata": {},
   "outputs": [
    {
     "data": {
      "text/plain": [
       "<Array [{m: [], dm: [], ... jtoi_score: []}] type='68041 * {\"m\": var * float32, ...'>"
      ]
     },
     "execution_count": 29,
     "metadata": {},
     "output_type": "execute_result"
    }
   ],
   "source": [
    "selected_higgs"
   ]
  },
  {
   "cell_type": "code",
   "execution_count": 20,
   "id": "76f7d5a5",
   "metadata": {},
   "outputs": [],
   "source": [
    "select_higgs(testtree, field='itoj_score', nhiggs=4)"
   ]
  },
  {
   "cell_type": "code",
   "execution_count": 21,
   "id": "4bacfc80",
   "metadata": {},
   "outputs": [
    {
     "data": {
      "text/plain": [
       "<Array [[191, 146, 138, ... 134, 139, 123]] type='68041 * var * float32'>"
      ]
     },
     "execution_count": 21,
     "metadata": {},
     "output_type": "execute_result"
    }
   ],
   "source": [
    "testtree.higgs_m"
   ]
  },
  {
   "cell_type": "code",
   "execution_count": 22,
   "id": "975f0ac7",
   "metadata": {},
   "outputs": [
    {
     "data": {
      "text/plain": [
       "<Array [[132, 124, 187, ... 126, 116, 114]] type='68041 * var * float32'>"
      ]
     },
     "execution_count": 22,
     "metadata": {},
     "output_type": "execute_result"
    }
   ],
   "source": [
    "testtree.gnn_higgs_m"
   ]
  },
  {
   "cell_type": "code",
   "execution_count": 23,
   "id": "8cd1a156",
   "metadata": {},
   "outputs": [
    {
     "data": {
      "image/png": "[encoded data removed]",
      "text/plain": [
       "<Figure size 432x360 with 1 Axes>"
      ]
     },
     "metadata": {
      "needs_background": "light"
     },
     "output_type": "display_data"
    },
    {
     "data": {
      "text/plain": [
       "(<Figure size 432x360 with 1 Axes>, <AxesSubplot:ylabel='Events'>)"
      ]
     },
     "execution_count": 23,
     "metadata": {},
     "output_type": "execute_result"
    }
   ],
   "source": [
    "study.overlay(\n",
    "    [testtree],\n",
    "    varlist=['higgs_m:0','gnn_higgs_m:0'],\n",
    "    legend=True,\n",
    ")"
   ]
  },
  {
   "cell_type": "code",
   "execution_count": 106,
   "id": "ed7ca955",
   "metadata": {},
   "outputs": [],
   "source": [
    "def count_higgs(t):    \n",
    "    nfound_h = ak.sum((t.higgs_b1_genHflag != -1) & (t.higgs_b2_genHflag != -1) & (t.higgs_b1_genHflag == t.higgs_b2_genHflag),axis=-1)\n",
    "    nfound_gnn_h = ak.sum(t.gnn_higgs_signalId>-1,axis=-1)\n",
    "    t.extend(\n",
    "        nfound_h=nfound_h,\n",
    "        nfound_gnn_h=nfound_gnn_h\n",
    "    )\n",
    "    \n",
    "count_higgs(testtree)"
   ]
  },
  {
   "cell_type": "code",
   "execution_count": 107,
   "id": "fa9dff80",
   "metadata": {},
   "outputs": [
    {
     "name": "stdout",
     "output_type": "stream",
     "text": [
      "0.389137980908302\n",
      "0.389137980908302\n"
     ]
    },
    {
     "data": {
      "text/plain": [
       "(<Figure size 384x360 with 2 Axes>,\n",
       " <AxesSubplot:ylabel='Fraction of Events Above (CDF)'>)"
      ]
     },
     "execution_count": 107,
     "metadata": {},
     "output_type": "execute_result"
    },
    {
     "data": {
      "image/png": "[encoded data removed]",
      "text/plain": [
       "<Figure size 384x360 with 2 Axes>"
      ]
     },
     "metadata": {
      "needs_background": "light"
     },
     "output_type": "display_data"
    }
   ],
   "source": [
    "tree = testtree\n",
    "\n",
    "mask = tree.nfound_presel == 8\n",
    "nfound_mass = tree.nfound_h[mask]\n",
    "\n",
    "print(np.sum(nfound_mass==4)/np.sum(mask))\n",
    "\n",
    "nfound_gnn = tree.nfound_gnn_h[mask]\n",
    "\n",
    "print(np.sum(nfound_gnn==4)/np.sum(mask))\n",
    "\n",
    "hist_multi([nfound_mass,nfound_gnn],ratio=True,cumulative=-1)"
   ]
  },
  {
   "cell_type": "code",
   "execution_count": null,
   "id": "ac4f4dd6",
   "metadata": {},
   "outputs": [],
   "source": []
  }
 ],
 "metadata": {
  "interpreter": {
   "hash": "0dc50badf6bcf34ee37feb4ddab24eb1b71716d96fc6cae89d10c22f5e3462c0"
  },
  "kernelspec": {
   "display_name": "Python 3.8.10 64-bit ('base': conda)",
   "name": "python3"
  },
  "language_info": {
   "codemirror_mode": {
    "name": "ipython",
    "version": 3
   },
   "file_extension": ".py",
   "mimetype": "text/x-python",
   "name": "python",
   "nbconvert_exporter": "python",
   "pygments_lexer": "ipython3",
   "version": "3.8.12"
  }
 },
 "nbformat": 4,
 "nbformat_minor": 5
}

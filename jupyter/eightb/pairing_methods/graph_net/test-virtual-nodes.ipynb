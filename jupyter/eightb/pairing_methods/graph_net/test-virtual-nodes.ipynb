{
 "cells": [
  {
   "cell_type": "code",
   "execution_count": 1,
   "id": "ef215b25",
   "metadata": {},
   "outputs": [],
   "source": [
    "%load_ext autoreload\n",
    "%autoreload 2\n",
    "\n",
    "import os\n",
    "import sys\n",
    "import git\n",
    "\n",
    "import uproot as ut\n",
    "import awkward as ak\n",
    "import numpy as np\n",
    "import math\n",
    "import vector\n",
    "import sympy as sp\n",
    "\n",
    "import re\n",
    "from tqdm import tqdm\n",
    "import timeit\n",
    "\n",
    "sys.path.append( git.Repo('.', search_parent_directories=True).working_tree_dir )\n",
    "from utils import *\n",
    "\n",
    "import utils.torchUtils as gnn"
   ]
  },
  {
   "cell_type": "code",
   "execution_count": 6,
   "id": "490b020e",
   "metadata": {},
   "outputs": [],
   "source": [
    "from torch_geometric import transforms"
   ]
  },
  {
   "cell_type": "code",
   "execution_count": 284,
   "id": "a11a05a2",
   "metadata": {},
   "outputs": [],
   "source": [
    "import torch\n",
    "from torch import Tensor\n",
    "\n",
    "from torch_geometric.data import Data\n",
    "from torch_geometric.transforms import BaseTransform\n",
    "\n",
    "class MotherNode(BaseTransform):\n",
    "    def __init__(self, is_real=True, id=1):\n",
    "        self.is_real = is_real\n",
    "        self.id = id\n",
    "        \n",
    "    def __call__(self, data: Data) -> Data:\n",
    "        num_nodes, (row, col) = data.num_nodes, data.edge_index\n",
    "        edge_type = data.get('edge_type', torch.zeros_like(row))\n",
    "        node_type = data.get('node_type', torch.zeros(num_nodes))\n",
    "\n",
    "        prev_nodes = node_type == (self.id - 1)\n",
    "\n",
    "        arange = torch.arange(num_nodes, device=row.device)[prev_nodes]\n",
    "        num_prev = len(arange)\n",
    "        \n",
    "        full = row.new_full((num_prev, ), num_nodes)\n",
    "        row = torch.cat([row, arange, full], dim=0)\n",
    "        col = torch.cat([col, full, arange], dim=0)\n",
    "        edge_index = torch.stack([row, col], dim=0)\n",
    "\n",
    "        new_type = edge_type.new_full((num_prev, ), self.id)\n",
    "        edge_type = torch.cat([edge_type, new_type, new_type], dim=0)\n",
    "        \n",
    "        new_type = node_type.new_full((1, ), self.id)\n",
    "        node_type = torch.cat([node_type, new_type], dim=0)\n",
    "\n",
    "        for key, value in data.items():\n",
    "            if key == 'edge_index' or key == 'edge_type':\n",
    "                continue\n",
    "\n",
    "            if isinstance(value, Tensor):\n",
    "                dim = data.__cat_dim__(key, value)\n",
    "                size = list(value.size())\n",
    "\n",
    "                fill_value = None\n",
    "                if data.is_edge_attr(key):\n",
    "                    size[dim] = 2 * num_prev\n",
    "                    fill_value = 0.\n",
    "                elif data.is_node_attr(key):\n",
    "                    size[dim] = 1\n",
    "                    fill_value = 0.\n",
    "                elif key == 'y':\n",
    "                    size[dim] = 1\n",
    "                    fill_value = 1\n",
    "\n",
    "                if fill_value is not None:\n",
    "                    new_value = value.new_full(size, fill_value)\n",
    "                    data[key] = torch.cat([value, new_value], dim=dim)\n",
    "\n",
    "        data.edge_index = edge_index\n",
    "        data.edge_type = edge_type\n",
    "        data.node_type = node_type\n",
    "\n",
    "        if 'num_nodes' in data:\n",
    "            data.num_nodes = data.num_nodes + 1\n",
    "\n",
    "        return data"
   ]
  },
  {
   "cell_type": "code",
   "execution_count": 300,
   "id": "8c3f6f8b",
   "metadata": {},
   "outputs": [],
   "source": [
    "template = gnn.Dataset('data/template',make_template=True, transform=gnn.Transform(\n",
    "    MotherNode(id=1),MotherNode(id=1),MotherNode(id=1),MotherNode(id=1),\n",
    "    MotherNode(id=2),MotherNode(id=2),\n",
    "    MotherNode(id=3),\n",
    "    \n",
    "    MotherNode(id=1)\n",
    "    ),scale='standardize')\n"
   ]
  },
  {
   "cell_type": "code",
   "execution_count": 301,
   "id": "886752fc",
   "metadata": {},
   "outputs": [],
   "source": [
    "dataset = gnn.Dataset('data/MX_1200_MY_500-testing',transform=template.transform)"
   ]
  },
  {
   "cell_type": "code",
   "execution_count": 302,
   "id": "ac36f95f",
   "metadata": {},
   "outputs": [
    {
     "data": {
      "text/plain": [
       "Data(x=[17, 5], edge_index=[2, 191], edge_attr=[191, 4], y=[17], edge_y=[191], edge_type=[191], node_type=[17])"
      ]
     },
     "execution_count": 302,
     "metadata": {},
     "output_type": "execute_result"
    }
   ],
   "source": [
    "graph = dataset[0]\n",
    "graph"
   ]
  },
  {
   "cell_type": "code",
   "execution_count": 303,
   "id": "6ff1ed00",
   "metadata": {},
   "outputs": [
    {
     "data": {
      "text/plain": [
       "(tensor([ 9, 10, 11, 12, 16]),)"
      ]
     },
     "execution_count": 303,
     "metadata": {},
     "output_type": "execute_result"
    }
   ],
   "source": [
    "torch.where(graph.node_type==1)"
   ]
  },
  {
   "cell_type": "code",
   "execution_count": 304,
   "id": "3b256fee",
   "metadata": {},
   "outputs": [
    {
     "data": {
      "text/plain": [
       "(tensor([[ 8,  8,  8,  8,  8,  8,  8,  8,  8,  8,  8,  8,  8,  8],\n",
       "         [ 0,  1,  2,  3,  4,  5,  6,  7,  8,  9, 10, 11, 12, 16]]),\n",
       " tensor(14))"
      ]
     },
     "execution_count": 304,
     "metadata": {},
     "output_type": "execute_result"
    }
   ],
   "source": [
    "graph.edge_index[:,(graph.edge_index[0,:] == 8)],(graph.edge_index[0,:] == 8).sum()"
   ]
  },
  {
   "cell_type": "code",
   "execution_count": 305,
   "id": "96b0b732",
   "metadata": {},
   "outputs": [],
   "source": [
    "\n",
    "import networkx as nx\n",
    "from torch_geometric.utils import to_networkx"
   ]
  },
  {
   "cell_type": "code",
   "execution_count": 307,
   "id": "e23ff539",
   "metadata": {},
   "outputs": [
    {
     "data": {
      "image/png": "[encoded data removed]",
      "text/plain": [
       "<Figure size 384x360 with 1 Axes>"
      ]
     },
     "metadata": {},
     "output_type": "display_data"
    }
   ],
   "source": [
    "g = to_networkx(graph, remove_self_loops=True)\n",
    "\n",
    "node_color = list(map({0:(0,0,0),1:(0,0,1),2:(0,1,0),3:(1,0,0)}.get, graph.node_type.numpy().astype(int)))\n",
    "\n",
    "nx.draw(g,node_color=node_color)"
   ]
  },
  {
   "cell_type": "code",
   "execution_count": 308,
   "id": "42b80d02",
   "metadata": {},
   "outputs": [
    {
     "name": "stdout",
     "output_type": "stream",
     "text": [
      "721\n",
      "714\n"
     ]
    }
   ],
   "source": [
    "\n",
    "from torch_geometric.loader import DataLoader\n",
    "\n",
    "training,validation = gnn.train_test_split(dataset,0.99)\n",
    "print(len(training))\n",
    "\n",
    "validation, _ = gnn.train_test_split(validation, 0.99)\n",
    "print(len(validation))\n",
    "trainloader = DataLoader(training,batch_size=100,shuffle=True,num_workers=16)\n",
    "validloader = DataLoader(validation,batch_size=100,shuffle=True,num_workers=16)\n"
   ]
  },
  {
   "cell_type": "code",
   "execution_count": 326,
   "id": "c32b12ed",
   "metadata": {},
   "outputs": [],
   "source": [
    "model = gnn.GoldenGCN(template)"
   ]
  },
  {
   "cell_type": "code",
   "execution_count": 327,
   "id": "22a4a645",
   "metadata": {},
   "outputs": [],
   "source": [
    "for batch in trainloader: break"
   ]
  },
  {
   "cell_type": "code",
   "execution_count": 328,
   "id": "62fc1c8d",
   "metadata": {},
   "outputs": [],
   "source": [
    "node_o, edge_o = model.predict(batch)"
   ]
  },
  {
   "cell_type": "code",
   "execution_count": 329,
   "id": "edef0ddc",
   "metadata": {},
   "outputs": [
    {
     "data": {
      "text/plain": [
       "tensor([0.9793, 0.4861, 0.2955,  ..., 0.9595, 0.6740, 0.1541])"
      ]
     },
     "execution_count": 329,
     "metadata": {},
     "output_type": "execute_result"
    }
   ],
   "source": [
    "edge_o[batch.edge_type==1]"
   ]
  },
  {
   "cell_type": "code",
   "execution_count": 336,
   "id": "8e5cb3c3",
   "metadata": {},
   "outputs": [
    {
     "name": "stderr",
     "output_type": "stream",
     "text": [
      "GPU available: False, used: False\n",
      "TPU available: False, using: 0 TPU cores\n",
      "IPU available: False, using: 0 IPUs\n"
     ]
    }
   ],
   "source": [
    "import pytorch_lightning as pl\n",
    "from pytorch_lightning.callbacks.early_stopping import EarlyStopping\n",
    "from pytorch_lightning.callbacks import ModelCheckpoint\n",
    "\n",
    "trainer = pl.Trainer(\n",
    "    max_epochs=10,\n",
    "    gpus=1 if gnn.config.useGPU else 0,\n",
    "    # callbacks=[EarlyStopping(monitor=\"val_loss\")],\n",
    ")"
   ]
  },
  {
   "cell_type": "code",
   "execution_count": 337,
   "id": "f3d1e621",
   "metadata": {},
   "outputs": [
    {
     "name": "stderr",
     "output_type": "stream",
     "text": [
      "\n",
      "  | Name         | Type          | Params\n",
      "-----------------------------------------------\n",
      "0 | conv1        | GCNConvMSG    | 480   \n",
      "1 | relu1        | GCNRelu       | 0     \n",
      "2 | conv2        | GCNConvMSG    | 20.6 K\n",
      "3 | relu2        | GCNRelu       | 0     \n",
      "4 | node_linear1 | NodeLinear    | 8.3 K \n",
      "5 | edge_linear1 | EdgeLinear    | 24.6 K\n",
      "6 | relu3        | GCNRelu       | 0     \n",
      "7 | node_linear2 | NodeLinear    | 130   \n",
      "8 | edge_linear2 | EdgeLinear    | 130   \n",
      "9 | log_softmax  | GCNLogSoftmax | 0     \n",
      "-----------------------------------------------\n",
      "54.2 K    Trainable params\n",
      "0         Non-trainable params\n",
      "54.2 K    Total params\n",
      "0.217     Total estimated model params size (MB)\n"
     ]
    },
    {
     "name": "stdout",
     "output_type": "stream",
     "text": [
      "Epoch 9: 100%|██████████| 16/16 [00:05<00:00,  2.98it/s, loss=1.96, v_num=2]\n"
     ]
    }
   ],
   "source": [
    "fit = trainer.fit(model, trainloader, validloader)"
   ]
  },
  {
   "cell_type": "code",
   "execution_count": 339,
   "id": "e9373ebd",
   "metadata": {},
   "outputs": [
    {
     "data": {
      "text/plain": [
       "tensor([1, 1, 1, 1, 0, 1, 0, 0, 0, 1, 1, 1, 1, 1, 1, 1, 1])"
      ]
     },
     "execution_count": 339,
     "metadata": {},
     "output_type": "execute_result"
    }
   ],
   "source": [
    "dataset[0].y"
   ]
  },
  {
   "cell_type": "code",
   "execution_count": 338,
   "id": "4c57731e",
   "metadata": {},
   "outputs": [
    {
     "data": {
      "text/plain": [
       "(tensor([0.3875, 0.6452, 0.9214, 0.9119, 0.3542, 0.4355, 0.6190, 0.2318, 0.8667]),\n",
       " tensor([0.0066, 0.1947, 0.2393, 0.2617, 0.0772, 0.0503, 0.2178, 0.0533, 0.2259,\n",
       "         0.2484, 0.6986, 0.3375, 0.5841, 0.1465, 0.0168, 0.3031, 0.0927, 0.5432,\n",
       "         0.4721, 0.6203, 0.6817, 0.5524, 0.5852, 0.4309, 0.6071, 0.4424, 0.4734,\n",
       "         0.4335, 0.6333, 0.6312, 0.4851, 0.4800, 0.1981, 0.4063, 0.4076, 0.4731,\n",
       "         0.1600, 0.3801, 0.5500, 0.3121, 0.1558, 0.1443, 0.3912, 0.0753, 0.2159,\n",
       "         0.1064, 0.0566, 0.4572, 0.2246, 0.1325, 0.1294, 0.3035, 0.0860, 0.1171,\n",
       "         0.6122, 0.3418, 0.5392, 0.3391, 0.5021, 0.3229, 0.2521, 0.3886, 0.3429,\n",
       "         0.1643, 0.2309, 0.3793, 0.1848, 0.1431, 0.0855, 0.2544, 0.0778, 0.1361,\n",
       "         0.5131, 0.7388, 0.6478, 0.5841, 0.3256, 0.0734, 0.4714, 0.1389, 0.5826]))"
      ]
     },
     "execution_count": 338,
     "metadata": {},
     "output_type": "execute_result"
    }
   ],
   "source": [
    "model.predict(dataset[0])"
   ]
  },
  {
   "cell_type": "code",
   "execution_count": 334,
   "id": "79b06f31",
   "metadata": {},
   "outputs": [
    {
     "data": {
      "text/plain": [
       "8"
      ]
     },
     "execution_count": 334,
     "metadata": {},
     "output_type": "execute_result"
    }
   ],
   "source": [
    "model.global_step"
   ]
  }
 ],
 "metadata": {
  "interpreter": {
   "hash": "0dc50badf6bcf34ee37feb4ddab24eb1b71716d96fc6cae89d10c22f5e3462c0"
  },
  "kernelspec": {
   "display_name": "Python 3.8.10 64-bit ('base': conda)",
   "name": "python3"
  },
  "language_info": {
   "codemirror_mode": {
    "name": "ipython",
    "version": 3
   },
   "file_extension": ".py",
   "mimetype": "text/x-python",
   "name": "python",
   "nbconvert_exporter": "python",
   "pygments_lexer": "ipython3",
   "version": "3.8.12"
  }
 },
 "nbformat": 4,
 "nbformat_minor": 5
}

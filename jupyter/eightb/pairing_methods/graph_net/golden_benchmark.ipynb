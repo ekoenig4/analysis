{
 "cells": [
  {
   "cell_type": "code",
   "execution_count": 62,
   "id": "ef215b25",
   "metadata": {},
   "outputs": [],
   "source": [
    "import torch \n",
    "\n",
    "x = torch.Tensor([[0.0512, 0.0819, 0.5242, 0.8290, 0.6909],\n",
    "         [0.0664, 0.0803, 0.4328, 0.1801, 0.1115],\n",
    "         [0.0477, 0.0498, 0.5256, 0.7370, 0.9995],\n",
    "         [0.0423, 0.0461, 0.5412, 0.4574, 1.0000],\n",
    "         [0.0332, 0.0345, 0.6013, 0.2524, 0.7095],\n",
    "         [0.0124, 0.0228, 0.4840, 0.3787, 0.0775],\n",
    "         [0.0137, 0.0150, 0.6543, 0.5511, 0.0064]])\n",
    "edge_index = torch.Tensor([[0, 0, 0, 0, 0, 0, 1, 1, 1, 1, 1, 2, 2, 2, 2, 3, 3, 3, 4, 4, 5],\n",
    "         [1, 2, 3, 4, 5, 6, 2, 3, 4, 5, 6, 3, 4, 5, 6, 4, 5, 6, 5, 6, 6]]).long()\n",
    "edge_attr = torch.Tensor([[0.2260],[0.0546],[0.2210],\n",
    "         [0.2618],[0.2698],[0.2068],\n",
    "         [0.2775],[0.1947],[0.1674],\n",
    "         [0.1277],[0.3061],[0.1665],\n",
    "         [0.2965],[0.2162],[0.1656],\n",
    "         [0.1346],[0.0720],[0.1220],\n",
    "         [0.1352],[0.1843],[0.1928]])"
   ]
  },
  {
   "cell_type": "code",
   "execution_count": 51,
   "id": "a39e980e",
   "metadata": {},
   "outputs": [
    {
     "data": {
      "text/plain": [
       "tensor([[-0.4092, -0.0960],\n",
       "        [-0.2857,  0.3190],\n",
       "        [-0.2989, -0.2101],\n",
       "        [-0.2095, -0.1197],\n",
       "        [-0.2423,  0.0918],\n",
       "        [-0.4049,  0.2873],\n",
       "        [-0.5584,  0.3292]], grad_fn=<AddmmBackward>)"
      ]
     },
     "execution_count": 51,
     "metadata": {},
     "output_type": "execute_result"
    }
   ],
   "source": [
    "linear = torch.nn.Linear(5,2)\n",
    "\n",
    "linear(x)"
   ]
  },
  {
   "cell_type": "code",
   "execution_count": 52,
   "id": "ee3fc3a9",
   "metadata": {},
   "outputs": [
    {
     "data": {
      "text/plain": [
       "OrderedDict([('weight',\n",
       "              tensor([[ 0.3498, -0.0110, -0.4418, -0.3503,  0.2580],\n",
       "                      [-0.1232,  0.2168,  0.3799, -0.3032, -0.4404]])),\n",
       "             ('bias', tensor([-0.0825,  0.2490]))])"
      ]
     },
     "execution_count": 52,
     "metadata": {},
     "output_type": "execute_result"
    }
   ],
   "source": [
    "linear.state_dict()"
   ]
  },
  {
   "cell_type": "code",
   "execution_count": 17,
   "id": "6c0a2533",
   "metadata": {},
   "outputs": [],
   "source": [
    "from torch_geometric.nn import MessagePassing\n",
    "\n",
    "class GCNConv(MessagePassing):\n",
    "    def __init__(self,n_in_node,n_in_edge,n_out):\n",
    "        super(GCNConv,self).__init__(aggr='add')\n",
    "        self.linear = torch.nn.Linear(2*n_in_node+n_in_edge,n_out);\n",
    "    def forward(self, x, edge_index, edge_attr):\n",
    "        self.messages = []\n",
    "        return self.propagate(edge_index,x=x,edge_attr=edge_attr)\n",
    "    \n",
    "    def message(self,x_i, x_j, edge_attr):\n",
    "        out = torch.cat([x_i,x_j-x_i,edge_attr],dim=1)\n",
    "        out = self.linear(out)\n",
    "        self.messages.append((x_i,x_j,edge_attr,out))\n",
    "        return out\n",
    "    \n",
    "    def update(self,aggr_out):\n",
    "        return aggr_out"
   ]
  },
  {
   "cell_type": "code",
   "execution_count": 18,
   "id": "efc4c59c",
   "metadata": {},
   "outputs": [
    {
     "data": {
      "text/plain": [
       "(torch.Size([7, 5]), torch.Size([2, 21]), torch.Size([21, 1]))"
      ]
     },
     "execution_count": 18,
     "metadata": {},
     "output_type": "execute_result"
    }
   ],
   "source": [
    "x.shape,edge_index.shape,edge_attr.shape"
   ]
  },
  {
   "cell_type": "code",
   "execution_count": 28,
   "id": "67fc23a7",
   "metadata": {},
   "outputs": [
    {
     "data": {
      "text/plain": [
       "tensor([[ 0.0000,  0.0000],\n",
       "        [-0.1290, -0.4445],\n",
       "        [ 0.4433, -0.3137],\n",
       "        [ 0.4822, -0.7074],\n",
       "        [ 0.0793, -1.1414],\n",
       "        [-0.5888, -1.8665],\n",
       "        [-0.9600, -1.6114]], grad_fn=<ScatterAddBackward>)"
      ]
     },
     "execution_count": 28,
     "metadata": {},
     "output_type": "execute_result"
    }
   ],
   "source": [
    "layer = GCNConv(5,1,2)\n",
    "true_out = layer(x,edge_index,edge_attr)\n",
    "\n",
    "true_out"
   ]
  },
  {
   "cell_type": "code",
   "execution_count": 71,
   "id": "fc90e60f",
   "metadata": {},
   "outputs": [],
   "source": [
    "def debug_compare(true,test):\n",
    "    return ((true-test)**2).sum()"
   ]
  },
  {
   "cell_type": "code",
   "execution_count": 72,
   "id": "1e94e8a1",
   "metadata": {},
   "outputs": [],
   "source": [
    "def linear(input,weights,biases):\n",
    "    return torch.Tensor([ [(array*weight).sum()+bias for weight,bias in zip(weights,biases) ] for array in input ])"
   ]
  },
  {
   "cell_type": "code",
   "execution_count": 73,
   "id": "5ca42703",
   "metadata": {},
   "outputs": [],
   "source": [
    "def message(x,edge_index,edge_attr):\n",
    "    src,dest = edge_index\n",
    "    msg = torch.cat([x[dest],x[src]-x[dest],edge_attr],dim=1)\n",
    "    return linear(msg,layer.linear.weight,layer.linear.bias)"
   ]
  },
  {
   "cell_type": "code",
   "execution_count": 74,
   "id": "410b0724",
   "metadata": {},
   "outputs": [
    {
     "data": {
      "text/plain": [
       "tensor([[ 0.0000,  0.0000],\n",
       "        [-0.1290, -0.4445],\n",
       "        [ 0.4433, -0.3137],\n",
       "        [ 0.4822, -0.7074],\n",
       "        [ 0.0793, -1.1414],\n",
       "        [-0.5888, -1.8665],\n",
       "        [-0.9600, -1.6114]], grad_fn=<ScatterAddBackward>)"
      ]
     },
     "execution_count": 74,
     "metadata": {},
     "output_type": "execute_result"
    }
   ],
   "source": [
    "layer(x,edge_index,edge_attr)"
   ]
  },
  {
   "cell_type": "code",
   "execution_count": 76,
   "id": "c314c368",
   "metadata": {},
   "outputs": [
    {
     "data": {
      "text/plain": [
       "tensor(9.5349e-15, grad_fn=<SumBackward0>)"
      ]
     },
     "execution_count": 76,
     "metadata": {},
     "output_type": "execute_result"
    }
   ],
   "source": [
    "true_msg = layer.messages[0][-1]\n",
    "new_msg = message(x,edge_index,edge_attr)\n",
    "debug_compare(true_msg,new_msg)"
   ]
  },
  {
   "cell_type": "code",
   "execution_count": 40,
   "id": "1e2e69e9",
   "metadata": {},
   "outputs": [],
   "source": [
    "def scatter_add(x,edge_index,msg):\n",
    "    n_nodes,n_features = x.shape[0],msg.shape[1]\n",
    "    out = torch.zeros((n_nodes,n_features))\n",
    "    _,col = edge_index\n",
    "    for e,u in enumerate(col):\n",
    "        out[u] += msg[e]\n",
    "    return out"
   ]
  },
  {
   "cell_type": "code",
   "execution_count": 41,
   "id": "d3369735",
   "metadata": {},
   "outputs": [],
   "source": [
    "def scatter_max(x,edge_index,msg):\n",
    "    n_nodes,n_features = x.shape[0],msg.shape[1]\n",
    "    out = torch.zeros((n_nodes,n_features))\n",
    "    _,col = edge_index\n",
    "    for e,u in enumerate(col):\n",
    "        for i in range(n_features):\n",
    "            out[u,i] = max(out[u,i],msg[e,i])\n",
    "    return out"
   ]
  },
  {
   "cell_type": "code",
   "execution_count": 42,
   "id": "7b107434",
   "metadata": {},
   "outputs": [
    {
     "data": {
      "text/plain": [
       "torch.Size([21, 2])"
      ]
     },
     "execution_count": 42,
     "metadata": {},
     "output_type": "execute_result"
    }
   ],
   "source": [
    "new_msg.shape"
   ]
  },
  {
   "cell_type": "code",
   "execution_count": 43,
   "id": "bda96467",
   "metadata": {},
   "outputs": [
    {
     "data": {
      "text/plain": [
       "tensor(1.1380e-14, grad_fn=<SumBackward0>)"
      ]
     },
     "execution_count": 43,
     "metadata": {},
     "output_type": "execute_result"
    }
   ],
   "source": [
    "new_out = scatter_add(x,edge_index,new_msg)\n",
    "# new_out = scatter_max(new_x,edge_index,new_msg)\n",
    "debug_compare(true_out,new_out)"
   ]
  },
  {
   "cell_type": "code",
   "execution_count": 44,
   "id": "212d8406",
   "metadata": {},
   "outputs": [],
   "source": [
    "def full_layer(x,edge_index,edge_attr):\n",
    "    msg = message(x,edge_index,edge_attr)\n",
    "    out = scatter_add(x,edge_index,msg)\n",
    "    return out"
   ]
  },
  {
   "cell_type": "code",
   "execution_count": 45,
   "id": "8e151bae",
   "metadata": {},
   "outputs": [
    {
     "data": {
      "text/plain": [
       "100000"
      ]
     },
     "execution_count": 45,
     "metadata": {},
     "output_type": "execute_result"
    }
   ],
   "source": [
    "import sys,git\n",
    "sys.path.append( git.Repo('.', search_parent_directories=True).working_tree_dir )\n",
    "from utils import *\n",
    "\n",
    "import utils.torchUtils as gnn\n",
    "\n",
    "def to_input(graph):\n",
    "    return graph.x,graph.edge_index,graph.edge_attr\n",
    "\n",
    "dataset = gnn.Dataset('data/signal-training',transform=gnn.to_uptri_graph)\n",
    "len(dataset)"
   ]
  },
  {
   "cell_type": "code",
   "execution_count": 46,
   "id": "48c464b9",
   "metadata": {},
   "outputs": [],
   "source": [
    "from torch_geometric.loader import DataLoader\n",
    "\n",
    "training,validation = gnn.train_test_split(dataset,0.2)\n",
    "\n",
    "trainloader = DataLoader(training[:1000],batch_size=10,shuffle=True,num_workers=4)"
   ]
  },
  {
   "cell_type": "code",
   "execution_count": 47,
   "id": "8ebf3489",
   "metadata": {},
   "outputs": [],
   "source": [
    "def compare_models(graph):\n",
    "    x,edge_index,edge_attr = to_input(graph)\n",
    "    true_out = layer(x,edge_index,edge_attr)\n",
    "    new_out = full_layer(x,edge_index,edge_attr)\n",
    "\n",
    "    with torch.no_grad():\n",
    "        return float(debug_compare(true_out,new_out))\n"
   ]
  },
  {
   "cell_type": "code",
   "execution_count": 48,
   "id": "925e79c3",
   "metadata": {},
   "outputs": [],
   "source": [
    "comparison = [ compare_models(train) for train in trainloader ]"
   ]
  },
  {
   "cell_type": "code",
   "execution_count": 49,
   "id": "5d245ae5",
   "metadata": {},
   "outputs": [
    {
     "data": {
      "image/png": "[encoded data removed]",
      "text/plain": [
       "<Figure size 384x360 with 1 Axes>"
      ]
     },
     "metadata": {
      "needs_background": "light"
     },
     "output_type": "display_data"
    }
   ],
   "source": [
    "import matplotlib.pyplot as plt\n",
    "import numpy \n",
    "\n",
    "plt.hist(comparison)\n",
    "plt.show()"
   ]
  },
  {
   "cell_type": "code",
   "execution_count": 50,
   "id": "e3469e22",
   "metadata": {},
   "outputs": [
    {
     "data": {
      "text/plain": [
       "OrderedDict([('linear.weight',\n",
       "              tensor([[-0.1274,  0.2725, -0.2208,  0.0745,  0.2331, -0.0438,  0.0009,  0.0686,\n",
       "                       -0.0600, -0.0723, -0.0197],\n",
       "                      [-0.2133, -0.0064,  0.1091,  0.0283, -0.1003, -0.2419,  0.0016, -0.2718,\n",
       "                       -0.0960, -0.1954, -0.0102]])),\n",
       "             ('linear.bias', tensor([-0.0080, -0.2720]))])"
      ]
     },
     "execution_count": 50,
     "metadata": {},
     "output_type": "execute_result"
    }
   ],
   "source": [
    "layer.state_dict()"
   ]
  },
  {
   "cell_type": "code",
   "execution_count": 56,
   "id": "c2a3adba",
   "metadata": {},
   "outputs": [],
   "source": [
    "src,dest = edge_index"
   ]
  },
  {
   "cell_type": "code",
   "execution_count": 57,
   "id": "7b67d357",
   "metadata": {},
   "outputs": [
    {
     "data": {
      "text/plain": [
       "tensor([0, 0, 0, 0, 0, 0, 1, 1, 1, 1, 1, 2, 2, 2, 2, 3, 3, 3, 4, 4, 5])"
      ]
     },
     "execution_count": 57,
     "metadata": {},
     "output_type": "execute_result"
    }
   ],
   "source": [
    "src"
   ]
  }
 ],
 "metadata": {
  "interpreter": {
   "hash": "0dc50badf6bcf34ee37feb4ddab24eb1b71716d96fc6cae89d10c22f5e3462c0"
  },
  "kernelspec": {
   "display_name": "Python 3.8.10 64-bit ('base': conda)",
   "name": "python3"
  },
  "language_info": {
   "codemirror_mode": {
    "name": "ipython",
    "version": 3
   },
   "file_extension": ".py",
   "mimetype": "text/x-python",
   "name": "python",
   "nbconvert_exporter": "python",
   "pygments_lexer": "ipython3",
   "version": "3.8.12"
  }
 },
 "nbformat": 4,
 "nbformat_minor": 5
}

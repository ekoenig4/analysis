{
 "cells": [
  {
   "cell_type": "code",
   "execution_count": 1,
   "id": "ef215b25",
   "metadata": {},
   "outputs": [],
   "source": [
    "%load_ext autoreload\n",
    "%autoreload 2\n",
    "\n",
    "import os\n",
    "import sys\n",
    "import git\n",
    "\n",
    "import uproot as ut\n",
    "import awkward as ak\n",
    "import numpy as np\n",
    "import math\n",
    "import vector\n",
    "import sympy as sp\n",
    "\n",
    "import re\n",
    "from tqdm import tqdm\n",
    "import timeit\n",
    "\n",
    "sys.path.append( git.Repo('.', search_parent_directories=True).working_tree_dir )\n",
    "from utils import *\n",
    "\n",
    "import utils.torchUtils as gnn"
   ]
  },
  {
   "cell_type": "code",
   "execution_count": 2,
   "id": "c8cf317c",
   "metadata": {},
   "outputs": [
    {
     "data": {
      "text/plain": [
       "61521"
      ]
     },
     "execution_count": 2,
     "metadata": {},
     "output_type": "execute_result"
    }
   ],
   "source": [
    "dataset = gnn.Dataset('data/signal-training',transform=gnn.to_uptri_graph)\n",
    "len(dataset)"
   ]
  },
  {
   "cell_type": "code",
   "execution_count": 3,
   "id": "af08af1d",
   "metadata": {},
   "outputs": [
    {
     "data": {
      "text/plain": [
       "61521"
      ]
     },
     "execution_count": 3,
     "metadata": {},
     "output_type": "execute_result"
    }
   ],
   "source": [
    "testing = gnn.Dataset('data/signal-testing',transform=gnn.to_uptri_graph)\n",
    "len(testing)"
   ]
  },
  {
   "cell_type": "code",
   "execution_count": 4,
   "id": "52c6c0a3",
   "metadata": {},
   "outputs": [],
   "source": [
    "from torch_geometric.loader import DataLoader\n",
    "\n",
    "training,validation = gnn.train_test_split(dataset,0.2)\n",
    "\n",
    "trainloader = DataLoader(training,batch_size=100,shuffle=True,num_workers=4)\n",
    "testloader = DataLoader(testing,batch_size=100,num_workers=4)\n",
    "validloader = DataLoader(validation,batch_size=100,num_workers=4)"
   ]
  },
  {
   "cell_type": "code",
   "execution_count": 5,
   "id": "49a582f1",
   "metadata": {},
   "outputs": [],
   "source": [
    "model = gnn.GoldenGCN(dataset)"
   ]
  },
  {
   "cell_type": "code",
   "execution_count": 6,
   "id": "cded321f",
   "metadata": {},
   "outputs": [
    {
     "name": "stderr",
     "output_type": "stream",
     "text": [
      "GPU available: True, used: True\n",
      "TPU available: False, using: 0 TPU cores\n",
      "IPU available: False, using: 0 IPUs\n"
     ]
    }
   ],
   "source": [
    "import pytorch_lightning as pl\n",
    "from pytorch_lightning.callbacks.early_stopping import EarlyStopping\n",
    "from pytorch_lightning.callbacks import ModelCheckpoint\n",
    "\n",
    "trainer = pl.Trainer(max_epochs=10, gpus=1 if gnn.useGPU else 0,\n",
    "                     default_root_dir=\"models/golden_classifier\")"
   ]
  },
  {
   "cell_type": "code",
   "execution_count": 7,
   "id": "0db31cfe",
   "metadata": {},
   "outputs": [
    {
     "name": "stderr",
     "output_type": "stream",
     "text": [
      "LOCAL_RANK: 0 - CUDA_VISIBLE_DEVICES: [0]\n",
      "\n",
      "  | Name        | Type       | Params\n",
      "-------------------------------------------\n",
      "0 | node_conv1  | GCNConv    | 384   \n",
      "1 | edge_conv1  | EdgeConCat | 0     \n",
      "2 | node_conv2  | GCNConv    | 16.6 K\n",
      "3 | edge_conv2  | EdgeConCat | 0     \n",
      "4 | node_linear | Linear     | 258   \n",
      "5 | edge_linear | Linear     | 644   \n",
      "-------------------------------------------\n",
      "17.9 K    Trainable params\n",
      "0         Non-trainable params\n",
      "17.9 K    Total params\n",
      "0.072     Total estimated model params size (MB)\n"
     ]
    },
    {
     "name": "stdout",
     "output_type": "stream",
     "text": [
      "                                                                      "
     ]
    },
    {
     "name": "stderr",
     "output_type": "stream",
     "text": [
      "/uscms/home/ekoenig/nobackup/miniconda3/envs/torch-gpu/lib/python3.8/site-packages/pytorch_lightning/utilities/data.py:59: UserWarning: Trying to infer the `batch_size` from an ambiguous collection. The batch size we found is 1. To avoid any miscalculations, use `self.log(..., batch_size=batch_size)`.\n",
      "  warning_cache.warn(\n"
     ]
    },
    {
     "name": "stdout",
     "output_type": "stream",
     "text": [
      "Epoch 9: 100%|██████████| 617/617 [00:11<00:00, 55.10it/s, loss=2.08, v_num=4]\n"
     ]
    }
   ],
   "source": [
    "trainer.fit(model, trainloader, validloader)"
   ]
  },
  {
   "cell_type": "code",
   "execution_count": 8,
   "id": "d0d213c6",
   "metadata": {},
   "outputs": [
    {
     "name": "stderr",
     "output_type": "stream",
     "text": [
      "LOCAL_RANK: 0 - CUDA_VISIBLE_DEVICES: [0]\n"
     ]
    },
    {
     "name": "stdout",
     "output_type": "stream",
     "text": [
      "Testing: 100%|█████████▉| 614/616 [00:08<00:00, 80.93it/s]--------------------------------------------------------------------------------\n",
      "DATALOADER:0 TEST RESULTS\n",
      "{'test_acc': 0.734360933303833, 'test_loss': 2.101123332977295}\n",
      "--------------------------------------------------------------------------------\n",
      "Testing: 100%|██████████| 616/616 [00:08<00:00, 71.01it/s]\n"
     ]
    }
   ],
   "source": [
    "test_results = trainer.test(model,testloader)"
   ]
  },
  {
   "cell_type": "code",
   "execution_count": 9,
   "id": "6de65d01",
   "metadata": {},
   "outputs": [],
   "source": [
    "node_metrics,edge_metrics = gnn.get_model_roc(model,testloader)"
   ]
  },
  {
   "cell_type": "code",
   "execution_count": 10,
   "id": "c40e8875",
   "metadata": {},
   "outputs": [
    {
     "name": "stdout",
     "output_type": "stream",
     "text": [
      "[[0.2        0.86963043 0.57363605]\n",
      " [0.1        0.70960182 0.6818223 ]\n",
      " [0.05       0.57788095 0.8389405 ]]\n",
      "[[0.2        0.72882969 0.61678982]\n",
      " [0.1        0.47024656 0.74358225]\n",
      " [0.05       0.18172999 0.81482697]]\n"
     ]
    }
   ],
   "source": [
    "print(node_metrics.get_wps())\n",
    "print(edge_metrics.get_wps())"
   ]
  },
  {
   "cell_type": "code",
   "execution_count": 11,
   "id": "871e6c9f",
   "metadata": {},
   "outputs": [
    {
     "data": {
      "text/plain": [
       "(<Figure size 384x360 with 1 Axes>, <AxesSubplot:ylabel='Events'>)"
      ]
     },
     "execution_count": 11,
     "metadata": {},
     "output_type": "execute_result"
    },
    {
     "data": {
      "image/png": "[encoded data removed]",
      "text/plain": [
       "<Figure size 384x360 with 1 Axes>"
      ]
     },
     "metadata": {
      "needs_background": "light"
     },
     "output_type": "display_data"
    },
    {
     "data": {
      "image/png": "[encoded data removed]",
      "text/plain": [
       "<Figure size 384x360 with 1 Axes>"
      ]
     },
     "metadata": {
      "needs_background": "light"
     },
     "output_type": "display_data"
    }
   ],
   "source": [
    "hist_multi([node_metrics.pred[node_metrics.true==0],node_metrics.pred[node_metrics.true==1]],density=0)\n",
    "hist_multi([edge_metrics.pred[edge_metrics.true==0],edge_metrics.pred[edge_metrics.true==1]],density=0)"
   ]
  },
  {
   "cell_type": "code",
   "execution_count": 12,
   "id": "92020c3d",
   "metadata": {},
   "outputs": [
    {
     "data": {
      "image/png": "[encoded data removed]",
      "text/plain": [
       "<Figure size 1152x360 with 2 Axes>"
      ]
     },
     "metadata": {
      "needs_background": "light"
     },
     "output_type": "display_data"
    }
   ],
   "source": [
    "fig,ax = gnn.plot_graph_auroc(node_metrics,edge_metrics)"
   ]
  },
  {
   "cell_type": "code",
   "execution_count": null,
   "id": "d81b18da",
   "metadata": {},
   "outputs": [],
   "source": []
  }
 ],
 "metadata": {
  "interpreter": {
   "hash": "0dc50badf6bcf34ee37feb4ddab24eb1b71716d96fc6cae89d10c22f5e3462c0"
  },
  "kernelspec": {
   "display_name": "Python 3.8.10 64-bit ('base': conda)",
   "name": "python3"
  },
  "language_info": {
   "codemirror_mode": {
    "name": "ipython",
    "version": 3
   },
   "file_extension": ".py",
   "mimetype": "text/x-python",
   "name": "python",
   "nbconvert_exporter": "python",
   "pygments_lexer": "ipython3",
   "version": "3.8.12"
  }
 },
 "nbformat": 4,
 "nbformat_minor": 5
}

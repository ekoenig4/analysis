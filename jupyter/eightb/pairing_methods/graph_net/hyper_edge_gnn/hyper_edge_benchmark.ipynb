{
 "cells": [
  {
   "cell_type": "code",
   "execution_count": 1,
   "id": "9bfa3b5a",
   "metadata": {},
   "outputs": [],
   "source": [
    "%load_ext autoreload\n",
    "%autoreload 2\n",
    "\n",
    "import os\n",
    "import sys\n",
    "import git\n",
    "\n",
    "import uproot as ut\n",
    "import awkward as ak\n",
    "import numpy as np\n",
    "import math\n",
    "import vector\n",
    "import sympy as sp\n",
    "\n",
    "import re\n",
    "from tqdm import tqdm\n",
    "import timeit\n",
    "import re\n",
    "\n",
    "sys.path.append( git.Repo('.', search_parent_directories=True).working_tree_dir )\n",
    "from utils import *"
   ]
  },
  {
   "cell_type": "code",
   "execution_count": 2,
   "id": "6edca911",
   "metadata": {},
   "outputs": [],
   "source": [
    "%load_ext line_profiler\n",
    "%load_ext memory_profiler"
   ]
  },
  {
   "cell_type": "code",
   "execution_count": 3,
   "id": "bda6a611",
   "metadata": {},
   "outputs": [],
   "source": [
    "import torch\n",
    "from torch_geometric.data import Data, DataLoader\n",
    "from torch.nn.functional import softmax, relu\n",
    "from torch_geometric.nn import dense_diff_pool\n",
    "from torch_geometric.transforms import BaseTransform\n",
    "from torch import Tensor\n",
    "from typing import Tuple\n"
   ]
  },
  {
   "cell_type": "code",
   "execution_count": 4,
   "id": "33400175",
   "metadata": {},
   "outputs": [],
   "source": [
    "from utils.torchUtils.cpp_geometric import layers"
   ]
  },
  {
   "cell_type": "code",
   "execution_count": 5,
   "id": "33ffe9f7",
   "metadata": {},
   "outputs": [],
   "source": [
    "import utils.torchUtils as gnn \n",
    "template = gnn.Dataset('../data/template',make_template=True, transform=gnn.HyperEdgeY())\n",
    "dataset = gnn.Dataset('../data/MX_1200_MY_500-training',transform=template.transform)\n",
    "# dataset = gnn.concat_dataset([f'eightb/pairing_methods/graph_net/data/{mass}-training' for mass in eightb.mass_list],transform=template.transform)"
   ]
  },
  {
   "cell_type": "code",
   "execution_count": 6,
   "id": "3dcd33ca",
   "metadata": {},
   "outputs": [],
   "source": [
    "data = dataset[0]"
   ]
  },
  {
   "cell_type": "code",
   "execution_count": 7,
   "id": "812dd051",
   "metadata": {},
   "outputs": [],
   "source": [
    "import utils.torchUtils as gnn"
   ]
  },
  {
   "cell_type": "code",
   "execution_count": 27,
   "id": "67f4eb4c",
   "metadata": {},
   "outputs": [],
   "source": [
    "model = gnn.modelMap['golden_hyper_edge_conv'](dataset=template)"
   ]
  },
  {
   "cell_type": "code",
   "execution_count": 28,
   "id": "8e59d636",
   "metadata": {},
   "outputs": [
    {
     "data": {
      "text/plain": [
       "(tensor([[-0.6873, -0.6990],\n",
       "         [-0.6851, -0.7013],\n",
       "         [-0.6849, -0.7014],\n",
       "         [-0.6851, -0.7013],\n",
       "         [-0.6889, -0.6974],\n",
       "         [-0.6822, -0.7042],\n",
       "         [-0.6829, -0.7035],\n",
       "         [-0.6792, -0.7073],\n",
       "         [-0.6836, -0.7028],\n",
       "         [-0.6839, -0.7024]], grad_fn=<LogSoftmaxBackward>),\n",
       " tensor([[-0.6416, -0.7475],\n",
       "         [-0.6387, -0.7507],\n",
       "         [-0.6373, -0.7523],\n",
       "         [-0.6430, -0.7460],\n",
       "         [-0.6410, -0.7482],\n",
       "         [-0.6385, -0.7510],\n",
       "         [-0.6413, -0.7478],\n",
       "         [-0.6403, -0.7490],\n",
       "         [-0.6394, -0.7499],\n",
       "         [-0.6385, -0.7510],\n",
       "         [-0.6393, -0.7501],\n",
       "         [-0.6371, -0.7525],\n",
       "         [-0.6353, -0.7545],\n",
       "         [-0.6382, -0.7513],\n",
       "         [-0.6376, -0.7520],\n",
       "         [-0.6368, -0.7529],\n",
       "         [-0.6375, -0.7521],\n",
       "         [-0.6379, -0.7516],\n",
       "         [-0.6377, -0.7519],\n",
       "         [-0.6379, -0.7516],\n",
       "         [-0.6379, -0.7516],\n",
       "         [-0.6356, -0.7542],\n",
       "         [-0.6346, -0.7553],\n",
       "         [-0.6376, -0.7519],\n",
       "         [-0.6374, -0.7521],\n",
       "         [-0.6366, -0.7530],\n",
       "         [-0.6369, -0.7527],\n",
       "         [-0.6364, -0.7533],\n",
       "         [-0.6374, -0.7521],\n",
       "         [-0.6364, -0.7533],\n",
       "         [-0.6429, -0.7461],\n",
       "         [-0.6377, -0.7519],\n",
       "         [-0.6368, -0.7529],\n",
       "         [-0.6433, -0.7456],\n",
       "         [-0.6423, -0.7467],\n",
       "         [-0.6398, -0.7495],\n",
       "         [-0.6420, -0.7470],\n",
       "         [-0.6418, -0.7472],\n",
       "         [-0.6419, -0.7472],\n",
       "         [-0.6396, -0.7497],\n",
       "         [-0.6410, -0.7482],\n",
       "         [-0.6374, -0.7522],\n",
       "         [-0.6370, -0.7527],\n",
       "         [-0.6422, -0.7468],\n",
       "         [-0.6411, -0.7481],\n",
       "         [-0.6386, -0.7509],\n",
       "         [-0.6408, -0.7483],\n",
       "         [-0.6402, -0.7490],\n",
       "         [-0.6399, -0.7494],\n",
       "         [-0.6385, -0.7510],\n",
       "         [-0.6387, -0.7507],\n",
       "         [-0.6366, -0.7530],\n",
       "         [-0.6363, -0.7534],\n",
       "         [-0.6402, -0.7490],\n",
       "         [-0.6388, -0.7506],\n",
       "         [-0.6389, -0.7505],\n",
       "         [-0.6387, -0.7507],\n",
       "         [-0.6382, -0.7513],\n",
       "         [-0.6392, -0.7502],\n",
       "         [-0.6375, -0.7520],\n",
       "         [-0.6415, -0.7476],\n",
       "         [-0.6373, -0.7523],\n",
       "         [-0.6367, -0.7530],\n",
       "         [-0.6421, -0.7469],\n",
       "         [-0.6410, -0.7481],\n",
       "         [-0.6385, -0.7509],\n",
       "         [-0.6415, -0.7476],\n",
       "         [-0.6415, -0.7476],\n",
       "         [-0.6411, -0.7481],\n",
       "         [-0.6382, -0.7513],\n",
       "         [-0.6405, -0.7487],\n",
       "         [-0.6378, -0.7517],\n",
       "         [-0.6361, -0.7537],\n",
       "         [-0.6419, -0.7471],\n",
       "         [-0.6405, -0.7487],\n",
       "         [-0.6380, -0.7515],\n",
       "         [-0.6416, -0.7475],\n",
       "         [-0.6408, -0.7484],\n",
       "         [-0.6409, -0.7483],\n",
       "         [-0.6373, -0.7523],\n",
       "         [-0.6396, -0.7497],\n",
       "         [-0.6374, -0.7522],\n",
       "         [-0.6371, -0.7525],\n",
       "         [-0.6421, -0.7469],\n",
       "         [-0.6401, -0.7492],\n",
       "         [-0.6392, -0.7502],\n",
       "         [-0.6413, -0.7478],\n",
       "         [-0.6410, -0.7482],\n",
       "         [-0.6401, -0.7491],\n",
       "         [-0.6378, -0.7518],\n",
       "         [-0.6389, -0.7505],\n",
       "         [-0.6378, -0.7517],\n",
       "         [-0.6362, -0.7536],\n",
       "         [-0.6400, -0.7493],\n",
       "         [-0.6387, -0.7507],\n",
       "         [-0.6374, -0.7522],\n",
       "         [-0.6386, -0.7509],\n",
       "         [-0.6378, -0.7517],\n",
       "         [-0.6378, -0.7518],\n",
       "         [-0.6377, -0.7518]], grad_fn=<LogSoftmaxBackward>),\n",
       " tensor([[-0.6643, -0.7229],\n",
       "         [-0.6641, -0.7231],\n",
       "         [-0.6659, -0.7212],\n",
       "         ...,\n",
       "         [-0.6631, -0.7242],\n",
       "         [-0.6635, -0.7237],\n",
       "         [-0.6641, -0.7231]], grad_fn=<LogSoftmaxBackward>))"
      ]
     },
     "execution_count": 28,
     "metadata": {},
     "output_type": "execute_result"
    }
   ],
   "source": [
    "model(data)"
   ]
  },
  {
   "cell_type": "code",
   "execution_count": 20,
   "id": "6a76063f",
   "metadata": {},
   "outputs": [],
   "source": [
    "x, edge_index, edge_attr, hyper_edge_index, hyper_edge_attr = data.x, \\\n",
    "    data.edge_index, data.edge_attr, \\\n",
    "    data.hyper_edge_index, data.hyper_edge_attr"
   ]
  },
  {
   "cell_type": "code",
   "execution_count": 21,
   "id": "bf6678cb",
   "metadata": {},
   "outputs": [],
   "source": [
    "x, edge_attr = model.edge_conv_1(x, edge_index, edge_attr)"
   ]
  },
  {
   "cell_type": "code",
   "execution_count": 22,
   "id": "83573825",
   "metadata": {},
   "outputs": [],
   "source": [
    "x, edge_attr = model.g_relu_1(x, edge_attr)"
   ]
  },
  {
   "cell_type": "code",
   "execution_count": 24,
   "id": "5b813b64",
   "metadata": {},
   "outputs": [],
   "source": [
    "x, hyper_edge_attr = model.hype_conv_1(x, hyper_edge_index, hyper_edge_attr)"
   ]
  },
  {
   "cell_type": "code",
   "execution_count": 25,
   "id": "e7c8df84",
   "metadata": {},
   "outputs": [],
   "source": [
    "x, edge_attr = model.edge_conv_2(x, edge_index, edge_attr)"
   ]
  },
  {
   "cell_type": "code",
   "execution_count": 26,
   "id": "c2109d2f",
   "metadata": {},
   "outputs": [
    {
     "data": {
      "text/plain": [
       "(tensor([[ 28.9935,  13.0057, -14.7285,  ..., -14.4326,   7.9761,   2.1587],\n",
       "         [ 14.2536,  -8.4263, -29.6611,  ...,   5.3014,   1.4122,  -4.7565],\n",
       "         [  7.5626,  -7.1123, -23.8453,  ...,   4.0204,  -1.4770,  -6.8002],\n",
       "         ...,\n",
       "         [  2.8514, -22.5336, -31.9011,  ...,  11.6733,   8.1166,  -3.0087],\n",
       "         [  7.2015,   0.0974, -22.8585,  ...,  -3.7897,   3.6067, -15.2909],\n",
       "         [  7.8197,  -3.0585, -28.6274,  ...,  24.5565,   6.4888,  -0.5445]],\n",
       "        grad_fn=<ScatterAddBackward>),\n",
       " tensor([[ 63.3110,  28.6871, -30.6734,  ..., -31.4522,  17.2765,   5.6220],\n",
       "         [ 46.2618,   4.8230, -46.8142,  ...,  -9.7606,   9.4837,  -2.1926],\n",
       "         [ 38.7554,   5.9557, -40.5492,  ..., -10.8073,   6.4356,  -4.1177],\n",
       "         ...,\n",
       "         [ 11.2271, -28.1211, -64.6501,  ...,  39.7408,  15.1025,  -2.3532],\n",
       "         [ 15.0411,  -2.2754, -53.2683,  ...,  22.0169,  10.9625, -17.5840],\n",
       "         [ 17.1559,  -6.7406, -61.5121,  ...,  53.9737,  13.5391,   0.2767]],\n",
       "        grad_fn=<SumBackward1>))"
      ]
     },
     "execution_count": 26,
     "metadata": {},
     "output_type": "execute_result"
    }
   ],
   "source": [
    "x, edge_attr"
   ]
  }
 ],
 "metadata": {
  "interpreter": {
   "hash": "0dc50badf6bcf34ee37feb4ddab24eb1b71716d96fc6cae89d10c22f5e3462c0"
  },
  "kernelspec": {
   "display_name": "Python 3.8.10 64-bit ('base': conda)",
   "name": "python3"
  },
  "language_info": {
   "codemirror_mode": {
    "name": "ipython",
    "version": 3
   },
   "file_extension": ".py",
   "mimetype": "text/x-python",
   "name": "python",
   "nbconvert_exporter": "python",
   "pygments_lexer": "ipython3",
   "version": "3.8.12"
  }
 },
 "nbformat": 4,
 "nbformat_minor": 5
}

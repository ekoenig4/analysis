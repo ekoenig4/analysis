{
 "cells": [
  {
   "cell_type": "code",
   "execution_count": 1,
   "id": "ef215b25",
   "metadata": {},
   "outputs": [],
   "source": [
    "%load_ext autoreload\n",
    "%autoreload 2\n",
    "\n",
    "import os\n",
    "import sys\n",
    "import git\n",
    "\n",
    "import uproot as ut\n",
    "import awkward as ak\n",
    "import numpy as np\n",
    "import math\n",
    "import vector\n",
    "import sympy as sp\n",
    "\n",
    "import re\n",
    "from tqdm import tqdm\n",
    "import timeit\n",
    "\n",
    "sys.path.append( git.Repo('.', search_parent_directories=True).working_tree_dir )\n",
    "from utils import *\n",
    "\n",
    "import utils.torchUtils as gnn"
   ]
  },
  {
   "cell_type": "code",
   "execution_count": 2,
   "id": "a11a05a2",
   "metadata": {},
   "outputs": [],
   "source": [
    "import torch, torch_geometric\n",
    "from torch import Tensor\n",
    "\n",
    "from torch_geometric.data import Data\n",
    "from torch_geometric.transforms import BaseTransform\n",
    "from torch_geometric.utils import to_networkx\n",
    "import networkx as nx\n",
    "\n",
    "from torch_geometric.typing import Adj, PairTensor\n",
    "from typing import Callable, Optional, Union, Tuple\n",
    "from torch.nn import Linear, Module\n",
    "from torch.nn.functional import softmax, relu, sigmoid"
   ]
  },
  {
   "cell_type": "code",
   "execution_count": 3,
   "id": "e71b248e",
   "metadata": {},
   "outputs": [],
   "source": [
    "def get_pool_weight(pool_tru, nclusters):\n",
    "    n_tot = pool_tru.shape[0]\n",
    "    n_tru = (pool_tru > 0).sum()\n",
    "    n_fak = (pool_tru == 0).sum()\n",
    "\n",
    "    weight = torch.Tensor([n_fak]+[n_tru]*(nclusters-1))\n",
    "    weight = n_tot - weight\n",
    "    return weight\n",
    "\n",
    "\n",
    "class PoolTruth(BaseTransform):\n",
    "    def __call__(self, data : Data) -> Data:\n",
    "        data.h_pool_tru = (data.node_id+1)//2\n",
    "        data.h_pool_weight = get_pool_weight(data.h_pool_tru, 5)\n",
    "\n",
    "        data.y_pool_tru = (data.h_pool_tru+1)//2\n",
    "        data.y_pool_weight = get_pool_weight(data.y_pool_tru, 3)\n",
    "\n",
    "        data.x_pool_tru = (data.y_pool_tru+1)//2\n",
    "        data.x_pool_weight = get_pool_weight(data.x_pool_tru, 2)\n",
    "\n",
    "        return data"
   ]
  },
  {
   "cell_type": "code",
   "execution_count": 4,
   "id": "3a24c867",
   "metadata": {},
   "outputs": [],
   "source": [
    "from torch_geometric.loader import DataLoader, DenseDataLoader\n",
    "\n",
    "def load_dataset(fn='data/MX_1200_MY_500-training', template=None, shuffle=False):\n",
    "    dataset = gnn.Dataset(fn,transform=template.transform)\n",
    "    training, testing = gnn.train_test_split(dataset[:3000], 0.33)\n",
    "    training, validation = gnn.train_test_split(training, 0.5)\n",
    "\n",
    "    batch_size = 1\n",
    "    trainloader = DataLoader(training, batch_size=batch_size, shuffle=shuffle, num_workers=8)\n",
    "    validloader = DataLoader(validation, batch_size=batch_size, shuffle=shuffle, num_workers=8)\n",
    "    testloader = DataLoader(testing, batch_size=batch_size, shuffle=shuffle, num_workers=8)\n",
    "\n",
    "    return trainloader, validloader, testloader\n",
    "\n",
    "template = gnn.Dataset('data/template',make_template=True, transform=PoolTruth())\n",
    "trainloader, validloader, testloader = load_dataset(template=template)"
   ]
  },
  {
   "cell_type": "code",
   "execution_count": 5,
   "id": "bcab2acb",
   "metadata": {},
   "outputs": [],
   "source": [
    "dataset = trainloader.dataset"
   ]
  },
  {
   "cell_type": "code",
   "execution_count": 6,
   "id": "daae11da",
   "metadata": {},
   "outputs": [],
   "source": [
    "data = dataset[0]"
   ]
  },
  {
   "cell_type": "code",
   "execution_count": 7,
   "id": "bf4928f4",
   "metadata": {},
   "outputs": [],
   "source": [
    "from torch.nn.functional import one_hot\n",
    "\n",
    "h_pool_s = one_hot(data.h_pool_tru).float()"
   ]
  },
  {
   "cell_type": "code",
   "execution_count": 8,
   "id": "30040067",
   "metadata": {},
   "outputs": [
    {
     "data": {
      "text/plain": [
       "tensor([[-1.7700, -1.8723,  3.9155,  4.0423, -4.1032],\n",
       "        [ 2.4032,  1.2530,  2.3653, -0.2414,  1.1859],\n",
       "        [ 0.3197,  0.4655,  0.6710, -0.5141, -1.0215],\n",
       "        [-0.0967,  0.7818, -0.3043, -0.2889,  2.0713],\n",
       "        [-0.5433, -0.6029, -0.3427,  1.4341, -0.8838]])"
      ]
     },
     "execution_count": 8,
     "metadata": {},
     "output_type": "execute_result"
    }
   ],
   "source": [
    "h_pool_s.T @ data.x"
   ]
  },
  {
   "cell_type": "code",
   "execution_count": 9,
   "id": "6c58c5d7",
   "metadata": {},
   "outputs": [
    {
     "data": {
      "text/plain": [
       "tensor([[0., 1., 0., 0., 0.],\n",
       "        [0., 0., 0., 1., 0.],\n",
       "        [0., 0., 1., 0., 0.],\n",
       "        [1., 0., 0., 0., 0.],\n",
       "        [1., 0., 0., 0., 0.],\n",
       "        [0., 0., 0., 0., 1.],\n",
       "        [0., 0., 0., 1., 0.],\n",
       "        [0., 1., 0., 0., 0.],\n",
       "        [1., 0., 0., 0., 0.],\n",
       "        [1., 0., 0., 0., 0.]])"
      ]
     },
     "execution_count": 9,
     "metadata": {},
     "output_type": "execute_result"
    }
   ],
   "source": [
    "h_pool_s"
   ]
  },
  {
   "cell_type": "code",
   "execution_count": 10,
   "id": "2c0abda5",
   "metadata": {},
   "outputs": [],
   "source": [
    "perm = torch.eye(data.num_nodes)[torch.randperm(data.num_nodes)]"
   ]
  },
  {
   "cell_type": "code",
   "execution_count": 14,
   "id": "3987cdee",
   "metadata": {},
   "outputs": [],
   "source": [
    "perm_x = torch.matmul(perm, data.x)\n",
    "edge_attr = data.edge_attr.reshape(data.num_nodes, data.num_nodes, -1).movedim(2,0)\n",
    "edge_attr = torch.matmul(perm, torch.matmul(edge_attr, perm.T)).movedim(0,2)\n",
    "perm_edge_attr = edge_attr.reshape(data.num_nodes**2, -1)"
   ]
  },
  {
   "cell_type": "code",
   "execution_count": 15,
   "id": "a00e4628",
   "metadata": {},
   "outputs": [],
   "source": [
    "conv = gnn.layers.GCNConvMSG(14, 2)"
   ]
  },
  {
   "cell_type": "code",
   "execution_count": 16,
   "id": "971f2c58",
   "metadata": {},
   "outputs": [],
   "source": [
    "x_0, edge_attr_0 = conv(data.x, data.edge_index, data.edge_attr)\n",
    "perm_x_0, perm_edge_attr_0 = conv(perm_x, data.edge_index, perm_edge_attr)"
   ]
  },
  {
   "cell_type": "code",
   "execution_count": 17,
   "id": "3a96827c",
   "metadata": {},
   "outputs": [
    {
     "data": {
      "text/plain": [
       "tensor([[ 0.0000e+00,  0.0000e+00],\n",
       "        [ 9.5367e-07,  1.1921e-07],\n",
       "        [ 2.3842e-07,  0.0000e+00],\n",
       "        [ 2.3842e-07, -2.3842e-07],\n",
       "        [ 9.5367e-07, -2.3842e-07],\n",
       "        [ 4.7684e-07,  0.0000e+00],\n",
       "        [ 0.0000e+00,  0.0000e+00],\n",
       "        [ 0.0000e+00,  0.0000e+00],\n",
       "        [-9.5367e-07, -7.1526e-07],\n",
       "        [ 9.5367e-07,  0.0000e+00]], grad_fn=<SubBackward0>)"
      ]
     },
     "execution_count": 17,
     "metadata": {},
     "output_type": "execute_result"
    }
   ],
   "source": [
    "x_0 - perm.T @ perm_x_0"
   ]
  },
  {
   "cell_type": "code",
   "execution_count": 18,
   "id": "ec5dd684",
   "metadata": {},
   "outputs": [
    {
     "data": {
      "text/plain": [
       "torch.Size([100, 2])"
      ]
     },
     "execution_count": 18,
     "metadata": {},
     "output_type": "execute_result"
    }
   ],
   "source": [
    "edge_attr_0.shape"
   ]
  },
  {
   "cell_type": "code",
   "execution_count": 19,
   "id": "464298cf",
   "metadata": {},
   "outputs": [
    {
     "data": {
      "text/plain": [
       "tensor([[ 0.0000e+00,  0.0000e+00,  0.0000e+00,  0.0000e+00,  9.5367e-07,\n",
       "          0.0000e+00,  0.0000e+00,  0.0000e+00, -9.5367e-07,  9.5367e-07],\n",
       "        [ 0.0000e+00,  1.9073e-06,  9.5367e-07,  9.5367e-07,  1.9073e-06,\n",
       "          1.9073e-06,  9.5367e-07,  9.5367e-07,  0.0000e+00,  1.9073e-06],\n",
       "        [ 0.0000e+00,  9.5367e-07,  4.7684e-07,  9.5367e-07,  9.5367e-07,\n",
       "          9.5367e-07,  4.7684e-07,  0.0000e+00, -9.5367e-07,  9.5367e-07],\n",
       "        [ 0.0000e+00,  9.5367e-07,  9.5367e-07,  4.7684e-07,  1.9073e-06,\n",
       "          9.5367e-07,  4.7684e-07,  9.5367e-07, -9.5367e-07,  9.5367e-07],\n",
       "        [ 9.5367e-07,  1.9073e-06,  9.5367e-07,  1.9073e-06,  1.9073e-06,\n",
       "          1.9073e-06,  9.5367e-07,  0.0000e+00,  0.0000e+00,  3.8147e-06],\n",
       "        [ 0.0000e+00,  1.9073e-06,  9.5367e-07,  9.5367e-07,  1.9073e-06,\n",
       "          9.5367e-07,  9.5367e-07,  9.5367e-07,  0.0000e+00,  9.5367e-07],\n",
       "        [ 0.0000e+00,  9.5367e-07,  4.7684e-07,  4.7684e-07,  0.0000e+00,\n",
       "          9.5367e-07,  0.0000e+00,  0.0000e+00, -9.5367e-07,  9.5367e-07],\n",
       "        [ 0.0000e+00,  9.5367e-07,  0.0000e+00,  9.5367e-07,  0.0000e+00,\n",
       "          9.5367e-07,  0.0000e+00,  0.0000e+00, -9.5367e-07,  1.9073e-06],\n",
       "        [-1.9073e-06,  0.0000e+00, -9.5367e-07, -9.5367e-07,  0.0000e+00,\n",
       "         -9.5367e-07, -9.5367e-07, -9.5367e-07, -1.9073e-06,  0.0000e+00],\n",
       "        [ 9.5367e-07,  1.9073e-06,  9.5367e-07,  9.5367e-07,  3.8147e-06,\n",
       "          0.0000e+00,  9.5367e-07,  9.5367e-07,  0.0000e+00,  1.9073e-06]],\n",
       "       grad_fn=<SubBackward0>)"
      ]
     },
     "execution_count": 19,
     "metadata": {},
     "output_type": "execute_result"
    }
   ],
   "source": [
    "edge_attr_0.reshape(x_0.shape[0],x_0.shape[0],-1)[:,:,0] - perm.T @ perm_edge_attr_0.reshape(x_0.shape[0],x_0.shape[0], -1)[:,:,0] @ perm"
   ]
  },
  {
   "cell_type": "code",
   "execution_count": null,
   "id": "86cd5185",
   "metadata": {},
   "outputs": [],
   "source": []
  }
 ],
 "metadata": {
  "interpreter": {
   "hash": "0dc50badf6bcf34ee37feb4ddab24eb1b71716d96fc6cae89d10c22f5e3462c0"
  },
  "kernelspec": {
   "display_name": "Python 3.8.10 64-bit ('base': conda)",
   "name": "python3"
  },
  "language_info": {
   "codemirror_mode": {
    "name": "ipython",
    "version": 3
   },
   "file_extension": ".py",
   "mimetype": "text/x-python",
   "name": "python",
   "nbconvert_exporter": "python",
   "pygments_lexer": "ipython3",
   "version": "3.8.12"
  }
 },
 "nbformat": 4,
 "nbformat_minor": 5
}

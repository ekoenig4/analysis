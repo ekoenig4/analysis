{
 "cells": [
  {
   "cell_type": "code",
   "execution_count": 1,
   "id": "ef215b25",
   "metadata": {},
   "outputs": [],
   "source": [
    "%load_ext autoreload\n",
    "%autoreload 2\n",
    "\n",
    "import os\n",
    "import sys\n",
    "import git\n",
    "\n",
    "import uproot as ut\n",
    "import awkward as ak\n",
    "import numpy as np\n",
    "import math\n",
    "import vector\n",
    "import sympy as sp\n",
    "\n",
    "import re\n",
    "from tqdm import tqdm\n",
    "import timeit\n",
    "\n",
    "sys.path.append( git.Repo('.', search_parent_directories=True).working_tree_dir )\n",
    "from utils import *\n",
    "\n",
    "import utils.torchUtils as gnn\n",
    "\n",
    "plt.style.use('science')\n"
   ]
  },
  {
   "cell_type": "code",
   "execution_count": 2,
   "id": "3dc64309",
   "metadata": {},
   "outputs": [],
   "source": [
    "temptree = Tree(fc.eightb.training.signal_list)"
   ]
  },
  {
   "cell_type": "code",
   "execution_count": 3,
   "id": "5bdb4dac",
   "metadata": {},
   "outputs": [
    {
     "name": "stderr",
     "output_type": "stream",
     "text": [
      "Processing...\n"
     ]
    },
    {
     "name": "stdout",
     "output_type": "stream",
     "text": [
      "Building Template Dataset...\n",
      "Building Features...\n",
      "Saving Dataset...\n"
     ]
    },
    {
     "name": "stderr",
     "output_type": "stream",
     "text": [
      "Done!\n"
     ]
    }
   ],
   "source": [
    "template = gnn.Dataset(f'data/template',temptree,make_template=True)"
   ]
  },
  {
   "cell_type": "code",
   "execution_count": 4,
   "id": "e8620b65",
   "metadata": {},
   "outputs": [],
   "source": [
    "trainiter = TreeIter([Tree(fn) for fn in fc.eightb.training.signal_list])"
   ]
  },
  {
   "cell_type": "code",
   "execution_count": 5,
   "id": "8c81d572",
   "metadata": {},
   "outputs": [
    {
     "name": "stderr",
     "output_type": "stream",
     "text": [
      "Processing...\n"
     ]
    },
    {
     "name": "stdout",
     "output_type": "stream",
     "text": [
      "Building Features...\n",
      "Building Dataset...\n",
      "Saving Dataset...\n"
     ]
    },
    {
     "name": "stderr",
     "output_type": "stream",
     "text": [
      "Done!\n",
      "Processing...\n"
     ]
    },
    {
     "name": "stdout",
     "output_type": "stream",
     "text": [
      "Building Features...\n",
      "Building Dataset...\n",
      "Saving Dataset...\n"
     ]
    },
    {
     "name": "stderr",
     "output_type": "stream",
     "text": [
      "Done!\n",
      "Processing...\n"
     ]
    },
    {
     "name": "stdout",
     "output_type": "stream",
     "text": [
      "Building Features...\n",
      "Building Dataset...\n",
      "Saving Dataset...\n"
     ]
    },
    {
     "name": "stderr",
     "output_type": "stream",
     "text": [
      "Done!\n",
      "Processing...\n"
     ]
    },
    {
     "name": "stdout",
     "output_type": "stream",
     "text": [
      "Building Features...\n",
      "Building Dataset...\n",
      "Saving Dataset...\n"
     ]
    },
    {
     "name": "stderr",
     "output_type": "stream",
     "text": [
      "Done!\n",
      "Processing...\n"
     ]
    },
    {
     "name": "stdout",
     "output_type": "stream",
     "text": [
      "Building Features...\n",
      "Building Dataset...\n",
      "Saving Dataset...\n"
     ]
    },
    {
     "name": "stderr",
     "output_type": "stream",
     "text": [
      "Done!\n",
      "Processing...\n"
     ]
    },
    {
     "name": "stdout",
     "output_type": "stream",
     "text": [
      "Building Features...\n",
      "Building Dataset...\n",
      "Saving Dataset...\n"
     ]
    },
    {
     "name": "stderr",
     "output_type": "stream",
     "text": [
      "Done!\n",
      "Processing...\n"
     ]
    },
    {
     "name": "stdout",
     "output_type": "stream",
     "text": [
      "Building Features...\n",
      "Building Dataset...\n",
      "Saving Dataset...\n"
     ]
    },
    {
     "name": "stderr",
     "output_type": "stream",
     "text": [
      "Done!\n",
      "Processing...\n"
     ]
    },
    {
     "name": "stdout",
     "output_type": "stream",
     "text": [
      "Building Features...\n",
      "Building Dataset...\n",
      "Saving Dataset...\n"
     ]
    },
    {
     "name": "stderr",
     "output_type": "stream",
     "text": [
      "Done!\n"
     ]
    }
   ],
   "source": [
    "dataset = [ gnn.Dataset(f'data/{tree.sample}-training',tree,template) for tree in trainiter ]"
   ]
  },
  {
   "cell_type": "code",
   "execution_count": 6,
   "id": "88272348",
   "metadata": {},
   "outputs": [],
   "source": [
    "testiter = TreeIter([Tree(fn) for fn in fc.eightb.preselection.signal_list])"
   ]
  },
  {
   "cell_type": "code",
   "execution_count": 7,
   "id": "cbbbc76e",
   "metadata": {},
   "outputs": [
    {
     "name": "stderr",
     "output_type": "stream",
     "text": [
      "Processing...\n"
     ]
    },
    {
     "name": "stdout",
     "output_type": "stream",
     "text": [
      "Building Features...\n",
      "Building Dataset...\n",
      "Saving Dataset...\n"
     ]
    },
    {
     "name": "stderr",
     "output_type": "stream",
     "text": [
      "Done!\n",
      "Processing...\n"
     ]
    },
    {
     "name": "stdout",
     "output_type": "stream",
     "text": [
      "Building Features...\n",
      "Building Dataset...\n",
      "Saving Dataset...\n"
     ]
    },
    {
     "name": "stderr",
     "output_type": "stream",
     "text": [
      "Done!\n",
      "Processing...\n"
     ]
    },
    {
     "name": "stdout",
     "output_type": "stream",
     "text": [
      "Building Features...\n",
      "Building Dataset...\n",
      "Saving Dataset...\n"
     ]
    },
    {
     "name": "stderr",
     "output_type": "stream",
     "text": [
      "Done!\n",
      "Processing...\n"
     ]
    },
    {
     "name": "stdout",
     "output_type": "stream",
     "text": [
      "Building Features...\n",
      "Building Dataset...\n",
      "Saving Dataset...\n"
     ]
    },
    {
     "name": "stderr",
     "output_type": "stream",
     "text": [
      "Done!\n",
      "Processing...\n"
     ]
    },
    {
     "name": "stdout",
     "output_type": "stream",
     "text": [
      "Building Features...\n",
      "Building Dataset...\n",
      "Saving Dataset...\n"
     ]
    },
    {
     "name": "stderr",
     "output_type": "stream",
     "text": [
      "Done!\n",
      "Processing...\n"
     ]
    },
    {
     "name": "stdout",
     "output_type": "stream",
     "text": [
      "Building Features...\n",
      "Building Dataset...\n",
      "Saving Dataset...\n"
     ]
    },
    {
     "name": "stderr",
     "output_type": "stream",
     "text": [
      "Done!\n",
      "Processing...\n"
     ]
    },
    {
     "name": "stdout",
     "output_type": "stream",
     "text": [
      "Building Features...\n",
      "Building Dataset...\n",
      "Saving Dataset...\n"
     ]
    },
    {
     "name": "stderr",
     "output_type": "stream",
     "text": [
      "Done!\n",
      "Processing...\n"
     ]
    },
    {
     "name": "stdout",
     "output_type": "stream",
     "text": [
      "Building Features...\n",
      "Building Dataset...\n",
      "Saving Dataset...\n"
     ]
    },
    {
     "name": "stderr",
     "output_type": "stream",
     "text": [
      "Done!\n"
     ]
    }
   ],
   "source": [
    "dataset = [ gnn.Dataset(f'data/{tree.sample}-testing',tree,template) for tree in testiter ]"
   ]
  },
  {
   "cell_type": "code",
   "execution_count": 9,
   "id": "cafd7132",
   "metadata": {},
   "outputs": [],
   "source": [
    "qcdtrees = [ Tree(qcd,allow_empty=True) for qcd in fc.eightb.preselection.QCD_B_List ]"
   ]
  },
  {
   "cell_type": "code",
   "execution_count": 10,
   "id": "e702789d",
   "metadata": {},
   "outputs": [
    {
     "name": "stdout",
     "output_type": "stream",
     "text": [
      "QCD_bEnriched_HT100to200_TuneCP5_13TeV-madgraph-pythia8\n",
      "Building Features...\n",
      "Building Dataset...\n",
      "Saving Dataset...\n",
      "QCD_bEnriched_HT200to300_TuneCP5_13TeV-madgraph-pythia8\n",
      "Building Features...\n"
     ]
    },
    {
     "name": "stderr",
     "output_type": "stream",
     "text": [
      "Processing...\n",
      "Done!\n",
      "Processing...\n"
     ]
    },
    {
     "name": "stdout",
     "output_type": "stream",
     "text": [
      "Building Dataset...\n",
      "Saving Dataset...\n",
      "QCD_bEnriched_HT300to500_TuneCP5_13TeV-madgraph-pythia8\n",
      "Building Features...\n"
     ]
    },
    {
     "name": "stderr",
     "output_type": "stream",
     "text": [
      "Done!\n",
      "Processing...\n"
     ]
    },
    {
     "name": "stdout",
     "output_type": "stream",
     "text": [
      "Building Dataset...\n",
      "Saving Dataset...\n"
     ]
    },
    {
     "name": "stderr",
     "output_type": "stream",
     "text": [
      "Done!\n",
      "Processing...\n"
     ]
    },
    {
     "name": "stdout",
     "output_type": "stream",
     "text": [
      "QCD_bEnriched_HT500to700_TuneCP5_13TeV-madgraph-pythia8\n",
      "Building Features...\n",
      "Building Dataset...\n",
      "Saving Dataset...\n"
     ]
    },
    {
     "name": "stderr",
     "output_type": "stream",
     "text": [
      "Done!\n",
      "Processing...\n"
     ]
    },
    {
     "name": "stdout",
     "output_type": "stream",
     "text": [
      "QCD_bEnriched_HT700to1000_TuneCP5_13TeV-madgraph-pythia8\n",
      "Building Features...\n",
      "Building Dataset...\n",
      "Saving Dataset...\n",
      "QCD_bEnriched_HT1000to1500_TuneCP5_13TeV-madgraph-pythia8\n",
      "Building Features...\n"
     ]
    },
    {
     "name": "stderr",
     "output_type": "stream",
     "text": [
      "Done!\n",
      "Processing...\n"
     ]
    },
    {
     "name": "stdout",
     "output_type": "stream",
     "text": [
      "Building Dataset...\n",
      "Saving Dataset...\n",
      "QCD_bEnriched_HT1500to2000_TuneCP5_13TeV-madgraph-pythia8\n",
      "Building Features...\n"
     ]
    },
    {
     "name": "stderr",
     "output_type": "stream",
     "text": [
      "Done!\n",
      "Processing...\n"
     ]
    },
    {
     "name": "stdout",
     "output_type": "stream",
     "text": [
      "Building Dataset...\n",
      "Saving Dataset...\n"
     ]
    },
    {
     "name": "stderr",
     "output_type": "stream",
     "text": [
      "Done!\n",
      "Processing...\n"
     ]
    },
    {
     "name": "stdout",
     "output_type": "stream",
     "text": [
      "QCD_bEnriched_HT2000toInf_TuneCP5_13TeV-madgraph-pythia8\n",
      "Building Features...\n",
      "Building Dataset...\n",
      "Saving Dataset...\n"
     ]
    },
    {
     "name": "stderr",
     "output_type": "stream",
     "text": [
      "Done!\n",
      "Processing...\n"
     ]
    },
    {
     "name": "stdout",
     "output_type": "stream",
     "text": [
      "QCD_HT100to200_BGenFilter_TuneCP5_13TeV-madgraph-pythia8\n",
      "QCD_HT200to300_BGenFilter_TuneCP5_13TeV-madgraph-pythia8\n",
      "Building Features...\n",
      "Building Dataset...\n",
      "Saving Dataset...\n",
      "QCD_HT300to500_BGenFilter_TuneCP5_13TeV-madgraph-pythia8\n",
      "Building Features...\n"
     ]
    },
    {
     "name": "stderr",
     "output_type": "stream",
     "text": [
      "Done!\n",
      "Processing...\n"
     ]
    },
    {
     "name": "stdout",
     "output_type": "stream",
     "text": [
      "Building Dataset...\n",
      "Saving Dataset...\n"
     ]
    },
    {
     "name": "stderr",
     "output_type": "stream",
     "text": [
      "Done!\n",
      "Processing...\n"
     ]
    },
    {
     "name": "stdout",
     "output_type": "stream",
     "text": [
      "QCD_HT500to700_BGenFilter_TuneCP5_13TeV-madgraph-pythia8\n",
      "Building Features...\n",
      "Building Dataset...\n",
      "Saving Dataset...\n"
     ]
    },
    {
     "name": "stderr",
     "output_type": "stream",
     "text": [
      "Done!\n",
      "Processing...\n"
     ]
    },
    {
     "name": "stdout",
     "output_type": "stream",
     "text": [
      "QCD_HT700to1000_BGenFilter_TuneCP5_13TeV-madgraph-pythia8\n",
      "Building Features...\n",
      "Building Dataset...\n",
      "Saving Dataset...\n",
      "QCD_HT1000to1500_BGenFilter_TuneCP5_13TeV-madgraph-pythia8\n",
      "Building Features...\n"
     ]
    },
    {
     "name": "stderr",
     "output_type": "stream",
     "text": [
      "Done!\n",
      "Processing...\n"
     ]
    },
    {
     "name": "stdout",
     "output_type": "stream",
     "text": [
      "Building Dataset...\n",
      "Saving Dataset...\n"
     ]
    },
    {
     "name": "stderr",
     "output_type": "stream",
     "text": [
      "Done!\n",
      "Processing...\n"
     ]
    },
    {
     "name": "stdout",
     "output_type": "stream",
     "text": [
      "QCD_HT1500to2000_BGenFilter_TuneCP5_13TeV-madgraph-pythia8\n",
      "Building Features...\n",
      "Building Dataset...\n",
      "Saving Dataset...\n"
     ]
    },
    {
     "name": "stderr",
     "output_type": "stream",
     "text": [
      "Done!\n",
      "Processing...\n"
     ]
    },
    {
     "name": "stdout",
     "output_type": "stream",
     "text": [
      "QCD_HT2000toInf_BGenFilter_TuneCP5_13TeV-madgraph-pythia8\n",
      "Building Features...\n",
      "Building Dataset...\n",
      "Saving Dataset...\n"
     ]
    },
    {
     "name": "stderr",
     "output_type": "stream",
     "text": [
      "Done!\n"
     ]
    }
   ],
   "source": [
    "for qcdtree in qcdtrees:\n",
    "    fn = qcdtree.filelist[0].fname.split('/')[-2]\n",
    "    print(fn)\n",
    "    if qcdtree.raw_events > 0:\n",
    "        qcdgraph = gnn.Dataset(f'data/{fn}',qcdtree,template)"
   ]
  },
  {
   "cell_type": "code",
   "execution_count": 24,
   "id": "56b810a4",
   "metadata": {},
   "outputs": [],
   "source": [
    "qcdtree = Tree(fc.eightb.preselection.QCD_B_List)"
   ]
  },
  {
   "cell_type": "code",
   "execution_count": 26,
   "id": "301acae3",
   "metadata": {},
   "outputs": [],
   "source": [
    "from torch.utils.data import ConcatDataset\n",
    "\n",
    "get_graph_path = lambda fn : fn.fname.split('/')[-2]\n",
    "qcdgraphs = ConcatDataset([gnn.Dataset(f\"data/{fn}\",transform=gnn.to_uptri_graph) for fn in map(get_graph_path,qcdtree.filelist)])"
   ]
  }
 ],
 "metadata": {
  "interpreter": {
   "hash": "0dc50badf6bcf34ee37feb4ddab24eb1b71716d96fc6cae89d10c22f5e3462c0"
  },
  "kernelspec": {
   "display_name": "Python 3.8.10 64-bit ('base': conda)",
   "name": "python3"
  },
  "language_info": {
   "codemirror_mode": {
    "name": "ipython",
    "version": 3
   },
   "file_extension": ".py",
   "mimetype": "text/x-python",
   "name": "python",
   "nbconvert_exporter": "python",
   "pygments_lexer": "ipython3",
   "version": "3.8.12"
  }
 },
 "nbformat": 4,
 "nbformat_minor": 5
}

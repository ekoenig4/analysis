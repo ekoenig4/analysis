{
 "cells": [
  {
   "cell_type": "code",
   "execution_count": 1,
   "id": "ef215b25",
   "metadata": {},
   "outputs": [],
   "source": [
    "%load_ext autoreload\n",
    "%autoreload 2\n",
    "\n",
    "import os\n",
    "import sys\n",
    "import git\n",
    "\n",
    "import uproot as ut\n",
    "import awkward as ak\n",
    "import numpy as np\n",
    "import math\n",
    "import vector\n",
    "import sympy as sp\n",
    "\n",
    "import re\n",
    "from tqdm import tqdm\n",
    "import timeit\n",
    "import torch\n",
    "\n",
    "sys.path.append( git.Repo('.', search_parent_directories=True).working_tree_dir )\n",
    "from utils import *\n",
    "\n",
    "import utils.torchUtils as gnn"
   ]
  },
  {
   "cell_type": "code",
   "execution_count": 7,
   "id": "39b7b99d",
   "metadata": {},
   "outputs": [],
   "source": [
    "template = gnn.Dataset('data/MX_1200_MY_500-testing')"
   ]
  },
  {
   "cell_type": "code",
   "execution_count": 26,
   "id": "3d08b69b",
   "metadata": {},
   "outputs": [],
   "source": [
    "np.savetxt('data_csv/unscaled_node_shape.txt',np.array([ x.shape for x in unscaled_nodes]))\n",
    "np.savetxt('data_csv/unscaled_node_x.txt',np.concatenate([x for x in unscaled_nodes]))\n",
    "np.savetxt('data_csv/unscaled_edge_shape.txt',np.array([ x.shape for x in unscaled_edges]))\n",
    "np.savetxt('data_csv/unscaled_edge_attr.txt',np.concatenate([x for x in unscaled_edges]))"
   ]
  },
  {
   "cell_type": "code",
   "execution_count": 8,
   "id": "c18b4e2f",
   "metadata": {},
   "outputs": [],
   "source": [
    "model = gnn.GoldenGCN.load_from_checkpoint(\"models/golden_classifier/lightning_logs/version_3/checkpoints/epoch=9-step=39389.ckpt\", dataset=template)\n",
    "# model = gnn.GoldenGCN(dataset=dataset)"
   ]
  },
  {
   "cell_type": "code",
   "execution_count": 9,
   "id": "82212468",
   "metadata": {},
   "outputs": [
    {
     "name": "stdout",
     "output_type": "stream",
     "text": [
      "Exporting model to: gnn_model_v3/\n",
      "[model]\n",
      "num_node_features = 5\n",
      "node_feautres = m,pt,eta,phi,btag\n",
      "num_edge_features = 1\n",
      "edge_features = dr\n",
      "num_layers = 7\n",
      "layers = GCNConvMSG,GCNRelu,GCNConvMSG,GCNRelu,NodeLinear,EdgeLinear,GCNLogSoftmax\n",
      "layer_shapes = 32,11,0,0,128,160,0,0,2,128,2,384,0,0\n",
      "\n",
      "[scaler]\n",
      "node_scale_min = 0.62060857,20.0,-2.4995117,-3.1415837,0.0010824203\n",
      "node_scale_max = 432.17313,3893.0654,2.4995117,3.1415837,0.9995117\n",
      "edge_scale_min = 0.0\n",
      "edge_scale_max = 5.852164781833368\n"
     ]
    }
   ],
   "source": [
    "import utils.torchUtils.cpp_geometric as cpg \n",
    "\n",
    "cpg.export_model(model,template,'gnn_model_v3/')"
   ]
  },
  {
   "cell_type": "code",
   "execution_count": 13,
   "id": "7678b37d",
   "metadata": {},
   "outputs": [],
   "source": [
    "with torch.no_grad():\n",
    "    node_x, edge_attr = [],[]\n",
    "    for data in dataset[:1000]:\n",
    "        node_o,edge_o = model(data)\n",
    "        node_x.append(node_o.numpy())\n",
    "        edge_attr.append(edge_o.numpy())"
   ]
  },
  {
   "cell_type": "code",
   "execution_count": 14,
   "id": "8c8e8a85",
   "metadata": {},
   "outputs": [],
   "source": [
    "!mkdir -p data_csv\n",
    "\n",
    "np.savetxt('data_csv/golden_node_shape.txt',np.array([ x.shape for x in node_x]))\n",
    "np.savetxt('data_csv/golden_node_x.txt',np.concatenate([x for x in node_x]))"
   ]
  },
  {
   "cell_type": "code",
   "execution_count": 15,
   "id": "f92e7b2c",
   "metadata": {},
   "outputs": [],
   "source": [
    "np.savetxt('data_csv/golden_edge_shape.txt',np.array([ x.shape for x in edge_attr]))\n",
    "np.savetxt('data_csv/golden_edge_attr.txt',np.concatenate([x for x in edge_attr]))"
   ]
  },
  {
   "cell_type": "code",
   "execution_count": 16,
   "id": "4cac088f",
   "metadata": {},
   "outputs": [],
   "source": [
    "testing = [ data for data in dataset[:1000]]"
   ]
  },
  {
   "cell_type": "code",
   "execution_count": 17,
   "id": "026ba5c2",
   "metadata": {},
   "outputs": [],
   "source": [
    "with torch.no_grad():\n",
    "    node_x, edge_attr = [],[]\n",
    "    for data in testing:\n",
    "        node_o,edge_o = model.conv1(data.x,data.edge_index,data.edge_attr)\n",
    "        data.node_o = node_o \n",
    "        data.edge_o = edge_o\n",
    "        \n",
    "        node_x.append(node_o.numpy())\n",
    "        edge_attr.append(edge_o.numpy())\n",
    "    \n",
    "np.savetxt('data_csv/golden_conv1_node_shape.txt',np.array([ x.shape for x in node_x]))\n",
    "np.savetxt('data_csv/golden_conv1_node_x.txt',np.concatenate([x for x in node_x]))\n",
    "np.savetxt('data_csv/golden_conv1_edge_shape.txt',np.array([ x.shape for x in edge_attr]))\n",
    "np.savetxt('data_csv/golden_conv1_edge_attr.txt',np.concatenate([x for x in edge_attr]))"
   ]
  },
  {
   "cell_type": "code",
   "execution_count": 19,
   "id": "f4e4c139",
   "metadata": {},
   "outputs": [],
   "source": [
    "with torch.no_grad():\n",
    "    node_x, edge_attr = [],[]\n",
    "    for data in testing:\n",
    "        node_o,edge_o = model.relu1(data.node_o,data.edge_index,data.edge_o)\n",
    "        data.node_o = node_o \n",
    "        data.edge_o = edge_o\n",
    "        \n",
    "        node_x.append(node_o.numpy())\n",
    "        edge_attr.append(edge_o.numpy())\n",
    "    \n",
    "np.savetxt('data_csv/golden_relu1_node_shape.txt',np.array([ x.shape for x in node_x]))\n",
    "np.savetxt('data_csv/golden_relu1_node_x.txt',np.concatenate([x for x in node_x]))\n",
    "np.savetxt('data_csv/golden_relu1_edge_shape.txt',np.array([ x.shape for x in edge_attr]))\n",
    "np.savetxt('data_csv/golden_relu1_edge_attr.txt',np.concatenate([x for x in edge_attr]))"
   ]
  },
  {
   "cell_type": "code",
   "execution_count": 20,
   "id": "41836871",
   "metadata": {},
   "outputs": [],
   "source": [
    "with torch.no_grad():\n",
    "    node_x, edge_attr = [],[]\n",
    "    for data in testing:\n",
    "        node_o,edge_o = model.conv2(data.node_o,data.edge_index,data.edge_o)\n",
    "        data.node_o = node_o \n",
    "        data.edge_o = edge_o\n",
    "        \n",
    "        node_x.append(node_o.numpy())\n",
    "        edge_attr.append(edge_o.numpy())\n",
    "    \n",
    "np.savetxt('data_csv/golden_conv2_node_shape.txt',np.array([ x.shape for x in node_x]))\n",
    "np.savetxt('data_csv/golden_conv2_node_x.txt',np.concatenate([x for x in node_x]))\n",
    "np.savetxt('data_csv/golden_conv2_edge_shape.txt',np.array([ x.shape for x in edge_attr]))\n",
    "np.savetxt('data_csv/golden_conv2_edge_attr.txt',np.concatenate([x for x in edge_attr]))"
   ]
  },
  {
   "cell_type": "code",
   "execution_count": 21,
   "id": "5b82d2fc",
   "metadata": {},
   "outputs": [],
   "source": [
    "with torch.no_grad():\n",
    "    node_x, edge_attr = [],[]\n",
    "    for data in testing:\n",
    "        node_o,edge_o = model.relu2(data.node_o,data.edge_index,data.edge_o)\n",
    "        data.node_o = node_o \n",
    "        data.edge_o = edge_o\n",
    "        \n",
    "        node_x.append(node_o.numpy())\n",
    "        edge_attr.append(edge_o.numpy())\n",
    "    \n",
    "np.savetxt('data_csv/golden_relu2_node_shape.txt',np.array([ x.shape for x in node_x]))\n",
    "np.savetxt('data_csv/golden_relu2_node_x.txt',np.concatenate([x for x in node_x]))\n",
    "np.savetxt('data_csv/golden_relu2_edge_shape.txt',np.array([ x.shape for x in edge_attr]))\n",
    "np.savetxt('data_csv/golden_relu2_edge_attr.txt',np.concatenate([x for x in edge_attr]))"
   ]
  },
  {
   "cell_type": "code",
   "execution_count": 22,
   "id": "5473a2fa",
   "metadata": {},
   "outputs": [],
   "source": [
    "with torch.no_grad():\n",
    "    node_x, edge_attr = [],[]\n",
    "    for data in testing:\n",
    "        node_o,edge_o = model.node_linear(data.node_o,data.edge_index,data.edge_o)\n",
    "        data.node_o = node_o \n",
    "        data.edge_o = edge_o\n",
    "        \n",
    "        node_x.append(node_o.numpy())\n",
    "        edge_attr.append(edge_o.numpy())\n",
    "    \n",
    "np.savetxt('data_csv/golden_node_linear_node_shape.txt',np.array([ x.shape for x in node_x]))\n",
    "np.savetxt('data_csv/golden_node_linear_node_x.txt',np.concatenate([x for x in node_x]))\n",
    "np.savetxt('data_csv/golden_node_linear_edge_shape.txt',np.array([ x.shape for x in edge_attr]))\n",
    "np.savetxt('data_csv/golden_node_linear_edge_attr.txt',np.concatenate([x for x in edge_attr]))"
   ]
  },
  {
   "cell_type": "code",
   "execution_count": 23,
   "id": "beb38afe",
   "metadata": {},
   "outputs": [],
   "source": [
    "with torch.no_grad():\n",
    "    node_x, edge_attr = [],[]\n",
    "    for data in testing:\n",
    "        node_o,edge_o = model.edge_linear(data.node_o,data.edge_index,data.edge_o)\n",
    "        data.node_o = node_o \n",
    "        data.edge_o = edge_o\n",
    "        \n",
    "        node_x.append(node_o.numpy())\n",
    "        edge_attr.append(edge_o.numpy())\n",
    "    \n",
    "np.savetxt('data_csv/golden_edge_linear_node_shape.txt',np.array([ x.shape for x in node_x]))\n",
    "np.savetxt('data_csv/golden_edge_linear_node_x.txt',np.concatenate([x for x in node_x]))\n",
    "np.savetxt('data_csv/golden_edge_linear_edge_shape.txt',np.array([ x.shape for x in edge_attr]))\n",
    "np.savetxt('data_csv/golden_edge_linear_edge_attr.txt',np.concatenate([x for x in edge_attr]))"
   ]
  },
  {
   "cell_type": "code",
   "execution_count": 24,
   "id": "cfee5231",
   "metadata": {},
   "outputs": [],
   "source": [
    "with torch.no_grad():\n",
    "    node_x, edge_attr = [],[]\n",
    "    for data in testing:\n",
    "        node_o,edge_o = model.log_softmax(data.node_o,data.edge_index,data.edge_o)\n",
    "        data.node_o = node_o \n",
    "        data.edge_o = edge_o\n",
    "        \n",
    "        node_x.append(node_o.numpy())\n",
    "        edge_attr.append(edge_o.numpy())\n",
    "    \n",
    "np.savetxt('data_csv/golden_log_softmax_node_shape.txt',np.array([ x.shape for x in node_x]))\n",
    "np.savetxt('data_csv/golden_log_softmax_node_x.txt',np.concatenate([x for x in node_x]))\n",
    "np.savetxt('data_csv/golden_log_softmax_edge_shape.txt',np.array([ x.shape for x in edge_attr]))\n",
    "np.savetxt('data_csv/golden_log_softmax_edge_attr.txt',np.concatenate([x for x in edge_attr]))"
   ]
  },
  {
   "cell_type": "code",
   "execution_count": 33,
   "id": "073836eb",
   "metadata": {},
   "outputs": [
    {
     "data": {
      "text/plain": [
       "(32, 11)"
      ]
     },
     "execution_count": 33,
     "metadata": {},
     "output_type": "execute_result"
    }
   ],
   "source": [
    "model.conv1.weight.detach().numpy().shape"
   ]
  },
  {
   "cell_type": "code",
   "execution_count": 42,
   "id": "3376f0b0",
   "metadata": {},
   "outputs": [
    {
     "ename": "TypeError",
     "evalue": "'numpy.float32' object is not iterable",
     "output_type": "error",
     "traceback": [
      "\u001b[0;31m---------------------------------------------------------------------------\u001b[0m",
      "\u001b[0;31mTypeError\u001b[0m                                 Traceback (most recent call last)",
      "\u001b[1;32m/uscms_data/d3/ekoenig/8BAnalysis/studies/sixbStudies/jupyter/eightb/pairing_methods/graph_net/export-classifier.ipynb Cell 25'\u001b[0m in \u001b[0;36m<module>\u001b[0;34m\u001b[0m\n\u001b[1;32m      <a href='vscode-notebook-cell://ssh-remote%2Bfnal/uscms_data/d3/ekoenig/8BAnalysis/studies/sixbStudies/jupyter/eightb/pairing_methods/graph_net/export-classifier.ipynb#ch0000024vscode-remote?line=0'>1</a>\u001b[0m output_matrix \u001b[39m=\u001b[39m \u001b[39mlambda\u001b[39;00m matrix : \u001b[39m'\u001b[39m\u001b[39m\\n\u001b[39;00m\u001b[39m'\u001b[39m\u001b[39m.\u001b[39mjoin([ \u001b[39m'\u001b[39m\u001b[39m \u001b[39m\u001b[39m'\u001b[39m\u001b[39m.\u001b[39mjoin(\u001b[39m'\u001b[39m\u001b[39m{:>12}\u001b[39;00m\u001b[39m'\u001b[39m\u001b[39m.\u001b[39mformat(\u001b[39mf\u001b[39m\u001b[39m'\u001b[39m\u001b[39m{\u001b[39;00melem\u001b[39m:\u001b[39;00m\u001b[39m0.6\u001b[39m\u001b[39m}\u001b[39;00m\u001b[39m'\u001b[39m) \u001b[39mfor\u001b[39;00m elem \u001b[39min\u001b[39;00m row) \u001b[39mfor\u001b[39;00m row \u001b[39min\u001b[39;00m matrix   ])\n\u001b[0;32m----> <a href='vscode-notebook-cell://ssh-remote%2Bfnal/uscms_data/d3/ekoenig/8BAnalysis/studies/sixbStudies/jupyter/eightb/pairing_methods/graph_net/export-classifier.ipynb#ch0000024vscode-remote?line=2'>3</a>\u001b[0m \u001b[39mprint\u001b[39m(output_matrix(model\u001b[39m.\u001b[39;49mconv1\u001b[39m.\u001b[39;49mbias\u001b[39m.\u001b[39;49mdetach()\u001b[39m.\u001b[39;49mnumpy()))\n",
      "\u001b[1;32m/uscms_data/d3/ekoenig/8BAnalysis/studies/sixbStudies/jupyter/eightb/pairing_methods/graph_net/export-classifier.ipynb Cell 25'\u001b[0m in \u001b[0;36m<lambda>\u001b[0;34m(matrix)\u001b[0m\n\u001b[0;32m----> <a href='vscode-notebook-cell://ssh-remote%2Bfnal/uscms_data/d3/ekoenig/8BAnalysis/studies/sixbStudies/jupyter/eightb/pairing_methods/graph_net/export-classifier.ipynb#ch0000024vscode-remote?line=0'>1</a>\u001b[0m output_matrix \u001b[39m=\u001b[39m \u001b[39mlambda\u001b[39;00m matrix : \u001b[39m'\u001b[39m\u001b[39m\\n\u001b[39;00m\u001b[39m'\u001b[39m\u001b[39m.\u001b[39mjoin([ \u001b[39m'\u001b[39m\u001b[39m \u001b[39m\u001b[39m'\u001b[39m\u001b[39m.\u001b[39mjoin(\u001b[39m'\u001b[39m\u001b[39m{:>12}\u001b[39;00m\u001b[39m'\u001b[39m\u001b[39m.\u001b[39mformat(\u001b[39mf\u001b[39m\u001b[39m'\u001b[39m\u001b[39m{\u001b[39;00melem\u001b[39m:\u001b[39;00m\u001b[39m0.6\u001b[39m\u001b[39m}\u001b[39;00m\u001b[39m'\u001b[39m) \u001b[39mfor\u001b[39;00m elem \u001b[39min\u001b[39;00m row) \u001b[39mfor\u001b[39;00m row \u001b[39min\u001b[39;00m matrix   ])\n\u001b[1;32m      <a href='vscode-notebook-cell://ssh-remote%2Bfnal/uscms_data/d3/ekoenig/8BAnalysis/studies/sixbStudies/jupyter/eightb/pairing_methods/graph_net/export-classifier.ipynb#ch0000024vscode-remote?line=2'>3</a>\u001b[0m \u001b[39mprint\u001b[39m(output_matrix(model\u001b[39m.\u001b[39mconv1\u001b[39m.\u001b[39mbias\u001b[39m.\u001b[39mdetach()\u001b[39m.\u001b[39mnumpy()))\n",
      "\u001b[1;32m/uscms_data/d3/ekoenig/8BAnalysis/studies/sixbStudies/jupyter/eightb/pairing_methods/graph_net/export-classifier.ipynb Cell 25'\u001b[0m in \u001b[0;36m<listcomp>\u001b[0;34m(.0)\u001b[0m\n\u001b[0;32m----> <a href='vscode-notebook-cell://ssh-remote%2Bfnal/uscms_data/d3/ekoenig/8BAnalysis/studies/sixbStudies/jupyter/eightb/pairing_methods/graph_net/export-classifier.ipynb#ch0000024vscode-remote?line=0'>1</a>\u001b[0m output_matrix \u001b[39m=\u001b[39m \u001b[39mlambda\u001b[39;00m matrix : \u001b[39m'\u001b[39m\u001b[39m\\n\u001b[39;00m\u001b[39m'\u001b[39m\u001b[39m.\u001b[39mjoin([ \u001b[39m'\u001b[39m\u001b[39m \u001b[39m\u001b[39m'\u001b[39m\u001b[39m.\u001b[39mjoin(\u001b[39m'\u001b[39m\u001b[39m{:>12}\u001b[39;00m\u001b[39m'\u001b[39m\u001b[39m.\u001b[39mformat(\u001b[39mf\u001b[39m\u001b[39m'\u001b[39m\u001b[39m{\u001b[39;00melem\u001b[39m:\u001b[39;00m\u001b[39m0.6\u001b[39m\u001b[39m}\u001b[39;00m\u001b[39m'\u001b[39m) \u001b[39mfor\u001b[39;00m elem \u001b[39min\u001b[39;00m row) \u001b[39mfor\u001b[39;00m row \u001b[39min\u001b[39;00m matrix   ])\n\u001b[1;32m      <a href='vscode-notebook-cell://ssh-remote%2Bfnal/uscms_data/d3/ekoenig/8BAnalysis/studies/sixbStudies/jupyter/eightb/pairing_methods/graph_net/export-classifier.ipynb#ch0000024vscode-remote?line=2'>3</a>\u001b[0m \u001b[39mprint\u001b[39m(output_matrix(model\u001b[39m.\u001b[39mconv1\u001b[39m.\u001b[39mbias\u001b[39m.\u001b[39mdetach()\u001b[39m.\u001b[39mnumpy()))\n",
      "\u001b[0;31mTypeError\u001b[0m: 'numpy.float32' object is not iterable"
     ]
    }
   ],
   "source": [
    "output_matrix = lambda matrix : '\\n'.join([ ' '.join('{:>12}'.format(f'{elem:0.6}') for elem in row) for row in matrix   ])\n",
    "\n",
    "print(output_matrix(model.conv1.bias.detach().numpy()))"
   ]
  },
  {
   "cell_type": "code",
   "execution_count": 44,
   "id": "42834590",
   "metadata": {},
   "outputs": [
    {
     "data": {
      "text/plain": [
       "torch.Size([32])"
      ]
     },
     "execution_count": 44,
     "metadata": {},
     "output_type": "execute_result"
    }
   ],
   "source": [
    "model.conv1.bias.shape"
   ]
  }
 ],
 "metadata": {
  "interpreter": {
   "hash": "0dc50badf6bcf34ee37feb4ddab24eb1b71716d96fc6cae89d10c22f5e3462c0"
  },
  "kernelspec": {
   "display_name": "Python 3.8.10 64-bit ('base': conda)",
   "name": "python3"
  },
  "language_info": {
   "codemirror_mode": {
    "name": "ipython",
    "version": 3
   },
   "file_extension": ".py",
   "mimetype": "text/x-python",
   "name": "python",
   "nbconvert_exporter": "python",
   "pygments_lexer": "ipython3",
   "version": "3.8.12"
  }
 },
 "nbformat": 4,
 "nbformat_minor": 5
}

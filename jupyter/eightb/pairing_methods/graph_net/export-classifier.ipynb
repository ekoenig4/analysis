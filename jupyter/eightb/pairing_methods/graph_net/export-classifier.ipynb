{
 "cells": [
  {
   "cell_type": "code",
   "execution_count": 1,
   "id": "ef215b25",
   "metadata": {},
   "outputs": [],
   "source": [
    "%load_ext autoreload\n",
    "%autoreload 2\n",
    "\n",
    "import os\n",
    "import sys\n",
    "import git\n",
    "\n",
    "import uproot as ut\n",
    "import awkward as ak\n",
    "import numpy as np\n",
    "import math\n",
    "import vector\n",
    "import sympy as sp\n",
    "\n",
    "import re\n",
    "from tqdm import tqdm\n",
    "import timeit\n",
    "import torch\n",
    "\n",
    "sys.path.append( git.Repo('.', search_parent_directories=True).working_tree_dir )\n",
    "from utils import *\n",
    "\n",
    "import utils.torchUtils as gnn"
   ]
  },
  {
   "cell_type": "code",
   "execution_count": 2,
   "id": "6bf27efc",
   "metadata": {},
   "outputs": [],
   "source": [
    "template = gnn.Dataset(\"data/template\", make_template=True)"
   ]
  },
  {
   "cell_type": "code",
   "execution_count": 3,
   "id": "c18b4e2f",
   "metadata": {},
   "outputs": [],
   "source": [
    "model = gnn.GoldenGCN.load_from_checkpoint(\n",
    "    \"/uscms_data/d3/ekoenig/8BAnalysis/studies/sixbStudies/jupyter/eightb/pairing_methods/graph_net/models/golden_classifier/lightning_logs/version_2/checkpoints/epoch=24-step=9024.ckpt\",\n",
    "    dataset=template)"
   ]
  },
  {
   "cell_type": "code",
   "execution_count": 4,
   "id": "82212468",
   "metadata": {},
   "outputs": [
    {
     "name": "stdout",
     "output_type": "stream",
     "text": [
      "Exporting model to: cpg_models/golden_gcn/\n",
      "[model]\n",
      "num_layers = 10\n",
      "layers = GCNConvMSG,GCNRelu,GCNConvMSG,GCNRelu,NodeLinear,EdgeLinear,GCNRelu,NodeLinear,EdgeLinear,GCNLogSoftmax\n",
      "layer_shapes = 32,14,0,0,128,160,0,0,64,128,64,384,0,0,2,64,2,64,0,0\n",
      "\n",
      "[features]\n",
      "num_node_features = 5\n",
      "node_features = m,pt,eta,phi,btag\n",
      "num_node_mask = 5\n",
      "node_mask = m,pt,eta,phi,btag\n",
      "num_edge_features = 4\n",
      "edge_features = dpt,dr,deta,dphi\n",
      "num_edge_mask = 4\n",
      "edge_mask = dpt,dr,deta,dphi\n",
      "scale = standardize\n",
      "\n",
      "[scaler]\n",
      "node_scale_min = 0.62060857,20.0,-2.4995117,-3.1415837,0.0010824203\n",
      "node_scale_max = 432.17313,3893.0654,2.4995117,3.1415837,0.9995117\n",
      "node_scale_mean = 13.717373076359248,98.03337467019047,-0.002745888030241829,-4.481559994330364e-06,0.5525142590277192\n",
      "node_scale_std = 10.58819136574055,91.36370297721268,1.0554675782990282,1.816123314169241,0.42406181873769\n",
      "edge_scale_min = -3866.545654296875,0.0,-4.99755859375,-3.1415913740741175\n",
      "edge_scale_max = 3866.545654296875,5.852164781833368,4.99755859375,3.1415913740741175\n",
      "edge_scale_mean = 0.0,1.9048100212711974,0.0,0.0\n",
      "edge_scale_std = 119.51129542162381,1.0592678648921017,1.2385415452113975,1.7934225575795315\n"
     ]
    }
   ],
   "source": [
    "import utils.torchUtils.cpp_geometric as cpg \n",
    "\n",
    "cpg.export_model(model,template,'cpg_models/golden_gcn/')"
   ]
  },
  {
   "cell_type": "code",
   "execution_count": 5,
   "id": "4a292983",
   "metadata": {},
   "outputs": [],
   "source": [
    "ndata = 1000"
   ]
  },
  {
   "cell_type": "code",
   "execution_count": 6,
   "id": "42834590",
   "metadata": {},
   "outputs": [],
   "source": [
    "template = gnn.Dataset(\"data/template\", make_template=True, scale='raw')\n",
    "dataset = gnn.Dataset(\"data/MX_1200_MY_500-testing\", transform=template.transform)[:ndata]"
   ]
  },
  {
   "cell_type": "code",
   "execution_count": 7,
   "id": "61871e9e",
   "metadata": {},
   "outputs": [],
   "source": [
    "cpg.export_graphs(dataset, outdir='cpg_test_data/golden_csv/')"
   ]
  },
  {
   "cell_type": "code",
   "execution_count": 8,
   "id": "a5e5ece4",
   "metadata": {},
   "outputs": [],
   "source": [
    "template = gnn.Dataset(\"data/template\", make_template=True, scale='standardize')\n",
    "dataset = gnn.Dataset(\"data/MX_1200_MY_500-testing\", transform=template.transform)[:ndata]"
   ]
  },
  {
   "cell_type": "code",
   "execution_count": 9,
   "id": "8fe632df",
   "metadata": {},
   "outputs": [],
   "source": [
    "cpg.export_graphs(dataset, outdir='cpg_test_data/golden_csv/', tag='scaled')"
   ]
  },
  {
   "cell_type": "code",
   "execution_count": 10,
   "id": "7c0149a0",
   "metadata": {},
   "outputs": [],
   "source": [
    "node_os, edge_os = [], []\n",
    "with torch.no_grad():\n",
    "    for data in dataset:\n",
    "        node_o, edge_o = model(data)\n",
    "        node_os.append(node_o.numpy())\n",
    "        edge_os.append(edge_o.numpy())"
   ]
  },
  {
   "cell_type": "code",
   "execution_count": 11,
   "id": "c7ecfa11",
   "metadata": {},
   "outputs": [],
   "source": [
    "cpg.export_nodes(node_os, outdir='cpg_test_data/golden_csv/', tag='golden')\n",
    "cpg.export_edges(edge_os, outdir='cpg_test_data/golden_csv/', tag='golden')\n"
   ]
  },
  {
   "cell_type": "code",
   "execution_count": null,
   "id": "6bd0593c",
   "metadata": {},
   "outputs": [],
   "source": []
  }
 ],
 "metadata": {
  "interpreter": {
   "hash": "0dc50badf6bcf34ee37feb4ddab24eb1b71716d96fc6cae89d10c22f5e3462c0"
  },
  "kernelspec": {
   "display_name": "Python 3.8.10 64-bit ('base': conda)",
   "name": "python3"
  },
  "language_info": {
   "codemirror_mode": {
    "name": "ipython",
    "version": 3
   },
   "file_extension": ".py",
   "mimetype": "text/x-python",
   "name": "python",
   "nbconvert_exporter": "python",
   "pygments_lexer": "ipython3",
   "version": "3.8.12"
  }
 },
 "nbformat": 4,
 "nbformat_minor": 5
}

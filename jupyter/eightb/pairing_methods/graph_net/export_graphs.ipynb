{
 "cells": [
  {
   "cell_type": "code",
   "execution_count": 1,
   "id": "ef215b25",
   "metadata": {},
   "outputs": [],
   "source": [
    "%load_ext autoreload\n",
    "%autoreload 2\n",
    "\n",
    "import os\n",
    "import sys\n",
    "import git\n",
    "\n",
    "import uproot as ut\n",
    "import awkward as ak\n",
    "import numpy as np\n",
    "import math\n",
    "import vector\n",
    "import sympy as sp\n",
    "\n",
    "import re\n",
    "from tqdm import tqdm\n",
    "import timeit\n",
    "\n",
    "sys.path.append( git.Repo('.', search_parent_directories=True).working_tree_dir )\n",
    "from utils import *\n",
    "\n",
    "import utils.torchUtils as gnn\n",
    "\n",
    "plt.style.use('science')\n"
   ]
  },
  {
   "cell_type": "code",
   "execution_count": 2,
   "id": "3dc64309",
   "metadata": {},
   "outputs": [],
   "source": [
    "traintree = Tree(fc.eightb.preselection.NMSSM_XYY_YToHH_8b_MX_1000_MY_450)"
   ]
  },
  {
   "cell_type": "code",
   "execution_count": 8,
   "id": "5bdb4dac",
   "metadata": {},
   "outputs": [],
   "source": [
    "transform = gnn.Transform(gnn.to_uptri_graph,gnn.to_numpy)\n",
    "dataset = gnn.Dataset('data/signal-training',traintree,transform=transform)"
   ]
  },
  {
   "cell_type": "code",
   "execution_count": 20,
   "id": "298041e4",
   "metadata": {},
   "outputs": [],
   "source": [
    "dataset = dataset[:1000]"
   ]
  },
  {
   "cell_type": "code",
   "execution_count": 30,
   "id": "f4c87b86",
   "metadata": {},
   "outputs": [],
   "source": [
    "np.savetxt('data_csv/node_shape.txt',np.array([ data.x.shape for data in dataset]))\n",
    "np.savetxt('data_csv/node_x.txt',np.concatenate([data.x for data in dataset]))"
   ]
  },
  {
   "cell_type": "code",
   "execution_count": 32,
   "id": "49355995",
   "metadata": {},
   "outputs": [],
   "source": [
    "np.savetxt('data_csv/edge_shape.txt',np.array([ data.edge_attr.shape for data in dataset]))\n",
    "np.savetxt('data_csv/edge_attr.txt',np.concatenate([data.edge_attr for data in dataset]))"
   ]
  },
  {
   "cell_type": "code",
   "execution_count": 57,
   "id": "54589e34",
   "metadata": {},
   "outputs": [],
   "source": [
    "np.savetxt('data_csv/edge_index.txt',np.concatenate([data.edge_index.T for data in dataset]))"
   ]
  },
  {
   "cell_type": "code",
   "execution_count": null,
   "id": "fbb14a5d",
   "metadata": {},
   "outputs": [],
   "source": []
  }
 ],
 "metadata": {
  "interpreter": {
   "hash": "0dc50badf6bcf34ee37feb4ddab24eb1b71716d96fc6cae89d10c22f5e3462c0"
  },
  "kernelspec": {
   "display_name": "Python 3.8.10 64-bit ('base': conda)",
   "name": "python3"
  },
  "language_info": {
   "codemirror_mode": {
    "name": "ipython",
    "version": 3
   },
   "file_extension": ".py",
   "mimetype": "text/x-python",
   "name": "python",
   "nbconvert_exporter": "python",
   "pygments_lexer": "ipython3",
   "version": "3.8.12"
  }
 },
 "nbformat": 4,
 "nbformat_minor": 5
}

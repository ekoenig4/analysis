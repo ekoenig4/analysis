{
 "cells": [
  {
   "cell_type": "code",
   "execution_count": 2,
   "metadata": {},
   "outputs": [],
   "source": [
    "%load_ext autoreload\n",
    "%autoreload 2\n",
    "\n",
    "import os\n",
    "import sys\n",
    "import git\n",
    "\n",
    "import uproot as ut\n",
    "import awkward as ak\n",
    "import numpy as np\n",
    "import math\n",
    "import vector\n",
    "import sympy as sp\n",
    "\n",
    "import re\n",
    "from tqdm import tqdm\n",
    "import timeit\n",
    "import re\n",
    "\n",
    "sys.path.append( git.Repo('.', search_parent_directories=True).working_tree_dir )\n",
    "from utils import *"
   ]
  },
  {
   "cell_type": "code",
   "execution_count": 3,
   "metadata": {},
   "outputs": [],
   "source": [
    "def get_remaining_pairs(pair,all_pairs):\n",
    "    return list(filter(lambda h : not any(j in h for j in pair),all_pairs))"
   ]
  },
  {
   "cell_type": "code",
   "execution_count": 4,
   "metadata": {},
   "outputs": [],
   "source": [
    "def get_quadH_pairings(njets=8,pair_index=True):\n",
    "    if njets < 8: return\n",
    "    jets = list(range(njets))\n",
    "    all_pairs = [ (j0,j1) for j0 in jets for j1 in jets[j0+1:] ]\n",
    "    quad_h = []\n",
    "    for i,h0 in enumerate(all_pairs):\n",
    "        second_pairs = get_remaining_pairs(h0,all_pairs[i+1:])\n",
    "        for j,h1 in enumerate(second_pairs):\n",
    "            third_pairs = get_remaining_pairs(h1,second_pairs[j+1:])\n",
    "            for k,h2 in enumerate(third_pairs):\n",
    "                fourth_pairs = get_remaining_pairs(h2,third_pairs[k+1:])\n",
    "                for h3 in fourth_pairs:\n",
    "                    pair = [ all_pairs.index(h) for h in (h0,h1,h2,h3) ] if pair_index else [ j for h in (h0,h1,h2,h3) for j in h ]\n",
    "                    quad_h.append(pair)\n",
    "    return quad_h"
   ]
  },
  {
   "cell_type": "code",
   "execution_count": 5,
   "metadata": {},
   "outputs": [],
   "source": [
    "quadh_index = get_quadH_pairings()"
   ]
  },
  {
   "cell_type": "code",
   "execution_count": 6,
   "metadata": {},
   "outputs": [],
   "source": [
    "to_cc = lambda array : '{'+','.join(map(str,array))+'}'\n",
    "jets = list(range(8))\n",
    "all_pairs = [ (j0,j1) for j0 in jets for j1 in jets[j0+1:] ]\n",
    "# print(',\\n'.join(map(to_cc,all_pairs)))\n",
    "# print(',\\n'.join(map(to_cc,quadh_index)))"
   ]
  },
  {
   "cell_type": "code",
   "execution_count": 8,
   "metadata": {},
   "outputs": [],
   "source": [
    "signal_tree = Tree(fc.eightb.preselection.NMSSM_XYY_YToHH_8b_MX_1000_MY_450)\n",
    "signal_tree = EventFilter('nfound all',nfound_all=8).filter(signal_tree)\n",
    "# bkg_tree = Tree(fc.eightb.preselection.QCD_B_List)\n",
    "\n",
    "treeiter = TreeIter([signal_tree])"
   ]
  },
  {
   "cell_type": "code",
   "execution_count": 10,
   "metadata": {},
   "outputs": [],
   "source": [
    "treeiter = EventFilter('8jets',n_jet_emin=8).filter(treeiter)\n",
    "# treeiter = TreeIter(treeiter.subset(nentries=100000,randomize=True))"
   ]
  },
  {
   "cell_type": "code",
   "execution_count": 11,
   "metadata": {},
   "outputs": [],
   "source": [
    "def select_topbtag(tree,is_signal=False):\n",
    "    jets = get_collection(tree,'jet')\n",
    "    jets = reorder_collection(jets,ak.argsort(-jets.jet_btag,axis=-1)[:,:8])\n",
    "    tree.extend(reorder_collection(jets,ak.argsort(-jets.jet_pt,axis=-1)))\n",
    "    tree.extend(**build_all_dijets(tree))\n",
    "    if is_signal:\n",
    "        tree.extend(**eightb.reco_all(tree))\n",
    "        tree.extend(**build_collection(tree,'gen_H\\dY\\d','gen_higgs'))"
   ]
  },
  {
   "cell_type": "code",
   "execution_count": 12,
   "metadata": {},
   "outputs": [],
   "source": [
    "select_topbtag(treeiter[0],True)"
   ]
  },
  {
   "cell_type": "code",
   "execution_count": null,
   "metadata": {},
   "outputs": [],
   "source": [
    "select_topbtag(treeiter[1])"
   ]
  },
  {
   "cell_type": "code",
   "execution_count": 15,
   "metadata": {},
   "outputs": [],
   "source": [
    "signal,= treeiter\n",
    "signal_dijets = get_collection(signal,'dijet',False)\n",
    "# bkg_dijets = get_collection(bkg,'dijet',False)"
   ]
  },
  {
   "cell_type": "code",
   "execution_count": 16,
   "metadata": {},
   "outputs": [],
   "source": [
    "quadH_ms = signal_dijets.m[:,quadh_index]\n",
    "# bkg_ms = bkg_dijets.m[:,quadh_index]"
   ]
  },
  {
   "cell_type": "code",
   "execution_count": 17,
   "metadata": {},
   "outputs": [],
   "source": [
    "quadH_ms_ptorder = quadH_ms[ak.argsort(-signal_dijets.pt[:,quadh_index],axis=-1)]\n",
    "# bkg_ms_ptorder = bkg_ms[ak.argsort(-bkg_dijets.pt[:,quadh_index],axis=-1)]\n",
    "signal_ms_ptorder = signal.gen_higgs_reco_m[ak.argsort(-signal.gen_higgs_reco_pt,axis=-1)]"
   ]
  },
  {
   "cell_type": "markdown",
   "metadata": {},
   "source": [
    "# Minimum Mass Spread"
   ]
  },
  {
   "cell_type": "code",
   "execution_count": 18,
   "metadata": {},
   "outputs": [],
   "source": [
    "def mass_spread(array):\n",
    "    mean = ak.mean(array,axis=-1)\n",
    "    maxim,minim = ak.max(array,axis=-1),ak.min(array,axis=-1)\n",
    "    return (maxim-minim)/mean"
   ]
  },
  {
   "cell_type": "code",
   "execution_count": 19,
   "metadata": {},
   "outputs": [],
   "source": [
    "signal_dms = mass_spread(signal_ms_ptorder)"
   ]
  },
  {
   "cell_type": "code",
   "execution_count": 20,
   "metadata": {},
   "outputs": [],
   "source": [
    "nevents = ak.size(signal_dijets,axis=0)"
   ]
  },
  {
   "cell_type": "code",
   "execution_count": 22,
   "metadata": {},
   "outputs": [],
   "source": [
    "quadH_dms = mass_spread(quadH_ms_ptorder)\n",
    "# bkg_dms = mass_spread(bkg_ms_ptorder)"
   ]
  },
  {
   "cell_type": "code",
   "execution_count": 23,
   "metadata": {},
   "outputs": [],
   "source": [
    "best_quadH = ak.argmin(quadH_dms,axis=-1)\n",
    "# best_bkg = ak.argmin(bkg_dms,axis=-1)"
   ]
  },
  {
   "cell_type": "code",
   "execution_count": 24,
   "metadata": {},
   "outputs": [],
   "source": [
    "best_quadH_ms = ak.Array([ ms[index] for index,ms in zip(best_quadH,quadH_ms_ptorder) ])\n",
    "# best_bkg_ms = ak.Array([ ms[index] for index,ms in zip(best_bkg,bkg_ms_ptorder) ])"
   ]
  },
  {
   "cell_type": "code",
   "execution_count": 26,
   "metadata": {},
   "outputs": [
    {
     "data": {
      "text/plain": [
       "(<Figure size 384x360 with 1 Axes>, <AxesSubplot:ylabel='Fraction of Events'>)"
      ]
     },
     "execution_count": 26,
     "metadata": {},
     "output_type": "execute_result"
    },
    {
     "data": {
      "image/png": "[encoded data removed]",
      "text/plain": [
       "<Figure size 384x360 with 1 Axes>"
      ]
     },
     "metadata": {
      "needs_background": "light"
     },
     "output_type": "display_data"
    }
   ],
   "source": [
    "hist_multi([signal_ms_ptorder,best_quadH_ms],labels=['True','Method','Bkg'],s_label_stat='mean_stdv',bins=np.linspace(0,300,30),density=True)"
   ]
  },
  {
   "cell_type": "markdown",
   "metadata": {},
   "source": [
    "# Gaussian Mixture"
   ]
  },
  {
   "cell_type": "code",
   "execution_count": null,
   "metadata": {},
   "outputs": [],
   "source": [
    "from sklearn.mixture import GaussianMixture \n",
    "\n",
    "gm = GaussianMixture(n_components=1).fit(signal_ms_ptorder,y=1)"
   ]
  },
  {
   "cell_type": "code",
   "execution_count": null,
   "metadata": {},
   "outputs": [
    {
     "ename": "ValueError",
     "evalue": "Input contains NaN, infinity or a value too large for dtype('float32').",
     "output_type": "error",
     "traceback": [
      "\u001b[0;31m---------------------------------------------------------------------------\u001b[0m",
      "\u001b[0;31mValueError\u001b[0m                                Traceback (most recent call last)",
      "Input \u001b[0;32mIn [47]\u001b[0m, in \u001b[0;36m<module>\u001b[0;34m\u001b[0m\n\u001b[1;32m      1\u001b[0m quadH_ms_scores \u001b[38;5;241m=\u001b[39m gm\u001b[38;5;241m.\u001b[39mscore_samples(quadH_ms_ptorder\u001b[38;5;241m.\u001b[39mto_numpy()\u001b[38;5;241m.\u001b[39mreshape(\u001b[38;5;241m-\u001b[39m\u001b[38;5;241m1\u001b[39m,\u001b[38;5;241m4\u001b[39m))\u001b[38;5;241m.\u001b[39mreshape(\u001b[38;5;241m-\u001b[39m\u001b[38;5;241m1\u001b[39m,\u001b[38;5;241m105\u001b[39m)\n\u001b[0;32m----> 2\u001b[0m bkg_ms_scores \u001b[38;5;241m=\u001b[39m \u001b[43mgm\u001b[49m\u001b[38;5;241;43m.\u001b[39;49m\u001b[43mscore_samples\u001b[49m\u001b[43m(\u001b[49m\u001b[43mbkg_ms_ptorder\u001b[49m\u001b[38;5;241;43m.\u001b[39;49m\u001b[43mto_numpy\u001b[49m\u001b[43m(\u001b[49m\u001b[43m)\u001b[49m\u001b[38;5;241;43m.\u001b[39;49m\u001b[43mreshape\u001b[49m\u001b[43m(\u001b[49m\u001b[38;5;241;43m-\u001b[39;49m\u001b[38;5;241;43m1\u001b[39;49m\u001b[43m,\u001b[49m\u001b[38;5;241;43m4\u001b[39;49m\u001b[43m)\u001b[49m\u001b[43m)\u001b[49m\u001b[38;5;241m.\u001b[39mreshape(\u001b[38;5;241m-\u001b[39m\u001b[38;5;241m1\u001b[39m,\u001b[38;5;241m105\u001b[39m)\n",
      "File \u001b[0;32m~/nobackup/miniconda3/envs/torch-gpu/lib/python3.8/site-packages/sklearn/mixture/_base.py:352\u001b[0m, in \u001b[0;36mBaseMixture.score_samples\u001b[0;34m(self, X)\u001b[0m\n\u001b[1;32m    338\u001b[0m \u001b[38;5;124;03m\"\"\"Compute the log-likelihood of each sample.\u001b[39;00m\n\u001b[1;32m    339\u001b[0m \n\u001b[1;32m    340\u001b[0m \u001b[38;5;124;03mParameters\u001b[39;00m\n\u001b[0;32m   (...)\u001b[0m\n\u001b[1;32m    349\u001b[0m \u001b[38;5;124;03m    Log-likelihood of each sample in `X` under the current model.\u001b[39;00m\n\u001b[1;32m    350\u001b[0m \u001b[38;5;124;03m\"\"\"\u001b[39;00m\n\u001b[1;32m    351\u001b[0m check_is_fitted(\u001b[38;5;28mself\u001b[39m)\n\u001b[0;32m--> 352\u001b[0m X \u001b[38;5;241m=\u001b[39m \u001b[38;5;28;43mself\u001b[39;49m\u001b[38;5;241;43m.\u001b[39;49m\u001b[43m_validate_data\u001b[49m\u001b[43m(\u001b[49m\u001b[43mX\u001b[49m\u001b[43m,\u001b[49m\u001b[43m \u001b[49m\u001b[43mreset\u001b[49m\u001b[38;5;241;43m=\u001b[39;49m\u001b[38;5;28;43;01mFalse\u001b[39;49;00m\u001b[43m)\u001b[49m\n\u001b[1;32m    354\u001b[0m \u001b[38;5;28;01mreturn\u001b[39;00m logsumexp(\u001b[38;5;28mself\u001b[39m\u001b[38;5;241m.\u001b[39m_estimate_weighted_log_prob(X), axis\u001b[38;5;241m=\u001b[39m\u001b[38;5;241m1\u001b[39m)\n",
      "File \u001b[0;32m~/nobackup/miniconda3/envs/torch-gpu/lib/python3.8/site-packages/sklearn/base.py:566\u001b[0m, in \u001b[0;36mBaseEstimator._validate_data\u001b[0;34m(self, X, y, reset, validate_separately, **check_params)\u001b[0m\n\u001b[1;32m    564\u001b[0m     \u001b[38;5;28;01mraise\u001b[39;00m \u001b[38;5;167;01mValueError\u001b[39;00m(\u001b[38;5;124m\"\u001b[39m\u001b[38;5;124mValidation should be done on X, y or both.\u001b[39m\u001b[38;5;124m\"\u001b[39m)\n\u001b[1;32m    565\u001b[0m \u001b[38;5;28;01melif\u001b[39;00m \u001b[38;5;129;01mnot\u001b[39;00m no_val_X \u001b[38;5;129;01mand\u001b[39;00m no_val_y:\n\u001b[0;32m--> 566\u001b[0m     X \u001b[38;5;241m=\u001b[39m \u001b[43mcheck_array\u001b[49m\u001b[43m(\u001b[49m\u001b[43mX\u001b[49m\u001b[43m,\u001b[49m\u001b[43m \u001b[49m\u001b[38;5;241;43m*\u001b[39;49m\u001b[38;5;241;43m*\u001b[39;49m\u001b[43mcheck_params\u001b[49m\u001b[43m)\u001b[49m\n\u001b[1;32m    567\u001b[0m     out \u001b[38;5;241m=\u001b[39m X\n\u001b[1;32m    568\u001b[0m \u001b[38;5;28;01melif\u001b[39;00m no_val_X \u001b[38;5;129;01mand\u001b[39;00m \u001b[38;5;129;01mnot\u001b[39;00m no_val_y:\n",
      "File \u001b[0;32m~/nobackup/miniconda3/envs/torch-gpu/lib/python3.8/site-packages/sklearn/utils/validation.py:800\u001b[0m, in \u001b[0;36mcheck_array\u001b[0;34m(array, accept_sparse, accept_large_sparse, dtype, order, copy, force_all_finite, ensure_2d, allow_nd, ensure_min_samples, ensure_min_features, estimator)\u001b[0m\n\u001b[1;32m    794\u001b[0m         \u001b[38;5;28;01mraise\u001b[39;00m \u001b[38;5;167;01mValueError\u001b[39;00m(\n\u001b[1;32m    795\u001b[0m             \u001b[38;5;124m\"\u001b[39m\u001b[38;5;124mFound array with dim \u001b[39m\u001b[38;5;132;01m%d\u001b[39;00m\u001b[38;5;124m. \u001b[39m\u001b[38;5;132;01m%s\u001b[39;00m\u001b[38;5;124m expected <= 2.\u001b[39m\u001b[38;5;124m\"\u001b[39m\n\u001b[1;32m    796\u001b[0m             \u001b[38;5;241m%\u001b[39m (array\u001b[38;5;241m.\u001b[39mndim, estimator_name)\n\u001b[1;32m    797\u001b[0m         )\n\u001b[1;32m    799\u001b[0m     \u001b[38;5;28;01mif\u001b[39;00m force_all_finite:\n\u001b[0;32m--> 800\u001b[0m         \u001b[43m_assert_all_finite\u001b[49m\u001b[43m(\u001b[49m\u001b[43marray\u001b[49m\u001b[43m,\u001b[49m\u001b[43m \u001b[49m\u001b[43mallow_nan\u001b[49m\u001b[38;5;241;43m=\u001b[39;49m\u001b[43mforce_all_finite\u001b[49m\u001b[43m \u001b[49m\u001b[38;5;241;43m==\u001b[39;49m\u001b[43m \u001b[49m\u001b[38;5;124;43m\"\u001b[39;49m\u001b[38;5;124;43mallow-nan\u001b[39;49m\u001b[38;5;124;43m\"\u001b[39;49m\u001b[43m)\u001b[49m\n\u001b[1;32m    802\u001b[0m \u001b[38;5;28;01mif\u001b[39;00m ensure_min_samples \u001b[38;5;241m>\u001b[39m \u001b[38;5;241m0\u001b[39m:\n\u001b[1;32m    803\u001b[0m     n_samples \u001b[38;5;241m=\u001b[39m _num_samples(array)\n",
      "File \u001b[0;32m~/nobackup/miniconda3/envs/torch-gpu/lib/python3.8/site-packages/sklearn/utils/validation.py:114\u001b[0m, in \u001b[0;36m_assert_all_finite\u001b[0;34m(X, allow_nan, msg_dtype)\u001b[0m\n\u001b[1;32m    107\u001b[0m     \u001b[38;5;28;01mif\u001b[39;00m (\n\u001b[1;32m    108\u001b[0m         allow_nan\n\u001b[1;32m    109\u001b[0m         \u001b[38;5;129;01mand\u001b[39;00m np\u001b[38;5;241m.\u001b[39misinf(X)\u001b[38;5;241m.\u001b[39many()\n\u001b[1;32m    110\u001b[0m         \u001b[38;5;129;01mor\u001b[39;00m \u001b[38;5;129;01mnot\u001b[39;00m allow_nan\n\u001b[1;32m    111\u001b[0m         \u001b[38;5;129;01mand\u001b[39;00m \u001b[38;5;129;01mnot\u001b[39;00m np\u001b[38;5;241m.\u001b[39misfinite(X)\u001b[38;5;241m.\u001b[39mall()\n\u001b[1;32m    112\u001b[0m     ):\n\u001b[1;32m    113\u001b[0m         type_err \u001b[38;5;241m=\u001b[39m \u001b[38;5;124m\"\u001b[39m\u001b[38;5;124minfinity\u001b[39m\u001b[38;5;124m\"\u001b[39m \u001b[38;5;28;01mif\u001b[39;00m allow_nan \u001b[38;5;28;01melse\u001b[39;00m \u001b[38;5;124m\"\u001b[39m\u001b[38;5;124mNaN, infinity\u001b[39m\u001b[38;5;124m\"\u001b[39m\n\u001b[0;32m--> 114\u001b[0m         \u001b[38;5;28;01mraise\u001b[39;00m \u001b[38;5;167;01mValueError\u001b[39;00m(\n\u001b[1;32m    115\u001b[0m             msg_err\u001b[38;5;241m.\u001b[39mformat(\n\u001b[1;32m    116\u001b[0m                 type_err, msg_dtype \u001b[38;5;28;01mif\u001b[39;00m msg_dtype \u001b[38;5;129;01mis\u001b[39;00m \u001b[38;5;129;01mnot\u001b[39;00m \u001b[38;5;28;01mNone\u001b[39;00m \u001b[38;5;28;01melse\u001b[39;00m X\u001b[38;5;241m.\u001b[39mdtype\n\u001b[1;32m    117\u001b[0m             )\n\u001b[1;32m    118\u001b[0m         )\n\u001b[1;32m    119\u001b[0m \u001b[38;5;66;03m# for object dtype data, we only check for NaNs (GH-13254)\u001b[39;00m\n\u001b[1;32m    120\u001b[0m \u001b[38;5;28;01melif\u001b[39;00m X\u001b[38;5;241m.\u001b[39mdtype \u001b[38;5;241m==\u001b[39m np\u001b[38;5;241m.\u001b[39mdtype(\u001b[38;5;124m\"\u001b[39m\u001b[38;5;124mobject\u001b[39m\u001b[38;5;124m\"\u001b[39m) \u001b[38;5;129;01mand\u001b[39;00m \u001b[38;5;129;01mnot\u001b[39;00m allow_nan:\n",
      "\u001b[0;31mValueError\u001b[0m: Input contains NaN, infinity or a value too large for dtype('float32')."
     ]
    }
   ],
   "source": [
    "quadH_ms_scores = gm.score_samples(quadH_ms_ptorder.to_numpy().reshape(-1,4)).reshape(-1,105)\n",
    "bkg_ms_scores = gm.score_samples(bkg_ms_ptorder.to_numpy().reshape(-1,4)).reshape(-1,105)"
   ]
  },
  {
   "cell_type": "code",
   "execution_count": null,
   "metadata": {},
   "outputs": [],
   "source": [
    "best_quadH = quadH_ms_scores.argmax(axis=-1)\n",
    "best_bkg = bkg_ms_scores.argmax(axis=-1)"
   ]
  },
  {
   "cell_type": "code",
   "execution_count": null,
   "metadata": {},
   "outputs": [],
   "source": [
    "best_quadH_ms = ak.Array([ ms[index] for index,ms in zip(best_quadH,quadH_ms_ptorder) ])\n",
    "best_bkg_ms = ak.Array([ ms[index] for index,ms in zip(best_bkg,bkg_ms_ptorder) ])"
   ]
  },
  {
   "cell_type": "code",
   "execution_count": null,
   "metadata": {},
   "outputs": [
    {
     "data": {
      "text/plain": [
       "(<Figure size 384x360 with 1 Axes>, <AxesSubplot:ylabel='Fraction of Events'>)"
      ]
     },
     "execution_count": 25,
     "metadata": {},
     "output_type": "execute_result"
    },
    {
     "data": {
      "image/png": "[encoded data removed]",
      "text/plain": [
       "<Figure size 384x360 with 1 Axes>"
      ]
     },
     "metadata": {
      "needs_background": "light"
     },
     "output_type": "display_data"
    }
   ],
   "source": [
    "hist_multi([signal_ms_ptorder,best_quadH_ms,best_bkg_ms],labels=['True','Method','Bkg'],s_label_stat='mean_stdv',bins=np.linspace(0,300,30),density=True)"
   ]
  },
  {
   "cell_type": "markdown",
   "metadata": {},
   "source": [
    "# Linear Regression"
   ]
  },
  {
   "cell_type": "code",
   "execution_count": 27,
   "metadata": {},
   "outputs": [],
   "source": [
    "from sklearn.linear_model import LinearRegression\n",
    "\n",
    "linear = LinearRegression(fit_intercept=False).fit(signal_ms_ptorder,np.ones((nevents,)))"
   ]
  },
  {
   "cell_type": "code",
   "execution_count": 28,
   "metadata": {},
   "outputs": [],
   "source": [
    "quadH_ms_scores = (linear.predict(quadH_ms_ptorder.to_numpy().reshape(-1,4)).reshape(-1,105)-1)**2\n",
    "# bkg_ms_scores = (linear.predict(bkg_ms_ptorder.to_numpy().reshape(-1,4)).reshape(-1,105)-1)**2"
   ]
  },
  {
   "cell_type": "code",
   "execution_count": 29,
   "metadata": {},
   "outputs": [
    {
     "data": {
      "text/plain": [
       "array([[2.4530432e-01, 2.2764046e-01, 1.9860609e-02, ..., 4.6313994e-02,\n",
       "        1.8303910e-01, 1.2434608e-01],\n",
       "       [1.2816326e-01, 2.7546716e-01, 3.9103013e-01, ..., 2.7203721e-01,\n",
       "        1.4353977e-01, 2.9724902e-01],\n",
       "       [1.0842792e-01, 8.4554575e-02, 1.9398797e-01, ..., 3.1737339e-01,\n",
       "        4.1093484e-01, 6.3382590e-01],\n",
       "       ...,\n",
       "       [1.3224658e-01, 1.0002543e-01, 3.0334002e-01, ..., 2.2378792e-01,\n",
       "        1.8759625e-01, 6.4995289e-01],\n",
       "       [1.4311988e-02, 3.4947082e-02, 4.3547605e-04, ..., 4.0305633e-02,\n",
       "        1.6805109e-01, 1.5937661e-01],\n",
       "       [6.7865485e-01, 2.5891095e-01, 6.7907047e-01, ..., 2.7930680e-01,\n",
       "        1.4724885e-01, 3.5297194e-01]], dtype=float32)"
      ]
     },
     "execution_count": 29,
     "metadata": {},
     "output_type": "execute_result"
    }
   ],
   "source": [
    "quadH_ms_scores"
   ]
  },
  {
   "cell_type": "code",
   "execution_count": 30,
   "metadata": {},
   "outputs": [],
   "source": [
    "best_quadH = quadH_ms_scores.argmin(axis=-1)\n",
    "# best_bkg = bkg_ms_scores.argmin(axis=-1)"
   ]
  },
  {
   "cell_type": "code",
   "execution_count": 31,
   "metadata": {},
   "outputs": [],
   "source": [
    "best_quadH_ms = ak.Array([ ms[index] for index,ms in zip(best_quadH,quadH_ms_ptorder) ])\n",
    "# best_bkg_ms = ak.Array([ ms[index] for index,ms in zip(best_bkg,bkg_ms_ptorder) ])"
   ]
  },
  {
   "cell_type": "code",
   "execution_count": 32,
   "metadata": {},
   "outputs": [
    {
     "data": {
      "text/plain": [
       "(<Figure size 384x360 with 1 Axes>, <AxesSubplot:ylabel='Fraction of Events'>)"
      ]
     },
     "execution_count": 32,
     "metadata": {},
     "output_type": "execute_result"
    },
    {
     "data": {
      "image/png": "[encoded data removed]",
      "text/plain": [
       "<Figure size 384x360 with 1 Axes>"
      ]
     },
     "metadata": {
      "needs_background": "light"
     },
     "output_type": "display_data"
    }
   ],
   "source": [
    "hist_multi([signal_ms_ptorder,best_quadH_ms],labels=['True','Method','Bkg'],s_label_stat='mean_stdv',bins=np.linspace(0,300,30),density=True)"
   ]
  },
  {
   "cell_type": "code",
   "execution_count": null,
   "metadata": {},
   "outputs": [],
   "source": []
  }
 ],
 "metadata": {
  "interpreter": {
   "hash": "b6b1afae4871be850bc5856e04911167d2a27de500099f683f3fac6532a69ef8"
  },
  "kernelspec": {
   "display_name": "Python 3.8.12 64-bit ('torch-gpu': conda)",
   "language": "python",
   "name": "python3"
  },
  "language_info": {
   "codemirror_mode": {
    "name": "ipython",
    "version": 3
   },
   "file_extension": ".py",
   "mimetype": "text/x-python",
   "name": "python",
   "nbconvert_exporter": "python",
   "pygments_lexer": "ipython3",
   "version": "3.8.12"
  },
  "orig_nbformat": 4
 },
 "nbformat": 4,
 "nbformat_minor": 2
}

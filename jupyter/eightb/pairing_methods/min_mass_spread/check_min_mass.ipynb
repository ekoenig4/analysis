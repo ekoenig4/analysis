{
 "cells": [
  {
   "cell_type": "code",
   "execution_count": 1,
   "metadata": {},
   "outputs": [],
   "source": [
    "%load_ext autoreload\n",
    "%autoreload 2\n",
    "\n",
    "import os\n",
    "import sys\n",
    "import git\n",
    "\n",
    "import uproot as ut\n",
    "import awkward as ak\n",
    "import numpy as np\n",
    "import math\n",
    "import vector\n",
    "import sympy as sp\n",
    "\n",
    "import re\n",
    "from tqdm import tqdm\n",
    "import timeit\n",
    "import re\n",
    "\n",
    "sys.path.append( git.Repo('.', search_parent_directories=True).working_tree_dir )\n",
    "from utils import *"
   ]
  },
  {
   "cell_type": "code",
   "execution_count": 2,
   "metadata": {},
   "outputs": [],
   "source": [
    "varinfo.clear()"
   ]
  },
  {
   "cell_type": "code",
   "execution_count": 3,
   "metadata": {},
   "outputs": [],
   "source": [
    "bkgtrees = ObjIter([Tree(filter(os.path.isfile,fc.eightb.preselection.Bkg_MC_List))])\n",
    "# bkgtrees = ObjIter([])"
   ]
  },
  {
   "cell_type": "code",
   "execution_count": 4,
   "metadata": {},
   "outputs": [],
   "source": [
    "signaltrees = ObjIter([ Tree(f) for f in fc.eightb.preselection.signal_list ])"
   ]
  },
  {
   "cell_type": "code",
   "execution_count": 5,
   "metadata": {},
   "outputs": [],
   "source": [
    "for tree in signaltrees: tree.color=None"
   ]
  },
  {
   "cell_type": "code",
   "execution_count": 6,
   "metadata": {},
   "outputs": [
    {
     "data": {
      "text/plain": [
       "[None, None, None, None, None, None, None, None, None]"
      ]
     },
     "execution_count": 6,
     "metadata": {},
     "output_type": "execute_result"
    }
   ],
   "source": [
    "(bkgtrees+signaltrees).extend(kwargs=lambda t : build_collection(t,'H\\dY\\d_b\\d','bjet',ptordered=True))"
   ]
  },
  {
   "cell_type": "code",
   "execution_count": 7,
   "metadata": {},
   "outputs": [
    {
     "data": {
      "text/plain": [
       "[None, None, None, None, None, None, None, None, None]"
      ]
     },
     "execution_count": 7,
     "metadata": {},
     "output_type": "execute_result"
    }
   ],
   "source": [
    "(bkgtrees+signaltrees).extend(kwargs=lambda t : build_collection(t,'H\\dY\\d','higgs',ptordered=True))"
   ]
  },
  {
   "cell_type": "code",
   "execution_count": 8,
   "metadata": {},
   "outputs": [
    {
     "data": {
      "text/plain": [
       "[None, None, None, None, None, None, None, None, None]"
      ]
     },
     "execution_count": 8,
     "metadata": {},
     "output_type": "execute_result"
    }
   ],
   "source": [
    "(bkgtrees+signaltrees).extend(kwargs=lambda t : build_collection(t,'Y\\d','y',ptordered=True))"
   ]
  },
  {
   "cell_type": "code",
   "execution_count": 9,
   "metadata": {},
   "outputs": [
    {
     "data": {
      "text/plain": [
       "[None, None, None, None, None, None, None, None, None]"
      ]
     },
     "execution_count": 9,
     "metadata": {},
     "output_type": "execute_result"
    }
   ],
   "source": [
    "def calc_btag_vars(tree):\n",
    "    bjet_btag = tree.bjet_btag.to_numpy()\n",
    "    bjet_btag.sort()\n",
    "    \n",
    "    btagsum = bjet_btag.sum(axis=-1)/8.0\n",
    "    btag_asym = bjet_btag.std(axis=-1)\n",
    "    \n",
    "    tree.extend(btagsum=btagsum, btag_asym=btag_asym)\n",
    "    \n",
    "(bkgtrees+signaltrees).apply(calc_btag_vars)\n"
   ]
  },
  {
   "cell_type": "code",
   "execution_count": 10,
   "metadata": {},
   "outputs": [
    {
     "name": "stdout",
     "output_type": "stream",
     "text": [
      "{'h_label': ['MC-Bkg', 'MX_700_MY_300', 'MX_900_MY_400', 'MX_1200_MY_500'], 'is_data': [False, False, False, False], 'is_signal': [False, True, True, True], 'density': 0, 'log': 0, 'ratio': 0, 'stacked': True, 'lumi': 2018, 'h_sumw2': True, 'h_label_stat': None, 'scale': [None, 100, 100, 100], 'legend': True, 'h_color': ['grey', None, None, None]}\n"
     ]
    },
    {
     "data": {
      "text/plain": [
       "(<Figure size 864x360 with 2 Axes>,\n",
       " array([<AxesSubplot:xlabel='btag_asym', ylabel='Events'>,\n",
       "        <AxesSubplot:xlabel='btagsum', ylabel='Events'>], dtype=object))"
      ]
     },
     "execution_count": 10,
     "metadata": {},
     "output_type": "execute_result"
    },
    {
     "data": {
      "image/png": "[encoded data removed]",
      "text/plain": [
       "<Figure size 864x360 with 2 Axes>"
      ]
     },
     "metadata": {
      "needs_background": "light"
     },
     "output_type": "display_data"
    }
   ],
   "source": [
    "study.quick(   \n",
    "    bkgtrees + signaltrees[[0,4,7]],\n",
    "    varlist=['btag_asym','btagsum'],\n",
    "    stacked=True,\n",
    "    h_label_stat=None,\n",
    "    scale=[None] + [100]*3,\n",
    "    legend=True,\n",
    "    binlist=[None,np.linspace(0,1,30)]\n",
    "    # log=True,\n",
    "    # cumulative=-1,\n",
    "    # density=True,\n",
    "    # s_xsec_scales=bkg_rhoscales,\n",
    "    # dim=(-1,3),\n",
    ")"
   ]
  },
  {
   "cell_type": "code",
   "execution_count": null,
   "metadata": {},
   "outputs": [],
   "source": []
  }
 ],
 "metadata": {
  "interpreter": {
   "hash": "b6b1afae4871be850bc5856e04911167d2a27de500099f683f3fac6532a69ef8"
  },
  "kernelspec": {
   "display_name": "Python 3.8.12 64-bit ('torch-gpu': conda)",
   "language": "python",
   "name": "python3"
  },
  "language_info": {
   "codemirror_mode": {
    "name": "ipython",
    "version": 3
   },
   "file_extension": ".py",
   "mimetype": "text/x-python",
   "name": "python",
   "nbconvert_exporter": "python",
   "pygments_lexer": "ipython3",
   "version": "3.8.12"
  },
  "orig_nbformat": 4
 },
 "nbformat": 4,
 "nbformat_minor": 2
}

{
 "cells": [
  {
   "cell_type": "code",
   "execution_count": 1,
   "metadata": {},
   "outputs": [],
   "source": [
    "%load_ext autoreload\n",
    "%autoreload 2\n",
    "\n",
    "import os\n",
    "import sys\n",
    "import git\n",
    "\n",
    "import uproot as ut\n",
    "import awkward as ak\n",
    "import numpy as np\n",
    "import math\n",
    "import vector\n",
    "import sympy as sp\n",
    "\n",
    "import re\n",
    "from tqdm import tqdm\n",
    "import timeit\n",
    "import re\n",
    "\n",
    "sys.path.append( git.Repo('.', search_parent_directories=True).working_tree_dir )\n",
    "from utils import *"
   ]
  },
  {
   "cell_type": "code",
   "execution_count": 2,
   "metadata": {},
   "outputs": [],
   "source": [
    "tree = Tree(fc.eightb.accstudies_no_pu.NMSSM_XYY_YToHH_8b_MX_1000_MY_450)\n",
    "\n",
    "# signal_trees.extend(kwargs=lambda tree : dict(n_ext_jet=tree.n_jet-tree.nfound_presel))\n",
    "# signal_trees.extend(kwargs=eightb.reco_all)\n",
    "# signal_trees.extend(kwargs=eightb.reco_res_all)"
   ]
  },
  {
   "cell_type": "code",
   "execution_count": 3,
   "metadata": {},
   "outputs": [],
   "source": [
    "ylist = [\n",
    "    f'gen_{y}'\n",
    "    for y in ('Y1','Y2')\n",
    "]\n",
    "\n",
    "higgslist = [\n",
    "    f'gen_{h}{y}'\n",
    "    for y in ('Y1','Y2')\n",
    "    for h in ('H1','H2')\n",
    "]\n",
    "\n",
    "\n",
    "quarklist = [\n",
    "    f'gen_{h}{y}_{b}'\n",
    "    for y in ('Y1','Y2')\n",
    "    for h in ('H1','H2')\n",
    "    for b in ('b1','b2')\n",
    "]"
   ]
  },
  {
   "cell_type": "code",
   "execution_count": 37,
   "metadata": {},
   "outputs": [],
   "source": [
    "def export_objs(event,objlist,varlist=('pt','eta','phi')): \n",
    "    data = np.array([ [event[f'{obj}_{var}'] for var in varlist ] for obj in objlist ])\n",
    "    data[:,1] = 2*np.arctan(np.exp(-data[:,1]))\n",
    "    out = f'float [,] data = new float[{len(objlist)},{len(varlist)}] {\"{\"}\\n'\n",
    "    to_float = lambda value : f'{value:0.5}f'\n",
    "    out += ',\\n'.join([ '{'+','.join(map(to_float,obj))+'}' for obj in data ])\n",
    "    out += '\\n};'\n",
    "    print(out)"
   ]
  },
  {
   "cell_type": "code",
   "execution_count": 38,
   "metadata": {},
   "outputs": [
    {
     "name": "stdout",
     "output_type": "stream",
     "text": [
      "float [,] data = new float[8,3] {\n",
      "{285.0f,1.0325f,2.0391f},\n",
      "{50.125f,1.8173f,2.6641f},\n",
      "{74.75f,1.9672f,-1.4453f},\n",
      "{73.75f,0.84109f,-2.5859f},\n",
      "{172.0f,1.9654f,-2.4688f},\n",
      "{55.75f,2.0224f,2.4375f},\n",
      "{106.25f,2.0564f,-0.29395f},\n",
      "{79.25f,0.92089f,0.16309f}\n",
      "};\n"
     ]
    }
   ],
   "source": [
    "export_objs(tree[1],quarklist)"
   ]
  },
  {
   "cell_type": "code",
   "execution_count": 39,
   "metadata": {},
   "outputs": [
    {
     "name": "stdout",
     "output_type": "stream",
     "text": [
      "float [,] data = new float[4,3] {\n",
      "{327.0f,1.121f,2.1328f},\n",
      "{124.75f,1.2988f,-2.0156f},\n",
      "{190.5f,2.0486f,-2.7656f},\n",
      "{181.0f,1.549f,-0.099121f}\n",
      "};\n"
     ]
    }
   ],
   "source": [
    "export_objs(tree[1],higgslist)"
   ]
  },
  {
   "cell_type": "code",
   "execution_count": 40,
   "metadata": {},
   "outputs": [
    {
     "name": "stdout",
     "output_type": "stream",
     "text": [
      "float [,] data = new float[2,3] {\n",
      "{280.0f,0.96836f,2.5156f},\n",
      "{88.5f,2.3898f,-1.5391f}\n",
      "};\n"
     ]
    }
   ],
   "source": [
    "export_objs(tree[1],ylist)"
   ]
  },
  {
   "cell_type": "code",
   "execution_count": null,
   "metadata": {},
   "outputs": [],
   "source": []
  }
 ],
 "metadata": {
  "interpreter": {
   "hash": "b6b1afae4871be850bc5856e04911167d2a27de500099f683f3fac6532a69ef8"
  },
  "kernelspec": {
   "display_name": "Python 3.8.12 64-bit ('torch-gpu': conda)",
   "language": "python",
   "name": "python3"
  },
  "language_info": {
   "codemirror_mode": {
    "name": "ipython",
    "version": 3
   },
   "file_extension": ".py",
   "mimetype": "text/x-python",
   "name": "python",
   "nbconvert_exporter": "python",
   "pygments_lexer": "ipython3",
   "version": "3.8.12"
  },
  "orig_nbformat": 4
 },
 "nbformat": 4,
 "nbformat_minor": 2
}

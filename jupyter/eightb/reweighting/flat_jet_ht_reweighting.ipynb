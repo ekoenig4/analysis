{
 "cells": [
  {
   "cell_type": "code",
   "execution_count": 1,
   "metadata": {},
   "outputs": [],
   "source": [
    "%load_ext autoreload\n",
    "%autoreload 2\n",
    "%load_ext line_profiler\n",
    "%load_ext memory_profiler\n",
    "\n",
    "import os\n",
    "os.environ['KMP_WARNINGS'] = 'off'\n",
    "import sys\n",
    "import git\n",
    "\n",
    "import uproot as ut\n",
    "import awkward as ak\n",
    "import numpy as np\n",
    "\n",
    "import math\n",
    "import vector\n",
    "import sympy as sp\n",
    "\n",
    "import re\n",
    "from tqdm import tqdm\n",
    "import timeit\n",
    "import re\n",
    "\n",
    "\n",
    "sys.path.append( git.Repo('.', search_parent_directories=True).working_tree_dir )\n",
    "from utils import *"
   ]
  },
  {
   "cell_type": "code",
   "execution_count": 2,
   "metadata": {},
   "outputs": [
    {
     "name": "stderr",
     "output_type": "stream",
     "text": [
      "100%|██████████| 1/1 [00:03<00:00,  3.31s/it]\n",
      "100%|██████████| 1/1 [00:00<00:00,  1.40it/s]\n",
      "100%|██████████| 1/1 [00:00<00:00,  1.27it/s]\n",
      "100%|██████████| 16/16 [00:06<00:00,  2.39it/s]\n",
      "100%|██████████| 2/2 [00:01<00:00,  1.56it/s]\n"
     ]
    }
   ],
   "source": [
    "module = fc.eightb.preselection.t8btag_minmass\n",
    "table.csv = 't8btag_minmass'\n",
    "\n",
    "signal = ObjIter([Tree(fn) for fn in module.signal_list])\n",
    "# signal = ObjIter([Tree(module.NMSSM_XYY_YToHH_8b_MX_1000_MY_450)])\n",
    "# signal_asym = ObjIter([Tree(fc.eightb.preselection.NMSSM_XYY_YToHH_8b_MX_1000_MY_450)])\n",
    "qcd = ObjIter([Tree(module.QCD_B_List)])\n",
    "# qcd_asym = ObjIter([Tree(fc.eightb.preselection.QCD_B_List)])\n",
    "ttbar = ObjIter([Tree(module.TTJets)])\n",
    "# ttbar = ObjIter([])\n",
    "# qcd = ObjIter([])"
   ]
  },
  {
   "cell_type": "markdown",
   "id": "a04a4381",
   "metadata": {},
   "source": [
    "# Event Selection\n",
    "## - Trigger applied | HLT_PFHT330PT30_QuadPFJet_75_60_45_40_TriplePFBTagDeepCSV_4p5\n",
    "## - Required at least 8 jets to pass preselection\n",
    "## - Preselections: Jet $P_{T} > 20$ [GeV], Jet $|\\eta| < 2.5$, Tight Jet ID\n",
    "## - Top 8 Btagged jets selected"
   ]
  },
  {
   "cell_type": "code",
   "execution_count": 3,
   "metadata": {},
   "outputs": [
    {
     "data": {
      "text/plain": [
       "[None, None]"
      ]
     },
     "execution_count": 3,
     "metadata": {},
     "output_type": "execute_result"
    }
   ],
   "source": [
    "bkg = qcd + ttbar\n",
    "bkg.reweight(2.3)\n",
    "bkg.set_systematics([0.2])"
   ]
  },
  {
   "cell_type": "markdown",
   "metadata": {},
   "source": [
    "# MC Reweighting\n",
    "## MC Background normalization needs to be corrected to match data normalization\n",
    "## A rough correction of 2.3x is applied along with a 20\\% uncertainty"
   ]
  },
  {
   "cell_type": "code",
   "execution_count": 4,
   "metadata": {},
   "outputs": [
    {
     "data": {
      "text/plain": [
       "[None, None, None, None, None]"
      ]
     },
     "execution_count": 4,
     "metadata": {},
     "output_type": "execute_result"
    }
   ],
   "source": [
    "(signal + bkg).apply(lambda t : build_collection(t, 'H\\dY\\d_b\\d', 'jet', ptordered=True))"
   ]
  },
  {
   "cell_type": "code",
   "execution_count": 5,
   "metadata": {},
   "outputs": [
    {
     "data": {
      "text/plain": [
       "[None, None, None, None, None]"
      ]
     },
     "execution_count": 5,
     "metadata": {},
     "output_type": "execute_result"
    }
   ],
   "source": [
    "def jet_ht(t):\n",
    "    t.extend(\n",
    "        jet_ht=ak.sum(t.jet_ptRegressed,axis=-1)\n",
    "    )\n",
    "(signal+bkg).apply(jet_ht)"
   ]
  },
  {
   "cell_type": "code",
   "execution_count": 20,
   "metadata": {},
   "outputs": [
    {
     "name": "stderr",
     "output_type": "stream",
     "text": [
      "100%|██████████| 1/1 [00:00<00:00,  3.38it/s]\n"
     ]
    },
    {
     "data": {
      "image/png": "[encoded data removed]",
      "text/plain": [
       "<Figure size 480x400 with 1 Axes>"
      ]
     },
     "metadata": {
      "needs_background": "light"
     },
     "output_type": "display_data"
    }
   ],
   "source": [
    "histos = obj_store()\n",
    "study.quick(\n",
    "    signal+bkg,\n",
    "    h_transform=np.log10,\n",
    "    efficiency=True,\n",
    "    varlist=['jet_ht'],\n",
    "    binlist=[(2.5, 3.5, 30)],\n",
    "    store=histos,\n",
    ")"
   ]
  },
  {
   "cell_type": "code",
   "execution_count": 105,
   "metadata": {},
   "outputs": [],
   "source": [
    "class flat_reweighter:\n",
    "    def __init__(self, feature='jet_ht', transform=np.log10, bins=None):\n",
    "        self.feature = feature\n",
    "        self.transform = transform\n",
    "        self.bins = bins\n",
    "\n",
    "    def get_features(self, trees : ObjIter):\n",
    "        if not isinstance(trees, ObjIter):\n",
    "            trees = ObjIter([trees])\n",
    "\n",
    "        X = getattr(trees, self.feature).cat\n",
    "        if self.transform is not None:\n",
    "            X = self.transform(X)\n",
    "        W = getattr(trees, 'scale').cat\n",
    "        return X, W\n",
    "\n",
    "    def fit(self, trees : ObjIter):\n",
    "        X, W = self.get_features(trees)\n",
    "\n",
    "        histo = Histo(X, bins=self.bins, weights=W, efficiency=True)\n",
    "\n",
    "        Y = 1/histo.histo \n",
    "        Y[ np.isinf(Y) ] = np.max( Y[~np.isinf(Y)] )\n",
    "        Y /= np.sum(Y)\n",
    "        \n",
    "        self.reweighter = Graph( get_bin_centers(histo.bins), Y)\n",
    "        return self\n",
    "\n",
    "    def reweight_trees(self, trees : ObjIter):\n",
    "        X,_ = self.get_features(trees)\n",
    "        return self.reweighter.evaluate(X)\n",
    "\n"
   ]
  },
  {
   "cell_type": "code",
   "execution_count": 106,
   "metadata": {},
   "outputs": [
    {
     "name": "stderr",
     "output_type": "stream",
     "text": [
      "100%|██████████| 1/1 [00:00<00:00,  3.30it/s]\n"
     ]
    },
    {
     "data": {
      "image/png": "[encoded data removed]",
      "text/plain": [
       "<Figure size 480x400 with 1 Axes>"
      ]
     },
     "metadata": {
      "needs_background": "light"
     },
     "output_type": "display_data"
    }
   ],
   "source": [
    "study.quick(\n",
    "    signal+bkg,\n",
    "    h_transform=np.log10,\n",
    "    efficiency=True,\n",
    "    varlist=['jet_ht'],\n",
    "    binlist=[(2.5, 3.5, 30)],\n",
    ")"
   ]
  },
  {
   "cell_type": "code",
   "execution_count": 115,
   "metadata": {},
   "outputs": [],
   "source": [
    "bkg_reweight = flat_reweighter('jet_ht', transform=np.log10, bins=(2.5,3.5,10)).fit(bkg)"
   ]
  },
  {
   "cell_type": "code",
   "execution_count": 116,
   "metadata": {},
   "outputs": [],
   "source": [
    "signal_reweight = signal.apply(flat_reweighter('jet_ht', transform=np.log10, bins=(2.5,3.5,10)).fit)"
   ]
  },
  {
   "cell_type": "code",
   "execution_count": 119,
   "metadata": {},
   "outputs": [
    {
     "name": "stderr",
     "output_type": "stream",
     "text": [
      "100%|██████████| 1/1 [00:00<00:00,  4.17it/s]\n"
     ]
    },
    {
     "data": {
      "image/png": "[encoded data removed]",
      "text/plain": [
       "<Figure size 480x400 with 1 Axes>"
      ]
     },
     "metadata": {
      "needs_background": "light"
     },
     "output_type": "display_data"
    }
   ],
   "source": [
    "study.quick(\n",
    "    signal+bkg,\n",
    "    scale=[reweight.reweight_trees for reweight in signal_reweight]+[bkg_reweight.reweight_trees]*len(bkg),\n",
    "    h_transform=np.log10,\n",
    "    log=True,\n",
    "    # efficiency=True,\n",
    "    varlist=['jet_ht'],\n",
    "    binlist=[(2.5, 3.5, 30)],\n",
    ")"
   ]
  },
  {
   "cell_type": "code",
   "execution_count": null,
   "metadata": {},
   "outputs": [],
   "source": []
  }
 ],
 "metadata": {
  "interpreter": {
   "hash": "99d8ad6568882febb6ca5d1c2307614594cf6684ed0ce2b9f63bf31341fdb3d5"
  },
  "kernelspec": {
   "display_name": "Python 3.9.0 ('py-env')",
   "language": "python",
   "name": "python3"
  },
  "language_info": {
   "codemirror_mode": {
    "name": "ipython",
    "version": 3
   },
   "file_extension": ".py",
   "mimetype": "text/x-python",
   "name": "python",
   "nbconvert_exporter": "python",
   "pygments_lexer": "ipython3",
   "version": "3.9.13"
  },
  "orig_nbformat": 4
 },
 "nbformat": 4,
 "nbformat_minor": 2
}

{
 "cells": [
  {
   "cell_type": "code",
   "execution_count": 1,
   "id": "9bfa3b5a",
   "metadata": {},
   "outputs": [],
   "source": [
    "%load_ext autoreload\n",
    "%autoreload 2\n",
    "\n",
    "import os\n",
    "os.environ['KMP_WARNINGS'] = 'off'\n",
    "import sys\n",
    "import git\n",
    "\n",
    "import uproot as ut\n",
    "import awkward as ak\n",
    "import numpy as np\n",
    "import math\n",
    "import vector\n",
    "import sympy as sp\n",
    "\n",
    "import re\n",
    "from tqdm import tqdm\n",
    "import timeit\n",
    "import re\n",
    "\n",
    "sys.path.append( git.Repo('.', search_parent_directories=True).working_tree_dir )\n",
    "from utils import *"
   ]
  },
  {
   "cell_type": "code",
   "execution_count": 2,
   "id": "6edca911",
   "metadata": {},
   "outputs": [],
   "source": [
    "%load_ext line_profiler\n",
    "%load_ext memory_profiler"
   ]
  },
  {
   "cell_type": "code",
   "execution_count": 3,
   "id": "803ffe90",
   "metadata": {},
   "outputs": [
    {
     "name": "stderr",
     "output_type": "stream",
     "text": [
      "100%|██████████| 1/1 [00:01<00:00,  1.75s/it]\n",
      "100%|██████████| 1/1 [00:01<00:00,  1.41s/it]\n",
      "100%|██████████| 1/1 [00:01<00:00,  1.43s/it]\n"
     ]
    }
   ],
   "source": [
    "trees_8b = ObjIter([Tree(f) for f in fc.eightb.accstudies.raw_no_pu.signal_list])"
   ]
  },
  {
   "cell_type": "code",
   "execution_count": 10,
   "id": "98a21cc4",
   "metadata": {},
   "outputs": [],
   "source": [
    "decayChain_8b = {\n",
    "    \"X\":{\n",
    "        \"Y1\": {\n",
    "            \"H1Y1\":{\n",
    "                \"H1Y1_b1\":{},\n",
    "                \"H1Y1_b2\":{},\n",
    "            },\n",
    "            \"H2Y1\":{\n",
    "                \"H2Y1_b1\":{},\n",
    "                \"H2Y1_b2\":{},\n",
    "            }\n",
    "        },\n",
    "        \"Y2\": {\n",
    "            \"H1Y2\":{\n",
    "                \"H1Y2_b1\":{},\n",
    "                \"H1Y2_b2\":{},\n",
    "            },\n",
    "            \"H2Y2\":{\n",
    "                \"H2Y2_b1\":{},\n",
    "                \"H2Y2_b2\":{},\n",
    "            }\n",
    "        }\n",
    "    }\n",
    "}"
   ]
  },
  {
   "cell_type": "code",
   "execution_count": 4,
   "id": "356f5397",
   "metadata": {},
   "outputs": [
    {
     "name": "stderr",
     "output_type": "stream",
     "text": [
      "100%|██████████| 1/1 [00:01<00:00,  1.23s/it]\n",
      "100%|██████████| 1/1 [00:00<00:00,  1.14it/s]\n",
      "100%|██████████| 1/1 [00:00<00:00,  1.14it/s]\n"
     ]
    }
   ],
   "source": [
    "from utils.fileUtils.passthrough import NMSSM_List as signal6b_list\n",
    "\n",
    "trees_6b = ObjIter([Tree(f) for f in signal6b_list[::3]])"
   ]
  },
  {
   "cell_type": "code",
   "execution_count": 8,
   "id": "1e43dd53",
   "metadata": {},
   "outputs": [],
   "source": [
    "decayChain_6b = {\n",
    "    \"X\": {\n",
    "        \"Y\": {\n",
    "            \"HY1\": {\n",
    "                \"HY1_b1\": {},\n",
    "                \"HY1_b2\": {},\n",
    "            },\n",
    "            \"HY2\": {\n",
    "                \"HY2_b1\": {},\n",
    "                \"HY2_b2\": {},\n",
    "            }\n",
    "        },\n",
    "        \"HX\": {\n",
    "            \"HX_b1\": {},\n",
    "            \"HX_b2\": {},\n",
    "        }\n",
    "    }\n",
    "}\n"
   ]
  },
  {
   "cell_type": "code",
   "execution_count": 11,
   "id": "b3d58c0f",
   "metadata": {},
   "outputs": [],
   "source": [
    "def make_datacard(tree, mask, decayChain=decayChain_8b, nb=8):\n",
    "    event = tree[ ak.where( mask(tree) )[0][0] ]\n",
    "\n",
    "    f = open(f'gen_{tree.sample}_{nb}b_datacard.json','w')\n",
    "\n",
    "    particles = []\n",
    "    def print_obj(obj, decays=None):\n",
    "\n",
    "        kins = [ print_obj(obj,_decays) for obj, _decays in decays.items() ]\n",
    "\n",
    "        if not any(decays):\n",
    "            p4 = build_p4(event, f'gen_{obj}')\n",
    "        else:\n",
    "            p4 = kins[0] + kins[1]\n",
    "\n",
    "        info =  [f'\"name\":\"{obj}\"'] + \\\n",
    "                [ f'\"{var}\":{getattr(p4,var)}' for var in ('pt','eta','phi','m') ] + \\\n",
    "                [ f'\"decays\":[' + ','.join([f'\"{key}\"' for key in decays.keys()]) + ']' ]\n",
    "        particles.append('{\\n' + ',\\n'.join(info) + '\\n}')\n",
    "        return p4\n",
    "\n",
    "    for obj, decays in decayChain.items():\n",
    "        print_obj('X', decays)\n",
    "\n",
    "    f.write('{\\n\"particles\":[')\n",
    "    f.write(',\\n'.join(particles))\n",
    "    f.write(']}\\n')\n",
    "\n",
    "    f.close()"
   ]
  },
  {
   "cell_type": "code",
   "execution_count": 12,
   "id": "adbf9114",
   "metadata": {},
   "outputs": [
    {
     "data": {
      "text/plain": [
       "[None, None, None]"
      ]
     },
     "execution_count": 12,
     "metadata": {},
     "output_type": "execute_result"
    }
   ],
   "source": [
    "trees_8b.apply(lambda t : make_datacard(t, lambda t : t.nfound_all == 8, decayChain=decayChain_8b, nb=8))"
   ]
  },
  {
   "cell_type": "code",
   "execution_count": 13,
   "id": "4ee2061c",
   "metadata": {},
   "outputs": [
    {
     "data": {
      "text/plain": [
       "[None, None, None]"
      ]
     },
     "execution_count": 13,
     "metadata": {},
     "output_type": "execute_result"
    }
   ],
   "source": [
    "trees_6b.apply(lambda t : make_datacard(t, lambda t : t.nfound_all == 6, decayChain=decayChain_6b, nb=6))"
   ]
  },
  {
   "cell_type": "code",
   "execution_count": null,
   "id": "a2ce7415",
   "metadata": {},
   "outputs": [],
   "source": []
  }
 ],
 "metadata": {
  "interpreter": {
   "hash": "99d8ad6568882febb6ca5d1c2307614594cf6684ed0ce2b9f63bf31341fdb3d5"
  },
  "kernelspec": {
   "display_name": "Python 3.9.0 ('py-env')",
   "language": "python",
   "name": "python3"
  },
  "language_info": {
   "codemirror_mode": {
    "name": "ipython",
    "version": 3
   },
   "file_extension": ".py",
   "mimetype": "text/x-python",
   "name": "python",
   "nbconvert_exporter": "python",
   "pygments_lexer": "ipython3",
   "version": "3.9.13"
  }
 },
 "nbformat": 4,
 "nbformat_minor": 5
}

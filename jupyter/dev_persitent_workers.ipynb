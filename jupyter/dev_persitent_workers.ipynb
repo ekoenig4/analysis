{
 "cells": [
  {
   "cell_type": "code",
   "execution_count": 1,
   "metadata": {},
   "outputs": [],
   "source": [
    "%load_ext autoreload\n",
    "%autoreload 2\n",
    "\n",
    "import os\n",
    "os.environ['KMP_WARNINGS'] = 'off'\n",
    "import sys\n",
    "import git\n",
    "\n",
    "import uproot as ut\n",
    "import awkward as ak\n",
    "import numpy as np\n",
    "import math\n",
    "import vector\n",
    "import sympy as sp\n",
    "\n",
    "import re\n",
    "from tqdm import tqdm\n",
    "import timeit\n",
    "import re\n",
    "\n",
    "sys.path.append( git.Repo('.', search_parent_directories=True).working_tree_dir )\n",
    "from utils import *"
   ]
  },
  {
   "cell_type": "code",
   "execution_count": 2,
   "metadata": {},
   "outputs": [],
   "source": [
    "from functools import partial"
   ]
  },
  {
   "cell_type": "code",
   "execution_count": 3,
   "metadata": {},
   "outputs": [],
   "source": [
    "module = fc.eightb.feynnet"
   ]
  },
  {
   "cell_type": "code",
   "execution_count": 4,
   "metadata": {},
   "outputs": [],
   "source": [
    "files = module.feynnet_signal_list"
   ]
  },
  {
   "cell_type": "code",
   "execution_count": 5,
   "metadata": {},
   "outputs": [],
   "source": [
    "f_signal = ObjIter(files)"
   ]
  },
  {
   "cell_type": "code",
   "execution_count": 6,
   "metadata": {},
   "outputs": [],
   "source": [
    "open_tree = partial(Tree, altfile='test_{base}', report=False)"
   ]
  },
  {
   "cell_type": "code",
   "execution_count": 7,
   "metadata": {},
   "outputs": [],
   "source": [
    "# signal = f_signal.apply(open_tree, report=True)\n",
    "# del signal"
   ]
  },
  {
   "cell_type": "code",
   "execution_count": 16,
   "metadata": {},
   "outputs": [
    {
     "name": "stderr",
     "output_type": "stream",
     "text": [
      "100%|██████████| 33/33 [01:53<00:00,  3.44s/it]\n"
     ]
    }
   ],
   "source": [
    "signal = f_signal.apply(open_tree, parallel=True, report=True)"
   ]
  },
  {
   "cell_type": "code",
   "execution_count": 12,
   "metadata": {},
   "outputs": [],
   "source": []
  },
  {
   "cell_type": "code",
   "execution_count": 56,
   "metadata": {},
   "outputs": [
    {
     "name": "stdout",
     "output_type": "stream",
     "text": [
      "CPU times: user 12.3 s, sys: 639 ms, total: 12.9 s\n",
      "Wall time: 13.4 s\n"
     ]
    }
   ],
   "source": [
    "%%time \n",
    "nthreads = 3\n",
    "with mp.pool.ThreadPool(nthreads) as pool:\n",
    "    result = pool.map(open_tree, f_signal[:5])"
   ]
  },
  {
   "cell_type": "code",
   "execution_count": 57,
   "metadata": {},
   "outputs": [
    {
     "ename": "MaybeEncodingError",
     "evalue": "Error sending result: '[<utils.classUtils.Tree.Tree object at 0x7f8b926199d0>, <utils.classUtils.Tree.Tree object at 0x7f8b5125ceb0>]'. Reason: 'TypeError(\"cannot pickle '_global_parameters' object\")'",
     "output_type": "error",
     "traceback": [
      "\u001b[0;31m---------------------------------------------------------------------------\u001b[0m",
      "\u001b[0;31mMaybeEncodingError\u001b[0m                        Traceback (most recent call last)",
      "\u001b[1;32m/uscms_data/d3/ekoenig/8BAnalysis/studies/eightbStudies/jupyter/dev_persitent_workers.ipynb Cell 11\u001b[0m in \u001b[0;36m4\n\u001b[1;32m      <a href='vscode-notebook-cell://ssh-remote%2Blpcgpu1/uscms_data/d3/ekoenig/8BAnalysis/studies/eightbStudies/jupyter/dev_persitent_workers.ipynb#X33sdnNjb2RlLXJlbW90ZQ%3D%3D?line=1'>2</a>\u001b[0m nthreads \u001b[39m=\u001b[39m \u001b[39m1\u001b[39m\n\u001b[1;32m      <a href='vscode-notebook-cell://ssh-remote%2Blpcgpu1/uscms_data/d3/ekoenig/8BAnalysis/studies/eightbStudies/jupyter/dev_persitent_workers.ipynb#X33sdnNjb2RlLXJlbW90ZQ%3D%3D?line=2'>3</a>\u001b[0m \u001b[39mwith\u001b[39;00m mp\u001b[39m.\u001b[39mpool\u001b[39m.\u001b[39mPool(nthreads) \u001b[39mas\u001b[39;00m pool:\n\u001b[0;32m----> <a href='vscode-notebook-cell://ssh-remote%2Blpcgpu1/uscms_data/d3/ekoenig/8BAnalysis/studies/eightbStudies/jupyter/dev_persitent_workers.ipynb#X33sdnNjb2RlLXJlbW90ZQ%3D%3D?line=3'>4</a>\u001b[0m     result \u001b[39m=\u001b[39m pool\u001b[39m.\u001b[39;49mmap(open_tree, f_signal[:\u001b[39m5\u001b[39;49m])\n",
      "File \u001b[0;32m/uscms_data/d3/ekoenig/mambaforge/envs/py-env/lib/python3.9/site-packages/multiprocess/pool.py:364\u001b[0m, in \u001b[0;36mPool.map\u001b[0;34m(self, func, iterable, chunksize)\u001b[0m\n\u001b[1;32m    359\u001b[0m \u001b[39mdef\u001b[39;00m \u001b[39mmap\u001b[39m(\u001b[39mself\u001b[39m, func, iterable, chunksize\u001b[39m=\u001b[39m\u001b[39mNone\u001b[39;00m):\n\u001b[1;32m    360\u001b[0m \u001b[39m    \u001b[39m\u001b[39m'''\u001b[39;00m\n\u001b[1;32m    361\u001b[0m \u001b[39m    Apply `func` to each element in `iterable`, collecting the results\u001b[39;00m\n\u001b[1;32m    362\u001b[0m \u001b[39m    in a list that is returned.\u001b[39;00m\n\u001b[1;32m    363\u001b[0m \u001b[39m    '''\u001b[39;00m\n\u001b[0;32m--> 364\u001b[0m     \u001b[39mreturn\u001b[39;00m \u001b[39mself\u001b[39;49m\u001b[39m.\u001b[39;49m_map_async(func, iterable, mapstar, chunksize)\u001b[39m.\u001b[39;49mget()\n",
      "File \u001b[0;32m/uscms_data/d3/ekoenig/mambaforge/envs/py-env/lib/python3.9/site-packages/multiprocess/pool.py:771\u001b[0m, in \u001b[0;36mApplyResult.get\u001b[0;34m(self, timeout)\u001b[0m\n\u001b[1;32m    769\u001b[0m     \u001b[39mreturn\u001b[39;00m \u001b[39mself\u001b[39m\u001b[39m.\u001b[39m_value\n\u001b[1;32m    770\u001b[0m \u001b[39melse\u001b[39;00m:\n\u001b[0;32m--> 771\u001b[0m     \u001b[39mraise\u001b[39;00m \u001b[39mself\u001b[39m\u001b[39m.\u001b[39m_value\n",
      "\u001b[0;31mMaybeEncodingError\u001b[0m: Error sending result: '[<utils.classUtils.Tree.Tree object at 0x7f8b926199d0>, <utils.classUtils.Tree.Tree object at 0x7f8b5125ceb0>]'. Reason: 'TypeError(\"cannot pickle '_global_parameters' object\")'"
     ]
    }
   ],
   "source": [
    "# %%time \n",
    "nthreads = 1\n",
    "with mp.pool.Pool(nthreads) as pool:\n",
    "    result = pool.map(open_tree, f_signal[:5])"
   ]
  },
  {
   "cell_type": "code",
   "execution_count": 58,
   "metadata": {},
   "outputs": [
    {
     "data": {
      "text/plain": [
       "[<utils.classUtils.Tree.Tree at 0x7f8b51096c40>,\n",
       " <utils.classUtils.Tree.Tree at 0x7f8af1adbdc0>,\n",
       " <utils.classUtils.Tree.Tree at 0x7f8bd0086640>,\n",
       " <utils.classUtils.Tree.Tree at 0x7f8bd0086820>,\n",
       " <utils.classUtils.Tree.Tree at 0x7f8b910b7280>]"
      ]
     },
     "execution_count": 58,
     "metadata": {},
     "output_type": "execute_result"
    }
   ],
   "source": [
    "result"
   ]
  },
  {
   "cell_type": "code",
   "execution_count": null,
   "metadata": {},
   "outputs": [],
   "source": []
  },
  {
   "cell_type": "code",
   "execution_count": null,
   "metadata": {},
   "outputs": [],
   "source": []
  },
  {
   "cell_type": "code",
   "execution_count": 27,
   "metadata": {},
   "outputs": [
    {
     "name": "stderr",
     "output_type": "stream",
     "text": [
      " 42%|████▏     | 14/33 [01:52<02:32,  8.01s/it]\n"
     ]
    },
    {
     "name": "stderr",
     "output_type": "stream",
     "text": [
      "Process ForkPoolWorker-23:\n",
      "Process ForkPoolWorker-24:\n",
      "Process ForkPoolWorker-27:\n",
      "Process ForkPoolWorker-22:\n",
      "Process ForkPoolWorker-26:\n",
      "Process ForkPoolWorker-21:\n",
      "Process ForkPoolWorker-28:\n",
      "Process ForkPoolWorker-25:\n",
      "Traceback (most recent call last):\n",
      "Traceback (most recent call last):\n",
      "Traceback (most recent call last):\n",
      "  File \"/uscms_data/d3/ekoenig/mambaforge/envs/py-env/lib/python3.9/site-packages/multiprocess/process.py\", line 315, in _bootstrap\n",
      "    self.run()\n",
      "  File \"/uscms_data/d3/ekoenig/mambaforge/envs/py-env/lib/python3.9/site-packages/multiprocess/process.py\", line 315, in _bootstrap\n",
      "    self.run()\n",
      "Traceback (most recent call last):\n",
      "Traceback (most recent call last):\n",
      "  File \"/uscms_data/d3/ekoenig/mambaforge/envs/py-env/lib/python3.9/site-packages/multiprocess/process.py\", line 315, in _bootstrap\n",
      "    self.run()\n",
      "  File \"/uscms_data/d3/ekoenig/mambaforge/envs/py-env/lib/python3.9/site-packages/multiprocess/process.py\", line 108, in run\n",
      "    self._target(*self._args, **self._kwargs)\n",
      "Traceback (most recent call last):\n"
     ]
    }
   ],
   "source": [
    "\n",
    "signal = f_signal.apply( open_tree, parallel=True, report=True, nthreads=20 )"
   ]
  },
  {
   "cell_type": "code",
   "execution_count": 25,
   "metadata": {},
   "outputs": [
    {
     "name": "stdout",
     "output_type": "stream",
     "text": [
      "/store/user/ekoenig/8BAnalysis/NTuples/2018/feynnet/NMSSM_XYY_YToHH_8b/NMSSM_XYY_YToHH_8b_MX_600_MY_250/ntuple.root\n",
      "/store/user/ekoenig/8BAnalysis/NTuples/2018/feynnet/NMSSM_XYY_YToHH_8b/NMSSM_XYY_YToHH_8b_MX_600_MY_300/ntuple.root\n",
      "/store/user/ekoenig/8BAnalysis/NTuples/2018/feynnet/NMSSM_XYY_YToHH_8b/NMSSM_XYY_YToHH_8b_MX_700_MY_250/ntuple.root\n",
      "/store/user/ekoenig/8BAnalysis/NTuples/2018/feynnet/NMSSM_XYY_YToHH_8b/NMSSM_XYY_YToHH_8b_MX_700_MY_300/ntuple.root\n",
      "/store/user/ekoenig/8BAnalysis/NTuples/2018/feynnet/NMSSM_XYY_YToHH_8b/NMSSM_XYY_YToHH_8b_MX_700_MY_350/ntuple.root\n",
      "/store/user/ekoenig/8BAnalysis/NTuples/2018/feynnet/NMSSM_XYY_YToHH_8b/NMSSM_XYY_YToHH_8b_MX_800_MY_250/ntuple.root\n",
      "/store/user/ekoenig/8BAnalysis/NTuples/2018/feynnet/NMSSM_XYY_YToHH_8b/NMSSM_XYY_YToHH_8b_MX_800_MY_300/ntuple.root\n",
      "/store/user/ekoenig/8BAnalysis/NTuples/2018/feynnet/NMSSM_XYY_YToHH_8b/NMSSM_XYY_YToHH_8b_MX_800_MY_350/ntuple.root\n",
      "/store/user/ekoenig/8BAnalysis/NTuples/2018/feynnet/NMSSM_XYY_YToHH_8b/NMSSM_XYY_YToHH_8b_MX_800_MY_400/ntuple.root\n",
      "/store/user/ekoenig/8BAnalysis/NTuples/2018/feynnet/NMSSM_XYY_YToHH_8b/NMSSM_XYY_YToHH_8b_MX_900_MY_250/ntuple.root\n",
      "/store/user/ekoenig/8BAnalysis/NTuples/2018/feynnet/NMSSM_XYY_YToHH_8b/NMSSM_XYY_YToHH_8b_MX_900_MY_300/ntuple.root\n",
      "/store/user/ekoenig/8BAnalysis/NTuples/2018/feynnet/NMSSM_XYY_YToHH_8b/NMSSM_XYY_YToHH_8b_MX_900_MY_350/ntuple.root\n",
      "/store/user/ekoenig/8BAnalysis/NTuples/2018/feynnet/NMSSM_XYY_YToHH_8b/NMSSM_XYY_YToHH_8b_MX_900_MY_400/ntuple.root\n",
      "/store/user/ekoenig/8BAnalysis/NTuples/2018/feynnet/NMSSM_XYY_YToHH_8b/NMSSM_XYY_YToHH_8b_MX_900_MY_450/ntuple.root\n",
      "/store/user/ekoenig/8BAnalysis/NTuples/2018/feynnet/NMSSM_XYY_YToHH_8b/NMSSM_XYY_YToHH_8b_MX_1000_MY_250/ntuple.root\n",
      "/store/user/ekoenig/8BAnalysis/NTuples/2018/feynnet/NMSSM_XYY_YToHH_8b/NMSSM_XYY_YToHH_8b_MX_1000_MY_300/ntuple.root\n",
      "/store/user/ekoenig/8BAnalysis/NTuples/2018/feynnet/NMSSM_XYY_YToHH_8b/NMSSM_XYY_YToHH_8b_MX_1000_MY_350/ntuple.root\n",
      "/store/user/ekoenig/8BAnalysis/NTuples/2018/feynnet/NMSSM_XYY_YToHH_8b/NMSSM_XYY_YToHH_8b_MX_1000_MY_400/ntuple.root\n",
      "/store/user/ekoenig/8BAnalysis/NTuples/2018/feynnet/NMSSM_XYY_YToHH_8b/NMSSM_XYY_YToHH_8b_MX_1000_MY_450/ntuple.root\n",
      "/store/user/ekoenig/8BAnalysis/NTuples/2018/feynnet/NMSSM_XYY_YToHH_8b/NMSSM_XYY_YToHH_8b_MX_1000_MY_500/ntuple.root\n",
      "/store/user/ekoenig/8BAnalysis/NTuples/2018/feynnet/NMSSM_XYY_YToHH_8b/NMSSM_XYY_YToHH_8b_MX_1100_MY_250/ntuple.root\n",
      "/store/user/ekoenig/8BAnalysis/NTuples/2018/feynnet/NMSSM_XYY_YToHH_8b/NMSSM_XYY_YToHH_8b_MX_1100_MY_300/ntuple.root\n",
      "/store/user/ekoenig/8BAnalysis/NTuples/2018/feynnet/NMSSM_XYY_YToHH_8b/NMSSM_XYY_YToHH_8b_MX_1100_MY_350/ntuple.root\n",
      "/store/user/ekoenig/8BAnalysis/NTuples/2018/feynnet/NMSSM_XYY_YToHH_8b/NMSSM_XYY_YToHH_8b_MX_1100_MY_400/ntuple.root\n",
      "/store/user/ekoenig/8BAnalysis/NTuples/2018/feynnet/NMSSM_XYY_YToHH_8b/NMSSM_XYY_YToHH_8b_MX_1100_MY_450/ntuple.root\n",
      "/store/user/ekoenig/8BAnalysis/NTuples/2018/feynnet/NMSSM_XYY_YToHH_8b/NMSSM_XYY_YToHH_8b_MX_1100_MY_500/ntuple.root\n",
      "/store/user/ekoenig/8BAnalysis/NTuples/2018/feynnet/NMSSM_XYY_YToHH_8b/NMSSM_XYY_YToHH_8b_MX_1200_MY_250/ntuple.root\n",
      "/store/user/ekoenig/8BAnalysis/NTuples/2018/feynnet/NMSSM_XYY_YToHH_8b/NMSSM_XYY_YToHH_8b_MX_1200_MY_300/ntuple.root\n",
      "/store/user/ekoenig/8BAnalysis/NTuples/2018/feynnet/NMSSM_XYY_YToHH_8b/NMSSM_XYY_YToHH_8b_MX_1200_MY_350/ntuple.root\n",
      "/store/user/ekoenig/8BAnalysis/NTuples/2018/feynnet/NMSSM_XYY_YToHH_8b/NMSSM_XYY_YToHH_8b_MX_1200_MY_400/ntuple.root\n",
      "/store/user/ekoenig/8BAnalysis/NTuples/2018/feynnet/NMSSM_XYY_YToHH_8b/NMSSM_XYY_YToHH_8b_MX_1200_MY_450/ntuple.root\n",
      "/store/user/ekoenig/8BAnalysis/NTuples/2018/feynnet/NMSSM_XYY_YToHH_8b/NMSSM_XYY_YToHH_8b_MX_1200_MY_500/ntuple.root\n",
      "/store/user/ekoenig/8BAnalysis/NTuples/2018/feynnet/NMSSM_XYY_YToHH_8b/NMSSM_XYY_YToHH_8b_MX_1200_MY_600/ntuple.root\n"
     ]
    },
    {
     "name": "stderr",
     "output_type": "stream",
     "text": [
      "100%|██████████| 33/33 [00:00<00:00, 129357.04it/s]\n"
     ]
    },
    {
     "data": {
      "text/plain": [
       "[None, None, None, None, None, None, None, None, None, None, None, None, None, None, None, None, None, None, None, None, None, None, None, None, None, None, None, None, None, None, None, None, None]"
      ]
     },
     "execution_count": 25,
     "metadata": {},
     "output_type": "execute_result"
    }
   ],
   "source": [
    "f_signal.apply( print, parallel=True) "
   ]
  },
  {
   "cell_type": "code",
   "execution_count": 22,
   "metadata": {},
   "outputs": [],
   "source": [
    "pool = mp.Pool(processes=8)"
   ]
  },
  {
   "cell_type": "code",
   "execution_count": 24,
   "metadata": {},
   "outputs": [
    {
     "data": {
      "text/plain": [
       "multiprocess.pool.ThreadPool"
      ]
     },
     "execution_count": 24,
     "metadata": {},
     "output_type": "execute_result"
    }
   ],
   "source": [
    "mp.pool.ThreadPool"
   ]
  },
  {
   "cell_type": "code",
   "execution_count": 21,
   "metadata": {},
   "outputs": [
    {
     "ename": "MaybeEncodingError",
     "evalue": "Error sending result: '<utils.classUtils.Tree.Tree object at 0x7f06283373a0>'. Reason: 'TypeError(\"cannot pickle '_global_parameters' object\")'",
     "output_type": "error",
     "traceback": [
      "\u001b[0;31m---------------------------------------------------------------------------\u001b[0m",
      "\u001b[0;31mMaybeEncodingError\u001b[0m                        Traceback (most recent call last)",
      "\u001b[1;32m/uscms_data/d3/ekoenig/8BAnalysis/studies/eightbStudies/jupyter/dev_persitent_workers.ipynb Cell 10\u001b[0m in \u001b[0;36m1\n\u001b[0;32m----> <a href='vscode-notebook-cell://ssh-remote%2Blpcgpu1/uscms_data/d3/ekoenig/8BAnalysis/studies/eightbStudies/jupyter/dev_persitent_workers.ipynb#W4sdnNjb2RlLXJlbW90ZQ%3D%3D?line=0'>1</a>\u001b[0m signal \u001b[39m=\u001b[39m \u001b[39mlist\u001b[39;49m(pool\u001b[39m.\u001b[39;49mimap( open_tree, f_signal))\n",
      "File \u001b[0;32m/uscms_data/d3/ekoenig/mambaforge/envs/py-env/lib/python3.9/site-packages/multiprocess/pool.py:870\u001b[0m, in \u001b[0;36mIMapIterator.next\u001b[0;34m(self, timeout)\u001b[0m\n\u001b[1;32m    868\u001b[0m \u001b[39mif\u001b[39;00m success:\n\u001b[1;32m    869\u001b[0m     \u001b[39mreturn\u001b[39;00m value\n\u001b[0;32m--> 870\u001b[0m \u001b[39mraise\u001b[39;00m value\n",
      "\u001b[0;31mMaybeEncodingError\u001b[0m: Error sending result: '<utils.classUtils.Tree.Tree object at 0x7f06283373a0>'. Reason: 'TypeError(\"cannot pickle '_global_parameters' object\")'"
     ]
    }
   ],
   "source": [
    "signal = list(pool.imap( open_tree, f_signal))"
   ]
  },
  {
   "cell_type": "code",
   "execution_count": 28,
   "metadata": {},
   "outputs": [
    {
     "data": {
      "text/plain": [
       "[<Array [[202, 170, 115, ... 70.7, 51.9, 23.3]] type='133604 * var * float32'>,\n",
       " <Array [[422, 389, 86.7, ... 37.4, 31.8, 23.6]] type='85711 * var * float32'>]"
      ]
     },
     "execution_count": 28,
     "metadata": {},
     "output_type": "execute_result"
    }
   ],
   "source": [
    "def get_jet_p4(tree):\n",
    "    p4 = build_p4(tree, prefix='jet')\n",
    "    return p4.pt\n",
    "\n",
    "list(pool.imap(get_jet_p4, signal))"
   ]
  },
  {
   "cell_type": "code",
   "execution_count": 30,
   "metadata": {},
   "outputs": [
    {
     "name": "stderr",
     "output_type": "stream",
     "text": [
      "Process ForkPoolWorker-5:\n",
      "Process ForkPoolWorker-6:\n",
      "Traceback (most recent call last):\n",
      "  File \"/uscms_data/d3/ekoenig/mambaforge/envs/py-env/lib/python3.9/multiprocessing/process.py\", line 315, in _bootstrap\n",
      "    self.run()\n",
      "  File \"/uscms_data/d3/ekoenig/mambaforge/envs/py-env/lib/python3.9/multiprocessing/process.py\", line 108, in run\n",
      "    self._target(*self._args, **self._kwargs)\n",
      "  File \"/uscms_data/d3/ekoenig/mambaforge/envs/py-env/lib/python3.9/multiprocessing/pool.py\", line 114, in worker\n",
      "    task = get()\n"
     ]
    },
    {
     "ename": "KeyboardInterrupt",
     "evalue": "",
     "output_type": "error",
     "traceback": [
      "\u001b[0;31m---------------------------------------------------------------------------\u001b[0m",
      "\u001b[0;31mIndexError\u001b[0m                                Traceback (most recent call last)",
      "File \u001b[0;32m/uscms_data/d3/ekoenig/mambaforge/envs/py-env/lib/python3.9/multiprocessing/pool.py:853\u001b[0m, in \u001b[0;36mIMapIterator.next\u001b[0;34m(self, timeout)\u001b[0m\n\u001b[1;32m    852\u001b[0m \u001b[39mtry\u001b[39;00m:\n\u001b[0;32m--> 853\u001b[0m     item \u001b[39m=\u001b[39m \u001b[39mself\u001b[39;49m\u001b[39m.\u001b[39;49m_items\u001b[39m.\u001b[39;49mpopleft()\n\u001b[1;32m    854\u001b[0m \u001b[39mexcept\u001b[39;00m \u001b[39mIndexError\u001b[39;00m:\n",
      "\u001b[0;31mIndexError\u001b[0m: pop from an empty deque",
      "\nDuring handling of the above exception, another exception occurred:\n",
      "\u001b[0;31mKeyboardInterrupt\u001b[0m                         Traceback (most recent call last)",
      "\u001b[1;32m/uscms_data/d3/ekoenig/8BAnalysis/studies/eightbStudies/jupyter/dev_persitent_workers.ipynb Cell 7\u001b[0m in \u001b[0;36m5\n\u001b[1;32m      <a href='vscode-notebook-cell://ssh-remote%2Blpcgpu1/uscms_data/d3/ekoenig/8BAnalysis/studies/eightbStudies/jupyter/dev_persitent_workers.ipynb#X10sdnNjb2RlLXJlbW90ZQ%3D%3D?line=1'>2</a>\u001b[0m     eightb\u001b[39m.\u001b[39mload_feynnet_assignment(tree, model\u001b[39m.\u001b[39mstorage)\n\u001b[1;32m      <a href='vscode-notebook-cell://ssh-remote%2Blpcgpu1/uscms_data/d3/ekoenig/8BAnalysis/studies/eightbStudies/jupyter/dev_persitent_workers.ipynb#X10sdnNjb2RlLXJlbW90ZQ%3D%3D?line=2'>3</a>\u001b[0m     \u001b[39mreturn\u001b[39;00m tree\n\u001b[0;32m----> <a href='vscode-notebook-cell://ssh-remote%2Blpcgpu1/uscms_data/d3/ekoenig/8BAnalysis/studies/eightbStudies/jupyter/dev_persitent_workers.ipynb#X10sdnNjb2RlLXJlbW90ZQ%3D%3D?line=4'>5</a>\u001b[0m \u001b[39mlist\u001b[39;49m(pool\u001b[39m.\u001b[39;49mimap(load_feynnet, signal))\n",
      "File \u001b[0;32m/uscms_data/d3/ekoenig/mambaforge/envs/py-env/lib/python3.9/multiprocessing/pool.py:858\u001b[0m, in \u001b[0;36mIMapIterator.next\u001b[0;34m(self, timeout)\u001b[0m\n\u001b[1;32m    856\u001b[0m     \u001b[39mself\u001b[39m\u001b[39m.\u001b[39m_pool \u001b[39m=\u001b[39m \u001b[39mNone\u001b[39;00m\n\u001b[1;32m    857\u001b[0m     \u001b[39mraise\u001b[39;00m \u001b[39mStopIteration\u001b[39;00m \u001b[39mfrom\u001b[39;00m \u001b[39mNone\u001b[39m\n\u001b[0;32m--> 858\u001b[0m \u001b[39mself\u001b[39;49m\u001b[39m.\u001b[39;49m_cond\u001b[39m.\u001b[39;49mwait(timeout)\n\u001b[1;32m    859\u001b[0m \u001b[39mtry\u001b[39;00m:\n\u001b[1;32m    860\u001b[0m     item \u001b[39m=\u001b[39m \u001b[39mself\u001b[39m\u001b[39m.\u001b[39m_items\u001b[39m.\u001b[39mpopleft()\n",
      "File \u001b[0;32m/uscms_data/d3/ekoenig/mambaforge/envs/py-env/lib/python3.9/threading.py:312\u001b[0m, in \u001b[0;36mCondition.wait\u001b[0;34m(self, timeout)\u001b[0m\n\u001b[1;32m    310\u001b[0m \u001b[39mtry\u001b[39;00m:    \u001b[39m# restore state no matter what (e.g., KeyboardInterrupt)\u001b[39;00m\n\u001b[1;32m    311\u001b[0m     \u001b[39mif\u001b[39;00m timeout \u001b[39mis\u001b[39;00m \u001b[39mNone\u001b[39;00m:\n\u001b[0;32m--> 312\u001b[0m         waiter\u001b[39m.\u001b[39;49macquire()\n\u001b[1;32m    313\u001b[0m         gotit \u001b[39m=\u001b[39m \u001b[39mTrue\u001b[39;00m\n\u001b[1;32m    314\u001b[0m     \u001b[39melse\u001b[39;00m:\n",
      "\u001b[0;31mKeyboardInterrupt\u001b[0m: "
     ]
    },
    {
     "name": "stderr",
     "output_type": "stream",
     "text": [
      "  File \"/uscms_data/d3/ekoenig/mambaforge/envs/py-env/lib/python3.9/multiprocessing/queues.py\", line 365, in get\n",
      "    res = self._reader.recv_bytes()\n",
      "  File \"/uscms_data/d3/ekoenig/mambaforge/envs/py-env/lib/python3.9/multiprocessing/connection.py\", line 221, in recv_bytes\n",
      "    buf = self._recv_bytes(maxlength)\n",
      "  File \"/uscms_data/d3/ekoenig/mambaforge/envs/py-env/lib/python3.9/multiprocessing/connection.py\", line 419, in _recv_bytes\n",
      "    buf = self._recv(4)\n",
      "  File \"/uscms_data/d3/ekoenig/mambaforge/envs/py-env/lib/python3.9/multiprocessing/connection.py\", line 384, in _recv\n",
      "    chunk = read(handle, remaining)\n",
      "KeyboardInterrupt\n"
     ]
    },
    {
     "name": "stderr",
     "output_type": "stream",
     "text": [
      "Traceback (most recent call last):\n",
      "  File \"/uscms_data/d3/ekoenig/mambaforge/envs/py-env/lib/python3.9/multiprocessing/process.py\", line 315, in _bootstrap\n",
      "    self.run()\n",
      "  File \"/uscms_data/d3/ekoenig/mambaforge/envs/py-env/lib/python3.9/multiprocessing/process.py\", line 108, in run\n",
      "    self._target(*self._args, **self._kwargs)\n",
      "  File \"/uscms_data/d3/ekoenig/mambaforge/envs/py-env/lib/python3.9/multiprocessing/pool.py\", line 114, in worker\n",
      "    task = get()\n",
      "  File \"/uscms_data/d3/ekoenig/mambaforge/envs/py-env/lib/python3.9/multiprocessing/queues.py\", line 364, in get\n",
      "    with self._rlock:\n",
      "  File \"/uscms_data/d3/ekoenig/mambaforge/envs/py-env/lib/python3.9/multiprocessing/synchronize.py\", line 95, in __enter__\n",
      "    return self._semlock.__enter__()\n",
      "KeyboardInterrupt\n"
     ]
    }
   ],
   "source": [
    "def load_feynnet(tree, model=eightb.models.feynnet_bkg_33sig):\n",
    "    eightb.load_feynnet_assignment(tree, model.storage)\n",
    "    return tree\n",
    "\n",
    "list(pool.imap(load_feynnet, signal))"
   ]
  },
  {
   "cell_type": "code",
   "execution_count": null,
   "metadata": {},
   "outputs": [],
   "source": []
  }
 ],
 "metadata": {
  "kernelspec": {
   "display_name": "py-env",
   "language": "python",
   "name": "python3"
  },
  "language_info": {
   "codemirror_mode": {
    "name": "ipython",
    "version": 3
   },
   "file_extension": ".py",
   "mimetype": "text/x-python",
   "name": "python",
   "nbconvert_exporter": "python",
   "pygments_lexer": "ipython3",
   "version": "3.9.15"
  },
  "orig_nbformat": 4
 },
 "nbformat": 4,
 "nbformat_minor": 2
}

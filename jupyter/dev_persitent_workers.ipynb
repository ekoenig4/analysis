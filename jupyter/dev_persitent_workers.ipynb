{
 "cells": [
  {
   "cell_type": "code",
   "execution_count": 1,
   "metadata": {},
   "outputs": [],
   "source": [
    "%load_ext autoreload\n",
    "%autoreload 2\n",
    "\n",
    "import os\n",
    "os.environ['KMP_WARNINGS'] = 'off'\n",
    "import sys\n",
    "import git\n",
    "\n",
    "import uproot as ut\n",
    "import awkward as ak\n",
    "import numpy as np\n",
    "import math\n",
    "import vector\n",
    "import sympy as sp\n",
    "\n",
    "import re\n",
    "from tqdm import tqdm\n",
    "import timeit\n",
    "import re\n",
    "\n",
    "sys.path.append( git.Repo('.', search_parent_directories=True).working_tree_dir )\n",
    "from utils import *"
   ]
  },
  {
   "cell_type": "code",
   "execution_count": 18,
   "metadata": {},
   "outputs": [],
   "source": [
    "class f_load_chunk(ParallelMethod):\n",
    "    def __init__(self, filename, n_workers=1):\n",
    "        super().__init__()\n",
    "        self.filename = filename\n",
    "        with ut.open(filename) as f:\n",
    "            self.total_events = f['sixBtree'].num_entries\n",
    "        self.n_workers = n_workers\n",
    "\n",
    "    def start(self, i):\n",
    "        step = self.total_events // self.n_workers\n",
    "        start = i*step\n",
    "        stop = (i+1)*step\n",
    "\n",
    "        if i == self.n_workers-1:\n",
    "            stop = None\n",
    "\n",
    "        return dict(\n",
    "            start = start,\n",
    "            stop = stop,\n",
    "        )\n",
    "    \n",
    "    def run(self, start, stop):\n",
    "        return dict(\n",
    "            arrays=ut.open(self.filename)['sixBtree'].arrays(entry_start=start, entry_stop=stop)\n",
    "            # arrays=(start,stop)\n",
    "        )\n",
    "    \n",
    "    def end(self, i, arrays=None):\n",
    "        return arrays\n"
   ]
  },
  {
   "cell_type": "code",
   "execution_count": null,
   "metadata": {},
   "outputs": [],
   "source": []
  },
  {
   "cell_type": "code",
   "execution_count": 43,
   "metadata": {},
   "outputs": [],
   "source": [
    "from concurrent.futures import ProcessPoolExecutor\n",
    "\n",
    "def load_chunk(tree, start, stop):\n",
    "    if tree.closed:\n",
    "        tree = ut.open(tree.filename)['sixBtree']\n",
    "    return tree.arrays(entry_start=start, entry_stop=stop)\n",
    "\n",
    "def load_arrays(tree, num_workers=1, report=False):\n",
    "    pool = ProcessPoolExecutor(num_workers)\n",
    "    total_events = tree.num_entries\n",
    "    step = total_events // num_workers\n",
    "    workers = [ pool.submit(load_chunk, tree, i*step, (i+1)*step if i+1 < num_workers else None) for i in range(num_workers) ]\n",
    "\n",
    "    if report: workers = tqdm(workers)\n",
    "    arrays = [ w.result() for w in workers ]\n",
    "    return ak.concatenate(arrays)\n",
    "\n",
    "\n",
    "\n"
   ]
  },
  {
   "cell_type": "code",
   "execution_count": 44,
   "metadata": {},
   "outputs": [],
   "source": [
    "filename = fc.fs.default.fullpath(fc.eightb.feynnet.v1_20230613.NMSSM_XYY_YToHH_8b_MX_700_MY_300)\n",
    "\n",
    "with ut.open(filename) as f:\n",
    "    tree = load_arrays(f['sixBtree'], num_workers=8, report=True)\n",
    "\n",
    "# import multiprocessing as mp\n",
    "\n",
    "# with mp.Pool(8) as pool:\n",
    "#     load_chunk = f_load_chunk(filename, n_workers=pool._processes)\n",
    "#     arrays = ObjIter(range(pool._processes)).pool_apply(load_chunk, report=True, pool=pool).cat"
   ]
  },
  {
   "cell_type": "code",
   "execution_count": 45,
   "metadata": {},
   "outputs": [
    {
     "data": {
      "text/plain": [
       "<Array [{Run: 1, ... ] type='2184287 * {\"Run\": uint32, \"LumiSec\": uint32, \"Event...'>"
      ]
     },
     "execution_count": 45,
     "metadata": {},
     "output_type": "execute_result"
    }
   ],
   "source": [
    "tree"
   ]
  },
  {
   "cell_type": "code",
   "execution_count": 34,
   "metadata": {},
   "outputs": [
    {
     "data": {
      "text/plain": [
       "2184287"
      ]
     },
     "execution_count": 34,
     "metadata": {},
     "output_type": "execute_result"
    }
   ],
   "source": [
    "load_chunk.total_events"
   ]
  },
  {
   "cell_type": "code",
   "execution_count": 35,
   "metadata": {},
   "outputs": [
    {
     "data": {
      "image/png": "[encoded data removed]",
      "text/plain": [
       "<Figure size 2000x800 with 1 Axes>"
      ]
     },
     "metadata": {},
     "output_type": "display_data"
    }
   ],
   "source": [
    "study.plot_timing(load_chunk)"
   ]
  },
  {
   "cell_type": "code",
   "execution_count": 36,
   "metadata": {},
   "outputs": [
    {
     "name": "stdout",
     "output_type": "stream",
     "text": [
      "\u001b[0;31mSignature:\u001b[0m\n",
      "\u001b[0mut\u001b[0m\u001b[0;34m.\u001b[0m\u001b[0mTTree\u001b[0m\u001b[0;34m.\u001b[0m\u001b[0marrays\u001b[0m\u001b[0;34m(\u001b[0m\u001b[0;34m\u001b[0m\n",
      "\u001b[0;34m\u001b[0m    \u001b[0mself\u001b[0m\u001b[0;34m,\u001b[0m\u001b[0;34m\u001b[0m\n",
      "\u001b[0;34m\u001b[0m    \u001b[0mexpressions\u001b[0m\u001b[0;34m=\u001b[0m\u001b[0;32mNone\u001b[0m\u001b[0;34m,\u001b[0m\u001b[0;34m\u001b[0m\n",
      "\u001b[0;34m\u001b[0m    \u001b[0mcut\u001b[0m\u001b[0;34m=\u001b[0m\u001b[0;32mNone\u001b[0m\u001b[0;34m,\u001b[0m\u001b[0;34m\u001b[0m\n",
      "\u001b[0;34m\u001b[0m    \u001b[0mfilter_name\u001b[0m\u001b[0;34m=\u001b[0m\u001b[0;34m<\u001b[0m\u001b[0mfunction\u001b[0m \u001b[0mno_filter\u001b[0m \u001b[0mat\u001b[0m \u001b[0;36m0x7efe4c55c280\u001b[0m\u001b[0;34m>\u001b[0m\u001b[0;34m,\u001b[0m\u001b[0;34m\u001b[0m\n",
      "\u001b[0;34m\u001b[0m    \u001b[0mfilter_typename\u001b[0m\u001b[0;34m=\u001b[0m\u001b[0;34m<\u001b[0m\u001b[0mfunction\u001b[0m \u001b[0mno_filter\u001b[0m \u001b[0mat\u001b[0m \u001b[0;36m0x7efe4c55c280\u001b[0m\u001b[0;34m>\u001b[0m\u001b[0;34m,\u001b[0m\u001b[0;34m\u001b[0m\n",
      "\u001b[0;34m\u001b[0m    \u001b[0mfilter_branch\u001b[0m\u001b[0;34m=\u001b[0m\u001b[0;34m<\u001b[0m\u001b[0mfunction\u001b[0m \u001b[0mno_filter\u001b[0m \u001b[0mat\u001b[0m \u001b[0;36m0x7efe4c55c280\u001b[0m\u001b[0;34m>\u001b[0m\u001b[0;34m,\u001b[0m\u001b[0;34m\u001b[0m\n",
      "\u001b[0;34m\u001b[0m    \u001b[0maliases\u001b[0m\u001b[0;34m=\u001b[0m\u001b[0;32mNone\u001b[0m\u001b[0;34m,\u001b[0m\u001b[0;34m\u001b[0m\n",
      "\u001b[0;34m\u001b[0m    \u001b[0mlanguage\u001b[0m\u001b[0;34m=\u001b[0m\u001b[0muproot\u001b[0m\u001b[0;34m.\u001b[0m\u001b[0mlanguage\u001b[0m\u001b[0;34m.\u001b[0m\u001b[0mpython\u001b[0m\u001b[0;34m.\u001b[0m\u001b[0mPythonLanguage\u001b[0m\u001b[0;34m(\u001b[0m\u001b[0;34m)\u001b[0m\u001b[0;34m,\u001b[0m\u001b[0;34m\u001b[0m\n",
      "\u001b[0;34m\u001b[0m    \u001b[0mentry_start\u001b[0m\u001b[0;34m=\u001b[0m\u001b[0;32mNone\u001b[0m\u001b[0;34m,\u001b[0m\u001b[0;34m\u001b[0m\n",
      "\u001b[0;34m\u001b[0m    \u001b[0mentry_stop\u001b[0m\u001b[0;34m=\u001b[0m\u001b[0;32mNone\u001b[0m\u001b[0;34m,\u001b[0m\u001b[0;34m\u001b[0m\n",
      "\u001b[0;34m\u001b[0m    \u001b[0mdecompression_executor\u001b[0m\u001b[0;34m=\u001b[0m\u001b[0;32mNone\u001b[0m\u001b[0;34m,\u001b[0m\u001b[0;34m\u001b[0m\n",
      "\u001b[0;34m\u001b[0m    \u001b[0minterpretation_executor\u001b[0m\u001b[0;34m=\u001b[0m\u001b[0;32mNone\u001b[0m\u001b[0;34m,\u001b[0m\u001b[0;34m\u001b[0m\n",
      "\u001b[0;34m\u001b[0m    \u001b[0marray_cache\u001b[0m\u001b[0;34m=\u001b[0m\u001b[0;34m'inherit'\u001b[0m\u001b[0;34m,\u001b[0m\u001b[0;34m\u001b[0m\n",
      "\u001b[0;34m\u001b[0m    \u001b[0mlibrary\u001b[0m\u001b[0;34m=\u001b[0m\u001b[0;34m'ak'\u001b[0m\u001b[0;34m,\u001b[0m\u001b[0;34m\u001b[0m\n",
      "\u001b[0;34m\u001b[0m    \u001b[0mhow\u001b[0m\u001b[0;34m=\u001b[0m\u001b[0;32mNone\u001b[0m\u001b[0;34m,\u001b[0m\u001b[0;34m\u001b[0m\n",
      "\u001b[0;34m\u001b[0m\u001b[0;34m)\u001b[0m\u001b[0;34m\u001b[0m\u001b[0;34m\u001b[0m\u001b[0m\n",
      "\u001b[0;31mDocstring:\u001b[0m\n",
      "Args:\n",
      "    expressions (None, str, or list of str): Names of ``TBranches`` or\n",
      "        aliases to convert to arrays or mathematical expressions of them.\n",
      "        Uses the ``language`` to evaluate. If None, all ``TBranches``\n",
      "        selected by the filters are included.\n",
      "    cut (None or str): If not None, this expression filters all of the\n",
      "        ``expressions``.\n",
      "    filter_name (None, glob string, regex string in ``\"/pattern/i\"`` syntax, function of str → bool, or iterable of the above): A\n",
      "        filter to select ``TBranches`` by name.\n",
      "    filter_typename (None, glob string, regex string in ``\"/pattern/i\"`` syntax, function of str → bool, or iterable of the above): A\n",
      "        filter to select ``TBranches`` by type.\n",
      "    filter_branch (None or function of :doc:`uproot.behaviors.TBranch.TBranch` → bool, :doc:`uproot.interpretation.Interpretation`, or None): A\n",
      "        filter to select ``TBranches`` using the full\n",
      "        :doc:`uproot.behaviors.TBranch.TBranch` object. If the function\n",
      "        returns False or None, the ``TBranch`` is excluded; if the function\n",
      "        returns True, it is included with its standard\n",
      "        :ref:`uproot.behaviors.TBranch.TBranch.interpretation`; if an\n",
      "        :doc:`uproot.interpretation.Interpretation`, this interpretation\n",
      "        overrules the standard one.\n",
      "    aliases (None or dict of str → str): Mathematical expressions that\n",
      "        can be used in ``expressions`` or other aliases (without cycles).\n",
      "        Uses the ``language`` engine to evaluate. If None, only the\n",
      "        :ref:`uproot.behaviors.TBranch.TBranch.aliases` are available.\n",
      "    language (:doc:`uproot.language.Language`): Language used to interpret\n",
      "        the ``expressions`` and ``aliases``.\n",
      "    entry_start (None or int): The first entry to include. If None, start\n",
      "        at zero. If negative, count from the end, like a Python slice.\n",
      "    entry_stop (None or int): The first entry to exclude (i.e. one greater\n",
      "        than the last entry to include). If None, stop at\n",
      "        :ref:`uproot.behaviors.TTree.TTree.num_entries`. If negative,\n",
      "        count from the end, like a Python slice.\n",
      "    decompression_executor (None or Executor with a ``submit`` method): The\n",
      "        executor that is used to decompress ``TBaskets``; if None, the\n",
      "        file's :ref:`uproot.reading.ReadOnlyFile.decompression_executor`\n",
      "        is used.\n",
      "    interpretation_executor (None or Executor with a ``submit`` method): The\n",
      "        executor that is used to interpret uncompressed ``TBasket`` data as\n",
      "        arrays; if None, the file's :ref:`uproot.reading.ReadOnlyFile.interpretation_executor`\n",
      "        is used.\n",
      "    array_cache (\"inherit\", None, MutableMapping, or memory size): Cache of arrays;\n",
      "        if \"inherit\", use the file's cache; if None, do not use a cache;\n",
      "        if a memory size, create a new cache of this size.\n",
      "    library (str or :doc:`uproot.interpretation.library.Library`): The library\n",
      "        that is used to represent arrays. Options are ``\"np\"`` for NumPy,\n",
      "        ``\"ak\"`` for Awkward Array, and ``\"pd\"`` for Pandas.\n",
      "    how (None, str, or container type): Library-dependent instructions\n",
      "        for grouping. The only recognized container types are ``tuple``,\n",
      "        ``list``, and ``dict``. Note that the container *type itself*\n",
      "        must be passed as ``how``, not an instance of that type (i.e.\n",
      "        ``how=tuple``, not ``how=()``).\n",
      "\n",
      "Returns a group of arrays from the ``TTree``.\n",
      "\n",
      "For example:\n",
      "\n",
      ".. code-block:: python\n",
      "\n",
      "    >>> my_tree[\"x\"].array()\n",
      "    <Array [-41.2, 35.1, 35.1, ... 32.4, 32.5] type='2304 * float64'>\n",
      "    >>> my_tree[\"y\"].array()\n",
      "    <Array [17.4, -16.6, -16.6, ... 1.2, 1.2, 1.2] type='2304 * float64'>\n",
      "\n",
      "See also :ref:`uproot.behaviors.TBranch.TBranch.array` to read a single\n",
      "``TBranch`` as an array.\n",
      "\n",
      "See also :ref:`uproot.behaviors.TBranch.HasBranches.iterate` to iterate over\n",
      "the array in contiguous ranges of entries.\n",
      "\u001b[0;31mFile:\u001b[0m      /uscms_data/d3/ekoenig/mambaforge/envs/py-env/lib/python3.9/site-packages/uproot/behaviors/TBranch.py\n",
      "\u001b[0;31mType:\u001b[0m      function\n"
     ]
    }
   ],
   "source": [
    "?ut.TTree.arrays"
   ]
  }
 ],
 "metadata": {
  "kernelspec": {
   "display_name": "py-env",
   "language": "python",
   "name": "python3"
  },
  "language_info": {
   "codemirror_mode": {
    "name": "ipython",
    "version": 3
   },
   "file_extension": ".py",
   "mimetype": "text/x-python",
   "name": "python",
   "nbconvert_exporter": "python",
   "pygments_lexer": "ipython3",
   "version": "3.9.15"
  },
  "orig_nbformat": 4
 },
 "nbformat": 4,
 "nbformat_minor": 2
}

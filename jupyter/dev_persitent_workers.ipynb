{
 "cells": [
  {
   "cell_type": "code",
   "execution_count": 1,
   "metadata": {},
   "outputs": [],
   "source": [
    "%load_ext autoreload\n",
    "%autoreload 2\n",
    "\n",
    "import os\n",
    "os.environ['KMP_WARNINGS'] = 'off'\n",
    "import sys\n",
    "import git\n",
    "\n",
    "import uproot as ut\n",
    "import awkward as ak\n",
    "import numpy as np\n",
    "import math\n",
    "import vector\n",
    "import sympy as sp\n",
    "\n",
    "import re\n",
    "from tqdm import tqdm\n",
    "import timeit\n",
    "import re\n",
    "\n",
    "sys.path.append( git.Repo('.', search_parent_directories=True).working_tree_dir )\n",
    "from utils import *"
   ]
  },
  {
   "cell_type": "code",
   "execution_count": 2,
   "metadata": {},
   "outputs": [],
   "source": [
    "from functools import partial"
   ]
  },
  {
   "cell_type": "code",
   "execution_count": 3,
   "metadata": {},
   "outputs": [],
   "source": [
    "module = fc.eightb.feynnet"
   ]
  },
  {
   "cell_type": "code",
   "execution_count": 4,
   "metadata": {},
   "outputs": [],
   "source": [
    "files = module.feynnet_signal_list[:10]"
   ]
  },
  {
   "cell_type": "code",
   "execution_count": 5,
   "metadata": {},
   "outputs": [],
   "source": [
    "f_signal = ObjIter(files)"
   ]
  },
  {
   "cell_type": "code",
   "execution_count": 6,
   "metadata": {},
   "outputs": [],
   "source": [
    "open_tree = partial(Tree, altfile='test_{base}', report=False)"
   ]
  },
  {
   "cell_type": "code",
   "execution_count": 7,
   "metadata": {},
   "outputs": [],
   "source": [
    "# signal = f_signal.apply(open_tree, report=True)\n",
    "# del signal"
   ]
  },
  {
   "cell_type": "code",
   "execution_count": 8,
   "metadata": {},
   "outputs": [
    {
     "name": "stderr",
     "output_type": "stream",
     "text": [
      "100%|██████████| 10/10 [00:34<00:00,  3.42s/it]\n"
     ]
    }
   ],
   "source": [
    "signal = f_signal.pool_apply(open_tree, report=True)"
   ]
  },
  {
   "cell_type": "code",
   "execution_count": 9,
   "metadata": {},
   "outputs": [],
   "source": [
    "class parallel_reconstruct(ParallelMethod):\n",
    "    def start(self, tree):\n",
    "        jet_p4 = build_p4(tree, prefix='jet')\n",
    "\n",
    "        return dict(\n",
    "            jet_p4 = jet_p4,\n",
    "        )\n",
    "    \n",
    "    def run(self, jet_p4):\n",
    "        j1, j2 = jet_p4[:,::2], jet_p4[:,1::2]\n",
    "        h = j1 + j2\n",
    "        h1, h2 = h[:,::2], h[:,1::2]\n",
    "        y = h1 + h2\n",
    "        y1, y2 = y[:,0], y[:,1]\n",
    "        x = y1 + y2\n",
    "        return dict(\n",
    "            **{f'h_{kin}': getattr(h,kin) for kin in ('pt', 'eta', 'phi', 'm')},\n",
    "            **{f'y_{kin}': getattr(y,kin) for kin in ('pt', 'eta', 'phi', 'm')},\n",
    "            **{f'x_{kin}': getattr(x,kin) for kin in ('pt', 'eta', 'phi', 'm')},\n",
    "        )\n",
    "    \n",
    "    def end(self, tree, **output):\n",
    "        tree.extend(**output)\n",
    "\n",
    "parallel_reconstruct = parallel_reconstruct()"
   ]
  },
  {
   "cell_type": "code",
   "execution_count": 10,
   "metadata": {},
   "outputs": [
    {
     "ename": "UnboundLocalError",
     "evalue": "local variable 'result' referenced before assignment",
     "output_type": "error",
     "traceback": [
      "\u001b[0;31m---------------------------------------------------------------------------\u001b[0m",
      "\u001b[0;31mUnboundLocalError\u001b[0m                         Traceback (most recent call last)",
      "\u001b[1;32m/uscms_data/d3/ekoenig/8BAnalysis/studies/eightbStudies/jupyter/dev_persitent_workers.ipynb Cell 10\u001b[0m in \u001b[0;36m3\n\u001b[1;32m      <a href='vscode-notebook-cell://ssh-remote%2Blpcgpu1/uscms_data/d3/ekoenig/8BAnalysis/studies/eightbStudies/jupyter/dev_persitent_workers.ipynb#X13sdnNjb2RlLXJlbW90ZQ%3D%3D?line=0'>1</a>\u001b[0m \u001b[39mimport\u001b[39;00m \u001b[39mmultiprocess\u001b[39;00m \u001b[39mas\u001b[39;00m \u001b[39mmp\u001b[39;00m\n\u001b[1;32m      <a href='vscode-notebook-cell://ssh-remote%2Blpcgpu1/uscms_data/d3/ekoenig/8BAnalysis/studies/eightbStudies/jupyter/dev_persitent_workers.ipynb#X13sdnNjb2RlLXJlbW90ZQ%3D%3D?line=1'>2</a>\u001b[0m \u001b[39mwith\u001b[39;00m mp\u001b[39m.\u001b[39mPool(\u001b[39m4\u001b[39m) \u001b[39mas\u001b[39;00m pool:\n\u001b[0;32m----> <a href='vscode-notebook-cell://ssh-remote%2Blpcgpu1/uscms_data/d3/ekoenig/8BAnalysis/studies/eightbStudies/jupyter/dev_persitent_workers.ipynb#X13sdnNjb2RlLXJlbW90ZQ%3D%3D?line=2'>3</a>\u001b[0m     signal\u001b[39m.\u001b[39;49mparallel_apply( parallel_reconstruct, pool\u001b[39m=\u001b[39;49mpool, report\u001b[39m=\u001b[39;49m\u001b[39mTrue\u001b[39;49;00m)\n",
      "File \u001b[0;32m/uscms_data/d3/ekoenig/8BAnalysis/studies/eightbStudies/utils/classUtils/ObjIter.py:187\u001b[0m, in \u001b[0;36mObjIter.parallel_apply\u001b[0;34m(self, obj_function, report, pool)\u001b[0m\n\u001b[1;32m    184\u001b[0m results \u001b[39m=\u001b[39m thread_pool\u001b[39m.\u001b[39mimap( parallel_function, \u001b[39mself\u001b[39m\u001b[39m.\u001b[39mobjs, chunksize\u001b[39m=\u001b[39m\u001b[39m1\u001b[39m )\n\u001b[1;32m    186\u001b[0m \u001b[39mif\u001b[39;00m report:\n\u001b[0;32m--> 187\u001b[0m     result \u001b[39m=\u001b[39m tqdm(result, total\u001b[39m=\u001b[39m\u001b[39mlen\u001b[39m(\u001b[39mself\u001b[39m))\n\u001b[1;32m    189\u001b[0m results \u001b[39m=\u001b[39m \u001b[39mlist\u001b[39m( result )\n\u001b[1;32m    191\u001b[0m \u001b[39mreturn\u001b[39;00m ObjIter(results)\n",
      "\u001b[0;31mUnboundLocalError\u001b[0m: local variable 'result' referenced before assignment"
     ]
    }
   ],
   "source": [
    "import multiprocess as mp\n",
    "with mp.Pool(4) as pool:\n",
    "    signal.parallel_apply( parallel_reconstruct, pool=pool, report=True)"
   ]
  },
  {
   "cell_type": "code",
   "execution_count": null,
   "metadata": {},
   "outputs": [
    {
     "data": {
      "text/plain": [
       "[<Array [488, 497, 449, ... 571, 529, 1.16e+03] type='87927 * float32'>, <Array [513, 500, 531, 500, ... 657, 533, 681] type='89428 * float32'>, <Array [510, 832, 569, ... 1.61e+03, 966] type='91849 * float32'>, <Array [564, 633, 638, ... 1.18e+03, 1.29e+03] type='526600 * float32'>, <Array [581, 529, 603, ... 971, 1.02e+03] type='67945 * float32'>, <Array [1.14e+03, 821, 863, ... 734, 1.35e+03] type='89118 * float32'>, <Array [1.11e+03, 638, 1.14e+03, ... 828, 632] type='564793 * float32'>, <Array [867, 958, 1.24e+03, ... 565, 950] type='580639 * float32'>, <Array [578, 806, 711, ... 651, 815, 1.04e+03] type='108982 * float32'>, <Array [2.24e+03, 889, 920, ... 926, 1.07e+03] type='93134 * float32'>]"
      ]
     },
     "execution_count": 12,
     "metadata": {},
     "output_type": "execute_result"
    }
   ],
   "source": [
    "signal.x_m"
   ]
  },
  {
   "cell_type": "code",
   "execution_count": null,
   "metadata": {},
   "outputs": [],
   "source": []
  }
 ],
 "metadata": {
  "kernelspec": {
   "display_name": "py-env",
   "language": "python",
   "name": "python3"
  },
  "language_info": {
   "codemirror_mode": {
    "name": "ipython",
    "version": 3
   },
   "file_extension": ".py",
   "mimetype": "text/x-python",
   "name": "python",
   "nbconvert_exporter": "python",
   "pygments_lexer": "ipython3",
   "version": "3.9.15"
  },
  "orig_nbformat": 4
 },
 "nbformat": 4,
 "nbformat_minor": 2
}

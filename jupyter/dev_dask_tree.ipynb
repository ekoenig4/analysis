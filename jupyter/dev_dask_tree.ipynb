{
 "cells": [
  {
   "cell_type": "code",
   "execution_count": 8,
   "id": "9bfa3b5a",
   "metadata": {},
   "outputs": [
    {
     "name": "stdout",
     "output_type": "stream",
     "text": [
      "The autoreload extension is already loaded. To reload it, use:\n",
      "  %reload_ext autoreload\n"
     ]
    }
   ],
   "source": [
    "%load_ext autoreload\n",
    "%autoreload 2\n",
    "\n",
    "import os\n",
    "os.environ['KMP_WARNINGS'] = 'off'\n",
    "import sys, git\n",
    "\n",
    "import uproot as ut\n",
    "import dask_awkward as dak \n",
    "import awkward as ak\n",
    "\n",
    "\n",
    "sys.path.append( git.Repo('.', search_parent_directories=True).working_tree_dir )"
   ]
  },
  {
   "cell_type": "code",
   "execution_count": 9,
   "id": "b4af916b",
   "metadata": {},
   "outputs": [],
   "source": [
    "from utils.classUtils.Tree import Tree"
   ]
  },
  {
   "cell_type": "code",
   "execution_count": 10,
   "id": "8f311749",
   "metadata": {},
   "outputs": [],
   "source": [
    "sigfile = \"/eos/uscms/store/user/ekoenig/sixb/ntuples/2018_gnn_training/split_{i}_signal_training_ntuple.root\""
   ]
  },
  {
   "cell_type": "code",
   "execution_count": 11,
   "id": "f819c370",
   "metadata": {},
   "outputs": [],
   "source": [
    "import dask_awkward as dak"
   ]
  },
  {
   "cell_type": "code",
   "execution_count": 12,
   "id": "451a0a81",
   "metadata": {},
   "outputs": [
    {
     "name": "stderr",
     "output_type": "stream",
     "text": [
      "100%|██████████| 1/1 [00:00<00:00, 10.10it/s]\n"
     ]
    }
   ],
   "source": [
    "sigtree = Tree(sigfile.format(i=0))"
   ]
  }
 ],
 "metadata": {
  "kernelspec": {
   "display_name": "Python 3.9.16 ('uproot5')",
   "language": "python",
   "name": "python3"
  },
  "language_info": {
   "codemirror_mode": {
    "name": "ipython",
    "version": 3
   },
   "file_extension": ".py",
   "mimetype": "text/x-python",
   "name": "python",
   "nbconvert_exporter": "python",
   "pygments_lexer": "ipython3",
   "version": "3.9.16"
  },
  "vscode": {
   "interpreter": {
    "hash": "530a175b59f07be8826fac6b63da697e638496db2803ae4b0c66a09cd28c2989"
   }
  }
 },
 "nbformat": 4,
 "nbformat_minor": 5
}

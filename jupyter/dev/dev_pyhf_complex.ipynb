{
 "cells": [
  {
   "cell_type": "code",
   "execution_count": 1,
   "id": "9bfa3b5a",
   "metadata": {},
   "outputs": [],
   "source": [
    "%load_ext autoreload\n",
    "%autoreload 2\n",
    "\n",
    "import os\n",
    "os.environ['KMP_WARNINGS'] = 'off'\n",
    "import sys\n",
    "import git\n",
    "\n",
    "import uproot as ut\n",
    "import awkward as ak\n",
    "import numpy as np\n",
    "import math\n",
    "import vector\n",
    "import sympy as sp\n",
    "\n",
    "import re\n",
    "from tqdm import tqdm\n",
    "import timeit\n",
    "import re\n",
    "\n",
    "sys.path.append( git.Repo('.', search_parent_directories=True).working_tree_dir )\n",
    "from utils import *"
   ]
  },
  {
   "cell_type": "code",
   "execution_count": 2,
   "id": "99a0fe7e",
   "metadata": {},
   "outputs": [],
   "source": [
    "lumi = lumiMap[2018][0]\n",
    "mc = 5\n"
   ]
  },
  {
   "cell_type": "code",
   "execution_count": 3,
   "id": "922def17",
   "metadata": {},
   "outputs": [
    {
     "name": "stderr",
     "output_type": "stream",
     "text": [
      "0it [00:00, ?it/s]"
     ]
    },
    {
     "name": "stdout",
     "output_type": "stream",
     "text": [
      "[WARNING] unable to open any files with filelist\n",
      "           []\n"
     ]
    },
    {
     "name": "stderr",
     "output_type": "stream",
     "text": [
      "\n"
     ]
    }
   ],
   "source": [
    "n_bkg = 1000\n",
    "\n",
    "bkg = Tree([], sample='bkg', color='lightgrey')\n",
    "f_bkg_m = lambda n : np.sqrt( np.sum(np.random.exponential(100, size=(n, 2))**2, axis=1) )\n",
    "f_bkg_pt = lambda n : np.random.exponential(100, size=(n,))\n",
    "\n",
    "bkg.extend(\n",
    "    m=f_bkg_m(mc*n_bkg),\n",
    "    pt=f_bkg_pt(mc*n_bkg),\n",
    "    scale=np.ones(mc*n_bkg)/(mc*lumi),\n",
    ")"
   ]
  },
  {
   "cell_type": "code",
   "execution_count": 4,
   "id": "1d61c281",
   "metadata": {},
   "outputs": [
    {
     "name": "stderr",
     "output_type": "stream",
     "text": [
      "0it [00:00, ?it/s]"
     ]
    },
    {
     "name": "stdout",
     "output_type": "stream",
     "text": [
      "[WARNING] unable to open any files with filelist\n",
      "           []\n"
     ]
    },
    {
     "name": "stderr",
     "output_type": "stream",
     "text": [
      "\n"
     ]
    }
   ],
   "source": [
    "n_sig = 100\n",
    "\n",
    "sig = Tree([], sample='sig', color='red', is_signal=True)\n",
    "f_sig_m = lambda n : np.random.normal(125, 10, size=(n,))\n",
    "f_sig_pt = lambda n : np.sqrt( np.sum(np.random.exponential(100, size=(n, 2))**2, axis=1) )\n",
    "sig.extend(\n",
    "    m=f_sig_m(mc*n_sig),\n",
    "    pt=f_sig_pt(mc*n_sig),\n",
    "    scale=np.ones(mc*n_sig)/(mc*lumi),\n",
    ")"
   ]
  },
  {
   "cell_type": "code",
   "execution_count": 5,
   "id": "0fd91c1a",
   "metadata": {},
   "outputs": [
    {
     "name": "stderr",
     "output_type": "stream",
     "text": [
      "0it [00:00, ?it/s]"
     ]
    },
    {
     "name": "stdout",
     "output_type": "stream",
     "text": [
      "[WARNING] unable to open any files with filelist\n",
      "           []\n"
     ]
    },
    {
     "name": "stderr",
     "output_type": "stream",
     "text": [
      "\n"
     ]
    }
   ],
   "source": [
    "r_sig = np.random.uniform(0.8,1.2)\n",
    "n_data = n_bkg + int(r_sig*n_sig)\n",
    "\n",
    "\n",
    "data = Tree([], sample='data', color='black', is_data=True)\n",
    "data.extend(\n",
    "    m=np.concatenate([ f_bkg_m(n_bkg), f_sig_m(int(r_sig*n_sig)) ]),\n",
    "    pt=np.concatenate([ f_bkg_pt(n_bkg), f_sig_pt(int(r_sig*n_sig)) ]),\n",
    "    scale=np.ones(n_data),\n",
    ")"
   ]
  },
  {
   "cell_type": "code",
   "execution_count": 8,
   "id": "dcab75b6",
   "metadata": {},
   "outputs": [
    {
     "data": {
      "text/plain": [
       "array([0.03845712, 0.06329529, 0.43057203, 0.7684302 , 0.11832377,\n",
       "       0.85929631, 0.14767074, 0.48088462, 0.50723045, 0.39822332,\n",
       "       0.19256811, 0.59228993, 0.51568119, 0.55712896, 0.71721395,\n",
       "       0.05441485, 0.53814979, 0.07516243, 0.188933  , 0.81556641])"
      ]
     },
     "execution_count": 8,
     "metadata": {},
     "output_type": "execute_result"
    }
   ],
   "source": [
    "np.array( np.random.uniform(size=(20,)) )"
   ]
  },
  {
   "cell_type": "code",
   "execution_count": 49,
   "id": "07027c22",
   "metadata": {},
   "outputs": [],
   "source": [
    "class Systematic:\n",
    "    valid_types = ['lnN', 'shape']\n",
    "    value_types = dict(\n",
    "        lnN = float,\n",
    "        shape = np.array,\n",
    "    )\n",
    "\n",
    "    def __init__(self, name, type, value):\n",
    "        assert type in self.valid_types, f'Invalid systematic type {type}'\n",
    "        \n",
    "        self.name = name\n",
    "        self.type = type\n",
    "        self.value = self.value_types[type](value)\n",
    "\n",
    "class Process:\n",
    "    def __init__(self,\n",
    "                 name,\n",
    "                 counts,\n",
    "                 errors,\n",
    "                 bins,\n",
    "                 category='bin1',\n",
    "                 is_signal=False,\n",
    "                 is_data=False,\n",
    "                 ):\n",
    "        assert not (is_signal and is_data), 'Process cannot be both signal and data'\n",
    "\n",
    "        self.name = name\n",
    "        self.category = category\n",
    "        self.counts = counts\n",
    "        self.errors = errors\n",
    "        self.bins = bins\n",
    "        self.is_signal = is_signal\n",
    "        self.is_data = is_data\n",
    "\n",
    "        self.systematics = []\n",
    "\n",
    "    def add_systematic(self, name, type, value):\n",
    "        self.systematics.append(Systematic(name, type, value))\n",
    "\n",
    "    def add_systematics(self, systematics : list):\n",
    "        for systematic in systematics:\n",
    "            self.add_systematic(*systematic)\n",
    "\n",
    "\n",
    "    "
   ]
  },
  {
   "cell_type": "code",
   "execution_count": 50,
   "id": "ca833c53",
   "metadata": {},
   "outputs": [],
   "source": [
    "h_sig = Histo.from_tree(sig, 'm', bins=np.linspace(0, 300, 30), histtype='step')\n",
    "h_bkg = Histo.from_tree(bkg, 'm', bins=np.linspace(0, 300, 30))\n",
    "h_data = Histo.from_tree(data, 'm', bins=np.linspace(0, 300, 30), marker='o')"
   ]
  },
  {
   "cell_type": "code",
   "execution_count": 51,
   "id": "3ad46d9a",
   "metadata": {},
   "outputs": [],
   "source": [
    "p_sig = Process(h_sig.label, h_sig.histo, h_sig.error, h_sig.bins, is_signal=True)\n",
    "\n",
    "p_sig.add_systematics([\n",
    "    ['lumi' ,'lnN', 1.023 ],\n",
    "    ['bTag' ,'lnN', 1.086   ],\n",
    "    ['JER' ,'lnN', 1.021   ],\n",
    "    ['JEC' ,'lnN', 1.029   ],\n",
    "    ['trigger' ,'lnN', 1.090 ] ,\n",
    "    ['PDF' ,'lnN', 1.035   ],\n",
    "    ['xS' ,'lnN', 1.050 ],\n",
    "])\n",
    "\n",
    "p_bkg = Process(h_bkg.label, h_bkg.histo, h_bkg.error, h_bkg.bins)\n",
    "\n",
    "p_bkg.add_systematics([\n",
    "    ['xB', 'lnN', 1.050],\n",
    "])\n",
    "\n",
    "p_data = Process(h_data.label, h_data.histo, h_data.error, h_data.bins, is_data=True)"
   ]
  },
  {
   "cell_type": "code",
   "execution_count": 52,
   "id": "9498435b",
   "metadata": {},
   "outputs": [],
   "source": [
    "class Workspace:\n",
    "\n",
    "    def __init__(self):\n",
    "        self.signal_processes = []\n",
    "        self.background_processes = []\n",
    "        self.data = None\n",
    "\n",
    "    def add_signal_process(self, process):\n",
    "        self.signal_processes.append(process)\n",
    "\n",
    "    def add_background_process(self, process):\n",
    "        self.background_processes.append(process)\n",
    "\n",
    "    def set_data(self, process):\n",
    "        self.data = process\n",
    "\n",
    "    @property\n",
    "    def processes(self): return self.signal_processes + self.background_processes"
   ]
  },
  {
   "cell_type": "code",
   "execution_count": 53,
   "id": "34752425",
   "metadata": {},
   "outputs": [],
   "source": [
    "ws = Workspace()\n",
    "\n",
    "ws.add_signal_process(p_sig)\n",
    "ws.add_background_process(p_bkg)\n",
    "ws.set_data(p_data)"
   ]
  },
  {
   "cell_type": "code",
   "execution_count": 54,
   "id": "5ef6d9f3",
   "metadata": {},
   "outputs": [],
   "source": [
    "datacard = \"\"\"\n",
    "imax * number of channels\n",
    "jmax * number of backgrounds\n",
    "kmax * number of nuisance parameters (sources of systematical uncertainties)\n",
    "\n",
    "shapes * * {filename} $PROCESS $PROCESS_$SYSTEMATIC\n",
    "----\n",
    "bin bin1\n",
    "observation -1\n",
    "bin           {categories}  \n",
    "process\t\t  {process_names}  \n",
    "process\t\t  {process_ids}\n",
    "rate\t\t  {process_rates}\n",
    "----\n",
    "{systematics}\n",
    "* autoMCStats 0\n",
    "\"\"\""
   ]
  },
  {
   "cell_type": "code",
   "execution_count": 55,
   "id": "af298f63",
   "metadata": {},
   "outputs": [
    {
     "data": {
      "text/plain": [
       "{'categories': ['bin1', 'bin1'],\n",
       " 'process_names': ['sig', 'bkg'],\n",
       " 'process_ids': [0, 1],\n",
       " 'process_rates': [-1, -1]}"
      ]
     },
     "execution_count": 55,
     "metadata": {},
     "output_type": "execute_result"
    }
   ],
   "source": [
    "dict(\n",
    "    categories=list(map(lambda f : f.category, ws.processes)),\n",
    "    process_names=list(map(lambda f : f.name, ws.processes)),\n",
    "    process_ids=(-np.arange( len(ws.signal_processes) ) ).tolist() + (np.arange( len(ws.background_processes) ) + 1).tolist(),\n",
    "    process_rates = [-1]*len(ws.processes),\n",
    ")"
   ]
  },
  {
   "cell_type": "code",
   "execution_count": 56,
   "id": "ce611d5f",
   "metadata": {},
   "outputs": [
    {
     "name": "stdout",
     "output_type": "stream",
     "text": [
      "lumi lnN 1.023\n",
      "lumi lnN 1.023\n",
      "bTag lnN 1.086\n",
      "JER lnN 1.021\n",
      "JEC lnN 1.029\n",
      "trigger lnN 1.09\n",
      "PDF lnN 1.035\n",
      "xS lnN 1.05\n",
      "xB lnN 1.05\n"
     ]
    }
   ],
   "source": [
    "systematics = defaultdict(lambda : [None]*len(ws.processes))\n",
    "\n",
    "for i, process in enumerate(ws.processes):\n",
    "    for systematic in process.systematics:\n",
    "        systematics[systematic.name][i] = "
   ]
  }
 ],
 "metadata": {
  "kernelspec": {
   "display_name": "Python 3.9.15 ('py-env')",
   "language": "python",
   "name": "python3"
  },
  "language_info": {
   "codemirror_mode": {
    "name": "ipython",
    "version": 3
   },
   "file_extension": ".py",
   "mimetype": "text/x-python",
   "name": "python",
   "nbconvert_exporter": "python",
   "pygments_lexer": "ipython3",
   "version": "3.9.15"
  },
  "vscode": {
   "interpreter": {
    "hash": "99d8ad6568882febb6ca5d1c2307614594cf6684ed0ce2b9f63bf31341fdb3d5"
   }
  }
 },
 "nbformat": 4,
 "nbformat_minor": 5
}

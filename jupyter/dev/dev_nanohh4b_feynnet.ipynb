{
 "cells": [
  {
   "cell_type": "code",
   "execution_count": 8,
   "id": "9bfa3b5a",
   "metadata": {},
   "outputs": [
    {
     "name": "stdout",
     "output_type": "stream",
     "text": [
      "The autoreload extension is already loaded. To reload it, use:\n",
      "  %reload_ext autoreload\n"
     ]
    }
   ],
   "source": [
    "%load_ext autoreload\n",
    "%autoreload 2\n",
    "\n",
    "import os\n",
    "os.environ['KMP_WARNINGS'] = 'off'\n",
    "import sys\n",
    "import git\n",
    "\n",
    "import uproot as ut\n",
    "import awkward as ak\n",
    "import numpy as np\n",
    "import math\n",
    "import vector\n",
    "import sympy as sp\n",
    "\n",
    "import re\n",
    "from tqdm import tqdm\n",
    "import timeit\n",
    "import re\n",
    "\n",
    "sys.path.append( git.Repo('.', search_parent_directories=True).working_tree_dir )\n",
    "from utils import *"
   ]
  },
  {
   "cell_type": "code",
   "execution_count": 9,
   "id": "4c021e1c",
   "metadata": {},
   "outputs": [],
   "source": [
    "\n",
    "\n",
    "def get_local_alt(f):\n",
    "    to_local = lambda f : f.replace('/eos/user/e/ekoenig/','/store/user/ekoenig/')\n",
    "    alt_pattern = to_local(f)\n",
    "\n",
    "    alt_glob = fc.fs.eos.glob(alt_pattern)\n",
    "    if any(alt_glob):\n",
    "        return alt_glob\n",
    "    \n",
    "    remote_glob = fc.fs.cernbox.glob(f)\n",
    "    if any(remote_glob):\n",
    "        alt_glob = [ to_local(f) for f in remote_glob ]\n",
    "        remote_glob = [ fc.fs.cernbox.fullpath(f) for f in remote_glob ]\n",
    "        fc.fs.eos.batch_copy_to(remote_glob, alt_glob)\n",
    "\n",
    "    alt_glob = fc.fs.eos.glob(alt_pattern)\n",
    "    return alt_glob"
   ]
  },
  {
   "cell_type": "code",
   "execution_count": 24,
   "id": "22f91aa3",
   "metadata": {},
   "outputs": [
    {
     "name": "stderr",
     "output_type": "stream",
     "text": [
      "100%|██████████| 1/1 [00:03<00:00,  3.91s/it]\n"
     ]
    }
   ],
   "source": [
    "\n",
    "treekwargs = dict(\n",
    "    use_gen=False,\n",
    "    treename='Events',\n",
    "    normalization=None,\n",
    ")\n",
    "\n",
    "f_pattern = '/eos/user/e/ekoenig/Ntuples/NanoHH4b/trg/{pairing}_2018_0L/data/jetht_tree.root'\n",
    "f_data = f_pattern.format(pairing='btagfix/feynnet')\n",
    "\n",
    "data = ObjIter([Tree( get_local_alt(f_data), **dict(treekwargs, normalization=None, color='black'))])"
   ]
  },
  {
   "cell_type": "code",
   "execution_count": 25,
   "id": "aa6a0faf",
   "metadata": {},
   "outputs": [],
   "source": [
    "data = data.apply(lambda t : t.subset(nentries=200000, randomize=False))"
   ]
  },
  {
   "cell_type": "code",
   "execution_count": 26,
   "id": "d4db4cc3",
   "metadata": {},
   "outputs": [
    {
     "name": "stderr",
     "output_type": "stream",
     "text": [
      "f_evaluate_feynnet: 100%|██████████| 1/1 [00:09<00:00,  9.63s/it]\n"
     ]
    }
   ],
   "source": [
    "model_path = '/eos/uscms/store/user/ekoenig/lightning/models/feynnet_lightning/nanoHH4b/training-25Sep2023/lightning_logs/version_11054562'\n",
    "load_feynnet = fourb.nanohh4b.f_evaluate_feynnet(model_path)\n",
    "\n",
    "import multiprocess as mp\n",
    "with mp.Pool(1) as pool:\n",
    "            (data).parallel_apply(load_feynnet, pool=pool, report=True)"
   ]
  },
  {
   "cell_type": "code",
   "execution_count": 27,
   "id": "26d26ccc",
   "metadata": {},
   "outputs": [],
   "source": [
    "def n_loose_btag(t):\n",
    "    nL = t.ak4_h1b1_btag_L + t.ak4_h1b2_btag_L + t.ak4_h2b1_btag_L + t.ak4_h2b2_btag_L\n",
    "    return ak.values_astype(nL, np.int32)\n",
    "\n",
    "def n_medium_btag(t):\n",
    "    nM = t.ak4_h1b1_btag_M + t.ak4_h1b2_btag_M + t.ak4_h2b1_btag_M + t.ak4_h2b2_btag_M\n",
    "    return ak.values_astype(nM, np.int32)\n",
    "\n",
    "def n_tight_btag(t):\n",
    "    nT = t.ak4_h1b1_btag_T + t.ak4_h1b2_btag_T + t.ak4_h2b1_btag_T + t.ak4_h2b2_btag_T\n",
    "    return ak.values_astype(nT, np.int32)\n",
    "\n",
    "def h_dm(t):\n",
    "    return np.sqrt( (t.dHH_H1_regmass - 125)**2 + (t.dHH_H2_regmass - 120)**2 )\n",
    "\n",
    "def vr_h_dm(t):\n",
    "    return np.sqrt( (t.dHH_H1_regmass - 179)**2 + (t.dHH_H2_regmass - 172)**2 )\n",
    "\n",
    "bdt_features = [\n",
    "    'ak4_h1b1_regpt', 'ak4_h1b2_regpt', 'ak4_h2b1_regpt', 'ak4_h2b2_regpt',\n",
    "    'dHH_H1_regmass', 'dHH_H2_regmass', 'dHH_H1_pt', 'dHH_H2_pt', \n",
    "    'dHH_HH_mass', 'dHH_HH_pt','dHH_SumRegPtb', 'dHH_SumRegResb',\n",
    "    'dHH_H1b1_H1b2_deltaR', 'dHH_H2b1_H2b2_deltaR', 'dHH_H1_H2_deltaEta','dHH_mindRbb', \n",
    "    'dHH_maxdEtabb','dHH_absCosTheta_H1_inHHcm', 'dHH_absCosTheta_H1b1_inH1cm', 'dHH_NbtagT',\n",
    "]\n",
    "\n",
    "bdt = ABCD(\n",
    "    features=bdt_features,\n",
    "    a=lambda t : (h_dm(t) <  25) & (n_medium_btag == 4),\n",
    "    b=lambda t : (h_dm(t) <  25) & (n_medium_btag == 3),\n",
    "    c=lambda t : (h_dm(t) >= 25) & (h_dm(t) < 50) & (n_medium_btag == 4),\n",
    "    d=lambda t : (h_dm(t) >= 25) & (h_dm(t) < 50) & (n_medium_btag == 3),\n",
    ")\n",
    "\n",
    "blind_data = EventFilter('blinded', filter=lambda t : ~bdt.a(t))\n",
    "data = data.apply(blind_data)"
   ]
  },
  {
   "cell_type": "code",
   "execution_count": 28,
   "id": "3bf3a02b",
   "metadata": {},
   "outputs": [
    {
     "name": "stderr",
     "output_type": "stream",
     "text": [
      "100%|██████████| 1/1 [00:00<00:00,  4.70it/s]\n"
     ]
    },
    {
     "data": {
      "image/png": "[encoded data removed]",
      "text/plain": [
       "<Figure size 480x400 with 1 Axes>"
      ]
     },
     "metadata": {},
     "output_type": "display_data"
    }
   ],
   "source": [
    "study.quick2d(\n",
    "    data,\n",
    "    masks=lambda t : n_medium_btag(t) == 3,\n",
    "    varlist=['dHH_H1_regmass', 'dHH_H2_regmass'],\n",
    "    binlist=[(0, 300, 30)]*2\n",
    ")"
   ]
  },
  {
   "cell_type": "code",
   "execution_count": null,
   "id": "d20d0d34",
   "metadata": {},
   "outputs": [],
   "source": []
  },
  {
   "cell_type": "code",
   "execution_count": 7,
   "id": "53b5550f",
   "metadata": {},
   "outputs": [],
   "source": [
    "h1b1_p4 = ak.zip(dict(\n",
    "    pt=t2.ak4_h1b1_pt,\n",
    "    eta=t2.ak4_h1b1_eta,\n",
    "    phi=t2.ak4_h1b1_phi,\n",
    "    mass=t2.ak4_h1b1_mass,\n",
    "), with_name='Momentum4D')"
   ]
  }
 ],
 "metadata": {
  "kernelspec": {
   "display_name": "Python 3.9.15 ('py-env')",
   "language": "python",
   "name": "python3"
  },
  "language_info": {
   "codemirror_mode": {
    "name": "ipython",
    "version": 3
   },
   "file_extension": ".py",
   "mimetype": "text/x-python",
   "name": "python",
   "nbconvert_exporter": "python",
   "pygments_lexer": "ipython3",
   "version": "3.9.15"
  },
  "vscode": {
   "interpreter": {
    "hash": "99d8ad6568882febb6ca5d1c2307614594cf6684ed0ce2b9f63bf31341fdb3d5"
   }
  }
 },
 "nbformat": 4,
 "nbformat_minor": 5
}

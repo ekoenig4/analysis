{
 "cells": [
  {
   "cell_type": "code",
   "execution_count": 3,
   "id": "9bfa3b5a",
   "metadata": {},
   "outputs": [
    {
     "name": "stdout",
     "output_type": "stream",
     "text": [
      "The autoreload extension is already loaded. To reload it, use:\n",
      "  %reload_ext autoreload\n"
     ]
    }
   ],
   "source": [
    "%load_ext autoreload\n",
    "%autoreload 2\n",
    "\n",
    "import os\n",
    "os.environ['KMP_WARNINGS'] = 'off'\n",
    "import sys, git\n",
    "\n",
    "import uproot as ut\n",
    "import dask_awkward as dak \n",
    "import awkward as ak\n",
    "\n",
    "\n",
    "sys.path.append( git.Repo('.', search_parent_directories=True).working_tree_dir )\n",
    "\n",
    "from utils import *"
   ]
  },
  {
   "cell_type": "code",
   "execution_count": 5,
   "id": "451a0a81",
   "metadata": {},
   "outputs": [],
   "source": [
    "filename = fc.eightb.preselection.t8btag_minmass.NMSSM_XYY_YToHH_8b_MX_1000_MY_450"
   ]
  },
  {
   "cell_type": "code",
   "execution_count": 130,
   "id": "3feffd86",
   "metadata": {},
   "outputs": [],
   "source": [
    "import concurrent.futures as cf\n",
    "\n",
    "import logging\n",
    "\n",
    "logger = logging.getLogger('studies')\n",
    "logger.setLevel(logging.DEBUG)\n",
    "\n",
    "class AsyncTree:\n",
    "    def __init__(self, filename, treename, branches, executor):\n",
    "        self.filename = filename\n",
    "        self.treename = treename\n",
    "        self.fields = branches\n",
    "\n",
    "        self.async_tree = executor.submit( self.load_async, branches )\n",
    "\n",
    "    def load_async(self, branches):\n",
    "        logger.debug(f'Loading branches {branches} from {self.filename}')\n",
    "        with ut.open(f'{self.filename}:{self.treename}') as tree:\n",
    "            tree = tree.arrays(branches)\n",
    "        logger.debug(f'Loaded branches {branches} from {self.filename}')\n",
    "        return tree\n",
    "\n",
    "    def result(self):\n",
    "        return self.async_tree.result()\n",
    "\n",
    "class UserTree:\n",
    "    pool = None\n",
    "\n",
    "    @staticmethod\n",
    "    def set_pool(num_workers):\n",
    "        UserTree.pool = cf.ThreadPoolExecutor(max_workers=num_workers)\n",
    "\n",
    "    def __init__(self, filename, treename='sixBtree', branches=[], num_workers=1):\n",
    "        self.filename = filename\n",
    "        self.treename = treename\n",
    "\n",
    "        self.ut_file = ut.open(filename)\n",
    "        self.ut_ttree = self.ut_file[treename]\n",
    "\n",
    "        if any(branches):\n",
    "            self.ttree = self.ut_ttree.arrays(branches)\n",
    "        else:\n",
    "            self.ttree = None    \n",
    "        self.fields = [ branch.name for branch in self.ut_ttree.branches ]\n",
    "\n",
    "        self.async_ttree = None\n",
    "\n",
    "\n",
    "    def _load_branches(self, branches):\n",
    "        if not isinstance(branches, list):\n",
    "            branches = [branches]\n",
    "\n",
    "        if UserTree.pool:\n",
    "            self.async_tree = AsyncTree(self.filename, self.treename, branches, UserTree.pool)\n",
    "            return\n",
    "\n",
    "        branches = self.ut_ttree.arrays(branches)\n",
    "        return branches\n",
    "\n",
    "    def load_branches(self, branches):\n",
    "        branches = self._load_branches(branches)\n",
    "\n",
    "        if branches is None:\n",
    "            return\n",
    "\n",
    "        if self.ttree is None:\n",
    "            self.ttree = branches\n",
    "        else:\n",
    "            for field, branch in zip( branches.fields, ak.unzip(branches) ):\n",
    "                self.ttree[field] = branch\n",
    "\n",
    "    def load_async(self):\n",
    "        branches = self.async_tree.result()\n",
    "        logger.debug(f'Fetching async branches {repr(branches)} from {self.filename}')\n",
    "\n",
    "        if self.ttree is None:\n",
    "            self.ttree = branches\n",
    "        else:\n",
    "            for field, branch in zip( branches.fields, ak.unzip(branches) ):\n",
    "                self.ttree[field] = branch\n",
    "        self.async_tree = None\n",
    "\n",
    "    def __repr__(self):\n",
    "        string = repr(self.ut_ttree)\n",
    "        if not self.ttree is None:\n",
    "            string += '\\n   ' + repr(self.ttree)\n",
    "        return string\n",
    "    \n",
    "    def __getitem__(self, key):\n",
    "        if (self.ttree is None) or (key not in self.ttree.fields):\n",
    "            self.load_branches(key)\n",
    "\n",
    "        if self.async_tree and key in self.async_tree.fields:\n",
    "            self.load_async()\n",
    "        \n",
    "        return self.ttree[key]\n",
    "    def __getattr__(self, key):\n",
    "        return self[key]\n",
    "\n",
    "        \n",
    "\n"
   ]
  },
  {
   "cell_type": "code",
   "execution_count": 131,
   "id": "178c58eb",
   "metadata": {},
   "outputs": [],
   "source": [
    "UserTree.set_pool(4)"
   ]
  },
  {
   "cell_type": "code",
   "execution_count": 132,
   "id": "7b562a6c",
   "metadata": {},
   "outputs": [],
   "source": [
    "trees = [ UserTree(fc.fs.default.fullpath(f)) for f in fc.eightb.preselection.t8btag_minmass.signal_list ]\n"
   ]
  },
  {
   "cell_type": "code",
   "execution_count": 133,
   "id": "d8fb8293",
   "metadata": {},
   "outputs": [
    {
     "name": "stderr",
     "output_type": "stream",
     "text": [
      "DEBUG:studies:Loading branches ['X_pt'] from root://cmseos.fnal.gov//store/user/ekoenig/8BAnalysis/NTuples/2018/preselection/t8btag_minmass/NMSSM_XYY_YToHH_8b/NMSSM_XYY_YToHH_8b_MX_700_MY_300/ntuple.root\n",
      "DEBUG:studies:Loading branches ['X_pt'] from root://cmseos.fnal.gov//store/user/ekoenig/8BAnalysis/NTuples/2018/preselection/t8btag_minmass/NMSSM_XYY_YToHH_8b/NMSSM_XYY_YToHH_8b_MX_1000_MY_450/ntuple.root\n",
      "DEBUG:studies:Loading branches ['X_pt'] from root://cmseos.fnal.gov//store/user/ekoenig/8BAnalysis/NTuples/2018/preselection/t8btag_minmass/NMSSM_XYY_YToHH_8b/NMSSM_XYY_YToHH_8b_MX_1200_MY_500/ntuple.root\n"
     ]
    }
   ],
   "source": [
    "for tree in trees:\n",
    "    tree.load_branches('X_pt')"
   ]
  },
  {
   "cell_type": "code",
   "execution_count": 134,
   "id": "517f4a65",
   "metadata": {},
   "outputs": [
    {
     "name": "stderr",
     "output_type": "stream",
     "text": [
      "DEBUG:studies:Loaded branches ['X_pt'] from root://cmseos.fnal.gov//store/user/ekoenig/8BAnalysis/NTuples/2018/preselection/t8btag_minmass/NMSSM_XYY_YToHH_8b/NMSSM_XYY_YToHH_8b_MX_700_MY_300/ntuple.root\n",
      "DEBUG:studies:Loaded branches ['X_pt'] from root://cmseos.fnal.gov//store/user/ekoenig/8BAnalysis/NTuples/2018/preselection/t8btag_minmass/NMSSM_XYY_YToHH_8b/NMSSM_XYY_YToHH_8b_MX_1000_MY_450/ntuple.root\n",
      "DEBUG:studies:Loaded branches ['X_pt'] from root://cmseos.fnal.gov//store/user/ekoenig/8BAnalysis/NTuples/2018/preselection/t8btag_minmass/NMSSM_XYY_YToHH_8b/NMSSM_XYY_YToHH_8b_MX_1200_MY_500/ntuple.root\n",
      "DEBUG:studies:Loading branches ['X_pt'] from root://cmseos.fnal.gov//store/user/ekoenig/8BAnalysis/NTuples/2018/preselection/t8btag_minmass/NMSSM_XYY_YToHH_8b/NMSSM_XYY_YToHH_8b_MX_1200_MY_500/ntuple.root\n",
      "DEBUG:studies:Loaded branches ['X_pt'] from root://cmseos.fnal.gov//store/user/ekoenig/8BAnalysis/NTuples/2018/preselection/t8btag_minmass/NMSSM_XYY_YToHH_8b/NMSSM_XYY_YToHH_8b_MX_1200_MY_500/ntuple.root\n",
      "DEBUG:studies:Fetching async branches <Array [{X_pt: 83.9}, ... {X_pt: 136}] type='676524 * {\"X_pt\": float32}'> from root://cmseos.fnal.gov//store/user/ekoenig/8BAnalysis/NTuples/2018/preselection/t8btag_minmass/NMSSM_XYY_YToHH_8b/NMSSM_XYY_YToHH_8b_MX_1200_MY_500/ntuple.root\n"
     ]
    },
    {
     "data": {
      "text/plain": [
       "<Array [83.9, 200, 136, ... 16.9, 78.4, 136] type='676524 * float32'>"
      ]
     },
     "execution_count": 134,
     "metadata": {},
     "output_type": "execute_result"
    }
   ],
   "source": [
    "tree.X_pt"
   ]
  },
  {
   "cell_type": "code",
   "execution_count": 98,
   "id": "86f61229",
   "metadata": {},
   "outputs": [
    {
     "data": {
      "text/plain": [
       "<Array [117, 41.7, 55.2, ... 51.1, 53, 304] type='618416 * float32'>"
      ]
     },
     "execution_count": 98,
     "metadata": {},
     "output_type": "execute_result"
    }
   ],
   "source": [
    "tree.X_pt"
   ]
  },
  {
   "cell_type": "code",
   "execution_count": 99,
   "id": "3735054e",
   "metadata": {},
   "outputs": [
    {
     "data": {
      "text/plain": [
       "<TTree 'sixBtree' (399 branches) at 0x7f4b8d203d30>\n",
       "   <Array [{X_pt: 117}, ... {X_pt: 304}] type='618416 * {\"X_pt\": float32}'>"
      ]
     },
     "execution_count": 99,
     "metadata": {},
     "output_type": "execute_result"
    }
   ],
   "source": [
    "tree"
   ]
  },
  {
   "cell_type": "code",
   "execution_count": 100,
   "id": "45350724",
   "metadata": {},
   "outputs": [
    {
     "data": {
      "text/plain": [
       "<Array [931, 1e+03, ... 827, 1.03e+03] type='618416 * float32'>"
      ]
     },
     "execution_count": 100,
     "metadata": {},
     "output_type": "execute_result"
    }
   ],
   "source": [
    "tree.X_m"
   ]
  },
  {
   "cell_type": "code",
   "execution_count": 102,
   "id": "22670469",
   "metadata": {},
   "outputs": [
    {
     "data": {
      "text/plain": [
       "<TTree 'sixBtree' (399 branches) at 0x7f4b8d203d30>\n",
       "   <Array [{X_pt: 117, ... X_m: 1.03e+03}] type='618416 * {\"X_pt\": float32, \"X_m\": ...'>"
      ]
     },
     "execution_count": 102,
     "metadata": {},
     "output_type": "execute_result"
    }
   ],
   "source": [
    "tree"
   ]
  }
 ],
 "metadata": {
  "kernelspec": {
   "display_name": "Python 3.9.16 ('uproot5')",
   "language": "python",
   "name": "python3"
  },
  "language_info": {
   "codemirror_mode": {
    "name": "ipython",
    "version": 3
   },
   "file_extension": ".py",
   "mimetype": "text/x-python",
   "name": "python",
   "nbconvert_exporter": "python",
   "pygments_lexer": "ipython3",
   "version": "3.9.15"
  },
  "vscode": {
   "interpreter": {
    "hash": "530a175b59f07be8826fac6b63da697e638496db2803ae4b0c66a09cd28c2989"
   }
  }
 },
 "nbformat": 4,
 "nbformat_minor": 5
}

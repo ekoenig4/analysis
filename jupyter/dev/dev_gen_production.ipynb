{
 "cells": [
  {
   "cell_type": "code",
   "execution_count": 1,
   "id": "9bfa3b5a",
   "metadata": {},
   "outputs": [],
   "source": [
    "%load_ext autoreload\n",
    "%autoreload 2\n",
    "\n",
    "import os\n",
    "os.environ['KMP_WARNINGS'] = 'off'\n",
    "import sys\n",
    "import git\n",
    "\n",
    "import uproot as ut\n",
    "import awkward as ak\n",
    "import numpy as np\n",
    "import math\n",
    "import vector\n",
    "import sympy as sp\n",
    "\n",
    "import re\n",
    "from tqdm import tqdm\n",
    "import timeit\n",
    "import re\n",
    "\n",
    "sys.path.append( git.Repo('.', search_parent_directories=True).working_tree_dir )\n",
    "from utils import *"
   ]
  },
  {
   "cell_type": "code",
   "execution_count": 2,
   "id": "6edca911",
   "metadata": {},
   "outputs": [],
   "source": [
    "%load_ext line_profiler\n",
    "%load_ext memory_profiler"
   ]
  },
  {
   "cell_type": "code",
   "execution_count": 3,
   "id": "afcd4f9b",
   "metadata": {},
   "outputs": [],
   "source": [
    "import utils.genprodUtils as gen"
   ]
  },
  {
   "cell_type": "code",
   "execution_count": 4,
   "id": "e619ef49",
   "metadata": {},
   "outputs": [],
   "source": [
    "class distribution:\n",
    "    @classmethod\n",
    "    def from_histo(cls, histo, bounds=(None, None)):\n",
    "        graph = Graph.from_histo(histo)\n",
    "\n",
    "        x = graph.x_array\n",
    "        cdf = np.cumsum(graph.y_array) / np.sum(graph.y_array)\n",
    "\n",
    "        if bounds[0] is not None:\n",
    "            cdf = np.insert(cdf, 0, 0)\n",
    "            x = np.insert(x, 0, bounds[0])\n",
    "\n",
    "        if bounds[1] is not None:\n",
    "            cdf = np.append(cdf, 1)\n",
    "            x = np.append(x, bounds[1])\n",
    "\n",
    "        return cls(x, cdf)\n",
    "\n",
    "    def __init__(self, x, cdf):\n",
    "        self.x = x\n",
    "        self.cdf = cdf\n",
    "\n",
    "    @property\n",
    "    def graph(self):\n",
    "        return Graph(self.x, self.cdf)\n",
    "\n",
    "    def __call__(self, size):\n",
    "        return np.interp(np.random.uniform(size=size), self.cdf, self.x)\n"
   ]
  },
  {
   "cell_type": "code",
   "execution_count": null,
   "id": "2f00af84",
   "metadata": {},
   "outputs": [],
   "source": []
  },
  {
   "cell_type": "code",
   "execution_count": 36,
   "id": "40787074",
   "metadata": {},
   "outputs": [
    {
     "name": "stderr",
     "output_type": "stream",
     "text": [
      "100%|██████████| 1/1 [00:00<00:00, 18.01it/s]\n"
     ]
    }
   ],
   "source": [
    "sig = Tree(['/uscms_data/d3/ekoenig/8BAnalysis/studies/eightbStudies/scripts/ntuples/x_hh_4b.root'], treename='Events', normalization=None)"
   ]
  },
  {
   "cell_type": "code",
   "execution_count": 38,
   "id": "0a99635c",
   "metadata": {},
   "outputs": [
    {
     "name": "stderr",
     "output_type": "stream",
     "text": [
      "100%|██████████| 1/1 [00:00<00:00, 22.25it/s]\n"
     ]
    },
    {
     "data": {
      "image/png": "[encoded data removed]",
      "text/plain": [
       "<Figure size 480x400 with 1 Axes>"
      ]
     },
     "metadata": {},
     "output_type": "display_data"
    }
   ],
   "source": [
    "study.quick(\n",
    "    [sig],\n",
    "    varlist=['h1_pt']\n",
    ")"
   ]
  },
  {
   "cell_type": "code",
   "execution_count": null,
   "id": "bb1f9a06",
   "metadata": {},
   "outputs": [],
   "source": []
  }
 ],
 "metadata": {
  "interpreter": {
   "hash": "99d8ad6568882febb6ca5d1c2307614594cf6684ed0ce2b9f63bf31341fdb3d5"
  },
  "kernelspec": {
   "display_name": "Python 3.9.0 ('py-env')",
   "language": "python",
   "name": "python3"
  },
  "language_info": {
   "codemirror_mode": {
    "name": "ipython",
    "version": 3
   },
   "file_extension": ".py",
   "mimetype": "text/x-python",
   "name": "python",
   "nbconvert_exporter": "python",
   "pygments_lexer": "ipython3",
   "version": "3.9.15"
  }
 },
 "nbformat": 4,
 "nbformat_minor": 5
}

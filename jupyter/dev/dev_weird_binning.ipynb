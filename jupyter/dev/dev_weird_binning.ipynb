{
 "cells": [
  {
   "cell_type": "code",
   "execution_count": 1,
   "id": "9bfa3b5a",
   "metadata": {},
   "outputs": [],
   "source": [
    "%load_ext autoreload\n",
    "%autoreload 2\n",
    "\n",
    "import os\n",
    "os.environ['KMP_WARNINGS'] = 'off'\n",
    "import sys\n",
    "import git\n",
    "\n",
    "import uproot as ut\n",
    "import awkward as ak\n",
    "import numpy as np\n",
    "import math\n",
    "import vector\n",
    "import sympy as sp\n",
    "\n",
    "import re\n",
    "from tqdm import tqdm\n",
    "import timeit\n",
    "import re\n",
    "\n",
    "sys.path.append( git.Repo('.', search_parent_directories=True).working_tree_dir )\n",
    "from utils import *"
   ]
  },
  {
   "cell_type": "code",
   "execution_count": 2,
   "id": "4c021e1c",
   "metadata": {},
   "outputs": [],
   "source": [
    "\n",
    "\n",
    "def get_local_alt(f):\n",
    "    to_local = lambda f : f.replace('/eos/user/e/ekoenig/','/store/user/ekoenig/')\n",
    "    alt_pattern = to_local(f)\n",
    "\n",
    "    alt_glob = fc.fs.eos.glob(alt_pattern)\n",
    "    if any(alt_glob):\n",
    "        return alt_glob\n",
    "    \n",
    "    remote_glob = fc.fs.cernbox.glob(f)\n",
    "    if any(remote_glob):\n",
    "        alt_glob = [ to_local(f) for f in remote_glob ]\n",
    "        remote_glob = [ fc.fs.cernbox.fullpath(f) for f in remote_glob ]\n",
    "        fc.fs.eos.batch_copy_to(remote_glob, alt_glob)\n",
    "\n",
    "    alt_glob = fc.fs.eos.glob(alt_pattern)\n",
    "    return alt_glob"
   ]
  },
  {
   "cell_type": "code",
   "execution_count": 3,
   "id": "22f91aa3",
   "metadata": {},
   "outputs": [
    {
     "name": "stderr",
     "output_type": "stream",
     "text": [
      "100%|██████████| 1/1 [00:00<00:00,  1.21it/s]\n"
     ]
    }
   ],
   "source": [
    "treekwargs = dict(\n",
    "    use_gen=False,\n",
    "    treename='Events',\n",
    "    normalization=None,\n",
    ")\n",
    "\n",
    "f_pattern = '/eos/user/e/ekoenig/Ntuples/NanoHH4b/run2/{pairing}_2018_0L/mc/ggHH4b_tree.root'\n",
    "f_sig = f_pattern.format(pairing='mindiag')\n",
    "sig = ObjIter([Tree( fc.fs.cernbox.fullpath(f_sig), **treekwargs)])\n",
    "\n",
    "# f_pattern = '/eos/user/e/ekoenig/Ntuples/NanoHH4b/run2/{pairing}_2018_0L/mc/qcd-mg_tree.root'\n",
    "# f_qcd = f_pattern.format(pairing='mindiag')\n",
    "# qcd = ObjIter([Tree( fc.fs.cernbox.fullpath(f_qcd), **treekwargs)])\n",
    "\n",
    "qcd = ObjIter([])"
   ]
  },
  {
   "cell_type": "code",
   "execution_count": 4,
   "id": "597bd331",
   "metadata": {},
   "outputs": [
    {
     "data": {
      "text/plain": [
       "[None]"
      ]
     },
     "execution_count": 4,
     "metadata": {},
     "output_type": "execute_result"
    }
   ],
   "source": [
    "(sig+qcd).apply(lambda t : t.reweight(t.genWeight * t.xsecWeight * t.puWeight / 1000))"
   ]
  },
  {
   "cell_type": "code",
   "execution_count": null,
   "id": "0d920716",
   "metadata": {},
   "outputs": [],
   "source": []
  },
  {
   "cell_type": "code",
   "execution_count": 5,
   "id": "44211d16",
   "metadata": {},
   "outputs": [],
   "source": [
    "jets = fourb.nanohh4b.get_ak4_jets(sig[0])\n",
    "jets['ak4_sinphi'] = np.sin(jets.ak4_phi)\n",
    "jets['ak4_cosphi'] = np.cos(jets.ak4_phi)"
   ]
  },
  {
   "cell_type": "code",
   "execution_count": 15,
   "metadata": {},
   "outputs": [
    {
     "name": "stderr",
     "output_type": "stream",
     "text": [
      "f_evaluate_feynnet:   0%|          | 0/1 [00:00<?, ?it/s]"
     ]
    },
    {
     "ename": "ValueError",
     "evalue": "in ListArray64 attempting to get 5, index out of range\n\n(https://github.com/scikit-hep/awkward-1.0/blob/1.10.2/src/cpu-kernels/awkward_ListArray_getitem_jagged_apply.cpp#L43)",
     "output_type": "error",
     "traceback": [
      "\u001b[0;31m---------------------------------------------------------------------------\u001b[0m",
      "\u001b[0;31mValueError\u001b[0m                                Traceback (most recent call last)",
      "\u001b[1;32m/uscms_data/d3/ekoenig/8BAnalysis/studies/eightbStudies/jupyter/dev/dev_weird_binning.ipynb Cell 7\u001b[0m in \u001b[0;36m4\n\u001b[1;32m      <a href='vscode-notebook-cell://ssh-remote%2Blpc/uscms_data/d3/ekoenig/8BAnalysis/studies/eightbStudies/jupyter/dev/dev_weird_binning.ipynb#X30sdnNjb2RlLXJlbW90ZQ%3D%3D?line=1'>2</a>\u001b[0m model \u001b[39m=\u001b[39m \u001b[39m'\u001b[39m\u001b[39m/eos/uscms/store/user/ekoenig/lightning/models/feynnet_lightning/nanoHH4b/training-04Oct2023/sixjet/lightning_logs/version_0\u001b[39m\u001b[39m'\u001b[39m\n\u001b[1;32m      <a href='vscode-notebook-cell://ssh-remote%2Blpc/uscms_data/d3/ekoenig/8BAnalysis/studies/eightbStudies/jupyter/dev/dev_weird_binning.ipynb#X30sdnNjb2RlLXJlbW90ZQ%3D%3D?line=2'>3</a>\u001b[0m load_feynnet \u001b[39m=\u001b[39m fourb\u001b[39m.\u001b[39mnanohh4b\u001b[39m.\u001b[39mf_evaluate_feynnet(model, \u001b[39m'\u001b[39m\u001b[39monnx\u001b[39m\u001b[39m'\u001b[39m)\n\u001b[0;32m----> <a href='vscode-notebook-cell://ssh-remote%2Blpc/uscms_data/d3/ekoenig/8BAnalysis/studies/eightbStudies/jupyter/dev/dev_weird_binning.ipynb#X30sdnNjb2RlLXJlbW90ZQ%3D%3D?line=3'>4</a>\u001b[0m (sig \u001b[39m+\u001b[39;49m qcd)\u001b[39m.\u001b[39;49mapply(load_feynnet, report\u001b[39m=\u001b[39;49m\u001b[39mTrue\u001b[39;49;00m)\n",
      "File \u001b[0;32m/uscms_data/d3/ekoenig/8BAnalysis/studies/eightbStudies/utils/classUtils/ObjIter.py:326\u001b[0m, in \u001b[0;36mObjIter.apply\u001b[0;34m(self, obj_function, report, parallel, **kwargs)\u001b[0m\n\u001b[1;32m    323\u001b[0m     \u001b[39mreturn\u001b[39;00m \u001b[39mself\u001b[39m\u001b[39m.\u001b[39mparallel_apply(obj_function, report\u001b[39m=\u001b[39mreport, \u001b[39m*\u001b[39m\u001b[39m*\u001b[39mkwargs)\n\u001b[1;32m    325\u001b[0m it \u001b[39m=\u001b[39m tqdm(\u001b[39mself\u001b[39m, desc\u001b[39m=\u001b[39mget_function_name(obj_function)) \u001b[39mif\u001b[39;00m report \u001b[39melse\u001b[39;00m \u001b[39mself\u001b[39m\n\u001b[0;32m--> 326\u001b[0m out \u001b[39m=\u001b[39m ObjIter([ obj_function(obj) \u001b[39mfor\u001b[39;00m obj \u001b[39min\u001b[39;00m it ])\n\u001b[1;32m    328\u001b[0m \u001b[39mreturn\u001b[39;00m out\n",
      "File \u001b[0;32m/uscms_data/d3/ekoenig/8BAnalysis/studies/eightbStudies/utils/classUtils/ObjIter.py:326\u001b[0m, in \u001b[0;36m<listcomp>\u001b[0;34m(.0)\u001b[0m\n\u001b[1;32m    323\u001b[0m     \u001b[39mreturn\u001b[39;00m \u001b[39mself\u001b[39m\u001b[39m.\u001b[39mparallel_apply(obj_function, report\u001b[39m=\u001b[39mreport, \u001b[39m*\u001b[39m\u001b[39m*\u001b[39mkwargs)\n\u001b[1;32m    325\u001b[0m it \u001b[39m=\u001b[39m tqdm(\u001b[39mself\u001b[39m, desc\u001b[39m=\u001b[39mget_function_name(obj_function)) \u001b[39mif\u001b[39;00m report \u001b[39melse\u001b[39;00m \u001b[39mself\u001b[39m\n\u001b[0;32m--> 326\u001b[0m out \u001b[39m=\u001b[39m ObjIter([ obj_function(obj) \u001b[39mfor\u001b[39;00m obj \u001b[39min\u001b[39;00m it ])\n\u001b[1;32m    328\u001b[0m \u001b[39mreturn\u001b[39;00m out\n",
      "File \u001b[0;32m/uscms_data/d3/ekoenig/8BAnalysis/studies/eightbStudies/utils/classUtils/ObjIter.py:41\u001b[0m, in \u001b[0;36mParallelMethod.__call__\u001b[0;34m(self, *args, **kwargs)\u001b[0m\n\u001b[1;32m     39\u001b[0m \u001b[39mdef\u001b[39;00m \u001b[39m__call__\u001b[39m(\u001b[39mself\u001b[39m, \u001b[39m*\u001b[39margs, \u001b[39m*\u001b[39m\u001b[39m*\u001b[39mkwargs):\n\u001b[1;32m     40\u001b[0m     inputs, start_timing \u001b[39m=\u001b[39m \u001b[39mself\u001b[39m\u001b[39m.\u001b[39m__start__(\u001b[39m0\u001b[39m, args, kwargs)\n\u001b[0;32m---> 41\u001b[0m     output, run_timing \u001b[39m=\u001b[39m \u001b[39mself\u001b[39;49m\u001b[39m.\u001b[39;49m__run__(inputs, start_timing)\n\u001b[1;32m     42\u001b[0m     finished, end_timing \u001b[39m=\u001b[39m \u001b[39mself\u001b[39m\u001b[39m.\u001b[39m__end__(args, output, run_timing)\n\u001b[1;32m     44\u001b[0m     \u001b[39mself\u001b[39m\u001b[39m.\u001b[39m__start_timing__\u001b[39m.\u001b[39mappend(start_timing)\n",
      "File \u001b[0;32m/uscms_data/d3/ekoenig/8BAnalysis/studies/eightbStudies/utils/classUtils/ObjIter.py:82\u001b[0m, in \u001b[0;36mParallelMethod.__run__\u001b[0;34m(self, inputs, timing)\u001b[0m\n\u001b[1;32m     80\u001b[0m \u001b[39mdef\u001b[39;00m \u001b[39m__run__\u001b[39m(\u001b[39mself\u001b[39m, inputs, timing):\n\u001b[1;32m     81\u001b[0m     start \u001b[39m=\u001b[39m time\u001b[39m.\u001b[39mtime() \u001b[39m-\u001b[39m \u001b[39mself\u001b[39m\u001b[39m.\u001b[39m__time__\n\u001b[0;32m---> 82\u001b[0m     result \u001b[39m=\u001b[39m \u001b[39mself\u001b[39;49m\u001b[39m.\u001b[39;49mrun(\u001b[39m*\u001b[39;49m\u001b[39m*\u001b[39;49minputs)\n\u001b[1;32m     83\u001b[0m     worker \u001b[39m=\u001b[39m mp\u001b[39m.\u001b[39mcurrent_process()\u001b[39m.\u001b[39mname\n\u001b[1;32m     84\u001b[0m     thread \u001b[39m=\u001b[39m th\u001b[39m.\u001b[39mcurrent_thread()\u001b[39m.\u001b[39mname\n",
      "File \u001b[0;32m/uscms_data/d3/ekoenig/8BAnalysis/studies/eightbStudies/utils/fourbUtils/nanohh4bUtils.py:212\u001b[0m, in \u001b[0;36mf_evaluate_feynnet.run_onnx\u001b[0;34m(self, jets)\u001b[0m\n\u001b[1;32m    210\u001b[0m best_assignment \u001b[39m=\u001b[39m ak\u001b[39m.\u001b[39mfrom_regular(results[\u001b[39m'\u001b[39m\u001b[39msorted_j_assignments\u001b[39m\u001b[39m'\u001b[39m], axis\u001b[39m=\u001b[39m\u001b[39m1\u001b[39m)\n\u001b[1;32m    211\u001b[0m best_assignment \u001b[39m=\u001b[39m ak\u001b[39m.\u001b[39mvalues_astype(best_assignment, np\u001b[39m.\u001b[39mint32)\n\u001b[0;32m--> 212\u001b[0m \u001b[39mreturn\u001b[39;00m reconstruct(jets, best_assignment)\n",
      "File \u001b[0;32m/uscms_data/d3/ekoenig/8BAnalysis/studies/eightbStudies/utils/fourbUtils/nanohh4bUtils.py:116\u001b[0m, in \u001b[0;36mreconstruct\u001b[0;34m(jets, assignment)\u001b[0m\n\u001b[1;32m    111\u001b[0m \u001b[39mdef\u001b[39;00m \u001b[39mreconstruct\u001b[39m(jets, assignment):\n\u001b[1;32m    112\u001b[0m     jets \u001b[39m=\u001b[39m ak\u001b[39m.\u001b[39mzip({\n\u001b[1;32m    113\u001b[0m         field\u001b[39m.\u001b[39mreplace(\u001b[39m'\u001b[39m\u001b[39mak4_\u001b[39m\u001b[39m'\u001b[39m, \u001b[39m'\u001b[39m\u001b[39m'\u001b[39m) : jets[field]\n\u001b[1;32m    114\u001b[0m         \u001b[39mfor\u001b[39;00m field \u001b[39min\u001b[39;00m jets\u001b[39m.\u001b[39mfields\n\u001b[1;32m    115\u001b[0m     })\n\u001b[0;32m--> 116\u001b[0m     jets \u001b[39m=\u001b[39m jets[assignment]\n\u001b[1;32m    118\u001b[0m     j_p4 \u001b[39m=\u001b[39m ak\u001b[39m.\u001b[39mzip(\u001b[39mdict\u001b[39m(\n\u001b[1;32m    119\u001b[0m         pt\u001b[39m=\u001b[39mjets\u001b[39m.\u001b[39mpt,\n\u001b[1;32m    120\u001b[0m         eta\u001b[39m=\u001b[39mjets\u001b[39m.\u001b[39meta,\n\u001b[1;32m    121\u001b[0m         phi\u001b[39m=\u001b[39mjets\u001b[39m.\u001b[39mphi,\n\u001b[1;32m    122\u001b[0m         mass\u001b[39m=\u001b[39mjets\u001b[39m.\u001b[39mmass,\n\u001b[1;32m    123\u001b[0m     ), with_name\u001b[39m=\u001b[39m\u001b[39m'\u001b[39m\u001b[39mMomentum4D\u001b[39m\u001b[39m'\u001b[39m)\n\u001b[1;32m    125\u001b[0m     j_regp4 \u001b[39m=\u001b[39m jets\u001b[39m.\u001b[39mbRegCorr \u001b[39m*\u001b[39m j_p4\n",
      "File \u001b[0;32m/uscms_data/d3/ekoenig/mambaforge/envs/py-env/lib/python3.9/site-packages/awkward/highlevel.py:991\u001b[0m, in \u001b[0;36mArray.__getitem__\u001b[0;34m(self, where)\u001b[0m\n\u001b[1;32m    579\u001b[0m \u001b[39m\u001b[39m\u001b[39m\"\"\"\u001b[39;00m\n\u001b[1;32m    580\u001b[0m \u001b[39mArgs:\u001b[39;00m\n\u001b[1;32m    581\u001b[0m \u001b[39m    where (many types supported; see below): Index of positions to\u001b[39;00m\n\u001b[0;32m   (...)\u001b[0m\n\u001b[1;32m    988\u001b[0m \u001b[39mhave the same dimension as the array being indexed.\u001b[39;00m\n\u001b[1;32m    989\u001b[0m \u001b[39m\"\"\"\u001b[39;00m\n\u001b[1;32m    990\u001b[0m \u001b[39mif\u001b[39;00m \u001b[39mnot\u001b[39;00m \u001b[39mhasattr\u001b[39m(\u001b[39mself\u001b[39m, \u001b[39m\"\u001b[39m\u001b[39m_tracers\u001b[39m\u001b[39m\"\u001b[39m):\n\u001b[0;32m--> 991\u001b[0m     tmp \u001b[39m=\u001b[39m ak\u001b[39m.\u001b[39m_util\u001b[39m.\u001b[39mwrap(\u001b[39mself\u001b[39;49m\u001b[39m.\u001b[39;49mlayout[where], \u001b[39mself\u001b[39m\u001b[39m.\u001b[39m_behavior)\n\u001b[1;32m    992\u001b[0m \u001b[39melse\u001b[39;00m:\n\u001b[1;32m    993\u001b[0m     tmp \u001b[39m=\u001b[39m ak\u001b[39m.\u001b[39m_connect\u001b[39m.\u001b[39m_jax\u001b[39m.\u001b[39mjax_utils\u001b[39m.\u001b[39m_jaxtracers_getitem(\u001b[39mself\u001b[39m, where)\n",
      "File \u001b[0;32m/uscms_data/d3/ekoenig/mambaforge/envs/py-env/lib/python3.9/site-packages/awkward/partition.py:353\u001b[0m, in \u001b[0;36mPartitionedArray.__getitem__\u001b[0;34m(self, where)\u001b[0m\n\u001b[1;32m    351\u001b[0m outoffsets \u001b[39m=\u001b[39m [\u001b[39m0\u001b[39m]\n\u001b[1;32m    352\u001b[0m \u001b[39mfor\u001b[39;00m i, inpart \u001b[39min\u001b[39;00m \u001b[39menumerate\u001b[39m(inparts):\n\u001b[0;32m--> 353\u001b[0m     outparts\u001b[39m.\u001b[39mappend(inpart[(headparts[i],) \u001b[39m+\u001b[39;49m tail])\n\u001b[1;32m    354\u001b[0m     outoffsets\u001b[39m.\u001b[39mappend(outoffsets[\u001b[39m-\u001b[39m\u001b[39m1\u001b[39m] \u001b[39m+\u001b[39m \u001b[39mlen\u001b[39m(outparts[\u001b[39m-\u001b[39m\u001b[39m1\u001b[39m]))\n\u001b[1;32m    355\u001b[0m \u001b[39mreturn\u001b[39;00m IrregularlyPartitionedArray(outparts, outoffsets[\u001b[39m1\u001b[39m:])\n",
      "\u001b[0;31mValueError\u001b[0m: in ListArray64 attempting to get 5, index out of range\n\n(https://github.com/scikit-hep/awkward-1.0/blob/1.10.2/src/cpu-kernels/awkward_ListArray_getitem_jagged_apply.cpp#L43)"
     ]
    }
   ],
   "source": [
    "import utils.weaverUtils as weaver\n",
    "model = '/eos/uscms/store/user/ekoenig/lightning/models/feynnet_lightning/nanoHH4b/training-04Oct2023/sixjet/lightning_logs/version_0'\n",
    "load_feynnet = fourb.nanohh4b.f_evaluate_feynnet(model, 'onnx')\n",
    "(sig + qcd).apply(load_feynnet, report=True)"
   ]
  },
  {
   "cell_type": "code",
   "execution_count": 20,
   "id": "d3f3ec29",
   "metadata": {},
   "outputs": [],
   "source": [
    "%load_ext memory_profiler"
   ]
  },
  {
   "cell_type": "code",
   "execution_count": 13,
   "id": "0af47766",
   "metadata": {},
   "outputs": [
    {
     "ename": "TypeError",
     "evalue": "expected str, bytes or os.PathLike object, not WeaverONNX",
     "output_type": "error",
     "traceback": [
      "\u001b[0;31m---------------------------------------------------------------------------\u001b[0m",
      "\u001b[0;31mTypeError\u001b[0m                                 Traceback (most recent call last)",
      "\u001b[1;32m/uscms_data/d3/ekoenig/8BAnalysis/studies/eightbStudies/jupyter/dev/dev_weird_binning.ipynb Cell 9\u001b[0m in \u001b[0;36m2\n\u001b[1;32m      <a href='vscode-notebook-cell://ssh-remote%2Blpc/uscms_data/d3/ekoenig/8BAnalysis/studies/eightbStudies/jupyter/dev/dev_weird_binning.ipynb#X25sdnNjb2RlLXJlbW90ZQ%3D%3D?line=0'>1</a>\u001b[0m load_feynnet \u001b[39m=\u001b[39m fourb\u001b[39m.\u001b[39mnanohh4b\u001b[39m.\u001b[39mf_evaluate_feynnet(model, \u001b[39m'\u001b[39m\u001b[39monnx\u001b[39m\u001b[39m'\u001b[39m)\n\u001b[0;32m----> <a href='vscode-notebook-cell://ssh-remote%2Blpc/uscms_data/d3/ekoenig/8BAnalysis/studies/eightbStudies/jupyter/dev/dev_weird_binning.ipynb#X25sdnNjb2RlLXJlbW90ZQ%3D%3D?line=1'>2</a>\u001b[0m (sig \u001b[39m+\u001b[39;49m qcd)\u001b[39m.\u001b[39;49mapply(load_feynnet)\n",
      "File \u001b[0;32m/uscms_data/d3/ekoenig/8BAnalysis/studies/eightbStudies/utils/classUtils/ObjIter.py:326\u001b[0m, in \u001b[0;36mObjIter.apply\u001b[0;34m(self, obj_function, report, parallel, **kwargs)\u001b[0m\n\u001b[1;32m    323\u001b[0m     \u001b[39mreturn\u001b[39;00m \u001b[39mself\u001b[39m\u001b[39m.\u001b[39mparallel_apply(obj_function, report\u001b[39m=\u001b[39mreport, \u001b[39m*\u001b[39m\u001b[39m*\u001b[39mkwargs)\n\u001b[1;32m    325\u001b[0m it \u001b[39m=\u001b[39m tqdm(\u001b[39mself\u001b[39m, desc\u001b[39m=\u001b[39mget_function_name(obj_function)) \u001b[39mif\u001b[39;00m report \u001b[39melse\u001b[39;00m \u001b[39mself\u001b[39m\n\u001b[0;32m--> 326\u001b[0m out \u001b[39m=\u001b[39m ObjIter([ obj_function(obj) \u001b[39mfor\u001b[39;00m obj \u001b[39min\u001b[39;00m it ])\n\u001b[1;32m    328\u001b[0m \u001b[39mreturn\u001b[39;00m out\n",
      "File \u001b[0;32m/uscms_data/d3/ekoenig/8BAnalysis/studies/eightbStudies/utils/classUtils/ObjIter.py:326\u001b[0m, in \u001b[0;36m<listcomp>\u001b[0;34m(.0)\u001b[0m\n\u001b[1;32m    323\u001b[0m     \u001b[39mreturn\u001b[39;00m \u001b[39mself\u001b[39m\u001b[39m.\u001b[39mparallel_apply(obj_function, report\u001b[39m=\u001b[39mreport, \u001b[39m*\u001b[39m\u001b[39m*\u001b[39mkwargs)\n\u001b[1;32m    325\u001b[0m it \u001b[39m=\u001b[39m tqdm(\u001b[39mself\u001b[39m, desc\u001b[39m=\u001b[39mget_function_name(obj_function)) \u001b[39mif\u001b[39;00m report \u001b[39melse\u001b[39;00m \u001b[39mself\u001b[39m\n\u001b[0;32m--> 326\u001b[0m out \u001b[39m=\u001b[39m ObjIter([ obj_function(obj) \u001b[39mfor\u001b[39;00m obj \u001b[39min\u001b[39;00m it ])\n\u001b[1;32m    328\u001b[0m \u001b[39mreturn\u001b[39;00m out\n",
      "File \u001b[0;32m/uscms_data/d3/ekoenig/8BAnalysis/studies/eightbStudies/utils/classUtils/ObjIter.py:41\u001b[0m, in \u001b[0;36mParallelMethod.__call__\u001b[0;34m(self, *args, **kwargs)\u001b[0m\n\u001b[1;32m     39\u001b[0m \u001b[39mdef\u001b[39;00m \u001b[39m__call__\u001b[39m(\u001b[39mself\u001b[39m, \u001b[39m*\u001b[39margs, \u001b[39m*\u001b[39m\u001b[39m*\u001b[39mkwargs):\n\u001b[1;32m     40\u001b[0m     inputs, start_timing \u001b[39m=\u001b[39m \u001b[39mself\u001b[39m\u001b[39m.\u001b[39m__start__(\u001b[39m0\u001b[39m, args, kwargs)\n\u001b[0;32m---> 41\u001b[0m     output, run_timing \u001b[39m=\u001b[39m \u001b[39mself\u001b[39;49m\u001b[39m.\u001b[39;49m__run__(inputs, start_timing)\n\u001b[1;32m     42\u001b[0m     finished, end_timing \u001b[39m=\u001b[39m \u001b[39mself\u001b[39m\u001b[39m.\u001b[39m__end__(args, output, run_timing)\n\u001b[1;32m     44\u001b[0m     \u001b[39mself\u001b[39m\u001b[39m.\u001b[39m__start_timing__\u001b[39m.\u001b[39mappend(start_timing)\n",
      "File \u001b[0;32m/uscms_data/d3/ekoenig/8BAnalysis/studies/eightbStudies/utils/classUtils/ObjIter.py:82\u001b[0m, in \u001b[0;36mParallelMethod.__run__\u001b[0;34m(self, inputs, timing)\u001b[0m\n\u001b[1;32m     80\u001b[0m \u001b[39mdef\u001b[39;00m \u001b[39m__run__\u001b[39m(\u001b[39mself\u001b[39m, inputs, timing):\n\u001b[1;32m     81\u001b[0m     start \u001b[39m=\u001b[39m time\u001b[39m.\u001b[39mtime() \u001b[39m-\u001b[39m \u001b[39mself\u001b[39m\u001b[39m.\u001b[39m__time__\n\u001b[0;32m---> 82\u001b[0m     result \u001b[39m=\u001b[39m \u001b[39mself\u001b[39;49m\u001b[39m.\u001b[39;49mrun(\u001b[39m*\u001b[39;49m\u001b[39m*\u001b[39;49minputs)\n\u001b[1;32m     83\u001b[0m     worker \u001b[39m=\u001b[39m mp\u001b[39m.\u001b[39mcurrent_process()\u001b[39m.\u001b[39mname\n\u001b[1;32m     84\u001b[0m     thread \u001b[39m=\u001b[39m th\u001b[39m.\u001b[39mcurrent_thread()\u001b[39m.\u001b[39mname\n",
      "File \u001b[0;32m/uscms_data/d3/ekoenig/8BAnalysis/studies/eightbStudies/utils/fourbUtils/nanohh4bUtils.py:208\u001b[0m, in \u001b[0;36mf_evaluate_feynnet.run_onnx\u001b[0;34m(self, jets)\u001b[0m\n\u001b[1;32m    206\u001b[0m \u001b[39mdef\u001b[39;00m \u001b[39mrun_onnx\u001b[39m(\u001b[39mself\u001b[39m, jets):\n\u001b[1;32m    207\u001b[0m     jets \u001b[39m=\u001b[39m jets[ ak\u001b[39m.\u001b[39margsort(\u001b[39m-\u001b[39mjets\u001b[39m.\u001b[39mak4_bdisc, axis\u001b[39m=\u001b[39m\u001b[39m1\u001b[39m) ]\n\u001b[0;32m--> 208\u001b[0m     model \u001b[39m=\u001b[39m weaver\u001b[39m.\u001b[39;49mWeaverONNX(\u001b[39mself\u001b[39;49m\u001b[39m.\u001b[39;49mmodel_path, onnxdir\u001b[39m=\u001b[39;49m\u001b[39mself\u001b[39;49m\u001b[39m.\u001b[39;49monnxdir)\n\u001b[1;32m    209\u001b[0m     results \u001b[39m=\u001b[39m model\u001b[39m.\u001b[39mpredict(jets, batch_size\u001b[39m=\u001b[39m\u001b[39m1000\u001b[39m)\n\u001b[1;32m    210\u001b[0m     assignments \u001b[39m=\u001b[39m ak\u001b[39m.\u001b[39mfrom_regular(results[\u001b[39m'\u001b[39m\u001b[39msorted_j_assignments\u001b[39m\u001b[39m'\u001b[39m]\u001b[39m.\u001b[39mastype(\u001b[39mint\u001b[39m), axis\u001b[39m=\u001b[39m\u001b[39m2\u001b[39m)\n",
      "File \u001b[0;32m/uscms_data/d3/ekoenig/8BAnalysis/studies/eightbStudies/utils/weaverUtils/__init__.py:9\u001b[0m, in \u001b[0;36mWeaverONNX.__init__\u001b[0;34m(self, modelpath, onnxdir)\u001b[0m\n\u001b[1;32m      7\u001b[0m \u001b[39mdef\u001b[39;00m \u001b[39m__init__\u001b[39m(\u001b[39mself\u001b[39m, modelpath, onnxdir\u001b[39m=\u001b[39m\u001b[39m'\u001b[39m\u001b[39mexport\u001b[39m\u001b[39m'\u001b[39m):\n\u001b[0;32m----> 9\u001b[0m     preprocessing_file \u001b[39m=\u001b[39m os\u001b[39m.\u001b[39;49mpath\u001b[39m.\u001b[39;49mjoin(modelpath, onnxdir, \u001b[39m'\u001b[39;49m\u001b[39mpreprocess.json\u001b[39;49m\u001b[39m'\u001b[39;49m)\n\u001b[1;32m     10\u001b[0m     model_files \u001b[39m=\u001b[39m [os\u001b[39m.\u001b[39mpath\u001b[39m.\u001b[39mjoin(modelpath, onnxdir, \u001b[39m'\u001b[39m\u001b[39mmodel.onnx\u001b[39m\u001b[39m'\u001b[39m)]\n\u001b[1;32m     11\u001b[0m     \u001b[39msuper\u001b[39m()\u001b[39m.\u001b[39m\u001b[39m__init__\u001b[39m(preprocessing_file, model_files)\n",
      "File \u001b[0;32m/uscms_data/d3/ekoenig/mambaforge/envs/py-env/lib/python3.9/posixpath.py:76\u001b[0m, in \u001b[0;36mjoin\u001b[0;34m(a, *p)\u001b[0m\n\u001b[1;32m     71\u001b[0m \u001b[39mdef\u001b[39;00m \u001b[39mjoin\u001b[39m(a, \u001b[39m*\u001b[39mp):\n\u001b[1;32m     72\u001b[0m \u001b[39m    \u001b[39m\u001b[39m\"\"\"Join two or more pathname components, inserting '/' as needed.\u001b[39;00m\n\u001b[1;32m     73\u001b[0m \u001b[39m    If any component is an absolute path, all previous path components\u001b[39;00m\n\u001b[1;32m     74\u001b[0m \u001b[39m    will be discarded.  An empty last part will result in a path that\u001b[39;00m\n\u001b[1;32m     75\u001b[0m \u001b[39m    ends with a separator.\"\"\"\u001b[39;00m\n\u001b[0;32m---> 76\u001b[0m     a \u001b[39m=\u001b[39m os\u001b[39m.\u001b[39;49mfspath(a)\n\u001b[1;32m     77\u001b[0m     sep \u001b[39m=\u001b[39m _get_sep(a)\n\u001b[1;32m     78\u001b[0m     path \u001b[39m=\u001b[39m a\n",
      "\u001b[0;31mTypeError\u001b[0m: expected str, bytes or os.PathLike object, not WeaverONNX"
     ]
    }
   ],
   "source": []
  },
  {
   "cell_type": "code",
   "execution_count": null,
   "id": "004f6be5",
   "metadata": {},
   "outputs": [],
   "source": []
  }
 ],
 "metadata": {
  "kernelspec": {
   "display_name": "Python 3.9.15 ('py-env')",
   "language": "python",
   "name": "python3"
  },
  "language_info": {
   "codemirror_mode": {
    "name": "ipython",
    "version": 3
   },
   "file_extension": ".py",
   "mimetype": "text/x-python",
   "name": "python",
   "nbconvert_exporter": "python",
   "pygments_lexer": "ipython3",
   "version": "3.9.15"
  },
  "vscode": {
   "interpreter": {
    "hash": "99d8ad6568882febb6ca5d1c2307614594cf6684ed0ce2b9f63bf31341fdb3d5"
   }
  }
 },
 "nbformat": 4,
 "nbformat_minor": 5
}

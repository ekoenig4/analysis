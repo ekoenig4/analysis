{
 "cells": [
  {
   "cell_type": "code",
   "execution_count": 1,
   "id": "9bfa3b5a",
   "metadata": {},
   "outputs": [],
   "source": [
    "%load_ext autoreload\n",
    "%autoreload 2\n",
    "\n",
    "import os\n",
    "os.environ['KMP_WARNINGS'] = 'off'\n",
    "import sys\n",
    "import git\n",
    "\n",
    "import uproot as ut\n",
    "import awkward as ak\n",
    "import numpy as np\n",
    "import math\n",
    "import vector\n",
    "import sympy as sp\n",
    "\n",
    "import re\n",
    "from tqdm import tqdm\n",
    "import timeit\n",
    "import re\n",
    "\n",
    "sys.path.append( git.Repo('.', search_parent_directories=True).working_tree_dir )\n",
    "from utils import *"
   ]
  },
  {
   "cell_type": "code",
   "execution_count": 23,
   "id": "f913e855",
   "metadata": {},
   "outputs": [],
   "source": [
    "qcdfiles = [\n",
    "\"/eos/uscms/store/user/ekoenig/4BAnalysis/NTuples/feynnet/QCD_HT1000to1500_BGenFilter_TuneCP5_13TeV-madgraph-pythia8/reweight_ntuple.root\",\n",
    "\"/eos/uscms/store/user/ekoenig/4BAnalysis/NTuples/feynnet/QCD_HT100to200_BGenFilter_TuneCP5_13TeV-madgraph-pythia8/reweight_ntuple.root\",\n",
    "\"/eos/uscms/store/user/ekoenig/4BAnalysis/NTuples/feynnet/QCD_HT1500to2000_BGenFilter_TuneCP5_13TeV-madgraph-pythia8/reweight_ntuple.root\",\n",
    "\"/eos/uscms/store/user/ekoenig/4BAnalysis/NTuples/feynnet/QCD_HT2000toInf_BGenFilter_TuneCP5_13TeV-madgraph-pythia8/reweight_ntuple.root\",\n",
    "\"/eos/uscms/store/user/ekoenig/4BAnalysis/NTuples/feynnet/QCD_HT200to300_BGenFilter_TuneCP5_13TeV-madgraph-pythia8/reweight_ntuple.root\",\n",
    "\"/eos/uscms/store/user/ekoenig/4BAnalysis/NTuples/feynnet/QCD_HT300to500_BGenFilter_TuneCP5_13TeV-madgraph-pythia8/reweight_ntuple.root\",\n",
    "\"/eos/uscms/store/user/ekoenig/4BAnalysis/NTuples/feynnet/QCD_HT500to700_BGenFilter_TuneCP5_13TeV-madgraph-pythia8/reweight_ntuple.root\",\n",
    "\"/eos/uscms/store/user/ekoenig/4BAnalysis/NTuples/feynnet/QCD_HT700to1000_BGenFilter_TuneCP5_13TeV-madgraph-pythia8/reweight_ntuple.root\",\n",
    "\"/eos/uscms/store/user/ekoenig/4BAnalysis/NTuples/feynnet/QCD_bEnriched_HT1000to1500_TuneCP5_13TeV-madgraph-pythia8/reweight_ntuple.root\",\n",
    "\"/eos/uscms/store/user/ekoenig/4BAnalysis/NTuples/feynnet/QCD_bEnriched_HT100to200_TuneCP5_13TeV-madgraph-pythia8/reweight_ntuple.root\",\n",
    "\"/eos/uscms/store/user/ekoenig/4BAnalysis/NTuples/feynnet/QCD_bEnriched_HT1500to2000_TuneCP5_13TeV-madgraph-pythia8/reweight_ntuple.root\",\n",
    "\"/eos/uscms/store/user/ekoenig/4BAnalysis/NTuples/feynnet/QCD_bEnriched_HT2000toInf_TuneCP5_13TeV-madgraph-pythia8/reweight_ntuple.root\",\n",
    "\"/eos/uscms/store/user/ekoenig/4BAnalysis/NTuples/feynnet/QCD_bEnriched_HT200to300_TuneCP5_13TeV-madgraph-pythia8/reweight_ntuple.root\",\n",
    "\"/eos/uscms/store/user/ekoenig/4BAnalysis/NTuples/feynnet/QCD_bEnriched_HT300to500_TuneCP5_13TeV-madgraph-pythia8/reweight_ntuple.root\",\n",
    "\"/eos/uscms/store/user/ekoenig/4BAnalysis/NTuples/feynnet/QCD_bEnriched_HT500to700_TuneCP5_13TeV-madgraph-pythia8/reweight_ntuple.root\",\n",
    "\"/eos/uscms/store/user/ekoenig/4BAnalysis/NTuples/feynnet/QCD_bEnriched_HT700to1000_TuneCP5_13TeV-madgraph-pythia8/reweight_ntuple.root\",\n",
    "]\n",
    "\n",
    "ttbarfiles = [\n",
    "    \"/eos/uscms/store/user/ekoenig/4BAnalysis/NTuples/feynnet/TTJets_TuneCP5_13TeV-amcatnloFXFX-pythia8/reweight_ntuple.root\",\n",
    "]"
   ]
  },
  {
   "cell_type": "code",
   "execution_count": 24,
   "id": "72b42069",
   "metadata": {},
   "outputs": [
    {
     "name": "stderr",
     "output_type": "stream",
     "text": [
      "100%|██████████| 16/16 [00:01<00:00, 15.31it/s]\n",
      "100%|██████████| 1/1 [00:00<00:00,  8.78it/s]\n"
     ]
    }
   ],
   "source": [
    "tree = ObjIter([Tree(qcdfiles), Tree(ttbarfiles)])"
   ]
  },
  {
   "cell_type": "code",
   "execution_count": 27,
   "id": "8602f695",
   "metadata": {},
   "outputs": [
    {
     "data": {
      "text/plain": [
       "[None, None]"
      ]
     },
     "execution_count": 27,
     "metadata": {},
     "output_type": "execute_result"
    }
   ],
   "source": [
    "tree.apply(lambda t : t.extend(scale=ak.ones_like(t.scale)))"
   ]
  },
  {
   "cell_type": "code",
   "execution_count": 31,
   "id": "a8aa8f44",
   "metadata": {},
   "outputs": [
    {
     "data": {
      "text/plain": [
       "[['abs_scale', 'dataset_norm_abs_scale', 'is_bkg', 'jet_E', 'jet_btag', 'jet_chEmEF', 'jet_chHEF', 'jet_eta', 'jet_hadronFlav', 'jet_id', 'jet_m', 'jet_mRegressed', 'jet_nConstituents', 'jet_neEmEF', 'jet_neHEF', 'jet_partonFlav', 'jet_phi', 'jet_pt', 'jet_ptRegressed', 'jet_puid', 'jet_qgl', 'jet_signalId', 'njet_E', 'njet_btag', 'njet_chEmEF', 'njet_chHEF', 'njet_eta', 'njet_hadronFlav', 'njet_id', 'njet_m', 'njet_mRegressed', 'njet_nConstituents', 'njet_neEmEF', 'njet_neHEF', 'njet_partonFlav', 'njet_phi', 'njet_pt', 'njet_ptRegressed', 'njet_puid', 'njet_qgl', 'njet_signalId', 'norm_abs_scale', 'scale', 'sample_id'], ['abs_scale', 'dataset_norm_abs_scale', 'is_bkg', 'jet_E', 'jet_btag', 'jet_chEmEF', 'jet_chHEF', 'jet_eta', 'jet_hadronFlav', 'jet_id', 'jet_m', 'jet_mRegressed', 'jet_nConstituents', 'jet_neEmEF', 'jet_neHEF', 'jet_partonFlav', 'jet_phi', 'jet_pt', 'jet_ptRegressed', 'jet_puid', 'jet_qgl', 'jet_signalId', 'njet_E', 'njet_btag', 'njet_chEmEF', 'njet_chHEF', 'njet_eta', 'njet_hadronFlav', 'njet_id', 'njet_m', 'njet_mRegressed', 'njet_nConstituents', 'njet_neEmEF', 'njet_neHEF', 'njet_partonFlav', 'njet_phi', 'njet_pt', 'njet_ptRegressed', 'njet_puid', 'njet_qgl', 'njet_signalId', 'norm_abs_scale', 'scale', 'sample_id']]"
      ]
     },
     "execution_count": 31,
     "metadata": {},
     "output_type": "execute_result"
    }
   ],
   "source": [
    "tree.fields"
   ]
  },
  {
   "cell_type": "code",
   "execution_count": 33,
   "id": "d71e98f3",
   "metadata": {},
   "outputs": [
    {
     "name": "stderr",
     "output_type": "stream",
     "text": [
      "100%|██████████| 1/1 [00:01<00:00,  1.03s/it]\n"
     ]
    },
    {
     "data": {
      "image/png": "[encoded data removed]",
      "text/plain": [
       "<Figure size 480x400 with 1 Axes>"
      ]
     },
     "metadata": {},
     "output_type": "display_data"
    }
   ],
   "source": [
    "study.quick(\n",
    "    tree,\n",
    "    scale=lambda t:t.dataset_norm_abs_scale,\n",
    "    varlist=['jet_pt[:,0]'],\n",
    "    legend=True, lumi=None,\n",
    ")"
   ]
  },
  {
   "cell_type": "code",
   "execution_count": null,
   "id": "071f81a7",
   "metadata": {},
   "outputs": [],
   "source": []
  },
  {
   "cell_type": "code",
   "execution_count": null,
   "id": "cad0a606",
   "metadata": {},
   "outputs": [],
   "source": []
  }
 ],
 "metadata": {
  "kernelspec": {
   "display_name": "Python 3.9.15 ('py-env')",
   "language": "python",
   "name": "python3"
  },
  "language_info": {
   "codemirror_mode": {
    "name": "ipython",
    "version": 3
   },
   "file_extension": ".py",
   "mimetype": "text/x-python",
   "name": "python",
   "nbconvert_exporter": "python",
   "pygments_lexer": "ipython3",
   "version": "3.9.15"
  },
  "vscode": {
   "interpreter": {
    "hash": "99d8ad6568882febb6ca5d1c2307614594cf6684ed0ce2b9f63bf31341fdb3d5"
   }
  }
 },
 "nbformat": 4,
 "nbformat_minor": 5
}

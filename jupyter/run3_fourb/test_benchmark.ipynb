{
 "cells": [
  {
   "cell_type": "code",
   "execution_count": 1,
   "id": "9bfa3b5a",
   "metadata": {},
   "outputs": [],
   "source": [
    "%load_ext autoreload\n",
    "%autoreload 2\n",
    "\n",
    "import os\n",
    "os.environ['KMP_WARNINGS'] = 'off'\n",
    "import sys\n",
    "import git\n",
    "\n",
    "import uproot as ut\n",
    "import awkward as ak\n",
    "import numpy as np\n",
    "import math\n",
    "import vector\n",
    "import sympy as sp\n",
    "\n",
    "import re\n",
    "from tqdm import tqdm\n",
    "import timeit\n",
    "import re\n",
    "\n",
    "sys.path.append( git.Repo('.', search_parent_directories=True).working_tree_dir )\n",
    "from utils import *"
   ]
  },
  {
   "cell_type": "code",
   "execution_count": 2,
   "id": "4cbafd01",
   "metadata": {},
   "outputs": [],
   "source": [
    "def get_local_alt(f):\n",
    "    to_local = lambda f : f.replace('/eos/user/e/ekoenig/','/store/user/ekoenig/')\n",
    "    alt_pattern = to_local(f)\n",
    "\n",
    "    alt_glob = fc.fs.eos.glob(alt_pattern)\n",
    "    if any(alt_glob):\n",
    "        return alt_glob\n",
    "    \n",
    "    remote_glob = fc.fs.cernbox.glob(f)\n",
    "    if any(remote_glob):\n",
    "        alt_glob = [ to_local(f) for f in remote_glob ]\n",
    "        remote_glob = [ fc.fs.cernbox.fullpath(f) for f in remote_glob ]\n",
    "        fc.fs.eos.batch_copy_to(remote_glob, alt_glob)\n",
    "\n",
    "    alt_glob = fc.fs.eos.glob(alt_pattern)\n",
    "    return alt_glob"
   ]
  },
  {
   "cell_type": "code",
   "execution_count": 30,
   "id": "cad0a606",
   "metadata": {},
   "outputs": [
    {
     "name": "stderr",
     "output_type": "stream",
     "text": [
      "100%|██████████| 1/1 [00:00<00:00,  1.29it/s]\n"
     ]
    }
   ],
   "source": [
    "\n",
    "treekwargs = dict(\n",
    "    use_gen=False,\n",
    "    treename='Events',\n",
    "    normalization=None,\n",
    ")\n",
    "\n",
    "f_pattern = '/eos/user/e/ekoenig/Ntuples/NanoHH4b/{pairing}_sig_2018_0L/mc/ggHH4b_tree.root'\n",
    "f_sig = f_pattern.format(pairing='pn_mindiag')\n",
    "\n",
    "signal = ObjIter([Tree( get_local_alt(f_sig), **treekwargs)])"
   ]
  },
  {
   "cell_type": "code",
   "execution_count": 31,
   "id": "bdba1af0",
   "metadata": {},
   "outputs": [
    {
     "data": {
      "text/plain": [
       "[None]"
      ]
     },
     "execution_count": 31,
     "metadata": {},
     "output_type": "execute_result"
    }
   ],
   "source": [
    "signal.apply(lambda t : t.reweight(t.genWeight * t.xsecWeight / 1000))"
   ]
  },
  {
   "cell_type": "code",
   "execution_count": 32,
   "id": "7c714455",
   "metadata": {},
   "outputs": [],
   "source": [
    "@cache_variable\n",
    "def n_loose_btag(t):\n",
    "    \n",
    "    nL = t.ak4_h1b1_btag_L + t.ak4_h1b2_btag_L + t.ak4_h2b1_btag_L + t.ak4_h2b2_btag_L\n",
    "    return ak.values_astype(nL, np.int32)"
   ]
  },
  {
   "cell_type": "code",
   "execution_count": 33,
   "id": "7af47f6a",
   "metadata": {},
   "outputs": [],
   "source": []
  },
  {
   "cell_type": "code",
   "execution_count": 43,
   "id": "390804ce",
   "metadata": {},
   "outputs": [],
   "source": [
    "def set_pn_wp(tree, threshold=0.3):\n",
    "    tree.extend(\n",
    "        ak4_h1b1_btag_M = ak.where(tree.ak4_h1b1_bdisc > threshold, 1, 0),\n",
    "        ak4_h1b2_btag_M = ak.where(tree.ak4_h1b2_bdisc > threshold, 1, 0),\n",
    "        ak4_h2b1_btag_M = ak.where(tree.ak4_h2b1_bdisc > threshold, 1, 0),\n",
    "        ak4_h2b2_btag_M = ak.where(tree.ak4_h2b2_bdisc > threshold, 1, 0),\n",
    "    )\n",
    "\n",
    "def n_medium_btag(t):\n",
    "    nM = t.ak4_h1b1_btag_M + t.ak4_h1b2_btag_M + t.ak4_h2b1_btag_M + t.ak4_h2b2_btag_M\n",
    "    return ak.values_astype(nM, np.int32)"
   ]
  },
  {
   "cell_type": "code",
   "execution_count": null,
   "metadata": {},
   "outputs": [],
   "source": []
  },
  {
   "cell_type": "code",
   "execution_count": null,
   "id": "63a3c3d3",
   "metadata": {},
   "outputs": [],
   "source": []
  },
  {
   "cell_type": "code",
   "execution_count": null,
   "id": "d6b0887b",
   "metadata": {},
   "outputs": [],
   "source": []
  },
  {
   "cell_type": "code",
   "execution_count": 52,
   "id": "6de7b131",
   "metadata": {},
   "outputs": [
    {
     "data": {
      "text/plain": [
       "[None]"
      ]
     },
     "execution_count": 52,
     "metadata": {},
     "output_type": "execute_result"
    }
   ],
   "source": [
    "signal.apply(lambda t : set_pn_wp(t, threshold=0.3))\n",
    "\n",
    "study.quick(\n",
    "    signal,\n",
    "    varlist=[n_medium_btag],\n",
    ")"
   ]
  }
 ],
 "metadata": {
  "kernelspec": {
   "display_name": "Python 3.9.15 ('py-env')",
   "language": "python",
   "name": "python3"
  },
  "language_info": {
   "codemirror_mode": {
    "name": "ipython",
    "version": 3
   },
   "file_extension": ".py",
   "mimetype": "text/x-python",
   "name": "python",
   "nbconvert_exporter": "python",
   "pygments_lexer": "ipython3",
   "version": "3.9.15"
  },
  "vscode": {
   "interpreter": {
    "hash": "99d8ad6568882febb6ca5d1c2307614594cf6684ed0ce2b9f63bf31341fdb3d5"
   }
  }
 },
 "nbformat": 4,
 "nbformat_minor": 5
}

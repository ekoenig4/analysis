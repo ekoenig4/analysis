{
 "cells": [
  {
   "cell_type": "code",
   "execution_count": 1,
   "id": "9bfa3b5a",
   "metadata": {},
   "outputs": [],
   "source": [
    "%load_ext autoreload\n",
    "%autoreload 2\n",
    "\n",
    "import os\n",
    "os.environ['KMP_WARNINGS'] = 'off'\n",
    "import sys\n",
    "import git\n",
    "\n",
    "import uproot as ut\n",
    "import awkward as ak\n",
    "import numpy as np\n",
    "import math\n",
    "import vector\n",
    "import sympy as sp\n",
    "\n",
    "import re\n",
    "from tqdm import tqdm\n",
    "import timeit\n",
    "import re\n",
    "from functools import partial\n",
    "\n",
    "sys.path.append( git.Repo('.', search_parent_directories=True).working_tree_dir )\n",
    "from utils import *"
   ]
  },
  {
   "cell_type": "code",
   "execution_count": 2,
   "id": "6be6767a",
   "metadata": {},
   "outputs": [
    {
     "name": "stderr",
     "output_type": "stream",
     "text": [
      "100%|██████████| 1/1 [00:00<00:00,  1.03it/s]\n"
     ]
    }
   ],
   "source": [
    "base = f'root://cernbox.cern.ch//eos/user/e/ekoenig/Ntuples/NanoHH4b/run2/mindiag_2018_0L'\n",
    "f_sig = f'{base}/mc/ggHH4b_tree.root'\n",
    "\n",
    "treekwargs = dict(\n",
    "    weights=['xsecWeight/1000','genWeight','PUWeight'],\n",
    "    treename='Events',\n",
    "    normalization=None,\n",
    ")\n",
    "nanohh4b_sig = Tree(f_sig, sample='nanohh4b ggHH4b', **treekwargs)"
   ]
  },
  {
   "cell_type": "code",
   "execution_count": 3,
   "id": "26067579",
   "metadata": {},
   "outputs": [
    {
     "name": "stderr",
     "output_type": "stream",
     "text": [
      "100%|██████████| 1/1 [00:02<00:00,  2.69s/it]\n"
     ]
    }
   ],
   "source": [
    "f_sig = '/store/user/mkolosov/MultiHiggs/DiHiggs/RunII/NTuples/NTuple_UL2018_05Oct2023_withSFs/GluGluToHHTo4B_cHHH1_TuneCP5_PSWeights_13TeV-powheg-pythia8/signal_merged_fnal_withSFs.root'\n",
    "# f_data = '/store/user/mkolosov/MultiHiggs/DiHiggs/RunII/NTuples/data_merged_fnal.root'\n",
    "\n",
    "treekwargs = dict(\n",
    "    weights=['genWeight','PUWeight'],\n",
    "    treename='bbbbTree',\n",
    "    normalization='eff_histo',\n",
    ")\n",
    "\n",
    "xsec = 31.05 * (5.824E-01)**2 / 1000\n",
    "\n",
    "bbbb_sig = Tree(f_sig, xsec=xsec, sample='bbbb ggHH4b', color='lightgrey', **treekwargs)"
   ]
  },
  {
   "cell_type": "code",
   "execution_count": 12,
   "id": "177657aa",
   "metadata": {},
   "outputs": [],
   "source": [
    "bbbb_sig.reweight(bbbb_sig.triggerScaleFactor * bbbb_sig.bTagScaleFactor_central)"
   ]
  },
  {
   "cell_type": "code",
   "execution_count": 13,
   "id": "4514c94e",
   "metadata": {},
   "outputs": [],
   "source": [
    "import utils.fourbUtils.bbbbUtils as bbbbUtils\n",
    "bbbbUtils.map_to_nano(bbbb_sig)"
   ]
  },
  {
   "cell_type": "code",
   "execution_count": 14,
   "id": "ca65f35a",
   "metadata": {},
   "outputs": [],
   "source": [
    "@cache_variable\n",
    "def n_loose_btag(t):\n",
    "    nL = 1*t.ak4_h1b1_btag_L + 1*t.ak4_h1b2_btag_L + 1*t.ak4_h2b1_btag_L + 1*t.ak4_h2b2_btag_L\n",
    "    return ak.values_astype(nL, np.int32)\n",
    "\n",
    "@cache_variable\n",
    "def n_medium_btag(t):\n",
    "    nM = 1*t.ak4_h1b1_btag_M + 1*t.ak4_h1b2_btag_M + 1*t.ak4_h2b1_btag_M + 1*t.ak4_h2b2_btag_M\n",
    "    return ak.values_astype(nM, np.int32)\n",
    "\n",
    "@cache_variable\n",
    "def n_tight_btag(t):\n",
    "    nT = 1*t.ak4_h1b1_btag_T + 1*t.ak4_h1b2_btag_T + 1*t.ak4_h2b1_btag_T + 1*t.ak4_h2b2_btag_T\n",
    "    return ak.values_astype(nT, np.int32)\n",
    "\n",
    "@cache_variable(bins=(0,100,30))\n",
    "def h_dm(t):\n",
    "    return np.sqrt( (t.dHH_H1_regmass - 125)**2 + (t.dHH_H2_regmass - 120)**2 )\n",
    "\n",
    "@cache_variable(bins=(0,100,30))\n",
    "def vr_h_dm(t):\n",
    "    return np.sqrt( (t.dHH_H1_regmass - 179)**2 + (t.dHH_H2_regmass - 172)**2 )\n",
    "\n",
    "bdt_features = [\n",
    "    'ak4_h1b1_regpt', 'ak4_h1b2_regpt', 'ak4_h2b1_regpt', 'ak4_h2b2_regpt',\n",
    "    'dHH_H1_regmass', 'dHH_H2_regmass', 'dHH_H1_pt', 'dHH_H2_pt', \n",
    "    'dHH_HH_mass', 'dHH_HH_pt','dHH_SumRegPtb', 'dHH_SumRegResb',\n",
    "    'dHH_H1b1_H1b2_deltaR', 'dHH_H2b1_H2b2_deltaR', 'dHH_H1_H2_deltaEta','dHH_mindRbb', \n",
    "    'dHH_maxdEtabb','dHH_absCosTheta_H1_inHHcm', 'dHH_absCosTheta_H1b1_inH1cm', 'dHH_NbtagT',\n",
    "]\n",
    "\n",
    "hparams = dict(\n",
    "            n_estimators=70,\n",
    "            max_depth=4,\n",
    "            learning_rate=0.1,\n",
    "            min_samples_leaf=300,\n",
    "            gb_args=dict(subsample=0.6),\n",
    "            n_folds=2,\n",
    "        )\n",
    "\n",
    "bdt = ABCD(\n",
    "    features=bdt_features,\n",
    "    a=lambda t : (h_dm(t) <  25) & (n_medium_btag(t) == 4),\n",
    "    b=lambda t : (h_dm(t) <  25) & (n_medium_btag(t) == 3),\n",
    "    c=lambda t : (h_dm(t) >= 25) & (h_dm(t) < 50) & (n_medium_btag(t) == 4),\n",
    "    d=lambda t : (h_dm(t) >= 25) & (h_dm(t) < 50) & (n_medium_btag(t) == 3),\n",
    "    **hparams\n",
    ")"
   ]
  },
  {
   "cell_type": "code",
   "execution_count": 16,
   "id": "52243877",
   "metadata": {},
   "outputs": [
    {
     "name": "stderr",
     "output_type": "stream",
     "text": [
      "100%|██████████| 2/2 [00:00<00:00,  6.78it/s]\n"
     ]
    },
    {
     "data": {
      "image/png": "[encoded data removed]",
      "text/plain": [
       "<Figure size 960x400 with 4 Axes>"
      ]
     },
     "metadata": {},
     "output_type": "display_data"
    }
   ],
   "source": [
    "study.quick(\n",
    "    [nanohh4b_sig, bbbb_sig],\n",
    "    varlist=[h_dm, n_medium_btag],\n",
    "    ratio=True,\n",
    ")"
   ]
  },
  {
   "cell_type": "code",
   "execution_count": 20,
   "id": "4600a58a",
   "metadata": {},
   "outputs": [],
   "source": [
    "an_yields = dict(\n",
    "            a = {\n",
    "                'ggHH4b' : 1189.0 + 44.8,\n",
    "                'qcd-mg' : 4391.3 + 289.8,\n",
    "                'ttbar-powheg' : 1379.3 + 85.5,\n",
    "                'jetht': 0,\n",
    "            },\n",
    "            b = {\n",
    "                'ggHH4b' : 788.5 + 26.4,\n",
    "                'qcd-mg' : 32113.6 + 1345.0,\n",
    "                'ttbar-powheg' : 14435.2 + 642.3,\n",
    "                'jetht': 75628.0 + 3538.0,\n",
    "            },\n",
    "            c = {\n",
    "                'ggHH4b' : 364.2 + 14.1,\n",
    "                'qcd-mg' : 14384.3 + 582.8,\n",
    "                'ttbar-powheg' : 2589.0 + 154.8,\n",
    "                'jetht': 28150.0 + 1616.0,\n",
    "            },\n",
    "            d = {\n",
    "                'ggHH4b' : 434.1 + 12.9,\n",
    "                'qcd-mg' : 87038.1 + 3393.5,\n",
    "                'ttbar-powheg' : 26304.3 + 1157.0,\n",
    "                'jetht': 208145.0 + 9144.0,\n",
    "            }\n",
    "        )"
   ]
  },
  {
   "cell_type": "code",
   "execution_count": 33,
   "id": "f407599c",
   "metadata": {},
   "outputs": [
    {
     "name": "stdout",
     "output_type": "stream",
     "text": [
      "bbbb ggHH4b lepton_Veto eff: 9.85e-01\n"
     ]
    }
   ],
   "source": [
    "bbbb_lepton_veto = EventFilter('lepton_Veto', filter=lambda t : (t.IsolatedMuon_Multiplicity == 0) & (t.IsolatedElectron_Multiplicity == 0), verbose=True)\n",
    "bbbb_sig = bbbb_lepton_veto(bbbb_sig)"
   ]
  },
  {
   "cell_type": "code",
   "execution_count": 40,
   "id": "a2b34573",
   "metadata": {},
   "outputs": [],
   "source": [
    "def get_yield(tree, region):\n",
    "    label = tree.sample\n",
    "\n",
    "    yields = an_yields[region]\n",
    "    an = next( (v for k,v in yields.items() if k in label), -1)\n",
    "\n",
    "    mask = getattr(bdt, region)(tree)\n",
    "    scale = tree.scale[mask]\n",
    "\n",
    "    if not tree.is_data:\n",
    "        lumi = lumiMap[2018][0]\n",
    "        scale = lumi * scale\n",
    "\n",
    "    if tree.is_signal:\n",
    "        label = f'{label} (x100)'\n",
    "        scale = 100 * scale\n",
    "\n",
    "    events = np.sum(scale)\n",
    "\n",
    "    return (label, events, an, events/an)"
   ]
  },
  {
   "cell_type": "code",
   "execution_count": 45,
   "id": "88b2b222",
   "metadata": {},
   "outputs": [
    {
     "data": {
      "text/plain": [
       "{'a': [('nanohh4b ggHH4b (x100)',\n",
       "   1940.417430617778,\n",
       "   1233.8,\n",
       "   1.5727163483690858),\n",
       "  ('bbbb ggHH4b (x100)', 1297.8108595828844, 1233.8, 1.051881066285366)],\n",
       " 'b': [('nanohh4b ggHH4b (x100)',\n",
       "   1402.6205593518953,\n",
       "   814.9,\n",
       "   1.7212180136849862),\n",
       "  ('bbbb ggHH4b (x100)', 873.4641805173422, 814.9, 1.071866708206335)],\n",
       " 'c': [('nanohh4b ggHH4b (x100)',\n",
       "   681.7164585534031,\n",
       "   378.3,\n",
       "   1.8020524941935052),\n",
       "  ('bbbb ggHH4b (x100)', 415.59220222849217, 378.3, 1.0985783828403177)],\n",
       " 'd': [('nanohh4b ggHH4b (x100)',\n",
       "   895.8993237970781,\n",
       "   447.0,\n",
       "   2.0042490465259015),\n",
       "  ('bbbb ggHH4b (x100)', 492.1795581086791, 447.0, 1.101072836932168)]}"
      ]
     },
     "execution_count": 45,
     "metadata": {},
     "output_type": "execute_result"
    }
   ],
   "source": [
    "{\n",
    "    region : [ get_yield(tree, region) for tree in [nanohh4b_sig, bbbb_sig] ]\n",
    "    for region in ('a','b','c','d')\n",
    "}"
   ]
  },
  {
   "cell_type": "code",
   "execution_count": 34,
   "id": "aa33d619",
   "metadata": {},
   "outputs": [
    {
     "name": "stdout",
     "output_type": "stream",
     "text": [
      "      --- ABCD nanohh4b ggHH4b Yields ---       \n",
      "Total: 4.92e+01 (64.21%)                        \n",
      "SR   : 3.34e+01 (43.62%)                        \n",
      "CR   : 1.58e+01 (20.59%)                        \n",
      "------------------------------------------------\n",
      "|           A          |           B           |\n",
      "|       1.9404e+01       |       1.4026e+01        |\n",
      "|        25.32%        |        18.30%         |\n",
      "------------------------------------------------\n",
      "|           C          |           D           |\n",
      "|       6.8172e+00       |       8.9590e+00        |\n",
      "|        8.90%         |        11.69%         |\n",
      "------------------------------------------------\n",
      "        --- ABCD bbbb ggHH4b Yields ---         \n",
      "Total: 3.08e+01 (64.77%)                        \n",
      "SR   : 2.17e+01 (45.67%)                        \n",
      "CR   : 9.08e+00 (19.10%)                        \n",
      "------------------------------------------------\n",
      "|           A          |           B           |\n",
      "|       1.2978e+01       |       8.7346e+00        |\n",
      "|        27.30%        |        18.37%         |\n",
      "------------------------------------------------\n",
      "|           C          |           D           |\n",
      "|       4.1559e+00       |       4.9218e+00        |\n",
      "|        8.74%         |        10.35%         |\n",
      "------------------------------------------------\n"
     ]
    },
    {
     "data": {
      "text/plain": [
       "[None, None]"
      ]
     },
     "execution_count": 34,
     "metadata": {},
     "output_type": "execute_result"
    }
   ],
   "source": [
    "ObjIter([nanohh4b_sig, bbbb_sig]).apply(lambda t : bdt.print_yields(t, lumi=2018))"
   ]
  },
  {
   "cell_type": "code",
   "execution_count": 28,
   "id": "5fc4b67a",
   "metadata": {},
   "outputs": [
    {
     "data": {
      "text/plain": [
       "{'ggHH4b': 1233.8, 'qcd-mg': 4681.1, 'ttbar-powheg': 1464.8, 'jetht': 0}"
      ]
     },
     "execution_count": 28,
     "metadata": {},
     "output_type": "execute_result"
    }
   ],
   "source": [
    "an_yields['a']"
   ]
  },
  {
   "cell_type": "code",
   "execution_count": 31,
   "id": "3517e443",
   "metadata": {},
   "outputs": [
    {
     "data": {
      "text/plain": [
       "1.5727022207813262"
      ]
     },
     "execution_count": 31,
     "metadata": {},
     "output_type": "execute_result"
    }
   ],
   "source": [
    "1.9404e+01  * 100 / 1233.8"
   ]
  },
  {
   "cell_type": "code",
   "execution_count": 35,
   "id": "f38ac00e",
   "metadata": {},
   "outputs": [
    {
     "data": {
      "text/plain": [
       "1.0518722645485492"
      ]
     },
     "execution_count": 35,
     "metadata": {},
     "output_type": "execute_result"
    }
   ],
   "source": [
    "1.2978e+01 * 100 / 1233.8"
   ]
  }
 ],
 "metadata": {
  "kernelspec": {
   "display_name": "Python 3.9.15 ('py-env')",
   "language": "python",
   "name": "python3"
  },
  "language_info": {
   "codemirror_mode": {
    "name": "ipython",
    "version": 3
   },
   "file_extension": ".py",
   "mimetype": "text/x-python",
   "name": "python",
   "nbconvert_exporter": "python",
   "pygments_lexer": "ipython3",
   "version": "3.9.15"
  },
  "vscode": {
   "interpreter": {
    "hash": "99d8ad6568882febb6ca5d1c2307614594cf6684ed0ce2b9f63bf31341fdb3d5"
   }
  }
 },
 "nbformat": 4,
 "nbformat_minor": 5
}

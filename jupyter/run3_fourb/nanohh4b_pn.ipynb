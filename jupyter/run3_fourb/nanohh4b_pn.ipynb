{
 "cells": [
  {
   "cell_type": "code",
   "execution_count": 1,
   "id": "9bfa3b5a",
   "metadata": {},
   "outputs": [],
   "source": [
    "%load_ext autoreload\n",
    "%autoreload 2\n",
    "\n",
    "import os\n",
    "os.environ['KMP_WARNINGS'] = 'off'\n",
    "import sys\n",
    "import git\n",
    "\n",
    "import uproot as ut\n",
    "import awkward as ak\n",
    "import numpy as np\n",
    "import math\n",
    "import vector\n",
    "import sympy as sp\n",
    "\n",
    "import re\n",
    "from tqdm import tqdm\n",
    "import timeit\n",
    "import re\n",
    "from functools import partial\n",
    "\n",
    "sys.path.append( git.Repo('.', search_parent_directories=True).working_tree_dir )\n",
    "from utils import *"
   ]
  },
  {
   "cell_type": "code",
   "execution_count": 2,
   "id": "cad0a606",
   "metadata": {},
   "outputs": [
    {
     "name": "stderr",
     "output_type": "stream",
     "text": [
      "100%|██████████| 1/1 [00:03<00:00,  3.61s/it]\n"
     ]
    }
   ],
   "source": [
    "\n",
    "treekwargs = dict(\n",
    "            use_gen=False,\n",
    "            treename='Events',\n",
    "            normalization=None,\n",
    "        )\n",
    "\n",
    "f_sig = '/eos/user/e/ekoenig/Ntuples/NanoHH4b/pn_mindiag_sig_2018_0L/mc/pieces/GluGluToHHTo4B_node_cHHH1_TuneCP5_13TeV-powheg-pythia8_1_tree.root'\n",
    "\n",
    "sigtree = Tree( fc.fs.cernbox.glob(f_sig, with_path=True), **treekwargs)"
   ]
  },
  {
   "cell_type": "code",
   "execution_count": 9,
   "id": "cbaa93a5",
   "metadata": {},
   "outputs": [],
   "source": [
    "build_collection(sigtree, 'ak4_h\\db\\d', name='b')"
   ]
  },
  {
   "cell_type": "code",
   "execution_count": 21,
   "id": "4a26f547",
   "metadata": {},
   "outputs": [],
   "source": [
    "np.testing.assert_allclose(ak.sort(-sigtree.ak4_pn_b, axis=1)[:,:4] , ak.sort(-sigtree.b_pn_b, axis=1))"
   ]
  },
  {
   "cell_type": "code",
   "execution_count": 22,
   "id": "cbcafd6c",
   "metadata": {},
   "outputs": [
    {
     "ename": "AssertionError",
     "evalue": "\nNot equal to tolerance rtol=1e-07, atol=0\n\nMismatched elements: 336 / 18788 (1.79%)\nMax absolute difference: 0.5957031\nMax relative difference: 54.119473\n x: array([[-0.999023, -0.991211, -0.977051, -0.935547],\n       [-0.995117, -0.978516, -0.844238, -0.102722],\n       [-0.999512, -0.999512, -0.999023, -0.218262],...\n y: array([[-0.999023, -0.991211, -0.977051, -0.935547],\n       [-0.995117, -0.978516, -0.844238, -0.102722],\n       [-0.999512, -0.999512, -0.999023, -0.218262],...",
     "output_type": "error",
     "traceback": [
      "\u001b[0;31m---------------------------------------------------------------------------\u001b[0m",
      "\u001b[0;31mAssertionError\u001b[0m                            Traceback (most recent call last)",
      "\u001b[1;32m/uscms_data/d3/ekoenig/8BAnalysis/studies/eightbStudies/jupyter/run3_fourb/nanohh4b_pn.ipynb Cell 5\u001b[0m in \u001b[0;36m1\n\u001b[0;32m----> <a href='vscode-notebook-cell://ssh-remote%2Blpc/uscms_data/d3/ekoenig/8BAnalysis/studies/eightbStudies/jupyter/run3_fourb/nanohh4b_pn.ipynb#X66sdnNjb2RlLXJlbW90ZQ%3D%3D?line=0'>1</a>\u001b[0m np\u001b[39m.\u001b[39;49mtesting\u001b[39m.\u001b[39;49massert_allclose(ak\u001b[39m.\u001b[39;49msort(\u001b[39m-\u001b[39;49msigtree\u001b[39m.\u001b[39;49mak4_bdisc, axis\u001b[39m=\u001b[39;49m\u001b[39m1\u001b[39;49m)[:,:\u001b[39m4\u001b[39;49m] , ak\u001b[39m.\u001b[39;49msort(\u001b[39m-\u001b[39;49msigtree\u001b[39m.\u001b[39;49mb_bdisc, axis\u001b[39m=\u001b[39;49m\u001b[39m1\u001b[39;49m))\n",
      "    \u001b[0;31m[... skipping hidden 1 frame]\u001b[0m\n",
      "File \u001b[0;32m/uscms_data/d3/ekoenig/mambaforge/envs/py-env/lib/python3.9/site-packages/numpy/testing/_private/utils.py:844\u001b[0m, in \u001b[0;36massert_array_compare\u001b[0;34m(comparison, x, y, err_msg, verbose, header, precision, equal_nan, equal_inf)\u001b[0m\n\u001b[1;32m    840\u001b[0m         err_msg \u001b[39m+\u001b[39m\u001b[39m=\u001b[39m \u001b[39m'\u001b[39m\u001b[39m\\n\u001b[39;00m\u001b[39m'\u001b[39m \u001b[39m+\u001b[39m \u001b[39m'\u001b[39m\u001b[39m\\n\u001b[39;00m\u001b[39m'\u001b[39m\u001b[39m.\u001b[39mjoin(remarks)\n\u001b[1;32m    841\u001b[0m         msg \u001b[39m=\u001b[39m build_err_msg([ox, oy], err_msg,\n\u001b[1;32m    842\u001b[0m                             verbose\u001b[39m=\u001b[39mverbose, header\u001b[39m=\u001b[39mheader,\n\u001b[1;32m    843\u001b[0m                             names\u001b[39m=\u001b[39m(\u001b[39m'\u001b[39m\u001b[39mx\u001b[39m\u001b[39m'\u001b[39m, \u001b[39m'\u001b[39m\u001b[39my\u001b[39m\u001b[39m'\u001b[39m), precision\u001b[39m=\u001b[39mprecision)\n\u001b[0;32m--> 844\u001b[0m         \u001b[39mraise\u001b[39;00m \u001b[39mAssertionError\u001b[39;00m(msg)\n\u001b[1;32m    845\u001b[0m \u001b[39mexcept\u001b[39;00m \u001b[39mValueError\u001b[39;00m:\n\u001b[1;32m    846\u001b[0m     \u001b[39mimport\u001b[39;00m \u001b[39mtraceback\u001b[39;00m\n",
      "\u001b[0;31mAssertionError\u001b[0m: \nNot equal to tolerance rtol=1e-07, atol=0\n\nMismatched elements: 336 / 18788 (1.79%)\nMax absolute difference: 0.5957031\nMax relative difference: 54.119473\n x: array([[-0.999023, -0.991211, -0.977051, -0.935547],\n       [-0.995117, -0.978516, -0.844238, -0.102722],\n       [-0.999512, -0.999512, -0.999023, -0.218262],...\n y: array([[-0.999023, -0.991211, -0.977051, -0.935547],\n       [-0.995117, -0.978516, -0.844238, -0.102722],\n       [-0.999512, -0.999512, -0.999023, -0.218262],..."
     ]
    }
   ],
   "source": [
    "np.testing.assert_allclose(ak.sort(-sigtree.ak4_bdisc, axis=1)[:,:4] , ak.sort(-sigtree.b_bdisc, axis=1))"
   ]
  },
  {
   "cell_type": "code",
   "execution_count": 12,
   "id": "9bb493a6",
   "metadata": {},
   "outputs": [
    {
     "data": {
      "text/plain": [
       "<Array [0.977, 0.991, 0.936, 0.999] type='4 * float32'>"
      ]
     },
     "execution_count": 12,
     "metadata": {},
     "output_type": "execute_result"
    }
   ],
   "source": [
    "sigtree.b_bdisc[0]"
   ]
  },
  {
   "cell_type": "code",
   "execution_count": 11,
   "id": "d369db09",
   "metadata": {},
   "outputs": [
    {
     "data": {
      "text/plain": [
       "<Array [0.999, 1, 0.935, 1] type='4 * float32'>"
      ]
     },
     "execution_count": 11,
     "metadata": {},
     "output_type": "execute_result"
    }
   ],
   "source": [
    "sigtree.b_pn_b[0]"
   ]
  }
 ],
 "metadata": {
  "kernelspec": {
   "display_name": "Python 3.9.15 ('py-env')",
   "language": "python",
   "name": "python3"
  },
  "language_info": {
   "codemirror_mode": {
    "name": "ipython",
    "version": 3
   },
   "file_extension": ".py",
   "mimetype": "text/x-python",
   "name": "python",
   "nbconvert_exporter": "python",
   "pygments_lexer": "ipython3",
   "version": "3.9.15"
  },
  "vscode": {
   "interpreter": {
    "hash": "99d8ad6568882febb6ca5d1c2307614594cf6684ed0ce2b9f63bf31341fdb3d5"
   }
  }
 },
 "nbformat": 4,
 "nbformat_minor": 5
}

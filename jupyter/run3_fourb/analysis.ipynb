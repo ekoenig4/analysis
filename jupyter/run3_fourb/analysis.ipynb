{
 "cells": [
  {
   "cell_type": "code",
   "execution_count": 1,
   "metadata": {},
   "outputs": [
    {
     "name": "stdout",
     "output_type": "stream",
     "text": [
      "c1000a-s11.ufhpc\n"
     ]
    }
   ],
   "source": [
    "!hostname"
   ]
  },
  {
   "cell_type": "code",
   "execution_count": 2,
   "metadata": {},
   "outputs": [],
   "source": [
    "%load_ext autoreload\n",
    "%autoreload 2\n",
    "\n",
    "from utils import *"
   ]
  },
  {
   "cell_type": "code",
   "execution_count": 3,
   "metadata": {},
   "outputs": [],
   "source": [
    "import scripts.notebooks.analysis.nanohh4b as nanohh4b"
   ]
  },
  {
   "cell_type": "code",
   "execution_count": 5,
   "metadata": {},
   "outputs": [
    {
     "name": "stdout",
     "output_type": "stream",
     "text": [
      "---Arguments---\n",
      "ignore_error = False\n",
      "dry_run = False\n",
      "dout = \n",
      "pairing = mindiag\n",
      "load_init = 6\n",
      "btagwp = medium\n",
      "leading_btag = False\n",
      "hh_mass_cut = None\n",
      "no_bkg = False\n",
      "no_data = False\n",
      "model = None\n",
      "bdisc_wp = None\n",
      "\n",
      "<Analysis\n",
      "    0: <[\u001b[34mpending \u001b[0m] \u001b[97minit\u001b[0m(\u001b[2m\u001b[97m\u001b[0m)>\n",
      "    1: <[\u001b[34mpending \u001b[0m] \u001b[97mapply_trigger\u001b[0m(\u001b[2m\u001b[97m\u001b[0m)>\n",
      "    2: <[\u001b[34mpending \u001b[0m] \u001b[97mset_bdisc_threshold\u001b[0m(\u001b[2m\u001b[97msignal, bkg, data\u001b[0m)>\n",
      "    3: <[\u001b[34mpending \u001b[0m] \u001b[97mload_feynnet\u001b[0m(\u001b[2m\u001b[97msignal, bkg, data\u001b[0m)>\n",
      "    4: <[\u001b[34mpending \u001b[0m] \u001b[97mload_spanet\u001b[0m(\u001b[2m\u001b[97msignal, bkg, data\u001b[0m)>\n",
      "    5: <[\u001b[34mpending \u001b[0m] \u001b[97mhh_mass_cut\u001b[0m(\u001b[2m\u001b[97msignal, bkg, data\u001b[0m)>\n",
      "    6: <[\u001b[2m\u001b[97mdisabled\u001b[0m] \u001b[2m\u001b[97mplot_jet_multiplicity\u001b[0m(\u001b[2m\u001b[97msignal, bkg, data\u001b[0m)>\n",
      "    7: <[\u001b[2m\u001b[97mdisabled\u001b[0m] \u001b[2m\u001b[97mplot_reco_eff\u001b[0m(\u001b[2m\u001b[97msignal\u001b[0m)>\n",
      "    8: <[\u001b[2m\u001b[97mdisabled\u001b[0m] \u001b[2m\u001b[97mplot_higgs\u001b[0m(\u001b[2m\u001b[97msignal, bkg\u001b[0m)>\n",
      "    9: <[\u001b[2m\u001b[97mdisabled\u001b[0m] \u001b[2m\u001b[97mplot_region_vars\u001b[0m(\u001b[2m\u001b[97msignal, bkg\u001b[0m)>\n",
      "   10: <[\u001b[2m\u001b[97mdisabled\u001b[0m] \u001b[2m\u001b[97mprint_4btag_yields\u001b[0m(\u001b[2m\u001b[97msignal, bkg, data\u001b[0m)>\n",
      "   11: <[\u001b[2m\u001b[97mdisabled\u001b[0m] \u001b[2m\u001b[97mplot_4b_control\u001b[0m(\u001b[2m\u001b[97msignal, bkg, data\u001b[0m)>\n",
      "   12: <[\u001b[2m\u001b[97mdisabled\u001b[0m] \u001b[2m\u001b[97mprint_3btag_yields\u001b[0m(\u001b[2m\u001b[97msignal, bkg, data\u001b[0m)>\n",
      "   13: <[\u001b[2m\u001b[97mdisabled\u001b[0m] \u001b[2m\u001b[97mplot_3b_control\u001b[0m(\u001b[2m\u001b[97msignal, bkg, data\u001b[0m)>\n",
      "   14: <[\u001b[34mpending \u001b[0m] \u001b[97mblind_data\u001b[0m(\u001b[2m\u001b[97mdata\u001b[0m)>\n",
      "   15: <[\u001b[2m\u001b[97mdisabled\u001b[0m] \u001b[2m\u001b[97mprint_abcd_yields\u001b[0m(\u001b[2m\u001b[97msignal, bkg, data\u001b[0m)>\n",
      "   16: <[\u001b[2m\u001b[97mdisabled\u001b[0m] \u001b[2m\u001b[97mplot_3btag_datamc\u001b[0m(\u001b[2m\u001b[97mdata, bkg\u001b[0m)>\n",
      "   17: <[\u001b[34mpending \u001b[0m] \u001b[97mtrain_bdt\u001b[0m(\u001b[2m\u001b[97mdata\u001b[0m)>\n",
      "   18: <[\u001b[34mpending \u001b[0m] \u001b[97mbuild_bkg_model\u001b[0m(\u001b[2m\u001b[97msignal, data\u001b[0m)>\n",
      "   19: <[\u001b[2m\u001b[97mdisabled\u001b[0m] \u001b[2m\u001b[97mprint_yields\u001b[0m(\u001b[2m\u001b[97msignal, bkg_model\u001b[0m)>\n",
      "   20: <[\u001b[2m\u001b[97mdisabled\u001b[0m] \u001b[2m\u001b[97mplot_limits\u001b[0m(\u001b[2m\u001b[97msignal, bkg_model\u001b[0m)>\n",
      "   21: <[\u001b[34mpending \u001b[0m] \u001b[97mtrain_bdt_classifier\u001b[0m(\u001b[2m\u001b[97msignal, bkg_model\u001b[0m)>\n",
      "   22: <[\u001b[2m\u001b[97mdisabled\u001b[0m] \u001b[2m\u001b[97mplot_bdt_classifier_validation\u001b[0m(\u001b[2m\u001b[97msignal, bkg_model\u001b[0m)>\n",
      "   23: <[\u001b[2m\u001b[97mdisabled\u001b[0m] \u001b[2m\u001b[97mplot_bdt_classifier_limits\u001b[0m(\u001b[2m\u001b[97msignal, bkg_model\u001b[0m)>\n",
      "   24: <[\u001b[2m\u001b[97mdisabled\u001b[0m] \u001b[2m\u001b[97mtrain_vr_bdt\u001b[0m(\u001b[2m\u001b[97mdata\u001b[0m)>\n",
      "   25: <[\u001b[2m\u001b[97mdisabled\u001b[0m] \u001b[2m\u001b[97mbuild_vr_bkg_model\u001b[0m(\u001b[2m\u001b[97mdata\u001b[0m)>\n",
      "   26: <[\u001b[2m\u001b[97mdisabled\u001b[0m] \u001b[2m\u001b[97mplot_vr_model\u001b[0m(\u001b[2m\u001b[97mdata, vr_bkg_model\u001b[0m)>\n",
      "   27: <[\u001b[2m\u001b[97mdisabled\u001b[0m] \u001b[2m\u001b[97mtrain_vr2_bdt\u001b[0m(\u001b[2m\u001b[97mdata\u001b[0m)>\n",
      "   28: <[\u001b[2m\u001b[97mdisabled\u001b[0m] \u001b[2m\u001b[97mbuild_vr2_bkg_model\u001b[0m(\u001b[2m\u001b[97mdata\u001b[0m)>\n",
      "   29: <[\u001b[2m\u001b[97mdisabled\u001b[0m] \u001b[2m\u001b[97mplot_vr2_model\u001b[0m(\u001b[2m\u001b[97mdata, vr2_bkg_model\u001b[0m)>\n",
      ">\n"
     ]
    }
   ],
   "source": [
    "analysis = nanohh4b.Analysis.load(\n",
    "    disable=['plot.*','print.*','.*vr.*','limits']\n",
    "    )\n",
    "analysis.hello()"
   ]
  },
  {
   "cell_type": "code",
   "execution_count": 6,
   "metadata": {},
   "outputs": [
    {
     "name": "stdout",
     "output_type": "stream",
     "text": [
      "0:00:00 [\u001b[33mrunning \u001b[0m] \u001b[97minit\u001b[0m(\u001b[2m\u001b[97m\u001b[0m)\n"
     ]
    },
    {
     "name": "stderr",
     "output_type": "stream",
     "text": [
      "  0%|          | 0/1 [00:00<?, ?it/s]"
     ]
    },
    {
     "name": "stdout",
     "output_type": "stream",
     "text": [
      "Using local path: /cmsuf/data/store/user/ekoenig/root/eosuser.cern.ch/eos/user/e/ekoenig/Ntuples/NanoHH4b/run2/mindiag_2018_0L/mc/ggHH4b_tree.root\n"
     ]
    },
    {
     "name": "stderr",
     "output_type": "stream",
     "text": [
      "100%|██████████| 1/1 [00:01<00:00,  1.08s/it]\n",
      "  0%|          | 0/1 [00:00<?, ?it/s]"
     ]
    },
    {
     "name": "stdout",
     "output_type": "stream",
     "text": [
      "Using local path: /cmsuf/data/store/user/ekoenig/root/eosuser.cern.ch/eos/user/e/ekoenig/Ntuples/NanoHH4b/run2/mindiag_2018_0L/mc/qcd-mg_tree.root\n"
     ]
    },
    {
     "name": "stderr",
     "output_type": "stream",
     "text": [
      "100%|██████████| 1/1 [00:01<00:00,  1.10s/it]\n",
      "  0%|          | 0/1 [00:00<?, ?it/s]"
     ]
    },
    {
     "name": "stdout",
     "output_type": "stream",
     "text": [
      "Using local path: /cmsuf/data/store/user/ekoenig/root/eosuser.cern.ch/eos/user/e/ekoenig/Ntuples/NanoHH4b/run2/mindiag_2018_0L/mc/ttbar-powheg_tree.root\n"
     ]
    },
    {
     "name": "stderr",
     "output_type": "stream",
     "text": [
      "100%|██████████| 1/1 [00:04<00:00,  4.85s/it]\n",
      "  0%|          | 0/1 [00:00<?, ?it/s]"
     ]
    },
    {
     "name": "stdout",
     "output_type": "stream",
     "text": [
      "Using local path: /cmsuf/data/store/user/ekoenig/root/eosuser.cern.ch/eos/user/e/ekoenig/Ntuples/NanoHH4b/run2/mindiag_2018_0L/data/jetht_tree.root\n"
     ]
    },
    {
     "name": "stderr",
     "output_type": "stream",
     "text": [
      "100%|██████████| 1/1 [00:02<00:00,  2.32s/it]\n"
     ]
    },
    {
     "name": "stdout",
     "output_type": "stream",
     "text": [
      "0:00:56 [\u001b[32m  done  \u001b[0m] 0:00:56\n",
      "        [\u001b[33mrunning \u001b[0m] \u001b[97mapply_trigger\u001b[0m(\u001b[2m\u001b[97m\u001b[0m)\n",
      "        [\u001b[32m  done  \u001b[0m] 0:00:00\n",
      "        [\u001b[33mrunning \u001b[0m] \u001b[97mset_bdisc_threshold\u001b[0m(\u001b[2m\u001b[97msignal, bkg, data\u001b[0m)\n",
      "        [\u001b[32m  done  \u001b[0m] 0:00:00\n",
      "        [\u001b[33mrunning \u001b[0m] \u001b[97mload_feynnet\u001b[0m(\u001b[2m\u001b[97msignal, bkg, data\u001b[0m)\n",
      "        [\u001b[32m  done  \u001b[0m] 0:00:00\n",
      "        [\u001b[33mrunning \u001b[0m] \u001b[97mload_spanet\u001b[0m(\u001b[2m\u001b[97msignal, bkg, data\u001b[0m)\n",
      "        [\u001b[32m  done  \u001b[0m] 0:00:00\n",
      "        [\u001b[33mrunning \u001b[0m] \u001b[97mhh_mass_cut\u001b[0m(\u001b[2m\u001b[97msignal, bkg, data\u001b[0m)\n",
      "        [\u001b[32m  done  \u001b[0m] 0:00:00\n",
      "        [\u001b[2m\u001b[97mdisabled\u001b[0m] \u001b[2m\u001b[97mplot_jet_multiplicity\u001b[0m(\u001b[2m\u001b[97msignal, bkg, data\u001b[0m)\n",
      "        [\u001b[2m\u001b[97mdisabled\u001b[0m] \u001b[2m\u001b[97mplot_reco_eff\u001b[0m(\u001b[2m\u001b[97msignal\u001b[0m)\n",
      "        [\u001b[2m\u001b[97mdisabled\u001b[0m] \u001b[2m\u001b[97mplot_higgs\u001b[0m(\u001b[2m\u001b[97msignal, bkg\u001b[0m)\n",
      "        [\u001b[2m\u001b[97mdisabled\u001b[0m] \u001b[2m\u001b[97mplot_region_vars\u001b[0m(\u001b[2m\u001b[97msignal, bkg\u001b[0m)\n",
      "        [\u001b[2m\u001b[97mdisabled\u001b[0m] \u001b[2m\u001b[97mprint_4btag_yields\u001b[0m(\u001b[2m\u001b[97msignal, bkg, data\u001b[0m)\n",
      "        [\u001b[2m\u001b[97mdisabled\u001b[0m] \u001b[2m\u001b[97mplot_4b_control\u001b[0m(\u001b[2m\u001b[97msignal, bkg, data\u001b[0m)\n",
      "        [\u001b[2m\u001b[97mdisabled\u001b[0m] \u001b[2m\u001b[97mprint_3btag_yields\u001b[0m(\u001b[2m\u001b[97msignal, bkg, data\u001b[0m)\n",
      "        [\u001b[2m\u001b[97mdisabled\u001b[0m] \u001b[2m\u001b[97mplot_3b_control\u001b[0m(\u001b[2m\u001b[97msignal, bkg, data\u001b[0m)\n",
      "        [\u001b[33mrunning \u001b[0m] \u001b[97mblind_data\u001b[0m(\u001b[2m\u001b[97mdata\u001b[0m)\n",
      "0:01:27 [\u001b[32m  done  \u001b[0m] 0:00:30\n",
      "        [\u001b[2m\u001b[97mdisabled\u001b[0m] \u001b[2m\u001b[97mprint_abcd_yields\u001b[0m(\u001b[2m\u001b[97msignal, bkg, data\u001b[0m)\n",
      "        [\u001b[2m\u001b[97mdisabled\u001b[0m] \u001b[2m\u001b[97mplot_3btag_datamc\u001b[0m(\u001b[2m\u001b[97mdata, bkg\u001b[0m)\n",
      "        [\u001b[33mrunning \u001b[0m] \u001b[97mtrain_bdt\u001b[0m(\u001b[2m\u001b[97mdata\u001b[0m)\n",
      "           --- ABCD jetht Yields ---            \n",
      "Total: 5.63e+05 (14.86%)                        \n",
      "SR   : 1.41e+05 (3.71%)                         \n",
      "CR   : 4.22e+05 (11.14%)                        \n",
      "------------------------------------------------\n",
      "|           A          |           B           |\n",
      "|       0.0000e+00       |       1.4061e+05        |\n",
      "|        0.00%         |        3.71%          |\n",
      "------------------------------------------------\n",
      "|           C          |           D           |\n",
      "|       5.2472e+04       |       3.6944e+05        |\n",
      "|        1.39%         |        9.76%          |\n",
      "------------------------------------------------\n",
      "... fetching features\n",
      "... splitting features\n",
      "... calculating k factor\n",
      "... fitting reweighter\n",
      "--- ABCD Results ---\n",
      "k = 1.420e-01\n",
      " (k*b)/a-1 = inf%\n",
      "BDT(b)/a-1 = inf%\n",
      "\n",
      "0:06:15 [\u001b[32m  done  \u001b[0m] 0:04:48\n",
      "        [\u001b[33mrunning \u001b[0m] \u001b[97mbuild_bkg_model\u001b[0m(\u001b[2m\u001b[97msignal, data\u001b[0m)\n",
      "0:06:19 [\u001b[32m  done  \u001b[0m] 0:00:03\n",
      "        [\u001b[2m\u001b[97mdisabled\u001b[0m] \u001b[2m\u001b[97mprint_yields\u001b[0m(\u001b[2m\u001b[97msignal, bkg_model\u001b[0m)\n",
      "        [\u001b[2m\u001b[97mdisabled\u001b[0m] \u001b[2m\u001b[97mplot_limits\u001b[0m(\u001b[2m\u001b[97msignal, bkg_model\u001b[0m)\n",
      "        [\u001b[33mrunning \u001b[0m] \u001b[97mtrain_bdt_classifier\u001b[0m(\u001b[2m\u001b[97msignal, bkg_model\u001b[0m)\n",
      "--- BDT Classifier Results ---\n",
      "AUROC = 0.848\n",
      "0:12:42 [\u001b[32m  done  \u001b[0m] 0:06:23\n",
      "        [\u001b[2m\u001b[97mdisabled\u001b[0m] \u001b[2m\u001b[97mplot_bdt_classifier_validation\u001b[0m(\u001b[2m\u001b[97msignal, bkg_model\u001b[0m)\n",
      "        [\u001b[2m\u001b[97mdisabled\u001b[0m] \u001b[2m\u001b[97mplot_bdt_classifier_limits\u001b[0m(\u001b[2m\u001b[97msignal, bkg_model\u001b[0m)\n",
      "        [\u001b[2m\u001b[97mdisabled\u001b[0m] \u001b[2m\u001b[97mtrain_vr_bdt\u001b[0m(\u001b[2m\u001b[97mdata\u001b[0m)\n",
      "        [\u001b[2m\u001b[97mdisabled\u001b[0m] \u001b[2m\u001b[97mbuild_vr_bkg_model\u001b[0m(\u001b[2m\u001b[97mdata\u001b[0m)\n",
      "        [\u001b[2m\u001b[97mdisabled\u001b[0m] \u001b[2m\u001b[97mplot_vr_model\u001b[0m(\u001b[2m\u001b[97mdata, vr_bkg_model\u001b[0m)\n",
      "        [\u001b[2m\u001b[97mdisabled\u001b[0m] \u001b[2m\u001b[97mtrain_vr2_bdt\u001b[0m(\u001b[2m\u001b[97mdata\u001b[0m)\n",
      "        [\u001b[2m\u001b[97mdisabled\u001b[0m] \u001b[2m\u001b[97mbuild_vr2_bkg_model\u001b[0m(\u001b[2m\u001b[97mdata\u001b[0m)\n",
      "        [\u001b[2m\u001b[97mdisabled\u001b[0m] \u001b[2m\u001b[97mplot_vr2_model\u001b[0m(\u001b[2m\u001b[97mdata, vr2_bkg_model\u001b[0m)\n"
     ]
    }
   ],
   "source": [
    "analysis.run()"
   ]
  },
  {
   "cell_type": "code",
   "execution_count": 7,
   "metadata": {},
   "outputs": [],
   "source": [
    "signal = analysis.signal\n",
    "bkg = analysis.bkg\n",
    "data = analysis.data\n",
    "bkg_model = analysis.bkg_model"
   ]
  },
  {
   "cell_type": "code",
   "execution_count": 8,
   "metadata": {},
   "outputs": [],
   "source": [
    "def effective_histogram(tree, variable, bins=None, lumi=2018):\n",
    "    s = tree.scale\n",
    "    if not tree.is_data:\n",
    "        s = s * lumiMap[lumi][0]\n",
    "    x = tree[variable]\n",
    "    h_sumw, h_sumw2 = HistoList.from_arrays([x, x], bins=bins, weights=[s, s*s])\n",
    "    d_eff = Ratio(h_sumw, h_sumw2, label=tree.sample)\n",
    "    return d_eff"
   ]
  },
  {
   "cell_type": "code",
   "execution_count": 16,
   "metadata": {},
   "outputs": [
    {
     "data": {
      "text/plain": [
       "(<Figure size 650x650 with 1 Axes>, <Axes: ylabel='Sum($w$) / Sum($w^2$)'>)"
      ]
     },
     "execution_count": 16,
     "metadata": {},
     "output_type": "execute_result"
    },
    {
     "data": {
      "image/png": "[encoded data removed]",
      "text/plain": [
       "<Figure size 650x650 with 1 Axes>"
      ]
     },
     "metadata": {},
     "output_type": "display_data"
    }
   ],
   "source": [
    "# plot_graphs((signal+bkg_model+bkg).apply(lambda t :effective_histogram(t, 'dHH_HH_regmass', bins=(200,1800,30))), log=True, legend=True)\n",
    "plot_graphs((bkg_model).apply(lambda t :effective_histogram(t, 'bdt_score', bins=(0,1,31))), log=False, legend=True, ylabel='Sum($w$) / Sum($w^2$)', grid=True)\n"
   ]
  },
  {
   "cell_type": "code",
   "execution_count": 30,
   "metadata": {},
   "outputs": [
    {
     "name": "stderr",
     "output_type": "stream",
     "text": [
      "100%|██████████| 1/1 [00:03<00:00,  3.98s/it]\n"
     ]
    },
    {
     "data": {
      "image/png": "[encoded data removed]",
      "text/plain": [
       "<Figure size 480x400 with 1 Axes>"
      ]
     },
     "metadata": {},
     "output_type": "display_data"
    }
   ],
   "source": [
    "study.quick(\n",
    "    signal+bkg_model,\n",
    "    varlist=['bdt_score'],\n",
    "    binlist=[(0.8,1.0,2)],\n",
    "    plot_scale=[100],\n",
    "    limits=True,legend=True,\n",
    ")"
   ]
  },
  {
   "cell_type": "code",
   "execution_count": null,
   "metadata": {},
   "outputs": [],
   "source": []
  }
 ],
 "metadata": {
  "kernelspec": {
   "display_name": "Python 3 (ipykernel)",
   "language": "python",
   "name": "python3"
  },
  "orig_nbformat": 4
 },
 "nbformat": 4,
 "nbformat_minor": 2
}

{
 "cells": [
  {
   "cell_type": "code",
   "execution_count": 1,
   "metadata": {},
   "outputs": [
    {
     "name": "stdout",
     "output_type": "stream",
     "text": [
      "c0906a-s11.ufhpc\n"
     ]
    }
   ],
   "source": [
    "!hostname"
   ]
  },
  {
   "cell_type": "code",
   "execution_count": 2,
   "metadata": {},
   "outputs": [],
   "source": [
    "%load_ext autoreload\n",
    "%autoreload 2\n",
    "\n",
    "from utils import *"
   ]
  },
  {
   "cell_type": "code",
   "execution_count": 3,
   "metadata": {},
   "outputs": [],
   "source": [
    "import scripts.notebooks.analysis.nanohh4b as nanohh4b"
   ]
  },
  {
   "cell_type": "code",
   "execution_count": 4,
   "metadata": {},
   "outputs": [
    {
     "name": "stdout",
     "output_type": "stream",
     "text": [
      "0:00:00 [\u001b[33mrunning \u001b[0m] \u001b[97minit\u001b[0m(\u001b[2m\u001b[97m\u001b[0m)\n"
     ]
    },
    {
     "name": "stderr",
     "output_type": "stream",
     "text": [
      "  0%|          | 0/1 [00:00<?, ?it/s]"
     ]
    },
    {
     "name": "stdout",
     "output_type": "stream",
     "text": [
      "Using local path: /cmsuf/data/store/user/ekoenig/root/eosuser.cern.ch/eos/user/e/ekoenig/Ntuples/NanoHH4b/run2/mindiag_2018_0L/mc/ggHH4b_tree.root\n"
     ]
    },
    {
     "name": "stderr",
     "output_type": "stream",
     "text": [
      "100%|██████████| 1/1 [00:01<00:00,  1.67s/it]\n",
      "  0%|          | 0/1 [00:00<?, ?it/s]"
     ]
    },
    {
     "name": "stdout",
     "output_type": "stream",
     "text": [
      "Using local path: /cmsuf/data/store/user/ekoenig/root/eosuser.cern.ch/eos/user/e/ekoenig/Ntuples/NanoHH4b/run2/mindiag_2018_0L/data/jetht_tree.root\n"
     ]
    },
    {
     "name": "stderr",
     "output_type": "stream",
     "text": [
      "100%|██████████| 1/1 [00:02<00:00,  2.24s/it]\n"
     ]
    },
    {
     "name": "stdout",
     "output_type": "stream",
     "text": [
      "0:00:09 [\u001b[32m  done  \u001b[0m] 0:00:09\n",
      "        [\u001b[33mrunning \u001b[0m] \u001b[97mapply_trigger\u001b[0m(\u001b[2m\u001b[97m\u001b[0m)\n",
      "        [\u001b[32m  done  \u001b[0m] 0:00:00\n",
      "        [\u001b[33mrunning \u001b[0m] \u001b[97mset_bdisc_threshold\u001b[0m(\u001b[2m\u001b[97msignal, bkg, data\u001b[0m)\n",
      "        [\u001b[32m  done  \u001b[0m] 0:00:00\n",
      "        [\u001b[33mrunning \u001b[0m] \u001b[97mload_feynnet\u001b[0m(\u001b[2m\u001b[97msignal, bkg, data\u001b[0m)\n"
     ]
    },
    {
     "name": "stderr",
     "output_type": "stream",
     "text": [
      "predicting: 100%|██████████| 27/27 [00:24<00:00,  1.09it/s]\n",
      "predicting: 100%|██████████| 761/761 [00:19<00:00, 39.62it/s]/it]\n",
      "f_evaluate_feynnet: 100%|██████████| 2/2 [01:52<00:00, 56.16s/it]\n"
     ]
    },
    {
     "name": "stdout",
     "output_type": "stream",
     "text": [
      "0:02:02 [\u001b[32m  done  \u001b[0m] 0:01:52\n",
      "        [\u001b[33mrunning \u001b[0m] \u001b[97mload_spanet\u001b[0m(\u001b[2m\u001b[97msignal, bkg, data\u001b[0m)\n",
      "        [\u001b[32m  done  \u001b[0m] 0:00:00\n",
      "        [\u001b[33mrunning \u001b[0m] \u001b[97mhh_mass_cut\u001b[0m(\u001b[2m\u001b[97msignal, bkg, data\u001b[0m)\n",
      "        [\u001b[32m  done  \u001b[0m] 0:00:00\n",
      "        [\u001b[2m\u001b[97mdisabled\u001b[0m] \u001b[2m\u001b[97mplot_jet_multiplicity\u001b[0m(\u001b[2m\u001b[97msignal, bkg, data\u001b[0m)\n",
      "        [\u001b[2m\u001b[97mdisabled\u001b[0m] \u001b[2m\u001b[97mplot_reco_eff\u001b[0m(\u001b[2m\u001b[97msignal\u001b[0m)\n",
      "        [\u001b[2m\u001b[97mdisabled\u001b[0m] \u001b[2m\u001b[97mplot_higgs\u001b[0m(\u001b[2m\u001b[97msignal, bkg\u001b[0m)\n",
      "        [\u001b[2m\u001b[97mdisabled\u001b[0m] \u001b[2m\u001b[97mplot_region_vars\u001b[0m(\u001b[2m\u001b[97msignal, bkg\u001b[0m)\n",
      "        [\u001b[2m\u001b[97mdisabled\u001b[0m] \u001b[2m\u001b[97mprint_4btag_yields\u001b[0m(\u001b[2m\u001b[97msignal, bkg, data\u001b[0m)\n",
      "        [\u001b[2m\u001b[97mdisabled\u001b[0m] \u001b[2m\u001b[97mplot_4b_control\u001b[0m(\u001b[2m\u001b[97msignal, bkg, data\u001b[0m)\n",
      "        [\u001b[2m\u001b[97mdisabled\u001b[0m] \u001b[2m\u001b[97mprint_3btag_yields\u001b[0m(\u001b[2m\u001b[97msignal, bkg, data\u001b[0m)\n",
      "        [\u001b[2m\u001b[97mdisabled\u001b[0m] \u001b[2m\u001b[97mplot_3b_control\u001b[0m(\u001b[2m\u001b[97msignal, bkg, data\u001b[0m)\n",
      "        [\u001b[33mrunning \u001b[0m] \u001b[97mblind_data\u001b[0m(\u001b[2m\u001b[97mdata\u001b[0m)\n",
      "0:02:06 [\u001b[32m  done  \u001b[0m] 0:00:04\n",
      "        [\u001b[2m\u001b[97mdisabled\u001b[0m] \u001b[2m\u001b[97mprint_abcd_yields\u001b[0m(\u001b[2m\u001b[97msignal, bkg, data\u001b[0m)\n",
      "        [\u001b[2m\u001b[97mdisabled\u001b[0m] \u001b[2m\u001b[97mplot_3btag_datamc\u001b[0m(\u001b[2m\u001b[97mdata, bkg\u001b[0m)\n",
      "        [\u001b[33mrunning \u001b[0m] \u001b[97mtrain_bdt\u001b[0m(\u001b[2m\u001b[97mdata\u001b[0m)\n",
      "Loading reweighter from /home/ekoenig/analysis/studies/models/nanoHH4b/private/feynnet/medium/bdt_reweighter.pkl\n",
      "           --- ABCD jetht Yields ---            \n",
      "Total: 2.55e+05 (6.70%)                         \n",
      "SR   : 6.43e+04 (1.69%)                         \n",
      "CR   : 1.90e+05 (5.01%)                         \n",
      "------------------------------------------------\n",
      "|           A          |           B           |\n",
      "|       0.0000e+00       |       6.4292e+04        |\n",
      "|        0.00%         |        1.69%          |\n",
      "------------------------------------------------\n",
      "|           C          |           D           |\n",
      "|       1.4486e+04       |       1.7601e+05        |\n",
      "|        0.38%         |        4.63%          |\n",
      "------------------------------------------------\n",
      "--- ABCD Results ---\n",
      "k = 8.230e-02\n",
      " (k*b)/a-1 = inf%\n",
      "BDT(b)/a-1 = inf%\n",
      "\n",
      "0:02:40 [\u001b[32m  done  \u001b[0m] 0:00:34\n",
      "        [\u001b[33mrunning \u001b[0m] \u001b[97mbuild_bkg_model\u001b[0m(\u001b[2m\u001b[97msignal, bkg, data\u001b[0m)\n",
      "0:02:43 [\u001b[32m  done  \u001b[0m] 0:00:02\n",
      "        [\u001b[2m\u001b[97mdisabled\u001b[0m] \u001b[2m\u001b[97mprint_sr_yields\u001b[0m(\u001b[2m\u001b[97msignal, bkg_model\u001b[0m)\n",
      "        [\u001b[2m\u001b[97mdisabled\u001b[0m] \u001b[2m\u001b[97mplot_limits\u001b[0m(\u001b[2m\u001b[97msignal, bkg_model\u001b[0m)\n",
      "        [\u001b[2m\u001b[97mdisabled\u001b[0m] \u001b[2m\u001b[97mtrain_bdt_classifier\u001b[0m(\u001b[2m\u001b[97msignal, bkg_model\u001b[0m)\n",
      "        [\u001b[2m\u001b[97mdisabled\u001b[0m] \u001b[2m\u001b[97mplot_bdt_classifier_validation\u001b[0m(\u001b[2m\u001b[97msignal, bkg_model\u001b[0m)\n",
      "        [\u001b[2m\u001b[97mdisabled\u001b[0m] \u001b[2m\u001b[97mplot_bdt_classifier_limits\u001b[0m(\u001b[2m\u001b[97msignal, bkg_model\u001b[0m)\n",
      "        [\u001b[2m\u001b[97mdisabled\u001b[0m] \u001b[2m\u001b[97mtrain_vr_bdt\u001b[0m(\u001b[2m\u001b[97mdata\u001b[0m)\n",
      "        [\u001b[2m\u001b[97mdisabled\u001b[0m] \u001b[2m\u001b[97mbuild_vr_bkg_model\u001b[0m(\u001b[2m\u001b[97mdata\u001b[0m)\n",
      "        [\u001b[2m\u001b[97mdisabled\u001b[0m] \u001b[2m\u001b[97mplot_vr_model\u001b[0m(\u001b[2m\u001b[97mdata, vr_bkg_model\u001b[0m)\n",
      "        [\u001b[2m\u001b[97mdisabled\u001b[0m] \u001b[2m\u001b[97mtrain_vr2_bdt\u001b[0m(\u001b[2m\u001b[97mdata\u001b[0m)\n",
      "        [\u001b[2m\u001b[97mdisabled\u001b[0m] \u001b[2m\u001b[97mbuild_vr2_bkg_model\u001b[0m(\u001b[2m\u001b[97mdata\u001b[0m)\n",
      "        [\u001b[2m\u001b[97mdisabled\u001b[0m] \u001b[2m\u001b[97mplot_vr2_model\u001b[0m(\u001b[2m\u001b[97mdata, vr2_bkg_model\u001b[0m)\n"
     ]
    }
   ],
   "source": [
    "analysis = nanohh4b.Analysis.load(\n",
    "    model='/home/ekoenig/analysis/weaver-multiH/models/feynnet_lightning/nanoHH4b/sixjet/training-data-scan/lightning_logs/version_11881857',\n",
    "    no_bkg=True,\n",
    "    only=['build_bkg_model']\n",
    "    )\n",
    "analysis.run()"
   ]
  },
  {
   "cell_type": "code",
   "execution_count": null,
   "metadata": {},
   "outputs": [],
   "source": []
  },
  {
   "cell_type": "code",
   "execution_count": 7,
   "metadata": {},
   "outputs": [],
   "source": [
    "import torch\n",
    "\n",
    "class Dataset(torch.utils.data.Dataset):\n",
    "\n",
    "    @classmethod\n",
    "    def load(cls, bkg_x, bkg_w, sig_x, sig_w):\n",
    "        x = np.concatenate([bkg_x, sig_x])\n",
    "        y = np.concatenate([np.zeros(len(bkg_x)), np.ones(len(sig_x))])\n",
    "        w = np.concatenate([bkg_w, sig_w])\n",
    "        return cls(x, y, w)\n",
    "\n",
    "    def __init__(self, x, y, w):\n",
    "        self.x = x\n",
    "        self.y = y\n",
    "        self.w = w\n",
    "        self.n = len(self.x)\n",
    "\n",
    "        self.indices = np.arange(self.n)\n",
    "        self.balance_classes()\n",
    "        self.sample()\n",
    "\n",
    "    def negative_weights(self, w):\n",
    "        sumw = w.sum()\n",
    "        abs_sumw = np.abs(w).sum()\n",
    "        return np.abs(w) * (sumw / abs_sumw)\n",
    "\n",
    "    def balance_classes(self):\n",
    "        self.w[self.y == 0] = self.negative_weights(self.w[self.y == 0])\n",
    "        self.w[self.y == 1] = self.negative_weights(self.w[self.y == 1])\n",
    "\n",
    "        bkg_sumw = self.w[self.y == 0].sum()\n",
    "        sig_sumw = self.w[self.y == 1].sum()\n",
    "\n",
    "        self.w = np.where( self.y == 0, self.w / bkg_sumw, self.w / sig_sumw )\n",
    "        self.w = self.w / self.w.sum()\n",
    "\n",
    "        print('bkg sumw:', self.w[self.y == 0].sum())\n",
    "        print('sig sumw:', self.w[self.y == 1].sum())\n",
    "\n",
    "    def sample(self, n=None):\n",
    "        if n is None: n = self.n\n",
    "        self.indices = np.random.choice(self.n, size=n, replace=True, p=self.w)\n",
    "\n",
    "    def __getitem__(self, i):\n",
    "        return self.x[self.indices[i]], self.y[self.indices[i]]\n",
    "\n",
    "    def __len__(self):\n",
    "        return len(self.indices)\n",
    "\n",
    "class KFoldDataset(torch.utils.data.Dataset):\n",
    "    def __init__(self, bkg_x, bkg_w, sig_x, sig_w, k=2, stage='training'):\n",
    "        self.kfolds = np.arange(k)\n",
    "\n",
    "        self.x = np.concatenate([bkg_x, sig_x])\n",
    "        self.w = np.concatenate([bkg_w, sig_w])\n",
    "        self.y = np.concatenate([np.zeros(len(bkg_x)), np.ones(len(sig_x))])\n",
    "        self.k = np.concatenate([np.arange(len(bkg_x)) % k, np.arange(len(sig_x)) % k])\n",
    "\n",
    "        if stage == 'training':\n",
    "            self.datasets = [ Dataset(self.x[self.k != k], self.y[self.k != k], self.w[self.k != k]) for k in self.kfolds ]\n",
    "        else:\n",
    "            self.datasets = [ Dataset(self.x[self.k == k], self.y[self.k == k], self.w[self.k == k]) for k in self.kfolds ]\n",
    "\n",
    "    def __getitem__(self, i):\n",
    "        return [ d[i] for d in self.datasets ]\n",
    "    \n",
    "    def __len__(self):\n",
    "        return min([ len(d) for d in self.datasets ])\n"
   ]
  },
  {
   "cell_type": "code",
   "execution_count": 8,
   "metadata": {},
   "outputs": [],
   "source": [
    "class DNNClassifier(torch.nn.Module):\n",
    "    def __init__(self, nfts, layers, ncls):\n",
    "        super().__init__()\n",
    "\n",
    "        self.fts_norm = torch.nn.BatchNorm1d(nfts, affine=False)\n",
    "\n",
    "        self.layers = torch.nn.ModuleList()\n",
    "        for i, (nin, nout) in enumerate(zip([nfts] + layers[:-1], layers)):\n",
    "            self.layers.append(torch.nn.Linear(nin, nout))\n",
    "            self.layers.append(torch.nn.Dropout(0.2))\n",
    "            self.layers.append(torch.nn.ReLU())\n",
    "\n",
    "        self.layers.append(torch.nn.Linear(layers[-1], 1))\n",
    "\n",
    "        # self.layers.append(torch.nn.Softmax(dim=1))\n",
    "        self.layers.append(torch.nn.Sigmoid())\n",
    "\n",
    "    def forward(self, x):\n",
    "        x = self.fts_norm(x)\n",
    "        for layer in self.layers:\n",
    "            x = layer(x)\n",
    "        return x"
   ]
  },
  {
   "cell_type": "code",
   "execution_count": 9,
   "metadata": {},
   "outputs": [],
   "source": [
    "import pytorch_lightning as pl\n",
    "import torchmetrics\n",
    "class KFoldClassifier(pl.LightningModule):\n",
    "    def __init__(self, dataset, layers):\n",
    "        super().__init__()\n",
    "        self.kfolds = dataset.kfolds\n",
    "        self.layers = layers\n",
    "\n",
    "        nfts = dataset.x.shape[1]\n",
    "        ncls = len(np.unique(dataset.y))\n",
    "        self.classifiers = torch.nn.ModuleList([DNNClassifier(nfts, layers, ncls) for _ in self.kfolds ])\n",
    "\n",
    "        self.auroc = torchmetrics.AUROC('binary')\n",
    "\n",
    "        self.automatic_optimization = False\n",
    "\n",
    "    def forward(self, x, k):\n",
    "        return self.classifiers[k](x).squeeze()\n",
    "    \n",
    "    def predict_tree(self, tree):\n",
    "        x = torch.from_numpy(ak.to_numpy( np.stack( ak.unzip(tree[nanohh4b.bdt_features]), axis=1 ) ))\n",
    "        x = x.to(device=self.device)\n",
    "\n",
    "        k = np.arange(len(x)) % len(self.kfolds)\n",
    "\n",
    "        y_hat = torch.zeros(len(x))\n",
    "        with torch.no_grad():\n",
    "            for i in self.kfolds:\n",
    "                y_hat[k == i] = self(x[k == i], i)\n",
    "\n",
    "        return y_hat.cpu().numpy()\n",
    "\n",
    "\n",
    "    def training_step(self, batch, batch_idx):\n",
    "        optimizers = self.optimizers()\n",
    "\n",
    "        total_loss = 0\n",
    "        for i, (x, y) in enumerate(batch):\n",
    "            opt = optimizers[i]\n",
    "            opt.zero_grad()\n",
    "\n",
    "            y_hat = self(x, i)\n",
    "\n",
    "            # loss = torch.nn.functional.cross_entropy(y_hat, y.long())\n",
    "            loss = torch.nn.functional.binary_cross_entropy(y_hat, y.float())\n",
    "\n",
    "            self.log(f'train_loss_{i}', loss)\n",
    "\n",
    "            self.manual_backward(loss)\n",
    "            opt.step()\n",
    "\n",
    "            total_loss += loss\n",
    "        self.log('train_loss', total_loss)\n",
    "        return total_loss\n",
    "\n",
    "    def validation_step(self, batch, batch_idx):\n",
    "        total_loss = 0\n",
    "        for i, (x, y) in enumerate(batch):\n",
    "            y_hat = self(x, i)\n",
    "\n",
    "            auroc = self.auroc(y_hat, y.long())\n",
    "            self.log(f'val_auroc_{i}', auroc, prog_bar=True)\n",
    "\n",
    "            loss = torch.nn.functional.binary_cross_entropy(y_hat, y.float())\n",
    "            self.log(f'val_loss_{i}', loss)\n",
    "            total_loss += loss\n",
    "        self.log('val_loss', total_loss)\n",
    "        return total_loss\n",
    "\n",
    "    def configure_optimizers(self):\n",
    "        return [ torch.optim.Adam(c.parameters(), lr=1e-3) for c in self.classifiers ]\n"
   ]
  },
  {
   "cell_type": "code",
   "execution_count": 10,
   "metadata": {},
   "outputs": [
    {
     "name": "stdout",
     "output_type": "stream",
     "text": [
      "bkg sumw: 0.5000000000000001\n",
      "sig sumw: 0.5\n",
      "bkg sumw: 0.49999999999999994\n",
      "sig sumw: 0.5\n",
      "bkg sumw: 0.49999999999999994\n",
      "sig sumw: 0.5\n",
      "bkg sumw: 0.5000000000000001\n",
      "sig sumw: 0.5\n"
     ]
    }
   ],
   "source": [
    "training_dataset = KFoldDataset(bkg_model_x, bkg_model_w, signal_x, signal_w, k=2)\n",
    "validation_dataset = KFoldDataset(bkg_model_x, bkg_model_w, signal_x, signal_w, k=2, stage='validation')"
   ]
  },
  {
   "cell_type": "code",
   "execution_count": 11,
   "metadata": {},
   "outputs": [],
   "source": [
    "dnn = KFoldClassifier(training_dataset, [32, 16])"
   ]
  },
  {
   "cell_type": "code",
   "execution_count": 12,
   "metadata": {},
   "outputs": [],
   "source": [
    "train_loader = torch.utils.data.DataLoader(training_dataset, batch_size=1024, num_workers=4, pin_memory=True)\n",
    "valid_loader = torch.utils.data.DataLoader(validation_dataset, batch_size=1024, num_workers=4, pin_memory=True)"
   ]
  },
  {
   "cell_type": "code",
   "execution_count": 13,
   "metadata": {},
   "outputs": [
    {
     "name": "stderr",
     "output_type": "stream",
     "text": [
      "GPU available: True (cuda), used: True\n",
      "TPU available: False, using: 0 TPU cores\n",
      "IPU available: False, using: 0 IPUs\n",
      "HPU available: False, using: 0 HPUs\n",
      "You are using a CUDA device ('NVIDIA A100-SXM4-80GB') that has Tensor Cores. To properly utilize them, you should set `torch.set_float32_matmul_precision('medium' | 'high')` which will trade-off precision for performance. For more details, read https://pytorch.org/docs/stable/generated/torch.set_float32_matmul_precision.html#torch.set_float32_matmul_precision\n",
      "LOCAL_RANK: 0 - CUDA_VISIBLE_DEVICES: [7]\n",
      "\n",
      "  | Name        | Type        | Params\n",
      "--------------------------------------------\n",
      "0 | classifiers | ModuleList  | 2.4 K \n",
      "1 | auroc       | BinaryAUROC | 0     \n",
      "--------------------------------------------\n",
      "2.4 K     Trainable params\n",
      "0         Non-trainable params\n",
      "2.4 K     Total params\n",
      "0.010     Total estimated model params size (MB)\n"
     ]
    },
    {
     "data": {
      "application/vnd.jupyter.widget-view+json": {
       "model_id": "97ed04a0467445d7b5a24084ad6c1481",
       "version_major": 2,
       "version_minor": 0
      },
      "text/plain": [
       "Sanity Checking: 0it [00:00, ?it/s]"
      ]
     },
     "metadata": {},
     "output_type": "display_data"
    },
    {
     "data": {
      "application/vnd.jupyter.widget-view+json": {
       "model_id": "e1bdfe33d6de48788f63da2cbb3c6e6c",
       "version_major": 2,
       "version_minor": 0
      },
      "text/plain": [
       "Training: 0it [00:00, ?it/s]"
      ]
     },
     "metadata": {},
     "output_type": "display_data"
    },
    {
     "data": {
      "application/vnd.jupyter.widget-view+json": {
       "model_id": "6a60138d72364691b6a1b2084cb55d38",
       "version_major": 2,
       "version_minor": 0
      },
      "text/plain": [
       "Validation: 0it [00:00, ?it/s]"
      ]
     },
     "metadata": {},
     "output_type": "display_data"
    },
    {
     "data": {
      "application/vnd.jupyter.widget-view+json": {
       "model_id": "94f78171720247fbac0fdd2e0b19e579",
       "version_major": 2,
       "version_minor": 0
      },
      "text/plain": [
       "Validation: 0it [00:00, ?it/s]"
      ]
     },
     "metadata": {},
     "output_type": "display_data"
    },
    {
     "data": {
      "application/vnd.jupyter.widget-view+json": {
       "model_id": "358c9ae7601a45c2a8029f84bcb7f355",
       "version_major": 2,
       "version_minor": 0
      },
      "text/plain": [
       "Validation: 0it [00:00, ?it/s]"
      ]
     },
     "metadata": {},
     "output_type": "display_data"
    },
    {
     "data": {
      "application/vnd.jupyter.widget-view+json": {
       "model_id": "c29ee6dc81d8470c8622eced44e1eb50",
       "version_major": 2,
       "version_minor": 0
      },
      "text/plain": [
       "Validation: 0it [00:00, ?it/s]"
      ]
     },
     "metadata": {},
     "output_type": "display_data"
    },
    {
     "data": {
      "application/vnd.jupyter.widget-view+json": {
       "model_id": "f4fcd4afba7e4a1db5616080bde2d93a",
       "version_major": 2,
       "version_minor": 0
      },
      "text/plain": [
       "Validation: 0it [00:00, ?it/s]"
      ]
     },
     "metadata": {},
     "output_type": "display_data"
    },
    {
     "data": {
      "application/vnd.jupyter.widget-view+json": {
       "model_id": "8f7ce08a6ce44d498ce371b1eb258694",
       "version_major": 2,
       "version_minor": 0
      },
      "text/plain": [
       "Validation: 0it [00:00, ?it/s]"
      ]
     },
     "metadata": {},
     "output_type": "display_data"
    },
    {
     "data": {
      "application/vnd.jupyter.widget-view+json": {
       "model_id": "3e7ba98d5d2a4155b9771c7da95ea5a8",
       "version_major": 2,
       "version_minor": 0
      },
      "text/plain": [
       "Validation: 0it [00:00, ?it/s]"
      ]
     },
     "metadata": {},
     "output_type": "display_data"
    },
    {
     "data": {
      "application/vnd.jupyter.widget-view+json": {
       "model_id": "c3a0f2cd5d07473aa0771779bc498604",
       "version_major": 2,
       "version_minor": 0
      },
      "text/plain": [
       "Validation: 0it [00:00, ?it/s]"
      ]
     },
     "metadata": {},
     "output_type": "display_data"
    },
    {
     "data": {
      "application/vnd.jupyter.widget-view+json": {
       "model_id": "54344029cf1242dcb7d653fa82b68b2a",
       "version_major": 2,
       "version_minor": 0
      },
      "text/plain": [
       "Validation: 0it [00:00, ?it/s]"
      ]
     },
     "metadata": {},
     "output_type": "display_data"
    },
    {
     "data": {
      "application/vnd.jupyter.widget-view+json": {
       "model_id": "df96ed3e84c84f78b403261aed36c35b",
       "version_major": 2,
       "version_minor": 0
      },
      "text/plain": [
       "Validation: 0it [00:00, ?it/s]"
      ]
     },
     "metadata": {},
     "output_type": "display_data"
    },
    {
     "data": {
      "application/vnd.jupyter.widget-view+json": {
       "model_id": "dedab69a288d46849e6491116215b8b9",
       "version_major": 2,
       "version_minor": 0
      },
      "text/plain": [
       "Validation: 0it [00:00, ?it/s]"
      ]
     },
     "metadata": {},
     "output_type": "display_data"
    },
    {
     "data": {
      "application/vnd.jupyter.widget-view+json": {
       "model_id": "340681b559084dd8b91c5715a003b0c9",
       "version_major": 2,
       "version_minor": 0
      },
      "text/plain": [
       "Validation: 0it [00:00, ?it/s]"
      ]
     },
     "metadata": {},
     "output_type": "display_data"
    },
    {
     "data": {
      "application/vnd.jupyter.widget-view+json": {
       "model_id": "f85eb7ca806f466da1a94b073c38fc15",
       "version_major": 2,
       "version_minor": 0
      },
      "text/plain": [
       "Validation: 0it [00:00, ?it/s]"
      ]
     },
     "metadata": {},
     "output_type": "display_data"
    },
    {
     "data": {
      "application/vnd.jupyter.widget-view+json": {
       "model_id": "a083d203ce7a45dfab1cd827c1e426c8",
       "version_major": 2,
       "version_minor": 0
      },
      "text/plain": [
       "Validation: 0it [00:00, ?it/s]"
      ]
     },
     "metadata": {},
     "output_type": "display_data"
    },
    {
     "data": {
      "application/vnd.jupyter.widget-view+json": {
       "model_id": "3ce23d04e2364e7fbb8c702c18e0da4b",
       "version_major": 2,
       "version_minor": 0
      },
      "text/plain": [
       "Validation: 0it [00:00, ?it/s]"
      ]
     },
     "metadata": {},
     "output_type": "display_data"
    },
    {
     "data": {
      "application/vnd.jupyter.widget-view+json": {
       "model_id": "da20a7801f5f4d189fde1c4c91b41551",
       "version_major": 2,
       "version_minor": 0
      },
      "text/plain": [
       "Validation: 0it [00:00, ?it/s]"
      ]
     },
     "metadata": {},
     "output_type": "display_data"
    },
    {
     "data": {
      "application/vnd.jupyter.widget-view+json": {
       "model_id": "b4d95010fd664d48b892c5576a0b3779",
       "version_major": 2,
       "version_minor": 0
      },
      "text/plain": [
       "Validation: 0it [00:00, ?it/s]"
      ]
     },
     "metadata": {},
     "output_type": "display_data"
    },
    {
     "data": {
      "application/vnd.jupyter.widget-view+json": {
       "model_id": "6322b1631982446d8e10eeb4af5d5f71",
       "version_major": 2,
       "version_minor": 0
      },
      "text/plain": [
       "Validation: 0it [00:00, ?it/s]"
      ]
     },
     "metadata": {},
     "output_type": "display_data"
    },
    {
     "data": {
      "application/vnd.jupyter.widget-view+json": {
       "model_id": "e98de1ab63ce438eb7a409a0c8b29c95",
       "version_major": 2,
       "version_minor": 0
      },
      "text/plain": [
       "Validation: 0it [00:00, ?it/s]"
      ]
     },
     "metadata": {},
     "output_type": "display_data"
    },
    {
     "data": {
      "application/vnd.jupyter.widget-view+json": {
       "model_id": "7b5fa5239a3a48658a2df25fdfb122a2",
       "version_major": 2,
       "version_minor": 0
      },
      "text/plain": [
       "Validation: 0it [00:00, ?it/s]"
      ]
     },
     "metadata": {},
     "output_type": "display_data"
    },
    {
     "data": {
      "application/vnd.jupyter.widget-view+json": {
       "model_id": "7a287e219c054be7b1bcad076184e8b7",
       "version_major": 2,
       "version_minor": 0
      },
      "text/plain": [
       "Validation: 0it [00:00, ?it/s]"
      ]
     },
     "metadata": {},
     "output_type": "display_data"
    },
    {
     "data": {
      "application/vnd.jupyter.widget-view+json": {
       "model_id": "1a825229140c4c08ab8b00975487df78",
       "version_major": 2,
       "version_minor": 0
      },
      "text/plain": [
       "Validation: 0it [00:00, ?it/s]"
      ]
     },
     "metadata": {},
     "output_type": "display_data"
    },
    {
     "data": {
      "application/vnd.jupyter.widget-view+json": {
       "model_id": "f9af50d4cd564a26b785337fe37455dd",
       "version_major": 2,
       "version_minor": 0
      },
      "text/plain": [
       "Validation: 0it [00:00, ?it/s]"
      ]
     },
     "metadata": {},
     "output_type": "display_data"
    },
    {
     "data": {
      "application/vnd.jupyter.widget-view+json": {
       "model_id": "9169413a171d417cb94d4564817ba78e",
       "version_major": 2,
       "version_minor": 0
      },
      "text/plain": [
       "Validation: 0it [00:00, ?it/s]"
      ]
     },
     "metadata": {},
     "output_type": "display_data"
    },
    {
     "data": {
      "application/vnd.jupyter.widget-view+json": {
       "model_id": "464d6462ef714d9cae7a16c6e8ef96b4",
       "version_major": 2,
       "version_minor": 0
      },
      "text/plain": [
       "Validation: 0it [00:00, ?it/s]"
      ]
     },
     "metadata": {},
     "output_type": "display_data"
    },
    {
     "data": {
      "application/vnd.jupyter.widget-view+json": {
       "model_id": "c1b56403c8224ffbb3c85a7d372a56c3",
       "version_major": 2,
       "version_minor": 0
      },
      "text/plain": [
       "Validation: 0it [00:00, ?it/s]"
      ]
     },
     "metadata": {},
     "output_type": "display_data"
    },
    {
     "data": {
      "application/vnd.jupyter.widget-view+json": {
       "model_id": "963667d6f8fa46769b813b728976db9c",
       "version_major": 2,
       "version_minor": 0
      },
      "text/plain": [
       "Validation: 0it [00:00, ?it/s]"
      ]
     },
     "metadata": {},
     "output_type": "display_data"
    },
    {
     "data": {
      "application/vnd.jupyter.widget-view+json": {
       "model_id": "1b84406ed6cf44c1ba8380f0cfe644e3",
       "version_major": 2,
       "version_minor": 0
      },
      "text/plain": [
       "Validation: 0it [00:00, ?it/s]"
      ]
     },
     "metadata": {},
     "output_type": "display_data"
    },
    {
     "data": {
      "application/vnd.jupyter.widget-view+json": {
       "model_id": "7094f5af3dcc4c4db06204a0a2e35473",
       "version_major": 2,
       "version_minor": 0
      },
      "text/plain": [
       "Validation: 0it [00:00, ?it/s]"
      ]
     },
     "metadata": {},
     "output_type": "display_data"
    },
    {
     "data": {
      "application/vnd.jupyter.widget-view+json": {
       "model_id": "7f4dcfb7711044c1b918ef6eecfa3546",
       "version_major": 2,
       "version_minor": 0
      },
      "text/plain": [
       "Validation: 0it [00:00, ?it/s]"
      ]
     },
     "metadata": {},
     "output_type": "display_data"
    },
    {
     "data": {
      "application/vnd.jupyter.widget-view+json": {
       "model_id": "9671dd89d6d741b1884fdeaaaa630fa6",
       "version_major": 2,
       "version_minor": 0
      },
      "text/plain": [
       "Validation: 0it [00:00, ?it/s]"
      ]
     },
     "metadata": {},
     "output_type": "display_data"
    },
    {
     "data": {
      "application/vnd.jupyter.widget-view+json": {
       "model_id": "f1d57996488441d2a3a762ac4cfdcd21",
       "version_major": 2,
       "version_minor": 0
      },
      "text/plain": [
       "Validation: 0it [00:00, ?it/s]"
      ]
     },
     "metadata": {},
     "output_type": "display_data"
    },
    {
     "data": {
      "application/vnd.jupyter.widget-view+json": {
       "model_id": "852003a2372c47d8a6cca59693e736e7",
       "version_major": 2,
       "version_minor": 0
      },
      "text/plain": [
       "Validation: 0it [00:00, ?it/s]"
      ]
     },
     "metadata": {},
     "output_type": "display_data"
    },
    {
     "data": {
      "application/vnd.jupyter.widget-view+json": {
       "model_id": "069fb285c868436494c4069dc70cc860",
       "version_major": 2,
       "version_minor": 0
      },
      "text/plain": [
       "Validation: 0it [00:00, ?it/s]"
      ]
     },
     "metadata": {},
     "output_type": "display_data"
    },
    {
     "data": {
      "application/vnd.jupyter.widget-view+json": {
       "model_id": "88bf40040d234c58a3df6de0cdfd9d11",
       "version_major": 2,
       "version_minor": 0
      },
      "text/plain": [
       "Validation: 0it [00:00, ?it/s]"
      ]
     },
     "metadata": {},
     "output_type": "display_data"
    },
    {
     "data": {
      "application/vnd.jupyter.widget-view+json": {
       "model_id": "14f801b6f4f44743ae765f04b0a19c6a",
       "version_major": 2,
       "version_minor": 0
      },
      "text/plain": [
       "Validation: 0it [00:00, ?it/s]"
      ]
     },
     "metadata": {},
     "output_type": "display_data"
    },
    {
     "data": {
      "application/vnd.jupyter.widget-view+json": {
       "model_id": "166041d97ab04f1a9a2998e33c75ff26",
       "version_major": 2,
       "version_minor": 0
      },
      "text/plain": [
       "Validation: 0it [00:00, ?it/s]"
      ]
     },
     "metadata": {},
     "output_type": "display_data"
    },
    {
     "data": {
      "application/vnd.jupyter.widget-view+json": {
       "model_id": "8e03e6c149cc4d6eb735e334ab762445",
       "version_major": 2,
       "version_minor": 0
      },
      "text/plain": [
       "Validation: 0it [00:00, ?it/s]"
      ]
     },
     "metadata": {},
     "output_type": "display_data"
    },
    {
     "data": {
      "application/vnd.jupyter.widget-view+json": {
       "model_id": "d337de2827fd444db798321b1c024c5d",
       "version_major": 2,
       "version_minor": 0
      },
      "text/plain": [
       "Validation: 0it [00:00, ?it/s]"
      ]
     },
     "metadata": {},
     "output_type": "display_data"
    },
    {
     "data": {
      "application/vnd.jupyter.widget-view+json": {
       "model_id": "958bf52128f6465187c1b62cc5f2cbcb",
       "version_major": 2,
       "version_minor": 0
      },
      "text/plain": [
       "Validation: 0it [00:00, ?it/s]"
      ]
     },
     "metadata": {},
     "output_type": "display_data"
    },
    {
     "data": {
      "application/vnd.jupyter.widget-view+json": {
       "model_id": "e99025523ed149ccb581c5f516a2992c",
       "version_major": 2,
       "version_minor": 0
      },
      "text/plain": [
       "Validation: 0it [00:00, ?it/s]"
      ]
     },
     "metadata": {},
     "output_type": "display_data"
    },
    {
     "data": {
      "application/vnd.jupyter.widget-view+json": {
       "model_id": "35736271093e4c58b1232d9c1cc666c0",
       "version_major": 2,
       "version_minor": 0
      },
      "text/plain": [
       "Validation: 0it [00:00, ?it/s]"
      ]
     },
     "metadata": {},
     "output_type": "display_data"
    },
    {
     "data": {
      "application/vnd.jupyter.widget-view+json": {
       "model_id": "bad4e6d7def74f60817c6cc55d0446df",
       "version_major": 2,
       "version_minor": 0
      },
      "text/plain": [
       "Validation: 0it [00:00, ?it/s]"
      ]
     },
     "metadata": {},
     "output_type": "display_data"
    },
    {
     "data": {
      "application/vnd.jupyter.widget-view+json": {
       "model_id": "28761c0f8776409cade500b77b93c529",
       "version_major": 2,
       "version_minor": 0
      },
      "text/plain": [
       "Validation: 0it [00:00, ?it/s]"
      ]
     },
     "metadata": {},
     "output_type": "display_data"
    },
    {
     "data": {
      "application/vnd.jupyter.widget-view+json": {
       "model_id": "79530ea4e5a0480696a712597638937a",
       "version_major": 2,
       "version_minor": 0
      },
      "text/plain": [
       "Validation: 0it [00:00, ?it/s]"
      ]
     },
     "metadata": {},
     "output_type": "display_data"
    },
    {
     "data": {
      "application/vnd.jupyter.widget-view+json": {
       "model_id": "86f6ce9d659a4616a23ac92e48c91170",
       "version_major": 2,
       "version_minor": 0
      },
      "text/plain": [
       "Validation: 0it [00:00, ?it/s]"
      ]
     },
     "metadata": {},
     "output_type": "display_data"
    },
    {
     "data": {
      "application/vnd.jupyter.widget-view+json": {
       "model_id": "e198b4e453b14b32850ee0f4013cdfa4",
       "version_major": 2,
       "version_minor": 0
      },
      "text/plain": [
       "Validation: 0it [00:00, ?it/s]"
      ]
     },
     "metadata": {},
     "output_type": "display_data"
    },
    {
     "data": {
      "application/vnd.jupyter.widget-view+json": {
       "model_id": "c539db94fcbc41e592c8db764c45a246",
       "version_major": 2,
       "version_minor": 0
      },
      "text/plain": [
       "Validation: 0it [00:00, ?it/s]"
      ]
     },
     "metadata": {},
     "output_type": "display_data"
    },
    {
     "data": {
      "application/vnd.jupyter.widget-view+json": {
       "model_id": "61ef877ac5254ac3a46ab321482489e3",
       "version_major": 2,
       "version_minor": 0
      },
      "text/plain": [
       "Validation: 0it [00:00, ?it/s]"
      ]
     },
     "metadata": {},
     "output_type": "display_data"
    },
    {
     "data": {
      "application/vnd.jupyter.widget-view+json": {
       "model_id": "1061f417ff9b4a839a51185498e09db5",
       "version_major": 2,
       "version_minor": 0
      },
      "text/plain": [
       "Validation: 0it [00:00, ?it/s]"
      ]
     },
     "metadata": {},
     "output_type": "display_data"
    },
    {
     "data": {
      "application/vnd.jupyter.widget-view+json": {
       "model_id": "7ed04a01bc0f45079352d65bed5a9f1a",
       "version_major": 2,
       "version_minor": 0
      },
      "text/plain": [
       "Validation: 0it [00:00, ?it/s]"
      ]
     },
     "metadata": {},
     "output_type": "display_data"
    },
    {
     "data": {
      "application/vnd.jupyter.widget-view+json": {
       "model_id": "4f15262d68734f8283916dc72c15cdd5",
       "version_major": 2,
       "version_minor": 0
      },
      "text/plain": [
       "Validation: 0it [00:00, ?it/s]"
      ]
     },
     "metadata": {},
     "output_type": "display_data"
    },
    {
     "data": {
      "application/vnd.jupyter.widget-view+json": {
       "model_id": "4bc40d1db4844bd985a8c590641b2fca",
       "version_major": 2,
       "version_minor": 0
      },
      "text/plain": [
       "Validation: 0it [00:00, ?it/s]"
      ]
     },
     "metadata": {},
     "output_type": "display_data"
    },
    {
     "data": {
      "application/vnd.jupyter.widget-view+json": {
       "model_id": "c9708e31b28247a081c70fe021690781",
       "version_major": 2,
       "version_minor": 0
      },
      "text/plain": [
       "Validation: 0it [00:00, ?it/s]"
      ]
     },
     "metadata": {},
     "output_type": "display_data"
    },
    {
     "data": {
      "application/vnd.jupyter.widget-view+json": {
       "model_id": "dfe5f12337224d78a2cba6f2591d9cb1",
       "version_major": 2,
       "version_minor": 0
      },
      "text/plain": [
       "Validation: 0it [00:00, ?it/s]"
      ]
     },
     "metadata": {},
     "output_type": "display_data"
    },
    {
     "data": {
      "application/vnd.jupyter.widget-view+json": {
       "model_id": "740dd114eeff4917bfe891af5ca0c85e",
       "version_major": 2,
       "version_minor": 0
      },
      "text/plain": [
       "Validation: 0it [00:00, ?it/s]"
      ]
     },
     "metadata": {},
     "output_type": "display_data"
    },
    {
     "data": {
      "application/vnd.jupyter.widget-view+json": {
       "model_id": "28b9f2ec32074dcab4ee564404ab35c4",
       "version_major": 2,
       "version_minor": 0
      },
      "text/plain": [
       "Validation: 0it [00:00, ?it/s]"
      ]
     },
     "metadata": {},
     "output_type": "display_data"
    },
    {
     "data": {
      "application/vnd.jupyter.widget-view+json": {
       "model_id": "97d1cbc6ce2a43d7b0632b8873c3e4bd",
       "version_major": 2,
       "version_minor": 0
      },
      "text/plain": [
       "Validation: 0it [00:00, ?it/s]"
      ]
     },
     "metadata": {},
     "output_type": "display_data"
    },
    {
     "data": {
      "application/vnd.jupyter.widget-view+json": {
       "model_id": "516ce71636b54dbfb9b08f973a1aac9d",
       "version_major": 2,
       "version_minor": 0
      },
      "text/plain": [
       "Validation: 0it [00:00, ?it/s]"
      ]
     },
     "metadata": {},
     "output_type": "display_data"
    },
    {
     "data": {
      "application/vnd.jupyter.widget-view+json": {
       "model_id": "817ea266db474f71882bc7d430b4b515",
       "version_major": 2,
       "version_minor": 0
      },
      "text/plain": [
       "Validation: 0it [00:00, ?it/s]"
      ]
     },
     "metadata": {},
     "output_type": "display_data"
    },
    {
     "data": {
      "application/vnd.jupyter.widget-view+json": {
       "model_id": "041b155f424e43bbb7672a32f0d4b69c",
       "version_major": 2,
       "version_minor": 0
      },
      "text/plain": [
       "Validation: 0it [00:00, ?it/s]"
      ]
     },
     "metadata": {},
     "output_type": "display_data"
    },
    {
     "data": {
      "application/vnd.jupyter.widget-view+json": {
       "model_id": "03215b11581e45d39a4321c83643526f",
       "version_major": 2,
       "version_minor": 0
      },
      "text/plain": [
       "Validation: 0it [00:00, ?it/s]"
      ]
     },
     "metadata": {},
     "output_type": "display_data"
    },
    {
     "data": {
      "application/vnd.jupyter.widget-view+json": {
       "model_id": "f5c13e9927b547fc83f668435bd6fbf6",
       "version_major": 2,
       "version_minor": 0
      },
      "text/plain": [
       "Validation: 0it [00:00, ?it/s]"
      ]
     },
     "metadata": {},
     "output_type": "display_data"
    },
    {
     "data": {
      "application/vnd.jupyter.widget-view+json": {
       "model_id": "49422c6d49204745894b16b418bd557a",
       "version_major": 2,
       "version_minor": 0
      },
      "text/plain": [
       "Validation: 0it [00:00, ?it/s]"
      ]
     },
     "metadata": {},
     "output_type": "display_data"
    },
    {
     "data": {
      "application/vnd.jupyter.widget-view+json": {
       "model_id": "55cd44a8ec204ca2995d42fd87458512",
       "version_major": 2,
       "version_minor": 0
      },
      "text/plain": [
       "Validation: 0it [00:00, ?it/s]"
      ]
     },
     "metadata": {},
     "output_type": "display_data"
    },
    {
     "data": {
      "application/vnd.jupyter.widget-view+json": {
       "model_id": "f612c444259048a59598e31f5cecddb1",
       "version_major": 2,
       "version_minor": 0
      },
      "text/plain": [
       "Validation: 0it [00:00, ?it/s]"
      ]
     },
     "metadata": {},
     "output_type": "display_data"
    },
    {
     "data": {
      "application/vnd.jupyter.widget-view+json": {
       "model_id": "0df2a249a9c74917bd8ec3770222a177",
       "version_major": 2,
       "version_minor": 0
      },
      "text/plain": [
       "Validation: 0it [00:00, ?it/s]"
      ]
     },
     "metadata": {},
     "output_type": "display_data"
    },
    {
     "data": {
      "application/vnd.jupyter.widget-view+json": {
       "model_id": "0d3d0532c8c545a5a6338292ec2cb135",
       "version_major": 2,
       "version_minor": 0
      },
      "text/plain": [
       "Validation: 0it [00:00, ?it/s]"
      ]
     },
     "metadata": {},
     "output_type": "display_data"
    },
    {
     "data": {
      "application/vnd.jupyter.widget-view+json": {
       "model_id": "34a99e3170824249b355870095864339",
       "version_major": 2,
       "version_minor": 0
      },
      "text/plain": [
       "Validation: 0it [00:00, ?it/s]"
      ]
     },
     "metadata": {},
     "output_type": "display_data"
    },
    {
     "data": {
      "application/vnd.jupyter.widget-view+json": {
       "model_id": "3fa5b241073a474184dd0520203c3c1a",
       "version_major": 2,
       "version_minor": 0
      },
      "text/plain": [
       "Validation: 0it [00:00, ?it/s]"
      ]
     },
     "metadata": {},
     "output_type": "display_data"
    },
    {
     "data": {
      "application/vnd.jupyter.widget-view+json": {
       "model_id": "f052d25a016046c5af8fa9f87b6ecf7c",
       "version_major": 2,
       "version_minor": 0
      },
      "text/plain": [
       "Validation: 0it [00:00, ?it/s]"
      ]
     },
     "metadata": {},
     "output_type": "display_data"
    },
    {
     "data": {
      "application/vnd.jupyter.widget-view+json": {
       "model_id": "9369c5c03aed431686f1f06909631283",
       "version_major": 2,
       "version_minor": 0
      },
      "text/plain": [
       "Validation: 0it [00:00, ?it/s]"
      ]
     },
     "metadata": {},
     "output_type": "display_data"
    },
    {
     "data": {
      "application/vnd.jupyter.widget-view+json": {
       "model_id": "24df34a6a7d548c482ca2fa62b1e9ad6",
       "version_major": 2,
       "version_minor": 0
      },
      "text/plain": [
       "Validation: 0it [00:00, ?it/s]"
      ]
     },
     "metadata": {},
     "output_type": "display_data"
    },
    {
     "data": {
      "application/vnd.jupyter.widget-view+json": {
       "model_id": "fe1a78978a914a4db4cf7f5148d51971",
       "version_major": 2,
       "version_minor": 0
      },
      "text/plain": [
       "Validation: 0it [00:00, ?it/s]"
      ]
     },
     "metadata": {},
     "output_type": "display_data"
    },
    {
     "data": {
      "application/vnd.jupyter.widget-view+json": {
       "model_id": "5cd5e767ae1c4de289429e6790bf249f",
       "version_major": 2,
       "version_minor": 0
      },
      "text/plain": [
       "Validation: 0it [00:00, ?it/s]"
      ]
     },
     "metadata": {},
     "output_type": "display_data"
    },
    {
     "data": {
      "application/vnd.jupyter.widget-view+json": {
       "model_id": "b2708c22b1f14c809352af967eeafa19",
       "version_major": 2,
       "version_minor": 0
      },
      "text/plain": [
       "Validation: 0it [00:00, ?it/s]"
      ]
     },
     "metadata": {},
     "output_type": "display_data"
    },
    {
     "data": {
      "application/vnd.jupyter.widget-view+json": {
       "model_id": "946262942bed4dad87f5c49006ae1df9",
       "version_major": 2,
       "version_minor": 0
      },
      "text/plain": [
       "Validation: 0it [00:00, ?it/s]"
      ]
     },
     "metadata": {},
     "output_type": "display_data"
    }
   ],
   "source": [
    "earlystopping = pl.callbacks.EarlyStopping(monitor='val_loss', patience=5, mode='min')\n",
    "\n",
    "trainer = pl.Trainer(max_epochs=100, callbacks=[earlystopping])\n",
    "trainer.fit(dnn, train_loader, valid_loader)"
   ]
  },
  {
   "cell_type": "code",
   "execution_count": 14,
   "metadata": {},
   "outputs": [
    {
     "data": {
      "text/plain": [
       "KFoldClassifier(\n",
       "  (classifiers): ModuleList(\n",
       "    (0): DNNClassifier(\n",
       "      (fts_norm): BatchNorm1d(20, eps=1e-05, momentum=0.1, affine=False, track_running_stats=True)\n",
       "      (layers): ModuleList(\n",
       "        (0): Linear(in_features=20, out_features=32, bias=True)\n",
       "        (1): Dropout(p=0.2, inplace=False)\n",
       "        (2): ReLU()\n",
       "        (3): Linear(in_features=32, out_features=16, bias=True)\n",
       "        (4): Dropout(p=0.2, inplace=False)\n",
       "        (5): ReLU()\n",
       "        (6): Linear(in_features=16, out_features=1, bias=True)\n",
       "        (7): Sigmoid()\n",
       "      )\n",
       "    )\n",
       "    (1): DNNClassifier(\n",
       "      (fts_norm): BatchNorm1d(20, eps=1e-05, momentum=0.1, affine=False, track_running_stats=True)\n",
       "      (layers): ModuleList(\n",
       "        (0): Linear(in_features=20, out_features=32, bias=True)\n",
       "        (1): Dropout(p=0.2, inplace=False)\n",
       "        (2): ReLU()\n",
       "        (3): Linear(in_features=32, out_features=16, bias=True)\n",
       "        (4): Dropout(p=0.2, inplace=False)\n",
       "        (5): ReLU()\n",
       "        (6): Linear(in_features=16, out_features=1, bias=True)\n",
       "        (7): Sigmoid()\n",
       "      )\n",
       "    )\n",
       "  )\n",
       "  (auroc): BinaryAUROC()\n",
       ")"
      ]
     },
     "execution_count": 14,
     "metadata": {},
     "output_type": "execute_result"
    }
   ],
   "source": [
    "dnn.eval()"
   ]
  },
  {
   "cell_type": "code",
   "execution_count": 15,
   "metadata": {},
   "outputs": [
    {
     "data": {
      "text/plain": [
       "[None, None]"
      ]
     },
     "execution_count": 15,
     "metadata": {},
     "output_type": "execute_result"
    }
   ],
   "source": [
    "(signal+bkg_model).apply(lambda t : t.extend(dnn_score=dnn.predict_tree(t)))"
   ]
  },
  {
   "cell_type": "code",
   "execution_count": 16,
   "metadata": {},
   "outputs": [
    {
     "name": "stderr",
     "output_type": "stream",
     "text": [
      "100%|██████████| 1/1 [00:00<00:00,  8.85it/s]\n",
      "  0%|          | 0/1 [00:00<?, ?it/s]2023-10-12 08:55:17.591965: E external/org_tensorflow/tensorflow/compiler/xla/python/pjit.cc:461] fastpath_data is none\n",
      "2023-10-12 08:55:18.167370: E external/org_tensorflow/tensorflow/compiler/xla/python/pjit.cc:461] fastpath_data is none\n",
      "2023-10-12 08:55:18.830902: E external/org_tensorflow/tensorflow/compiler/xla/python/pjit.cc:461] fastpath_data is none\n",
      "2023-10-12 08:55:20.754616: E external/org_tensorflow/tensorflow/compiler/xla/python/pjit.cc:461] fastpath_data is none\n",
      "2023-10-12 08:55:21.202438: E external/org_tensorflow/tensorflow/compiler/xla/python/pjit.cc:461] fastpath_data is none\n",
      "2023-10-12 08:55:21.668414: E external/org_tensorflow/tensorflow/compiler/xla/python/pjit.cc:461] fastpath_data is none\n",
      "100%|██████████| 1/1 [00:18<00:00, 18.23s/it]\n",
      "  0%|          | 0/1 [00:00<?, ?it/s]2023-10-12 08:55:35.650802: E external/org_tensorflow/tensorflow/compiler/xla/python/pjit.cc:461] fastpath_data is none\n",
      "2023-10-12 08:55:36.051843: E external/org_tensorflow/tensorflow/compiler/xla/python/pjit.cc:461] fastpath_data is none\n",
      "2023-10-12 08:55:38.114714: E external/org_tensorflow/tensorflow/compiler/xla/python/pjit.cc:461] fastpath_data is none\n",
      "2023-10-12 08:55:38.573197: E external/org_tensorflow/tensorflow/compiler/xla/python/pjit.cc:461] fastpath_data is none\n",
      "2023-10-12 08:55:39.034038: E external/org_tensorflow/tensorflow/compiler/xla/python/pjit.cc:461] fastpath_data is none\n",
      "100%|██████████| 1/1 [00:17<00:00, 17.92s/it]\n"
     ]
    },
    {
     "data": {
      "image/png": "[encoded data removed]",
      "text/plain": [
       "<Figure size 480x400 with 2 Axes>"
      ]
     },
     "metadata": {},
     "output_type": "display_data"
    },
    {
     "data": {
      "image/png": "[encoded data removed]",
      "text/plain": [
       "<Figure size 480x400 with 1 Axes>"
      ]
     },
     "metadata": {},
     "output_type": "display_data"
    },
    {
     "data": {
      "image/png": "[encoded data removed]",
      "text/plain": [
       "<Figure size 480x400 with 1 Axes>"
      ]
     },
     "metadata": {},
     "output_type": "display_data"
    }
   ],
   "source": [
    "study.quick(\n",
    "    signal + bkg_model,\n",
    "    varlist=['dnn_score'],\n",
    "    binlist=[(0,1,30)],\n",
    "    log=True, \n",
    "    # limits=True, legend=True,\n",
    "\n",
    "    **study.auroc,\n",
    ")\n",
    "\n",
    "study.quick(\n",
    "    signal + bkg_model,\n",
    "    varlist=['dnn_score'],\n",
    "    binlist=[(0,1,30)],\n",
    "    log=True, \n",
    "    limits=True, legend=True,\n",
    ")\n",
    "\n",
    "study.quick(\n",
    "    signal + bkg_model,\n",
    "    varlist=['dnn_score'],\n",
    "    binlist=[varinfo.bdt_score.bins],\n",
    "    log=True, \n",
    "    limits=True, legend=True,\n",
    ")"
   ]
  }
 ],
 "metadata": {
  "kernelspec": {
   "display_name": "Python 3 (ipykernel)",
   "language": "python",
   "name": "python3"
  },
  "language_info": {
   "codemirror_mode": {
    "name": "ipython",
    "version": 3
   },
   "file_extension": ".py",
   "mimetype": "text/x-python",
   "name": "python",
   "nbconvert_exporter": "python",
   "pygments_lexer": "ipython3",
   "version": "3.10.8"
  },
  "orig_nbformat": 4
 },
 "nbformat": 4,
 "nbformat_minor": 2
}

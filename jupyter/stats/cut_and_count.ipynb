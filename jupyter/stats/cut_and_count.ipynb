{
 "cells": [
  {
   "cell_type": "code",
   "execution_count": 313,
   "metadata": {},
   "outputs": [],
   "source": [
    "import torch\n",
    "import numpy as np\n",
    "import matplotlib.pyplot as plt\n",
    "import scipy"
   ]
  },
  {
   "cell_type": "code",
   "execution_count": 2,
   "metadata": {},
   "outputs": [],
   "source": [
    "import git\n",
    "# find top-level of git repo and add it to the path\n",
    "repo = git.Repo('.', search_parent_directories=True)\n",
    "\n",
    "import sys\n",
    "sys.path.insert(0, repo.working_tree_dir)"
   ]
  },
  {
   "cell_type": "code",
   "execution_count": 3,
   "metadata": {},
   "outputs": [],
   "source": [
    "import utils.plotUtils as plu"
   ]
  },
  {
   "cell_type": "code",
   "execution_count": 4,
   "metadata": {},
   "outputs": [],
   "source": [
    "def random_poisson(mu, sigma=None, size=1):\n",
    "    if sigma is None:\n",
    "        return np.random.poisson(mu, size)\n",
    "    \n",
    "    M = sigma **2 / mu\n",
    "    K = (mu / sigma) ** 2\n",
    "    return random_poisson(K, size=size) * M\n",
    "    "
   ]
  },
  {
   "cell_type": "code",
   "execution_count": 5,
   "metadata": {},
   "outputs": [],
   "source": [
    "def get_model(sig_x, bkg_x, data_x, bins=None, sig_w=None, bkg_w=None):\n",
    "    h_sig, bins, _ = plt.hist(sig_x, bins=bins, weights=sig_w, histtype='step', linewidth=2)\n",
    "    h_sig_err = np.sqrt(np.histogram(sig_x, bins=bins, weights=sig_w**2)[0])\n",
    "    \n",
    "    h_bkg, bins, _ = plt.hist(bkg_x, bins=bins, weights=bkg_w, alpha=0.5, label='bkg', color='blue')\n",
    "    h_bkg_err = np.sqrt(np.histogram(bkg_x, bins=bins, weights=bkg_w**2)[0])\n",
    "\n",
    "    plt.fill_between(\n",
    "        bins, \n",
    "        np.append(h_bkg - h_bkg_err, 0), \n",
    "        np.append(h_bkg + h_bkg_err, 0), \n",
    "        step='post', \n",
    "        alpha=0.25, \n",
    "        color='grey', \n",
    "    )\n",
    "\n",
    "    h_data = np.histogram(data_x, bins=bins)[0]\n",
    "    h_data_err = np.sqrt(h_data)\n",
    "    center = (bins[:-1] + bins[1:]) / 2\n",
    "    plt.errorbar(center, h_data, yerr=np.sqrt(h_data), fmt='o', color='black', label='data')\n",
    "    \n",
    "    return (h_sig, h_sig_err), (h_bkg, h_bkg_err), (h_data, h_data_err)"
   ]
  },
  {
   "cell_type": "code",
   "execution_count": 6,
   "metadata": {},
   "outputs": [],
   "source": [
    "def interp_at(value, x, y, npoints=3):\n",
    "    nearest_points = np.sort(np.argsort(np.abs(x - value))[:npoints])\n",
    "    return np.interp(value, x[nearest_points], y[nearest_points])\n",
    "    \n",
    "    "
   ]
  },
  {
   "cell_type": "code",
   "execution_count": 376,
   "metadata": {},
   "outputs": [],
   "source": [
    "ms = np.arange(100, 150, 10)\n",
    "R = np.random.uniform(0.8,1.2, size=1)\n",
    "M = ms[np.random.randint(len(ms))]"
   ]
  },
  {
   "cell_type": "code",
   "execution_count": 377,
   "metadata": {},
   "outputs": [],
   "source": [
    "gen_sig = lambda n, m=100 : np.random.normal(m, 0.05 * m, n)\n",
    "gen_bkg = lambda n : np.random.lognormal( np.log(100),  0.5, n)\n",
    "\n",
    "r_sig = 100\n",
    "r_bkg = 5000\n",
    "\n",
    "data_x = np.concatenate([gen_sig( int(R * r_sig), m=M ), gen_bkg( int(r_bkg) )])"
   ]
  },
  {
   "cell_type": "code",
   "execution_count": 378,
   "metadata": {},
   "outputs": [],
   "source": [
    "from tqdm import tqdm\n",
    "\n",
    "def minimize(L, atol=1e-6, rtol=1e-12, maxsteps=10000, verbose=False):\n",
    "    nparams = len(list(L.parameters()))\n",
    "    \n",
    "    if verbose:\n",
    "        print(f'Optimizing {nparams} parameters')\n",
    "    \n",
    "    if nparams == 0: return\n",
    "    \n",
    "    optimizer = torch.optim.Adam(L.parameters(), lr=0.01)\n",
    "            \n",
    "    loss = L()\n",
    "    if loss.ndim == 1:\n",
    "        loss = loss.mean()\n",
    "        \n",
    "    it = tqdm(range(maxsteps)) if verbose else range(maxsteps)\n",
    "    for i in it:    \n",
    "        loss.backward()\n",
    "        optimizer.step()\n",
    "        optimizer.zero_grad()       \n",
    "        \n",
    "        previous_loss = loss.item()\n",
    "        \n",
    "        loss = L()\n",
    "        if loss.ndim == 1:\n",
    "            loss = loss.mean()\n",
    "            \n",
    "        adiff = abs(previous_loss - loss.item())\n",
    "        rdiff = abs(previous_loss - loss.item()) / abs(previous_loss)\n",
    "            \n",
    "        if (adiff and adiff < atol) or (rdiff and rdiff < rtol):\n",
    "            break                \n",
    "\n",
    "        if verbose and i % 10 == 0:\n",
    "            it.set_description(f'loss={loss.item():.3f} absdiff={adiff:.3e} reldiff={rdiff:.3e}')\n",
    "    \n",
    "    if verbose:\n",
    "        print(f'loss={loss.item():.3f} absdiff={adiff:.3e} reldiff={rdiff:.3e}')"
   ]
  },
  {
   "cell_type": "code",
   "execution_count": 432,
   "metadata": {},
   "outputs": [],
   "source": [
    "mc_sig = 100\n",
    "mc_bkg = 100\n",
    "    \n",
    "sig_x = np.stack([ gen_sig( int(r_sig * mc_sig), m=m ) for m in ms ], axis=1)\n",
    "sig_w = np.ones_like(sig_x) / mc_sig\n",
    "\n",
    "bkg_x = gen_bkg( int(r_bkg * mc_bkg) )\n",
    "bkg_w = np.ones_like(bkg_x) / mc_bkg"
   ]
  },
  {
   "cell_type": "code",
   "execution_count": 433,
   "metadata": {},
   "outputs": [
    {
     "data": {
      "image/png": "[encoded data removed]",
      "text/plain": [
       "<Figure size 650x650 with 1 Axes>"
      ]
     },
     "metadata": {},
     "output_type": "display_data"
    }
   ],
   "source": [
    "(s, serr), (b, berr), (d, derr) = get_model(sig_x, bkg_x, data_x, bins=np.linspace(75, 175, 31), sig_w=sig_w, bkg_w=bkg_w)\n",
    "s, serr, b, berr, d, derr = [ torch.from_numpy(x) for x in [s, serr, b, berr, d, derr] ]"
   ]
  },
  {
   "cell_type": "code",
   "execution_count": 434,
   "metadata": {},
   "outputs": [],
   "source": [
    "\n",
    "class Likelihood(torch.nn.Module):\n",
    "    \"\"\"\n",
    "    P(nobs | nexp) = nexp^nobs / nobs! * exp(-nexp)\n",
    "\n",
    "    log P(nobs | nexp) = nobs * log(nexp) - nexp - log(nobs!)\n",
    "    \"\"\"\n",
    "    \n",
    "    def __init__(self):\n",
    "        super().__init__()\n",
    "        \n",
    "    def forward(self, nexp, nobs):\n",
    "        log_nobs_factorial = torch.lgamma( nobs + 1 )\n",
    "        log_poisson = nobs * torch.log(nexp) - nexp - log_nobs_factorial\n",
    "        return - 2 * log_poisson"
   ]
  },
  {
   "cell_type": "code",
   "execution_count": 435,
   "metadata": {},
   "outputs": [],
   "source": [
    "\n",
    "\n",
    "class BkgLikelihood(Likelihood):\n",
    "    def __init__(self, k, b, m):\n",
    "        super().__init__()\n",
    "        self.k = k\n",
    "        self.b = b\n",
    "        self.m = m\n",
    "        \n",
    "    def forward(self):\n",
    "        nexp = self.k * self.b\n",
    "        obs = self.m\n",
    "        return super().forward(nexp, obs)"
   ]
  },
  {
   "cell_type": "code",
   "execution_count": 436,
   "metadata": {},
   "outputs": [],
   "source": [
    "class SignalBkgLikelihood(Likelihood):\n",
    "    def __init__(self, r, s : torch.Tensor, b : torch.Tensor, d : torch.Tensor = None):\n",
    "        super().__init__()\n",
    "        self.r = r\n",
    "        self.s = s\n",
    "        self.b = b\n",
    "        self.d = d if d is not None else b\n",
    "        \n",
    "    def forward(self):\n",
    "        nexp = self.r * self.s + self.b\n",
    "        return super().forward(nexp, self.d)"
   ]
  },
  {
   "cell_type": "code",
   "execution_count": 437,
   "metadata": {},
   "outputs": [],
   "source": [
    "class NLL(torch.nn.Module):\n",
    "    def __init__(self, *nlls):\n",
    "        super().__init__()\n",
    "        self.nlls = torch.nn.ModuleList(nlls)\n",
    "        \n",
    "    def forward(self):\n",
    "        nll = sum( nll() for nll in self.nlls )\n",
    "        return nll.sum(dim=-1)"
   ]
  },
  {
   "cell_type": "code",
   "execution_count": 438,
   "metadata": {},
   "outputs": [],
   "source": [
    "class StatsHEP:\n",
    "    \n",
    "    def __init__(self, s, b, d, b_err, verbose=False):\n",
    "        \n",
    "        self.b_mc_k = b / b_err**2\n",
    "        self.n_mc_b = self.b_mc_k * b\n",
    "        \n",
    "        self.r_mle = torch.nn.Parameter( torch.Tensor([1.0]), requires_grad=True )\n",
    "        self.b_mle = torch.nn.Parameter( b, requires_grad=True )\n",
    "        self.MLE = NLL(\n",
    "            SignalBkgLikelihood(self.r_mle, s, self.b_mle, d),\n",
    "            BkgLikelihood(self.b_mc_k, self.b_mle, self.n_mc_b),\n",
    "        )\n",
    "        \n",
    "        minimize(self.MLE, verbose=verbose)\n",
    "        \n",
    "        self.r_scan = torch.linspace(0, 5, 101)\n",
    "        self.b_scan = torch.nn.Parameter( self.b_mle.repeat(len(self.r_scan), 1), requires_grad=True )\n",
    "        \n",
    "        self.L = NLL(\n",
    "            SignalBkgLikelihood(self.r_scan.unsqueeze(1), s, self.b_scan, d),\n",
    "            BkgLikelihood(self.b_mc_k, self.b_scan, self.n_mc_b),\n",
    "        )\n",
    "        \n",
    "        minimize(self.L, verbose=verbose)\n",
    "        \n",
    "    def __call__(self, r=None, b=None):\n",
    "        if r is None:\n",
    "            r = self.r_scan\n",
    "            \n",
    "        with torch.no_grad():\n",
    "            nll = self.L() - self.MLE()\n",
    "            \n",
    "        return np.interp(r, self.r_scan.numpy(), nll.numpy())\n",
    "    \n",
    "    def tmu(self, r=None):\n",
    "        if r is None: r = self.r_scan\n",
    "        \n",
    "        with torch.no_grad():\n",
    "            nll = self.L() - self.MLE()\n",
    "            \n",
    "        return np.interp(r, self.r_scan.numpy(), nll.numpy())\n",
    "    \n",
    "    def tmu_pvalue(self, r=None):\n",
    "        if r is None: r = self.r_scan\n",
    "        tmu = self.tmu(r)\n",
    "        return scipy.stats.chi2.sf(tmu, 1)\n",
    "    \n",
    "    def tilde_tmu(self, r=None):\n",
    "        if r is None: r = self.r_scan\n",
    "        \n",
    "        with torch.no_grad():\n",
    "            if self.r_mle.item() >= 0:\n",
    "                nll = self.L() - self.MLE()\n",
    "            else:\n",
    "                nll = self.L()\n",
    "                nll -= nll[0]\n",
    "                \n",
    "        return np.interp(r, self.r_scan.numpy(), nll.numpy())\n",
    "\n",
    "    def q0(self):\n",
    "        with torch.no_grad():\n",
    "            if self.r_mle.item() >= 0:\n",
    "                return (self.L() - self.MLE())[0]\n",
    "            else:\n",
    "                return 0\n",
    "            \n",
    "    def q0_pvalue(self):\n",
    "        q0 = self.q0()\n",
    "        return scipy.stats.norm.sf(np.sqrt(q0))\n",
    "    \n",
    "    def qmu(self, r=None):\n",
    "        if r is None: r = self.r_scan\n",
    "        \n",
    "        tmu = self.tmu(r)            \n",
    "        mask = self.r_mle.item() <= r\n",
    "        return np.where(mask, tmu, 0)\n",
    "        \n",
    "    def qmu_pvalue(self, r=None):\n",
    "        if r is None: r = self.r_scan\n",
    "        \n",
    "        qmu = self.qmu(r)\n",
    "        return scipy.stats.norm.sf(np.sqrt(qmu))\n",
    "    \n",
    "    def upperlimit(self):\n",
    "        r = np.linspace(0, 5, 1000)\n",
    "        pvalue = self.qmu_pvalue(r)\n",
    "        return interp_at(0.05, pvalue, r)\n",
    "    \n",
    "    def upperlimit_quantile(self, quantile=[0.025,0.16,0.5,0.84,0.975]):\n",
    "        r_up = self.upperlimit()\n",
    "        sigma = (r_up - self.r_mle.item()) / 1.64\n",
    "        \n",
    "        x = np.linspace(-4,4,1000)\n",
    "        quantiles = np.vectorize(lambda q : interp_at(q, scipy.stats.norm.cdf(x), x))(quantile)\n",
    "        \n",
    "        return quantiles * sigma + r_up\n",
    "        "
   ]
  },
  {
   "cell_type": "code",
   "execution_count": 439,
   "metadata": {},
   "outputs": [],
   "source": [
    "class StatsCMS:\n",
    "    def __init__(self, s, b, d, berr, verbose=False):\n",
    "        self.obs = StatsHEP(s, b, d, berr, verbose=verbose)\n",
    "        self.exp = StatsHEP(s, b, b, berr, verbose=verbose)"
   ]
  },
  {
   "cell_type": "code",
   "execution_count": 440,
   "metadata": {},
   "outputs": [
    {
     "name": "stderr",
     "output_type": "stream",
     "text": [
      "100%|██████████| 5/5 [00:01<00:00,  4.12it/s]\n"
     ]
    }
   ],
   "source": [
    "stats = [ StatsCMS(_s, b, d, berr) for _s in tqdm(s) ]"
   ]
  },
  {
   "cell_type": "code",
   "execution_count": 441,
   "metadata": {},
   "outputs": [],
   "source": [
    "obs_lims = np.array([ s.obs.upperlimit() for s in stats ])\n",
    "exp_lims = np.array([ s.exp.upperlimit_quantile() for s in stats ])"
   ]
  },
  {
   "cell_type": "code",
   "execution_count": 442,
   "metadata": {},
   "outputs": [
    {
     "data": {
      "text/plain": [
       "(<Figure size 650x650 with 1 Axes>, <Axes: >)"
      ]
     },
     "execution_count": 442,
     "metadata": {},
     "output_type": "execute_result"
    },
    {
     "data": {
      "image/png": "[encoded data removed]",
      "text/plain": [
       "<Figure size 650x650 with 1 Axes>"
      ]
     },
     "metadata": {},
     "output_type": "display_data"
    }
   ],
   "source": [
    "plu.graph_array(\n",
    "    ms, obs_lims, g_color='black', g_label='Observed'\n",
    ")\n",
    "\n",
    "plu.graph_array(\n",
    "    ms, exp_lims[:,2], g_color='black', g_linestyle='--', g_marker='none',\n",
    "    g_label='Expected',\n",
    "    figax='same'\n",
    ")\n",
    "\n",
    "\n",
    "plu.graph_array(\n",
    "    ms, exp_lims[:,2], yerr=(exp_lims[:,4]-exp_lims[:,0])/2,\n",
    "    fill_error=True, fill_alpha=1.0,\n",
    "    g_color='#00cc00', g_marker=None, g_linewidth=0,\n",
    "    figax='same'\n",
    ")\n",
    "\n",
    "plu.graph_array(\n",
    "    ms, exp_lims[:,2], yerr=(exp_lims[:,1]-exp_lims[:,3])/2,\n",
    "    fill_error=True, fill_alpha=1.0,\n",
    "    g_color='#ffcc00', g_marker=None, g_linewidth=0,\n",
    "    figax='same'\n",
    ")"
   ]
  },
  {
   "cell_type": "code",
   "execution_count": null,
   "metadata": {},
   "outputs": [],
   "source": []
  }
 ],
 "metadata": {
  "kernelspec": {
   "display_name": "studies",
   "language": "python",
   "name": "python3"
  },
  "language_info": {
   "codemirror_mode": {
    "name": "ipython",
    "version": 3
   },
   "file_extension": ".py",
   "mimetype": "text/x-python",
   "name": "python",
   "nbconvert_exporter": "python",
   "pygments_lexer": "ipython3",
   "version": "3.9.16"
  },
  "orig_nbformat": 4
 },
 "nbformat": 4,
 "nbformat_minor": 2
}

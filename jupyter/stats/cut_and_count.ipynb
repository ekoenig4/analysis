{
 "cells": [
  {
   "cell_type": "code",
   "execution_count": 1,
   "metadata": {},
   "outputs": [],
   "source": [
    "import torch\n",
    "import numpy as np\n",
    "import matplotlib.pyplot as plt\n",
    "import scipy"
   ]
  },
  {
   "cell_type": "code",
   "execution_count": 2,
   "metadata": {},
   "outputs": [],
   "source": [
    "import git\n",
    "# find top-level of git repo and add it to the path\n",
    "repo = git.Repo('.', search_parent_directories=True)\n",
    "\n",
    "import sys\n",
    "sys.path.insert(0, repo.working_tree_dir)"
   ]
  },
  {
   "cell_type": "code",
   "execution_count": 3,
   "metadata": {},
   "outputs": [],
   "source": [
    "import utils.plotUtils as plu"
   ]
  },
  {
   "cell_type": "code",
   "execution_count": 4,
   "metadata": {},
   "outputs": [],
   "source": [
    "def random_poisson(mu, sigma=None, size=1):\n",
    "    if sigma is None:\n",
    "        return np.random.poisson(mu, size)\n",
    "    \n",
    "    M = sigma **2 / mu\n",
    "    K = (mu / sigma) ** 2\n",
    "    return random_poisson(K, size=size) * M\n",
    "    "
   ]
  },
  {
   "cell_type": "code",
   "execution_count": 5,
   "metadata": {},
   "outputs": [],
   "source": [
    "def get_model(sig_x, bkg_x, data_x, bins=None, sig_w=None, bkg_w=None):\n",
    "    h_sig, bins, _ = plt.hist(sig_x, bins=bins, weights=sig_w, histtype='step', linewidth=2)\n",
    "    h_sig_err = np.sqrt(np.histogram(sig_x, bins=bins, weights=sig_w**2)[0])\n",
    "    \n",
    "    h_bkg, bins, _ = plt.hist(bkg_x, bins=bins, weights=bkg_w, alpha=0.5, label='bkg', color='blue')\n",
    "    h_bkg_err = np.sqrt(np.histogram(bkg_x, bins=bins, weights=bkg_w**2)[0])\n",
    "\n",
    "    plt.fill_between(\n",
    "        bins, \n",
    "        np.append(h_bkg - h_bkg_err, 0), \n",
    "        np.append(h_bkg + h_bkg_err, 0), \n",
    "        step='post', \n",
    "        alpha=0.25, \n",
    "        color='grey', \n",
    "    )\n",
    "\n",
    "    h_data = np.histogram(data_x, bins=bins)[0]\n",
    "    h_data_err = np.sqrt(h_data)\n",
    "    center = (bins[:-1] + bins[1:]) / 2\n",
    "    plt.errorbar(center, h_data, yerr=np.sqrt(h_data), fmt='o', color='black', label='data')\n",
    "    \n",
    "    return (h_sig, h_sig_err), (h_bkg, h_bkg_err), (h_data, h_data_err)"
   ]
  },
  {
   "cell_type": "code",
   "execution_count": 6,
   "metadata": {},
   "outputs": [],
   "source": [
    "def interp_at(value, x, y, npoints=3):\n",
    "    nearest_points = np.sort(np.argsort(np.abs(x - value))[:npoints])\n",
    "    return np.interp(value, x[nearest_points], y[nearest_points])\n",
    "    \n",
    "    "
   ]
  },
  {
   "cell_type": "code",
   "execution_count": 7,
   "metadata": {},
   "outputs": [],
   "source": [
    "ms = [120]\n",
    "R = np.random.uniform(0.8,1.2, size=1)\n",
    "M = ms[np.random.randint(len(ms))]"
   ]
  },
  {
   "cell_type": "code",
   "execution_count": 8,
   "metadata": {},
   "outputs": [],
   "source": [
    "gen_sig = lambda n, m=100 : np.random.normal(m, 0.05 * m, n)\n",
    "gen_bkg = lambda n : np.random.lognormal( np.log(100),  0.5, n)\n",
    "\n",
    "r_sig = 50\n",
    "r_bkg = 5000\n",
    "\n",
    "data_x = np.concatenate([gen_sig( int(R * r_sig), m=M ), gen_bkg( int(r_bkg) )])"
   ]
  },
  {
   "cell_type": "code",
   "execution_count": 9,
   "metadata": {},
   "outputs": [],
   "source": [
    "from tqdm import tqdm\n",
    "\n",
    "def minimize(L, atol=1e-6, rtol=1e-12, maxsteps=10000, lr=0.01, verbose=False):\n",
    "    nparams = len(list(L.parameters()))\n",
    "    \n",
    "    if verbose:\n",
    "        print(f'Optimizing {nparams} parameters')\n",
    "    \n",
    "    if nparams == 0: return\n",
    "    \n",
    "    optimizer = torch.optim.Adam(L.parameters(), lr=lr)\n",
    "            \n",
    "    loss = L()\n",
    "    if loss.ndim == 1:\n",
    "        loss = loss.mean()\n",
    "        \n",
    "    it = tqdm(range(maxsteps)) if verbose else range(maxsteps)\n",
    "    for i in it:    \n",
    "        loss.backward()\n",
    "        optimizer.step()\n",
    "        optimizer.zero_grad()       \n",
    "        \n",
    "        previous_loss = loss.item()\n",
    "        \n",
    "        loss = L()\n",
    "        if loss.ndim == 1:\n",
    "            loss = loss.mean()\n",
    "            \n",
    "        adiff = abs(previous_loss - loss.item())\n",
    "        rdiff = abs(previous_loss - loss.item()) / abs(previous_loss)\n",
    "            \n",
    "        if (adiff and adiff < atol) or (rdiff and rdiff < rtol):\n",
    "            break                \n",
    "\n",
    "        if verbose and i % 10 == 0:\n",
    "            it.set_description(f'loss={loss.item():.3f} absdiff={adiff:.3e} reldiff={rdiff:.3e}')\n",
    "    \n",
    "    if verbose:\n",
    "        print(f'loss={loss.item():.3f} absdiff={adiff:.3e} reldiff={rdiff:.3e}')"
   ]
  },
  {
   "cell_type": "code",
   "execution_count": 13,
   "metadata": {},
   "outputs": [],
   "source": [
    "mc_sig = 1\n",
    "mc_bkg = 1\n",
    "    \n",
    "sig_x = np.stack([ gen_sig( int(r_sig * mc_sig), m=m ) for m in ms ], axis=1)\n",
    "sig_w = np.ones_like(sig_x) / mc_sig\n",
    "\n",
    "bkg_x = gen_bkg( int(r_bkg * mc_bkg) )\n",
    "bkg_w = np.ones_like(bkg_x) / mc_bkg"
   ]
  },
  {
   "cell_type": "code",
   "execution_count": 14,
   "metadata": {},
   "outputs": [
    {
     "data": {
      "image/png": "[encoded data removed]",
      "text/plain": [
       "<Figure size 650x650 with 1 Axes>"
      ]
     },
     "metadata": {},
     "output_type": "display_data"
    }
   ],
   "source": [
    "(s, serr), (b, berr), (d, derr) = get_model(sig_x, bkg_x, data_x, bins=np.linspace(75, 175, 15), sig_w=sig_w, bkg_w=bkg_w)\n",
    "s, serr, b, berr, d, derr = [ torch.from_numpy(x) for x in [s, serr, b, berr, d, derr] ]"
   ]
  },
  {
   "cell_type": "code",
   "execution_count": 12,
   "metadata": {},
   "outputs": [],
   "source": [
    "\n",
    "class Likelihood(torch.nn.Module):\n",
    "    \"\"\"\n",
    "    P(nobs | nexp) = nexp^nobs / nobs! * exp(-nexp)\n",
    "\n",
    "    log P(nobs | nexp) = nobs * log(nexp) - nexp - log(nobs!)\n",
    "    \"\"\"\n",
    "    \n",
    "    def __init__(self):\n",
    "        super().__init__()\n",
    "        \n",
    "    def forward(self, nexp, nobs):\n",
    "        log_nobs_factorial = torch.lgamma( nobs + 1 )\n",
    "        log_poisson = nobs * torch.log(nexp) - nexp - log_nobs_factorial\n",
    "        return - 2 * log_poisson"
   ]
  },
  {
   "cell_type": "code",
   "execution_count": 25,
   "metadata": {},
   "outputs": [],
   "source": [
    "class SignalModel(Likelihood):\n",
    "    def __init__(self, r, s, b, d):\n",
    "        super().__init__()\n",
    "        self.r = r\n",
    "        self.s = s\n",
    "        self.b = b\n",
    "        self.d = d\n",
    "    def forward(self, r=None):\n",
    "        if r is None: r = self.r\n",
    "        return super().forward(r * self.s + self.b, self.d)\n",
    "    \n",
    "class StatisticalModel(Likelihood):\n",
    "    def __init__(self, k, n, N):\n",
    "        super().__init__()\n",
    "        self.k = k\n",
    "        self.n = n\n",
    "        self.N = N\n",
    "    def forward(self, k=None):\n",
    "        if k is None: k = self.k\n",
    "        return super().forward(k * self.n, self.N)"
   ]
  },
  {
   "cell_type": "code",
   "execution_count": 26,
   "metadata": {},
   "outputs": [],
   "source": [
    "class Summation(torch.nn.Module):\n",
    "    def __init__(self, *models):\n",
    "        super().__init__()\n",
    "        self.models = torch.nn.ModuleList(models)\n",
    "    def forward(self, *args, **kwargs):\n",
    "        return sum( m(*args, **kwargs) for m in self.models )"
   ]
  },
  {
   "cell_type": "code",
   "execution_count": null,
   "metadata": {},
   "outputs": [],
   "source": [
    "class Model(Likelihood):\n",
    "    def __init__(self, r, s, b, )"
   ]
  },
  {
   "cell_type": "code",
   "execution_count": 27,
   "metadata": {},
   "outputs": [
    {
     "name": "stdout",
     "output_type": "stream",
     "text": [
      "Optimizing 2 parameters\n"
     ]
    },
    {
     "name": "stderr",
     "output_type": "stream",
     "text": [
      "loss=14.223 absdiff=2.298e-05 reldiff=1.616e-06:   0%|          | 1/10000 [00:00<12:09, 13.71it/s]\n"
     ]
    },
    {
     "ename": "RuntimeError",
     "evalue": "Trying to backward through the graph a second time (or directly access saved tensors after they have already been freed). Saved intermediate values of the graph are freed when you call .backward() or autograd.grad(). Specify retain_graph=True if you need to backward through the graph a second time or if you need to access saved tensors after calling backward.",
     "output_type": "error",
     "traceback": [
      "\u001b[0;31m---------------------------------------------------------------------------\u001b[0m",
      "\u001b[0;31mRuntimeError\u001b[0m                              Traceback (most recent call last)",
      "\u001b[1;32m/uscms_data/d3/ekoenig/8BAnalysis/studies/eightbStudies/jupyter/stats/cut_and_count.ipynb Cell 15\u001b[0m in \u001b[0;36m1\n\u001b[1;32m      <a href='vscode-notebook-cell://ssh-remote%2Blpc/uscms_data/d3/ekoenig/8BAnalysis/studies/eightbStudies/jupyter/stats/cut_and_count.ipynb#X42sdnNjb2RlLXJlbW90ZQ%3D%3D?line=4'>5</a>\u001b[0m k_mle \u001b[39m=\u001b[39m torch\u001b[39m.\u001b[39mnn\u001b[39m.\u001b[39mParameter(k, requires_grad\u001b[39m=\u001b[39m\u001b[39mFalse\u001b[39;00m)\n\u001b[1;32m      <a href='vscode-notebook-cell://ssh-remote%2Blpc/uscms_data/d3/ekoenig/8BAnalysis/studies/eightbStudies/jupyter/stats/cut_and_count.ipynb#X42sdnNjb2RlLXJlbW90ZQ%3D%3D?line=6'>7</a>\u001b[0m my_model \u001b[39m=\u001b[39m Summation(\n\u001b[1;32m      <a href='vscode-notebook-cell://ssh-remote%2Blpc/uscms_data/d3/ekoenig/8BAnalysis/studies/eightbStudies/jupyter/stats/cut_and_count.ipynb#X42sdnNjb2RlLXJlbW90ZQ%3D%3D?line=7'>8</a>\u001b[0m     SignalModel(r_mle, s, k_mle \u001b[39m*\u001b[39m B, r_mle \u001b[39m*\u001b[39m s \u001b[39m+\u001b[39m b),\n\u001b[1;32m      <a href='vscode-notebook-cell://ssh-remote%2Blpc/uscms_data/d3/ekoenig/8BAnalysis/studies/eightbStudies/jupyter/stats/cut_and_count.ipynb#X42sdnNjb2RlLXJlbW90ZQ%3D%3D?line=8'>9</a>\u001b[0m     StatisticalModel(k_mle, B, b)\n\u001b[1;32m     <a href='vscode-notebook-cell://ssh-remote%2Blpc/uscms_data/d3/ekoenig/8BAnalysis/studies/eightbStudies/jupyter/stats/cut_and_count.ipynb#X42sdnNjb2RlLXJlbW90ZQ%3D%3D?line=9'>10</a>\u001b[0m )\n\u001b[0;32m---> <a href='vscode-notebook-cell://ssh-remote%2Blpc/uscms_data/d3/ekoenig/8BAnalysis/studies/eightbStudies/jupyter/stats/cut_and_count.ipynb#X42sdnNjb2RlLXJlbW90ZQ%3D%3D?line=11'>12</a>\u001b[0m minimize(my_model, verbose\u001b[39m=\u001b[39;49m\u001b[39mTrue\u001b[39;49;00m)\n",
      "\u001b[1;32m/uscms_data/d3/ekoenig/8BAnalysis/studies/eightbStudies/jupyter/stats/cut_and_count.ipynb Cell 15\u001b[0m in \u001b[0;36m1\n\u001b[1;32m     <a href='vscode-notebook-cell://ssh-remote%2Blpc/uscms_data/d3/ekoenig/8BAnalysis/studies/eightbStudies/jupyter/stats/cut_and_count.ipynb#X42sdnNjb2RlLXJlbW90ZQ%3D%3D?line=16'>17</a>\u001b[0m it \u001b[39m=\u001b[39m tqdm(\u001b[39mrange\u001b[39m(maxsteps)) \u001b[39mif\u001b[39;00m verbose \u001b[39melse\u001b[39;00m \u001b[39mrange\u001b[39m(maxsteps)\n\u001b[1;32m     <a href='vscode-notebook-cell://ssh-remote%2Blpc/uscms_data/d3/ekoenig/8BAnalysis/studies/eightbStudies/jupyter/stats/cut_and_count.ipynb#X42sdnNjb2RlLXJlbW90ZQ%3D%3D?line=17'>18</a>\u001b[0m \u001b[39mfor\u001b[39;00m i \u001b[39min\u001b[39;00m it:    \n\u001b[0;32m---> <a href='vscode-notebook-cell://ssh-remote%2Blpc/uscms_data/d3/ekoenig/8BAnalysis/studies/eightbStudies/jupyter/stats/cut_and_count.ipynb#X42sdnNjb2RlLXJlbW90ZQ%3D%3D?line=18'>19</a>\u001b[0m     loss\u001b[39m.\u001b[39;49mbackward()\n\u001b[1;32m     <a href='vscode-notebook-cell://ssh-remote%2Blpc/uscms_data/d3/ekoenig/8BAnalysis/studies/eightbStudies/jupyter/stats/cut_and_count.ipynb#X42sdnNjb2RlLXJlbW90ZQ%3D%3D?line=19'>20</a>\u001b[0m     optimizer\u001b[39m.\u001b[39mstep()\n\u001b[1;32m     <a href='vscode-notebook-cell://ssh-remote%2Blpc/uscms_data/d3/ekoenig/8BAnalysis/studies/eightbStudies/jupyter/stats/cut_and_count.ipynb#X42sdnNjb2RlLXJlbW90ZQ%3D%3D?line=20'>21</a>\u001b[0m     optimizer\u001b[39m.\u001b[39mzero_grad()       \n",
      "File \u001b[0;32m/uscms_data/d3/ekoenig/mambaforge/envs/py-env/lib/python3.9/site-packages/torch/_tensor.py:396\u001b[0m, in \u001b[0;36mTensor.backward\u001b[0;34m(self, gradient, retain_graph, create_graph, inputs)\u001b[0m\n\u001b[1;32m    387\u001b[0m \u001b[39mif\u001b[39;00m has_torch_function_unary(\u001b[39mself\u001b[39m):\n\u001b[1;32m    388\u001b[0m     \u001b[39mreturn\u001b[39;00m handle_torch_function(\n\u001b[1;32m    389\u001b[0m         Tensor\u001b[39m.\u001b[39mbackward,\n\u001b[1;32m    390\u001b[0m         (\u001b[39mself\u001b[39m,),\n\u001b[0;32m   (...)\u001b[0m\n\u001b[1;32m    394\u001b[0m         create_graph\u001b[39m=\u001b[39mcreate_graph,\n\u001b[1;32m    395\u001b[0m         inputs\u001b[39m=\u001b[39minputs)\n\u001b[0;32m--> 396\u001b[0m torch\u001b[39m.\u001b[39;49mautograd\u001b[39m.\u001b[39;49mbackward(\u001b[39mself\u001b[39;49m, gradient, retain_graph, create_graph, inputs\u001b[39m=\u001b[39;49minputs)\n",
      "File \u001b[0;32m/uscms_data/d3/ekoenig/mambaforge/envs/py-env/lib/python3.9/site-packages/torch/autograd/__init__.py:173\u001b[0m, in \u001b[0;36mbackward\u001b[0;34m(tensors, grad_tensors, retain_graph, create_graph, grad_variables, inputs)\u001b[0m\n\u001b[1;32m    168\u001b[0m     retain_graph \u001b[39m=\u001b[39m create_graph\n\u001b[1;32m    170\u001b[0m \u001b[39m# The reason we repeat same the comment below is that\u001b[39;00m\n\u001b[1;32m    171\u001b[0m \u001b[39m# some Python versions print out the first line of a multi-line function\u001b[39;00m\n\u001b[1;32m    172\u001b[0m \u001b[39m# calls in the traceback and some print out the last line\u001b[39;00m\n\u001b[0;32m--> 173\u001b[0m Variable\u001b[39m.\u001b[39;49m_execution_engine\u001b[39m.\u001b[39;49mrun_backward(  \u001b[39m# Calls into the C++ engine to run the backward pass\u001b[39;49;00m\n\u001b[1;32m    174\u001b[0m     tensors, grad_tensors_, retain_graph, create_graph, inputs,\n\u001b[1;32m    175\u001b[0m     allow_unreachable\u001b[39m=\u001b[39;49m\u001b[39mTrue\u001b[39;49;00m, accumulate_grad\u001b[39m=\u001b[39;49m\u001b[39mTrue\u001b[39;49;00m)\n",
      "\u001b[0;31mRuntimeError\u001b[0m: Trying to backward through the graph a second time (or directly access saved tensors after they have already been freed). Saved intermediate values of the graph are freed when you call .backward() or autograd.grad(). Specify retain_graph=True if you need to backward through the graph a second time or if you need to access saved tensors after calling backward."
     ]
    }
   ],
   "source": [
    "\n",
    "k = berr**2 / b\n",
    "B = b / k\n",
    "\n",
    "r_mle = torch.nn.Parameter(torch.tensor(1.0), requires_grad=True)\n",
    "k_mle = torch.nn.Parameter(k, requires_grad=False)\n",
    "\n",
    "my_model = Summation(\n",
    "    SignalModel(r_mle, s, k_mle * B, r_mle * s + b),\n",
    "    StatisticalModel(k_mle, B, b)\n",
    ")\n",
    "\n",
    "minimize(my_model, verbose=True)"
   ]
  },
  {
   "cell_type": "code",
   "execution_count": 23,
   "metadata": {},
   "outputs": [
    {
     "data": {
      "text/plain": [
       "(Parameter containing:\n",
       " tensor(nan, requires_grad=True),\n",
       " Parameter containing:\n",
       " tensor([1.0000, 1.0000, 1.0000, 1.0000, 1.0000, 1.0000, 1.0000, 1.0000, 1.0000,\n",
       "         1.0000, 1.0000, 1.0000, 1.0000, 1.0000], dtype=torch.float64))"
      ]
     },
     "execution_count": 23,
     "metadata": {},
     "output_type": "execute_result"
    }
   ],
   "source": [
    "r_mle, k_mle"
   ]
  },
  {
   "cell_type": "code",
   "execution_count": null,
   "metadata": {},
   "outputs": [],
   "source": []
  },
  {
   "cell_type": "code",
   "execution_count": null,
   "metadata": {},
   "outputs": [],
   "source": []
  },
  {
   "cell_type": "code",
   "execution_count": 83,
   "metadata": {},
   "outputs": [],
   "source": [
    "class StatsHEP:\n",
    "    def __init__(self, s, b, d, b_err, verbose=False):\n",
    "\n",
    "        self.s = s\n",
    "        self.b = b\n",
    "        self.d = d\n",
    "        self.b_err = b_err\n",
    "\n",
    "        k = b_err**2 / b\n",
    "        B = b / k\n",
    "        \n",
    "        self.r_mle = torch.nn.Parameter( torch.ones(1), requires_grad=True )\n",
    "        self.k_mle = torch.nn.Parameter( k, requires_grad=True )\n",
    "        self.MLE = Summation(\n",
    "            SignalModel(self.r_mle, s, self.k_mle * B, d),\n",
    "            StatisticalModel(self.k_mle, B, b),\n",
    "        )\n",
    "\n",
    "        minimize(self.MLE, lr=1e-2, verbose=verbose) \n",
    "\n",
    "        self.r_scan = torch.linspace(0, 5, 1000)\n",
    "        self.k_scan = torch.nn.Parameter(k.repeat(len(self.r_scan), 1), requires_grad=False)\n",
    "\n",
    "        self.L = Summation(\n",
    "            SignalModel(self.r_mle, s, self.k_scan * B, d),\n",
    "            StatisticalModel(self.k_scan, B, b),\n",
    "        )\n",
    "        \n",
    "    def __call__(self, r=None, b=None):\n",
    "        if r is None:\n",
    "            r = self.r_scan\n",
    "            \n",
    "        with torch.no_grad():\n",
    "            nll = self.L(r) - self.MLE()\n",
    "        \n",
    "        return nll\n",
    "    \n",
    "    def tmu(self, r=None): return self(r)\n",
    "    \n",
    "    def tmu_pvalue(self, r=None):\n",
    "        if r is None: r = self.r_scan\n",
    "        tmu = self.tmu(r)\n",
    "        return scipy.stats.chi2.sf(tmu, 1)\n",
    "    \n",
    "    def tilde_tmu(self, r=None):\n",
    "        if r is None: r = self.r_scan\n",
    "        \n",
    "        with torch.no_grad():\n",
    "            if self.r_mle.item() >= 0:\n",
    "                nll = self.L() - self.MLE()\n",
    "            else:\n",
    "                nll = self.L()\n",
    "                nll -= nll[0]\n",
    "                \n",
    "        return np.interp(r, self.r_scan.numpy(), nll.numpy())\n",
    "\n",
    "    def q0(self):\n",
    "        with torch.no_grad():\n",
    "            if self.r_mle.item() >= 0:\n",
    "                return (self.L(0) - self.MLE())\n",
    "            else:\n",
    "                return 0\n",
    "            \n",
    "    def q0_pvalue(self):\n",
    "        q0 = self.q0()\n",
    "        return scipy.stats.norm.sf(np.sqrt(q0))\n",
    "    \n",
    "    def qmu(self, r=None):\n",
    "        if r is None: r = self.r_scan\n",
    "        \n",
    "        tmu = self.tmu(r)            \n",
    "        mask = self.r_mle.item() <= r\n",
    "        return np.where(mask, tmu, 0)\n",
    "        \n",
    "    def qmu_pvalue(self, r=None):\n",
    "        if r is None: r = self.r_scan\n",
    "        \n",
    "        qmu = self.qmu(r)\n",
    "        return scipy.stats.norm.sf(np.sqrt(qmu))\n",
    "    \n",
    "    def upperlimit(self):\n",
    "        r = torch.linspace(0, 5, 1000)\n",
    "        pmu = self.qmu_pvalue(r)\n",
    "        pb = self.qmu_pvalue(0)\n",
    "        pvalue = pmu / (1 - pb)\n",
    "\n",
    "        return interp_at(0.05, pvalue, r)\n",
    "    \n",
    "    def upperlimit_quantile(self, quantile=[0.025,0.16,0.5,0.84,0.975]):\n",
    "        r_up = self.upperlimit()\n",
    "        qup = self.qmu(r_up)\n",
    "\n",
    "        sigma = r_up / np.sqrt(qup)\n",
    "\n",
    "        x = np.linspace(-4,4,100)\n",
    "        y = scipy.stats.norm.cdf(x)\n",
    "        return sigma * np.interp(quantile, y, x) + r_up\n",
    "        "
   ]
  },
  {
   "cell_type": "code",
   "execution_count": 84,
   "metadata": {},
   "outputs": [
    {
     "name": "stdout",
     "output_type": "stream",
     "text": [
      "Optimizing 2 parameters\n"
     ]
    },
    {
     "name": "stderr",
     "output_type": "stream",
     "text": [
      "loss=11595.031 absdiff=1.675e+01 reldiff=1.443e-03:   0%|          | 1/10000 [00:00<01:58, 84.25it/s]\n"
     ]
    },
    {
     "ename": "RuntimeError",
     "evalue": "Trying to backward through the graph a second time (or directly access saved tensors after they have already been freed). Saved intermediate values of the graph are freed when you call .backward() or autograd.grad(). Specify retain_graph=True if you need to backward through the graph a second time or if you need to access saved tensors after calling backward.",
     "output_type": "error",
     "traceback": [
      "\u001b[0;31m---------------------------------------------------------------------------\u001b[0m",
      "\u001b[0;31mRuntimeError\u001b[0m                              Traceback (most recent call last)",
      "\u001b[1;32m/uscms_data/d3/ekoenig/8BAnalysis/studies/eightbStudies/jupyter/stats/cut_and_count.ipynb Cell 16\u001b[0m in \u001b[0;36m1\n\u001b[0;32m----> <a href='vscode-notebook-cell://ssh-remote%2Blpc/uscms_data/d3/ekoenig/8BAnalysis/studies/eightbStudies/jupyter/stats/cut_and_count.ipynb#Y104sdnNjb2RlLXJlbW90ZQ%3D%3D?line=0'>1</a>\u001b[0m stats \u001b[39m=\u001b[39m StatsHEP(s, b, d, berr, verbose\u001b[39m=\u001b[39;49m\u001b[39mTrue\u001b[39;49;00m)\n",
      "\u001b[1;32m/uscms_data/d3/ekoenig/8BAnalysis/studies/eightbStudies/jupyter/stats/cut_and_count.ipynb Cell 16\u001b[0m in \u001b[0;36m1\n\u001b[1;32m     <a href='vscode-notebook-cell://ssh-remote%2Blpc/uscms_data/d3/ekoenig/8BAnalysis/studies/eightbStudies/jupyter/stats/cut_and_count.ipynb#Y104sdnNjb2RlLXJlbW90ZQ%3D%3D?line=12'>13</a>\u001b[0m \u001b[39mself\u001b[39m\u001b[39m.\u001b[39mk_mle \u001b[39m=\u001b[39m torch\u001b[39m.\u001b[39mnn\u001b[39m.\u001b[39mParameter( k, requires_grad\u001b[39m=\u001b[39m\u001b[39mTrue\u001b[39;00m )\n\u001b[1;32m     <a href='vscode-notebook-cell://ssh-remote%2Blpc/uscms_data/d3/ekoenig/8BAnalysis/studies/eightbStudies/jupyter/stats/cut_and_count.ipynb#Y104sdnNjb2RlLXJlbW90ZQ%3D%3D?line=13'>14</a>\u001b[0m \u001b[39mself\u001b[39m\u001b[39m.\u001b[39mMLE \u001b[39m=\u001b[39m Summation(\n\u001b[1;32m     <a href='vscode-notebook-cell://ssh-remote%2Blpc/uscms_data/d3/ekoenig/8BAnalysis/studies/eightbStudies/jupyter/stats/cut_and_count.ipynb#Y104sdnNjb2RlLXJlbW90ZQ%3D%3D?line=14'>15</a>\u001b[0m     SignalModel(\u001b[39mself\u001b[39m\u001b[39m.\u001b[39mr_mle, s, \u001b[39mself\u001b[39m\u001b[39m.\u001b[39mk_mle \u001b[39m*\u001b[39m B, d),\n\u001b[1;32m     <a href='vscode-notebook-cell://ssh-remote%2Blpc/uscms_data/d3/ekoenig/8BAnalysis/studies/eightbStudies/jupyter/stats/cut_and_count.ipynb#Y104sdnNjb2RlLXJlbW90ZQ%3D%3D?line=15'>16</a>\u001b[0m     StatisticalModel(\u001b[39mself\u001b[39m\u001b[39m.\u001b[39mk_mle, B, b),\n\u001b[1;32m     <a href='vscode-notebook-cell://ssh-remote%2Blpc/uscms_data/d3/ekoenig/8BAnalysis/studies/eightbStudies/jupyter/stats/cut_and_count.ipynb#Y104sdnNjb2RlLXJlbW90ZQ%3D%3D?line=16'>17</a>\u001b[0m )\n\u001b[0;32m---> <a href='vscode-notebook-cell://ssh-remote%2Blpc/uscms_data/d3/ekoenig/8BAnalysis/studies/eightbStudies/jupyter/stats/cut_and_count.ipynb#Y104sdnNjb2RlLXJlbW90ZQ%3D%3D?line=18'>19</a>\u001b[0m minimize(\u001b[39mself\u001b[39;49m\u001b[39m.\u001b[39;49mMLE, lr\u001b[39m=\u001b[39;49m\u001b[39m1e-2\u001b[39;49m, verbose\u001b[39m=\u001b[39;49mverbose) \n\u001b[1;32m     <a href='vscode-notebook-cell://ssh-remote%2Blpc/uscms_data/d3/ekoenig/8BAnalysis/studies/eightbStudies/jupyter/stats/cut_and_count.ipynb#Y104sdnNjb2RlLXJlbW90ZQ%3D%3D?line=20'>21</a>\u001b[0m \u001b[39mself\u001b[39m\u001b[39m.\u001b[39mr_scan \u001b[39m=\u001b[39m torch\u001b[39m.\u001b[39mlinspace(\u001b[39m0\u001b[39m, \u001b[39m5\u001b[39m, \u001b[39m1000\u001b[39m)\n\u001b[1;32m     <a href='vscode-notebook-cell://ssh-remote%2Blpc/uscms_data/d3/ekoenig/8BAnalysis/studies/eightbStudies/jupyter/stats/cut_and_count.ipynb#Y104sdnNjb2RlLXJlbW90ZQ%3D%3D?line=21'>22</a>\u001b[0m \u001b[39mself\u001b[39m\u001b[39m.\u001b[39mk_scan \u001b[39m=\u001b[39m torch\u001b[39m.\u001b[39mnn\u001b[39m.\u001b[39mParameter(k\u001b[39m.\u001b[39mrepeat(\u001b[39mlen\u001b[39m(\u001b[39mself\u001b[39m\u001b[39m.\u001b[39mr_scan), \u001b[39m1\u001b[39m), requires_grad\u001b[39m=\u001b[39m\u001b[39mFalse\u001b[39;00m)\n",
      "\u001b[1;32m/uscms_data/d3/ekoenig/8BAnalysis/studies/eightbStudies/jupyter/stats/cut_and_count.ipynb Cell 16\u001b[0m in \u001b[0;36m1\n\u001b[1;32m     <a href='vscode-notebook-cell://ssh-remote%2Blpc/uscms_data/d3/ekoenig/8BAnalysis/studies/eightbStudies/jupyter/stats/cut_and_count.ipynb#Y104sdnNjb2RlLXJlbW90ZQ%3D%3D?line=16'>17</a>\u001b[0m it \u001b[39m=\u001b[39m tqdm(\u001b[39mrange\u001b[39m(maxsteps)) \u001b[39mif\u001b[39;00m verbose \u001b[39melse\u001b[39;00m \u001b[39mrange\u001b[39m(maxsteps)\n\u001b[1;32m     <a href='vscode-notebook-cell://ssh-remote%2Blpc/uscms_data/d3/ekoenig/8BAnalysis/studies/eightbStudies/jupyter/stats/cut_and_count.ipynb#Y104sdnNjb2RlLXJlbW90ZQ%3D%3D?line=17'>18</a>\u001b[0m \u001b[39mfor\u001b[39;00m i \u001b[39min\u001b[39;00m it:    \n\u001b[0;32m---> <a href='vscode-notebook-cell://ssh-remote%2Blpc/uscms_data/d3/ekoenig/8BAnalysis/studies/eightbStudies/jupyter/stats/cut_and_count.ipynb#Y104sdnNjb2RlLXJlbW90ZQ%3D%3D?line=18'>19</a>\u001b[0m     loss\u001b[39m.\u001b[39;49mbackward()\n\u001b[1;32m     <a href='vscode-notebook-cell://ssh-remote%2Blpc/uscms_data/d3/ekoenig/8BAnalysis/studies/eightbStudies/jupyter/stats/cut_and_count.ipynb#Y104sdnNjb2RlLXJlbW90ZQ%3D%3D?line=19'>20</a>\u001b[0m     optimizer\u001b[39m.\u001b[39mstep()\n\u001b[1;32m     <a href='vscode-notebook-cell://ssh-remote%2Blpc/uscms_data/d3/ekoenig/8BAnalysis/studies/eightbStudies/jupyter/stats/cut_and_count.ipynb#Y104sdnNjb2RlLXJlbW90ZQ%3D%3D?line=20'>21</a>\u001b[0m     optimizer\u001b[39m.\u001b[39mzero_grad()       \n",
      "File \u001b[0;32m/uscms_data/d3/ekoenig/mambaforge/envs/py-env/lib/python3.9/site-packages/torch/_tensor.py:396\u001b[0m, in \u001b[0;36mTensor.backward\u001b[0;34m(self, gradient, retain_graph, create_graph, inputs)\u001b[0m\n\u001b[1;32m    387\u001b[0m \u001b[39mif\u001b[39;00m has_torch_function_unary(\u001b[39mself\u001b[39m):\n\u001b[1;32m    388\u001b[0m     \u001b[39mreturn\u001b[39;00m handle_torch_function(\n\u001b[1;32m    389\u001b[0m         Tensor\u001b[39m.\u001b[39mbackward,\n\u001b[1;32m    390\u001b[0m         (\u001b[39mself\u001b[39m,),\n\u001b[0;32m   (...)\u001b[0m\n\u001b[1;32m    394\u001b[0m         create_graph\u001b[39m=\u001b[39mcreate_graph,\n\u001b[1;32m    395\u001b[0m         inputs\u001b[39m=\u001b[39minputs)\n\u001b[0;32m--> 396\u001b[0m torch\u001b[39m.\u001b[39;49mautograd\u001b[39m.\u001b[39;49mbackward(\u001b[39mself\u001b[39;49m, gradient, retain_graph, create_graph, inputs\u001b[39m=\u001b[39;49minputs)\n",
      "File \u001b[0;32m/uscms_data/d3/ekoenig/mambaforge/envs/py-env/lib/python3.9/site-packages/torch/autograd/__init__.py:173\u001b[0m, in \u001b[0;36mbackward\u001b[0;34m(tensors, grad_tensors, retain_graph, create_graph, grad_variables, inputs)\u001b[0m\n\u001b[1;32m    168\u001b[0m     retain_graph \u001b[39m=\u001b[39m create_graph\n\u001b[1;32m    170\u001b[0m \u001b[39m# The reason we repeat same the comment below is that\u001b[39;00m\n\u001b[1;32m    171\u001b[0m \u001b[39m# some Python versions print out the first line of a multi-line function\u001b[39;00m\n\u001b[1;32m    172\u001b[0m \u001b[39m# calls in the traceback and some print out the last line\u001b[39;00m\n\u001b[0;32m--> 173\u001b[0m Variable\u001b[39m.\u001b[39;49m_execution_engine\u001b[39m.\u001b[39;49mrun_backward(  \u001b[39m# Calls into the C++ engine to run the backward pass\u001b[39;49;00m\n\u001b[1;32m    174\u001b[0m     tensors, grad_tensors_, retain_graph, create_graph, inputs,\n\u001b[1;32m    175\u001b[0m     allow_unreachable\u001b[39m=\u001b[39;49m\u001b[39mTrue\u001b[39;49;00m, accumulate_grad\u001b[39m=\u001b[39;49m\u001b[39mTrue\u001b[39;49;00m)\n",
      "\u001b[0;31mRuntimeError\u001b[0m: Trying to backward through the graph a second time (or directly access saved tensors after they have already been freed). Saved intermediate values of the graph are freed when you call .backward() or autograd.grad(). Specify retain_graph=True if you need to backward through the graph a second time or if you need to access saved tensors after calling backward."
     ]
    }
   ],
   "source": [
    "stats = StatsHEP(s, b, d, berr, verbose=True)"
   ]
  },
  {
   "cell_type": "code",
   "execution_count": 80,
   "metadata": {},
   "outputs": [
    {
     "data": {
      "text/plain": [
       "tensor([31.4287], dtype=torch.float64, grad_fn=<AddBackward0>)"
      ]
     },
     "execution_count": 80,
     "metadata": {},
     "output_type": "execute_result"
    }
   ],
   "source": [
    "stats.MLE()"
   ]
  },
  {
   "cell_type": "code",
   "execution_count": 82,
   "metadata": {},
   "outputs": [
    {
     "data": {
      "text/plain": [
       "(Parameter containing:\n",
       " tensor([53.3963], requires_grad=True),\n",
       " Parameter containing:\n",
       " tensor([116.1361], dtype=torch.float64),\n",
       " tensor([116.1361], dtype=torch.float64))"
      ]
     },
     "execution_count": 82,
     "metadata": {},
     "output_type": "execute_result"
    }
   ],
   "source": [
    "stats.r_mle, stats.b_mle, stats.b"
   ]
  },
  {
   "cell_type": "code",
   "execution_count": 40,
   "metadata": {},
   "outputs": [
    {
     "data": {
      "image/png": "[encoded data removed]",
      "text/plain": [
       "<Figure size 650x650 with 1 Axes>"
      ]
     },
     "metadata": {},
     "output_type": "display_data"
    }
   ],
   "source": [
    "with torch.no_grad():\n",
    "    r_scan = torch.linspace(0, 5, 1000)\n",
    "    plu.graph_array(\n",
    "        r_scan,\n",
    "        stats(r_scan),\n",
    "    )\n"
   ]
  },
  {
   "cell_type": "code",
   "execution_count": null,
   "metadata": {},
   "outputs": [],
   "source": []
  },
  {
   "cell_type": "code",
   "execution_count": 41,
   "metadata": {},
   "outputs": [],
   "source": [
    "datacard = \"\"\"\n",
    "imax * number of channels\n",
    "jmax * number of backgrounds\n",
    "kmax * number of nuisance parameters (sources of systematical uncertainties)\n",
    "----\n",
    "bin bin1\n",
    "observation {nobs}\n",
    "bin           bin1          bin1  \n",
    "process       sig           bkg  \n",
    "process       0             1    \n",
    "rate          {nsig:0.2f}   {nbkg:0.2f}\n",
    "----\n",
    "\"\"\".format(\n",
    "    nobs=torch.sum(d),\n",
    "    nsig=torch.sum(s[0]),\n",
    "    nbkg=torch.sum(b),\n",
    ")"
   ]
  },
  {
   "cell_type": "code",
   "execution_count": 42,
   "metadata": {},
   "outputs": [],
   "source": [
    "import utils.combineUtils as combine"
   ]
  },
  {
   "cell_type": "code",
   "execution_count": 43,
   "metadata": {},
   "outputs": [
    {
     "name": "stdout",
     "output_type": "stream",
     "text": [
      "/uscms_data/d3/ekoenig/8BAnalysis/combine/CMSSW_10_2_13/src/HiggsAnalysis/CombinedLimit\n"
     ]
    }
   ],
   "source": [
    "!readlink -f ~/eightb/combine/../"
   ]
  },
  {
   "cell_type": "code",
   "execution_count": 44,
   "metadata": {},
   "outputs": [],
   "source": [
    "combine_path = '/uscms_data/d3/ekoenig/8BAnalysis/combine/CMSSW_10_2_13/src/HiggsAnalysis/CombinedLimit'\n",
    "with combine.Process(combine_path, datacard, remove_workspace=True) as result:\n",
    "\n",
    "    ..."
   ]
  },
  {
   "cell_type": "code",
   "execution_count": 45,
   "metadata": {},
   "outputs": [
    {
     "data": {
      "text/plain": [
       "3.158158302307129"
      ]
     },
     "execution_count": 45,
     "metadata": {},
     "output_type": "execute_result"
    }
   ],
   "source": [
    "stats.upperlimit()"
   ]
  },
  {
   "cell_type": "code",
   "execution_count": 46,
   "metadata": {},
   "outputs": [
    {
     "name": "stdout",
     "output_type": "stream",
     "text": [
      "perl: warning: Setting locale failed.\n",
      "perl: warning: Please check that your locale settings:\n",
      "\tLANGUAGE = (unset),\n",
      "\tLC_ALL = (unset),\n",
      "\tLANG = \"C.UTF-8\"\n",
      "    are supported and installed on your system.\n",
      "perl: warning: Falling back to the standard locale (\"C\").\n",
      " <<< Combine >>> \n",
      ">>> random number generator seed is 123456\n",
      ">>> method used is AsymptoticLimits\n",
      "\n",
      " -- AsymptoticLimits ( CLs ) --\n",
      "Observed Limit: r < 2.9132\n",
      "Expected  2.5%: r < 1.1581\n",
      "Expected 16.0%: r < 1.5450\n",
      "Expected 50.0%: r < 2.1484\n",
      "Expected 84.0%: r < 2.9963\n",
      "Expected 97.5%: r < 4.0048\n",
      "\n",
      "Done in 0.00 min (cpu), 0.00 min (real)\n",
      "\n"
     ]
    }
   ],
   "source": [
    "print(result.log.decode())"
   ]
  },
  {
   "cell_type": "code",
   "execution_count": null,
   "metadata": {},
   "outputs": [],
   "source": []
  }
 ],
 "metadata": {
  "kernelspec": {
   "display_name": "studies",
   "language": "python",
   "name": "python3"
  },
  "language_info": {
   "codemirror_mode": {
    "name": "ipython",
    "version": 3
   },
   "file_extension": ".py",
   "mimetype": "text/x-python",
   "name": "python",
   "nbconvert_exporter": "python",
   "pygments_lexer": "ipython3",
   "version": "3.9.15"
  },
  "orig_nbformat": 4
 },
 "nbformat": 4,
 "nbformat_minor": 2
}

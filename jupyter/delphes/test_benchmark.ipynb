{
 "cells": [
  {
   "cell_type": "code",
   "execution_count": 1,
   "metadata": {},
   "outputs": [
    {
     "name": "stdout",
     "output_type": "stream",
     "text": [
      "c0709a-s30.ufhpc\n",
      "/home/ekoenig/analysis/studies/jupyter/delphes\n"
     ]
    }
   ],
   "source": [
    "!hostname\n",
    "!pwd"
   ]
  },
  {
   "cell_type": "code",
   "execution_count": 2,
   "metadata": {},
   "outputs": [],
   "source": [
    "%load_ext autoreload\n",
    "%autoreload 2\n",
    "\n",
    "import os\n",
    "os.environ['KMP_WARNINGS'] = 'off'\n",
    "import sys\n",
    "import git\n",
    "\n",
    "import uproot as ut\n",
    "import awkward as ak\n",
    "import numpy as np\n",
    "import math\n",
    "import vector\n",
    "import sympy as sp\n",
    "\n",
    "import re\n",
    "from tqdm import tqdm\n",
    "import timeit\n",
    "import re\n",
    "\n",
    "sys.path.append( git.Repo('.', search_parent_directories=True).working_tree_dir )\n",
    "from utils import *"
   ]
  },
  {
   "cell_type": "code",
   "execution_count": 3,
   "metadata": {},
   "outputs": [
    {
     "name": "stderr",
     "output_type": "stream",
     "text": [
      "100%|██████████| 1/1 [00:01<00:00,  1.20s/it]\n"
     ]
    }
   ],
   "source": [
    "fname = '/home/ekoenig/analysis/simulation/MG5_aMC_v2_9_16/cards/ggHHto4b/Events/run_02/tag_1_delphes_events.root'\n",
    "\n",
    "tree = Tree([fname], treename='Delphes', normalization=None, weights=[], is_signal=True, sample='ggHH4b')"
   ]
  },
  {
   "cell_type": "code",
   "execution_count": 9,
   "metadata": {},
   "outputs": [],
   "source": [
    "varmap = { field.replace('.','_'):field for field in tree.fields if '.' in field }\n",
    "tree.varmap = varmap"
   ]
  },
  {
   "cell_type": "code",
   "execution_count": 10,
   "metadata": {},
   "outputs": [
    {
     "name": "stderr",
     "output_type": "stream",
     "text": [
      "100%|██████████| 1/1 [00:00<00:00, 92.70it/s]\n"
     ]
    },
    {
     "data": {
      "image/png": "[encoded data removed]",
      "text/plain": [
       "<Figure size 480x400 with 1 Axes>"
      ]
     },
     "metadata": {},
     "output_type": "display_data"
    }
   ],
   "source": [
    "study.quick(\n",
    "    [tree],\n",
    "    varlist=['Jet'],\n",
    "    lumi=None,\n",
    ")"
   ]
  },
  {
   "cell_type": "code",
   "execution_count": 11,
   "metadata": {},
   "outputs": [],
   "source": [
    "genparts = ak.zip(dict(\n",
    "    pt=tree.Particle_PT,\n",
    "    eta=tree.Particle_Eta,\n",
    "    phi=tree.Particle_Phi,\n",
    "    mass=tree.Particle_Mass,\n",
    "    pid=tree.Particle_PID,\n",
    "    status=tree.Particle_Status,\n",
    "), with_name='Momentum4D')"
   ]
  },
  {
   "cell_type": "code",
   "execution_count": 12,
   "metadata": {},
   "outputs": [],
   "source": [
    "is_b = abs(genparts.pid) == 5\n",
    "outgoing = genparts.status == 23\n",
    "bquarks= genparts[is_b & outgoing]"
   ]
  },
  {
   "cell_type": "code",
   "execution_count": 13,
   "metadata": {},
   "outputs": [],
   "source": [
    "genjets = ak.zip(dict(\n",
    "    pt=tree.GenJet_PT,\n",
    "    eta=tree.GenJet_Eta,\n",
    "    phi=tree.GenJet_Phi,\n",
    "    mass=tree.GenJet_Mass,\n",
    "), with_name='Momentum4D')"
   ]
  },
  {
   "cell_type": "code",
   "execution_count": 14,
   "metadata": {},
   "outputs": [],
   "source": [
    "recojets = ak.zip(dict(\n",
    "    pt=tree.Jet_PT,\n",
    "    eta=tree.Jet_Eta,\n",
    "    phi=tree.Jet_Phi,\n",
    "    mass=tree.Jet_Mass,\n",
    "    btag=tree.Jet_BTag,\n",
    "), with_name='Momentum4D')"
   ]
  },
  {
   "cell_type": "code",
   "execution_count": 26,
   "metadata": {},
   "outputs": [],
   "source": [
    "def dr_match_objs(obj1_p4, obj2_p4):\n",
    "    n_obj1 = ak.num(obj1_p4, axis=1)\n",
    "    n_obj2 = ak.num(obj2_p4, axis=1)\n",
    "\n",
    "    obj1_obj2_dr = ak.flatten(obj1_p4.deltaR(obj2_p4[:,None]), axis=2)\n",
    "    obj1_obj2_index = ak.local_index(obj1_obj2_dr)\n",
    "    mask = ak.ones_like(obj1_obj2_dr, dtype=bool)\n",
    "\n",
    "    niters = ak.max(ak.min(ak.concatenate([n_obj1[:,None], n_obj2[:,None]], axis=1), axis=1))\n",
    "\n",
    "    obj1_index = ak.local_index(obj1_p4.pt)\n",
    "    obj1_matched_dr = -ak.ones_like(obj1_p4.pt)\n",
    "    obj1_matched_idx = -ak.ones_like(obj1_p4.pt, dtype=int)\n",
    "\n",
    "    obj2_index = ak.local_index(obj2_p4.pt)\n",
    "    obj2_matched_dr = -ak.ones_like(obj2_p4.pt)\n",
    "    obj2_matched_idx = -ak.ones_like(obj2_p4.pt,  dtype=int)\n",
    "\n",
    "    for _ in range(niters):\n",
    "        masked_obj1_obj2_dr = ak.where(mask, obj1_obj2_dr, 999)\n",
    "        mindr, argmin = ak.min(masked_obj1_obj2_dr, axis=1), ak.argmin(masked_obj1_obj2_dr, axis=1)\n",
    "\n",
    "        matched_obj1_idx = argmin % n_obj1\n",
    "        matched_obj2_idx = argmin // n_obj1\n",
    "\n",
    "        matched_obj1_idx = ak.where(mindr == 999, -1, matched_obj1_idx)\n",
    "        matched_obj2_idx = ak.where(mindr == 999, -1, matched_obj2_idx)\n",
    "        mindr = ak.where(mindr == 999, -1, mindr)\n",
    "\n",
    "        obj1_matched_dr = ak.where( (obj1_index == matched_obj1_idx) & (obj1_matched_dr == -1), mindr, obj1_matched_dr )\n",
    "        obj1_matched_idx = ak.where( (obj1_index == matched_obj1_idx) & (obj1_matched_idx == -1), matched_obj2_idx, obj1_matched_idx )\n",
    "\n",
    "        obj2_matched_dr = ak.where( (obj2_index == matched_obj2_idx) & (obj2_matched_dr == -1), mindr, obj2_matched_dr )\n",
    "        obj2_matched_idx = ak.where( (obj2_index == matched_obj2_idx) & (obj2_matched_idx == -1), matched_obj1_idx, obj2_matched_idx )\n",
    "\n",
    "        mask = mask & ~( ( (obj1_obj2_index % n_obj1) == matched_obj1_idx ) | ( (obj1_obj2_index // n_obj1) == matched_obj2_idx ) )\n",
    "\n",
    "    return obj1_matched_dr, obj1_matched_idx, obj2_matched_dr, obj2_matched_idx\n"
   ]
  },
  {
   "cell_type": "code",
   "execution_count": 27,
   "metadata": {},
   "outputs": [],
   "source": [
    "bquarks['matched_genjet_dr'], bquarks['matched_genjet_idx'], genjets['matched_bquark_dr'], genjets['matched_bquark_idx'] = dr_match_objs(bquarks, genjets)"
   ]
  },
  {
   "cell_type": "code",
   "execution_count": 28,
   "metadata": {},
   "outputs": [],
   "source": [
    "genjets['matched_recojet_dr'], genjets['matched_recojet_idx'], recojets['matched_genjet_dr'], recojets['matched_genjet_idx'] = dr_match_objs(genjets, recojets)"
   ]
  },
  {
   "cell_type": "code",
   "execution_count": 31,
   "metadata": {},
   "outputs": [],
   "source": [
    "recojets['matched_bquark_idx'] = genjets.matched_bquark_idx[recojets.matched_genjet_idx]"
   ]
  },
  {
   "cell_type": "code",
   "execution_count": 32,
   "metadata": {},
   "outputs": [
    {
     "data": {
      "text/plain": [
       "<Array [[0, 2, -1, 1], ... [1, 3, 0, 2]] type='10000 * option[var * int64]'>"
      ]
     },
     "execution_count": 32,
     "metadata": {},
     "output_type": "execute_result"
    }
   ],
   "source": [
    "recojets.matched_bquark_idx"
   ]
  },
  {
   "cell_type": "code",
   "execution_count": 30,
   "metadata": {},
   "outputs": [
    {
     "name": "stderr",
     "output_type": "stream",
     "text": [
      "100%|██████████| 2/2 [00:00<00:00,  8.83it/s]\n"
     ]
    },
    {
     "data": {
      "image/png": "[encoded data removed]",
      "text/plain": [
       "<Figure size 960x400 with 2 Axes>"
      ]
     },
     "metadata": {},
     "output_type": "display_data"
    }
   ],
   "source": [
    "study.quick(\n",
    "    [tree],\n",
    "    varlist=['Jet_PT[:,0]','Jet_BTag[:,0]'],\n",
    "    lumi=None,\n",
    ")"
   ]
  }
 ],
 "metadata": {
  "kernelspec": {
   "display_name": "Python 3 (ipykernel)",
   "language": "python",
   "name": "python3"
  },
  "language_info": {
   "codemirror_mode": {
    "name": "ipython",
    "version": 3
   },
   "file_extension": ".py",
   "mimetype": "text/x-python",
   "name": "python",
   "nbconvert_exporter": "python",
   "pygments_lexer": "ipython3",
   "version": "3.10.8"
  },
  "orig_nbformat": 4
 },
 "nbformat": 4,
 "nbformat_minor": 2
}

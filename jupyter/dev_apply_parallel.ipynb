{
 "cells": [
  {
   "cell_type": "code",
   "execution_count": 1,
   "id": "9bfa3b5a",
   "metadata": {},
   "outputs": [],
   "source": [
    "%load_ext autoreload\n",
    "%autoreload 2\n",
    "\n",
    "import os\n",
    "os.environ['KMP_WARNINGS'] = 'off'\n",
    "import sys\n",
    "import git\n",
    "\n",
    "import uproot as ut\n",
    "import awkward as ak\n",
    "import numpy as np\n",
    "import math\n",
    "import vector\n",
    "import sympy as sp\n",
    "\n",
    "import re\n",
    "from tqdm import tqdm\n",
    "import timeit\n",
    "import re\n",
    "\n",
    "sys.path.append( git.Repo('.', search_parent_directories=True).working_tree_dir )\n",
    "from utils import *"
   ]
  },
  {
   "cell_type": "code",
   "execution_count": 11,
   "id": "8a6272b7",
   "metadata": {},
   "outputs": [],
   "source": [
    "class Object:\n",
    "    ID = 0\n",
    "    def __init__(self):\n",
    "        self.id = Object.ID\n",
    "        Object.ID += 1\n",
    "\n"
   ]
  },
  {
   "cell_type": "code",
   "execution_count": 53,
   "id": "ed57d367",
   "metadata": {},
   "outputs": [],
   "source": [
    "def operation(obj):\n",
    "    obj.new_attr = f'new_attr {obj.id}'\n",
    "    return obj"
   ]
  },
  {
   "cell_type": "code",
   "execution_count": 54,
   "id": "8decec2a",
   "metadata": {},
   "outputs": [
    {
     "name": "stderr",
     "output_type": "stream",
     "text": [
      "100%|██████████| 10/10 [00:00<00:00, 71453.22it/s]\n"
     ]
    },
    {
     "data": {
      "text/plain": [
       "['new_attr 220', 'new_attr 221', 'new_attr 222', 'new_attr 223', 'new_attr 224', 'new_attr 225', 'new_attr 226', 'new_attr 227', 'new_attr 228', 'new_attr 229']"
      ]
     },
     "execution_count": 54,
     "metadata": {},
     "output_type": "execute_result"
    }
   ],
   "source": [
    "objs = ObjIter([Object() for i in range(10)])\n",
    "\n",
    "objs.apply(operation, report=True)\n",
    "\n",
    "objs.new_attr"
   ]
  },
  {
   "cell_type": "code",
   "execution_count": 58,
   "id": "a27e5d5d",
   "metadata": {},
   "outputs": [],
   "source": [
    "objs = ObjIter([Object() for i in range(10)])\n",
    "\n",
    "new_objs = objs.apply(operation, report=True, parallel=2)"
   ]
  },
  {
   "cell_type": "code",
   "execution_count": 59,
   "id": "a751e1fe",
   "metadata": {},
   "outputs": [
    {
     "data": {
      "text/plain": [
       "['new_attr 250', 'new_attr 251', 'new_attr 252', 'new_attr 253', 'new_attr 254', 'new_attr 255', 'new_attr 256', 'new_attr 257', 'new_attr 258', 'new_attr 259']"
      ]
     },
     "execution_count": 59,
     "metadata": {},
     "output_type": "execute_result"
    }
   ],
   "source": [
    "new_objs.new_attr"
   ]
  }
 ],
 "metadata": {
  "kernelspec": {
   "display_name": "Python 3.9.15 ('py-env')",
   "language": "python",
   "name": "python3"
  },
  "language_info": {
   "codemirror_mode": {
    "name": "ipython",
    "version": 3
   },
   "file_extension": ".py",
   "mimetype": "text/x-python",
   "name": "python",
   "nbconvert_exporter": "python",
   "pygments_lexer": "ipython3",
   "version": "3.9.15"
  },
  "vscode": {
   "interpreter": {
    "hash": "99d8ad6568882febb6ca5d1c2307614594cf6684ed0ce2b9f63bf31341fdb3d5"
   }
  }
 },
 "nbformat": 4,
 "nbformat_minor": 5
}

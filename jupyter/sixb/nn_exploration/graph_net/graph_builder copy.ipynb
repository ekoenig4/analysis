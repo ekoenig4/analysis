{
 "cells": [
  {
   "cell_type": "code",
   "execution_count": 1,
   "id": "ef215b25",
   "metadata": {},
   "outputs": [],
   "source": [
    "%load_ext autoreload\n",
    "%autoreload 2\n",
    "\n",
    "import os\n",
    "import sys\n",
    "import git\n",
    "\n",
    "import uproot as ut\n",
    "import awkward as ak\n",
    "import numpy as np\n",
    "import math\n",
    "import vector\n",
    "import sympy as sp\n",
    "\n",
    "import re\n",
    "from tqdm import tqdm\n",
    "import timeit\n",
    "\n",
    "sys.path.append( git.Repo('.', search_parent_directories=True).working_tree_dir )\n",
    "from utils import *\n",
    "\n",
    "import utils.torchUtils as gnn\n",
    "\n",
    "plt.style.use('science')\n"
   ]
  },
  {
   "cell_type": "code",
   "execution_count": 2,
   "id": "dd31ae0e",
   "metadata": {},
   "outputs": [],
   "source": [
    "subset = 'top6btag_signal'\n",
    "\n",
    "event_filter = FilterSequence(\n",
    "    CollectionFilter('jet', filter=lambda t: ak.argsort(ak.argsort(t.jet_btag,axis=-1,ascending=False)) < 6)\n",
    ")\n",
    "\n",
    "def has_higgs(t):\n",
    "    jets = t.jet_signalId\n",
    "    jets_idx = ak.local_index(jets, axis=-1)\n",
    "    pairs = ak.unzip(ak.combinations(jets_idx, 2))\n",
    "    j1_id, j2_id = jets[pairs[0]], jets[pairs[1]]\n",
    "    diff = np.abs(j1_id - j2_id)\n",
    "    add = j1_id + j2_id\n",
    "    mod2 = add % 2\n",
    "    paired = (diff*mod2 == 1) & ((add == 1) | (add == 5) | (add == 9) | (add == 13))\n",
    "    \n",
    "    signalId = ak.min(ak.concatenate([j1_id[:,:,None],j2_id[:,:,None]],axis=-1),axis=-1)//2\n",
    "    signalId = ak.where(paired,signalId,-1)\n",
    "    return ak.any(signalId>-1,axis=-1)\n",
    "\n",
    "signal_filter = FilterSequence(\n",
    "    event_filter,\n",
    "    # EventFilter('at least one pair', filter=has_higgs)\n",
    "    EventFilter('only signal bs',filter=lambda t:ak.sum(t.jet_signalId>-1,axis=-1)==8)\n",
    ")"
   ]
  },
  {
   "cell_type": "code",
   "execution_count": 3,
   "id": "3dc64309",
   "metadata": {},
   "outputs": [],
   "source": [
    "temptree = Tree(fc.eightb.training.signal_list)"
   ]
  },
  {
   "cell_type": "code",
   "execution_count": 4,
   "id": "a5e4f1de",
   "metadata": {},
   "outputs": [
    {
     "data": {
      "text/plain": [
       "0"
      ]
     },
     "execution_count": 4,
     "metadata": {},
     "output_type": "execute_result"
    }
   ],
   "source": [
    "import os \n",
    "\n",
    "os.system(f'rm -rf data/{subset}/*')"
   ]
  },
  {
   "cell_type": "code",
   "execution_count": 5,
   "id": "5bdb4dac",
   "metadata": {},
   "outputs": [
    {
     "name": "stderr",
     "output_type": "stream",
     "text": [
      "Processing...\n"
     ]
    },
    {
     "name": "stdout",
     "output_type": "stream",
     "text": [
      "Building Template Dataset...\n",
      "Building Features...\n",
      "Saving Dataset...\n"
     ]
    },
    {
     "name": "stderr",
     "output_type": "stream",
     "text": [
      "Done!\n"
     ]
    }
   ],
   "source": [
    "template = gnn.Dataset(f'data/template',temptree,make_template=True)"
   ]
  },
  {
   "cell_type": "code",
   "execution_count": 6,
   "id": "e8620b65",
   "metadata": {},
   "outputs": [],
   "source": [
    "trainiter = TreeIter([Tree(fn) for fn in fc.eightb.training.signal_list])\n",
    "trainiter = trainiter.apply(signal_filter.filter)"
   ]
  },
  {
   "cell_type": "code",
   "execution_count": 7,
   "id": "8c81d572",
   "metadata": {},
   "outputs": [
    {
     "name": "stderr",
     "output_type": "stream",
     "text": [
      "Processing...\n"
     ]
    },
    {
     "name": "stdout",
     "output_type": "stream",
     "text": [
      "Building Features...\n",
      "Building Dataset...\n",
      "Saving Dataset...\n",
      "Building Features...\n"
     ]
    },
    {
     "name": "stderr",
     "output_type": "stream",
     "text": [
      "Done!\n",
      "Processing...\n"
     ]
    },
    {
     "name": "stdout",
     "output_type": "stream",
     "text": [
      "Building Dataset...\n",
      "Saving Dataset...\n"
     ]
    },
    {
     "name": "stderr",
     "output_type": "stream",
     "text": [
      "Done!\n",
      "Processing...\n"
     ]
    },
    {
     "name": "stdout",
     "output_type": "stream",
     "text": [
      "Building Features...\n",
      "Building Dataset...\n",
      "Saving Dataset...\n",
      "Building Features...\n"
     ]
    },
    {
     "name": "stderr",
     "output_type": "stream",
     "text": [
      "Done!\n",
      "Processing...\n"
     ]
    },
    {
     "name": "stdout",
     "output_type": "stream",
     "text": [
      "Building Dataset...\n",
      "Saving Dataset...\n",
      "Building Features...\n"
     ]
    },
    {
     "name": "stderr",
     "output_type": "stream",
     "text": [
      "Done!\n",
      "Processing...\n"
     ]
    },
    {
     "name": "stdout",
     "output_type": "stream",
     "text": [
      "Building Dataset...\n",
      "Saving Dataset...\n",
      "Building Features...\n"
     ]
    },
    {
     "name": "stderr",
     "output_type": "stream",
     "text": [
      "Done!\n",
      "Processing...\n"
     ]
    },
    {
     "name": "stdout",
     "output_type": "stream",
     "text": [
      "Building Dataset...\n",
      "Saving Dataset...\n",
      "Building Features...\n"
     ]
    },
    {
     "name": "stderr",
     "output_type": "stream",
     "text": [
      "Done!\n",
      "Processing...\n"
     ]
    },
    {
     "name": "stdout",
     "output_type": "stream",
     "text": [
      "Building Dataset...\n",
      "Saving Dataset...\n"
     ]
    },
    {
     "name": "stderr",
     "output_type": "stream",
     "text": [
      "Done!\n",
      "Processing...\n"
     ]
    },
    {
     "name": "stdout",
     "output_type": "stream",
     "text": [
      "Building Features...\n",
      "Building Dataset...\n",
      "Saving Dataset...\n"
     ]
    },
    {
     "name": "stderr",
     "output_type": "stream",
     "text": [
      "Done!\n"
     ]
    }
   ],
   "source": [
    "dataset = [ gnn.Dataset(f'data/{subset}/{tree.sample}-training',tree,template) for tree in trainiter ]"
   ]
  },
  {
   "cell_type": "code",
   "execution_count": 8,
   "id": "88272348",
   "metadata": {},
   "outputs": [],
   "source": [
    "testiter = TreeIter([Tree(fn) for fn in fc.eightb.preselection.signal_list])"
   ]
  },
  {
   "cell_type": "code",
   "execution_count": 9,
   "id": "a9481c9d",
   "metadata": {},
   "outputs": [],
   "source": [
    "testiter = testiter.apply(signal_filter.filter)"
   ]
  },
  {
   "cell_type": "code",
   "execution_count": 10,
   "id": "cbbbc76e",
   "metadata": {},
   "outputs": [
    {
     "name": "stderr",
     "output_type": "stream",
     "text": [
      "Processing...\n"
     ]
    },
    {
     "name": "stdout",
     "output_type": "stream",
     "text": [
      "Building Features...\n",
      "Building Dataset...\n",
      "Saving Dataset...\n",
      "Building Features...\n"
     ]
    },
    {
     "name": "stderr",
     "output_type": "stream",
     "text": [
      "Done!\n",
      "Processing...\n"
     ]
    },
    {
     "name": "stdout",
     "output_type": "stream",
     "text": [
      "Building Dataset...\n",
      "Saving Dataset...\n",
      "Building Features...\n"
     ]
    },
    {
     "name": "stderr",
     "output_type": "stream",
     "text": [
      "Done!\n",
      "Processing...\n"
     ]
    },
    {
     "name": "stdout",
     "output_type": "stream",
     "text": [
      "Building Dataset...\n",
      "Saving Dataset...\n",
      "Building Features...\n"
     ]
    },
    {
     "name": "stderr",
     "output_type": "stream",
     "text": [
      "Done!\n",
      "Processing...\n"
     ]
    },
    {
     "name": "stdout",
     "output_type": "stream",
     "text": [
      "Building Dataset...\n",
      "Saving Dataset...\n",
      "Building Features...\n"
     ]
    },
    {
     "name": "stderr",
     "output_type": "stream",
     "text": [
      "Done!\n",
      "Processing...\n"
     ]
    },
    {
     "name": "stdout",
     "output_type": "stream",
     "text": [
      "Building Dataset...\n",
      "Saving Dataset...\n",
      "Building Features...\n"
     ]
    },
    {
     "name": "stderr",
     "output_type": "stream",
     "text": [
      "Done!\n",
      "Processing...\n"
     ]
    },
    {
     "name": "stdout",
     "output_type": "stream",
     "text": [
      "Building Dataset...\n",
      "Saving Dataset...\n",
      "Building Features...\n"
     ]
    },
    {
     "name": "stderr",
     "output_type": "stream",
     "text": [
      "Done!\n",
      "Processing...\n"
     ]
    },
    {
     "name": "stdout",
     "output_type": "stream",
     "text": [
      "Building Dataset...\n",
      "Saving Dataset...\n",
      "Building Features...\n"
     ]
    },
    {
     "name": "stderr",
     "output_type": "stream",
     "text": [
      "Done!\n",
      "Processing...\n"
     ]
    },
    {
     "name": "stdout",
     "output_type": "stream",
     "text": [
      "Building Dataset...\n",
      "Saving Dataset...\n"
     ]
    },
    {
     "name": "stderr",
     "output_type": "stream",
     "text": [
      "Done!\n"
     ]
    }
   ],
   "source": [
    "dataset = [ gnn.Dataset(f'data/{subset}/{tree.sample}-testing',tree,template) for tree in testiter ]"
   ]
  },
  {
   "cell_type": "code",
   "execution_count": 11,
   "id": "cafd7132",
   "metadata": {},
   "outputs": [],
   "source": [
    "qcdtrees = ObjIter([ Tree(qcd,allow_empty=True) for qcd in fc.eightb.preselection.QCD_B_List ])"
   ]
  },
  {
   "cell_type": "code",
   "execution_count": 12,
   "id": "f8cafe8c",
   "metadata": {},
   "outputs": [],
   "source": [
    "qcdtrees = qcdtrees.apply(event_filter)"
   ]
  },
  {
   "cell_type": "code",
   "execution_count": 13,
   "id": "e702789d",
   "metadata": {},
   "outputs": [
    {
     "name": "stdout",
     "output_type": "stream",
     "text": [
      "QCD_bEnriched_HT100to200_TuneCP5_13TeV-madgraph-pythia8\n",
      "Building Features...\n"
     ]
    },
    {
     "name": "stderr",
     "output_type": "stream",
     "text": [
      "Processing...\n"
     ]
    },
    {
     "name": "stdout",
     "output_type": "stream",
     "text": [
      "Building Dataset...\n",
      "Saving Dataset...\n",
      "QCD_bEnriched_HT200to300_TuneCP5_13TeV-madgraph-pythia8\n",
      "Building Features...\n"
     ]
    },
    {
     "name": "stderr",
     "output_type": "stream",
     "text": [
      "Done!\n",
      "Processing...\n"
     ]
    },
    {
     "name": "stdout",
     "output_type": "stream",
     "text": [
      "Building Dataset...\n",
      "Saving Dataset...\n",
      "QCD_bEnriched_HT300to500_TuneCP5_13TeV-madgraph-pythia8\n",
      "Building Features...\n"
     ]
    },
    {
     "name": "stderr",
     "output_type": "stream",
     "text": [
      "Done!\n",
      "Processing...\n"
     ]
    },
    {
     "name": "stdout",
     "output_type": "stream",
     "text": [
      "Building Dataset...\n",
      "Saving Dataset...\n"
     ]
    },
    {
     "name": "stderr",
     "output_type": "stream",
     "text": [
      "Done!\n",
      "Processing...\n"
     ]
    },
    {
     "name": "stdout",
     "output_type": "stream",
     "text": [
      "QCD_bEnriched_HT500to700_TuneCP5_13TeV-madgraph-pythia8\n",
      "Building Features...\n",
      "Building Dataset...\n",
      "Saving Dataset...\n"
     ]
    },
    {
     "name": "stderr",
     "output_type": "stream",
     "text": [
      "Done!\n",
      "Processing...\n"
     ]
    },
    {
     "name": "stdout",
     "output_type": "stream",
     "text": [
      "QCD_bEnriched_HT700to1000_TuneCP5_13TeV-madgraph-pythia8\n",
      "Building Features...\n",
      "Building Dataset...\n",
      "Saving Dataset...\n"
     ]
    },
    {
     "name": "stderr",
     "output_type": "stream",
     "text": [
      "Done!\n",
      "Processing...\n"
     ]
    },
    {
     "name": "stdout",
     "output_type": "stream",
     "text": [
      "QCD_bEnriched_HT1000to1500_TuneCP5_13TeV-madgraph-pythia8\n",
      "Building Features...\n",
      "Building Dataset...\n",
      "Saving Dataset...\n"
     ]
    },
    {
     "name": "stderr",
     "output_type": "stream",
     "text": [
      "Done!\n",
      "Processing...\n"
     ]
    },
    {
     "name": "stdout",
     "output_type": "stream",
     "text": [
      "QCD_bEnriched_HT1500to2000_TuneCP5_13TeV-madgraph-pythia8\n",
      "Building Features...\n",
      "Building Dataset...\n",
      "Saving Dataset...\n"
     ]
    },
    {
     "name": "stderr",
     "output_type": "stream",
     "text": [
      "Done!\n",
      "Processing...\n"
     ]
    },
    {
     "name": "stdout",
     "output_type": "stream",
     "text": [
      "QCD_bEnriched_HT2000toInf_TuneCP5_13TeV-madgraph-pythia8\n",
      "Building Features...\n",
      "Building Dataset...\n",
      "Saving Dataset...\n"
     ]
    },
    {
     "name": "stderr",
     "output_type": "stream",
     "text": [
      "Done!\n",
      "Processing...\n"
     ]
    },
    {
     "name": "stdout",
     "output_type": "stream",
     "text": [
      "QCD_HT100to200_BGenFilter_TuneCP5_13TeV-madgraph-pythia8\n",
      "QCD_HT200to300_BGenFilter_TuneCP5_13TeV-madgraph-pythia8\n",
      "Building Features...\n",
      "Building Dataset...\n",
      "Saving Dataset...\n",
      "QCD_HT300to500_BGenFilter_TuneCP5_13TeV-madgraph-pythia8\n",
      "Building Features...\n"
     ]
    },
    {
     "name": "stderr",
     "output_type": "stream",
     "text": [
      "Done!\n",
      "Processing...\n"
     ]
    },
    {
     "name": "stdout",
     "output_type": "stream",
     "text": [
      "Building Dataset...\n",
      "Saving Dataset...\n",
      "QCD_HT500to700_BGenFilter_TuneCP5_13TeV-madgraph-pythia8\n",
      "Building Features...\n"
     ]
    },
    {
     "name": "stderr",
     "output_type": "stream",
     "text": [
      "Done!\n",
      "Processing...\n"
     ]
    },
    {
     "name": "stdout",
     "output_type": "stream",
     "text": [
      "Building Dataset...\n",
      "Saving Dataset...\n"
     ]
    },
    {
     "name": "stderr",
     "output_type": "stream",
     "text": [
      "Done!\n",
      "Processing...\n"
     ]
    },
    {
     "name": "stdout",
     "output_type": "stream",
     "text": [
      "QCD_HT700to1000_BGenFilter_TuneCP5_13TeV-madgraph-pythia8\n",
      "Building Features...\n",
      "Building Dataset...\n",
      "Saving Dataset...\n"
     ]
    },
    {
     "name": "stderr",
     "output_type": "stream",
     "text": [
      "Done!\n",
      "Processing...\n"
     ]
    },
    {
     "name": "stdout",
     "output_type": "stream",
     "text": [
      "QCD_HT1000to1500_BGenFilter_TuneCP5_13TeV-madgraph-pythia8\n",
      "Building Features...\n",
      "Building Dataset...\n",
      "Saving Dataset...\n"
     ]
    },
    {
     "name": "stderr",
     "output_type": "stream",
     "text": [
      "Done!\n",
      "Processing...\n"
     ]
    },
    {
     "name": "stdout",
     "output_type": "stream",
     "text": [
      "QCD_HT1500to2000_BGenFilter_TuneCP5_13TeV-madgraph-pythia8\n",
      "Building Features...\n",
      "Building Dataset...\n",
      "Saving Dataset...\n",
      "QCD_HT2000toInf_BGenFilter_TuneCP5_13TeV-madgraph-pythia8\n",
      "Building Features...\n"
     ]
    },
    {
     "name": "stderr",
     "output_type": "stream",
     "text": [
      "Done!\n",
      "Processing...\n"
     ]
    },
    {
     "name": "stdout",
     "output_type": "stream",
     "text": [
      "Building Dataset...\n",
      "Saving Dataset...\n"
     ]
    },
    {
     "name": "stderr",
     "output_type": "stream",
     "text": [
      "Done!\n"
     ]
    }
   ],
   "source": [
    "for qcdtree in qcdtrees:\n",
    "    fn = qcdtree.filelist[0].fname.split('/')[-2]\n",
    "    print(fn)\n",
    "    if qcdtree.raw_events > 0:\n",
    "        qcdgraph = gnn.Dataset(f'data/{subset}/{fn}',qcdtree,template)"
   ]
  },
  {
   "cell_type": "code",
   "execution_count": 14,
   "id": "56b810a4",
   "metadata": {},
   "outputs": [],
   "source": [
    "qcdtree = Tree(fc.eightb.preselection.QCD_B_List)"
   ]
  },
  {
   "cell_type": "code",
   "execution_count": 15,
   "id": "301acae3",
   "metadata": {},
   "outputs": [],
   "source": [
    "from torch.utils.data import ConcatDataset\n",
    "\n",
    "get_graph_path = lambda fn : fn.fname.split('/')[-2]\n",
    "qcdgraphs = ConcatDataset([gnn.Dataset(f\"data/{subset}/{fn}\",transform=gnn.to_uptri_graph(), scale='standardize') for fn in map(get_graph_path,qcdtree.filelist)])"
   ]
  },
  {
   "cell_type": "code",
   "execution_count": null,
   "id": "4f17b538",
   "metadata": {},
   "outputs": [],
   "source": []
  },
  {
   "cell_type": "code",
   "execution_count": 29,
   "id": "0d860973",
   "metadata": {},
   "outputs": [
    {
     "data": {
      "text/plain": [
       "[<utils.classUtils.Tree.CopyTree at 0x7f0c79992610>]"
      ]
     },
     "execution_count": 29,
     "metadata": {},
     "output_type": "execute_result"
    }
   ],
   "source": []
  }
 ],
 "metadata": {
  "interpreter": {
   "hash": "0dc50badf6bcf34ee37feb4ddab24eb1b71716d96fc6cae89d10c22f5e3462c0"
  },
  "kernelspec": {
   "display_name": "Python 3.8.10 64-bit ('base': conda)",
   "name": "python3"
  },
  "language_info": {
   "codemirror_mode": {
    "name": "ipython",
    "version": 3
   },
   "file_extension": ".py",
   "mimetype": "text/x-python",
   "name": "python",
   "nbconvert_exporter": "python",
   "pygments_lexer": "ipython3",
   "version": "3.8.12"
  }
 },
 "nbformat": 4,
 "nbformat_minor": 5
}

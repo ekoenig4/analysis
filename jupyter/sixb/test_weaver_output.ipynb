{
 "cells": [
  {
   "cell_type": "code",
   "execution_count": 1,
   "id": "9bfa3b5a",
   "metadata": {},
   "outputs": [],
   "source": [
    "%load_ext autoreload\n",
    "%autoreload 2\n",
    "\n",
    "import os\n",
    "os.environ['KMP_WARNINGS'] = 'off'\n",
    "import sys\n",
    "import git\n",
    "\n",
    "import uproot as ut\n",
    "import awkward as ak\n",
    "import numpy as np\n",
    "import math\n",
    "import vector\n",
    "import sympy as sp\n",
    "\n",
    "import re\n",
    "from tqdm import tqdm\n",
    "import timeit\n",
    "import re\n",
    "\n",
    "sys.path.append( git.Repo('.', search_parent_directories=True).working_tree_dir )\n",
    "from utils import *"
   ]
  },
  {
   "cell_type": "code",
   "execution_count": 2,
   "id": "6edca911",
   "metadata": {},
   "outputs": [],
   "source": [
    "%load_ext line_profiler\n",
    "%load_ext memory_profiler"
   ]
  },
  {
   "cell_type": "code",
   "execution_count": 3,
   "id": "0744f455",
   "metadata": {},
   "outputs": [],
   "source": [
    "ntuple = \"/eos/uscms/store/user/srosenzw/sixb/ntuples/Summer2018UL/maxbtag/NMSSM/NMSSM_XYH_YToHH_6b_MX_1000_MY_600/ntuple.root\"\n",
    "model = \"/uscms/home/srosenzw/nobackup/workarea/higgs/sixb_analysis/CMSSW_10_6_19_patch2/src/sixb/weaver-multiH/weaver/models/exp_xy/XY_3H_reco_ranker/20230213_ranger_lr0.0047_batch1024__full_reco_withbkg/\""
   ]
  },
  {
   "cell_type": "code",
   "execution_count": 4,
   "id": "34c853ed",
   "metadata": {},
   "outputs": [
    {
     "name": "stderr",
     "output_type": "stream",
     "text": [
      "100%|██████████| 1/1 [00:00<00:00,  1.10it/s]\n"
     ]
    }
   ],
   "source": [
    "tree = Tree(ntuple)"
   ]
  },
  {
   "cell_type": "code",
   "execution_count": 5,
   "id": "481d2085",
   "metadata": {},
   "outputs": [],
   "source": [
    "import awkward0 as ak0\n",
    "\n",
    "def load_sixb_weaver(t, model, fields=['scores']):\n",
    "    model = f'{model}/predict_output/{t.sample}.awkd'\n",
    "\n",
    "    with ak0.load(model) as f_ak:\n",
    "        fields = {\n",
    "            field:np.concatenate([ np.array(f_ak[field], dtype=float) ])\n",
    "            for field in fields\n",
    "        }\n",
    "    return fields\n"
   ]
  },
  {
   "cell_type": "code",
   "execution_count": 26,
   "id": "8d4aa467",
   "metadata": {},
   "outputs": [],
   "source": [
    "def load_yh_trih_ranker(tree, model):\n",
    "    ranker = load_sixb_weaver(tree, model, fields=['maxcomb','maxlabel','maxscore'])\n",
    "    score, index, label = ranker['maxscore'], ranker['maxcomb'], ranker['maxlabel']\n",
    "\n",
    "    index = np.stack([index[:,::2], index[:, 1::2]], axis=2)\n",
    "    jet_index = ak.from_regular(index.astype(int))\n",
    "    jets = get_collection(tree, 'jet', named=False)\n",
    "    \n",
    "    build_all_dijets(tree, pairs=jet_index, name='higgs', ordered='pt')\n",
    "    tree.extend(yh_trih_score=score, yy_trih_label=label)\n",
    "    higgs = get_collection(tree, 'higgs', named=False)\n",
    "    hp4 = build_p4(higgs)\n",
    "\n",
    "    h_idx = ak.argsort((higgs.localId+1)//2,axis=-1)\n",
    "\n",
    "    hx_idx = h_idx[:,:1]\n",
    "    h1_idx = h_idx[:,1:2]\n",
    "    h2_idx = h_idx[:,2:]\n",
    "    hx = hp4[hx_idx][:,0]\n",
    "    h1 = hp4[h1_idx][:,0]\n",
    "    h2 = hp4[h2_idx][:,0]\n",
    "\n",
    "    y_p4 = h1 + h2\n",
    "    higgs_dr = calc_dr_p4(h1, h2)\n",
    "    y = dict(\n",
    "        m=y_p4.m,\n",
    "        pt=y_p4.pt,\n",
    "        eta=y_p4.eta,\n",
    "        phi=y_p4.phi,\n",
    "        higgs_dr=higgs_dr,\n",
    "        h1Idx=h1_idx,\n",
    "        h2Idx=h2_idx,\n",
    "    )\n",
    "    tree.extend(\n",
    "        **{\n",
    "            f'HX_{field}': hx[field]\n",
    "            for field in hx.fields\n",
    "\n",
    "        },\n",
    "        **{\n",
    "            f'H1_{field}': h1[field]\n",
    "            for field in h1.fields\n",
    "\n",
    "        },\n",
    "        **{\n",
    "            f'H2_{field}': h2[field]\n",
    "            for field in h2.fields\n",
    "\n",
    "        },\n",
    "        **{\n",
    "            f'Y_{field}':array\n",
    "            for field, array in y.items()\n",
    "        }\n",
    "    )"
   ]
  },
  {
   "cell_type": "code",
   "execution_count": 28,
   "id": "46377d0b",
   "metadata": {},
   "outputs": [],
   "source": [
    "ranker = load_sixb_weaver(tree, model, fields=['maxscore','maxcomb','maxlabel'])"
   ]
  },
  {
   "cell_type": "code",
   "execution_count": 43,
   "id": "a56cb8e1",
   "metadata": {},
   "outputs": [],
   "source": [
    "combos = ak.from_regular(ranker['maxcomb'].astype(int))"
   ]
  },
  {
   "cell_type": "code",
   "execution_count": 65,
   "id": "ae1d849b",
   "metadata": {},
   "outputs": [],
   "source": [
    "jets = get_collection(tree, 'jet', named=False)\n",
    "jet_p4 = build_p4(jets, use_regressed=True)"
   ]
  },
  {
   "cell_type": "code",
   "execution_count": 83,
   "id": "98981ebe",
   "metadata": {},
   "outputs": [],
   "source": [
    "jet_p4 = jet_p4[combos]"
   ]
  },
  {
   "cell_type": "code",
   "execution_count": 84,
   "id": "1355f94c",
   "metadata": {},
   "outputs": [],
   "source": [
    "hx_b1 = jet_p4[:,0]\n",
    "hx_b2 = jet_p4[:,1]\n",
    "h1_b1 = jet_p4[:,2]\n",
    "h1_b2 = jet_p4[:,3]\n",
    "h2_b1 = jet_p4[:,4]\n",
    "h2_b2 = jet_p4[:,5]\n"
   ]
  },
  {
   "cell_type": "code",
   "execution_count": 85,
   "id": "b2878257",
   "metadata": {},
   "outputs": [],
   "source": [
    "h1 = h1_b1 + h1_b2\n",
    "h2 = h2_b1 + h2_b2"
   ]
  },
  {
   "cell_type": "code",
   "execution_count": 86,
   "id": "be17f332",
   "metadata": {},
   "outputs": [],
   "source": [
    "y = h1 + h2"
   ]
  },
  {
   "cell_type": "code",
   "execution_count": 90,
   "id": "834c377a",
   "metadata": {},
   "outputs": [
    {
     "data": {
      "text/plain": [
       "(<Figure size 650x650 with 1 Axes>,\n",
       " <AxesSubplot:ylabel='Events'>,\n",
       " [HistoList<[<utils.plotUtils.histogram.Histo object at 0x7fbf7eebe970>]>])"
      ]
     },
     "execution_count": 90,
     "metadata": {},
     "output_type": "execute_result"
    },
    {
     "data": {
      "image/png": "[encoded data removed]",
      "text/plain": [
       "<Figure size 650x650 with 1 Axes>"
      ]
     },
     "metadata": {},
     "output_type": "display_data"
    }
   ],
   "source": [
    "hist_multi([y.m])"
   ]
  },
  {
   "cell_type": "code",
   "execution_count": 78,
   "id": "1f60d58a",
   "metadata": {},
   "outputs": [],
   "source": [
    "h_p4 = j1 + j2"
   ]
  },
  {
   "cell_type": "code",
   "execution_count": 79,
   "id": "8722b02c",
   "metadata": {},
   "outputs": [],
   "source": [
    "h1, h2 = h_p4[:,1], h_p4[:,2]"
   ]
  },
  {
   "cell_type": "code",
   "execution_count": 80,
   "id": "165103b5",
   "metadata": {},
   "outputs": [],
   "source": [
    "y = h1 + h2"
   ]
  },
  {
   "cell_type": "code",
   "execution_count": null,
   "id": "b663695a",
   "metadata": {},
   "outputs": [],
   "source": []
  },
  {
   "cell_type": "code",
   "execution_count": 81,
   "id": "ae642335",
   "metadata": {},
   "outputs": [
    {
     "data": {
      "text/plain": [
       "(<Figure size 650x650 with 1 Axes>,\n",
       " <AxesSubplot:ylabel='Events'>,\n",
       " [HistoList<[<utils.plotUtils.histogram.Histo object at 0x7fbf7edc8d30>]>])"
      ]
     },
     "execution_count": 81,
     "metadata": {},
     "output_type": "execute_result"
    },
    {
     "data": {
      "image/png": "[encoded data removed]",
      "text/plain": [
       "<Figure size 650x650 with 1 Axes>"
      ]
     },
     "metadata": {},
     "output_type": "display_data"
    }
   ],
   "source": [
    "hist_multi([y.m])"
   ]
  },
  {
   "cell_type": "code",
   "execution_count": null,
   "id": "8e6c322e",
   "metadata": {},
   "outputs": [],
   "source": []
  }
 ],
 "metadata": {
  "interpreter": {
   "hash": "99d8ad6568882febb6ca5d1c2307614594cf6684ed0ce2b9f63bf31341fdb3d5"
  },
  "kernelspec": {
   "display_name": "Python 3.9.0 ('py-env')",
   "language": "python",
   "name": "python3"
  },
  "language_info": {
   "codemirror_mode": {
    "name": "ipython",
    "version": 3
   },
   "file_extension": ".py",
   "mimetype": "text/x-python",
   "name": "python",
   "nbconvert_exporter": "python",
   "pygments_lexer": "ipython3",
   "version": "3.9.15"
  }
 },
 "nbformat": 4,
 "nbformat_minor": 5
}

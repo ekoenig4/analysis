{
 "cells": [
  {
   "cell_type": "code",
   "execution_count": 1,
   "id": "9bfa3b5a",
   "metadata": {},
   "outputs": [],
   "source": [
    "%load_ext autoreload\n",
    "%autoreload 2\n",
    "\n",
    "import os\n",
    "os.environ['KMP_WARNINGS'] = 'off'\n",
    "import sys\n",
    "import git\n",
    "\n",
    "import uproot as ut\n",
    "import awkward as ak\n",
    "import numpy as np\n",
    "import math\n",
    "import vector\n",
    "import sympy as sp\n",
    "\n",
    "import re\n",
    "from tqdm import tqdm\n",
    "import timeit\n",
    "import re\n",
    "\n",
    "sys.path.append( git.Repo('.', search_parent_directories=True).working_tree_dir )\n",
    "from utils import *"
   ]
  },
  {
   "cell_type": "code",
   "execution_count": 2,
   "id": "ceafafac",
   "metadata": {},
   "outputs": [],
   "source": [
    "module = fc.FileCollection('/store/user/srosenzw/sixb/ntuples/Summer2018UL/maxbtag_4b/')"
   ]
  },
  {
   "cell_type": "code",
   "execution_count": 100,
   "id": "7f5662fd",
   "metadata": {},
   "outputs": [
    {
     "name": "stderr",
     "output_type": "stream",
     "text": [
      "100%|██████████| 1/1 [00:01<00:00,  1.19s/it]\n"
     ]
    }
   ],
   "source": [
    "f_tree = \"/store/user/srosenzw/sixb/ntuples/Summer2018UL/maxbtag_4b/Official_NMSSM/NMSSM_XToYHTo6B_MX-1200_MY-450_TuneCP5_13TeV-madgraph-pythia8/ntuple.root\"\n",
    "tree = Tree(f_tree)"
   ]
  },
  {
   "cell_type": "code",
   "execution_count": 101,
   "id": "2fccb16b",
   "metadata": {},
   "outputs": [],
   "source": [
    "model = '/eos/uscms/store/user/ekoenig/weaver/models/exp_suzs/feynnet_6b/20230627_ranger_lr0.0047_batch1024_/'\n",
    "ranker = eightb.load_weaver_output(\n",
    "    tree, model, ['maxcomb','maxscore','minscore','feynnet_hx_m','feynnet_y_m', 'feynnet_hitk1'] \n",
    ")"
   ]
  },
  {
   "cell_type": "code",
   "execution_count": 102,
   "id": "d9b6c166",
   "metadata": {},
   "outputs": [
    {
     "data": {
      "text/plain": [
       "0.34732187875732073"
      ]
     },
     "execution_count": 102,
     "metadata": {},
     "output_type": "execute_result"
    }
   ],
   "source": [
    "fully_res = tree.nfound_select == 6\n",
    "np.mean(fully_res)"
   ]
  },
  {
   "cell_type": "code",
   "execution_count": 103,
   "id": "5543dc6c",
   "metadata": {},
   "outputs": [
    {
     "data": {
      "text/plain": [
       "(0.035501428589897736, 0.01939326260934301)"
      ]
     },
     "execution_count": 103,
     "metadata": {},
     "output_type": "execute_result"
    }
   ],
   "source": [
    "ak.mean(ranker['feynnet_hitk1']), ak.mean(ranker['feynnet_hitk1'][fully_res])"
   ]
  },
  {
   "cell_type": "code",
   "execution_count": 104,
   "id": "369771bf",
   "metadata": {},
   "outputs": [],
   "source": [
    "jet_p4 = build_p4(tree, 'jet', use_regressed=False, extra=['signalId'])\n",
    "\n",
    "def reconstruct(jet_p4, assignment, tag=''):\n",
    "    if tag and not tag.endswith('_'): tag += '_'\n",
    "\n",
    "    j_p4 = jet_p4[assignment]\n",
    "    j1_p4, j2_p4 = j_p4[:,::2], j_p4[:,1::2]\n",
    "    h_p4 = j1_p4 + j2_p4\n",
    "    h_signalId = ak.where(j1_p4.signalId//2 == j2_p4.signalId//2, j1_p4.signalId//2, -1)\n",
    "    y_p4 = h_p4[:,1] + h_p4[:,2]\n",
    "    y_signalId = ak.where(h_signalId[:,1]//1 == h_signalId[:,2]//1, h_signalId[:,1]//1, -1)\n",
    "    x_p4 = h_p4[:,0] + y_p4\n",
    "    x_signalId = ak.where(h_signalId[:,0]//2 == y_signalId//2, h_signalId[:,0]//2, -1)\n",
    "    h_pt_order = ak_rank(h_p4.pt, axis=1)\n",
    "    j_pt_order = ak_rank(j_p4.pt, axis=1)\n",
    "    hx_y_pt_order = h_pt_order * np.array([[10,1,1]])\n",
    "    hx_y_j_pt_order = j_pt_order + hx_y_pt_order[:, [0,0,1,1,2,2]]\n",
    "    j_order = ak.argsort(hx_y_j_pt_order, axis=1, ascending=False)\n",
    "    h_order = ak.argsort(hx_y_pt_order, axis=1, ascending=False)\n",
    "\n",
    "    j_p4 = j_p4[j_order]\n",
    "    h_p4 = h_p4[h_order]\n",
    "    h_signalId = h_signalId[h_order]\n",
    "    p4vars = ['pt','eta','phi','m']\n",
    "    return dict(\n",
    "        **{f'{tag}x_{var}': getattr(x_p4, var) for var in p4vars},\n",
    "        **{f'{tag}x_signalId': x_signalId},\n",
    "        **{f'{tag}y_{var}': getattr(y_p4, var) for var in p4vars},\n",
    "        **{f'{tag}y_signalId': y_signalId},\n",
    "        **{f'{tag}h_{var}': getattr(h_p4, var) for var in p4vars},\n",
    "        **{f'{tag}h_signalId': h_signalId},\n",
    "        **{f'{tag}j_{var}': getattr(j_p4, var) for var in j_p4.fields},\n",
    "    )"
   ]
  },
  {
   "cell_type": "code",
   "execution_count": 120,
   "id": "34560b8d",
   "metadata": {},
   "outputs": [],
   "source": [
    "class f_load_feynnet_assignment(ParallelMethod):\n",
    "    def __init__(self, model, extra=[], reco_event=True):\n",
    "        super().__init__()\n",
    "        self.model = model\n",
    "        self.extra = extra\n",
    "        self.reco_event = reco_event\n",
    "    def start(self, tree):\n",
    "        fields = ['maxcomb','maxscore','minscore'] + self.extra\n",
    "\n",
    "        jet_p4 = build_p4(tree, prefix='jet', use_regressed=False, extra=['signalId', 'btag'])\n",
    "        ranker = eightb.load_weaver_output(tree, self.model, fields=fields)\n",
    "\n",
    "        assert len(ranker['maxcomb']) == len(jet_p4), f'Ranker output and jet collection have different lengths. Got {len(ranker[\"maxcomb\"])} and {len(jet_p4)} respectively.'\n",
    "\n",
    "        return dict(\n",
    "            jet_p4=jet_p4,\n",
    "            ranker=ranker,\n",
    "            extra=self.extra,\n",
    "        )\n",
    "    def run(self, jet_p4, ranker, extra):\n",
    "        score, assignment, minscore = ranker['maxscore'], ranker['maxcomb'], ranker['minscore']\n",
    "        assignment = ak.values_astype(ak.from_regular(assignment), \"int64\")\n",
    "        reconstruction = reconstruct(jet_p4, assignment)\n",
    "        return dict(\n",
    "            feynnet_maxscore=score,\n",
    "            feynnet_minscore=minscore,\n",
    "            **{f'feynnet_{field}':ak.from_regular(ranker[field]) for field in extra},\n",
    "            **reconstruction,\n",
    "        )\n",
    "    def end(self, tree, **output):\n",
    "        tree.extend(**output)\n"
   ]
  },
  {
   "cell_type": "code",
   "execution_count": 121,
   "id": "7edbcbf0",
   "metadata": {},
   "outputs": [],
   "source": [
    "model = '/eos/uscms/store/user/ekoenig/weaver/models/exp_suzs/feynnet_6b/20230627_ranger_lr0.0047_batch1024_/'\n",
    "load_feynnet = f_load_feynnet_assignment(model)"
   ]
  },
  {
   "cell_type": "code",
   "execution_count": 122,
   "id": "fed9a3fe",
   "metadata": {},
   "outputs": [],
   "source": [
    "load_feynnet(tree)"
   ]
  },
  {
   "cell_type": "code",
   "execution_count": 123,
   "id": "7ca2d7a9",
   "metadata": {},
   "outputs": [
    {
     "data": {
      "text/plain": [
       "(-1, 1.0)"
      ]
     },
     "execution_count": 123,
     "metadata": {},
     "output_type": "execute_result"
    }
   ],
   "source": [
    "tree.x_signalId[2], ranker['feynnet_hitk1'][2]"
   ]
  },
  {
   "cell_type": "code",
   "execution_count": 134,
   "id": "52d9189e",
   "metadata": {},
   "outputs": [
    {
     "data": {
      "text/plain": [
       "<Array [0, 1, 2, 3, -1, 4] type='6 * int32'>"
      ]
     },
     "execution_count": 134,
     "metadata": {},
     "output_type": "execute_result"
    }
   ],
   "source": [
    "tree.j_signalId[2]"
   ]
  },
  {
   "cell_type": "code",
   "execution_count": 131,
   "id": "8b243ab6",
   "metadata": {},
   "outputs": [
    {
     "data": {
      "text/plain": [
       "(112.66973114013672, 112.67015075683594, 460.3088073730469, 460.30877685546875)"
      ]
     },
     "execution_count": 131,
     "metadata": {},
     "output_type": "execute_result"
    }
   ],
   "source": [
    "ranker['feynnet_hx_m'][2], tree.h_m[2,0], ranker['feynnet_y_m'][2], tree.y_m[2]"
   ]
  },
  {
   "cell_type": "code",
   "execution_count": 108,
   "id": "5f0b2687",
   "metadata": {},
   "outputs": [
    {
     "name": "stderr",
     "output_type": "stream",
     "text": [
      "100%|██████████| 3/3 [00:00<00:00, 20.51it/s]\n"
     ]
    },
    {
     "data": {
      "image/png": "[encoded data removed]",
      "text/plain": [
       "<Figure size 1280x400 with 3 Axes>"
      ]
     },
     "metadata": {},
     "output_type": "display_data"
    }
   ],
   "source": [
    "study.quick(\n",
    "    [tree],\n",
    "    masks=lambda t : t.nfound_select == 6,\n",
    "    varlist=['x_signalId','y_signalId','h_signalId'],\n",
    ")"
   ]
  }
 ],
 "metadata": {
  "kernelspec": {
   "display_name": "Python 3.9.15 ('py-env')",
   "language": "python",
   "name": "python3"
  },
  "language_info": {
   "codemirror_mode": {
    "name": "ipython",
    "version": 3
   },
   "file_extension": ".py",
   "mimetype": "text/x-python",
   "name": "python",
   "nbconvert_exporter": "python",
   "pygments_lexer": "ipython3",
   "version": "3.9.15"
  },
  "vscode": {
   "interpreter": {
    "hash": "99d8ad6568882febb6ca5d1c2307614594cf6684ed0ce2b9f63bf31341fdb3d5"
   }
  }
 },
 "nbformat": 4,
 "nbformat_minor": 5
}

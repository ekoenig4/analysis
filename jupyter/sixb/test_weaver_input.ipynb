{
 "cells": [
  {
   "cell_type": "code",
   "execution_count": 1,
   "id": "9bfa3b5a",
   "metadata": {},
   "outputs": [],
   "source": [
    "%load_ext autoreload\n",
    "%autoreload 2\n",
    "\n",
    "import os\n",
    "os.environ['KMP_WARNINGS'] = 'off'\n",
    "import sys\n",
    "import git\n",
    "\n",
    "import uproot as ut\n",
    "import awkward as ak\n",
    "import numpy as np\n",
    "import math\n",
    "import vector\n",
    "import sympy as sp\n",
    "\n",
    "import re\n",
    "from tqdm import tqdm\n",
    "import timeit\n",
    "import re\n",
    "\n",
    "sys.path.append( git.Repo('.', search_parent_directories=True).working_tree_dir )\n",
    "from utils import *"
   ]
  },
  {
   "cell_type": "code",
   "execution_count": 2,
   "id": "6edca911",
   "metadata": {},
   "outputs": [],
   "source": [
    "%load_ext line_profiler\n",
    "%load_ext memory_profiler"
   ]
  },
  {
   "cell_type": "code",
   "execution_count": 3,
   "id": "0744f455",
   "metadata": {},
   "outputs": [],
   "source": [
    "ntuple = \"/eos/uscms/store/user/srosenzw/sixb/ntuples/Summer2018UL/maxbtag/NMSSM/NMSSM_XYH_YToHH_6b_MX_700_MY_400/ntuple.root\"\n",
    "model = \"/uscms/home/srosenzw/nobackup/workarea/higgs/sixb_analysis/CMSSW_10_6_19_patch2/src/sixb/weaver-multiH/weaver/models/exp_xy/XY_3H_reco_ranker/20230213_ranger_lr0.0047_batch1024__full_reco_withbkg/predict_output/MX_700_MY_400.awkd\""
   ]
  },
  {
   "cell_type": "code",
   "execution_count": 4,
   "id": "34c853ed",
   "metadata": {},
   "outputs": [
    {
     "name": "stderr",
     "output_type": "stream",
     "text": [
      "100%|██████████| 1/1 [00:01<00:00,  1.08s/it]\n"
     ]
    }
   ],
   "source": [
    "tree = Tree(ntuple)"
   ]
  },
  {
   "cell_type": "code",
   "execution_count": 9,
   "id": "7b5f96ad",
   "metadata": {},
   "outputs": [],
   "source": [
    "import awkward0 as ak0\n",
    "\n",
    "with ak0.load(model) as f_awk:\n",
    "    maxscore = f_awk['maxscore'].astype(float)\n",
    "    maxlabel = f_awk['maxlabel'].astype(float)\n",
    "    maxcomb = f_awk['maxcomb'].astype(int)\n"
   ]
  },
  {
   "cell_type": "code",
   "execution_count": 14,
   "id": "c0783f65",
   "metadata": {},
   "outputs": [
    {
     "data": {
      "text/plain": [
       "1.0"
      ]
     },
     "execution_count": 14,
     "metadata": {},
     "output_type": "execute_result"
    }
   ],
   "source": [
    "np.max(maxlabel)"
   ]
  },
  {
   "cell_type": "code",
   "execution_count": 15,
   "id": "56474b6c",
   "metadata": {},
   "outputs": [
    {
     "data": {
      "text/plain": [
       "(<Figure size 650x650 with 1 Axes>,\n",
       " <AxesSubplot:ylabel='Events'>,\n",
       " [HistoList<[<utils.plotUtils.histogram.Histo object at 0x7f1387658130>]>])"
      ]
     },
     "execution_count": 15,
     "metadata": {},
     "output_type": "execute_result"
    },
    {
     "data": {
      "image/png": "[encoded data removed]",
      "text/plain": [
       "<Figure size 650x650 with 1 Axes>"
      ]
     },
     "metadata": {},
     "output_type": "display_data"
    }
   ],
   "source": [
    "hist_multi([maxlabel[tree.nfound_select==6]], bins=(0,1.05,10))"
   ]
  },
  {
   "cell_type": "code",
   "execution_count": 16,
   "id": "616bb02b",
   "metadata": {},
   "outputs": [
    {
     "name": "stderr",
     "output_type": "stream",
     "text": [
      "100%|██████████| 1/1 [00:01<00:00,  1.15s/it]\n"
     ]
    }
   ],
   "source": [
    "sig_train = \"/store/user/srosenzw/sixb/ntuples/2018_gnn_training/split_0_signal_training_ntuple.root\"\n",
    "\n",
    "sig_train = Tree(sig_train)"
   ]
  },
  {
   "cell_type": "code",
   "execution_count": 20,
   "id": "10b1532e",
   "metadata": {},
   "outputs": [
    {
     "data": {
      "text/plain": [
       "<Array [450, 700, 900, 1e+03] type='4 * float32'>"
      ]
     },
     "execution_count": 20,
     "metadata": {},
     "output_type": "execute_result"
    }
   ],
   "source": [
    "np.unique(sig_train.gen_X_m)"
   ]
  }
 ],
 "metadata": {
  "interpreter": {
   "hash": "99d8ad6568882febb6ca5d1c2307614594cf6684ed0ce2b9f63bf31341fdb3d5"
  },
  "kernelspec": {
   "display_name": "Python 3.9.0 ('py-env')",
   "language": "python",
   "name": "python3"
  },
  "language_info": {
   "codemirror_mode": {
    "name": "ipython",
    "version": 3
   },
   "file_extension": ".py",
   "mimetype": "text/x-python",
   "name": "python",
   "nbconvert_exporter": "python",
   "pygments_lexer": "ipython3",
   "version": "3.9.15"
  }
 },
 "nbformat": 4,
 "nbformat_minor": 5
}

{
 "cells": [
  {
   "cell_type": "code",
   "execution_count": 1,
   "id": "9bfa3b5a",
   "metadata": {},
   "outputs": [],
   "source": [
    "%load_ext autoreload\n",
    "%autoreload 2\n",
    "\n",
    "import os\n",
    "os.environ['KMP_WARNINGS'] = 'off'\n",
    "import sys\n",
    "import git\n",
    "\n",
    "import uproot as ut\n",
    "import awkward as ak\n",
    "import numpy as np\n",
    "import math\n",
    "import vector\n",
    "import sympy as sp\n",
    "\n",
    "import re\n",
    "from tqdm import tqdm\n",
    "import timeit\n",
    "import re\n",
    "\n",
    "sys.path.append( git.Repo('.', search_parent_directories=True).working_tree_dir )\n",
    "from utils import *"
   ]
  },
  {
   "cell_type": "code",
   "execution_count": 2,
   "id": "6edca911",
   "metadata": {},
   "outputs": [],
   "source": [
    "%load_ext line_profiler\n",
    "%load_ext memory_profiler"
   ]
  },
  {
   "cell_type": "code",
   "execution_count": 3,
   "id": "1ae8f3d2",
   "metadata": {},
   "outputs": [],
   "source": [
    "modelpath = '/eos/uscms/store/user/ekoenig/weaver/analysis/models/exp_sixb_diff_aggr/feynnet_ranker_6b/20230728_59b53a4bde5e7da6eb8e6aa522b30859_ranger_lr0.0047_batch2000_withbkg'"
   ]
  },
  {
   "cell_type": "code",
   "execution_count": 4,
   "id": "6ecac449",
   "metadata": {},
   "outputs": [],
   "source": [
    "sigfile = '/store/user/srosenzw/sixb/ntuples/Summer2018UL/maxbtag_4b/Official_NMSSM/NMSSM_XToYHTo6B_MX-1000_MY-250_TuneCP5_13TeV-madgraph-pythia8/ntuple.root'"
   ]
  },
  {
   "cell_type": "code",
   "execution_count": 5,
   "id": "62b4cc29",
   "metadata": {},
   "outputs": [
    {
     "name": "stderr",
     "output_type": "stream",
     "text": [
      "100%|██████████| 1/1 [00:01<00:00,  1.09s/it]\n"
     ]
    }
   ],
   "source": [
    "signal = ObjIter([Tree(sigfile)])"
   ]
  },
  {
   "cell_type": "code",
   "execution_count": 9,
   "id": "18b27670",
   "metadata": {},
   "outputs": [],
   "source": [
    "load_feynnet = sixb.f_load_feynnet_assignment(modelpath)"
   ]
  },
  {
   "cell_type": "code",
   "execution_count": 11,
   "id": "1839e48a",
   "metadata": {},
   "outputs": [
    {
     "name": "stderr",
     "output_type": "stream",
     "text": [
      "f_load_feynnet_assignment: 100%|██████████| 1/1 [00:00<00:00,  1.05it/s]\n"
     ]
    },
    {
     "data": {
      "text/plain": [
       "[None]"
      ]
     },
     "execution_count": 11,
     "metadata": {},
     "output_type": "execute_result"
    }
   ],
   "source": [
    "signal.apply(load_feynnet,report=True)"
   ]
  },
  {
   "cell_type": "code",
   "execution_count": 15,
   "id": "72017a87",
   "metadata": {},
   "outputs": [],
   "source": [
    "fc.sixb = fc.FileCollection('/store/user/srosenzw/sixb/ntuples/Summer2018UL/maxbtag_4b/')"
   ]
  },
  {
   "cell_type": "code",
   "execution_count": 34,
   "id": "786170cb",
   "metadata": {},
   "outputs": [],
   "source": [
    "f_qcd = fc.sixb.QCD_B_List"
   ]
  },
  {
   "cell_type": "code",
   "execution_count": 35,
   "id": "84b41f53",
   "metadata": {},
   "outputs": [],
   "source": [
    "f_tt = list(map(lambda f : f.replace('ntuple_0','ntuple'), fc.sixb.TTJets))"
   ]
  },
  {
   "cell_type": "code",
   "execution_count": 36,
   "id": "c5363ae2",
   "metadata": {},
   "outputs": [],
   "source": [
    "f_signal = [ f'{d}/ntuple.root' for d in fc.sixb.Official_NMSSM.ls if d.endswith('pythia8') ]"
   ]
  },
  {
   "cell_type": "code",
   "execution_count": null,
   "id": "b7012fe7",
   "metadata": {},
   "outputs": [],
   "source": []
  },
  {
   "cell_type": "code",
   "execution_count": 40,
   "id": "4d07c630",
   "metadata": {},
   "outputs": [],
   "source": [
    "re_mxmy = re.compile(r'.*MX-(\\d+)_MY-(\\d+).*')\n",
    "\n",
    "def get_mxmy(fname):\n",
    "    m = re_mxmy.match(fname)\n",
    "    if m:\n",
    "        return int(m.group(1)), int(m.group(2))\n",
    "    return None\n",
    "\n"
   ]
  },
  {
   "cell_type": "code",
   "execution_count": 70,
   "id": "a25be3a3",
   "metadata": {},
   "outputs": [
    {
     "data": {
      "text/plain": [
       "53"
      ]
     },
     "execution_count": 70,
     "metadata": {},
     "output_type": "execute_result"
    }
   ],
   "source": [
    "masses = np.array(list(map(get_mxmy, f_signal)))\n",
    "mask = np.all(( (masses / 100) - (masses // 100) ) == 0, axis=1)\n",
    "mask &= masses[:,0] <= 1400\n",
    "\n",
    "selected = masses[mask]\n",
    "mask.sum()"
   ]
  },
  {
   "cell_type": "code",
   "execution_count": 68,
   "id": "d04b3e98",
   "metadata": {},
   "outputs": [
    {
     "data": {
      "text/plain": [
       "(<Figure size 650x650 with 1 Axes>, <AxesSubplot:>)"
      ]
     },
     "execution_count": 68,
     "metadata": {},
     "output_type": "execute_result"
    },
    {
     "data": {
      "image/png": "[encoded data removed]",
      "text/plain": [
       "<Figure size 650x650 with 1 Axes>"
      ]
     },
     "metadata": {},
     "output_type": "display_data"
    }
   ],
   "source": [
    "graph_array(*masses.T, xlabel='MX', ylabel='MY', g_linestyle='none', g_marker='o', g_markersize=2)\n",
    "graph_array(*selected.T, g_linestyle='none', g_marker='o', g_markersize=5, figax='same')"
   ]
  }
 ],
 "metadata": {
  "interpreter": {
   "hash": "99d8ad6568882febb6ca5d1c2307614594cf6684ed0ce2b9f63bf31341fdb3d5"
  },
  "kernelspec": {
   "display_name": "Python 3.9.0 ('py-env')",
   "language": "python",
   "name": "python3"
  },
  "language_info": {
   "codemirror_mode": {
    "name": "ipython",
    "version": 3
   },
   "file_extension": ".py",
   "mimetype": "text/x-python",
   "name": "python",
   "nbconvert_exporter": "python",
   "pygments_lexer": "ipython3",
   "version": "3.9.15"
  }
 },
 "nbformat": 4,
 "nbformat_minor": 5
}

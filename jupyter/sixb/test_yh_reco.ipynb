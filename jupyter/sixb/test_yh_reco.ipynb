{
 "cells": [
  {
   "cell_type": "code",
   "execution_count": 1,
   "id": "9bfa3b5a",
   "metadata": {},
   "outputs": [],
   "source": [
    "%load_ext autoreload\n",
    "%autoreload 2\n",
    "\n",
    "import os\n",
    "os.environ['KMP_WARNINGS'] = 'off'\n",
    "import sys\n",
    "import git\n",
    "\n",
    "import uproot as ut\n",
    "import awkward as ak\n",
    "import numpy as np\n",
    "import math\n",
    "import vector\n",
    "import sympy as sp\n",
    "\n",
    "import re\n",
    "from tqdm import tqdm\n",
    "import timeit\n",
    "import re\n",
    "\n",
    "sys.path.append( git.Repo('.', search_parent_directories=True).working_tree_dir )\n",
    "from utils import *"
   ]
  },
  {
   "cell_type": "code",
   "execution_count": 2,
   "id": "6edca911",
   "metadata": {},
   "outputs": [],
   "source": [
    "%load_ext line_profiler\n",
    "%load_ext memory_profiler"
   ]
  },
  {
   "cell_type": "code",
   "execution_count": 3,
   "id": "0744f455",
   "metadata": {},
   "outputs": [],
   "source": [
    "ntuple = \"/eos/uscms/store/user/srosenzw/sixb/ntuples/Summer2018UL/maxbtag/NMSSM/NMSSM_XYH_YToHH_6b_MX_1000_MY_600/ntuple.root\"\n",
    "model = \"/uscms/home/srosenzw/nobackup/workarea/higgs/sixb_analysis/CMSSW_10_6_19_patch2/src/sixb/weaver-multiH/weaver/models/exp_xy/XY_3H_reco_ranker/20230213_ranger_lr0.0047_batch1024__full_reco_withbkg/\""
   ]
  },
  {
   "cell_type": "code",
   "execution_count": 4,
   "id": "34c853ed",
   "metadata": {},
   "outputs": [],
   "source": [
    "import uproot as ut \n",
    "\n",
    "tree = ut.lazy(f'{ntuple}:sixBtree')"
   ]
  },
  {
   "cell_type": "code",
   "execution_count": 9,
   "id": "8e6c322e",
   "metadata": {},
   "outputs": [],
   "source": [
    "self = tree\n",
    "self.nevents = len(tree)"
   ]
  },
  {
   "cell_type": "code",
   "execution_count": 10,
   "id": "70375069",
   "metadata": {},
   "outputs": [],
   "source": [
    "awkd_model = f'{model}/predict_output/MX_1000_MY_600.awkd'\n",
    "\n",
    "import awkward0 as ak0\n",
    "\n",
    "with ak0.load(awkd_model) as f_awk:\n",
    "    self.scores = ak.unflatten(f_awk['scores'], np.repeat(45, self.nevents)).to_numpy()\n",
    "    self.maxscore = f_awk['maxscore']\n",
    "    self.maxcomb = f_awk['maxcomb']\n",
    "    self.maxlabel = f_awk['maxlabel']"
   ]
  },
  {
   "cell_type": "code",
   "execution_count": 12,
   "id": "755f5d27",
   "metadata": {},
   "outputs": [],
   "source": [
    "combos = self.maxcomb\n",
    "combos = ak.from_regular(combos)"
   ]
  },
  {
   "cell_type": "code",
   "execution_count": 15,
   "id": "7a39a63e",
   "metadata": {},
   "outputs": [],
   "source": [
    "pt = self.jet_ptRegressed[combos]\n",
    "phi = self.jet_phi[combos]\n",
    "eta = self.jet_eta[combos]\n",
    "m = self.jet_mRegressed[combos]\n",
    "btag = self.jet_btag[combos]\n",
    "sig_id = self.jet_signalId[combos]\n",
    "h_id = (self.jet_signalId[combos] + 2) // 2"
   ]
  },
  {
   "cell_type": "code",
   "execution_count": 21,
   "id": "e9b0c9ba",
   "metadata": {},
   "outputs": [],
   "source": [
    "class Particle:\n",
    "    def __init__(self, kin_dict=dict()):\n",
    "        self.__dict__.update(**kin_dict)\n",
    "    def set_attr(self, key, value):\n",
    "        self.__dict__[key] = value\n",
    "    @property\n",
    "    def p4(self):\n",
    "        return ak.zip(\n",
    "            {\n",
    "                'pt':self.pt,\n",
    "                'eta':self.eta,\n",
    "                'phi':self.phi,\n",
    "                'm':self.m\n",
    "            }, with_name='Momentum4D'\n",
    "        )"
   ]
  },
  {
   "cell_type": "code",
   "execution_count": 22,
   "id": "6f041e8c",
   "metadata": {},
   "outputs": [],
   "source": [
    "sample_particles = []\n",
    "for j in range(6):\n",
    "    particle = Particle(kin_dict={\n",
    "        'pt' : pt[:,j],\n",
    "        'eta' : eta[:,j],\n",
    "        'phi' : phi[:,j],\n",
    "        'm' : m[:,j],\n",
    "        }\n",
    "    )\n",
    "    particle.set_attr('btag',btag[:,j])\n",
    "    particle.set_attr('sig_id', sig_id[:,j])\n",
    "    particle.set_attr('h_id', h_id[:,j])\n",
    "    sample_particles.append(particle)"
   ]
  },
  {
   "cell_type": "code",
   "execution_count": 24,
   "id": "5c9af852",
   "metadata": {},
   "outputs": [],
   "source": [
    "self.HX_b1 = sample_particles[0].p4\n",
    "self.HX_b2 = sample_particles[1].p4\n",
    "self.H1_b1 = sample_particles[2].p4\n",
    "self.H1_b2 = sample_particles[3].p4\n",
    "self.H2_b1 = sample_particles[4].p4\n",
    "self.H2_b2 = sample_particles[5].p4"
   ]
  },
  {
   "cell_type": "code",
   "execution_count": 25,
   "id": "0002e8e4",
   "metadata": {},
   "outputs": [],
   "source": [
    "self.HX = self.HX_b1 + self.HX_b2\n",
    "self.H1 = self.H1_b1 + self.H1_b2\n",
    "self.H2 = self.H2_b1 + self.H2_b2"
   ]
  },
  {
   "cell_type": "code",
   "execution_count": 27,
   "id": "e67129ea",
   "metadata": {},
   "outputs": [],
   "source": [
    "self.Y = self.H1 + self.H2\n",
    "self.X = self.HX + self.H1 + self.H2"
   ]
  },
  {
   "cell_type": "code",
   "execution_count": 31,
   "id": "437a7866",
   "metadata": {},
   "outputs": [
    {
     "data": {
      "text/plain": [
       "(<Figure size 650x650 with 1 Axes>,\n",
       " <AxesSubplot:ylabel='PDF'>,\n",
       " [HistoList<[<utils.plotUtils.histogram.Histo object at 0x7ff060844820>]>])"
      ]
     },
     "execution_count": 31,
     "metadata": {},
     "output_type": "execute_result"
    },
    {
     "data": {
      "image/png": "[encoded data removed]",
      "text/plain": [
       "<Figure size 650x650 with 1 Axes>"
      ]
     },
     "metadata": {},
     "output_type": "display_data"
    }
   ],
   "source": [
    "hist_multi([self.Y.m[self.nfound_select==6]], bins=np.linspace(100,1000,100), density=True)"
   ]
  }
 ],
 "metadata": {
  "interpreter": {
   "hash": "99d8ad6568882febb6ca5d1c2307614594cf6684ed0ce2b9f63bf31341fdb3d5"
  },
  "kernelspec": {
   "display_name": "Python 3.9.0 ('py-env')",
   "language": "python",
   "name": "python3"
  },
  "language_info": {
   "codemirror_mode": {
    "name": "ipython",
    "version": 3
   },
   "file_extension": ".py",
   "mimetype": "text/x-python",
   "name": "python",
   "nbconvert_exporter": "python",
   "pygments_lexer": "ipython3",
   "version": "3.9.15"
  }
 },
 "nbformat": 4,
 "nbformat_minor": 5
}

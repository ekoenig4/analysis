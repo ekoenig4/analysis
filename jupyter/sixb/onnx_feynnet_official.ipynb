{
 "cells": [
  {
   "cell_type": "code",
   "execution_count": 1,
   "id": "9bfa3b5a",
   "metadata": {},
   "outputs": [],
   "source": [
    "%load_ext autoreload\n",
    "%autoreload 2\n",
    "\n",
    "import os\n",
    "os.environ['KMP_WARNINGS'] = 'off'\n",
    "import sys\n",
    "import git\n",
    "\n",
    "import uproot as ut\n",
    "import awkward as ak\n",
    "import numpy as np\n",
    "import math\n",
    "import vector\n",
    "import sympy as sp\n",
    "\n",
    "import re\n",
    "from tqdm import tqdm\n",
    "import timeit\n",
    "import re\n",
    "\n",
    "sys.path.append( git.Repo('.', search_parent_directories=True).working_tree_dir )\n",
    "from utils import *"
   ]
  },
  {
   "cell_type": "code",
   "execution_count": 2,
   "id": "6edca911",
   "metadata": {},
   "outputs": [],
   "source": [
    "%load_ext line_profiler\n",
    "%load_ext memory_profiler"
   ]
  },
  {
   "cell_type": "code",
   "execution_count": 3,
   "id": "88b93884",
   "metadata": {},
   "outputs": [],
   "source": [
    "varinfo.clear()"
   ]
  },
  {
   "cell_type": "code",
   "execution_count": 4,
   "id": "2fc6e96b",
   "metadata": {},
   "outputs": [],
   "source": [
    "import utils.weaverUtils as weaver\n",
    "modelpath= '/eos/uscms/store/user/ekoenig/weaver/models/exp_sixb_official/feynnet_ranker_6b/20230731_7d266883bbfb88fe4e226783a7d1c9db_ranger_lr0.0047_batch2000_withbkg/'"
   ]
  },
  {
   "cell_type": "code",
   "execution_count": 5,
   "id": "a9299e8e",
   "metadata": {},
   "outputs": [],
   "source": [
    "fc.sixb = fc.FileCollection('/store/user/srosenzw/sixb/ntuples/Summer2018UL/maxbtag_4b/')\n",
    "f_signal = np.array([ f'{d}/ntuple.root' for d in fc.sixb.Official_NMSSM.ls if d.endswith('pythia8') ])\n",
    "use_signal = [4]"
   ]
  },
  {
   "cell_type": "code",
   "execution_count": 6,
   "id": "3d3d5477",
   "metadata": {},
   "outputs": [
    {
     "name": "stderr",
     "output_type": "stream",
     "text": [
      "100%|██████████| 1/1 [00:00<00:00,  1.26it/s]\n"
     ]
    }
   ],
   "source": [
    "signal = ObjIter([Tree([f], use_gen=True) for f in f_signal[use_signal]])"
   ]
  },
  {
   "cell_type": "code",
   "execution_count": 16,
   "id": "2751ebf6",
   "metadata": {},
   "outputs": [
    {
     "data": {
      "text/plain": [
       "array([4.9278613e+15, 4.0542373e+15, 4.0483723e+15, 3.3947717e+15,\n",
       "       1.9307640e+15, 1.8852571e+15], dtype=float32)"
      ]
     },
     "execution_count": 16,
     "metadata": {},
     "output_type": "execute_result"
    }
   ],
   "source": [
    "t.cutflow[0].histo"
   ]
  },
  {
   "cell_type": "code",
   "execution_count": 28,
   "id": "7eb963cc",
   "metadata": {},
   "outputs": [
    {
     "data": {
      "text/plain": [
       "4927861328707584.0"
      ]
     },
     "execution_count": 28,
     "metadata": {},
     "output_type": "execute_result"
    }
   ],
   "source": [
    "t = signal[0]\n",
    "\n",
    "t.filelist[0].total_events"
   ]
  },
  {
   "cell_type": "code",
   "execution_count": 29,
   "id": "62861b18",
   "metadata": {},
   "outputs": [
    {
     "data": {
      "text/plain": [
       "int"
      ]
     },
     "execution_count": 29,
     "metadata": {},
     "output_type": "execute_result"
    }
   ],
   "source": [
    "type(t.filelist[0].xsec)"
   ]
  },
  {
   "cell_type": "code",
   "execution_count": 8,
   "id": "96e3a59b",
   "metadata": {},
   "outputs": [
    {
     "data": {
      "text/plain": [
       "[<Array [2.53e+10, 2.53e+10, ... 2.51e+10] type='74585 * float32'>]"
      ]
     },
     "execution_count": 8,
     "metadata": {},
     "output_type": "execute_result"
    }
   ],
   "source": [
    "ddsignal.genWeight"
   ]
  },
  {
   "cell_type": "code",
   "execution_count": null,
   "metadata": {},
   "outputs": [],
   "source": []
  },
  {
   "cell_type": "code",
   "execution_count": 46,
   "id": "f0622266",
   "metadata": {},
   "outputs": [
    {
     "name": "stderr",
     "output_type": "stream",
     "text": [
      "f_load_feynnet_assignment: 100%|██████████| 1/1 [00:08<00:00,  8.46s/it]\n"
     ]
    },
    {
     "data": {
      "text/plain": [
       "[None]"
      ]
     },
     "execution_count": 46,
     "metadata": {},
     "output_type": "execute_result"
    }
   ],
   "source": [
    "load_feynnet = sixb.f_load_feynnet_assignment( modelpath, onnx=True )\n",
    "\n",
    "signal.apply(load_feynnet, report=True)"
   ]
  },
  {
   "cell_type": "code",
   "execution_count": 47,
   "id": "ff5e0c4a",
   "metadata": {},
   "outputs": [
    {
     "data": {
      "text/plain": [
       "[None]"
      ]
     },
     "execution_count": 47,
     "metadata": {},
     "output_type": "execute_result"
    }
   ],
   "source": [
    "signal.apply(sixb.assign)"
   ]
  },
  {
   "cell_type": "code",
   "execution_count": 57,
   "id": "8f13c6a7",
   "metadata": {},
   "outputs": [
    {
     "data": {
      "text/plain": [
       "0.3240329825031843"
      ]
     },
     "execution_count": 57,
     "metadata": {},
     "output_type": "execute_result"
    }
   ],
   "source": [
    "(tree.nfound_select == 6)"
   ]
  },
  {
   "cell_type": "code",
   "execution_count": 59,
   "id": "a7a8d490",
   "metadata": {},
   "outputs": [
    {
     "data": {
      "text/plain": [
       "(0.46391923204237007, 0.150325132399276)"
      ]
     },
     "execution_count": 59,
     "metadata": {},
     "output_type": "execute_result"
    }
   ],
   "source": [
    "tree = signal[0]\n",
    "\n",
    "ak.mean((tree.X_signalId == 0)[tree.nfound_select == 6]), ak.mean((tree.X_signalId == 0))\n"
   ]
  },
  {
   "cell_type": "code",
   "execution_count": 50,
   "id": "879f7efe",
   "metadata": {},
   "outputs": [
    {
     "name": "stderr",
     "output_type": "stream",
     "text": [
      "6it [00:00, 20.48it/s]                       \n"
     ]
    },
    {
     "data": {
      "image/png": "[encoded data removed]",
      "text/plain": [
       "<Figure size 1280x800 with 6 Axes>"
      ]
     },
     "metadata": {},
     "output_type": "display_data"
    }
   ],
   "source": [
    "study.quick(\n",
    "    signal,\n",
    "    masks=lambda t : t.X_signalId == 0,\n",
    "    varlist=['X_m','Y_m','HX_m','H1_m','H2_m'],\n",
    ")"
   ]
  },
  {
   "cell_type": "code",
   "execution_count": null,
   "id": "b464043b",
   "metadata": {},
   "outputs": [],
   "source": []
  },
  {
   "cell_type": "code",
   "execution_count": 19,
   "id": "ad292e62",
   "metadata": {},
   "outputs": [],
   "source": [
    "tree = signal[0]"
   ]
  },
  {
   "cell_type": "code",
   "execution_count": 25,
   "id": "124f7c8a",
   "metadata": {},
   "outputs": [
    {
     "data": {
      "text/plain": [
       "(<Array [0, 1, 4, 5, 2, 3] type='6 * int32'>,\n",
       " <Array [4, 0, 2, 3, 1, 5] type='6 * int32'>)"
      ]
     },
     "execution_count": 25,
     "metadata": {},
     "output_type": "execute_result"
    }
   ],
   "source": [
    "tree.j_signalId[0], tree.jet_signalId[0]"
   ]
  },
  {
   "cell_type": "code",
   "execution_count": 30,
   "id": "79d4774e",
   "metadata": {},
   "outputs": [
    {
     "data": {
      "text/plain": [
       "<Array [0, 2, 1] type='3 * int64'>"
      ]
     },
     "execution_count": 30,
     "metadata": {},
     "output_type": "execute_result"
    }
   ],
   "source": [
    "tree.h_signalId[0]"
   ]
  },
  {
   "cell_type": "code",
   "execution_count": 37,
   "id": "a985f176",
   "metadata": {},
   "outputs": [],
   "source": [
    "yid = ak.where( (tree.h_signalId[:,1]>0)&(tree.h_signalId[:,2]>0), 0, -1)"
   ]
  },
  {
   "cell_type": "code",
   "execution_count": 42,
   "id": "b4aa63fe",
   "metadata": {},
   "outputs": [
    {
     "data": {
      "text/plain": [
       "0.1645773278809412"
      ]
     },
     "execution_count": 42,
     "metadata": {},
     "output_type": "execute_result"
    }
   ],
   "source": [
    "ak.mean(yid==0)"
   ]
  },
  {
   "cell_type": "code",
   "execution_count": 45,
   "id": "f4bd403d",
   "metadata": {},
   "outputs": [
    {
     "data": {
      "text/plain": [
       "0.150325132399276"
      ]
     },
     "execution_count": 45,
     "metadata": {},
     "output_type": "execute_result"
    }
   ],
   "source": [
    "ak.where(yid == tree.h_signalId[:,0], yid, -1)"
   ]
  },
  {
   "cell_type": "code",
   "execution_count": 28,
   "id": "65fbcf07",
   "metadata": {},
   "outputs": [
    {
     "name": "stderr",
     "output_type": "stream",
     "text": [
      "100%|██████████| 1/1 [00:00<00:00, 16.46it/s]\n"
     ]
    },
    {
     "data": {
      "image/png": "[encoded data removed]",
      "text/plain": [
       "<Figure size 480x400 with 1 Axes>"
      ]
     },
     "metadata": {},
     "output_type": "display_data"
    }
   ],
   "source": [
    "study.quick(\n",
    "    signal,\n",
    "    masks=lambda t : t.Y_signalId == 1,\n",
    "    varlist=['Y_m']\n",
    ")"
   ]
  }
 ],
 "metadata": {
  "interpreter": {
   "hash": "99d8ad6568882febb6ca5d1c2307614594cf6684ed0ce2b9f63bf31341fdb3d5"
  },
  "kernelspec": {
   "display_name": "Python 3.9.0 ('py-env')",
   "language": "python",
   "name": "python3"
  },
  "language_info": {
   "codemirror_mode": {
    "name": "ipython",
    "version": 3
   },
   "file_extension": ".py",
   "mimetype": "text/x-python",
   "name": "python",
   "nbconvert_exporter": "python",
   "pygments_lexer": "ipython3",
   "version": "3.9.15"
  }
 },
 "nbformat": 4,
 "nbformat_minor": 5
}

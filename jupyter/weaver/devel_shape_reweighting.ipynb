{
 "cells": [
  {
   "cell_type": "code",
   "execution_count": 15,
   "id": "9bfa3b5a",
   "metadata": {},
   "outputs": [
    {
     "name": "stdout",
     "output_type": "stream",
     "text": [
      "The autoreload extension is already loaded. To reload it, use:\n",
      "  %reload_ext autoreload\n"
     ]
    }
   ],
   "source": [
    "%load_ext autoreload\n",
    "%autoreload 2\n",
    "\n",
    "import os\n",
    "os.environ['KMP_WARNINGS'] = 'off'\n",
    "import sys\n",
    "import git\n",
    "\n",
    "import uproot as ut\n",
    "import awkward as ak\n",
    "import numpy as np\n",
    "import math\n",
    "import vector\n",
    "import sympy as sp\n",
    "\n",
    "import re\n",
    "from tqdm import tqdm\n",
    "import timeit\n",
    "import re\n",
    "\n",
    "sys.path.append( git.Repo('.', search_parent_directories=True).working_tree_dir )\n",
    "from utils import *"
   ]
  },
  {
   "cell_type": "code",
   "execution_count": 16,
   "id": "6edca911",
   "metadata": {},
   "outputs": [
    {
     "name": "stdout",
     "output_type": "stream",
     "text": [
      "The line_profiler extension is already loaded. To reload it, use:\n",
      "  %reload_ext line_profiler\n",
      "The memory_profiler extension is already loaded. To reload it, use:\n",
      "  %reload_ext memory_profiler\n"
     ]
    }
   ],
   "source": [
    "%load_ext line_profiler\n",
    "%load_ext memory_profiler"
   ]
  },
  {
   "cell_type": "code",
   "execution_count": 17,
   "id": "0744f455",
   "metadata": {},
   "outputs": [],
   "source": [
    "# ntuple = \"/eos/uscms/store/user/srosenzw/sixb/ntuples/Summer2018UL/maxbtag/NMSSM/NMSSM_XYH_YToHH_6b_MX_1000_MY_600/ntuple.root\"\n",
    "# model = \"/uscms/home/srosenzw/nobackup/workarea/higgs/sixb_analysis/CMSSW_10_6_19_patch2/src/sixb/weaver-multiH/weaver/models/exp_xy/XY_3H_reco_ranker/20230220_ranger_lr0.0047_batch1024__withbkg/\""
   ]
  },
  {
   "cell_type": "code",
   "execution_count": 18,
   "id": "fb24a7d5",
   "metadata": {},
   "outputs": [],
   "source": [
    "sigfile = \"/store/user/ekoenig/sixb/ntuples/2018_gnn_training/flat_X_m_split_{0..4}_signal_training_ntuple.root\"\n",
    "bkgfile = \"/store/user/ekoenig/sixb/ntuples/2018_gnn_training/flat_X_m_split_{0..4}_bkg_training_ntuple.root\"\n"
   ]
  },
  {
   "cell_type": "code",
   "execution_count": 19,
   "id": "4d75cc48",
   "metadata": {},
   "outputs": [
    {
     "name": "stderr",
     "output_type": "stream",
     "text": [
      "100%|██████████| 5/5 [00:01<00:00,  3.70it/s]\n"
     ]
    }
   ],
   "source": [
    "sigtree = Tree(sigfile)\n",
    "sigtree.is_signal = True\n",
    "sigtree.sample = 'Training Signal'"
   ]
  },
  {
   "cell_type": "code",
   "execution_count": 20,
   "id": "a92f0f59",
   "metadata": {},
   "outputs": [
    {
     "data": {
      "text/plain": [
       "<Array [0.00196, 0.00196, ... 0.00365, 0.00365] type='609964 * float64'>"
      ]
     },
     "execution_count": 20,
     "metadata": {},
     "output_type": "execute_result"
    }
   ],
   "source": [
    "sigtree.dataset_norm_abs_scale"
   ]
  },
  {
   "cell_type": "code",
   "execution_count": 21,
   "id": "32a33dd0",
   "metadata": {},
   "outputs": [
    {
     "name": "stderr",
     "output_type": "stream",
     "text": [
      "100%|██████████| 5/5 [00:01<00:00,  3.30it/s]\n"
     ]
    }
   ],
   "source": [
    "bkgtree = Tree(bkgfile)\n",
    "bkgtree.sample = 'Training Background'"
   ]
  },
  {
   "cell_type": "code",
   "execution_count": 22,
   "id": "728219ca",
   "metadata": {},
   "outputs": [],
   "source": [
    "trees = ObjIter([sigtree,bkgtree])"
   ]
  },
  {
   "cell_type": "code",
   "execution_count": 23,
   "id": "b27aabfb",
   "metadata": {},
   "outputs": [
    {
     "data": {
      "text/plain": [
       "[None, None]"
      ]
     },
     "execution_count": 23,
     "metadata": {},
     "output_type": "execute_result"
    }
   ],
   "source": [
    "trees.apply(lambda t:t.extend(scale=t.dataset_norm_abs_scale_flat_X_m))"
   ]
  },
  {
   "cell_type": "code",
   "execution_count": 24,
   "id": "c6611e2d",
   "metadata": {},
   "outputs": [
    {
     "data": {
      "text/plain": [
       "0.001956945916092544"
      ]
     },
     "execution_count": 24,
     "metadata": {},
     "output_type": "execute_result"
    }
   ],
   "source": [
    "sigtree.dataset_norm_abs_scale[0]"
   ]
  },
  {
   "cell_type": "code",
   "execution_count": 25,
   "id": "7c244e8b",
   "metadata": {},
   "outputs": [
    {
     "name": "stderr",
     "output_type": "stream",
     "text": [
      "100%|██████████| 1/1 [00:00<00:00,  1.47it/s]\n"
     ]
    },
    {
     "data": {
      "image/png": "[encoded data removed]",
      "text/plain": [
       "<Figure size 480x400 with 1 Axes>"
      ]
     },
     "metadata": {},
     "output_type": "display_data"
    }
   ],
   "source": [
    "h_mx = obj_store()\n",
    "study.quick(\n",
    "    trees,\n",
    "    legend=True,\n",
    "    varlist=['X_m'],\n",
    "    binlist=[(150,3000,30)],\n",
    "    h_color=['red','grey'],\n",
    "    lumi=None, \n",
    "    # efficiency=True,\n",
    "\n",
    "    store=h_mx\n",
    ")"
   ]
  },
  {
   "cell_type": "code",
   "execution_count": 27,
   "id": "3eb2043b",
   "metadata": {},
   "outputs": [
    {
     "data": {
      "text/plain": [
       "<Array [61.5, 232, 135, 61.1, 79.1, 40.4] type='6 * float32'>"
      ]
     },
     "execution_count": 27,
     "metadata": {},
     "output_type": "execute_result"
    }
   ],
   "source": [
    "sigtree.jet_ptRegressed[0]"
   ]
  },
  {
   "cell_type": "code",
   "execution_count": 38,
   "id": "77e2c0dc",
   "metadata": {},
   "outputs": [
    {
     "data": {
      "text/plain": [
       "<Array [60.4, 90.8, 95.3, ... 102, 109, 160] type='1960327 * float32'>"
      ]
     },
     "execution_count": 38,
     "metadata": {},
     "output_type": "execute_result"
    }
   ],
   "source": [
    "bkgtree.X_pt"
   ]
  },
  {
   "cell_type": "code",
   "execution_count": null,
   "id": "a0639137",
   "metadata": {},
   "outputs": [],
   "source": []
  },
  {
   "cell_type": "code",
   "execution_count": null,
   "id": "72d5c55e",
   "metadata": {},
   "outputs": [],
   "source": []
  },
  {
   "cell_type": "code",
   "execution_count": null,
   "id": "1b6618fd",
   "metadata": {},
   "outputs": [],
   "source": []
  },
  {
   "cell_type": "code",
   "execution_count": 25,
   "id": "c35e9f6c",
   "metadata": {},
   "outputs": [],
   "source": [
    "(bkg_h_mx,), sig_h_mx = h_mx[0]"
   ]
  },
  {
   "cell_type": "code",
   "execution_count": 26,
   "id": "80841b32",
   "metadata": {},
   "outputs": [],
   "source": [
    "bkg_sf_mx = Ratio( Ratio(bkg_h_mx, bkg_h_mx), bkg_h_mx )\n",
    "sig_sf_mx = Ratio( Ratio(sig_h_mx, sig_h_mx), sig_h_mx )\n"
   ]
  },
  {
   "cell_type": "code",
   "execution_count": 27,
   "id": "0342e4a9",
   "metadata": {},
   "outputs": [
    {
     "name": "stderr",
     "output_type": "stream",
     "text": [
      "100%|██████████| 1/1 [00:00<00:00,  7.39it/s]\n"
     ]
    },
    {
     "data": {
      "image/png": "[encoded data removed]",
      "text/plain": [
       "<Figure size 480x400 with 1 Axes>"
      ]
     },
     "metadata": {},
     "output_type": "display_data"
    }
   ],
   "source": [
    "study.quick(\n",
    "    trees,\n",
    "    legend=True,\n",
    "    scale=[lambda t : sig_sf_mx.evaluate(t.X_m), lambda t : bkg_sf_mx.evaluate(t.X_m)],\n",
    "    varlist=['X_m'],\n",
    "    binlist=[(150,3000,30)],\n",
    "    h_color=['red','grey'],\n",
    "    lumi=None,\n",
    "    efficiency=True,\n",
    ")"
   ]
  },
  {
   "cell_type": "code",
   "execution_count": null,
   "id": "2e72f503",
   "metadata": {},
   "outputs": [],
   "source": []
  }
 ],
 "metadata": {
  "interpreter": {
   "hash": "99d8ad6568882febb6ca5d1c2307614594cf6684ed0ce2b9f63bf31341fdb3d5"
  },
  "kernelspec": {
   "display_name": "Python 3.9.0 ('py-env')",
   "language": "python",
   "name": "python3"
  },
  "language_info": {
   "codemirror_mode": {
    "name": "ipython",
    "version": 3
   },
   "file_extension": ".py",
   "mimetype": "text/x-python",
   "name": "python",
   "nbconvert_exporter": "python",
   "pygments_lexer": "ipython3",
   "version": "3.9.15"
  }
 },
 "nbformat": 4,
 "nbformat_minor": 5
}

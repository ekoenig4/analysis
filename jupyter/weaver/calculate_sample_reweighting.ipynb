{
 "cells": [
  {
   "cell_type": "code",
   "execution_count": 1,
   "metadata": {},
   "outputs": [],
   "source": [
    "%load_ext autoreload\n",
    "%autoreload 2\n",
    "\n",
    "import os\n",
    "os.environ['KMP_WARNINGS'] = 'off'\n",
    "import sys\n",
    "import git\n",
    "\n",
    "import uproot as ut\n",
    "import awkward as ak\n",
    "import numpy as np\n",
    "import math\n",
    "import vector\n",
    "import sympy as sp\n",
    "\n",
    "import re\n",
    "from tqdm import tqdm\n",
    "import timeit\n",
    "import re\n",
    "\n",
    "sys.path.append( git.Repo('.', search_parent_directories=True).working_tree_dir )\n",
    "from utils import *"
   ]
  },
  {
   "cell_type": "code",
   "execution_count": 2,
   "metadata": {},
   "outputs": [],
   "source": [
    "basepath = \"/store/user/ekoenig/8BAnalysis/NTuples/2018/preselection/t8btag_minmass/\"\n",
    "\n",
    "sample = dict(\n",
    "    bkg=[\n",
    "        f\"{basepath}/Run2_Autumn18/QCD/*/ntuple.root\",\n",
    "        f\"{basepath}/Run2_UL/*/TTJets/*/ntuple_training.root\"\n",
    "    ]\n",
    ")"
   ]
  },
  {
   "cell_type": "code",
   "execution_count": 3,
   "metadata": {},
   "outputs": [],
   "source": [
    "for sample_name, files in sample.items():\n",
    "    break"
   ]
  },
  {
   "cell_type": "code",
   "execution_count": 4,
   "metadata": {},
   "outputs": [],
   "source": [
    "def globlist(filelist):\n",
    "    for files in filelist:\n",
    "        for f in fc.glob(files):\n",
    "            yield f"
   ]
  },
  {
   "cell_type": "code",
   "execution_count": 5,
   "metadata": {},
   "outputs": [
    {
     "name": "stderr",
     "output_type": "stream",
     "text": [
      "17it [00:17,  1.05s/it]\n"
     ]
    }
   ],
   "source": [
    "sample_tree = ObjIter([Tree(f, report=False) for f in tqdm(globlist(files)) ])"
   ]
  },
  {
   "cell_type": "code",
   "execution_count": 6,
   "metadata": {},
   "outputs": [
    {
     "name": "stderr",
     "output_type": "stream",
     "text": [
      "100%|██████████| 17/17 [00:01<00:00,  9.58it/s]\n"
     ]
    },
    {
     "data": {
      "text/plain": [
       "[None, None, None, None, None, None, None, None, None, None, None, None, None, None, None, None, None]"
      ]
     },
     "execution_count": 6,
     "metadata": {},
     "output_type": "execute_result"
    }
   ],
   "source": [
    "def get_abs_scale(t):\n",
    "\n",
    "    scale = t.scale \n",
    "\n",
    "    abs_scale = np.abs(scale)\n",
    "\n",
    "    abs_norm = np.sum(scale)/np.sum(abs_scale)\n",
    "\n",
    "    t.abs_norm = abs_norm\n",
    "    t.extend(abs_scale=abs_norm*abs_scale)\n",
    "sample_tree.apply(get_abs_scale, report=True)\n"
   ]
  },
  {
   "cell_type": "code",
   "execution_count": 7,
   "metadata": {},
   "outputs": [],
   "source": [
    "def get_sample_norm(sample_trees):\n",
    "    sample_abs_scale = sample_trees.abs_scale.cat\n",
    "    sample_abs_norm = 1/np.sum(sample_abs_scale)\n",
    "    \n",
    "    sample_trees.sample_abs_norm = sample_abs_norm\n",
    "    for tree in sample_trees:\n",
    "        tree.extend(sample_abs_scale= sample_abs_norm * tree.abs_scale)\n",
    "\n",
    "get_sample_norm(sample_tree)"
   ]
  },
  {
   "cell_type": "code",
   "execution_count": 8,
   "metadata": {},
   "outputs": [],
   "source": [
    "def get_max_sample_scale(sample_trees):\n",
    "    sample_abs_scale = sample_trees.sample_abs_scale.cat\n",
    "    max_sample_abs_scale = ak.max(sample_abs_scale)\n",
    "\n",
    "    sample_trees.max_sample_abs_scale = max_sample_abs_scale\n",
    "\n",
    "get_max_sample_scale(sample_tree)"
   ]
  },
  {
   "cell_type": "code",
   "execution_count": null,
   "metadata": {},
   "outputs": [],
   "source": []
  },
  {
   "cell_type": "code",
   "execution_count": 21,
   "metadata": {},
   "outputs": [],
   "source": [
    "sample_info = dict(\n",
    "    bkg = {\n",
    "        fc.cleanpath(tree.filelist[0].fname):dict(\n",
    "            file_abs_norm = tree.file_abs_norm,\n",
    "            sample_abs_norm = sample_tree.sample_abs_norm,\n",
    "            max_sample_abs_scale = sample_tree.max_sample_abs_scale\n",
    "        )\n",
    "        for tree in sample_tree\n",
    "    }\n",
    ")"
   ]
  },
  {
   "cell_type": "code",
   "execution_count": 22,
   "metadata": {},
   "outputs": [
    {
     "data": {
      "text/plain": [
       "{'bkg': {'sample_abs_norm': 0.04158710256841988,\n",
       "  'max_sample_abs_scale': 0.0012176249727373406,\n",
       "  'file_abs_norm': {'/store/user/ekoenig/8BAnalysis/NTuples/2018/preselection/t8btag_minmass/Run2_Autumn18/QCD/QCD_HT1000to1500_BGenFilter_TuneCP5_13TeV-madgraph-pythia8/ntuple.root': 0.997369405836067,\n",
       "   '/store/user/ekoenig/8BAnalysis/NTuples/2018/preselection/t8btag_minmass/Run2_Autumn18/QCD/QCD_HT100to200_BGenFilter_TuneCP5_13TeV-madgraph-pythia8/ntuple.root': nan,\n",
       "   '/store/user/ekoenig/8BAnalysis/NTuples/2018/preselection/t8btag_minmass/Run2_Autumn18/QCD/QCD_HT1500to2000_BGenFilter_TuneCP5_13TeV-madgraph-pythia8/ntuple.root': 0.9899462847201966,\n",
       "   '/store/user/ekoenig/8BAnalysis/NTuples/2018/preselection/t8btag_minmass/Run2_Autumn18/QCD/QCD_HT2000toInf_BGenFilter_TuneCP5_13TeV-madgraph-pythia8/ntuple.root': 0.9770693216228145,\n",
       "   '/store/user/ekoenig/8BAnalysis/NTuples/2018/preselection/t8btag_minmass/Run2_Autumn18/QCD/QCD_HT200to300_BGenFilter_TuneCP5_13TeV-madgraph-pythia8/ntuple.root': 1.0,\n",
       "   '/store/user/ekoenig/8BAnalysis/NTuples/2018/preselection/t8btag_minmass/Run2_Autumn18/QCD/QCD_HT300to500_BGenFilter_TuneCP5_13TeV-madgraph-pythia8/ntuple.root': 1.0,\n",
       "   '/store/user/ekoenig/8BAnalysis/NTuples/2018/preselection/t8btag_minmass/Run2_Autumn18/QCD/QCD_HT500to700_BGenFilter_TuneCP5_13TeV-madgraph-pythia8/ntuple.root': 0.9989664624291121,\n",
       "   '/store/user/ekoenig/8BAnalysis/NTuples/2018/preselection/t8btag_minmass/Run2_Autumn18/QCD/QCD_HT700to1000_BGenFilter_TuneCP5_13TeV-madgraph-pythia8/ntuple.root': 0.9991654408693663,\n",
       "   '/store/user/ekoenig/8BAnalysis/NTuples/2018/preselection/t8btag_minmass/Run2_Autumn18/QCD/QCD_bEnriched_HT1000to1500_TuneCP5_13TeV-madgraph-pythia8/ntuple.root': 0.9974766019180566,\n",
       "   '/store/user/ekoenig/8BAnalysis/NTuples/2018/preselection/t8btag_minmass/Run2_Autumn18/QCD/QCD_bEnriched_HT100to200_TuneCP5_13TeV-madgraph-pythia8/ntuple.root': 1.0,\n",
       "   '/store/user/ekoenig/8BAnalysis/NTuples/2018/preselection/t8btag_minmass/Run2_Autumn18/QCD/QCD_bEnriched_HT1500to2000_TuneCP5_13TeV-madgraph-pythia8/ntuple.root': 0.993453906588604,\n",
       "   '/store/user/ekoenig/8BAnalysis/NTuples/2018/preselection/t8btag_minmass/Run2_Autumn18/QCD/QCD_bEnriched_HT2000toInf_TuneCP5_13TeV-madgraph-pythia8/ntuple.root': 0.9831231243250592,\n",
       "   '/store/user/ekoenig/8BAnalysis/NTuples/2018/preselection/t8btag_minmass/Run2_Autumn18/QCD/QCD_bEnriched_HT200to300_TuneCP5_13TeV-madgraph-pythia8/ntuple.root': 1.0,\n",
       "   '/store/user/ekoenig/8BAnalysis/NTuples/2018/preselection/t8btag_minmass/Run2_Autumn18/QCD/QCD_bEnriched_HT300to500_TuneCP5_13TeV-madgraph-pythia8/ntuple.root': 1.0,\n",
       "   '/store/user/ekoenig/8BAnalysis/NTuples/2018/preselection/t8btag_minmass/Run2_Autumn18/QCD/QCD_bEnriched_HT500to700_TuneCP5_13TeV-madgraph-pythia8/ntuple.root': 0.9988954063456172,\n",
       "   '/store/user/ekoenig/8BAnalysis/NTuples/2018/preselection/t8btag_minmass/Run2_Autumn18/QCD/QCD_bEnriched_HT700to1000_TuneCP5_13TeV-madgraph-pythia8/ntuple.root': 0.9988080935646326,\n",
       "   '/store/user/ekoenig/8BAnalysis/NTuples/2018/preselection/t8btag_minmass/Run2_UL/RunIISummer20UL18NanoAODv9/TTJets/TTJets_TuneCP5_13TeV-amcatnloFXFX-pythia8/ntuple_training.root': 0.22838519653423492}}}"
      ]
     },
     "execution_count": 22,
     "metadata": {},
     "output_type": "execute_result"
    }
   ],
   "source": [
    "sample_info"
   ]
  }
 ],
 "metadata": {
  "interpreter": {
   "hash": "99d8ad6568882febb6ca5d1c2307614594cf6684ed0ce2b9f63bf31341fdb3d5"
  },
  "kernelspec": {
   "display_name": "Python 3.9.0 ('py-env')",
   "language": "python",
   "name": "python3"
  },
  "language_info": {
   "codemirror_mode": {
    "name": "ipython",
    "version": 3
   },
   "file_extension": ".py",
   "mimetype": "text/x-python",
   "name": "python",
   "nbconvert_exporter": "python",
   "pygments_lexer": "ipython3",
   "version": "3.9.15"
  },
  "orig_nbformat": 4
 },
 "nbformat": 4,
 "nbformat_minor": 2
}

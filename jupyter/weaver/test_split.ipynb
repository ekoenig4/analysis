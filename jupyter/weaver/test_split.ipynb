{
 "cells": [
  {
   "cell_type": "code",
   "execution_count": 1,
   "metadata": {},
   "outputs": [],
   "source": [
    "%load_ext autoreload\n",
    "%autoreload 2\n",
    "\n",
    "import os\n",
    "os.environ['KMP_WARNINGS'] = 'off'\n",
    "import sys\n",
    "import git\n",
    "\n",
    "import uproot as ut\n",
    "import awkward as ak\n",
    "import numpy as np\n",
    "import math\n",
    "import vector\n",
    "import sympy as sp\n",
    "\n",
    "import re\n",
    "from tqdm import tqdm\n",
    "import timeit\n",
    "import re\n",
    "\n",
    "sys.path.append( git.Repo('.', search_parent_directories=True).working_tree_dir )\n",
    "from utils import *"
   ]
  },
  {
   "cell_type": "code",
   "execution_count": 3,
   "metadata": {},
   "outputs": [],
   "source": [
    "masslist = [\n",
    "    \"MX_700_MY_300\",\n",
    "    \"MX_800_MY_300\",\n",
    "    \"MX_800_MY_350\",\n",
    "    \"MX_900_MY_300\",\n",
    "    \"MX_900_MY_400\",\n",
    "    \"MX_1000_MY_300\",\n",
    "    \"MX_1000_MY_450\",\n",
    "    \"MX_1200_MY_500\",\n",
    "]"
   ]
  },
  {
   "cell_type": "code",
   "execution_count": 6,
   "metadata": {},
   "outputs": [],
   "source": [
    "path = \"/store/user/ekoenig/8BAnalysis/NTuples/2018/training/training_5M/NMSSM_XYY_YToHH_8b/NMSSM_XYY_YToHH_8b\"\n",
    "data_train = [\n",
    "    # f\"{mass}:{path}_{massDict[mass]}/fully_res_ntuple_{{0..3}}.root\"\n",
    "    f\"/store/user/ekoenig/8BAnalysis/NTuples/2018/training/sig/{mass}/split_0_training_sig.root\"\n",
    "    for mass in masslist\n",
    "    # f\"{mass}:{path}_{massDict[mass]}/fully_res_ntuple_0.root\"\n",
    "]"
   ]
  },
  {
   "cell_type": "code",
   "execution_count": 7,
   "metadata": {},
   "outputs": [
    {
     "name": "stderr",
     "output_type": "stream",
     "text": [
      "100%|██████████| 1/1 [00:00<00:00,  2.50it/s]\n",
      "100%|██████████| 1/1 [00:00<00:00,  2.84it/s]\n",
      "100%|██████████| 1/1 [00:00<00:00,  3.49it/s]\n",
      "100%|██████████| 1/1 [00:00<00:00,  2.91it/s]\n",
      "100%|██████████| 1/1 [00:00<00:00,  1.83it/s]\n",
      "100%|██████████| 1/1 [00:00<00:00,  3.06it/s]\n",
      "100%|██████████| 1/1 [00:00<00:00,  3.18it/s]\n",
      "100%|██████████| 1/1 [00:00<00:00,  3.45it/s]\n"
     ]
    }
   ],
   "source": [
    "signal = ObjIter([Tree(f) for f in data_train])"
   ]
  },
  {
   "cell_type": "code",
   "execution_count": 10,
   "metadata": {},
   "outputs": [
    {
     "name": "stderr",
     "output_type": "stream",
     "text": [
      "100%|██████████| 1/1 [00:03<00:00,  3.90s/it]\n"
     ]
    },
    {
     "data": {
      "image/png": "[encoded data removed]",
      "text/plain": [
       "<Figure size 480x400 with 1 Axes>"
      ]
     },
     "metadata": {},
     "output_type": "display_data"
    }
   ],
   "source": [
    "study.quick(\n",
    "    signal, stacked=False,\n",
    "    varlist=['jet_signalId'],\n",
    "    scale=lambda t:t.dataset_norm_abs_scale/t.scale,\n",
    "    lumi=None,\n",
    ")"
   ]
  }
 ],
 "metadata": {
  "interpreter": {
   "hash": "99d8ad6568882febb6ca5d1c2307614594cf6684ed0ce2b9f63bf31341fdb3d5"
  },
  "kernelspec": {
   "display_name": "Python 3.9.0 ('py-env')",
   "language": "python",
   "name": "python3"
  },
  "language_info": {
   "codemirror_mode": {
    "name": "ipython",
    "version": 3
   },
   "file_extension": ".py",
   "mimetype": "text/x-python",
   "name": "python",
   "nbconvert_exporter": "python",
   "pygments_lexer": "ipython3",
   "version": "3.9.15"
  },
  "orig_nbformat": 4
 },
 "nbformat": 4,
 "nbformat_minor": 2
}

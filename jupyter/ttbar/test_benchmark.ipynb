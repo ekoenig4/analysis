{
 "cells": [
  {
   "cell_type": "code",
   "execution_count": 1,
   "id": "9bfa3b5a",
   "metadata": {},
   "outputs": [],
   "source": [
    "%load_ext autoreload\n",
    "%autoreload 2\n",
    "\n",
    "import os\n",
    "os.environ['KMP_WARNINGS'] = 'off'\n",
    "import sys\n",
    "import git\n",
    "\n",
    "import uproot as ut\n",
    "import awkward as ak\n",
    "import numpy as np\n",
    "import math\n",
    "import vector\n",
    "import sympy as sp\n",
    "\n",
    "import re\n",
    "from tqdm import tqdm\n",
    "import timeit\n",
    "import re\n",
    "\n",
    "sys.path.append( git.Repo('.', search_parent_directories=True).working_tree_dir )\n",
    "from utils import *"
   ]
  },
  {
   "cell_type": "code",
   "execution_count": 2,
   "id": "6edca911",
   "metadata": {},
   "outputs": [],
   "source": [
    "%load_ext line_profiler\n",
    "%load_ext memory_profiler"
   ]
  },
  {
   "cell_type": "code",
   "execution_count": 3,
   "id": "73a82be8",
   "metadata": {},
   "outputs": [
    {
     "name": "stderr",
     "output_type": "stream",
     "text": [
      "100%|██████████| 1/1 [00:00<00:00,  2.50it/s]\n",
      "100%|██████████| 1/1 [00:00<00:00,  2.84it/s]\n"
     ]
    }
   ],
   "source": [
    "ttbar_path = '/store/user/ekoenig/TTAnalysis/NTuples/2018/training/sig/'\n",
    "ttbar = ObjIter([Tree( [f'{ttbar_path}/training_ntuple.root'] )])\n",
    "\n",
    "qcd_path = '/store/user/ekoenig/TTAnalysis/NTuples/2018/training/bkg/'\n",
    "qcd = ObjIter([Tree( [f'{qcd_path}/training_ntuple.root'] )])"
   ]
  },
  {
   "cell_type": "code",
   "execution_count": 4,
   "id": "b21a792f",
   "metadata": {},
   "outputs": [],
   "source": [
    "ttbar[0].is_signal = True"
   ]
  },
  {
   "cell_type": "code",
   "execution_count": 5,
   "id": "54f1f6e5",
   "metadata": {},
   "outputs": [
    {
     "data": {
      "text/plain": [
       "[169622.79959450758, 169622.79959450764]"
      ]
     },
     "execution_count": 5,
     "metadata": {},
     "output_type": "execute_result"
    }
   ],
   "source": [
    "(ttbar+qcd).dataset_norm_abs_scale.apply(np.sum)"
   ]
  },
  {
   "cell_type": "code",
   "execution_count": 6,
   "id": "dd5c0dd6",
   "metadata": {},
   "outputs": [
    {
     "data": {
      "text/plain": [
       "[None, None]"
      ]
     },
     "execution_count": 6,
     "metadata": {},
     "output_type": "execute_result"
    }
   ],
   "source": [
    "(ttbar + qcd).apply(lambda t : t.extend(scale=ak.ones_like(t.scale)))"
   ]
  },
  {
   "cell_type": "code",
   "execution_count": 7,
   "id": "34ca9e2a",
   "metadata": {},
   "outputs": [
    {
     "data": {
      "text/plain": [
       "[<Array [1, 1, 1, 1, 1, 1, ... 1, 1, 1, 1, 1, 1] type='5746494 * float64'>, <Array [1, 1, 1, 1, 1, 1, ... 1, 1, 1, 1, 1, 1] type='3593672 * float64'>]"
      ]
     },
     "execution_count": 7,
     "metadata": {},
     "output_type": "execute_result"
    }
   ],
   "source": [
    "(ttbar+qcd).scale"
   ]
  },
  {
   "cell_type": "code",
   "execution_count": 8,
   "id": "f1609277",
   "metadata": {},
   "outputs": [
    {
     "name": "stderr",
     "output_type": "stream",
     "text": [
      "100%|██████████| 1/1 [00:39<00:00, 39.88s/it]\n"
     ]
    },
    {
     "data": {
      "image/png": "[encoded data removed]",
      "text/plain": [
       "<Figure size 480x400 with 1 Axes>"
      ]
     },
     "metadata": {},
     "output_type": "display_data"
    }
   ],
   "source": [
    "study.quick(\n",
    "    ttbar+qcd,\n",
    "    legend=True,\n",
    "    varlist=['jet_phi[:,0]'],\n",
    "    scale=lambda t:t.dataset_norm_abs_scale,\n",
    "    lumi=None,\n",
    ")"
   ]
  },
  {
   "cell_type": "code",
   "execution_count": null,
   "id": "5ce1619a",
   "metadata": {},
   "outputs": [],
   "source": []
  }
 ],
 "metadata": {
  "interpreter": {
   "hash": "99d8ad6568882febb6ca5d1c2307614594cf6684ed0ce2b9f63bf31341fdb3d5"
  },
  "kernelspec": {
   "display_name": "Python 3.9.0 ('py-env')",
   "language": "python",
   "name": "python3"
  },
  "language_info": {
   "codemirror_mode": {
    "name": "ipython",
    "version": 3
   },
   "file_extension": ".py",
   "mimetype": "text/x-python",
   "name": "python",
   "nbconvert_exporter": "python",
   "pygments_lexer": "ipython3",
   "version": "3.9.15"
  }
 },
 "nbformat": 4,
 "nbformat_minor": 5
}

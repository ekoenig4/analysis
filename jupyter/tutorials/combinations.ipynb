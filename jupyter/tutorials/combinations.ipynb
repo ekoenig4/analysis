{
 "cells": [
  {
   "cell_type": "code",
   "execution_count": 1,
   "id": "9bfa3b5a",
   "metadata": {},
   "outputs": [],
   "source": [
    "%load_ext autoreload\n",
    "%autoreload 2\n",
    "\n",
    "import os\n",
    "os.environ['KMP_WARNINGS'] = 'off'\n",
    "import sys\n",
    "import git\n",
    "\n",
    "import uproot as ut\n",
    "import awkward as ak\n",
    "import numpy as np\n",
    "import math\n",
    "import vector\n",
    "import sympy as sp\n",
    "\n",
    "import re\n",
    "from tqdm import tqdm\n",
    "import timeit\n",
    "import re\n",
    "\n",
    "sys.path.append( git.Repo('.', search_parent_directories=True).working_tree_dir )\n",
    "from utils import *"
   ]
  },
  {
   "cell_type": "code",
   "execution_count": 2,
   "id": "6edca911",
   "metadata": {},
   "outputs": [],
   "source": [
    "%load_ext line_profiler\n",
    "%load_ext memory_profiler"
   ]
  },
  {
   "cell_type": "code",
   "execution_count": 193,
   "id": "38c4519f",
   "metadata": {},
   "outputs": [],
   "source": [
    "nitems = 8\n",
    "ks = [[2,2],[2,2]]\n",
    "\n",
    "# nitems = 6\n",
    "# ks = [2, [2,2]]\n"
   ]
  },
  {
   "cell_type": "code",
   "execution_count": 194,
   "id": "ac4adde0",
   "metadata": {},
   "outputs": [],
   "source": [
    "\n",
    "def _flatten(ks):\n",
    "    if len(ks) == 0:\n",
    "        return ks\n",
    "    if isinstance(ks[0], list):\n",
    "        return _flatten(ks[0]) + _flatten(ks[1:])\n",
    "    return ks[:1] + _flatten(ks[1:])\n",
    "def _grouped(ks):\n",
    "    return [ (len(k) if isinstance(k,list) else 1) for k in ks ]"
   ]
  },
  {
   "cell_type": "code",
   "execution_count": 195,
   "id": "3ca3cf64",
   "metadata": {},
   "outputs": [],
   "source": [
    "ks_flatten = _flatten(ks)\n",
    "ks_grouped = _grouped(ks)"
   ]
  },
  {
   "cell_type": "code",
   "execution_count": 196,
   "id": "ca637398",
   "metadata": {},
   "outputs": [
    {
     "data": {
      "text/plain": [
       "[2, 2, 2, 2]"
      ]
     },
     "execution_count": 196,
     "metadata": {},
     "output_type": "execute_result"
    }
   ],
   "source": [
    "ks_flatten"
   ]
  },
  {
   "cell_type": "code",
   "execution_count": 197,
   "id": "f9df9e19",
   "metadata": {},
   "outputs": [
    {
     "data": {
      "text/plain": [
       "[2, 2]"
      ]
     },
     "execution_count": 197,
     "metadata": {},
     "output_type": "execute_result"
    }
   ],
   "source": [
    "ks_grouped"
   ]
  },
  {
   "cell_type": "code",
   "execution_count": 198,
   "id": "f620771b",
   "metadata": {},
   "outputs": [],
   "source": [
    "cb_flatten = get_combinations(nitems, ks_flatten)\n",
    "cb_grouped = get_combinations(sum(ks_grouped), ks_grouped)"
   ]
  },
  {
   "cell_type": "code",
   "execution_count": 199,
   "id": "0665c331",
   "metadata": {},
   "outputs": [
    {
     "data": {
      "text/plain": [
       "(3, 2, 2)"
      ]
     },
     "execution_count": 199,
     "metadata": {},
     "output_type": "execute_result"
    }
   ],
   "source": [
    "cb_grouped.shape"
   ]
  },
  {
   "cell_type": "code",
   "execution_count": 200,
   "id": "41e1a864",
   "metadata": {},
   "outputs": [
    {
     "data": {
      "text/plain": [
       "array([[[0, 1],\n",
       "        [2, 3]],\n",
       "\n",
       "       [[0, 2],\n",
       "        [1, 3]],\n",
       "\n",
       "       [[0, 3],\n",
       "        [1, 2]]])"
      ]
     },
     "execution_count": 200,
     "metadata": {},
     "output_type": "execute_result"
    }
   ],
   "source": [
    "cb_grouped"
   ]
  },
  {
   "cell_type": "code",
   "execution_count": null,
   "id": "1da64c02",
   "metadata": {},
   "outputs": [],
   "source": []
  },
  {
   "cell_type": "code",
   "execution_count": 201,
   "id": "8c27c1ff",
   "metadata": {},
   "outputs": [],
   "source": [
    "# test = np.stack([ cb_flatten.T[:, np.array(cb_grouped[:,i]).T ] for i in range(cb_grouped.shape[1]) ], axis=0)\n",
    "test = np.concatenate([ cb_flatten.T[:, np.array(cb_grouped[:,i].tolist()).T ] for i in range(cb_grouped.shape[1]) ], axis=1)\n",
    "test = test.reshape(*test.shape[:-2], -1).T"
   ]
  },
  {
   "cell_type": "code",
   "execution_count": 202,
   "id": "ba01c000",
   "metadata": {},
   "outputs": [
    {
     "data": {
      "text/plain": [
       "(315, 4, 2)"
      ]
     },
     "execution_count": 202,
     "metadata": {},
     "output_type": "execute_result"
    }
   ],
   "source": [
    "test.shape"
   ]
  },
  {
   "cell_type": "code",
   "execution_count": 204,
   "id": "1fcaa378",
   "metadata": {},
   "outputs": [
    {
     "data": {
      "text/plain": [
       "array([0, 2, 4, 6])"
      ]
     },
     "execution_count": 204,
     "metadata": {},
     "output_type": "execute_result"
    }
   ],
   "source": [
    "test[0,:,0]"
   ]
  },
  {
   "cell_type": "code",
   "execution_count": null,
   "id": "8fb3feea",
   "metadata": {},
   "outputs": [],
   "source": []
  }
 ],
 "metadata": {
  "interpreter": {
   "hash": "99d8ad6568882febb6ca5d1c2307614594cf6684ed0ce2b9f63bf31341fdb3d5"
  },
  "kernelspec": {
   "display_name": "Python 3.9.0 ('py-env')",
   "language": "python",
   "name": "python3"
  },
  "language_info": {
   "codemirror_mode": {
    "name": "ipython",
    "version": 3
   },
   "file_extension": ".py",
   "mimetype": "text/x-python",
   "name": "python",
   "nbconvert_exporter": "python",
   "pygments_lexer": "ipython3",
   "version": "3.9.15"
  }
 },
 "nbformat": 4,
 "nbformat_minor": 5
}

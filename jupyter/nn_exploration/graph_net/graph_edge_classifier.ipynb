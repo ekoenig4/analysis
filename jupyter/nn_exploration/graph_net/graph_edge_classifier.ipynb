{
 "cells": [
  {
   "cell_type": "code",
   "execution_count": 1,
   "id": "ef215b25",
   "metadata": {},
   "outputs": [],
   "source": [
    "%load_ext autoreload\n",
    "%autoreload 2\n",
    "\n",
    "import os\n",
    "import sys\n",
    "import git\n",
    "\n",
    "import uproot as ut\n",
    "import awkward as ak\n",
    "import numpy as np\n",
    "import math\n",
    "import vector\n",
    "import sympy as sp\n",
    "\n",
    "import re\n",
    "from tqdm import tqdm\n",
    "import timeit\n",
    "\n",
    "sys.path.append( git.Repo('.', search_parent_directories=True).working_tree_dir )\n",
    "from utils import *\n",
    "\n",
    "import utils.modelUtils.gnn as gnn"
   ]
  },
  {
   "cell_type": "code",
   "execution_count": 2,
   "id": "ba7f4ea6",
   "metadata": {},
   "outputs": [],
   "source": [
    "tree = Tree(fc.passthrough.NMSSM_MX_600_MY_400)"
   ]
  },
  {
   "cell_type": "code",
   "execution_count": 3,
   "id": "c8cf317c",
   "metadata": {},
   "outputs": [],
   "source": [
    "graphs = gnn.Dataset('.',tree)"
   ]
  },
  {
   "cell_type": "code",
   "execution_count": 4,
   "id": "1d33e77d",
   "metadata": {},
   "outputs": [
    {
     "data": {
      "text/plain": [
       "45168"
      ]
     },
     "execution_count": 4,
     "metadata": {},
     "output_type": "execute_result"
    }
   ],
   "source": [
    "ngraphs = len(graphs)\n",
    "ngraphs"
   ]
  },
  {
   "cell_type": "code",
   "execution_count": 5,
   "id": "745e2f24",
   "metadata": {},
   "outputs": [
    {
     "data": {
      "text/plain": [
       "(<Figure size 432x288 with 1 Axes>, <AxesSubplot:ylabel='Events'>)"
      ]
     },
     "execution_count": 5,
     "metadata": {},
     "output_type": "execute_result"
    },
    {
     "data": {
      "image/png": "[encoded data removed]",
      "text/plain": [
       "<Figure size 432x288 with 1 Axes>"
      ]
     },
     "metadata": {
      "needs_background": "light"
     },
     "output_type": "display_data"
    }
   ],
   "source": [
    "labels = ak.Array([g.edge_y.tolist() for g in graphs])\n",
    "\n",
    "nsig = ak.sum(labels==1,axis=-1)\n",
    "nbkg = ak.sum(labels==0,axis=-1)\n",
    "\n",
    "msig = ak.mean(nsig)\n",
    "mbkg = ak.mean(nbkg)\n",
    "\n",
    "hist_multi([nsig,nbkg],labels=[f\"N Signal: {msig:.2}\",f\"N Extra: {mbkg:.2}\"],bins=range(0,100))"
   ]
  },
  {
   "cell_type": "code",
   "execution_count": 6,
   "id": "97e3c2a1",
   "metadata": {},
   "outputs": [
    {
     "data": {
      "text/plain": [
       "array([0.07998312, 1.        ])"
      ]
     },
     "execution_count": 6,
     "metadata": {},
     "output_type": "execute_result"
    }
   ],
   "source": [
    "class_weights = msig/np.array([mbkg,msig])\n",
    "class_weights"
   ]
  },
  {
   "cell_type": "code",
   "execution_count": 7,
   "id": "4c29ae97",
   "metadata": {},
   "outputs": [
    {
     "data": {
      "text/plain": [
       "Data(x=[7, 5], edge_index=[2, 49], y=[7], pos_edge_index=[2, 6], edge_x=[49, 1], edge_y=[49])"
      ]
     },
     "execution_count": 7,
     "metadata": {},
     "output_type": "execute_result"
    }
   ],
   "source": [
    "graphs[0]"
   ]
  },
  {
   "cell_type": "code",
   "execution_count": 8,
   "id": "52c6c0a3",
   "metadata": {},
   "outputs": [],
   "source": [
    "from torch_geometric.loader import DataLoader\n",
    "from torch.utils.data import random_split\n",
    "\n",
    "def train_test_split(dataset,test_split):\n",
    "    size = len(dataset)\n",
    "    train_size = int(size*(1-test_split))\n",
    "    test_size = size - train_size\n",
    "    return random_split(dataset,[train_size,test_size])\n",
    "\n",
    "training,testing = train_test_split(graphs, 0.25)\n",
    "training,validation = train_test_split(training,0.2)\n",
    "\n",
    "trainloader = DataLoader(training,batch_size=50,shuffle=True,num_workers=4)\n",
    "testloader = DataLoader(testing,batch_size=50,num_workers=4)\n",
    "validloader = DataLoader(validation,batch_size=50,num_workers=4)"
   ]
  },
  {
   "cell_type": "code",
   "execution_count": 9,
   "id": "a153e5a3",
   "metadata": {},
   "outputs": [],
   "source": [
    "from torch_geometric.typing import PairTensor, Adj\n",
    "from typing import Union, Callable\n",
    "import torch_geometric\n",
    "from torch import Tensor\n",
    "import awkward as ak\n",
    "import torch\n",
    "from torch_geometric.nn.inits import reset\n",
    "\n",
    "class EdgeConv(torch_geometric.nn.MessagePassing):\n",
    "    def __init__(self, nn1: Callable, nn2: Callable, aggr: str = 'max', **kwargs):\n",
    "        super(EdgeConv,self).__init__(aggr,**kwargs)\n",
    "        self.nn1, self.nn2 = nn1, nn2\n",
    "        self.E: Tensor = Tensor()\n",
    "        self.reset_parameters()\n",
    "    def reset_parameters(self):\n",
    "        reset(self.nn1)\n",
    "        reset(self.nn2)\n",
    "\n",
    "    def forward(self, x: Union[Tensor, PairTensor], edge_index: Adj, edge_x: Tensor) -> Tensor:\n",
    "        if isinstance(x, Tensor):\n",
    "            x: PairTensor = (x, x)\n",
    "        # propagate_type: (x: PairTensor)\n",
    "        x_tilde = self.propagate(edge_index, x=x, edge_x=edge_x)     \n",
    "        m2 = torch.cat([x_tilde[edge_index[1]],x_tilde[edge_index[0]],self.E],dim=1)\n",
    "        return self.nn2(m2)\n",
    "\n",
    "    def message(self, x_i: Tensor, x_j: Tensor, edge_x: Tensor) -> Tensor:\n",
    "        m1 = torch.cat([x_i, x_j - x_i, edge_x], dim=-1)\n",
    "        self.E = self.nn1(m1)\n",
    "        return self.E"
   ]
  },
  {
   "cell_type": "code",
   "execution_count": 10,
   "id": "a1488ee3",
   "metadata": {},
   "outputs": [],
   "source": [
    "import torch\n",
    "import torch.nn.functional as F\n",
    "import pytorch_lightning as pl\n",
    "from torchmetrics.functional import accuracy\n",
    "from torch_geometric.nn import Linear\n",
    "\n",
    "\n",
    "class GCN(pl.LightningModule):\n",
    "    def __init__(self, node_features, edge_features, nclasses):\n",
    "        super().__init__()\n",
    "\n",
    "        nn1 = torch.nn.Sequential(\n",
    "            Linear(2*node_features+edge_features,16),\n",
    "            torch.nn.ReLU(), \n",
    "            Linear(16,32)\n",
    "        )\n",
    "\n",
    "        nn2 = torch.nn.Sequential(\n",
    "            Linear(3*32,128),\n",
    "            torch.nn.ReLU(), \n",
    "            Linear(128,nclasses)\n",
    "        )\n",
    "\n",
    "        self.conv1 = EdgeConv(nn1,nn2,aggr='max')\n",
    "        self.class_weights = Tensor(class_weights)\n",
    "\n",
    "    def forward(self, data):\n",
    "        x, edge_index, edge_x = data.x, data.edge_index, data.edge_attr\n",
    "        x = self.conv1(x,edge_index,edge_x)\n",
    "\n",
    "        return F.log_softmax(x, dim=1)\n",
    "    def shared_step(self, batch, batch_idx, tag=None):\n",
    "        o = self(batch)\n",
    "        loss = F.nll_loss(o, batch.edge_y.long(),self.class_weights)\n",
    "        acc = accuracy(o.argmax(dim=1), batch.edge_y.long())\n",
    "\n",
    "        metrics = dict(loss=loss, acc=acc)\n",
    "        if tag is not None:\n",
    "            metrics = {f'{tag}_{key}': value for key, value in metrics.items()}\n",
    "\n",
    "        self.log_dict(metrics)\n",
    "        return metrics\n",
    "\n",
    "    def training_step(self, batch, batch_idx):\n",
    "        return self.shared_step(batch, batch_idx)\n",
    "\n",
    "    def validation_step(self, batch, batch_idx):\n",
    "        return self.shared_step(batch, batch_idx, tag='val')\n",
    "\n",
    "    def test_step(self, batch, batch_idx):\n",
    "        return self.shared_step(batch, batch_idx, tag='test')\n",
    "\n",
    "    def configure_optimizers(self):\n",
    "        optimizer = torch.optim.Adam(self.parameters(), lr=1e-3)\n",
    "        return optimizer\n"
   ]
  },
  {
   "cell_type": "code",
   "execution_count": 11,
   "id": "49a582f1",
   "metadata": {},
   "outputs": [],
   "source": [
    "model = GCN(5,1,2)"
   ]
  },
  {
   "cell_type": "code",
   "execution_count": 12,
   "id": "cded321f",
   "metadata": {},
   "outputs": [
    {
     "name": "stderr",
     "output_type": "stream",
     "text": [
      "GPU available: False, used: False\n",
      "TPU available: False, using: 0 TPU cores\n",
      "IPU available: False, using: 0 IPUs\n",
      "\n",
      "  | Name  | Type     | Params\n",
      "-----------------------------------\n",
      "0 | conv1 | EdgeConv | 13.4 K\n",
      "-----------------------------------\n",
      "13.4 K    Trainable params\n",
      "0         Non-trainable params\n",
      "13.4 K    Total params\n",
      "0.054     Total estimated model params size (MB)\n"
     ]
    },
    {
     "data": {
      "application/vnd.jupyter.widget-view+json": {
       "model_id": "4ab86a2e065e4053aabac3794a3e2d1e",
       "version_major": 2,
       "version_minor": 0
      },
      "text/plain": [
       "Validation sanity check: 0it [00:00, ?it/s]"
      ]
     },
     "metadata": {},
     "output_type": "display_data"
    },
    {
     "name": "stderr",
     "output_type": "stream",
     "text": [
      "/uscms/home/ekoenig/nobackup/anaconda3/lib/python3.8/site-packages/pytorch_lightning/utilities/data.py:59: UserWarning: Trying to infer the `batch_size` from an ambiguous collection. The batch size we found is 1. To avoid any miscalculations, use `self.log(..., batch_size=batch_size)`.\n",
      "  warning_cache.warn(\n"
     ]
    },
    {
     "data": {
      "application/vnd.jupyter.widget-view+json": {
       "model_id": "4739e3282aed4a76ac5286f41005684e",
       "version_major": 2,
       "version_minor": 0
      },
      "text/plain": [
       "Training: 0it [00:00, ?it/s]"
      ]
     },
     "metadata": {},
     "output_type": "display_data"
    },
    {
     "data": {
      "application/vnd.jupyter.widget-view+json": {
       "model_id": "74b8d841b6ac4874a787fade10225852",
       "version_major": 2,
       "version_minor": 0
      },
      "text/plain": [
       "Validating: 0it [00:00, ?it/s]"
      ]
     },
     "metadata": {},
     "output_type": "display_data"
    },
    {
     "data": {
      "application/vnd.jupyter.widget-view+json": {
       "model_id": "78cf5f22953645049dbd37a2bf801ac7",
       "version_major": 2,
       "version_minor": 0
      },
      "text/plain": [
       "Validating: 0it [00:00, ?it/s]"
      ]
     },
     "metadata": {},
     "output_type": "display_data"
    },
    {
     "data": {
      "application/vnd.jupyter.widget-view+json": {
       "model_id": "a0aab3dc0ca441f992f61195e55f73a7",
       "version_major": 2,
       "version_minor": 0
      },
      "text/plain": [
       "Validating: 0it [00:00, ?it/s]"
      ]
     },
     "metadata": {},
     "output_type": "display_data"
    },
    {
     "data": {
      "application/vnd.jupyter.widget-view+json": {
       "model_id": "d057250b5c7c401baf2cce6a7f1aab19",
       "version_major": 2,
       "version_minor": 0
      },
      "text/plain": [
       "Validating: 0it [00:00, ?it/s]"
      ]
     },
     "metadata": {},
     "output_type": "display_data"
    },
    {
     "data": {
      "application/vnd.jupyter.widget-view+json": {
       "model_id": "2788bf93fc6d4fc7ac5ea3d360754dda",
       "version_major": 2,
       "version_minor": 0
      },
      "text/plain": [
       "Validating: 0it [00:00, ?it/s]"
      ]
     },
     "metadata": {},
     "output_type": "display_data"
    }
   ],
   "source": [
    "from pytorch_lightning.callbacks.early_stopping import EarlyStopping\n",
    "\n",
    "trainer = pl.Trainer(max_epochs=5,callbacks=[EarlyStopping(monitor='val_loss')])\n",
    "trainer.fit(model,trainloader,validloader)"
   ]
  },
  {
   "cell_type": "code",
   "execution_count": 13,
   "id": "73edaf20",
   "metadata": {},
   "outputs": [
    {
     "data": {
      "application/vnd.jupyter.widget-view+json": {
       "model_id": "e628fb8f77b640beb62b6566691157f8",
       "version_major": 2,
       "version_minor": 0
      },
      "text/plain": [
       "Testing: 0it [00:00, ?it/s]"
      ]
     },
     "metadata": {},
     "output_type": "display_data"
    },
    {
     "name": "stdout",
     "output_type": "stream",
     "text": [
      "--------------------------------------------------------------------------------\n",
      "DATALOADER:0 TEST RESULTS\n",
      "{'test_acc': 0.7724160552024841, 'test_loss': 0.40235599875450134}\n",
      "--------------------------------------------------------------------------------\n"
     ]
    },
    {
     "data": {
      "text/plain": [
       "[{'test_loss': 0.40235599875450134, 'test_acc': 0.7724160552024841}]"
      ]
     },
     "execution_count": 13,
     "metadata": {},
     "output_type": "execute_result"
    }
   ],
   "source": [
    "trainer.test(model,validloader)"
   ]
  },
  {
   "cell_type": "code",
   "execution_count": 14,
   "id": "d0d213c6",
   "metadata": {},
   "outputs": [
    {
     "data": {
      "application/vnd.jupyter.widget-view+json": {
       "model_id": "cd19b097da79454fb33a460b76fe7454",
       "version_major": 2,
       "version_minor": 0
      },
      "text/plain": [
       "Testing: 0it [00:00, ?it/s]"
      ]
     },
     "metadata": {},
     "output_type": "display_data"
    },
    {
     "name": "stdout",
     "output_type": "stream",
     "text": [
      "--------------------------------------------------------------------------------\n",
      "DATALOADER:0 TEST RESULTS\n",
      "{'test_acc': 0.7717999219894409, 'test_loss': 0.39934977889060974}\n",
      "--------------------------------------------------------------------------------\n"
     ]
    },
    {
     "data": {
      "text/plain": [
       "[{'test_loss': 0.39934977889060974, 'test_acc': 0.7717999219894409}]"
      ]
     },
     "execution_count": 14,
     "metadata": {},
     "output_type": "execute_result"
    }
   ],
   "source": [
    "trainer.test(model,testloader)"
   ]
  },
  {
   "cell_type": "code",
   "execution_count": 15,
   "id": "e042ec67",
   "metadata": {},
   "outputs": [],
   "source": [
    "import sklearn.metrics as metrics\n",
    "\n",
    "y_true,y_pred = [],[]\n",
    "for test in testloader: \n",
    "    y_true = np.concatenate([y_true,test.edge_y.long()])\n",
    "    y_pred = np.concatenate([y_pred,model(test)[:,1].detach()])"
   ]
  },
  {
   "cell_type": "code",
   "execution_count": 16,
   "id": "92020c3d",
   "metadata": {},
   "outputs": [
    {
     "data": {
      "image/png": "[encoded data removed]",
      "text/plain": [
       "<Figure size 432x288 with 1 Axes>"
      ]
     },
     "metadata": {
      "needs_background": "light"
     },
     "output_type": "display_data"
    }
   ],
   "source": [
    "fpr,tpr,thresholds = metrics.roc_curve(y_true,y_pred)\n",
    "auc = metrics.auc(fpr,tpr)\n",
    "\n",
    "graph_simple(fpr,tpr,xlabel=\"False Positive\",ylabel=\"True Positive\",title=f\"AUC: {auc:.2}\",marker=None);"
   ]
  },
  {
   "cell_type": "code",
   "execution_count": null,
   "id": "dcd70b17",
   "metadata": {},
   "outputs": [],
   "source": []
  }
 ],
 "metadata": {
  "interpreter": {
   "hash": "0dc50badf6bcf34ee37feb4ddab24eb1b71716d96fc6cae89d10c22f5e3462c0"
  },
  "kernelspec": {
   "display_name": "Python 3.8.10 64-bit ('base': conda)",
   "name": "python3"
  },
  "language_info": {
   "codemirror_mode": {
    "name": "ipython",
    "version": 3
   },
   "file_extension": ".py",
   "mimetype": "text/x-python",
   "name": "python",
   "nbconvert_exporter": "python",
   "pygments_lexer": "ipython3",
   "version": "3.8.10"
  }
 },
 "nbformat": 4,
 "nbformat_minor": 5
}

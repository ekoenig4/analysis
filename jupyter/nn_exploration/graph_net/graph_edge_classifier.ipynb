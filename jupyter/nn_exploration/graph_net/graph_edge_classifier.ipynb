{
 "cells": [
  {
   "cell_type": "code",
   "execution_count": 66,
   "id": "ef215b25",
   "metadata": {},
   "outputs": [
    {
     "name": "stdout",
     "output_type": "stream",
     "text": [
      "The autoreload extension is already loaded. To reload it, use:\n",
      "  %reload_ext autoreload\n"
     ]
    }
   ],
   "source": [
    "%load_ext autoreload\n",
    "%autoreload 2\n",
    "\n",
    "import os\n",
    "import sys\n",
    "import git\n",
    "\n",
    "import uproot as ut\n",
    "import awkward as ak\n",
    "import numpy as np\n",
    "import math\n",
    "import vector\n",
    "import sympy as sp\n",
    "\n",
    "import re\n",
    "from tqdm import tqdm\n",
    "import timeit\n",
    "\n",
    "sys.path.append( git.Repo('.', search_parent_directories=True).working_tree_dir )\n",
    "from utils import *\n",
    "\n",
    "import utils.modelUtils.gnn as gnn"
   ]
  },
  {
   "cell_type": "code",
   "execution_count": 67,
   "id": "ba7f4ea6",
   "metadata": {},
   "outputs": [],
   "source": [
    "tree = Tree(fc.passthrough.NMSSM_MX_600_MY_400)"
   ]
  },
  {
   "cell_type": "code",
   "execution_count": 68,
   "id": "c8cf317c",
   "metadata": {},
   "outputs": [
    {
     "data": {
      "text/plain": [
       "45168"
      ]
     },
     "execution_count": 68,
     "metadata": {},
     "output_type": "execute_result"
    }
   ],
   "source": [
    "dataset = gnn.Dataset('.',tree)\n",
    "len(dataset)"
   ]
  },
  {
   "cell_type": "code",
   "execution_count": 69,
   "id": "52c6c0a3",
   "metadata": {},
   "outputs": [],
   "source": [
    "from torch_geometric.loader import DataLoader\n",
    "from torch.utils.data import random_split\n",
    "import torch\n",
    "\n",
    "\n",
    "def train_test_split(dataset,test_split):\n",
    "    size = len(dataset)\n",
    "    train_size = int(size*(1-test_split))\n",
    "    test_size = size - train_size\n",
    "    return random_split(dataset,[train_size,test_size])\n",
    "\n",
    "training,testing = train_test_split(dataset, 0.25)\n",
    "training,validation = train_test_split(training,0.2)\n",
    "\n",
    "trainloader = DataLoader(training,batch_size=50,shuffle=True,num_workers=4)\n",
    "testloader = DataLoader(testing,batch_size=50,num_workers=4)\n",
    "validloader = DataLoader(validation,batch_size=50,num_workers=4)"
   ]
  },
  {
   "cell_type": "code",
   "execution_count": 70,
   "id": "7242cd61",
   "metadata": {},
   "outputs": [
    {
     "name": "stdout",
     "output_type": "stream",
     "text": [
      "GPU Available: True\n"
     ]
    }
   ],
   "source": [
    "useGPU = True \n",
    "useGPU = useGPU and torch.cuda.is_available()\n",
    "print(\"GPU Available:\",useGPU)"
   ]
  },
  {
   "cell_type": "code",
   "execution_count": 71,
   "id": "a1488ee3",
   "metadata": {},
   "outputs": [],
   "source": [
    "import torch.nn.functional as F\n",
    "import pytorch_lightning as pl\n",
    "from torchmetrics.functional import accuracy\n",
    "from torch_geometric.nn import Linear\n",
    "\n",
    "\n",
    "class GCN(pl.LightningModule):\n",
    "    def __init__(self, dataset):\n",
    "        super().__init__()\n",
    "        self.class_weights = gnn.to_tensor(dataset.edge_class_weights,useGPU)\n",
    "\n",
    "        nn1 = torch.nn.Sequential(\n",
    "            Linear(2*dataset.num_node_features+dataset.num_edge_features, 16),\n",
    "            torch.nn.ELU(),\n",
    "            Linear(16, 32),\n",
    "            torch.nn.ELU(),\n",
    "            Linear(32, 64),\n",
    "            torch.nn.ELU()\n",
    "        )\n",
    "\n",
    "        self.conv1 = gnn.EdgeConv(nn1, edge_aggr=None, return_with_edges=True)\n",
    "\n",
    "        nn2 = torch.nn.Sequential(\n",
    "            Linear(5*64, 128),\n",
    "            torch.nn.ELU(),\n",
    "            Linear(128, 256),\n",
    "            torch.nn.ELU(),\n",
    "        )\n",
    "\n",
    "        self.conv2 = gnn.EdgeConv(nn2, edge_aggr=None, return_only_edges=True)\n",
    "\n",
    "        self.seq1 = torch.nn.Sequential(\n",
    "            Linear(3*256, dataset.num_classes),\n",
    "        )\n",
    "\n",
    "    def forward(self, data):\n",
    "        x, edge_index, edge_x = data.x, data.edge_index, data.edge_attr\n",
    "        x,edge_x = self.conv1(x, edge_index, edge_x)\n",
    "        x = self.conv2(x,edge_index,edge_x)\n",
    "        x = self.seq1(x)\n",
    "\n",
    "        return F.log_softmax(x, dim=1)\n",
    "\n",
    "    def shared_step(self, batch, batch_idx, tag=None):\n",
    "        o, y = self(batch), batch.edge_y.to(\n",
    "            'cuda:0') if useGPU else batch.edge_y\n",
    "        loss = F.nll_loss(o, y, self.class_weights)\n",
    "        acc = accuracy(o.argmax(dim=1), y)\n",
    "\n",
    "        metrics = dict(loss=loss, acc=acc)\n",
    "        if tag is not None:\n",
    "            metrics = {f'{tag}_{key}': value for key, value in metrics.items()}\n",
    "\n",
    "        self.log_dict(metrics)\n",
    "        return metrics\n",
    "\n",
    "    def training_step(self, batch, batch_idx):\n",
    "        return self.shared_step(batch, batch_idx)\n",
    "\n",
    "    def validation_step(self, batch, batch_idx):\n",
    "        return self.shared_step(batch, batch_idx, tag='val')\n",
    "\n",
    "    def test_step(self, batch, batch_idx):\n",
    "        return self.shared_step(batch, batch_idx, tag='test')\n",
    "\n",
    "    def configure_optimizers(self):\n",
    "        optimizer = torch.optim.Adam(self.parameters(), lr=1e-3)\n",
    "        return optimizer\n"
   ]
  },
  {
   "cell_type": "code",
   "execution_count": 72,
   "id": "49a582f1",
   "metadata": {},
   "outputs": [],
   "source": [
    "model = GCN(dataset)"
   ]
  },
  {
   "cell_type": "code",
   "execution_count": 73,
   "id": "cded321f",
   "metadata": {},
   "outputs": [
    {
     "name": "stderr",
     "output_type": "stream",
     "text": [
      "GPU available: True, used: True\n",
      "TPU available: False, using: 0 TPU cores\n",
      "IPU available: False, using: 0 IPUs\n",
      "LOCAL_RANK: 0 - CUDA_VISIBLE_DEVICES: [0]\n",
      "\n",
      "  | Name  | Type       | Params\n",
      "-------------------------------------\n",
      "0 | conv1 | EdgeConv   | 3.0 K \n",
      "1 | conv2 | EdgeConv   | 74.1 K\n",
      "2 | seq1  | Sequential | 1.5 K \n",
      "-------------------------------------\n",
      "78.6 K    Trainable params\n",
      "0         Non-trainable params\n",
      "78.6 K    Total params\n",
      "0.314     Total estimated model params size (MB)\n"
     ]
    },
    {
     "data": {
      "application/vnd.jupyter.widget-view+json": {
       "model_id": "78329b3e48f54efd872d1002ede588b7",
       "version_major": 2,
       "version_minor": 0
      },
      "text/plain": [
       "Validation sanity check: 0it [00:00, ?it/s]"
      ]
     },
     "metadata": {},
     "output_type": "display_data"
    },
    {
     "data": {
      "application/vnd.jupyter.widget-view+json": {
       "model_id": "1883cb39f0a14f57a9b13c78d2f3b7ab",
       "version_major": 2,
       "version_minor": 0
      },
      "text/plain": [
       "Training: 0it [00:00, ?it/s]"
      ]
     },
     "metadata": {},
     "output_type": "display_data"
    },
    {
     "data": {
      "application/vnd.jupyter.widget-view+json": {
       "model_id": "05f9f9d921b64149821165e852d051db",
       "version_major": 2,
       "version_minor": 0
      },
      "text/plain": [
       "Validating: 0it [00:00, ?it/s]"
      ]
     },
     "metadata": {},
     "output_type": "display_data"
    },
    {
     "data": {
      "application/vnd.jupyter.widget-view+json": {
       "model_id": "a7de544f12394fb5ad33ea03a4873498",
       "version_major": 2,
       "version_minor": 0
      },
      "text/plain": [
       "Validating: 0it [00:00, ?it/s]"
      ]
     },
     "metadata": {},
     "output_type": "display_data"
    },
    {
     "data": {
      "application/vnd.jupyter.widget-view+json": {
       "model_id": "ca89fe17295749fbb0919687e7efd3e3",
       "version_major": 2,
       "version_minor": 0
      },
      "text/plain": [
       "Validating: 0it [00:00, ?it/s]"
      ]
     },
     "metadata": {},
     "output_type": "display_data"
    },
    {
     "data": {
      "application/vnd.jupyter.widget-view+json": {
       "model_id": "585e79085fd44d79815c8f98b7009538",
       "version_major": 2,
       "version_minor": 0
      },
      "text/plain": [
       "Validating: 0it [00:00, ?it/s]"
      ]
     },
     "metadata": {},
     "output_type": "display_data"
    },
    {
     "data": {
      "application/vnd.jupyter.widget-view+json": {
       "model_id": "d08a3848364a4fb2a0189e6cf941ff72",
       "version_major": 2,
       "version_minor": 0
      },
      "text/plain": [
       "Validating: 0it [00:00, ?it/s]"
      ]
     },
     "metadata": {},
     "output_type": "display_data"
    }
   ],
   "source": [
    "from pytorch_lightning.callbacks.early_stopping import EarlyStopping\n",
    "\n",
    "trainer = pl.Trainer(max_epochs=5,callbacks=[EarlyStopping(monitor='val_loss')],gpus=1,default_root_dir='models/edge_classifier')\n",
    "trainer.fit(model,trainloader,validloader)"
   ]
  },
  {
   "cell_type": "code",
   "execution_count": 74,
   "id": "73edaf20",
   "metadata": {},
   "outputs": [
    {
     "name": "stderr",
     "output_type": "stream",
     "text": [
      "LOCAL_RANK: 0 - CUDA_VISIBLE_DEVICES: [0]\n"
     ]
    },
    {
     "data": {
      "application/vnd.jupyter.widget-view+json": {
       "model_id": "5c5cb12f5c74454c869630b15ca0dcce",
       "version_major": 2,
       "version_minor": 0
      },
      "text/plain": [
       "Testing: 0it [00:00, ?it/s]"
      ]
     },
     "metadata": {},
     "output_type": "display_data"
    },
    {
     "name": "stdout",
     "output_type": "stream",
     "text": [
      "--------------------------------------------------------------------------------\n",
      "DATALOADER:0 TEST RESULTS\n",
      "{'test_acc': 0.8103654384613037, 'test_loss': 0.3762458562850952}\n",
      "--------------------------------------------------------------------------------\n"
     ]
    },
    {
     "data": {
      "text/plain": [
       "[{'test_loss': 0.3762458562850952, 'test_acc': 0.8103654384613037}]"
      ]
     },
     "execution_count": 74,
     "metadata": {},
     "output_type": "execute_result"
    }
   ],
   "source": [
    "trainer.test(model,validloader)"
   ]
  },
  {
   "cell_type": "code",
   "execution_count": 75,
   "id": "d0d213c6",
   "metadata": {},
   "outputs": [
    {
     "name": "stderr",
     "output_type": "stream",
     "text": [
      "LOCAL_RANK: 0 - CUDA_VISIBLE_DEVICES: [0]\n"
     ]
    },
    {
     "data": {
      "application/vnd.jupyter.widget-view+json": {
       "model_id": "447823dafc914bd2b22e274739f22434",
       "version_major": 2,
       "version_minor": 0
      },
      "text/plain": [
       "Testing: 0it [00:00, ?it/s]"
      ]
     },
     "metadata": {},
     "output_type": "display_data"
    },
    {
     "name": "stdout",
     "output_type": "stream",
     "text": [
      "--------------------------------------------------------------------------------\n",
      "DATALOADER:0 TEST RESULTS\n",
      "{'test_acc': 0.8097527623176575, 'test_loss': 0.3783022463321686}\n",
      "--------------------------------------------------------------------------------\n"
     ]
    },
    {
     "data": {
      "text/plain": [
       "[{'test_loss': 0.3783022463321686, 'test_acc': 0.8097527623176575}]"
      ]
     },
     "execution_count": 75,
     "metadata": {},
     "output_type": "execute_result"
    }
   ],
   "source": [
    "trainer.test(model,testloader)"
   ]
  },
  {
   "cell_type": "code",
   "execution_count": 76,
   "id": "e042ec67",
   "metadata": {},
   "outputs": [],
   "source": [
    "import sklearn.metrics as metrics\n",
    "\n",
    "y_true,y_pred = [],[]\n",
    "for test in testloader: \n",
    "    y_true = np.concatenate([y_true,test.edge_y])\n",
    "    y_pred = np.concatenate([y_pred,model(test)[:,1].detach()])"
   ]
  },
  {
   "cell_type": "code",
   "execution_count": 77,
   "id": "92020c3d",
   "metadata": {},
   "outputs": [
    {
     "data": {
      "image/png": "[encoded data removed]",
      "text/plain": [
       "<Figure size 432x288 with 1 Axes>"
      ]
     },
     "metadata": {
      "needs_background": "light"
     },
     "output_type": "display_data"
    }
   ],
   "source": [
    "fpr,tpr,thresholds = metrics.roc_curve(y_true,y_pred)\n",
    "auc = metrics.auc(fpr,tpr)\n",
    "\n",
    "graph_simple(fpr,tpr,xlabel=\"False Positive\",ylabel=\"True Positive\",title=f\"AUC: {auc:.3}\",marker=None);"
   ]
  },
  {
   "cell_type": "code",
   "execution_count": 1,
   "id": "42fefc76",
   "metadata": {},
   "outputs": [
    {
     "ename": "NameError",
     "evalue": "name 'gnn' is not defined",
     "output_type": "error",
     "traceback": [
      "\u001b[0;31m---------------------------------------------------------------------------\u001b[0m",
      "\u001b[0;31mNameError\u001b[0m                                 Traceback (most recent call last)",
      "\u001b[0;32m<ipython-input-1-66fae67ded67>\u001b[0m in \u001b[0;36m<module>\u001b[0;34m\u001b[0m\n\u001b[0;32m----> 1\u001b[0;31m \u001b[0mgnn\u001b[0m\u001b[0;34m.\u001b[0m\u001b[0mgraph_pred\u001b[0m\u001b[0;34m(\u001b[0m\u001b[0mmodel\u001b[0m\u001b[0;34m,\u001b[0m\u001b[0mdataset\u001b[0m\u001b[0;34m[\u001b[0m\u001b[0;36m0\u001b[0m\u001b[0;34m]\u001b[0m\u001b[0;34m)\u001b[0m\u001b[0;34m\u001b[0m\u001b[0;34m\u001b[0m\u001b[0m\n\u001b[0m",
      "\u001b[0;31mNameError\u001b[0m: name 'gnn' is not defined"
     ]
    }
   ],
   "source": [
    "gnn.graph_pred(model,dataset[0])"
   ]
  },
  {
   "cell_type": "code",
   "execution_count": null,
   "id": "5e2266c4",
   "metadata": {},
   "outputs": [],
   "source": []
  }
 ],
 "metadata": {
  "interpreter": {
   "hash": "0dc50badf6bcf34ee37feb4ddab24eb1b71716d96fc6cae89d10c22f5e3462c0"
  },
  "kernelspec": {
   "display_name": "Python 3.8.10 64-bit ('base': conda)",
   "name": "python3"
  },
  "language_info": {
   "codemirror_mode": {
    "name": "ipython",
    "version": 3
   },
   "file_extension": ".py",
   "mimetype": "text/x-python",
   "name": "python",
   "nbconvert_exporter": "python",
   "pygments_lexer": "ipython3",
   "version": "3.8.12"
  }
 },
 "nbformat": 4,
 "nbformat_minor": 5
}

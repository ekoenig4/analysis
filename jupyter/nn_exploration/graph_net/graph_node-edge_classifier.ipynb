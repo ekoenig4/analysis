{
 "cells": [
  {
   "cell_type": "code",
   "execution_count": 1,
   "id": "ef215b25",
   "metadata": {},
   "outputs": [],
   "source": [
    "%load_ext autoreload\n",
    "%autoreload 2\n",
    "\n",
    "import os\n",
    "import sys\n",
    "import git\n",
    "\n",
    "import uproot as ut\n",
    "import awkward as ak\n",
    "import numpy as np\n",
    "import math\n",
    "import vector\n",
    "import sympy as sp\n",
    "\n",
    "import re\n",
    "from tqdm import tqdm\n",
    "import timeit\n",
    "\n",
    "sys.path.append( git.Repo('.', search_parent_directories=True).working_tree_dir )\n",
    "from utils import *\n",
    "\n",
    "import utils.modelUtils.gnn as gnn"
   ]
  },
  {
   "cell_type": "code",
   "execution_count": 2,
   "id": "c8cf317c",
   "metadata": {},
   "outputs": [
    {
     "data": {
      "text/plain": [
       "45168"
      ]
     },
     "execution_count": 2,
     "metadata": {},
     "output_type": "execute_result"
    }
   ],
   "source": [
    "dataset = gnn.Dataset('.')\n",
    "len(dataset)"
   ]
  },
  {
   "cell_type": "code",
   "execution_count": 3,
   "id": "f259f936",
   "metadata": {},
   "outputs": [],
   "source": [
    "num_nodes = np.array([g.num_nodes for g in dataset])"
   ]
  },
  {
   "cell_type": "code",
   "execution_count": 27,
   "id": "476afc02",
   "metadata": {},
   "outputs": [
    {
     "data": {
      "text/plain": [
       "array([3.2380145, 1.       ])"
      ]
     },
     "execution_count": 27,
     "metadata": {},
     "output_type": "execute_result"
    }
   ],
   "source": [
    "type_weights = np.array([np.sum(num_nodes),np.sum((num_nodes**2-num_nodes)/2)])\n",
    "type_weights = np.max(type_weights)/type_weights\n",
    "type_weights"
   ]
  },
  {
   "cell_type": "code",
   "execution_count": 28,
   "id": "52c6c0a3",
   "metadata": {},
   "outputs": [],
   "source": [
    "import torch\n",
    "from torch_geometric.loader import DataLoader\n",
    "from torch.utils.data import random_split\n",
    "\n",
    "def train_test_split(dataset,test_split):\n",
    "    size = len(dataset)\n",
    "    train_size = int(size*(1-test_split))\n",
    "    test_size = size - train_size\n",
    "    return random_split(dataset,[train_size,test_size])\n",
    "\n",
    "training,testing = train_test_split(dataset, 0.25)\n",
    "training,validation = train_test_split(training,0.2)\n",
    "\n",
    "trainloader = DataLoader(training,batch_size=50,shuffle=True,num_workers=4)\n",
    "testloader = DataLoader(testing,batch_size=50,num_workers=4)\n",
    "validloader = DataLoader(validation,batch_size=50,num_workers=4)"
   ]
  },
  {
   "cell_type": "code",
   "execution_count": 29,
   "id": "7242cd61",
   "metadata": {},
   "outputs": [
    {
     "name": "stdout",
     "output_type": "stream",
     "text": [
      "GPU Available: True\n"
     ]
    }
   ],
   "source": [
    "useGPU = True \n",
    "useGPU = useGPU and torch.cuda.is_available()\n",
    "print(\"GPU Available:\",useGPU)"
   ]
  },
  {
   "cell_type": "code",
   "execution_count": 30,
   "id": "a1488ee3",
   "metadata": {},
   "outputs": [],
   "source": [
    "import torch.nn.functional as F\n",
    "import pytorch_lightning as pl\n",
    "from torchmetrics.functional import accuracy\n",
    "from torch_geometric.nn import Linear\n",
    "\n",
    "\n",
    "class GCN(pl.LightningModule):\n",
    "    def __init__(self, dataset):\n",
    "        super().__init__()\n",
    "        self.node_class_weights = gnn.to_tensor(\n",
    "            dataset.node_class_weights, useGPU)\n",
    "        self.edge_class_weights = gnn.to_tensor(\n",
    "            dataset.edge_class_weights, useGPU)\n",
    "        self.type_weights = gnn.to_tensor(type_weights, useGPU)\n",
    "\n",
    "        nn1 = torch.nn.Sequential(\n",
    "            Linear(2*dataset.num_node_features+dataset.num_edge_features, 16),\n",
    "            torch.nn.ELU(),\n",
    "            Linear(16, 32),\n",
    "            torch.nn.ELU(),\n",
    "            Linear(32, 64),\n",
    "            torch.nn.ELU()\n",
    "        )\n",
    "\n",
    "        self.conv1 = gnn.EdgeConv(nn1, edge_aggr=None, return_with_edges=True)\n",
    "\n",
    "        nn2 = torch.nn.Sequential(\n",
    "            Linear(5*64, 128),\n",
    "            torch.nn.ELU(),\n",
    "            Linear(128, 256),\n",
    "            torch.nn.ELU(),\n",
    "        )\n",
    "\n",
    "        self.conv2 = gnn.EdgeConv(nn2, edge_aggr=None, return_with_edges=True)\n",
    "\n",
    "        self.edge_seq = torch.nn.Sequential(\n",
    "            Linear(3*256, dataset.num_classes),\n",
    "        )\n",
    "\n",
    "        self.node_seq = torch.nn.Sequential(\n",
    "            Linear(256, dataset.num_classes),\n",
    "        )\n",
    "\n",
    "    def forward(self, data):\n",
    "        x, edge_index, edge_x = data.x, data.edge_index, data.edge_attr\n",
    "        x, edge_x = self.conv1(x, edge_index, edge_x)\n",
    "        x, edge_x = self.conv2(x, edge_index, edge_x)\n",
    "        x, edge_x = self.node_seq(x), self.edge_seq(edge_x)\n",
    "\n",
    "        return F.log_softmax(x, dim=1), F.log_softmax(edge_x, dim=1)\n",
    "\n",
    "    def shared_step(self, batch, batch_idx, tag=None):\n",
    "        node_o, edge_o = self(batch)\n",
    "        node_o, edge_o = gnn.to_tensor(\n",
    "            node_o, useGPU), gnn.to_tensor(edge_o, useGPU)\n",
    "        node_y, edge_y = gnn.to_tensor(\n",
    "            batch.y, useGPU), gnn.to_tensor(batch.edge_y, useGPU)\n",
    "\n",
    "        node_loss = F.nll_loss(node_o, node_y, self.node_class_weights)\n",
    "\n",
    "        edge_loss = F.nll_loss(\n",
    "            edge_o, edge_y, self.edge_class_weights)\n",
    "\n",
    "        loss = self.type_weights[0]*node_loss + self.type_weights[1]*edge_loss\n",
    "\n",
    "        metrics = dict(loss=loss)\n",
    "        if tag is not None:\n",
    "            metrics = {f'{tag}_{key}': value for key, value in metrics.items()}\n",
    "\n",
    "        self.log_dict(metrics)\n",
    "        return metrics\n",
    "\n",
    "    def training_step(self, batch, batch_idx):\n",
    "        return self.shared_step(batch, batch_idx)\n",
    "\n",
    "    def validation_step(self, batch, batch_idx):\n",
    "        return self.shared_step(batch, batch_idx, tag='val')\n",
    "\n",
    "    def test_step(self, batch, batch_idx):\n",
    "        return self.shared_step(batch, batch_idx, tag='test')\n",
    "\n",
    "    def configure_optimizers(self):\n",
    "        optimizer = torch.optim.Adam(self.parameters(), lr=1e-3)\n",
    "        return optimizer\n"
   ]
  },
  {
   "cell_type": "code",
   "execution_count": 31,
   "id": "49a582f1",
   "metadata": {},
   "outputs": [],
   "source": [
    "model = GCN(dataset)"
   ]
  },
  {
   "cell_type": "code",
   "execution_count": 34,
   "id": "cded321f",
   "metadata": {},
   "outputs": [
    {
     "name": "stderr",
     "output_type": "stream",
     "text": [
      "GPU available: True, used: True\n",
      "TPU available: False, using: 0 TPU cores\n",
      "IPU available: False, using: 0 IPUs\n",
      "LOCAL_RANK: 0 - CUDA_VISIBLE_DEVICES: [0]\n",
      "\n",
      "  | Name     | Type       | Params\n",
      "----------------------------------------\n",
      "0 | conv1    | EdgeConv   | 3.0 K \n",
      "1 | conv2    | EdgeConv   | 74.1 K\n",
      "2 | edge_seq | Sequential | 1.5 K \n",
      "3 | node_seq | Sequential | 514   \n",
      "----------------------------------------\n",
      "79.1 K    Trainable params\n",
      "0         Non-trainable params\n",
      "79.1 K    Total params\n",
      "0.316     Total estimated model params size (MB)\n"
     ]
    },
    {
     "data": {
      "application/vnd.jupyter.widget-view+json": {
       "model_id": "66fea8497e6e4703be5f140781cb3ebd",
       "version_major": 2,
       "version_minor": 0
      },
      "text/plain": [
       "Validation sanity check: 0it [00:00, ?it/s]"
      ]
     },
     "metadata": {},
     "output_type": "display_data"
    },
    {
     "data": {
      "application/vnd.jupyter.widget-view+json": {
       "model_id": "e6264e91dfc94a7a9092d9d46bbb5da8",
       "version_major": 2,
       "version_minor": 0
      },
      "text/plain": [
       "Training: 0it [00:00, ?it/s]"
      ]
     },
     "metadata": {},
     "output_type": "display_data"
    },
    {
     "data": {
      "application/vnd.jupyter.widget-view+json": {
       "model_id": "b288e00597cd403ca35925121f110ef2",
       "version_major": 2,
       "version_minor": 0
      },
      "text/plain": [
       "Validating: 0it [00:00, ?it/s]"
      ]
     },
     "metadata": {},
     "output_type": "display_data"
    },
    {
     "data": {
      "application/vnd.jupyter.widget-view+json": {
       "model_id": "47e98c3e1c424e77bac880d4eb08d7c2",
       "version_major": 2,
       "version_minor": 0
      },
      "text/plain": [
       "Validating: 0it [00:00, ?it/s]"
      ]
     },
     "metadata": {},
     "output_type": "display_data"
    },
    {
     "data": {
      "application/vnd.jupyter.widget-view+json": {
       "model_id": "e009bb58b8fd4de582f3b3abd9cae7c2",
       "version_major": 2,
       "version_minor": 0
      },
      "text/plain": [
       "Validating: 0it [00:00, ?it/s]"
      ]
     },
     "metadata": {},
     "output_type": "display_data"
    },
    {
     "data": {
      "application/vnd.jupyter.widget-view+json": {
       "model_id": "2f3c84fb53294dbb9491facca1b81e9a",
       "version_major": 2,
       "version_minor": 0
      },
      "text/plain": [
       "Validating: 0it [00:00, ?it/s]"
      ]
     },
     "metadata": {},
     "output_type": "display_data"
    },
    {
     "data": {
      "application/vnd.jupyter.widget-view+json": {
       "model_id": "13c757a6cba74d5ab5ce6b0bd65083a4",
       "version_major": 2,
       "version_minor": 0
      },
      "text/plain": [
       "Validating: 0it [00:00, ?it/s]"
      ]
     },
     "metadata": {},
     "output_type": "display_data"
    }
   ],
   "source": [
    "from pytorch_lightning.callbacks.early_stopping import EarlyStopping\n",
    "\n",
    "trainer = pl.Trainer(max_epochs=5,callbacks=[EarlyStopping(monitor='val_loss')],default_root_dir=\"models/graph_classifier\",gpus=1*useGPU)\n",
    "trainer.fit(model,trainloader,validloader)"
   ]
  },
  {
   "cell_type": "code",
   "execution_count": 35,
   "id": "73edaf20",
   "metadata": {},
   "outputs": [
    {
     "name": "stderr",
     "output_type": "stream",
     "text": [
      "LOCAL_RANK: 0 - CUDA_VISIBLE_DEVICES: [0]\n"
     ]
    },
    {
     "data": {
      "application/vnd.jupyter.widget-view+json": {
       "model_id": "ea126b5e7ea54c459ec83cfd2fc9db04",
       "version_major": 2,
       "version_minor": 0
      },
      "text/plain": [
       "Testing: 0it [00:00, ?it/s]"
      ]
     },
     "metadata": {},
     "output_type": "display_data"
    },
    {
     "name": "stdout",
     "output_type": "stream",
     "text": [
      "--------------------------------------------------------------------------------\n",
      "DATALOADER:0 TEST RESULTS\n",
      "{'test_loss': 1.3543014526367188}\n",
      "--------------------------------------------------------------------------------\n"
     ]
    },
    {
     "data": {
      "text/plain": [
       "[{'test_loss': 1.3543014526367188}]"
      ]
     },
     "execution_count": 35,
     "metadata": {},
     "output_type": "execute_result"
    }
   ],
   "source": [
    "trainer.test(model,validloader)"
   ]
  },
  {
   "cell_type": "code",
   "execution_count": 36,
   "id": "d0d213c6",
   "metadata": {},
   "outputs": [
    {
     "name": "stderr",
     "output_type": "stream",
     "text": [
      "LOCAL_RANK: 0 - CUDA_VISIBLE_DEVICES: [0]\n"
     ]
    },
    {
     "data": {
      "application/vnd.jupyter.widget-view+json": {
       "model_id": "49a570f9534341ce884334f97a922838",
       "version_major": 2,
       "version_minor": 0
      },
      "text/plain": [
       "Testing: 0it [00:00, ?it/s]"
      ]
     },
     "metadata": {},
     "output_type": "display_data"
    },
    {
     "name": "stdout",
     "output_type": "stream",
     "text": [
      "--------------------------------------------------------------------------------\n",
      "DATALOADER:0 TEST RESULTS\n",
      "{'test_loss': 1.3515008687973022}\n",
      "--------------------------------------------------------------------------------\n"
     ]
    },
    {
     "data": {
      "text/plain": [
       "[{'test_loss': 1.3515008687973022}]"
      ]
     },
     "execution_count": 36,
     "metadata": {},
     "output_type": "execute_result"
    }
   ],
   "source": [
    "trainer.test(model,testloader)"
   ]
  },
  {
   "cell_type": "code",
   "execution_count": 37,
   "id": "e042ec67",
   "metadata": {},
   "outputs": [],
   "source": [
    "import sklearn.metrics as metrics\n",
    "\n",
    "node_y_true,edge_y_true,node_y_pred,edge_y_pred = [],[],[],[]\n",
    "for test in testloader: \n",
    "    nypred,eypred = model(test)\n",
    "\n",
    "    node_y_true = np.concatenate([node_y_true,test.y])\n",
    "    edge_y_true = np.concatenate([edge_y_true,test.edge_y.long()])\n",
    "\n",
    "    node_y_pred = np.concatenate([node_y_pred,nypred[:,1].detach()])\n",
    "    edge_y_pred = np.concatenate([edge_y_pred,eypred[:,1].detach()])"
   ]
  },
  {
   "cell_type": "code",
   "execution_count": 38,
   "id": "92020c3d",
   "metadata": {},
   "outputs": [
    {
     "data": {
      "image/png": "[encoded data removed]",
      "text/plain": [
       "<Figure size 1152x360 with 2 Axes>"
      ]
     },
     "metadata": {
      "needs_background": "light"
     },
     "output_type": "display_data"
    }
   ],
   "source": [
    "fig,axs = plt.subplots(ncols=2,figsize=(16,5))\n",
    "\n",
    "fpr,tpr,thresholds = metrics.roc_curve(node_y_true,node_y_pred)\n",
    "auc = metrics.auc(fpr,tpr)\n",
    "\n",
    "graph_simple(fpr,tpr,xlabel=\"Node False Positive\",ylabel=\"Node True Positive\",title=f\"AUC: {auc:.3}\",marker=None,figax=(fig,axs[0]));\n",
    "\n",
    "fpr,tpr,thresholds = metrics.roc_curve(edge_y_true,edge_y_pred)\n",
    "auc = metrics.auc(fpr,tpr)\n",
    "\n",
    "graph_simple(fpr,tpr,xlabel=\"Edge False Positive\",ylabel=\"Edge True Positive\",title=f\"AUC: {auc:.3}\",marker=None,figax=(fig,axs[1]));"
   ]
  },
  {
   "cell_type": "code",
   "execution_count": 39,
   "id": "e55e72ed",
   "metadata": {},
   "outputs": [
    {
     "data": {
      "image/png": "[encoded data removed]",
      "text/plain": [
       "<Figure size 720x360 with 2 Axes>"
      ]
     },
     "metadata": {},
     "output_type": "display_data"
    }
   ],
   "source": [
    "gnn.graph_pred(model,dataset[0])"
   ]
  },
  {
   "cell_type": "code",
   "execution_count": null,
   "id": "d81b18da",
   "metadata": {},
   "outputs": [],
   "source": []
  }
 ],
 "metadata": {
  "interpreter": {
   "hash": "0dc50badf6bcf34ee37feb4ddab24eb1b71716d96fc6cae89d10c22f5e3462c0"
  },
  "kernelspec": {
   "display_name": "Python 3.8.10 64-bit ('base': conda)",
   "name": "python3"
  },
  "language_info": {
   "codemirror_mode": {
    "name": "ipython",
    "version": 3
   },
   "file_extension": ".py",
   "mimetype": "text/x-python",
   "name": "python",
   "nbconvert_exporter": "python",
   "pygments_lexer": "ipython3",
   "version": "3.8.12"
  }
 },
 "nbformat": 4,
 "nbformat_minor": 5
}

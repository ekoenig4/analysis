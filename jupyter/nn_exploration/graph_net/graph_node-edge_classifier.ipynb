{
 "cells": [
  {
   "cell_type": "code",
   "execution_count": 1,
   "id": "ef215b25",
   "metadata": {},
   "outputs": [],
   "source": [
    "%load_ext autoreload\n",
    "%autoreload 2\n",
    "\n",
    "import os\n",
    "import sys\n",
    "import git\n",
    "\n",
    "import uproot as ut\n",
    "import awkward as ak\n",
    "import numpy as np\n",
    "import math\n",
    "import vector\n",
    "import sympy as sp\n",
    "\n",
    "import re\n",
    "from tqdm import tqdm\n",
    "import timeit\n",
    "\n",
    "sys.path.append( git.Repo('.', search_parent_directories=True).working_tree_dir )\n",
    "from utils import *\n",
    "\n",
    "import utils.modelUtils.gnn as gnn"
   ]
  },
  {
   "cell_type": "code",
   "execution_count": 2,
   "id": "c8cf317c",
   "metadata": {},
   "outputs": [],
   "source": [
    "graphs = gnn.Dataset('.')"
   ]
  },
  {
   "cell_type": "code",
   "execution_count": 3,
   "id": "1d33e77d",
   "metadata": {},
   "outputs": [
    {
     "data": {
      "text/plain": [
       "45168"
      ]
     },
     "execution_count": 3,
     "metadata": {},
     "output_type": "execute_result"
    }
   ],
   "source": [
    "ngraphs = len(graphs)\n",
    "ngraphs"
   ]
  },
  {
   "cell_type": "code",
   "execution_count": 7,
   "id": "004ca1ae",
   "metadata": {},
   "outputs": [],
   "source": [
    "loss_weights = np.array([ak.count(node_labels),ak.count(edge_labels)])\n",
    "loss_weights = np.max(loss_weights)/loss_weights "
   ]
  },
  {
   "cell_type": "code",
   "execution_count": 8,
   "id": "4c29ae97",
   "metadata": {},
   "outputs": [
    {
     "data": {
      "text/plain": [
       "Data(x=[7, 5], edge_index=[2, 49], y=[7], pos_edge_index=[2, 6], edge_x=[49, 1], edge_y=[49])"
      ]
     },
     "execution_count": 8,
     "metadata": {},
     "output_type": "execute_result"
    }
   ],
   "source": [
    "graphs[0]"
   ]
  },
  {
   "cell_type": "code",
   "execution_count": 9,
   "id": "52c6c0a3",
   "metadata": {},
   "outputs": [],
   "source": [
    "from torch_geometric.loader import DataLoader\n",
    "from torch.utils.data import random_split\n",
    "\n",
    "def train_test_split(dataset,test_split):\n",
    "    size = len(dataset)\n",
    "    train_size = int(size*(1-test_split))\n",
    "    test_size = size - train_size\n",
    "    return random_split(dataset,[train_size,test_size])\n",
    "\n",
    "training,testing = train_test_split(graphs, 0.25)\n",
    "training,validation = train_test_split(training,0.2)\n",
    "\n",
    "trainloader = DataLoader(training,batch_size=50,shuffle=True,num_workers=4)\n",
    "testloader = DataLoader(testing,batch_size=50,num_workers=4)\n",
    "validloader = DataLoader(validation,batch_size=50,num_workers=4)"
   ]
  },
  {
   "cell_type": "code",
   "execution_count": 27,
   "id": "a1488ee3",
   "metadata": {},
   "outputs": [],
   "source": [
    "import torch\n",
    "import torch.nn.functional as F\n",
    "import pytorch_lightning as pl\n",
    "from torchmetrics.functional import accuracy\n",
    "from torch_geometric.nn import Linear\n",
    "\n",
    "\n",
    "class GCN(pl.LightningModule):\n",
    "    def __init__(self, node_features, edge_features, nclasses):\n",
    "        super().__init__()\n",
    "\n",
    "        nn1 = torch.nn.Sequential(\n",
    "            Linear(2*node_features+edge_features, 64),\n",
    "            torch.nn.ReLU(),\n",
    "            Linear(-1, 96),\n",
    "            torch.nn.ReLU()\n",
    "        )\n",
    "\n",
    "        self.conv1 = gnn.EdgeConv(nn1, return_with_edges=True)\n",
    "\n",
    "        node_classifier = torch.nn.Sequential(\n",
    "            Linear(3*96, 128),\n",
    "            torch.nn.ELU(),\n",
    "            Linear(-1, nclasses)\n",
    "        )\n",
    "\n",
    "        edge_classifier = torch.nn.Sequential(\n",
    "            Linear(3*96, 128),\n",
    "            torch.nn.ELU(),\n",
    "            Linear(-1, nclasses)\n",
    "        )\n",
    "\n",
    "        self.node_conv = gnn.EdgeConv(node_classifier)\n",
    "        self.edge_conv = gnn.EdgeConv(edge_classifier, return_only_edges=True)\n",
    "\n",
    "        self.node_class_weights = torch.Tensor(node_class_weights)\n",
    "        self.edge_class_weights = torch.Tensor(edge_class_weights)\n",
    "\n",
    "    def forward(self, data):\n",
    "        x, edge_index, edge_x = data.x, data.edge_index, data.edge_x\n",
    "        x_tilde, edge_x_tilde = self.conv1(x, edge_index, edge_x)\n",
    "        x = self.node_conv(x_tilde, edge_index, edge_x_tilde)\n",
    "        edge_x = self.edge_conv(x_tilde, edge_index, edge_x_tilde)\n",
    "\n",
    "        return F.log_softmax(x, dim=1), F.log_softmax(edge_x, dim=1)\n",
    "\n",
    "    def shared_step(self, batch, batch_idx, tag=None):\n",
    "        node_o, edge_o = self(batch)\n",
    "\n",
    "        node_loss = F.nll_loss(node_o, batch.y, self.node_class_weights)\n",
    "        node_acc = accuracy(node_o.argmax(dim=1), batch.y)\n",
    "\n",
    "        edge_loss = F.nll_loss(\n",
    "            edge_o, batch.edge_y.long(), self.edge_class_weights)\n",
    "        edge_acc = accuracy(edge_o.argmax(dim=1), batch.edge_y.long())\n",
    "\n",
    "        loss = node_loss + edge_loss\n",
    "\n",
    "        metrics = dict(loss=loss, node_loss=node_loss,\n",
    "                       node_acc=node_acc, edge_loss=edge_loss, edge_acc=edge_acc)\n",
    "        if tag is not None:\n",
    "            metrics = {f'{tag}_{key}': value for key, value in metrics.items()}\n",
    "\n",
    "        self.log_dict(metrics)\n",
    "        return metrics\n",
    "\n",
    "    def training_step(self, batch, batch_idx):\n",
    "        return self.shared_step(batch, batch_idx)\n",
    "\n",
    "    def validation_step(self, batch, batch_idx):\n",
    "        return self.shared_step(batch, batch_idx, tag='val')\n",
    "\n",
    "    def test_step(self, batch, batch_idx):\n",
    "        return self.shared_step(batch, batch_idx, tag='test')\n",
    "\n",
    "    def configure_optimizers(self):\n",
    "        optimizer = torch.optim.Adam(self.parameters(), lr=1e-3)\n",
    "        return optimizer\n"
   ]
  },
  {
   "cell_type": "code",
   "execution_count": 28,
   "id": "49a582f1",
   "metadata": {},
   "outputs": [],
   "source": [
    "model = GCN(5,1,2)"
   ]
  },
  {
   "cell_type": "code",
   "execution_count": 29,
   "id": "cded321f",
   "metadata": {},
   "outputs": [
    {
     "name": "stderr",
     "output_type": "stream",
     "text": [
      "GPU available: False, used: False\n",
      "TPU available: False, using: 0 TPU cores\n",
      "IPU available: False, using: 0 IPUs\n",
      "/uscms/home/ekoenig/nobackup/anaconda3/lib/python3.8/site-packages/pytorch_lightning/utilities/model_summary.py:431: UserWarning: A layer with UninitializedParameter was found. Thus, the total number of parameters detected may be inaccurate.\n",
      "  warning_cache.warn(\n",
      "\n",
      "  | Name      | Type     | Params\n",
      "---------------------------------------\n",
      "0 | conv1     | EdgeConv | 864   \n",
      "1 | node_conv | EdgeConv | 37.0 K\n",
      "2 | edge_conv | EdgeConv | 37.0 K\n",
      "---------------------------------------\n",
      "74.9 K    Trainable params\n",
      "0         Non-trainable params\n",
      "74.9 K    Total params\n",
      "0.299     Total estimated model params size (MB)\n"
     ]
    },
    {
     "data": {
      "application/vnd.jupyter.widget-view+json": {
       "model_id": "777d7e7c698744418b827a3f09b6919c",
       "version_major": 2,
       "version_minor": 0
      },
      "text/plain": [
       "Validation sanity check: 0it [00:00, ?it/s]"
      ]
     },
     "metadata": {},
     "output_type": "display_data"
    },
    {
     "data": {
      "application/vnd.jupyter.widget-view+json": {
       "model_id": "2fcb4e484b9348fa82d0f38a685c1b0b",
       "version_major": 2,
       "version_minor": 0
      },
      "text/plain": [
       "Training: 0it [00:00, ?it/s]"
      ]
     },
     "metadata": {},
     "output_type": "display_data"
    },
    {
     "data": {
      "application/vnd.jupyter.widget-view+json": {
       "model_id": "61d5077d1bad4719879c99771f8b6ecb",
       "version_major": 2,
       "version_minor": 0
      },
      "text/plain": [
       "Validating: 0it [00:00, ?it/s]"
      ]
     },
     "metadata": {},
     "output_type": "display_data"
    },
    {
     "data": {
      "application/vnd.jupyter.widget-view+json": {
       "model_id": "d65126ca93a541798a4671080e9689ae",
       "version_major": 2,
       "version_minor": 0
      },
      "text/plain": [
       "Validating: 0it [00:00, ?it/s]"
      ]
     },
     "metadata": {},
     "output_type": "display_data"
    },
    {
     "data": {
      "application/vnd.jupyter.widget-view+json": {
       "model_id": "997ddd2d011c42c99fcc0a68e3015db1",
       "version_major": 2,
       "version_minor": 0
      },
      "text/plain": [
       "Validating: 0it [00:00, ?it/s]"
      ]
     },
     "metadata": {},
     "output_type": "display_data"
    },
    {
     "data": {
      "application/vnd.jupyter.widget-view+json": {
       "model_id": "ad3d943eb5534a2ebeba88bd5fd38c81",
       "version_major": 2,
       "version_minor": 0
      },
      "text/plain": [
       "Validating: 0it [00:00, ?it/s]"
      ]
     },
     "metadata": {},
     "output_type": "display_data"
    },
    {
     "data": {
      "application/vnd.jupyter.widget-view+json": {
       "model_id": "eb9bee94b7b0443893e1bfc95510f868",
       "version_major": 2,
       "version_minor": 0
      },
      "text/plain": [
       "Validating: 0it [00:00, ?it/s]"
      ]
     },
     "metadata": {},
     "output_type": "display_data"
    }
   ],
   "source": [
    "from pytorch_lightning.callbacks.early_stopping import EarlyStopping\n",
    "\n",
    "trainer = pl.Trainer(max_epochs=5,callbacks=[EarlyStopping(monitor='val_loss')])\n",
    "trainer.fit(model,trainloader,validloader)"
   ]
  },
  {
   "cell_type": "code",
   "execution_count": 30,
   "id": "73edaf20",
   "metadata": {},
   "outputs": [
    {
     "data": {
      "application/vnd.jupyter.widget-view+json": {
       "model_id": "f38f6bdac07f4d0d9e7ac9dfc90af167",
       "version_major": 2,
       "version_minor": 0
      },
      "text/plain": [
       "Testing: 0it [00:00, ?it/s]"
      ]
     },
     "metadata": {},
     "output_type": "display_data"
    },
    {
     "name": "stdout",
     "output_type": "stream",
     "text": [
      "--------------------------------------------------------------------------------\n",
      "DATALOADER:0 TEST RESULTS\n",
      "{'test_edge_acc': 0.606505274772644,\n",
      " 'test_edge_loss': 0.5574642419815063,\n",
      " 'test_loss': 0.8665906190872192,\n",
      " 'test_node_acc': 0.8785029053688049,\n",
      " 'test_node_loss': 0.309126615524292}\n",
      "--------------------------------------------------------------------------------\n"
     ]
    },
    {
     "data": {
      "text/plain": [
       "[{'test_loss': 0.8665906190872192,\n",
       "  'test_node_loss': 0.309126615524292,\n",
       "  'test_node_acc': 0.8785029053688049,\n",
       "  'test_edge_loss': 0.5574642419815063,\n",
       "  'test_edge_acc': 0.606505274772644}]"
      ]
     },
     "execution_count": 30,
     "metadata": {},
     "output_type": "execute_result"
    }
   ],
   "source": [
    "trainer.test(model,validloader)"
   ]
  },
  {
   "cell_type": "code",
   "execution_count": 31,
   "id": "d0d213c6",
   "metadata": {},
   "outputs": [
    {
     "data": {
      "application/vnd.jupyter.widget-view+json": {
       "model_id": "7e057c9d6cae44a9a5def7402a59134b",
       "version_major": 2,
       "version_minor": 0
      },
      "text/plain": [
       "Testing: 0it [00:00, ?it/s]"
      ]
     },
     "metadata": {},
     "output_type": "display_data"
    },
    {
     "name": "stdout",
     "output_type": "stream",
     "text": [
      "--------------------------------------------------------------------------------\n",
      "DATALOADER:0 TEST RESULTS\n",
      "{'test_edge_acc': 0.6062091588973999,\n",
      " 'test_edge_loss': 0.5557989478111267,\n",
      " 'test_loss': 0.8671642541885376,\n",
      " 'test_node_acc': 0.8798198103904724,\n",
      " 'test_node_loss': 0.3113655149936676}\n",
      "--------------------------------------------------------------------------------\n"
     ]
    },
    {
     "data": {
      "text/plain": [
       "[{'test_loss': 0.8671642541885376,\n",
       "  'test_node_loss': 0.3113655149936676,\n",
       "  'test_node_acc': 0.8798198103904724,\n",
       "  'test_edge_loss': 0.5557989478111267,\n",
       "  'test_edge_acc': 0.6062091588973999}]"
      ]
     },
     "execution_count": 31,
     "metadata": {},
     "output_type": "execute_result"
    }
   ],
   "source": [
    "trainer.test(model,testloader)"
   ]
  },
  {
   "cell_type": "code",
   "execution_count": 32,
   "id": "e042ec67",
   "metadata": {},
   "outputs": [],
   "source": [
    "import sklearn.metrics as metrics\n",
    "\n",
    "node_y_true,edge_y_true,node_y_pred,edge_y_pred = [],[],[],[]\n",
    "for test in testloader: \n",
    "    nypred,eypred = model(test)\n",
    "\n",
    "    node_y_true = np.concatenate([node_y_true,test.y])\n",
    "    edge_y_true = np.concatenate([edge_y_true,test.edge_y.long()])\n",
    "\n",
    "    node_y_pred = np.concatenate([node_y_pred,nypred[:,1].detach()])\n",
    "    edge_y_pred = np.concatenate([edge_y_pred,eypred[:,1].detach()])"
   ]
  },
  {
   "cell_type": "code",
   "execution_count": 33,
   "id": "92020c3d",
   "metadata": {},
   "outputs": [
    {
     "data": {
      "image/png": "[encoded data removed]",
      "text/plain": [
       "<Figure size 432x288 with 1 Axes>"
      ]
     },
     "metadata": {
      "needs_background": "light"
     },
     "output_type": "display_data"
    }
   ],
   "source": [
    "fpr,tpr,thresholds = metrics.roc_curve(node_y_true,node_y_pred)\n",
    "auc = metrics.auc(fpr,tpr)\n",
    "\n",
    "graph_simple(fpr,tpr,xlabel=\"Node False Positive\",ylabel=\"Node True Positive\",title=f\"AUC: {auc:.2}\",marker=None);"
   ]
  },
  {
   "cell_type": "code",
   "execution_count": 34,
   "id": "dcd70b17",
   "metadata": {},
   "outputs": [
    {
     "data": {
      "image/png": "[encoded data removed]",
      "text/plain": [
       "<Figure size 432x288 with 1 Axes>"
      ]
     },
     "metadata": {
      "needs_background": "light"
     },
     "output_type": "display_data"
    }
   ],
   "source": [
    "fpr,tpr,thresholds = metrics.roc_curve(edge_y_true,edge_y_pred)\n",
    "auc = metrics.auc(fpr,tpr)\n",
    "\n",
    "graph_simple(fpr,tpr,xlabel=\"edge False Positive\",ylabel=\"edge True Positive\",title=f\"AUC: {auc:.2}\",marker=None);"
   ]
  },
  {
   "cell_type": "code",
   "execution_count": null,
   "id": "e55e72ed",
   "metadata": {},
   "outputs": [],
   "source": []
  }
 ],
 "metadata": {
  "interpreter": {
   "hash": "0dc50badf6bcf34ee37feb4ddab24eb1b71716d96fc6cae89d10c22f5e3462c0"
  },
  "kernelspec": {
   "display_name": "Python 3.8.10 64-bit ('base': conda)",
   "name": "python3"
  },
  "language_info": {
   "codemirror_mode": {
    "name": "ipython",
    "version": 3
   },
   "file_extension": ".py",
   "mimetype": "text/x-python",
   "name": "python",
   "nbconvert_exporter": "python",
   "pygments_lexer": "ipython3",
   "version": "3.8.10"
  }
 },
 "nbformat": 4,
 "nbformat_minor": 5
}

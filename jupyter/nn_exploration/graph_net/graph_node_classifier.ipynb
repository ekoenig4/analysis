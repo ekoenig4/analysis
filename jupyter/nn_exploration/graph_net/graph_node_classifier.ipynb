{
 "cells": [
  {
   "cell_type": "code",
   "execution_count": 1,
   "id": "ef215b25",
   "metadata": {},
   "outputs": [],
   "source": [
    "%load_ext autoreload\n",
    "%autoreload 2\n",
    "\n",
    "import os\n",
    "import sys\n",
    "import git\n",
    "\n",
    "import uproot as ut\n",
    "import awkward as ak\n",
    "import numpy as np\n",
    "import math\n",
    "import vector\n",
    "import sympy as sp\n",
    "\n",
    "import re\n",
    "from tqdm import tqdm\n",
    "import timeit\n",
    "\n",
    "sys.path.append( git.Repo('.', search_parent_directories=True).working_tree_dir )\n",
    "from utils import *\n",
    "\n",
    "import utils.modelUtils.gnn as gnn"
   ]
  },
  {
   "cell_type": "code",
   "execution_count": 2,
   "id": "ba7f4ea6",
   "metadata": {},
   "outputs": [],
   "source": [
    "tree = Tree(fc.passthrough.NMSSM_MX_600_MY_400)"
   ]
  },
  {
   "cell_type": "code",
   "execution_count": 3,
   "id": "c8cf317c",
   "metadata": {},
   "outputs": [
    {
     "data": {
      "text/plain": [
       "45168"
      ]
     },
     "execution_count": 3,
     "metadata": {},
     "output_type": "execute_result"
    }
   ],
   "source": [
    "dataset = gnn.Dataset('.',tree)\n",
    "len(dataset)"
   ]
  },
  {
   "cell_type": "code",
   "execution_count": 4,
   "id": "52c6c0a3",
   "metadata": {},
   "outputs": [],
   "source": [
    "from torch_geometric.loader import DataLoader\n",
    "from torch.utils.data import random_split\n",
    "\n",
    "def train_test_split(dataset,test_split):\n",
    "    size = len(dataset)\n",
    "    train_size = int(size*(1-test_split))\n",
    "    test_size = size - train_size\n",
    "    return random_split(dataset,[train_size,test_size])\n",
    "\n",
    "training,testing = train_test_split(dataset, 0.25)\n",
    "training,validation = train_test_split(training,0.2)\n",
    "\n",
    "trainloader = DataLoader(training,batch_size=50,shuffle=True,num_workers=4)\n",
    "testloader = DataLoader(testing,batch_size=50,num_workers=4)\n",
    "validloader = DataLoader(validation,batch_size=50,num_workers=4)"
   ]
  },
  {
   "cell_type": "code",
   "execution_count": 14,
   "id": "d349c27e",
   "metadata": {},
   "outputs": [
    {
     "name": "stdout",
     "output_type": "stream",
     "text": [
      "GPU Available: True\n"
     ]
    }
   ],
   "source": [
    "useGPU = True \n",
    "useGPU = useGPU and torch.cuda.is_available()\n",
    "print(\"GPU Available:\",useGPU)"
   ]
  },
  {
   "cell_type": "code",
   "execution_count": 18,
   "id": "a1488ee3",
   "metadata": {},
   "outputs": [],
   "source": [
    "import torch\n",
    "import torch.nn.functional as F\n",
    "import pytorch_lightning as pl\n",
    "from torchmetrics.functional import accuracy\n",
    "from torch_geometric.nn import Linear, EdgeConv\n",
    "\n",
    "\n",
    "class GCN(pl.LightningModule):\n",
    "    def __init__(self, dataset):\n",
    "        super().__init__()\n",
    "\n",
    "        nn1 = torch.nn.Sequential(\n",
    "            Linear(2*dataset.num_node_features+dataset.num_edge_features,36),\n",
    "            torch.nn.ReLU(),\n",
    "            Linear(36,64),\n",
    "            torch.nn.ReLU()\n",
    "        )\n",
    "        \n",
    "        self.conv1 = gnn.EdgeConv(nn1,aggr='max')\n",
    "\n",
    "        nn2 = torch.nn.Sequential(\n",
    "            Linear(2*64,192), \n",
    "            torch.nn.ReLU(), \n",
    "            Linear(192,256),\n",
    "        )\n",
    "        self.conv2 = EdgeConv(nn2,aggr='max')\n",
    "        self.line1 = Linear(256,96)\n",
    "        self.line2 = Linear(96,dataset.num_classes)\n",
    "        self.class_weights = torch.Tensor(dataset.node_class_weights)\n",
    "        if useGPU: self.class_weights = self.class_weights.to('cuda:0')\n",
    "\n",
    "    def forward(self, data):\n",
    "        x, edge_index, edge_x = data.x,data.edge_index,data.edge_attr\n",
    "\n",
    "        x = F.elu(self.conv1(x,edge_index,edge_x))\n",
    "        x = F.elu(self.conv2(x,edge_index))\n",
    "        x = F.elu(self.line1(x))\n",
    "        x = self.line2(x)\n",
    "\n",
    "        return F.log_softmax(x, dim=1)\n",
    "    def shared_step(self, batch, batch_idx, tag=None):\n",
    "        o,y = self(batch),batch.y.to('cuda:0') if useGPU else batch.y\n",
    "        loss = F.nll_loss(o, y,self.class_weights)\n",
    "        acc = accuracy(o.argmax(dim=1), y)\n",
    "\n",
    "        metrics = dict(loss=loss, acc=acc)\n",
    "        if tag is not None:\n",
    "            metrics = {f'{tag}_{key}': value for key, value in metrics.items()}\n",
    "\n",
    "        self.log_dict(metrics)\n",
    "        return metrics\n",
    "\n",
    "    def training_step(self, batch, batch_idx):\n",
    "        return self.shared_step(batch, batch_idx)\n",
    "\n",
    "    def validation_step(self, batch, batch_idx):\n",
    "        return self.shared_step(batch, batch_idx, tag='val')\n",
    "\n",
    "    def test_step(self, batch, batch_idx):\n",
    "        return self.shared_step(batch, batch_idx, tag='test')\n",
    "\n",
    "    def configure_optimizers(self):\n",
    "        optimizer = torch.optim.Adam(self.parameters(), lr=1e-3)\n",
    "        return optimizer\n"
   ]
  },
  {
   "cell_type": "code",
   "execution_count": 19,
   "id": "49a582f1",
   "metadata": {},
   "outputs": [],
   "source": [
    "model = GCN(dataset)"
   ]
  },
  {
   "cell_type": "code",
   "execution_count": 28,
   "id": "cded321f",
   "metadata": {},
   "outputs": [
    {
     "name": "stderr",
     "output_type": "stream",
     "text": [
      "GPU available: True, used: True\n",
      "TPU available: False, using: 0 TPU cores\n",
      "IPU available: False, using: 0 IPUs\n",
      "LOCAL_RANK: 0 - CUDA_VISIBLE_DEVICES: [0]\n",
      "\n",
      "  | Name  | Type     | Params\n",
      "-----------------------------------\n",
      "0 | conv1 | EdgeConv | 3.1 K \n",
      "1 | conv2 | EdgeConv | 74.2 K\n",
      "2 | line1 | Linear   | 24.7 K\n",
      "3 | line2 | Linear   | 194   \n",
      "-----------------------------------\n",
      "102 K     Trainable params\n",
      "0         Non-trainable params\n",
      "102 K     Total params\n",
      "0.408     Total estimated model params size (MB)\n"
     ]
    },
    {
     "data": {
      "application/vnd.jupyter.widget-view+json": {
       "model_id": "5d23e24e223345b5b9ab2f689f59a200",
       "version_major": 2,
       "version_minor": 0
      },
      "text/plain": [
       "Validation sanity check: 0it [00:00, ?it/s]"
      ]
     },
     "metadata": {},
     "output_type": "display_data"
    },
    {
     "data": {
      "application/vnd.jupyter.widget-view+json": {
       "model_id": "09a65f3551df466589e7d0bf65eea7d4",
       "version_major": 2,
       "version_minor": 0
      },
      "text/plain": [
       "Training: 0it [00:00, ?it/s]"
      ]
     },
     "metadata": {},
     "output_type": "display_data"
    },
    {
     "data": {
      "application/vnd.jupyter.widget-view+json": {
       "model_id": "290d98b0ae134975972ae56aae0f15b6",
       "version_major": 2,
       "version_minor": 0
      },
      "text/plain": [
       "Validating: 0it [00:00, ?it/s]"
      ]
     },
     "metadata": {},
     "output_type": "display_data"
    },
    {
     "data": {
      "application/vnd.jupyter.widget-view+json": {
       "model_id": "dd1f1ec36a3e4cc99524660e102a9438",
       "version_major": 2,
       "version_minor": 0
      },
      "text/plain": [
       "Validating: 0it [00:00, ?it/s]"
      ]
     },
     "metadata": {},
     "output_type": "display_data"
    },
    {
     "data": {
      "application/vnd.jupyter.widget-view+json": {
       "model_id": "54ea5064a6e9454385a7027e42d6bfd8",
       "version_major": 2,
       "version_minor": 0
      },
      "text/plain": [
       "Validating: 0it [00:00, ?it/s]"
      ]
     },
     "metadata": {},
     "output_type": "display_data"
    },
    {
     "data": {
      "application/vnd.jupyter.widget-view+json": {
       "model_id": "9e7a4622079d4f659fb2ae989cd375c1",
       "version_major": 2,
       "version_minor": 0
      },
      "text/plain": [
       "Validating: 0it [00:00, ?it/s]"
      ]
     },
     "metadata": {},
     "output_type": "display_data"
    },
    {
     "data": {
      "application/vnd.jupyter.widget-view+json": {
       "model_id": "abfff9a79dc3469299f03fe4f6ca6b53",
       "version_major": 2,
       "version_minor": 0
      },
      "text/plain": [
       "Validating: 0it [00:00, ?it/s]"
      ]
     },
     "metadata": {},
     "output_type": "display_data"
    }
   ],
   "source": [
    "from pytorch_lightning.callbacks.early_stopping import EarlyStopping\n",
    "\n",
    "trainer = pl.Trainer(max_epochs=5,callbacks=[EarlyStopping(monitor='val_loss')],gpus=1,default_root_dir='models/node_classifier')\n",
    "trainer.fit(model,trainloader,validloader)"
   ]
  },
  {
   "cell_type": "code",
   "execution_count": 29,
   "id": "73edaf20",
   "metadata": {},
   "outputs": [
    {
     "name": "stderr",
     "output_type": "stream",
     "text": [
      "LOCAL_RANK: 0 - CUDA_VISIBLE_DEVICES: [0]\n"
     ]
    },
    {
     "data": {
      "application/vnd.jupyter.widget-view+json": {
       "model_id": "1d7affe280b247798b31d3128517f823",
       "version_major": 2,
       "version_minor": 0
      },
      "text/plain": [
       "Testing: 0it [00:00, ?it/s]"
      ]
     },
     "metadata": {},
     "output_type": "display_data"
    },
    {
     "name": "stdout",
     "output_type": "stream",
     "text": [
      "--------------------------------------------------------------------------------\n",
      "DATALOADER:0 TEST RESULTS\n",
      "{'test_acc': 0.8873387575149536, 'test_loss': 0.30256766080856323}\n",
      "--------------------------------------------------------------------------------\n"
     ]
    },
    {
     "data": {
      "text/plain": [
       "[{'test_loss': 0.30256766080856323, 'test_acc': 0.8873387575149536}]"
      ]
     },
     "execution_count": 29,
     "metadata": {},
     "output_type": "execute_result"
    }
   ],
   "source": [
    "trainer.test(model,validloader)"
   ]
  },
  {
   "cell_type": "code",
   "execution_count": 30,
   "id": "d0d213c6",
   "metadata": {},
   "outputs": [
    {
     "name": "stderr",
     "output_type": "stream",
     "text": [
      "LOCAL_RANK: 0 - CUDA_VISIBLE_DEVICES: [0]\n"
     ]
    },
    {
     "data": {
      "application/vnd.jupyter.widget-view+json": {
       "model_id": "bc4f51b0ecbe4ee5bd5bfe8ceb436198",
       "version_major": 2,
       "version_minor": 0
      },
      "text/plain": [
       "Testing: 0it [00:00, ?it/s]"
      ]
     },
     "metadata": {},
     "output_type": "display_data"
    },
    {
     "name": "stdout",
     "output_type": "stream",
     "text": [
      "--------------------------------------------------------------------------------\n",
      "DATALOADER:0 TEST RESULTS\n",
      "{'test_acc': 0.8862587809562683, 'test_loss': 0.3015297055244446}\n",
      "--------------------------------------------------------------------------------\n"
     ]
    },
    {
     "data": {
      "text/plain": [
       "[{'test_loss': 0.3015297055244446, 'test_acc': 0.8862587809562683}]"
      ]
     },
     "execution_count": 30,
     "metadata": {},
     "output_type": "execute_result"
    }
   ],
   "source": [
    "trainer.test(model,testloader)"
   ]
  },
  {
   "cell_type": "code",
   "execution_count": 23,
   "id": "e042ec67",
   "metadata": {},
   "outputs": [],
   "source": [
    "import sklearn.metrics as metrics\n",
    "\n",
    "y_true,y_pred = [],[]\n",
    "for test in testloader: \n",
    "    y_true = np.concatenate([y_true,test.y])\n",
    "    y_pred = np.concatenate([y_pred,model(test)[:,1].detach()])"
   ]
  },
  {
   "cell_type": "code",
   "execution_count": 24,
   "id": "92020c3d",
   "metadata": {},
   "outputs": [
    {
     "data": {
      "image/png": "[encoded data removed]",
      "text/plain": [
       "<Figure size 432x288 with 1 Axes>"
      ]
     },
     "metadata": {
      "needs_background": "light"
     },
     "output_type": "display_data"
    }
   ],
   "source": [
    "fpr,tpr,thresholds = metrics.roc_curve(y_true,y_pred)\n",
    "auc = metrics.auc(fpr,tpr)\n",
    "\n",
    "graph_simple(fpr,tpr,xlabel=\"False Positive\",ylabel=\"True Positive\",title=f\"AUC: {auc:.3}\",marker=None);"
   ]
  }
 ],
 "metadata": {
  "interpreter": {
   "hash": "0dc50badf6bcf34ee37feb4ddab24eb1b71716d96fc6cae89d10c22f5e3462c0"
  },
  "kernelspec": {
   "display_name": "Python 3.8.10 64-bit ('base': conda)",
   "name": "python3"
  },
  "language_info": {
   "codemirror_mode": {
    "name": "ipython",
    "version": 3
   },
   "file_extension": ".py",
   "mimetype": "text/x-python",
   "name": "python",
   "nbconvert_exporter": "python",
   "pygments_lexer": "ipython3",
   "version": "3.8.12"
  }
 },
 "nbformat": 4,
 "nbformat_minor": 5
}

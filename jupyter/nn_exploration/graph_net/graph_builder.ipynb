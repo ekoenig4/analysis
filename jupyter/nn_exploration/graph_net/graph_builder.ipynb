{
 "cells": [
  {
   "cell_type": "code",
   "execution_count": 1,
   "id": "ef215b25",
   "metadata": {},
   "outputs": [],
   "source": [
    "%load_ext autoreload\n",
    "%autoreload 2\n",
    "\n",
    "import os\n",
    "import sys\n",
    "import git\n",
    "\n",
    "import uproot as ut\n",
    "import awkward1 as ak\n",
    "import numpy as np\n",
    "import math\n",
    "import vector\n",
    "import sympy as sp\n",
    "\n",
    "import re\n",
    "from tqdm import tqdm\n",
    "import timeit\n",
    "\n",
    "sys.path.append( git.Repo('.', search_parent_directories=True).working_tree_dir )\n",
    "from utils import *\n",
    "\n",
    "import utils.torchUtils as gnn\n",
    "\n",
    "plt.style.use('science')\n"
   ]
  },
  {
   "cell_type": "code",
   "execution_count": 2,
   "id": "3dc64309",
   "metadata": {},
   "outputs": [],
   "source": [
    "traintree = Tree(fc.passthrough.TRAINING_MX_700_MY_400)"
   ]
  },
  {
   "cell_type": "code",
   "execution_count": 3,
   "id": "5bdb4dac",
   "metadata": {},
   "outputs": [],
   "source": [
    "dataset = gnn.Dataset('data/signal-training',traintree)"
   ]
  },
  {
   "cell_type": "code",
   "execution_count": 4,
   "id": "88272348",
   "metadata": {},
   "outputs": [],
   "source": [
    "testtree = Tree(fc.passthrough.TESTING_MX_700_MY_400)"
   ]
  },
  {
   "cell_type": "code",
   "execution_count": 5,
   "id": "cbbbc76e",
   "metadata": {},
   "outputs": [],
   "source": [
    "testing = gnn.Dataset('data/signal-testing',testtree,dataset)"
   ]
  },
  {
   "cell_type": "code",
   "execution_count": 7,
   "id": "247ff1ce",
   "metadata": {},
   "outputs": [
    {
     "data": {
      "text/plain": [
       "(<Array [9, 10, 17, 24, ... 5605, 5606, 5616] type='430 * int64'>,)"
      ]
     },
     "execution_count": 7,
     "metadata": {},
     "output_type": "execute_result"
    }
   ],
   "source": [
    "ak.where((testtree.n_jet==8)&(testtree.nfound_presel==6))"
   ]
  },
  {
   "cell_type": "code",
   "execution_count": null,
   "id": "cafd7132",
   "metadata": {},
   "outputs": [],
   "source": []
  }
 ],
 "metadata": {
  "interpreter": {
   "hash": "0dc50badf6bcf34ee37feb4ddab24eb1b71716d96fc6cae89d10c22f5e3462c0"
  },
  "kernelspec": {
   "display_name": "Python 3.8.10 64-bit ('base': conda)",
   "name": "python3"
  },
  "language_info": {
   "codemirror_mode": {
    "name": "ipython",
    "version": 3
   },
   "file_extension": ".py",
   "mimetype": "text/x-python",
   "name": "python",
   "nbconvert_exporter": "python",
   "pygments_lexer": "ipython3",
   "version": "3.8.12"
  }
 },
 "nbformat": 4,
 "nbformat_minor": 5
}

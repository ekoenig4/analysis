{
 "cells": [
  {
   "cell_type": "code",
   "execution_count": 1,
   "id": "ef215b25",
   "metadata": {},
   "outputs": [],
   "source": [
    "%load_ext autoreload\n",
    "%autoreload 2\n",
    "\n",
    "import os\n",
    "import sys\n",
    "import git\n",
    "\n",
    "import uproot as ut\n",
    "import awkward as ak\n",
    "import numpy as np\n",
    "import math\n",
    "import vector\n",
    "import sympy as sp\n",
    "\n",
    "import re\n",
    "from tqdm import tqdm\n",
    "import timeit\n",
    "import torch\n",
    "\n",
    "sys.path.append( git.Repo('.', search_parent_directories=True).working_tree_dir )\n",
    "from utils import *\n",
    "\n",
    "import utils.torchUtils as gnn\n",
    "\n",
    "plt.style.use('science')\n",
    "plt.rcParams[\"figure.figsize\"] = (10,10)\n",
    "plt.rcParams['font.size'] =  15"
   ]
  },
  {
   "cell_type": "code",
   "execution_count": 2,
   "id": "339cf0fd",
   "metadata": {},
   "outputs": [],
   "source": [
    "tree = Tree(fc.passthrough.TESTING_MX_700_MY_400)"
   ]
  },
  {
   "cell_type": "code",
   "execution_count": 3,
   "id": "8b5370ed",
   "metadata": {},
   "outputs": [
    {
     "data": {
      "text/plain": [
       "1662"
      ]
     },
     "execution_count": 3,
     "metadata": {},
     "output_type": "execute_result"
    }
   ],
   "source": [
    "ak.argmax(tree.n_jet)"
   ]
  },
  {
   "cell_type": "code",
   "execution_count": 4,
   "id": "c8cf317c",
   "metadata": {},
   "outputs": [
    {
     "data": {
      "text/plain": [
       "5619"
      ]
     },
     "execution_count": 4,
     "metadata": {},
     "output_type": "execute_result"
    }
   ],
   "source": [
    "testing = gnn.Dataset('data/signal-testing',transform=gnn.to_uptri_graph)\n",
    "len(testing)"
   ]
  },
  {
   "cell_type": "code",
   "execution_count": 7,
   "id": "4a63e538",
   "metadata": {},
   "outputs": [],
   "source": [
    "import torch.nn.functional as F\n",
    "from torch_geometric.nn import Linear, GCNConv\n",
    "from utils.torchUtils.layers import EdgeConv, EdgeConvONNX\n",
    "\n",
    "class GCN(torch.nn.Module):\n",
    "    def __init__(self,nn1_out=32,nn2_out=64,for_onnx=False):\n",
    "        super().__init__()\n",
    "        \n",
    "        EdgeConvLayer = EdgeConv\n",
    "        if for_onnx: EdgeConvLayer = EdgeConvONNX\n",
    "        \n",
    "        nn1 = torch.nn.Sequential(\n",
    "            Linear(2*testing.num_node_features +\n",
    "                   testing.num_edge_features, nn1_out),\n",
    "            torch.nn.ELU()\n",
    "        )\n",
    "\n",
    "        self.conv1 = EdgeConvLayer(nn1, edge_aggr=None, return_with_edges=True)\n",
    "\n",
    "        nn2 = torch.nn.Sequential(\n",
    "            Linear(5*nn1_out, nn2_out),\n",
    "            torch.nn.ELU()\n",
    "        )\n",
    "\n",
    "        self.conv2 = EdgeConvLayer(nn2, edge_aggr=None, return_with_edges=True)\n",
    "\n",
    "        self.edge_seq = torch.nn.Sequential(\n",
    "            Linear(3*nn2_out, 2),\n",
    "        )\n",
    "\n",
    "        self.node_seq = torch.nn.Sequential(\n",
    "            Linear(nn2_out, 2),\n",
    "        )\n",
    "\n",
    "    def forward(self, x, edge_index, edge_x):\n",
    "        # x, edge_index = data.x, data.edge_index\n",
    "        \n",
    "        \n",
    "        x, edge_x = self.conv1(x, edge_index, edge_x)\n",
    "        x, edge_x = self.conv2(x, edge_index, edge_x)\n",
    "        x, edge_x = self.node_seq(x), self.edge_seq(edge_x)\n",
    "\n",
    "        return F.log_softmax(x, dim=1), F.log_softmax(edge_x, dim=1)"
   ]
  },
  {
   "cell_type": "code",
   "execution_count": 15,
   "id": "eb391fa6",
   "metadata": {},
   "outputs": [],
   "source": [
    "model = gnn.GCN.load_from_checkpoint('models/graph_classifier/lightning_logs/version_6/checkpoints/epoch=19-step=16119.ckpt',dataset=testing)\n",
    "model_for_onnx = gnn.GCN.load_from_checkpoint('models/graph_classifier/lightning_logs/version_6/checkpoints/epoch=19-step=16119.ckpt',dataset=testing,for_onnx=True)\n"
   ]
  },
  {
   "cell_type": "code",
   "execution_count": 16,
   "id": "ce3eace8",
   "metadata": {},
   "outputs": [],
   "source": [
    "def get_inputs(graph,pad_nodes=None):\n",
    "    node_x = graph.x \n",
    "    edge_index = graph.edge_index \n",
    "    edge_x = graph.edge_attr \n",
    "    \n",
    "    if pad_nodes: \n",
    "        node_x = F.pad(node_x,(0,0,0,pad_nodes-graph.num_nodes))\n",
    "    return (node_x,edge_index,edge_x)"
   ]
  },
  {
   "cell_type": "code",
   "execution_count": 20,
   "id": "7af12578",
   "metadata": {},
   "outputs": [],
   "source": [
    "def compare_outputs(outputs_1,outputs_2):\n",
    "    with torch.no_grad():\n",
    "        for out0,out1 in zip(outputs_1,outputs_2):\n",
    "            print(out0.shape,out1.shape)\n",
    "            print( ((out0-out1)**2).sum() )"
   ]
  },
  {
   "cell_type": "code",
   "execution_count": 21,
   "id": "2b72e5d6",
   "metadata": {},
   "outputs": [
    {
     "data": {
      "text/plain": [
       "[torch.Size([14, 5]), torch.Size([2, 91]), torch.Size([91, 1])]"
      ]
     },
     "execution_count": 21,
     "metadata": {},
     "output_type": "execute_result"
    }
   ],
   "source": [
    "input_values = get_inputs(testing[1662])\n",
    "input_names = ['node_x','edge_index','edge_x']\n",
    "output_names = ['node_y','edge_y']\n",
    "list(map(lambda t:t.shape,input_values))\n"
   ]
  },
  {
   "cell_type": "code",
   "execution_count": 23,
   "id": "0b394ac3",
   "metadata": {},
   "outputs": [
    {
     "name": "stdout",
     "output_type": "stream",
     "text": [
      "torch.Size([14, 2]) torch.Size([14, 2])\n",
      "tensor(12.0052)\n",
      "torch.Size([91, 2]) torch.Size([91, 2])\n",
      "tensor(465.2822)\n"
     ]
    }
   ],
   "source": [
    "org_output = model(input_values)\n",
    "new_output = model_for_onnx(input_values)\n",
    "\n",
    "compare_outputs(org_output,new_output)"
   ]
  },
  {
   "cell_type": "code",
   "execution_count": 25,
   "id": "e20a3f4d",
   "metadata": {},
   "outputs": [
    {
     "data": {
      "text/plain": [
       "(tensor([[-3.3215, -0.0368],\n",
       "         [-1.0296, -0.4418],\n",
       "         [-1.1045, -0.4026],\n",
       "         [-3.4835, -0.0312],\n",
       "         [-1.3002, -0.3181],\n",
       "         [-2.3133, -0.1042],\n",
       "         [-0.0415, -3.2018],\n",
       "         [-0.0486, -3.0482],\n",
       "         [-0.0059, -5.1285],\n",
       "         [-0.0280, -3.5891],\n",
       "         [-0.0330, -3.4279],\n",
       "         [-0.0704, -2.6886],\n",
       "         [-0.2757, -1.4231],\n",
       "         [-0.0491, -3.0383]], grad_fn=<LogSoftmaxBackward>),\n",
       " tensor([[-3.3215, -0.0368],\n",
       "         [-1.6012, -0.2252],\n",
       "         [-1.5112, -0.2493],\n",
       "         [-1.9930, -0.1465],\n",
       "         [-0.3960, -1.1178],\n",
       "         [-1.0657, -0.4223],\n",
       "         [-0.1127, -2.2390],\n",
       "         [-0.2344, -1.5656],\n",
       "         [-0.0262, -3.6557],\n",
       "         [-0.0146, -4.2336],\n",
       "         [-0.0494, -3.0323],\n",
       "         [-0.1102, -2.2601],\n",
       "         [-0.2856, -1.3924],\n",
       "         [-0.0496, -3.0276]], grad_fn=<LogSoftmaxBackward>))"
      ]
     },
     "execution_count": 25,
     "metadata": {},
     "output_type": "execute_result"
    }
   ],
   "source": [
    "org_output[0],new_output[0]"
   ]
  },
  {
   "cell_type": "code",
   "execution_count": 70,
   "id": "2f310dcd",
   "metadata": {},
   "outputs": [],
   "source": [
    "import torch.onnx\n",
    "\n",
    "torch.onnx.export(model,\n",
    "                  input_values,\n",
    "                  \"gnn-model.onnx\",\n",
    "                  input_names=input_names,\n",
    "                  output_names=output_names,\n",
    "                  opset_version=12,\n",
    "                  dynamic_axes={\n",
    "                      'node_x': {0: 'n_nodes'},\n",
    "                      'edge_index': {1: 'n_edges'},\n",
    "                      'edge_x': {0: 'n_edges'},\n",
    "                      'node_y': {0: 'n_nodes'},\n",
    "                      'edge_y': {0: 'n_edges'}}\n",
    "                  )\n"
   ]
  },
  {
   "cell_type": "code",
   "execution_count": 71,
   "id": "70b3b485",
   "metadata": {},
   "outputs": [],
   "source": [
    "import onnx\n",
    "onnx_model = onnx.load('gnn-model.onnx')\n",
    "onnx.checker.check_model(onnx_model)\n"
   ]
  },
  {
   "cell_type": "code",
   "execution_count": 72,
   "id": "c4366d36",
   "metadata": {},
   "outputs": [],
   "source": [
    "import onnxruntime as ort\n",
    "\n",
    "ort_sess = ort.InferenceSession('gnn-model.onnx')"
   ]
  },
  {
   "cell_type": "code",
   "execution_count": 80,
   "id": "fec0f1b2",
   "metadata": {},
   "outputs": [
    {
     "name": "stdout",
     "output_type": "stream",
     "text": [
      "Data(x=[7, 5], edge_index=[2, 21], edge_attr=[21, 1], y=[7], edge_y=[21])\n",
      "torch.Size([20, 2]) (20, 2)\n",
      "tensor(0.)\n",
      "torch.Size([21, 2]) (21, 2)\n",
      "tensor(2.4869e-14)\n"
     ]
    }
   ],
   "source": [
    "g = testing[0]\n",
    "print(g)\n",
    "input_values = get_inputs(g,pad_nodes=20)\n",
    "output_values = model(*input_values)\n",
    "onnx_output = ort_sess.run(None,{name:value.numpy() for name,value in zip(input_names,input_values)})\n"
   ]
  },
  {
   "cell_type": "code",
   "execution_count": 83,
   "id": "90d98bac",
   "metadata": {},
   "outputs": [
    {
     "data": {
      "text/plain": [
       "array([[0.51562   , 0.48437998],\n",
       "       [0.5112753 , 0.4887247 ],\n",
       "       [0.50532067, 0.4946793 ],\n",
       "       [0.5060546 , 0.49394533],\n",
       "       [0.5042418 , 0.49575827],\n",
       "       [0.5060317 , 0.4939682 ],\n",
       "       [0.4981752 , 0.5018248 ],\n",
       "       [0.51562   , 0.48437998],\n",
       "       [0.51562   , 0.48437998],\n",
       "       [0.51562   , 0.48437998],\n",
       "       [0.51562   , 0.48437998],\n",
       "       [0.51562   , 0.48437998],\n",
       "       [0.51562   , 0.48437998],\n",
       "       [0.51562   , 0.48437998],\n",
       "       [0.51562   , 0.48437998],\n",
       "       [0.51562   , 0.48437998],\n",
       "       [0.51562   , 0.48437998],\n",
       "       [0.51562   , 0.48437998],\n",
       "       [0.51562   , 0.48437998],\n",
       "       [0.51562   , 0.48437998]], dtype=float32)"
      ]
     },
     "execution_count": 83,
     "metadata": {},
     "output_type": "execute_result"
    }
   ],
   "source": [
    "np.exp(onnx_output[0])"
   ]
  },
  {
   "cell_type": "code",
   "execution_count": null,
   "id": "2eb0c917",
   "metadata": {},
   "outputs": [],
   "source": []
  }
 ],
 "metadata": {
  "interpreter": {
   "hash": "0dc50badf6bcf34ee37feb4ddab24eb1b71716d96fc6cae89d10c22f5e3462c0"
  },
  "kernelspec": {
   "display_name": "Python 3.8.10 64-bit ('base': conda)",
   "name": "python3"
  },
  "language_info": {
   "codemirror_mode": {
    "name": "ipython",
    "version": 3
   },
   "file_extension": ".py",
   "mimetype": "text/x-python",
   "name": "python",
   "nbconvert_exporter": "python",
   "pygments_lexer": "ipython3",
   "version": "3.8.12"
  }
 },
 "nbformat": 4,
 "nbformat_minor": 5
}

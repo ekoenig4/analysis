{
 "cells": [
  {
   "cell_type": "code",
   "execution_count": 1,
   "metadata": {},
   "outputs": [],
   "source": [
    "%load_ext autoreload\n",
    "%autoreload 2\n",
    "\n",
    "import os\n",
    "os.environ['KMP_WARNINGS'] = 'off'\n",
    "import sys\n",
    "import git\n",
    "\n",
    "import uproot as ut\n",
    "import awkward as ak\n",
    "import numpy as np\n",
    "import math\n",
    "import vector\n",
    "import sympy as sp\n",
    "\n",
    "import re\n",
    "from tqdm import tqdm\n",
    "import timeit\n",
    "import re\n",
    "\n",
    "sys.path.append( git.Repo('.', search_parent_directories=True).working_tree_dir )\n",
    "from utils import *"
   ]
  },
  {
   "cell_type": "code",
   "execution_count": 15,
   "metadata": {},
   "outputs": [],
   "source": [
    "from utils.genprodUtils.generators import Generator\n",
    "from utils.genprodUtils.kinematics import two_body_decay, random_decay\n",
    "\n",
    "class Signal(Generator):\n",
    "\n",
    "    def __init__(self, m_x, m_y, **kwargs):\n",
    "        assert m_x > 2 * m_y , \"m_x must be greater than 2 * m_y\"\n",
    "        self.m_x , self.m_y = m_x, m_y\n",
    "\n",
    "        super().__init__(\n",
    "            dict(\n",
    "                pt=lambda n : np.random.lognormal(np.log(100), 1, n),\n",
    "                eta=lambda n : np.random.uniform(-2.5, 2.5, n),\n",
    "                phi=lambda n : np.random.uniform(-np.pi, np.pi, n),\n",
    "                mass=lambda n : np.random.normal(m_x, 0.1*m_x, n),\n",
    "            ),\n",
    "            **kwargs\n",
    "        )\n",
    "\n",
    "    def valid(self, event):\n",
    "        self.y = np.random.lognormal( np.log(self.m_y), 0.2, size=(len(event), 2) )\n",
    "        self.j = np.random.lognormal( np.log(10), 0.5, size=(len(event), 2, 2) )\n",
    "        mask = (event.mass > np.sum(self.y, axis=1)) & np.all( self.y > np.sum(self.j, axis=-1), axis=1 )\n",
    "\n",
    "        self.y = self.y[mask]\n",
    "        self.j = self.j[mask]\n",
    "\n",
    "        return mask\n",
    "\n",
    "    \n",
    "    def physics(self, event):\n",
    "        y1, y2 = two_body_decay(event, *self.y.T)\n",
    "\n",
    "        y1j1, y1j2 = two_body_decay(y1, *self.j[:,0].T)\n",
    "        y2j1, y2j2 = two_body_decay(y2, *self.j[:,1].T)\n",
    "\n",
    "        jet = ak.concatenate([ j[:,None] for j in [y1j1, y1j2, y2j1, y2j2] ], axis=1)\n",
    "        jet = jet[ak.argsort(-jet.pt, axis=1)]\n",
    "\n",
    "        return dict(\n",
    "            mx=np.ones(len(event)) * self.m_x,\n",
    "            my=np.ones(len(event)) * self.m_y,\n",
    "            class_label=np.ones(len(event)),\n",
    "            \n",
    "            jet_pt=jet.pt,\n",
    "            jet_eta=jet.eta,\n",
    "            jet_phi=jet.phi,\n",
    "            jet_m=jet.m,\n",
    "\n",
    "            y1_pt=y1.pt,\n",
    "            y1_eta=y1.eta,\n",
    "            y1_phi=y1.phi,\n",
    "            y1_m=y1.m,\n",
    "\n",
    "            y2_pt=y2.pt,\n",
    "            y2_eta=y2.eta,\n",
    "            y2_phi=y2.phi,\n",
    "            y2_m=y2.m,\n",
    "        )"
   ]
  },
  {
   "cell_type": "code",
   "execution_count": 16,
   "metadata": {},
   "outputs": [],
   "source": [
    "class Background(Generator):\n",
    "    def __init__(self, **kwargs):\n",
    "        super().__init__(\n",
    "            dict(\n",
    "                pt=lambda n : np.random.lognormal(np.log(100), 1, n),\n",
    "                eta=lambda n : np.random.uniform(-2.5, 2.5, n),\n",
    "                phi=lambda n : np.random.uniform(-np.pi, np.pi, n),\n",
    "                mass=lambda n : np.random.lognormal( np.log(400), 1, n),\n",
    "            ),\n",
    "            **kwargs\n",
    "        )\n",
    "\n",
    "    def valid(self, event):\n",
    "        self.y = np.random.lognormal( np.log(50), 1, size=(len(event), 2) )\n",
    "        self.j = np.random.lognormal( np.log(10), 0.5, size=(len(event), 2, 2) )\n",
    "        mask = (event.mass > np.sum(self.y, axis=1)) & np.all( self.y > np.sum(self.j, axis=-1), axis=1 )\n",
    "\n",
    "        self.y = self.y[mask]\n",
    "        self.j = self.j[mask]\n",
    "\n",
    "        return mask\n",
    "\n",
    "    def physics(self, event):\n",
    "        y1, y2 = two_body_decay(event, *self.y.T)\n",
    "\n",
    "        y1j1, y1j2 = two_body_decay(y1, *self.j[:,0].T)\n",
    "        y2j1, y2j2 = two_body_decay(y2, *self.j[:,1].T)\n",
    "\n",
    "        jet = ak.concatenate([ j[:,None] for j in [y1j1, y1j2, y2j1, y2j2] ], axis=1)\n",
    "        jet = jet[ak.argsort(-jet.pt, axis=1)]\n",
    "\n",
    "        return dict(\n",
    "            mx=np.ones(len(event)) * -1,\n",
    "            my=np.ones(len(event)) * -1,\n",
    "            class_label=np.zeros(len(event)),\n",
    "\n",
    "            jet_pt=jet.pt,\n",
    "            jet_eta=jet.eta,\n",
    "            jet_phi=jet.phi,\n",
    "            jet_m=jet.m,\n",
    "\n",
    "            y1_pt=y1.pt,\n",
    "            y1_eta=y1.eta,\n",
    "            y1_phi=y1.phi,\n",
    "            y1_m=y1.m,\n",
    "\n",
    "            y2_pt=y2.pt,\n",
    "            y2_eta=y2.eta,\n",
    "            y2_phi=y2.phi,\n",
    "            y2_m=y2.m,\n",
    "        )"
   ]
  },
  {
   "cell_type": "code",
   "execution_count": 17,
   "metadata": {},
   "outputs": [],
   "source": [
    "MX = np.arange(100, 1000, 50)\n",
    "MY = np.arange( 50,  500, 50)\n",
    "masses = np.stack(np.meshgrid(MX, MY), axis=-1).reshape(-1, 2)\n",
    "mask = masses[:,0] > 2 * masses[:,1]\n",
    "masses = masses[mask]\n",
    "gen_sig = { tuple(mass):Signal(*mass, name=f'mx{mass[0]}_my{mass[1]}') for mass in masses }\n",
    "efficiency = np.array([ gen.efficiency() for gen in gen_sig.values() ])"
   ]
  },
  {
   "cell_type": "code",
   "execution_count": 18,
   "metadata": {},
   "outputs": [
    {
     "data": {
      "text/plain": [
       "(<Figure size 650x650 with 2 Axes>,\n",
       " <Axes: >,\n",
       " <utils.plotUtils.graph2d.Graph2D at 0x14d70e6e3f10>)"
      ]
     },
     "execution_count": 18,
     "metadata": {},
     "output_type": "execute_result"
    },
    {
     "data": {
      "image/png": "[encoded data removed]",
      "text/plain": [
       "<Figure size 650x650 with 2 Axes>"
      ]
     },
     "metadata": {},
     "output_type": "display_data"
    }
   ],
   "source": [
    "graph2d_array(\n",
    "    *masses.T, efficiency, colorbar=True, interp=True,\n",
    ")"
   ]
  },
  {
   "cell_type": "code",
   "execution_count": 19,
   "metadata": {},
   "outputs": [],
   "source": [
    "gen_bkg = Background(name='bkg')"
   ]
  },
  {
   "cell_type": "code",
   "execution_count": 20,
   "metadata": {},
   "outputs": [],
   "source": [
    "import pickle \n",
    "\n",
    "def write_generator(generator : Generator, size=100, stage='training'):\n",
    "    ttree = generator(size=size)\n",
    "\n",
    "    \n",
    "\n",
    "    with open(f\"data/{stage}/{generator.name}.pkl\", 'wb') as f:\n",
    "        pickle.dump(ttree, f)\n",
    "\n"
   ]
  },
  {
   "cell_type": "code",
   "execution_count": 21,
   "metadata": {},
   "outputs": [],
   "source": [
    "!rm -f data/training/* data/testing/*"
   ]
  },
  {
   "cell_type": "code",
   "execution_count": 22,
   "metadata": {},
   "outputs": [
    {
     "name": "stderr",
     "output_type": "stream",
     "text": [
      "100%|██████████| 81/81 [00:28<00:00,  2.82it/s]\n",
      "100%|██████████| 81/81 [00:28<00:00,  2.87it/s]\n"
     ]
    }
   ],
   "source": [
    "import multiprocess as mp\n",
    "import functools as ft\n",
    "import utils.resources as rsc\n",
    "\n",
    "generators = list(gen_sig.values())\n",
    "\n",
    "with mp.Pool(4) as pool:\n",
    "    list(tqdm(pool.imap_unordered( ft.partial(write_generator, size=int(50000 // len(generators)), stage='training'), generators), total=len(generators)))\n",
    "write_generator(gen_bkg, size=50000, stage='training')\n",
    "\n",
    "\n",
    "with mp.Pool(4) as pool:\n",
    "    list(tqdm(pool.imap_unordered( ft.partial(write_generator, size=int(10000 // len(generators)), stage='testing'), generators), total=len(generators)))\n",
    "write_generator(gen_bkg, size=10000, stage='testing')"
   ]
  },
  {
   "cell_type": "code",
   "execution_count": 9,
   "metadata": {},
   "outputs": [
    {
     "name": "stdout",
     "output_type": "stream",
     "text": [
      "/home/ekoenig/analysis/studies\n"
     ]
    }
   ],
   "source": [
    "!pwd"
   ]
  },
  {
   "cell_type": "code",
   "execution_count": 10,
   "metadata": {},
   "outputs": [
    {
     "data": {
      "text/plain": [
       "<Array [167] type='1 * float64'>"
      ]
     },
     "execution_count": 10,
     "metadata": {},
     "output_type": "execute_result"
    }
   ],
   "source": [
    "gen_bkg().y2_m"
   ]
  }
 ],
 "metadata": {
  "kernelspec": {
   "display_name": "Python 3 (ipykernel)",
   "language": "python",
   "name": "python3"
  },
  "language_info": {
   "codemirror_mode": {
    "name": "ipython",
    "version": 3
   },
   "file_extension": ".py",
   "mimetype": "text/x-python",
   "name": "python",
   "nbconvert_exporter": "python",
   "pygments_lexer": "ipython3",
   "version": "3.10.8"
  },
  "orig_nbformat": 4
 },
 "nbformat": 4,
 "nbformat_minor": 2
}

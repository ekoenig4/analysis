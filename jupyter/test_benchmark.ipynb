{
 "cells": [
  {
   "cell_type": "code",
   "execution_count": 2,
   "id": "9bfa3b5a",
   "metadata": {},
   "outputs": [
    {
     "name": "stdout",
     "output_type": "stream",
     "text": [
      "The autoreload extension is already loaded. To reload it, use:\n",
      "  %reload_ext autoreload\n"
     ]
    }
   ],
   "source": [
    "%load_ext autoreload\n",
    "%autoreload 2\n",
    "\n",
    "import os\n",
    "os.environ['KMP_WARNINGS'] = 'off'\n",
    "import sys\n",
    "import git\n",
    "\n",
    "import uproot as ut\n",
    "import awkward as ak\n",
    "import numpy as np\n",
    "import math\n",
    "import vector\n",
    "import sympy as sp\n",
    "\n",
    "import re\n",
    "from tqdm import tqdm\n",
    "import timeit\n",
    "import re\n",
    "\n",
    "sys.path.append( git.Repo('.', search_parent_directories=True).working_tree_dir )\n",
    "from utils import *"
   ]
  },
  {
   "cell_type": "code",
   "execution_count": 3,
   "id": "6edca911",
   "metadata": {},
   "outputs": [],
   "source": [
    "%load_ext line_profiler\n",
    "%load_ext memory_profiler"
   ]
  },
  {
   "cell_type": "code",
   "execution_count": null,
   "id": "ccbb777c",
   "metadata": {},
   "outputs": [],
   "source": []
  },
  {
   "cell_type": "code",
   "execution_count": 27,
   "id": "40678dec",
   "metadata": {},
   "outputs": [
    {
     "data": {
      "text/plain": [
       "['/eos/uscms/store/user/ekoenig/8BAnalysis/NTuples/2018/preselection/ranked_quadh_lowm/NMSSM_XYY_YToHH_8b/NMSSM_XYY_YToHH_8b_MX_700_MY_300_accstudies.root',\n",
       " '/eos/uscms/store/user/ekoenig/8BAnalysis/NTuples/2018/preselection/ranked_quadh_lowm/NMSSM_XYY_YToHH_8b/NMSSM_XYY_YToHH_8b_MX_800_MY_300_accstudies.root',\n",
       " '/eos/uscms/store/user/ekoenig/8BAnalysis/NTuples/2018/preselection/ranked_quadh_lowm/NMSSM_XYY_YToHH_8b/NMSSM_XYY_YToHH_8b_MX_800_MY_350_accstudies.root',\n",
       " '/eos/uscms/store/user/ekoenig/8BAnalysis/NTuples/2018/preselection/ranked_quadh_lowm/NMSSM_XYY_YToHH_8b/NMSSM_XYY_YToHH_8b_MX_900_MY_300_accstudies.root',\n",
       " '/eos/uscms/store/user/ekoenig/8BAnalysis/NTuples/2018/preselection/ranked_quadh_lowm/NMSSM_XYY_YToHH_8b/NMSSM_XYY_YToHH_8b_MX_900_MY_400_accstudies.root',\n",
       " '/eos/uscms/store/user/ekoenig/8BAnalysis/NTuples/2018/preselection/ranked_quadh_lowm/NMSSM_XYY_YToHH_8b/NMSSM_XYY_YToHH_8b_MX_1000_MY_300_accstudies.root',\n",
       " '/eos/uscms/store/user/ekoenig/8BAnalysis/NTuples/2018/preselection/ranked_quadh_lowm/NMSSM_XYY_YToHH_8b/NMSSM_XYY_YToHH_8b_MX_1000_MY_450_accstudies.root',\n",
       " '/eos/uscms/store/user/ekoenig/8BAnalysis/NTuples/2018/preselection/ranked_quadh_lowm/NMSSM_XYY_YToHH_8b/NMSSM_XYY_YToHH_8b_MX_1200_MY_500_accstudies.root']"
      ]
     },
     "execution_count": 27,
     "metadata": {},
     "output_type": "execute_result"
    }
   ],
   "source": [
    "fc.eightb.preselection.ranked_quadh_lowm.signal_list"
   ]
  },
  {
   "cell_type": "code",
   "execution_count": null,
   "id": "37b5ede9",
   "metadata": {},
   "outputs": [],
   "source": []
  },
  {
   "cell_type": "code",
   "execution_count": 6,
   "id": "02c90fe1",
   "metadata": {},
   "outputs": [
    {
     "name": "stderr",
     "output_type": "stream",
     "text": [
      "100%|██████████| 17/17 [00:05<00:00,  2.95it/s]\n"
     ]
    }
   ],
   "source": [
    "# %%memit\n",
    "bkg = Tree(fc.eightb.preselection_ranked_quadh_multim.Bkg_MC_List)"
   ]
  },
  {
   "cell_type": "code",
   "execution_count": null,
   "id": "4ff73191",
   "metadata": {},
   "outputs": [],
   "source": []
  },
  {
   "cell_type": "code",
   "execution_count": 6,
   "id": "ab75a0ab",
   "metadata": {},
   "outputs": [
    {
     "data": {
      "text/plain": [
       "False"
      ]
     },
     "execution_count": 6,
     "metadata": {},
     "output_type": "execute_result"
    }
   ],
   "source": [
    "'LHEPdfWeight_var33' in bkg.fields"
   ]
  },
  {
   "cell_type": "code",
   "execution_count": null,
   "id": "bd5ea22e",
   "metadata": {},
   "outputs": [
    {
     "data": {
      "text/plain": [
       "['LHEPdfWeight_var33']"
      ]
     },
     "execution_count": 12,
     "metadata": {},
     "output_type": "execute_result"
    }
   ],
   "source": [
    "[f for f in bkg.fields if f == 'LHEPdfWeight_var33']"
   ]
  },
  {
   "cell_type": "code",
   "execution_count": 17,
   "id": "d52c7562",
   "metadata": {},
   "outputs": [
    {
     "data": {
      "text/plain": [
       "['jet_E',\n",
       " 'LHEPdfWeight_var25',\n",
       " 'LHEPdfWeight_var17',\n",
       " 'jet_btag',\n",
       " 'LHEPdfWeight_var26',\n",
       " 'H1Y1_score',\n",
       " 'mu_1_eta',\n",
       " 'H2Y2_pt',\n",
       " 'H1Y1_b1_phi',\n",
       " 'H2Y1_b2_ptRegressed',\n",
       " 'PSWeight_var3',\n",
       " 'H2Y1_phi',\n",
       " 'H2Y1_b2_mRegressed',\n",
       " 'H2Y2_b2_btag',\n",
       " 'n_genjet',\n",
       " 'PUWeight_up',\n",
       " 'mu_1_m',\n",
       " 'H1Y2_b1_ptRegressed',\n",
       " 'H1Y1_b2_m',\n",
       " 'dijet_dr',\n",
       " 'H1Y2_b2_pt',\n",
       " 'H1Y2_b2_mRegressed',\n",
       " 'PSWeight_var0',\n",
       " 'LHEPdfWeight_var2',\n",
       " 'H2Y1_b2_eta',\n",
       " 'ele_2_eta',\n",
       " 'genjet_m',\n",
       " 'dijet_j1Idx',\n",
       " 'H2Y1_b1_btag',\n",
       " 'LHEPdfWeight_var10',\n",
       " 'LHEScaleWeight_var8',\n",
       " 'jet_puid',\n",
       " 'Run',\n",
       " 'H1Y1_b2_pt',\n",
       " 'H2Y1_eta',\n",
       " 'H1Y2_b2_eta',\n",
       " 'H2Y2_b2_ptRegressed',\n",
       " 'dijet_phi',\n",
       " 'jet_m',\n",
       " 'ele_2_phi',\n",
       " 'H2Y1_b2_score',\n",
       " 'LHEPdfWeight_var32',\n",
       " 'H1Y1_phi',\n",
       " 'H1Y1_b2_mRegressed',\n",
       " 'aplanarity',\n",
       " 'b_6j_score',\n",
       " 'jet_phi',\n",
       " 'n_true_int',\n",
       " 'genjet_phi',\n",
       " 'X_pt',\n",
       " 'LHEPdfWeight_var18',\n",
       " 'H1Y2_b2_m',\n",
       " 'LHEPdfWeight_var20',\n",
       " 'LHEPdfWeight_var7',\n",
       " 'H1Y1_pt',\n",
       " 'LHEPdfWeight_var16',\n",
       " 'jet_eta',\n",
       " 'Y2_eta',\n",
       " 'rhofastjet_all',\n",
       " 'H1Y1_eta',\n",
       " 'H1Y2_eta',\n",
       " 'H1Y1_b2_phi',\n",
       " 'H2Y2_m',\n",
       " 'H1Y1_b1_mRegressed',\n",
       " 'H2Y2_b1_pt',\n",
       " 'LHEPdfWeight_var3',\n",
       " 'H1Y1_m',\n",
       " 'H2Y1_b1_mRegressed',\n",
       " 'H1Y2_b1_eta',\n",
       " 'jet_mRegressed',\n",
       " 'mu_2_m',\n",
       " 'Y1_eta',\n",
       " 'H2Y2_b2_pt',\n",
       " 'H1Y1_b2_ptRegressed',\n",
       " 'LHEPdfWeight_var12',\n",
       " 'n_dijet',\n",
       " 'H2Y2_b1_btag',\n",
       " 'genjet_hadronFlav',\n",
       " 'LHEPdfWeight_var22',\n",
       " 'H1Y1_b1_m',\n",
       " 'H1Y2_b1_phi',\n",
       " 'LHEPdfWeight_var4',\n",
       " 'H1Y1_b2_btag',\n",
       " 'mu_2_eta',\n",
       " 'LHEPdfWeight_var11',\n",
       " 'H2Y1_m',\n",
       " 'jet_qgl',\n",
       " 'LHEPdfWeight_var5',\n",
       " 'LHEPdfWeight_var27',\n",
       " 'LHEScaleWeight_var1',\n",
       " 'n_mu_loose',\n",
       " 'LHEPdfWeight_var29',\n",
       " 'H1Y2_b1_m',\n",
       " 'genjet_partonFlav',\n",
       " 'dijet_pt',\n",
       " 'X_eta',\n",
       " 'PUWeight',\n",
       " 'LHEPdfWeight_var31',\n",
       " 'H2Y1_b1_ptRegressed',\n",
       " 'n_ele_loose',\n",
       " 'H1Y2_m',\n",
       " 'genjet_eta',\n",
       " 'n_other_pv',\n",
       " 'btagSF_WP_M',\n",
       " 'H2Y1_pt',\n",
       " 'H1Y2_phi',\n",
       " 'LHEPdfWeight_var14',\n",
       " 'H2Y2_b2_eta',\n",
       " 'jet_genIdx',\n",
       " 'LHEPdfWeight_var13',\n",
       " 'LHEScaleWeight_var4',\n",
       " 'PSWeight',\n",
       " 'LHEPdfWeight_var0',\n",
       " 'LHEPdfWeight_var6',\n",
       " 'H2Y2_b2_score',\n",
       " 'H2Y2_b1_m',\n",
       " 'H2Y1_b1_phi',\n",
       " 'sphericity',\n",
       " 'ele_2_pt',\n",
       " 'PSWeight_var2',\n",
       " 'H1Y2_score',\n",
       " 'H1Y2_b2_btag',\n",
       " 'H2Y2_eta',\n",
       " 'ele_1_eta',\n",
       " 'LHEPdfWeight_var9',\n",
       " 'LHEPdfWeight_var28',\n",
       " 'H2Y1_b2_m',\n",
       " 'mu_2_pt',\n",
       " 'LHEPdfWeight_var23',\n",
       " 'Y1_phi',\n",
       " 'Y2_phi',\n",
       " 'H2Y1_b2_pt',\n",
       " 'H2Y2_phi',\n",
       " 'LHEPdfWeight_var15',\n",
       " 'H1Y1_b1_pt',\n",
       " 'Y2_m',\n",
       " 'LHEPdfWeight_var30',\n",
       " 'ele_1_phi',\n",
       " 'LHEScaleWeight_var7',\n",
       " 'LumiSec',\n",
       " 'LHEPdfWeight_var19',\n",
       " 'H2Y2_b2_m',\n",
       " 'H2Y2_score',\n",
       " 'H2Y2_b1_ptRegressed',\n",
       " 'X_phi',\n",
       " 'ele_2_m',\n",
       " 'jet_ptRegressed',\n",
       " 'H2Y1_b1_m',\n",
       " 'LHEPdfWeight_var8',\n",
       " 'H1Y1_b2_score',\n",
       " 'H2Y2_b1_mRegressed',\n",
       " 'jet_id',\n",
       " 'genjet_E',\n",
       " 'LHEScaleWeight_var6',\n",
       " 'H2Y1_b1_eta',\n",
       " 'sphericity_t',\n",
       " 'PUWeight_down',\n",
       " 'H2Y1_b1_score',\n",
       " 'mu_2_phi',\n",
       " 'n_total_jet',\n",
       " 'dijet_m',\n",
       " 'ele_1_pt',\n",
       " 'n_pu',\n",
       " 'H1Y2_b1_pt',\n",
       " 'H2Y1_b2_phi',\n",
       " 'jet_pt',\n",
       " 'n_jet',\n",
       " 'H1Y1_b1_btag',\n",
       " 'mu_1_pt',\n",
       " 'Y1_m',\n",
       " 'H2Y2_b2_mRegressed',\n",
       " 'jet_signalId',\n",
       " 'LHEScaleWeight_var0',\n",
       " 'H1Y2_b2_score',\n",
       " 'jet_higgsIdx',\n",
       " 'LHEScaleWeight_var5',\n",
       " 'genjet_pt',\n",
       " 'H1Y2_b1_btag',\n",
       " 'PSWeight_var1',\n",
       " 'H2Y2_b1_eta',\n",
       " 'H1Y1_b1_ptRegressed',\n",
       " 'H1Y2_pt',\n",
       " 'H2Y2_b2_phi',\n",
       " 'H1Y2_b2_phi',\n",
       " 'Y2_pt',\n",
       " 'LHEPdfWeight',\n",
       " 'dijet_j2Idx',\n",
       " 'LHEPdfWeight_var21',\n",
       " 'H2Y1_b1_pt',\n",
       " 'dijet_score',\n",
       " 'H1Y2_b1_score',\n",
       " 'dijet_eta',\n",
       " 'H1Y1_b1_eta',\n",
       " 'LHEScaleWeight_var2',\n",
       " 'genjet_signalId',\n",
       " 'lhe_ht',\n",
       " 'genWeight',\n",
       " 'H2Y1_b2_btag',\n",
       " 'LHEScaleWeight_var3',\n",
       " 'H1Y2_b1_mRegressed',\n",
       " 'LHEScaleWeight',\n",
       " 'Y1_pt',\n",
       " 'H1Y2_b2_ptRegressed',\n",
       " 'Event',\n",
       " 'H1Y1_b2_eta',\n",
       " 'dijet_signalId',\n",
       " 'H1Y1_b1_score',\n",
       " 'LHEPdfWeight_var24',\n",
       " 'LHEPdfWeight_var1',\n",
       " 'H2Y2_b1_phi',\n",
       " 'ele_1_m',\n",
       " 'H2Y2_b1_score',\n",
       " 'X_m',\n",
       " 'genjet_recoIdx',\n",
       " 'H2Y1_score',\n",
       " 'mu_1_phi']"
      ]
     },
     "execution_count": 17,
     "metadata": {},
     "output_type": "execute_result"
    }
   ],
   "source": []
  }
 ],
 "metadata": {
  "interpreter": {
   "hash": "ccf27ce045abf7037cf87b0dec14c0df6afa83e68308463df923fd2d6aeee0ca"
  },
  "kernelspec": {
   "display_name": "Python 3.9.13 ('base')",
   "language": "python",
   "name": "python3"
  },
  "language_info": {
   "codemirror_mode": {
    "name": "ipython",
    "version": 3
   },
   "file_extension": ".py",
   "mimetype": "text/x-python",
   "name": "python",
   "nbconvert_exporter": "python",
   "pygments_lexer": "ipython3",
   "version": "3.9.13"
  }
 },
 "nbformat": 4,
 "nbformat_minor": 5
}

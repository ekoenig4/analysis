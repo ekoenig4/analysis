{
 "cells": [
  {
   "cell_type": "code",
   "execution_count": 1,
   "id": "9bfa3b5a",
   "metadata": {},
   "outputs": [],
   "source": [
    "%load_ext autoreload\n",
    "%autoreload 2\n",
    "\n",
    "import os\n",
    "os.environ['KMP_WARNINGS'] = 'off'\n",
    "import sys\n",
    "import git\n",
    "\n",
    "import uproot as ut\n",
    "import awkward as ak\n",
    "import numpy as np\n",
    "import math\n",
    "import vector\n",
    "import sympy as sp\n",
    "\n",
    "import re\n",
    "from tqdm import tqdm\n",
    "import timeit\n",
    "import re\n",
    "\n",
    "sys.path.append( git.Repo('.', search_parent_directories=True).working_tree_dir )\n",
    "from utils import *"
   ]
  },
  {
   "cell_type": "code",
   "execution_count": 2,
   "id": "6edca911",
   "metadata": {},
   "outputs": [],
   "source": [
    "%load_ext line_profiler\n",
    "%load_ext memory_profiler"
   ]
  },
  {
   "cell_type": "code",
   "execution_count": 3,
   "id": "872d10d8",
   "metadata": {},
   "outputs": [],
   "source": [
    "from utils.classUtils.Analysis import dependency, required, MethodDependency"
   ]
  },
  {
   "cell_type": "code",
   "execution_count": 4,
   "id": "c4e20e9f",
   "metadata": {},
   "outputs": [],
   "source": [
    "class test_analysis(Analysis):\n",
    "\n",
    "    def func_a(self):\n",
    "        self.a = 0\n",
    "\n",
    "    @required\n",
    "    def func_b(self):\n",
    "        self.b = self.a + 10\n",
    "\n",
    "    @dependency(func_a)\n",
    "    def plot_a(self):\n",
    "        print('a =',self.a+0)\n",
    "\n",
    "    @dependency(func_a, func_b)\n",
    "    def calc_c(self):\n",
    "        self.c = self.a + self.b \n",
    "\n",
    "    @dependency(calc_c)\n",
    "    def plot_c(self):\n",
    "        print(self.c)\n"
   ]
  },
  {
   "cell_type": "code",
   "execution_count": 5,
   "id": "9f61e060",
   "metadata": {},
   "outputs": [
    {
     "data": {
      "text/plain": [
       "defaultdict(<function utils.classUtils.Analysis.MethodDependency.<lambda>()>,\n",
       "            {'eightb_analysis_v2': defaultdict(list,\n",
       "                         {'_plot_unassigned_higgs_m': ['build_higgs_dm'],\n",
       "                          'plot_assigned_higgs_m': ['build_higgs_dm'],\n",
       "                          'plot_y_higgs_m': ['build_higgs_dm'],\n",
       "                          'plot_abcd_variables': ['build_higgs_dm'],\n",
       "                          'build_abcd': ['build_higgs_dm'],\n",
       "                          'plot_abcd_regions': ['build_abcd'],\n",
       "                          'plot_vr_datamc': ['build_abcd'],\n",
       "                          'train_vr_bdt': ['build_abcd'],\n",
       "                          'train_ar_bdt': ['build_abcd'],\n",
       "                          'calc_limits': ['train_ar_bdt'],\n",
       "                          'calc_brazil': ['train_ar_bdt']}),\n",
       "             'test_analysis': defaultdict(list,\n",
       "                         {'plot_a': ['func_a'],\n",
       "                          'calc_c': ['func_a', 'func_b'],\n",
       "                          'plot_c': ['calc_c']})})"
      ]
     },
     "execution_count": 5,
     "metadata": {},
     "output_type": "execute_result"
    }
   ],
   "source": [
    "MethodDependency._dependency_graphs"
   ]
  },
  {
   "cell_type": "code",
   "execution_count": 6,
   "id": "8ab09905",
   "metadata": {},
   "outputs": [],
   "source": [
    "runlist = ['plot_c']"
   ]
  },
  {
   "cell_type": "code",
   "execution_count": 8,
   "id": "093ffa07",
   "metadata": {},
   "outputs": [
    {
     "data": {
      "text/plain": [
       "Analysis: test_analysis\n",
       "<MethodList\n",
       "    0: <[\u001b[34mpending \u001b[0m] func_a>\n",
       "    1: <[\u001b[34mpending \u001b[0m] func_b>\n",
       "    2: <[\u001b[31mdisabled\u001b[0m] plot_a>\n",
       "    3: <[\u001b[34mpending \u001b[0m] calc_c>\n",
       "    4: <[\u001b[34mpending \u001b[0m] plot_c>\n",
       ">"
      ]
     },
     "execution_count": 8,
     "metadata": {},
     "output_type": "execute_result"
    }
   ],
   "source": [
    "analysis = test_analysis(runlist=runlist)\n",
    "analysis"
   ]
  },
  {
   "cell_type": "code",
   "execution_count": 9,
   "id": "9a363140",
   "metadata": {},
   "outputs": [
    {
     "data": {
      "text/plain": [
       "defaultdict(list, {})"
      ]
     },
     "execution_count": 9,
     "metadata": {},
     "output_type": "execute_result"
    }
   ],
   "source": [
    "analysis.dependency.dependency_graph"
   ]
  },
  {
   "cell_type": "code",
   "execution_count": 7,
   "id": "d07d3d89",
   "metadata": {},
   "outputs": [],
   "source": [
    "method_list = analysis.methods.keys\n",
    "required_graph = MethodDependency.get_required(test_analysis)\n",
    "dependency_graph = MethodDependency.get_dependency(test_analysis)"
   ]
  },
  {
   "cell_type": "code",
   "execution_count": 8,
   "id": "281cf6d9",
   "metadata": {},
   "outputs": [],
   "source": [
    "\n",
    "def f7(seq):\n",
    "    seen = set()\n",
    "    seen_add = seen.add\n",
    "    return [x for x in seq if not (x in seen or seen_add(x))]"
   ]
  },
  {
   "cell_type": "code",
   "execution_count": 12,
   "id": "ace2fac9",
   "metadata": {},
   "outputs": [],
   "source": [
    "for required in required_graph:\n",
    "    idx = method_list.index(required)\n",
    "    for method in method_list[idx+1:]:\n",
    "        dependency_graph[method] = f7(dependency_graph[method] + [required])\n",
    "\n",
    "for method, dependency in dependency_graph.items():\n",
    "    dependency_graph[method] = sorted(dependency, key=method_list.index)"
   ]
  },
  {
   "cell_type": "code",
   "execution_count": 13,
   "id": "21c7a6d5",
   "metadata": {},
   "outputs": [
    {
     "data": {
      "text/plain": [
       "defaultdict(list,\n",
       "            {'plot_a': ['func_a', 'func_b'],\n",
       "             'calc_c': ['func_a', 'func_b'],\n",
       "             'plot_c': ['func_b', 'calc_c']})"
      ]
     },
     "execution_count": 13,
     "metadata": {},
     "output_type": "execute_result"
    }
   ],
   "source": [
    "dependency_graph"
   ]
  },
  {
   "cell_type": "code",
   "execution_count": 14,
   "id": "e17eda9e",
   "metadata": {},
   "outputs": [
    {
     "ename": "AttributeError",
     "evalue": "'function' object has no attribute 'build_runlist'",
     "output_type": "error",
     "traceback": [
      "\u001b[0;31m---------------------------------------------------------------------------\u001b[0m",
      "\u001b[0;31mAttributeError\u001b[0m                            Traceback (most recent call last)",
      "Cell \u001b[0;32mIn [14], line 1\u001b[0m\n\u001b[0;32m----> 1\u001b[0m \u001b[43manalysis\u001b[49m\u001b[38;5;241;43m.\u001b[39;49m\u001b[43mrun\u001b[49m\u001b[43m(\u001b[49m\u001b[43mrunlist\u001b[49m\u001b[43m)\u001b[49m\n",
      "File \u001b[0;32m/uscms_data/d3/ekoenig/8BAnalysis/studies/eightbStudies/utils/classUtils/Analysis.py:175\u001b[0m, in \u001b[0;36mAnalysis.run\u001b[0;34m(self, runlist, **kwargs)\u001b[0m\n\u001b[1;32m    <a href='file:///uscms_data/d3/ekoenig/8BAnalysis/studies/eightbStudies/utils/classUtils/Analysis.py?line=172'>173</a>\u001b[0m \u001b[39mif\u001b[39;00m runlist \u001b[39mis\u001b[39;00m \u001b[39mNone\u001b[39;00m: \n\u001b[1;32m    <a href='file:///uscms_data/d3/ekoenig/8BAnalysis/studies/eightbStudies/utils/classUtils/Analysis.py?line=173'>174</a>\u001b[0m     runlist \u001b[39m=\u001b[39m [ key \u001b[39mfor\u001b[39;00m key,method \u001b[39min\u001b[39;00m \u001b[39mself\u001b[39m\u001b[39m.\u001b[39mmethods\u001b[39m.\u001b[39mitems() \u001b[39mif\u001b[39;00m \u001b[39mnot\u001b[39;00m method\u001b[39m.\u001b[39mdisable ]\n\u001b[0;32m--> <a href='file:///uscms_data/d3/ekoenig/8BAnalysis/studies/eightbStudies/utils/classUtils/Analysis.py?line=174'>175</a>\u001b[0m runlist \u001b[39m=\u001b[39m \u001b[39mself\u001b[39;49m\u001b[39m.\u001b[39;49mbuild_runlist(runlist)\n\u001b[1;32m    <a href='file:///uscms_data/d3/ekoenig/8BAnalysis/studies/eightbStudies/utils/classUtils/Analysis.py?line=176'>177</a>\u001b[0m \u001b[39mfor\u001b[39;00m i, (key, method) \u001b[39min\u001b[39;00m \u001b[39menumerate\u001b[39m(\u001b[39mself\u001b[39m\u001b[39m.\u001b[39mmethods\u001b[39m.\u001b[39mitems()): \n\u001b[1;32m    <a href='file:///uscms_data/d3/ekoenig/8BAnalysis/studies/eightbStudies/utils/classUtils/Analysis.py?line=177'>178</a>\u001b[0m     \u001b[39mif\u001b[39;00m key \u001b[39mnot\u001b[39;00m \u001b[39min\u001b[39;00m runlist: \n",
      "File \u001b[0;32m/uscms_data/d3/ekoenig/8BAnalysis/studies/eightbStudies/utils/classUtils/Analysis.py:200\u001b[0m, in \u001b[0;36mAnalysis.build_runlist\u001b[0;34m(cls, runlist)\u001b[0m\n\u001b[1;32m    <a href='file:///uscms_data/d3/ekoenig/8BAnalysis/studies/eightbStudies/utils/classUtils/Analysis.py?line=197'>198</a>\u001b[0m \u001b[39m@classmethod\u001b[39m\n\u001b[1;32m    <a href='file:///uscms_data/d3/ekoenig/8BAnalysis/studies/eightbStudies/utils/classUtils/Analysis.py?line=198'>199</a>\u001b[0m \u001b[39mdef\u001b[39;00m \u001b[39mbuild_runlist\u001b[39m(\u001b[39mcls\u001b[39m, runlist):\n\u001b[0;32m--> <a href='file:///uscms_data/d3/ekoenig/8BAnalysis/studies/eightbStudies/utils/classUtils/Analysis.py?line=199'>200</a>\u001b[0m     \u001b[39mreturn\u001b[39;00m dependency\u001b[39m.\u001b[39;49mbuild_runlist(\u001b[39mcls\u001b[39m\u001b[39m.\u001b[39m\u001b[39m__name__\u001b[39m, runlist)\n",
      "\u001b[0;31mAttributeError\u001b[0m: 'function' object has no attribute 'build_runlist'"
     ]
    }
   ],
   "source": [
    "analysis.run(runlist)"
   ]
  },
  {
   "cell_type": "code",
   "execution_count": null,
   "id": "73a82be8",
   "metadata": {},
   "outputs": [],
   "source": []
  }
 ],
 "metadata": {
  "interpreter": {
   "hash": "99d8ad6568882febb6ca5d1c2307614594cf6684ed0ce2b9f63bf31341fdb3d5"
  },
  "kernelspec": {
   "display_name": "Python 3.9.0 ('py-env')",
   "language": "python",
   "name": "python3"
  },
  "language_info": {
   "codemirror_mode": {
    "name": "ipython",
    "version": 3
   },
   "file_extension": ".py",
   "mimetype": "text/x-python",
   "name": "python",
   "nbconvert_exporter": "python",
   "pygments_lexer": "ipython3",
   "version": "3.9.15"
  }
 },
 "nbformat": 4,
 "nbformat_minor": 5
}

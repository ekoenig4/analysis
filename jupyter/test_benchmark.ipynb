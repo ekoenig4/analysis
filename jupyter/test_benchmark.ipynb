{
 "cells": [
  {
   "cell_type": "code",
   "execution_count": 1,
   "id": "9bfa3b5a",
   "metadata": {},
   "outputs": [],
   "source": [
    "%load_ext autoreload\n",
    "%autoreload 2\n",
    "\n",
    "import os\n",
    "os.environ['KMP_WARNINGS'] = 'off'\n",
    "import sys\n",
    "import git\n",
    "\n",
    "import uproot as ut\n",
    "import awkward as ak\n",
    "import numpy as np\n",
    "import math\n",
    "import vector\n",
    "import sympy as sp\n",
    "\n",
    "import re\n",
    "from tqdm import tqdm\n",
    "import timeit\n",
    "import re\n",
    "\n",
    "sys.path.append( git.Repo('.', search_parent_directories=True).working_tree_dir )\n",
    "from utils import *"
   ]
  },
  {
   "cell_type": "code",
   "execution_count": 2,
   "id": "6edca911",
   "metadata": {},
   "outputs": [],
   "source": [
    "%load_ext line_profiler\n",
    "%load_ext memory_profiler"
   ]
  },
  {
   "cell_type": "code",
   "execution_count": 4,
   "id": "c011f28e",
   "metadata": {},
   "outputs": [],
   "source": [
    "path = \"/uscms/home/srosenzw/nobackup/workarea/higgs/sixb_analysis/CMSSW_10_6_19_patch2/src/sixb/\"\n",
    "# bkg_est_vsr = up.open('ml/gnn/data_vsr.root')\n",
    "bkg_vsr = ut.open(path+'ml/gnn/data_vr.root')\n",
    "signal_vsr = ut.open(path+'ml/gnn/signal_vsr.root')\n",
    "\n",
    "h_signal_vsr = signal_vsr['signal']\n",
    "h_data_vsr_exp = bkg_vsr['data_exp']\n",
    "h_data_vsr_obs = bkg_vsr['data_obs_obs']"
   ]
  },
  {
   "cell_type": "code",
   "execution_count": 5,
   "id": "fd679713",
   "metadata": {},
   "outputs": [],
   "source": [
    "def to_histo(th1d):\n",
    "    histo, bins = th1d.to_numpy()\n",
    "    h = Histo(bins[:-1], bins, weights=histo)\n",
    "    h.error = th1d.errors()\n",
    "    return h"
   ]
  },
  {
   "cell_type": "code",
   "execution_count": 6,
   "id": "59f322b1",
   "metadata": {},
   "outputs": [],
   "source": [
    "h_sig = to_histo(h_signal_vsr)\n",
    "h_bkg = to_histo(h_data_vsr_exp)\n",
    "h_data = to_histo(h_data_vsr_obs)"
   ]
  },
  {
   "cell_type": "code",
   "execution_count": 7,
   "id": "a36a0f2d",
   "metadata": {},
   "outputs": [],
   "source": [
    "h_sig.kwargs.update(color='red',histtype='step')\n",
    "h_data.kwargs.update(color='black',marker='o',linestyle=None)"
   ]
  },
  {
   "cell_type": "code",
   "execution_count": 8,
   "id": "6a12fd6b",
   "metadata": {},
   "outputs": [
    {
     "data": {
      "text/plain": [
       "(<Figure size 432x288 with 1 Axes>, <AxesSubplot:>)"
      ]
     },
     "execution_count": 8,
     "metadata": {},
     "output_type": "execute_result"
    },
    {
     "data": {
      "image/png": "[encoded data removed]",
      "text/plain": [
       "<Figure size 432x288 with 1 Axes>"
      ]
     },
     "metadata": {
      "needs_background": "light"
     },
     "output_type": "display_data"
    }
   ],
   "source": [
    "plot_histo(h_sig, errors=False)\n",
    "plot_histo(h_bkg,figax='same')\n",
    "graph_histo(h_data, figax='same')"
   ]
  },
  {
   "cell_type": "code",
   "execution_count": 9,
   "id": "67660bd3",
   "metadata": {},
   "outputs": [
    {
     "name": "stderr",
     "output_type": "stream",
     "text": [
      "WARNING:absl:No GPU/TPU found, falling back to CPU. (Set TF_CPP_MIN_LOG_LEVEL=0 and rerun for more info.)\n"
     ]
    }
   ],
   "source": [
    "model = Model(h_sig, h_bkg, h_data)"
   ]
  },
  {
   "cell_type": "code",
   "execution_count": 10,
   "id": "e683d289",
   "metadata": {},
   "outputs": [
    {
     "data": {
      "text/plain": [
       "(DeviceArray(0.04087568, dtype=float64),\n",
       " [DeviceArray(0.06716246, dtype=float64),\n",
       "  DeviceArray(0.09012674, dtype=float64),\n",
       "  DeviceArray(0.12531029, dtype=float64),\n",
       "  DeviceArray(0.17454751, dtype=float64),\n",
       "  DeviceArray(0.22467399, dtype=float64)])"
      ]
     },
     "execution_count": 10,
     "metadata": {},
     "output_type": "execute_result"
    }
   ],
   "source": [
    "model.upperlimit()"
   ]
  },
  {
   "cell_type": "code",
   "execution_count": 11,
   "id": "16cd99e2",
   "metadata": {},
   "outputs": [
    {
     "name": "stdout",
     "output_type": "stream",
     "text": [
      "Welcome to JupyROOT 6.24/06\n",
      "Norm: 0.11233699595280586\n"
     ]
    }
   ],
   "source": [
    "model.export_to_root('sixb_test.root')"
   ]
  },
  {
   "cell_type": "code",
   "execution_count": 12,
   "id": "803ffe90",
   "metadata": {},
   "outputs": [
    {
     "name": "stdout",
     "output_type": "stream",
     "text": [
      "/uscms_data/d3/ekoenig/8BAnalysis/studies/sixbStudies/jupyter/sixb_test.root\n"
     ]
    }
   ],
   "source": [
    "!readlink -f sixb_test.root"
   ]
  }
 ],
 "metadata": {
  "interpreter": {
   "hash": "99d8ad6568882febb6ca5d1c2307614594cf6684ed0ce2b9f63bf31341fdb3d5"
  },
  "kernelspec": {
   "display_name": "Python 3.9.0 ('py-env')",
   "language": "python",
   "name": "python3"
  },
  "language_info": {
   "codemirror_mode": {
    "name": "ipython",
    "version": 3
   },
   "file_extension": ".py",
   "mimetype": "text/x-python",
   "name": "python",
   "nbconvert_exporter": "python",
   "pygments_lexer": "ipython3",
   "version": "3.9.13"
  }
 },
 "nbformat": 4,
 "nbformat_minor": 5
}

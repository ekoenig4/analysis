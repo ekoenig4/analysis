{
 "cells": [
  {
   "cell_type": "code",
   "execution_count": 1,
   "id": "fff36497",
   "metadata": {},
   "outputs": [
    {
     "name": "stdout",
     "output_type": "stream",
     "text": [
      "c1007a-s35.ufhpc\n"
     ]
    }
   ],
   "source": [
    "!hostname"
   ]
  },
  {
   "cell_type": "code",
   "execution_count": 2,
   "id": "9bfa3b5a",
   "metadata": {},
   "outputs": [],
   "source": [
    "%load_ext autoreload\n",
    "%autoreload 2\n",
    "\n",
    "import os\n",
    "os.environ['KMP_WARNINGS'] = 'off'\n",
    "import sys\n",
    "import git\n",
    "\n",
    "import uproot as ut\n",
    "import awkward as ak\n",
    "import numpy as np\n",
    "import math\n",
    "import vector\n",
    "import sympy as sp\n",
    "\n",
    "import re\n",
    "from tqdm import tqdm\n",
    "import timeit\n",
    "import re\n",
    "\n",
    "sys.path.append( git.Repo('.', search_parent_directories=True).working_tree_dir )\n",
    "from utils import *"
   ]
  },
  {
   "cell_type": "code",
   "execution_count": 13,
   "id": "895aea37",
   "metadata": {},
   "outputs": [
    {
     "name": "stderr",
     "output_type": "stream",
     "text": [
      "  0%|                                                     | 0/1 [00:00<?, ?it/s]"
     ]
    },
    {
     "name": "stdout",
     "output_type": "stream",
     "text": [
      "Using local path: /cmsuf/data/store/user/ekoenig/eos/user/e/ekoenig/Ntuples/NanoHH4b/run2/mindiag_2018_0L/mc/ggHH4b_tree.root\n"
     ]
    },
    {
     "name": "stderr",
     "output_type": "stream",
     "text": [
      "100%|█████████████████████████████████████████████| 1/1 [00:01<00:00,  1.16s/it]\n"
     ]
    }
   ],
   "source": [
    "\n",
    "treekwargs = dict(\n",
    "    weights=['xsecWeight/1000','genWeight','puWeight'],\n",
    "    treename='Events',\n",
    "    normalization=None,\n",
    ")\n",
    "\n",
    "base = f'/eos/user/e/ekoenig/Ntuples/NanoHH4b/run2/mindiag_2018_0L'\n",
    "\n",
    "f_pattern = '{base}/mc/ggHH4b_tree.root'\n",
    "f_sig = f_pattern.format(base=base)\n",
    "\n",
    "signal = ObjIter([Tree( fc.fs.cernbox.fullpath(f_sig), **treekwargs)])"
   ]
  },
  {
   "cell_type": "code",
   "execution_count": 27,
   "id": "a3da96e7",
   "metadata": {},
   "outputs": [
    {
     "ename": "AttributeError",
     "evalue": "'onnxruntime.capi.onnxruntime_pybind11_state.SessionOptions' object has no attribute 'device_id'",
     "output_type": "error",
     "traceback": [
      "\u001b[0;31m---------------------------------------------------------------------------\u001b[0m",
      "\u001b[0;31mAttributeError\u001b[0m                            Traceback (most recent call last)",
      "Cell \u001b[0;32mIn[27], line 5\u001b[0m\n\u001b[1;32m      2\u001b[0m \u001b[39mimport\u001b[39;00m \u001b[39mutils\u001b[39;00m\u001b[39m.\u001b[39;00m\u001b[39mweaverUtils\u001b[39;00m \u001b[39mas\u001b[39;00m \u001b[39mweaver\u001b[39;00m\n\u001b[1;32m      4\u001b[0m modelpath \u001b[39m=\u001b[39m \u001b[39m'\u001b[39m\u001b[39m/home/ekoenig/analysis/weaver-multiH/models/feynnet_lightning/nanoHH4b/sixjet/training-data-scan/lightning_logs/version_11881857/\u001b[39m\u001b[39m'\u001b[39m\n\u001b[0;32m----> 5\u001b[0m model \u001b[39m=\u001b[39m weaver\u001b[39m.\u001b[39;49mWeaverONNX(modelpath, \u001b[39m'\u001b[39;49m\u001b[39monnx\u001b[39;49m\u001b[39m'\u001b[39;49m, accelerator\u001b[39m=\u001b[39;49m\u001b[39m'\u001b[39;49m\u001b[39mcuda\u001b[39;49m\u001b[39m'\u001b[39;49m)\n",
      "File \u001b[0;32m~/analysis/eightbStudies/utils/weaverUtils/__init__.py:11\u001b[0m, in \u001b[0;36mWeaverONNX.__init__\u001b[0;34m(self, modelpath, onnxdir, accelerator)\u001b[0m\n\u001b[1;32m      9\u001b[0m preprocessing_file \u001b[39m=\u001b[39m os\u001b[39m.\u001b[39mpath\u001b[39m.\u001b[39mjoin(modelpath, onnxdir, \u001b[39m'\u001b[39m\u001b[39mpreprocess.json\u001b[39m\u001b[39m'\u001b[39m)\n\u001b[1;32m     10\u001b[0m model_files \u001b[39m=\u001b[39m [os\u001b[39m.\u001b[39mpath\u001b[39m.\u001b[39mjoin(modelpath, onnxdir, \u001b[39m'\u001b[39m\u001b[39mmodel.onnx\u001b[39m\u001b[39m'\u001b[39m)]\n\u001b[0;32m---> 11\u001b[0m \u001b[39msuper\u001b[39;49m()\u001b[39m.\u001b[39;49m\u001b[39m__init__\u001b[39;49m(preprocessing_file, model_files, accelerator\u001b[39m=\u001b[39;49maccelerator)\n\u001b[1;32m     13\u001b[0m \u001b[39mself\u001b[39m\u001b[39m.\u001b[39mmetadata_file \u001b[39m=\u001b[39m os\u001b[39m.\u001b[39mpath\u001b[39m.\u001b[39mjoin(modelpath, onnxdir, \u001b[39m'\u001b[39m\u001b[39mmetadata.json\u001b[39m\u001b[39m'\u001b[39m)\n",
      "File \u001b[0;32m~/analysis/eightbStudies/utils/weaverUtils/ort.py:84\u001b[0m, in \u001b[0;36mONNXRuntimeHelper.__init__\u001b[0;34m(self, preprocess_file, model_files, accelerator)\u001b[0m\n\u001b[1;32m     82\u001b[0m \u001b[39mif\u001b[39;00m accelerator \u001b[39m==\u001b[39m \u001b[39m'\u001b[39m\u001b[39mcuda\u001b[39m\u001b[39m'\u001b[39m:\n\u001b[1;32m     83\u001b[0m     providers \u001b[39m=\u001b[39m [\u001b[39m'\u001b[39m\u001b[39mCUDAExecutionProvider\u001b[39m\u001b[39m'\u001b[39m]\n\u001b[0;32m---> 84\u001b[0m     options\u001b[39m.\u001b[39;49mdevice_id \u001b[39m=\u001b[39m \u001b[39m0\u001b[39m\n\u001b[1;32m     86\u001b[0m \u001b[39mself\u001b[39m\u001b[39m.\u001b[39msessions \u001b[39m=\u001b[39m [onnxruntime\u001b[39m.\u001b[39mInferenceSession(model_path, sess_options\u001b[39m=\u001b[39moptions,\n\u001b[1;32m     87\u001b[0m                                               providers\u001b[39m=\u001b[39mproviders) \u001b[39mfor\u001b[39;00m model_path \u001b[39min\u001b[39;00m model_files]\n\u001b[1;32m     88\u001b[0m \u001b[39mself\u001b[39m\u001b[39m.\u001b[39mk_fold \u001b[39m=\u001b[39m \u001b[39mlen\u001b[39m(\u001b[39mself\u001b[39m\u001b[39m.\u001b[39msessions)\n",
      "\u001b[0;31mAttributeError\u001b[0m: 'onnxruntime.capi.onnxruntime_pybind11_state.SessionOptions' object has no attribute 'device_id'"
     ]
    }
   ],
   "source": [
    "import utils.resources as rsc\n",
    "import utils.weaverUtils as weaver\n",
    "\n",
    "modelpath = '/home/ekoenig/analysis/weaver-multiH/models/feynnet_lightning/nanoHH4b/sixjet/training-data-scan/lightning_logs/version_11881857/'\n",
    "model = weaver.WeaverONNX(modelpath, 'onnx', accelerator='cuda')"
   ]
  },
  {
   "cell_type": "code",
   "execution_count": null,
   "id": "c28a068b",
   "metadata": {},
   "outputs": [],
   "source": [
    "jets = fourb.nanohh4b.get_ak4_jets(signal[0])\n",
    "jets['ak4_sinphi'] = np.sin(jets.ak4_phi)\n",
    "jets['ak4_cosphi'] = np.cos(jets.ak4_phi)"
   ]
  },
  {
   "cell_type": "code",
   "execution_count": 26,
   "id": "14b15634",
   "metadata": {},
   "outputs": [
    {
     "data": {
      "text/plain": [
       "{'sorted_rank': array([0.9465763 , 0.8935269 , 0.98087764, ..., 1.020919  , 0.886796  ,\n",
       "        0.98987806], dtype=float32),\n",
       " 'sorted_j_assignments': array([[0, 3, 1, 2],\n",
       "        [0, 2, 1, 4],\n",
       "        [0, 1, 2, 3],\n",
       "        ...,\n",
       "        [0, 2, 1, 3],\n",
       "        [0, 5, 2, 3],\n",
       "        [0, 3, 4, 5]], dtype=int64)}"
      ]
     },
     "execution_count": 26,
     "metadata": {},
     "output_type": "execute_result"
    }
   ],
   "source": [
    "model.predict(jets, batch_size=None)"
   ]
  }
 ],
 "metadata": {
  "kernelspec": {
   "display_name": "Python 3 (ipykernel)",
   "language": "python",
   "name": "python3"
  },
  "language_info": {
   "codemirror_mode": {
    "name": "ipython",
    "version": 3
   },
   "file_extension": ".py",
   "mimetype": "text/x-python",
   "name": "python",
   "nbconvert_exporter": "python",
   "pygments_lexer": "ipython3",
   "version": "3.10.8"
  },
  "vscode": {
   "interpreter": {
    "hash": "99d8ad6568882febb6ca5d1c2307614594cf6684ed0ce2b9f63bf31341fdb3d5"
   }
  }
 },
 "nbformat": 4,
 "nbformat_minor": 5
}

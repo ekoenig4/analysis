{
 "cells": [
  {
   "cell_type": "code",
   "execution_count": 1,
   "id": "9bfa3b5a",
   "metadata": {},
   "outputs": [],
   "source": [
    "%load_ext autoreload\n",
    "%autoreload 2\n",
    "\n",
    "import os\n",
    "os.environ['KMP_WARNINGS'] = 'off'\n",
    "import sys\n",
    "import git\n",
    "\n",
    "import uproot as ut\n",
    "import awkward as ak\n",
    "import numpy as np\n",
    "import math\n",
    "import vector\n",
    "import sympy as sp\n",
    "\n",
    "import re\n",
    "from tqdm import tqdm\n",
    "import timeit\n",
    "import re\n",
    "\n",
    "sys.path.append( git.Repo('.', search_parent_directories=True).working_tree_dir )\n",
    "from utils import *"
   ]
  },
  {
   "cell_type": "code",
   "execution_count": 2,
   "id": "dd5f43b0",
   "metadata": {},
   "outputs": [
    {
     "name": "stderr",
     "output_type": "stream",
     "text": [
      "0it [00:00, ?it/s]"
     ]
    },
    {
     "name": "stdout",
     "output_type": "stream",
     "text": [
      "[WARNING] unable to open any files.\n"
     ]
    },
    {
     "name": "stderr",
     "output_type": "stream",
     "text": [
      "\n"
     ]
    }
   ],
   "source": [
    "# generate fake background \n",
    "n_bkg = 100000\n",
    "\n",
    "bkg = Tree([])\n",
    "bkg.color = 'lightgrey'\n",
    "bkg.extend(x=np.random.exponential(scale=100, size=n_bkg), scale=np.ones(n_bkg)/lumiMap[2018][0])"
   ]
  },
  {
   "cell_type": "code",
   "execution_count": 3,
   "id": "4ac83dfc",
   "metadata": {},
   "outputs": [
    {
     "name": "stdout",
     "output_type": "stream",
     "text": [
      "[WARNING] unable to open any files.\n",
      "[WARNING] unable to open any files.\n",
      "[WARNING] unable to open any files.\n",
      "[WARNING] unable to open any files.\n",
      "[WARNING] unable to open any files.\n",
      "[WARNING] unable to open any files.\n",
      "[WARNING] unable to open any files.\n",
      "[WARNING] unable to open any files.\n",
      "[WARNING] unable to open any files.\n",
      "[WARNING] unable to open any files.\n"
     ]
    }
   ],
   "source": [
    "# generate fake signal\n",
    "n_sig = 10000\n",
    "n_mass = 10\n",
    "mass_points = np.linspace(125, 300, n_mass)\n",
    "\n",
    "signal = ObjIter([Tree([], report=False) for m in mass_points])\n",
    "for mass, s in zip(mass_points, signal):\n",
    "    s.is_signal = True\n",
    "    s.extend(x=np.random.normal(loc=mass, scale=mass*10/125, size=n_sig), scale=np.ones(n_sig)/lumiMap[2018][0])\n"
   ]
  },
  {
   "cell_type": "code",
   "execution_count": 4,
   "id": "6d35b1ab",
   "metadata": {},
   "outputs": [
    {
     "name": "stderr",
     "output_type": "stream",
     "text": [
      "  0%|          | 0/1 [00:00<?, ?it/s]"
     ]
    }
   ],
   "source": [
    "histos = obj_store()\n",
    "study.quick(\n",
    "    signal + [bkg],\n",
    "    varlist=['x'],\n",
    "    store=histos,\n",
    "    # efficiency=True,\n",
    ")"
   ]
  },
  {
   "cell_type": "code",
   "execution_count": null,
   "id": "829ff634",
   "metadata": {},
   "outputs": [],
   "source": [
    "h_bkg = histos[0][0].get_histo()"
   ]
  },
  {
   "cell_type": "code",
   "execution_count": null,
   "id": "19644a27",
   "metadata": {},
   "outputs": [],
   "source": [
    "h_sigs = histos[0][1:]"
   ]
  },
  {
   "cell_type": "code",
   "execution_count": null,
   "id": "c1d637a6",
   "metadata": {},
   "outputs": [
    {
     "name": "stderr",
     "output_type": "stream",
     "text": [
      "WARNING:absl:No GPU/TPU found, falling back to CPU. (Set TF_CPP_MIN_LOG_LEVEL=0 and rerun for more info.)\n"
     ]
    }
   ],
   "source": [
    "sig_models = ObjIter([ Model(h_sig, h_bkg) for h_sig in h_sigs ])"
   ]
  },
  {
   "cell_type": "code",
   "execution_count": null,
   "id": "09370e77",
   "metadata": {},
   "outputs": [
    {
     "name": "stderr",
     "output_type": "stream",
     "text": [
      "100%|██████████| 10/10 [01:58<00:00, 11.82s/it]\n"
     ]
    }
   ],
   "source": [
    "serial_limits = [ model.upperlimit() for model in tqdm(sig_models) ]\n",
    "\n",
    "# this takes too long "
   ]
  },
  {
   "cell_type": "code",
   "execution_count": 10,
   "id": "afb207d4",
   "metadata": {},
   "outputs": [
    {
     "name": "stderr",
     "output_type": "stream",
     "text": [
      "100%|██████████| 10/10 [00:27<00:00,  2.78s/it]\n"
     ]
    }
   ],
   "source": [
    "# now lets try a parallel version\n",
    "\n",
    "import multiprocessing as mp\n",
    "\n",
    "with mp.pool.Pool(8) as pool:  \n",
    "    parallel_limits = sig_models.pool_apply(lambda m : m.upperlimit(), pool=pool)"
   ]
  },
  {
   "cell_type": "code",
   "execution_count": 12,
   "id": "4f128e12",
   "metadata": {},
   "outputs": [],
   "source": [
    "serial_limits = [ model.h_sig.stats.exp_limits[2] for model in serial_limits ]\n",
    "parallel_limits = [ model.h_sig.stats.exp_limits[2] for model in parallel_limits ]\n"
   ]
  },
  {
   "cell_type": "code",
   "execution_count": 13,
   "id": "7a409520",
   "metadata": {},
   "outputs": [
    {
     "data": {
      "text/plain": [
       "(<Figure size 650x650 with 1 Axes>, <AxesSubplot:>)"
      ]
     },
     "execution_count": 13,
     "metadata": {},
     "output_type": "execute_result"
    },
    {
     "data": {
      "image/png": "[encoded data removed]",
      "text/plain": [
       "<Figure size 650x650 with 1 Axes>"
      ]
     },
     "metadata": {},
     "output_type": "display_data"
    }
   ],
   "source": [
    "graph_array(mass_points, serial_limits)\n",
    "graph_array(mass_points, parallel_limits, figax='same')"
   ]
  },
  {
   "cell_type": "code",
   "execution_count": 25,
   "id": "279d00ad",
   "metadata": {},
   "outputs": [],
   "source": [
    "import multiprocessing as mp\n",
    "\n",
    "def pool_apply(self, obj_function, report=False, pool=None):\n",
    "    if pool is None:\n",
    "        pool = mp.pool.ThreadPool(len(self))\n",
    "\n",
    "    result = pool.imap(obj_function, self.objs, chunksize=1)\n",
    "\n",
    "    if report:\n",
    "        result = tqdm(result, total=len(self))\n",
    "\n",
    "    results = list( result )\n",
    "\n",
    "    return ObjIter(results)"
   ]
  },
  {
   "cell_type": "code",
   "execution_count": 26,
   "id": "45b9b975",
   "metadata": {},
   "outputs": [],
   "source": [
    "points = ObjIter(mass_points)"
   ]
  },
  {
   "cell_type": "code",
   "execution_count": 30,
   "id": "f177d6e2",
   "metadata": {},
   "outputs": [],
   "source": [
    "import time\n",
    "\n",
    "def task(mass):\n",
    "    time.sleep(np.random.uniform()*5)\n",
    "    return f'mass: {mass}'\n"
   ]
  },
  {
   "cell_type": "code",
   "execution_count": 33,
   "id": "8ef1651b",
   "metadata": {},
   "outputs": [
    {
     "name": "stderr",
     "output_type": "stream",
     "text": [
      "100%|██████████| 30/30 [00:04<00:00,  6.36it/s]\n"
     ]
    },
    {
     "data": {
      "text/plain": [
       "['mass: 125.0', 'mass: 144.44444444444446', 'mass: 163.88888888888889', 'mass: 183.33333333333331', 'mass: 202.77777777777777', 'mass: 222.22222222222223', 'mass: 241.66666666666666', 'mass: 261.1111111111111', 'mass: 280.55555555555554', 'mass: 300.0', 'mass: 125.0', 'mass: 144.44444444444446', 'mass: 163.88888888888889', 'mass: 183.33333333333331', 'mass: 202.77777777777777', 'mass: 222.22222222222223', 'mass: 241.66666666666666', 'mass: 261.1111111111111', 'mass: 280.55555555555554', 'mass: 300.0', 'mass: 125.0', 'mass: 144.44444444444446', 'mass: 163.88888888888889', 'mass: 183.33333333333331', 'mass: 202.77777777777777', 'mass: 222.22222222222223', 'mass: 241.66666666666666', 'mass: 261.1111111111111', 'mass: 280.55555555555554', 'mass: 300.0']"
      ]
     },
     "execution_count": 33,
     "metadata": {},
     "output_type": "execute_result"
    }
   ],
   "source": [
    "pool_apply(\n",
    "    points+points+points,\n",
    "    task,\n",
    "    report=True,\n",
    ")"
   ]
  },
  {
   "cell_type": "code",
   "execution_count": 34,
   "id": "616931f5",
   "metadata": {},
   "outputs": [
    {
     "name": "stderr",
     "output_type": "stream",
     "text": [
      "100%|██████████| 30/30 [00:18<00:00,  1.58it/s]\n"
     ]
    },
    {
     "data": {
      "text/plain": [
       "['mass: 125.0', 'mass: 144.44444444444446', 'mass: 163.88888888888889', 'mass: 183.33333333333331', 'mass: 202.77777777777777', 'mass: 222.22222222222223', 'mass: 241.66666666666666', 'mass: 261.1111111111111', 'mass: 280.55555555555554', 'mass: 300.0', 'mass: 125.0', 'mass: 144.44444444444446', 'mass: 163.88888888888889', 'mass: 183.33333333333331', 'mass: 202.77777777777777', 'mass: 222.22222222222223', 'mass: 241.66666666666666', 'mass: 261.1111111111111', 'mass: 280.55555555555554', 'mass: 300.0', 'mass: 125.0', 'mass: 144.44444444444446', 'mass: 163.88888888888889', 'mass: 183.33333333333331', 'mass: 202.77777777777777', 'mass: 222.22222222222223', 'mass: 241.66666666666666', 'mass: 261.1111111111111', 'mass: 280.55555555555554', 'mass: 300.0']"
      ]
     },
     "execution_count": 34,
     "metadata": {},
     "output_type": "execute_result"
    }
   ],
   "source": [
    "\n",
    "with mp.pool.Pool(4) as pool:\n",
    "    result = pool_apply(\n",
    "        points+points+points,\n",
    "        task,\n",
    "        pool=pool,\n",
    "        report=True,\n",
    "    )\n",
    "result"
   ]
  }
 ],
 "metadata": {
  "kernelspec": {
   "display_name": "Python 3.9.15 ('py-env')",
   "language": "python",
   "name": "python3"
  },
  "language_info": {
   "codemirror_mode": {
    "name": "ipython",
    "version": 3
   },
   "file_extension": ".py",
   "mimetype": "text/x-python",
   "name": "python",
   "nbconvert_exporter": "python",
   "pygments_lexer": "ipython3",
   "version": "3.9.15"
  },
  "vscode": {
   "interpreter": {
    "hash": "99d8ad6568882febb6ca5d1c2307614594cf6684ed0ce2b9f63bf31341fdb3d5"
   }
  }
 },
 "nbformat": 4,
 "nbformat_minor": 5
}

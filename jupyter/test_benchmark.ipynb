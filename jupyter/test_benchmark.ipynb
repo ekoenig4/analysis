{
 "cells": [
  {
   "cell_type": "code",
   "execution_count": 1,
   "id": "9bfa3b5a",
   "metadata": {},
   "outputs": [],
   "source": [
    "%load_ext autoreload\n",
    "%autoreload 2\n",
    "\n",
    "import os\n",
    "import sys\n",
    "import git\n",
    "\n",
    "import uproot as ut\n",
    "import awkward as ak\n",
    "import numpy as np\n",
    "import math\n",
    "import vector\n",
    "import sympy as sp\n",
    "\n",
    "import re\n",
    "from tqdm import tqdm\n",
    "import timeit\n",
    "import re\n",
    "\n",
    "sys.path.append( git.Repo('.', search_parent_directories=True).working_tree_dir )\n",
    "from utils import *"
   ]
  },
  {
   "cell_type": "code",
   "execution_count": 2,
   "id": "6edca911",
   "metadata": {},
   "outputs": [],
   "source": [
    "%load_ext line_profiler\n",
    "%load_ext memory_profiler"
   ]
  },
  {
   "cell_type": "code",
   "execution_count": 408,
   "id": "bda6a611",
   "metadata": {},
   "outputs": [],
   "source": [
    "import torch\n",
    "from torch_geometric.data import Data, DataLoader\n",
    "from torch.nn.functional import softmax, relu\n",
    "from torch_geometric.nn import dense_diff_pool\n",
    "from torch_geometric.transforms import BaseTransform\n",
    "from torch import Tensor\n",
    "from typing import Tuple\n"
   ]
  },
  {
   "cell_type": "code",
   "execution_count": 115,
   "id": "33400175",
   "metadata": {},
   "outputs": [],
   "source": [
    "from utils.torchUtils.cpp_geometric import layers"
   ]
  },
  {
   "cell_type": "code",
   "execution_count": 496,
   "id": "f1e669ae",
   "metadata": {},
   "outputs": [],
   "source": [
    "class HyperEdgeY(BaseTransform):\n",
    "    def __init__(self, n_nodes=4):\n",
    "        self.n_nodes=4\n",
    "    def __call__(self, data : Data) -> Data:\n",
    "        data.hyper_edge_index = torch.combinations(torch.arange(data.num_nodes),self.n_nodes).T\n",
    "        cluster_y = (data.node_id+3)//4\n",
    "        hyper_edge_y = cluster_y[data.hyper_edge_index.T]\n",
    "        data.hyper_edge_y = 1*(hyper_edge_y == hyper_edge_y[:,0,None]).all(dim=-1)\n",
    "\n",
    "        return data"
   ]
  },
  {
   "cell_type": "code",
   "execution_count": 501,
   "id": "33ffe9f7",
   "metadata": {},
   "outputs": [],
   "source": [
    "import utils.torchUtils as gnn \n",
    "template = gnn.Dataset('eightb/pairing_methods/graph_net/data/template',make_template=True, transform=HyperEdgeY())\n",
    "dataset = gnn.Dataset('eightb/pairing_methods/graph_net/data/MX_1200_MY_500-training',transform=template.transform)\n",
    "# dataset = gnn.concat_dataset([f'eightb/pairing_methods/graph_net/data/{mass}-training' for mass in eightb.mass_list],transform=template.transform)"
   ]
  },
  {
   "cell_type": "code",
   "execution_count": 502,
   "id": "98b1b7e5",
   "metadata": {},
   "outputs": [],
   "source": [
    "loader = DataLoader(dataset, batch_size=50, num_workers=8)"
   ]
  },
  {
   "cell_type": "code",
   "execution_count": 503,
   "id": "a1554b71",
   "metadata": {},
   "outputs": [],
   "source": [
    "def get_n_classes(hyper_edge_y):\n",
    "    true_hyper_edge = (hyper_edge_y == 1).sum()\n",
    "    fake_hyper_edge = hyper_edge_y.shape[0] - true_hyper_edge\n",
    "    return [fake_hyper_edge, true_hyper_edge]"
   ]
  },
  {
   "cell_type": "code",
   "execution_count": 479,
   "id": "4850786a",
   "metadata": {},
   "outputs": [],
   "source": [
    "class HyperEdgeLinear(torch.nn.Module):\n",
    "    def __init__(self, in_features, out_features):\n",
    "        super().__init__()\n",
    "        self.linear = torch.nn.Linear(in_features,out_features)\n",
    "    def __call__(self, x, edge_index, edge_attr, hyper_edge_index):\n",
    "        hyper_edge_attr = x[hyper_edge_index.T]\n",
    "        hyper_edge_attr = self.linear(hyper_edge_attr)\n",
    "        hyper_edge_attr = hyper_edge_attr.max(dim=1)[0]\n",
    "        return hyper_edge_attr"
   ]
  },
  {
   "cell_type": "code",
   "execution_count": 480,
   "id": "35409541",
   "metadata": {},
   "outputs": [],
   "source": [
    "hyper_edge_linear = HyperEdgeLinear(5, 2)"
   ]
  },
  {
   "cell_type": "code",
   "execution_count": 481,
   "id": "6cee2e84",
   "metadata": {},
   "outputs": [],
   "source": [
    "hyper_edge_attr = hyper_edge_linear(batch.x, batch.edge_index, batch.edge_attr, batch.hyper_edge_index)"
   ]
  },
  {
   "cell_type": "code",
   "execution_count": 495,
   "id": "e9900acc",
   "metadata": {},
   "outputs": [
    {
     "data": {
      "text/plain": [
       "tensor(0.7548, grad_fn=<NllLossBackward>)"
      ]
     },
     "execution_count": 495,
     "metadata": {},
     "output_type": "execute_result"
    }
   ],
   "source": [
    "from torch.nn.functional import log_softmax, nll_loss\n",
    "\n",
    "nll_loss(log_softmax(hyper_edge_attr,dim=-1), batch.hyper_edge_y, hyper_edge_weights)"
   ]
  }
 ],
 "metadata": {
  "interpreter": {
   "hash": "0dc50badf6bcf34ee37feb4ddab24eb1b71716d96fc6cae89d10c22f5e3462c0"
  },
  "kernelspec": {
   "display_name": "Python 3.8.10 64-bit ('base': conda)",
   "name": "python3"
  },
  "language_info": {
   "codemirror_mode": {
    "name": "ipython",
    "version": 3
   },
   "file_extension": ".py",
   "mimetype": "text/x-python",
   "name": "python",
   "nbconvert_exporter": "python",
   "pygments_lexer": "ipython3",
   "version": "3.8.12"
  }
 },
 "nbformat": 4,
 "nbformat_minor": 5
}

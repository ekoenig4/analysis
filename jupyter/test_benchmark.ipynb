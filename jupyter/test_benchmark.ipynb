{
 "cells": [
  {
   "cell_type": "code",
   "execution_count": 1,
   "id": "9bfa3b5a",
   "metadata": {},
   "outputs": [],
   "source": [
    "%load_ext autoreload\n",
    "%autoreload 2\n",
    "\n",
    "import os\n",
    "os.environ['KMP_WARNINGS'] = 'off'\n",
    "import sys\n",
    "import git\n",
    "\n",
    "import uproot as ut\n",
    "import awkward as ak\n",
    "import numpy as np\n",
    "import math\n",
    "import vector\n",
    "import sympy as sp\n",
    "\n",
    "import re\n",
    "from tqdm import tqdm\n",
    "import timeit\n",
    "import re\n",
    "\n",
    "sys.path.append( git.Repo('.', search_parent_directories=True).working_tree_dir )\n",
    "from utils import *"
   ]
  },
  {
   "cell_type": "code",
   "execution_count": 2,
   "id": "1ba9cc24",
   "metadata": {},
   "outputs": [],
   "source": [
    "bkgfiles = [\n",
    "\"/store/user/ekoenig/8BAnalysis/NTuples/2018/preselection/t8btag_minmass//Run2_Autumn18//QCD/QCD_bEnriched_HT1000to1500_TuneCP5_13TeV-madgraph-pythia8/ntuple.root\",\n",
    "\"/store/user/ekoenig/8BAnalysis/NTuples/2018/preselection/t8btag_minmass//Run2_Autumn18//QCD/QCD_bEnriched_HT100to200_TuneCP5_13TeV-madgraph-pythia8/ntuple.root\",\n",
    "\"/store/user/ekoenig/8BAnalysis/NTuples/2018/preselection/t8btag_minmass//Run2_Autumn18//QCD/QCD_bEnriched_HT1500to2000_TuneCP5_13TeV-madgraph-pythia8/ntuple.root\",\n",
    "\"/store/user/ekoenig/8BAnalysis/NTuples/2018/preselection/t8btag_minmass//Run2_Autumn18//QCD/QCD_bEnriched_HT2000toInf_TuneCP5_13TeV-madgraph-pythia8/ntuple.root\",\n",
    "\"/store/user/ekoenig/8BAnalysis/NTuples/2018/preselection/t8btag_minmass//Run2_Autumn18//QCD/QCD_bEnriched_HT200to300_TuneCP5_13TeV-madgraph-pythia8/ntuple.root\",\n",
    "\"/store/user/ekoenig/8BAnalysis/NTuples/2018/preselection/t8btag_minmass//Run2_Autumn18//QCD/QCD_bEnriched_HT300to500_TuneCP5_13TeV-madgraph-pythia8/ntuple.root\",\n",
    "\"/store/user/ekoenig/8BAnalysis/NTuples/2018/preselection/t8btag_minmass//Run2_Autumn18//QCD/QCD_bEnriched_HT500to700_TuneCP5_13TeV-madgraph-pythia8/ntuple.root\",\n",
    "\"/store/user/ekoenig/8BAnalysis/NTuples/2018/preselection/t8btag_minmass//Run2_Autumn18//QCD/QCD_bEnriched_HT700to1000_TuneCP5_13TeV-madgraph-pythia8/ntuple.root\",\n",
    "\"/store/user/ekoenig/8BAnalysis/NTuples/2018/preselection/t8btag_minmass//Run2_Autumn18//QCD/QCD_HT1000to1500_BGenFilter_TuneCP5_13TeV-madgraph-pythia8/ntuple.root\",\n",
    "\"/store/user/ekoenig/8BAnalysis/NTuples/2018/preselection/t8btag_minmass//Run2_Autumn18//QCD/QCD_HT100to200_BGenFilter_TuneCP5_13TeV-madgraph-pythia8/ntuple.root\",\n",
    "\"/store/user/ekoenig/8BAnalysis/NTuples/2018/preselection/t8btag_minmass//Run2_Autumn18//QCD/QCD_HT1500to2000_BGenFilter_TuneCP5_13TeV-madgraph-pythia8/ntuple.root\",\n",
    "\"/store/user/ekoenig/8BAnalysis/NTuples/2018/preselection/t8btag_minmass//Run2_Autumn18//QCD/QCD_HT2000toInf_BGenFilter_TuneCP5_13TeV-madgraph-pythia8/ntuple.root\",\n",
    "\"/store/user/ekoenig/8BAnalysis/NTuples/2018/preselection/t8btag_minmass//Run2_Autumn18//QCD/QCD_HT200to300_BGenFilter_TuneCP5_13TeV-madgraph-pythia8/ntuple.root\",\n",
    "\"/store/user/ekoenig/8BAnalysis/NTuples/2018/preselection/t8btag_minmass//Run2_Autumn18//QCD/QCD_HT300to500_BGenFilter_TuneCP5_13TeV-madgraph-pythia8/ntuple.root\",\n",
    "\"/store/user/ekoenig/8BAnalysis/NTuples/2018/preselection/t8btag_minmass//Run2_Autumn18//QCD/QCD_HT500to700_BGenFilter_TuneCP5_13TeV-madgraph-pythia8/ntuple.root\",\n",
    "\"/store/user/ekoenig/8BAnalysis/NTuples/2018/preselection/t8btag_minmass//Run2_Autumn18//QCD/QCD_HT700to1000_BGenFilter_TuneCP5_13TeV-madgraph-pythia8/ntuple.root\",\n",
    "\"/store/user/ekoenig/8BAnalysis/NTuples/2018/preselection/t8btag_minmass//Run2_UL/RunIISummer20UL18NanoAODv9/TTJets/TTJets_TuneCP5_13TeV-amcatnloFXFX-pythia8/ntuple_training.root\",\n",
    "]"
   ]
  },
  {
   "cell_type": "code",
   "execution_count": 6,
   "id": "9310c577",
   "metadata": {},
   "outputs": [
    {
     "name": "stderr",
     "output_type": "stream",
     "text": [
      " 59%|█████▉    | 10/17 [00:02<00:01,  3.87it/s]"
     ]
    },
    {
     "name": "stdout",
     "output_type": "stream",
     "text": [
      "[WARNING] skipping None, was not found.\n"
     ]
    },
    {
     "name": "stderr",
     "output_type": "stream",
     "text": [
      "100%|██████████| 17/17 [00:05<00:00,  3.30it/s]\n"
     ]
    }
   ],
   "source": [
    "bkgtree = Tree(bkgfiles, altfile='training_{base}')"
   ]
  },
  {
   "cell_type": "code",
   "execution_count": null,
   "id": "6da986bd",
   "metadata": {},
   "outputs": [],
   "source": []
  },
  {
   "cell_type": "code",
   "execution_count": 10,
   "id": "c9d7a8b4",
   "metadata": {},
   "outputs": [
    {
     "data": {
      "text/plain": [
       "821.2709351319407"
      ]
     },
     "execution_count": 10,
     "metadata": {},
     "output_type": "execute_result"
    }
   ],
   "source": [
    "ak.sum(bkgtree.dataset_norm_abs_scale)"
   ]
  },
  {
   "cell_type": "code",
   "execution_count": 12,
   "id": "37a3c90d",
   "metadata": {},
   "outputs": [
    {
     "name": "stderr",
     "output_type": "stream",
     "text": [
      "100%|██████████| 1/1 [00:00<00:00,  3.05it/s]\n"
     ]
    }
   ],
   "source": [
    "sigtree = Tree('/store/user/ekoenig/8BAnalysis/NTuples/2018/training/training_5M//NMSSM_XYY_YToHH_8b/NMSSM_XYY_YToHH_8b_MX_1000_MY_450/ntuple.root', altfile='fully_res_{base}')"
   ]
  },
  {
   "cell_type": "code",
   "execution_count": 13,
   "id": "c235b3be",
   "metadata": {},
   "outputs": [
    {
     "data": {
      "text/plain": [
       "821.2709351319411"
      ]
     },
     "execution_count": 13,
     "metadata": {},
     "output_type": "execute_result"
    }
   ],
   "source": [
    "ak.sum(sigtree.dataset_norm_abs_scale)"
   ]
  },
  {
   "cell_type": "code",
   "execution_count": null,
   "id": "69583eb1",
   "metadata": {},
   "outputs": [],
   "source": []
  }
 ],
 "metadata": {
  "kernelspec": {
   "display_name": "Python 3.9.15 ('py-env')",
   "language": "python",
   "name": "python3"
  },
  "language_info": {
   "codemirror_mode": {
    "name": "ipython",
    "version": 3
   },
   "file_extension": ".py",
   "mimetype": "text/x-python",
   "name": "python",
   "nbconvert_exporter": "python",
   "pygments_lexer": "ipython3",
   "version": "3.9.15"
  },
  "vscode": {
   "interpreter": {
    "hash": "99d8ad6568882febb6ca5d1c2307614594cf6684ed0ce2b9f63bf31341fdb3d5"
   }
  }
 },
 "nbformat": 4,
 "nbformat_minor": 5
}

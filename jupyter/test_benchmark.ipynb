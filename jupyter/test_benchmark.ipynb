{
 "cells": [
  {
   "cell_type": "code",
   "execution_count": 1,
   "id": "fff36497",
   "metadata": {},
   "outputs": [
    {
     "name": "stdout",
     "output_type": "stream",
     "text": [
      "c0709a-s30.ufhpc\n"
     ]
    }
   ],
   "source": [
    "!hostname"
   ]
  },
  {
   "cell_type": "code",
   "execution_count": 2,
   "id": "9bfa3b5a",
   "metadata": {},
   "outputs": [],
   "source": [
    "%load_ext autoreload\n",
    "%autoreload 2\n",
    "\n",
    "import os\n",
    "os.environ['KMP_WARNINGS'] = 'off'\n",
    "import sys\n",
    "import git\n",
    "\n",
    "import uproot as ut\n",
    "import awkward as ak\n",
    "import numpy as np\n",
    "import math\n",
    "import vector\n",
    "import sympy as sp\n",
    "\n",
    "import re\n",
    "from tqdm import tqdm\n",
    "import timeit\n",
    "import re\n",
    "\n",
    "sys.path.append( git.Repo('.', search_parent_directories=True).working_tree_dir )\n",
    "from utils import *"
   ]
  },
  {
   "cell_type": "code",
   "execution_count": 3,
   "id": "0e9136cf",
   "metadata": {},
   "outputs": [],
   "source": [
    "from scripts.nanohh4b.nanohh4b import Analysis\n",
    "analysis = Analysis.load(\n",
    "    '/home/ekoenig/analysis/studies/configs/nanohh4b/nanohh4b.yaml',\n",
    "    signal=[],\n",
    "    qcd=[],\n",
    "    ttbar=[],\n",
    ")"
   ]
  },
  {
   "cell_type": "code",
   "execution_count": 4,
   "id": "06570fdc",
   "metadata": {},
   "outputs": [
    {
     "name": "stdout",
     "output_type": "stream",
     "text": [
      "0:00:00 [\u001b[33mrunning \u001b[0m] \u001b[97minit\u001b[0m(\u001b[2m\u001b[97m\u001b[0m)\n"
     ]
    },
    {
     "name": "stderr",
     "output_type": "stream",
     "text": [
      "0it [00:00, ?it/s]\n"
     ]
    },
    {
     "name": "stdout",
     "output_type": "stream",
     "text": [
      "[WARNING] unable to open any files with filelist\n",
      "           []\n"
     ]
    },
    {
     "name": "stderr",
     "output_type": "stream",
     "text": [
      "0it [00:00, ?it/s]\n"
     ]
    },
    {
     "name": "stdout",
     "output_type": "stream",
     "text": [
      "[WARNING] unable to open any files with filelist\n",
      "           []\n"
     ]
    },
    {
     "name": "stderr",
     "output_type": "stream",
     "text": [
      "0it [00:00, ?it/s]"
     ]
    },
    {
     "name": "stdout",
     "output_type": "stream",
     "text": [
      "[WARNING] unable to open any files with filelist\n",
      "           []\n"
     ]
    },
    {
     "name": "stderr",
     "output_type": "stream",
     "text": [
      "\n",
      "  0%|          | 0/1 [00:00<?, ?it/s]"
     ]
    },
    {
     "name": "stdout",
     "output_type": "stream",
     "text": [
      "Using local path: /cmsuf/data/store/user/ekoenig/root/eosuser.cern.ch/eos/user/m/mkolosov/Run2_HHTo4B_NTuples/UL2018/DeepJet_woTrgMatching_17Oct2023_2018_0L/data/jetht_tree.root\n"
     ]
    },
    {
     "name": "stderr",
     "output_type": "stream",
     "text": [
      "100%|██████████| 1/1 [00:00<00:00,  3.82it/s]\n"
     ]
    },
    {
     "name": "stdout",
     "output_type": "stream",
     "text": [
      "0:00:03 [\u001b[32m  done  \u001b[0m] 0:00:03\n",
      "        [\u001b[2m\u001b[97mdisabled\u001b[0m] \u001b[2m\u001b[97mset_bdisc_threshold\u001b[0m(\u001b[2m\u001b[97msignal, bkg, data\u001b[0m)\n",
      "        [\u001b[2m\u001b[97mdisabled\u001b[0m] \u001b[2m\u001b[97mhh_mass_cut\u001b[0m(\u001b[2m\u001b[97msignal, bkg, data\u001b[0m)\n",
      "        [\u001b[2m\u001b[97mdisabled\u001b[0m] \u001b[2m\u001b[97mload_feynnet\u001b[0m(\u001b[2m\u001b[97msignal, bkg, data\u001b[0m)\n",
      "        [\u001b[2m\u001b[97mdisabled\u001b[0m] \u001b[2m\u001b[97mplot_jet_multiplicity\u001b[0m(\u001b[2m\u001b[97msignal, bkg, data\u001b[0m)\n",
      "        [\u001b[2m\u001b[97mdisabled\u001b[0m] \u001b[2m\u001b[97mplot_reco_eff\u001b[0m(\u001b[2m\u001b[97msignal\u001b[0m)\n",
      "        [\u001b[2m\u001b[97mdisabled\u001b[0m] \u001b[2m\u001b[97mplot_higgs\u001b[0m(\u001b[2m\u001b[97msignal, bkg\u001b[0m)\n",
      "        [\u001b[2m\u001b[97mdisabled\u001b[0m] \u001b[2m\u001b[97mplot_region_vars\u001b[0m(\u001b[2m\u001b[97msignal, bkg\u001b[0m)\n",
      "        [\u001b[2m\u001b[97mdisabled\u001b[0m] \u001b[2m\u001b[97mprint_4btag_yields\u001b[0m(\u001b[2m\u001b[97msignal, bkg, data\u001b[0m)\n",
      "        [\u001b[2m\u001b[97mdisabled\u001b[0m] \u001b[2m\u001b[97mplot_4b_control\u001b[0m(\u001b[2m\u001b[97msignal, bkg, data\u001b[0m)\n",
      "        [\u001b[2m\u001b[97mdisabled\u001b[0m] \u001b[2m\u001b[97mprint_3btag_yields\u001b[0m(\u001b[2m\u001b[97msignal, bkg, data\u001b[0m)\n",
      "        [\u001b[2m\u001b[97mdisabled\u001b[0m] \u001b[2m\u001b[97mplot_3b_control\u001b[0m(\u001b[2m\u001b[97msignal, bkg, data\u001b[0m)\n",
      "        [\u001b[2m\u001b[97mdisabled\u001b[0m] \u001b[2m\u001b[97mblind_data\u001b[0m(\u001b[2m\u001b[97mdata\u001b[0m)\n",
      "        [\u001b[2m\u001b[97mdisabled\u001b[0m] \u001b[2m\u001b[97mprint_abcd_yields\u001b[0m(\u001b[2m\u001b[97msignal, bkg, data\u001b[0m)\n",
      "        [\u001b[2m\u001b[97mdisabled\u001b[0m] \u001b[2m\u001b[97mplot_3btag_datamc\u001b[0m(\u001b[2m\u001b[97mdata, bkg\u001b[0m)\n",
      "        [\u001b[2m\u001b[97mdisabled\u001b[0m] \u001b[2m\u001b[97mtrain_bdt\u001b[0m(\u001b[2m\u001b[97mdata\u001b[0m)\n",
      "        [\u001b[2m\u001b[97mdisabled\u001b[0m] \u001b[2m\u001b[97mbuild_bkg_model\u001b[0m(\u001b[2m\u001b[97msignal, bkg, data\u001b[0m)\n",
      "        [\u001b[2m\u001b[97mdisabled\u001b[0m] \u001b[2m\u001b[97mprint_sr_yields\u001b[0m(\u001b[2m\u001b[97msignal, bkg_model\u001b[0m)\n",
      "        [\u001b[2m\u001b[97mdisabled\u001b[0m] \u001b[2m\u001b[97mplot_limits\u001b[0m(\u001b[2m\u001b[97msignal, bkg_model\u001b[0m)\n",
      "        [\u001b[2m\u001b[97mdisabled\u001b[0m] \u001b[2m\u001b[97mtrain_bdt_classifier\u001b[0m(\u001b[2m\u001b[97msignal, bkg_model\u001b[0m)\n",
      "        [\u001b[2m\u001b[97mdisabled\u001b[0m] \u001b[2m\u001b[97mplot_bdt_classifier_validation\u001b[0m(\u001b[2m\u001b[97msignal, bkg_model\u001b[0m)\n",
      "        [\u001b[2m\u001b[97mdisabled\u001b[0m] \u001b[2m\u001b[97mplot_bdt_classifier_limits\u001b[0m(\u001b[2m\u001b[97msignal, bkg_model\u001b[0m)\n",
      "        [\u001b[2m\u001b[97mdisabled\u001b[0m] \u001b[2m\u001b[97mtrain_vr_bdt\u001b[0m(\u001b[2m\u001b[97mdata\u001b[0m)\n",
      "        [\u001b[2m\u001b[97mdisabled\u001b[0m] \u001b[2m\u001b[97mbuild_vr_bkg_model\u001b[0m(\u001b[2m\u001b[97mdata\u001b[0m)\n",
      "        [\u001b[2m\u001b[97mdisabled\u001b[0m] \u001b[2m\u001b[97mplot_vr_model\u001b[0m(\u001b[2m\u001b[97mdata, vr_bkg_model\u001b[0m)\n",
      "        [\u001b[2m\u001b[97mdisabled\u001b[0m] \u001b[2m\u001b[97mtrain_vr2_bdt\u001b[0m(\u001b[2m\u001b[97mdata\u001b[0m)\n",
      "        [\u001b[2m\u001b[97mdisabled\u001b[0m] \u001b[2m\u001b[97mbuild_vr2_bkg_model\u001b[0m(\u001b[2m\u001b[97mdata\u001b[0m)\n",
      "        [\u001b[2m\u001b[97mdisabled\u001b[0m] \u001b[2m\u001b[97mplot_vr2_model\u001b[0m(\u001b[2m\u001b[97mdata, vr2_bkg_model\u001b[0m)\n"
     ]
    }
   ],
   "source": [
    "analysis.run(['init'])"
   ]
  },
  {
   "cell_type": "code",
   "execution_count": 5,
   "id": "4b5bfc77",
   "metadata": {},
   "outputs": [],
   "source": [
    "# analysis.data = analysis.data.subset(fraction=0.1, randomize=False)"
   ]
  },
  {
   "cell_type": "code",
   "execution_count": 6,
   "id": "321f8963",
   "metadata": {},
   "outputs": [
    {
     "name": "stdout",
     "output_type": "stream",
     "text": [
      "0:00:00 [\u001b[32m  done  \u001b[0m] \u001b[97minit\u001b[0m(\u001b[2m\u001b[97m\u001b[0m)\n",
      "        [\u001b[33mrunning \u001b[0m] \u001b[97mset_bdisc_threshold\u001b[0m(\u001b[2m\u001b[97msignal, bkg, data\u001b[0m)\n",
      "        [\u001b[32m  done  \u001b[0m] 0:00:00\n",
      "        [\u001b[33mrunning \u001b[0m] \u001b[97mhh_mass_cut\u001b[0m(\u001b[2m\u001b[97msignal, bkg, data\u001b[0m)\n",
      "        [\u001b[32m  done  \u001b[0m] 0:00:00\n",
      "        [\u001b[33mrunning \u001b[0m] \u001b[97mload_feynnet\u001b[0m(\u001b[2m\u001b[97msignal, bkg, data\u001b[0m)\n",
      "        [\u001b[32m  done  \u001b[0m] 0:00:00\n",
      "        [\u001b[2m\u001b[97mdisabled\u001b[0m] \u001b[2m\u001b[97mplot_jet_multiplicity\u001b[0m(\u001b[2m\u001b[97msignal, bkg, data\u001b[0m)\n",
      "        [\u001b[2m\u001b[97mdisabled\u001b[0m] \u001b[2m\u001b[97mplot_reco_eff\u001b[0m(\u001b[2m\u001b[97msignal\u001b[0m)\n",
      "        [\u001b[2m\u001b[97mdisabled\u001b[0m] \u001b[2m\u001b[97mplot_higgs\u001b[0m(\u001b[2m\u001b[97msignal, bkg\u001b[0m)\n",
      "        [\u001b[2m\u001b[97mdisabled\u001b[0m] \u001b[2m\u001b[97mplot_region_vars\u001b[0m(\u001b[2m\u001b[97msignal, bkg\u001b[0m)\n",
      "        [\u001b[2m\u001b[97mdisabled\u001b[0m] \u001b[2m\u001b[97mprint_4btag_yields\u001b[0m(\u001b[2m\u001b[97msignal, bkg, data\u001b[0m)\n",
      "        [\u001b[2m\u001b[97mdisabled\u001b[0m] \u001b[2m\u001b[97mplot_4b_control\u001b[0m(\u001b[2m\u001b[97msignal, bkg, data\u001b[0m)\n",
      "        [\u001b[2m\u001b[97mdisabled\u001b[0m] \u001b[2m\u001b[97mprint_3btag_yields\u001b[0m(\u001b[2m\u001b[97msignal, bkg, data\u001b[0m)\n",
      "        [\u001b[2m\u001b[97mdisabled\u001b[0m] \u001b[2m\u001b[97mplot_3b_control\u001b[0m(\u001b[2m\u001b[97msignal, bkg, data\u001b[0m)\n",
      "        [\u001b[33mrunning \u001b[0m] \u001b[97mblind_data\u001b[0m(\u001b[2m\u001b[97mdata\u001b[0m)\n",
      "0:00:04 [\u001b[32m  done  \u001b[0m] 0:00:04\n",
      "        [\u001b[2m\u001b[97mdisabled\u001b[0m] \u001b[2m\u001b[97mprint_abcd_yields\u001b[0m(\u001b[2m\u001b[97msignal, bkg, data\u001b[0m)\n",
      "        [\u001b[2m\u001b[97mdisabled\u001b[0m] \u001b[2m\u001b[97mplot_3btag_datamc\u001b[0m(\u001b[2m\u001b[97mdata, bkg\u001b[0m)\n",
      "        [\u001b[2m\u001b[97mdisabled\u001b[0m] \u001b[2m\u001b[97mtrain_bdt\u001b[0m(\u001b[2m\u001b[97mdata\u001b[0m)\n",
      "        [\u001b[2m\u001b[97mdisabled\u001b[0m] \u001b[2m\u001b[97mbuild_bkg_model\u001b[0m(\u001b[2m\u001b[97msignal, bkg, data\u001b[0m)\n",
      "        [\u001b[2m\u001b[97mdisabled\u001b[0m] \u001b[2m\u001b[97mprint_sr_yields\u001b[0m(\u001b[2m\u001b[97msignal, bkg_model\u001b[0m)\n",
      "        [\u001b[2m\u001b[97mdisabled\u001b[0m] \u001b[2m\u001b[97mplot_limits\u001b[0m(\u001b[2m\u001b[97msignal, bkg_model\u001b[0m)\n",
      "        [\u001b[2m\u001b[97mdisabled\u001b[0m] \u001b[2m\u001b[97mtrain_bdt_classifier\u001b[0m(\u001b[2m\u001b[97msignal, bkg_model\u001b[0m)\n",
      "        [\u001b[2m\u001b[97mdisabled\u001b[0m] \u001b[2m\u001b[97mplot_bdt_classifier_validation\u001b[0m(\u001b[2m\u001b[97msignal, bkg_model\u001b[0m)\n",
      "        [\u001b[2m\u001b[97mdisabled\u001b[0m] \u001b[2m\u001b[97mplot_bdt_classifier_limits\u001b[0m(\u001b[2m\u001b[97msignal, bkg_model\u001b[0m)\n",
      "        [\u001b[2m\u001b[97mdisabled\u001b[0m] \u001b[2m\u001b[97mtrain_vr_bdt\u001b[0m(\u001b[2m\u001b[97mdata\u001b[0m)\n",
      "        [\u001b[2m\u001b[97mdisabled\u001b[0m] \u001b[2m\u001b[97mbuild_vr_bkg_model\u001b[0m(\u001b[2m\u001b[97mdata\u001b[0m)\n",
      "        [\u001b[2m\u001b[97mdisabled\u001b[0m] \u001b[2m\u001b[97mplot_vr_model\u001b[0m(\u001b[2m\u001b[97mdata, vr_bkg_model\u001b[0m)\n",
      "        [\u001b[2m\u001b[97mdisabled\u001b[0m] \u001b[2m\u001b[97mtrain_vr2_bdt\u001b[0m(\u001b[2m\u001b[97mdata\u001b[0m)\n",
      "        [\u001b[2m\u001b[97mdisabled\u001b[0m] \u001b[2m\u001b[97mbuild_vr2_bkg_model\u001b[0m(\u001b[2m\u001b[97mdata\u001b[0m)\n",
      "        [\u001b[2m\u001b[97mdisabled\u001b[0m] \u001b[2m\u001b[97mplot_vr2_model\u001b[0m(\u001b[2m\u001b[97mdata, vr2_bkg_model\u001b[0m)\n"
     ]
    }
   ],
   "source": [
    "analysis.run(['blind_data'])"
   ]
  },
  {
   "cell_type": "code",
   "execution_count": 7,
   "id": "383c3309",
   "metadata": {},
   "outputs": [],
   "source": [
    "tree = analysis.data[0]"
   ]
  },
  {
   "cell_type": "code",
   "execution_count": 8,
   "id": "233357c4",
   "metadata": {},
   "outputs": [
    {
     "data": {
      "text/plain": [
       "<Array [315366, 315366, ... 315713, 315713] type='3785883 * uint32'>"
      ]
     },
     "execution_count": 8,
     "metadata": {},
     "output_type": "execute_result"
    }
   ],
   "source": [
    "tree.run"
   ]
  },
  {
   "cell_type": "code",
   "execution_count": 9,
   "id": "01fd47a5",
   "metadata": {},
   "outputs": [],
   "source": [
    "from scripts.nanohh4b.nanohh4b import h_dm\n",
    "\n",
    "self = analysis\n",
    "\n",
    "bdt = ABCD(\n",
    "    features=['dHH_HH_regmass','dHH_HH_regpt'],\n",
    "    a=lambda t : (h_dm(t) <  25) & (self.n_btag(t) == 4),\n",
    "    b=lambda t : (h_dm(t) <  25) & (self.n_btag(t) == 3),\n",
    "    c=lambda t : (h_dm(t) >= 25) & (h_dm(t) < 50) & (self.n_btag(t) == 4),\n",
    "    d=lambda t : (h_dm(t) >= 25) & (h_dm(t) < 50) & (self.n_btag(t) == 3),\n",
    "    **self.bdt_reweighter,\n",
    ")"
   ]
  }
 ],
 "metadata": {
  "kernelspec": {
   "display_name": "Python 3 (ipykernel)",
   "language": "python",
   "name": "python3"
  },
  "language_info": {
   "codemirror_mode": {
    "name": "ipython",
    "version": 3
   },
   "file_extension": ".py",
   "mimetype": "text/x-python",
   "name": "python",
   "nbconvert_exporter": "python",
   "pygments_lexer": "ipython3",
   "version": "3.10.8"
  },
  "vscode": {
   "interpreter": {
    "hash": "99d8ad6568882febb6ca5d1c2307614594cf6684ed0ce2b9f63bf31341fdb3d5"
   }
  }
 },
 "nbformat": 4,
 "nbformat_minor": 5
}

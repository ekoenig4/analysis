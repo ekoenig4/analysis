{
 "cells": [
  {
   "cell_type": "code",
   "execution_count": 1,
   "id": "9bfa3b5a",
   "metadata": {},
   "outputs": [],
   "source": [
    "%load_ext autoreload\n",
    "%autoreload 2\n",
    "\n",
    "import os\n",
    "os.environ['KMP_WARNINGS'] = 'off'\n",
    "import sys\n",
    "import git\n",
    "\n",
    "import uproot as ut\n",
    "import awkward as ak\n",
    "import numpy as np\n",
    "import math\n",
    "import vector\n",
    "import sympy as sp\n",
    "\n",
    "import re\n",
    "from tqdm import tqdm\n",
    "import timeit\n",
    "import re\n",
    "\n",
    "sys.path.append( git.Repo('.', search_parent_directories=True).working_tree_dir )\n",
    "from utils import *"
   ]
  },
  {
   "cell_type": "code",
   "execution_count": 2,
   "id": "17c29ff9",
   "metadata": {},
   "outputs": [],
   "source": [
    "module = fc.eightb.preselection.t8btag_minmass"
   ]
  },
  {
   "cell_type": "code",
   "execution_count": 3,
   "id": "0cfe35d8",
   "metadata": {},
   "outputs": [
    {
     "name": "stderr",
     "output_type": "stream",
     "text": [
      "<lambda>: 100%|██████████| 33/33 [01:04<00:00,  1.94s/it]\n"
     ]
    }
   ],
   "source": [
    "signal = ObjIter(module.feynnet_signal_list).apply( lambda t : Tree(t, report=False), report=True )"
   ]
  },
  {
   "cell_type": "code",
   "execution_count": 7,
   "id": "056cdc11",
   "metadata": {},
   "outputs": [
    {
     "name": "stderr",
     "output_type": "stream",
     "text": [
      "f_load_feynnet_assignment: 100%|██████████| 33/33 [00:22<00:00,  1.47it/s]\n"
     ]
    }
   ],
   "source": [
    "# import multiprocessing as mp\n",
    "import concurrent.futures as cf\n",
    "\n",
    "load_feynnet = eightb.f_load_feynnet_assignment(model=eightb.models.feynnet_bkg_33sig.analysis)\n",
    "\n",
    "with cf.ProcessPoolExecutor(4) as pool:\n",
    "    signal.parallel_apply(load_feynnet, report=True, pool=pool)"
   ]
  },
  {
   "cell_type": "code",
   "execution_count": 8,
   "id": "a719c18a",
   "metadata": {},
   "outputs": [
    {
     "data": {
      "text/plain": [
       "[<Array [[-0.0592, 0.329, ... 0.837, 0.907]] type='51358 * option[var * float32]'>, <Array [[-0.0159, 0.635, ... -1.24, -0.739]] type='53704 * option[var * float32]'>, <Array [[2.12, 3.6, 3.36, ... 0.16, 0.53]] type='64659 * option[var * float32]'>, <Array [[-2.35, -1.78, ... 2.18, -0.283]] type='43044 * option[var * float32]'>, <Array [[2.14, 2.89, 2.78, ... 0.85, 2.27]] type='50109 * option[var * float32]'>, <Array [[0.133, -0.839, ... 1.68, 0.777]] type='71933 * option[var * float32]'>, <Array [[-0.678, 0.376, ... 0.929, -1.49]] type='50121 * option[var * float32]'>, <Array [[1.84, 0.466, 0.342, ... 0.1, -0.549]] type='51292 * option[var * float32]'>, <Array [[1.04, -0.255, ... -0.155, 0.53]] type='93725 * option[var * float32]'>, <Array [[0.945, 0.567, 1.46, ... 1.4, 0.222]] type='77767 * option[var * float32]'>, <Array [[-0.0901, 0.268, ... -0.13, 1.2]] type='52492 * option[var * float32]'>, <Array [[0.473, -1.44, ... -1.86, -0.349]] type='111216 * option[var * float32]'>, <Array [[-1.43, -0.682, ... -3.24, -0.859]] type='56471 * option[var * float32]'>, <Array [[-0.424, 1.32, -0.246, ... 1.79, 1]] type='104142 * option[var * float32]'>, <Array [[-2.19, -1.08, ... 0.855, -0.734]] type='81108 * option[var * float32]'>, <Array [[-0.208, -0.0944, ... 2.61, 2.69]] type='53618 * option[var * float32]'>, <Array [[0.383, 0.979, ... -0.496, -0.659]] type='116595 * option[var * float32]'>, <Array [[0.154, 0.0342, ... -1.13, -0.277]] type='107893 * option[var * float32]'>, <Array [[-1.71, -2.11, -2.7, ... -1.29, 0.287]] type='60258 * option[var * float32]'>, <Array [[0.00952, 0.761, ... 0.919, -1.28]] type='114921 * option[var * float32]'>, <Array [[-0.326, -0.404, ... 3.49, 3.25]] type='78119 * option[var * float32]'>, <Array [[-0.22, -0.739, ... -0.818, -0.0651]] type='106194 * option[var * float32]'>, <Array [[-1.07, -0.454, ... -0.249, 0.967]] type='114572 * option[var * float32]'>, <Array [[1.06, 0.217, 1.06, ... 0.245, 0.571]] type='123859 * option[var * float32]'>, <Array [[-0.618, 0.557, ... 0.375, 0.93]] type='124981 * option[var * float32]'>, <Array [[0.387, -2.69, -1.33, ... 1.64, 2.86]] type='123315 * option[var * float32]'>, <Array [[0.248, -0.557, ... -0.9, -2.15]] type='74413 * option[var * float32]'>, <Array [[0.762, -0.425, ... 1.14, 0.417]] type='99282 * option[var * float32]'>, <Array [[0.116, 0.444, ... 2.01, 2.23]] type='122299 * option[var * float32]'>, <Array [[0.369, 0.304, ... 0.342, 1.02]] type='109098 * option[var * float32]'>, <Array [[-1.07, 0.44, 0.115, ... 1.48, 1.44]] type='129884 * option[var * float32]'>, <Array [[1.03, 1.63, 0.897, ... -2.75, -1.44]] type='65170 * option[var * float32]'>, <Array [[-1.8, -1.47, ... 0.779, -0.0281]] type='108877 * option[var * float32]'>]"
      ]
     },
     "execution_count": 8,
     "metadata": {},
     "output_type": "execute_result"
    }
   ],
   "source": [
    "signal.apply(min_jet_deta)"
   ]
  }
 ],
 "metadata": {
  "kernelspec": {
   "display_name": "Python 3.9.15 ('py-env')",
   "language": "python",
   "name": "python3"
  },
  "language_info": {
   "codemirror_mode": {
    "name": "ipython",
    "version": 3
   },
   "file_extension": ".py",
   "mimetype": "text/x-python",
   "name": "python",
   "nbconvert_exporter": "python",
   "pygments_lexer": "ipython3",
   "version": "3.9.15"
  },
  "vscode": {
   "interpreter": {
    "hash": "99d8ad6568882febb6ca5d1c2307614594cf6684ed0ce2b9f63bf31341fdb3d5"
   }
  }
 },
 "nbformat": 4,
 "nbformat_minor": 5
}

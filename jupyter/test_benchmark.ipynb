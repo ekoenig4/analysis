{
 "cells": [
  {
   "cell_type": "code",
   "execution_count": 1,
   "id": "9bfa3b5a",
   "metadata": {},
   "outputs": [],
   "source": [
    "%load_ext autoreload\n",
    "%autoreload 2\n",
    "\n",
    "import os\n",
    "os.environ['KMP_WARNINGS'] = 'off'\n",
    "import sys\n",
    "import git\n",
    "\n",
    "import uproot as ut\n",
    "import awkward as ak\n",
    "import numpy as np\n",
    "import math\n",
    "import vector\n",
    "import sympy as sp\n",
    "\n",
    "import re\n",
    "from tqdm import tqdm\n",
    "import timeit\n",
    "import re\n",
    "\n",
    "sys.path.append( git.Repo('.', search_parent_directories=True).working_tree_dir )\n",
    "from utils import *"
   ]
  },
  {
   "cell_type": "code",
   "execution_count": 7,
   "id": "b486e709",
   "metadata": {},
   "outputs": [
    {
     "data": {
      "text/plain": [
       "(100000, 8)"
      ]
     },
     "execution_count": 7,
     "metadata": {},
     "output_type": "execute_result"
    }
   ],
   "source": [
    "np.stack([ np.random.permutation(8) for _ in range(100000) ]).shape"
   ]
  },
  {
   "cell_type": "code",
   "execution_count": null,
   "id": "8b82602a",
   "metadata": {},
   "outputs": [],
   "source": []
  },
  {
   "cell_type": "code",
   "execution_count": null,
   "id": "16a25e0f",
   "metadata": {},
   "outputs": [],
   "source": []
  },
  {
   "cell_type": "code",
   "execution_count": 2,
   "id": "c5e914a2",
   "metadata": {},
   "outputs": [
    {
     "name": "stderr",
     "output_type": "stream",
     "text": [
      "100%|██████████| 1/1 [00:00<00:00,  1.50it/s]\n",
      "100%|██████████| 1/1 [00:00<00:00,  1.77it/s]\n"
     ]
    }
   ],
   "source": [
    "signal = ObjIter([Tree(f, altfile='test_{base}') for f in fc.eightb.feynnet.feynnet_signal_list[25:27]])"
   ]
  },
  {
   "cell_type": "code",
   "execution_count": 3,
   "id": "e8c41cc7",
   "metadata": {},
   "outputs": [
    {
     "data": {
      "text/plain": [
       "[None, None]"
      ]
     },
     "execution_count": 3,
     "metadata": {},
     "output_type": "execute_result"
    }
   ],
   "source": [
    "signal.apply(lambda tree : eightb.load_feynnet_assignment(tree, model=eightb.models.feynnet_bkg_33sig.storage))"
   ]
  },
  {
   "cell_type": "code",
   "execution_count": 4,
   "id": "acd72518",
   "metadata": {},
   "outputs": [],
   "source": [
    "signal = signal.apply(EventFilter('eighbt',filter=lambda t:t.nfound_select==8))"
   ]
  },
  {
   "cell_type": "code",
   "execution_count": 5,
   "id": "ac0c7096",
   "metadata": {},
   "outputs": [
    {
     "data": {
      "text/plain": [
       "[None, None]"
      ]
     },
     "execution_count": 5,
     "metadata": {},
     "output_type": "execute_result"
    }
   ],
   "source": [
    "signal.apply(lambda tree : eightb.load_true_assignment(tree))"
   ]
  },
  {
   "cell_type": "code",
   "execution_count": 6,
   "id": "0c3fed26",
   "metadata": {},
   "outputs": [],
   "source": [
    "def get_h_j_dr(tree, prefix=''):\n",
    "    if prefix and not prefix.endswith('_'): prefix += '_'\n",
    "    j_p4 = build_p4(tree, prefix=prefix+'j')\n",
    "\n",
    "    j1_p4, j2_p4 = j_p4[:,::2], j_p4[:,1::2]\n",
    "    h_j_dr = calc_dr_p4(j1_p4, j2_p4)\n",
    "\n",
    "    tree.extend(\n",
    "        **{f'{prefix}h_j_dr': h_j_dr}\n",
    "    )"
   ]
  },
  {
   "cell_type": "code",
   "execution_count": 7,
   "id": "1ce2893c",
   "metadata": {},
   "outputs": [
    {
     "data": {
      "text/plain": [
       "[None, None]"
      ]
     },
     "execution_count": 7,
     "metadata": {},
     "output_type": "execute_result"
    }
   ],
   "source": [
    "signal.apply(get_h_j_dr)\n",
    "signal.apply(lambda t : get_h_j_dr(t, prefix='true'))"
   ]
  },
  {
   "cell_type": "code",
   "execution_count": 8,
   "id": "fe828003",
   "metadata": {},
   "outputs": [],
   "source": [
    "def get_y_h_dr(tree, prefix=''):\n",
    "    if prefix and not prefix.endswith('_'): prefix += '_'\n",
    "    h_p4 = build_p4(tree, prefix=prefix+'h')\n",
    "\n",
    "    h1_p4, h2_p4 = h_p4[:,::2], h_p4[:,1::2]\n",
    "    y_h_dr = calc_dr_p4(h1_p4, h2_p4)\n",
    "\n",
    "    tree.extend(\n",
    "        **{f'{prefix}y_h_dr': y_h_dr}\n",
    "    )"
   ]
  },
  {
   "cell_type": "code",
   "execution_count": 9,
   "id": "63c78ee7",
   "metadata": {},
   "outputs": [
    {
     "data": {
      "text/plain": [
       "[None, None]"
      ]
     },
     "execution_count": 9,
     "metadata": {},
     "output_type": "execute_result"
    }
   ],
   "source": [
    "signal.apply(get_y_h_dr)\n",
    "signal.apply(lambda t : get_y_h_dr(t, prefix='true'))"
   ]
  },
  {
   "cell_type": "code",
   "execution_count": 10,
   "id": "a6aae7e3",
   "metadata": {},
   "outputs": [
    {
     "data": {
      "text/plain": [
       "[<Array [0.805, 0.709, 0.792, 0.711] type='4 * ?float64'>, <Array [0.983, 0.983, 0.983, 0.984] type='4 * ?float64'>]"
      ]
     },
     "execution_count": 10,
     "metadata": {},
     "output_type": "execute_result"
    }
   ],
   "source": [
    "signal.apply(lambda t : ak.mean(t.h_signalId>-1,axis=0))"
   ]
  },
  {
   "cell_type": "code",
   "execution_count": 11,
   "id": "9cc22de2",
   "metadata": {},
   "outputs": [
    {
     "data": {
      "text/plain": [
       "[<Array [0.451, 0.452] type='2 * ?float64'>, <Array [0.981, 0.981] type='2 * ?float64'>]"
      ]
     },
     "execution_count": 11,
     "metadata": {},
     "output_type": "execute_result"
    }
   ],
   "source": [
    "signal.apply(lambda t : ak.mean(t.y_signalId>-1,axis=0))"
   ]
  },
  {
   "cell_type": "code",
   "execution_count": 27,
   "id": "d6e247c5",
   "metadata": {},
   "outputs": [],
   "source": [
    "def write_mass(t):\n",
    "    h_eff = ak.mean(t.h_signalId>-1,axis=0)\n",
    "    y_eff = ak.mean(t.y_signalId>-1,axis=0)\n",
    "\n",
    "    newtree = dict(\n",
    "        mx=t.mx,\n",
    "        my=t.my,\n",
    "        **{\n",
    "            f'h_eff'  : h_eff\n",
    "        },\n",
    "        **{\n",
    "            f'y_eff'  : y_eff\n",
    "        },\n",
    "    )\n",
    "\n",
    "    with ut.recreate(f'MX_{t.mx}_MY_{t.my}.root') as f:\n",
    "        f['tree'] = {\n",
    "            k : [v] for k,v in newtree.items()\n",
    "        }\n",
    "    # return newtree"
   ]
  },
  {
   "cell_type": "code",
   "execution_count": 28,
   "id": "9a01cafc",
   "metadata": {},
   "outputs": [
    {
     "data": {
      "text/plain": [
       "[None, None]"
      ]
     },
     "execution_count": 28,
     "metadata": {},
     "output_type": "execute_result"
    }
   ],
   "source": [
    "signal.apply(write_mass)"
   ]
  },
  {
   "cell_type": "code",
   "execution_count": null,
   "id": "02fce0ea",
   "metadata": {},
   "outputs": [],
   "source": []
  }
 ],
 "metadata": {
  "kernelspec": {
   "display_name": "Python 3.9.15 ('py-env')",
   "language": "python",
   "name": "python3"
  },
  "language_info": {
   "codemirror_mode": {
    "name": "ipython",
    "version": 3
   },
   "file_extension": ".py",
   "mimetype": "text/x-python",
   "name": "python",
   "nbconvert_exporter": "python",
   "pygments_lexer": "ipython3",
   "version": "3.9.15"
  },
  "vscode": {
   "interpreter": {
    "hash": "99d8ad6568882febb6ca5d1c2307614594cf6684ed0ce2b9f63bf31341fdb3d5"
   }
  }
 },
 "nbformat": 4,
 "nbformat_minor": 5
}

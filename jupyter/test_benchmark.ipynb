{
 "cells": [
  {
   "cell_type": "code",
   "execution_count": 1,
   "id": "9bfa3b5a",
   "metadata": {},
   "outputs": [],
   "source": [
    "%load_ext autoreload\n",
    "%autoreload 2\n",
    "\n",
    "import os\n",
    "import sys\n",
    "import git\n",
    "\n",
    "import uproot as ut\n",
    "import awkward as ak\n",
    "import numpy as np\n",
    "import math\n",
    "import vector\n",
    "import sympy as sp\n",
    "\n",
    "import re\n",
    "from tqdm import tqdm\n",
    "import timeit\n",
    "import re\n",
    "\n",
    "sys.path.append( git.Repo('.', search_parent_directories=True).working_tree_dir )\n",
    "from utils import *"
   ]
  },
  {
   "cell_type": "code",
   "execution_count": 2,
   "id": "6edca911",
   "metadata": {},
   "outputs": [],
   "source": [
    "%load_ext line_profiler\n",
    "%load_ext memory_profiler"
   ]
  },
  {
   "cell_type": "code",
   "execution_count": 3,
   "id": "cca5c0c3",
   "metadata": {},
   "outputs": [
    {
     "name": "stdout",
     "output_type": "stream",
     "text": [
      "peak memory: 302.05 MiB, increment: 127.55 MiB\n"
     ]
    }
   ],
   "source": [
    "%memit tree = Tree(fc.eightb.preselection.Bkg_MC_List)"
   ]
  },
  {
   "cell_type": "code",
   "execution_count": 4,
   "id": "9daf618c",
   "metadata": {},
   "outputs": [],
   "source": [
    "def get_component_fields(tree, pattern):\n",
    "    fields = list(filter(lambda field: re.match(pattern, field), tree.fields))\n",
    "    components = dict.fromkeys([re.search(pattern, field)[0]\n",
    "                                for field in fields if re.search(pattern, field)]).keys()\n",
    "\n",
    "    shared_fields = list(set.intersection(*[set(map(lambda field: field[len(component)+1:], filter(\n",
    "        lambda field: field.startswith(component), fields))) for component in components]))\n",
    "    components = [get_collection(tree, component, named=False)[\n",
    "        shared_fields] for component in components]\n",
    "    \n",
    "    return components,shared_fields"
   ]
  },
  {
   "cell_type": "code",
   "execution_count": 5,
   "id": "33346c8f",
   "metadata": {},
   "outputs": [],
   "source": [
    "name = 'bjet'\n",
    "pattern = 'H\\dY\\d_b\\d'\n"
   ]
  },
  {
   "cell_type": "code",
   "execution_count": 6,
   "id": "f87ba703",
   "metadata": {},
   "outputs": [
    {
     "data": {
      "text/plain": [
       "(<LRUArrayCache (0/100000000 bytes full) at 0x7f8b27b04400>,)"
      ]
     },
     "execution_count": 6,
     "metadata": {},
     "output_type": "execute_result"
    }
   ],
   "source": [
    "tree.ttree.caches"
   ]
  },
  {
   "cell_type": "code",
   "execution_count": 7,
   "id": "01df50fd",
   "metadata": {},
   "outputs": [
    {
     "name": "stdout",
     "output_type": "stream",
     "text": [
      "peak memory: 301.34 MiB, increment: 0.20 MiB\n"
     ]
    }
   ],
   "source": [
    "%memit get_component_fields(tree, pattern)"
   ]
  },
  {
   "cell_type": "code",
   "execution_count": 8,
   "id": "01df50fd",
   "metadata": {},
   "outputs": [
    {
     "name": "stdout",
     "output_type": "stream",
     "text": [
      "peak memory: 302.23 MiB, increment: 0.81 MiB\n"
     ]
    }
   ],
   "source": [
    "%memit components, shared_fields = get_component_fields(tree, pattern)"
   ]
  },
  {
   "cell_type": "code",
   "execution_count": 31,
   "id": "fdce3566",
   "metadata": {},
   "outputs": [],
   "source": [
    "field = 'phi'"
   ]
  },
  {
   "cell_type": "code",
   "execution_count": 53,
   "id": "70ab6964",
   "metadata": {},
   "outputs": [
    {
     "name": "stdout",
     "output_type": "stream",
     "text": [
      "peak memory: 1071.28 MiB, increment: 0.00 MiB\n"
     ]
    }
   ],
   "source": [
    "%memit arrays = [ component[field][:,None] for component in components ]"
   ]
  },
  {
   "cell_type": "code",
   "execution_count": 54,
   "id": "00f80de2",
   "metadata": {},
   "outputs": [],
   "source": [
    "array = ak.virtual(ak.concatenate, args=(arrays,), kwargs={'axis':-1})"
   ]
  },
  {
   "cell_type": "code",
   "execution_count": 78,
   "id": "fba285c7",
   "metadata": {},
   "outputs": [
    {
     "name": "stdout",
     "output_type": "stream",
     "text": [
      "peak memory: 1264.91 MiB, increment: 0.00 MiB\n"
     ]
    }
   ],
   "source": [
    "%memit array = ak.concatenate(arrays,axis=-1)"
   ]
  },
  {
   "cell_type": "code",
   "execution_count": 91,
   "id": "8ae1368d",
   "metadata": {},
   "outputs": [],
   "source": [
    "class virtual_collection:\n",
    "    def __init__(self, collection):\n",
    "        self.collection = collection\n",
    "    def __call__(self):\n",
    "        return ak.Array(self.collection)"
   ]
  },
  {
   "cell_type": "code",
   "execution_count": 93,
   "id": "331fd315",
   "metadata": {},
   "outputs": [],
   "source": [
    "array = ak.virtual( virtual_collection(components[0].pt) )"
   ]
  },
  {
   "cell_type": "code",
   "execution_count": 94,
   "id": "c1422631",
   "metadata": {},
   "outputs": [
    {
     "ename": "ValueError",
     "evalue": "content argument must be a Content subtype\n\n(https://github.com/scikit-hep/awkward-1.0/blob/1.7.0/src/python/content.cpp#L342)",
     "output_type": "error",
     "traceback": [
      "\u001b[0;31m---------------------------------------------------------------------------\u001b[0m",
      "\u001b[0;31mValueError\u001b[0m                                Traceback (most recent call last)",
      "File \u001b[0;32m~/nobackup/miniconda3/envs/torch-gpu/lib/python3.8/site-packages/IPython/core/formatters.py:707\u001b[0m, in \u001b[0;36mPlainTextFormatter.__call__\u001b[0;34m(self, obj)\u001b[0m\n\u001b[1;32m    <a href='file:///~/nobackup/miniconda3/envs/torch-gpu/lib/python3.8/site-packages/IPython/core/formatters.py?line=699'>700</a>\u001b[0m stream \u001b[39m=\u001b[39m StringIO()\n\u001b[1;32m    <a href='file:///~/nobackup/miniconda3/envs/torch-gpu/lib/python3.8/site-packages/IPython/core/formatters.py?line=700'>701</a>\u001b[0m printer \u001b[39m=\u001b[39m pretty\u001b[39m.\u001b[39mRepresentationPrinter(stream, \u001b[39mself\u001b[39m\u001b[39m.\u001b[39mverbose,\n\u001b[1;32m    <a href='file:///~/nobackup/miniconda3/envs/torch-gpu/lib/python3.8/site-packages/IPython/core/formatters.py?line=701'>702</a>\u001b[0m     \u001b[39mself\u001b[39m\u001b[39m.\u001b[39mmax_width, \u001b[39mself\u001b[39m\u001b[39m.\u001b[39mnewline,\n\u001b[1;32m    <a href='file:///~/nobackup/miniconda3/envs/torch-gpu/lib/python3.8/site-packages/IPython/core/formatters.py?line=702'>703</a>\u001b[0m     max_seq_length\u001b[39m=\u001b[39m\u001b[39mself\u001b[39m\u001b[39m.\u001b[39mmax_seq_length,\n\u001b[1;32m    <a href='file:///~/nobackup/miniconda3/envs/torch-gpu/lib/python3.8/site-packages/IPython/core/formatters.py?line=703'>704</a>\u001b[0m     singleton_pprinters\u001b[39m=\u001b[39m\u001b[39mself\u001b[39m\u001b[39m.\u001b[39msingleton_printers,\n\u001b[1;32m    <a href='file:///~/nobackup/miniconda3/envs/torch-gpu/lib/python3.8/site-packages/IPython/core/formatters.py?line=704'>705</a>\u001b[0m     type_pprinters\u001b[39m=\u001b[39m\u001b[39mself\u001b[39m\u001b[39m.\u001b[39mtype_printers,\n\u001b[1;32m    <a href='file:///~/nobackup/miniconda3/envs/torch-gpu/lib/python3.8/site-packages/IPython/core/formatters.py?line=705'>706</a>\u001b[0m     deferred_pprinters\u001b[39m=\u001b[39m\u001b[39mself\u001b[39m\u001b[39m.\u001b[39mdeferred_printers)\n\u001b[0;32m--> <a href='file:///~/nobackup/miniconda3/envs/torch-gpu/lib/python3.8/site-packages/IPython/core/formatters.py?line=706'>707</a>\u001b[0m printer\u001b[39m.\u001b[39;49mpretty(obj)\n\u001b[1;32m    <a href='file:///~/nobackup/miniconda3/envs/torch-gpu/lib/python3.8/site-packages/IPython/core/formatters.py?line=707'>708</a>\u001b[0m printer\u001b[39m.\u001b[39mflush()\n\u001b[1;32m    <a href='file:///~/nobackup/miniconda3/envs/torch-gpu/lib/python3.8/site-packages/IPython/core/formatters.py?line=708'>709</a>\u001b[0m \u001b[39mreturn\u001b[39;00m stream\u001b[39m.\u001b[39mgetvalue()\n",
      "File \u001b[0;32m~/nobackup/miniconda3/envs/torch-gpu/lib/python3.8/site-packages/IPython/lib/pretty.py:410\u001b[0m, in \u001b[0;36mRepresentationPrinter.pretty\u001b[0;34m(self, obj)\u001b[0m\n\u001b[1;32m    <a href='file:///~/nobackup/miniconda3/envs/torch-gpu/lib/python3.8/site-packages/IPython/lib/pretty.py?line=406'>407</a>\u001b[0m                         \u001b[39mreturn\u001b[39;00m meth(obj, \u001b[39mself\u001b[39m, cycle)\n\u001b[1;32m    <a href='file:///~/nobackup/miniconda3/envs/torch-gpu/lib/python3.8/site-packages/IPython/lib/pretty.py?line=407'>408</a>\u001b[0m                 \u001b[39mif\u001b[39;00m \u001b[39mcls\u001b[39m \u001b[39mis\u001b[39;00m \u001b[39mnot\u001b[39;00m \u001b[39mobject\u001b[39m \\\n\u001b[1;32m    <a href='file:///~/nobackup/miniconda3/envs/torch-gpu/lib/python3.8/site-packages/IPython/lib/pretty.py?line=408'>409</a>\u001b[0m                         \u001b[39mand\u001b[39;00m callable(\u001b[39mcls\u001b[39m\u001b[39m.\u001b[39m\u001b[39m__dict__\u001b[39m\u001b[39m.\u001b[39mget(\u001b[39m'\u001b[39m\u001b[39m__repr__\u001b[39m\u001b[39m'\u001b[39m)):\n\u001b[0;32m--> <a href='file:///~/nobackup/miniconda3/envs/torch-gpu/lib/python3.8/site-packages/IPython/lib/pretty.py?line=409'>410</a>\u001b[0m                     \u001b[39mreturn\u001b[39;00m _repr_pprint(obj, \u001b[39mself\u001b[39;49m, cycle)\n\u001b[1;32m    <a href='file:///~/nobackup/miniconda3/envs/torch-gpu/lib/python3.8/site-packages/IPython/lib/pretty.py?line=411'>412</a>\u001b[0m     \u001b[39mreturn\u001b[39;00m _default_pprint(obj, \u001b[39mself\u001b[39m, cycle)\n\u001b[1;32m    <a href='file:///~/nobackup/miniconda3/envs/torch-gpu/lib/python3.8/site-packages/IPython/lib/pretty.py?line=412'>413</a>\u001b[0m \u001b[39mfinally\u001b[39;00m:\n",
      "File \u001b[0;32m~/nobackup/miniconda3/envs/torch-gpu/lib/python3.8/site-packages/IPython/lib/pretty.py:778\u001b[0m, in \u001b[0;36m_repr_pprint\u001b[0;34m(obj, p, cycle)\u001b[0m\n\u001b[1;32m    <a href='file:///~/nobackup/miniconda3/envs/torch-gpu/lib/python3.8/site-packages/IPython/lib/pretty.py?line=775'>776</a>\u001b[0m \u001b[39m\"\"\"A pprint that just redirects to the normal repr function.\"\"\"\u001b[39;00m\n\u001b[1;32m    <a href='file:///~/nobackup/miniconda3/envs/torch-gpu/lib/python3.8/site-packages/IPython/lib/pretty.py?line=776'>777</a>\u001b[0m \u001b[39m# Find newlines and replace them with p.break_()\u001b[39;00m\n\u001b[0;32m--> <a href='file:///~/nobackup/miniconda3/envs/torch-gpu/lib/python3.8/site-packages/IPython/lib/pretty.py?line=777'>778</a>\u001b[0m output \u001b[39m=\u001b[39m \u001b[39mrepr\u001b[39;49m(obj)\n\u001b[1;32m    <a href='file:///~/nobackup/miniconda3/envs/torch-gpu/lib/python3.8/site-packages/IPython/lib/pretty.py?line=778'>779</a>\u001b[0m lines \u001b[39m=\u001b[39m output\u001b[39m.\u001b[39msplitlines()\n\u001b[1;32m    <a href='file:///~/nobackup/miniconda3/envs/torch-gpu/lib/python3.8/site-packages/IPython/lib/pretty.py?line=779'>780</a>\u001b[0m \u001b[39mwith\u001b[39;00m p\u001b[39m.\u001b[39mgroup():\n",
      "File \u001b[0;32m~/nobackup/miniconda3/envs/torch-gpu/lib/python3.8/site-packages/awkward/highlevel.py:1307\u001b[0m, in \u001b[0;36mArray.__repr__\u001b[0;34m(self)\u001b[0m\n\u001b[1;32m   <a href='file:///~/nobackup/miniconda3/envs/torch-gpu/lib/python3.8/site-packages/awkward/highlevel.py?line=1291'>1292</a>\u001b[0m \u001b[39mdef\u001b[39;00m \u001b[39m__repr__\u001b[39m(\u001b[39mself\u001b[39m):\n\u001b[1;32m   <a href='file:///~/nobackup/miniconda3/envs/torch-gpu/lib/python3.8/site-packages/awkward/highlevel.py?line=1292'>1293</a>\u001b[0m     \u001b[39m\"\"\"\u001b[39;00m\n\u001b[1;32m   <a href='file:///~/nobackup/miniconda3/envs/torch-gpu/lib/python3.8/site-packages/awkward/highlevel.py?line=1293'>1294</a>\u001b[0m \u001b[39m    Args:\u001b[39;00m\n\u001b[1;32m   <a href='file:///~/nobackup/miniconda3/envs/torch-gpu/lib/python3.8/site-packages/awkward/highlevel.py?line=1294'>1295</a>\u001b[0m \u001b[39m        limit_value (int): Maximum number of characters to use when\u001b[39;00m\n\u001b[0;32m   (...)\u001b[0m\n\u001b[1;32m   <a href='file:///~/nobackup/miniconda3/envs/torch-gpu/lib/python3.8/site-packages/awkward/highlevel.py?line=1304'>1305</a>\u001b[0m \u001b[39m    of its string (the outermost data structures).\u001b[39;00m\n\u001b[1;32m   <a href='file:///~/nobackup/miniconda3/envs/torch-gpu/lib/python3.8/site-packages/awkward/highlevel.py?line=1305'>1306</a>\u001b[0m \u001b[39m    \"\"\"\u001b[39;00m\n\u001b[0;32m-> <a href='file:///~/nobackup/miniconda3/envs/torch-gpu/lib/python3.8/site-packages/awkward/highlevel.py?line=1306'>1307</a>\u001b[0m     \u001b[39mreturn\u001b[39;00m \u001b[39mself\u001b[39;49m\u001b[39m.\u001b[39;49m_repr()\n",
      "File \u001b[0;32m~/nobackup/miniconda3/envs/torch-gpu/lib/python3.8/site-packages/awkward/highlevel.py:1318\u001b[0m, in \u001b[0;36mArray._repr\u001b[0;34m(self, limit_value, limit_total)\u001b[0m\n\u001b[1;32m   <a href='file:///~/nobackup/miniconda3/envs/torch-gpu/lib/python3.8/site-packages/awkward/highlevel.py?line=1314'>1315</a>\u001b[0m suffix \u001b[39m=\u001b[39m _suffix(\u001b[39mself\u001b[39m)\n\u001b[1;32m   <a href='file:///~/nobackup/miniconda3/envs/torch-gpu/lib/python3.8/site-packages/awkward/highlevel.py?line=1315'>1316</a>\u001b[0m limit_value \u001b[39m-\u001b[39m\u001b[39m=\u001b[39m \u001b[39mlen\u001b[39m(suffix)\n\u001b[0;32m-> <a href='file:///~/nobackup/miniconda3/envs/torch-gpu/lib/python3.8/site-packages/awkward/highlevel.py?line=1317'>1318</a>\u001b[0m value \u001b[39m=\u001b[39m ak\u001b[39m.\u001b[39;49m_util\u001b[39m.\u001b[39;49mminimally_touching_string(\n\u001b[1;32m   <a href='file:///~/nobackup/miniconda3/envs/torch-gpu/lib/python3.8/site-packages/awkward/highlevel.py?line=1318'>1319</a>\u001b[0m     limit_value, \u001b[39mself\u001b[39;49m\u001b[39m.\u001b[39;49mlayout, \u001b[39mself\u001b[39;49m\u001b[39m.\u001b[39;49m_behavior\n\u001b[1;32m   <a href='file:///~/nobackup/miniconda3/envs/torch-gpu/lib/python3.8/site-packages/awkward/highlevel.py?line=1319'>1320</a>\u001b[0m )\n\u001b[1;32m   <a href='file:///~/nobackup/miniconda3/envs/torch-gpu/lib/python3.8/site-packages/awkward/highlevel.py?line=1321'>1322</a>\u001b[0m \u001b[39mtry\u001b[39;00m:\n\u001b[1;32m   <a href='file:///~/nobackup/miniconda3/envs/torch-gpu/lib/python3.8/site-packages/awkward/highlevel.py?line=1322'>1323</a>\u001b[0m     name \u001b[39m=\u001b[39m \u001b[39msuper\u001b[39m(Array, \u001b[39mself\u001b[39m)\u001b[39m.\u001b[39m\u001b[39m__getattribute__\u001b[39m(\u001b[39m\"\u001b[39m\u001b[39m__name__\u001b[39m\u001b[39m\"\u001b[39m)\n",
      "File \u001b[0;32m~/nobackup/miniconda3/envs/torch-gpu/lib/python3.8/site-packages/awkward/_util.py:1563\u001b[0m, in \u001b[0;36mminimally_touching_string\u001b[0;34m(limit_length, layout, behavior)\u001b[0m\n\u001b[1;32m   <a href='file:///~/nobackup/miniconda3/envs/torch-gpu/lib/python3.8/site-packages/awkward/_util.py?line=1559'>1560</a>\u001b[0m \u001b[39mif\u001b[39;00m \u001b[39misinstance\u001b[39m(layout, ak\u001b[39m.\u001b[39mlayout\u001b[39m.\u001b[39mRecord):\n\u001b[1;32m   <a href='file:///~/nobackup/miniconda3/envs/torch-gpu/lib/python3.8/site-packages/awkward/_util.py?line=1560'>1561</a>\u001b[0m     layout \u001b[39m=\u001b[39m layout\u001b[39m.\u001b[39marray[layout\u001b[39m.\u001b[39mat : layout\u001b[39m.\u001b[39mat \u001b[39m+\u001b[39m \u001b[39m1\u001b[39m]\n\u001b[0;32m-> <a href='file:///~/nobackup/miniconda3/envs/torch-gpu/lib/python3.8/site-packages/awkward/_util.py?line=1562'>1563</a>\u001b[0m \u001b[39mif\u001b[39;00m \u001b[39mlen\u001b[39;49m(layout) \u001b[39m==\u001b[39m \u001b[39m0\u001b[39m:\n\u001b[1;32m   <a href='file:///~/nobackup/miniconda3/envs/torch-gpu/lib/python3.8/site-packages/awkward/_util.py?line=1563'>1564</a>\u001b[0m     \u001b[39mreturn\u001b[39;00m \u001b[39m\"\u001b[39m\u001b[39m[]\u001b[39m\u001b[39m\"\u001b[39m\n\u001b[1;32m   <a href='file:///~/nobackup/miniconda3/envs/torch-gpu/lib/python3.8/site-packages/awkward/_util.py?line=1565'>1566</a>\u001b[0m \u001b[39mdef\u001b[39;00m \u001b[39mforward\u001b[39m(x, space, brackets\u001b[39m=\u001b[39m\u001b[39mTrue\u001b[39;00m, wrap\u001b[39m=\u001b[39m\u001b[39mTrue\u001b[39;00m, stop\u001b[39m=\u001b[39m\u001b[39mNone\u001b[39;00m):\n",
      "\u001b[0;31mValueError\u001b[0m: content argument must be a Content subtype\n\n(https://github.com/scikit-hep/awkward-1.0/blob/1.7.0/src/python/content.cpp#L342)"
     ]
    }
   ],
   "source": [
    "array"
   ]
  },
  {
   "cell_type": "code",
   "execution_count": 83,
   "id": "24fc7418",
   "metadata": {},
   "outputs": [],
   "source": [
    "def genarray():\n",
    "    return ak.Array([1,2,3,4])"
   ]
  },
  {
   "cell_type": "code",
   "execution_count": 84,
   "id": "69634290",
   "metadata": {},
   "outputs": [],
   "source": [
    "array = ak.virtual(genarray)"
   ]
  },
  {
   "cell_type": "code",
   "execution_count": 87,
   "id": "08d1883f",
   "metadata": {},
   "outputs": [],
   "source": [
    "array = components[0].pt"
   ]
  },
  {
   "cell_type": "code",
   "execution_count": 90,
   "id": "ba6bcf8a",
   "metadata": {},
   "outputs": [
    {
     "data": {
      "text/plain": [
       "<Array [105, 120, 57.4, 100, ... 101, 291, 68] type='2638036 * float32'>"
      ]
     },
     "execution_count": 90,
     "metadata": {},
     "output_type": "execute_result"
    }
   ],
   "source": [
    "ak.Array(array)"
   ]
  },
  {
   "cell_type": "code",
   "execution_count": null,
   "id": "26ba73ea",
   "metadata": {},
   "outputs": [],
   "source": []
  }
 ],
 "metadata": {
  "interpreter": {
   "hash": "0dc50badf6bcf34ee37feb4ddab24eb1b71716d96fc6cae89d10c22f5e3462c0"
  },
  "kernelspec": {
   "display_name": "Python 3.8.10 64-bit ('base': conda)",
   "name": "python3"
  },
  "language_info": {
   "codemirror_mode": {
    "name": "ipython",
    "version": 3
   },
   "file_extension": ".py",
   "mimetype": "text/x-python",
   "name": "python",
   "nbconvert_exporter": "python",
   "pygments_lexer": "ipython3",
   "version": "3.8.12"
  }
 },
 "nbformat": 4,
 "nbformat_minor": 5
}

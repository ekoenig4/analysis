{
 "cells": [
  {
   "cell_type": "code",
   "execution_count": 1,
   "id": "fff36497",
   "metadata": {},
   "outputs": [
    {
     "name": "stdout",
     "output_type": "stream",
     "text": [
      "c0709a-s30.ufhpc\n"
     ]
    }
   ],
   "source": [
    "!hostname"
   ]
  },
  {
   "cell_type": "code",
   "execution_count": 3,
   "id": "9bfa3b5a",
   "metadata": {},
   "outputs": [],
   "source": [
    "%load_ext autoreload\n",
    "%autoreload 2\n",
    "\n",
    "import os\n",
    "os.environ['KMP_WARNINGS'] = 'off'\n",
    "import sys\n",
    "import git\n",
    "\n",
    "import uproot as ut\n",
    "import awkward as ak\n",
    "import numpy as np\n",
    "import math\n",
    "import vector\n",
    "import sympy as sp\n",
    "\n",
    "import re\n",
    "from tqdm import tqdm\n",
    "import timeit\n",
    "import re\n",
    "\n",
    "sys.path.append( git.Repo('.', search_parent_directories=True).working_tree_dir )\n",
    "from utils import *"
   ]
  },
  {
   "cell_type": "code",
   "execution_count": 4,
   "id": "52d577a5",
   "metadata": {},
   "outputs": [
    {
     "name": "stderr",
     "output_type": "stream",
     "text": [
      "  0%|          | 0/1 [00:00<?, ?it/s]"
     ]
    },
    {
     "name": "stdout",
     "output_type": "stream",
     "text": [
      "Using local path: /cmsuf/data/store/user/ekoenig/root/cmseos.fnal.gov/store/user/srosenzw/sixb/ntuples/Summer2018UL/maxbtag_4b/Official_NMSSM/btagsf/NMSSM_XToYHTo6B_MX-700_MY-400_TuneCP5_13TeV-madgraph-pythia8/ntuple.root\n",
      "Copying root://cmseos.fnal.gov//store/user/srosenzw/sixb/ntuples/Summer2018UL/maxbtag_4b/Official_NMSSM/btagsf/NMSSM_XToYHTo6B_MX-700_MY-400_TuneCP5_13TeV-madgraph-pythia8/ntuple.root to local path\n"
     ]
    },
    {
     "name": "stderr",
     "output_type": "stream",
     "text": [
      "[241.7MB/241.7MB][100%][==================================================][26.86MB/s]  \n",
      "100%|██████████| 1/1 [00:09<00:00,  9.82s/it]\n"
     ]
    }
   ],
   "source": [
    "fname = 'root://cmseos.fnal.gov//store/user/srosenzw/sixb/ntuples/Summer2018UL/maxbtag_4b/Official_NMSSM/btagsf/NMSSM_XToYHTo6B_MX-700_MY-400_TuneCP5_13TeV-madgraph-pythia8/ntuple.root'\n",
    "\n",
    "tree = Tree(fname)"
   ]
  },
  {
   "cell_type": "code",
   "execution_count": 5,
   "id": "e4a6d099",
   "metadata": {},
   "outputs": [
    {
     "data": {
      "text/plain": [
       "['Event',\n",
       " 'H1_b1_btag',\n",
       " 'H1_b1_eta',\n",
       " 'H1_b1_genHflag',\n",
       " 'H1_b1_m',\n",
       " 'H1_b1_phi',\n",
       " 'H1_b1_pt',\n",
       " 'H1_b2_btag',\n",
       " 'H1_b2_eta',\n",
       " 'H1_b2_genHflag',\n",
       " 'H1_b2_m',\n",
       " 'H1_b2_phi',\n",
       " 'H1_b2_pt',\n",
       " 'H1_eta',\n",
       " 'H1_m',\n",
       " 'H1_phi',\n",
       " 'H1_pt',\n",
       " 'H2_b1_btag',\n",
       " 'H2_b1_eta',\n",
       " 'H2_b1_genHflag',\n",
       " 'H2_b1_m',\n",
       " 'H2_b1_phi',\n",
       " 'H2_b1_pt',\n",
       " 'H2_b2_btag',\n",
       " 'H2_b2_eta',\n",
       " 'H2_b2_genHflag',\n",
       " 'H2_b2_m',\n",
       " 'H2_b2_phi',\n",
       " 'H2_b2_pt',\n",
       " 'H2_eta',\n",
       " 'H2_m',\n",
       " 'H2_phi',\n",
       " 'H2_pt',\n",
       " 'HLT_PFHT330PT30_QuadPFJet_75_60_45_40_TriplePFBTagDeepCSV_4p5',\n",
       " 'HLT_PFHT330PT30_QuadPFJet_75_60_45_40_TriplePFBTagDeepCSV_4p5_ObjectMatched',\n",
       " 'HX_b1_btag',\n",
       " 'HX_b1_eta',\n",
       " 'HX_b1_genHflag',\n",
       " 'HX_b1_m',\n",
       " 'HX_b1_phi',\n",
       " 'HX_b1_pt',\n",
       " 'HX_b2_btag',\n",
       " 'HX_b2_eta',\n",
       " 'HX_b2_genHflag',\n",
       " 'HX_b2_m',\n",
       " 'HX_b2_phi',\n",
       " 'HX_b2_pt',\n",
       " 'HX_eta',\n",
       " 'HX_m',\n",
       " 'HX_phi',\n",
       " 'HX_pt',\n",
       " 'LHEPdfWeight',\n",
       " 'LHEPdfWeight_var0',\n",
       " 'LHEPdfWeight_var1',\n",
       " 'LHEPdfWeight_var10',\n",
       " 'LHEPdfWeight_var100',\n",
       " 'LHEPdfWeight_var11',\n",
       " 'LHEPdfWeight_var12',\n",
       " 'LHEPdfWeight_var13',\n",
       " 'LHEPdfWeight_var14',\n",
       " 'LHEPdfWeight_var15',\n",
       " 'LHEPdfWeight_var16',\n",
       " 'LHEPdfWeight_var17',\n",
       " 'LHEPdfWeight_var18',\n",
       " 'LHEPdfWeight_var19',\n",
       " 'LHEPdfWeight_var2',\n",
       " 'LHEPdfWeight_var20',\n",
       " 'LHEPdfWeight_var21',\n",
       " 'LHEPdfWeight_var22',\n",
       " 'LHEPdfWeight_var23',\n",
       " 'LHEPdfWeight_var24',\n",
       " 'LHEPdfWeight_var25',\n",
       " 'LHEPdfWeight_var26',\n",
       " 'LHEPdfWeight_var27',\n",
       " 'LHEPdfWeight_var28',\n",
       " 'LHEPdfWeight_var29',\n",
       " 'LHEPdfWeight_var3',\n",
       " 'LHEPdfWeight_var30',\n",
       " 'LHEPdfWeight_var31',\n",
       " 'LHEPdfWeight_var32',\n",
       " 'LHEPdfWeight_var33',\n",
       " 'LHEPdfWeight_var34',\n",
       " 'LHEPdfWeight_var35',\n",
       " 'LHEPdfWeight_var36',\n",
       " 'LHEPdfWeight_var37',\n",
       " 'LHEPdfWeight_var38',\n",
       " 'LHEPdfWeight_var39',\n",
       " 'LHEPdfWeight_var4',\n",
       " 'LHEPdfWeight_var40',\n",
       " 'LHEPdfWeight_var41',\n",
       " 'LHEPdfWeight_var42',\n",
       " 'LHEPdfWeight_var43',\n",
       " 'LHEPdfWeight_var44',\n",
       " 'LHEPdfWeight_var45',\n",
       " 'LHEPdfWeight_var46',\n",
       " 'LHEPdfWeight_var47',\n",
       " 'LHEPdfWeight_var48',\n",
       " 'LHEPdfWeight_var49',\n",
       " 'LHEPdfWeight_var5',\n",
       " 'LHEPdfWeight_var50',\n",
       " 'LHEPdfWeight_var51',\n",
       " 'LHEPdfWeight_var52',\n",
       " 'LHEPdfWeight_var53',\n",
       " 'LHEPdfWeight_var54',\n",
       " 'LHEPdfWeight_var55',\n",
       " 'LHEPdfWeight_var56',\n",
       " 'LHEPdfWeight_var57',\n",
       " 'LHEPdfWeight_var58',\n",
       " 'LHEPdfWeight_var59',\n",
       " 'LHEPdfWeight_var6',\n",
       " 'LHEPdfWeight_var60',\n",
       " 'LHEPdfWeight_var61',\n",
       " 'LHEPdfWeight_var62',\n",
       " 'LHEPdfWeight_var63',\n",
       " 'LHEPdfWeight_var64',\n",
       " 'LHEPdfWeight_var65',\n",
       " 'LHEPdfWeight_var66',\n",
       " 'LHEPdfWeight_var67',\n",
       " 'LHEPdfWeight_var68',\n",
       " 'LHEPdfWeight_var69',\n",
       " 'LHEPdfWeight_var7',\n",
       " 'LHEPdfWeight_var70',\n",
       " 'LHEPdfWeight_var71',\n",
       " 'LHEPdfWeight_var72',\n",
       " 'LHEPdfWeight_var73',\n",
       " 'LHEPdfWeight_var74',\n",
       " 'LHEPdfWeight_var75',\n",
       " 'LHEPdfWeight_var76',\n",
       " 'LHEPdfWeight_var77',\n",
       " 'LHEPdfWeight_var78',\n",
       " 'LHEPdfWeight_var79',\n",
       " 'LHEPdfWeight_var8',\n",
       " 'LHEPdfWeight_var80',\n",
       " 'LHEPdfWeight_var81',\n",
       " 'LHEPdfWeight_var82',\n",
       " 'LHEPdfWeight_var83',\n",
       " 'LHEPdfWeight_var84',\n",
       " 'LHEPdfWeight_var85',\n",
       " 'LHEPdfWeight_var86',\n",
       " 'LHEPdfWeight_var87',\n",
       " 'LHEPdfWeight_var88',\n",
       " 'LHEPdfWeight_var89',\n",
       " 'LHEPdfWeight_var9',\n",
       " 'LHEPdfWeight_var90',\n",
       " 'LHEPdfWeight_var91',\n",
       " 'LHEPdfWeight_var92',\n",
       " 'LHEPdfWeight_var93',\n",
       " 'LHEPdfWeight_var94',\n",
       " 'LHEPdfWeight_var95',\n",
       " 'LHEPdfWeight_var96',\n",
       " 'LHEPdfWeight_var97',\n",
       " 'LHEPdfWeight_var98',\n",
       " 'LHEPdfWeight_var99',\n",
       " 'LHEScaleWeight',\n",
       " 'LHEScaleWeight_var0',\n",
       " 'LHEScaleWeight_var1',\n",
       " 'LHEScaleWeight_var2',\n",
       " 'LHEScaleWeight_var3',\n",
       " 'LHEScaleWeight_var4',\n",
       " 'LHEScaleWeight_var5',\n",
       " 'LHEScaleWeight_var6',\n",
       " 'LHEScaleWeight_var7',\n",
       " 'LumiSec',\n",
       " 'PFHT',\n",
       " 'PSWeight',\n",
       " 'PSWeight_var0',\n",
       " 'PSWeight_var1',\n",
       " 'PSWeight_var2',\n",
       " 'PSWeight_var3',\n",
       " 'PUWeight',\n",
       " 'PUWeight_down',\n",
       " 'PUWeight_up',\n",
       " 'Run',\n",
       " 'X_eta',\n",
       " 'X_m',\n",
       " 'X_phi',\n",
       " 'X_pt',\n",
       " 'Y_eta',\n",
       " 'Y_m',\n",
       " 'Y_phi',\n",
       " 'Y_pt',\n",
       " 'aplanarity',\n",
       " 'bSFshape_central',\n",
       " 'bSFshape_down_cferr1',\n",
       " 'bSFshape_down_cferr2',\n",
       " 'bSFshape_down_hf',\n",
       " 'bSFshape_down_hfstats1',\n",
       " 'bSFshape_down_hfstats2',\n",
       " 'bSFshape_down_jes',\n",
       " 'bSFshape_down_lf',\n",
       " 'bSFshape_down_lfstats1',\n",
       " 'bSFshape_down_lfstats2',\n",
       " 'bSFshape_up_cferr1',\n",
       " 'bSFshape_up_cferr2',\n",
       " 'bSFshape_up_hf',\n",
       " 'bSFshape_up_hfstats1',\n",
       " 'bSFshape_up_hfstats2',\n",
       " 'bSFshape_up_jes',\n",
       " 'bSFshape_up_lf',\n",
       " 'bSFshape_up_lfstats1',\n",
       " 'bSFshape_up_lfstats2',\n",
       " 'b_6j_score',\n",
       " 'btagSF_WP_M',\n",
       " 'genWeight',\n",
       " 'gen_H1_b1_eta',\n",
       " 'gen_H1_b1_genjet_eta',\n",
       " 'gen_H1_b1_genjet_m',\n",
       " 'gen_H1_b1_genjet_phi',\n",
       " 'gen_H1_b1_genjet_pt',\n",
       " 'gen_H1_b1_m',\n",
       " 'gen_H1_b1_phi',\n",
       " 'gen_H1_b1_pt',\n",
       " 'gen_H1_b1_recojet_eta',\n",
       " 'gen_H1_b1_recojet_m',\n",
       " 'gen_H1_b1_recojet_mRegressed',\n",
       " 'gen_H1_b1_recojet_phi',\n",
       " 'gen_H1_b1_recojet_pt',\n",
       " 'gen_H1_b1_recojet_ptRegressed',\n",
       " 'gen_H1_b2_eta',\n",
       " 'gen_H1_b2_genjet_eta',\n",
       " 'gen_H1_b2_genjet_m',\n",
       " 'gen_H1_b2_genjet_phi',\n",
       " 'gen_H1_b2_genjet_pt',\n",
       " 'gen_H1_b2_m',\n",
       " 'gen_H1_b2_phi',\n",
       " 'gen_H1_b2_pt',\n",
       " 'gen_H1_b2_recojet_eta',\n",
       " 'gen_H1_b2_recojet_m',\n",
       " 'gen_H1_b2_recojet_mRegressed',\n",
       " 'gen_H1_b2_recojet_phi',\n",
       " 'gen_H1_b2_recojet_pt',\n",
       " 'gen_H1_b2_recojet_ptRegressed',\n",
       " 'gen_H1_eta',\n",
       " 'gen_H1_m',\n",
       " 'gen_H1_phi',\n",
       " 'gen_H1_pt',\n",
       " 'gen_H2_b1_eta',\n",
       " 'gen_H2_b1_genjet_eta',\n",
       " 'gen_H2_b1_genjet_m',\n",
       " 'gen_H2_b1_genjet_phi',\n",
       " 'gen_H2_b1_genjet_pt',\n",
       " 'gen_H2_b1_m',\n",
       " 'gen_H2_b1_phi',\n",
       " 'gen_H2_b1_pt',\n",
       " 'gen_H2_b1_recojet_eta',\n",
       " 'gen_H2_b1_recojet_m',\n",
       " 'gen_H2_b1_recojet_mRegressed',\n",
       " 'gen_H2_b1_recojet_phi',\n",
       " 'gen_H2_b1_recojet_pt',\n",
       " 'gen_H2_b1_recojet_ptRegressed',\n",
       " 'gen_H2_b2_eta',\n",
       " 'gen_H2_b2_genjet_eta',\n",
       " 'gen_H2_b2_genjet_m',\n",
       " 'gen_H2_b2_genjet_phi',\n",
       " 'gen_H2_b2_genjet_pt',\n",
       " 'gen_H2_b2_m',\n",
       " 'gen_H2_b2_phi',\n",
       " 'gen_H2_b2_pt',\n",
       " 'gen_H2_b2_recojet_eta',\n",
       " 'gen_H2_b2_recojet_m',\n",
       " 'gen_H2_b2_recojet_mRegressed',\n",
       " 'gen_H2_b2_recojet_phi',\n",
       " 'gen_H2_b2_recojet_pt',\n",
       " 'gen_H2_b2_recojet_ptRegressed',\n",
       " 'gen_H2_eta',\n",
       " 'gen_H2_m',\n",
       " 'gen_H2_phi',\n",
       " 'gen_H2_pt',\n",
       " 'gen_HX_b1_eta',\n",
       " 'gen_HX_b1_genjet_eta',\n",
       " 'gen_HX_b1_genjet_m',\n",
       " 'gen_HX_b1_genjet_phi',\n",
       " 'gen_HX_b1_genjet_pt',\n",
       " 'gen_HX_b1_m',\n",
       " 'gen_HX_b1_phi',\n",
       " 'gen_HX_b1_pt',\n",
       " 'gen_HX_b1_recojet_eta',\n",
       " 'gen_HX_b1_recojet_m',\n",
       " 'gen_HX_b1_recojet_mRegressed',\n",
       " 'gen_HX_b1_recojet_phi',\n",
       " 'gen_HX_b1_recojet_pt',\n",
       " 'gen_HX_b1_recojet_ptRegressed',\n",
       " 'gen_HX_b2_eta',\n",
       " 'gen_HX_b2_genjet_eta',\n",
       " 'gen_HX_b2_genjet_m',\n",
       " 'gen_HX_b2_genjet_phi',\n",
       " 'gen_HX_b2_genjet_pt',\n",
       " 'gen_HX_b2_m',\n",
       " 'gen_HX_b2_phi',\n",
       " 'gen_HX_b2_pt',\n",
       " 'gen_HX_b2_recojet_eta',\n",
       " 'gen_HX_b2_recojet_m',\n",
       " 'gen_HX_b2_recojet_mRegressed',\n",
       " 'gen_HX_b2_recojet_phi',\n",
       " 'gen_HX_b2_recojet_pt',\n",
       " 'gen_HX_b2_recojet_ptRegressed',\n",
       " 'gen_HX_eta',\n",
       " 'gen_HX_m',\n",
       " 'gen_HX_phi',\n",
       " 'gen_HX_pt',\n",
       " 'gen_X_eta',\n",
       " 'gen_X_fc_eta',\n",
       " 'gen_X_fc_m',\n",
       " 'gen_X_fc_phi',\n",
       " 'gen_X_fc_pt',\n",
       " 'gen_X_m',\n",
       " 'gen_X_phi',\n",
       " 'gen_X_pt',\n",
       " 'gen_Y_eta',\n",
       " 'gen_Y_m',\n",
       " 'gen_Y_phi',\n",
       " 'gen_Y_pt',\n",
       " 'gen_bs_N_reco_match',\n",
       " 'gen_bs_N_reco_match_in_acc',\n",
       " 'gen_bs_match_in_acc_recojet_minv',\n",
       " 'gen_bs_match_recojet_minv',\n",
       " 'genjet_E',\n",
       " 'genjet_eta',\n",
       " 'genjet_hadronFlav',\n",
       " 'genjet_m',\n",
       " 'genjet_partonFlav',\n",
       " 'genjet_phi',\n",
       " 'genjet_pt',\n",
       " 'genjet_recoIdx',\n",
       " 'genjet_signalId',\n",
       " 'genpb_eta',\n",
       " 'genpb_m',\n",
       " 'genpb_phi',\n",
       " 'genpb_pt',\n",
       " 'jet_E',\n",
       " 'jet_btag',\n",
       " 'jet_chEmEF',\n",
       " 'jet_chHEF',\n",
       " 'jet_eta',\n",
       " 'jet_hadronFlav',\n",
       " 'jet_id',\n",
       " 'jet_m',\n",
       " 'jet_mRegressed',\n",
       " 'jet_nConstituents',\n",
       " 'jet_neEmEF',\n",
       " 'jet_neHEF',\n",
       " 'jet_partonFlav',\n",
       " 'jet_phi',\n",
       " 'jet_pt',\n",
       " 'jet_ptRegressed',\n",
       " 'jet_puid',\n",
       " 'jet_qgl',\n",
       " 'jet_signalId',\n",
       " 'lhe_ht',\n",
       " 'n_ele',\n",
       " 'n_genjet',\n",
       " 'n_jet',\n",
       " 'n_muon',\n",
       " 'n_other_pv',\n",
       " 'n_pu',\n",
       " 'n_total_jet',\n",
       " 'n_true_int',\n",
       " 'nfound_all',\n",
       " 'nfound_all_h',\n",
       " 'nfound_paired_h',\n",
       " 'nfound_presel',\n",
       " 'nfound_presel_h',\n",
       " 'nfound_select',\n",
       " 'nfound_select_h',\n",
       " 'rhofastjet_all',\n",
       " 'sphericity',\n",
       " 'sphericity_t',\n",
       " 'sample_id',\n",
       " 'scale']"
      ]
     },
     "execution_count": 5,
     "metadata": {},
     "output_type": "execute_result"
    }
   ],
   "source": [
    "tree.fields"
   ]
  },
  {
   "cell_type": "code",
   "execution_count": 8,
   "id": "06c4a7c7",
   "metadata": {},
   "outputs": [
    {
     "data": {
      "text/plain": [
       "(<Array [1.13e-06, 1.13e-06, ... 1.13e-06] type='172065 * float64'>,\n",
       " <Array [0.672, 0.813, 0.718, ... 0.625, 1.12] type='172065 * float32'>,\n",
       " <Array [7, 6, 6, 8, 8, 7, ... 7, 11, 9, 6, 6] type='172065 * int32'>)"
      ]
     },
     "execution_count": 8,
     "metadata": {},
     "output_type": "execute_result"
    }
   ],
   "source": [
    "tree.scale, tree.bSFshape_central, tree.n_jet"
   ]
  },
  {
   "cell_type": "code",
   "execution_count": 32,
   "id": "9ea3b983",
   "metadata": {},
   "outputs": [
    {
     "name": "stderr",
     "output_type": "stream",
     "text": [
      "100%|██████████| 1/1 [00:00<00:00, 17.34it/s]\n"
     ]
    },
    {
     "data": {
      "image/png": "[encoded data removed]",
      "text/plain": [
       "<Figure size 480x400 with 2 Axes>"
      ]
     },
     "metadata": {},
     "output_type": "display_data"
    }
   ],
   "source": [
    "ratio = []\n",
    "study.quick(\n",
    "    [tree, tree],\n",
    "    scale=[None, lambda t : t.bSFshape_central],\n",
    "    label=['nominal', 'bSFshape_central'],\n",
    "    varlist=['n_jet'],\n",
    "    legend=True,\n",
    "    ratio=True, \n",
    "    r_store=ratio\n",
    ")\n",
    "\n",
    "ratio = ratio[0][0]"
   ]
  },
  {
   "cell_type": "code",
   "execution_count": 65,
   "id": "4de5a48a",
   "metadata": {},
   "outputs": [
    {
     "data": {
      "text/plain": [
       "4.700783201036315e-09"
      ]
     },
     "execution_count": 65,
     "metadata": {},
     "output_type": "execute_result"
    }
   ],
   "source": [
    "ak.std(tree.scale)"
   ]
  },
  {
   "cell_type": "code",
   "execution_count": 52,
   "id": "2534d999",
   "metadata": {},
   "outputs": [
    {
     "data": {
      "text/plain": [
       "{6: 1.0510039767025616,\n",
       " 7: 1.0368142952517785,\n",
       " 8: 1.0205842428649066,\n",
       " 9: 1.0046634922617803,\n",
       " 10: 0.9815081210444783,\n",
       " 11: 0.9532031499476799,\n",
       " 12: 0.9259501560817515,\n",
       " 13: 0.911169256662527,\n",
       " 14: 0.8431195170381166,\n",
       " 15: 0.9483370497202371,\n",
       " 16: 1.4195523940938952}"
      ]
     },
     "execution_count": 52,
     "metadata": {},
     "output_type": "execute_result"
    }
   ],
   "source": [
    "v_ratio = { int(x) : y for x, y in zip(ratio.x_array, ratio.y_array) }\n",
    "v_ratio"
   ]
  },
  {
   "cell_type": "code",
   "execution_count": 59,
   "id": "123426dd",
   "metadata": {},
   "outputs": [
    {
     "name": "stdout",
     "output_type": "stream",
     "text": [
      "8.63 ms ± 16.6 µs per loop (mean ± std. dev. of 7 runs, 100 loops each)\n"
     ]
    }
   ],
   "source": [
    "%timeit ak.from_regular(np.vectorize(v_ratio.get)(tree.n_jet))"
   ]
  },
  {
   "cell_type": "code",
   "execution_count": 61,
   "id": "f00166e3",
   "metadata": {},
   "outputs": [
    {
     "name": "stdout",
     "output_type": "stream",
     "text": [
      "2.81 ms ± 1.96 µs per loop (mean ± std. dev. of 7 runs, 100 loops each)\n"
     ]
    }
   ],
   "source": [
    "%timeit ratio.evaluate(tree.n_jet)"
   ]
  },
  {
   "cell_type": "code",
   "execution_count": 49,
   "id": "2b7a9053",
   "metadata": {},
   "outputs": [
    {
     "data": {
      "text/plain": [
       "<Array [0.697, 0.854, 0.755, ... 0.657, 1.18] type='172065 * float64'>"
      ]
     },
     "execution_count": 49,
     "metadata": {},
     "output_type": "execute_result"
    }
   ],
   "source": [
    "tree.bSFshape_central * ratio.y_array[tree.n_jet - 6]"
   ]
  },
  {
   "cell_type": "code",
   "execution_count": 42,
   "id": "6e2f9f73",
   "metadata": {},
   "outputs": [
    {
     "ename": "IndexError",
     "evalue": "index 12 is out of bounds for axis 0 with size 11",
     "output_type": "error",
     "traceback": [
      "\u001b[0;31m---------------------------------------------------------------------------\u001b[0m",
      "\u001b[0;31mIndexError\u001b[0m                                Traceback (most recent call last)",
      "Cell \u001b[0;32mIn[42], line 1\u001b[0m\n\u001b[0;32m----> 1\u001b[0m ratio\u001b[39m.\u001b[39;49my_array[np\u001b[39m.\u001b[39;49mdigitize(tree\u001b[39m.\u001b[39;49mn_jet, bins\u001b[39m=\u001b[39;49mnp\u001b[39m.\u001b[39;49marange(\u001b[39m15\u001b[39;49m))]\n",
      "\u001b[0;31mIndexError\u001b[0m: index 12 is out of bounds for axis 0 with size 11"
     ]
    }
   ],
   "source": []
  },
  {
   "cell_type": "code",
   "execution_count": 33,
   "id": "c0df5fa3",
   "metadata": {},
   "outputs": [
    {
     "name": "stderr",
     "output_type": "stream",
     "text": [
      "100%|██████████| 1/1 [00:00<00:00, 12.10it/s]\n"
     ]
    },
    {
     "data": {
      "image/png": "[encoded data removed]",
      "text/plain": [
       "<Figure size 480x400 with 2 Axes>"
      ]
     },
     "metadata": {},
     "output_type": "display_data"
    }
   ],
   "source": [
    "store = []\n",
    "study.quick(\n",
    "    [tree, tree, tree],\n",
    "    scale=[None, lambda t : t.bSFshape_central, lambda t : t.bSFshape_central * ratio.evaluate(t.n_jet)],\n",
    "    label=['nominal', 'bSFshape_central', 'bSFshape_central * r'],\n",
    "    varlist=['n_jet'],\n",
    "    legend=True,\n",
    "    ratio=True, r_inv=True,\n",
    "    r_ylim=None,\n",
    "    r_store=store\n",
    ")"
   ]
  },
  {
   "cell_type": "code",
   "execution_count": 36,
   "id": "9816a2f7",
   "metadata": {},
   "outputs": [
    {
     "data": {
      "text/plain": [
       "array([1.        , 1.00684292, 1.00795135, 1.00792342, 1.01179581,\n",
       "       1.01484729, 1.01471623, 1.00811095, 1.04035593, 0.94452524,\n",
       "       0.83402679])"
      ]
     },
     "execution_count": 36,
     "metadata": {},
     "output_type": "execute_result"
    }
   ],
   "source": [
    "\n",
    "store[0][1].y_array"
   ]
  }
 ],
 "metadata": {
  "kernelspec": {
   "display_name": "Python 3 (ipykernel)",
   "language": "python",
   "name": "python3"
  },
  "language_info": {
   "codemirror_mode": {
    "name": "ipython",
    "version": 3
   },
   "file_extension": ".py",
   "mimetype": "text/x-python",
   "name": "python",
   "nbconvert_exporter": "python",
   "pygments_lexer": "ipython3",
   "version": "3.10.8"
  },
  "vscode": {
   "interpreter": {
    "hash": "99d8ad6568882febb6ca5d1c2307614594cf6684ed0ce2b9f63bf31341fdb3d5"
   }
  }
 },
 "nbformat": 4,
 "nbformat_minor": 5
}

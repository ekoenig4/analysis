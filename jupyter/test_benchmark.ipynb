{
 "cells": [
  {
   "cell_type": "code",
   "execution_count": null,
   "id": "fff36497",
   "metadata": {},
   "outputs": [
    {
     "name": "stdout",
     "output_type": "stream",
     "text": [
      "c0709a-s30.ufhpc\n"
     ]
    }
   ],
   "source": [
    "!hostname"
   ]
  },
  {
   "cell_type": "code",
   "execution_count": 2,
   "id": "9bfa3b5a",
   "metadata": {},
   "outputs": [],
   "source": [
    "%load_ext autoreload\n",
    "%autoreload 2\n",
    "\n",
    "import os\n",
    "os.environ['KMP_WARNINGS'] = 'off'\n",
    "import sys\n",
    "import git\n",
    "\n",
    "import uproot as ut\n",
    "import awkward as ak\n",
    "import numpy as np\n",
    "import math\n",
    "import vector\n",
    "import sympy as sp\n",
    "\n",
    "import re\n",
    "from tqdm import tqdm\n",
    "import timeit\n",
    "import re\n",
    "\n",
    "sys.path.append( git.Repo('.', search_parent_directories=True).working_tree_dir )\n",
    "from utils import *"
   ]
  },
  {
   "cell_type": "code",
   "execution_count": 3,
   "id": "5abb9a20",
   "metadata": {},
   "outputs": [],
   "source": [
    "# treeUtils"
   ]
  },
  {
   "cell_type": "code",
   "execution_count": 5,
   "id": "58209794",
   "metadata": {},
   "outputs": [],
   "source": [
    "files = [\n",
    "    '/cmsuf/data/store/user/ekoenig/ttH/qcd.root',\n",
    "    '/cmsuf/data/store/user/ekoenig/ttH/x_tth_8j.root'\n",
    "]\n",
    "\n",
    "load_range=(0, 0.2)"
   ]
  },
  {
   "cell_type": "code",
   "execution_count": 4,
   "id": "f4dbfe7c",
   "metadata": {},
   "outputs": [],
   "source": [
    "from utils.treeUtils.tree import Tree"
   ]
  },
  {
   "cell_type": "code",
   "execution_count": 8,
   "id": "c62829c2",
   "metadata": {},
   "outputs": [],
   "source": [
    "tree = Tree.from_files(files, treename='Events', load_range=load_range)"
   ]
  },
  {
   "cell_type": "code",
   "execution_count": null,
   "id": "ec18af26",
   "metadata": {},
   "outputs": [],
   "source": []
  },
  {
   "cell_type": "code",
   "execution_count": 10,
   "id": "18a15dae",
   "metadata": {},
   "outputs": [
    {
     "name": "stderr",
     "output_type": "stream",
     "text": [
      "100%|██████████| 1/1 [00:00<00:00, 28.04it/s]\n"
     ]
    },
    {
     "data": {
      "image/png": "[encoded data removed]",
      "text/plain": [
       "<Figure size 480x400 with 1 Axes>"
      ]
     },
     "metadata": {},
     "output_type": "display_data"
    }
   ],
   "source": [
    "study.quick(\n",
    "    [tree],\n",
    "    varlist=['event_pt']\n",
    ")"
   ]
  },
  {
   "cell_type": "code",
   "execution_count": 82,
   "id": "4f66c6fe",
   "metadata": {},
   "outputs": [
    {
     "data": {
      "text/plain": [
       "<Array [False, False, False, ... False, False] type='200000 * bool'>"
      ]
     },
     "execution_count": 82,
     "metadata": {},
     "output_type": "execute_result"
    }
   ],
   "source": [
    "load_mask"
   ]
  },
  {
   "cell_type": "code",
   "execution_count": 78,
   "id": "1d5197b8",
   "metadata": {},
   "outputs": [
    {
     "data": {
      "text/plain": [
       "<Array [{event_pt: 46.7, ... ] type='200000 * {\"event_pt\": float64, \"event_eta\":...'>"
      ]
     },
     "execution_count": 78,
     "metadata": {},
     "output_type": "execute_result"
    }
   ],
   "source": [
    "ttree"
   ]
  },
  {
   "cell_type": "code",
   "execution_count": 65,
   "id": "c2050bda",
   "metadata": {},
   "outputs": [],
   "source": [
    "n = 1000\n",
    "tree = Tree(ak.zip({\"a\": np.random.exponential(1, size=n), \"b\": np.random.normal(0, 1, size=n)}))"
   ]
  },
  {
   "cell_type": "code",
   "execution_count": 66,
   "id": "9feb8a6c",
   "metadata": {},
   "outputs": [
    {
     "data": {
      "text/plain": [
       "<Array [{a: 0.376, b: -0.157, ... scale: 1}] type='1000 * {\"a\": float64, \"b\": fl...'>"
      ]
     },
     "execution_count": 66,
     "metadata": {},
     "output_type": "execute_result"
    }
   ],
   "source": [
    "tree.copy()"
   ]
  },
  {
   "cell_type": "code",
   "execution_count": 55,
   "id": "9ea5abc1",
   "metadata": {},
   "outputs": [
    {
     "name": "stderr",
     "output_type": "stream",
     "text": [
      "100%|██████████| 1/1 [00:00<00:00, 43.56it/s]\n"
     ]
    },
    {
     "data": {
      "image/png": "[encoded data removed]",
      "text/plain": [
       "<Figure size 480x400 with 1 Axes>"
      ]
     },
     "metadata": {},
     "output_type": "display_data"
    }
   ],
   "source": [
    "study.quick(\n",
    "    [tree],\n",
    "    varlist=['a']\n",
    ")"
   ]
  },
  {
   "cell_type": "code",
   "execution_count": null,
   "id": "1522c357",
   "metadata": {},
   "outputs": [],
   "source": []
  }
 ],
 "metadata": {
  "kernelspec": {
   "display_name": "Python 3 (ipykernel)",
   "language": "python",
   "name": "python3"
  },
  "vscode": {
   "interpreter": {
    "hash": "99d8ad6568882febb6ca5d1c2307614594cf6684ed0ce2b9f63bf31341fdb3d5"
   }
  }
 },
 "nbformat": 4,
 "nbformat_minor": 5
}

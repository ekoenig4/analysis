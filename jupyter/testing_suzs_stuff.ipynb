{
 "cells": [
  {
   "cell_type": "code",
   "execution_count": 1,
   "id": "9bfa3b5a",
   "metadata": {},
   "outputs": [],
   "source": [
    "%load_ext autoreload\n",
    "%autoreload 2\n",
    "\n",
    "import os\n",
    "os.environ['KMP_WARNINGS'] = 'off'\n",
    "import sys\n",
    "import git\n",
    "\n",
    "import uproot as ut\n",
    "import awkward as ak\n",
    "import numpy as np\n",
    "import math\n",
    "import vector\n",
    "import sympy as sp\n",
    "\n",
    "import re\n",
    "from tqdm import tqdm\n",
    "import timeit\n",
    "import re\n",
    "\n",
    "sys.path.append( git.Repo('.', search_parent_directories=True).working_tree_dir )\n",
    "from utils import *"
   ]
  },
  {
   "cell_type": "code",
   "execution_count": null,
   "id": "3ab81403",
   "metadata": {},
   "outputs": [],
   "source": [
    "def get_stats(h_data, h_signal):\n",
    "    norm = 2*np.sqrt(np.sum(h_data.errors()**2))/h_signal.counts().sum()\n",
    "    w = pyhf.simplemodels.uncorrelated_background(signal=(norm*h_signal.counts()).tolist(), bkg=h_data.counts().tolist(), bkg_uncertainty=h_data.errors().tolist())\n",
    "    data = h_data.counts().tolist() + w.config.auxdata\n",
    "\n",
    "    obs_limit, exp_limit, (scan, results) = pyhf.infer.intervals.upperlimit(\n",
    "          data, w, poi, level=level, return_results=True\n",
    "      )\n",
    "    obs_limit, exp_limit = norm*obs_limit, [ norm*lim for lim in exp_limit ]\n",
    "    return norm, w, data, obs_limit, exp_limit"
   ]
  },
  {
   "cell_type": "code",
   "execution_count": null,
   "id": "02fce0ea",
   "metadata": {},
   "outputs": [],
   "source": [
    "h_gnn = {mx : {} for mx in MX}\n",
    "limit_gnn = {mx : {} for mx in MX}\n",
    "limit_my_gnn = {my : {} for my in MY}\n",
    "\n",
    "for mx in gnn_n.keys():\n",
    "    for my in gnn_n[mx]:\n",
    "        print(mx, my)\n",
    "        v = gnn_n[mx][my]\n",
    "        # print(gnn_n[mx][my])\n",
    "\n",
    "        # h_gnn[mx][my] = up.open(filename)['signal']\n",
    "        norm, w, data, obs_limit, exp_limit = get_stats(h_data_gnn, v)\n",
    "        limit_gnn[mx][my] = np.array(exp_limit)*300\n",
    "        limit_my_gnn[my][mx] = np.array(exp_limit)*300\n"
   ]
  },
  {
   "cell_type": "code",
   "execution_count": 53,
   "id": "992fd103",
   "metadata": {},
   "outputs": [],
   "source": [
    "import ROOT\n",
    "\n",
    "# stops root from drawing shit\n",
    "ROOT.gROOT.SetBatch(True)\n",
    "\n",
    "def write_limits(mx, my):\n",
    "    print('writing limits for', mx, my)\n",
    "    # f =ROOT.TFile(f\"~/nobackup/tmp/{mx}_{my}_limit_gnn.root\",\"recreate\")\n",
    "    # f.Close()\n",
    "\n",
    "\n",
    "    with ut.recreate(f\"/uscms_data/d3/ekoenig/tmp/{mx}_{my}_limit_gnn.root\") as f:\n",
    "        dummy = np.random.uniform(size=10000)\n",
    "        f['histo'] = np.histogram(dummy, bins=np.linspace(0,1,20))\n",
    "        f['limits'] = {'mx':[mx], 'my':[my],'exp_limits':np.random.uniform(size=1)}\n",
    "    # v = gnn_n[mx][my]\n",
    "    # filename = f\"{model_savein}/root_files/n_asr_{mx}_{my}.root\"\n",
    "    # fout = ROOT.TFile(filename,\"recreate\")\n",
    "    # fout.cd()\n",
    "\n",
    "    # canvas = ROOT.TCanvas('c1','c1', 600, 600)\n",
    "    # canvas.SetFrameLineWidth(3)\n",
    "    # canvas.Draw()\n",
    "\n",
    "    # h_title = f\"signal\"\n",
    "    # ROOT_hist = ROOT.TH1D(h_title,\";m_{X} [GeV];Events\",nbins-1,array('d',list(gnn_4b_data.mBins)))\n",
    "    # for i,(val) in enumerate(v):\n",
    "    #     ROOT_hist.SetBinContent(i+1, val) \n",
    "\n",
    "    # ROOT_hist.Draw(\"hist\")\n",
    "    # ROOT_hist.Write()\n",
    "    # fout.Close()"
   ]
  },
  {
   "cell_type": "code",
   "execution_count": 54,
   "id": "a10d9be5",
   "metadata": {},
   "outputs": [],
   "source": [
    "mxmy = [ (mx,my) for mx, my in np.random.randint(100000,size=(5,2)) ]"
   ]
  },
  {
   "cell_type": "code",
   "execution_count": 56,
   "id": "a62c05c7",
   "metadata": {},
   "outputs": [
    {
     "name": "stderr",
     "output_type": "stream",
     "text": [
      "100%|██████████| 5/5 [00:00<00:00, 39.54it/s]\n"
     ]
    },
    {
     "name": "stdout",
     "output_type": "stream",
     "text": [
      "writing limits for 89988 67163\n",
      "writing limits for 1580 75534\n",
      "writing limits for 41726 48972\n",
      "writing limits for 76561 95590\n",
      "writing limits for 17319 94433\n"
     ]
    }
   ],
   "source": [
    "for mx, my in tqdm(mxmy): write_limits(mx, my)"
   ]
  },
  {
   "cell_type": "code",
   "execution_count": 50,
   "id": "613fbb31",
   "metadata": {},
   "outputs": [],
   "source": [
    "import multiprocess as mp\n"
   ]
  },
  {
   "cell_type": "code",
   "execution_count": 51,
   "id": "6240b662",
   "metadata": {},
   "outputs": [
    {
     "name": "stdout",
     "output_type": "stream",
     "text": [
      "writing limits for 40085 37864\n",
      "writing limits for 21213 91637\n",
      "writing limits for 84160 58860\n",
      "writing limits for 86947 85158\n",
      "writing limits for 65581 86627\n",
      "CPU times: user 70.7 ms, sys: 13.4 ms, total: 84.1 ms\n",
      "Wall time: 96.3 ms\n"
     ]
    }
   ],
   "source": [
    "%%time \n",
    "\n",
    "nthreads = 10\n",
    "with mp.pool.ThreadPool(nthreads) as pool:\n",
    "    pool.map(lambda mxmy : write_limits(*mxmy), mxmy)"
   ]
  },
  {
   "cell_type": "code",
   "execution_count": null,
   "id": "b9ed4b06",
   "metadata": {},
   "outputs": [],
   "source": []
  },
  {
   "cell_type": "code",
   "execution_count": 58,
   "id": "ad202b68",
   "metadata": {},
   "outputs": [],
   "source": [
    "f = ut.open('/uscms_data/d3/ekoenig/tmp/merged_limits.root')"
   ]
  },
  {
   "cell_type": "code",
   "execution_count": 61,
   "id": "d5372daf",
   "metadata": {},
   "outputs": [],
   "source": [
    "limits = f['limits'].arrays()"
   ]
  },
  {
   "cell_type": "code",
   "execution_count": 64,
   "id": "613f5128",
   "metadata": {},
   "outputs": [
    {
     "data": {
      "text/plain": [
       "(<Array [1580, 17319, 41726, 76561, 89988] type='5 * int64'>,\n",
       " <Array [75534, 94433, 48972, 95590, 67163] type='5 * int64'>,\n",
       " <Array [[0.177], [0.428], ... [0.501], [0.686]] type='5 * 1 * float64'>)"
      ]
     },
     "execution_count": 64,
     "metadata": {},
     "output_type": "execute_result"
    }
   ],
   "source": [
    "limits.mx, limits.my, limits.exp_limits"
   ]
  }
 ],
 "metadata": {
  "kernelspec": {
   "display_name": "Python 3.9.15 ('py-env')",
   "language": "python",
   "name": "python3"
  },
  "language_info": {
   "codemirror_mode": {
    "name": "ipython",
    "version": 3
   },
   "file_extension": ".py",
   "mimetype": "text/x-python",
   "name": "python",
   "nbconvert_exporter": "python",
   "pygments_lexer": "ipython3",
   "version": "3.9.15"
  },
  "vscode": {
   "interpreter": {
    "hash": "99d8ad6568882febb6ca5d1c2307614594cf6684ed0ce2b9f63bf31341fdb3d5"
   }
  }
 },
 "nbformat": 4,
 "nbformat_minor": 5
}

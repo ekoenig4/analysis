{
 "cells": [
  {
   "cell_type": "code",
   "execution_count": 22,
   "id": "bigger-arnold",
   "metadata": {},
   "outputs": [],
   "source": [
    "from consistent_plots import hist\n",
    "import matplotlib.pyplot as plt\n",
    "from matplotlib.gridspec import GridSpec"
   ]
  },
  {
   "cell_type": "code",
   "execution_count": 89,
   "id": "soviet-crawford",
   "metadata": {},
   "outputs": [
    {
     "name": "stdout",
     "output_type": "stream",
     "text": [
      "-- [INFO] -- \u001b[0;38;5;229m/eos/user/s/srosenzw/miniconda3/envs/work/lib/python3.8/runpy.py\u001b[0;38;5;30m -- Parsing command line arguments.\n",
      "-- [INFO] -- \u001b[0;38;5;229m/eos/user/s/srosenzw/miniconda3/envs/work/lib/python3.8/runpy.py\u001b[0;38;5;30m -- Opening ROOT file \u001b[0;38;5;1mNanoAOD/NMSSM_XYH_YToHH_6b_MX_700_MY_400_reco_preselections.root\u001b[0;38;5;0m with columns\n",
      "----------------------------------------------------------------------------------------------------\n",
      "                                            TABLE COLUMNS                                           \n",
      "----------------------------------------------------------------------------------------------------\n",
      "HX_b1_recojet_m                   HX_b1_recojet_pt                  HX_b1_recojet_ptRegressed         \n",
      "HX_b1_recojet_eta                 HX_b1_recojet_phi                 HX_b2_recojet_m                   \n",
      "HX_b2_recojet_pt                  HX_b2_recojet_ptRegressed         HX_b2_recojet_eta                 \n",
      "HX_b2_recojet_phi                 HY1_b1_recojet_m                  HY1_b1_recojet_pt                 \n",
      "HY1_b1_recojet_ptRegressed        HY1_b1_recojet_eta                HY1_b1_recojet_phi                \n",
      "HY1_b2_recojet_m                  HY1_b2_recojet_pt                 HY1_b2_recojet_ptRegressed        \n",
      "HY1_b2_recojet_eta                HY1_b2_recojet_phi                HY2_b1_recojet_m                  \n",
      "HY2_b1_recojet_pt                 HY2_b1_recojet_ptRegressed        HY2_b1_recojet_eta                \n",
      "HY2_b1_recojet_phi                HY2_b2_recojet_m                  HY2_b2_recojet_pt                 \n",
      "HY2_b2_recojet_ptRegressed        HY2_b2_recojet_eta                HY2_b2_recojet_phi                \n",
      "----------------------------------------------------------------------------------------------------\n",
      "-- [INFO] -- \u001b[0;38;5;229m/eos/user/s/srosenzw/miniconda3/envs/work/lib/python3.8/runpy.py\u001b[0;38;5;30m -- Files contain 25195 events.\n",
      "-- [INFO] -- \u001b[0;38;5;229m/eos/user/s/srosenzw/miniconda3/envs/work/lib/python3.8/runpy.py\u001b[0;38;5;30m -- Number of examples in training set:   17636\n",
      "-- [INFO] -- \u001b[0;38;5;229m/eos/user/s/srosenzw/miniconda3/envs/work/lib/python3.8/runpy.py\u001b[0;38;5;30m -- Number of examples in testing set:    5039\n",
      "-- [INFO] -- \u001b[0;38;5;229m/eos/user/s/srosenzw/miniconda3/envs/work/lib/python3.8/runpy.py\u001b[0;38;5;30m -- Number of examples in validation set: 2520\n"
     ]
    },
    {
     "name": "stderr",
     "output_type": "stream",
     "text": [
      "  0%|          | 0/17636 [00:00<?, ?it/s]"
     ]
    },
    {
     "name": "stdout",
     "output_type": "stream",
     "text": [
      "-- [INFO] -- \u001b[0;38;5;229m/eos/user/s/srosenzw/miniconda3/envs/work/lib/python3.8/runpy.py\u001b[0;38;5;30m -- Generating feature block.\n",
      "-- [INFO] -- \u001b[0;38;5;229m/eos/user/s/srosenzw/miniconda3/envs/work/lib/python3.8/runpy.py\u001b[0;38;5;30m -- Generating training examples.\n"
     ]
    },
    {
     "name": "stderr",
     "output_type": "stream",
     "text": [
      "100%|██████████| 17636/17636 [01:40<00:00, 175.93it/s]\n",
      " 25%|██▍       | 625/2520 [00:00<00:00, 6237.07it/s]"
     ]
    },
    {
     "name": "stdout",
     "output_type": "stream",
     "text": [
      "-- [INFO] -- \u001b[0;38;5;229m/eos/user/s/srosenzw/miniconda3/envs/work/lib/python3.8/runpy.py\u001b[0;38;5;30m -- Generating validation features.\n"
     ]
    },
    {
     "name": "stderr",
     "output_type": "stream",
     "text": [
      "100%|██████████| 2520/2520 [00:01<00:00, 2304.18it/s]\n",
      "  8%|▊         | 408/5039 [00:00<00:01, 4077.65it/s]"
     ]
    },
    {
     "name": "stdout",
     "output_type": "stream",
     "text": [
      "-- [INFO] -- \u001b[0;38;5;229m/eos/user/s/srosenzw/miniconda3/envs/work/lib/python3.8/runpy.py\u001b[0;38;5;30m -- Generating testing features.\n"
     ]
    },
    {
     "name": "stderr",
     "output_type": "stream",
     "text": [
      "100%|██████████| 5039/5039 [00:19<00:00, 252.05it/s] \n"
     ]
    },
    {
     "name": "stdout",
     "output_type": "stream",
     "text": [
      "-- [INFO] -- \u001b[0;38;5;229m/eos/user/s/srosenzw/miniconda3/envs/work/lib/python3.8/runpy.py\u001b[0;38;5;30m -- Normalizing the examples.\n",
      "-- [INFO] -- \u001b[0;38;5;229m/eos/user/s/srosenzw/miniconda3/envs/work/lib/python3.8/runpy.py\u001b[0;38;5;30m -- Saving training example scaler to Reco_Inputs/nn_input_MX700_MY400_class_scaler.pkl\n",
      "-- [INFO] -- \u001b[0;38;5;229m/eos/user/s/srosenzw/miniconda3/envs/work/lib/python3.8/runpy.py\u001b[0;38;5;30m -- Saving training example numpy to Reco_Inputs/nn_input_MX700_MY400_class\n"
     ]
    }
   ],
   "source": [
    "%run ./generate_features.py"
   ]
  },
  {
   "cell_type": "code",
   "execution_count": 76,
   "id": "annoying-spanish",
   "metadata": {},
   "outputs": [
    {
     "data": {
      "text/plain": [
       "52.0625"
      ]
     },
     "execution_count": 76,
     "metadata": {},
     "output_type": "execute_result"
    }
   ],
   "source": [
    "HX_b2['pt'][10111]"
   ]
  },
  {
   "cell_type": "code",
   "execution_count": 90,
   "id": "conservative-capability",
   "metadata": {},
   "outputs": [],
   "source": [
    "HX_b1_pt_train = X_train[np.arange(0,len(X_train), 6),0]\n",
    "HX_b1_pt_val = X_val[np.arange(0,len(X_val), 6),0]\n",
    "HX_b1_pt_test = X_test[np.arange(0,len(X_test), 15),0]\n",
    "\n",
    "HX_b1_pt = np.concatenate((HX_b1_pt_train, HX_b1_pt_val, HX_b1_pt_test))"
   ]
  },
  {
   "cell_type": "code",
   "execution_count": 91,
   "id": "sought-devices",
   "metadata": {},
   "outputs": [],
   "source": [
    "HY1_b1_pt_train = X_train[np.arange(1,len(X_train), 6),0]\n",
    "HY1_b1_pt_val = X_val[np.arange(1,len(X_val), 6),0]\n",
    "HY1_b1_pt_test = X_test[np.arange(1,len(X_test), 15),0]\n",
    "HY1_b1_pt = np.concatenate((HY1_b1_pt_train, HY1_b1_pt_val, HY1_b1_pt_test))"
   ]
  },
  {
   "cell_type": "code",
   "execution_count": 92,
   "id": "generous-investment",
   "metadata": {},
   "outputs": [],
   "source": [
    "HY2_b1_pt_train = X_train[np.arange(2,len(X_train), 6),0]\n",
    "HY2_b1_pt_val = X_val[np.arange(2,len(X_val), 6),0]\n",
    "HY2_b1_pt_test = X_test[np.arange(2,len(X_test), 15),0]\n",
    "HY2_b1_pt = np.concatenate((HY2_b1_pt_train, HY2_b1_pt_val, HY2_b1_pt_test))"
   ]
  },
  {
   "cell_type": "code",
   "execution_count": 93,
   "id": "affecting-driving",
   "metadata": {},
   "outputs": [
    {
     "name": "stderr",
     "output_type": "stream",
     "text": [
      "<ipython-input-93-a5213ea4e128>:14: RuntimeWarning: invalid value encountered in true_divide\n",
      "  ratioX = np.where(n_rX != 0, n_gX / n_rX, np.where(n_gX == n_rX, 1, 0))\n",
      "<ipython-input-93-a5213ea4e128>:15: RuntimeWarning: invalid value encountered in true_divide\n",
      "  ratioY1 = np.where(n_rY1 != 0, n_gY1 / n_rY1, np.where(n_gY1 == n_rY1, 1, 0))\n",
      "<ipython-input-93-a5213ea4e128>:16: RuntimeWarning: invalid value encountered in true_divide\n",
      "  ratioY2 = np.where(n_rY2 != 0, n_gY2 / n_rY2, np.where(n_gY2 == n_rY2, 1, 0))\n"
     ]
    },
    {
     "data": {
      "text/plain": [
       "Text(0, 0.5, 'Ratio')"
      ]
     },
     "execution_count": 93,
     "metadata": {},
     "output_type": "execute_result"
    },
    {
     "data": {
      "image/png": "[encoded data removed]",
      "text/plain": [
       "<Figure size 432x288 with 2 Axes>"
      ]
     },
     "metadata": {
      "needs_background": "light"
     },
     "output_type": "display_data"
    }
   ],
   "source": [
    "ptbins = np.linspace(0,600,100)\n",
    "fig = plt.figure()\n",
    "grid = GridSpec(nrows=2, ncols=1, height_ratios=[3,1])\n",
    "ax = fig.add_subplot(grid[0,0])\n",
    "n_gX, b, _ = hist(ax, HX_b1_pt, bins=ptbins, label='generated HX')\n",
    "n_rX, b, _ = hist(ax, HX_b1['pt'], bins=ptbins, label='root HX')\n",
    "n_gY1, b, _ = hist(ax, HY1_b1_pt, bins=ptbins, label='generated HY1')\n",
    "n_rY1, b, _ = hist(ax, HY1_b1['pt'], bins=ptbins, label='root HY1')\n",
    "n_gY2, b, _ = hist(ax, HY2_b1_pt, bins=ptbins, label='generated HY2')\n",
    "n_rY2, b, _ = hist(ax, HY2_b1['pt'], bins=ptbins, label='root HY2')\n",
    "ax.legend()\n",
    "\n",
    "ax = fig.add_subplot(grid[1,0])\n",
    "ratioX = np.where(n_rX != 0, n_gX / n_rX, np.where(n_gX == n_rX, 1, 0))\n",
    "ratioY1 = np.where(n_rY1 != 0, n_gY1 / n_rY1, np.where(n_gY1 == n_rY1, 1, 0))\n",
    "ratioY2 = np.where(n_rY2 != 0, n_gY2 / n_rY2, np.where(n_gY2 == n_rY2, 1, 0))\n",
    "x = (ptbins[1:] + ptbins[:-1])/2\n",
    "hist(ax, x, weights=ratioX, bins=ptbins)\n",
    "hist(ax, x, weights=ratioY1, bins=ptbins)\n",
    "hist(ax, x, weights=ratioY2, bins=ptbins)\n",
    "ax.set_ylim(0.5,1.5)\n",
    "ax.set_ylabel('Ratio')"
   ]
  },
  {
   "cell_type": "code",
   "execution_count": 94,
   "id": "significant-still",
   "metadata": {},
   "outputs": [],
   "source": [
    "HX_b1_eta_train = X_train[np.arange(0,len(X_train), 6),1]\n",
    "HX_b1_eta_val = X_val[np.arange(0,len(X_val), 6),1]\n",
    "HX_b1_eta_test = X_test[np.arange(0,len(X_test), 15),1]\n",
    "\n",
    "HX_b1_eta = np.concatenate((HX_b1_eta_train, HX_b1_eta_val, HX_b1_eta_test))"
   ]
  },
  {
   "cell_type": "code",
   "execution_count": 102,
   "id": "handled-confidence",
   "metadata": {},
   "outputs": [],
   "source": [
    "HY1_b1_eta_train = X_train[np.arange(1,len(X_train), 6),1]\n",
    "HY1_b1_eta_val = X_val[np.arange(1,len(X_val), 6),1]\n",
    "HY1_b1_eta_test = X_test[np.arange(1,len(X_test), 15),1]\n",
    "\n",
    "HY1_b1_eta = np.concatenate((HY1_b1_eta_train, HY1_b1_eta_val, HY1_b1_eta_test))"
   ]
  },
  {
   "cell_type": "code",
   "execution_count": 96,
   "id": "timely-account",
   "metadata": {},
   "outputs": [],
   "source": [
    "HY2_b1_eta_train = X_train[np.arange(2,len(X_train), 6),1]\n",
    "HY2_b1_eta_val = X_val[np.arange(2,len(X_val), 6),1]\n",
    "HY2_b1_eta_test = X_test[np.arange(2,len(X_test), 15),1]\n",
    "\n",
    "HY2_b1_eta = np.concatenate((HY2_b1_eta_train, HY2_b1_eta_val, HY2_b1_eta_test))"
   ]
  },
  {
   "cell_type": "code",
   "execution_count": 105,
   "id": "tutorial-group",
   "metadata": {},
   "outputs": [
    {
     "name": "stderr",
     "output_type": "stream",
     "text": [
      "<ipython-input-105-1ea3dd067abe>:14: RuntimeWarning: invalid value encountered in true_divide\n",
      "  ratioX = np.where(n_rX != 0, n_gX / n_rX, np.where(n_gX == n_rX, 1, 0))\n",
      "<ipython-input-105-1ea3dd067abe>:15: RuntimeWarning: invalid value encountered in true_divide\n",
      "  ratioY1 = np.where(n_rY1 != 0, n_gY1 / n_rY1, np.where(n_gY1 == n_rY1, 1, 0))\n",
      "<ipython-input-105-1ea3dd067abe>:16: RuntimeWarning: invalid value encountered in true_divide\n",
      "  ratioY2 = np.where(n_rY2 != 0, n_gY2 / n_rY2, np.where(n_gY2 == n_rY2, 1, 0))\n"
     ]
    },
    {
     "data": {
      "text/plain": [
       "Text(0, 0.5, 'Ratio')"
      ]
     },
     "execution_count": 105,
     "metadata": {},
     "output_type": "execute_result"
    },
    {
     "data": {
      "image/png": "[encoded data removed]",
      "text/plain": [
       "<Figure size 432x288 with 2 Axes>"
      ]
     },
     "metadata": {
      "needs_background": "light"
     },
     "output_type": "display_data"
    }
   ],
   "source": [
    "etabins = np.linspace(-3,3,100)\n",
    "fig = plt.figure()\n",
    "grid = GridSpec(nrows=2, ncols=1, height_ratios=[3,1])\n",
    "ax = fig.add_subplot(grid[0,0])\n",
    "n_gX, b, _ = hist(ax, HX_b1_eta, bins=etabins, label='generated HX')\n",
    "n_rX, b, _ = hist(ax, HX_b1['eta'], bins=etabins, label='root HX')\n",
    "n_gY1, b, _ = hist(ax, HY1_b1_eta, bins=etabins, label='generated HY1')\n",
    "n_rY1, b, _ = hist(ax, HY1_b1['eta'], bins=etabins, label='root HY1')\n",
    "n_gY2, b, _ = hist(ax, HY2_b1_eta, bins=etabins, label='generated HY2')\n",
    "n_rY2, b, _ = hist(ax, HY2_b1['eta'], bins=etabins, label='root HY2')\n",
    "ax.legend()\n",
    "\n",
    "ax = fig.add_subplot(grid[1,0])\n",
    "ratioX = np.where(n_rX != 0, n_gX / n_rX, np.where(n_gX == n_rX, 1, 0))\n",
    "ratioY1 = np.where(n_rY1 != 0, n_gY1 / n_rY1, np.where(n_gY1 == n_rY1, 1, 0))\n",
    "ratioY2 = np.where(n_rY2 != 0, n_gY2 / n_rY2, np.where(n_gY2 == n_rY2, 1, 0))\n",
    "x = (etabins[1:] + etabins[:-1])/2\n",
    "hist(ax, x, weights=ratioX, bins=etabins)\n",
    "hist(ax, x, weights=ratioY1, bins=etabins)\n",
    "hist(ax, x, weights=ratioY2, bins=etabins)\n",
    "ax.set_ylim(0.5,1.5)\n",
    "ax.set_ylabel('Ratio')"
   ]
  },
  {
   "cell_type": "code",
   "execution_count": null,
   "id": "incorrect-prediction",
   "metadata": {},
   "outputs": [],
   "source": []
  }
 ],
 "metadata": {
  "kernelspec": {
   "display_name": "Python 3",
   "language": "python",
   "name": "python3"
  },
  "language_info": {
   "codemirror_mode": {
    "name": "ipython",
    "version": 3
   },
   "file_extension": ".py",
   "mimetype": "text/x-python",
   "name": "python",
   "nbconvert_exporter": "python",
   "pygments_lexer": "ipython3",
   "version": "3.8.8"
  }
 },
 "nbformat": 4,
 "nbformat_minor": 5
}

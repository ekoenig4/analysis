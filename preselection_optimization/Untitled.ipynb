{
 "cells": [
  {
   "cell_type": "code",
   "execution_count": 1,
   "id": "6ee4b417-6c44-4676-9f68-ee8fd48e58cd",
   "metadata": {},
   "outputs": [],
   "source": [
    "import uproot as ut\n",
    "import matplotlib.pyplot as plt\n",
    "import matplotlib.gridspec as gs\n",
    "from uproot3_methods import TLorentzVectorArray\n",
    "import vector\n",
    "import awkward as ak\n",
    "from tqdm import tqdm\n",
    "%matplotlib inline\n",
    "\n",
    "import numpy as np\n",
    "\n",
    "from cutConfig import *"
   ]
  },
  {
   "cell_type": "code",
   "execution_count": null,
   "id": "2a9a33e6-090b-4fe5-aa27-0572cf8a3e1a",
   "metadata": {},
   "outputs": [],
   "source": []
  },
  {
   "cell_type": "code",
   "execution_count": 14,
   "id": "ba5270fd-5d44-4f34-a68f-f1f3ce76c9ac",
   "metadata": {},
   "outputs": [],
   "source": [
    "wpcut_map = [\"no\",\"loose\",\"medium\",\"tight\"]\n",
    "ptcut_list = [0]+jet_ptWP\n",
    "btagcut_list = [0]+jet_btagWP\n",
    "order_list = [\"jet_ptRegressed\",\"jet_btag\"]\n",
    "njet_list = range(1,7)"
   ]
  },
  {
   "cell_type": "code",
   "execution_count": 15,
   "id": "d3d9b1bd-db7e-4df1-b1fc-888a7bb64b67",
   "metadata": {},
   "outputs": [],
   "source": [
    "selection_list = []\n",
    "for i,ptcut in enumerate(ptcut_list):\n",
    "    for j,btagcut in enumerate(btagcut_list):\n",
    "        for order in order_list:\n",
    "            for njet in njet_list:\n",
    "                selection_list.append([{\"variable\":order,\"njets\":njet,\"btagcut\":btagcut,\"ptcut\":ptcut,\"njetcut\":njet,\"tag\":f\"{wpcut_map[i]} pt & {wpcut_map[j]} btag\"}])"
   ]
  },
  {
   "cell_type": "code",
   "execution_count": 16,
   "id": "bc5c091e-0be1-4779-8ec6-525f69aa82bb",
   "metadata": {},
   "outputs": [
    {
     "name": "stderr",
     "output_type": "stream",
     "text": [
      "100%|██████████| 192/192 [29:55<00:00,  9.35s/it]\n"
     ]
    }
   ],
   "source": [
    "selection_info_list = [iterative_selection(branches,scheme)[0] for scheme in tqdm(selection_list)]"
   ]
  },
  {
   "cell_type": "code",
   "execution_count": null,
   "id": "06098028-6540-4c8d-b493-de429b7753b5",
   "metadata": {},
   "outputs": [],
   "source": []
  },
  {
   "cell_type": "code",
   "execution_count": 18,
   "id": "948a26aa-dad8-4584-a81e-0d78df85ee81",
   "metadata": {},
   "outputs": [],
   "source": [
    "values_list = [ calculate_values(branches,mask=info[\"mask\"],nsixb_selected=info[\"nsixb_selected\"],\n",
    "                                 nsixb_remaining=info[\"nsixb_remaining\"],njets=info[\"njets\"]) for info in selection_info_list ]"
   ]
  },
  {
   "cell_type": "code",
   "execution_count": 89,
   "id": "ebb37232-6e3a-417d-9b39-f8af45d5aa49",
   "metadata": {},
   "outputs": [],
   "source": [
    "flatten_values = lambda value : np.array([ values[value] for values in values_list ])\n",
    "fv = flatten_values\n",
    "\n",
    "find_selection = lambda scheme : { i:selection for i,selection in enumerate(selection_list) if set(scheme.items()) == set(scheme.items()).intersection(set(selection[0].items()))}\n",
    "fs = find_selection\n",
    "\n",
    "print_index = lambda index : (print(selection_list[index]), print_values(values_list[index]))\n",
    "pi = print_index"
   ]
  },
  {
   "cell_type": "code",
   "execution_count": 103,
   "id": "147e3e01-2f34-4c82-ae24-5f594fe6c950",
   "metadata": {},
   "outputs": [
    {
     "name": "stdout",
     "output_type": "stream",
     "text": [
      "[{'variable': 'jet_ptRegressed', 'njets': 1, 'btagcut': 0.7264, 'ptcut': 30, 'njetcut': 1, 'tag': 'medium pt & tight btag'}]\n",
      "Event Efficiency:   0.99\n",
      "Signal Efficiency:  0.99\n",
      "Signal Purity:      0.36\n",
      "Event Avg Found:    0.98 -> 98.29%\n",
      "Signal Avg Found:   0.99 -> 99.10%\n",
      "Event Total Found:  19.13%\n",
      "Signal Total Found: 16.52%\n",
      "[{'variable': 'jet_btag', 'njets': 2, 'btagcut': 0, 'ptcut': 30, 'njetcut': 2, 'tag': 'medium pt & no btag'}]\n",
      "Event Efficiency:   1.0\n",
      "Signal Efficiency:  1.00\n",
      "Signal Purity:      0.36\n",
      "Event Avg Found:    1.92 -> 95.95%\n",
      "Signal Avg Found:   1.97 -> 98.48%\n",
      "Event Total Found:  37.38%\n",
      "Signal Total Found: 32.83%\n",
      "[{'variable': 'jet_btag', 'njets': 3, 'btagcut': 0, 'ptcut': 30, 'njetcut': 3, 'tag': 'medium pt & no btag'}]\n",
      "Event Efficiency:   0.99\n",
      "Signal Efficiency:  1.00\n",
      "Signal Purity:      0.36\n",
      "Event Avg Found:    2.85 -> 95.06%\n",
      "Signal Avg Found:   2.94 -> 98.11%\n",
      "Event Total Found:  55.51%\n",
      "Signal Total Found: 49.05%\n",
      "[{'variable': 'jet_btag', 'njets': 4, 'btagcut': 0, 'ptcut': 30, 'njetcut': 4, 'tag': 'medium pt & no btag'}]\n",
      "Event Efficiency:   0.96\n",
      "Signal Efficiency:  0.99\n",
      "Signal Purity:      0.37\n",
      "Event Avg Found:    3.70 -> 92.60%\n",
      "Signal Avg Found:   3.88 -> 97.08%\n",
      "Event Total Found:  71.79%\n",
      "Signal Total Found: 64.72%\n",
      "[{'variable': 'jet_btag', 'njets': 5, 'btagcut': 0, 'ptcut': 30, 'njetcut': 5, 'tag': 'medium pt & no btag'}]\n",
      "Event Efficiency:   0.84\n",
      "Signal Efficiency:  0.93\n",
      "Signal Purity:      0.40\n",
      "Event Avg Found:    4.37 -> 87.50%\n",
      "Signal Avg Found:   4.72 -> 94.38%\n",
      "Event Total Found:  83.80%\n",
      "Signal Total Found: 78.65%\n",
      "[{'variable': 'jet_btag', 'njets': 6, 'btagcut': 0, 'ptcut': 30, 'njetcut': 6, 'tag': 'medium pt & no btag'}]\n",
      "Event Efficiency:   0.6\n",
      "Signal Efficiency:  0.74\n",
      "Signal Purity:      0.45\n",
      "Event Avg Found:    4.79 -> 79.85%\n",
      "Signal Avg Found:   5.31 -> 88.57%\n",
      "Event Total Found:  90.34%\n",
      "Signal Total Found: 88.57%\n"
     ]
    }
   ],
   "source": [
    "values = fv(\"signal_per_found\") * fv(\"signal_eff\") * fv(\"signal_avg_found\")\n",
    "\n",
    "for i in range(1,7):\n",
    "    scheme_mask = fs({\"njets\":i,\"ptcut\":30})\n",
    "    best_i,best_v = max( enumerate(values),key=lambda v : v[1] if v[0] in scheme_mask else -1 )\n",
    "\n",
    "    pi(best_i)"
   ]
  },
  {
   "cell_type": "code",
   "execution_count": 94,
   "id": "cc45a3f3-d4a3-460f-986d-73849e27270e",
   "metadata": {},
   "outputs": [
    {
     "data": {
      "text/plain": [
       "{36: [{'variable': 'jet_ptRegressed',\n",
       "   'njets': 1,\n",
       "   'btagcut': 0.7264,\n",
       "   'ptcut': 0,\n",
       "   'njetcut': 1,\n",
       "   'tag': 'no pt & tight btag'}],\n",
       " 42: [{'variable': 'jet_btag',\n",
       "   'njets': 1,\n",
       "   'btagcut': 0.7264,\n",
       "   'ptcut': 0,\n",
       "   'njetcut': 1,\n",
       "   'tag': 'no pt & tight btag'}]}"
      ]
     },
     "execution_count": 94,
     "metadata": {},
     "output_type": "execute_result"
    }
   ],
   "source": [
    "scheme = {\"tag\":\"no pt & tight btag\",\"njets\":1}\n",
    "fs(scheme)"
   ]
  },
  {
   "cell_type": "code",
   "execution_count": 95,
   "id": "e874696d-3e1d-4c9a-80a7-be2b3980534c",
   "metadata": {},
   "outputs": [
    {
     "name": "stdout",
     "output_type": "stream",
     "text": [
      "[{'variable': 'jet_ptRegressed', 'njets': 1, 'btagcut': 0.7264, 'ptcut': 0, 'njetcut': 1, 'tag': 'no pt & tight btag'}]\n",
      "Event Efficiency:   0.99\n",
      "Signal Efficiency:  0.99\n",
      "Signal Purity:      0.36\n",
      "Event Avg Found:    0.98 -> 98.22%\n",
      "Signal Avg Found:   0.99 -> 99.09%\n",
      "Event Total Found:  19.12%\n",
      "Signal Total Found: 16.52%\n"
     ]
    }
   ],
   "source": [
    "pi(36);"
   ]
  },
  {
   "cell_type": "code",
   "execution_count": null,
   "id": "0fba3fb3-7448-4cac-9b4f-3d9d3487347e",
   "metadata": {},
   "outputs": [],
   "source": []
  }
 ],
 "metadata": {
  "kernelspec": {
   "display_name": "Python 3",
   "language": "python",
   "name": "python3"
  },
  "language_info": {
   "codemirror_mode": {
    "name": "ipython",
    "version": 3
   },
   "file_extension": ".py",
   "mimetype": "text/x-python",
   "name": "python",
   "nbconvert_exporter": "python",
   "pygments_lexer": "ipython3",
   "version": "3.8.8"
  }
 },
 "nbformat": 4,
 "nbformat_minor": 5
}

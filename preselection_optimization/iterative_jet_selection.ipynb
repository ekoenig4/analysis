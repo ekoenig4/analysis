{
 "cells": [
  {
   "cell_type": "code",
   "execution_count": 1,
   "id": "7d2eab2c-9fc7-4e9c-9f9f-66d9ac7c435a",
   "metadata": {},
   "outputs": [],
   "source": [
    "%load_ext autoreload\n",
    "import uproot as ut\n",
    "import utils\n",
    "\n",
    "from utils.cutConfig import *\n",
    "\n",
    "%aimport utils\n",
    "%autoreload 1"
   ]
  },
  {
   "cell_type": "code",
   "execution_count": 2,
   "id": "d206af6f-4a48-4270-ad31-788cc406bd43",
   "metadata": {},
   "outputs": [],
   "source": [
    "filename = \"../signal/NanoAOD/NMSSM_XYH_YToHH_6b_MX_700_MY_400_accstudies_500k_May2021.root:sixBtree\"\n",
    "ttree = ut.open(filename)\n",
    "branches = utils.Branches(ttree)"
   ]
  },
  {
   "cell_type": "code",
   "execution_count": 3,
   "id": "3bf8eb39-c73f-433f-becb-7b99afc3fe20",
   "metadata": {},
   "outputs": [],
   "source": [
    "variable = \"jet_btag\"\n",
    "select_list = [\n",
    "    [{\"variable\":variable,\"njets\":2,\"btagcut\":None,\"njetcut\":2,\"tag\":\"No btag\"}],\n",
    "    [{\"variable\":variable,\"njets\":2,\"btagcut\":jet_btagWP[looseWP],\"njetcut\":2,\"tag\":\"Loose btag\"}],\n",
    "    [{\"variable\":variable,\"njets\":2,\"btagcut\":jet_btagWP[mediumWP],\"njetcut\":2,\"tag\":\"Medium btag\"}],\n",
    "    [{\"variable\":variable,\"njets\":2,\"btagcut\":jet_btagWP[tightWP],\"njetcut\":2,\"tag\":\"Tight btag\"}],\n",
    "]\n",
    "\n",
    "selection_info_list = [utils.iterative_selection(branches,scheme) for scheme in select_list]"
   ]
  },
  {
   "cell_type": "code",
   "execution_count": 4,
   "id": "3b9aecf5-9731-46ca-818d-559be7e06622",
   "metadata": {
    "tags": []
   },
   "outputs": [
    {
     "name": "stdout",
     "output_type": "stream",
     "text": [
      "--- STD Preselection No btag Top 2 jet_btag ---\n",
      "Event Efficiency:   1.0\n",
      "Signal Efficiency:  1.00\n",
      "Signal Purity:      0.36\n",
      "Event Avg Found:    1.92 -> 95.95%\n",
      "Signal Avg Found:   1.97 -> 98.48%\n",
      "Event Total Found:  37.38%\n",
      "Signal Total Found: 32.83%\n",
      "--- STD Preselection Loose btag Top 2 jet_btag ---\n",
      "Event Efficiency:   1.0\n",
      "Signal Efficiency:  1.00\n",
      "Signal Purity:      0.36\n",
      "Event Avg Found:    1.92 -> 96.00%\n",
      "Signal Avg Found:   1.97 -> 98.50%\n",
      "Event Total Found:  37.38%\n",
      "Signal Total Found: 32.83%\n",
      "--- STD Preselection Medium btag Top 2 jet_btag ---\n",
      "Event Efficiency:   0.98\n",
      "Signal Efficiency:  0.99\n",
      "Signal Purity:      0.37\n",
      "Event Avg Found:    1.92 -> 96.06%\n",
      "Signal Avg Found:   1.97 -> 98.52%\n",
      "Event Total Found:  37.35%\n",
      "Signal Total Found: 32.84%\n",
      "--- STD Preselection Tight btag Top 2 jet_btag ---\n",
      "Event Efficiency:   0.91\n",
      "Signal Efficiency:  0.94\n",
      "Signal Purity:      0.38\n",
      "Event Avg Found:    1.92 -> 96.13%\n",
      "Signal Avg Found:   1.97 -> 98.55%\n",
      "Event Total Found:  37.21%\n",
      "Signal Total Found: 32.85%\n"
     ]
    }
   ],
   "source": [
    "for i,selection_info in enumerate(selection_info_list):\n",
    "    selection_info = selection_info[0]\n",
    "    study_info = {\n",
    "        \"branches\":branches,\n",
    "        \"plot\":0,\n",
    "        \"title\":\"STD Preselection {tag} Top {njets} {variable}\".format(**selection_info),\n",
    "    }\n",
    "    study_info.update(selection_info)\n",
    "    utils.presel_study(**study_info)"
   ]
  },
  {
   "cell_type": "code",
   "execution_count": null,
   "id": "a1da29e0-9b31-4638-b963-12ffb01e4dd4",
   "metadata": {},
   "outputs": [],
   "source": []
  },
  {
   "cell_type": "code",
   "execution_count": null,
   "id": "bc2181a1-373e-40a1-aa4b-3af89db4ec2a",
   "metadata": {},
   "outputs": [],
   "source": [
    "variable = \"jet_btag\"\n",
    "select_list = [\n",
    "    [{\"variable\":variable,\"njets\":1,\"btagcut\":None,\"njetcut\":1,\"tag\":\"no btag\"}],\n",
    "    [{\"variable\":variable,\"njets\":2,\"btagcut\":None,\"njetcut\":2,\"tag\":\"no btag\"}],\n",
    "    [{\"variable\":variable,\"njets\":3,\"btagcut\":None,\"njetcut\":3,\"tag\":\"no btag\"}],\n",
    "    [{\"variable\":variable,\"njets\":4,\"btagcut\":None,\"njetcut\":4,\"tag\":\"no btag\"}],\n",
    "    [{\"variable\":variable,\"njets\":5,\"btagcut\":None,\"njetcut\":5,\"tag\":\"no btag\"}],\n",
    "    [{\"variable\":variable,\"njets\":6,\"btagcut\":None,\"njetcut\":6,\"tag\":\"no btag\"}],\n",
    "]\n",
    "\n",
    "selection_info_list = [utils.iterative_selection(branches,scheme) for scheme in select_list]"
   ]
  },
  {
   "cell_type": "code",
   "execution_count": null,
   "id": "b5161d94-a492-462a-ad99-db0a24152302",
   "metadata": {
    "tags": []
   },
   "outputs": [],
   "source": [
    "for i,selection_info in enumerate(selection_info_list):\n",
    "    selection_info = selection_info[0]\n",
    "    plot_info = {\n",
    "        \"plot\":0,\n",
    "        \"title\":\"STD Preselection {tag} Top {njets} {variable}\".format(**selection_info),\n",
    "    }\n",
    "    plot_info.update(selection_info)\n",
    "    utils.presel_study(**plot_info)"
   ]
  },
  {
   "cell_type": "code",
   "execution_count": null,
   "id": "7d852ca6-9560-4f85-a35a-3188c5a5ee8c",
   "metadata": {},
   "outputs": [],
   "source": []
  },
  {
   "cell_type": "code",
   "execution_count": null,
   "id": "d9fc1c7c-676d-4e5c-8d6a-ba39e2d1ae93",
   "metadata": {},
   "outputs": [],
   "source": [
    "variable = \"jet_btag\"\n",
    "\n",
    "first3_jets = {\"variable\":variable,\"njets\":3,\"btagcut\":None,\"njetcut\":3,\"tag\":\"no btag\"}\n",
    "first3_jets_info = utils.iterative_selection(branches,[first3_jets])"
   ]
  },
  {
   "cell_type": "code",
   "execution_count": null,
   "id": "df2dfc8f-66ea-4524-a827-af49816e858d",
   "metadata": {},
   "outputs": [],
   "source": [
    "select_list = [\n",
    "    [{\"variable\":\"jet_btag\",\"njets\":3,\"btagcut\":None,\"ptcut\":0,\"tag\":\"no btag\"}],\n",
    "]\n",
    "\n",
    "selection_info_list = [utils.iterative_selection(branches,scheme,previous_info=first3_jets_info) for scheme in select_list]"
   ]
  },
  {
   "cell_type": "code",
   "execution_count": null,
   "id": "fbb77f78-0452-4751-968d-228e7c3a7c7e",
   "metadata": {
    "tags": []
   },
   "outputs": [],
   "source": [
    "for i,selection_info in enumerate(selection_info_list[0]):\n",
    "    plot_info = {\n",
    "        \"plot\":1,\n",
    "        \"title\":\"STD Preselection {tag} Top {njets} {variable}\".format(**selection_info),\n",
    "    }\n",
    "    plot_info.update(selection_info)\n",
    "    utils.presel_study(**plot_info)"
   ]
  },
  {
   "cell_type": "code",
   "execution_count": null,
   "id": "586172ef-9386-4467-86d1-23e7fd7d47f3",
   "metadata": {},
   "outputs": [],
   "source": []
  },
  {
   "cell_type": "code",
   "execution_count": null,
   "id": "93d67496-8748-4fd9-8f48-99bb30df223f",
   "metadata": {},
   "outputs": [],
   "source": []
  }
 ],
 "metadata": {
  "kernelspec": {
   "display_name": "Python 3",
   "language": "python",
   "name": "python3"
  },
  "language_info": {
   "codemirror_mode": {
    "name": "ipython",
    "version": 3
   },
   "file_extension": ".py",
   "mimetype": "text/x-python",
   "name": "python",
   "nbconvert_exporter": "python",
   "pygments_lexer": "ipython3",
   "version": "3.8.8"
  }
 },
 "nbformat": 4,
 "nbformat_minor": 5
}

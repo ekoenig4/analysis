{
 "cells": [
  {
   "cell_type": "code",
   "execution_count": 1,
   "id": "4f947a41-754f-47a0-9cb5-d51703bb7ff8",
   "metadata": {},
   "outputs": [],
   "source": [
    "import uproot as ut\n",
    "import matplotlib.pyplot as plt\n",
    "import matplotlib.gridspec as gs\n",
    "from uproot3_methods import TLorentzVectorArray\n",
    "import vector\n",
    "import awkward as ak\n",
    "from tqdm import tqdm\n",
    "%matplotlib inline\n",
    "\n",
    "import numpy as np\n"
   ]
  },
  {
   "cell_type": "code",
   "execution_count": null,
   "id": "573bae7e-ea9d-41b8-bb13-4c335c75722e",
   "metadata": {},
   "outputs": [],
   "source": [
    "filename = \"../signal/NanoAOD/NMSSM_XYH_YToHH_6b_MX_700_MY_400_accstudies_500k_May2021.root:sixBtree\"\n",
    "ttree = ut.open(filename)\n",
    "branches_all = ttree.arrays()\n",
    "nevents_all = ak.size( branches_all[\"Run\"] )"
   ]
  },
  {
   "cell_type": "code",
   "execution_count": null,
   "id": "e0fe6dc1-e364-4c16-9a8f-d8c39fb39ad0",
   "metadata": {},
   "outputs": [],
   "source": [
    "total_events = 100000\n",
    "branches = branches_all\n",
    "nevents = ak.size( branches[\"Run\"] )\n",
    "\n",
    "sixb_found_mask = branches[\"nfound_all\"] == 6\n",
    "nsignal = ak.sum(sixb_found_mask)\n",
    "sixb_jets = branches[\"signal_bjet_index\"]"
   ]
  },
  {
   "cell_type": "code",
   "execution_count": null,
   "id": "c8634ea8-3459-4f44-8935-ad85ab3d043b",
   "metadata": {
    "tags": []
   },
   "outputs": [],
   "source": [
    "# --- Standard Preselection --- #\n",
    "def std_preselection(branches,ptcut=30,etacut=2.4,btagcut=None,jetid=None,puid=None):\n",
    "    jet_pt_mask = branches[\"jet_ptRegressed\"] > ptcut\n",
    "    jet_eta_mask = np.abs(branches[\"jet_eta\"]) < etacut\n",
    "    jet_mask = jet_pt_mask & jet_eta_mask\n",
    "    \n",
    "    if btagcut: jet_mask = jet_mask & (branches[\"jet_btag\"] > btagcut)\n",
    "    if jetid: jet_mask = jet_mask & ((1 << jetid) == branches[\"jet_id\"] & ( 1 << jetid ))\n",
    "    if puid: jet_mask = jet_mask & ((1 << puid) == branches[\"jet_puid\"] & ( 1 << puid ))\n",
    "    \n",
    "    event_mask = ak.sum(jet_mask,axis=-1) >= 6\n",
    "    return event_mask,jet_mask"
   ]
  },
  {
   "cell_type": "code",
   "execution_count": null,
   "id": "6670780d-30b5-46f7-92da-bf2d4b0cb37d",
   "metadata": {},
   "outputs": [],
   "source": [
    "def select_jets_simple(branches,varbranch,mask=None,jets=None,njets=6):\n",
    "    if mask is None: mask = np.ones(ak.size(branches['Run']),dtype=bool)\n",
    "    if jets is None: jets = branches[\"jet_pt\"] > -999\n",
    "    sorted_array = np.argsort(-varbranch[mask])\n",
    "    selected_sorted_array = jets[mask][sorted_array]\n",
    "    firstN_array = np.argsort(sorted_array[selected_sorted_array]) < njets\n",
    "    selected_array = sorted_array[selected_sorted_array][firstN_array]\n",
    "    return selected_array\n",
    "def select_jets(branches,variable=\"jet_ptRegressed\",mask=None,jets=None,njets=6):\n",
    "    varbranch = branches[variable]\n",
    "    return select_jets_simple(branches,varbranch,mask,jets,njets)"
   ]
  },
  {
   "cell_type": "code",
   "execution_count": null,
   "id": "6c40f10e-6ecc-4513-986d-d34c8c9c13cb",
   "metadata": {},
   "outputs": [],
   "source": [
    "def count_sixb(test_selected,sixb_jets=sixb_jets,mask=None):\n",
    "    nevts = ak.size(test_selected,axis=0)\n",
    "    if mask is None: mask = np.ones(nevts,dtype=bool)\n",
    "    sixb_jets = sixb_jets[mask]\n",
    "    compare , _ = ak.broadcast_arrays( sixb_jets[:,None], test_selected)\n",
    "    inter = (test_selected == compare)\n",
    "    count = ak.sum(ak.flatten(inter,axis=-1),axis=-1)\n",
    "    return count"
   ]
  },
  {
   "cell_type": "code",
   "execution_count": null,
   "id": "38d5da00-be68-4cf7-91ab-98c641f6298d",
   "metadata": {},
   "outputs": [],
   "source": [
    "def get_selected(branches,variable,mask=None,jets=None,sixb_jets=sixb_jets,sixb_found_mask=sixb_found_mask):\n",
    "    if mask is None: mask = np.ones(ak.size(branches['Run']),dtype=bool)\n",
    "    selected = select_jets(branches,variable,mask=mask,jets=jets)\n",
    "    sixb_count = count_sixb(selected,sixb_jets,mask=mask)\n",
    "    \n",
    "    signal_selected = select_jets(branches,variable,mask=mask & sixb_found_mask,jets=jets)\n",
    "    signal_sixb_count = count_sixb(signal_selected,sixb_jets,mask=mask & sixb_found_mask)\n",
    "    \n",
    "    return (selected,sixb_count),(signal_selected,signal_sixb_count)"
   ]
  },
  {
   "cell_type": "code",
   "execution_count": null,
   "id": "b598e32e-570f-4954-bd28-c04f75461ff0",
   "metadata": {},
   "outputs": [],
   "source": [
    "(pt_selected,sixb_count_pt),(signal_pt_selected,signal_sixb_count_pt) = get_selected(branches,\"jet_ptRegressed\")"
   ]
  },
  {
   "cell_type": "code",
   "execution_count": null,
   "id": "960e5332-aeff-4c5c-9d7e-34ac38e90e32",
   "metadata": {
    "tags": []
   },
   "outputs": [],
   "source": [
    "(btag_selected,sixb_count_btag),(signal_btag_selected,signal_sixb_count_btag) = get_selected(branches,\"jet_btag\")"
   ]
  },
  {
   "cell_type": "code",
   "execution_count": null,
   "id": "0d092fbe-fa00-4b62-8d11-c96e67cabbe6",
   "metadata": {
    "tags": []
   },
   "outputs": [],
   "source": [
    "def plot_simple(variable,branches=branches,mask=None,selected=None,bins=None,xlabel=None,title=\"No Selection\",label=None,figax=None):\n",
    "    if figax is None: figax = plt.subplots()\n",
    "    if mask is None: mask = np.ones(ak.size(branches['Run']),dtype=bool)\n",
    "    (fig,ax) = figax\n",
    "    \n",
    "    data = branches[variable][mask]\n",
    "    if selected is not None: data = branches[variable][mask][selected]\n",
    "    data = ak.flatten( data,axis=-1 )\n",
    "    \n",
    "    ax.hist(data,bins=bins,label=label)\n",
    "    ax.set_xlabel(xlabel)\n",
    "    ax.set_title(title)\n",
    "    ax.legend()\n",
    "def plot_mask_comparison(variable,branches=branches,mask=None,selected=None,signal_selected=None,sixb_jets=None\n",
    "                              ,bins=None,xlabel=None,title=\"No Selection\",label=\"All Events\",figax=None):\n",
    "    if figax is None: figax = plt.subplots()\n",
    "    if mask is None: mask = np.ones(ak.size(branches['Run']),dtype=bool)\n",
    "    (fig,ax) = figax\n",
    "    \n",
    "    data1 = branches[variable][mask]\n",
    "    if selected is not None and \"jet_\" in variable: data1 = branches[variable][mask][selected]\n",
    "    data1 = ak.flatten( data1,axis=-1 ); nevts1 = len(data1)\n",
    "    \n",
    "    data2 = branches[variable][mask & sixb_found_mask]\n",
    "    if signal_selected is not None and \"jet_\" in variable: data2 = branches[variable][mask & sixb_found_mask][signal_selected]\n",
    "    data2 = ak.flatten( data2,axis=-1 ); nevts2 = len(data2)\n",
    "    \n",
    "    data3 = branches[variable][mask & sixb_found_mask]\n",
    "    if sixb_jets is not None and \"jet_\" in variable: data3 = branches[variable][mask & sixb_found_mask][sixb_jets[mask & sixb_found_mask]]\n",
    "    data3 = ak.flatten( data3,axis=-1 ); nevts3 = len(data3)\n",
    "    \n",
    "    ax.hist(data1,bins=bins,label=f\"{label} ({nevts1:.2e})\")\n",
    "    ax.hist(data2,bins=bins,label=f\"Gen Matched Six BJets ({nevts2:.2e})\")\n",
    "    \n",
    "    if sixb_jets is not None and \"jet_\" in variable:\n",
    "        ax.hist(data3,bins=bins,label=f\"Signal Six BJets ({nevts3:.2e})\",histtype=\"step\",color=\"black\",linewidth=2)\n",
    "        \n",
    "    ax.set_xlabel(xlabel)\n",
    "    ax.set_title(title)\n",
    "    ax.legend()\n",
    "    \n",
    "def plot_mask_simple_comparison(selected,signal_selected,bins=None,label=\"All Events\",title=None,xlabel=None,figax=None):\n",
    "    if figax is None: figax = plt.subplots()\n",
    "    (fig,ax) = figax\n",
    "        \n",
    "    nevts1 = ak.size(selected)\n",
    "    nevts2 = ak.size(signal_selected)\n",
    "        \n",
    "    ax.hist(selected,bins=bins,label=f\"{label} ({nevts1:.2e})\")\n",
    "    ax.hist(signal_selected,bins=bins,label=f\"Gen Matched Six BJets ({nevts2:.2e})\")\n",
    "    ax.set_xlabel(xlabel)\n",
    "    ax.set_title(title)\n",
    "    ax.legend()\n",
    "    \n",
    "def presel_study(branches=branches,mask=np.ones(nevents,dtype=bool),jet_mask=None,\n",
    "                 selected=None,signal_selected=None,sixb_jets=sixb_jets,sixb_count=None,signal_sixb_count=None,\n",
    "                 title=\"No Selection\",saveas=None):\n",
    "    print(f\"--- {title} ---\")\n",
    "    varinfo = {\n",
    "        f\"jet_m\":{\"bins\":np.linspace(0,60,100),\"xlabel\":\"Jet Mass\"},\n",
    "        f\"jet_ptRegressed\":{\"bins\":np.linspace(0,200,100),\"xlabel\":\"Jet Pt (GeV)\"},\n",
    "        f\"jet_eta\":{\"bins\":np.linspace(-3,3,100),\"xlabel\":\"Jet Eta\"},\n",
    "        f\"jet_phi\":{\"bins\":np.linspace(-3.14,3.14,100),\"xlabel\":\"Jet Phi\"},\n",
    "        f\"jet_E\":{\"bins\":np.linspace(0,300,100),\"xlabel\":\"Jet Energy\"},\n",
    "        f\"jet_btag\":{\"bins\":np.linspace(0,1,100),\"xlabel\":\"Jet Btag\"},\n",
    "        f\"jet_id\":{\"bins\":np.linspace(-0.5,10.5,12),\"xlabel\":\"Jet ID\"},\n",
    "        f\"jet_puid\":{\"bins\":np.linspace(-0.5,10.5,12),\"xlabel\":\"Jet PU ID\"},\n",
    "    }\n",
    "    mask_evnts = ak.sum(mask)\n",
    "    signal_evnts= ak.sum(mask & sixb_found_mask)\n",
    "    \n",
    "    total_eff = mask_evnts/float(nevents)\n",
    "    signal_eff = signal_evnts/float(nsignal)\n",
    "    purity = signal_evnts/float(mask_evnts)\n",
    "    \n",
    "    prompt = [\n",
    "        f\"Event Efficiency:       {total_eff:0.2f}\",\n",
    "        f\"Signal Efficiency:      {signal_eff:0.2f}\",\n",
    "        f\"Signal Purity:          {purity:0.2f}\"\n",
    "    ]\n",
    "    \n",
    "    if sixb_count is not None:\n",
    "        total_score = sum( ak.sum(sixb_count == n)/float(6+1-n) for n in range(6+1))/float(mask_evnts)\n",
    "        signal_score= sum( ak.sum(signal_sixb_count == n)/float(6+1-n) for n in range(6+1))/float(signal_evnts)\n",
    "        prompt += [\n",
    "            f\"Event Selection Score:  {total_score:0.2f}\",\n",
    "            f\"Signal Selection Score: {signal_score:0.2f}\"\n",
    "        ]\n",
    "    \n",
    "    print(\"\\n\".join(prompt))\n",
    "    \n",
    "    total_njet = branches[\"njet\"][mask]\n",
    "    if jet_mask is not None: total_njet = ak.sum(jet_mask[mask],axis=-1)\n",
    "    \n",
    "    signal_njet = branches[\"njet\"][mask & sixb_found_mask]\n",
    "    if jet_mask is not None: signal_njet = ak.sum(jet_mask[mask & sixb_found_mask],axis=-1)\n",
    "    \n",
    "    fig = plt.figure( figsize=(20,10) )\n",
    "    nrows,ncols = 3,4\n",
    "    gs = fig.add_gridspec(nrows=nrows,ncols=ncols)\n",
    "    \n",
    "    ax1 = fig.add_subplot( gs[0,:2])\n",
    "    ax2 = fig.add_subplot( gs[0,2:])\n",
    "    \n",
    "    plot_mask_simple_comparison(total_njet,signal_njet,figax=(fig,ax1),title=title,bins=np.linspace(-0.5,21.5,23),xlabel=\"Number of Jets in Selection\")\n",
    "    plot_mask_simple_comparison(sixb_count,signal_sixb_count,figax=(fig,ax2),title=title,bins=np.linspace(-0.5,6.5,8),xlabel=\"N Signal Six B in Selection\")\n",
    "    \n",
    "    for i,(var,info) in enumerate(varinfo.items()):\n",
    "        ax = fig.add_subplot( gs[1 + int(i/ncols),i%ncols] )\n",
    "        plot_mask_comparison(var,branches=branches,mask=mask,selected=selected,signal_selected=signal_selected,\n",
    "                             sixb_jets=sixb_jets,title=title,figax=(fig,ax),**info)\n",
    "    fig.tight_layout()\n",
    "    plt.show()\n",
    "    if saveas: fig.savefig(f\"plots/{saveas}\")\n",
    "    "
   ]
  },
  {
   "cell_type": "code",
   "execution_count": null,
   "id": "1e178f4e-cc98-45b6-bed1-dc1e4a6f09cd",
   "metadata": {
    "tags": []
   },
   "outputs": [],
   "source": [
    "info = {\n",
    "    \"title\":\"6 Highest Pt Jets\",\n",
    "    \"selected\":pt_selected,\n",
    "    \"signal_selected\":signal_pt_selected,\n",
    "    \"sixb_count\":sixb_count_pt,\n",
    "    \"signal_sixb_count\":signal_sixb_count_pt,\n",
    "    \"saveas\":\"no_sel_high_pt.png\"\n",
    "}\n",
    "presel_study(**info)"
   ]
  },
  {
   "cell_type": "code",
   "execution_count": null,
   "id": "d2480d22-2d3d-476c-a25c-359cc3f1a045",
   "metadata": {
    "tags": []
   },
   "outputs": [],
   "source": [
    "info = {\n",
    "    \"title\":\"6 Highest Btag Jets\",\n",
    "    \"selected\":btag_selected,\n",
    "    \"signal_selected\":signal_btag_selected,\n",
    "    \"sixb_count\":sixb_count_btag,\n",
    "    \"signal_sixb_count\":signal_sixb_count_btag,\n",
    "    \"saveas\":\"no_sel_high_btag.png\"\n",
    "}\n",
    "presel_study(**info)"
   ]
  },
  {
   "cell_type": "code",
   "execution_count": null,
   "id": "a7d5b105-df0b-4c34-b781-e74f3e93d835",
   "metadata": {},
   "outputs": [],
   "source": []
  },
  {
   "cell_type": "code",
   "execution_count": null,
   "id": "93876be0-d641-4a4e-b405-12be5b62ca52",
   "metadata": {
    "tags": []
   },
   "outputs": [],
   "source": [
    "event_presel_mask, jet_presel_mask = std_preselection(branches)\n",
    "\n",
    "(pt_preselected,pt_sixb_count_presel),(signal_pt_preselected,signal_pt_sixb_count_presel) = get_selected(branches,\"jet_ptRegressed\",mask=event_presel_mask,\n",
    "                                                                                                         jets=jet_presel_mask)\n",
    "\n",
    "(btag_preselected,btag_sixb_count_presel),(signal_btag_preselected,signal_btag_sixb_count_presel) = get_selected(branches,\"jet_btag\",mask=event_presel_mask,\n",
    "                                                                                                                 jets=jet_presel_mask)\n",
    "\n",
    "ptbtag = branches[\"jet_ptRegressed\"] * branches[\"jet_btag\"]\n",
    "\n",
    "ptbtag_preselected = select_jets_simple(branches,ptbtag,mask=event_presel_mask,jets=jet_presel_mask)\n",
    "ptbtag_sixb_count_presel = count_sixb(ptbtag_preselected,mask=event_presel_mask)\n",
    "\n",
    "signal_ptbtag_preselected = select_jets_simple(branches,ptbtag,mask=event_presel_mask & sixb_found_mask,jets=jet_presel_mask)\n",
    "signal_ptbtag_sixb_count_presel = count_sixb(signal_ptbtag_preselected,mask=event_presel_mask & sixb_found_mask)"
   ]
  },
  {
   "cell_type": "code",
   "execution_count": null,
   "id": "4bf239e4-ae93-463c-86e8-be5a8e7ff623",
   "metadata": {
    "tags": []
   },
   "outputs": [],
   "source": [
    "info = {\n",
    "    \"mask\":event_presel_mask,\n",
    "    \"jet_mask\":jet_presel_mask,\n",
    "    \"title\":\"STD Preselection 6 Highest Pt\",\n",
    "    \"selected\":pt_preselected,\n",
    "    \"signal_selected\":signal_pt_preselected,\n",
    "    \"sixb_count\":pt_sixb_count_presel,\n",
    "    \"signal_sixb_count\":signal_pt_sixb_count_presel,\n",
    "    \"saveas\":\"presel_std_high_pt.png\"\n",
    "}\n",
    "presel_study(**info)"
   ]
  },
  {
   "cell_type": "code",
   "execution_count": null,
   "id": "ab727f46-0ba9-4cba-9632-3b4679239812",
   "metadata": {},
   "outputs": [],
   "source": [
    "info = {\n",
    "    \"mask\":event_presel_mask,\n",
    "    \"jet_mask\":jet_presel_mask,\n",
    "    \"title\":\"STD Preselection 6 Highest Btag\",\n",
    "    \"selected\":btag_preselected,\n",
    "    \"signal_selected\":signal_btag_preselected,\n",
    "    \"sixb_count\":btag_sixb_count_presel,\n",
    "    \"signal_sixb_count\":signal_btag_sixb_count_presel,\n",
    "    \"saveas\":\"presel_std_high_btag.png\"\n",
    "}\n",
    "presel_study(**info)"
   ]
  },
  {
   "cell_type": "code",
   "execution_count": null,
   "id": "a5541f0a-d429-41c1-a946-0d52de26eb9d",
   "metadata": {},
   "outputs": [],
   "source": [
    "info = {\n",
    "    \"mask\":event_presel_mask,\n",
    "    \"jet_mask\":jet_presel_mask,\n",
    "    \"title\":\"Std Preselection 6 Highest PtBtag Jets\",\n",
    "    \"selected\":ptbtag_preselected,\n",
    "    \"signal_selected\":signal_ptbtag_preselected,\n",
    "    \"sixb_count\":ptbtag_sixb_count_presel,\n",
    "    \"signal_sixb_count\":signal_ptbtag_sixb_count_presel,\n",
    "    \"saveas\":\"presel_std_high_ptbtag.png\"\n",
    "}\n",
    "presel_study(**info)"
   ]
  },
  {
   "cell_type": "code",
   "execution_count": null,
   "id": "a8a4479e-bf2d-4143-8577-d642c8ad46fc",
   "metadata": {},
   "outputs": [],
   "source": []
  },
  {
   "cell_type": "code",
   "execution_count": null,
   "id": "82b965bc-62ab-43cb-b573-72bf279b5074",
   "metadata": {},
   "outputs": [],
   "source": [
    "event_presel_v2_mask, jet_presel_v2_mask = std_preselection(branches,btagcut=0.01)\n",
    "(pt_v2_preselected,sixb_count_v2_presel_pt),(signal_pt_v2_preselected,signal_sixb_count_v2_presel_pt) = get_selected(branches,\"jet_ptRegressed\",mask=event_presel_v2_mask,\n",
    "                                                                                                                     jets=jet_presel_v2_mask)\n",
    "\n",
    "(btag_v2_preselected,sixb_count_v2_presel_btag),(signal_btag_v2_preselected,signal_sixb_count_v2_presel_btag) = get_selected(branches,\"jet_btag\",mask=event_presel_v2_mask,\n",
    "                                                                                                                             jets=jet_presel_v2_mask)"
   ]
  },
  {
   "cell_type": "code",
   "execution_count": null,
   "id": "9945dcd8-967e-4bf1-9d99-53a0ddf113b7",
   "metadata": {},
   "outputs": [],
   "source": [
    "info = {\n",
    "    \"mask\":event_presel_v2_mask,\n",
    "    \"title\":\"STD Preselection v2 Highest Pt\",\n",
    "    \"selected\":pt_v2_preselected,\n",
    "    \"signal_selected\":signal_pt_v2_preselected,\n",
    "    \"sixb_count\":sixb_count_v2_presel_pt,\n",
    "    \"signal_sixb_count\":signal_sixb_count_v2_presel_pt,\n",
    "    \"jet_mask\":jet_presel_v2_mask,\n",
    "    \"saveas\":\"presel_v2_high_pt.png\"\n",
    "}\n",
    "presel_study(**info)"
   ]
  },
  {
   "cell_type": "code",
   "execution_count": null,
   "id": "f9e8b7b7-433c-4fcd-a465-6cc449538264",
   "metadata": {},
   "outputs": [],
   "source": [
    "info = {\n",
    "    \"mask\":event_presel_v2_mask,\n",
    "    \"title\":\"STD Preselection v2 Highest Btag\",\n",
    "    \"selected\":btag_v2_preselected,\n",
    "    \"signal_selected\":signal_btag_v2_preselected,\n",
    "    \"sixb_count\":sixb_count_v2_presel_btag,\n",
    "    \"signal_sixb_count\":signal_sixb_count_v2_presel_btag,\n",
    "    \"jet_mask\":jet_presel_v2_mask,\n",
    "    \"saveas\":\"presel_v2_high_btag.png\"\n",
    "}\n",
    "presel_study(**info)"
   ]
  },
  {
   "cell_type": "code",
   "execution_count": null,
   "id": "c70d517d-13b6-480d-84c1-8f13e7865230",
   "metadata": {},
   "outputs": [],
   "source": []
  },
  {
   "cell_type": "code",
   "execution_count": null,
   "id": "e5e41e8d-3c3e-4176-a3c4-8f01d0f5aa9e",
   "metadata": {},
   "outputs": [],
   "source": [
    "event_presel_v3_mask, jet_presel_v3_mask = std_preselection(branches,btagcut=0.3,jetid=1,puid=1)\n",
    "(pt_v3_preselected,sixb_count_v3_presel_pt),(signal_pt_v3_preselected,signal_sixb_count_v3_presel_pt) = get_selected(branches,\"jet_ptRegressed\",mask=event_presel_v3_mask,\n",
    "                                                                                                                     jets=jet_presel_v3_mask)\n",
    "\n",
    "(btag_v3_preselected,sixb_count_v3_presel_btag),(signal_btag_v3_preselected,signal_sixb_count_v3_presel_btag) = get_selected(branches,\"jet_btag\",mask=event_presel_v3_mask,\n",
    "                                                                                                                             jets=jet_presel_v3_mask)"
   ]
  },
  {
   "cell_type": "code",
   "execution_count": null,
   "id": "08a4feb7-a4e8-4262-a3e0-7b32d2ba46fb",
   "metadata": {},
   "outputs": [],
   "source": [
    "info = {\n",
    "    \"mask\":event_presel_v3_mask,\n",
    "    \"title\":\"STD Preselection v3 Highest Pt\",\n",
    "    \"selected\":pt_v3_preselected,\n",
    "    \"signal_selected\":signal_pt_v3_preselected,\n",
    "    \"sixb_count\":sixb_count_v3_presel_pt,\n",
    "    \"signal_sixb_count\":signal_sixb_count_v3_presel_pt,\n",
    "    \"jet_mask\":jet_presel_v3_mask,\n",
    "    \"saveas\":\"presel_v3_high_pt.png\"\n",
    "}\n",
    "presel_study(**info)"
   ]
  },
  {
   "cell_type": "code",
   "execution_count": null,
   "id": "ace75f06-e0b3-485f-8cf5-a9288696f3c4",
   "metadata": {},
   "outputs": [],
   "source": [
    "info = {\n",
    "    \"mask\":event_presel_v3_mask,\n",
    "    \"title\":\"STD Preselection v3 Highest Btag\",\n",
    "    \"selected\":btag_v3_preselected,\n",
    "    \"signal_selected\":signal_btag_v3_preselected,\n",
    "    \"sixb_count\":sixb_count_v3_presel_btag,\n",
    "    \"signal_sixb_count\":signal_sixb_count_v3_presel_btag,\n",
    "    \"jet_mask\":jet_presel_v3_mask,\n",
    "    \"saveas\":\"presel_v3_high_btag.png\"\n",
    "}\n",
    "presel_study(**info)"
   ]
  },
  {
   "cell_type": "code",
   "execution_count": null,
   "id": "b7643dbf-525d-4bc3-a4c2-412e9e7a02f9",
   "metadata": {},
   "outputs": [],
   "source": []
  },
  {
   "cell_type": "code",
   "execution_count": null,
   "id": "d9293bf3-05d7-46c1-a6f4-7bb3b019b072",
   "metadata": {},
   "outputs": [],
   "source": []
  },
  {
   "cell_type": "code",
   "execution_count": null,
   "id": "af941a8a-c4cc-4286-8336-5042716abcd3",
   "metadata": {},
   "outputs": [],
   "source": []
  },
  {
   "cell_type": "code",
   "execution_count": null,
   "id": "4e1af00f-c37d-4d16-b77f-e6d2c3ca94ec",
   "metadata": {},
   "outputs": [],
   "source": []
  },
  {
   "cell_type": "code",
   "execution_count": null,
   "id": "7a80b6bc-51fa-4d9e-bcb0-ea9879eb5cdd",
   "metadata": {},
   "outputs": [],
   "source": []
  },
  {
   "cell_type": "code",
   "execution_count": null,
   "id": "cfe6f19c-edf6-4c66-b557-1c134792e587",
   "metadata": {},
   "outputs": [],
   "source": []
  },
  {
   "cell_type": "code",
   "execution_count": null,
   "id": "eb7f2c59-2056-4979-a042-57663e762827",
   "metadata": {},
   "outputs": [],
   "source": []
  },
  {
   "cell_type": "code",
   "execution_count": null,
   "id": "65e769b4-f897-4b10-ab60-719e894a9ffd",
   "metadata": {},
   "outputs": [],
   "source": []
  }
 ],
 "metadata": {
  "kernelspec": {
   "display_name": "Python 3",
   "language": "python",
   "name": "python3"
  },
  "language_info": {
   "codemirror_mode": {
    "name": "ipython",
    "version": 3
   },
   "file_extension": ".py",
   "mimetype": "text/x-python",
   "name": "python",
   "nbconvert_exporter": "python",
   "pygments_lexer": "ipython3",
   "version": "3.8.8"
  }
 },
 "nbformat": 4,
 "nbformat_minor": 5
}

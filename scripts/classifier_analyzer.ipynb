{
 "cells": [
  {
   "cell_type": "code",
   "execution_count": 1,
   "id": "gothic-facility",
   "metadata": {
    "ExecuteTime": {
     "end_time": "2021-03-11T21:12:19.892482Z",
     "start_time": "2021-03-11T21:12:19.866020Z"
    }
   },
   "outputs": [
    {
     "name": "stdout",
     "output_type": "stream",
     "text": [
      "Importing numpy.\n",
      "Importing matplotlib.\n",
      "Importing ipy.\n",
      "Importing PIL.\n",
      "Importing pandas.\n",
      "Importing keras.\n"
     ]
    }
   ],
   "source": [
    "print(\"Importing numpy.\")\n",
    "import numpy as np\n",
    "\n",
    "print(\"Importing matplotlib.\")\n",
    "import matplotlib\n",
    "matplotlib.rc('xtick', labelsize=14) \n",
    "matplotlib.rc('ytick', labelsize=14) \n",
    "from matplotlib import gridspec\n",
    "import matplotlib.pyplot as plt\n",
    "%matplotlib widget\n",
    "from matplotlib.offsetbox import OffsetImage, AnnotationBbox\n",
    "from matplotlib import rcParams\n",
    "rcParams['font.family'] = 'serif'\n",
    "rcParams['font.sans-serif'] = ['Times New Roman']\n",
    "\n",
    "print(\"Importing ipy.\")\n",
    "from ipywidgets import interact, widgets, FloatSlider, Dropdown, Checkbox, VBox\n",
    "from IPython.display import display, clear_output\n",
    "\n",
    "print(\"Importing PIL.\")\n",
    "from PIL import Image\n",
    "\n",
    "print(\"Importing pandas.\")\n",
    "from pandas import DataFrame\n",
    "\n",
    "import warnings\n",
    "warnings.filterwarnings(\"ignore\")\n",
    "\n",
    "print(\"Importing keras.\")\n",
    "from keras.models import model_from_json\n",
    "\n",
    "from tqdm import tqdm\n",
    "\n",
    "from uproot3_methods import TLorentzVectorArray"
   ]
  },
  {
   "cell_type": "code",
   "execution_count": 2,
   "id": "touched-sociology",
   "metadata": {},
   "outputs": [],
   "source": [
    "import matplotlib.patches as mpatches\n",
    "from matplotlib.collections import PatchCollection"
   ]
  },
  {
   "cell_type": "code",
   "execution_count": 3,
   "id": "incorrect-flush",
   "metadata": {},
   "outputs": [],
   "source": [
    "from consistent_plots import hist"
   ]
  },
  {
   "cell_type": "code",
   "execution_count": 4,
   "id": "individual-wilderness",
   "metadata": {},
   "outputs": [],
   "source": [
    "from matplotlib.gridspec import GridSpec"
   ]
  },
  {
   "cell_type": "code",
   "execution_count": 5,
   "id": "olympic-boost",
   "metadata": {},
   "outputs": [],
   "source": [
    "## LOAD MODEL\n",
    "model_dir = f'models/classifier/reco/model/'\n",
    "json_file = open(model_dir + f'model_1.json', 'r')\n",
    "loaded_model_json = json_file.read()\n",
    "json_file.close()\n",
    "model = model_from_json(loaded_model_json)\n",
    "model.load_weights(model_dir + f'model_1.h5')\n",
    "\n",
    "## LOAD INPUTS\n",
    "file = np.load(\"inputs/reco/nn_input_MX700_MY400_classifier.npz\")\n",
    "nevents = len(np.concatenate((file['test'], file['train'], file['val'])))"
   ]
  },
  {
   "cell_type": "code",
   "execution_count": 6,
   "id": "later-agenda",
   "metadata": {},
   "outputs": [],
   "source": [
    "x_test = file['x_test']\n",
    "X_test = file['X_test']\n",
    "ntest = len(file['test'])\n",
    "\n",
    "scores = model.predict(x_test)\n",
    "scores = scores[:,0]\n",
    "rscores = np.around(scores, decimals=3)\n",
    "\n",
    "## APPLY MODEL TO INPUTS\n",
    "pairings = []\n",
    "score_dist = []\n",
    "for i in range(15):\n",
    "    pairings.append(scores[np.arange(i, ntest, 15)])\n",
    "\n",
    "events = []\n",
    "for i in range(0, ntest*15, 15):\n",
    "    events.append(scores[i:i+15])"
   ]
  },
  {
   "cell_type": "code",
   "execution_count": 7,
   "id": "honest-tractor",
   "metadata": {},
   "outputs": [],
   "source": [
    "pair_inv1 = TLorentzVectorArray.from_ptetaphim(X_test[:,0], X_test[:,1], X_test[:,2], np.repeat(4e-9,len(X_test)))\n",
    "pair_inv2 = TLorentzVectorArray.from_ptetaphim(X_test[:,3], X_test[:,4], X_test[:,5], np.repeat(4e-9,len(X_test)))\n",
    "pair_inv = pair_inv1 + pair_inv2"
   ]
  },
  {
   "cell_type": "code",
   "execution_count": 8,
   "id": "super-virtue",
   "metadata": {},
   "outputs": [],
   "source": [
    "pair_p4 = np.reshape(pair_inv, (5039,15))"
   ]
  },
  {
   "cell_type": "code",
   "execution_count": 43,
   "id": "choice-tablet",
   "metadata": {},
   "outputs": [],
   "source": [
    "pair_mass = np.reshape(pair_inv.mass, (5039, 15))\n",
    "true_Y = pair_p4[:,1] + pair_p4[:,2]\n",
    "true_Y_m = np.array(())\n",
    "for combo in true_Y:\n",
    "    true_Y_m = np.append(true_Y_m, combo.mass)"
   ]
  },
  {
   "cell_type": "code",
   "execution_count": 48,
   "id": "protecting-action",
   "metadata": {},
   "outputs": [],
   "source": [
    "true_X = pair_p4[:,1] + pair_p4[:,2] +  pair_p4[:,0]\n",
    "true_X_m = np.array(())\n",
    "for combo in true_X:\n",
    "    true_X_m = np.append(true_X_m, combo.mass)"
   ]
  },
  {
   "cell_type": "code",
   "execution_count": 71,
   "id": "early-istanbul",
   "metadata": {},
   "outputs": [
    {
     "data": {
      "application/vnd.jupyter.widget-view+json": {
       "model_id": "f800d709bb974cf191e10ab5ee8f229f",
       "version_major": 2,
       "version_minor": 0
      },
      "text/plain": [
       "Canvas(toolbar=Toolbar(toolitems=[('Home', 'Reset original view', 'home', 'home'), ('Back', 'Back to previous …"
      ]
     },
     "metadata": {},
     "output_type": "display_data"
    },
    {
     "data": {
      "text/plain": [
       "Text(0.5, 0, 'Reco $m_X$  [GeV]')"
      ]
     },
     "execution_count": 71,
     "metadata": {},
     "output_type": "execute_result"
    }
   ],
   "source": [
    "fig, ax = plt.subplots(nrows=1, ncols=2, figsize=(10,5))\n",
    "_ = hist(ax[0], true_Y_m, bins=np.linspace(0,600,100))\n",
    "ax[0].set_xlabel(r'Reco $m_Y$  [GeV]')\n",
    "_ = hist(ax[1], true_X_m, bins=np.linspace(300,1000,100))\n",
    "ax[1].set_xlabel(r'Reco $m_X$  [GeV]')"
   ]
  },
  {
   "cell_type": "code",
   "execution_count": 30,
   "id": "detailed-invite",
   "metadata": {},
   "outputs": [
    {
     "data": {
      "application/vnd.jupyter.widget-view+json": {
       "model_id": "d7bde4f2b6f64a4f9a27b43fa3db6362",
       "version_major": 2,
       "version_minor": 0
      },
      "text/plain": [
       "Canvas(toolbar=Toolbar(toolitems=[('Home', 'Reset original view', 'home', 'home'), ('Back', 'Back to previous …"
      ]
     },
     "metadata": {},
     "output_type": "display_data"
    }
   ],
   "source": [
    "fig, axs =  plt.subplots(nrows=5, ncols=3, figsize=(10,12))\n",
    "for i,ax in enumerate(axs.flat):\n",
    "    hist(ax, pair_mass[:,i], bins=np.linspace(0,300,100))"
   ]
  },
  {
   "cell_type": "code",
   "execution_count": 10,
   "id": "eleven-pierce",
   "metadata": {},
   "outputs": [],
   "source": [
    "sbe = scores.reshape(5039,15) # scores by event\n",
    "\n",
    "def get_passing_pairs(cut):\n",
    "    \"\"\"Returns how many pairs pass the cut for each event, as well as indices of passing pairs.\"\"\"\n",
    "    pass_pairs = []\n",
    "    pairs_mask = np.array((), dtype=bool)\n",
    "    n = np.array(())\n",
    "    higgs = np.array((), dtype=bool)\n",
    "    for evt in sbe:\n",
    "        evt_pass = [i for i,s in enumerate(evt) if s > cut]\n",
    "        pass_pairs.append(evt_pass)\n",
    "        pairs_mask =  np.append(pairs_mask, evt > cut)\n",
    "        n  = np.append(n, len(evt_pass))\n",
    "        higgs  = np.append(higgs, evt[0] > cut and evt[1] > cut and evt[2] > cut)\n",
    "    return pass_pairs, higgs, n, pairs_mask"
   ]
  },
  {
   "cell_type": "code",
   "execution_count": 11,
   "id": "aggregate-respect",
   "metadata": {},
   "outputs": [
    {
     "name": "stderr",
     "output_type": "stream",
     "text": [
      "100%|██████████| 101/101 [00:40<00:00,  2.51it/s]\n"
     ]
    }
   ],
   "source": [
    "thresholds = np.arange(0.0,1.01,0.01)\n",
    "passing_pairs = []\n",
    "higgs_passing = []\n",
    "num_passing = []\n",
    "pass_mask = []\n",
    "for cut in tqdm(thresholds):\n",
    "    pass_pairs, higgs, n,  pair_mask = get_passing_pairs(cut)\n",
    "    passing_pairs.append(pass_pairs)\n",
    "    pass_mask.append(pair_mask)\n",
    "    num_passing.append(n)\n",
    "    higgs_passing.append(higgs)"
   ]
  },
  {
   "cell_type": "code",
   "execution_count": 12,
   "id": "wicked-plastic",
   "metadata": {},
   "outputs": [],
   "source": [
    "for i,masks in enumerate(pass_mask):\n",
    "    pass_mask[i] = masks.reshape(5039,15)"
   ]
  },
  {
   "cell_type": "code",
   "execution_count": 67,
   "id": "latter-authority",
   "metadata": {},
   "outputs": [
    {
     "name": "stdout",
     "output_type": "stream",
     "text": [
      "0\n",
      "1000\n",
      "2000\n",
      "3000\n",
      "4000\n",
      "5000\n"
     ]
    }
   ],
   "source": [
    "index = 20\n",
    "\n",
    "inv_Y_H = np.array(())\n",
    "inv_X_H = np.array(())\n",
    "inv_Y_cand = np.array(())\n",
    "inv_X_cand = np.array(())\n",
    "counter = 0\n",
    "for p4, row in zip(pair_p4, pass_mask[index]):\n",
    "    if counter%1000 == 0: print(counter)\n",
    "    counter+=1\n",
    "    if row[0] == True and row[1] == True and row[2] == True:\n",
    "            inv_Y_H = np.append(inv_Y_H, (p4[0] + p4[1]).mass)\n",
    "            inv_X_H = np.append(inv_X_H, (p4[0] + p4[1] + p4[2]).mass)\n",
    "    for i,pair1 in enumerate(p4[row][:-1]):\n",
    "        for j,pair2 in enumerate(p4[row][i:]):\n",
    "            m = (pair1 + pair2).mass\n",
    "            inv_Y_cand  = np.append(inv_Y_cand, m)\n",
    "            for pair3 in p4[row][j:]:\n",
    "                m = (pair1 + pair2 + pair3).mass\n",
    "                inv_X_cand = np.append(inv_X_cand, m)"
   ]
  },
  {
   "cell_type": "code",
   "execution_count": 68,
   "id": "ranging-segment",
   "metadata": {},
   "outputs": [
    {
     "data": {
      "application/vnd.jupyter.widget-view+json": {
       "model_id": "f975c159373a4eacbad60e0c0fccd3ad",
       "version_major": 2,
       "version_minor": 0
      },
      "text/plain": [
       "Canvas(toolbar=Toolbar(toolitems=[('Home', 'Reset original view', 'home', 'home'), ('Back', 'Back to previous …"
      ]
     },
     "metadata": {},
     "output_type": "display_data"
    }
   ],
   "source": [
    "fig, axs = plt.subplots(nrows=2, figsize=(10,6))\n",
    "hist(axs[0], inv_Y_cand, bins=np.linspace(0,1000,100), label='0.200')\n",
    "hist(axs[0], inv_Y_H, bins=np.linspace(0,1000,100), label='0.200')\n",
    "axs[0].legend()\n",
    "axs[0].set_xlabel(r'$m_\\mathrm{inv}$ [GeV]')\n",
    "axs[0].ticklabel_format(style='plain')\n",
    "hist(axs[1], inv_X_cand, bins=np.linspace(0,1000,100), label='0.200')\n",
    "hist(axs[1], inv_X_H, bins=np.linspace(0,1000,100), label='0.200')\n",
    "axs[1].legend()\n",
    "axs[1].set_xlabel(r'$m_\\mathrm{inv}$ [GeV]')\n",
    "axs[1].ticklabel_format(style='plain')"
   ]
  },
  {
   "cell_type": "code",
   "execution_count": 15,
   "id": "solid-addition",
   "metadata": {},
   "outputs": [
    {
     "name": "stderr",
     "output_type": "stream",
     "text": [
      "  0%|          | 0/5 [00:00<?, ?it/s]"
     ]
    },
    {
     "name": "stdout",
     "output_type": "stream",
     "text": [
      "0\n",
      "1000\n",
      "2000\n",
      "3000\n",
      "4000\n",
      "5000\n"
     ]
    },
    {
     "name": "stderr",
     "output_type": "stream",
     "text": [
      " 20%|██        | 1/5 [03:27<13:51, 207.99s/it]"
     ]
    },
    {
     "name": "stdout",
     "output_type": "stream",
     "text": [
      "0\n",
      "1000\n",
      "2000\n",
      "3000\n",
      "4000\n",
      "5000\n"
     ]
    },
    {
     "name": "stderr",
     "output_type": "stream",
     "text": [
      " 40%|████      | 2/5 [03:59<05:13, 104.35s/it]"
     ]
    },
    {
     "name": "stdout",
     "output_type": "stream",
     "text": [
      "0\n",
      "1000\n",
      "2000\n",
      "3000\n",
      "4000\n",
      "5000\n"
     ]
    },
    {
     "name": "stderr",
     "output_type": "stream",
     "text": [
      " 60%|██████    | 3/5 [04:14<02:07, 63.58s/it] "
     ]
    },
    {
     "name": "stdout",
     "output_type": "stream",
     "text": [
      "0\n",
      "1000\n",
      "2000\n",
      "3000\n",
      "4000\n"
     ]
    },
    {
     "name": "stderr",
     "output_type": "stream",
     "text": [
      " 80%|████████  | 4/5 [04:23<00:41, 41.82s/it]"
     ]
    },
    {
     "name": "stdout",
     "output_type": "stream",
     "text": [
      "5000\n",
      "0\n",
      "1000\n",
      "2000\n",
      "3000\n",
      "4000\n"
     ]
    },
    {
     "name": "stderr",
     "output_type": "stream",
     "text": [
      "100%|██████████| 5/5 [04:26<00:00, 53.36s/it]"
     ]
    },
    {
     "name": "stdout",
     "output_type": "stream",
     "text": [
      "5000\n"
     ]
    },
    {
     "name": "stderr",
     "output_type": "stream",
     "text": [
      "\n"
     ]
    }
   ],
   "source": [
    "cuts = [50, 75, 85, 90, 95]\n",
    "\n",
    "Y_cands = []\n",
    "X_cands = []\n",
    "cut_count = 0\n",
    "for index in tqdm(cuts):\n",
    "    inv_Y_cand = np.array(())\n",
    "    inv_X_cand = np.array(())\n",
    "    counter = 0\n",
    "    for p4, row in zip(pair_p4, pass_mask[index]):\n",
    "        if counter%1000 == 0: print(counter)\n",
    "        counter+=1\n",
    "        for i,pair1 in enumerate(p4[row][:-1]):\n",
    "            for j,pair2 in enumerate(p4[row][i:]):\n",
    "                m = (pair1 + pair2).mass\n",
    "                inv_Y_cand  = np.append(inv_Y_cand, m)\n",
    "                for pair3 in p4[row][j:]:\n",
    "                    m = (pair1 + pair2 + pair3).mass\n",
    "                    inv_X_cand = np.append(inv_X_cand, m)\n",
    "    Y_cands.append(inv_Y_cand)\n",
    "    X_cands.append(inv_X_cand)"
   ]
  },
  {
   "cell_type": "code",
   "execution_count": 60,
   "id": "engaged-upgrade",
   "metadata": {},
   "outputs": [
    {
     "data": {
      "application/vnd.jupyter.widget-view+json": {
       "model_id": "1fcbbe6a1b2641e9b81133d8423e978d",
       "version_major": 2,
       "version_minor": 0
      },
      "text/plain": [
       "Canvas(toolbar=Toolbar(toolitems=[('Home', 'Reset original view', 'home', 'home'), ('Back', 'Back to previous …"
      ]
     },
     "metadata": {},
     "output_type": "display_data"
    }
   ],
   "source": [
    "fig, axs = plt.subplots(nrows=2, figsize=(10,6))\n",
    "for i,inv_Y in enumerate(Y_cands):\n",
    "    hist(axs[0], inv_Y, bins=np.linspace(0,1000,100), label=round(thresholds[cuts[i]],3))\n",
    "axs[0].legend()\n",
    "axs[0].set_xlabel(r'$m_\\mathrm{inv}$ [GeV]')\n",
    "axs[0].ticklabel_format(style='plain')\n",
    "for i,inv_X in enumerate(X_cands):\n",
    "    hist(axs[1], inv_X, bins=np.linspace(0,1000,100), label=round(thresholds[cuts[i]],3))\n",
    "axs[1].legend()\n",
    "axs[1].set_xlabel(r'$m_\\mathrm{inv}$ [GeV]')\n",
    "axs[1].ticklabel_format(style='plain')"
   ]
  },
  {
   "cell_type": "code",
   "execution_count": 17,
   "id": "guided-nursing",
   "metadata": {},
   "outputs": [
    {
     "name": "stderr",
     "output_type": "stream",
     "text": [
      "100%|██████████| 101/101 [00:19<00:00,  5.18it/s]\n"
     ]
    }
   ],
   "source": [
    "n_cut = []\n",
    "for cut in tqdm(thresholds):\n",
    "    n = [np.array(()) for _ in range(16)]\n",
    "    for evt in sbe:\n",
    "        n_evt = np.sum(evt > cut)\n",
    "        sorted_evt = np.append(np.sort(evt[:3])[::-1], np.sort(evt[3:])[::-1])\n",
    "        n[n_evt] = np.append(n[n_evt], sorted_evt)\n",
    "    n_cut.append(n)"
   ]
  },
  {
   "cell_type": "code",
   "execution_count": 18,
   "id": "effective-yacht",
   "metadata": {},
   "outputs": [
    {
     "data": {
      "application/vnd.jupyter.widget-view+json": {
       "model_id": "c2571dd5bdb64abfbe9b971d4ea78ead",
       "version_major": 2,
       "version_minor": 0
      },
      "text/plain": [
       "Canvas(toolbar=Toolbar(toolitems=[('Home', 'Reset original view', 'home', 'home'), ('Back', 'Back to previous …"
      ]
     },
     "metadata": {},
     "output_type": "display_data"
    }
   ],
   "source": [
    "fig, axs = plt.subplots(nrows=6, ncols=3, figsize=(10,10))\n",
    "n_cut[50]\n",
    "for i,ax in enumerate(axs.flat):\n",
    "    ax.set_title(f'{i} passing pairs', fontsize=12)\n",
    "    if i >= 16: continue\n",
    "    if len(n_cut[50]) > 0:\n",
    "        ax.hist(n_cut[50][i], bins=thresholds)\n",
    "        \n",
    "        \n",
    "plt.tight_layout()"
   ]
  },
  {
   "cell_type": "code",
   "execution_count": 55,
   "id": "congressional-sleep",
   "metadata": {},
   "outputs": [],
   "source": [
    "x = thresholds\n",
    "y = []\n",
    "for n in np.arange(16):\n",
    "    y_pair = np.array(())\n",
    "    for i,cut in enumerate(thresholds):\n",
    "        # Select only events with number of passing pairs less than or equal to n\n",
    "        max_pair_mask = num_passing[i] <= n\n",
    "        y_pair = np.append(y_pair, np.sum(higgs_passing[i][max_pair_mask])/np.sum(max_pair_mask))\n",
    "    y.append(y_pair)"
   ]
  },
  {
   "cell_type": "code",
   "execution_count": 58,
   "id": "qualified-suite",
   "metadata": {},
   "outputs": [
    {
     "data": {
      "application/vnd.jupyter.widget-view+json": {
       "model_id": "6cca8aa76e7541b0b56b8b293e92ff3f",
       "version_major": 2,
       "version_minor": 0
      },
      "text/plain": [
       "Canvas(toolbar=Toolbar(toolitems=[('Home', 'Reset original view', 'home', 'home'), ('Back', 'Back to previous …"
      ]
     },
     "metadata": {},
     "output_type": "display_data"
    },
    {
     "data": {
      "text/plain": [
       "<matplotlib.legend.Legend at 0x7f90cd963cd0>"
      ]
     },
     "execution_count": 58,
     "metadata": {},
     "output_type": "execute_result"
    }
   ],
   "source": [
    "fig, ax = plt.subplots(figsize=(8,5))\n",
    "for i,y_pair in enumerate(y):\n",
    "    if i < 3: continue\n",
    "    if i < 8: continue\n",
    "    ax.plot(x, y_pair, label=fr'$\\leq${i} passing pairs')\n",
    "ax.set_xlabel('Classifier Score Cut')\n",
    "ax.set_ylabel('Ratio of events with three passing Higgs')\n",
    "ax.set_ylim(0,1)\n",
    "ax.legend(fontsize=8, bbox_to_anchor=(1.05, 1), loc='upper left')"
   ]
  },
  {
   "cell_type": "code",
   "execution_count": 37,
   "id": "embedded-vacuum",
   "metadata": {},
   "outputs": [],
   "source": [
    "x_dict = {'HX':0,\n",
    " 'HY1':1,\n",
    " 'HY2':2,\n",
    " 'X b1, Y1 b1':3,\n",
    " 'X b1, Y1 b2':4,\n",
    " 'X b1, Y2 b1':5,\n",
    " 'X b1, Y2 b2':6,\n",
    " 'X b2, Y1 b1':7,\n",
    " 'X b2, Y1 b2':8,\n",
    " 'X b2, Y2 b1':9,\n",
    " 'X b2, Y2 b2':10,\n",
    " 'Y1 b1, Y2 b1':11,\n",
    " 'Y1 b1, Y2 b2':12,\n",
    " 'Y1 b2, Y2 b1':13,\n",
    " 'Y1 b2, Y2 b2':14}"
   ]
  },
  {
   "cell_type": "code",
   "execution_count": 38,
   "id": "biblical-tract",
   "metadata": {},
   "outputs": [],
   "source": [
    "x_drop = ['HX',\n",
    " 'HY1',\n",
    " 'HY2',\n",
    " 'X b1, Y1 b1',\n",
    " 'X b1, Y1 b2',\n",
    " 'X b1, Y2 b1',\n",
    " 'X b1, Y2 b2',\n",
    " 'X b2, Y1 b1',\n",
    " 'X b2, Y1 b2',\n",
    " 'X b2, Y2 b1',\n",
    " 'X b2, Y2 b2',\n",
    " 'Y1 b1, Y2 b1',\n",
    " 'Y1 b1, Y2 b2',\n",
    " 'Y1 b2, Y2 b1',\n",
    " 'Y1 b2, Y2 b2']"
   ]
  },
  {
   "cell_type": "code",
   "execution_count": null,
   "id": "spectacular-envelope",
   "metadata": {},
   "outputs": [],
   "source": []
  },
  {
   "cell_type": "code",
   "execution_count": null,
   "id": "spoken-platinum",
   "metadata": {},
   "outputs": [],
   "source": []
  },
  {
   "cell_type": "code",
   "execution_count": null,
   "id": "graduate-updating",
   "metadata": {},
   "outputs": [],
   "source": []
  }
 ],
 "metadata": {
  "kernelspec": {
   "display_name": "Python 3",
   "language": "python",
   "name": "python3"
  },
  "language_info": {
   "codemirror_mode": {
    "name": "ipython",
    "version": 3
   },
   "file_extension": ".py",
   "mimetype": "text/x-python",
   "name": "python",
   "nbconvert_exporter": "python",
   "pygments_lexer": "ipython3",
   "version": "3.8.8"
  },
  "toc-autonumbering": true,
  "toc-showcode": true,
  "toc-showmarkdowntxt": false,
  "toc-showtags": false
 },
 "nbformat": 4,
 "nbformat_minor": 5
}

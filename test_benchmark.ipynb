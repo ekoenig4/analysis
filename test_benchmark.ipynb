{
 "cells": [
  {
   "cell_type": "code",
   "execution_count": 1,
   "id": "e56b0bbf-a77c-4fcc-b793-a13486b97fb8",
   "metadata": {},
   "outputs": [],
   "source": [
    "%load_ext autoreload\n",
    "import uproot as ut\n",
    "import awkward as ak\n",
    "import matplotlib.pyplot as plt\n",
    "import numpy as np\n",
    "import re\n",
    "import sympy as sp\n",
    "import math\n",
    "import vector\n",
    "\n",
    "from tqdm import tqdm\n",
    "import timeit\n",
    "\n",
    "from utils import *\n",
    "%autoreload 2"
   ]
  },
  {
   "cell_type": "code",
   "execution_count": 2,
   "id": "681e71b8-f6d6-45ca-ae49-0c9f2f9572ee",
   "metadata": {},
   "outputs": [],
   "source": [
    "qcd_tree = Tree(fc.QCD_Pt_List)"
   ]
  },
  {
   "cell_type": "code",
   "execution_count": 5,
   "id": "8e343d90-7437-40e4-b9c7-6ed45d00a36a",
   "metadata": {},
   "outputs": [
    {
     "data": {
      "text/plain": [
       "<Array [0, 0, 0, 0, 0, 0, ... 0, 0, 0, 0, 0, 0] type='25136 * uint32'>"
      ]
     },
     "execution_count": 5,
     "metadata": {},
     "output_type": "execute_result"
    }
   ],
   "source": [
    "qcd_tree[\"scale\"]"
   ]
  },
  {
   "cell_type": "code",
   "execution_count": 6,
   "id": "32268f4d-49f2-4530-80f4-40dc79c2f71c",
   "metadata": {},
   "outputs": [
    {
     "data": {
      "text/plain": [
       "[0.0782861121137881,\n",
       " 0.013624351442570615,\n",
       " 0.0034506900229815955,\n",
       " 0.00011778103497919015,\n",
       " 1.0431742835489035e-05,\n",
       " 2.3037065047883754e-06,\n",
       " 6.952012937092934e-07,\n",
       " 3.7465493728206086e-07,\n",
       " 5.902593909640973e-08,\n",
       " 1.588866365496386e-08,\n",
       " 1.747413497693194e-09,\n",
       " 1.34999865000135e-10]"
      ]
     },
     "execution_count": 6,
     "metadata": {},
     "output_type": "execute_result"
    }
   ],
   "source": [
    "qcd_tree.scales"
   ]
  },
  {
   "cell_type": "code",
   "execution_count": null,
   "id": "120a939b-7f35-4ee8-98e4-151c88b40240",
   "metadata": {},
   "outputs": [],
   "source": []
  }
 ],
 "metadata": {
  "kernelspec": {
   "display_name": "Python 3",
   "language": "python",
   "name": "python3"
  },
  "language_info": {
   "codemirror_mode": {
    "name": "ipython",
    "version": 3
   },
   "file_extension": ".py",
   "mimetype": "text/x-python",
   "name": "python",
   "nbconvert_exporter": "python",
   "pygments_lexer": "ipython3",
   "version": "3.8.10"
  }
 },
 "nbformat": 4,
 "nbformat_minor": 5
}

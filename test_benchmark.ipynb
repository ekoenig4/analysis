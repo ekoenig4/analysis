{
 "cells": [
  {
   "cell_type": "code",
   "execution_count": 1,
   "id": "e56b0bbf-a77c-4fcc-b793-a13486b97fb8",
   "metadata": {},
   "outputs": [],
   "source": [
    "%load_ext autoreload\n",
    "import uproot as ut\n",
    "import awkward as ak\n",
    "import matplotlib.pyplot as plt\n",
    "import numpy as np\n",
    "import re\n",
    "import sympy as sp\n",
    "import math\n",
    "import vector\n",
    "\n",
    "from tqdm import tqdm\n",
    "import timeit\n",
    "\n",
    "from utils import *\n",
    "%autoreload 2"
   ]
  },
  {
   "cell_type": "code",
   "execution_count": 5,
   "id": "3e15b519-7a05-43f3-ad35-27f13ffafe8f",
   "metadata": {},
   "outputs": [],
   "source": [
    "d1 = np.random.rand(1000)\n",
    "d2 = np.random.rand(1000)"
   ]
  },
  {
   "cell_type": "code",
   "execution_count": 7,
   "id": "a7905bc3-34b5-443e-bc92-6d34b6489566",
   "metadata": {},
   "outputs": [
    {
     "data": {
      "image/png": "[encoded data removed]",
      "text/plain": [
       "<Figure size 432x288 with 1 Axes>"
      ]
     },
     "metadata": {
      "needs_background": "light"
     },
     "output_type": "display_data"
    }
   ],
   "source": [
    "fig,ax=plt.subplots()\n",
    "ax.hist(d1,stacked=1);\n",
    "ax.hist(d2,stacked=1);"
   ]
  },
  {
   "cell_type": "code",
   "execution_count": 8,
   "id": "4c4d4150-e47c-45ea-8b05-206d47512a22",
   "metadata": {},
   "outputs": [
    {
     "data": {
      "image/png": "[encoded data removed]",
      "text/plain": [
       "<Figure size 432x288 with 1 Axes>"
      ]
     },
     "metadata": {
      "needs_background": "light"
     },
     "output_type": "display_data"
    }
   ],
   "source": [
    "fig,ax=plt.subplots()\n",
    "ax.hist([d1,d2],stacked=1);"
   ]
  },
  {
   "cell_type": "code",
   "execution_count": null,
   "id": "1ad6db48-6e1c-4f14-a721-4bbeb19f0879",
   "metadata": {},
   "outputs": [],
   "source": []
  }
 ],
 "metadata": {
  "kernelspec": {
   "display_name": "Python 3",
   "language": "python",
   "name": "python3"
  },
  "language_info": {
   "codemirror_mode": {
    "name": "ipython",
    "version": 3
   },
   "file_extension": ".py",
   "mimetype": "text/x-python",
   "name": "python",
   "nbconvert_exporter": "python",
   "pygments_lexer": "ipython3",
   "version": "3.8.10"
  }
 },
 "nbformat": 4,
 "nbformat_minor": 5
}

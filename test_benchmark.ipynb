{
 "cells": [
  {
   "cell_type": "code",
   "execution_count": 2,
   "id": "e56b0bbf-a77c-4fcc-b793-a13486b97fb8",
   "metadata": {},
   "outputs": [],
   "source": [
    "%load_ext autoreload\n",
    "import uproot as ut\n",
    "import awkward as ak\n",
    "import matplotlib.pyplot as plt\n",
    "import numpy as np\n",
    "import re\n",
    "import sympy as sp\n",
    "import math\n",
    "import vector\n",
    "\n",
    "from tqdm import tqdm\n",
    "import timeit\n",
    "\n",
    "from utils import *\n",
    "%autoreload 2"
   ]
  },
  {
   "cell_type": "code",
   "execution_count": 27,
   "id": "120a939b-7f35-4ee8-98e4-151c88b40240",
   "metadata": {},
   "outputs": [],
   "source": [
    "signal_tree = Tree(\"/uscms/home/ekoenig/nobackup/6BAnalysis/CMSSW_10_2_18/src/sixB/analysis/sixBanalysis/output-tree.root\")"
   ]
  },
  {
   "cell_type": "code",
   "execution_count": 37,
   "id": "2201cc49-d40c-45bc-a934-b354e19f0b52",
   "metadata": {},
   "outputs": [
    {
     "data": {
      "image/png": "[encoded data removed]",
      "text/plain": [
       "<Figure size 432x288 with 1 Axes>"
      ]
     },
     "metadata": {
      "needs_background": "light"
     },
     "output_type": "display_data"
    }
   ],
   "source": [
    "hist_multi([ ak.sum(signal_tree[\"higgs_m\"],axis=-1)/signal_tree[\"n_higgs\"] ],bins=np.linspace(50,200,20));"
   ]
  },
  {
   "cell_type": "code",
   "execution_count": 36,
   "id": "6ee708e1-e8ac-40ad-bc62-1656b236bc0c",
   "metadata": {},
   "outputs": [
    {
     "data": {
      "text/plain": [
       "<Array [111, 125, 124, 111, ... 127, 124, 153] type='2032 * float64'>"
      ]
     },
     "execution_count": 36,
     "metadata": {},
     "output_type": "execute_result"
    }
   ],
   "source": [
    "ak.sum(signal_tree[\"higgs_m\"],axis=-1)/signal_tree[\"n_higgs\"]"
   ]
  },
  {
   "cell_type": "code",
   "execution_count": null,
   "id": "2906f855-8850-4fd9-a9bd-8b7334e6e356",
   "metadata": {},
   "outputs": [],
   "source": []
  }
 ],
 "metadata": {
  "kernelspec": {
   "display_name": "Python 3",
   "language": "python",
   "name": "python3"
  },
  "language_info": {
   "codemirror_mode": {
    "name": "ipython",
    "version": 3
   },
   "file_extension": ".py",
   "mimetype": "text/x-python",
   "name": "python",
   "nbconvert_exporter": "python",
   "pygments_lexer": "ipython3",
   "version": "3.8.10"
  }
 },
 "nbformat": 4,
 "nbformat_minor": 5
}

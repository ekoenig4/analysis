{
 "cells": [
  {
   "cell_type": "markdown",
   "metadata": {},
   "source": [
    "The goal of this script is to apply a nn model to signal event data to investigate whether the model assigns the highest scores to the b pairs that  reconstruct to the Higgs."
   ]
  },
  {
   "cell_type": "code",
   "execution_count": 1,
   "metadata": {},
   "outputs": [
    {
     "name": "stderr",
     "output_type": "stream",
     "text": [
      "Using TensorFlow backend.\n"
     ]
    }
   ],
   "source": [
    "import numpy as np\n",
    "import matplotlib.pyplot as plt\n",
    "import uproot\n",
    "import uproot_methods\n",
    "import awkward\n",
    "from keras.models import model_from_json\n",
    "from sklearn.preprocessing import MinMaxScaler\n",
    "from pickle import load\n",
    "# from sixB_event import sixB_event"
   ]
  },
  {
   "cell_type": "code",
   "execution_count": 2,
   "metadata": {},
   "outputs": [],
   "source": [
    "plt.rcParams.update({'font.size': 18})\n",
    "plt.rcParams['figure.figsize'] = (10, 7)"
   ]
  },
  {
   "cell_type": "code",
   "execution_count": 3,
   "metadata": {},
   "outputs": [],
   "source": [
    "import warnings\n",
    "warnings.filterwarnings('ignore')"
   ]
  },
  {
   "cell_type": "markdown",
   "metadata": {},
   "source": [
    "# Step One: Load model and Input Scaler"
   ]
  },
  {
   "cell_type": "code",
   "execution_count": 5,
   "metadata": {},
   "outputs": [],
   "source": [
    "# filepath = '/eos/user/s/srosenzw/SWAN_projects/sixB/Machine_Learning/NN_models/'\n",
    "\n",
    "# # load json and create model\n",
    "# json_file = open(filepath + 'higgs_pair_classifier_1.json', 'r')\n",
    "# loaded_model_json = json_file.read()\n",
    "# json_file.close()\n",
    "# loaded_model = model_from_json(loaded_model_json)\n",
    "# # load weights into new model\n",
    "# loaded_model.load_weights(filepath + \"higgs_pair_classifier_1.h5\")\n",
    "# scaler = load(open(filepath + 'scaler.pkl', 'rb'))\n",
    "# print(\"Loaded model and scaler from disk\")"
   ]
  },
  {
   "cell_type": "markdown",
   "metadata": {},
   "source": [
    "# Step Two: Import signal events"
   ]
  },
  {
   "cell_type": "code",
   "execution_count": 2,
   "metadata": {},
   "outputs": [],
   "source": [
    "MX = 700\n",
    "MY = 400"
   ]
  },
  {
   "cell_type": "code",
   "execution_count": 3,
   "metadata": {},
   "outputs": [],
   "source": [
    "filename = '/eos/user/s/srosenzw/SWAN_projects/sixB/Signal_Exploration/Mass_Pair_ROOT_files/X_YH_HHH_6b_MX' + str(MX) + '_MY' + str(MY) + '.root'"
   ]
  },
  {
   "cell_type": "code",
   "execution_count": 4,
   "metadata": {},
   "outputs": [],
   "source": [
    "f = uproot.open(filename)\n",
    "tree = f['sixbntuplizer/sixBtree']\n",
    "branches = tree.arrays(namedecode='utf-8')\n",
    "table = awkward.Table(branches)\n",
    "nevents = len(table['gen_HX_b1_pt'])"
   ]
  },
  {
   "cell_type": "code",
   "execution_count": null,
   "metadata": {},
   "outputs": [],
   "source": [
    "HX_b1 = {'pt':table['gen_HX_b1_pt'], 'eta':table['gen_HX_b1_eta'], 'phi':table['gen_HX_b1_phi'], 'm':table['gen_HX_b1_m']}\n",
    "HX_b2 = {'pt':table['gen_HX_b2_pt'], 'eta':table['gen_HX_b2_eta'], 'phi':table['gen_HX_b2_phi'], 'm':table['gen_HX_b2_m']}\n",
    "HY1_b1 = {'pt':table['gen_HY1_b1_pt'], 'eta':table['gen_HY1_b1_eta'], 'phi':table['gen_HY1_b1_phi'], 'm':table['gen_HY1_b1_m']}\n",
    "HY1_b2 = {'pt':table['gen_HY1_b2_pt'], 'eta':table['gen_HY1_b2_eta'], 'phi':table['gen_HY1_b2_phi'], 'm':table['gen_HY1_b2_m']}\n",
    "HY2_b1 = {'pt':table['gen_HY2_b1_pt'], 'eta':table['gen_HY2_b1_eta'], 'phi':table['gen_HY2_b1_phi'], 'm':table['gen_HY2_b1_m']}\n",
    "HY2_b2 = {'pt':table['gen_HY2_b2_pt'], 'eta':table['gen_HY2_b2_eta'], 'phi':table['gen_HY2_b2_phi'], 'm':table['gen_HY2_b2_m']}\n",
    "part_dict = {0:HX_b1, 1:HX_b2, 2:HY1_b1, 3:HY1_b2, 4:HY2_b1, 5:HY2_b2}\n",
    "pair_dict = {0:1, 1:0, 2:3, 3:2, 4:5, 5:4} # Used later to verify that non-Higgs pair candidates are truly non-Higgs pairs\n",
    "part_id = {0:'HX_b1', 1:'HX_b2', 2:'HY1_b1', 3:'HY1_b2', 4:'HY2_b1', 5:'HY2_b2'}"
   ]
  },
  {
   "cell_type": "code",
   "execution_count": null,
   "metadata": {},
   "outputs": [],
   "source": [
    "pair_id = {}\n",
    "ii = 0\n",
    "\n",
    "for i in range(5):\n",
    "    for j in range(i+1,6):\n",
    "        pair_id[ii] = part_id[i]+' & '+part_id[j]\n",
    "        ii+=1"
   ]
  },
  {
   "cell_type": "markdown",
   "metadata": {},
   "source": [
    "# Step Three: Obtain nn score for each pairing"
   ]
  },
  {
   "cell_type": "code",
   "execution_count": null,
   "metadata": {},
   "outputs": [],
   "source": [
    "predictions = np.array(())\n",
    "inputs = np.array(())\n",
    "count = 0\n",
    "flag = True\n",
    "fig, axs = plt.subplots(nrows=5,ncols=3,figsize=(15,20))\n",
    "\n",
    "for i in range(5):\n",
    "    for j in range(i+1,6):\n",
    "        inputs = np.transpose(np.vstack( \n",
    "                         (part_dict[i]['pt'], part_dict[i]['eta'], part_dict[i]['phi'], \n",
    "                          part_dict[j]['pt'], part_dict[j]['eta'], part_dict[j]['phi'], \n",
    "                          part_dict[i]['pt']*part_dict[j]['pt']) ))\n",
    "        \n",
    "        xnormalized = scaler.transform(inputs)\n",
    "        evt_pred = np.ravel(loaded_model.predict(xnormalized))\n",
    "        predictions = np.append(predictions, evt_pred)\n",
    "        \n",
    "        ax = axs[count//3][count%3]\n",
    "        \n",
    "        ax.set_title(\"Pair: {}, {}\".format(part_id[i],part_id[j]))\n",
    "        if (i == 0 and j == 1) or (i == 2 and j == 3) or (i == 4 and j == 5):\n",
    "            color = 'green'\n",
    "        else:\n",
    "            color = 'red'\n",
    "        ax.hist(evt_pred, bins=np.linspace(0,1,100), histtype='step', align='mid', color=color)\n",
    "        ax.set_xlabel('Discriminator Score')\n",
    "        \n",
    "        count+=1\n",
    "        \n",
    "plt.tight_layout()\n",
    "\n",
    "fig.savefig(\"signal_event_class_dist.pdf\")"
   ]
  },
  {
   "cell_type": "code",
   "execution_count": null,
   "metadata": {},
   "outputs": [],
   "source": [
    "predictions = predictions.reshape(15,100000)"
   ]
  },
  {
   "cell_type": "code",
   "execution_count": null,
   "metadata": {},
   "outputs": [],
   "source": [
    "predictions = np.transpose(predictions)"
   ]
  },
  {
   "cell_type": "code",
   "execution_count": null,
   "metadata": {},
   "outputs": [],
   "source": [
    "max_inds = np.argsort(predictions, axis=1)"
   ]
  },
  {
   "cell_type": "code",
   "execution_count": null,
   "metadata": {},
   "outputs": [],
   "source": [
    "three_highest = max_inds[:,-4:-1]"
   ]
  },
  {
   "cell_type": "code",
   "execution_count": null,
   "metadata": {},
   "outputs": [],
   "source": [
    "all_Higgs_are_top_three = 0\n",
    "two_Higgs_are_top_three = 0\n",
    "one_Higgs_are_top_three = 0\n",
    "for row in three_highest:\n",
    "    if (0 in row) and (9 in row) and (14 in row):\n",
    "        all_Higgs_are_top_three += 1\n",
    "    if (0 in row and 9 in row) or (0 in row and 14 in row) or (9 in row and 14 in row):\n",
    "        two_Higgs_are_top_three += 1\n",
    "    if (0 in row) or (9 in row) or (14 in row):\n",
    "        one_Higgs_are_top_three += 1"
   ]
  },
  {
   "cell_type": "code",
   "execution_count": null,
   "metadata": {},
   "outputs": [],
   "source": [
    "print(f\"Percentage of signal events with highest score designated to all \\\n",
    "three Higgs pairs: {all_Higgs_are_top_three/nevents*100:.2f}%\")"
   ]
  },
  {
   "cell_type": "code",
   "execution_count": null,
   "metadata": {},
   "outputs": [],
   "source": [
    "print(f\"Percentage of signal events with highest score designated to two of the \\\n",
    "three Higgs pairs: {two_Higgs_are_top_three/nevents*100:.2f}%\")"
   ]
  },
  {
   "cell_type": "code",
   "execution_count": null,
   "metadata": {},
   "outputs": [],
   "source": [
    "print(f\"Percentage of signal events with highest score designated to one of the \\\n",
    "three Higgs pairs: {one_Higgs_are_top_three/nevents*100:.2f}%\")"
   ]
  },
  {
   "cell_type": "code",
   "execution_count": null,
   "metadata": {},
   "outputs": [],
   "source": [
    "ticks = [pair_id[jj] for jj in np.arange(0,15)]\n",
    "\n",
    "rate_bins = np.arange(0,16)\n",
    "n_highest, edges = np.histogram(max_inds[:,-1], bins=rate_bins)\n",
    "n_sec_highest, edges = np.histogram(max_inds[:,-2], bins=rate_bins)\n",
    "n_th_highest, edges = np.histogram(max_inds[:,-3], bins=rate_bins)"
   ]
  },
  {
   "cell_type": "code",
   "execution_count": null,
   "metadata": {},
   "outputs": [],
   "source": [
    "x_ticks = np.arange(0,15)\n",
    "width = 0.25\n",
    "\n",
    "fig, ax = plt.subplots()\n",
    "fig.suptitle('Three Highest Classification Prediction')\n",
    "ax.bar(x_ticks, n_highest/nevents, width=width, label='Highest')\n",
    "ax.bar(x_ticks + width, n_sec_highest/nevents, width=width, label='Second Highest')\n",
    "ax.bar(x_ticks + 2*width, n_th_highest/nevents, width=width, label='Third Highest')\n",
    "ax.set_xticks(x_ticks + width / 2)\n",
    "ax.set_xticklabels(ticks)\n",
    "ax.tick_params(axis='x', rotation=270)\n",
    "ax.legend(loc=[0.15,0.75])"
   ]
  },
  {
   "cell_type": "code",
   "execution_count": null,
   "metadata": {},
   "outputs": [],
   "source": [
    "HX_ratings = (max_inds == 0).sum(axis=0)/nevents\n",
    "HY1_ratings = (max_inds == 9).sum(axis=0)/nevents\n",
    "HY2_ratings = (max_inds == 14).sum(axis=0)/nevents"
   ]
  },
  {
   "cell_type": "code",
   "execution_count": null,
   "metadata": {},
   "outputs": [],
   "source": [
    "fig, ax = plt.subplots()\n",
    "fig.suptitle('Classification Ratings for Higgs (14=highest, 0=lowest)')\n",
    "ax.bar(x_ticks, HX_ratings, width=width, label='HX')\n",
    "ax.bar(x_ticks + width, HY1_ratings, width=width, label='HY1')\n",
    "ax.bar(x_ticks + 2*width, HY2_ratings, width=width, label='HY2')\n",
    "ax.set_xticks(x_ticks + width / 2)\n",
    "ax.set_xticklabels(['Lowest Score'] + ['']*13 + ['Highest Score'])\n",
    "ax.minorticks_on()\n",
    "ax.tick_params(which='minor', # Options for both major and minor ticks\n",
    "                top='off', # turn off top ticks\n",
    "                left='off', # turn off left ticks\n",
    "                right='off',  # turn off right ticks\n",
    "                bottom='off') # turn off bottom ticks\n",
    "ax.grid(which='major', linestyle='--', linewidth='0.5', color='black')\n",
    "ax.grid(which='minor', linestyle=':', linewidth='0.5', color='grey')\n",
    "# ax.set_xlabel(\"\")\n",
    "\n",
    "ax.legend()\n"
   ]
  },
  {
   "cell_type": "code",
   "execution_count": null,
   "metadata": {},
   "outputs": [],
   "source": []
  },
  {
   "cell_type": "code",
   "execution_count": null,
   "metadata": {},
   "outputs": [],
   "source": []
  },
  {
   "cell_type": "code",
   "execution_count": null,
   "metadata": {},
   "outputs": [],
   "source": []
  }
 ],
 "metadata": {
  "kernelspec": {
   "display_name": "Python 3",
   "language": "python",
   "name": "python3"
  },
  "language_info": {
   "codemirror_mode": {
    "name": "ipython",
    "version": 3
   },
   "file_extension": ".py",
   "mimetype": "text/x-python",
   "name": "python",
   "nbconvert_exporter": "python",
   "pygments_lexer": "ipython3",
   "version": "3.7.6"
  }
 },
 "nbformat": 4,
 "nbformat_minor": 4
}

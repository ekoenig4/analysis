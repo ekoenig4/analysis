{
 "cells": [
  {
   "cell_type": "code",
   "execution_count": 1,
   "metadata": {},
   "outputs": [],
   "source": [
    "import numpy as np\n",
    "import matplotlib.pyplot as plt\n",
    "import matplotlib as mpl"
   ]
  },
  {
   "cell_type": "markdown",
   "metadata": {},
   "source": [
    "This notebook is a modular version of the original script used to train a classifier neural network algorithm using inputs generated from the `nn_create_inputs.py` script."
   ]
  },
  {
   "cell_type": "code",
   "execution_count": 4,
   "metadata": {},
   "outputs": [],
   "source": [
    "import os\n",
    "import keras\n",
    "from keras.models import Sequential\n",
    "from keras.layers import Dense, Dropout, Activation, Flatten, LeakyReLU\n",
    "from keras.callbacks import EarlyStopping\n",
    "import datetime\n",
    "import numpy as np\n",
    "from matplotlib.backends.backend_pdf import PdfPages\n",
    "import matplotlib.pyplot as plt\n",
    "plt.rc('text', usetex=True)\n",
    "from sklearn.preprocessing import MinMaxScaler\n",
    "from sklearn.model_selection import train_test_split\n",
    "from sklearn.metrics import roc_curve\n",
    "from sklearn.metrics import auc\n",
    "import h5py\n",
    "from pickle import dump\n",
    "\n",
    "from keras import backend as K\n",
    "\n",
    "# from pandas import DataFrame, plotting\n",
    "\n",
    "# from Analysis_Helper import calculate_deltaR, change_cmap_bkg_to_white\n",
    "\n",
    "import matplotlib.colors as colors\n",
    "import matplotlib.cm as cm\n",
    "cmap = 'rainbow'\n",
    "# cmap = change_cmap_bkg_to_white(cmap)\n",
    "\n",
    "import configparser"
   ]
  },
  {
   "cell_type": "code",
   "execution_count": 2,
   "metadata": {
    "scrolled": true
   },
   "outputs": [
    {
     "data": {
      "text/plain": [
       "{'divide': 'warn', 'over': 'warn', 'under': 'ignore', 'invalid': 'warn'}"
      ]
     },
     "execution_count": 2,
     "metadata": {},
     "output_type": "execute_result"
    }
   ],
   "source": [
    "plt.rcParams.update({'font.size': 18})\n",
    "plt.rcParams['figure.figsize'] = (10, 7)\n",
    "\n",
    "np.seterr(divide='ignore', invalid='ignore')"
   ]
  },
  {
   "cell_type": "markdown",
   "metadata": {},
   "source": [
    "# Neural Network Hyperparameters\n",
    "Tuning of the neural network can be done by modifying these values"
   ]
  },
  {
   "cell_type": "markdown",
   "metadata": {},
   "source": [
    "## Read configuration file"
   ]
  },
  {
   "cell_type": "code",
   "execution_count": 7,
   "metadata": {},
   "outputs": [
    {
     "name": "stdout",
     "output_type": "stream",
     "text": [
      "['INPUTS', 'HIDDEN', 'OUTPUT', 'OPTIMIZER', 'LOSS', 'TRAINING']\n"
     ]
    }
   ],
   "source": [
    "config = configparser.ConfigParser()\n",
    "config.optionxform = str\n",
    "config.read('../Config/nn_hyperparameters.cfg')\n",
    "print(config.sections())"
   ]
  },
  {
   "cell_type": "code",
   "execution_count": 4,
   "metadata": {},
   "outputs": [
    {
     "name": "stdout",
     "output_type": "stream",
     "text": [
      "Files will be saved in location:\n",
      "NN_models/MX700_MY400/MX700_MY400_classifier_allpairs_dR_presel\n"
     ]
    }
   ],
   "source": [
    "# Hidden hyperparameters\n",
    "activation = config['HIDDEN']['HiddenActivations']\n",
    "# nodes = [32,64,64,128,512,128,64,64,32]\n",
    "nodes = config['HIDDEN']['Nodes']\n",
    "hidden_activations = ['selu'] * len(nodes)\n",
    "assert(len(nodes) == len(hidden_activations))\n",
    "num_hidden = len(nodes)\n",
    "\n",
    "# Output hyperparameters\n",
    "output_activation = config['OUTPUT']['OutputActivation']\n",
    "output_nodes = config['OUTPUT']['OutputNodes']\n",
    "\n",
    "# Fitting hyperparameters\n",
    "optimizer = config['OPTIMIZER']['OptimizerFunction']\n",
    "loss_function = config['LOSS']['LossFunction']\n",
    "num_epochs = config['TRAINING']['NumEpochs']\n",
    "batch_size = config['TRAINING']['BatchSize']"
   ]
  },
  {
   "cell_type": "markdown",
   "metadata": {},
   "source": [
    "# Configure Save Location"
   ]
  },
  {
   "cell_type": "code",
   "execution_count": 9,
   "metadata": {
    "scrolled": true
   },
   "outputs": [
    {
     "name": "stdout",
     "output_type": "stream",
     "text": [
      "Inputs/MX700_MY400_classifier_allpairs_dR_presel.npz\n"
     ]
    }
   ],
   "source": [
    "inputs_filename = config['INPUTS']['InputFile']\n",
    "print(inputs_filename)\n",
    "# print(f\"Training model for MX = {MX} GeV and MY = {MY} GeV\")"
   ]
  },
  {
   "cell_type": "code",
   "execution_count": 11,
   "metadata": {},
   "outputs": [
    {
     "data": {
      "text/plain": [
       "'MX700_MY400_classifier_allpairs_dR_presel'"
      ]
     },
     "execution_count": 11,
     "metadata": {},
     "output_type": "execute_result"
    }
   ],
   "source": [
    "save_prefix = inputs_filename.split('.')[0].split('/')[1]"
   ]
  },
  {
   "cell_type": "code",
   "execution_count": 15,
   "metadata": {},
   "outputs": [
    {
     "name": "stdout",
     "output_type": "stream",
     "text": [
      "Model, history, and scaler will be saved in location:\n",
      "/eos/user/s/srosenzw/SWAN_projects/sixB/Machine_Learning/Model_Training/Experiments/\n",
      "Evaluation plots will be saved in location:\n",
      "TBD\n"
     ]
    }
   ],
   "source": [
    "# Saving options\n",
    "experiment = None\n",
    "folder = '/eos/user/s/srosenzw/SWAN_projects/sixB/Machine_Learning/Model_Training/Experiments/' #+ experiment\n",
    "plots = folder + 'evaluation/' # Change this for new runs\n",
    "\n",
    "# Create folders if they don't already exist\n",
    "if not os.path.exists(folder):\n",
    "    os.makedirs(folder)\n",
    "if not os.path.exists(plots):\n",
    "    os.makedirs(plots)\n",
    "\n",
    "print(f\"Model, history, and scaler will be saved in location:\\n{folder}\")\n",
    "print(f\"Evaluation plots will be saved in location:\\nTBD\")"
   ]
  },
  {
   "cell_type": "markdown",
   "metadata": {},
   "source": [
    "# Load Inputs\n",
    "Inputs are loaded from .npz file. Later tests can compare file size for numpy arrays and Pandas dataframes."
   ]
  },
  {
   "cell_type": "code",
   "execution_count": 64,
   "metadata": {
    "scrolled": false
   },
   "outputs": [],
   "source": [
    "# Load inputs\n",
    "inputs = np.load(inputs_filename)\n",
    "\n",
    "# Define parameters\n",
    "X = inputs['x']\n",
    "X_excess = inputs['extra_bkgd_x']\n",
    "input_nodes = np.shape(X)[1]\n",
    "\n",
    "# Define output\n",
    "y = inputs['y']\n",
    "y_excess = inputs['extra_bkgd_y']\n",
    "\n",
    "# Used to compare score with dijet invariant mass\n",
    "mjj = inputs['mjj'] # GeV\n",
    "mjj_excess = inputs['extra_bkgd_mjj'] # GeV"
   ]
  },
  {
   "cell_type": "code",
   "execution_count": 65,
   "metadata": {},
   "outputs": [
    {
     "data": {
      "text/plain": [
       "['x', 'y', 'mjj', 'extra_bkgd_x', 'extra_bkgd_y', 'extra_bkgd_mjj', 'params']"
      ]
     },
     "execution_count": 65,
     "metadata": {},
     "output_type": "execute_result"
    }
   ],
   "source": [
    "inputs.files"
   ]
  },
  {
   "cell_type": "code",
   "execution_count": 66,
   "metadata": {},
   "outputs": [
    {
     "data": {
      "text/plain": [
       "array(['cand_b1_pt', 'cand_b1_eta', 'cand_b1_phi', 'cand_b2_pt',\n",
       "       'cand_b2_eta', 'cand_b2_phi', 'cand_b1_pt*cand_b2_pt',\n",
       "       'Delta R_(b1,b2)'], dtype='<U21')"
      ]
     },
     "execution_count": 66,
     "metadata": {},
     "output_type": "execute_result"
    }
   ],
   "source": [
    "inputs['params']"
   ]
  },
  {
   "cell_type": "code",
   "execution_count": 7,
   "metadata": {},
   "outputs": [
    {
     "data": {
      "text/plain": [
       "(314250, 8)"
      ]
     },
     "execution_count": 7,
     "metadata": {},
     "output_type": "execute_result"
    }
   ],
   "source": [
    "np.shape(X)"
   ]
  },
  {
   "cell_type": "code",
   "execution_count": 8,
   "metadata": {},
   "outputs": [],
   "source": [
    "def apply_stat_power_curve_analysis(X, y, mjj, percentage):\n",
    "    X, _, y, _, m, _ = train_test_split(X, y, mjj, test_size=1-percentage, random_state=42)\n",
    "    return X, y, m"
   ]
  },
  {
   "cell_type": "code",
   "execution_count": 9,
   "metadata": {},
   "outputs": [],
   "source": [
    "X_red, y_red, mjj_red = apply_stat_power_curve_analysis(X, y, mjj, 0.10)"
   ]
  },
  {
   "cell_type": "code",
   "execution_count": 10,
   "metadata": {},
   "outputs": [],
   "source": [
    "true_Higgs_mask = (y == 1)\n",
    "\n",
    "mbb_Higgs_pairs = mjj[true_Higgs_mask]\n",
    "mjj_background = mjj[~true_Higgs_mask]"
   ]
  },
  {
   "cell_type": "markdown",
   "metadata": {},
   "source": [
    "Perform a sanity check to make sure the inputs reconstruct the Higg mass."
   ]
  },
  {
   "cell_type": "code",
   "execution_count": 11,
   "metadata": {},
   "outputs": [
    {
     "name": "stdout",
     "output_type": "stream",
     "text": [
      "Baseline efficiency: 50.26%\n"
     ]
    }
   ],
   "source": [
    "# Determination of baseline (target) efficiency.\n",
    "\n",
    "# Suppose the algorithm is learning the mass of the Higgs pairs.\n",
    "# What kind of efficiency can we expect in the worst case scenario?\n",
    "\n",
    "min_tol = np.min(mbb_Higgs_pairs)\n",
    "max_tol = np.max(mbb_Higgs_pairs)\n",
    "\n",
    "fake_mask = (mjj_background > min_tol) & (mjj_background < max_tol)\n",
    "\n",
    "baseline_efficiency = (len(mbb_Higgs_pairs) + len(mjj_background[fake_mask])) / len(mjj) * 100\n",
    "\n",
    "print(f\"Baseline efficiency: {baseline_efficiency:.2f}%\")"
   ]
  },
  {
   "cell_type": "code",
   "execution_count": 12,
   "metadata": {},
   "outputs": [
    {
     "data": {
      "image/png": "[encoded data removed]",
      "text/plain": [
       "<Figure size 1440x360 with 2 Axes>"
      ]
     },
     "metadata": {
      "needs_background": "light"
     },
     "output_type": "display_data"
    }
   ],
   "source": [
    "fig, axs = plt.subplots(nrows=1, ncols=2, figsize=(20,5))\n",
    "fig.suptitle(\"Verification that True Higgs pairs have Higgs mass\")\n",
    "\n",
    "ax = axs[0]\n",
    "bins = np.linspace(np.min(mjj),  np.max(mjj), 100)\n",
    "n, bins, _ = ax.hist(mbb_Higgs_pairs, histtype='step', align='mid', bins=bins, label='Higgs Pairs')\n",
    "ax.hist(mjj_background, histtype='step', align='mid', bins=bins, label='Combinatoric Backround Pairs')\n",
    "ax.set_yscale('log')\n",
    "ax.set_ylabel('Count')\n",
    "ax.set_xlabel(r'$m_{jj}$ [GeV]')\n",
    "ax.legend()\n",
    "\n",
    "ax = axs[1]\n",
    "bins = np.linspace(np.min(X[:,-1]),  np.max(X[:,-1]), 100)\n",
    "n, bins, _ = ax.hist(X[:,-1][y==1], histtype='step', align='mid', bins=bins, label='Higgs Pairs')\n",
    "ax.hist(X[:,-1][y==0], histtype='step', align='mid', bins=bins, label='Combinatoric Backround Pairs')\n",
    "ax.set_yscale('log')\n",
    "ax.set_ylabel('Count')\n",
    "ax.set_xlabel(r'$\\Delta R$')\n",
    "ax.legend(loc='lower center')\n",
    "\n",
    "plt.show()"
   ]
  },
  {
   "cell_type": "markdown",
   "metadata": {},
   "source": [
    "# Input Size Experiment"
   ]
  },
  {
   "cell_type": "code",
   "execution_count": 13,
   "metadata": {},
   "outputs": [],
   "source": [
    "# X = X[:,:-1]\n",
    "# X_excess = X_excess[:,:-1]"
   ]
  },
  {
   "cell_type": "code",
   "execution_count": 14,
   "metadata": {},
   "outputs": [],
   "source": [
    "# np.shape(X)"
   ]
  },
  {
   "cell_type": "code",
   "execution_count": 15,
   "metadata": {},
   "outputs": [],
   "source": [
    "# three_H_inputs = np.vstack((X[0::6,:], X[1::6,:], X[2::6,:]))\n",
    "# three_H_class = np.concatenate((y[0::6], y[1::6], y[2::6]))\n",
    "# three_H_mjj = np.concatenate((mjj[0::6], mjj[1::6], mjj[2::6]))\n",
    "\n",
    "# three_nonH_inputs = np.vstack((X[3::6,:], X[4::6,:], X[5::6,:]))\n",
    "# three_nonH_class = np.concatenate((y[3::6], y[4::6], y[5::6]))\n",
    "# three_nonH_mjj = np.concatenate((mjj[3::6], mjj[4::6], mjj[5::6]))"
   ]
  },
  {
   "cell_type": "markdown",
   "metadata": {},
   "source": [
    "# Scale and Split Data"
   ]
  },
  {
   "cell_type": "code",
   "execution_count": 16,
   "metadata": {},
   "outputs": [
    {
     "name": "stdout",
     "output_type": "stream",
     "text": [
      "Training set:    219975\n",
      "Validation set:  31425\n",
      "Testing set:     62850\n",
      "Input parameters: 7\n"
     ]
    }
   ],
   "source": [
    "xscaler = MinMaxScaler()\n",
    "xscaler.fit(np.vstack((X[:,:-1], X_excess[:,:-1])))\n",
    "xnormalized = xscaler.transform(X[:,:-1])\n",
    "xinverse = xscaler.inverse_transform(xnormalized)\n",
    "dump(xscaler, open(filesave + '_scaler.pkl', 'wb'))\n",
    "\n",
    "test_size = 0.20\n",
    "val_size = 0.125\n",
    "X_train, X_test, x_train, x_test, y_train, y_test, _, m_test = train_test_split(X[:,:-1], xnormalized, y, mjj, test_size=0.20, random_state=42)\n",
    "X_train, X_val, x_train, x_val, y_train, y_val = train_test_split(X_train, x_train, y_train, test_size=0.125, random_state=42)\n",
    "\n",
    "print(\"Training set:   \", len(x_train))\n",
    "print(\"Validation set: \", len(x_val))\n",
    "print(\"Testing set:    \", len(x_test))\n",
    "\n",
    "# The proportions of \"successes\" in split datasets\n",
    "eps = 5e-3\n",
    "class1 = np.sum(y_train)/len(x_train)\n",
    "class0 = 1 - class1 \n",
    "\n",
    "assert(abs(np.sum(y_train)/len(x_train) - 0.5) < eps)\n",
    "assert(abs(np.sum(y_test)/len(x_test) - 0.5) < eps)\n",
    "assert(abs(np.sum(y_val)/len(x_val) - 0.5) < eps)\n",
    "\n",
    "param_dim = np.shape(x_train)[1]\n",
    "print(\"Input parameters:\",param_dim) # Use this as a guide for how many nodes to use in hidden layers"
   ]
  },
  {
   "cell_type": "code",
   "execution_count": 17,
   "metadata": {},
   "outputs": [
    {
     "data": {
      "text/plain": [
       "314250"
      ]
     },
     "execution_count": 17,
     "metadata": {},
     "output_type": "execute_result"
    }
   ],
   "source": [
    "len(x_train)+len(x_val)+len(x_test)"
   ]
  },
  {
   "cell_type": "markdown",
   "metadata": {},
   "source": [
    "# Define Model"
   ]
  },
  {
   "cell_type": "code",
   "execution_count": 18,
   "metadata": {},
   "outputs": [],
   "source": [
    "import warnings\n",
    "warnings.filterwarnings('ignore')"
   ]
  },
  {
   "cell_type": "code",
   "execution_count": 19,
   "metadata": {
    "scrolled": true
   },
   "outputs": [
    {
     "name": "stderr",
     "output_type": "stream",
     "text": [
      "WARNING: Logging before flag parsing goes to stderr.\n",
      "W0125 20:02:48.037259 140310672336704 deprecation_wrapper.py:119] From /cvmfs/sft.cern.ch/lcg/views/LCG_97apython3/x86_64-centos7-gcc8-opt/lib/python3.7/site-packages/keras/backend/tensorflow_backend.py:74: The name tf.get_default_graph is deprecated. Please use tf.compat.v1.get_default_graph instead.\n",
      "\n",
      "W0125 20:02:48.064176 140310672336704 deprecation_wrapper.py:119] From /cvmfs/sft.cern.ch/lcg/views/LCG_97apython3/x86_64-centos7-gcc8-opt/lib/python3.7/site-packages/keras/backend/tensorflow_backend.py:517: The name tf.placeholder is deprecated. Please use tf.compat.v1.placeholder instead.\n",
      "\n",
      "W0125 20:02:48.081803 140310672336704 deprecation_wrapper.py:119] From /cvmfs/sft.cern.ch/lcg/views/LCG_97apython3/x86_64-centos7-gcc8-opt/lib/python3.7/site-packages/keras/backend/tensorflow_backend.py:4138: The name tf.random_uniform is deprecated. Please use tf.random.uniform instead.\n",
      "\n",
      "W0125 20:02:48.118124 140310672336704 deprecation.py:323] From /cvmfs/sft.cern.ch/lcg/views/LCG_97apython3/x86_64-centos7-gcc8-opt/lib/python3.7/site-packages/keras/backend/tensorflow_backend.py:3217: add_dispatch_support.<locals>.wrapper (from tensorflow.python.ops.array_ops) is deprecated and will be removed in a future version.\n",
      "Instructions for updating:\n",
      "Use tf.where in 2.0, which has the same broadcast rule as np.where\n"
     ]
    }
   ],
   "source": [
    "# define the keras model\n",
    "model = Sequential()\n",
    "\n",
    "# Input layers\n",
    "model.add(Dense(input_nodes, input_dim=param_dim, activation=activation))\n",
    "\n",
    "# Hidden layers\n",
    "for i in range(num_hidden):\n",
    "    model.add(Dense(nodes[i], activation=hidden_activations[i]))\n",
    "\n",
    "# Output layer\n",
    "model.add(Dense(output_nodes, activation=output_activation))"
   ]
  },
  {
   "cell_type": "code",
   "execution_count": 20,
   "metadata": {},
   "outputs": [
    {
     "name": "stderr",
     "output_type": "stream",
     "text": [
      "W0125 20:02:48.287225 140310672336704 deprecation_wrapper.py:119] From /cvmfs/sft.cern.ch/lcg/views/LCG_97apython3/x86_64-centos7-gcc8-opt/lib/python3.7/site-packages/keras/optimizers.py:790: The name tf.train.Optimizer is deprecated. Please use tf.compat.v1.train.Optimizer instead.\n",
      "\n",
      "W0125 20:02:48.299071 140310672336704 deprecation_wrapper.py:119] From /cvmfs/sft.cern.ch/lcg/views/LCG_97apython3/x86_64-centos7-gcc8-opt/lib/python3.7/site-packages/keras/backend/tensorflow_backend.py:3376: The name tf.log is deprecated. Please use tf.math.log instead.\n",
      "\n"
     ]
    }
   ],
   "source": [
    "# modify and compile the keras model\n",
    "optimizer = keras.optimizers.Nadam()\n",
    "\n",
    "def get_lr_metric(optimizer):\n",
    "    def lr(y_true, y_pred):\n",
    "        return optimizer.lr\n",
    "    return lr\n",
    "\n",
    "lr_metric = get_lr_metric(optimizer)\n",
    "\n",
    "es = EarlyStopping(monitor='loss', restore_best_weights=True)\n",
    "\n",
    "model.compile(loss=loss_function, optimizer=optimizer, metrics=['accuracy', lr_metric])"
   ]
  },
  {
   "cell_type": "markdown",
   "metadata": {},
   "source": [
    "# Train Model"
   ]
  },
  {
   "cell_type": "code",
   "execution_count": 21,
   "metadata": {
    "scrolled": false
   },
   "outputs": [
    {
     "name": "stderr",
     "output_type": "stream",
     "text": [
      "W0125 20:02:48.782757 140310672336704 deprecation_wrapper.py:119] From /cvmfs/sft.cern.ch/lcg/views/LCG_97apython3/x86_64-centos7-gcc8-opt/lib/python3.7/site-packages/keras/backend/tensorflow_backend.py:986: The name tf.assign_add is deprecated. Please use tf.compat.v1.assign_add instead.\n",
      "\n"
     ]
    },
    {
     "name": "stdout",
     "output_type": "stream",
     "text": [
      "Train on 219975 samples, validate on 31425 samples\n",
      "Epoch 1/100\n",
      "219975/219975 [==============================] - 2s 10us/step - loss: 0.6018 - acc: 0.6536 - lr: 0.0020 - val_loss: 0.5700 - val_acc: 0.6867 - val_lr: 0.0020\n",
      "Epoch 2/100\n",
      "219975/219975 [==============================] - 1s 6us/step - loss: 0.5513 - acc: 0.6923 - lr: 0.0020 - val_loss: 0.5400 - val_acc: 0.7006 - val_lr: 0.0020\n",
      "Epoch 3/100\n",
      "219975/219975 [==============================] - 1s 6us/step - loss: 0.5366 - acc: 0.7038 - lr: 0.0020 - val_loss: 0.5327 - val_acc: 0.7056 - val_lr: 0.0020\n",
      "Epoch 4/100\n",
      "219975/219975 [==============================] - 1s 6us/step - loss: 0.5307 - acc: 0.7075 - lr: 0.0020 - val_loss: 0.5290 - val_acc: 0.7073 - val_lr: 0.0020\n",
      "Epoch 5/100\n",
      "219975/219975 [==============================] - 1s 6us/step - loss: 0.5262 - acc: 0.7106 - lr: 0.0020 - val_loss: 0.5246 - val_acc: 0.7086 - val_lr: 0.0020\n",
      "Epoch 6/100\n",
      "219975/219975 [==============================] - 1s 6us/step - loss: 0.5221 - acc: 0.7143 - lr: 0.0020 - val_loss: 0.5207 - val_acc: 0.7168 - val_lr: 0.0020\n",
      "Epoch 7/100\n",
      "219975/219975 [==============================] - 1s 6us/step - loss: 0.5187 - acc: 0.7173 - lr: 0.0020 - val_loss: 0.5266 - val_acc: 0.7112 - val_lr: 0.0020\n",
      "Epoch 8/100\n",
      "219975/219975 [==============================] - 1s 6us/step - loss: 0.5138 - acc: 0.7225 - lr: 0.0020 - val_loss: 0.5157 - val_acc: 0.7263 - val_lr: 0.0020\n",
      "Epoch 9/100\n",
      "219975/219975 [==============================] - 1s 6us/step - loss: 0.5096 - acc: 0.7283 - lr: 0.0020 - val_loss: 0.5097 - val_acc: 0.7395 - val_lr: 0.0020\n",
      "Epoch 10/100\n",
      "219975/219975 [==============================] - 1s 5us/step - loss: 0.5051 - acc: 0.7359 - lr: 0.0020 - val_loss: 0.5053 - val_acc: 0.7406 - val_lr: 0.0020\n",
      "Epoch 11/100\n",
      "219975/219975 [==============================] - 1s 6us/step - loss: 0.5016 - acc: 0.7409 - lr: 0.0020 - val_loss: 0.4981 - val_acc: 0.7443 - val_lr: 0.0020\n",
      "Epoch 12/100\n",
      "219975/219975 [==============================] - 1s 6us/step - loss: 0.4979 - acc: 0.7458 - lr: 0.0020 - val_loss: 0.4941 - val_acc: 0.7491 - val_lr: 0.0020\n",
      "Epoch 13/100\n",
      "219975/219975 [==============================] - 1s 6us/step - loss: 0.4940 - acc: 0.7502 - lr: 0.0020 - val_loss: 0.5024 - val_acc: 0.7423 - val_lr: 0.0020\n",
      "Epoch 14/100\n",
      "219975/219975 [==============================] - 1s 5us/step - loss: 0.4914 - acc: 0.7529 - lr: 0.0020 - val_loss: 0.4891 - val_acc: 0.7548 - val_lr: 0.0020\n",
      "Epoch 15/100\n",
      "219975/219975 [==============================] - 1s 6us/step - loss: 0.4891 - acc: 0.7552 - lr: 0.0020 - val_loss: 0.4881 - val_acc: 0.7560 - val_lr: 0.0020\n",
      "Epoch 16/100\n",
      "219975/219975 [==============================] - 1s 6us/step - loss: 0.4875 - acc: 0.7574 - lr: 0.0020 - val_loss: 0.4864 - val_acc: 0.7605 - val_lr: 0.0020\n",
      "Epoch 17/100\n",
      "219975/219975 [==============================] - 1s 6us/step - loss: 0.4856 - acc: 0.7583 - lr: 0.0020 - val_loss: 0.4834 - val_acc: 0.7617 - val_lr: 0.0020\n",
      "Epoch 18/100\n",
      "219975/219975 [==============================] - 1s 6us/step - loss: 0.4831 - acc: 0.7596 - lr: 0.0020 - val_loss: 0.4818 - val_acc: 0.7625 - val_lr: 0.0020\n",
      "Epoch 19/100\n",
      "219975/219975 [==============================] - 1s 6us/step - loss: 0.4810 - acc: 0.7614 - lr: 0.0020 - val_loss: 0.4833 - val_acc: 0.7611 - val_lr: 0.0020\n",
      "Epoch 20/100\n",
      "219975/219975 [==============================] - 1s 6us/step - loss: 0.4780 - acc: 0.7645 - lr: 0.0020 - val_loss: 0.4806 - val_acc: 0.7637 - val_lr: 0.0020\n",
      "Epoch 21/100\n",
      "219975/219975 [==============================] - 1s 6us/step - loss: 0.4743 - acc: 0.7667 - lr: 0.0020 - val_loss: 0.4715 - val_acc: 0.7688 - val_lr: 0.0020\n",
      "Epoch 22/100\n",
      "219975/219975 [==============================] - 1s 6us/step - loss: 0.4712 - acc: 0.7705 - lr: 0.0020 - val_loss: 0.4740 - val_acc: 0.7702 - val_lr: 0.0020\n",
      "Epoch 23/100\n",
      "219975/219975 [==============================] - 1s 6us/step - loss: 0.4666 - acc: 0.7749 - lr: 0.0020 - val_loss: 0.4638 - val_acc: 0.7789 - val_lr: 0.0020\n",
      "Epoch 24/100\n",
      "219975/219975 [==============================] - 1s 6us/step - loss: 0.4614 - acc: 0.7796 - lr: 0.0020 - val_loss: 0.4574 - val_acc: 0.7870 - val_lr: 0.0020\n",
      "Epoch 25/100\n",
      "219975/219975 [==============================] - 1s 6us/step - loss: 0.4557 - acc: 0.7850 - lr: 0.0020 - val_loss: 0.4595 - val_acc: 0.7811 - val_lr: 0.0020\n",
      "Epoch 26/100\n",
      "219975/219975 [==============================] - 1s 6us/step - loss: 0.4484 - acc: 0.7926 - lr: 0.0020 - val_loss: 0.4494 - val_acc: 0.7896 - val_lr: 0.0020\n",
      "Epoch 27/100\n",
      "219975/219975 [==============================] - 1s 6us/step - loss: 0.4412 - acc: 0.7986 - lr: 0.0020 - val_loss: 0.4378 - val_acc: 0.8080 - val_lr: 0.0020\n",
      "Epoch 28/100\n",
      "219975/219975 [==============================] - 1s 6us/step - loss: 0.4330 - acc: 0.8052 - lr: 0.0020 - val_loss: 0.4274 - val_acc: 0.8150 - val_lr: 0.0020\n",
      "Epoch 29/100\n",
      "219975/219975 [==============================] - 1s 6us/step - loss: 0.4249 - acc: 0.8126 - lr: 0.0020 - val_loss: 0.4205 - val_acc: 0.8259 - val_lr: 0.0020\n",
      "Epoch 30/100\n",
      "219975/219975 [==============================] - 1s 6us/step - loss: 0.4177 - acc: 0.8201 - lr: 0.0020 - val_loss: 0.4145 - val_acc: 0.8248 - val_lr: 0.0020\n",
      "Epoch 31/100\n",
      "219975/219975 [==============================] - 1s 5us/step - loss: 0.4098 - acc: 0.8257 - lr: 0.0020 - val_loss: 0.4058 - val_acc: 0.8354 - val_lr: 0.0020\n",
      "Epoch 32/100\n",
      "219975/219975 [==============================] - 1s 6us/step - loss: 0.4026 - acc: 0.8318 - lr: 0.0020 - val_loss: 0.4008 - val_acc: 0.8336 - val_lr: 0.0020\n",
      "Epoch 33/100\n",
      "219975/219975 [==============================] - 1s 6us/step - loss: 0.3968 - acc: 0.8363 - lr: 0.0020 - val_loss: 0.3969 - val_acc: 0.8392 - val_lr: 0.0020\n",
      "Epoch 34/100\n",
      "219975/219975 [==============================] - 1s 5us/step - loss: 0.3909 - acc: 0.8393 - lr: 0.0020 - val_loss: 0.3874 - val_acc: 0.8401 - val_lr: 0.0020\n",
      "Epoch 35/100\n",
      "219975/219975 [==============================] - 1s 6us/step - loss: 0.3831 - acc: 0.8443 - lr: 0.0020 - val_loss: 0.3879 - val_acc: 0.8486 - val_lr: 0.0020\n",
      "Epoch 36/100\n",
      "219975/219975 [==============================] - 1s 6us/step - loss: 0.3775 - acc: 0.8472 - lr: 0.0020 - val_loss: 0.3783 - val_acc: 0.8448 - val_lr: 0.0020\n",
      "Epoch 37/100\n",
      "219975/219975 [==============================] - 1s 6us/step - loss: 0.3716 - acc: 0.8504 - lr: 0.0020 - val_loss: 0.3676 - val_acc: 0.8572 - val_lr: 0.0020\n",
      "Epoch 38/100\n",
      "219975/219975 [==============================] - 1s 5us/step - loss: 0.3659 - acc: 0.8535 - lr: 0.0020 - val_loss: 0.3708 - val_acc: 0.8537 - val_lr: 0.0020\n",
      "Epoch 39/100\n",
      "219975/219975 [==============================] - 1s 5us/step - loss: 0.3600 - acc: 0.8565 - lr: 0.0020 - val_loss: 0.3568 - val_acc: 0.8631 - val_lr: 0.0020\n",
      "Epoch 40/100\n",
      "219975/219975 [==============================] - 1s 6us/step - loss: 0.3542 - acc: 0.8599 - lr: 0.0020 - val_loss: 0.3607 - val_acc: 0.8617 - val_lr: 0.0020\n",
      "Epoch 41/100\n",
      "219975/219975 [==============================] - 1s 6us/step - loss: 0.3493 - acc: 0.8632 - lr: 0.0020 - val_loss: 0.3529 - val_acc: 0.8665 - val_lr: 0.0020\n",
      "Epoch 42/100\n",
      "219975/219975 [==============================] - 1s 6us/step - loss: 0.3462 - acc: 0.8640 - lr: 0.0020 - val_loss: 0.3625 - val_acc: 0.8552 - val_lr: 0.0020\n",
      "Epoch 43/100\n",
      "219975/219975 [==============================] - 1s 6us/step - loss: 0.3418 - acc: 0.8669 - lr: 0.0020 - val_loss: 0.3517 - val_acc: 0.8606 - val_lr: 0.0020\n",
      "Epoch 44/100\n",
      "219975/219975 [==============================] - 1s 5us/step - loss: 0.3393 - acc: 0.8686 - lr: 0.0020 - val_loss: 0.3395 - val_acc: 0.8725 - val_lr: 0.0020\n",
      "Epoch 45/100\n",
      "219975/219975 [==============================] - 1s 6us/step - loss: 0.3370 - acc: 0.8699 - lr: 0.0020 - val_loss: 0.3527 - val_acc: 0.8646 - val_lr: 0.0020\n",
      "Epoch 46/100\n",
      "219975/219975 [==============================] - 1s 6us/step - loss: 0.3341 - acc: 0.8719 - lr: 0.0020 - val_loss: 0.3277 - val_acc: 0.8762 - val_lr: 0.0020\n",
      "Epoch 47/100\n",
      "219975/219975 [==============================] - 1s 6us/step - loss: 0.3315 - acc: 0.8731 - lr: 0.0020 - val_loss: 0.3281 - val_acc: 0.8740 - val_lr: 0.0020\n",
      "Epoch 48/100\n",
      "219975/219975 [==============================] - 1s 6us/step - loss: 0.3300 - acc: 0.8739 - lr: 0.0020 - val_loss: 0.3318 - val_acc: 0.8753 - val_lr: 0.0020\n"
     ]
    },
    {
     "name": "stdout",
     "output_type": "stream",
     "text": [
      "Epoch 49/100\n",
      "219975/219975 [==============================] - 1s 6us/step - loss: 0.3277 - acc: 0.8752 - lr: 0.0020 - val_loss: 0.3226 - val_acc: 0.8798 - val_lr: 0.0020\n",
      "Epoch 50/100\n",
      "219975/219975 [==============================] - 1s 6us/step - loss: 0.3261 - acc: 0.8757 - lr: 0.0020 - val_loss: 0.3213 - val_acc: 0.8792 - val_lr: 0.0020\n",
      "Epoch 51/100\n",
      "219975/219975 [==============================] - 1s 6us/step - loss: 0.3254 - acc: 0.8761 - lr: 0.0020 - val_loss: 0.3489 - val_acc: 0.8629 - val_lr: 0.0020\n",
      "Epoch 52/100\n",
      "219975/219975 [==============================] - 1s 6us/step - loss: 0.3231 - acc: 0.8776 - lr: 0.0020 - val_loss: 0.3212 - val_acc: 0.8781 - val_lr: 0.0020\n",
      "Epoch 53/100\n",
      "219975/219975 [==============================] - 1s 6us/step - loss: 0.3231 - acc: 0.8772 - lr: 0.0020 - val_loss: 0.3223 - val_acc: 0.8746 - val_lr: 0.0020\n",
      "Epoch 54/100\n",
      "219975/219975 [==============================] - 1s 6us/step - loss: 0.3202 - acc: 0.8789 - lr: 0.0020 - val_loss: 0.3220 - val_acc: 0.8754 - val_lr: 0.0020\n",
      "Epoch 55/100\n",
      "219975/219975 [==============================] - 1s 6us/step - loss: 0.3195 - acc: 0.8792 - lr: 0.0020 - val_loss: 0.3164 - val_acc: 0.8808 - val_lr: 0.0020\n",
      "Epoch 56/100\n",
      "219975/219975 [==============================] - 1s 6us/step - loss: 0.3177 - acc: 0.8799 - lr: 0.0020 - val_loss: 0.3183 - val_acc: 0.8845 - val_lr: 0.0020\n",
      "Epoch 57/100\n",
      "219975/219975 [==============================] - 1s 6us/step - loss: 0.3164 - acc: 0.8807 - lr: 0.0020 - val_loss: 0.3132 - val_acc: 0.8819 - val_lr: 0.0020\n",
      "Epoch 58/100\n",
      "219975/219975 [==============================] - 1s 6us/step - loss: 0.3151 - acc: 0.8816 - lr: 0.0020 - val_loss: 0.3509 - val_acc: 0.8646 - val_lr: 0.0020\n",
      "Epoch 59/100\n",
      "219975/219975 [==============================] - 1s 6us/step - loss: 0.3154 - acc: 0.8809 - lr: 0.0020 - val_loss: 0.3264 - val_acc: 0.8734 - val_lr: 0.0020\n"
     ]
    }
   ],
   "source": [
    "# fit the keras model on the dataset\n",
    "history = model.fit(x_train, y_train, validation_data=(x_val, y_val), \n",
    "                    epochs=num_epochs, batch_size=batch_size, callbacks=[es])"
   ]
  },
  {
   "cell_type": "code",
   "execution_count": 22,
   "metadata": {},
   "outputs": [
    {
     "name": "stdout",
     "output_type": "stream",
     "text": [
      "_________________________________________________________________\n",
      "Layer (type)                 Output Shape              Param #   \n",
      "=================================================================\n",
      "dense_1 (Dense)              (None, 8)                 64        \n",
      "_________________________________________________________________\n",
      "dense_2 (Dense)              (None, 12)                108       \n",
      "_________________________________________________________________\n",
      "dense_3 (Dense)              (None, 8)                 104       \n",
      "_________________________________________________________________\n",
      "dense_4 (Dense)              (None, 4)                 36        \n",
      "_________________________________________________________________\n",
      "dense_5 (Dense)              (None, 1)                 5         \n",
      "=================================================================\n",
      "Total params: 317\n",
      "Trainable params: 317\n",
      "Non-trainable params: 0\n",
      "_________________________________________________________________\n",
      "None\n"
     ]
    }
   ],
   "source": [
    "print(model.summary())"
   ]
  },
  {
   "cell_type": "code",
   "execution_count": 23,
   "metadata": {},
   "outputs": [],
   "source": [
    "# Get training and test accuracy histories\n",
    "training_accuracy = history.history['acc']\n",
    "validation_accuracy = history.history['val_acc']"
   ]
  },
  {
   "cell_type": "code",
   "execution_count": 15,
   "metadata": {},
   "outputs": [
    {
     "data": {
      "text/plain": [
       "array([0, 1, 2, 3, 4, 0, 1, 2, 3, 4, 0, 1, 2, 3, 4, 0, 1, 2, 3, 4, 0, 1,\n",
       "       2, 3, 4, 0, 1, 2, 3, 4])"
      ]
     },
     "execution_count": 15,
     "metadata": {},
     "output_type": "execute_result"
    }
   ],
   "source": [
    "(np.arange(1,31)-1)%5"
   ]
  },
  {
   "cell_type": "code",
   "execution_count": 24,
   "metadata": {
    "scrolled": false
   },
   "outputs": [
    {
     "data": {
      "image/png": "[encoded data removed]",
      "text/plain": [
       "<Figure size 720x504 with 1 Axes>"
      ]
     },
     "metadata": {
      "needs_background": "light"
     },
     "output_type": "display_data"
    },
    {
     "data": {
      "text/plain": [
       "<Figure size 720x504 with 0 Axes>"
      ]
     },
     "metadata": {},
     "output_type": "display_data"
    }
   ],
   "source": [
    "epoch_count = range(1, len(training_accuracy) + 1)\n",
    "plt.plot(epoch_count, training_accuracy, 'r--')\n",
    "plt.plot(epoch_count, validation_accuracy, 'b-')\n",
    "plt.legend(['Training Accuracy', 'Validation Accuracy'])\n",
    "plt.xlabel('Epoch')\n",
    "plt.ylabel('Accuracy')\n",
    "plt.xticks(epoch_count)\n",
    "plt.show()\n",
    "\n",
    "plt.tight_layout()"
   ]
  },
  {
   "cell_type": "code",
   "execution_count": 25,
   "metadata": {},
   "outputs": [],
   "source": [
    "# Get training and test accuracy histories\n",
    "training_loss = history.history['loss']\n",
    "validation_loss = history.history['val_loss']"
   ]
  },
  {
   "cell_type": "code",
   "execution_count": 26,
   "metadata": {},
   "outputs": [
    {
     "data": {
      "image/png": "[encoded data removed]",
      "text/plain": [
       "<Figure size 720x504 with 1 Axes>"
      ]
     },
     "metadata": {
      "needs_background": "light"
     },
     "output_type": "display_data"
    },
    {
     "data": {
      "text/plain": [
       "<Figure size 720x504 with 0 Axes>"
      ]
     },
     "metadata": {},
     "output_type": "display_data"
    }
   ],
   "source": [
    "plt.plot(epoch_count, training_loss, 'r--')\n",
    "plt.plot(epoch_count, validation_loss, 'b-')\n",
    "plt.legend(['Training Loss', 'Validation Loss'])\n",
    "plt.xlabel('Epoch')\n",
    "plt.ylabel('Loss')\n",
    "plt.xticks(epoch_count)\n",
    "plt.show()\n",
    "\n",
    "plt.tight_layout()"
   ]
  },
  {
   "cell_type": "markdown",
   "metadata": {},
   "source": [
    "## Save Model"
   ]
  },
  {
   "cell_type": "code",
   "execution_count": 27,
   "metadata": {},
   "outputs": [
    {
     "name": "stdout",
     "output_type": "stream",
     "text": [
      "Saved model to disk\n"
     ]
    }
   ],
   "source": [
    "    model_json = model.to_json()\n",
    "    with open(filesave + \".json\", \"w\") as json_file:\n",
    "        json_file.write(model_json)\n",
    "    # serialize weights to HDF5\n",
    "    model.save_weights(filesave + \".h5\")\n",
    "    print(\"Saved model to disk\")"
   ]
  },
  {
   "cell_type": "markdown",
   "metadata": {},
   "source": [
    "# Performance Evalution"
   ]
  },
  {
   "cell_type": "code",
   "execution_count": 28,
   "metadata": {},
   "outputs": [],
   "source": [
    "y_pred_test = np.ravel(model.predict(x_test))"
   ]
  },
  {
   "cell_type": "code",
   "execution_count": 29,
   "metadata": {},
   "outputs": [
    {
     "name": "stdout",
     "output_type": "stream",
     "text": [
      "62850/62850 [==============================] - 1s 23us/step\n"
     ]
    }
   ],
   "source": [
    "# evaluate the keras model\n",
    "# model.evalute returns the loss and any metric values passed during compilation\n",
    "loss, accuracy, learning_rate = model.evaluate(x_test, y_pred_test)"
   ]
  },
  {
   "cell_type": "code",
   "execution_count": 30,
   "metadata": {},
   "outputs": [
    {
     "data": {
      "image/png": "[encoded data removed]",
      "text/plain": [
       "<Figure size 720x504 with 1 Axes>"
      ]
     },
     "metadata": {
      "needs_background": "light"
     },
     "output_type": "display_data"
    }
   ],
   "source": [
    "pred_bins = np.linspace(0,1,100)\n",
    "\n",
    "fig, ax = plt.subplots()\n",
    "# fig.suptitle(\"Distribution of NN output for test set\")\n",
    "n, pred_bins, _ = ax.hist(y_pred_test, histtype='step', align='mid', bins=pred_bins)\n",
    "# plt.yscale('log')\n",
    "plt.ylabel('Count')\n",
    "plt.xlabel(r'NN Score')\n",
    "plt.xlim(0,1)\n",
    "\n",
    "plt.show()\n",
    "\n",
    "fig.savefig(plots + \"discriminator_distribution.pdf\")"
   ]
  },
  {
   "cell_type": "code",
   "execution_count": 31,
   "metadata": {},
   "outputs": [],
   "source": [
    "true_Higgs_test_mask = (y_test == 1)\n",
    "\n",
    "true_Higgs_pred = y_pred_test[true_Higgs_test_mask]\n",
    "true_non_Higgs_pred = y_pred_test[~true_Higgs_test_mask]\n",
    "\n",
    "non_Higgs_test_m = m_test[~true_Higgs_test_mask]\n",
    "Higgs_test_m = m_test[true_Higgs_test_mask]"
   ]
  },
  {
   "cell_type": "code",
   "execution_count": 32,
   "metadata": {},
   "outputs": [],
   "source": [
    "true_positives = np.array(()) # Higgs pairs classified as Higgs pairs :)\n",
    "true_negatives = np.array(()) # Non-Higgs pairs classified as non-Higgs pairs :)\n",
    "false_positives = np.array(()) # Non-Higgs pairs classified as Higgs pairs :(\n",
    "false_negatives = np.array(()) # Higgs pairs classified as non-Higgs pairs\n",
    "\n",
    "cuts = np.linspace(0,1,100)\n",
    "for cut in cuts:\n",
    "    true_positives = np.append(true_positives, np.sum((y_test == 1) & (y_pred_test > cut))/len(y_test))\n",
    "    true_negatives = np.append(true_negatives, np.sum((y_test == 0) & (y_pred_test < cut))/len(y_test))\n",
    "    false_positives = np.append(false_positives, np.sum((y_test == 0) & (y_pred_test > cut))/len(y_test))\n",
    "    false_negatives = np.append(false_negatives, np.sum((y_test == 1) & (y_pred_test < cut))/len(y_test))"
   ]
  },
  {
   "cell_type": "code",
   "execution_count": 33,
   "metadata": {},
   "outputs": [],
   "source": [
    "sensitivity = true_positives / (false_positives + true_positives)\n",
    "specificity = true_negatives / (true_negatives + false_positives)\n",
    "precision = true_positives / (true_positives + false_positives)\n",
    "recall = true_positives / (true_positives + false_negatives)"
   ]
  },
  {
   "cell_type": "markdown",
   "metadata": {},
   "source": [
    "# Accuracy"
   ]
  },
  {
   "cell_type": "code",
   "execution_count": 34,
   "metadata": {},
   "outputs": [],
   "source": [
    "acc = (true_positives + true_negatives) / (true_positives + true_negatives + false_positives + false_negatives)"
   ]
  },
  {
   "cell_type": "code",
   "execution_count": 35,
   "metadata": {},
   "outputs": [],
   "source": [
    "# fig = plt.figure(1)\n",
    "# plt.title('Accuracy')\n",
    "# plt.plot(cuts, acc)\n",
    "# plt.xlabel('NN Score')\n",
    "# plt.ylabel('Accuracy')\n",
    "# plt.ylim(0,1)\n",
    "\n",
    "# # fig1.savefig(plots + \"ROC_curve.pdf\")\n",
    "\n",
    "# plt.show()"
   ]
  },
  {
   "cell_type": "markdown",
   "metadata": {},
   "source": [
    "## F1 Curve"
   ]
  },
  {
   "cell_type": "code",
   "execution_count": 36,
   "metadata": {},
   "outputs": [],
   "source": [
    "f1_score = 2*1/(1/precision + 1/recall)"
   ]
  },
  {
   "cell_type": "code",
   "execution_count": 37,
   "metadata": {},
   "outputs": [],
   "source": [
    "# fig = plt.figure(1)\n",
    "# # plt.plot([0, 1], [0, 1], 'k--')\n",
    "# plt.title('F1 Score')\n",
    "# plt.plot(cuts, f1_score)\n",
    "# plt.xlabel('NN Score')\n",
    "# plt.ylabel('F1 Score')\n",
    "# # plt.legend(loc='best')\n",
    "\n",
    "# # fig1.savefig(plots + \"ROC_curve.pdf\")\n",
    "\n",
    "# plt.show()"
   ]
  },
  {
   "cell_type": "markdown",
   "metadata": {},
   "source": [
    "## ROC Curve "
   ]
  },
  {
   "cell_type": "code",
   "execution_count": 38,
   "metadata": {},
   "outputs": [],
   "source": [
    "fpr, tpr, thresholds_keras = roc_curve(y_test, y_pred_test)\n",
    "nn_auc = auc(fpr, tpr)"
   ]
  },
  {
   "cell_type": "code",
   "execution_count": 39,
   "metadata": {},
   "outputs": [
    {
     "data": {
      "image/png": "[encoded data removed]",
      "text/plain": [
       "<Figure size 720x504 with 1 Axes>"
      ]
     },
     "metadata": {
      "needs_background": "light"
     },
     "output_type": "display_data"
    }
   ],
   "source": [
    "fig1 = plt.figure(1)\n",
    "plt.plot([0, 1], [0, 1], 'k--')\n",
    "plt.plot(fpr, tpr, label='Keras (area = {:.3f})'.format(nn_auc))\n",
    "plt.xlabel('False positive rate')\n",
    "plt.ylabel('True positive rate')\n",
    "plt.title('ROC curve')\n",
    "plt.legend(loc=4)\n",
    "\n",
    "fig1.savefig(plots + \"ROC_curve.pdf\")\n",
    "\n",
    "plt.show()"
   ]
  },
  {
   "cell_type": "code",
   "execution_count": 40,
   "metadata": {},
   "outputs": [
    {
     "data": {
      "image/png": "[encoded data removed]",
      "text/plain": [
       "<Figure size 720x504 with 1 Axes>"
      ]
     },
     "metadata": {
      "needs_background": "light"
     },
     "output_type": "display_data"
    }
   ],
   "source": [
    "total = len(Higgs_test_m)\n",
    "mislabelled_Higgs = np.array(())\n",
    "\n",
    "cuts = np.linspace(0,1,100)\n",
    "for cut in cuts:\n",
    "    mislabelled_Higgs = np.append(mislabelled_Higgs, len(Higgs_test_m[true_Higgs_pred < cut]))\n",
    "mislabelled_Higgs = mislabelled_Higgs / total\n",
    "\n",
    "\n",
    "total = len(non_Higgs_test_m)\n",
    "fake_Higgs = np.array(())\n",
    "\n",
    "cuts = np.linspace(0,1,100)\n",
    "for cut in cuts:\n",
    "    fake_Higgs = np.append(fake_Higgs, len(non_Higgs_test_m[true_non_Higgs_pred > cut]))\n",
    "    \n",
    "fake_Higgs = fake_Higgs / total\n",
    "\n",
    "fig3, ax = plt.subplots()\n",
    "\n",
    "ax.plot(cuts, mislabelled_Higgs, label='Higgs Fail Rate')\n",
    "ax.plot(cuts, fake_Higgs, label='Fake Pass Rate')\n",
    "ax.set_ylabel('Rate')\n",
    "ax.set_xlabel(r'Score Cut')\n",
    "ax.legend()\n",
    "\n",
    "plt.show()\n",
    "\n",
    "fig3.savefig(plots + \"pass_fail_rate.pdf\")"
   ]
  },
  {
   "cell_type": "code",
   "execution_count": 41,
   "metadata": {},
   "outputs": [],
   "source": [
    "# fig = plt.figure(1)\n",
    "# # plt.plot([0, 1], [0, 1], 'k--')\n",
    "# plt.plot(fake_Higgs, mislabelled_Higgs)\n",
    "# plt.xlabel('False negative rate')\n",
    "# plt.ylabel('False positive rate')\n",
    "# plt.xlim(0,1)\n",
    "# plt.ylim(0,1)\n",
    "# # plt.title('ROC curve')\n",
    "\n",
    "# # fig1.savefig(plots + \"ROC_curve.pdf\")\n",
    "\n",
    "# plt.show()"
   ]
  },
  {
   "cell_type": "code",
   "execution_count": 42,
   "metadata": {},
   "outputs": [
    {
     "data": {
      "image/png": "[encoded data removed]",
      "text/plain": [
       "<Figure size 1080x360 with 2 Axes>"
      ]
     },
     "metadata": {
      "needs_background": "light"
     },
     "output_type": "display_data"
    }
   ],
   "source": [
    "fig2, axs = plt.subplots(nrows=1, ncols=2,figsize=(15,5))\n",
    "# fig.suptitle(\"Distribution of NN output for test set\")\n",
    "\n",
    "ax = axs[0]\n",
    "ax.hist(true_Higgs_pred, histtype='step', align='mid', bins=pred_bins, label='True Higgs pair')\n",
    "ax.hist(true_non_Higgs_pred, histtype='step', align='mid', bins=pred_bins, label='True Non-Higgs pair')\n",
    "# plt.yscale('log')\n",
    "ax.set_ylabel('Count')\n",
    "ax.set_xlabel(r'NN Score')\n",
    "ax.set_xlim(0,1)\n",
    "ax.legend(fontsize=12)\n",
    "\n",
    "ax = axs[1]\n",
    "ax.hist(true_Higgs_pred, histtype='step', align='mid', bins=pred_bins, label='True Higgs pair')\n",
    "ax.hist(true_non_Higgs_pred, histtype='step', align='mid', bins=pred_bins, label='True Non-Higgs pair')\n",
    "plt.yscale('log')\n",
    "ax.set_ylabel('Count')\n",
    "ax.set_xlabel(r'NN Score')\n",
    "ax.set_xlim(0,1)\n",
    "ax.legend()\n",
    "\n",
    "plt.tight_layout()\n",
    "plt.show()\n",
    "\n",
    "fig2.savefig(plots + \"discriminator_distribution_true_v_false.pdf\")"
   ]
  },
  {
   "cell_type": "code",
   "execution_count": 43,
   "metadata": {
    "scrolled": false
   },
   "outputs": [
    {
     "data": {
      "image/png": "[encoded data removed]",
      "text/plain": [
       "<Figure size 1080x360 with 4 Axes>"
      ]
     },
     "metadata": {
      "needs_background": "light"
     },
     "output_type": "display_data"
    }
   ],
   "source": [
    "mass_bins = np.linspace(np.min(mjj), np.max(mjj), 100)\n",
    "\n",
    "fig4, axs = plt.subplots(nrows=1, ncols=2, figsize=(15,5))\n",
    "\n",
    "ax = axs[0]\n",
    "ax.set_title(r\"Score vs. $m_{jj}$ for non-Higgs pairs\")\n",
    "n, bx, by, im = ax.hist2d(non_Higgs_test_m, true_non_Higgs_pred, bins=[mass_bins,pred_bins], norm=colors.LogNorm(), cmap=cmap)\n",
    "ax.set_xlabel(r'$m_{jj}$  [GeV]')\n",
    "ax.set_ylabel(r'NN Score')\n",
    "fig.colorbar(im, ax=ax)\n",
    "plt.savefig(plots + \"score_v_nonHiggs_mjj.pdf\")\n",
    "\n",
    "ax = axs[1]\n",
    "ax.set_title(r\"Score vs. $m_{jj}$ for True Higgs pairs\")\n",
    "n, bx, by, im = ax.hist2d(Higgs_test_m, true_Higgs_pred, bins=[mass_bins,pred_bins], norm=colors.LogNorm(), cmap=cmap)\n",
    "ax.set_xlabel(r'$m_{jj}$  [GeV]')\n",
    "ax.set_ylabel(r'NN Score')\n",
    "fig.colorbar(im, ax=ax)\n",
    "plt.savefig(plots + \"score_v_mbb.pdf\")\n",
    "plt.show()"
   ]
  },
  {
   "cell_type": "code",
   "execution_count": 79,
   "metadata": {},
   "outputs": [],
   "source": [
    "# nn_score_cuts = [0.2, 0.4, 0.6, 0.8]\n",
    "\n",
    "# fig, axs = plt.subplots(nrows=1, ncols=2, figsize=(15,4))\n",
    "\n",
    "# ax = axs[0]\n",
    "# ax.set_title(\"How many Higgs would we lose for each cut?\")\n",
    "# n, b, _ = ax.hist(Higgs_test_m, histtype='step', align='mid', bins=np.linspace(124,126,100), label='True Higgs, no cut')\n",
    "# ax.hist(Higgs_test_m[true_Higgs_pred > 0.2], histtype='step', align='mid', bins=b, label=r'Score $> 0.2$')\n",
    "# ax.hist(Higgs_test_m[true_Higgs_pred > 0.4], histtype='step', align='mid', bins=b, label=r'Score $> 0.4$')\n",
    "# ax.hist(Higgs_test_m[true_Higgs_pred > 0.6], histtype='step', align='mid', bins=b, label=r'Score $> 0.6$')\n",
    "# ax.hist(Higgs_test_m[true_Higgs_pred > 0.8], histtype='step', align='mid', bins=b, label=r'Score $> 0.8$')\n",
    "# ax.set_yscale('log')\n",
    "# ax.set_ylabel('Count')\n",
    "# ax.set_xlabel(r'$m_{jj}$ [GeV]')\n",
    "# ax.legend(fontsize=10)\n",
    "\n",
    "# ax = axs[1]\n",
    "# ax.set_title(\"How many non-Higgs pass the cut?\")\n",
    "# n, b, _  = ax.hist(non_Higgs_test_m, histtype='step', align='mid', bins=np.linspace(0,500,100), label='Non-Higgs, no cut')\n",
    "# ax.hist(non_Higgs_test_m[true_non_Higgs_pred > 0.2], histtype='step', align='mid', bins=b, label=r'Score $> 0.2$')\n",
    "# ax.hist(non_Higgs_test_m[true_non_Higgs_pred > 0.4], histtype='step', align='mid', bins=b, label=r'Score $> 0.4$')\n",
    "# ax.hist(non_Higgs_test_m[true_non_Higgs_pred > 0.6], histtype='step', align='mid', bins=b, label=r'Score $> 0.6$')\n",
    "# ax.hist(non_Higgs_test_m[true_non_Higgs_pred > 0.8], histtype='step', align='mid', bins=b, label=r'Score $> 0.8$')\n",
    "# ax.set_yscale('log')\n",
    "# ax.set_ylabel('Count')\n",
    "# ax.set_xlabel(r'$m_{jj}$ [GeV]')\n",
    "# ax.legend(fontsize=10, loc=8)\n",
    "\n",
    "# plt.show()"
   ]
  },
  {
   "cell_type": "code",
   "execution_count": 78,
   "metadata": {},
   "outputs": [],
   "source": [
    "# fig, ax = plt.subplots()\n",
    "# fig.suptitle(\"Mass of pairs with low predicted scores\")\n",
    "# ax.hist(m_test[y_pred_test < 0.05], bins=100, label=r'Score $<$ 0.05', histtype='step', align='mid')\n",
    "# plt.ylabel('Count')\n",
    "# plt.xlabel(r'$m_{jj}$  [GeV]')\n",
    "# plt.legend()\n",
    "# plt.show()"
   ]
  },
  {
   "cell_type": "code",
   "execution_count": 46,
   "metadata": {},
   "outputs": [],
   "source": [
    "# deltaR = calculate_deltaR(X_test[:,1], X_test[:,4], X_test[:,2], X_test[:,5])\n",
    "\n",
    "# non_Higgs_pred = y_pred_test[~true_Higgs_test_mask]\n",
    "# non_Higgs_deltaR = deltaR[~true_Higgs_test_mask]"
   ]
  },
  {
   "cell_type": "code",
   "execution_count": null,
   "metadata": {},
   "outputs": [],
   "source": []
  },
  {
   "cell_type": "code",
   "execution_count": 72,
   "metadata": {},
   "outputs": [],
   "source": [
    "# fig, ax = plt.subplots()\n",
    "# fig.suptitle(\"Low scoring Delta R distribution\")\n",
    "# ax.hist(deltaR[y_pred_test < 0.05], bins=100, label=r'Score $<$ 0.05', histtype='step', align='mid')\n",
    "# ax.hist(deltaR[true_Higgs_test_mask], bins=100, histtype='step', align='mid', label='True Higgs Pairs')\n",
    "# plt.ylabel('Count')\n",
    "# plt.xlabel(r'$\\Delta R$')\n",
    "# plt.legend()\n",
    "# plt.show()"
   ]
  },
  {
   "cell_type": "code",
   "execution_count": 73,
   "metadata": {},
   "outputs": [],
   "source": [
    "# fig, ax = plt.subplots()\n",
    "# fig.suptitle(\"High scoring Delta R distribution\")\n",
    "# ax.hist(non_Higgs_deltaR[non_Higgs_pred > 0.8], bins=100, label=r'Non-Higgs with Score $>$ 0.8', histtype='step', align='mid')\n",
    "# ax.hist(deltaR[true_Higgs_test_mask], bins=100, histtype='step', align='mid', label='True Higgs Pairs')\n",
    "# plt.ylabel('Count')\n",
    "# plt.xlabel(r'$\\Delta R$')\n",
    "# plt.yscale('log')\n",
    "# plt.legend()\n",
    "# plt.show()"
   ]
  },
  {
   "cell_type": "code",
   "execution_count": 74,
   "metadata": {},
   "outputs": [],
   "source": [
    "# fig, ax = plt.subplots()\n",
    "# fig.suptitle(\"Low scoring Delta R distribution\")\n",
    "# ax.hist(non_Higgs_deltaR[non_Higgs_pred < 0.05], bins=100, label=r'Non-Higgs with Score $<$ 0.05', histtype='step', align='mid')\n",
    "# ax.hist(deltaR[y_pred_test < 0.05], bins=100, label=r'Score $<$ 0.05', histtype='step', align='mid')\n",
    "# plt.ylabel('Count')\n",
    "# plt.xlabel(r'$\\Delta R$')\n",
    "# plt.legend()\n",
    "# plt.show()"
   ]
  },
  {
   "cell_type": "code",
   "execution_count": 75,
   "metadata": {},
   "outputs": [],
   "source": [
    "# non_Higgs_mass = m_test[~true_Higgs_test_mask]\n",
    "# dR_bins = np.linspace(np.min(deltaR), np.max(deltaR), 20)\n",
    "\n",
    "# fig, ax = plt.subplots()\n",
    "# fig.suptitle(\"Delta R dist for non-Higgs with mjj~125 GeV\")\n",
    "# ax.hist(non_Higgs_deltaR[(abs(non_Higgs_mass-125) < 0.6)], bins=dR_bins, label=r'Non-Higgs with $|m_{jj}-m_H|<0.6$ GeV', histtype='step', align='mid')\n",
    "# plt.ylabel('Count')\n",
    "# plt.xlabel(r'$\\Delta R$')\n",
    "# plt.legend()\n",
    "# plt.show()"
   ]
  },
  {
   "cell_type": "code",
   "execution_count": 76,
   "metadata": {},
   "outputs": [],
   "source": [
    "# non_Higgs_deltaR[(abs(non_Higgs_mass-125) < 0.6)]\n",
    "                 \n",
    "# fig, ax = plt.subplots()\n",
    "# fig.suptitle(r\"Score vs. $m_{jj}$ for non-Higgs pairs with $|m_{jj} - m_H|   < 0.6$ GeV\")\n",
    "# n, bx, by, im = ax.hist2d(non_Higgs_deltaR[(abs(non_Higgs_mass-125) < 0.6)], y_pred_test[~true_Higgs_test_mask][(abs(non_Higgs_mass-125) < 0.6)], bins=[100,pred_bins], cmap=cmap)\n",
    "# ax.set_xlabel(r'$\\Delta R$')\n",
    "# ax.set_ylabel(r'NN Score')\n",
    "# ax.set_ylim(0,1)\n",
    "# fig.colorbar(im, ax=ax)\n",
    "# # plt.savefig(\"score_v_nonHiggs_mjj.pdf\")\n",
    "# plt.show()"
   ]
  },
  {
   "cell_type": "code",
   "execution_count": 77,
   "metadata": {},
   "outputs": [],
   "source": [
    "# fig, ax = plt.subplots()\n",
    "# # fig.suptitle(r\"Score vs. $m_{jj}$ for non-Higgs pairs\")\n",
    "# n, bx, by, im = ax.hist2d(deltaR[~true_Higgs_test_mask], y_pred_test[~true_Higgs_test_mask], bins=[100,pred_bins], norm=colors.LogNorm(), cmap=cmap)\n",
    "# ax.set_xlabel(r'$\\Delta R$')\n",
    "# ax.set_ylabel(r'NN Score')\n",
    "# fig.colorbar(im, ax=ax)\n",
    "# ax.set_ylim(0,1)\n",
    "# # plt.savefig(\"score_v_nonHiggs_mjj.pdf\")\n",
    "# plt.show()"
   ]
  },
  {
   "cell_type": "code",
   "execution_count": 71,
   "metadata": {
    "scrolled": false
   },
   "outputs": [
    {
     "name": "stdout",
     "output_type": "stream",
     "text": [
      "Training set:                70%, 219975\n",
      "Validation set:              10%, 31425\n",
      "Testing set:                 20%, 62850\n",
      "Class 0 (Non-Higgs  Pair):   50%, 157125\n",
      "Class 1 (Higgs Pair):        50%, 157125\n",
      "Input parameters:            7 ['cand_b1_pt' 'cand_b1_eta' 'cand_b1_phi' 'cand_b2_pt' 'cand_b2_eta'\n",
      " 'cand_b2_phi' 'cand_b1_pt*cand_b2_pt' 'Delta R_(b1,b2)']\n",
      "Optimizer:                   <keras.optimizers.Nadam object at 0x7f9c726cfed0>\n",
      "Loss:                        binary_crossentropy\n",
      "Num epochs:                  100\n",
      "Batch size:                  500\n",
      "Num input nodes:             8\n",
      "Input activation function:   selu\n",
      "Num hidden layers:           3\n",
      "Hidden layer nodes:          [12, 8, 4]\n",
      "Hidden activation functions: selu, selu, selu\n",
      "Num output nodes:            1\n",
      "Output activation function:  sigmoid\n"
     ]
    }
   ],
   "source": [
    "h_act = ''\n",
    "for funcs in hidden_activations:\n",
    "    h_act = h_act + funcs + ', '\n",
    "\n",
    "print(\"Training set:                {:d}%, {:d}\".format(int(len(x_train)/len(X)*100), int(len(x_train))))\n",
    "print(\"Validation set:              {:d}%, {:d}\".format(int(len(x_val)/len(X)*100), int(len(x_val))))\n",
    "print(\"Testing set:                 {:d}%, {:d}\".format(int(len(x_test)/len(X)*100), int(len(x_test))))\n",
    "print(\"Class 0 (Non-Higgs  Pair):   {:.0f}%, {:d}\".format(np.sum(y == 0)/len(y)*100, np.sum(y == 0)))\n",
    "print(\"Class 1 (Higgs Pair):        {:.0f}%, {:d}\".format(np.sum(y == 1)/len(y)*100, np.sum(y == 1)))\n",
    "print(\"Input parameters:           \", param_dim, inputs['params'])\n",
    "print(\"Optimizer:                  \", optimizer)\n",
    "print(\"Loss:                       \", loss_function)\n",
    "print(\"Num epochs:                 \", num_epochs)\n",
    "print(\"Batch size:                 \", batch_size)\n",
    "print(\"Num input nodes:            \", input_nodes)\n",
    "print(\"Input activation function:  \", input_activation)\n",
    "print(\"Num hidden layers:          \", num_hidden)\n",
    "print(\"Hidden layer nodes:         \", nodes)\n",
    "print(\"Hidden activation functions:\", h_act[:-2])\n",
    "print(\"Num output nodes:           \", output_nodes)\n",
    "print(\"Output activation function: \", output_activation)"
   ]
  },
  {
   "cell_type": "code",
   "execution_count": null,
   "metadata": {},
   "outputs": [],
   "source": [
    "# with PdfPages(plots + 'classifier_analysis.pdf') as pdf:\n",
    "\n",
    "#     ######################################\n",
    "\n",
    "# #     fig, axs = plt.subplots(nrows=2,ncols=1)\n",
    "\n",
    "# #     ax = axs[0]\n",
    "# #     ax.axis('tight')\n",
    "# #     ax.axis('off')\n",
    "# #     the_table = ax.table(cellText=nn_structure.values, rowLabels=nn_structure.index,loc='center', edges='vertical')\n",
    "\n",
    "# #     ax = axs[1]\n",
    "# #     ax.axis('tight')\n",
    "# #     ax.axis('off')\n",
    "# #     # plotting.table(ax, nn_architecture)\n",
    "# #     the_table = ax.table(cellText=nn_architecture.values, rowLabels=nn_architecture.index,loc='center', edges='vertical', cellLoc='center')\n",
    "\n",
    "# #     # plt.tight_layout()\n",
    "# #     plt.subplots_adjust(top=0.97, bottom=0.08, left=0.5, right=0.9, hspace=0.10, wspace=0.20)\n",
    "\n",
    "# #     pdf.savefig()  # saves the current figure into a pdf page\n",
    "# #     plt.close()\n",
    "\n",
    "# #     #########################################\n",
    "\n",
    "#     Higgs_mask = exp_y == 1\n",
    "#     fig, ax = plt.subplots(nrows=1, ncols=1)\n",
    "#     fig.suptitle(\"Verification that True Higgs pairs have Higgs mass\")\n",
    "\n",
    "#     bins = np.linspace(np.min(mjj),  np.max(mjj), 100)\n",
    "#     n, bins, _ = ax.hist(exp_mjj[Higgs_mask], histtype='step', align='mid', bins=bins, label='Higgs Pairs')\n",
    "#     ax.hist(exp_mjj[~Higgs_mask], histtype='step', align='mid', bins=bins, label='Combinatoric Backround Pairs')\n",
    "#     ax.set_yscale('log')\n",
    "#     ax.set_ylabel('Count')\n",
    "#     ax.set_xlabel(r'$m_{jj}$ [GeV]')\n",
    "#     ax.legend()\n",
    "\n",
    "#     pdf.savefig()  # saves the current figure into a pdf page\n",
    "#     plt.close()\n",
    "\n",
    "#     #####################################\n",
    "\n",
    "#     # fig = plt.figure()\n",
    "#     epoch_count = range(1, len(training_accuracy) + 1)\n",
    "#     plt.plot(epoch_count, training_accuracy, 'r--')\n",
    "#     plt.plot(epoch_count, validation_accuracy, 'b-')\n",
    "#     plt.legend(['Training Accuracy', 'Validation Accuracy'], loc=4)\n",
    "#     plt.xlabel('Epoch')\n",
    "#     plt.ylabel('Accuracy Score')\n",
    "\n",
    "#     pdf.savefig()\n",
    "#     plt.close()\n",
    "\n",
    "    \n",
    "#     #########################################\n",
    "\n",
    "#     fig = plt.figure(1)\n",
    "#     plt.plot([0, 1], [0, 1], 'k--')\n",
    "#     plt.plot(fpr, tpr, label='Keras (area = {:.3f})'.format(auc_keras))\n",
    "#     plt.xlabel('False positive rate')\n",
    "#     plt.ylabel('True positive rate')\n",
    "#     plt.title('ROC curve')\n",
    "#     plt.legend(loc='best')\n",
    "#     # plt.plot([0.1,0.1],[0,1], '--')\n",
    "\n",
    "#     pdf.savefig(fig)  # or you can pass a Figure object to pdf.savefig\n",
    "#     plt.close()\n",
    "\n",
    "\n",
    "#     #########################################\n",
    "\n",
    "\n",
    "#     fig, ax = plt.subplots()\n",
    "#     fig.suptitle(\"Distribution of NN output for test set\")\n",
    "#     n, bins, _ = ax.hist(y_pred_test, histtype='step', align='mid', bins=50)\n",
    "#     # plt.yscale('log')\n",
    "#     plt.ylabel('Count')\n",
    "#     plt.xlabel(r'NN Score')\n",
    "#     plt.xlim(0,1)\n",
    "#     plt.legend()\n",
    "\n",
    "#     pdf.savefig()\n",
    "#     plt.close()\n",
    "\n",
    "#     #####################################\n",
    "\n",
    "\n",
    "\n",
    "#     fig, ax = plt.subplots()\n",
    "#     fig.suptitle(\"Distribution of NN output for test set\")\n",
    "#     ax.hist(y_pred_test[Higgs_test_mask], histtype='step', align='mid', bins=bins, label='True Higgs pair')\n",
    "#     ax.hist(y_pred_test[~Higgs_test_mask], histtype='step', align='mid', bins=bins, label='True Non-Higgs pair')\n",
    "#     # plt.yscale('log')\n",
    "#     plt.ylabel('Count')\n",
    "#     plt.xlabel(r'NN Score')\n",
    "#     plt.xlim(0,1)\n",
    "#     plt.legend()\n",
    "\n",
    "#     pdf.savefig()\n",
    "#     plt.close()\n",
    "\n",
    "#     #####################################\n",
    "\n",
    "#     fig, ax = plt.subplots()\n",
    "#     fig.suptitle(r\"Score vs. $m_{jj}$ for non-Higgs pairs\")\n",
    "#     n, bx, by, im = ax.hist2d(m_test[~Higgs_test_mask], y_pred_test[~Higgs_test_mask], bins=[100,np.linspace(0,1,50)], norm=colors.LogNorm(), cmap=cmap)\n",
    "#     ax.set_xlabel(r'$m_{jj}$  [GeV]')\n",
    "#     ax.set_ylabel(r'NN Score')\n",
    "#     fig.colorbar(im, ax=ax)\n",
    "\n",
    "#     pdf.savefig()\n",
    "#     plt.close()\n"
   ]
  },
  {
   "cell_type": "code",
   "execution_count": null,
   "metadata": {},
   "outputs": [],
   "source": []
  }
 ],
 "metadata": {
  "kernelspec": {
   "display_name": "Python 3",
   "language": "python",
   "name": "python3"
  },
  "language_info": {
   "codemirror_mode": {
    "name": "ipython",
    "version": 3
   },
   "file_extension": ".py",
   "mimetype": "text/x-python",
   "name": "python",
   "nbconvert_exporter": "python",
   "pygments_lexer": "ipython3",
   "version": "3.7.6"
  }
 },
 "nbformat": 4,
 "nbformat_minor": 4
}

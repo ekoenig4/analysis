{
 "cells": [
  {
   "cell_type": "markdown",
   "metadata": {},
   "source": [
    "This notebook is used to train a classifier neural network algorithm using inputs generated from the `nn_create_inputs.py` script."
   ]
  },
  {
   "cell_type": "code",
   "execution_count": 1,
   "metadata": {},
   "outputs": [
    {
     "name": "stderr",
     "output_type": "stream",
     "text": [
      "Using TensorFlow backend.\n"
     ]
    }
   ],
   "source": [
    "import os\n",
    "import keras\n",
    "from keras.models import Sequential\n",
    "from keras.layers import Dense, Dropout, Activation, Flatten, LeakyReLU\n",
    "from keras.callbacks import EarlyStopping\n",
    "import datetime\n",
    "import numpy as np\n",
    "from matplotlib.backends.backend_pdf import PdfPages\n",
    "import matplotlib.pyplot as plt\n",
    "plt.rc('text', usetex=True)\n",
    "from sklearn.preprocessing import MinMaxScaler\n",
    "from sklearn.model_selection import train_test_split\n",
    "from sklearn.metrics import roc_curve\n",
    "from sklearn.metrics import auc\n",
    "import h5py\n",
    "from pickle import dump\n",
    "\n",
    "from keras import backend as K\n",
    "\n",
    "# from pandas import DataFrame, plotting\n",
    "\n",
    "from Analysis_Helper import calculate_deltaR, change_cmap_bkg_to_white\n",
    "\n",
    "import matplotlib.colors as colors\n",
    "import matplotlib.cm as cm\n",
    "cmap = 'rainbow'\n",
    "cmap = change_cmap_bkg_to_white(cmap)"
   ]
  },
  {
   "cell_type": "code",
   "execution_count": 2,
   "metadata": {
    "scrolled": true
   },
   "outputs": [
    {
     "data": {
      "text/plain": [
       "{'divide': 'warn', 'over': 'warn', 'under': 'ignore', 'invalid': 'warn'}"
      ]
     },
     "execution_count": 2,
     "metadata": {},
     "output_type": "execute_result"
    }
   ],
   "source": [
    "plt.rcParams.update({'font.size': 18})\n",
    "plt.rcParams['figure.figsize'] = (10, 7)\n",
    "\n",
    "np.seterr(divide='ignore', invalid='ignore')"
   ]
  },
  {
   "cell_type": "markdown",
   "metadata": {},
   "source": [
    "# Neural Network Hyperparameters\n",
    "Tuning of the neural network can be done by modifying these values"
   ]
  },
  {
   "cell_type": "code",
   "execution_count": 13,
   "metadata": {},
   "outputs": [],
   "source": [
    "inputs_filename = '/eos/user/s/srosenzw/SWAN_projects/sixB/Machine_Learning/Inputs/MX700_MY400_classifier_allpairs_dR_presel.npz'\n",
    "# MX_MY = inputs_filename[16:27]\n",
    "# mx, my = MX_MY.split('_')\n",
    "# MX, MY = mx[2:], my[2:]\n",
    "# suffix = inputs_filename[27:-4] #+ '_reducedto10pc'\n",
    "\n",
    "# print(f\"Training model for MX = {MX} GeV and MY = {MY} GeV\")"
   ]
  },
  {
   "cell_type": "code",
   "execution_count": 9,
   "metadata": {},
   "outputs": [],
   "source": [
    "# Input hyperparameters\n",
    "input_activation = 'selu'\n",
    "\n",
    "# Hidden hyperparameters\n",
    "# nodes = [32,64,64,128,512,128,64,64,32]\n",
    "nodes = [12,8,4]\n",
    "hidden_activations = ['selu'] * len(nodes)\n",
    "assert(len(nodes) == len(hidden_activations))\n",
    "num_hidden = len(nodes)\n",
    "\n",
    "# Output hyperparameters\n",
    "output_activation = 'sigmoid'\n",
    "output_nodes = 1\n",
    "\n",
    "# Fitting hyperparameters\n",
    "optimizer = 'nadam'\n",
    "loss_function = 'binary_crossentropy'\n",
    "num_epochs = 100\n",
    "batch_size = 500\n",
    "\n",
    "# # Saving options\n",
    "# folder = 'NN_models/' + MX_MY + '/' \n",
    "# plots = folder + 'plots/' # Change this for new runs\n",
    "\n",
    "# # Create folders if they don't already exist\n",
    "# if not os.path.exists(folder):\n",
    "#     os.makedirs(folder)\n",
    "# if not os.path.exists(plots):\n",
    "#     os.makedirs(plots)\n",
    "\n",
    "# filesave = folder + MX_MY + suffix\n",
    "\n",
    "# print(f\"Files will be saved in location:\\n{filesave}\")"
   ]
  },
  {
   "cell_type": "markdown",
   "metadata": {},
   "source": [
    "# Load Inputs\n",
    "Inputs are loaded from .npz file. Later tests can compare file size for numpy arrays and Pandas dataframes."
   ]
  },
  {
   "cell_type": "code",
   "execution_count": 14,
   "metadata": {
    "scrolled": false
   },
   "outputs": [],
   "source": [
    "# Load inputs\n",
    "inputs = np.load(inputs_filename)\n",
    "\n",
    "# Define parameters\n",
    "X = inputs['x']\n",
    "X_excess = inputs['extra_bkgd_x']\n",
    "input_nodes = np.shape(X)[1]\n",
    "\n",
    "# Define output\n",
    "y = inputs['y']\n",
    "y_excess = inputs['extra_bkgd_y']\n",
    "\n",
    "# Used to compare score with dijet invariant mass\n",
    "mjj = inputs['mjj'] # GeV\n",
    "mjj_excess = inputs['extra_bkgd_mjj'] # GeV"
   ]
  },
  {
   "cell_type": "code",
   "execution_count": null,
   "metadata": {},
   "outputs": [],
   "source": [
    "def apply_stat_power_curve_analysis(X, y, mjj, percentage):\n",
    "    X, _, y, _, m, _ = train_test_split(X, y, mjj, test_size=1-percentage, random_state=42)\n",
    "    return X, y, m"
   ]
  },
  {
   "cell_type": "code",
   "execution_count": null,
   "metadata": {},
   "outputs": [],
   "source": [
    "X_red, y_red, mjj_red = apply_stat_power_curve_analysis(X, y, mjj, 0.10)"
   ]
  },
  {
   "cell_type": "code",
   "execution_count": null,
   "metadata": {},
   "outputs": [],
   "source": [
    "true_Higgs_mask = (y == 1)\n",
    "\n",
    "mbb_Higgs_pairs = mjj[true_Higgs_mask]\n",
    "mjj_background = mjj[~true_Higgs_mask]"
   ]
  },
  {
   "cell_type": "markdown",
   "metadata": {},
   "source": [
    "Perform a sanity check to make sure the inputs reconstruct the Higg mass."
   ]
  },
  {
   "cell_type": "code",
   "execution_count": null,
   "metadata": {},
   "outputs": [],
   "source": [
    "# Determination of baseline (target) efficiency.\n",
    "\n",
    "# Suppose the algorithm is learning the mass of the Higgs pairs.\n",
    "# What kind of efficiency can we expect in the worst case scenario?\n",
    "\n",
    "min_tol = np.min(mbb_Higgs_pairs)\n",
    "max_tol = np.max(mbb_Higgs_pairs)\n",
    "\n",
    "fake_mask = (mjj_background > min_tol) & (mjj_background < max_tol)\n",
    "\n",
    "baseline_efficiency = (len(mbb_Higgs_pairs) + len(mjj_background[fake_mask])) / len(mjj) * 100\n",
    "\n",
    "print(f\"Baseline efficiency: {baseline_efficiency:.2f}%\")"
   ]
  },
  {
   "cell_type": "code",
   "execution_count": null,
   "metadata": {},
   "outputs": [],
   "source": [
    "fig, axs = plt.subplots(nrows=1, ncols=2, figsize=(20,5))\n",
    "fig.suptitle(\"Verification that True Higgs pairs have Higgs mass\")\n",
    "\n",
    "ax = axs[0]\n",
    "bins = np.linspace(np.min(mjj),  np.max(mjj), 100)\n",
    "n, bins, _ = ax.hist(mbb_Higgs_pairs, histtype='step', align='mid', bins=bins, label='Higgs Pairs')\n",
    "ax.hist(mjj_background, histtype='step', align='mid', bins=bins, label='Combinatoric Backround Pairs')\n",
    "ax.set_yscale('log')\n",
    "ax.set_ylabel('Count')\n",
    "ax.set_xlabel(r'$m_{jj}$ [GeV]')\n",
    "ax.legend()\n",
    "\n",
    "ax = axs[1]\n",
    "bins = np.linspace(np.min(X[:,-1]),  np.max(X[:,-1]), 100)\n",
    "n, bins, _ = ax.hist(X[:,-1][y==1], histtype='step', align='mid', bins=bins, label='Higgs Pairs')\n",
    "ax.hist(X[:,-1][y==0], histtype='step', align='mid', bins=bins, label='Combinatoric Backround Pairs')\n",
    "ax.set_yscale('log')\n",
    "ax.set_ylabel('Count')\n",
    "ax.set_xlabel(r'$\\Delta R$')\n",
    "ax.legend(loc='lower center')\n",
    "\n",
    "plt.show()"
   ]
  },
  {
   "cell_type": "markdown",
   "metadata": {},
   "source": [
    "# Input Size Experiment"
   ]
  },
  {
   "cell_type": "code",
   "execution_count": null,
   "metadata": {},
   "outputs": [],
   "source": [
    "# X = X[:,:-1]\n",
    "# X_excess = X_excess[:,:-1]"
   ]
  },
  {
   "cell_type": "code",
   "execution_count": null,
   "metadata": {},
   "outputs": [],
   "source": [
    "# np.shape(X)"
   ]
  },
  {
   "cell_type": "code",
   "execution_count": null,
   "metadata": {},
   "outputs": [],
   "source": [
    "# three_H_inputs = np.vstack((X[0::6,:], X[1::6,:], X[2::6,:]))\n",
    "# three_H_class = np.concatenate((y[0::6], y[1::6], y[2::6]))\n",
    "# three_H_mjj = np.concatenate((mjj[0::6], mjj[1::6], mjj[2::6]))\n",
    "\n",
    "# three_nonH_inputs = np.vstack((X[3::6,:], X[4::6,:], X[5::6,:]))\n",
    "# three_nonH_class = np.concatenate((y[3::6], y[4::6], y[5::6]))\n",
    "# three_nonH_mjj = np.concatenate((mjj[3::6], mjj[4::6], mjj[5::6]))"
   ]
  },
  {
   "cell_type": "markdown",
   "metadata": {},
   "source": [
    "# Scale and Split Data"
   ]
  },
  {
   "cell_type": "code",
   "execution_count": 15,
   "metadata": {},
   "outputs": [
    {
     "name": "stdout",
     "output_type": "stream",
     "text": [
      "Training set:    219975\n",
      "Validation set:  31425\n",
      "Testing set:     62850\n",
      "Input parameters: 8\n"
     ]
    }
   ],
   "source": [
    "xscaler = MinMaxScaler()\n",
    "xscaler.fit(np.vstack((X, X_excess)))\n",
    "xnormalized = xscaler.transform(X)\n",
    "xinverse = xscaler.inverse_transform(xnormalized)\n",
    "dump(xscaler, open(filesave + '_scaler.pkl', 'wb'))\n",
    "\n",
    "test_size = 0.20\n",
    "val_size = 0.125\n",
    "X_train, X_test, x_train, x_test, y_train, y_test, _, m_test = train_test_split(X, xnormalized, y, mjj, test_size=0.20, random_state=42)\n",
    "X_train, X_val, x_train, x_val, y_train, y_val = train_test_split(X_train, x_train, y_train, test_size=0.125, random_state=42)\n",
    "\n",
    "print(\"Training set:   \", len(x_train))\n",
    "print(\"Validation set: \", len(x_val))\n",
    "print(\"Testing set:    \", len(x_test))\n",
    "\n",
    "# The proportions of \"successes\" in split datasets\n",
    "eps = 5e-3\n",
    "class1 = np.sum(y_train)/len(x_train)\n",
    "class0 = 1 - class1 \n",
    "\n",
    "assert(abs(np.sum(y_train)/len(x_train) - 0.5) < eps)\n",
    "assert(abs(np.sum(y_test)/len(x_test) - 0.5) < eps)\n",
    "assert(abs(np.sum(y_val)/len(x_val) - 0.5) < eps)\n",
    "\n",
    "param_dim = np.shape(x_train)[1]\n",
    "print(\"Input parameters:\",param_dim) # Use this as a guide for how many nodes to use in hidden layers"
   ]
  },
  {
   "cell_type": "code",
   "execution_count": null,
   "metadata": {},
   "outputs": [],
   "source": [
    "len(x_train)+len(x_val)+len(x_test)"
   ]
  },
  {
   "cell_type": "markdown",
   "metadata": {},
   "source": [
    "# Define Model"
   ]
  },
  {
   "cell_type": "code",
   "execution_count": 16,
   "metadata": {},
   "outputs": [],
   "source": [
    "import warnings\n",
    "warnings.filterwarnings('ignore')"
   ]
  },
  {
   "cell_type": "code",
   "execution_count": 17,
   "metadata": {
    "scrolled": true
   },
   "outputs": [
    {
     "name": "stderr",
     "output_type": "stream",
     "text": [
      "WARNING: Logging before flag parsing goes to stderr.\n",
      "W0127 17:13:13.706813 140116202653504 deprecation_wrapper.py:119] From /cvmfs/sft.cern.ch/lcg/views/LCG_97apython3/x86_64-centos7-gcc8-opt/lib/python3.7/site-packages/keras/backend/tensorflow_backend.py:74: The name tf.get_default_graph is deprecated. Please use tf.compat.v1.get_default_graph instead.\n",
      "\n",
      "W0127 17:13:13.737582 140116202653504 deprecation_wrapper.py:119] From /cvmfs/sft.cern.ch/lcg/views/LCG_97apython3/x86_64-centos7-gcc8-opt/lib/python3.7/site-packages/keras/backend/tensorflow_backend.py:517: The name tf.placeholder is deprecated. Please use tf.compat.v1.placeholder instead.\n",
      "\n",
      "W0127 17:13:13.742597 140116202653504 deprecation_wrapper.py:119] From /cvmfs/sft.cern.ch/lcg/views/LCG_97apython3/x86_64-centos7-gcc8-opt/lib/python3.7/site-packages/keras/backend/tensorflow_backend.py:4138: The name tf.random_uniform is deprecated. Please use tf.random.uniform instead.\n",
      "\n",
      "W0127 17:13:13.767904 140116202653504 deprecation.py:323] From /cvmfs/sft.cern.ch/lcg/views/LCG_97apython3/x86_64-centos7-gcc8-opt/lib/python3.7/site-packages/keras/backend/tensorflow_backend.py:3217: add_dispatch_support.<locals>.wrapper (from tensorflow.python.ops.array_ops) is deprecated and will be removed in a future version.\n",
      "Instructions for updating:\n",
      "Use tf.where in 2.0, which has the same broadcast rule as np.where\n"
     ]
    }
   ],
   "source": [
    "# define the keras model\n",
    "model = Sequential()\n",
    "\n",
    "# Input layers\n",
    "model.add(Dense(input_nodes, input_dim=param_dim, activation=input_activation))\n",
    "\n",
    "# Hidden layers\n",
    "for i in range(num_hidden):\n",
    "    model.add(Dense(nodes[i], activation=hidden_activations[i]))\n",
    "\n",
    "# Output layer\n",
    "model.add(Dense(output_nodes, activation=output_activation))"
   ]
  },
  {
   "cell_type": "code",
   "execution_count": 18,
   "metadata": {},
   "outputs": [
    {
     "name": "stderr",
     "output_type": "stream",
     "text": [
      "W0127 17:13:13.893661 140116202653504 deprecation_wrapper.py:119] From /cvmfs/sft.cern.ch/lcg/views/LCG_97apython3/x86_64-centos7-gcc8-opt/lib/python3.7/site-packages/keras/optimizers.py:790: The name tf.train.Optimizer is deprecated. Please use tf.compat.v1.train.Optimizer instead.\n",
      "\n",
      "W0127 17:13:13.902475 140116202653504 deprecation_wrapper.py:119] From /cvmfs/sft.cern.ch/lcg/views/LCG_97apython3/x86_64-centos7-gcc8-opt/lib/python3.7/site-packages/keras/backend/tensorflow_backend.py:3376: The name tf.log is deprecated. Please use tf.math.log instead.\n",
      "\n"
     ]
    }
   ],
   "source": [
    "# modify and compile the keras model\n",
    "optimizer = keras.optimizers.Nadam()\n",
    "\n",
    "def get_lr_metric(optimizer):\n",
    "    def lr(y_true, y_pred):\n",
    "        return optimizer.lr\n",
    "    return lr\n",
    "\n",
    "lr_metric = get_lr_metric(optimizer)\n",
    "\n",
    "es = EarlyStopping(monitor='loss', restore_best_weights=True)\n",
    "\n",
    "model.compile(loss=loss_function, optimizer=optimizer, metrics=['accuracy', lr_metric])"
   ]
  },
  {
   "cell_type": "markdown",
   "metadata": {},
   "source": [
    "# Train Model"
   ]
  },
  {
   "cell_type": "code",
   "execution_count": 19,
   "metadata": {
    "scrolled": false
   },
   "outputs": [
    {
     "name": "stderr",
     "output_type": "stream",
     "text": [
      "W0127 17:13:17.660585 140116202653504 deprecation_wrapper.py:119] From /cvmfs/sft.cern.ch/lcg/views/LCG_97apython3/x86_64-centos7-gcc8-opt/lib/python3.7/site-packages/keras/backend/tensorflow_backend.py:986: The name tf.assign_add is deprecated. Please use tf.compat.v1.assign_add instead.\n",
      "\n"
     ]
    },
    {
     "name": "stdout",
     "output_type": "stream",
     "text": [
      "Train on 219975 samples, validate on 31425 samples\n",
      "Epoch 1/100\n",
      "219975/219975 [==============================] - 3s 14us/step - loss: 0.5593 - acc: 0.7203 - lr: 0.0020 - val_loss: 0.5151 - val_acc: 0.7435 - val_lr: 0.0020\n",
      "Epoch 2/100\n",
      "219975/219975 [==============================] - 2s 10us/step - loss: 0.4630 - acc: 0.7840 - lr: 0.0020 - val_loss: 0.3975 - val_acc: 0.8231 - val_lr: 0.0020\n",
      "Epoch 3/100\n",
      "219975/219975 [==============================] - 2s 9us/step - loss: 0.3713 - acc: 0.8389 - lr: 0.0020 - val_loss: 0.3572 - val_acc: 0.8471 - val_lr: 0.0020\n",
      "Epoch 4/100\n",
      "219975/219975 [==============================] - 2s 9us/step - loss: 0.3430 - acc: 0.8531 - lr: 0.0020 - val_loss: 0.3442 - val_acc: 0.8520 - val_lr: 0.0020\n",
      "Epoch 5/100\n",
      "219975/219975 [==============================] - 2s 9us/step - loss: 0.3051 - acc: 0.8724 - lr: 0.0020 - val_loss: 0.2800 - val_acc: 0.8854 - val_lr: 0.0020\n",
      "Epoch 6/100\n",
      "219975/219975 [==============================] - 2s 8us/step - loss: 0.2596 - acc: 0.8984 - lr: 0.0020 - val_loss: 0.2412 - val_acc: 0.9106 - val_lr: 0.0020\n",
      "Epoch 7/100\n",
      "219975/219975 [==============================] - 2s 8us/step - loss: 0.2276 - acc: 0.9138 - lr: 0.0020 - val_loss: 0.2203 - val_acc: 0.9166 - val_lr: 0.0020\n",
      "Epoch 8/100\n",
      "219975/219975 [==============================] - 2s 8us/step - loss: 0.2067 - acc: 0.9236 - lr: 0.0020 - val_loss: 0.1923 - val_acc: 0.9326 - val_lr: 0.0020\n",
      "Epoch 9/100\n",
      "219975/219975 [==============================] - 2s 8us/step - loss: 0.1893 - acc: 0.9329 - lr: 0.0020 - val_loss: 0.1786 - val_acc: 0.9391 - val_lr: 0.0020\n",
      "Epoch 10/100\n",
      "219975/219975 [==============================] - 2s 7us/step - loss: 0.1797 - acc: 0.9374 - lr: 0.0020 - val_loss: 0.1784 - val_acc: 0.9381 - val_lr: 0.0020\n",
      "Epoch 11/100\n",
      "219975/219975 [==============================] - 2s 7us/step - loss: 0.1700 - acc: 0.9422 - lr: 0.0020 - val_loss: 0.1928 - val_acc: 0.9277 - val_lr: 0.0020\n",
      "Epoch 12/100\n",
      "219975/219975 [==============================] - 2s 7us/step - loss: 0.1660 - acc: 0.9433 - lr: 0.0020 - val_loss: 0.1618 - val_acc: 0.9456 - val_lr: 0.0020\n",
      "Epoch 13/100\n",
      "219975/219975 [==============================] - 2s 8us/step - loss: 0.1599 - acc: 0.9465 - lr: 0.0020 - val_loss: 0.1562 - val_acc: 0.9484 - val_lr: 0.0020\n",
      "Epoch 14/100\n",
      "219975/219975 [==============================] - 2s 8us/step - loss: 0.1571 - acc: 0.9474 - lr: 0.0020 - val_loss: 0.1615 - val_acc: 0.9457 - val_lr: 0.0020\n",
      "Epoch 15/100\n",
      "219975/219975 [==============================] - 2s 8us/step - loss: 0.1476 - acc: 0.9514 - lr: 0.0020 - val_loss: 0.1453 - val_acc: 0.9538 - val_lr: 0.0020\n",
      "Epoch 16/100\n",
      "219975/219975 [==============================] - 2s 7us/step - loss: 0.1436 - acc: 0.9529 - lr: 0.0020 - val_loss: 0.1785 - val_acc: 0.9354 - val_lr: 0.0020\n",
      "Epoch 17/100\n",
      "219975/219975 [==============================] - 2s 7us/step - loss: 0.1389 - acc: 0.9548 - lr: 0.0020 - val_loss: 0.1348 - val_acc: 0.9573 - val_lr: 0.0020\n",
      "Epoch 18/100\n",
      "219975/219975 [==============================] - 2s 7us/step - loss: 0.1450 - acc: 0.9536 - lr: 0.0020 - val_loss: 0.1318 - val_acc: 0.9595 - val_lr: 0.0020\n"
     ]
    }
   ],
   "source": [
    "# fit the keras model on the dataset\n",
    "history = model.fit(x_train, y_train, validation_data=(x_val, y_val), \n",
    "                    epochs=num_epochs, batch_size=batch_size, callbacks=[es])"
   ]
  },
  {
   "cell_type": "code",
   "execution_count": 20,
   "metadata": {},
   "outputs": [
    {
     "name": "stdout",
     "output_type": "stream",
     "text": [
      "_________________________________________________________________\n",
      "Layer (type)                 Output Shape              Param #   \n",
      "=================================================================\n",
      "dense_1 (Dense)              (None, 8)                 72        \n",
      "_________________________________________________________________\n",
      "dense_2 (Dense)              (None, 12)                108       \n",
      "_________________________________________________________________\n",
      "dense_3 (Dense)              (None, 8)                 104       \n",
      "_________________________________________________________________\n",
      "dense_4 (Dense)              (None, 4)                 36        \n",
      "_________________________________________________________________\n",
      "dense_5 (Dense)              (None, 1)                 5         \n",
      "=================================================================\n",
      "Total params: 325\n",
      "Trainable params: 325\n",
      "Non-trainable params: 0\n",
      "_________________________________________________________________\n",
      "None\n"
     ]
    }
   ],
   "source": [
    "print(model.summary())"
   ]
  },
  {
   "cell_type": "code",
   "execution_count": 21,
   "metadata": {},
   "outputs": [],
   "source": [
    "# Get training and test accuracy histories\n",
    "training_accuracy = history.history['acc']\n",
    "validation_accuracy = history.history['val_acc']"
   ]
  },
  {
   "cell_type": "code",
   "execution_count": 22,
   "metadata": {
    "scrolled": false
   },
   "outputs": [
    {
     "data": {
      "image/png": "[encoded data removed]",
      "text/plain": [
       "<Figure size 720x504 with 1 Axes>"
      ]
     },
     "metadata": {
      "needs_background": "light"
     },
     "output_type": "display_data"
    },
    {
     "data": {
      "text/plain": [
       "<Figure size 720x504 with 0 Axes>"
      ]
     },
     "metadata": {},
     "output_type": "display_data"
    }
   ],
   "source": [
    "epoch_count = range(1, len(training_accuracy) + 1)\n",
    "plt.plot(epoch_count, training_accuracy, 'r--')\n",
    "plt.plot(epoch_count, validation_accuracy, 'b-')\n",
    "plt.legend(['Training Accuracy', 'Validation Accuracy'])\n",
    "plt.xlabel('Epoch')\n",
    "plt.ylabel('Accuracy')\n",
    "plt.xticks(epoch_count)\n",
    "plt.show()\n",
    "\n",
    "plt.tight_layout()"
   ]
  },
  {
   "cell_type": "code",
   "execution_count": 23,
   "metadata": {},
   "outputs": [],
   "source": [
    "# Get training and test accuracy histories\n",
    "training_loss = history.history['loss']\n",
    "validation_loss = history.history['val_loss']"
   ]
  },
  {
   "cell_type": "code",
   "execution_count": 24,
   "metadata": {},
   "outputs": [
    {
     "data": {
      "image/png": "[encoded data removed]",
      "text/plain": [
       "<Figure size 720x504 with 1 Axes>"
      ]
     },
     "metadata": {
      "needs_background": "light"
     },
     "output_type": "display_data"
    },
    {
     "data": {
      "text/plain": [
       "<Figure size 720x504 with 0 Axes>"
      ]
     },
     "metadata": {},
     "output_type": "display_data"
    }
   ],
   "source": [
    "plt.plot(epoch_count, training_loss, 'r--')\n",
    "plt.plot(epoch_count, validation_loss, 'b-')\n",
    "plt.legend(['Training Loss', 'Validation Loss'])\n",
    "plt.xlabel('Epoch')\n",
    "plt.ylabel('Loss')\n",
    "plt.xticks(epoch_count)\n",
    "plt.show()\n",
    "\n",
    "plt.tight_layout()"
   ]
  },
  {
   "cell_type": "markdown",
   "metadata": {},
   "source": [
    "## Save Model"
   ]
  },
  {
   "cell_type": "code",
   "execution_count": null,
   "metadata": {},
   "outputs": [],
   "source": [
    "model_json = model.to_json()\n",
    "with open(filesave + \".json\", \"w\") as json_file:\n",
    "    json_file.write(model_json)\n",
    "# serialize weights to HDF5\n",
    "model.save_weights(filesave + \".h5\")\n",
    "print(\"Saved model to disk\")"
   ]
  },
  {
   "cell_type": "markdown",
   "metadata": {},
   "source": [
    "# Performance Evalution"
   ]
  },
  {
   "cell_type": "code",
   "execution_count": 26,
   "metadata": {},
   "outputs": [],
   "source": [
    "y_pred_test = np.ravel(model.predict(x_test))"
   ]
  },
  {
   "cell_type": "code",
   "execution_count": 27,
   "metadata": {},
   "outputs": [
    {
     "name": "stdout",
     "output_type": "stream",
     "text": [
      "62850/62850 [==============================] - 2s 25us/step\n"
     ]
    }
   ],
   "source": [
    "# evaluate the keras model\n",
    "# model.evalute returns the loss and any metric values passed during compilation\n",
    "loss, accuracy, learning_rate = model.evaluate(x_test, y_pred_test)"
   ]
  },
  {
   "cell_type": "code",
   "execution_count": 28,
   "metadata": {},
   "outputs": [
    {
     "data": {
      "image/png": "[encoded data removed]",
      "text/plain": [
       "<Figure size 720x504 with 1 Axes>"
      ]
     },
     "metadata": {
      "needs_background": "light"
     },
     "output_type": "display_data"
    }
   ],
   "source": [
    "pred_bins = np.linspace(0,1,100)\n",
    "\n",
    "fig, ax = plt.subplots()\n",
    "# fig.suptitle(\"Distribution of NN output for test set\")\n",
    "n, pred_bins, _ = ax.hist(y_pred_test, histtype='step', align='mid', bins=pred_bins)\n",
    "# plt.yscale('log')\n",
    "plt.ylabel('Count')\n",
    "plt.xlabel(r'NN Score')\n",
    "plt.xlim(0,1)\n",
    "\n",
    "plt.show()\n",
    "\n",
    "fig.savefig(plots + \"discriminator_distribution.pdf\")"
   ]
  },
  {
   "cell_type": "code",
   "execution_count": null,
   "metadata": {},
   "outputs": [],
   "source": [
    "true_Higgs_test_mask = (y_test == 1)\n",
    "\n",
    "true_Higgs_pred = y_pred_test[true_Higgs_test_mask]\n",
    "true_non_Higgs_pred = y_pred_test[~true_Higgs_test_mask]\n",
    "\n",
    "non_Higgs_test_m = m_test[~true_Higgs_test_mask]\n",
    "Higgs_test_m = m_test[true_Higgs_test_mask]"
   ]
  },
  {
   "cell_type": "code",
   "execution_count": null,
   "metadata": {},
   "outputs": [],
   "source": [
    "true_positives = np.array(()) # Higgs pairs classified as Higgs pairs :)\n",
    "true_negatives = np.array(()) # Non-Higgs pairs classified as non-Higgs pairs :)\n",
    "false_positives = np.array(()) # Non-Higgs pairs classified as Higgs pairs :(\n",
    "false_negatives = np.array(()) # Higgs pairs classified as non-Higgs pairs\n",
    "\n",
    "cuts = np.linspace(0,1,100)\n",
    "for cut in cuts:\n",
    "    true_positives = np.append(true_positives, np.sum((y_test == 1) & (y_pred_test > cut))/len(y_test))\n",
    "    true_negatives = np.append(true_negatives, np.sum((y_test == 0) & (y_pred_test < cut))/len(y_test))\n",
    "    false_positives = np.append(false_positives, np.sum((y_test == 0) & (y_pred_test > cut))/len(y_test))\n",
    "    false_negatives = np.append(false_negatives, np.sum((y_test == 1) & (y_pred_test < cut))/len(y_test))"
   ]
  },
  {
   "cell_type": "code",
   "execution_count": null,
   "metadata": {},
   "outputs": [],
   "source": [
    "sensitivity = true_positives / (false_positives + true_positives)\n",
    "specificity = true_negatives / (true_negatives + false_positives)\n",
    "precision = true_positives / (true_positives + false_positives)\n",
    "recall = true_positives / (true_positives + false_negatives)"
   ]
  },
  {
   "cell_type": "markdown",
   "metadata": {},
   "source": [
    "# Accuracy"
   ]
  },
  {
   "cell_type": "code",
   "execution_count": null,
   "metadata": {},
   "outputs": [],
   "source": [
    "acc = (true_positives + true_negatives) / (true_positives + true_negatives + false_positives + false_negatives)"
   ]
  },
  {
   "cell_type": "code",
   "execution_count": null,
   "metadata": {},
   "outputs": [],
   "source": [
    "# fig = plt.figure(1)\n",
    "# plt.title('Accuracy')\n",
    "# plt.plot(cuts, acc)\n",
    "# plt.xlabel('NN Score')\n",
    "# plt.ylabel('Accuracy')\n",
    "# plt.ylim(0,1)\n",
    "\n",
    "# # fig1.savefig(plots + \"ROC_curve.pdf\")\n",
    "\n",
    "# plt.show()"
   ]
  },
  {
   "cell_type": "markdown",
   "metadata": {},
   "source": [
    "## F1 Curve"
   ]
  },
  {
   "cell_type": "code",
   "execution_count": null,
   "metadata": {},
   "outputs": [],
   "source": [
    "f1_score = 2*1/(1/precision + 1/recall)"
   ]
  },
  {
   "cell_type": "code",
   "execution_count": null,
   "metadata": {},
   "outputs": [],
   "source": [
    "# fig = plt.figure(1)\n",
    "# # plt.plot([0, 1], [0, 1], 'k--')\n",
    "# plt.title('F1 Score')\n",
    "# plt.plot(cuts, f1_score)\n",
    "# plt.xlabel('NN Score')\n",
    "# plt.ylabel('F1 Score')\n",
    "# # plt.legend(loc='best')\n",
    "\n",
    "# # fig1.savefig(plots + \"ROC_curve.pdf\")\n",
    "\n",
    "# plt.show()"
   ]
  },
  {
   "cell_type": "markdown",
   "metadata": {},
   "source": [
    "## ROC Curve "
   ]
  },
  {
   "cell_type": "code",
   "execution_count": null,
   "metadata": {},
   "outputs": [],
   "source": [
    "fpr, tpr, thresholds_keras = roc_curve(y_test, y_pred_test)\n",
    "nn_auc = auc(fpr, tpr)"
   ]
  },
  {
   "cell_type": "code",
   "execution_count": null,
   "metadata": {},
   "outputs": [],
   "source": [
    "fig1 = plt.figure(1)\n",
    "plt.plot([0, 1], [0, 1], 'k--')\n",
    "plt.plot(fpr, tpr, label='Keras (area = {:.3f})'.format(nn_auc))\n",
    "plt.xlabel('False positive rate')\n",
    "plt.ylabel('True positive rate')\n",
    "plt.title('ROC curve')\n",
    "plt.legend(loc=4)\n",
    "\n",
    "fig1.savefig(plots + \"ROC_curve.pdf\")\n",
    "\n",
    "plt.show()"
   ]
  },
  {
   "cell_type": "code",
   "execution_count": null,
   "metadata": {},
   "outputs": [],
   "source": [
    "total = len(Higgs_test_m)\n",
    "mislabelled_Higgs = np.array(())\n",
    "\n",
    "cuts = np.linspace(0,1,100)\n",
    "for cut in cuts:\n",
    "    mislabelled_Higgs = np.append(mislabelled_Higgs, len(Higgs_test_m[true_Higgs_pred < cut]))\n",
    "mislabelled_Higgs = mislabelled_Higgs / total\n",
    "\n",
    "\n",
    "total = len(non_Higgs_test_m)\n",
    "fake_Higgs = np.array(())\n",
    "\n",
    "cuts = np.linspace(0,1,100)\n",
    "for cut in cuts:\n",
    "    fake_Higgs = np.append(fake_Higgs, len(non_Higgs_test_m[true_non_Higgs_pred > cut]))\n",
    "    \n",
    "fake_Higgs = fake_Higgs / total\n",
    "\n",
    "fig3, ax = plt.subplots()\n",
    "\n",
    "ax.plot(cuts, mislabelled_Higgs, label='Higgs Fail Rate')\n",
    "ax.plot(cuts, fake_Higgs, label='Fake Pass Rate')\n",
    "ax.set_ylabel('Rate')\n",
    "ax.set_xlabel(r'Score Cut')\n",
    "ax.legend()\n",
    "\n",
    "plt.show()\n",
    "\n",
    "fig3.savefig(plots + \"pass_fail_rate.pdf\")"
   ]
  },
  {
   "cell_type": "code",
   "execution_count": null,
   "metadata": {},
   "outputs": [],
   "source": [
    "# fig = plt.figure(1)\n",
    "# # plt.plot([0, 1], [0, 1], 'k--')\n",
    "# plt.plot(fake_Higgs, mislabelled_Higgs)\n",
    "# plt.xlabel('False negative rate')\n",
    "# plt.ylabel('False positive rate')\n",
    "# plt.xlim(0,1)\n",
    "# plt.ylim(0,1)\n",
    "# # plt.title('ROC curve')\n",
    "\n",
    "# # fig1.savefig(plots + \"ROC_curve.pdf\")\n",
    "\n",
    "# plt.show()"
   ]
  },
  {
   "cell_type": "code",
   "execution_count": null,
   "metadata": {},
   "outputs": [],
   "source": [
    "fig2, axs = plt.subplots(nrows=1, ncols=2,figsize=(15,5))\n",
    "# fig.suptitle(\"Distribution of NN output for test set\")\n",
    "\n",
    "ax = axs[0]\n",
    "ax.hist(true_Higgs_pred, histtype='step', align='mid', bins=pred_bins, label='True Higgs pair')\n",
    "ax.hist(true_non_Higgs_pred, histtype='step', align='mid', bins=pred_bins, label='True Non-Higgs pair')\n",
    "# plt.yscale('log')\n",
    "ax.set_ylabel('Count')\n",
    "ax.set_xlabel(r'NN Score')\n",
    "ax.set_xlim(0,1)\n",
    "ax.legend(fontsize=12)\n",
    "\n",
    "ax = axs[1]\n",
    "ax.hist(true_Higgs_pred, histtype='step', align='mid', bins=pred_bins, label='True Higgs pair')\n",
    "ax.hist(true_non_Higgs_pred, histtype='step', align='mid', bins=pred_bins, label='True Non-Higgs pair')\n",
    "plt.yscale('log')\n",
    "ax.set_ylabel('Count')\n",
    "ax.set_xlabel(r'NN Score')\n",
    "ax.set_xlim(0,1)\n",
    "ax.legend()\n",
    "\n",
    "plt.tight_layout()\n",
    "plt.show()\n",
    "\n",
    "fig2.savefig(plots + \"discriminator_distribution_true_v_false.pdf\")"
   ]
  },
  {
   "cell_type": "code",
   "execution_count": null,
   "metadata": {
    "scrolled": false
   },
   "outputs": [],
   "source": [
    "mass_bins = np.linspace(np.min(mjj), np.max(mjj), 100)\n",
    "\n",
    "fig4, axs = plt.subplots(nrows=1, ncols=2, figsize=(15,5))\n",
    "\n",
    "ax = axs[0]\n",
    "ax.set_title(r\"Score vs. $m_{jj}$ for non-Higgs pairs\")\n",
    "n, bx, by, im = ax.hist2d(non_Higgs_test_m, true_non_Higgs_pred, bins=[mass_bins,pred_bins], norm=colors.LogNorm(), cmap=cmap)\n",
    "ax.set_xlabel(r'$m_{jj}$  [GeV]')\n",
    "ax.set_ylabel(r'NN Score')\n",
    "fig.colorbar(im, ax=ax)\n",
    "plt.savefig(plots + \"score_v_nonHiggs_mjj.pdf\")\n",
    "\n",
    "ax = axs[1]\n",
    "ax.set_title(r\"Score vs. $m_{jj}$ for True Higgs pairs\")\n",
    "n, bx, by, im = ax.hist2d(Higgs_test_m, true_Higgs_pred, bins=[mass_bins,pred_bins], norm=colors.LogNorm(), cmap=cmap)\n",
    "ax.set_xlabel(r'$m_{jj}$  [GeV]')\n",
    "ax.set_ylabel(r'NN Score')\n",
    "fig.colorbar(im, ax=ax)\n",
    "plt.savefig(plots + \"score_v_mbb.pdf\")\n",
    "plt.show()"
   ]
  },
  {
   "cell_type": "code",
   "execution_count": null,
   "metadata": {},
   "outputs": [],
   "source": [
    "# nn_score_cuts = [0.2, 0.4, 0.6, 0.8]\n",
    "\n",
    "# fig, axs = plt.subplots(nrows=1, ncols=2, figsize=(15,4))\n",
    "\n",
    "# ax = axs[0]\n",
    "# ax.set_title(\"How many Higgs would we lose for each cut?\")\n",
    "# n, b, _ = ax.hist(Higgs_test_m, histtype='step', align='mid', bins=np.linspace(124,126,100), label='True Higgs, no cut')\n",
    "# ax.hist(Higgs_test_m[true_Higgs_pred > 0.2], histtype='step', align='mid', bins=b, label=r'Score $> 0.2$')\n",
    "# ax.hist(Higgs_test_m[true_Higgs_pred > 0.4], histtype='step', align='mid', bins=b, label=r'Score $> 0.4$')\n",
    "# ax.hist(Higgs_test_m[true_Higgs_pred > 0.6], histtype='step', align='mid', bins=b, label=r'Score $> 0.6$')\n",
    "# ax.hist(Higgs_test_m[true_Higgs_pred > 0.8], histtype='step', align='mid', bins=b, label=r'Score $> 0.8$')\n",
    "# ax.set_yscale('log')\n",
    "# ax.set_ylabel('Count')\n",
    "# ax.set_xlabel(r'$m_{jj}$ [GeV]')\n",
    "# ax.legend(fontsize=10)\n",
    "\n",
    "# ax = axs[1]\n",
    "# ax.set_title(\"How many non-Higgs pass the cut?\")\n",
    "# n, b, _  = ax.hist(non_Higgs_test_m, histtype='step', align='mid', bins=np.linspace(0,500,100), label='Non-Higgs, no cut')\n",
    "# ax.hist(non_Higgs_test_m[true_non_Higgs_pred > 0.2], histtype='step', align='mid', bins=b, label=r'Score $> 0.2$')\n",
    "# ax.hist(non_Higgs_test_m[true_non_Higgs_pred > 0.4], histtype='step', align='mid', bins=b, label=r'Score $> 0.4$')\n",
    "# ax.hist(non_Higgs_test_m[true_non_Higgs_pred > 0.6], histtype='step', align='mid', bins=b, label=r'Score $> 0.6$')\n",
    "# ax.hist(non_Higgs_test_m[true_non_Higgs_pred > 0.8], histtype='step', align='mid', bins=b, label=r'Score $> 0.8$')\n",
    "# ax.set_yscale('log')\n",
    "# ax.set_ylabel('Count')\n",
    "# ax.set_xlabel(r'$m_{jj}$ [GeV]')\n",
    "# ax.legend(fontsize=10, loc=8)\n",
    "\n",
    "# plt.show()"
   ]
  },
  {
   "cell_type": "code",
   "execution_count": null,
   "metadata": {},
   "outputs": [],
   "source": [
    "# fig, ax = plt.subplots()\n",
    "# fig.suptitle(\"Mass of pairs with low predicted scores\")\n",
    "# ax.hist(m_test[y_pred_test < 0.05], bins=100, label=r'Score $<$ 0.05', histtype='step', align='mid')\n",
    "# plt.ylabel('Count')\n",
    "# plt.xlabel(r'$m_{jj}$  [GeV]')\n",
    "# plt.legend()\n",
    "# plt.show()"
   ]
  },
  {
   "cell_type": "code",
   "execution_count": null,
   "metadata": {},
   "outputs": [],
   "source": [
    "# deltaR = calculate_deltaR(X_test[:,1], X_test[:,4], X_test[:,2], X_test[:,5])\n",
    "\n",
    "# non_Higgs_pred = y_pred_test[~true_Higgs_test_mask]\n",
    "# non_Higgs_deltaR = deltaR[~true_Higgs_test_mask]"
   ]
  },
  {
   "cell_type": "code",
   "execution_count": null,
   "metadata": {},
   "outputs": [],
   "source": []
  },
  {
   "cell_type": "code",
   "execution_count": null,
   "metadata": {},
   "outputs": [],
   "source": [
    "# fig, ax = plt.subplots()\n",
    "# fig.suptitle(\"Low scoring Delta R distribution\")\n",
    "# ax.hist(deltaR[y_pred_test < 0.05], bins=100, label=r'Score $<$ 0.05', histtype='step', align='mid')\n",
    "# ax.hist(deltaR[true_Higgs_test_mask], bins=100, histtype='step', align='mid', label='True Higgs Pairs')\n",
    "# plt.ylabel('Count')\n",
    "# plt.xlabel(r'$\\Delta R$')\n",
    "# plt.legend()\n",
    "# plt.show()"
   ]
  },
  {
   "cell_type": "code",
   "execution_count": null,
   "metadata": {},
   "outputs": [],
   "source": [
    "# fig, ax = plt.subplots()\n",
    "# fig.suptitle(\"High scoring Delta R distribution\")\n",
    "# ax.hist(non_Higgs_deltaR[non_Higgs_pred > 0.8], bins=100, label=r'Non-Higgs with Score $>$ 0.8', histtype='step', align='mid')\n",
    "# ax.hist(deltaR[true_Higgs_test_mask], bins=100, histtype='step', align='mid', label='True Higgs Pairs')\n",
    "# plt.ylabel('Count')\n",
    "# plt.xlabel(r'$\\Delta R$')\n",
    "# plt.yscale('log')\n",
    "# plt.legend()\n",
    "# plt.show()"
   ]
  },
  {
   "cell_type": "code",
   "execution_count": null,
   "metadata": {},
   "outputs": [],
   "source": [
    "# fig, ax = plt.subplots()\n",
    "# fig.suptitle(\"Low scoring Delta R distribution\")\n",
    "# ax.hist(non_Higgs_deltaR[non_Higgs_pred < 0.05], bins=100, label=r'Non-Higgs with Score $<$ 0.05', histtype='step', align='mid')\n",
    "# ax.hist(deltaR[y_pred_test < 0.05], bins=100, label=r'Score $<$ 0.05', histtype='step', align='mid')\n",
    "# plt.ylabel('Count')\n",
    "# plt.xlabel(r'$\\Delta R$')\n",
    "# plt.legend()\n",
    "# plt.show()"
   ]
  },
  {
   "cell_type": "code",
   "execution_count": null,
   "metadata": {},
   "outputs": [],
   "source": [
    "# non_Higgs_mass = m_test[~true_Higgs_test_mask]\n",
    "# dR_bins = np.linspace(np.min(deltaR), np.max(deltaR), 20)\n",
    "\n",
    "# fig, ax = plt.subplots()\n",
    "# fig.suptitle(\"Delta R dist for non-Higgs with mjj~125 GeV\")\n",
    "# ax.hist(non_Higgs_deltaR[(abs(non_Higgs_mass-125) < 0.6)], bins=dR_bins, label=r'Non-Higgs with $|m_{jj}-m_H|<0.6$ GeV', histtype='step', align='mid')\n",
    "# plt.ylabel('Count')\n",
    "# plt.xlabel(r'$\\Delta R$')\n",
    "# plt.legend()\n",
    "# plt.show()"
   ]
  },
  {
   "cell_type": "code",
   "execution_count": null,
   "metadata": {},
   "outputs": [],
   "source": [
    "# non_Higgs_deltaR[(abs(non_Higgs_mass-125) < 0.6)]\n",
    "                 \n",
    "# fig, ax = plt.subplots()\n",
    "# fig.suptitle(r\"Score vs. $m_{jj}$ for non-Higgs pairs with $|m_{jj} - m_H|   < 0.6$ GeV\")\n",
    "# n, bx, by, im = ax.hist2d(non_Higgs_deltaR[(abs(non_Higgs_mass-125) < 0.6)], y_pred_test[~true_Higgs_test_mask][(abs(non_Higgs_mass-125) < 0.6)], bins=[100,pred_bins], cmap=cmap)\n",
    "# ax.set_xlabel(r'$\\Delta R$')\n",
    "# ax.set_ylabel(r'NN Score')\n",
    "# ax.set_ylim(0,1)\n",
    "# fig.colorbar(im, ax=ax)\n",
    "# # plt.savefig(\"score_v_nonHiggs_mjj.pdf\")\n",
    "# plt.show()"
   ]
  },
  {
   "cell_type": "code",
   "execution_count": null,
   "metadata": {},
   "outputs": [],
   "source": [
    "# fig, ax = plt.subplots()\n",
    "# # fig.suptitle(r\"Score vs. $m_{jj}$ for non-Higgs pairs\")\n",
    "# n, bx, by, im = ax.hist2d(deltaR[~true_Higgs_test_mask], y_pred_test[~true_Higgs_test_mask], bins=[100,pred_bins], norm=colors.LogNorm(), cmap=cmap)\n",
    "# ax.set_xlabel(r'$\\Delta R$')\n",
    "# ax.set_ylabel(r'NN Score')\n",
    "# fig.colorbar(im, ax=ax)\n",
    "# ax.set_ylim(0,1)\n",
    "# # plt.savefig(\"score_v_nonHiggs_mjj.pdf\")\n",
    "# plt.show()"
   ]
  },
  {
   "cell_type": "code",
   "execution_count": null,
   "metadata": {
    "scrolled": false
   },
   "outputs": [],
   "source": [
    "h_act = ''\n",
    "for funcs in hidden_activations:\n",
    "    h_act = h_act + funcs + ', '\n",
    "\n",
    "print(\"Training set:                {:d}%, {:d}\".format(int(len(x_train)/len(X)*100), int(len(x_train))))\n",
    "print(\"Validation set:              {:d}%, {:d}\".format(int(len(x_val)/len(X)*100), int(len(x_val))))\n",
    "print(\"Testing set:                 {:d}%, {:d}\".format(int(len(x_test)/len(X)*100), int(len(x_test))))\n",
    "print(\"Class 0 (Non-Higgs  Pair):   {:.0f}%, {:d}\".format(np.sum(y == 0)/len(y)*100, np.sum(y == 0)))\n",
    "print(\"Class 1 (Higgs Pair):        {:.0f}%, {:d}\".format(np.sum(y == 1)/len(y)*100, np.sum(y == 1)))\n",
    "print(\"Input parameters:           \", param_dim, inputs['params'])\n",
    "print(\"Optimizer:                  \", optimizer)\n",
    "print(\"Loss:                       \", loss_function)\n",
    "print(\"Num epochs:                 \", num_epochs)\n",
    "print(\"Batch size:                 \", batch_size)\n",
    "print(\"Num input nodes:            \", input_nodes)\n",
    "print(\"Input activation function:  \", input_activation)\n",
    "print(\"Num hidden layers:          \", num_hidden)\n",
    "print(\"Hidden layer nodes:         \", nodes)\n",
    "print(\"Hidden activation functions:\", h_act[:-2])\n",
    "print(\"Num output nodes:           \", output_nodes)\n",
    "print(\"Output activation function: \", output_activation)"
   ]
  },
  {
   "cell_type": "code",
   "execution_count": null,
   "metadata": {},
   "outputs": [],
   "source": [
    "# with PdfPages(plots + 'classifier_analysis.pdf') as pdf:\n",
    "\n",
    "#     ######################################\n",
    "\n",
    "# #     fig, axs = plt.subplots(nrows=2,ncols=1)\n",
    "\n",
    "# #     ax = axs[0]\n",
    "# #     ax.axis('tight')\n",
    "# #     ax.axis('off')\n",
    "# #     the_table = ax.table(cellText=nn_structure.values, rowLabels=nn_structure.index,loc='center', edges='vertical')\n",
    "\n",
    "# #     ax = axs[1]\n",
    "# #     ax.axis('tight')\n",
    "# #     ax.axis('off')\n",
    "# #     # plotting.table(ax, nn_architecture)\n",
    "# #     the_table = ax.table(cellText=nn_architecture.values, rowLabels=nn_architecture.index,loc='center', edges='vertical', cellLoc='center')\n",
    "\n",
    "# #     # plt.tight_layout()\n",
    "# #     plt.subplots_adjust(top=0.97, bottom=0.08, left=0.5, right=0.9, hspace=0.10, wspace=0.20)\n",
    "\n",
    "# #     pdf.savefig()  # saves the current figure into a pdf page\n",
    "# #     plt.close()\n",
    "\n",
    "# #     #########################################\n",
    "\n",
    "#     Higgs_mask = exp_y == 1\n",
    "#     fig, ax = plt.subplots(nrows=1, ncols=1)\n",
    "#     fig.suptitle(\"Verification that True Higgs pairs have Higgs mass\")\n",
    "\n",
    "#     bins = np.linspace(np.min(mjj),  np.max(mjj), 100)\n",
    "#     n, bins, _ = ax.hist(exp_mjj[Higgs_mask], histtype='step', align='mid', bins=bins, label='Higgs Pairs')\n",
    "#     ax.hist(exp_mjj[~Higgs_mask], histtype='step', align='mid', bins=bins, label='Combinatoric Backround Pairs')\n",
    "#     ax.set_yscale('log')\n",
    "#     ax.set_ylabel('Count')\n",
    "#     ax.set_xlabel(r'$m_{jj}$ [GeV]')\n",
    "#     ax.legend()\n",
    "\n",
    "#     pdf.savefig()  # saves the current figure into a pdf page\n",
    "#     plt.close()\n",
    "\n",
    "#     #####################################\n",
    "\n",
    "#     # fig = plt.figure()\n",
    "#     epoch_count = range(1, len(training_accuracy) + 1)\n",
    "#     plt.plot(epoch_count, training_accuracy, 'r--')\n",
    "#     plt.plot(epoch_count, validation_accuracy, 'b-')\n",
    "#     plt.legend(['Training Accuracy', 'Validation Accuracy'], loc=4)\n",
    "#     plt.xlabel('Epoch')\n",
    "#     plt.ylabel('Accuracy Score')\n",
    "\n",
    "#     pdf.savefig()\n",
    "#     plt.close()\n",
    "\n",
    "    \n",
    "#     #########################################\n",
    "\n",
    "#     fig = plt.figure(1)\n",
    "#     plt.plot([0, 1], [0, 1], 'k--')\n",
    "#     plt.plot(fpr, tpr, label='Keras (area = {:.3f})'.format(auc_keras))\n",
    "#     plt.xlabel('False positive rate')\n",
    "#     plt.ylabel('True positive rate')\n",
    "#     plt.title('ROC curve')\n",
    "#     plt.legend(loc='best')\n",
    "#     # plt.plot([0.1,0.1],[0,1], '--')\n",
    "\n",
    "#     pdf.savefig(fig)  # or you can pass a Figure object to pdf.savefig\n",
    "#     plt.close()\n",
    "\n",
    "\n",
    "#     #########################################\n",
    "\n",
    "\n",
    "#     fig, ax = plt.subplots()\n",
    "#     fig.suptitle(\"Distribution of NN output for test set\")\n",
    "#     n, bins, _ = ax.hist(y_pred_test, histtype='step', align='mid', bins=50)\n",
    "#     # plt.yscale('log')\n",
    "#     plt.ylabel('Count')\n",
    "#     plt.xlabel(r'NN Score')\n",
    "#     plt.xlim(0,1)\n",
    "#     plt.legend()\n",
    "\n",
    "#     pdf.savefig()\n",
    "#     plt.close()\n",
    "\n",
    "#     #####################################\n",
    "\n",
    "\n",
    "\n",
    "#     fig, ax = plt.subplots()\n",
    "#     fig.suptitle(\"Distribution of NN output for test set\")\n",
    "#     ax.hist(y_pred_test[Higgs_test_mask], histtype='step', align='mid', bins=bins, label='True Higgs pair')\n",
    "#     ax.hist(y_pred_test[~Higgs_test_mask], histtype='step', align='mid', bins=bins, label='True Non-Higgs pair')\n",
    "#     # plt.yscale('log')\n",
    "#     plt.ylabel('Count')\n",
    "#     plt.xlabel(r'NN Score')\n",
    "#     plt.xlim(0,1)\n",
    "#     plt.legend()\n",
    "\n",
    "#     pdf.savefig()\n",
    "#     plt.close()\n",
    "\n",
    "#     #####################################\n",
    "\n",
    "#     fig, ax = plt.subplots()\n",
    "#     fig.suptitle(r\"Score vs. $m_{jj}$ for non-Higgs pairs\")\n",
    "#     n, bx, by, im = ax.hist2d(m_test[~Higgs_test_mask], y_pred_test[~Higgs_test_mask], bins=[100,np.linspace(0,1,50)], norm=colors.LogNorm(), cmap=cmap)\n",
    "#     ax.set_xlabel(r'$m_{jj}$  [GeV]')\n",
    "#     ax.set_ylabel(r'NN Score')\n",
    "#     fig.colorbar(im, ax=ax)\n",
    "\n",
    "#     pdf.savefig()\n",
    "#     plt.close()\n"
   ]
  },
  {
   "cell_type": "code",
   "execution_count": null,
   "metadata": {},
   "outputs": [],
   "source": []
  }
 ],
 "metadata": {
  "kernelspec": {
   "display_name": "Python 3",
   "language": "python",
   "name": "python3"
  },
  "language_info": {
   "codemirror_mode": {
    "name": "ipython",
    "version": 3
   },
   "file_extension": ".py",
   "mimetype": "text/x-python",
   "name": "python",
   "nbconvert_exporter": "python",
   "pygments_lexer": "ipython3",
   "version": "3.7.6"
  }
 },
 "nbformat": 4,
 "nbformat_minor": 4
}

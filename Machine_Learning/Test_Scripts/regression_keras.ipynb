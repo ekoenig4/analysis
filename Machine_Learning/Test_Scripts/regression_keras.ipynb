{
 "cells": [
  {
   "cell_type": "code",
   "execution_count": 1,
   "metadata": {},
   "outputs": [
    {
     "name": "stderr",
     "output_type": "stream",
     "text": [
      "Using TensorFlow backend.\n"
     ]
    },
    {
     "name": "stdout",
     "output_type": "stream",
     "text": [
      "Using version 2.2.4 of Keras.\n"
     ]
    }
   ],
   "source": [
    "import keras\n",
    "from keras.models import Sequential\n",
    "from keras.layers import Dense, Dropout, Activation, Flatten, LeakyReLU\n",
    "from keras.callbacks import EarlyStopping\n",
    "# To control learning rate:\n",
    "from keras import backend as K\n",
    "import h5py\n",
    "\n",
    "print(\"Using version {} of Keras.\".format(keras.__version__))\n",
    "\n",
    "import datetime\n",
    "import numpy as np\n",
    "from matplotlib.backends.backend_pdf import PdfPages\n",
    "import matplotlib.pyplot as plt\n",
    "plt.rc('text', usetex=True)\n",
    "from sklearn.preprocessing import MinMaxScaler\n",
    "from sklearn.model_selection import train_test_split\n",
    "from collections import OrderedDict\n",
    "\n",
    "\n",
    "from pandas import DataFrame, plotting\n",
    "\n",
    "import matplotlib.colors as colors\n",
    "cmap = 'rainbow'"
   ]
  },
  {
   "cell_type": "code",
   "execution_count": 2,
   "metadata": {},
   "outputs": [],
   "source": [
    "# Load dataset\n",
    "\n",
    "    # classifier dataset, constructed by randomly choosing three\n",
    "    # incorrect b pairs to match the number of incorrect b pairs.\n",
    "# dataset = np.load('6b_Datasets/MX700_MY400_random_bpairs_ptetaphimDetaDphi_binary_dataset.npz') \n",
    "dataset = np.load('nn_input_MX700_MY400_classifier.npz')\n",
    "    \n",
    "    # regression dataset\n",
    "# dataset = np.load('6b_Datasets/MX700_MY400_Yreg_dataset.npz')\n",
    "\n",
    "\n",
    "\n",
    "# Define output\n",
    "y = dataset['y']\n",
    "Higgs_pair_mask = y == 1\n",
    "\n",
    "# Define parameters\n",
    "X = dataset['x']\n",
    "X = X[Higgs_pair_mask]\n",
    "\n",
    "# Used to compare score with dijet invariant mass\n",
    "mjj = dataset['mjj'] # GeV\n",
    "y = mjj[Higgs_pair_mask]**2\n",
    "y_norm_factor = np.max(y)\n",
    "# y_norm_factor = 1\n",
    "y = y/y_norm_factor"
   ]
  },
  {
   "cell_type": "code",
   "execution_count": 3,
   "metadata": {},
   "outputs": [
    {
     "data": {
      "text/plain": [
       "<matplotlib.legend.Legend at 0x7f6562bd5350>"
      ]
     },
     "execution_count": 3,
     "metadata": {},
     "output_type": "execute_result"
    },
    {
     "data": {
      "image/png": "[encoded data removed]",
      "text/plain": [
       "<Figure size 432x288 with 1 Axes>"
      ]
     },
     "metadata": {
      "needs_background": "light"
     },
     "output_type": "display_data"
    }
   ],
   "source": [
    "Higgs_mask = y == 1\n",
    "fig, axs = plt.subplots(nrows=1, ncols=1)\n",
    "fig.suptitle(\"Verification that True Higgs pairs have Higgs mass\")\n",
    "\n",
    "ax = axs\n",
    "# ax.set_title(\"Verification that True Higgs pairs have Higgs mass\")\n",
    "bins = np.linspace(0,  200, 200)\n",
    "n, bins, _ = ax.hist(np.sqrt(y*y_norm_factor), histtype='step', align='mid', bins=bins, label='Higgs Pairs')\n",
    "ax.set_yscale('log')\n",
    "ax.set_ylabel('Count')\n",
    "ax.set_xlabel(r'$m_{jj}$ [GeV]')\n",
    "ax.legend()"
   ]
  },
  {
   "cell_type": "code",
   "execution_count": 4,
   "metadata": {},
   "outputs": [
    {
     "name": "stdout",
     "output_type": "stream",
     "text": [
      "Training set:    210000\n",
      "Validation set:  30000\n",
      "Testing set:     60000\n",
      "Input parameters: 7\n"
     ]
    }
   ],
   "source": [
    "xscaler = MinMaxScaler()\n",
    "xscaler.fit(X)\n",
    "xnormalized = xscaler.transform(X)\n",
    "xinverse = xscaler.inverse_transform(xnormalized)\n",
    "\n",
    "test_size = 0.20\n",
    "val_size = 0.125\n",
    "# Split dataset into training and test sets. Test set is 20% of total dataset, training set is 80% of total dataset.\n",
    "x_train, x_test, y_train, y_test = train_test_split(xnormalized, y, test_size=test_size, random_state=42)\n",
    "# Split training dataset into training set and validation set. Validation set is 12.5% of initial training set and new training set is 87.5% of initial training set (87.5% of 80% is 70%)\n",
    "x_train, x_val, y_train, y_val = train_test_split(x_train, y_train, test_size=val_size, random_state=42)\n",
    "\n",
    "print(\"Training set:   \", len(x_train))\n",
    "print(\"Validation set: \", len(x_val))\n",
    "print(\"Testing set:    \", len(x_test))\n",
    "\n",
    "param_dim = np.shape(x_train)[1]\n",
    "print(\"Input parameters:\",param_dim) # Use this as a guide for how many nodes to use in hidden layers"
   ]
  },
  {
   "cell_type": "code",
   "execution_count": 5,
   "metadata": {},
   "outputs": [
    {
     "name": "stderr",
     "output_type": "stream",
     "text": [
      "WARNING: Logging before flag parsing goes to stderr.\n",
      "W0115 05:48:38.116342 140075689846592 deprecation_wrapper.py:119] From /cvmfs/sft.cern.ch/lcg/views/LCG_97apython3/x86_64-centos7-gcc8-opt/lib/python3.7/site-packages/keras/backend/tensorflow_backend.py:74: The name tf.get_default_graph is deprecated. Please use tf.compat.v1.get_default_graph instead.\n",
      "\n",
      "W0115 05:48:38.158049 140075689846592 deprecation_wrapper.py:119] From /cvmfs/sft.cern.ch/lcg/views/LCG_97apython3/x86_64-centos7-gcc8-opt/lib/python3.7/site-packages/keras/backend/tensorflow_backend.py:517: The name tf.placeholder is deprecated. Please use tf.compat.v1.placeholder instead.\n",
      "\n",
      "W0115 05:48:38.164903 140075689846592 deprecation_wrapper.py:119] From /cvmfs/sft.cern.ch/lcg/views/LCG_97apython3/x86_64-centos7-gcc8-opt/lib/python3.7/site-packages/keras/backend/tensorflow_backend.py:4138: The name tf.random_uniform is deprecated. Please use tf.random.uniform instead.\n",
      "\n",
      "W0115 05:48:38.203065 140075689846592 deprecation.py:323] From /cvmfs/sft.cern.ch/lcg/views/LCG_97apython3/x86_64-centos7-gcc8-opt/lib/python3.7/site-packages/keras/backend/tensorflow_backend.py:3217: add_dispatch_support.<locals>.wrapper (from tensorflow.python.ops.array_ops) is deprecated and will be removed in a future version.\n",
      "Instructions for updating:\n",
      "Use tf.where in 2.0, which has the same broadcast rule as np.where\n"
     ]
    }
   ],
   "source": [
    "# define the keras model\n",
    "model = Sequential()\n",
    "\n",
    "# Input layers\n",
    "input_activation = 'selu'\n",
    "input_nodes = 7\n",
    "model.add(Dense(input_nodes, input_dim=param_dim, activation=input_activation))\n",
    "\n",
    "# Hidden layers\n",
    "nodes = [64,64,128,128,64]\n",
    "hidden_activations = ['selu'] * len(nodes)\n",
    "assert(len(nodes) == len(hidden_activations))\n",
    "num_hidden = len(nodes)\n",
    "for i in range(num_hidden):\n",
    "    model.add(Dense(nodes[i], activation=hidden_activations[i]))\n",
    "\n",
    "# Output layer\n",
    "output_activation = 'linear'\n",
    "output_nodes = 1\n",
    "model.add(Dense(output_nodes, activation=output_activation))"
   ]
  },
  {
   "cell_type": "code",
   "execution_count": 6,
   "metadata": {},
   "outputs": [
    {
     "name": "stderr",
     "output_type": "stream",
     "text": [
      "W0115 05:48:38.417462 140075689846592 deprecation_wrapper.py:119] From /cvmfs/sft.cern.ch/lcg/views/LCG_97apython3/x86_64-centos7-gcc8-opt/lib/python3.7/site-packages/keras/optimizers.py:790: The name tf.train.Optimizer is deprecated. Please use tf.compat.v1.train.Optimizer instead.\n",
      "\n"
     ]
    }
   ],
   "source": [
    "# optimizer = keras.optimizers.Adam(lr=0.0001)\n",
    "# optimizer = keras.optimizers.Adam(lr=0.0001, beta_1=0.7, beta_2=0.3, epsilon=0.1)\n",
    "optimizer = keras.optimizers.Nadam()\n",
    "\n",
    "def get_lr_metric(optimizer):\n",
    "    def lr(y_true, y_pred):\n",
    "        return optimizer.lr\n",
    "    return lr\n",
    "\n",
    "lr_metric = get_lr_metric(optimizer)\n",
    "\n",
    "es = EarlyStopping(monitor='loss', restore_best_weights=True)\n",
    "\n",
    "loss = 'mse'\n",
    "\n",
    "def percentage_difference(y_true, y_pred):\n",
    "    return K.mean(abs(y_pred/y_true - 1) * 100)\n",
    "\n",
    "model.compile(loss=loss, optimizer=optimizer, metrics=['mean_squared_error',lr_metric, percentage_difference])"
   ]
  },
  {
   "cell_type": "code",
   "execution_count": 7,
   "metadata": {},
   "outputs": [
    {
     "name": "stderr",
     "output_type": "stream",
     "text": [
      "W0115 05:48:39.629176 140075689846592 deprecation_wrapper.py:119] From /cvmfs/sft.cern.ch/lcg/views/LCG_97apython3/x86_64-centos7-gcc8-opt/lib/python3.7/site-packages/keras/backend/tensorflow_backend.py:986: The name tf.assign_add is deprecated. Please use tf.compat.v1.assign_add instead.\n",
      "\n",
      "W0115 05:48:39.871344 140075689846592 deprecation_wrapper.py:119] From /cvmfs/sft.cern.ch/lcg/views/LCG_97apython3/x86_64-centos7-gcc8-opt/lib/python3.7/site-packages/keras/backend/tensorflow_backend.py:973: The name tf.assign is deprecated. Please use tf.compat.v1.assign instead.\n",
      "\n"
     ]
    },
    {
     "name": "stdout",
     "output_type": "stream",
     "text": [
      "Train on 210000 samples, validate on 30000 samples\n",
      "Epoch 1/100\n",
      "210000/210000 [==============================] - 10s 46us/step - loss: 0.0261 - mean_squared_error: 0.0261 - lr: 0.0020 - percentage_difference: 7.2188 - val_loss: 0.0032 - val_mean_squared_error: 0.0032 - val_lr: 0.0020 - val_percentage_difference: 5.4062\n",
      "Epoch 2/100\n",
      "210000/210000 [==============================] - 9s 42us/step - loss: 0.0015 - mean_squared_error: 0.0015 - lr: 0.0020 - percentage_difference: 3.2493 - val_loss: 9.1437e-04 - val_mean_squared_error: 9.1437e-04 - val_lr: 0.0020 - val_percentage_difference: 2.6473\n",
      "Epoch 3/100\n",
      "210000/210000 [==============================] - 9s 41us/step - loss: 6.3747e-04 - mean_squared_error: 6.3747e-04 - lr: 0.0020 - percentage_difference: 2.2098 - val_loss: 5.7908e-04 - val_mean_squared_error: 5.7908e-04 - val_lr: 0.0020 - val_percentage_difference: 2.0718\n",
      "Epoch 4/100\n",
      "210000/210000 [==============================] - 9s 42us/step - loss: 5.0837e-04 - mean_squared_error: 5.0837e-04 - lr: 0.0020 - percentage_difference: 1.8888 - val_loss: 4.2609e-04 - val_mean_squared_error: 4.2609e-04 - val_lr: 0.0020 - val_percentage_difference: 1.7593\n",
      "Epoch 5/100\n",
      "210000/210000 [==============================] - 9s 42us/step - loss: 3.0116e-04 - mean_squared_error: 3.0116e-04 - lr: 0.0020 - percentage_difference: 1.5020 - val_loss: 4.2447e-04 - val_mean_squared_error: 4.2447e-04 - val_lr: 0.0020 - val_percentage_difference: 1.8596\n",
      "Epoch 6/100\n",
      "210000/210000 [==============================] - 9s 42us/step - loss: 2.8368e-04 - mean_squared_error: 2.8368e-04 - lr: 0.0020 - percentage_difference: 1.3903 - val_loss: 1.4629e-04 - val_mean_squared_error: 1.4629e-04 - val_lr: 0.0020 - val_percentage_difference: 1.0896\n",
      "Epoch 7/100\n",
      "210000/210000 [==============================] - 9s 42us/step - loss: 1.9258e-04 - mean_squared_error: 1.9258e-04 - lr: 0.0020 - percentage_difference: 1.1760 - val_loss: 2.1204e-04 - val_mean_squared_error: 2.1204e-04 - val_lr: 0.0020 - val_percentage_difference: 1.3529\n",
      "Epoch 8/100\n",
      "210000/210000 [==============================] - 9s 42us/step - loss: 1.8094e-04 - mean_squared_error: 1.8094e-04 - lr: 0.0020 - percentage_difference: 1.2107 - val_loss: 2.1345e-04 - val_mean_squared_error: 2.1345e-04 - val_lr: 0.0020 - val_percentage_difference: 1.2594\n",
      "Epoch 9/100\n",
      "210000/210000 [==============================] - 9s 42us/step - loss: 1.5193e-04 - mean_squared_error: 1.5193e-04 - lr: 0.0020 - percentage_difference: 1.0106 - val_loss: 6.3419e-05 - val_mean_squared_error: 6.3419e-05 - val_lr: 0.0020 - val_percentage_difference: 0.7356\n",
      "Epoch 10/100\n",
      "210000/210000 [==============================] - 8s 39us/step - loss: 1.4757e-04 - mean_squared_error: 1.4757e-04 - lr: 0.0020 - percentage_difference: 1.0415 - val_loss: 4.0759e-05 - val_mean_squared_error: 4.0759e-05 - val_lr: 0.0020 - val_percentage_difference: 0.5716\n",
      "Epoch 11/100\n",
      "210000/210000 [==============================] - 9s 42us/step - loss: 1.0093e-04 - mean_squared_error: 1.0093e-04 - lr: 0.0020 - percentage_difference: 0.8875 - val_loss: 1.3435e-04 - val_mean_squared_error: 1.3435e-04 - val_lr: 0.0020 - val_percentage_difference: 1.0995\n",
      "Epoch 12/100\n",
      "210000/210000 [==============================] - 9s 41us/step - loss: 0.5635 - mean_squared_error: 0.5635 - lr: 0.0020 - percentage_difference: 11.8493 - val_loss: 3.6745e-04 - val_mean_squared_error: 3.6745e-04 - val_lr: 0.0020 - val_percentage_difference: 1.2177\n"
     ]
    }
   ],
   "source": [
    "# fit the keras model on the dataset\n",
    "num_epochs = 100\n",
    "num_batch_size = 500\n",
    "history = model.fit(x_train, y_train, validation_data=(x_val, y_val), epochs=num_epochs, batch_size=num_batch_size, callbacks=[es])"
   ]
  },
  {
   "cell_type": "code",
   "execution_count": 8,
   "metadata": {},
   "outputs": [],
   "source": [
    "# evaluate the keras model\n",
    "# model.evalute returns the loss and any metric values passed during compilation\n",
    "# loss, accuracy, learning_rate = model.evaluate(xnormalized, y)\n",
    "# print('Accuracy: %.2f' % (accuracy*100.))"
   ]
  },
  {
   "cell_type": "code",
   "execution_count": 9,
   "metadata": {},
   "outputs": [
    {
     "name": "stdout",
     "output_type": "stream",
     "text": [
      "_________________________________________________________________\n",
      "Layer (type)                 Output Shape              Param #   \n",
      "=================================================================\n",
      "dense_1 (Dense)              (None, 7)                 56        \n",
      "_________________________________________________________________\n",
      "dense_2 (Dense)              (None, 64)                512       \n",
      "_________________________________________________________________\n",
      "dense_3 (Dense)              (None, 64)                4160      \n",
      "_________________________________________________________________\n",
      "dense_4 (Dense)              (None, 128)               8320      \n",
      "_________________________________________________________________\n",
      "dense_5 (Dense)              (None, 128)               16512     \n",
      "_________________________________________________________________\n",
      "dense_6 (Dense)              (None, 64)                8256      \n",
      "_________________________________________________________________\n",
      "dense_7 (Dense)              (None, 1)                 65        \n",
      "=================================================================\n",
      "Total params: 37,881\n",
      "Trainable params: 37,881\n",
      "Non-trainable params: 0\n",
      "_________________________________________________________________\n",
      "None\n"
     ]
    }
   ],
   "source": [
    "print(model.summary())"
   ]
  },
  {
   "cell_type": "code",
   "execution_count": 10,
   "metadata": {},
   "outputs": [
    {
     "data": {
      "image/png": "[encoded data removed]",
      "text/plain": [
       "<Figure size 432x288 with 1 Axes>"
      ]
     },
     "metadata": {
      "needs_background": "light"
     },
     "output_type": "display_data"
    }
   ],
   "source": [
    "# Get training and test accuracy histories\n",
    "training_mse = history.history['mean_squared_error']\n",
    "validation_mse = history.history['val_mean_squared_error']\n",
    "\n",
    "epoch_count = range(1, len(training_mse) + 1)\n",
    "plt.plot(epoch_count, training_mse, 'r--')\n",
    "plt.plot(epoch_count, validation_mse, 'b-')\n",
    "plt.legend(['Training MSE', 'Validation MSE'])\n",
    "plt.xlabel('Epoch')\n",
    "plt.ylabel('Mean Squared Error')\n",
    "plt.show()"
   ]
  },
  {
   "cell_type": "code",
   "execution_count": 16,
   "metadata": {},
   "outputs": [],
   "source": [
    "y_pred_keras = np.ravel(model.predict(x_test))*y_norm_factor\n",
    "y_pred_keras = np.sqrt(y_pred_keras)\n",
    "\n",
    "y_test = np.sqrt(y_test*y_norm_factor)"
   ]
  },
  {
   "cell_type": "code",
   "execution_count": 17,
   "metadata": {},
   "outputs": [
    {
     "data": {
      "image/png": "[encoded data removed]",
      "text/plain": [
       "<Figure size 432x288 with 1 Axes>"
      ]
     },
     "metadata": {
      "needs_background": "light"
     },
     "output_type": "display_data"
    }
   ],
   "source": [
    "fig, ax = plt.subplots()\n",
    "fig.suptitle(\"Distribution of NN output for test set\")\n",
    "n, bins, _ = ax.hist(y_pred_keras, histtype='step', align='mid', bins=100)\n",
    "# plt.yscale('log')\n",
    "ax.set_ylabel('Count')\n",
    "ax.set_xlabel(r'$m_{bb}^\\mathrm{NN}$ [GeV]')\n",
    "ax.ticklabel_format(useOffset=False, style='plain')"
   ]
  },
  {
   "cell_type": "code",
   "execution_count": 19,
   "metadata": {},
   "outputs": [
    {
     "data": {
      "text/plain": [
       "<matplotlib.colorbar.Colorbar at 0x7f655c283850>"
      ]
     },
     "execution_count": 19,
     "metadata": {},
     "output_type": "execute_result"
    },
    {
     "data": {
      "image/png": "[encoded data removed]",
      "text/plain": [
       "<Figure size 432x288 with 2 Axes>"
      ]
     },
     "metadata": {
      "needs_background": "light"
     },
     "output_type": "display_data"
    }
   ],
   "source": [
    "fig, ax = plt.subplots()\n",
    "bins = np.linspace(123,127,100)\n",
    "bx = np.linspace(np.min(y_test), np.max(y_test), 100)\n",
    "by = np.linspace(np.min(y_pred_keras), np.max(y_pred_keras), 100)\n",
    "n, bx, by, im = ax.hist2d(y_test, y_pred_keras, bins=[bins,bins], norm=colors.LogNorm(), cmap=cmap)\n",
    "ax.set_xlabel(r'$m_{bb}$  [GeV]')\n",
    "ax.set_ylabel(r'$m_{bb}^\\mathrm{NN}$  [GeV]')\n",
    "fig.colorbar(im, ax=ax)"
   ]
  },
  {
   "cell_type": "code",
   "execution_count": null,
   "metadata": {},
   "outputs": [],
   "source": []
  },
  {
   "cell_type": "code",
   "execution_count": null,
   "metadata": {},
   "outputs": [],
   "source": []
  }
 ],
 "metadata": {
  "kernelspec": {
   "display_name": "Python 3",
   "language": "python",
   "name": "python3"
  },
  "language_info": {
   "codemirror_mode": {
    "name": "ipython",
    "version": 3
   },
   "file_extension": ".py",
   "mimetype": "text/x-python",
   "name": "python",
   "nbconvert_exporter": "python",
   "pygments_lexer": "ipython3",
   "version": "3.7.6"
  }
 },
 "nbformat": 4,
 "nbformat_minor": 4
}
